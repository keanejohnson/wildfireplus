{
 "cells": [
  {
   "cell_type": "code",
   "execution_count": 1,
   "metadata": {},
   "outputs": [],
   "source": [
    "import ast\n",
    "import json\n",
    "import csv\n",
    "import mapbox\n",
    "import urllib\n",
    "import gmplot\n",
    "import requests\n",
    "import numpy as np\n",
    "import geopandas as gpd\n",
    "from shapely import geometry\n",
    "from shapely.geometry import Point\n",
    "from csv import reader\n",
    "from mapbox import Geocoder\n",
    "from flask import Flask, request, render_template\n",
    "from math import radians, degrees, sin, cos, asin, acos, sqrt\n",
    "from pyproj import Proj"
   ]
  },
  {
   "cell_type": "code",
   "execution_count": 2,
   "metadata": {},
   "outputs": [],
   "source": [
    "MAPBOX_ACCESS_KEY = 'pk.eyJ1IjoidGxldWNiIiwiYSI6ImNrN2N3d3h1aTA0YWwzaHFoNGJreDJmY2YifQ.pbWSn9txb4n8fKmUaKAG4g'"
   ]
  },
  {
   "cell_type": "code",
   "execution_count": 3,
   "metadata": {},
   "outputs": [],
   "source": [
    "def great_circle(lat1, lon1, lat2, lon2):\n",
    "\t\"\"\"\n",
    "\tThis function calculates the shortest distance between two sets of coordinates.\n",
    "\t\"\"\"\n",
    "\n",
    "\tlon1, lat1, lon2, lat2 = map(radians, [lon1, lat1, lon2, lat2])\n",
    "\n",
    "\t# use 6371 if calculating kilometers (3958.756 for miles)\n",
    "\treturn 3958.756 * (acos(sin(lat1) * sin(lat2) + cos(lat1) * cos(lat2) * cos(lon1 - lon2)))"
   ]
  },
  {
   "cell_type": "code",
   "execution_count": 4,
   "metadata": {},
   "outputs": [],
   "source": [
    "def read_csv():\n",
    "\t\"\"\"\n",
    "\tThis function reads the polygon csv file and returns the coordinates to create the polygon in mapbox\n",
    "\tto be displayed in the html file.\n",
    "\t\"\"\"\n",
    "\n",
    "\t# setting up list\n",
    "\tlat_input = []\n",
    "\tlon_input = []\n",
    "\n",
    "\t# read CSV file but skipped header line in read\n",
    "\twith open('static/polygon.csv', 'r') as read_line:\n",
    "\t    csv_reader = reader(read_line)\n",
    "\t    header = next(csv_reader)\n",
    "\t    # Check file as empty\n",
    "\t    if header != None:\n",
    "\t        # Iterate over each row after the header in the csv\n",
    "\t        for row in csv_reader:\n",
    "\t        \tlat_input.append(ast.literal_eval(row[1]))\n",
    "\t        \tlon_input.append(ast.literal_eval(row[0]))\n",
    "\n",
    "\tmap_output = [[a, b] for a, b in zip(lon_input, lat_input)]\n",
    "\n",
    "\treturn map_output"
   ]
  },
  {
   "cell_type": "code",
   "execution_count": 5,
   "metadata": {},
   "outputs": [],
   "source": [
    "def write_csv(poly):\n",
    "\t\"\"\"\n",
    "\tThis function writes the active fire intial polygon to csv to be used for the ML model to calculate \n",
    "\tspread on the next day.\n",
    "\t\"\"\"\n",
    "\n",
    "\twith open(\"static/intial_polygon.csv\", \"w\") as f:\n",
    "\t\twriter = csv.writer(f)\n",
    "\t\twriter.writerows(poly)\n"
   ]
  },
  {
   "cell_type": "code",
   "execution_count": 6,
   "metadata": {},
   "outputs": [],
   "source": [
    "def convert_point(lat,lon):\n",
    "    \"\"\"\n",
    "    Convert Coordinate Reference systems from map lat/lon to fire raster CRS\n",
    "    Input: Point of latitude,longitude\n",
    "    Output: Tuple of (x,y) in CRS coordinates\n",
    "    \"\"\"\n",
    "\n",
    "    # Declare point (longitude (or x) always comes first, then latitude (y))\n",
    "    point = Point(lon,lat)\n",
    "    \n",
    "    # Set Source CRS (Mapbox or Google Maps)\n",
    "    src_crs = \"EPSG:4326\"\n",
    "    \n",
    "    # create dataframe from input lat/long\n",
    "    gdf=gpd.GeoDataFrame(index=[0],crs = src_crs, geometry=[point])\n",
    "        \n",
    "    # Change CRS to match Wildfire CRS (3857)\n",
    "    gdf_tf = gdf.to_crs(\"epsg:3857\")\n",
    "    \n",
    "    # pull x and y value out from the POINT attribute, then get\n",
    "    # the value in the data series at row[0]\n",
    "    x = gdf_tf.geometry.x.at[0]\n",
    "    y = gdf_tf.geometry.y.at[0]\n",
    "        \n",
    "    return (x,y)"
   ]
  },
  {
   "cell_type": "code",
   "execution_count": 7,
   "metadata": {},
   "outputs": [],
   "source": [
    "def convert_polygon(fire_polygon):\n",
    "    \"\"\"Convert Coord ref system (CRS) from fire data (EPSG 3857) to map \n",
    "    lat/long (EPSG 4326), polygon starts and ends on same point (to close it)\n",
    "    \n",
    "    Input: list containing tuples of x,y points in fire CRS that describe a polygon\n",
    "    Output: list containing tuples of lat/long points that describe the polygon\n",
    "    \"\"\"\n",
    "    \n",
    "    # create polygon\n",
    "    poly = geometry.Polygon([(p[0], p[1]) for p in fire_polygon])\n",
    "    \n",
    "    #CRS\n",
    "    src_crs = \"EPSG:3857\"\n",
    "    dst_crs = \"EPSG:4326\"\n",
    "    \n",
    "    # Create Geo DataFrame\n",
    "    gfp = gpd.GeoDataFrame(index=[0],crs=src_crs,geometry=[poly])\n",
    "    \n",
    "    # Convert CRS\n",
    "    gfp2 = gfp.to_crs(dst_crs)\n",
    "    \n",
    "    # pull data from dataframe\n",
    "    polyout = gfp2.iloc[0]['geometry']\n",
    "    \n",
    "    # create list of tuples, but longitude is first\n",
    "    l = list(map(tuple,np.asarray(polyout.exterior.coords)))\n",
    "    l = list(map(lambda m: (m[1],m[0]), l))\n",
    "    \n",
    "    return l"
   ]
  },
  {
   "cell_type": "code",
   "execution_count": 8,
   "metadata": {},
   "outputs": [],
   "source": [
    "def get_lat_loc(address):\n",
    "\t\"\"\"\n",
    "\tConvert a string of address to latitude and longitude \n",
    "\tInput: String \n",
    "\tOutput: latitude, longitude coordinate\n",
    "\t\"\"\"\n",
    "\n",
    "\tgeocoder = mapbox.Geocoder(access_token = MAPBOX_ACCESS_KEY)\n",
    "\tresponse = geocoder.forward(address)\n",
    "\taddress = response.json()\n",
    "\tadd_lat = address[\"features\"][0][\"center\"][1]\n",
    "\tadd_lon = address[\"features\"][0][\"center\"][0]\n",
    "\treturn add_lat, add_lon"
   ]
  },
  {
   "cell_type": "code",
   "execution_count": 9,
   "metadata": {},
   "outputs": [],
   "source": [
    "def points(poly):\n",
    "    return list(map(tuple,np.asarray(poly.exterior.coords)))"
   ]
  },
  {
   "cell_type": "code",
   "execution_count": 256,
   "metadata": {
    "jupyter": {
     "source_hidden": true
    }
   },
   "outputs": [],
   "source": [
    "def active_fire(lat_origin, lon_origin):\n",
    "\t\"\"\"\n",
    "\tFunction to find coordinates of active fires of given origin\n",
    "\tInput: latitude, longitude of input address (origin)\n",
    "\tOutput: List of active fires within certain miles of origin\n",
    "\t\"\"\"\n",
    "\n",
    "\t# set variables\n",
    "\tlat_geo = []\n",
    "\tlon_geo = []\n",
    "\tgeo_center = []\n",
    "\n",
    "\t# # read JSON on active fire\n",
    "\t# url = 'https://www.fire.ca.gov/umbraco/api/IncidentApi/List?inactive=true'\n",
    "\t# geo_data = requests.get(url).json()\n",
    "\n",
    "\t# # loop through list provided by Cal Fire and find active fire within certain miles of origin\n",
    "\t# for i in range(0,len(geo_data)):\n",
    "\t#     if geo_data[i]['IsActive'] == \"Y\":\n",
    "\t#         fire_lat = geo_data[i]['Latitude']\n",
    "\t#         fire_lon = geo_data[i]['Longitude']\n",
    "\t#         dist = great_circle(lat_origin, lon_origin, fire_lat, fire_lon)\n",
    "\t#         if dist <= 100:\n",
    "\t#         \tlat_geo.append(fire_lat)\n",
    "\t#         \tlon_geo.append(fire_lon)\n",
    "\n",
    "\t# geo_center = [[a, b] for a, b in zip(lon_geo, lat_geo)]\n",
    "\n",
    "\t# geo_center = [[-121.9230432, 36.52439536]]\n",
    "\n",
    "\t# return geo_center\n",
    "\n",
    "\t# read JSON on active fire\n",
    "\turl = 'https://opendata.arcgis.com/datasets/5da472c6d27b4b67970acc7b5044c862_0.geojson'\n",
    "\t# geo_data = requests.get(url).json()\t\n",
    "\tgeo_data = gpd.read_file(url)\n",
    "\n",
    "\tpoly_list = geo_data.geometry\n",
    "\n",
    "\tfor i in range(0,len(poly_list)):\n",
    "\n",
    "\t\tif len(geo_center) > 0:\n",
    "\t\t\tbreak\n",
    "\n",
    "\t\tif poly_list[i].geom_type == 'MultiPolygon':\n",
    "\n",
    "\t\t\tfor j in range(0, len(poly_list[i])):\n",
    "\n",
    "\t\t\t\tgeo_poly = points(poly_list[i][j])\n",
    "\n",
    "\t\t\t\tfor k in range(0, len(geo_poly)):\n",
    "\n",
    "\t\t\t\t\tfire_lon = geo_poly[k][0]\n",
    "\t\t\t\t\tfire_lat = geo_poly[k][1]\n",
    "\n",
    "\t\t\t\t\tdist = great_circle(lat_origin, lon_origin, fire_lat, fire_lon)\n",
    "\n",
    "\t\t\t\t\tif dist <= 100:\n",
    "\t\t\t\t\t\tgeo_center = [fire_lon, fire_lat]\n",
    "\t\t\t\t\t\tbreak\n",
    "\n",
    "\t\t\t\tif len(geo_center) > 0:\n",
    "\t\t\t\t\tbreak\n",
    "\n",
    "\t\t\tif len(geo_center) > 0:\n",
    "\t\t\t\tbreak\n",
    "\n",
    "\t\telse:\n",
    "\n",
    "\t\t\tgeo_poly = points(poly_list[i])\n",
    "\n",
    "\t\t\tfor j in range(0, len(geo_poly)):\n",
    "\n",
    "\t\t\t\tfire_lon = geo_poly[j][0]\n",
    "\t\t\t\tfire_lat = geo_poly[j][1]\n",
    "\n",
    "\t\t\t\tdist = great_circle(lat_origin, lon_origin, fire_lat, fire_lon)\n",
    "\n",
    "\t\t\t\tif dist <= 100:\n",
    "\t\t\t\t\tgeo_center = [fire_lon, fire_lat]\n",
    "\t\t\t\t\tbreak\n",
    "\n",
    "\t\t\tif len(geo_center) > 0:\n",
    "\t\t\t\tbreak\n",
    "\n",
    "\t\tif len(geo_center) > 0:\n",
    "\t\t\tbreak\n",
    "\t\telse:\n",
    "\t\t\tgeo_poly =[]\n",
    "\t\t\tbreak\n",
    "\n",
    "\treturn geo_center, geo_poly"
   ]
  },
  {
   "cell_type": "code",
   "execution_count": 257,
   "metadata": {},
   "outputs": [],
   "source": [
    "add_lat = 26.16637548\n",
    "add_lon = -81.2183\n",
    "\n",
    "# add_lat = 20.8381\n",
    "# add_lon = -89.086"
   ]
  },
  {
   "cell_type": "code",
   "execution_count": 258,
   "metadata": {},
   "outputs": [],
   "source": [
    "cnn_poly =[]"
   ]
  },
  {
   "cell_type": "code",
   "execution_count": 259,
   "metadata": {},
   "outputs": [],
   "source": [
    "geo_center, geo_poly = active_fire(add_lat, add_lon)"
   ]
  },
  {
   "cell_type": "code",
   "execution_count": 260,
   "metadata": {},
   "outputs": [],
   "source": [
    "map_output = read_csv()"
   ]
  },
  {
   "cell_type": "code",
   "execution_count": 261,
   "metadata": {},
   "outputs": [],
   "source": [
    "if len(geo_center) > 0:\n",
    "    cnn_poly = convert_polygon(geo_poly)\n",
    "else:\n",
    "\tphrase = \"no active fire\""
   ]
  },
  {
   "cell_type": "code",
   "execution_count": 262,
   "metadata": {},
   "outputs": [],
   "source": [
    "write_csv(cnn_poly)"
   ]
  },
  {
   "cell_type": "code",
   "execution_count": 242,
   "metadata": {},
   "outputs": [
    {
     "data": {
      "text/plain": [
       "[-81.218376301, 26.1663754840001]"
      ]
     },
     "execution_count": 242,
     "metadata": {},
     "output_type": "execute_result"
    }
   ],
   "source": [
    "geo_center"
   ]
  },
  {
   "cell_type": "code",
   "execution_count": 243,
   "metadata": {},
   "outputs": [
    {
     "data": {
      "text/plain": [
       "2"
      ]
     },
     "execution_count": 243,
     "metadata": {},
     "output_type": "execute_result"
    }
   ],
   "source": [
    "len(geo_center)"
   ]
  },
  {
   "cell_type": "code",
   "execution_count": 244,
   "metadata": {
    "scrolled": true
   },
   "outputs": [
    {
     "data": {
      "text/plain": [
       "[(-81.218376301, 26.1663754840001),\n",
       " (-81.218523916, 26.1663752600001),\n",
       " (-81.218531151, 26.16629699),\n",
       " (-81.218376168, 26.166303885),\n",
       " (-81.218376301, 26.1663754840001)]"
      ]
     },
     "execution_count": 244,
     "metadata": {},
     "output_type": "execute_result"
    }
   ],
   "source": [
    "geo_poly"
   ]
  },
  {
   "cell_type": "code",
   "execution_count": 245,
   "metadata": {
    "scrolled": true
   },
   "outputs": [
    {
     "data": {
      "text/plain": [
       "[(0.00023505655027221693, -0.0007295970878255902),\n",
       " (0.0002350565482599907, -0.0007295984138736967),\n",
       " (0.0002350558451486169, -0.0007295984788668077),\n",
       " (0.00023505590708745579, -0.000729597086630831),\n",
       " (0.00023505655027221693, -0.0007295970878255902)]"
      ]
     },
     "execution_count": 245,
     "metadata": {},
     "output_type": "execute_result"
    }
   ],
   "source": [
    "cnn_poly"
   ]
  },
  {
   "cell_type": "code",
   "execution_count": null,
   "metadata": {},
   "outputs": [],
   "source": []
  },
  {
   "cell_type": "markdown",
   "metadata": {},
   "source": [
    "# done"
   ]
  },
  {
   "cell_type": "code",
   "execution_count": 10,
   "metadata": {},
   "outputs": [],
   "source": [
    "def active_fire(lat_origin, lon_origin):\n",
    "\t\"\"\"\n",
    "\tFunction to find coordinates of active fires of given origin\n",
    "\tInput: latitude, longitude of input address (origin)\n",
    "\tOutput: List of active fires within certain miles of origin\n",
    "\t\"\"\"\n",
    "\n",
    "\t# set variables\n",
    "\tlat_geo = []\n",
    "\tlon_geo = []\n",
    "\tgeo_center = []\n",
    "\n",
    "\t# # read JSON on active fire\n",
    "\t# url = 'https://www.fire.ca.gov/umbraco/api/IncidentApi/List?inactive=true'\n",
    "\t# geo_data = requests.get(url).json()\n",
    "\n",
    "\t# # loop through list provided by Cal Fire and find active fire within certain miles of origin\n",
    "\t# for i in range(0,len(geo_data)):\n",
    "\t#     if geo_data[i]['IsActive'] == \"Y\":\n",
    "\t#         fire_lat = geo_data[i]['Latitude']\n",
    "\t#         fire_lon = geo_data[i]['Longitude']\n",
    "\t#         dist = great_circle(lat_origin, lon_origin, fire_lat, fire_lon)\n",
    "\t#         if dist <= 100:\n",
    "\t#         \tlat_geo.append(fire_lat)\n",
    "\t#         \tlon_geo.append(fire_lon)\n",
    "\n",
    "\t# geo_center = [[a, b] for a, b in zip(lon_geo, lat_geo)]\n",
    "\n",
    "\t# geo_center = [[-121.9230432, 36.52439536]]\n",
    "\n",
    "\t# return geo_center\n",
    "\n",
    "\t# read JSON on active fire\n",
    "\turl = 'https://opendata.arcgis.com/datasets/5da472c6d27b4b67970acc7b5044c862_0.geojson'\n",
    "\t# geo_data = requests.get(url).json()\t\n",
    "\tgeo_data = gpd.read_file(url)\n",
    "\n",
    "\tpoly_list = geo_data.geometry\n",
    "\n",
    "\tfor i in range(0,len(poly_list)):\n",
    "\n",
    "\t\tif poly_list[i].geom_type == 'MultiPolygon':\n",
    "\n",
    "\t\t\tfor j in range(0, len(poly_list[i])):\n",
    "\n",
    "\t\t\t\tgeo_poly = points(poly_list[i][j])\n",
    "\n",
    "\t\t\t\tfor k in range(0, len(geo_poly)):\n",
    "\n",
    "\t\t\t\t\tfire_lon = geo_poly[k][0]\n",
    "\t\t\t\t\tfire_lat = geo_poly[k][1]\n",
    "\n",
    "\t\t\t\t\tdist = great_circle(lat_origin, lon_origin, fire_lat, fire_lon)\n",
    "\n",
    "\t\t\t\t\tif dist <= 100:\n",
    "\t\t\t\t\t\tgeo_center = [fire_lon, fire_lat]\n",
    "\t\t\t\t\t\tbreak\n",
    "\n",
    "\t\t\t\tif len(geo_center) > 0:\n",
    "\t\t\t\t\tbreak\n",
    "\n",
    "\t\t\tif len(geo_center) > 0:\n",
    "\t\t\t\tbreak\n",
    "\n",
    "\t\telse:\n",
    "\n",
    "\t\t\tgeo_poly = points(poly_list[i])\n",
    "\n",
    "\t\t\tfor j in range(0, len(geo_poly)):\n",
    "\n",
    "\t\t\t\tfire_lon = geo_poly[j][0]\n",
    "\t\t\t\tfire_lat = geo_poly[j][1]\n",
    "\n",
    "\t\t\t\tdist = great_circle(lat_origin, lon_origin, fire_lat, fire_lon)\n",
    "\n",
    "\t\t\t\tif dist <= 100:\n",
    "\t\t\t\t\tgeo_center = [fire_lon, fire_lat]\n",
    "\t\t\t\t\tbreak\n",
    "\n",
    "\t\t\tif dist <= 100:\n",
    "\t\t\t\tgeo_center = [fire_lon, fire_lat]\n",
    "\t\t\t\tbreak\n",
    "\n",
    "\t\tif len(geo_center) > 0:\n",
    "\t\t\tbreak\n",
    "\n",
    "\treturn geo_center, geo_poly"
   ]
  },
  {
   "cell_type": "code",
   "execution_count": 11,
   "metadata": {},
   "outputs": [],
   "source": [
    "geo_center = active_fire(36.543286, -121.929533)"
   ]
  },
  {
   "cell_type": "code",
   "execution_count": 12,
   "metadata": {
    "scrolled": true
   },
   "outputs": [
    {
     "data": {
      "text/plain": [
       "([],\n",
       " [(-78.48009, 38.5169000000001),\n",
       "  (-78.4801399999999, 38.5168800000001),\n",
       "  (-78.48017, 38.51687),\n",
       "  (-78.4802099999999, 38.5168600000001),\n",
       "  (-78.48024, 38.5168400000001),\n",
       "  (-78.4802799999999, 38.5168400000001),\n",
       "  (-78.4802999999999, 38.5168200000001),\n",
       "  (-78.48033, 38.5168),\n",
       "  (-78.48045, 38.5166800000001),\n",
       "  (-78.4804799999999, 38.5166800000001),\n",
       "  (-78.48049, 38.51667),\n",
       "  (-78.48053, 38.51665),\n",
       "  (-78.48056, 38.51665),\n",
       "  (-78.48061, 38.5166300000001),\n",
       "  (-78.4806599999999, 38.5165900000001),\n",
       "  (-78.4807, 38.51656),\n",
       "  (-78.48074, 38.51651),\n",
       "  (-78.48086, 38.5164100000001),\n",
       "  (-78.48089, 38.5163900000001),\n",
       "  (-78.48089, 38.51638),\n",
       "  (-78.48092, 38.51633),\n",
       "  (-78.48092, 38.5162800000001),\n",
       "  (-78.4809299999999, 38.5162),\n",
       "  (-78.48096, 38.5161400000001),\n",
       "  (-78.48098, 38.51611),\n",
       "  (-78.4810199999999, 38.5160900000001),\n",
       "  (-78.48103, 38.5160500000001),\n",
       "  (-78.48103, 38.5160300000001),\n",
       "  (-78.4809999999999, 38.5160000000001),\n",
       "  (-78.48096, 38.51597),\n",
       "  (-78.4809099999999, 38.5159200000001),\n",
       "  (-78.48087, 38.5159),\n",
       "  (-78.4808, 38.5158700000001),\n",
       "  (-78.48081, 38.51584),\n",
       "  (-78.48079, 38.5158200000001),\n",
       "  (-78.48074, 38.51581),\n",
       "  (-78.48069, 38.5158200000001),\n",
       "  (-78.48067, 38.51581),\n",
       "  (-78.4806399999999, 38.5158200000001),\n",
       "  (-78.4806, 38.51579),\n",
       "  (-78.4805699999999, 38.51577),\n",
       "  (-78.48052, 38.5157300000001),\n",
       "  (-78.48054, 38.51566),\n",
       "  (-78.4805699999999, 38.5156400000001),\n",
       "  (-78.4805699999999, 38.51561),\n",
       "  (-78.48086, 38.51568),\n",
       "  (-78.48087, 38.51568),\n",
       "  (-78.48092, 38.5156900000001),\n",
       "  (-78.48097, 38.5156700000001),\n",
       "  (-78.48101, 38.5156400000001),\n",
       "  (-78.48103, 38.5156200000001),\n",
       "  (-78.48108, 38.51559),\n",
       "  (-78.48113, 38.51559),\n",
       "  (-78.4811799999999, 38.5155800000001),\n",
       "  (-78.4812699999999, 38.5155800000001),\n",
       "  (-78.48137, 38.51557),\n",
       "  (-78.48141, 38.5155500000001),\n",
       "  (-78.4814699999999, 38.5155400000001),\n",
       "  (-78.48148, 38.51552),\n",
       "  (-78.48149, 38.5155100000001),\n",
       "  (-78.48148, 38.5154700000001),\n",
       "  (-78.4814699999999, 38.5154400000001),\n",
       "  (-78.48144, 38.5154200000001),\n",
       "  (-78.4813799999999, 38.5154000000001),\n",
       "  (-78.48133, 38.5153800000001),\n",
       "  (-78.4813, 38.5153700000001),\n",
       "  (-78.4811999999999, 38.5153500000001),\n",
       "  (-78.48115, 38.5153300000001),\n",
       "  (-78.4811, 38.51532),\n",
       "  (-78.48106, 38.5152900000001),\n",
       "  (-78.48103, 38.5152700000001),\n",
       "  (-78.48099, 38.5152600000001),\n",
       "  (-78.48096, 38.5152400000001),\n",
       "  (-78.4809299999999, 38.51523),\n",
       "  (-78.4809, 38.51521),\n",
       "  (-78.48087, 38.51521),\n",
       "  (-78.48086, 38.51523),\n",
       "  (-78.4808399999999, 38.51523),\n",
       "  (-78.4808199999999, 38.5152200000001),\n",
       "  (-78.48076, 38.5152200000001),\n",
       "  (-78.48071, 38.51514),\n",
       "  (-78.48042, 38.51491),\n",
       "  (-78.48044, 38.51489),\n",
       "  (-78.48045, 38.51487),\n",
       "  (-78.48045, 38.51484),\n",
       "  (-78.48047, 38.51482),\n",
       "  (-78.48049, 38.5147900000001),\n",
       "  (-78.4805, 38.51476),\n",
       "  (-78.4805, 38.5147400000001),\n",
       "  (-78.48049, 38.5147000000001),\n",
       "  (-78.4804599999999, 38.5146700000001),\n",
       "  (-78.48043, 38.5146300000001),\n",
       "  (-78.48036, 38.51457),\n",
       "  (-78.48036, 38.5145400000001),\n",
       "  (-78.48035, 38.5145200000001),\n",
       "  (-78.48034, 38.5144900000001),\n",
       "  (-78.48036, 38.51448),\n",
       "  (-78.48034, 38.51448),\n",
       "  (-78.48034, 38.51444),\n",
       "  (-78.4803199999999, 38.5144100000001),\n",
       "  (-78.4802299999999, 38.51437),\n",
       "  (-78.48022, 38.5143600000001),\n",
       "  (-78.48018, 38.51435),\n",
       "  (-78.48007, 38.51435),\n",
       "  (-78.48004, 38.5143400000001),\n",
       "  (-78.4798499999999, 38.5143400000001),\n",
       "  (-78.4798299999999, 38.51433),\n",
       "  (-78.47964, 38.51421),\n",
       "  (-78.47954, 38.5142000000001),\n",
       "  (-78.47952, 38.51419),\n",
       "  (-78.4793999999999, 38.51417),\n",
       "  (-78.47936, 38.5141600000001),\n",
       "  (-78.47927, 38.5141600000001),\n",
       "  (-78.4792399999999, 38.5141400000001),\n",
       "  (-78.479, 38.5141600000001),\n",
       "  (-78.47882, 38.51421),\n",
       "  (-78.4786599999999, 38.5141300000001),\n",
       "  (-78.47863, 38.51412),\n",
       "  (-78.47863, 38.5141400000001),\n",
       "  (-78.47864, 38.5141600000001),\n",
       "  (-78.47865, 38.5142200000001),\n",
       "  (-78.47858, 38.5142000000001),\n",
       "  (-78.4785699999999, 38.5142000000001),\n",
       "  (-78.47855, 38.51419),\n",
       "  (-78.4785199999999, 38.5141800000001),\n",
       "  (-78.47846, 38.5141800000001),\n",
       "  (-78.4783899999999, 38.5142000000001),\n",
       "  (-78.47833, 38.5142000000001),\n",
       "  (-78.47828, 38.5142200000001),\n",
       "  (-78.47824, 38.51424),\n",
       "  (-78.47821, 38.5142500000001),\n",
       "  (-78.47779, 38.51424),\n",
       "  (-78.47775, 38.51424),\n",
       "  (-78.47772, 38.51426),\n",
       "  (-78.4777099999999, 38.5142900000001),\n",
       "  (-78.4777, 38.5143100000001),\n",
       "  (-78.47772, 38.51433),\n",
       "  (-78.4777, 38.51439),\n",
       "  (-78.4776899999999, 38.5144100000001),\n",
       "  (-78.47768, 38.51444),\n",
       "  (-78.47764, 38.5145200000001),\n",
       "  (-78.47765, 38.51453),\n",
       "  (-78.47761, 38.51464),\n",
       "  (-78.47765, 38.51476),\n",
       "  (-78.47763, 38.51484),\n",
       "  (-78.47763, 38.51485),\n",
       "  (-78.47761, 38.5148300000001),\n",
       "  (-78.4776199999999, 38.5148100000001),\n",
       "  (-78.47761, 38.51482),\n",
       "  (-78.47754, 38.51482),\n",
       "  (-78.4775099999999, 38.51484),\n",
       "  (-78.47747, 38.5149200000001),\n",
       "  (-78.47747, 38.5149500000001),\n",
       "  (-78.4774399999999, 38.5149900000001),\n",
       "  (-78.47743, 38.51503),\n",
       "  (-78.4774399999999, 38.5150600000001),\n",
       "  (-78.47747, 38.5151000000001),\n",
       "  (-78.47747, 38.51512),\n",
       "  (-78.47748, 38.51512),\n",
       "  (-78.4774399999999, 38.5151300000001),\n",
       "  (-78.47745, 38.51512),\n",
       "  (-78.4774399999999, 38.51512),\n",
       "  (-78.4774199999999, 38.5151300000001),\n",
       "  (-78.47741, 38.51521),\n",
       "  (-78.47736, 38.51525),\n",
       "  (-78.4773, 38.51523),\n",
       "  (-78.4772599999999, 38.5152400000001),\n",
       "  (-78.4766999999999, 38.51516),\n",
       "  (-78.47651, 38.51516),\n",
       "  (-78.47646, 38.5151700000001),\n",
       "  (-78.47641, 38.5151900000001),\n",
       "  (-78.47639, 38.51523),\n",
       "  (-78.47639, 38.5152800000001),\n",
       "  (-78.4763799999999, 38.51532),\n",
       "  (-78.47637, 38.5153500000001),\n",
       "  (-78.4763799999999, 38.51539),\n",
       "  (-78.47633, 38.5154400000001),\n",
       "  (-78.47632, 38.5154700000001),\n",
       "  (-78.47632, 38.51559),\n",
       "  (-78.47633, 38.5156200000001),\n",
       "  (-78.4763399999999, 38.5156700000001),\n",
       "  (-78.47635, 38.5156900000001),\n",
       "  (-78.4763599999999, 38.51575),\n",
       "  (-78.4763799999999, 38.5158000000001),\n",
       "  (-78.4763799999999, 38.5158200000001),\n",
       "  (-78.47639, 38.51584),\n",
       "  (-78.4764299999999, 38.5158700000001),\n",
       "  (-78.47649, 38.51588),\n",
       "  (-78.47651, 38.51588),\n",
       "  (-78.4765399999999, 38.5158900000001),\n",
       "  (-78.47655, 38.5159200000001),\n",
       "  (-78.47659, 38.51593),\n",
       "  (-78.47658, 38.51595),\n",
       "  (-78.4766, 38.51597),\n",
       "  (-78.47666, 38.5160100000001),\n",
       "  (-78.4766999999999, 38.51602),\n",
       "  (-78.4766999999999, 38.51606),\n",
       "  (-78.47678, 38.5161200000001),\n",
       "  (-78.47687, 38.5160900000001),\n",
       "  (-78.47691, 38.5161000000001),\n",
       "  (-78.47691, 38.5161200000001),\n",
       "  (-78.4769899999999, 38.51617),\n",
       "  (-78.47696, 38.5161800000001),\n",
       "  (-78.4769899999999, 38.5161800000001),\n",
       "  (-78.4769699999999, 38.5161900000001),\n",
       "  (-78.4769899999999, 38.5161900000001),\n",
       "  (-78.47705, 38.5162),\n",
       "  (-78.47702, 38.5162100000001),\n",
       "  (-78.477, 38.5162100000001),\n",
       "  (-78.47698, 38.5162300000001),\n",
       "  (-78.4769899999999, 38.5162500000001),\n",
       "  (-78.47701, 38.5162800000001),\n",
       "  (-78.47704, 38.51631),\n",
       "  (-78.4771, 38.51635),\n",
       "  (-78.4772399999999, 38.5164100000001),\n",
       "  (-78.4773, 38.51653),\n",
       "  (-78.4773, 38.51658),\n",
       "  (-78.47729, 38.51662),\n",
       "  (-78.47729, 38.51667),\n",
       "  (-78.4772599999999, 38.51671),\n",
       "  (-78.47722, 38.5167500000001),\n",
       "  (-78.47722, 38.5167700000001),\n",
       "  (-78.47718, 38.5167700000001),\n",
       "  (-78.47719, 38.5168),\n",
       "  (-78.47728, 38.5168400000001),\n",
       "  (-78.47723, 38.51687),\n",
       "  (-78.4771499999999, 38.51687),\n",
       "  (-78.47713, 38.51689),\n",
       "  (-78.4771499999999, 38.5169100000001),\n",
       "  (-78.47718, 38.5169300000001),\n",
       "  (-78.4772, 38.5169300000001),\n",
       "  (-78.4772399999999, 38.51694),\n",
       "  (-78.47728, 38.51696),\n",
       "  (-78.47746, 38.51696),\n",
       "  (-78.4775099999999, 38.51692),\n",
       "  (-78.47758, 38.51692),\n",
       "  (-78.47758, 38.5169700000001),\n",
       "  (-78.4776199999999, 38.5169700000001),\n",
       "  (-78.47765, 38.51696),\n",
       "  (-78.47767, 38.5169700000001),\n",
       "  (-78.4777, 38.51696),\n",
       "  (-78.4777099999999, 38.5169900000001),\n",
       "  (-78.47772, 38.5170000000001),\n",
       "  (-78.47774, 38.51703),\n",
       "  (-78.47774, 38.51705),\n",
       "  (-78.47776, 38.5170600000001),\n",
       "  (-78.4777999999999, 38.51707),\n",
       "  (-78.47784, 38.5170600000001),\n",
       "  (-78.47788, 38.5170900000001),\n",
       "  (-78.47792, 38.5171),\n",
       "  (-78.47797, 38.5171100000001),\n",
       "  (-78.478, 38.5171100000001),\n",
       "  (-78.4780699999999, 38.5171),\n",
       "  (-78.47811, 38.5171100000001),\n",
       "  (-78.47813, 38.5171),\n",
       "  (-78.4781399999999, 38.5170900000001),\n",
       "  (-78.4781599999999, 38.51712),\n",
       "  (-78.47815, 38.5171300000001),\n",
       "  (-78.47818, 38.51712),\n",
       "  (-78.47821, 38.51712),\n",
       "  (-78.4782299999999, 38.5171),\n",
       "  (-78.47833, 38.51707),\n",
       "  (-78.47835, 38.51707),\n",
       "  (-78.47836, 38.5170600000001),\n",
       "  (-78.47845, 38.5170400000001),\n",
       "  (-78.4784799999999, 38.5170400000001),\n",
       "  (-78.47851, 38.51703),\n",
       "  (-78.47856, 38.51701),\n",
       "  (-78.47872, 38.51701),\n",
       "  (-78.4787699999999, 38.5170200000001),\n",
       "  (-78.4788, 38.5170200000001),\n",
       "  (-78.4788599999999, 38.5170400000001),\n",
       "  (-78.4788799999999, 38.51703),\n",
       "  (-78.47891, 38.5170200000001),\n",
       "  (-78.4790399999999, 38.5170200000001),\n",
       "  (-78.47909, 38.5170000000001),\n",
       "  (-78.47916, 38.51701),\n",
       "  (-78.47932, 38.51701),\n",
       "  (-78.47944, 38.5169900000001),\n",
       "  (-78.47946, 38.5169900000001),\n",
       "  (-78.47961, 38.51696),\n",
       "  (-78.4796699999999, 38.5169300000001),\n",
       "  (-78.4798299999999, 38.51696),\n",
       "  (-78.4798499999999, 38.51692),\n",
       "  (-78.4798699999999, 38.5169300000001),\n",
       "  (-78.47989, 38.51692),\n",
       "  (-78.47999, 38.5169300000001),\n",
       "  (-78.48007, 38.5169100000001),\n",
       "  (-78.48009, 38.5169000000001)])"
      ]
     },
     "execution_count": 12,
     "metadata": {},
     "output_type": "execute_result"
    }
   ],
   "source": [
    "geo_center"
   ]
  },
  {
   "cell_type": "code",
   "execution_count": null,
   "metadata": {},
   "outputs": [],
   "source": []
  },
  {
   "cell_type": "code",
   "execution_count": 23,
   "metadata": {},
   "outputs": [],
   "source": [
    "def active_fire(lat_origin, lon_origin):\n",
    "\t\"\"\"\n",
    "\tFunction to find coordinates of active fires of given origin\n",
    "\tInput: latitude, longitude of input address (origin)\n",
    "\tOutput: List of active fires within certain miles of origin\n",
    "\t\"\"\"\n",
    "\n",
    "\t# set variables\n",
    "\tlat_geo = []\n",
    "\tlon_geo = []\n",
    "\tgeo_center = []\n",
    "\tgeo_fire = []\n",
    "\n",
    "\t# # read JSON on active fire\n",
    "\t# url = 'https://www.fire.ca.gov/umbraco/api/IncidentApi/List?inactive=true'\n",
    "\t# geo_data = requests.get(url).json()\n",
    "\n",
    "\t# # loop through list provided by Cal Fire and find active fire within certain miles of origin\n",
    "\t# for i in range(0,len(geo_data)):\n",
    "\t#     if geo_data[i]['IsActive'] == \"Y\":\n",
    "\t#         fire_lat = geo_data[i]['Latitude']\n",
    "\t#         fire_lon = geo_data[i]['Longitude']\n",
    "\t#         dist = great_circle(lat_origin, lon_origin, fire_lat, fire_lon)\n",
    "\t#         if dist <= 100:\n",
    "\t#         \tlat_geo.append(fire_lat)\n",
    "\t#         \tlon_geo.append(fire_lon)\n",
    "\n",
    "\t# geo_center = [[a, b] for a, b in zip(lon_geo, lat_geo)]\n",
    "\n",
    "\t# geo_center = [[-121.9230432, 36.52439536]]\n",
    "\n",
    "\t# return geo_center\n",
    "\n",
    "\t# read JSON on active fire\n",
    "\turl = 'https://opendata.arcgis.com/datasets/5da472c6d27b4b67970acc7b5044c862_0.geojson'\n",
    "\t# geo_data = requests.get(url).json()\t\n",
    "\tgeo_data = gpd.read_file(url)\n",
    "\n",
    "\tpoly_list = geo_data.geometry\n",
    "\n",
    "\t# grab the first coordinates of all polygons to create list of active fires\n",
    "\n",
    "\tfor m in range(0,len(poly_list)):\n",
    "\n",
    "\t\tif poly_list[m].geom_type == 'MultiPolygon':\n",
    "\n",
    "\t\t\tgeo_poly = points(poly_list[m][0])\n",
    "\n",
    "\t\t\tfire_lon = geo_poly[0][0]\n",
    "\t\t\tfire_lat = geo_poly[0][1]\n",
    "\n",
    "\t\t\tlat_geo.append(fire_lat)\n",
    "\t\t\tlon_geo.append(fire_lon)\n",
    "\n",
    "\t\telse:\n",
    "\n",
    "\t\t\tgeo_poly = points(poly_list[m])\n",
    "\n",
    "\t\t\tfire_lon = geo_poly[0][0]\n",
    "\t\t\tfire_lat = geo_poly[0][1]\n",
    "\n",
    "\t\t\tlat_geo.append(fire_lat)\n",
    "\t\t\tlon_geo.append(fire_lon)\n",
    "\n",
    "\tgeo_fire = [[a, b] for a, b in zip(lon_geo, lat_geo)]\n",
    "\n",
    "\tgeo_poly = []\n",
    "\n",
    "\tfor i in range(0,len(poly_list)):\n",
    "\n",
    "\t\tif len(geo_center) > 0:\n",
    "\t\t\tbreak\n",
    "\n",
    "\t\tif poly_list[i].geom_type == 'MultiPolygon':\n",
    "\n",
    "\t\t\tfor j in range(0, len(poly_list[i])):\n",
    "\n",
    "\t\t\t\tgeo_poly = points(poly_list[i][j])\n",
    "\n",
    "\t\t\t\tfor k in range(0, len(geo_poly)):\n",
    "\n",
    "\t\t\t\t\tfire_lon = geo_poly[k][0]\n",
    "\t\t\t\t\tfire_lat = geo_poly[k][1]\n",
    "\n",
    "\t\t\t\t\tdist = great_circle(lat_origin, lon_origin, fire_lat, fire_lon)\n",
    "\n",
    "\t\t\t\t\tif dist <= 100:\n",
    "\t\t\t\t\t\tgeo_center = [fire_lon, fire_lat]\n",
    "\t\t\t\t\t\tbreak\n",
    "\n",
    "\t\t\t\tif len(geo_center) > 0:\n",
    "\t\t\t\t\tbreak\n",
    "\n",
    "\t\t\tif len(geo_center) > 0:\n",
    "\t\t\t\tbreak\n",
    "\n",
    "\t\telse:\n",
    "\n",
    "\t\t\tgeo_poly = points(poly_list[i])\n",
    "\n",
    "\t\t\tfor j in range(0, len(geo_poly)):\n",
    "\n",
    "\t\t\t\tfire_lon = geo_poly[j][0]\n",
    "\t\t\t\tfire_lat = geo_poly[j][1]\n",
    "\n",
    "\t\t\t\tdist = great_circle(lat_origin, lon_origin, fire_lat, fire_lon)\n",
    "\n",
    "\t\t\t\tif dist <= 100:\n",
    "\t\t\t\t\tgeo_center = [fire_lon, fire_lat]\n",
    "\t\t\t\t\tbreak\n",
    "\n",
    "\t\t\tif len(geo_center) > 0:\n",
    "\t\t\t\tbreak\n",
    "\n",
    "\t\tif len(geo_center) > 0:\n",
    "\t\t\tbreak\n",
    "\t\telse:\n",
    "\t\t\tgeo_poly =[]\n",
    "\t\t\tbreak\n",
    "\n",
    "\treturn geo_center, geo_poly, geo_fire"
   ]
  },
  {
   "cell_type": "code",
   "execution_count": 24,
   "metadata": {},
   "outputs": [],
   "source": [
    "geo_center, geo_poly, geo_fire = active_fire(36.543286, -121.929533)"
   ]
  },
  {
   "cell_type": "code",
   "execution_count": 25,
   "metadata": {},
   "outputs": [
    {
     "data": {
      "text/plain": [
       "[[-81.218376301, 26.1663754840001],\n",
       " [-119.3058, 43.36044],\n",
       " [-81.2211851759999, 25.8929962130001],\n",
       " [-81.23895498, 25.8777389570001],\n",
       " [-155.822277, 20.026630164],\n",
       " [-81.065588147, 26.1690533980001],\n",
       " [-119.890105734, 39.586447714],\n",
       " [-117.716826787, 40.7578426480001],\n",
       " [-117.727254994, 40.856503585],\n",
       " [-120.016606534, 39.9634069620001],\n",
       " [-109.685227079, 38.815516974],\n",
       " [-119.787447749, 39.8127838120001],\n",
       " [-119.915611558, 39.7030730540001],\n",
       " [-117.614953481, 41.971466923],\n",
       " [-78.7591101359999, 38.2392100120001],\n",
       " [-118.128895162, 40.445283653],\n",
       " [-87.3723336319999, 34.213034613],\n",
       " [-84.808704, 30.268151],\n",
       " [-122.922469, 39.7514810000001],\n",
       " [-94.2877044860817, 34.4447452486556],\n",
       " [-118.853425, 43.2886490000001],\n",
       " [-77.714422, 34.4719260000001],\n",
       " [-83.679064, 37.836416],\n",
       " [-86.1041099999999, 33.3485400000001],\n",
       " [-111.89324216, 39.97980075],\n",
       " [-115.020925524, 36.103205695],\n",
       " [-78.48009, 38.5169000000001]]"
      ]
     },
     "execution_count": 25,
     "metadata": {},
     "output_type": "execute_result"
    }
   ],
   "source": [
    "geo_fire"
   ]
  },
  {
   "cell_type": "code",
   "execution_count": 26,
   "metadata": {},
   "outputs": [
    {
     "data": {
      "text/plain": [
       "27"
      ]
     },
     "execution_count": 26,
     "metadata": {},
     "output_type": "execute_result"
    }
   ],
   "source": [
    "len(geo_fire)"
   ]
  },
  {
   "cell_type": "code",
   "execution_count": null,
   "metadata": {},
   "outputs": [],
   "source": []
  },
  {
   "cell_type": "code",
   "execution_count": null,
   "metadata": {},
   "outputs": [],
   "source": []
  },
  {
   "cell_type": "code",
   "execution_count": 10,
   "metadata": {},
   "outputs": [],
   "source": [
    "# set variables\n",
    "lat_geo = []\n",
    "lon_geo = []\n",
    "geo_center = []\n",
    "\n",
    "# read JSON on active fire\n",
    "url = 'https://opendata.arcgis.com/datasets/5da472c6d27b4b67970acc7b5044c862_0.geojson'\n",
    "# geo_data = requests.get(url).json()\t\n",
    "geo_data = gpd.read_file(url)\n",
    "\n",
    "poly_list = geo_data.geometry"
   ]
  },
  {
   "cell_type": "code",
   "execution_count": 23,
   "metadata": {},
   "outputs": [],
   "source": [
    "url = 'https://opendata.arcgis.com/datasets/5da472c6d27b4b67970acc7b5044c862_0.geojson'\n",
    "# geo_data = requests.get(url).json()\t\n",
    "geo_data = gpd.read_file(url)\n",
    "\n",
    "poly_list = geo_data.geometry"
   ]
  },
  {
   "cell_type": "code",
   "execution_count": 12,
   "metadata": {},
   "outputs": [
    {
     "data": {
      "text/plain": [
       "0     POLYGON ((-81.21838 26.16638, -81.21852 26.166...\n",
       "1     POLYGON ((-119.30580 43.36044, -119.30572 43.3...\n",
       "2     POLYGON ((-81.22119 25.89300, -81.22125 25.892...\n",
       "3     POLYGON ((-81.23895 25.87774, -81.23895 25.877...\n",
       "4     POLYGON ((-155.82228 20.02663, -155.82229 20.0...\n",
       "5     POLYGON ((-81.06559 26.16905, -81.06559 26.169...\n",
       "6     POLYGON ((-119.89011 39.58645, -119.89014 39.5...\n",
       "7     POLYGON ((-117.71683 40.75784, -117.71681 40.7...\n",
       "8     POLYGON ((-117.72725 40.85650, -117.72722 40.8...\n",
       "9     POLYGON ((-120.01661 39.96341, -120.01656 39.9...\n",
       "10    POLYGON ((-109.68523 38.81552, -109.68520 38.8...\n",
       "11    MULTIPOLYGON (((-119.78745 39.81278, -119.7874...\n",
       "12    POLYGON ((-119.91561 39.70307, -119.91558 39.7...\n",
       "13    POLYGON ((-117.61495 41.97147, -117.61494 41.9...\n",
       "14    POLYGON ((-78.75911 38.23921, -78.75914 38.239...\n",
       "15    POLYGON ((-118.12890 40.44528, -118.12891 40.4...\n",
       "16    POLYGON ((-87.37233 34.21303, -87.37231 34.213...\n",
       "17    POLYGON ((-84.80870 30.26815, -84.80886 30.268...\n",
       "18    POLYGON ((-122.92247 39.75148, -122.92275 39.7...\n",
       "19    POLYGON ((-94.28770 34.44475, -94.28784 34.444...\n",
       "20    MULTIPOLYGON (((-118.85343 43.28865, -118.8533...\n",
       "21    POLYGON ((-77.71442 34.47193, -77.71347 34.468...\n",
       "22    POLYGON ((-83.67906 37.83642, -83.67991 37.835...\n",
       "23    POLYGON ((-86.10411 33.34854, -86.10411 33.348...\n",
       "24    POLYGON ((-111.89324 39.97980, -111.89328 39.9...\n",
       "25    POLYGON ((-115.02093 36.10321, -115.02076 36.1...\n",
       "26    POLYGON ((-78.48009 38.51690, -78.48014 38.516...\n",
       "Name: geometry, dtype: geometry"
      ]
     },
     "execution_count": 12,
     "metadata": {},
     "output_type": "execute_result"
    }
   ],
   "source": [
    "poly_list"
   ]
  },
  {
   "cell_type": "code",
   "execution_count": 21,
   "metadata": {},
   "outputs": [],
   "source": [
    "geo_activeloc = points(poly_list[11][0])"
   ]
  },
  {
   "cell_type": "code",
   "execution_count": 22,
   "metadata": {},
   "outputs": [
    {
     "data": {
      "text/plain": [
       "-119.787447749"
      ]
     },
     "execution_count": 22,
     "metadata": {},
     "output_type": "execute_result"
    }
   ],
   "source": [
    "geo_activeloc[0][0]"
   ]
  },
  {
   "cell_type": "code",
   "execution_count": null,
   "metadata": {},
   "outputs": [],
   "source": []
  },
  {
   "cell_type": "code",
   "execution_count": null,
   "metadata": {},
   "outputs": [],
   "source": []
  },
  {
   "cell_type": "code",
   "execution_count": null,
   "metadata": {},
   "outputs": [],
   "source": []
  },
  {
   "cell_type": "code",
   "execution_count": null,
   "metadata": {},
   "outputs": [],
   "source": []
  },
  {
   "cell_type": "code",
   "execution_count": null,
   "metadata": {},
   "outputs": [],
   "source": []
  },
  {
   "cell_type": "code",
   "execution_count": 15,
   "metadata": {},
   "outputs": [
    {
     "data": {
      "text/plain": [
       "27"
      ]
     },
     "execution_count": 15,
     "metadata": {},
     "output_type": "execute_result"
    }
   ],
   "source": [
    "len(poly_list)"
   ]
  },
  {
   "cell_type": "code",
   "execution_count": 24,
   "metadata": {},
   "outputs": [],
   "source": [
    "geo_poly = points(poly_list[0])"
   ]
  },
  {
   "cell_type": "code",
   "execution_count": 25,
   "metadata": {},
   "outputs": [
    {
     "data": {
      "text/plain": [
       "[(-81.218376301, 26.1663754840001),\n",
       " (-81.218523916, 26.1663752600001),\n",
       " (-81.218531151, 26.16629699),\n",
       " (-81.218376168, 26.166303885),\n",
       " (-81.218376301, 26.1663754840001)]"
      ]
     },
     "execution_count": 25,
     "metadata": {},
     "output_type": "execute_result"
    }
   ],
   "source": [
    "geo_poly"
   ]
  },
  {
   "cell_type": "code",
   "execution_count": 26,
   "metadata": {},
   "outputs": [],
   "source": [
    "cnn_poly = convert_polygon(geo_poly)"
   ]
  },
  {
   "cell_type": "code",
   "execution_count": 27,
   "metadata": {},
   "outputs": [
    {
     "data": {
      "text/plain": [
       "[(0.00023505655027221693, -0.0007295970878255902),\n",
       " (0.0002350565482599907, -0.0007295984138736967),\n",
       " (0.0002350558451486169, -0.0007295984788668077),\n",
       " (0.00023505590708745579, -0.000729597086630831),\n",
       " (0.00023505655027221693, -0.0007295970878255902)]"
      ]
     },
     "execution_count": 27,
     "metadata": {},
     "output_type": "execute_result"
    }
   ],
   "source": [
    "cnn_poly"
   ]
  },
  {
   "cell_type": "code",
   "execution_count": 22,
   "metadata": {},
   "outputs": [],
   "source": [
    "with open(\"static/intial_polygon.csv\", \"w\") as f:\n",
    "    writer = csv.writer(f)\n",
    "    writer.writerows(cnn_poly)"
   ]
  },
  {
   "cell_type": "code",
   "execution_count": 24,
   "metadata": {},
   "outputs": [
    {
     "data": {
      "text/plain": [
       "5"
      ]
     },
     "execution_count": 24,
     "metadata": {},
     "output_type": "execute_result"
    }
   ],
   "source": [
    "len(geo_poly)"
   ]
  },
  {
   "cell_type": "code",
   "execution_count": null,
   "metadata": {},
   "outputs": [],
   "source": [
    "for i in range(0,len(poly_list)):\n",
    "\n",
    "    if poly_list[i].geom_type == 'MultiPolygon':\n",
    "\n",
    "        for j in range(0, len(poly_list[i])):\n",
    "\n",
    "            geo_poly = points(poly_list[i][j])\n",
    "\n",
    "            for k in range(0, len(geo_poly)):\n",
    "\n",
    "                fire_lon = geo_poly[k][0]\n",
    "                fire_lat = geo_poly[k][1]\n",
    "\n",
    "                dist = great_circle(lat_origin, lon_origin, fire_lat, fire_lon)\n",
    "\n",
    "                if dist <= 100:\n",
    "                    geo_center = [fire_lon, fire_lat]\n",
    "                    break\n",
    "\n",
    "            if len(geo_center) > 0:\n",
    "                break\n",
    "\n",
    "        if len(geo_center) > 0:\n",
    "            break\n",
    "\n",
    "    else:\n",
    "\n",
    "        geo_poly = points(poly_list[i])\n",
    "\n",
    "        for j in range(0, len(geo_poly)):\n",
    "\n",
    "            fire_lon = geo_poly[j][0]\n",
    "            fire_lat = geo_poly[j][1]\n",
    "\n",
    "            dist = great_circle(lat_origin, lon_origin, fire_lat, fire_lon)\n",
    "\n",
    "            if dist <= 100:\n",
    "                geo_center = [fire_lon, fire_lat]\n",
    "                break\n",
    "                \n",
    "        if dist <= 100:\n",
    "            geo_center = [fire_lon, fire_lat]\n",
    "            break\n",
    "\n",
    "    if len(geo_center) > 0:\n",
    "        break"
   ]
  },
  {
   "cell_type": "code",
   "execution_count": 13,
   "metadata": {},
   "outputs": [],
   "source": [
    "def fire_map():\n",
    "\n",
    "\tgeo_center = []\n",
    "\tadd_loc = []\n",
    "\n",
    "\taddress = \"Berkeley, CA\"\n",
    "# \tif request.method == \"POST\":\n",
    "# \t\taddress = str(request.form[\"address\"])\n",
    "\t\n",
    "\tadd_lat, add_lon = get_lat_loc(address)\n",
    "\t\n",
    "\tgeo_center = active_fire(add_lat, add_lon)\n",
    "\n",
    "\t# for i in range(0, len(geo_center)):\n",
    "\tgeo_lat = geo_center[1]\n",
    "\tgeo_lon = geo_center[0]\n",
    "\tcrs = convert_point(geo_lat, geo_lon)\n",
    "\n",
    "\tmap_output = read_csv()"
   ]
  },
  {
   "cell_type": "code",
   "execution_count": null,
   "metadata": {},
   "outputs": [],
   "source": [
    "fire_map()"
   ]
  },
  {
   "cell_type": "code",
   "execution_count": null,
   "metadata": {},
   "outputs": [],
   "source": [
    "# set variables\n",
    "lat_geo = []\n",
    "lon_geo = []\n",
    "geo_center = []\n",
    "\n",
    "url = 'https://opendata.arcgis.com/datasets/5da472c6d27b4b67970acc7b5044c862_0.geojson'\n",
    "# geo_data = requests.get(url).json()\t\n",
    "geo_data = gpd.read_file(url)\n",
    "\n",
    "poly_list = geo_data.geometry\n",
    "\n",
    "for i in range(0,len(poly_list)):\n",
    "\n",
    "    if len(geo_center) > 0:\n",
    "        break\n",
    "\n",
    "    if poly_list[i].geom_type == 'MultiPolygon':\n",
    "\n",
    "        for j in range(0, len(poly_list[i])):\n",
    "\n",
    "            geo_poly = points(poly_list[i][j])\n",
    "\n",
    "            for k in range(0, len(geo_poly)):\n",
    "\n",
    "                fire_lon = geo_poly[k][0]\n",
    "                fire_lat = geo_poly[k][1]\n",
    "\n",
    "                dist = great_circle(lat_origin, lon_origin, fire_lat, fire_lon)\n",
    "\n",
    "                if dist <= 100:\n",
    "                    geo_center = [fire_lon, fire_lat]\n",
    "                    break\n",
    "\n",
    "            if len(geo_center) > 0:\n",
    "                break\n",
    "\n",
    "        if len(geo_center) > 0:\n",
    "            break\n",
    "\n",
    "    else:\n",
    "\n",
    "        geo_poly = points(poly_list[i])\n",
    "\n",
    "        for j in range(0, len(geo_poly)):\n",
    "\n",
    "            fire_lon = geo_poly[j][0]\n",
    "            fire_lat = geo_poly[j][1]\n",
    "\n",
    "            dist = great_circle(lat_origin, lon_origin, fire_lat, fire_lon)\n",
    "\n",
    "            if dist <= 100:\n",
    "                geo_center = [fire_lon, fire_lat]\n",
    "                break\n",
    "\n",
    "        if len(geo_center) > 0:\n",
    "            break\n",
    "\n",
    "    if len(geo_center) > 0:\n",
    "        break\n",
    "\n",
    "return geo_center, geo_poly"
   ]
  }
 ],
 "metadata": {
  "kernelspec": {
   "display_name": "Python 3",
   "language": "python",
   "name": "python3"
  },
  "language_info": {
   "codemirror_mode": {
    "name": "ipython",
    "version": 3
   },
   "file_extension": ".py",
   "mimetype": "text/x-python",
   "name": "python",
   "nbconvert_exporter": "python",
   "pygments_lexer": "ipython3",
   "version": "3.7.6"
  }
 },
 "nbformat": 4,
 "nbformat_minor": 4
}
