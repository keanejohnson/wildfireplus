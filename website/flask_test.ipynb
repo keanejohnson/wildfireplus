{
 "cells": [
  {
   "cell_type": "code",
   "execution_count": 1,
   "metadata": {},
   "outputs": [],
   "source": [
    "import ast\n",
    "import json\n",
    "import csv\n",
    "import mapbox\n",
    "import urllib\n",
    "import gmplot\n",
    "import requests\n",
    "import numpy as np\n",
    "import geopandas as gpd\n",
    "from shapely import geometry\n",
    "from shapely.geometry import Point\n",
    "from csv import reader\n",
    "from mapbox import Geocoder\n",
    "from flask import Flask, request, render_template\n",
    "from math import radians, degrees, sin, cos, asin, acos, sqrt\n",
    "from pyproj import Proj"
   ]
  },
  {
   "cell_type": "code",
   "execution_count": 2,
   "metadata": {},
   "outputs": [],
   "source": [
    "MAPBOX_ACCESS_KEY = 'pk.eyJ1IjoidGxldWNiIiwiYSI6ImNrN2N3d3h1aTA0YWwzaHFoNGJreDJmY2YifQ.pbWSn9txb4n8fKmUaKAG4g'"
   ]
  },
  {
   "cell_type": "code",
   "execution_count": 3,
   "metadata": {},
   "outputs": [],
   "source": [
    "def great_circle(lat1, lon1, lat2, lon2):\n",
    "\t\"\"\"\n",
    "\tThis function calculates the shortest distance between two sets of coordinates.\n",
    "\t\"\"\"\n",
    "\n",
    "\tlon1, lat1, lon2, lat2 = map(radians, [lon1, lat1, lon2, lat2])\n",
    "\n",
    "\t# use 6371 if calculating kilometers (3958.756 for miles)\n",
    "\treturn 3958.756 * (acos(sin(lat1) * sin(lat2) + cos(lat1) * cos(lat2) * cos(lon1 - lon2)))"
   ]
  },
  {
   "cell_type": "code",
   "execution_count": 4,
   "metadata": {},
   "outputs": [],
   "source": [
    "def read_csv():\n",
    "\t\"\"\"\n",
    "\tThis function reads the polygon csv file and returns the coordinates to create the polygon in mapbox\n",
    "\tto be displayed in the html file.\n",
    "\t\"\"\"\n",
    "\n",
    "\t# setting up list\n",
    "\tlat_input = []\n",
    "\tlon_input = []\n",
    "\n",
    "\t# read CSV file but skipped header line in read\n",
    "\twith open('static/polygon.csv', 'r') as read_line:\n",
    "\t    csv_reader = reader(read_line)\n",
    "\t    header = next(csv_reader)\n",
    "\t    # Check file as empty\n",
    "\t    if header != None:\n",
    "\t        # Iterate over each row after the header in the csv\n",
    "\t        for row in csv_reader:\n",
    "\t        \tlat_input.append(ast.literal_eval(row[1]))\n",
    "\t        \tlon_input.append(ast.literal_eval(row[0]))\n",
    "\n",
    "\tmap_output = [[a, b] for a, b in zip(lon_input, lat_input)]\n",
    "\n",
    "\treturn map_output"
   ]
  },
  {
   "cell_type": "code",
   "execution_count": 5,
   "metadata": {},
   "outputs": [],
   "source": [
    "def convert_point(lat,lon):\n",
    "    \"\"\"\n",
    "    Convert Coordinate Reference systems from map lat/lon to fire raster CRS\n",
    "    Input: Point of latitude,longitude\n",
    "    Output: Tuple of (x,y) in CRS coordinates\n",
    "    \"\"\"\n",
    "\n",
    "    # Declare point (longitude (or x) always comes first, then latitude (y))\n",
    "    point = Point(lon,lat)\n",
    "    \n",
    "    # Set Source CRS (Mapbox or Google Maps)\n",
    "    src_crs = \"EPSG:4326\"\n",
    "    \n",
    "    # create dataframe from input lat/long\n",
    "    gdf=gpd.GeoDataFrame(index=[0],crs = src_crs, geometry=[point])\n",
    "        \n",
    "    # Change CRS to match Wildfire CRS (3857)\n",
    "    gdf_tf = gdf.to_crs(\"epsg:3857\")\n",
    "    \n",
    "    # pull x and y value out from the POINT attribute, then get\n",
    "    # the value in the data series at row[0]\n",
    "    x = gdf_tf.geometry.x.at[0]\n",
    "    y = gdf_tf.geometry.y.at[0]\n",
    "        \n",
    "    return (x,y)"
   ]
  },
  {
   "cell_type": "code",
   "execution_count": 7,
   "metadata": {},
   "outputs": [],
   "source": [
    "def convert_polygon(fire_polygon):\n",
    "    \"\"\"Convert Coord ref system (CRS) from fire data (EPSG 3857) to map \n",
    "    lat/long (EPSG 4326), polygon starts and ends on same point (to close it)\n",
    "    \n",
    "    Input: list containing tuples of x,y points in fire CRS that describe a polygon\n",
    "    Output: list containing tuples of lat/long points that describe the polygon\n",
    "    \"\"\"\n",
    "    \n",
    "    # create polygon\n",
    "    poly = geometry.Polygon([(p[0], p[1]) for p in fire_polygon])\n",
    "    \n",
    "    #CRS\n",
    "    src_crs = \"EPSG:3857\"\n",
    "    dst_crs = \"EPSG:4326\"\n",
    "    \n",
    "    # Create Geo DataFrame\n",
    "    gfp = gpd.GeoDataFrame(index=[0],crs=src_crs,geometry=[poly])\n",
    "    \n",
    "    # Convert CRS\n",
    "    gfp2 = gfp.to_crs(dst_crs)\n",
    "    \n",
    "    # pull data from dataframe\n",
    "    polyout = gfp2.iloc[0]['geometry']\n",
    "    \n",
    "    # create list of tuples, but longitude is first\n",
    "    l = list(map(tuple,np.asarray(polyout.exterior.coords)))\n",
    "    l = list(map(lambda m: (m[1],m[0]), l))\n",
    "    \n",
    "    return l"
   ]
  },
  {
   "cell_type": "code",
   "execution_count": 8,
   "metadata": {},
   "outputs": [],
   "source": [
    "def get_lat_loc(address):\n",
    "\t\"\"\"\n",
    "\tConvert a string of address to latitude and longitude \n",
    "\tInput: String \n",
    "\tOutput: latitude, longitude coordinate\n",
    "\t\"\"\"\n",
    "\n",
    "\tgeocoder = mapbox.Geocoder(access_token = MAPBOX_ACCESS_KEY)\n",
    "\tresponse = geocoder.forward(address)\n",
    "\taddress = response.json()\n",
    "\tadd_lat = address[\"features\"][0][\"center\"][1]\n",
    "\tadd_lon = address[\"features\"][0][\"center\"][0]\n",
    "\treturn add_lat, add_lon"
   ]
  },
  {
   "cell_type": "code",
   "execution_count": 9,
   "metadata": {},
   "outputs": [],
   "source": [
    "def points(poly):\n",
    "    return list(map(tuple,np.asarray(poly.exterior.coords)))"
   ]
  },
  {
   "cell_type": "code",
   "execution_count": 40,
   "metadata": {},
   "outputs": [
    {
     "ename": "IndentationError",
     "evalue": "unindent does not match any outer indentation level (<tokenize>, line 20)",
     "output_type": "error",
     "traceback": [
      "\u001b[0;36m  File \u001b[0;32m\"<tokenize>\"\u001b[0;36m, line \u001b[0;32m20\u001b[0m\n\u001b[0;31m    for i in range(0,len(poly_list)):\u001b[0m\n\u001b[0m    ^\u001b[0m\n\u001b[0;31mIndentationError\u001b[0m\u001b[0;31m:\u001b[0m unindent does not match any outer indentation level\n"
     ]
    }
   ],
   "source": [
    "def active_fire(lat_origin, lon_origin):\n",
    "\t\"\"\"\n",
    "\tFunction to find coordinates of active fires of given origin\n",
    "\tInput: latitude, longitude of input address (origin)\n",
    "\tOutput: List of active fires within certain miles of origin\n",
    "\t\"\"\"\n",
    "\n",
    "\t# set variables\n",
    "\tlat_geo = []\n",
    "\tlon_geo = []\n",
    "\tgeo_center = []\n",
    "\n",
    "\t# read JSON on active fire\n",
    "\turl = 'https://opendata.arcgis.com/datasets/5da472c6d27b4b67970acc7b5044c862_0.geojson'\n",
    "\t# geo_data = requests.get(url).json()\t\n",
    "\tgeo_data = gpd.read_file(url)\n",
    "\n",
    "\tpoly_list = geo_data.geometry\n",
    "\n",
    "    for i in range(0,len(poly_list)):\n",
    "\n",
    "        if poly_list[i].geom_type == 'MultiPolygon':\n",
    "\n",
    "            for j in range(0, len(poly_list[i])):\n",
    "\n",
    "                geo_poly = points(poly_list[i][j])\n",
    "\n",
    "                for k in range(0, len(geo_poly)):\n",
    "\n",
    "                    fire_lon = geo_poly[k][0]\n",
    "                    fire_lat = geo_poly[k][1]\n",
    "\n",
    "                    dist = great_circle(lat_origin, lon_origin, fire_lat, fire_lon)\n",
    "\n",
    "                    if dist <= 100:\n",
    "                        geo_center = [fire_lon, fire_lat]\n",
    "                        break\n",
    "\n",
    "                if len(geo_center) > 0:\n",
    "                    break\n",
    "\n",
    "            if len(geo_center) > 0:\n",
    "                break\n",
    "\n",
    "        else:\n",
    "\n",
    "            geo_poly = points(poly_list[i])\n",
    "\n",
    "            for j in range(0, len(geo_poly)):\n",
    "\n",
    "                fire_lon = geo_poly[j][0]\n",
    "                fire_lat = geo_poly[j][1]\n",
    "\n",
    "                dist = great_circle(lat_origin, lon_origin, fire_lat, fire_lon)\n",
    "\n",
    "                if dist <= 100:\n",
    "                    gbeo_center = [fire_lon, fire_lat]\n",
    "                    break\n",
    "\n",
    "            if dist <= 100:\n",
    "                geo_center = [fire_lon, fire_lat]\n",
    "                break\n",
    "\n",
    "        if len(geo_center) > 0:\n",
    "            break"
   ]
  },
  {
   "cell_type": "code",
   "execution_count": 41,
   "metadata": {},
   "outputs": [],
   "source": [
    "def active_fire(lat_origin, lon_origin):\n",
    "\t\"\"\"\n",
    "\tFunction to find coordinates of active fires of given origin\n",
    "\tInput: latitude, longitude of input address (origin)\n",
    "\tOutput: List of active fires within certain miles of origin\n",
    "\t\"\"\"\n",
    "\n",
    "\t# set variables\n",
    "\tlat_geo = []\n",
    "\tlon_geo = []\n",
    "\tgeo_center = []\n",
    "\n",
    "\t# # read JSON on active fire\n",
    "\t# url = 'https://www.fire.ca.gov/umbraco/api/IncidentApi/List?inactive=true'\n",
    "\t# geo_data = requests.get(url).json()\n",
    "\n",
    "\t# # loop through list provided by Cal Fire and find active fire within certain miles of origin\n",
    "\t# for i in range(0,len(geo_data)):\n",
    "\t#     if geo_data[i]['IsActive'] == \"Y\":\n",
    "\t#         fire_lat = geo_data[i]['Latitude']\n",
    "\t#         fire_lon = geo_data[i]['Longitude']\n",
    "\t#         dist = great_circle(lat_origin, lon_origin, fire_lat, fire_lon)\n",
    "\t#         if dist <= 100:\n",
    "\t#         \tlat_geo.append(fire_lat)\n",
    "\t#         \tlon_geo.append(fire_lon)\n",
    "\n",
    "\t# geo_center = [[a, b] for a, b in zip(lon_geo, lat_geo)]\n",
    "\n",
    "\t# geo_center = [[-121.9230432, 36.52439536]]\n",
    "\n",
    "\t# return geo_center\n",
    "\n",
    "\t# read JSON on active fire\n",
    "\turl = 'https://opendata.arcgis.com/datasets/5da472c6d27b4b67970acc7b5044c862_0.geojson'\n",
    "\t# geo_data = requests.get(url).json()\t\n",
    "\tgeo_data = gpd.read_file(url)\n",
    "\n",
    "\tpoly_list = geo_data.geometry\n",
    "\n",
    "\tfor i in range(0,len(poly_list)):\n",
    "\n",
    "\t\tif poly_list[i].geom_type == 'MultiPolygon':\n",
    "\n",
    "\t\t\tfor j in range(0, len(poly_list[i])):\n",
    "\n",
    "\t\t\t\tgeo_poly = points(poly_list[i][j])\n",
    "\n",
    "\t\t\t\tfor k in range(0, len(geo_poly)):\n",
    "\n",
    "\t\t\t\t\tfire_lon = geo_poly[k][0]\n",
    "\t\t\t\t\tfire_lat = geo_poly[k][1]\n",
    "\n",
    "\t\t\t\t\tdist = great_circle(lat_origin, lon_origin, fire_lat, fire_lon)\n",
    "\n",
    "\t\t\t\t\tif dist <= 100:\n",
    "\t\t\t\t\t\tgeo_center = [fire_lon, fire_lat]\n",
    "\t\t\t\t\t\tbreak\n",
    "\n",
    "\t\t\t\tif len(geo_center) > 0:\n",
    "\t\t\t\t\tbreak\n",
    "\n",
    "\t\t\tif len(geo_center) > 0:\n",
    "\t\t\t\tbreak\n",
    "\n",
    "\t\telse:\n",
    "\n",
    "\t\t\tgeo_poly = points(poly_list[i])\n",
    "\n",
    "\t\t\tfor j in range(0, len(geo_poly)):\n",
    "\n",
    "\t\t\t\tfire_lon = geo_poly[j][0]\n",
    "\t\t\t\tfire_lat = geo_poly[j][1]\n",
    "\n",
    "\t\t\t\tdist = great_circle(lat_origin, lon_origin, fire_lat, fire_lon)\n",
    "\n",
    "\t\t\t\tif dist <= 100:\n",
    "\t\t\t\t\tgeo_center = [fire_lon, fire_lat]\n",
    "\t\t\t\t\tbreak\n",
    "\n",
    "\t\t\tif dist <= 100:\n",
    "\t\t\t\tgeo_center = [fire_lon, fire_lat]\n",
    "\t\t\t\tbreak\n",
    "\n",
    "\t\tif len(geo_center) > 0:\n",
    "\t\t\tbreak\n",
    "\n",
    "\treturn geo_center, geo_poly"
   ]
  },
  {
   "cell_type": "code",
   "execution_count": 42,
   "metadata": {},
   "outputs": [],
   "source": [
    "geo_center = active_fire(36.543286, -121.929533)"
   ]
  },
  {
   "cell_type": "code",
   "execution_count": 43,
   "metadata": {
    "scrolled": true
   },
   "outputs": [
    {
     "data": {
      "text/plain": [
       "([],\n",
       " [(-118.128895162, 40.445283653),\n",
       "  (-118.128914727, 40.445166779),\n",
       "  (-118.128892438, 40.4451401580001),\n",
       "  (-118.128888424, 40.4451053550001),\n",
       "  (-118.128904853, 40.4450781050001),\n",
       "  (-118.128931993, 40.445052257),\n",
       "  (-118.128969753, 40.445029355),\n",
       "  (-118.129009922, 40.445007817),\n",
       "  (-118.129042355, 40.4449897760001),\n",
       "  (-118.129075094, 40.4449742800001),\n",
       "  (-118.129111402, 40.444957033),\n",
       "  (-118.12914205, 40.444938805),\n",
       "  (-118.129165569, 40.4449159710001),\n",
       "  (-118.129206606, 40.4448881880001),\n",
       "  (-118.129221182, 40.444851892),\n",
       "  (-118.129201381, 40.4448108),\n",
       "  (-118.129195457, 40.4447815550001),\n",
       "  (-118.129180907, 40.4447522680001),\n",
       "  (-118.129164807, 40.444723778),\n",
       "  (-118.129151606, 40.4446907450001),\n",
       "  (-118.129109196, 40.4446733300001),\n",
       "  (-118.129087758, 40.4446450990001),\n",
       "  (-118.129049843, 40.4446378550001),\n",
       "  (-118.129019415, 40.444617167),\n",
       "  (-118.12897324, 40.4446046690001),\n",
       "  (-118.128922128, 40.4445805140001),\n",
       "  (-118.128908859, 40.4445522140001),\n",
       "  (-118.128936935, 40.444525851),\n",
       "  (-118.128954765, 40.444501594),\n",
       "  (-118.128910447, 40.4445033550001),\n",
       "  (-118.128887796, 40.4444820430001),\n",
       "  (-118.128843309, 40.4444757210001),\n",
       "  (-118.128795801, 40.444462964),\n",
       "  (-118.128757223, 40.4444449860001),\n",
       "  (-118.128724933, 40.444426795),\n",
       "  (-118.128683215, 40.4444261960001),\n",
       "  (-118.128636399, 40.4444340470001),\n",
       "  (-118.128598326, 40.4444586750001),\n",
       "  (-118.128548335, 40.4444675680001),\n",
       "  (-118.128510125, 40.4444727540001),\n",
       "  (-118.128478597, 40.444497509),\n",
       "  (-118.128440027, 40.444503749),\n",
       "  (-118.128383438, 40.444506717),\n",
       "  (-118.128343602, 40.444519229),\n",
       "  (-118.128292107, 40.4445182060001),\n",
       "  (-118.128255906, 40.444517852),\n",
       "  (-118.128216016, 40.4445071530001),\n",
       "  (-118.128168698, 40.4445158890001),\n",
       "  (-118.128133555, 40.4444903690001),\n",
       "  (-118.128099318, 40.444506866),\n",
       "  (-118.128058315, 40.4445158830001),\n",
       "  (-118.128025634, 40.444527785),\n",
       "  (-118.127989282, 40.4445348790001),\n",
       "  (-118.127955069, 40.4445558410001),\n",
       "  (-118.12795981, 40.4445861290001),\n",
       "  (-118.127961468, 40.4446144120001),\n",
       "  (-118.127990996, 40.444641259),\n",
       "  (-118.128017926, 40.4446600810001),\n",
       "  (-118.128061416, 40.4446662560001),\n",
       "  (-118.128086713, 40.4446881040001),\n",
       "  (-118.128128993, 40.4446974090001),\n",
       "  (-118.128164701, 40.4447139420001),\n",
       "  (-118.128193984, 40.4447314600001),\n",
       "  (-118.128235814, 40.4447427270001),\n",
       "  (-118.128286086, 40.44475025),\n",
       "  (-118.128305564, 40.4447831310001),\n",
       "  (-118.128315897, 40.4448154670001),\n",
       "  (-118.128343008, 40.4448356520001),\n",
       "  (-118.128349279, 40.444832256),\n",
       "  (-118.128349285, 40.444832229),\n",
       "  (-118.128380603, 40.4448152920001),\n",
       "  (-118.128349279, 40.444832256),\n",
       "  (-118.12834086, 40.444867118),\n",
       "  (-118.128309027, 40.4449071240001),\n",
       "  (-118.128277083, 40.44493909),\n",
       "  (-118.128273498, 40.444978818),\n",
       "  (-118.12826917, 40.4450065720001),\n",
       "  (-118.128260521, 40.4450482250001),\n",
       "  (-118.128254616, 40.4450803410001),\n",
       "  (-118.128251762, 40.4451093610001),\n",
       "  (-118.128234482, 40.445154035),\n",
       "  (-118.128226344, 40.4451831100001),\n",
       "  (-118.12821499, 40.445221002),\n",
       "  (-118.128211427, 40.4452519480001),\n",
       "  (-118.12821211, 40.4452907360001),\n",
       "  (-118.128223913, 40.4453201870001),\n",
       "  (-118.128269303, 40.4453252650001),\n",
       "  (-118.128307911, 40.4453158040001),\n",
       "  (-118.12835726, 40.445308536),\n",
       "  (-118.128396132, 40.4453111550001),\n",
       "  (-118.128446566, 40.4453064940001),\n",
       "  (-118.128493299, 40.4452986480001),\n",
       "  (-118.128529283, 40.4452917890001),\n",
       "  (-118.12856921, 40.445284498),\n",
       "  (-118.128612775, 40.4452938310001),\n",
       "  (-118.128648252, 40.44527585),\n",
       "  (-118.128691635, 40.445275467),\n",
       "  (-118.128723051, 40.445260358),\n",
       "  (-118.128762517, 40.4452490890001),\n",
       "  (-118.128810652, 40.4452424420001),\n",
       "  (-118.128855026, 40.445257713),\n",
       "  (-118.128895162, 40.445283653)])"
      ]
     },
     "execution_count": 43,
     "metadata": {},
     "output_type": "execute_result"
    }
   ],
   "source": [
    "geo_center"
   ]
  },
  {
   "cell_type": "code",
   "execution_count": 19,
   "metadata": {},
   "outputs": [],
   "source": [
    "# set variables\n",
    "lat_geo = []\n",
    "lon_geo = []\n",
    "geo_center = []\n",
    "\n",
    "# read JSON on active fire\n",
    "url = 'https://opendata.arcgis.com/datasets/5da472c6d27b4b67970acc7b5044c862_0.geojson'\n",
    "# geo_data = requests.get(url).json()\t\n",
    "geo_data = gpd.read_file(url)\n",
    "\n",
    "poly_list = geo_data.geometry"
   ]
  },
  {
   "cell_type": "code",
   "execution_count": 20,
   "metadata": {},
   "outputs": [
    {
     "data": {
      "text/plain": [
       "0     POLYGON ((-81.21838 26.16638, -81.21852 26.166...\n",
       "1     POLYGON ((-119.30580 43.36044, -119.30572 43.3...\n",
       "2     POLYGON ((-81.22119 25.89300, -81.22125 25.892...\n",
       "3     POLYGON ((-81.23895 25.87774, -81.23895 25.877...\n",
       "4     POLYGON ((-155.82228 20.02663, -155.82229 20.0...\n",
       "5     POLYGON ((-81.06559 26.16905, -81.06559 26.169...\n",
       "6     POLYGON ((-119.89011 39.58645, -119.89014 39.5...\n",
       "7     POLYGON ((-117.71683 40.75784, -117.71681 40.7...\n",
       "8     POLYGON ((-117.72725 40.85650, -117.72722 40.8...\n",
       "9     POLYGON ((-120.01661 39.96341, -120.01656 39.9...\n",
       "10    POLYGON ((-109.68523 38.81552, -109.68520 38.8...\n",
       "11    MULTIPOLYGON (((-119.78745 39.81278, -119.7874...\n",
       "12    POLYGON ((-119.91561 39.70307, -119.91558 39.7...\n",
       "13    POLYGON ((-117.61495 41.97147, -117.61494 41.9...\n",
       "14    POLYGON ((-78.75911 38.23921, -78.75914 38.239...\n",
       "15    POLYGON ((-118.12890 40.44528, -118.12891 40.4...\n",
       "Name: geometry, dtype: geometry"
      ]
     },
     "execution_count": 20,
     "metadata": {},
     "output_type": "execute_result"
    }
   ],
   "source": [
    "poly_list"
   ]
  },
  {
   "cell_type": "code",
   "execution_count": 21,
   "metadata": {},
   "outputs": [
    {
     "data": {
      "text/plain": [
       "16"
      ]
     },
     "execution_count": 21,
     "metadata": {},
     "output_type": "execute_result"
    }
   ],
   "source": [
    "len(poly_list)"
   ]
  },
  {
   "cell_type": "code",
   "execution_count": 22,
   "metadata": {},
   "outputs": [],
   "source": [
    "geo_poly = points(poly_list[0])"
   ]
  },
  {
   "cell_type": "code",
   "execution_count": 23,
   "metadata": {},
   "outputs": [
    {
     "data": {
      "text/plain": [
       "[(-81.218376301, 26.1663754840001),\n",
       " (-81.218523916, 26.1663752600001),\n",
       " (-81.218531151, 26.16629699),\n",
       " (-81.218376168, 26.166303885),\n",
       " (-81.218376301, 26.1663754840001)]"
      ]
     },
     "execution_count": 23,
     "metadata": {},
     "output_type": "execute_result"
    }
   ],
   "source": [
    "geo_poly"
   ]
  },
  {
   "cell_type": "code",
   "execution_count": 24,
   "metadata": {},
   "outputs": [
    {
     "data": {
      "text/plain": [
       "5"
      ]
     },
     "execution_count": 24,
     "metadata": {},
     "output_type": "execute_result"
    }
   ],
   "source": [
    "len(geo_poly)"
   ]
  },
  {
   "cell_type": "code",
   "execution_count": 38,
   "metadata": {},
   "outputs": [
    {
     "ename": "NameError",
     "evalue": "name 'lat_origin' is not defined",
     "output_type": "error",
     "traceback": [
      "\u001b[0;31m---------------------------------------------------------------------------\u001b[0m",
      "\u001b[0;31mNameError\u001b[0m                                 Traceback (most recent call last)",
      "\u001b[0;32m<ipython-input-38-c254425d74cc>\u001b[0m in \u001b[0;36m<module>\u001b[0;34m\u001b[0m\n\u001b[1;32m     33\u001b[0m             \u001b[0mfire_lat\u001b[0m \u001b[0;34m=\u001b[0m \u001b[0mgeo_poly\u001b[0m\u001b[0;34m[\u001b[0m\u001b[0mj\u001b[0m\u001b[0;34m]\u001b[0m\u001b[0;34m[\u001b[0m\u001b[0;36m1\u001b[0m\u001b[0;34m]\u001b[0m\u001b[0;34m\u001b[0m\u001b[0;34m\u001b[0m\u001b[0m\n\u001b[1;32m     34\u001b[0m \u001b[0;34m\u001b[0m\u001b[0m\n\u001b[0;32m---> 35\u001b[0;31m             \u001b[0mdist\u001b[0m \u001b[0;34m=\u001b[0m \u001b[0mgreat_circle\u001b[0m\u001b[0;34m(\u001b[0m\u001b[0mlat_origin\u001b[0m\u001b[0;34m,\u001b[0m \u001b[0mlon_origin\u001b[0m\u001b[0;34m,\u001b[0m \u001b[0mfire_lat\u001b[0m\u001b[0;34m,\u001b[0m \u001b[0mfire_lon\u001b[0m\u001b[0;34m)\u001b[0m\u001b[0;34m\u001b[0m\u001b[0;34m\u001b[0m\u001b[0m\n\u001b[0m\u001b[1;32m     36\u001b[0m \u001b[0;34m\u001b[0m\u001b[0m\n\u001b[1;32m     37\u001b[0m             \u001b[0;32mif\u001b[0m \u001b[0mdist\u001b[0m \u001b[0;34m<=\u001b[0m \u001b[0;36m100\u001b[0m\u001b[0;34m:\u001b[0m\u001b[0;34m\u001b[0m\u001b[0;34m\u001b[0m\u001b[0m\n",
      "\u001b[0;31mNameError\u001b[0m: name 'lat_origin' is not defined"
     ]
    }
   ],
   "source": [
    "for i in range(0,len(poly_list)):\n",
    "\n",
    "    if poly_list[i].geom_type == 'MultiPolygon':\n",
    "\n",
    "        for j in range(0, len(poly_list[i])):\n",
    "\n",
    "            geo_poly = points(poly_list[i][j])\n",
    "\n",
    "            for k in range(0, len(geo_poly)):\n",
    "\n",
    "                fire_lon = geo_poly[k][0]\n",
    "                fire_lat = geo_poly[k][1]\n",
    "\n",
    "                dist = great_circle(lat_origin, lon_origin, fire_lat, fire_lon)\n",
    "\n",
    "                if dist <= 100:\n",
    "                    geo_center = [fire_lon, fire_lat]\n",
    "                    break\n",
    "\n",
    "            if len(geo_center) > 0:\n",
    "                break\n",
    "\n",
    "        if len(geo_center) > 0:\n",
    "            break\n",
    "\n",
    "    else:\n",
    "\n",
    "        geo_poly = points(poly_list[i])\n",
    "\n",
    "        for j in range(0, len(geo_poly)):\n",
    "\n",
    "            fire_lon = geo_poly[j][0]\n",
    "            fire_lat = geo_poly[j][1]\n",
    "\n",
    "            dist = great_circle(lat_origin, lon_origin, fire_lat, fire_lon)\n",
    "\n",
    "            if dist <= 100:\n",
    "                geo_center = [fire_lon, fire_lat]\n",
    "                break\n",
    "                \n",
    "        if dist <= 100:\n",
    "            geo_center = [fire_lon, fire_lat]\n",
    "            break\n",
    "\n",
    "    if len(geo_center) > 0:\n",
    "        break"
   ]
  },
  {
   "cell_type": "code",
   "execution_count": null,
   "metadata": {},
   "outputs": [],
   "source": []
  },
  {
   "cell_type": "code",
   "execution_count": null,
   "metadata": {},
   "outputs": [],
   "source": []
  },
  {
   "cell_type": "code",
   "execution_count": 13,
   "metadata": {},
   "outputs": [],
   "source": [
    "def fire_map():\n",
    "\n",
    "\tgeo_center = []\n",
    "\tadd_loc = []\n",
    "\n",
    "\taddress = \"Berkeley, CA\"\n",
    "# \tif request.method == \"POST\":\n",
    "# \t\taddress = str(request.form[\"address\"])\n",
    "\t\n",
    "\tadd_lat, add_lon = get_lat_loc(address)\n",
    "\t\n",
    "\tgeo_center = active_fire(add_lat, add_lon)\n",
    "\n",
    "\t# for i in range(0, len(geo_center)):\n",
    "\tgeo_lat = geo_center[1]\n",
    "\tgeo_lon = geo_center[0]\n",
    "\tcrs = convert_point(geo_lat, geo_lon)\n",
    "\n",
    "\tmap_output = read_csv()"
   ]
  },
  {
   "cell_type": "code",
   "execution_count": 14,
   "metadata": {},
   "outputs": [
    {
     "ename": "TypeError",
     "evalue": "must be real number, not list",
     "output_type": "error",
     "traceback": [
      "\u001b[0;31m---------------------------------------------------------------------------\u001b[0m",
      "\u001b[0;31mTypeError\u001b[0m                                 Traceback (most recent call last)",
      "\u001b[0;32m<ipython-input-14-992e18080e81>\u001b[0m in \u001b[0;36m<module>\u001b[0;34m\u001b[0m\n\u001b[0;32m----> 1\u001b[0;31m \u001b[0mfire_map\u001b[0m\u001b[0;34m(\u001b[0m\u001b[0;34m)\u001b[0m\u001b[0;34m\u001b[0m\u001b[0;34m\u001b[0m\u001b[0m\n\u001b[0m",
      "\u001b[0;32m<ipython-input-13-c87f649a7bbf>\u001b[0m in \u001b[0;36mfire_map\u001b[0;34m()\u001b[0m\n\u001b[1;32m     15\u001b[0m         \u001b[0mgeo_lat\u001b[0m \u001b[0;34m=\u001b[0m \u001b[0mgeo_center\u001b[0m\u001b[0;34m[\u001b[0m\u001b[0;36m1\u001b[0m\u001b[0;34m]\u001b[0m\u001b[0;34m\u001b[0m\u001b[0;34m\u001b[0m\u001b[0m\n\u001b[1;32m     16\u001b[0m         \u001b[0mgeo_lon\u001b[0m \u001b[0;34m=\u001b[0m \u001b[0mgeo_center\u001b[0m\u001b[0;34m[\u001b[0m\u001b[0;36m0\u001b[0m\u001b[0;34m]\u001b[0m\u001b[0;34m\u001b[0m\u001b[0;34m\u001b[0m\u001b[0m\n\u001b[0;32m---> 17\u001b[0;31m         \u001b[0mcrs\u001b[0m \u001b[0;34m=\u001b[0m \u001b[0mconvert_point\u001b[0m\u001b[0;34m(\u001b[0m\u001b[0mgeo_lat\u001b[0m\u001b[0;34m,\u001b[0m \u001b[0mgeo_lon\u001b[0m\u001b[0;34m)\u001b[0m\u001b[0;34m\u001b[0m\u001b[0;34m\u001b[0m\u001b[0m\n\u001b[0m\u001b[1;32m     18\u001b[0m \u001b[0;34m\u001b[0m\u001b[0m\n\u001b[1;32m     19\u001b[0m         \u001b[0mmap_output\u001b[0m \u001b[0;34m=\u001b[0m \u001b[0mread_csv\u001b[0m\u001b[0;34m(\u001b[0m\u001b[0;34m)\u001b[0m\u001b[0;34m\u001b[0m\u001b[0;34m\u001b[0m\u001b[0m\n",
      "\u001b[0;32m<ipython-input-5-4267053559a6>\u001b[0m in \u001b[0;36mconvert_point\u001b[0;34m(lat, lon)\u001b[0m\n\u001b[1;32m      7\u001b[0m \u001b[0;34m\u001b[0m\u001b[0m\n\u001b[1;32m      8\u001b[0m     \u001b[0;31m# Declare point (longitude (or x) always comes first, then latitude (y))\u001b[0m\u001b[0;34m\u001b[0m\u001b[0;34m\u001b[0m\u001b[0;34m\u001b[0m\u001b[0m\n\u001b[0;32m----> 9\u001b[0;31m     \u001b[0mpoint\u001b[0m \u001b[0;34m=\u001b[0m \u001b[0mPoint\u001b[0m\u001b[0;34m(\u001b[0m\u001b[0mlon\u001b[0m\u001b[0;34m,\u001b[0m\u001b[0mlat\u001b[0m\u001b[0;34m)\u001b[0m\u001b[0;34m\u001b[0m\u001b[0;34m\u001b[0m\u001b[0m\n\u001b[0m\u001b[1;32m     10\u001b[0m \u001b[0;34m\u001b[0m\u001b[0m\n\u001b[1;32m     11\u001b[0m     \u001b[0;31m# Set Source CRS (Mapbox or Google Maps)\u001b[0m\u001b[0;34m\u001b[0m\u001b[0;34m\u001b[0m\u001b[0;34m\u001b[0m\u001b[0m\n",
      "\u001b[0;32m/opt/anaconda3/envs/w210_geo/lib/python3.7/site-packages/shapely/geometry/point.py\u001b[0m in \u001b[0;36m__init__\u001b[0;34m(self, *args)\u001b[0m\n\u001b[1;32m     47\u001b[0m         \u001b[0mBaseGeometry\u001b[0m\u001b[0;34m.\u001b[0m\u001b[0m__init__\u001b[0m\u001b[0;34m(\u001b[0m\u001b[0mself\u001b[0m\u001b[0;34m)\u001b[0m\u001b[0;34m\u001b[0m\u001b[0;34m\u001b[0m\u001b[0m\n\u001b[1;32m     48\u001b[0m         \u001b[0;32mif\u001b[0m \u001b[0mlen\u001b[0m\u001b[0;34m(\u001b[0m\u001b[0margs\u001b[0m\u001b[0;34m)\u001b[0m \u001b[0;34m>\u001b[0m \u001b[0;36m0\u001b[0m\u001b[0;34m:\u001b[0m\u001b[0;34m\u001b[0m\u001b[0;34m\u001b[0m\u001b[0m\n\u001b[0;32m---> 49\u001b[0;31m             \u001b[0mself\u001b[0m\u001b[0;34m.\u001b[0m\u001b[0m_set_coords\u001b[0m\u001b[0;34m(\u001b[0m\u001b[0;34m*\u001b[0m\u001b[0margs\u001b[0m\u001b[0;34m)\u001b[0m\u001b[0;34m\u001b[0m\u001b[0;34m\u001b[0m\u001b[0m\n\u001b[0m\u001b[1;32m     50\u001b[0m \u001b[0;34m\u001b[0m\u001b[0m\n\u001b[1;32m     51\u001b[0m     \u001b[0;31m# Coordinate getters and setters\u001b[0m\u001b[0;34m\u001b[0m\u001b[0;34m\u001b[0m\u001b[0;34m\u001b[0m\u001b[0m\n",
      "\u001b[0;32m/opt/anaconda3/envs/w210_geo/lib/python3.7/site-packages/shapely/geometry/point.py\u001b[0m in \u001b[0;36m_set_coords\u001b[0;34m(self, *args)\u001b[0m\n\u001b[1;32m    130\u001b[0m             \u001b[0mself\u001b[0m\u001b[0;34m.\u001b[0m\u001b[0m_geom\u001b[0m\u001b[0;34m,\u001b[0m \u001b[0mself\u001b[0m\u001b[0;34m.\u001b[0m\u001b[0m_ndim\u001b[0m \u001b[0;34m=\u001b[0m \u001b[0mgeos_point_from_py\u001b[0m\u001b[0;34m(\u001b[0m\u001b[0margs\u001b[0m\u001b[0;34m[\u001b[0m\u001b[0;36m0\u001b[0m\u001b[0;34m]\u001b[0m\u001b[0;34m)\u001b[0m\u001b[0;34m\u001b[0m\u001b[0;34m\u001b[0m\u001b[0m\n\u001b[1;32m    131\u001b[0m         \u001b[0;32melse\u001b[0m\u001b[0;34m:\u001b[0m\u001b[0;34m\u001b[0m\u001b[0;34m\u001b[0m\u001b[0m\n\u001b[0;32m--> 132\u001b[0;31m             \u001b[0mself\u001b[0m\u001b[0;34m.\u001b[0m\u001b[0m_geom\u001b[0m\u001b[0;34m,\u001b[0m \u001b[0mself\u001b[0m\u001b[0;34m.\u001b[0m\u001b[0m_ndim\u001b[0m \u001b[0;34m=\u001b[0m \u001b[0mgeos_point_from_py\u001b[0m\u001b[0;34m(\u001b[0m\u001b[0mtuple\u001b[0m\u001b[0;34m(\u001b[0m\u001b[0margs\u001b[0m\u001b[0;34m)\u001b[0m\u001b[0;34m)\u001b[0m\u001b[0;34m\u001b[0m\u001b[0;34m\u001b[0m\u001b[0m\n\u001b[0m\u001b[1;32m    133\u001b[0m \u001b[0;34m\u001b[0m\u001b[0m\n\u001b[1;32m    134\u001b[0m     \u001b[0mcoords\u001b[0m \u001b[0;34m=\u001b[0m \u001b[0mproperty\u001b[0m\u001b[0;34m(\u001b[0m\u001b[0mBaseGeometry\u001b[0m\u001b[0;34m.\u001b[0m\u001b[0m_get_coords\u001b[0m\u001b[0;34m,\u001b[0m \u001b[0m_set_coords\u001b[0m\u001b[0;34m)\u001b[0m\u001b[0;34m\u001b[0m\u001b[0;34m\u001b[0m\u001b[0m\n",
      "\u001b[0;32m/opt/anaconda3/envs/w210_geo/lib/python3.7/site-packages/shapely/geometry/point.py\u001b[0m in \u001b[0;36mgeos_point_from_py\u001b[0;34m(ob, update_geom, update_ndim)\u001b[0m\n\u001b[1;32m    207\u001b[0m         \u001b[0mcoords\u001b[0m \u001b[0;34m=\u001b[0m \u001b[0mob\u001b[0m\u001b[0;34m\u001b[0m\u001b[0;34m\u001b[0m\u001b[0m\n\u001b[1;32m    208\u001b[0m     \u001b[0mn\u001b[0m \u001b[0;34m=\u001b[0m \u001b[0mlen\u001b[0m\u001b[0;34m(\u001b[0m\u001b[0mcoords\u001b[0m\u001b[0;34m)\u001b[0m\u001b[0;34m\u001b[0m\u001b[0;34m\u001b[0m\u001b[0m\n\u001b[0;32m--> 209\u001b[0;31m     \u001b[0mdx\u001b[0m \u001b[0;34m=\u001b[0m \u001b[0mc_double\u001b[0m\u001b[0;34m(\u001b[0m\u001b[0mcoords\u001b[0m\u001b[0;34m[\u001b[0m\u001b[0;36m0\u001b[0m\u001b[0;34m]\u001b[0m\u001b[0;34m)\u001b[0m\u001b[0;34m\u001b[0m\u001b[0;34m\u001b[0m\u001b[0m\n\u001b[0m\u001b[1;32m    210\u001b[0m     \u001b[0mdy\u001b[0m \u001b[0;34m=\u001b[0m \u001b[0mc_double\u001b[0m\u001b[0;34m(\u001b[0m\u001b[0mcoords\u001b[0m\u001b[0;34m[\u001b[0m\u001b[0;36m1\u001b[0m\u001b[0;34m]\u001b[0m\u001b[0;34m)\u001b[0m\u001b[0;34m\u001b[0m\u001b[0;34m\u001b[0m\u001b[0m\n\u001b[1;32m    211\u001b[0m     \u001b[0mdz\u001b[0m \u001b[0;34m=\u001b[0m \u001b[0;32mNone\u001b[0m\u001b[0;34m\u001b[0m\u001b[0;34m\u001b[0m\u001b[0m\n",
      "\u001b[0;31mTypeError\u001b[0m: must be real number, not list"
     ]
    }
   ],
   "source": [
    "fire_map()"
   ]
  },
  {
   "cell_type": "code",
   "execution_count": null,
   "metadata": {},
   "outputs": [],
   "source": []
  }
 ],
 "metadata": {
  "kernelspec": {
   "display_name": "Python 3",
   "language": "python",
   "name": "python3"
  },
  "language_info": {
   "codemirror_mode": {
    "name": "ipython",
    "version": 3
   },
   "file_extension": ".py",
   "mimetype": "text/x-python",
   "name": "python",
   "nbconvert_exporter": "python",
   "pygments_lexer": "ipython3",
   "version": "3.7.6"
  }
 },
 "nbformat": 4,
 "nbformat_minor": 4
}
