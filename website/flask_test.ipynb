{
 "cells": [
  {
   "cell_type": "code",
   "execution_count": 1,
   "metadata": {},
   "outputs": [],
   "source": [
    "import ast\n",
    "import json\n",
    "import csv\n",
    "import mapbox\n",
    "import urllib\n",
    "import gmplot\n",
    "import requests\n",
    "import numpy as np\n",
    "import pandas as pd\n",
    "import geopandas as gpd\n",
    "from shapely import geometry\n",
    "from shapely.geometry import Polygon\n",
    "from shapely.geometry import Point\n",
    "from csv import reader\n",
    "from mapbox import Geocoder\n",
    "from flask import Flask, request, render_template\n",
    "from math import radians, degrees, sin, cos, asin, acos, sqrt\n",
    "from pyproj import Proj"
   ]
  },
  {
   "cell_type": "code",
   "execution_count": 2,
   "metadata": {},
   "outputs": [],
   "source": [
    "MAPBOX_ACCESS_KEY = 'pk.eyJ1IjoidGxldWNiIiwiYSI6ImNrN2N3d3h1aTA0YWwzaHFoNGJreDJmY2YifQ.pbWSn9txb4n8fKmUaKAG4g'"
   ]
  },
  {
   "cell_type": "code",
   "execution_count": 3,
   "metadata": {},
   "outputs": [],
   "source": [
    "def great_circle(lat1, lon1, lat2, lon2):\n",
    "\t\"\"\"\n",
    "\tThis function calculates the shortest distance between two sets of coordinates.\n",
    "\t\"\"\"\n",
    "\n",
    "\tlon1, lat1, lon2, lat2 = map(radians, [lon1, lat1, lon2, lat2])\n",
    "\n",
    "\t# use 6371 if calculating kilometers (3958.756 for miles)\n",
    "\treturn 3958.756 * (acos(sin(lat1) * sin(lat2) + cos(lat1) * cos(lat2) * cos(lon1 - lon2)))"
   ]
  },
  {
   "cell_type": "code",
   "execution_count": 4,
   "metadata": {},
   "outputs": [],
   "source": [
    "def read_csv():\n",
    "\t\"\"\"\n",
    "\tThis function reads the polygon csv file and returns the coordinates to create the polygon in mapbox\n",
    "\tto be displayed in the html file.\n",
    "\t\"\"\"\n",
    "\n",
    "\t# setting up list\n",
    "\tlat_input = []\n",
    "\tlon_input = []\n",
    "\n",
    "\t# read CSV file but skipped header line in read\n",
    "\twith open('static/polygon.csv', 'r') as read_line:\n",
    "\t    csv_reader = reader(read_line)\n",
    "\t    header = next(csv_reader)\n",
    "\t    # Check file as empty\n",
    "\t    if header != None:\n",
    "\t        # Iterate over each row after the header in the csv\n",
    "\t        for row in csv_reader:\n",
    "\t        \tlat_input.append(ast.literal_eval(row[1]))\n",
    "\t        \tlon_input.append(ast.literal_eval(row[0]))\n",
    "\n",
    "\tmap_output = [[a, b] for a, b in zip(lon_input, lat_input)]\n",
    "\n",
    "\treturn map_output"
   ]
  },
  {
   "cell_type": "code",
   "execution_count": 5,
   "metadata": {},
   "outputs": [],
   "source": [
    "def write_csv(poly):\n",
    "\t\"\"\"\n",
    "\tThis function writes the active fire intial polygon to csv to be used for the ML model to calculate \n",
    "\tspread on the next day.\n",
    "\t\"\"\"\n",
    "\n",
    "\twith open(\"static/intial_polygon.csv\", \"w\") as f:\n",
    "\t\twriter = csv.writer(f)\n",
    "\t\twriter.writerows(poly)\n"
   ]
  },
  {
   "cell_type": "code",
   "execution_count": 6,
   "metadata": {},
   "outputs": [],
   "source": [
    "def convert_point(lat,lon):\n",
    "    \"\"\"\n",
    "    Convert Coordinate Reference systems from map lat/lon to fire raster CRS\n",
    "    Input: Point of latitude,longitude\n",
    "    Output: Tuple of (x,y) in CRS coordinates\n",
    "    \"\"\"\n",
    "\n",
    "    # Declare point (longitude (or x) always comes first, then latitude (y))\n",
    "    point = Point(lon,lat)\n",
    "    \n",
    "    # Set Source CRS (Mapbox or Google Maps)\n",
    "    src_crs = \"EPSG:4326\"\n",
    "    \n",
    "    # create dataframe from input lat/long\n",
    "    gdf=gpd.GeoDataFrame(index=[0],crs = src_crs, geometry=[point])\n",
    "        \n",
    "    # Change CRS to match Wildfire CRS (3857)\n",
    "    gdf_tf = gdf.to_crs(\"epsg:3857\")\n",
    "    \n",
    "    # pull x and y value out from the POINT attribute, then get\n",
    "    # the value in the data series at row[0]\n",
    "    x = gdf_tf.geometry.x.at[0]\n",
    "    y = gdf_tf.geometry.y.at[0]\n",
    "        \n",
    "    return (x,y)"
   ]
  },
  {
   "cell_type": "code",
   "execution_count": 7,
   "metadata": {},
   "outputs": [],
   "source": [
    "def convert_polygon(fire_polygon):\n",
    "    \"\"\"Convert Coord ref system (CRS) from fire data (EPSG 3857) to map \n",
    "    lat/long (EPSG 4326), polygon starts and ends on same point (to close it)\n",
    "    \n",
    "    Input: list containing tuples of x,y points in fire CRS that describe a polygon\n",
    "    Output: list containing tuples of lat/long points that describe the polygon\n",
    "    \"\"\"\n",
    "    \n",
    "    # create polygon\n",
    "    poly = geometry.Polygon([(p[0], p[1]) for p in fire_polygon])\n",
    "    \n",
    "    #CRS\n",
    "    src_crs = \"EPSG:3857\"\n",
    "    dst_crs = \"EPSG:4326\"\n",
    "    \n",
    "    # Create Geo DataFrame\n",
    "    gfp = gpd.GeoDataFrame(index=[0],crs=src_crs,geometry=[poly])\n",
    "    \n",
    "    # Convert CRS\n",
    "    gfp2 = gfp.to_crs(dst_crs)\n",
    "    \n",
    "    # pull data from dataframe\n",
    "    polyout = gfp2.iloc[0]['geometry']\n",
    "    \n",
    "    # create list of tuples, but longitude is first\n",
    "    l = list(map(tuple,np.asarray(polyout.exterior.coords)))\n",
    "    l = list(map(lambda m: (m[1],m[0]), l))\n",
    "    \n",
    "    return l"
   ]
  },
  {
   "cell_type": "code",
   "execution_count": 8,
   "metadata": {},
   "outputs": [],
   "source": [
    "def get_lat_loc(address):\n",
    "\t\"\"\"\n",
    "\tConvert a string of address to latitude and longitude \n",
    "\tInput: String \n",
    "\tOutput: latitude, longitude coordinate\n",
    "\t\"\"\"\n",
    "\n",
    "\tgeocoder = mapbox.Geocoder(access_token = MAPBOX_ACCESS_KEY)\n",
    "\tresponse = geocoder.forward(address)\n",
    "\taddress = response.json()\n",
    "\tadd_lat = address[\"features\"][0][\"center\"][1]\n",
    "\tadd_lon = address[\"features\"][0][\"center\"][0]\n",
    "\treturn add_lat, add_lon"
   ]
  },
  {
   "cell_type": "code",
   "execution_count": 9,
   "metadata": {},
   "outputs": [],
   "source": [
    "def points(poly):\n",
    "    return list(map(tuple,np.asarray(poly.exterior.coords)))"
   ]
  },
  {
   "cell_type": "code",
   "execution_count": 256,
   "metadata": {
    "jupyter": {
     "source_hidden": true
    }
   },
   "outputs": [],
   "source": [
    "def active_fire(lat_origin, lon_origin):\n",
    "\t\"\"\"\n",
    "\tFunction to find coordinates of active fires of given origin\n",
    "\tInput: latitude, longitude of input address (origin)\n",
    "\tOutput: List of active fires within certain miles of origin\n",
    "\t\"\"\"\n",
    "\n",
    "\t# set variables\n",
    "\tlat_geo = []\n",
    "\tlon_geo = []\n",
    "\tgeo_center = []\n",
    "\n",
    "\t# # read JSON on active fire\n",
    "\t# url = 'https://www.fire.ca.gov/umbraco/api/IncidentApi/List?inactive=true'\n",
    "\t# geo_data = requests.get(url).json()\n",
    "\n",
    "\t# # loop through list provided by Cal Fire and find active fire within certain miles of origin\n",
    "\t# for i in range(0,len(geo_data)):\n",
    "\t#     if geo_data[i]['IsActive'] == \"Y\":\n",
    "\t#         fire_lat = geo_data[i]['Latitude']\n",
    "\t#         fire_lon = geo_data[i]['Longitude']\n",
    "\t#         dist = great_circle(lat_origin, lon_origin, fire_lat, fire_lon)\n",
    "\t#         if dist <= 100:\n",
    "\t#         \tlat_geo.append(fire_lat)\n",
    "\t#         \tlon_geo.append(fire_lon)\n",
    "\n",
    "\t# geo_center = [[a, b] for a, b in zip(lon_geo, lat_geo)]\n",
    "\n",
    "\t# geo_center = [[-121.9230432, 36.52439536]]\n",
    "\n",
    "\t# return geo_center\n",
    "\n",
    "\t# read JSON on active fire\n",
    "\turl = 'https://opendata.arcgis.com/datasets/5da472c6d27b4b67970acc7b5044c862_0.geojson'\n",
    "\t# geo_data = requests.get(url).json()\t\n",
    "\tgeo_data = gpd.read_file(url)\n",
    "\n",
    "\tpoly_list = geo_data.geometry\n",
    "\n",
    "\tfor i in range(0,len(poly_list)):\n",
    "\n",
    "\t\tif len(geo_center) > 0:\n",
    "\t\t\tbreak\n",
    "\n",
    "\t\tif poly_list[i].geom_type == 'MultiPolygon':\n",
    "\n",
    "\t\t\tfor j in range(0, len(poly_list[i])):\n",
    "\n",
    "\t\t\t\tgeo_poly = points(poly_list[i][j])\n",
    "\n",
    "\t\t\t\tfor k in range(0, len(geo_poly)):\n",
    "\n",
    "\t\t\t\t\tfire_lon = geo_poly[k][0]\n",
    "\t\t\t\t\tfire_lat = geo_poly[k][1]\n",
    "\n",
    "\t\t\t\t\tdist = great_circle(lat_origin, lon_origin, fire_lat, fire_lon)\n",
    "\n",
    "\t\t\t\t\tif dist <= 100:\n",
    "\t\t\t\t\t\tgeo_center = [fire_lon, fire_lat]\n",
    "\t\t\t\t\t\tbreak\n",
    "\n",
    "\t\t\t\tif len(geo_center) > 0:\n",
    "\t\t\t\t\tbreak\n",
    "\n",
    "\t\t\tif len(geo_center) > 0:\n",
    "\t\t\t\tbreak\n",
    "\n",
    "\t\telse:\n",
    "\n",
    "\t\t\tgeo_poly = points(poly_list[i])\n",
    "\n",
    "\t\t\tfor j in range(0, len(geo_poly)):\n",
    "\n",
    "\t\t\t\tfire_lon = geo_poly[j][0]\n",
    "\t\t\t\tfire_lat = geo_poly[j][1]\n",
    "\n",
    "\t\t\t\tdist = great_circle(lat_origin, lon_origin, fire_lat, fire_lon)\n",
    "\n",
    "\t\t\t\tif dist <= 100:\n",
    "\t\t\t\t\tgeo_center = [fire_lon, fire_lat]\n",
    "\t\t\t\t\tbreak\n",
    "\n",
    "\t\t\tif len(geo_center) > 0:\n",
    "\t\t\t\tbreak\n",
    "\n",
    "\t\tif len(geo_center) > 0:\n",
    "\t\t\tbreak\n",
    "\t\telse:\n",
    "\t\t\tgeo_poly =[]\n",
    "\t\t\tbreak\n",
    "\n",
    "\treturn geo_center, geo_poly"
   ]
  },
  {
   "cell_type": "code",
   "execution_count": 22,
   "metadata": {},
   "outputs": [],
   "source": [
    "def active_fire(lat_origin, lon_origin):\n",
    "\t\"\"\"\n",
    "\tFunction to find coordinates of active fires of given origin\n",
    "\tInput: latitude, longitude of input address (origin)\n",
    "\tOutput: List of active fires within certain miles of origin\n",
    "\t\"\"\"\n",
    "\n",
    "\t# set variables\n",
    "\tlat_geo = []\n",
    "\tlon_geo = []\n",
    "\tgeo_center = []\n",
    "\tgeo_fire = []\n",
    "\n",
    "\t# # read JSON on active fire\n",
    "\t# url = 'https://www.fire.ca.gov/umbraco/api/IncidentApi/List?inactive=true'\n",
    "\t# geo_data = requests.get(url).json()\n",
    "\n",
    "\t# # loop through list provided by Cal Fire and find active fire within certain miles of origin\n",
    "\t# for i in range(0,len(geo_data)):\n",
    "\t#     if geo_data[i]['IsActive'] == \"Y\":\n",
    "\t#         fire_lat = geo_data[i]['Latitude']\n",
    "\t#         fire_lon = geo_data[i]['Longitude']\n",
    "\t#         dist = great_circle(lat_origin, lon_origin, fire_lat, fire_lon)\n",
    "\t#         if dist <= 100:\n",
    "\t#         \tlat_geo.append(fire_lat)\n",
    "\t#         \tlon_geo.append(fire_lon)\n",
    "\n",
    "\t# geo_center = [[a, b] for a, b in zip(lon_geo, lat_geo)]\n",
    "\n",
    "\t# geo_center = [[-121.9230432, 36.52439536]]\n",
    "\n",
    "\t# return geo_center\n",
    "\n",
    "\t# read JSON on active fire\n",
    "\turl = 'https://opendata.arcgis.com/datasets/5da472c6d27b4b67970acc7b5044c862_0.geojson'\n",
    "\t# geo_data = requests.get(url).json()\t\n",
    "\tgeo_data = gpd.read_file(url)\n",
    "\n",
    "\tpoly_list = geo_data.geometry\n",
    "\n",
    "\t# grab the first coordinates of all polygons to create list of active fires\n",
    "\n",
    "\tfor m in range(0,len(poly_list)):\n",
    "\n",
    "\t\tif poly_list[m].geom_type == 'MultiPolygon':\n",
    "\n",
    "\t\t\tgeo_poly = points(poly_list[m][0])\n",
    "\n",
    "\t\t\tfire_lon = geo_poly[0][0]\n",
    "\t\t\tfire_lat = geo_poly[0][1]\n",
    "\n",
    "\t\t\tlat_geo.append(fire_lat)\n",
    "\t\t\tlon_geo.append(fire_lon)\n",
    "\n",
    "\t\telse:\n",
    "\n",
    "\t\t\tgeo_poly = points(poly_list[m])\n",
    "\n",
    "\t\t\tfire_lon = geo_poly[0][0]\n",
    "\t\t\tfire_lat = geo_poly[0][1]\n",
    "\n",
    "\t\t\tlat_geo.append(fire_lat)\n",
    "\t\t\tlon_geo.append(fire_lon)\n",
    "\n",
    "\tgeo_fire = [[a, b] for a, b in zip(lon_geo, lat_geo)]\n",
    "\n",
    "\tgeo_poly = []\n",
    "\n",
    "\tfor i in range(0,len(poly_list)):\n",
    "\n",
    "\t\tif len(geo_center) > 0:\n",
    "\t\t\tbreak\n",
    "\n",
    "\t\tif poly_list[i].geom_type == 'MultiPolygon':\n",
    "\n",
    "\t\t\tfor j in range(0, len(poly_list[i])):\n",
    "\n",
    "\t\t\t\tgeo_poly = points(poly_list[i][j])\n",
    "\n",
    "\t\t\t\tfor k in range(0, len(geo_poly)):\n",
    "\n",
    "\t\t\t\t\tfire_lon = geo_poly[k][0]\n",
    "\t\t\t\t\tfire_lat = geo_poly[k][1]\n",
    "\n",
    "\t\t\t\t\tdist = great_circle(lat_origin, lon_origin, fire_lat, fire_lon)\n",
    "\n",
    "\t\t\t\t\tif dist <= 100:\n",
    "\t\t\t\t\t\tgeo_center = [fire_lon, fire_lat]\n",
    "\t\t\t\t\t\tbreak\n",
    "\n",
    "\t\t\t\tif len(geo_center) > 0:\n",
    "\t\t\t\t\tbreak\n",
    "\n",
    "\t\t\tif len(geo_center) > 0:\n",
    "\t\t\t\tbreak\n",
    "\n",
    "\t\telse:\n",
    "\n",
    "\t\t\tgeo_poly = points(poly_list[i])\n",
    "\n",
    "\t\t\tfor j in range(0, len(geo_poly)):\n",
    "\n",
    "\t\t\t\tfire_lon = geo_poly[j][0]\n",
    "\t\t\t\tfire_lat = geo_poly[j][1]\n",
    "\n",
    "\t\t\t\tdist = great_circle(lat_origin, lon_origin, fire_lat, fire_lon)\n",
    "\n",
    "\t\t\t\tif dist <= 100:\n",
    "\t\t\t\t\tgeo_center = [fire_lon, fire_lat]\n",
    "\t\t\t\t\tbreak\n",
    "\n",
    "\t\t\tif len(geo_center) > 0:\n",
    "\t\t\t\tbreak\n",
    "\n",
    "\t\tif len(geo_center) > 0:\n",
    "\t\t\tbreak\n",
    "\t\telse:\n",
    "\t\t\tgeo_poly =[]\n",
    "\t\t\tbreak\n",
    "\n",
    "\treturn geo_center, geo_poly, geo_fire"
   ]
  },
  {
   "cell_type": "code",
   "execution_count": 23,
   "metadata": {},
   "outputs": [],
   "source": [
    "add_lat = 26.16637548\n",
    "add_lon = -81.2183\n",
    "\n",
    "# add_lat = 20.8381\n",
    "# add_lon = -89.086"
   ]
  },
  {
   "cell_type": "code",
   "execution_count": 24,
   "metadata": {},
   "outputs": [],
   "source": [
    "cnn_poly =[]"
   ]
  },
  {
   "cell_type": "code",
   "execution_count": 26,
   "metadata": {},
   "outputs": [],
   "source": [
    "geo_center, geo_poly, geo_fire = active_fire(add_lat, add_lon)"
   ]
  },
  {
   "cell_type": "code",
   "execution_count": 27,
   "metadata": {},
   "outputs": [
    {
     "data": {
      "text/plain": [
       "[-81.218376301, 26.1663754840001]"
      ]
     },
     "execution_count": 27,
     "metadata": {},
     "output_type": "execute_result"
    }
   ],
   "source": [
    "geo_center"
   ]
  },
  {
   "cell_type": "code",
   "execution_count": 28,
   "metadata": {},
   "outputs": [
    {
     "data": {
      "text/plain": [
       "[(-81.218376301, 26.1663754840001),\n",
       " (-81.218523916, 26.1663752600001),\n",
       " (-81.218531151, 26.16629699),\n",
       " (-81.218376168, 26.166303885),\n",
       " (-81.218376301, 26.1663754840001)]"
      ]
     },
     "execution_count": 28,
     "metadata": {},
     "output_type": "execute_result"
    }
   ],
   "source": [
    "geo_poly"
   ]
  },
  {
   "cell_type": "code",
   "execution_count": 43,
   "metadata": {
    "scrolled": true
   },
   "outputs": [
    {
     "data": {
      "text/plain": [
       "[[-81.218376301, 26.1663754840001],\n",
       " [-119.3058, 43.36044],\n",
       " [-81.2211851759999, 25.8929962130001],\n",
       " [-81.23895498, 25.8777389570001],\n",
       " [-155.822277, 20.026630164],\n",
       " [-81.065588147, 26.1690533980001],\n",
       " [-119.890105734, 39.586447714],\n",
       " [-117.716826787, 40.7578426480001],\n",
       " [-117.727254994, 40.856503585],\n",
       " [-120.016606534, 39.9634069620001],\n",
       " [-109.685227079, 38.815516974],\n",
       " [-119.787447749, 39.8127838120001],\n",
       " [-119.915611558, 39.7030730540001],\n",
       " [-117.614953481, 41.971466923],\n",
       " [-78.7591101359999, 38.2392100120001],\n",
       " [-118.128895162, 40.445283653],\n",
       " [-87.3723336319999, 34.213034613],\n",
       " [-84.808704, 30.268151],\n",
       " [-122.922469, 39.7514810000001],\n",
       " [-94.2877044860817, 34.4447452486556],\n",
       " [-118.853425, 43.2886490000001],\n",
       " [-77.714422, 34.4719260000001],\n",
       " [-83.679064, 37.836416],\n",
       " [-86.1041099999999, 33.3485400000001],\n",
       " [-111.89324216, 39.97980075],\n",
       " [-115.020925524, 36.103205695],\n",
       " [-78.48009, 38.5169000000001],\n",
       " [-117.8374932, 41.5698244000001],\n",
       " [-80.556476, 25.6369780000001]]"
      ]
     },
     "execution_count": 43,
     "metadata": {},
     "output_type": "execute_result"
    }
   ],
   "source": [
    "geo_fire"
   ]
  },
  {
   "cell_type": "code",
   "execution_count": 31,
   "metadata": {},
   "outputs": [],
   "source": [
    "url = 'https://opendata.arcgis.com/datasets/5da472c6d27b4b67970acc7b5044c862_0.geojson'\n",
    "# geo_data = requests.get(url).json()\t\n",
    "geo_data = gpd.read_file(url)"
   ]
  },
  {
   "cell_type": "code",
   "execution_count": 32,
   "metadata": {},
   "outputs": [],
   "source": [
    "fire_names = []\n",
    "fire_names = geo_data.IncidentName"
   ]
  },
  {
   "cell_type": "code",
   "execution_count": 36,
   "metadata": {
    "scrolled": true
   },
   "outputs": [
    {
     "data": {
      "text/plain": [
       "0                   VANILLA\n",
       "1                 Old Tyler\n",
       "2                GRASS PINK\n",
       "3                  Car Fire\n",
       "4            Kalaupapa Fire\n",
       "5                     GHOST\n",
       "6                 Poeville \n",
       "7                     Harry\n",
       "8             Mullen Canyon\n",
       "9                   Ash Pit\n",
       "10              Salt Valley\n",
       "11                Ruby Hill\n",
       "12                  Redrock\n",
       "13                 Riverbed\n",
       "14    FURNACE MOUNTAIN FIRE\n",
       "15                    Vista\n",
       "16            BK MOODY BEND\n",
       "17                    Vilas\n",
       "18                 BASEBALL\n",
       "19          Little Mountain\n",
       "20                 Sodhouse\n",
       "21    Tram Road-Grassy Road\n",
       "22            Haystack Rock\n",
       "23                   TL 617\n",
       "24               Goshen Bay\n",
       "25          Wetlands CCFD 2\n",
       "26       TANNERS RIDGE FIRE\n",
       "27             South Valley\n",
       "28             Narrow Ditch\n",
       "Name: IncidentName, dtype: object"
      ]
     },
     "execution_count": 36,
     "metadata": {},
     "output_type": "execute_result"
    }
   ],
   "source": [
    "fire_names"
   ]
  },
  {
   "cell_type": "code",
   "execution_count": 37,
   "metadata": {},
   "outputs": [],
   "source": [
    "acres = geo_data.GISAcres"
   ]
  },
  {
   "cell_type": "code",
   "execution_count": 40,
   "metadata": {
    "scrolled": true
   },
   "outputs": [
    {
     "data": {
      "text/plain": [
       "0        0.030997\n",
       "1      132.978310\n",
       "2        0.097024\n",
       "3        0.292332\n",
       "4       20.332094\n",
       "5        0.218116\n",
       "6       68.784206\n",
       "7       58.016912\n",
       "8        0.286968\n",
       "9       13.284521\n",
       "10      20.114628\n",
       "11       0.497999\n",
       "12       0.229318\n",
       "13       1.482773\n",
       "14       1.759678\n",
       "15       1.567525\n",
       "16      11.933328\n",
       "17    7492.573491\n",
       "18      82.875856\n",
       "19      24.985175\n",
       "20     827.505655\n",
       "21    2511.753786\n",
       "22      13.871382\n",
       "23      20.660229\n",
       "24       5.779676\n",
       "25      19.376973\n",
       "26      23.995488\n",
       "27       0.780783\n",
       "28     800.388732\n",
       "Name: GISAcres, dtype: float64"
      ]
     },
     "execution_count": 40,
     "metadata": {},
     "output_type": "execute_result"
    }
   ],
   "source": [
    "acres"
   ]
  },
  {
   "cell_type": "code",
   "execution_count": 41,
   "metadata": {},
   "outputs": [],
   "source": [
    "geocoder = mapbox.Geocoder(access_token = MAPBOX_ACCESS_KEY)"
   ]
  },
  {
   "cell_type": "code",
   "execution_count": 44,
   "metadata": {},
   "outputs": [
    {
     "data": {
      "text/plain": [
       "-81.218376301"
      ]
     },
     "execution_count": 44,
     "metadata": {},
     "output_type": "execute_result"
    }
   ],
   "source": [
    "geo_fire[0][0]"
   ]
  },
  {
   "cell_type": "code",
   "execution_count": 79,
   "metadata": {},
   "outputs": [],
   "source": [
    "rev_lon = geo_fire[4][0]\n",
    "rev_lat = geo_fire[4][1]\n",
    "response = geocoder.reverse(lon=rev_lon, lat=rev_lat)"
   ]
  },
  {
   "cell_type": "code",
   "execution_count": 80,
   "metadata": {},
   "outputs": [],
   "source": [
    "features = response.geojson()['features']"
   ]
  },
  {
   "cell_type": "code",
   "execution_count": 81,
   "metadata": {
    "scrolled": true
   },
   "outputs": [
    {
     "data": {
      "text/plain": [
       "[{'id': 'address.252884303263200',\n",
       "  'type': 'Feature',\n",
       "  'place_type': ['address'],\n",
       "  'relevance': 1,\n",
       "  'properties': {'accuracy': 'street'},\n",
       "  'text': 'Ala Kahakai National Historic Trail',\n",
       "  'place_name': 'Ala Kahakai National Historic Trail, Kamuela, Hawaii 96743, United States',\n",
       "  'center': [-155.8233037, 20.0267343],\n",
       "  'geometry': {'type': 'Point', 'coordinates': [-155.8233037, 20.0267343]},\n",
       "  'context': [{'id': 'neighborhood.33511', 'text': 'Kawaihae 2 Ahupua`a'},\n",
       "   {'id': 'postcode.7476769730658950', 'text': '96743'},\n",
       "   {'id': 'place.8205012050152970', 'wikidata': 'Q1318641', 'text': 'Kamuela'},\n",
       "   {'id': 'region.10448214064622620',\n",
       "    'short_code': 'US-HI',\n",
       "    'wikidata': 'Q782',\n",
       "    'text': 'Hawaii'},\n",
       "   {'id': 'country.19352517729256050',\n",
       "    'short_code': 'us',\n",
       "    'wikidata': 'Q30',\n",
       "    'text': 'United States'}]},\n",
       " {'id': 'neighborhood.33511',\n",
       "  'type': 'Feature',\n",
       "  'place_type': ['neighborhood'],\n",
       "  'relevance': 1,\n",
       "  'properties': {},\n",
       "  'text': 'Kawaihae 2 Ahupua`a',\n",
       "  'place_name': 'Kawaihae 2 Ahupua`a, Kamuela, Hawaii 96743, United States',\n",
       "  'bbox': [-155.859304, 19.996903, -155.792012, 20.051219],\n",
       "  'center': [-155.8226, 20.0271],\n",
       "  'geometry': {'type': 'Point', 'coordinates': [-155.8226, 20.0271]},\n",
       "  'context': [{'id': 'postcode.7476769730658950', 'text': '96743'},\n",
       "   {'id': 'place.8205012050152970', 'wikidata': 'Q1318641', 'text': 'Kamuela'},\n",
       "   {'id': 'region.10448214064622620',\n",
       "    'short_code': 'US-HI',\n",
       "    'wikidata': 'Q782',\n",
       "    'text': 'Hawaii'},\n",
       "   {'id': 'country.19352517729256050',\n",
       "    'short_code': 'us',\n",
       "    'wikidata': 'Q30',\n",
       "    'text': 'United States'}]},\n",
       " {'id': 'postcode.7476769730658950',\n",
       "  'type': 'Feature',\n",
       "  'place_type': ['postcode'],\n",
       "  'relevance': 1,\n",
       "  'properties': {},\n",
       "  'text': '96743',\n",
       "  'place_name': 'Kamuela, Hawaii 96743, United States',\n",
       "  'bbox': [-155.923844748698,\n",
       "   19.5065922555139,\n",
       "   -155.490434226069,\n",
       "   20.2273319914592],\n",
       "  'center': [-155.86, 19.95],\n",
       "  'geometry': {'type': 'Point', 'coordinates': [-155.86, 19.95]},\n",
       "  'context': [{'id': 'place.8205012050152970',\n",
       "    'wikidata': 'Q1318641',\n",
       "    'text': 'Kamuela'},\n",
       "   {'id': 'region.10448214064622620',\n",
       "    'short_code': 'US-HI',\n",
       "    'wikidata': 'Q782',\n",
       "    'text': 'Hawaii'},\n",
       "   {'id': 'country.19352517729256050',\n",
       "    'short_code': 'us',\n",
       "    'wikidata': 'Q30',\n",
       "    'text': 'United States'}]},\n",
       " {'id': 'place.8205012050152970',\n",
       "  'type': 'Feature',\n",
       "  'place_type': ['place'],\n",
       "  'relevance': 1,\n",
       "  'properties': {'wikidata': 'Q1318641'},\n",
       "  'text': 'Kamuela',\n",
       "  'place_name': 'Kamuela, Hawaii, United States',\n",
       "  'bbox': [-155.923845627977,\n",
       "   19.5065913660112,\n",
       "   -155.490433354072,\n",
       "   20.2273329851938],\n",
       "  'center': [-155.86, 19.95],\n",
       "  'geometry': {'type': 'Point', 'coordinates': [-155.86, 19.95]},\n",
       "  'context': [{'id': 'region.10448214064622620',\n",
       "    'short_code': 'US-HI',\n",
       "    'wikidata': 'Q782',\n",
       "    'text': 'Hawaii'},\n",
       "   {'id': 'country.19352517729256050',\n",
       "    'short_code': 'us',\n",
       "    'wikidata': 'Q30',\n",
       "    'text': 'United States'}]},\n",
       " {'id': 'region.10448214064622620',\n",
       "  'type': 'Feature',\n",
       "  'place_type': ['region'],\n",
       "  'relevance': 1,\n",
       "  'properties': {'short_code': 'US-HI', 'wikidata': 'Q782'},\n",
       "  'text': 'Hawaii',\n",
       "  'place_name': 'Hawaii, United States',\n",
       "  'bbox': [-178.543590993475,\n",
       "   18.7655620028831,\n",
       "   -154.655840004587,\n",
       "   28.6171259909531],\n",
       "  'center': [-157.79639, 21.31139],\n",
       "  'geometry': {'type': 'Point', 'coordinates': [-157.79639, 21.31139]},\n",
       "  'context': [{'id': 'country.19352517729256050',\n",
       "    'short_code': 'us',\n",
       "    'wikidata': 'Q30',\n",
       "    'text': 'United States'}]},\n",
       " {'id': 'country.19352517729256050',\n",
       "  'type': 'Feature',\n",
       "  'place_type': ['country'],\n",
       "  'relevance': 1,\n",
       "  'properties': {'short_code': 'us', 'wikidata': 'Q30'},\n",
       "  'text': 'United States',\n",
       "  'place_name': 'United States',\n",
       "  'bbox': [-179.9, 18.7655620028831, -66.8854430000034, 71.5407249966462],\n",
       "  'center': [-100, 40],\n",
       "  'geometry': {'type': 'Point', 'coordinates': [-100, 40]}}]"
      ]
     },
     "execution_count": 81,
     "metadata": {},
     "output_type": "execute_result"
    }
   ],
   "source": [
    "features"
   ]
  },
  {
   "cell_type": "code",
   "execution_count": 97,
   "metadata": {},
   "outputs": [
    {
     "name": "stdout",
     "output_type": "stream",
     "text": [
      "Southwest 136th Street, Miami, Florida 33187, United States\n"
     ]
    }
   ],
   "source": [
    "print('{place_name}'.format(**features[0]))"
   ]
  },
  {
   "cell_type": "code",
   "execution_count": 86,
   "metadata": {},
   "outputs": [
    {
     "data": {
      "text/plain": [
       "'Ala Kahakai National Historic Trail, Kamuela, Hawaii 96743, United States'"
      ]
     },
     "execution_count": 86,
     "metadata": {},
     "output_type": "execute_result"
    }
   ],
   "source": [
    "features[0][\"place_name\"]"
   ]
  },
  {
   "cell_type": "code",
   "execution_count": 67,
   "metadata": {},
   "outputs": [
    {
     "data": {
      "text/plain": [
       "'Florida'"
      ]
     },
     "execution_count": 67,
     "metadata": {},
     "output_type": "execute_result"
    }
   ],
   "source": [
    "features[0][\"context\"][2][\"text\"]"
   ]
  },
  {
   "cell_type": "code",
   "execution_count": 100,
   "metadata": {},
   "outputs": [],
   "source": [
    "# city_input = []\n",
    "# state_input = []\n",
    "loc_output = []\n",
    "\n",
    "for l in range(0,len(geo_fire)):\n",
    "    rev_lon = geo_fire[l][0]\n",
    "    rev_lat = geo_fire[l][1]\n",
    "    response = geocoder.reverse(lon=rev_lon, lat=rev_lat)\n",
    "    features = response.geojson()['features']\n",
    "    loc_name = features[0][\"place_name\"]\n",
    "#     city_feature = str(features[0][\"context\"][1][\"text\"])\n",
    "#     state_feature = features[0][\"context\"][2][\"text\"]\n",
    "#     city_input.append(city_feature.strip())\n",
    "#     state_input.append(state_feature)\n",
    "    loc_output.append(loc_name)\n",
    "    \n",
    "# loc_output = [[a, b] for a, b in zip(city_input, state_input)]\n",
    "    "
   ]
  },
  {
   "cell_type": "code",
   "execution_count": 111,
   "metadata": {},
   "outputs": [],
   "source": [
    "firename = []\n",
    "\n",
    "for f in range(0,len(fire_names)):\n",
    "    firename.append(fire_names[f])\n"
   ]
  },
  {
   "cell_type": "code",
   "execution_count": 112,
   "metadata": {
    "scrolled": true
   },
   "outputs": [],
   "source": [
    "fireacre = []\n",
    "\n",
    "for a in range(0,len(acres)):\n",
    "    fireacre.append(acres[a])"
   ]
  },
  {
   "cell_type": "code",
   "execution_count": 113,
   "metadata": {},
   "outputs": [],
   "source": [
    "firename = pd.Series(firename)"
   ]
  },
  {
   "cell_type": "code",
   "execution_count": 114,
   "metadata": {},
   "outputs": [],
   "source": [
    "fireacre = pd.Series(fireacre)"
   ]
  },
  {
   "cell_type": "code",
   "execution_count": 115,
   "metadata": {},
   "outputs": [],
   "source": [
    "fireloc = pd.Series(loc_output)"
   ]
  },
  {
   "cell_type": "code",
   "execution_count": 120,
   "metadata": {},
   "outputs": [],
   "source": [
    "df = {\"Current Active Fire Name\": firename, \"Fire Location\": fireloc, \"Acre Burned\": fireacre } "
   ]
  },
  {
   "cell_type": "code",
   "execution_count": 121,
   "metadata": {},
   "outputs": [],
   "source": [
    "fire_table = pd.DataFrame(df)"
   ]
  },
  {
   "cell_type": "code",
   "execution_count": 122,
   "metadata": {},
   "outputs": [
    {
     "data": {
      "text/html": [
       "<div>\n",
       "<style scoped>\n",
       "    .dataframe tbody tr th:only-of-type {\n",
       "        vertical-align: middle;\n",
       "    }\n",
       "\n",
       "    .dataframe tbody tr th {\n",
       "        vertical-align: top;\n",
       "    }\n",
       "\n",
       "    .dataframe thead th {\n",
       "        text-align: right;\n",
       "    }\n",
       "</style>\n",
       "<table border=\"1\" class=\"dataframe\">\n",
       "  <thead>\n",
       "    <tr style=\"text-align: right;\">\n",
       "      <th></th>\n",
       "      <th>Current Active Fire Name</th>\n",
       "      <th>Fire Location</th>\n",
       "      <th>Acre Burned</th>\n",
       "    </tr>\n",
       "  </thead>\n",
       "  <tbody>\n",
       "    <tr>\n",
       "      <th>0</th>\n",
       "      <td>VANILLA</td>\n",
       "      <td>Alligator Alley, Ochopee, Florida 34141, Unite...</td>\n",
       "      <td>0.030997</td>\n",
       "    </tr>\n",
       "    <tr>\n",
       "      <th>1</th>\n",
       "      <td>Old Tyler</td>\n",
       "      <td>Double O Road, Princeton, Oregon 97721, United...</td>\n",
       "      <td>132.978310</td>\n",
       "    </tr>\n",
       "    <tr>\n",
       "      <th>2</th>\n",
       "      <td>GRASS PINK</td>\n",
       "      <td>18400 Burns Road, Ochopee, Florida 34141, Unit...</td>\n",
       "      <td>0.097024</td>\n",
       "    </tr>\n",
       "    <tr>\n",
       "      <th>3</th>\n",
       "      <td>Car Fire</td>\n",
       "      <td>44100 Tamiami Trail, Ochopee, Florida 34141, U...</td>\n",
       "      <td>0.292332</td>\n",
       "    </tr>\n",
       "    <tr>\n",
       "      <th>4</th>\n",
       "      <td>Kalaupapa Fire</td>\n",
       "      <td>Ala Kahakai National Historic Trail, Kamuela, ...</td>\n",
       "      <td>20.332094</td>\n",
       "    </tr>\n",
       "    <tr>\n",
       "      <th>5</th>\n",
       "      <td>GHOST</td>\n",
       "      <td>Alligator Alley, Ochopee, Florida 34141, Unite...</td>\n",
       "      <td>0.218116</td>\n",
       "    </tr>\n",
       "    <tr>\n",
       "      <th>6</th>\n",
       "      <td>Poeville</td>\n",
       "      <td>Reno, Nevada 89506, United States</td>\n",
       "      <td>68.784206</td>\n",
       "    </tr>\n",
       "    <tr>\n",
       "      <th>7</th>\n",
       "      <td>Harry</td>\n",
       "      <td>Grass Valley Road, Winnemucca, Nevada 89445, U...</td>\n",
       "      <td>58.016912</td>\n",
       "    </tr>\n",
       "    <tr>\n",
       "      <th>8</th>\n",
       "      <td>Mullen Canyon</td>\n",
       "      <td>0 T34 R38 Sec 5, Winnemucca, Nevada 89445, Uni...</td>\n",
       "      <td>0.286968</td>\n",
       "    </tr>\n",
       "    <tr>\n",
       "      <th>9</th>\n",
       "      <td>Ash Pit</td>\n",
       "      <td>Homestead Ranch Road, Doyle, California 96109,...</td>\n",
       "      <td>13.284521</td>\n",
       "    </tr>\n",
       "    <tr>\n",
       "      <th>10</th>\n",
       "      <td>Salt Valley</td>\n",
       "      <td>Salt Valley Road, Moab, Utah 84532, United States</td>\n",
       "      <td>20.114628</td>\n",
       "    </tr>\n",
       "    <tr>\n",
       "      <th>11</th>\n",
       "      <td>Ruby Hill</td>\n",
       "      <td>Prospect Hill Road, Reno, Nevada 89510, United...</td>\n",
       "      <td>0.497999</td>\n",
       "    </tr>\n",
       "    <tr>\n",
       "      <th>12</th>\n",
       "      <td>Redrock</td>\n",
       "      <td>County Road 161, Reno, Nevada 89508, United St...</td>\n",
       "      <td>0.229318</td>\n",
       "    </tr>\n",
       "    <tr>\n",
       "      <th>13</th>\n",
       "      <td>Riverbed</td>\n",
       "      <td>North Road, Mc Dermitt, Nevada 89421, United S...</td>\n",
       "      <td>1.482773</td>\n",
       "    </tr>\n",
       "    <tr>\n",
       "      <th>14</th>\n",
       "      <td>FURNACE MOUNTAIN FIRE</td>\n",
       "      <td>Furnace Mountain Summit Spur, Grottoes, Virgin...</td>\n",
       "      <td>1.759678</td>\n",
       "    </tr>\n",
       "    <tr>\n",
       "      <th>15</th>\n",
       "      <td>Vista</td>\n",
       "      <td>3125 Unionville Road, Lovelock, Nevada 89419, ...</td>\n",
       "      <td>1.567525</td>\n",
       "    </tr>\n",
       "    <tr>\n",
       "      <th>16</th>\n",
       "      <td>BK MOODY BEND</td>\n",
       "      <td>Alabama Highway 33, Double Springs, Alabama 35...</td>\n",
       "      <td>11.933328</td>\n",
       "    </tr>\n",
       "    <tr>\n",
       "      <th>17</th>\n",
       "      <td>Vilas</td>\n",
       "      <td>National Forest Road, Hosford, Florida 32334, ...</td>\n",
       "      <td>7492.573491</td>\n",
       "    </tr>\n",
       "    <tr>\n",
       "      <th>18</th>\n",
       "      <td>BASEBALL</td>\n",
       "      <td>Road 8022, Elk Creek, California 95939, United...</td>\n",
       "      <td>82.875856</td>\n",
       "    </tr>\n",
       "    <tr>\n",
       "      <th>19</th>\n",
       "      <td>Little Mountain</td>\n",
       "      <td>Polk Road 408, Cove, Arkansas 71937, United St...</td>\n",
       "      <td>24.985175</td>\n",
       "    </tr>\n",
       "    <tr>\n",
       "      <th>20</th>\n",
       "      <td>Sodhouse</td>\n",
       "      <td>Burns, Oregon 97720, United States</td>\n",
       "      <td>827.505655</td>\n",
       "    </tr>\n",
       "    <tr>\n",
       "      <th>21</th>\n",
       "      <td>Tram Road-Grassy Road</td>\n",
       "      <td>Military Road, Hampstead, North Carolina 28443...</td>\n",
       "      <td>2511.753786</td>\n",
       "    </tr>\n",
       "    <tr>\n",
       "      <th>22</th>\n",
       "      <td>Haystack Rock</td>\n",
       "      <td>Courthouse Rock Trail (#202), Stanton, Kentuck...</td>\n",
       "      <td>13.871382</td>\n",
       "    </tr>\n",
       "    <tr>\n",
       "      <th>23</th>\n",
       "      <td>TL 617</td>\n",
       "      <td>Scott Road, Talladega, Alabama 35160, United S...</td>\n",
       "      <td>20.660229</td>\n",
       "    </tr>\n",
       "    <tr>\n",
       "      <th>24</th>\n",
       "      <td>Goshen Bay</td>\n",
       "      <td>West 14000 South, Goshen, Utah 84633, United S...</td>\n",
       "      <td>5.779676</td>\n",
       "    </tr>\n",
       "    <tr>\n",
       "      <th>25</th>\n",
       "      <td>Wetlands CCFD 2</td>\n",
       "      <td>Wetlands Park, Las Vegas, Nevada 89122, United...</td>\n",
       "      <td>19.376973</td>\n",
       "    </tr>\n",
       "    <tr>\n",
       "      <th>26</th>\n",
       "      <td>TANNERS RIDGE FIRE</td>\n",
       "      <td>Tanners Ridge Road, Stanley, Virginia 22851, U...</td>\n",
       "      <td>23.995488</td>\n",
       "    </tr>\n",
       "    <tr>\n",
       "      <th>27</th>\n",
       "      <td>South Valley</td>\n",
       "      <td>2500 Kings River Road, Winnemucca, Nevada 8944...</td>\n",
       "      <td>0.780783</td>\n",
       "    </tr>\n",
       "    <tr>\n",
       "      <th>28</th>\n",
       "      <td>Narrow Ditch</td>\n",
       "      <td>Southwest 136th Street, Miami, Florida 33187, ...</td>\n",
       "      <td>800.388732</td>\n",
       "    </tr>\n",
       "  </tbody>\n",
       "</table>\n",
       "</div>"
      ],
      "text/plain": [
       "   Current Active Fire Name  \\\n",
       "0                   VANILLA   \n",
       "1                 Old Tyler   \n",
       "2                GRASS PINK   \n",
       "3                  Car Fire   \n",
       "4            Kalaupapa Fire   \n",
       "5                     GHOST   \n",
       "6                 Poeville    \n",
       "7                     Harry   \n",
       "8             Mullen Canyon   \n",
       "9                   Ash Pit   \n",
       "10              Salt Valley   \n",
       "11                Ruby Hill   \n",
       "12                  Redrock   \n",
       "13                 Riverbed   \n",
       "14    FURNACE MOUNTAIN FIRE   \n",
       "15                    Vista   \n",
       "16            BK MOODY BEND   \n",
       "17                    Vilas   \n",
       "18                 BASEBALL   \n",
       "19          Little Mountain   \n",
       "20                 Sodhouse   \n",
       "21    Tram Road-Grassy Road   \n",
       "22            Haystack Rock   \n",
       "23                   TL 617   \n",
       "24               Goshen Bay   \n",
       "25          Wetlands CCFD 2   \n",
       "26       TANNERS RIDGE FIRE   \n",
       "27             South Valley   \n",
       "28             Narrow Ditch   \n",
       "\n",
       "                                        Fire Location  Acre Burned  \n",
       "0   Alligator Alley, Ochopee, Florida 34141, Unite...     0.030997  \n",
       "1   Double O Road, Princeton, Oregon 97721, United...   132.978310  \n",
       "2   18400 Burns Road, Ochopee, Florida 34141, Unit...     0.097024  \n",
       "3   44100 Tamiami Trail, Ochopee, Florida 34141, U...     0.292332  \n",
       "4   Ala Kahakai National Historic Trail, Kamuela, ...    20.332094  \n",
       "5   Alligator Alley, Ochopee, Florida 34141, Unite...     0.218116  \n",
       "6                   Reno, Nevada 89506, United States    68.784206  \n",
       "7   Grass Valley Road, Winnemucca, Nevada 89445, U...    58.016912  \n",
       "8   0 T34 R38 Sec 5, Winnemucca, Nevada 89445, Uni...     0.286968  \n",
       "9   Homestead Ranch Road, Doyle, California 96109,...    13.284521  \n",
       "10  Salt Valley Road, Moab, Utah 84532, United States    20.114628  \n",
       "11  Prospect Hill Road, Reno, Nevada 89510, United...     0.497999  \n",
       "12  County Road 161, Reno, Nevada 89508, United St...     0.229318  \n",
       "13  North Road, Mc Dermitt, Nevada 89421, United S...     1.482773  \n",
       "14  Furnace Mountain Summit Spur, Grottoes, Virgin...     1.759678  \n",
       "15  3125 Unionville Road, Lovelock, Nevada 89419, ...     1.567525  \n",
       "16  Alabama Highway 33, Double Springs, Alabama 35...    11.933328  \n",
       "17  National Forest Road, Hosford, Florida 32334, ...  7492.573491  \n",
       "18  Road 8022, Elk Creek, California 95939, United...    82.875856  \n",
       "19  Polk Road 408, Cove, Arkansas 71937, United St...    24.985175  \n",
       "20                 Burns, Oregon 97720, United States   827.505655  \n",
       "21  Military Road, Hampstead, North Carolina 28443...  2511.753786  \n",
       "22  Courthouse Rock Trail (#202), Stanton, Kentuck...    13.871382  \n",
       "23  Scott Road, Talladega, Alabama 35160, United S...    20.660229  \n",
       "24  West 14000 South, Goshen, Utah 84633, United S...     5.779676  \n",
       "25  Wetlands Park, Las Vegas, Nevada 89122, United...    19.376973  \n",
       "26  Tanners Ridge Road, Stanley, Virginia 22851, U...    23.995488  \n",
       "27  2500 Kings River Road, Winnemucca, Nevada 8944...     0.780783  \n",
       "28  Southwest 136th Street, Miami, Florida 33187, ...   800.388732  "
      ]
     },
     "execution_count": 122,
     "metadata": {},
     "output_type": "execute_result"
    }
   ],
   "source": [
    "fire_table"
   ]
  },
  {
   "cell_type": "code",
   "execution_count": 18,
   "metadata": {},
   "outputs": [],
   "source": [
    "coords = [(-123.5,39), (-119.5,39), (-119.5,36), (-123.5,36),(-123.5,39)]"
   ]
  },
  {
   "cell_type": "code",
   "execution_count": 19,
   "metadata": {},
   "outputs": [],
   "source": [
    "poly_bound = Polygon(coords)"
   ]
  },
  {
   "cell_type": "code",
   "execution_count": 20,
   "metadata": {},
   "outputs": [
    {
     "data": {
      "image/svg+xml": [
       "<svg xmlns=\"http://www.w3.org/2000/svg\" xmlns:xlink=\"http://www.w3.org/1999/xlink\" width=\"100.0\" height=\"100.0\" viewBox=\"-123.66 35.84 4.319999999999993 3.319999999999993\" preserveAspectRatio=\"xMinYMin meet\"><g transform=\"matrix(1,0,0,-1,0,75.0)\"><path fill-rule=\"evenodd\" fill=\"#66cc99\" stroke=\"#555555\" stroke-width=\"0.08639999999999987\" opacity=\"0.6\" d=\"M -123.5,39.0 L -119.5,39.0 L -119.5,36.0 L -123.5,36.0 L -123.5,39.0 z\" /></g></svg>"
      ],
      "text/plain": [
       "<shapely.geometry.polygon.Polygon at 0x1270ca050>"
      ]
     },
     "execution_count": 20,
     "metadata": {},
     "output_type": "execute_result"
    }
   ],
   "source": [
    "poly_bound"
   ]
  },
  {
   "cell_type": "code",
   "execution_count": 23,
   "metadata": {},
   "outputs": [],
   "source": [
    "point_interest = Point(-122.5,38)"
   ]
  },
  {
   "cell_type": "code",
   "execution_count": 24,
   "metadata": {},
   "outputs": [
    {
     "data": {
      "text/plain": [
       "True"
      ]
     },
     "execution_count": 24,
     "metadata": {},
     "output_type": "execute_result"
    }
   ],
   "source": [
    "point_interest.within(poly_bound)"
   ]
  },
  {
   "cell_type": "code",
   "execution_count": null,
   "metadata": {},
   "outputs": [],
   "source": []
  },
  {
   "cell_type": "code",
   "execution_count": 12,
   "metadata": {},
   "outputs": [],
   "source": [
    "# Create Point objects\n",
    "p1 = Point(24.952242, 60.1696017)\n",
    "p2 = Point(24.976567, 60.1612500)\n",
    "\n",
    "# Create a Polygon\n",
    "coords = [(24.950899, 60.169158), (24.953492, 60.169158), (24.953510, 60.170104), (24.950958, 60.169990)]\n",
    "poly = Polygon(coords)"
   ]
  },
  {
   "cell_type": "code",
   "execution_count": 13,
   "metadata": {},
   "outputs": [
    {
     "data": {
      "text/plain": [
       "True"
      ]
     },
     "execution_count": 13,
     "metadata": {},
     "output_type": "execute_result"
    }
   ],
   "source": [
    "p1.within(poly)"
   ]
  },
  {
   "cell_type": "code",
   "execution_count": 14,
   "metadata": {},
   "outputs": [
    {
     "data": {
      "text/plain": [
       "False"
      ]
     },
     "execution_count": 14,
     "metadata": {},
     "output_type": "execute_result"
    }
   ],
   "source": [
    "p2.within(poly)"
   ]
  },
  {
   "cell_type": "code",
   "execution_count": 33,
   "metadata": {},
   "outputs": [],
   "source": [
    "def chk_polygon(pt_lon, pt_lat):\n",
    "\t\"\"\"\n",
    "\tThis function checks to see if address entered is within the polygon of data the model is trained on\n",
    "\tInput: string\n",
    "\tOutput: string, true or false\n",
    "\t\"\"\"\n",
    "\n",
    "\tcoords = [(-123.5,39), (-119.5,39), (-119.5,36), (-123.5,36),(-123.5,39)]\n",
    "\tpoly_bound = Polygon(coords)\n",
    "\tpoint_interest = Point(pt_lon, pt_lat)\n",
    "\tresult = point_interest.within(poly_bound)\n",
    "\n",
    "\treturn result"
   ]
  },
  {
   "cell_type": "code",
   "execution_count": 36,
   "metadata": {},
   "outputs": [],
   "source": [
    "answer = chk_polygon(-122.5,39)"
   ]
  },
  {
   "cell_type": "code",
   "execution_count": 45,
   "metadata": {},
   "outputs": [
    {
     "name": "stdout",
     "output_type": "stream",
     "text": [
      "y\n"
     ]
    }
   ],
   "source": [
    "if chk_polygon(-122.5,38):\n",
    "    print(\"y\")\n",
    "else:\n",
    "    phrase = \"There is no active fire near this area.\""
   ]
  },
  {
   "cell_type": "code",
   "execution_count": 46,
   "metadata": {},
   "outputs": [
    {
     "data": {
      "text/plain": [
       "'There is no active fire near this area.'"
      ]
     },
     "execution_count": 46,
     "metadata": {},
     "output_type": "execute_result"
    }
   ],
   "source": [
    "phrase"
   ]
  },
  {
   "cell_type": "code",
   "execution_count": 5,
   "metadata": {},
   "outputs": [],
   "source": [
    "poly_shape = [[-121.923043159997,36.5243953595764],[-121.895555446772,36.5243953595764],[-121.927624445535,36.5207136879198],[-121.886392875697,36.5207136879198],[-121.927624445535,36.5170318410666],[-121.886392875697,36.5170318410666],[-121.932205731072,36.5133498190239],[-121.872649019084,36.5133498190239],[-121.932205731072,36.5096676217985],[-121.872649019084,36.5096676217985],[-121.932205731072,36.5059852493972],[-121.868067733547,36.5059852493972],[-121.932205731072,36.5023027018269],[-121.868067733547,36.5023027018269],[-121.93678701661,36.4986199790946],[-121.868067733547,36.4986199790946],[-121.93678701661,36.494937081207],[-121.868067733547,36.494937081207],[-121.932205731072,36.4912540081711],[-121.868067733547,36.4912540081711],[-121.932205731072,36.4875707599937],[-121.868067733547,36.4875707599937],[-121.932205731072,36.4838873366818],[-121.858905162472,36.4838873366818],[-121.932205731072,36.4802037382423],[-121.868067733547,36.4802037382423],[-121.932205731072,36.476519964682],[-121.858905162472,36.476519964682],[-121.932205731072,36.4728360160079],[-121.854323876934,36.4728360160079],[-121.932205731072,36.4691518922269],[-121.822254878171,36.4691518922269],[-121.932205731072,36.4654675933458],[-121.813092307096,36.4654675933458],[-121.927624445535,36.4617831193716],[-121.808511021559,36.4617831193716],[-121.932205731072,36.4580984703112],[-121.808511021559,36.4580984703112],[-121.932205731072,36.4544136461716],[-121.803929736021,36.4544136461716],[-121.93678701661,36.4507286469595],[-121.794767164946,36.4507286469595],[-121.950530873222,36.4470434726821],[-121.895555446772,36.4470434726821],[-121.890974161234,36.4470434726821],[-121.886392875697,36.4470434726821],[-121.881811590159,36.4470434726821],[-121.794767164946,36.4470434726821],[-121.950530873222,36.4433581233461],[-121.886392875697,36.4433581233461],[-121.881811590159,36.4433581233461],[-121.790185879409,36.4433581233461],[-121.950530873222,36.4396725989586],[-121.895555446772,36.4396725989586],[-121.881811590159,36.4396725989586],[-121.790185879409,36.4396725989586],[-121.950530873222,36.4359868995264],[-121.785604593871,36.4359868995264],[-121.950530873222,36.4323010250566],[-121.785604593871,36.4323010250566],[-121.950530873222,36.428614975556],[-121.781023308334,36.428614975556],[-121.950530873222,36.4249287510315],[-121.895555446772,36.4249287510315],[-121.872649019084,36.4249287510315],[-121.781023308334,36.4249287510315],[-121.950530873222,36.4212423514902],[-121.895555446772,36.4212423514902],[-121.872649019084,36.4212423514902],[-121.776442022796,36.4212423514902],[-121.950530873222,36.417555776939],[-121.895555446772,36.417555776939],[-121.872649019084,36.417555776939],[-121.776442022796,36.417555776939],[-121.941368302147,36.4138690273849],[-121.900136732309,36.4138690273849],[-121.863486448009,36.4138690273849],[-121.776442022796,36.4138690273849],[-121.932205731072,36.4101821028348],[-121.904718017847,36.4101821028348],[-121.863486448009,36.4101821028348],[-121.776442022796,36.4101821028348],[-121.932205731072,36.4064950032956],[-121.909299303385,36.4064950032956],[-121.863486448009,36.4064950032956],[-121.776442022796,36.4064950032956],[-121.932205731072,36.4028077287743],[-121.909299303385,36.4028077287743],[-121.863486448009,36.4028077287743],[-121.776442022796,36.4028077287743],[-121.923043159997,36.399120279278],[-121.91846187446,36.399120279278],[-121.863486448009,36.399120279278],[-121.776442022796,36.399120279278],[-121.863486448009,36.3954326548135],[-121.776442022796,36.3954326548135],[-121.863486448009,36.3917448553878],[-121.781023308334,36.3917448553878],[-121.863486448009,36.388056881008],[-121.781023308334,36.388056881008],[-121.863486448009,36.3843687316809],[-121.785604593871,36.3843687316809],[-121.863486448009,36.3806804074137],[-121.790185879409,36.3806804074137],[-121.858905162472,36.3769919082132],[-121.794767164946,36.3769919082132],[-121.858905162472,36.3733032340865],[-121.794767164946,36.3733032340865],[-121.858905162472,36.3696143850405],[-121.799348450484,36.3696143850405],[-121.858905162472,36.3659253610823],[-121.799348450484,36.3659253610823],[-121.849742591397,36.3622361622188],[-121.813092307096,36.3622361622188],[-121.831417449246,36.3585467884571],[-121.826836163709,36.3585467884571],[-121.923043159997,36.5243953595764]]\n",
    "\n",
    "map_output = poly_shape"
   ]
  },
  {
   "cell_type": "code",
   "execution_count": 6,
   "metadata": {},
   "outputs": [
    {
     "data": {
      "text/plain": [
       "[[-121.923043159997, 36.5243953595764],\n",
       " [-121.895555446772, 36.5243953595764],\n",
       " [-121.927624445535, 36.5207136879198],\n",
       " [-121.886392875697, 36.5207136879198],\n",
       " [-121.927624445535, 36.5170318410666],\n",
       " [-121.886392875697, 36.5170318410666],\n",
       " [-121.932205731072, 36.5133498190239],\n",
       " [-121.872649019084, 36.5133498190239],\n",
       " [-121.932205731072, 36.5096676217985],\n",
       " [-121.872649019084, 36.5096676217985],\n",
       " [-121.932205731072, 36.5059852493972],\n",
       " [-121.868067733547, 36.5059852493972],\n",
       " [-121.932205731072, 36.5023027018269],\n",
       " [-121.868067733547, 36.5023027018269],\n",
       " [-121.93678701661, 36.4986199790946],\n",
       " [-121.868067733547, 36.4986199790946],\n",
       " [-121.93678701661, 36.494937081207],\n",
       " [-121.868067733547, 36.494937081207],\n",
       " [-121.932205731072, 36.4912540081711],\n",
       " [-121.868067733547, 36.4912540081711],\n",
       " [-121.932205731072, 36.4875707599937],\n",
       " [-121.868067733547, 36.4875707599937],\n",
       " [-121.932205731072, 36.4838873366818],\n",
       " [-121.858905162472, 36.4838873366818],\n",
       " [-121.932205731072, 36.4802037382423],\n",
       " [-121.868067733547, 36.4802037382423],\n",
       " [-121.932205731072, 36.476519964682],\n",
       " [-121.858905162472, 36.476519964682],\n",
       " [-121.932205731072, 36.4728360160079],\n",
       " [-121.854323876934, 36.4728360160079],\n",
       " [-121.932205731072, 36.4691518922269],\n",
       " [-121.822254878171, 36.4691518922269],\n",
       " [-121.932205731072, 36.4654675933458],\n",
       " [-121.813092307096, 36.4654675933458],\n",
       " [-121.927624445535, 36.4617831193716],\n",
       " [-121.808511021559, 36.4617831193716],\n",
       " [-121.932205731072, 36.4580984703112],\n",
       " [-121.808511021559, 36.4580984703112],\n",
       " [-121.932205731072, 36.4544136461716],\n",
       " [-121.803929736021, 36.4544136461716],\n",
       " [-121.93678701661, 36.4507286469595],\n",
       " [-121.794767164946, 36.4507286469595],\n",
       " [-121.950530873222, 36.4470434726821],\n",
       " [-121.895555446772, 36.4470434726821],\n",
       " [-121.890974161234, 36.4470434726821],\n",
       " [-121.886392875697, 36.4470434726821],\n",
       " [-121.881811590159, 36.4470434726821],\n",
       " [-121.794767164946, 36.4470434726821],\n",
       " [-121.950530873222, 36.4433581233461],\n",
       " [-121.886392875697, 36.4433581233461],\n",
       " [-121.881811590159, 36.4433581233461],\n",
       " [-121.790185879409, 36.4433581233461],\n",
       " [-121.950530873222, 36.4396725989586],\n",
       " [-121.895555446772, 36.4396725989586],\n",
       " [-121.881811590159, 36.4396725989586],\n",
       " [-121.790185879409, 36.4396725989586],\n",
       " [-121.950530873222, 36.4359868995264],\n",
       " [-121.785604593871, 36.4359868995264],\n",
       " [-121.950530873222, 36.4323010250566],\n",
       " [-121.785604593871, 36.4323010250566],\n",
       " [-121.950530873222, 36.428614975556],\n",
       " [-121.781023308334, 36.428614975556],\n",
       " [-121.950530873222, 36.4249287510315],\n",
       " [-121.895555446772, 36.4249287510315],\n",
       " [-121.872649019084, 36.4249287510315],\n",
       " [-121.781023308334, 36.4249287510315],\n",
       " [-121.950530873222, 36.4212423514902],\n",
       " [-121.895555446772, 36.4212423514902],\n",
       " [-121.872649019084, 36.4212423514902],\n",
       " [-121.776442022796, 36.4212423514902],\n",
       " [-121.950530873222, 36.417555776939],\n",
       " [-121.895555446772, 36.417555776939],\n",
       " [-121.872649019084, 36.417555776939],\n",
       " [-121.776442022796, 36.417555776939],\n",
       " [-121.941368302147, 36.4138690273849],\n",
       " [-121.900136732309, 36.4138690273849],\n",
       " [-121.863486448009, 36.4138690273849],\n",
       " [-121.776442022796, 36.4138690273849],\n",
       " [-121.932205731072, 36.4101821028348],\n",
       " [-121.904718017847, 36.4101821028348],\n",
       " [-121.863486448009, 36.4101821028348],\n",
       " [-121.776442022796, 36.4101821028348],\n",
       " [-121.932205731072, 36.4064950032956],\n",
       " [-121.909299303385, 36.4064950032956],\n",
       " [-121.863486448009, 36.4064950032956],\n",
       " [-121.776442022796, 36.4064950032956],\n",
       " [-121.932205731072, 36.4028077287743],\n",
       " [-121.909299303385, 36.4028077287743],\n",
       " [-121.863486448009, 36.4028077287743],\n",
       " [-121.776442022796, 36.4028077287743],\n",
       " [-121.923043159997, 36.399120279278],\n",
       " [-121.91846187446, 36.399120279278],\n",
       " [-121.863486448009, 36.399120279278],\n",
       " [-121.776442022796, 36.399120279278],\n",
       " [-121.863486448009, 36.3954326548135],\n",
       " [-121.776442022796, 36.3954326548135],\n",
       " [-121.863486448009, 36.3917448553878],\n",
       " [-121.781023308334, 36.3917448553878],\n",
       " [-121.863486448009, 36.388056881008],\n",
       " [-121.781023308334, 36.388056881008],\n",
       " [-121.863486448009, 36.3843687316809],\n",
       " [-121.785604593871, 36.3843687316809],\n",
       " [-121.863486448009, 36.3806804074137],\n",
       " [-121.790185879409, 36.3806804074137],\n",
       " [-121.858905162472, 36.3769919082132],\n",
       " [-121.794767164946, 36.3769919082132],\n",
       " [-121.858905162472, 36.3733032340865],\n",
       " [-121.794767164946, 36.3733032340865],\n",
       " [-121.858905162472, 36.3696143850405],\n",
       " [-121.799348450484, 36.3696143850405],\n",
       " [-121.858905162472, 36.3659253610823],\n",
       " [-121.799348450484, 36.3659253610823],\n",
       " [-121.849742591397, 36.3622361622188],\n",
       " [-121.813092307096, 36.3622361622188],\n",
       " [-121.831417449246, 36.3585467884571],\n",
       " [-121.826836163709, 36.3585467884571],\n",
       " [-121.923043159997, 36.5243953595764]]"
      ]
     },
     "execution_count": 6,
     "metadata": {},
     "output_type": "execute_result"
    }
   ],
   "source": [
    "map_output"
   ]
  },
  {
   "cell_type": "code",
   "execution_count": null,
   "metadata": {},
   "outputs": [],
   "source": []
  },
  {
   "cell_type": "code",
   "execution_count": null,
   "metadata": {},
   "outputs": [],
   "source": []
  },
  {
   "cell_type": "code",
   "execution_count": null,
   "metadata": {},
   "outputs": [],
   "source": []
  },
  {
   "cell_type": "code",
   "execution_count": null,
   "metadata": {},
   "outputs": [],
   "source": []
  },
  {
   "cell_type": "code",
   "execution_count": null,
   "metadata": {},
   "outputs": [],
   "source": []
  },
  {
   "cell_type": "code",
   "execution_count": null,
   "metadata": {},
   "outputs": [],
   "source": []
  },
  {
   "cell_type": "code",
   "execution_count": null,
   "metadata": {},
   "outputs": [],
   "source": []
  },
  {
   "cell_type": "code",
   "execution_count": null,
   "metadata": {},
   "outputs": [],
   "source": []
  },
  {
   "cell_type": "code",
   "execution_count": null,
   "metadata": {},
   "outputs": [],
   "source": []
  },
  {
   "cell_type": "code",
   "execution_count": null,
   "metadata": {},
   "outputs": [],
   "source": []
  },
  {
   "cell_type": "code",
   "execution_count": null,
   "metadata": {},
   "outputs": [],
   "source": []
  },
  {
   "cell_type": "code",
   "execution_count": null,
   "metadata": {},
   "outputs": [],
   "source": []
  },
  {
   "cell_type": "code",
   "execution_count": null,
   "metadata": {},
   "outputs": [],
   "source": []
  },
  {
   "cell_type": "code",
   "execution_count": 13,
   "metadata": {},
   "outputs": [],
   "source": [
    "map_output = read_csv()"
   ]
  },
  {
   "cell_type": "code",
   "execution_count": 261,
   "metadata": {},
   "outputs": [],
   "source": [
    "if len(geo_center) > 0:\n",
    "    cnn_poly = convert_polygon(geo_poly)\n",
    "else:\n",
    "\tphrase = \"no active fire\""
   ]
  },
  {
   "cell_type": "code",
   "execution_count": 262,
   "metadata": {},
   "outputs": [],
   "source": [
    "write_csv(cnn_poly)"
   ]
  },
  {
   "cell_type": "code",
   "execution_count": 242,
   "metadata": {},
   "outputs": [
    {
     "data": {
      "text/plain": [
       "[-81.218376301, 26.1663754840001]"
      ]
     },
     "execution_count": 242,
     "metadata": {},
     "output_type": "execute_result"
    }
   ],
   "source": [
    "geo_center"
   ]
  },
  {
   "cell_type": "code",
   "execution_count": 243,
   "metadata": {},
   "outputs": [
    {
     "data": {
      "text/plain": [
       "2"
      ]
     },
     "execution_count": 243,
     "metadata": {},
     "output_type": "execute_result"
    }
   ],
   "source": [
    "len(geo_center)"
   ]
  },
  {
   "cell_type": "code",
   "execution_count": 244,
   "metadata": {
    "scrolled": true
   },
   "outputs": [
    {
     "data": {
      "text/plain": [
       "[(-81.218376301, 26.1663754840001),\n",
       " (-81.218523916, 26.1663752600001),\n",
       " (-81.218531151, 26.16629699),\n",
       " (-81.218376168, 26.166303885),\n",
       " (-81.218376301, 26.1663754840001)]"
      ]
     },
     "execution_count": 244,
     "metadata": {},
     "output_type": "execute_result"
    }
   ],
   "source": [
    "geo_poly"
   ]
  },
  {
   "cell_type": "code",
   "execution_count": 245,
   "metadata": {
    "scrolled": true
   },
   "outputs": [
    {
     "data": {
      "text/plain": [
       "[(0.00023505655027221693, -0.0007295970878255902),\n",
       " (0.0002350565482599907, -0.0007295984138736967),\n",
       " (0.0002350558451486169, -0.0007295984788668077),\n",
       " (0.00023505590708745579, -0.000729597086630831),\n",
       " (0.00023505655027221693, -0.0007295970878255902)]"
      ]
     },
     "execution_count": 245,
     "metadata": {},
     "output_type": "execute_result"
    }
   ],
   "source": [
    "cnn_poly"
   ]
  },
  {
   "cell_type": "code",
   "execution_count": null,
   "metadata": {},
   "outputs": [],
   "source": []
  },
  {
   "cell_type": "markdown",
   "metadata": {},
   "source": [
    "# done"
   ]
  },
  {
   "cell_type": "code",
   "execution_count": 14,
   "metadata": {
    "jupyter": {
     "source_hidden": true
    }
   },
   "outputs": [],
   "source": [
    "def active_fire(lat_origin, lon_origin):\n",
    "\t\"\"\"\n",
    "\tFunction to find coordinates of active fires of given origin\n",
    "\tInput: latitude, longitude of input address (origin)\n",
    "\tOutput: List of active fires within certain miles of origin\n",
    "\t\"\"\"\n",
    "\n",
    "\t# set variables\n",
    "\tlat_geo = []\n",
    "\tlon_geo = []\n",
    "\tgeo_center = []\n",
    "\n",
    "\t# # read JSON on active fire\n",
    "\t# url = 'https://www.fire.ca.gov/umbraco/api/IncidentApi/List?inactive=true'\n",
    "\t# geo_data = requests.get(url).json()\n",
    "\n",
    "\t# # loop through list provided by Cal Fire and find active fire within certain miles of origin\n",
    "\t# for i in range(0,len(geo_data)):\n",
    "\t#     if geo_data[i]['IsActive'] == \"Y\":\n",
    "\t#         fire_lat = geo_data[i]['Latitude']\n",
    "\t#         fire_lon = geo_data[i]['Longitude']\n",
    "\t#         dist = great_circle(lat_origin, lon_origin, fire_lat, fire_lon)\n",
    "\t#         if dist <= 100:\n",
    "\t#         \tlat_geo.append(fire_lat)\n",
    "\t#         \tlon_geo.append(fire_lon)\n",
    "\n",
    "\t# geo_center = [[a, b] for a, b in zip(lon_geo, lat_geo)]\n",
    "\n",
    "\t# geo_center = [[-121.9230432, 36.52439536]]\n",
    "\n",
    "\t# return geo_center\n",
    "\n",
    "\t# read JSON on active fire\n",
    "\turl = 'https://opendata.arcgis.com/datasets/5da472c6d27b4b67970acc7b5044c862_0.geojson'\n",
    "\t# geo_data = requests.get(url).json()\t\n",
    "\tgeo_data = gpd.read_file(url)\n",
    "\n",
    "\tpoly_list = geo_data.geometry\n",
    "\n",
    "\tfor i in range(0,len(poly_list)):\n",
    "\n",
    "\t\tif poly_list[i].geom_type == 'MultiPolygon':\n",
    "\n",
    "\t\t\tfor j in range(0, len(poly_list[i])):\n",
    "\n",
    "\t\t\t\tgeo_poly = points(poly_list[i][j])\n",
    "\n",
    "\t\t\t\tfor k in range(0, len(geo_poly)):\n",
    "\n",
    "\t\t\t\t\tfire_lon = geo_poly[k][0]\n",
    "\t\t\t\t\tfire_lat = geo_poly[k][1]\n",
    "\n",
    "\t\t\t\t\tdist = great_circle(lat_origin, lon_origin, fire_lat, fire_lon)\n",
    "\n",
    "\t\t\t\t\tif dist <= 100:\n",
    "\t\t\t\t\t\tgeo_center = [fire_lon, fire_lat]\n",
    "\t\t\t\t\t\tbreak\n",
    "\n",
    "\t\t\t\tif len(geo_center) > 0:\n",
    "\t\t\t\t\tbreak\n",
    "\n",
    "\t\t\tif len(geo_center) > 0:\n",
    "\t\t\t\tbreak\n",
    "\n",
    "\t\telse:\n",
    "\n",
    "\t\t\tgeo_poly = points(poly_list[i])\n",
    "\n",
    "\t\t\tfor j in range(0, len(geo_poly)):\n",
    "\n",
    "\t\t\t\tfire_lon = geo_poly[j][0]\n",
    "\t\t\t\tfire_lat = geo_poly[j][1]\n",
    "\n",
    "\t\t\t\tdist = great_circle(lat_origin, lon_origin, fire_lat, fire_lon)\n",
    "\n",
    "\t\t\t\tif dist <= 100:\n",
    "\t\t\t\t\tgeo_center = [fire_lon, fire_lat]\n",
    "\t\t\t\t\tbreak\n",
    "\n",
    "\t\t\tif dist <= 100:\n",
    "\t\t\t\tgeo_center = [fire_lon, fire_lat]\n",
    "\t\t\t\tbreak\n",
    "\n",
    "\t\tif len(geo_center) > 0:\n",
    "\t\t\tbreak\n",
    "\n",
    "\treturn geo_center, geo_poly"
   ]
  },
  {
   "cell_type": "code",
   "execution_count": 15,
   "metadata": {},
   "outputs": [],
   "source": [
    "geo_center = active_fire(36.543286, -121.929533)"
   ]
  },
  {
   "cell_type": "code",
   "execution_count": 16,
   "metadata": {
    "scrolled": true
   },
   "outputs": [
    {
     "data": {
      "text/plain": [
       "([],\n",
       " [(-80.556476, 25.6369780000001),\n",
       "  (-80.556696, 25.6371080000001),\n",
       "  (-80.556815, 25.6371330000001),\n",
       "  (-80.5570969999999, 25.637144),\n",
       "  (-80.557475, 25.637118),\n",
       "  (-80.55834, 25.636559),\n",
       "  (-80.558998, 25.636108),\n",
       "  (-80.560208, 25.635316),\n",
       "  (-80.560458, 25.635256),\n",
       "  (-80.560959, 25.6351750000001),\n",
       "  (-80.561168, 25.635114),\n",
       "  (-80.561318, 25.6350160000001),\n",
       "  (-80.561406, 25.6349010000001),\n",
       "  (-80.5614219999999, 25.634775),\n",
       "  (-80.561394, 25.6346540000001),\n",
       "  (-80.561184, 25.634438),\n",
       "  (-80.5609909999999, 25.6343610000001),\n",
       "  (-80.560806, 25.634261),\n",
       "  (-80.560624, 25.6341380000001),\n",
       "  (-80.5604749999999, 25.6339770000001),\n",
       "  (-80.560373, 25.6337820000001),\n",
       "  (-80.56031, 25.6335530000001),\n",
       "  (-80.5603179999999, 25.6333080000001),\n",
       "  (-80.560352, 25.633048),\n",
       "  (-80.560615, 25.6319800000001),\n",
       "  (-80.560696, 25.6317280000001),\n",
       "  (-80.560831, 25.6315240000001),\n",
       "  (-80.561022, 25.631382),\n",
       "  (-80.561246, 25.6313020000001),\n",
       "  (-80.561498, 25.6312830000001),\n",
       "  (-80.561769, 25.631317),\n",
       "  (-80.562045, 25.63138),\n",
       "  (-80.562629, 25.631555),\n",
       "  (-80.563252, 25.6317110000001),\n",
       "  (-80.5638499999999, 25.6317680000001),\n",
       "  (-80.564134, 25.631761),\n",
       "  (-80.564385, 25.631717),\n",
       "  (-80.564625, 25.631649),\n",
       "  (-80.564826, 25.631555),\n",
       "  (-80.564968, 25.6314140000001),\n",
       "  (-80.565041, 25.631264),\n",
       "  (-80.565033, 25.6311020000001),\n",
       "  (-80.564949, 25.630957),\n",
       "  (-80.564807, 25.630839),\n",
       "  (-80.5646189999999, 25.6307620000001),\n",
       "  (-80.564419, 25.6307110000001),\n",
       "  (-80.563639, 25.6306470000001),\n",
       "  (-80.563373, 25.6306040000001),\n",
       "  (-80.563118, 25.6305350000001),\n",
       "  (-80.5628599999999, 25.6304410000001),\n",
       "  (-80.562351, 25.630211),\n",
       "  (-80.562089, 25.6301150000001),\n",
       "  (-80.561277, 25.6298780000001),\n",
       "  (-80.560777, 25.629645),\n",
       "  (-80.560548, 25.6294990000001),\n",
       "  (-80.56012, 25.629173),\n",
       "  (-80.559717, 25.628818),\n",
       "  (-80.5595059999999, 25.628655),\n",
       "  (-80.559285, 25.6285130000001),\n",
       "  (-80.559061, 25.6284140000001),\n",
       "  (-80.558803, 25.628338),\n",
       "  (-80.558555, 25.628291),\n",
       "  (-80.5580179999999, 25.628255),\n",
       "  (-80.557465, 25.6282570000001),\n",
       "  (-80.556395, 25.6282870000001),\n",
       "  (-80.5555669999999, 25.6282880000001),\n",
       "  (-80.555007, 25.628319),\n",
       "  (-80.5544619999999, 25.628407),\n",
       "  (-80.554201, 25.628496),\n",
       "  (-80.553195, 25.6289410000001),\n",
       "  (-80.552928, 25.6290300000001),\n",
       "  (-80.552653, 25.6290980000001),\n",
       "  (-80.552364, 25.6291350000001),\n",
       "  (-80.552095, 25.6291440000001),\n",
       "  (-80.55182, 25.629133),\n",
       "  (-80.551573, 25.6290970000001),\n",
       "  (-80.551329, 25.6290260000001),\n",
       "  (-80.551112, 25.6289130000001),\n",
       "  (-80.550918, 25.628767),\n",
       "  (-80.549924, 25.6277660000001),\n",
       "  (-80.549583, 25.6274960000001),\n",
       "  (-80.54941, 25.627395),\n",
       "  (-80.5492199999999, 25.6273140000001),\n",
       "  (-80.549022, 25.62726),\n",
       "  (-80.5488099999999, 25.6272240000001),\n",
       "  (-80.548389, 25.6272090000001),\n",
       "  (-80.5479359999999, 25.6272230000001),\n",
       "  (-80.5477079999999, 25.627212),\n",
       "  (-80.546735, 25.6271170000001),\n",
       "  (-80.545722, 25.627059),\n",
       "  (-80.544954, 25.627075),\n",
       "  (-80.544709, 25.6270650000001),\n",
       "  (-80.544475, 25.627035),\n",
       "  (-80.544235, 25.6269800000001),\n",
       "  (-80.543334, 25.6267100000001),\n",
       "  (-80.54266, 25.6265520000001),\n",
       "  (-80.542268, 25.6263740000001),\n",
       "  (-80.542088, 25.62625),\n",
       "  (-80.541934, 25.626112),\n",
       "  (-80.541622, 25.625796),\n",
       "  (-80.541106, 25.62508),\n",
       "  (-80.5409559999999, 25.6249350000001),\n",
       "  (-80.540793, 25.6248140000001),\n",
       "  (-80.5406189999999, 25.6247310000001),\n",
       "  (-80.54044, 25.6246850000001),\n",
       "  (-80.540262, 25.6246810000001),\n",
       "  (-80.540095, 25.6247320000001),\n",
       "  (-80.539948, 25.6248140000001),\n",
       "  (-80.539815, 25.624922),\n",
       "  (-80.539721, 25.6250840000001),\n",
       "  (-80.5396709999999, 25.6252690000001),\n",
       "  (-80.539614, 25.6257000000001),\n",
       "  (-80.5396049999999, 25.6261720000001),\n",
       "  (-80.5396249999999, 25.6266140000001),\n",
       "  (-80.539598, 25.6268180000001),\n",
       "  (-80.539531, 25.62701),\n",
       "  (-80.539433, 25.6271760000001),\n",
       "  (-80.539283, 25.627308),\n",
       "  (-80.539101, 25.6273890000001),\n",
       "  (-80.538888, 25.6274300000001),\n",
       "  (-80.53867, 25.6274470000001),\n",
       "  (-80.538189, 25.627444),\n",
       "  (-80.538013, 25.627414),\n",
       "  (-80.535786, 25.627442),\n",
       "  (-80.535625, 25.627417),\n",
       "  (-80.534994, 25.6271590000001),\n",
       "  (-80.5347649999999, 25.6271100000001),\n",
       "  (-80.532145, 25.6271160000001),\n",
       "  (-80.532044, 25.627195),\n",
       "  (-80.5321069999999, 25.62917),\n",
       "  (-80.532167, 25.630349),\n",
       "  (-80.53217, 25.6308080000001),\n",
       "  (-80.532145, 25.631091),\n",
       "  (-80.53223, 25.632323),\n",
       "  (-80.532237, 25.632549),\n",
       "  (-80.5322189999999, 25.6327620000001),\n",
       "  (-80.532252, 25.6333670000001),\n",
       "  (-80.532203, 25.63341),\n",
       "  (-80.5318359999999, 25.633402),\n",
       "  (-80.530473, 25.6334200000001),\n",
       "  (-80.530423, 25.6334670000001),\n",
       "  (-80.5304629999999, 25.635345),\n",
       "  (-80.530603, 25.6376070000001),\n",
       "  (-80.531056, 25.6376080000001),\n",
       "  (-80.531243, 25.637657),\n",
       "  (-80.5314319999999, 25.637731),\n",
       "  (-80.531607, 25.6378490000001),\n",
       "  (-80.5317449999999, 25.638001),\n",
       "  (-80.531958, 25.638354),\n",
       "  (-80.532078, 25.638519),\n",
       "  (-80.532228, 25.638649),\n",
       "  (-80.5323989999999, 25.6387250000001),\n",
       "  (-80.5325799999999, 25.6387570000001),\n",
       "  (-80.532766, 25.638737),\n",
       "  (-80.532947, 25.63867),\n",
       "  (-80.533115, 25.638562),\n",
       "  (-80.5336159999999, 25.638115),\n",
       "  (-80.5338399999999, 25.637974),\n",
       "  (-80.534098, 25.637869),\n",
       "  (-80.5343829999999, 25.637794),\n",
       "  (-80.534683, 25.6377410000001),\n",
       "  (-80.5349399999999, 25.637616),\n",
       "  (-80.535608, 25.6375810000001),\n",
       "  (-80.5364729999999, 25.637568),\n",
       "  (-80.5379849999999, 25.6375820000001),\n",
       "  (-80.539056, 25.637566),\n",
       "  (-80.5396509999999, 25.63759),\n",
       "  (-80.5400979999999, 25.6375580000001),\n",
       "  (-80.5409969999999, 25.637569),\n",
       "  (-80.541443, 25.6376040000001),\n",
       "  (-80.5423049999999, 25.6375570000001),\n",
       "  (-80.543347, 25.6375850000001),\n",
       "  (-80.5440819999999, 25.6375550000001),\n",
       "  (-80.5454549999999, 25.637551),\n",
       "  (-80.546163, 25.637521),\n",
       "  (-80.548752, 25.63753),\n",
       "  (-80.549115, 25.6371380000001),\n",
       "  (-80.549209, 25.6370830000001),\n",
       "  (-80.549501, 25.6369710000001),\n",
       "  (-80.549799, 25.6369760000001),\n",
       "  (-80.5504089999999, 25.637057),\n",
       "  (-80.550713, 25.637033),\n",
       "  (-80.551003, 25.636967),\n",
       "  (-80.5514209999999, 25.6369040000001),\n",
       "  (-80.552313, 25.6369280000001),\n",
       "  (-80.5527519999999, 25.6369240000001),\n",
       "  (-80.553153, 25.636988),\n",
       "  (-80.553829, 25.637057),\n",
       "  (-80.554265, 25.6370880000001),\n",
       "  (-80.5545739999999, 25.6370920000001),\n",
       "  (-80.554886, 25.6370860000001),\n",
       "  (-80.5551809999999, 25.6370600000001),\n",
       "  (-80.555953, 25.636892),\n",
       "  (-80.556098, 25.636875),\n",
       "  (-80.556236, 25.636876),\n",
       "  (-80.556349, 25.6369060000001),\n",
       "  (-80.556476, 25.6369780000001)])"
      ]
     },
     "execution_count": 16,
     "metadata": {},
     "output_type": "execute_result"
    }
   ],
   "source": [
    "geo_center"
   ]
  },
  {
   "cell_type": "code",
   "execution_count": null,
   "metadata": {},
   "outputs": [],
   "source": []
  },
  {
   "cell_type": "code",
   "execution_count": 17,
   "metadata": {},
   "outputs": [],
   "source": [
    "def active_fire(lat_origin, lon_origin):\n",
    "\t\"\"\"\n",
    "\tFunction to find coordinates of active fires of given origin\n",
    "\tInput: latitude, longitude of input address (origin)\n",
    "\tOutput: List of active fires within certain miles of origin\n",
    "\t\"\"\"\n",
    "\n",
    "\t# set variables\n",
    "\tlat_geo = []\n",
    "\tlon_geo = []\n",
    "\tgeo_center = []\n",
    "\tgeo_fire = []\n",
    "\n",
    "\t# # read JSON on active fire\n",
    "\t# url = 'https://www.fire.ca.gov/umbraco/api/IncidentApi/List?inactive=true'\n",
    "\t# geo_data = requests.get(url).json()\n",
    "\n",
    "\t# # loop through list provided by Cal Fire and find active fire within certain miles of origin\n",
    "\t# for i in range(0,len(geo_data)):\n",
    "\t#     if geo_data[i]['IsActive'] == \"Y\":\n",
    "\t#         fire_lat = geo_data[i]['Latitude']\n",
    "\t#         fire_lon = geo_data[i]['Longitude']\n",
    "\t#         dist = great_circle(lat_origin, lon_origin, fire_lat, fire_lon)\n",
    "\t#         if dist <= 100:\n",
    "\t#         \tlat_geo.append(fire_lat)\n",
    "\t#         \tlon_geo.append(fire_lon)\n",
    "\n",
    "\t# geo_center = [[a, b] for a, b in zip(lon_geo, lat_geo)]\n",
    "\n",
    "\t# geo_center = [[-121.9230432, 36.52439536]]\n",
    "\n",
    "\t# return geo_center\n",
    "\n",
    "\t# read JSON on active fire\n",
    "\turl = 'https://opendata.arcgis.com/datasets/5da472c6d27b4b67970acc7b5044c862_0.geojson'\n",
    "\t# geo_data = requests.get(url).json()\t\n",
    "\tgeo_data = gpd.read_file(url)\n",
    "\n",
    "\tpoly_list = geo_data.geometry\n",
    "\n",
    "\t# grab the first coordinates of all polygons to create list of active fires\n",
    "\n",
    "\tfor m in range(0,len(poly_list)):\n",
    "\n",
    "\t\tif poly_list[m].geom_type == 'MultiPolygon':\n",
    "\n",
    "\t\t\tgeo_poly = points(poly_list[m][0])\n",
    "\n",
    "\t\t\tfire_lon = geo_poly[0][0]\n",
    "\t\t\tfire_lat = geo_poly[0][1]\n",
    "\n",
    "\t\t\tlat_geo.append(fire_lat)\n",
    "\t\t\tlon_geo.append(fire_lon)\n",
    "\n",
    "\t\telse:\n",
    "\n",
    "\t\t\tgeo_poly = points(poly_list[m])\n",
    "\n",
    "\t\t\tfire_lon = geo_poly[0][0]\n",
    "\t\t\tfire_lat = geo_poly[0][1]\n",
    "\n",
    "\t\t\tlat_geo.append(fire_lat)\n",
    "\t\t\tlon_geo.append(fire_lon)\n",
    "\n",
    "\tgeo_fire = [[a, b] for a, b in zip(lon_geo, lat_geo)]\n",
    "\n",
    "\tgeo_poly = []\n",
    "\n",
    "\tfor i in range(0,len(poly_list)):\n",
    "\n",
    "\t\tif len(geo_center) > 0:\n",
    "\t\t\tbreak\n",
    "\n",
    "\t\tif poly_list[i].geom_type == 'MultiPolygon':\n",
    "\n",
    "\t\t\tfor j in range(0, len(poly_list[i])):\n",
    "\n",
    "\t\t\t\tgeo_poly = points(poly_list[i][j])\n",
    "\n",
    "\t\t\t\tfor k in range(0, len(geo_poly)):\n",
    "\n",
    "\t\t\t\t\tfire_lon = geo_poly[k][0]\n",
    "\t\t\t\t\tfire_lat = geo_poly[k][1]\n",
    "\n",
    "\t\t\t\t\tdist = great_circle(lat_origin, lon_origin, fire_lat, fire_lon)\n",
    "\n",
    "\t\t\t\t\tif dist <= 100:\n",
    "\t\t\t\t\t\tgeo_center = [fire_lon, fire_lat]\n",
    "\t\t\t\t\t\tbreak\n",
    "\n",
    "\t\t\t\tif len(geo_center) > 0:\n",
    "\t\t\t\t\tbreak\n",
    "\n",
    "\t\t\tif len(geo_center) > 0:\n",
    "\t\t\t\tbreak\n",
    "\n",
    "\t\telse:\n",
    "\n",
    "\t\t\tgeo_poly = points(poly_list[i])\n",
    "\n",
    "\t\t\tfor j in range(0, len(geo_poly)):\n",
    "\n",
    "\t\t\t\tfire_lon = geo_poly[j][0]\n",
    "\t\t\t\tfire_lat = geo_poly[j][1]\n",
    "\n",
    "\t\t\t\tdist = great_circle(lat_origin, lon_origin, fire_lat, fire_lon)\n",
    "\n",
    "\t\t\t\tif dist <= 100:\n",
    "\t\t\t\t\tgeo_center = [fire_lon, fire_lat]\n",
    "\t\t\t\t\tbreak\n",
    "\n",
    "\t\t\tif len(geo_center) > 0:\n",
    "\t\t\t\tbreak\n",
    "\n",
    "\t\tif len(geo_center) > 0:\n",
    "\t\t\tbreak\n",
    "\t\telse:\n",
    "\t\t\tgeo_poly =[]\n",
    "\t\t\tbreak\n",
    "\n",
    "\treturn geo_center, geo_poly, geo_fire"
   ]
  },
  {
   "cell_type": "code",
   "execution_count": 18,
   "metadata": {},
   "outputs": [],
   "source": [
    "geo_center, geo_poly, geo_fire = active_fire(36.543286, -121.929533)"
   ]
  },
  {
   "cell_type": "code",
   "execution_count": 19,
   "metadata": {
    "scrolled": true
   },
   "outputs": [
    {
     "data": {
      "text/plain": [
       "[[-81.218376301, 26.1663754840001],\n",
       " [-119.3058, 43.36044],\n",
       " [-81.2211851759999, 25.8929962130001],\n",
       " [-81.23895498, 25.8777389570001],\n",
       " [-155.822277, 20.026630164],\n",
       " [-81.065588147, 26.1690533980001],\n",
       " [-119.890105734, 39.586447714],\n",
       " [-117.716826787, 40.7578426480001],\n",
       " [-117.727254994, 40.856503585],\n",
       " [-120.016606534, 39.9634069620001],\n",
       " [-109.685227079, 38.815516974],\n",
       " [-119.787447749, 39.8127838120001],\n",
       " [-119.915611558, 39.7030730540001],\n",
       " [-117.614953481, 41.971466923],\n",
       " [-78.7591101359999, 38.2392100120001],\n",
       " [-118.128895162, 40.445283653],\n",
       " [-87.3723336319999, 34.213034613],\n",
       " [-84.808704, 30.268151],\n",
       " [-122.922469, 39.7514810000001],\n",
       " [-94.2877044860817, 34.4447452486556],\n",
       " [-118.853425, 43.2886490000001],\n",
       " [-77.714422, 34.4719260000001],\n",
       " [-83.679064, 37.836416],\n",
       " [-86.1041099999999, 33.3485400000001],\n",
       " [-111.89324216, 39.97980075],\n",
       " [-115.020925524, 36.103205695],\n",
       " [-78.48009, 38.5169000000001],\n",
       " [-117.8374932, 41.5698244000001],\n",
       " [-80.556476, 25.6369780000001]]"
      ]
     },
     "execution_count": 19,
     "metadata": {},
     "output_type": "execute_result"
    }
   ],
   "source": [
    "geo_fire"
   ]
  },
  {
   "cell_type": "code",
   "execution_count": 20,
   "metadata": {},
   "outputs": [
    {
     "data": {
      "text/plain": [
       "29"
      ]
     },
     "execution_count": 20,
     "metadata": {},
     "output_type": "execute_result"
    }
   ],
   "source": [
    "len(geo_fire)"
   ]
  },
  {
   "cell_type": "code",
   "execution_count": 21,
   "metadata": {},
   "outputs": [
    {
     "data": {
      "text/plain": [
       "[]"
      ]
     },
     "execution_count": 21,
     "metadata": {},
     "output_type": "execute_result"
    }
   ],
   "source": [
    "geo_center"
   ]
  },
  {
   "cell_type": "code",
   "execution_count": 123,
   "metadata": {},
   "outputs": [],
   "source": [
    "def write_csv(poly, filename):\n",
    "\t\"\"\"\n",
    "\tThis function writes the active fire intial polygon to csv to be used for the ML model to calculate \n",
    "\tspread on the next day.\n",
    "\t\"\"\"\n",
    "\t# f = open(\"/static/intial_polygon.csv\", \"w\")\n",
    "\t# f.truncate()\n",
    "\t# f.close()\n",
    "\tfilename = filename\n",
    "\n",
    "\twith open(filename, \"w\") as f:\n",
    "\t\twriter = csv.writer(f)\n",
    "\t\twriter.writerows(poly)"
   ]
  },
  {
   "cell_type": "code",
   "execution_count": 126,
   "metadata": {},
   "outputs": [],
   "source": [
    "write_csv(geo_fire,\"static/initial_polygon.csv\")"
   ]
  },
  {
   "cell_type": "code",
   "execution_count": null,
   "metadata": {},
   "outputs": [],
   "source": []
  },
  {
   "cell_type": "code",
   "execution_count": null,
   "metadata": {},
   "outputs": [],
   "source": []
  },
  {
   "cell_type": "code",
   "execution_count": null,
   "metadata": {},
   "outputs": [],
   "source": []
  },
  {
   "cell_type": "code",
   "execution_count": null,
   "metadata": {},
   "outputs": [],
   "source": []
  },
  {
   "cell_type": "code",
   "execution_count": null,
   "metadata": {},
   "outputs": [],
   "source": []
  },
  {
   "cell_type": "code",
   "execution_count": 10,
   "metadata": {},
   "outputs": [],
   "source": [
    "# set variables\n",
    "lat_geo = []\n",
    "lon_geo = []\n",
    "geo_center = []\n",
    "\n",
    "# read JSON on active fire\n",
    "url = 'https://opendata.arcgis.com/datasets/5da472c6d27b4b67970acc7b5044c862_0.geojson'\n",
    "# geo_data = requests.get(url).json()\t\n",
    "geo_data = gpd.read_file(url)\n",
    "\n",
    "poly_list = geo_data.geometry"
   ]
  },
  {
   "cell_type": "code",
   "execution_count": 23,
   "metadata": {},
   "outputs": [],
   "source": [
    "url = 'https://opendata.arcgis.com/datasets/5da472c6d27b4b67970acc7b5044c862_0.geojson'\n",
    "# geo_data = requests.get(url).json()\t\n",
    "geo_data = gpd.read_file(url)\n",
    "\n",
    "poly_list = geo_data.geometry"
   ]
  },
  {
   "cell_type": "code",
   "execution_count": 12,
   "metadata": {},
   "outputs": [
    {
     "data": {
      "text/plain": [
       "0     POLYGON ((-81.21838 26.16638, -81.21852 26.166...\n",
       "1     POLYGON ((-119.30580 43.36044, -119.30572 43.3...\n",
       "2     POLYGON ((-81.22119 25.89300, -81.22125 25.892...\n",
       "3     POLYGON ((-81.23895 25.87774, -81.23895 25.877...\n",
       "4     POLYGON ((-155.82228 20.02663, -155.82229 20.0...\n",
       "5     POLYGON ((-81.06559 26.16905, -81.06559 26.169...\n",
       "6     POLYGON ((-119.89011 39.58645, -119.89014 39.5...\n",
       "7     POLYGON ((-117.71683 40.75784, -117.71681 40.7...\n",
       "8     POLYGON ((-117.72725 40.85650, -117.72722 40.8...\n",
       "9     POLYGON ((-120.01661 39.96341, -120.01656 39.9...\n",
       "10    POLYGON ((-109.68523 38.81552, -109.68520 38.8...\n",
       "11    MULTIPOLYGON (((-119.78745 39.81278, -119.7874...\n",
       "12    POLYGON ((-119.91561 39.70307, -119.91558 39.7...\n",
       "13    POLYGON ((-117.61495 41.97147, -117.61494 41.9...\n",
       "14    POLYGON ((-78.75911 38.23921, -78.75914 38.239...\n",
       "15    POLYGON ((-118.12890 40.44528, -118.12891 40.4...\n",
       "16    POLYGON ((-87.37233 34.21303, -87.37231 34.213...\n",
       "17    POLYGON ((-84.80870 30.26815, -84.80886 30.268...\n",
       "18    POLYGON ((-122.92247 39.75148, -122.92275 39.7...\n",
       "19    POLYGON ((-94.28770 34.44475, -94.28784 34.444...\n",
       "20    MULTIPOLYGON (((-118.85343 43.28865, -118.8533...\n",
       "21    POLYGON ((-77.71442 34.47193, -77.71347 34.468...\n",
       "22    POLYGON ((-83.67906 37.83642, -83.67991 37.835...\n",
       "23    POLYGON ((-86.10411 33.34854, -86.10411 33.348...\n",
       "24    POLYGON ((-111.89324 39.97980, -111.89328 39.9...\n",
       "25    POLYGON ((-115.02093 36.10321, -115.02076 36.1...\n",
       "26    POLYGON ((-78.48009 38.51690, -78.48014 38.516...\n",
       "Name: geometry, dtype: geometry"
      ]
     },
     "execution_count": 12,
     "metadata": {},
     "output_type": "execute_result"
    }
   ],
   "source": [
    "poly_list"
   ]
  },
  {
   "cell_type": "code",
   "execution_count": 21,
   "metadata": {},
   "outputs": [],
   "source": [
    "geo_activeloc = points(poly_list[11][0])"
   ]
  },
  {
   "cell_type": "code",
   "execution_count": 22,
   "metadata": {},
   "outputs": [
    {
     "data": {
      "text/plain": [
       "-119.787447749"
      ]
     },
     "execution_count": 22,
     "metadata": {},
     "output_type": "execute_result"
    }
   ],
   "source": [
    "geo_activeloc[0][0]"
   ]
  },
  {
   "cell_type": "code",
   "execution_count": null,
   "metadata": {},
   "outputs": [],
   "source": []
  },
  {
   "cell_type": "code",
   "execution_count": null,
   "metadata": {},
   "outputs": [],
   "source": []
  },
  {
   "cell_type": "code",
   "execution_count": null,
   "metadata": {},
   "outputs": [],
   "source": []
  },
  {
   "cell_type": "code",
   "execution_count": null,
   "metadata": {},
   "outputs": [],
   "source": []
  },
  {
   "cell_type": "code",
   "execution_count": null,
   "metadata": {},
   "outputs": [],
   "source": []
  },
  {
   "cell_type": "code",
   "execution_count": 15,
   "metadata": {},
   "outputs": [
    {
     "data": {
      "text/plain": [
       "27"
      ]
     },
     "execution_count": 15,
     "metadata": {},
     "output_type": "execute_result"
    }
   ],
   "source": [
    "len(poly_list)"
   ]
  },
  {
   "cell_type": "code",
   "execution_count": 24,
   "metadata": {},
   "outputs": [],
   "source": [
    "geo_poly = points(poly_list[0])"
   ]
  },
  {
   "cell_type": "code",
   "execution_count": 25,
   "metadata": {},
   "outputs": [
    {
     "data": {
      "text/plain": [
       "[(-81.218376301, 26.1663754840001),\n",
       " (-81.218523916, 26.1663752600001),\n",
       " (-81.218531151, 26.16629699),\n",
       " (-81.218376168, 26.166303885),\n",
       " (-81.218376301, 26.1663754840001)]"
      ]
     },
     "execution_count": 25,
     "metadata": {},
     "output_type": "execute_result"
    }
   ],
   "source": [
    "geo_poly"
   ]
  },
  {
   "cell_type": "code",
   "execution_count": 26,
   "metadata": {},
   "outputs": [],
   "source": [
    "cnn_poly = convert_polygon(geo_poly)"
   ]
  },
  {
   "cell_type": "code",
   "execution_count": 27,
   "metadata": {},
   "outputs": [
    {
     "data": {
      "text/plain": [
       "[(0.00023505655027221693, -0.0007295970878255902),\n",
       " (0.0002350565482599907, -0.0007295984138736967),\n",
       " (0.0002350558451486169, -0.0007295984788668077),\n",
       " (0.00023505590708745579, -0.000729597086630831),\n",
       " (0.00023505655027221693, -0.0007295970878255902)]"
      ]
     },
     "execution_count": 27,
     "metadata": {},
     "output_type": "execute_result"
    }
   ],
   "source": [
    "cnn_poly"
   ]
  },
  {
   "cell_type": "code",
   "execution_count": 22,
   "metadata": {},
   "outputs": [],
   "source": [
    "with open(\"static/intial_polygon.csv\", \"w\") as f:\n",
    "    writer = csv.writer(f)\n",
    "    writer.writerows(cnn_poly)"
   ]
  },
  {
   "cell_type": "code",
   "execution_count": 24,
   "metadata": {},
   "outputs": [
    {
     "data": {
      "text/plain": [
       "5"
      ]
     },
     "execution_count": 24,
     "metadata": {},
     "output_type": "execute_result"
    }
   ],
   "source": [
    "len(geo_poly)"
   ]
  },
  {
   "cell_type": "code",
   "execution_count": null,
   "metadata": {},
   "outputs": [],
   "source": [
    "for i in range(0,len(poly_list)):\n",
    "\n",
    "    if poly_list[i].geom_type == 'MultiPolygon':\n",
    "\n",
    "        for j in range(0, len(poly_list[i])):\n",
    "\n",
    "            geo_poly = points(poly_list[i][j])\n",
    "\n",
    "            for k in range(0, len(geo_poly)):\n",
    "\n",
    "                fire_lon = geo_poly[k][0]\n",
    "                fire_lat = geo_poly[k][1]\n",
    "\n",
    "                dist = great_circle(lat_origin, lon_origin, fire_lat, fire_lon)\n",
    "\n",
    "                if dist <= 100:\n",
    "                    geo_center = [fire_lon, fire_lat]\n",
    "                    break\n",
    "\n",
    "            if len(geo_center) > 0:\n",
    "                break\n",
    "\n",
    "        if len(geo_center) > 0:\n",
    "            break\n",
    "\n",
    "    else:\n",
    "\n",
    "        geo_poly = points(poly_list[i])\n",
    "\n",
    "        for j in range(0, len(geo_poly)):\n",
    "\n",
    "            fire_lon = geo_poly[j][0]\n",
    "            fire_lat = geo_poly[j][1]\n",
    "\n",
    "            dist = great_circle(lat_origin, lon_origin, fire_lat, fire_lon)\n",
    "\n",
    "            if dist <= 100:\n",
    "                geo_center = [fire_lon, fire_lat]\n",
    "                break\n",
    "                \n",
    "        if dist <= 100:\n",
    "            geo_center = [fire_lon, fire_lat]\n",
    "            break\n",
    "\n",
    "    if len(geo_center) > 0:\n",
    "        break"
   ]
  },
  {
   "cell_type": "code",
   "execution_count": 13,
   "metadata": {},
   "outputs": [],
   "source": [
    "def fire_map():\n",
    "\n",
    "\tgeo_center = []\n",
    "\tadd_loc = []\n",
    "\n",
    "\taddress = \"Berkeley, CA\"\n",
    "# \tif request.method == \"POST\":\n",
    "# \t\taddress = str(request.form[\"address\"])\n",
    "\t\n",
    "\tadd_lat, add_lon = get_lat_loc(address)\n",
    "\t\n",
    "\tgeo_center = active_fire(add_lat, add_lon)\n",
    "\n",
    "\t# for i in range(0, len(geo_center)):\n",
    "\tgeo_lat = geo_center[1]\n",
    "\tgeo_lon = geo_center[0]\n",
    "\tcrs = convert_point(geo_lat, geo_lon)\n",
    "\n",
    "\tmap_output = read_csv()"
   ]
  },
  {
   "cell_type": "code",
   "execution_count": null,
   "metadata": {},
   "outputs": [],
   "source": [
    "fire_map()"
   ]
  },
  {
   "cell_type": "code",
   "execution_count": null,
   "metadata": {},
   "outputs": [],
   "source": [
    "# set variables\n",
    "lat_geo = []\n",
    "lon_geo = []\n",
    "geo_center = []\n",
    "\n",
    "url = 'https://opendata.arcgis.com/datasets/5da472c6d27b4b67970acc7b5044c862_0.geojson'\n",
    "# geo_data = requests.get(url).json()\t\n",
    "geo_data = gpd.read_file(url)\n",
    "\n",
    "poly_list = geo_data.geometry\n",
    "\n",
    "for i in range(0,len(poly_list)):\n",
    "\n",
    "    if len(geo_center) > 0:\n",
    "        break\n",
    "\n",
    "    if poly_list[i].geom_type == 'MultiPolygon':\n",
    "\n",
    "        for j in range(0, len(poly_list[i])):\n",
    "\n",
    "            geo_poly = points(poly_list[i][j])\n",
    "\n",
    "            for k in range(0, len(geo_poly)):\n",
    "\n",
    "                fire_lon = geo_poly[k][0]\n",
    "                fire_lat = geo_poly[k][1]\n",
    "\n",
    "                dist = great_circle(lat_origin, lon_origin, fire_lat, fire_lon)\n",
    "\n",
    "                if dist <= 100:\n",
    "                    geo_center = [fire_lon, fire_lat]\n",
    "                    break\n",
    "\n",
    "            if len(geo_center) > 0:\n",
    "                break\n",
    "\n",
    "        if len(geo_center) > 0:\n",
    "            break\n",
    "\n",
    "    else:\n",
    "\n",
    "        geo_poly = points(poly_list[i])\n",
    "\n",
    "        for j in range(0, len(geo_poly)):\n",
    "\n",
    "            fire_lon = geo_poly[j][0]\n",
    "            fire_lat = geo_poly[j][1]\n",
    "\n",
    "            dist = great_circle(lat_origin, lon_origin, fire_lat, fire_lon)\n",
    "\n",
    "            if dist <= 100:\n",
    "                geo_center = [fire_lon, fire_lat]\n",
    "                break\n",
    "\n",
    "        if len(geo_center) > 0:\n",
    "            break\n",
    "\n",
    "    if len(geo_center) > 0:\n",
    "        break\n",
    "\n",
    "return geo_center, geo_poly"
   ]
  }
 ],
 "metadata": {
  "kernelspec": {
   "display_name": "Python 3",
   "language": "python",
   "name": "python3"
  },
  "language_info": {
   "codemirror_mode": {
    "name": "ipython",
    "version": 3
   },
   "file_extension": ".py",
   "mimetype": "text/x-python",
   "name": "python",
   "nbconvert_exporter": "python",
   "pygments_lexer": "ipython3",
   "version": "3.7.6"
  }
 },
 "nbformat": 4,
 "nbformat_minor": 4
}
