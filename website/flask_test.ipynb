{
 "cells": [
  {
   "cell_type": "code",
   "execution_count": 1,
   "metadata": {},
   "outputs": [],
   "source": [
    "import ast\n",
    "import json\n",
    "import csv\n",
    "import mapbox\n",
    "import urllib\n",
    "import gmplot\n",
    "import requests\n",
    "import numpy as np\n",
    "import geopandas as gpd\n",
    "from shapely import geometry\n",
    "from shapely.geometry import Point\n",
    "from csv import reader\n",
    "from mapbox import Geocoder\n",
    "from flask import Flask, request, render_template\n",
    "from math import radians, degrees, sin, cos, asin, acos, sqrt\n",
    "from pyproj import Proj"
   ]
  },
  {
   "cell_type": "code",
   "execution_count": 11,
   "metadata": {},
   "outputs": [],
   "source": [
    "MAPBOX_ACCESS_KEY = 'pk.eyJ1IjoidGxldWNiIiwiYSI6ImNrN2N3d3h1aTA0YWwzaHFoNGJreDJmY2YifQ.pbWSn9txb4n8fKmUaKAG4g'"
   ]
  },
  {
   "cell_type": "code",
   "execution_count": 12,
   "metadata": {},
   "outputs": [],
   "source": [
    "def great_circle(lat1, lon1, lat2, lon2):\n",
    "\t\"\"\"\n",
    "\tThis function calculates the shortest distance between two sets of coordinates.\n",
    "\t\"\"\"\n",
    "\n",
    "\tlon1, lat1, lon2, lat2 = map(radians, [lon1, lat1, lon2, lat2])\n",
    "\n",
    "\t# use 6371 if calculating kilometers (3958.756 for miles)\n",
    "\treturn 3958.756 * (acos(sin(lat1) * sin(lat2) + cos(lat1) * cos(lat2) * cos(lon1 - lon2)))"
   ]
  },
  {
   "cell_type": "code",
   "execution_count": 13,
   "metadata": {},
   "outputs": [],
   "source": [
    "def read_csv():\n",
    "\t\"\"\"\n",
    "\tThis function reads the polygon csv file and returns the coordinates to create the polygon in mapbox\n",
    "\tto be displayed in the html file.\n",
    "\t\"\"\"\n",
    "\n",
    "\t# setting up list\n",
    "\tlat_input = []\n",
    "\tlon_input = []\n",
    "\n",
    "\t# read CSV file but skipped header line in read\n",
    "\twith open('static/polygon.csv', 'r') as read_line:\n",
    "\t    csv_reader = reader(read_line)\n",
    "\t    header = next(csv_reader)\n",
    "\t    # Check file as empty\n",
    "\t    if header != None:\n",
    "\t        # Iterate over each row after the header in the csv\n",
    "\t        for row in csv_reader:\n",
    "\t        \tlat_input.append(ast.literal_eval(row[1]))\n",
    "\t        \tlon_input.append(ast.literal_eval(row[0]))\n",
    "\n",
    "\tmap_output = [[a, b] for a, b in zip(lon_input, lat_input)]\n",
    "\n",
    "\treturn map_output"
   ]
  },
  {
   "cell_type": "code",
   "execution_count": 14,
   "metadata": {},
   "outputs": [],
   "source": [
    "def convert_point(lat,lon):\n",
    "    \"\"\"\n",
    "    Convert Coordinate Reference systems from map lat/lon to fire raster CRS\n",
    "    Input: Point of latitude,longitude\n",
    "    Output: Tuple of (x,y) in CRS coordinates\n",
    "    \"\"\"\n",
    "\n",
    "    # Declare point (longitude (or x) always comes first, then latitude (y))\n",
    "    point = Point(lon,lat)\n",
    "    \n",
    "    # Set Source CRS (Mapbox or Google Maps)\n",
    "    src_crs = \"EPSG:4326\"\n",
    "    \n",
    "    # create dataframe from input lat/long\n",
    "    gdf=gpd.GeoDataFrame(index=[0],crs = src_crs, geometry=[point])\n",
    "        \n",
    "    # Change CRS to match Wildfire CRS (3857)\n",
    "    gdf_tf = gdf.to_crs(\"epsg:3857\")\n",
    "    \n",
    "    # pull x and y value out from the POINT attribute, then get\n",
    "    # the value in the data series at row[0]\n",
    "    x = gdf_tf.geometry.x.at[0]\n",
    "    y = gdf_tf.geometry.y.at[0]\n",
    "        \n",
    "    return (x,y)"
   ]
  },
  {
   "cell_type": "code",
   "execution_count": 15,
   "metadata": {},
   "outputs": [],
   "source": [
    "def convert_polygon(fire_polygon):\n",
    "    \"\"\"Convert Coord ref system (CRS) from fire data (EPSG 3857) to map \n",
    "    lat/long (EPSG 4326), polygon starts and ends on same point (to close it)\n",
    "    \n",
    "    Input: list containing tuples of x,y points in fire CRS that describe a polygon\n",
    "    Output: list containing tuples of lat/long points that describe the polygon\n",
    "    \"\"\"\n",
    "    \n",
    "    # create polygon\n",
    "    poly = geometry.Polygon([(p[0], p[1]) for p in fire_polygon])\n",
    "    \n",
    "    #CRS\n",
    "    src_crs = \"EPSG:3857\"\n",
    "    dst_crs = \"EPSG:4326\"\n",
    "    \n",
    "    # Create Geo DataFrame\n",
    "    gfp = gpd.GeoDataFrame(index=[0],crs=src_crs,geometry=[poly])\n",
    "    \n",
    "    # Convert CRS\n",
    "    gfp2 = gfp.to_crs(dst_crs)\n",
    "    \n",
    "    # pull data from dataframe\n",
    "    polyout = gfp2.iloc[0]['geometry']\n",
    "    \n",
    "    # create list of tuples, but longitude is first\n",
    "    l = list(map(tuple,np.asarray(polyout.exterior.coords)))\n",
    "    l = list(map(lambda m: (m[1],m[0]), l))\n",
    "    \n",
    "    return l"
   ]
  },
  {
   "cell_type": "code",
   "execution_count": 16,
   "metadata": {},
   "outputs": [],
   "source": [
    "def get_lat_loc(address):\n",
    "\t\"\"\"\n",
    "\tConvert a string of address to latitude and longitude \n",
    "\tInput: String \n",
    "\tOutput: latitude, longitude coordinate\n",
    "\t\"\"\"\n",
    "\n",
    "\tgeocoder = mapbox.Geocoder(access_token = MAPBOX_ACCESS_KEY)\n",
    "\tresponse = geocoder.forward(address)\n",
    "\taddress = response.json()\n",
    "\tadd_lat = address[\"features\"][0][\"center\"][1]\n",
    "\tadd_lon = address[\"features\"][0][\"center\"][0]\n",
    "\treturn add_lat, add_lon"
   ]
  },
  {
   "cell_type": "code",
   "execution_count": 17,
   "metadata": {},
   "outputs": [],
   "source": [
    "def points(poly):\n",
    "    return list(map(tuple,np.asarray(poly.exterior.coords)))"
   ]
  },
  {
   "cell_type": "code",
   "execution_count": 18,
   "metadata": {
    "jupyter": {
     "source_hidden": true
    }
   },
   "outputs": [],
   "source": [
    "def active_fire(lat_origin, lon_origin):\n",
    "\t\"\"\"\n",
    "\tFunction to find coordinates of active fires of given origin\n",
    "\tInput: latitude, longitude of input address (origin)\n",
    "\tOutput: List of active fires within certain miles of origin\n",
    "\t\"\"\"\n",
    "\n",
    "\t# set variables\n",
    "\tlat_geo = []\n",
    "\tlon_geo = []\n",
    "\tgeo_center = []\n",
    "\n",
    "\turl = 'https://opendata.arcgis.com/datasets/5da472c6d27b4b67970acc7b5044c862_0.geojson'\n",
    "\t# geo_data = requests.get(url).json()\t\n",
    "\tgeo_data = gpd.read_file(url)\n",
    "\n",
    "\tpoly_list = geo_data.geometry\n",
    "\n",
    "\tfor i in range(0,len(poly_list)):\n",
    "\n",
    "\t\tif len(geo_center) > 0:\n",
    "\t\t\tbreak\n",
    "\n",
    "\t\tif poly_list[i].geom_type == 'MultiPolygon':\n",
    "\n",
    "\t\t\tfor j in range(0, len(poly_list[i])):\n",
    "\n",
    "\t\t\t\tgeo_poly = points(poly_list[i][j])\n",
    "\n",
    "\t\t\t\tfor k in range(0, len(geo_poly)):\n",
    "\n",
    "\t\t\t\t\tfire_lon = geo_poly[k][0]\n",
    "\t\t\t\t\tfire_lat = geo_poly[k][1]\n",
    "\n",
    "\t\t\t\t\tdist = great_circle(lat_origin, lon_origin, fire_lat, fire_lon)\n",
    "\n",
    "\t\t\t\t\tif dist <= 100:\n",
    "\t\t\t\t\t\tgeo_center = [fire_lon, fire_lat]\n",
    "\t\t\t\t\t\tbreak\n",
    "\n",
    "\t\t\t\tif len(geo_center) > 0:\n",
    "\t\t\t\t\tbreak\n",
    "\n",
    "\t\t\tif len(geo_center) > 0:\n",
    "\t\t\t\tbreak\n",
    "\n",
    "\t\telse:\n",
    "\n",
    "\t\t\tgeo_poly = points(poly_list[i])\n",
    "\n",
    "\t\t\tfor j in range(0, len(geo_poly)):\n",
    "\n",
    "\t\t\t\tfire_lon = geo_poly[j][0]\n",
    "\t\t\t\tfire_lat = geo_poly[j][1]\n",
    "\n",
    "\t\t\t\tdist = great_circle(lat_origin, lon_origin, fire_lat, fire_lon)\n",
    "\n",
    "\t\t\t\tif dist <= 100:\n",
    "\t\t\t\t\tgeo_center = [fire_lon, fire_lat]\n",
    "\t\t\t\t\tbreak\n",
    "\n",
    "\t\t\tif len(geo_center) > 0:\n",
    "\t\t\t\tbreak\n",
    "\n",
    "\t\tif len(geo_center) > 0:\n",
    "\t\t\tbreak\n",
    "\n",
    "\treturn geo_center, geo_poly"
   ]
  },
  {
   "cell_type": "code",
   "execution_count": 23,
   "metadata": {},
   "outputs": [],
   "source": [
    "def active_fire(lat_origin, lon_origin):\n",
    "\t\"\"\"\n",
    "\tFunction to find coordinates of active fires of given origin\n",
    "\tInput: latitude, longitude of input address (origin)\n",
    "\tOutput: List of active fires within certain miles of origin\n",
    "\t\"\"\"\n",
    "\n",
    "\t# set variables\n",
    "\tlat_geo = []\n",
    "\tlon_geo = []\n",
    "\tgeo_center = []\n",
    "\n",
    "\t# # read JSON on active fire\n",
    "\t# url = 'https://www.fire.ca.gov/umbraco/api/IncidentApi/List?inactive=true'\n",
    "\t# geo_data = requests.get(url).json()\n",
    "\n",
    "\t# # loop through list provided by Cal Fire and find active fire within certain miles of origin\n",
    "\t# for i in range(0,len(geo_data)):\n",
    "\t#     if geo_data[i]['IsActive'] == \"Y\":\n",
    "\t#         fire_lat = geo_data[i]['Latitude']\n",
    "\t#         fire_lon = geo_data[i]['Longitude']\n",
    "\t#         dist = great_circle(lat_origin, lon_origin, fire_lat, fire_lon)\n",
    "\t#         if dist <= 100:\n",
    "\t#         \tlat_geo.append(fire_lat)\n",
    "\t#         \tlon_geo.append(fire_lon)\n",
    "\n",
    "\t# geo_center = [[a, b] for a, b in zip(lon_geo, lat_geo)]\n",
    "\n",
    "\t# geo_center = [[-121.9230432, 36.52439536]]\n",
    "\n",
    "\t# return geo_center\n",
    "\n",
    "\t# read JSON on active fire\n",
    "\turl = 'https://opendata.arcgis.com/datasets/5da472c6d27b4b67970acc7b5044c862_0.geojson'\n",
    "\t# geo_data = requests.get(url).json()\t\n",
    "\tgeo_data = gpd.read_file(url)\n",
    "\n",
    "\tpoly_list = geo_data.geometry\n",
    "\n",
    "\tfor i in range(0,len(poly_list)):\n",
    "\n",
    "\t\tif poly_list[i].geom_type == 'MultiPolygon':\n",
    "\n",
    "\t\t\tfor j in range(0, len(poly_list[i])):\n",
    "\n",
    "\t\t\t\tgeo_poly = points(poly_list[i][j])\n",
    "\n",
    "\t\t\t\tfor k in range(0, len(geo_poly)):\n",
    "\n",
    "\t\t\t\t\tfire_lon = geo_poly[k][0]\n",
    "\t\t\t\t\tfire_lat = geo_poly[k][1]\n",
    "\n",
    "\t\t\t\t\tdist = great_circle(lat_origin, lon_origin, fire_lat, fire_lon)\n",
    "\n",
    "\t\t\t\t\tif dist <= 100:\n",
    "\t\t\t\t\t\tgeo_center = [fire_lon, fire_lat]\n",
    "\t\t\t\t\t\tbreak\n",
    "\n",
    "\t\t\t\tif len(geo_center) > 0:\n",
    "\t\t\t\t\tbreak\n",
    "\n",
    "\t\t\tif len(geo_center) > 0:\n",
    "\t\t\t\tbreak\n",
    "\n",
    "\t\telse:\n",
    "\n",
    "\t\t\tgeo_poly = points(poly_list[i])\n",
    "\n",
    "\t\t\tfor j in range(0, len(geo_poly)):\n",
    "\n",
    "\t\t\t\tfire_lon = geo_poly[j][0]\n",
    "\t\t\t\tfire_lat = geo_poly[j][1]\n",
    "\n",
    "\t\t\t\tdist = great_circle(lat_origin, lon_origin, fire_lat, fire_lon)\n",
    "\n",
    "\t\t\t\tif dist <= 100:\n",
    "\t\t\t\t\tgeo_center = [fire_lon, fire_lat]\n",
    "\t\t\t\t\tbreak\n",
    "\n",
    "\t\t\tif dist <= 100:\n",
    "\t\t\t\tgeo_center = [fire_lon, fire_lat]\n",
    "\t\t\t\tbreak\n",
    "\n",
    "\t\tif len(geo_center) > 0:\n",
    "\t\t\tbreak\n",
    "\n",
    "\treturn geo_center, geo_poly"
   ]
  },
  {
   "cell_type": "code",
   "execution_count": 19,
   "metadata": {},
   "outputs": [],
   "source": [
    "geo_center = active_fire(36.543286, -121.929533)"
   ]
  },
  {
   "cell_type": "code",
   "execution_count": 20,
   "metadata": {
    "scrolled": true
   },
   "outputs": [
    {
     "data": {
      "text/plain": [
       "([],\n",
       " [(-87.3723336319999, 34.213034613),\n",
       "  (-87.372306366, 34.2132703290001),\n",
       "  (-87.3725622159999, 34.213410965),\n",
       "  (-87.372279828, 34.213694565),\n",
       "  (-87.372152733, 34.213824523),\n",
       "  (-87.3719566949999, 34.214390687),\n",
       "  (-87.371732303, 34.2149686920001),\n",
       "  (-87.371649312, 34.2154519650001),\n",
       "  (-87.3719062, 34.215804636),\n",
       "  (-87.373603407, 34.214750887),\n",
       "  (-87.3750598079999, 34.2137685590001),\n",
       "  (-87.374520687, 34.21371134),\n",
       "  (-87.374151684, 34.2136535160001),\n",
       "  (-87.3740940929999, 34.213453412),\n",
       "  (-87.3739654399999, 34.213229928),\n",
       "  (-87.373567669, 34.213066214),\n",
       "  (-87.373113302, 34.2129497810001),\n",
       "  (-87.372971539, 34.212961969),\n",
       "  (-87.3728154199999, 34.212950687),\n",
       "  (-87.372800801, 34.212844671),\n",
       "  (-87.372630425, 34.212786323),\n",
       "  (-87.3724745659999, 34.2128339060001),\n",
       "  (-87.3723336319999, 34.213034613)])"
      ]
     },
     "execution_count": 20,
     "metadata": {},
     "output_type": "execute_result"
    }
   ],
   "source": [
    "geo_center"
   ]
  },
  {
   "cell_type": "code",
   "execution_count": 19,
   "metadata": {},
   "outputs": [],
   "source": [
    "# set variables\n",
    "lat_geo = []\n",
    "lon_geo = []\n",
    "geo_center = []\n",
    "\n",
    "# read JSON on active fire\n",
    "url = 'https://opendata.arcgis.com/datasets/5da472c6d27b4b67970acc7b5044c862_0.geojson'\n",
    "# geo_data = requests.get(url).json()\t\n",
    "geo_data = gpd.read_file(url)\n",
    "\n",
    "poly_list = geo_data.geometry"
   ]
  },
  {
   "cell_type": "code",
   "execution_count": 25,
   "metadata": {},
   "outputs": [],
   "source": [
    "url = 'https://opendata.arcgis.com/datasets/5da472c6d27b4b67970acc7b5044c862_0.geojson'\n",
    "# geo_data = requests.get(url).json()\t\n",
    "geo_data = gpd.read_file(url)\n",
    "\n",
    "poly_list = geo_data.geometry"
   ]
  },
  {
   "cell_type": "code",
   "execution_count": 26,
   "metadata": {},
   "outputs": [
    {
     "data": {
      "image/svg+xml": [
       "<svg xmlns=\"http://www.w3.org/2000/svg\" xmlns:xlink=\"http://www.w3.org/1999/xlink\" width=\"100.0\" height=\"100.0\" viewBox=\"-81.21853735031999 26.16629079068 0.0001673816399829775 9.089264009531917e-05\" preserveAspectRatio=\"xMinYMin meet\"><g transform=\"matrix(1,0,0,-1,0,52.3326724740001)\"><path fill-rule=\"evenodd\" fill=\"#66cc99\" stroke=\"#555555\" stroke-width=\"3.3476327996595503e-06\" opacity=\"0.6\" d=\"M -81.218376301,26.1663754840001 L -81.218523916,26.1663752600001 L -81.218531151,26.16629699 L -81.218376168,26.166303885 L -81.218376301,26.1663754840001 z\" /></g></svg>"
      ],
      "text/plain": [
       "<shapely.geometry.polygon.Polygon at 0x11d844410>"
      ]
     },
     "execution_count": 26,
     "metadata": {},
     "output_type": "execute_result"
    }
   ],
   "source": [
    "poly_list[0]"
   ]
  },
  {
   "cell_type": "code",
   "execution_count": 21,
   "metadata": {},
   "outputs": [
    {
     "data": {
      "text/plain": [
       "16"
      ]
     },
     "execution_count": 21,
     "metadata": {},
     "output_type": "execute_result"
    }
   ],
   "source": [
    "len(poly_list)"
   ]
  },
  {
   "cell_type": "code",
   "execution_count": 27,
   "metadata": {},
   "outputs": [],
   "source": [
    "geo_poly = points(poly_list[0])"
   ]
  },
  {
   "cell_type": "code",
   "execution_count": 28,
   "metadata": {},
   "outputs": [
    {
     "data": {
      "text/plain": [
       "[(-81.218376301, 26.1663754840001),\n",
       " (-81.218523916, 26.1663752600001),\n",
       " (-81.218531151, 26.16629699),\n",
       " (-81.218376168, 26.166303885),\n",
       " (-81.218376301, 26.1663754840001)]"
      ]
     },
     "execution_count": 28,
     "metadata": {},
     "output_type": "execute_result"
    }
   ],
   "source": [
    "geo_poly"
   ]
  },
  {
   "cell_type": "code",
   "execution_count": 24,
   "metadata": {},
   "outputs": [
    {
     "data": {
      "text/plain": [
       "5"
      ]
     },
     "execution_count": 24,
     "metadata": {},
     "output_type": "execute_result"
    }
   ],
   "source": [
    "len(geo_poly)"
   ]
  },
  {
   "cell_type": "code",
   "execution_count": null,
   "metadata": {},
   "outputs": [],
   "source": [
    "for i in range(0,len(poly_list)):\n",
    "\n",
    "    if poly_list[i].geom_type == 'MultiPolygon':\n",
    "\n",
    "        for j in range(0, len(poly_list[i])):\n",
    "\n",
    "            geo_poly = points(poly_list[i][j])\n",
    "\n",
    "            for k in range(0, len(geo_poly)):\n",
    "\n",
    "                fire_lon = geo_poly[k][0]\n",
    "                fire_lat = geo_poly[k][1]\n",
    "\n",
    "                dist = great_circle(lat_origin, lon_origin, fire_lat, fire_lon)\n",
    "\n",
    "                if dist <= 100:\n",
    "                    geo_center = [fire_lon, fire_lat]\n",
    "                    break\n",
    "\n",
    "            if len(geo_center) > 0:\n",
    "                break\n",
    "\n",
    "        if len(geo_center) > 0:\n",
    "            break\n",
    "\n",
    "    else:\n",
    "\n",
    "        geo_poly = points(poly_list[i])\n",
    "\n",
    "        for j in range(0, len(geo_poly)):\n",
    "\n",
    "            fire_lon = geo_poly[j][0]\n",
    "            fire_lat = geo_poly[j][1]\n",
    "\n",
    "            dist = great_circle(lat_origin, lon_origin, fire_lat, fire_lon)\n",
    "\n",
    "            if dist <= 100:\n",
    "                geo_center = [fire_lon, fire_lat]\n",
    "                break\n",
    "                \n",
    "        if dist <= 100:\n",
    "            geo_center = [fire_lon, fire_lat]\n",
    "            break\n",
    "\n",
    "    if len(geo_center) > 0:\n",
    "        break"
   ]
  },
  {
   "cell_type": "code",
   "execution_count": 13,
   "metadata": {},
   "outputs": [],
   "source": [
    "def fire_map():\n",
    "\n",
    "\tgeo_center = []\n",
    "\tadd_loc = []\n",
    "\n",
    "\taddress = \"Berkeley, CA\"\n",
    "# \tif request.method == \"POST\":\n",
    "# \t\taddress = str(request.form[\"address\"])\n",
    "\t\n",
    "\tadd_lat, add_lon = get_lat_loc(address)\n",
    "\t\n",
    "\tgeo_center = active_fire(add_lat, add_lon)\n",
    "\n",
    "\t# for i in range(0, len(geo_center)):\n",
    "\tgeo_lat = geo_center[1]\n",
    "\tgeo_lon = geo_center[0]\n",
    "\tcrs = convert_point(geo_lat, geo_lon)\n",
    "\n",
    "\tmap_output = read_csv()"
   ]
  },
  {
   "cell_type": "code",
   "execution_count": null,
   "metadata": {},
   "outputs": [],
   "source": [
    "fire_map()"
   ]
  },
  {
   "cell_type": "code",
   "execution_count": null,
   "metadata": {},
   "outputs": [],
   "source": [
    "# set variables\n",
    "lat_geo = []\n",
    "lon_geo = []\n",
    "geo_center = []\n",
    "\n",
    "url = 'https://opendata.arcgis.com/datasets/5da472c6d27b4b67970acc7b5044c862_0.geojson'\n",
    "# geo_data = requests.get(url).json()\t\n",
    "geo_data = gpd.read_file(url)\n",
    "\n",
    "poly_list = geo_data.geometry\n",
    "\n",
    "for i in range(0,len(poly_list)):\n",
    "\n",
    "    if len(geo_center) > 0:\n",
    "        break\n",
    "\n",
    "    if poly_list[i].geom_type == 'MultiPolygon':\n",
    "\n",
    "        for j in range(0, len(poly_list[i])):\n",
    "\n",
    "            geo_poly = points(poly_list[i][j])\n",
    "\n",
    "            for k in range(0, len(geo_poly)):\n",
    "\n",
    "                fire_lon = geo_poly[k][0]\n",
    "                fire_lat = geo_poly[k][1]\n",
    "\n",
    "                dist = great_circle(lat_origin, lon_origin, fire_lat, fire_lon)\n",
    "\n",
    "                if dist <= 100:\n",
    "                    geo_center = [fire_lon, fire_lat]\n",
    "                    break\n",
    "\n",
    "            if len(geo_center) > 0:\n",
    "                break\n",
    "\n",
    "        if len(geo_center) > 0:\n",
    "            break\n",
    "\n",
    "    else:\n",
    "\n",
    "        geo_poly = points(poly_list[i])\n",
    "\n",
    "        for j in range(0, len(geo_poly)):\n",
    "\n",
    "            fire_lon = geo_poly[j][0]\n",
    "            fire_lat = geo_poly[j][1]\n",
    "\n",
    "            dist = great_circle(lat_origin, lon_origin, fire_lat, fire_lon)\n",
    "\n",
    "            if dist <= 100:\n",
    "                geo_center = [fire_lon, fire_lat]\n",
    "                break\n",
    "\n",
    "        if len(geo_center) > 0:\n",
    "            break\n",
    "\n",
    "    if len(geo_center) > 0:\n",
    "        break\n",
    "\n",
    "return geo_center, geo_poly"
   ]
  }
 ],
 "metadata": {
  "kernelspec": {
   "display_name": "Python 3",
   "language": "python",
   "name": "python3"
  },
  "language_info": {
   "codemirror_mode": {
    "name": "ipython",
    "version": 3
   },
   "file_extension": ".py",
   "mimetype": "text/x-python",
   "name": "python",
   "nbconvert_exporter": "python",
   "pygments_lexer": "ipython3",
   "version": "3.7.6"
  }
 },
 "nbformat": 4,
 "nbformat_minor": 4
}
