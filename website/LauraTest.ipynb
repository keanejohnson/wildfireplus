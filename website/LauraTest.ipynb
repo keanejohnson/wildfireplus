{
 "cells": [
  {
   "cell_type": "markdown",
   "metadata": {
    "collapsed": "true"
   },
   "source": [
    "# Turn address to lat/long"
   ]
  },
  {
   "cell_type": "code",
   "execution_count": 1,
   "metadata": {},
   "outputs": [],
   "source": [
    "import mapbox\n",
    "from mapbox import Geocoder\n",
    "\n",
    "MAPBOX_ACCESS_KEY = 'pk.eyJ1IjoidGxldWNiIiwiYSI6ImNrN2N3d3h1aTA0YWwzaHFoNGJreDJmY2YifQ.pbWSn9txb4n8fKmUaKAG4g'\n",
    "\n",
    "def get_loc(address):\n",
    "    \"\"\"\n",
    "    Convert a string of address to latitude and longitude\n",
    "    Input: String\n",
    "    Output: latitude, longitude coordinate\n",
    "    \"\"\"\n",
    "\n",
    "    geocoder = mapbox.Geocoder(access_token = MAPBOX_ACCESS_KEY)\n",
    "    response = geocoder.forward(address)\n",
    "    address = response.json()\n",
    "    add_lat = address[\"features\"][0][\"center\"][1]\n",
    "    add_lon = address[\"features\"][0][\"center\"][0]\n",
    "    return add_lat, add_lon"
   ]
  },
  {
   "cell_type": "code",
   "execution_count": 2,
   "metadata": {},
   "outputs": [],
   "source": [
    "address = \"Berkeley,CA\""
   ]
  },
  {
   "cell_type": "code",
   "execution_count": 3,
   "metadata": {},
   "outputs": [
    {
     "name": "stdout",
     "output_type": "stream",
     "text": [
      "37.8708 -122.2729\n",
      "Wall time: 139 ms\n"
     ]
    }
   ],
   "source": [
    "%%time\n",
    "add_lat,add_lon = get_loc(address)\n",
    "print(add_lat,add_lon)"
   ]
  },
  {
   "cell_type": "markdown",
   "metadata": {
    "collapsed": "true"
   },
   "source": [
    "# Check if in trained area"
   ]
  },
  {
   "cell_type": "code",
   "execution_count": 4,
   "metadata": {},
   "outputs": [],
   "source": [
    "from shapely.geometry import Polygon\n",
    "from shapely.geometry import Point\n",
    "\n",
    "def chk_polygon(pt_lon, pt_lat):\n",
    "    \"\"\"\n",
    "    This function checks to see if address entered is within the polygon of data the model is trained on\n",
    "    Input: string\n",
    "    Output: boolean\n",
    "    \"\"\"\n",
    "\n",
    "    # the coordinates of the polygon\n",
    "    coords = [(-123.5,39), (-119.5,39), (-119.5,36), (-123.5,36),(-123.5,39)]\n",
    "    poly_bound = Polygon(coords)\n",
    "\n",
    "    # check ot see if provided coordinate is within the boundary of the polygon\n",
    "    point_interest = Point(pt_lon, pt_lat)\n",
    "    result = point_interest.within(poly_bound)\n",
    "\n",
    "    return result\n"
   ]
  },
  {
   "cell_type": "code",
   "execution_count": 5,
   "metadata": {},
   "outputs": [
    {
     "name": "stdout",
     "output_type": "stream",
     "text": [
      "True\n",
      "Wall time: 1 ms\n"
     ]
    }
   ],
   "source": [
    "%%time\n",
    "inpolyq = chk_polygon(add_lon,add_lat)\n",
    "print(inpolyq)"
   ]
  },
  {
   "cell_type": "markdown",
   "metadata": {
    "collapsed": "true"
   },
   "source": [
    "# Check if active fire nearby"
   ]
  },
  {
   "cell_type": "code",
   "execution_count": 62,
   "metadata": {},
   "outputs": [],
   "source": [
    "from math import radians, degrees, sin, cos, asin, acos, sqrt\n",
    "import geopandas as gpd\n",
    "import numpy as np\n",
    "\n",
    "def points(poly):\n",
    "    return list(map(tuple,np.asarray(poly.exterior.coords)))\n",
    "\n",
    "def great_circle(lat1, lon1, lat2, lon2):\n",
    "    \"\"\"\n",
    "    This function calculates the shortest distance between two sets of coordinates.\n",
    "    \"\"\"\n",
    "\n",
    "    lon1, lat1, lon2, lat2 = map(radians, [lon1, lat1, lon2, lat2])\n",
    "\n",
    "    # use 6371 if calculating kilometers (3958.756 for miles)\n",
    "    return 3958.756 * (acos(sin(lat1) * sin(lat2) + cos(lat1) * cos(lat2) * cos(lon1 - lon2)))\n",
    "\n",
    "\n",
    "def chk_fire(lon_origin, lat_origin):\n",
    "    \"\"\"\n",
    "    Function to find coordinates of active fires of given origin\n",
    "    Input: latitude, longitude of input address (origin)\n",
    "    Output: List of active fires within certain miles of origin\n",
    "    \"\"\"\n",
    "\n",
    "    # set variables\n",
    "    geo_center = []\n",
    "\n",
    "    # read JSON on active fire\n",
    "    url = 'https://opendata.arcgis.com/datasets/5da472c6d27b4b67970acc7b5044c862_0.geojson'\n",
    "    geo_data = gpd.read_file(url)\n",
    "    poly_list = geo_data.geometry\n",
    "    geo_poly = []\n",
    "    fire_num = None\n",
    "\n",
    "    for i in range(0,len(poly_list)):\n",
    "        if len(geo_center) > 0:\n",
    "            break\n",
    "        if poly_list[i].geom_type == 'MultiPolygon':\n",
    "            for j in range(0, len(poly_list[i])):\n",
    "                geo_poly = points(poly_list[i][j])\n",
    "                for k in range(0, len(geo_poly)):\n",
    "                    fire_lon = geo_poly[k][0]\n",
    "                    fire_lat = geo_poly[k][1]\n",
    "                    dist = great_circle(lat_origin, lon_origin, fire_lat, fire_lon)\n",
    "                    if dist <= 100:\n",
    "                        geo_center = [fire_lon, fire_lat]\n",
    "                        break\n",
    "                if len(geo_center) > 0:\n",
    "                    break\n",
    "            if len(geo_center) > 0:\n",
    "                break\n",
    "        else:\n",
    "            geo_poly = points(poly_list[i])\n",
    "            for j in range(0, len(geo_poly)):\n",
    "                fire_lon = geo_poly[j][0]\n",
    "                fire_lat = geo_poly[j][1]\n",
    "                dist = great_circle(lat_origin, lon_origin, fire_lat, fire_lon)\n",
    "                if dist <= 100:\n",
    "                    geo_center = [fire_lon, fire_lat]\n",
    "                    fire_num = i\n",
    "                    break\n",
    "            if len(geo_center) > 0:\n",
    "                break\n",
    "        if len(geo_center) > 0:\n",
    "            break\n",
    "        else:\n",
    "            geo_poly =[]\n",
    "            break\n",
    "\n",
    "    # convert to format for prediction\n",
    "    geo_poly = [tuple(l) for l in geo_poly]\n",
    "\n",
    "    return geo_center, geo_poly, fire_num, geo_data"
   ]
  },
  {
   "cell_type": "code",
   "execution_count": 67,
   "metadata": {},
   "outputs": [
    {
     "name": "stdout",
     "output_type": "stream",
     "text": [
      "Wall time: 833 ms\n"
     ]
    }
   ],
   "source": [
    "%%time\n",
    "geo_center, geo_poly, fire_num, geo_data = chk_fire(add_lon, add_lat)"
   ]
  },
  {
   "cell_type": "code",
   "execution_count": 68,
   "metadata": {},
   "outputs": [
    {
     "name": "stdout",
     "output_type": "stream",
     "text": [
      "[]\n"
     ]
    }
   ],
   "source": [
    "print(geo_center)"
   ]
  },
  {
   "cell_type": "code",
   "execution_count": 69,
   "metadata": {},
   "outputs": [
    {
     "name": "stdout",
     "output_type": "stream",
     "text": [
      "[]\n"
     ]
    }
   ],
   "source": [
    "print(geo_poly)"
   ]
  },
  {
   "cell_type": "code",
   "execution_count": 70,
   "metadata": {},
   "outputs": [
    {
     "name": "stdout",
     "output_type": "stream",
     "text": [
      "None\n"
     ]
    }
   ],
   "source": [
    "print(fire_num)"
   ]
  },
  {
   "cell_type": "code",
   "execution_count": 87,
   "metadata": {},
   "outputs": [
    {
     "name": "stdout",
     "output_type": "stream",
     "text": [
      "4 Corners 1.25228814085313\n"
     ]
    }
   ],
   "source": [
    "fire_num = 0\n",
    "# firerow = geo_data.iloc[fire_num]\n",
    "# firerow\n",
    "fname = geo_data.iloc[fire_num]['IncidentName']\n",
    "farea = geo_data.iloc[fire_num]['GISAcres']\n",
    "print(fname,farea)\n"
   ]
  },
  {
   "cell_type": "markdown",
   "metadata": {},
   "source": [
    "# No Active Fire nearby so go to 'else' on line 738"
   ]
  },
  {
   "cell_type": "code",
   "execution_count": 195,
   "metadata": {},
   "outputs": [],
   "source": [
    "# Fake Coords\n",
    "coords = [[-121.91030200875473, 36.49549958363892],[-121.89706675496642, 36.49549958363892],[-121.91471376001749, 36.49132363869813],[-121.89265500370365, 36.49132363869813],[-121.91912551128027, 36.48714769375733],[-121.89706675496642, 36.48714769375733],[-121.92353726254304, 36.48297174881653],[-121.89706675496642, 36.48297174881653],[-121.93236076506857, 36.478795803875734],[-121.88824325244089, 36.478795803875734],[-121.93677251633135, 36.474619858934936],[-121.88824325244089, 36.474619858934936],[-121.9279490138058, 36.47044391399414],[-121.88383150117812, 36.47044391399414],[-121.92353726254304, 36.46626796905334],[-121.91471376001749, 36.46626796905334],[-121.90589025749196, 36.46626796905334],[-121.87941974991534, 36.46626796905334],[-121.9279490138058, 36.46209202411254],[-121.87941974991534, 36.46209202411254],[-121.92353726254304, 36.457916079171746],[-121.86618449612705, 36.457916079171746],[-121.8441257398132, 36.457916079171746],[-121.83971398855043, 36.457916079171746],[-121.92353726254304, 36.45374013423095],[-121.8573609936015, 36.45374013423095],[-121.92353726254304, 36.44956418929015],[-121.85294924233874, 36.44956418929015],[-121.91912551128027, 36.44538824434935],[-121.84853749107596, 36.44538824434935],[-121.9279490138058, 36.441212299408555],[-121.90589025749196, 36.441212299408555],[-121.89265500370365, 36.441212299408555],[-121.87941974991534, 36.441212299408555],[-121.87500799865258, 36.441212299408555],[-121.84853749107596, 36.441212299408555],[-121.83971398855043, 36.441212299408555],[-121.82647873476212, 36.441212299408555],[-121.9279490138058, 36.43703635446776],[-121.90589025749196, 36.43703635446776],[-121.89265500370365, 36.43703635446776],[-121.87059624738981, 36.43703635446776],[-121.86618449612705, 36.43703635446776],[-121.81765523223659, 36.43703635446776],[-121.91471376001749, 36.43286040952696],[-121.89706675496642, 36.43286040952696],[-121.89265500370365, 36.43286040952696],[-121.87500799865258, 36.43286040952696],[-121.86177274486427, 36.43286040952696],[-121.81324348097381, 36.43286040952696],[-121.90589025749196, 36.42868446458617],[-121.89706675496642, 36.42868446458617],[-121.89265500370365, 36.42868446458617],[-121.87059624738981, 36.42868446458617],[-121.85294924233874, 36.42868446458617],[-121.82647873476212, 36.42868446458617],[-121.91030200875473, 36.42450851964537],[-121.87500799865258, 36.42450851964537],[-121.84853749107596, 36.42450851964537],[-121.82647873476212, 36.42450851964537],[-121.90589025749196, 36.420332574704574],[-121.86618449612705, 36.420332574704574],[-121.83971398855043, 36.420332574704574],[-121.82206698349935, 36.420332574704574],[-121.89706675496642, 36.416156629763776],[-121.86177274486427, 36.416156629763776],[-121.83971398855043, 36.416156629763776],[-121.81324348097381, 36.416156629763776],[-121.89265500370365, 36.41198068482298],[-121.87941974991534, 36.41198068482298],[-121.87500799865258, 36.41198068482298],[-121.80883172971104, 36.41198068482298],[-121.89706675496642, 36.40780473988218],[-121.87941974991534, 36.40780473988218],[-121.87500799865258, 36.40780473988218],[-121.80883172971104, 36.40780473988218],[-121.88383150117812, 36.40362879494138],[-121.80000822718551, 36.40362879494138],[-121.88383150117812, 36.399452850000586],[-121.82206698349935, 36.399452850000586],[-121.87941974991534, 36.39527690505979],[-121.82206698349935, 36.39527690505979],[-121.81765523223659, 36.39527690505979],[-121.80441997844828, 36.39527690505979],[-121.87500799865258, 36.39110096011899],[-121.80883172971104, 36.39110096011899],[-121.86177274486427, 36.38692501517819],[-121.80441997844828, 36.38692501517819],[-121.8573609936015, 36.382749070237395],[-121.85294924233874, 36.382749070237395],[-121.8441257398132, 36.382749070237395],[-121.83530223728766, 36.382749070237395],[-121.83971398855043, 36.3785731252966],[-121.82647873476212, 36.3785731252966],[-121.86618449612705, 36.361869345533414],[-121.86177274486427, 36.361869345533414],[-121.80441997844828, 36.361869345533414],[-121.80000822718551, 36.361869345533414],[-121.79559647592274, 36.361869345533414],[-121.79118472465997, 36.361869345533414],[-121.82206698349935, 36.357693400592616],[-121.81765523223659, 36.357693400592616],[-121.8573609936015, 36.34516556577022],[-121.85294924233874, 36.34516556577022]]"
   ]
  },
  {
   "cell_type": "markdown",
   "metadata": {},
   "source": [
    "## Get the Geo_polygon"
   ]
  },
  {
   "cell_type": "code",
   "execution_count": 196,
   "metadata": {},
   "outputs": [
    {
     "name": "stdout",
     "output_type": "stream",
     "text": [
      "Wall time: 0 ns\n"
     ]
    }
   ],
   "source": [
    "%%time\n",
    "geo_poly = [tuple(l) for l in coords]"
   ]
  },
  {
   "cell_type": "code",
   "execution_count": 179,
   "metadata": {},
   "outputs": [
    {
     "data": {
      "text/plain": [
       "<matplotlib.collections.PathCollection at 0x1e8517a7488>"
      ]
     },
     "execution_count": 179,
     "metadata": {},
     "output_type": "execute_result"
    },
    {
     "data": {
      "image/png": "[encoded data removed]",
      "text/plain": [
       "<Figure size 432x288 with 1 Axes>"
      ]
     },
     "metadata": {
      "needs_background": "light"
     },
     "output_type": "display_data"
    }
   ],
   "source": [
    "import matplotlib.pyplot as plt\n",
    "plt.scatter(*zip(*geo_poly))"
   ]
  },
  {
   "cell_type": "markdown",
   "metadata": {
    "collapsed": "true"
   },
   "source": [
    "### Calculate the area"
   ]
  },
  {
   "cell_type": "code",
   "execution_count": 112,
   "metadata": {},
   "outputs": [
    {
     "name": "stdout",
     "output_type": "stream",
     "text": [
      "22218767.448180243 m2\n"
     ]
    },
    {
     "name": "stderr",
     "output_type": "stream",
     "text": [
      "C:\\DDRIVE\\ProgramFiles\\Anaconda3\\envs\\earth-analytics-python\\lib\\site-packages\\pyproj\\crs\\crs.py:53: FutureWarning: '+init=<authority>:<code>' syntax is deprecated. '<authority>:<code>' is the preferred initialization method. When making the change, be mindful of axis order changes: https://pyproj4.github.io/pyproj/stable/gotchas.html#axis-order-changes-in-proj-6\n",
      "  return _prepare_from_string(\" \".join(pjargs))\n",
      "C:\\DDRIVE\\ProgramFiles\\Anaconda3\\envs\\earth-analytics-python\\lib\\site-packages\\pyproj\\crs\\crs.py:294: FutureWarning: '+init=<authority>:<code>' syntax is deprecated. '<authority>:<code>' is the preferred initialization method. When making the change, be mindful of axis order changes: https://pyproj4.github.io/pyproj/stable/gotchas.html#axis-order-changes-in-proj-6\n",
      "  projstring = _prepare_from_string(\" \".join((projstring, projkwargs)))\n"
     ]
    }
   ],
   "source": [
    "import shapely.ops as ops\n",
    "import pyproj\n",
    "from functools import partial\n",
    "\n",
    "polyarea = ops.transform(\n",
    "    partial(\n",
    "        pyproj.transform,\n",
    "        pyproj.Proj(init='EPSG:4326'),\n",
    "        pyproj.Proj(\n",
    "            proj='aea',\n",
    "            lat_1=coordpoly.bounds[1],\n",
    "            lat_2=coordpoly.bounds[3])),\n",
    "    coordpoly)\n",
    "\n",
    "area = polyarea.area\n",
    "print(area,\"m2\")"
   ]
  },
  {
   "cell_type": "code",
   "execution_count": 113,
   "metadata": {},
   "outputs": [
    {
     "data": {
      "text/plain": [
       "5490.36853028258"
      ]
     },
     "execution_count": 113,
     "metadata": {},
     "output_type": "execute_result"
    }
   ],
   "source": [
    "acres = area*0.000247105\n",
    "acres"
   ]
  },
  {
   "cell_type": "markdown",
   "metadata": {},
   "source": [
    "### Reorder points for plotting."
   ]
  },
  {
   "cell_type": "code",
   "execution_count": 197,
   "metadata": {},
   "outputs": [],
   "source": [
    "def poly_to_plot(geo_poly):\n",
    "    \"\"\"Reorder the polygon points to plot in clockwise fashion\n",
    "    Input: geo_poly list of (long,lat) tuples describing fire outline\n",
    "    Output: geo_poly list of ordered (long,lat)tuples for plotting fire outline\n",
    "    \"\"\"\n",
    "    # Because we always write the points along given latitude lines, we'll create\n",
    "    # a left and right pair and reorder that way. For any given latitude, get left and\n",
    "    # right most longitude\n",
    "\n",
    "    geo_poly.sort(key=lambda x:x[1])\n",
    "    lhs=[]\n",
    "    rhs=[]\n",
    "\n",
    "    i=0\n",
    "    while i < len(geo_poly):\n",
    "        lat = geo_poly[i][1]\n",
    "        longs=[]\n",
    "        while geo_poly[i][1] == lat:\n",
    "            longs.append(geo_poly[i][0])\n",
    "            i+=1\n",
    "            if i==104:\n",
    "                break\n",
    "        lhs.append([min(longs),lat])\n",
    "        rhs.append([max(longs),lat])\n",
    "\n",
    "    # reverse lhs so that the polygon is clockwise\n",
    "    lhs.reverse()\n",
    "    # Stitch them back together\n",
    "    geo_poly2 = rhs\n",
    "    geo_poly2.extend(lhs)\n",
    "    \n",
    "    return geo_poly2"
   ]
  },
  {
   "cell_type": "code",
   "execution_count": 199,
   "metadata": {},
   "outputs": [
    {
     "data": {
      "image/svg+xml": [
       "<svg xmlns=\"http://www.w3.org/2000/svg\" xmlns:xlink=\"http://www.w3.org/1999/xlink\" width=\"100.0\" height=\"100.0\" viewBox=\"-121.94278587704609 36.33915220505548 0.15761451310086727 0.16236073929818673\" preserveAspectRatio=\"xMinYMin meet\"><g transform=\"matrix(1,0,0,-1,0,72.84066514940915)\"><path fill-rule=\"evenodd\" fill=\"#66cc99\" stroke=\"#555555\" stroke-width=\"0.0032472147859637346\" opacity=\"0.6\" d=\"M -121.85294924233874,36.34516556577022 L -121.81765523223659,36.357693400592616 L -121.79118472465997,36.361869345533414 L -121.82647873476212,36.3785731252966 L -121.83530223728766,36.382749070237395 L -121.80441997844828,36.38692501517819 L -121.80883172971104,36.39110096011899 L -121.80441997844828,36.39527690505979 L -121.82206698349935,36.399452850000586 L -121.80000822718551,36.40362879494138 L -121.80883172971104,36.40780473988218 L -121.80883172971104,36.41198068482298 L -121.81324348097381,36.416156629763776 L -121.82206698349935,36.420332574704574 L -121.82647873476212,36.42450851964537 L -121.82647873476212,36.42868446458617 L -121.81324348097381,36.43286040952696 L -121.81765523223659,36.43703635446776 L -121.82647873476212,36.441212299408555 L -121.84853749107596,36.44538824434935 L -121.85294924233874,36.44956418929015 L -121.8573609936015,36.45374013423095 L -121.83971398855043,36.457916079171746 L -121.87941974991534,36.46209202411254 L -121.87941974991534,36.46626796905334 L -121.88383150117812,36.47044391399414 L -121.88824325244089,36.474619858934936 L -121.88824325244089,36.478795803875734 L -121.89706675496642,36.48297174881653 L -121.89706675496642,36.48714769375733 L -121.89265500370365,36.49132363869813 L -121.89706675496642,36.49549958363892 L -121.91030200875473,36.49549958363892 L -121.91471376001749,36.49132363869813 L -121.91912551128027,36.48714769375733 L -121.92353726254304,36.48297174881653 L -121.93236076506857,36.478795803875734 L -121.93677251633135,36.474619858934936 L -121.9279490138058,36.47044391399414 L -121.92353726254304,36.46626796905334 L -121.9279490138058,36.46209202411254 L -121.92353726254304,36.457916079171746 L -121.92353726254304,36.45374013423095 L -121.92353726254304,36.44956418929015 L -121.91912551128027,36.44538824434935 L -121.9279490138058,36.441212299408555 L -121.9279490138058,36.43703635446776 L -121.91471376001749,36.43286040952696 L -121.90589025749196,36.42868446458617 L -121.91030200875473,36.42450851964537 L -121.90589025749196,36.420332574704574 L -121.89706675496642,36.416156629763776 L -121.89265500370365,36.41198068482298 L -121.89706675496642,36.40780473988218 L -121.88383150117812,36.40362879494138 L -121.88383150117812,36.399452850000586 L -121.87941974991534,36.39527690505979 L -121.87500799865258,36.39110096011899 L -121.86177274486427,36.38692501517819 L -121.8573609936015,36.382749070237395 L -121.83971398855043,36.3785731252966 L -121.86618449612705,36.361869345533414 L -121.82206698349935,36.357693400592616 L -121.8573609936015,36.34516556577022 L -121.85294924233874,36.34516556577022 z\" /></g></svg>"
      ],
      "text/plain": [
       "<shapely.geometry.polygon.Polygon at 0x1e851539248>"
      ]
     },
     "execution_count": 199,
     "metadata": {},
     "output_type": "execute_result"
    }
   ],
   "source": [
    "from shapely.geometry import Polygon\n",
    "coordpoly2 = Polygon(poly_to_plot(geo_poly))\n",
    "coordpoly2"
   ]
  },
  {
   "cell_type": "code",
   "execution_count": 198,
   "metadata": {},
   "outputs": [
    {
     "name": "stdout",
     "output_type": "stream",
     "text": [
      "[[-121.85294924233874, 36.34516556577022], [-121.81765523223659, 36.357693400592616], [-121.79118472465997, 36.361869345533414], [-121.82647873476212, 36.3785731252966], [-121.83530223728766, 36.382749070237395], [-121.80441997844828, 36.38692501517819], [-121.80883172971104, 36.39110096011899], [-121.80441997844828, 36.39527690505979], [-121.82206698349935, 36.399452850000586], [-121.80000822718551, 36.40362879494138], [-121.80883172971104, 36.40780473988218], [-121.80883172971104, 36.41198068482298], [-121.81324348097381, 36.416156629763776], [-121.82206698349935, 36.420332574704574], [-121.82647873476212, 36.42450851964537], [-121.82647873476212, 36.42868446458617], [-121.81324348097381, 36.43286040952696], [-121.81765523223659, 36.43703635446776], [-121.82647873476212, 36.441212299408555], [-121.84853749107596, 36.44538824434935], [-121.85294924233874, 36.44956418929015], [-121.8573609936015, 36.45374013423095], [-121.83971398855043, 36.457916079171746], [-121.87941974991534, 36.46209202411254], [-121.87941974991534, 36.46626796905334], [-121.88383150117812, 36.47044391399414], [-121.88824325244089, 36.474619858934936], [-121.88824325244089, 36.478795803875734], [-121.89706675496642, 36.48297174881653], [-121.89706675496642, 36.48714769375733], [-121.89265500370365, 36.49132363869813], [-121.89706675496642, 36.49549958363892], [-121.91030200875473, 36.49549958363892], [-121.91471376001749, 36.49132363869813], [-121.91912551128027, 36.48714769375733], [-121.92353726254304, 36.48297174881653], [-121.93236076506857, 36.478795803875734], [-121.93677251633135, 36.474619858934936], [-121.9279490138058, 36.47044391399414], [-121.92353726254304, 36.46626796905334], [-121.9279490138058, 36.46209202411254], [-121.92353726254304, 36.457916079171746], [-121.92353726254304, 36.45374013423095], [-121.92353726254304, 36.44956418929015], [-121.91912551128027, 36.44538824434935], [-121.9279490138058, 36.441212299408555], [-121.9279490138058, 36.43703635446776], [-121.91471376001749, 36.43286040952696], [-121.90589025749196, 36.42868446458617], [-121.91030200875473, 36.42450851964537], [-121.90589025749196, 36.420332574704574], [-121.89706675496642, 36.416156629763776], [-121.89265500370365, 36.41198068482298], [-121.89706675496642, 36.40780473988218], [-121.88383150117812, 36.40362879494138], [-121.88383150117812, 36.399452850000586], [-121.87941974991534, 36.39527690505979], [-121.87500799865258, 36.39110096011899], [-121.86177274486427, 36.38692501517819], [-121.8573609936015, 36.382749070237395], [-121.83971398855043, 36.3785731252966], [-121.86618449612705, 36.361869345533414], [-121.82206698349935, 36.357693400592616], [-121.8573609936015, 36.34516556577022]]\n"
     ]
    }
   ],
   "source": [
    "print(poly_to_plot(geo_poly))"
   ]
  },
  {
   "cell_type": "markdown",
   "metadata": {},
   "source": [
    "## Get predictions for input polygon"
   ]
  },
  {
   "cell_type": "markdown",
   "metadata": {
    "collapsed": "true"
   },
   "source": [
    "### Setup"
   ]
  },
  {
   "cell_type": "code",
   "execution_count": 12,
   "metadata": {
    "jupyter": {
     "source_hidden": true
    }
   },
   "outputs": [
    {
     "name": "stderr",
     "output_type": "stream",
     "text": [
      "Using TensorFlow backend.\n"
     ]
    }
   ],
   "source": [
    "import boto3\n",
    "import io\n",
    "import pickle\n",
    "import requests\n",
    "import datetime\n",
    "import os\n",
    "import pandas as pd\n",
    "import itertools\n",
    "import keras"
   ]
  },
  {
   "cell_type": "code",
   "execution_count": 13,
   "metadata": {},
   "outputs": [
    {
     "name": "stdout",
     "output_type": "stream",
     "text": [
      "Wall time: 206 ms\n"
     ]
    }
   ],
   "source": [
    "%%time\n",
    "s3_client = boto3.client('s3')\n",
    "bucket_name = 'hotzone'"
   ]
  },
  {
   "cell_type": "markdown",
   "metadata": {
    "collapsed": "true"
   },
   "source": [
    "### Pull configuration and weights from S3"
   ]
  },
  {
   "cell_type": "code",
   "execution_count": 14,
   "metadata": {},
   "outputs": [],
   "source": [
    "def pull_data_from_s3(s3_client, bucket_name, key_name):\n",
    "    '''\n",
    "    Pulls pre-processed data from S3.\n",
    "\n",
    "    Args:\n",
    "        - s3_client: boto3 s3 client\n",
    "        - bucket_name: name of bucket on s3 to pull data from\n",
    "        - key_name: directory/file_name to pull data from\n",
    "    Returns:\n",
    "        - Nothing\n",
    "\n",
    "    https://stackoverflow.com/questions/48049557/how-to-write-npy-file-to-s3-directly\n",
    "    '''\n",
    "\n",
    "    array_data = io.BytesIO()\n",
    "    s3_client.download_fileobj(bucket_name, key_name, array_data)\n",
    "\n",
    "    array_data.seek(0)\n",
    "    array = pickle.load(array_data)\n",
    "\n",
    "    return array"
   ]
  },
  {
   "cell_type": "code",
   "execution_count": 15,
   "metadata": {},
   "outputs": [
    {
     "name": "stdout",
     "output_type": "stream",
     "text": [
      "Wall time: 637 ms\n"
     ]
    }
   ],
   "source": [
    "%%time\n",
    "new_config = pull_data_from_s3(s3_client, bucket_name, 'models/model_config.pickle')"
   ]
  },
  {
   "cell_type": "code",
   "execution_count": 16,
   "metadata": {},
   "outputs": [
    {
     "name": "stdout",
     "output_type": "stream",
     "text": [
      "Wall time: 451 ms\n"
     ]
    }
   ],
   "source": [
    "%%time\n",
    "new_weights = pull_data_from_s3(s3_client, bucket_name, 'models/model_weights.pickle')"
   ]
  },
  {
   "cell_type": "markdown",
   "metadata": {
    "collapsed": "true"
   },
   "source": [
    "### Pull Weather Maxes from S3"
   ]
  },
  {
   "cell_type": "code",
   "execution_count": 17,
   "metadata": {},
   "outputs": [],
   "source": [
    "def pull_weather_maxes_from_s3():\n",
    "    '''\n",
    "    Pull files from S3 for the provided year and save to local directory\n",
    "    '''\n",
    "    s3 = boto3.resource('s3')\n",
    "\n",
    "    key = \"BayAreaWeather/max_values/max_values.pickle\"\n",
    "    directory = 'static/'\n",
    "    path = directory + 'max_values.pickle'\n",
    "\n",
    "    s3.Bucket('hotzone').download_file(key, path)\n",
    "\n",
    "    total_path = os.path.abspath(directory)\n",
    "\n",
    "    for f in os.listdir(total_path):\n",
    "        if f.endswith('.pickle'):\n",
    "            max_values = total_path + '/' + f\n",
    "\n",
    "    max_values = pd.read_pickle(max_values)\n",
    "\n",
    "    return max_values"
   ]
  },
  {
   "cell_type": "code",
   "execution_count": 18,
   "metadata": {},
   "outputs": [
    {
     "name": "stdout",
     "output_type": "stream",
     "text": [
      "Wall time: 740 ms\n"
     ]
    }
   ],
   "source": [
    "%%time\n",
    "max_values = pull_weather_maxes_from_s3()"
   ]
  },
  {
   "cell_type": "markdown",
   "metadata": {},
   "source": [
    "### First part of prediction algorithm"
   ]
  },
  {
   "cell_type": "code",
   "execution_count": 19,
   "metadata": {},
   "outputs": [],
   "source": [
    "def get_index(long,lat):\n",
    "\n",
    "    '''\n",
    "    Get the pixel of a given coordinate.\n",
    "\n",
    "    Args:\n",
    "        - Long: longitude of point\n",
    "        - Lat: latitude of point\n",
    "    Returns:\n",
    "        - pixelrow: index of row of point\n",
    "        - pixelcol: index of column of point\n",
    "\n",
    "    '''\n",
    "\n",
    "    left = -123.50294421461426\n",
    "    top = 39.00106654811723\n",
    "\n",
    "    xres = 0.004411751262768785\n",
    "    yres = -0.0041759449407971815\n",
    "\n",
    "    pixelcol = int(np.rint((long - left)/xres))\n",
    "    pixelrow = int(np.rint((lat - top)/yres))\n",
    "\n",
    "    return (pixelrow, pixelcol)"
   ]
  },
  {
   "cell_type": "code",
   "execution_count": 20,
   "metadata": {},
   "outputs": [],
   "source": [
    "def predict_day_p1(lat_long_coords,day=1):\n",
    "    \n",
    "    today = np.zeros((719, 908))\n",
    "    side = 16\n",
    "\n",
    "    for (long, lat) in lat_long_coords:\n",
    "        index = get_index(long,lat)\n",
    "        today[index] = 1\n",
    "\n",
    "    np.pad(today, pad_width=32, mode='constant', constant_values=0)\n",
    "\n",
    "    fire_vals = np.where(today == 1)\n",
    "\n",
    "    x_avg = int(np.mean(fire_vals[0]))\n",
    "    y_avg = int(np.mean(fire_vals[1]))\n",
    "\n",
    "    x_min = x_avg - 50\n",
    "    x_max = x_avg + 50\n",
    "\n",
    "    x_min = max(x_min, 0)\n",
    "    x_max = min(x_max, 972)\n",
    "\n",
    "    y_min = y_avg - 50\n",
    "    y_max = y_avg + 50\n",
    "\n",
    "    y_min = max(y_min, 0)\n",
    "    y_max = min(y_max, 783)\n",
    "\n",
    "    x_vals = range(x_min, x_max)\n",
    "    y_vals = range(y_min, y_max)\n",
    "\n",
    "    vals = list(itertools.product(x_vals, y_vals))\n",
    "    \n",
    "    return (x_avg,y_avg,vals,today,side)"
   ]
  },
  {
   "cell_type": "code",
   "execution_count": 21,
   "metadata": {},
   "outputs": [
    {
     "name": "stdout",
     "output_type": "stream",
     "text": [
      "Wall time: 11.5 ms\n"
     ]
    }
   ],
   "source": [
    "%%time\n",
    "x_avg,y_avg,vals,today,side = predict_day_p1(geo_poly,1)"
   ]
  },
  {
   "cell_type": "markdown",
   "metadata": {},
   "source": [
    "### Second part of prediction algorithm where we get the weather for the average point"
   ]
  },
  {
   "cell_type": "code",
   "execution_count": 22,
   "metadata": {},
   "outputs": [],
   "source": [
    "def get_coords(y, x):\n",
    "\n",
    "    '''\n",
    "    Get the coordinates of a given pixel in the tif coordinate system.\n",
    "\n",
    "    Args:\n",
    "        - Y: index of row of point\n",
    "        - X: index of column of point\n",
    "    Returns:\n",
    "        - Long: longitude of point\n",
    "        - Lat: latitude of point\n",
    "    '''\n",
    "\n",
    "    left = -123.50294421461426\n",
    "    top = 39.00106654811723\n",
    "\n",
    "    xres = 0.004411751262768785\n",
    "    yres = -0.0041759449407971815\n",
    "\n",
    "    deltax = xres*x\n",
    "    deltay = yres*y\n",
    "\n",
    "    long = left+deltax\n",
    "    lat = top+deltay\n",
    "\n",
    "    return (long, lat)"
   ]
  },
  {
   "cell_type": "code",
   "execution_count": 23,
   "metadata": {},
   "outputs": [
    {
     "name": "stdout",
     "output_type": "stream",
     "text": [
      "Wall time: 0 ns\n"
     ]
    }
   ],
   "source": [
    "%%time\n",
    "(long, lat) = get_coords(x_avg, y_avg)"
   ]
  },
  {
   "cell_type": "code",
   "execution_count": 24,
   "metadata": {},
   "outputs": [],
   "source": [
    "def get_weather(max_values, lat, long, day):\n",
    "\n",
    "    '''\n",
    "    Get tomorrow's weather forecast for fire prediction.\n",
    "\n",
    "    Args:\n",
    "        - Max_values: list of weather max_values used to scale weather\n",
    "        - Lat: latitude of point to fetch weather for\n",
    "        - Long: longitude of point to fetch weather for\n",
    "    Returns:\n",
    "        - weather: a list of weather data to use for prediction\n",
    "    '''\n",
    "\n",
    "\n",
    "    s = requests.Session()\n",
    "    s.auth = ('user', 'pass')\n",
    "    s.headers.update({'Accept-Encoding':'gzip'})\n",
    "    headers = {'Accept-Encoding':'gzip'}\n",
    "\n",
    "    key = '5ffac5f056d341c6296cba58fa96e9ba'\n",
    "    date = str(datetime.date.today() + datetime.timedelta(days = day)) + 'T12:00:00'\n",
    "    lat = str(lat,)\n",
    "    long = str(long)\n",
    "    blocks = '[currently,minutely,hourly,alerts]'\n",
    "    units = 'ca'\n",
    "\n",
    "    # set the query string for darksky\n",
    "    query = ('https://api.darksky.net/forecast/'+key+'/'+\n",
    "    lat+','+long+','+date+'?exclude='\n",
    "    +blocks+'&units='+units)\n",
    "\n",
    "    # Make the call to Dark Sky to get all the data for that date and location\n",
    "    r = s.get(query,headers=headers)\n",
    "\n",
    "    data = r.json()\n",
    "    data = data['daily']['data'][0]\n",
    "\n",
    "    rainint = data['precipIntensityMax']\n",
    "    high_t = data['temperatureHigh']\n",
    "    low_t= data['temperatureLow']\n",
    "    humidity = data['humidity']\n",
    "    wind_speed = data['windSpeed']\n",
    "    wind_direction = data['windBearing']\n",
    "\n",
    "    weather_data = {\n",
    "        'rainint': rainint,\n",
    "        'High T': high_t+273.15,\n",
    "        'Low T': low_t+273.15,\n",
    "        'Humidity': humidity,\n",
    "        'Wind Speed': wind_speed,\n",
    "        'Wind Direction': wind_direction\n",
    "    }\n",
    "\n",
    "    weather = []\n",
    "\n",
    "    for k, v in weather_data.items():\n",
    "        max_val = max_values.get(k, 1)\n",
    "\n",
    "        val = v/float(max_val)\n",
    "        weather.append(val)\n",
    "\n",
    "    return weather"
   ]
  },
  {
   "cell_type": "code",
   "execution_count": 25,
   "metadata": {},
   "outputs": [
    {
     "name": "stdout",
     "output_type": "stream",
     "text": [
      "weather_data {'rainint': 0.0381, 'High T': 284.67999999999995, 'Low T': 280.71, 'Humidity': 0.92, 'Wind Speed': 7.46, 'Wind Direction': 274}\n",
      "Wall time: 303 ms\n"
     ]
    }
   ],
   "source": [
    "%%time\n",
    "day=1\n",
    "weather = get_weather(max_values, lat, long, day)"
   ]
  },
  {
   "cell_type": "markdown",
   "metadata": {},
   "source": [
    "### 3rd part of prediction algorithm - actually running the prediction"
   ]
  },
  {
   "cell_type": "code",
   "execution_count": 48,
   "metadata": {},
   "outputs": [],
   "source": [
    "def predict_day_p3(new_config,new_weights,today,vals,weather,side):\n",
    "    \n",
    "    # Need this line to run on Laura's Machine\n",
    "    #keras.backend.tensorflow_backend._SYMBOLIC_SCOPE.value=True\n",
    "    #  Comment out for server if needed\n",
    "    import time\n",
    "\n",
    "    model = keras.Model.from_config(new_config)\n",
    "    model.set_weights(new_weights)\n",
    "    \n",
    "    #values = []\n",
    "\n",
    "    shape = today.shape\n",
    "    prediction = np.zeros(shape)\n",
    "    \n",
    "    times=np.zeros(shape)\n",
    "    for (xi, yi) in vals:\n",
    "\n",
    "        point = (xi, yi)\n",
    "\n",
    "        xi_r = int(xi + side)\n",
    "        xi_l = int(xi - side)\n",
    "        yi_b = int(yi + side)\n",
    "        yi_t = int(yi - side)\n",
    "        \n",
    "        if xi_r > 0 and xi_l > 0 and yi_b > 0 and yi_t > 0:\n",
    "\n",
    "            m = today[xi_l:xi_r, yi_t:yi_b]\n",
    "\n",
    "            if (m.shape == (32, 32)):\n",
    "                fire = []\n",
    "                w = []\n",
    "\n",
    "                fire.append(np.asarray(m))\n",
    "                w.append(np.asarray(weather))\n",
    "\n",
    "                fire = np.asarray(fire)\n",
    "                w = np.asarray(w)\n",
    "\n",
    "                obs = len(fire)\n",
    "                fire = fire.reshape(obs, 32, 32, 1)\n",
    "                \n",
    "                st = time.monotonic_ns()\n",
    "                val = model.predict([fire, w])\n",
    "                et = time.monotonic_ns()\n",
    "\n",
    "                prediction[point] = val\n",
    "                times[point]=(et-st)\n",
    "        \n",
    "    outline = np.rint(prediction)\n",
    "    outline = np.diff(outline)\n",
    "    outline = np.abs(outline)\n",
    "    \n",
    "    return (outline,times)"
   ]
  },
  {
   "cell_type": "code",
   "execution_count": 27,
   "metadata": {},
   "outputs": [
    {
     "name": "stdout",
     "output_type": "stream",
     "text": [
      "Wall time: 16 s\n"
     ]
    }
   ],
   "source": [
    "%%time\n",
    "outline,times=predict_day_p3(new_config,new_weights,today,vals,weather,side)"
   ]
  },
  {
   "cell_type": "markdown",
   "metadata": {},
   "source": [
    "times for whole loop predict ste (early version)\n",
    "get model time = 0.13748407363891602  \n",
    "predict loop time= 14.675502300262451  \n",
    "reformatting matrix time= 0.013500213623046875  \n",
    "Wall time: 14.8 s"
   ]
  },
  {
   "cell_type": "markdown",
   "metadata": {
    "collapsed": "true"
   },
   "source": [
    "#### distribution of prediction times"
   ]
  },
  {
   "cell_type": "code",
   "execution_count": 49,
   "metadata": {},
   "outputs": [
    {
     "name": "stdout",
     "output_type": "stream",
     "text": [
      "141000000.0 0.0\n"
     ]
    }
   ],
   "source": [
    "mxt=np.amax(times)\n",
    "mnt=np.amin(times)\n",
    "print(mxt,mnt)"
   ]
  },
  {
   "cell_type": "code",
   "execution_count": 29,
   "metadata": {},
   "outputs": [
    {
     "data": {
      "text/plain": [
       "(719, 908)"
      ]
     },
     "execution_count": 29,
     "metadata": {},
     "output_type": "execute_result"
    }
   ],
   "source": [
    "times.shape"
   ]
  },
  {
   "cell_type": "code",
   "execution_count": 30,
   "metadata": {},
   "outputs": [],
   "source": [
    "times2=times.flatten()"
   ]
  },
  {
   "cell_type": "code",
   "execution_count": 31,
   "metadata": {},
   "outputs": [
    {
     "data": {
      "text/plain": [
       "(652852,)"
      ]
     },
     "execution_count": 31,
     "metadata": {},
     "output_type": "execute_result"
    }
   ],
   "source": [
    "times2.shape"
   ]
  },
  {
   "cell_type": "code",
   "execution_count": 32,
   "metadata": {},
   "outputs": [
    {
     "name": "stdout",
     "output_type": "stream",
     "text": [
      "0.141\n"
     ]
    }
   ],
   "source": [
    "z=np.amax(times2)\n",
    "print(z/1000000000.0)"
   ]
  },
  {
   "cell_type": "code",
   "execution_count": 33,
   "metadata": {},
   "outputs": [
    {
     "name": "stdout",
     "output_type": "stream",
     "text": [
      "15.474\n"
     ]
    }
   ],
   "source": [
    "g=np.sum(times2)\n",
    "print(g/1000000000.0)"
   ]
  },
  {
   "cell_type": "code",
   "execution_count": 34,
   "metadata": {},
   "outputs": [
    {
     "name": "stdout",
     "output_type": "stream",
     "text": [
      "15.474\n"
     ]
    }
   ],
   "source": [
    "t3 = times2/1000000000.0\n",
    "h = np.sum(t3)\n",
    "print(h)"
   ]
  },
  {
   "cell_type": "code",
   "execution_count": 35,
   "metadata": {},
   "outputs": [],
   "source": [
    "t4 = t3[t3>0]"
   ]
  },
  {
   "cell_type": "code",
   "execution_count": 36,
   "metadata": {},
   "outputs": [
    {
     "data": {
      "text/plain": [
       "(982,)"
      ]
     },
     "execution_count": 36,
     "metadata": {},
     "output_type": "execute_result"
    }
   ],
   "source": [
    "t4.shape"
   ]
  },
  {
   "cell_type": "code",
   "execution_count": 38,
   "metadata": {
    "collapsed": true,
    "jupyter": {
     "outputs_hidden": true
    }
   },
   "outputs": [
    {
     "data": {
      "text/plain": [
       "<matplotlib.image.AxesImage at 0x1e84fd2aec8>"
      ]
     },
     "execution_count": 38,
     "metadata": {},
     "output_type": "execute_result"
    },
    {
     "data": {
      "image/png": "[encoded data removed]",
      "text/plain": [
       "<Figure size 432x288 with 1 Axes>"
      ]
     },
     "metadata": {
      "needs_background": "light"
     },
     "output_type": "display_data"
    }
   ],
   "source": [
    "import matplotlib.pyplot as plt\n",
    "plt.imshow(outline)"
   ]
  },
  {
   "cell_type": "code",
   "execution_count": 39,
   "metadata": {},
   "outputs": [
    {
     "data": {
      "image/png": "[encoded data removed]",
      "text/plain": [
       "<Figure size 432x288 with 1 Axes>"
      ]
     },
     "metadata": {
      "needs_background": "light"
     },
     "output_type": "display_data"
    }
   ],
   "source": [
    "plt.hist(t4,bins=[0,0,0.0150,0.0155,0.016,0.0165,0.017,0.0175])\n",
    "plt.show()"
   ]
  },
  {
   "cell_type": "markdown",
   "metadata": {},
   "source": [
    "### 4th part of prediction algorithm "
   ]
  },
  {
   "cell_type": "code",
   "execution_count": 40,
   "metadata": {},
   "outputs": [],
   "source": [
    "def predict_day_p4(outline):\n",
    "    # get pixels from outline\n",
    "    poly_to_plot = np.where(outline != 0)\n",
    "\n",
    "    # instantiate a matrix in the target shape\n",
    "    shape = outline.shape\n",
    "    poly = np.zeros(shape)\n",
    "\n",
    "    # create a list of coordinates in the tif coordinate system\n",
    "    tif_coordinates = []\n",
    "\n",
    "    for (xi, yi) in list(zip(poly_to_plot[0], poly_to_plot[1])):\n",
    "        poly[xi,yi] = 1\n",
    "        coords = get_coords(xi, yi)\n",
    "        tif_coordinates.append(coords)\n",
    "\n",
    "    return tif_coordinates"
   ]
  },
  {
   "cell_type": "code",
   "execution_count": 41,
   "metadata": {},
   "outputs": [
    {
     "name": "stdout",
     "output_type": "stream",
     "text": [
      "Wall time: 6 ms\n"
     ]
    }
   ],
   "source": [
    "%%time\n",
    "tif_coords = predict_day_p4(outline)"
   ]
  },
  {
   "cell_type": "code",
   "execution_count": 42,
   "metadata": {},
   "outputs": [
    {
     "name": "stdout",
     "output_type": "stream",
     "text": [
      "134\n"
     ]
    }
   ],
   "source": [
    "print(len(tif_coords))"
   ]
  },
  {
   "cell_type": "markdown",
   "metadata": {},
   "source": [
    "### Total Prediction algorithm"
   ]
  },
  {
   "cell_type": "code",
   "execution_count": 43,
   "metadata": {},
   "outputs": [],
   "source": [
    "def predict_day(lat_long_coords, day=1):\n",
    "    \"\"\"\n",
    "    Predict where fire will be in the next day.\n",
    "    Args:\n",
    "        - lat_long_coords: a list of lat/long coordinates that make up a polygon representing where fire is\n",
    "    Returns:\n",
    "        - prediction: a list of lat/long coordinates that make up a polygon representing where fire will be\n",
    "    \"\"\"\n",
    "\n",
    "    # load model from s3\n",
    "\n",
    "    new_config = pull_data_from_s3(s3_client, bucket_name, 'models/model_config.pickle')\n",
    "    new_weights = pull_data_from_s3(s3_client, bucket_name, 'models/model_weights.pickle')\n",
    "\n",
    "    # Need this line to run on Laura's Machine\n",
    "    #keras.backend.tensorflow_backend._SYMBOLIC_SCOPE.value=True\n",
    "    #  Comment out for server if needed\n",
    "\n",
    "    model = keras.Model.from_config(new_config)\n",
    "    model.set_weights(new_weights)\n",
    "\n",
    "    today = np.zeros((719, 908))\n",
    "    side = 16\n",
    "\n",
    "    for (long, lat) in lat_long_coords:\n",
    "        index = get_index(long,lat)\n",
    "        today[index] = 1\n",
    "\n",
    "    np.pad(today, pad_width=32, mode='constant', constant_values=0)\n",
    "\n",
    "    fire_vals = np.where(today == 1)\n",
    "\n",
    "    x_avg = int(np.mean(fire_vals[0]))\n",
    "    y_avg = int(np.mean(fire_vals[1]))\n",
    "\n",
    "    x_min = x_avg - 50\n",
    "    x_max = x_avg + 50\n",
    "\n",
    "    x_min = max(x_min, 0)\n",
    "    x_max = min(x_max, 972)\n",
    "\n",
    "    y_min = y_avg - 50\n",
    "    y_max = y_avg + 50\n",
    "\n",
    "    y_min = max(y_min, 0)\n",
    "    y_max = min(y_max, 783)\n",
    "\n",
    "\n",
    "    x_vals = range(x_min, x_max)\n",
    "    y_vals = range(y_min, y_max)\n",
    "\n",
    "    vals = list(itertools.product(x_vals, y_vals))\n",
    "\n",
    "    values = []\n",
    "\n",
    "    shape = today.shape\n",
    "    prediction = np.zeros(shape)\n",
    "\n",
    "    (long, lat) = get_coords(x_avg, y_avg)\n",
    "\n",
    "    # get max weather values\n",
    "    max_values = pull_weather_maxes_from_s3()\n",
    "\n",
    "    weather = get_weather(max_values, lat, long, day)\n",
    "\n",
    "    for (xi, yi) in vals:\n",
    "\n",
    "        point = (xi, yi)\n",
    "\n",
    "        xi_r = int(xi + side)\n",
    "        xi_l = int(xi - side)\n",
    "        yi_b = int(yi + side)\n",
    "        yi_t = int(yi - side)\n",
    "\n",
    "        if xi_r > 0 and xi_l > 0 and yi_b > 0 and yi_t > 0:\n",
    "\n",
    "            m = today[xi_l:xi_r, yi_t:yi_b]\n",
    "\n",
    "            if (m.shape == (32, 32)):\n",
    "                fire = []\n",
    "                w = []\n",
    "\n",
    "                fire.append(np.asarray(m))\n",
    "                w.append(np.asarray(weather))\n",
    "\n",
    "                fire = np.asarray(fire)\n",
    "                w = np.asarray(w)\n",
    "\n",
    "                obs = len(fire)\n",
    "                fire = fire.reshape(obs, 32, 32, 1)\n",
    "\n",
    "                val = model.predict([fire, w])\n",
    "\n",
    "                prediction[point] = val\n",
    "\n",
    "    outline = np.rint(prediction)\n",
    "    outline = np.diff(outline)\n",
    "    outline = np.abs(outline)\n",
    "\n",
    "    # get pixels from outline\n",
    "    poly_to_plot = np.where(outline != 0)\n",
    "\n",
    "\n",
    "    # instantiate a matrix in the target shape\n",
    "    shape = outline.shape\n",
    "    poly = np.zeros(shape)\n",
    "\n",
    "    # create a list of coordinates in the tif coordinate system\n",
    "    tif_coordinates = []\n",
    "\n",
    "    for (xi, yi) in list(zip(poly_to_plot[0], poly_to_plot[1])):\n",
    "        poly[xi,yi] = 1\n",
    "        coords = get_coords(xi, yi)\n",
    "        tif_coordinates.append(coords)\n",
    "\n",
    "    return tif_coordinates"
   ]
  },
  {
   "cell_type": "code",
   "execution_count": 44,
   "metadata": {},
   "outputs": [
    {
     "name": "stdout",
     "output_type": "stream",
     "text": [
      "weather_data {'rainint': 0.0381, 'High T': 284.67999999999995, 'Low T': 280.71, 'Humidity': 0.92, 'Wind Speed': 7.46, 'Wind Direction': 274}\n",
      "Wall time: 18.7 s\n"
     ]
    }
   ],
   "source": [
    "%%time\n",
    "predict_day1 = predict_day(geo_poly, 1)"
   ]
  },
  {
   "cell_type": "code",
   "execution_count": 45,
   "metadata": {},
   "outputs": [
    {
     "name": "stdout",
     "output_type": "stream",
     "text": [
      "134\n"
     ]
    }
   ],
   "source": [
    "print(len(predict_day1))"
   ]
  },
  {
   "cell_type": "markdown",
   "metadata": {},
   "source": [
    "## Map output of prediction"
   ]
  },
  {
   "cell_type": "code",
   "execution_count": 46,
   "metadata": {},
   "outputs": [],
   "source": [
    "map_output_day1 = [list(row) for row in predict_day1] # to convert to format for mapbox"
   ]
  },
  {
   "cell_type": "code",
   "execution_count": null,
   "metadata": {},
   "outputs": [],
   "source": []
  },
  {
   "cell_type": "markdown",
   "metadata": {
    "collapsed": "true"
   },
   "source": [
    "# Getting Active fires for the table"
   ]
  },
  {
   "cell_type": "code",
   "execution_count": 56,
   "metadata": {},
   "outputs": [],
   "source": [
    "def active_fire():\n",
    "    \"\"\"\n",
    "    Function to find coordinates of all current active fires from url\n",
    "    Input: N/A\n",
    "    Output: List of tuples of active fires\n",
    "    \"\"\"\n",
    "    import re\n",
    "    import time\n",
    "\n",
    "    # set variables\n",
    "    lat_geo = []\n",
    "    lon_geo = []\n",
    "    geo_fire = []\n",
    "\n",
    "    # list of the States in USA\n",
    "    states = ['Alabama','Alaska','Arizona','Arkansas','California','Colorado','Connecticut','Delaware','Florida','Georgia','Hawaii','Idaho','Illinois','Indiana','Iowa','Kansas','Kentucky','Louisiana','Maine','Maryland','Massachusetts','Michigan','Minnesota','Mississippi','Missouri','Montana','Nebraska','Nevada','New Hampshire','New Jersey','New Mexico','New York','North Carolina','North Dakota','South Dakota','Ohio','Oklahoma','Oregon','Pennsylvania','Rhode Island','South Carolina','South Dakota','Tennessee','Texas','Utah','Vermont','Virginia','Washington','West Virginia','Wisconsin','Wyoming']\n",
    "\n",
    "    st1 = time.time()\n",
    "    # read JSON on active fire\n",
    "    url = 'https://opendata.arcgis.com/datasets/5da472c6d27b4b67970acc7b5044c862_0.geojson'\n",
    "    et1 = time.time()\n",
    "    print(\"time to request firedata\", (et1-st1))\n",
    "    # geo_data = requests.get(url).json()\n",
    "    geo_data = gpd.read_file(url)\n",
    "\n",
    "    poly_list = geo_data.geometry\n",
    "\n",
    "    # grab the first coordinates of all polygons to create list of active fires\n",
    "    st2 = time.time()\n",
    "    for m in range(0,len(poly_list)):\n",
    "\n",
    "        if poly_list[m].geom_type == 'MultiPolygon':\n",
    "\n",
    "            geo_poly = points(poly_list[m][0])\n",
    "\n",
    "            fire_lon = geo_poly[0][0]\n",
    "            fire_lat = geo_poly[0][1]\n",
    "\n",
    "            lat_geo.append(fire_lat)\n",
    "            lon_geo.append(fire_lon)\n",
    "\n",
    "        else:\n",
    "\n",
    "            geo_poly = points(poly_list[m])\n",
    "\n",
    "            fire_lon = geo_poly[0][0]\n",
    "            fire_lat = geo_poly[0][1]\n",
    "\n",
    "            lat_geo.append(fire_lat)\n",
    "            lon_geo.append(fire_lon)\n",
    "\n",
    "    geo_fire = [[a, b] for a, b in zip(lon_geo, lat_geo)]\n",
    "    et2 = time.time()\n",
    "    print('time to get first coords of fires for list',(et2-st2))\n",
    "    #\n",
    "    fire_names = geo_data.IncidentName\n",
    "    acres = geo_data.GISAcres\n",
    "\n",
    "    geocoder = mapbox.Geocoder(access_token = MAPBOX_ACCESS_KEY)\n",
    "\n",
    "    loc_output = []\n",
    "    state_output = []\n",
    "    st3 = time.time()\n",
    "    for l in range(0,len(geo_fire)):\n",
    "\n",
    "        rev_lon = geo_fire[l][0]\n",
    "        rev_lat = geo_fire[l][1]\n",
    "\n",
    "        response = geocoder.reverse(lon=rev_lon, lat=rev_lat)\n",
    "\n",
    "        features = response.geojson()['features']\n",
    "\n",
    "        loc_name = features[0][\"place_name\"]\n",
    "\n",
    "        loc_output.append(loc_name)\n",
    "\n",
    "        result = loc_name.split(\",\")\n",
    "\n",
    "        for s in range(0,len(result)):\n",
    "            res = result[s]\n",
    "            res1 = re.sub(r'[0-9]+', '',res)\n",
    "            res2 = res1.strip()\n",
    "            if res2 in states:\n",
    "                state_output.append(res2)\n",
    "                break\n",
    "\n",
    "    firename = []\n",
    "\n",
    "    for f in range(0,len(fire_names)):\n",
    "        firename.append(fire_names[f])\n",
    "\n",
    "    fireacre = []\n",
    "\n",
    "    for a in range(0,len(acres)):\n",
    "        fireacre.append(acres[a])\n",
    "    et3 = time.time()\n",
    "    print(\"time to extract data for table, includes 3 loops through list\", (et3-st3))\n",
    "    \n",
    "    st4 = time.time()\n",
    "    firestate = pd.Series(state_output)\n",
    "\n",
    "    fireloc = pd.Series(loc_output)\n",
    "\n",
    "    firename = pd.Series(firename)\n",
    "\n",
    "    fireacre = pd.Series(fireacre)\n",
    "\n",
    "    df = {\"State\": firestate, \"Active Fire Name\": firename, \"Approximate Fire Location\": fireloc, \"Acre Burned\": fireacre }\n",
    "\n",
    "    fire_table = pd.DataFrame(df)\n",
    "\n",
    "    fire_table = fire_table.sort_values(by=[\"State\"])\n",
    "\n",
    "    fire_table = fire_table.reset_index(drop=True)\n",
    "\n",
    "    fire_table.index = fire_table.index + 1\n",
    "    et4 = time.time()\n",
    "    print(\"time to create dataframes for table\",(et4-st4))\n",
    "    return geo_fire, fire_table"
   ]
  },
  {
   "cell_type": "code",
   "execution_count": 57,
   "metadata": {},
   "outputs": [
    {
     "name": "stdout",
     "output_type": "stream",
     "text": [
      "time to request firedata 0.0\n",
      "time to get first coords of fires for list 0.023500442504882812\n",
      "time to extract data for table, includes 3 loops through list 1.23008394241333\n",
      "time to create dataframes for table 0.002999544143676758\n",
      "Wall time: 2.1 s\n"
     ]
    }
   ],
   "source": [
    "%%time\n",
    "geo_fire, fire_table = active_fire()"
   ]
  }
 ],
 "metadata": {
  "kernelspec": {
   "display_name": "Python 3",
   "language": "python",
   "name": "python3"
  },
  "language_info": {
   "codemirror_mode": {
    "name": "ipython",
    "version": 3
   },
   "file_extension": ".py",
   "mimetype": "text/x-python",
   "name": "python",
   "nbconvert_exporter": "python",
   "pygments_lexer": "ipython3",
   "version": "3.7.6"
  },
  "toc-autonumbering": true
 },
 "nbformat": 4,
 "nbformat_minor": 4
}
