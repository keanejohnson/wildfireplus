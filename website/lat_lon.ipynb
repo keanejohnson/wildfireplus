{
 "cells": [
  {
   "cell_type": "code",
   "execution_count": 1,
   "metadata": {},
   "outputs": [
    {
     "name": "stdout",
     "output_type": "stream",
     "text": [
      "{'type': 'FeatureCollection', 'query': ['2000', 'carleton', 'street', 'berkeley', 'ca'], 'features': [{'id': 'address.4069600932515432', 'type': 'Feature', 'place_type': ['address'], 'relevance': 1, 'properties': {'accuracy': 'rooftop'}, 'text': 'Carleton Street', 'place_name': '2000 Carleton Street, Berkeley, California 94720, United States', 'center': [-122.268547, 37.860596], 'geometry': {'type': 'Point', 'coordinates': [-122.268547, 37.860596]}, 'address': '2000', 'context': [{'id': 'postcode.4069600932515432', 'text': '94720'}, {'id': 'place.4062647275990170', 'wikidata': 'Q484678', 'text': 'Berkeley'}, {'id': 'region.11319063928738010', 'short_code': 'US-CA', 'wikidata': 'Q99', 'text': 'California'}, {'id': 'country.9053006287256050', 'short_code': 'us', 'wikidata': 'Q30', 'text': 'United States'}]}, {'id': 'address.8645193594792380', 'type': 'Feature', 'place_type': ['address'], 'relevance': 0.670667, 'properties': {'accuracy': 'interpolated'}, 'text': 'Carleton Street', 'place_name': '2000 Carleton Street, Moose Jaw, Saskatchewan S6H 6G1, Canada', 'matching_place_name': '2000 Carleton Street, Moose Jaw, Saskatchewan S6H 6G1, CAN', 'center': [-105.57177, 50.399997], 'geometry': {'type': 'Point', 'coordinates': [-105.57177, 50.399997], 'interpolated': True}, 'address': '2000', 'context': [{'id': 'postcode.11429880069233110', 'text': 'S6H 6G1'}, {'id': 'place.8604763531675460', 'wikidata': 'Q1019496', 'text': 'Moose Jaw'}, {'id': 'region.4256598914381370', 'short_code': 'CA-SK', 'wikidata': 'Q1989', 'text': 'Saskatchewan'}, {'id': 'country.4282270149587150', 'short_code': 'ca', 'wikidata': 'Q16', 'text': 'Canada'}]}, {'id': 'place.4062647275990170', 'type': 'Feature', 'place_type': ['place'], 'relevance': 0.658667, 'properties': {'wikidata': 'Q484678'}, 'text': 'Berkeley', 'place_name': 'Berkeley, California, United States', 'bbox': [-122.332639012351, 37.8455401832448, -122.213556228275, 37.9239229714827], 'center': [-122.2729, 37.8708], 'geometry': {'type': 'Point', 'coordinates': [-122.2729, 37.8708]}, 'context': [{'id': 'region.11319063928738010', 'short_code': 'US-CA', 'wikidata': 'Q99', 'text': 'California'}, {'id': 'country.9053006287256050', 'short_code': 'us', 'wikidata': 'Q30', 'text': 'United States'}]}, {'id': 'place.4011151089029861', 'type': 'Feature', 'place_type': ['place'], 'relevance': 0.658667, 'properties': {}, 'text': 'Berkeley', 'place_name': 'Berkeley, Ontario, Canada', 'bbox': [-81.1059830108657, 44.288339603212, -80.6618255031454, 44.4962369147877], 'center': [-80.7273, 44.3669], 'geometry': {'type': 'Point', 'coordinates': [-80.7273, 44.3669]}, 'context': [{'id': 'region.7377835739263190', 'short_code': 'CA-ON', 'wikidata': 'Q1904', 'text': 'Ontario'}, {'id': 'country.4282270149587150', 'short_code': 'ca', 'wikidata': 'Q16', 'text': 'Canada'}]}, {'id': 'neighborhood.268954', 'type': 'Feature', 'place_type': ['neighborhood'], 'relevance': 0.484, 'properties': {}, 'text': 'Camelot', 'place_name': 'Camelot, Toms River, New Jersey 08755, United States', 'bbox': [-74.226766, 39.957294, -74.188962, 39.976449], 'center': [-74.2149, 39.9607], 'geometry': {'type': 'Point', 'coordinates': [-74.2149, 39.9607]}, 'context': [{'id': 'postcode.2336511393646060', 'text': '08755'}, {'id': 'place.4946342253400630', 'wikidata': 'Q1087213', 'text': 'Toms River'}, {'id': 'region.14919479731700330', 'short_code': 'US-NJ', 'wikidata': 'Q1408', 'text': 'New Jersey'}, {'id': 'country.9053006287256050', 'short_code': 'us', 'wikidata': 'Q30', 'text': 'United States'}]}], 'attribution': 'NOTICE: © 2020 Mapbox and its suppliers. All rights reserved. Use of this data is subject to the Mapbox Terms of Service (https://www.mapbox.com/about/maps/). This response and the information it contains may not be retained. POI(s) provided by Foursquare.'}\n"
     ]
    }
   ],
   "source": [
    "import ast\n",
    "import csv\n",
    "from csv import reader\n",
    "import mapbox\n",
    "from mapbox import Geocoder\n",
    "import json\n",
    "\n",
    "# mapbox api\n",
    "MAPBOX_ACCESS_KEY = 'pk.eyJ1IjoidGxldWNiIiwiYSI6ImNrN2N3d3h1aTA0YWwzaHFoNGJreDJmY2YifQ.pbWSn9txb4n8fKmUaKAG4g'\n",
    "\n",
    "geocoder = mapbox.Geocoder(access_token = MAPBOX_ACCESS_KEY)\n",
    "# geocoder = Geocoder()\n",
    "# address = input(\"Enter address (example: 2000 Carleton Street, Berkeley, CA): \")\n",
    "# response = geocoder.mapbox(address, key = MAPBOX_ACCESS_KEY)\n",
    "# print(response.content)\t\n",
    "\n",
    "response = geocoder.forward('2000 Carleton Street, Berkeley, CA')\t\n",
    "response.json()\n",
    "print(response.json())"
   ]
  },
  {
   "cell_type": "code",
   "execution_count": 56,
   "metadata": {},
   "outputs": [
    {
     "name": "stdout",
     "output_type": "stream",
     "text": [
      "{'type': 'FeatureCollection', 'query': ['2000', 'carleton', 'street', 'berkeley', 'ca'], 'features': [{'id': 'address.4069600932515432', 'type': 'Feature', 'place_type': ['address'], 'relevance': 1, 'properties': {'accuracy': 'rooftop'}, 'text': 'Carleton Street', 'place_name': '2000 Carleton Street, Berkeley, California 94720, United States', 'center': [-122.268547, 37.860596], 'geometry': {'type': 'Point', 'coordinates': [-122.268547, 37.860596]}, 'address': '2000', 'context': [{'id': 'postcode.4069600932515432', 'text': '94720'}, {'id': 'place.4062647275990170', 'wikidata': 'Q484678', 'text': 'Berkeley'}, {'id': 'region.11319063928738010', 'short_code': 'US-CA', 'wikidata': 'Q99', 'text': 'California'}, {'id': 'country.9053006287256050', 'short_code': 'us', 'wikidata': 'Q30', 'text': 'United States'}]}, {'id': 'address.8645193594792380', 'type': 'Feature', 'place_type': ['address'], 'relevance': 0.670667, 'properties': {'accuracy': 'interpolated'}, 'text': 'Carleton Street', 'place_name': '2000 Carleton Street, Moose Jaw, Saskatchewan S6H 6G1, Canada', 'matching_place_name': '2000 Carleton Street, Moose Jaw, Saskatchewan S6H 6G1, CAN', 'center': [-105.57177, 50.399997], 'geometry': {'type': 'Point', 'coordinates': [-105.57177, 50.399997], 'interpolated': True}, 'address': '2000', 'context': [{'id': 'postcode.11429880069233110', 'text': 'S6H 6G1'}, {'id': 'place.8604763531675460', 'wikidata': 'Q1019496', 'text': 'Moose Jaw'}, {'id': 'region.4256598914381370', 'short_code': 'CA-SK', 'wikidata': 'Q1989', 'text': 'Saskatchewan'}, {'id': 'country.4282270149587150', 'short_code': 'ca', 'wikidata': 'Q16', 'text': 'Canada'}]}, {'id': 'place.4062647275990170', 'type': 'Feature', 'place_type': ['place'], 'relevance': 0.658667, 'properties': {'wikidata': 'Q484678'}, 'text': 'Berkeley', 'place_name': 'Berkeley, California, United States', 'bbox': [-122.332639012351, 37.8455401832448, -122.213556228275, 37.9239229714827], 'center': [-122.2729, 37.8708], 'geometry': {'type': 'Point', 'coordinates': [-122.2729, 37.8708]}, 'context': [{'id': 'region.11319063928738010', 'short_code': 'US-CA', 'wikidata': 'Q99', 'text': 'California'}, {'id': 'country.9053006287256050', 'short_code': 'us', 'wikidata': 'Q30', 'text': 'United States'}]}, {'id': 'place.4011151089029861', 'type': 'Feature', 'place_type': ['place'], 'relevance': 0.658667, 'properties': {}, 'text': 'Berkeley', 'place_name': 'Berkeley, Ontario, Canada', 'bbox': [-81.1059830108657, 44.288339603212, -80.6618255031454, 44.4962369147877], 'center': [-80.7273, 44.3669], 'geometry': {'type': 'Point', 'coordinates': [-80.7273, 44.3669]}, 'context': [{'id': 'region.7377835739263190', 'short_code': 'CA-ON', 'wikidata': 'Q1904', 'text': 'Ontario'}, {'id': 'country.4282270149587150', 'short_code': 'ca', 'wikidata': 'Q16', 'text': 'Canada'}]}, {'id': 'neighborhood.268954', 'type': 'Feature', 'place_type': ['neighborhood'], 'relevance': 0.484, 'properties': {}, 'text': 'Camelot', 'place_name': 'Camelot, Toms River, New Jersey 08755, United States', 'bbox': [-74.226766, 39.957294, -74.188962, 39.976449], 'center': [-74.2149, 39.9607], 'geometry': {'type': 'Point', 'coordinates': [-74.2149, 39.9607]}, 'context': [{'id': 'postcode.2336511393646060', 'text': '08755'}, {'id': 'place.4946342253400630', 'wikidata': 'Q1087213', 'text': 'Toms River'}, {'id': 'region.14919479731700330', 'short_code': 'US-NJ', 'wikidata': 'Q1408', 'text': 'New Jersey'}, {'id': 'country.9053006287256050', 'short_code': 'us', 'wikidata': 'Q30', 'text': 'United States'}]}], 'attribution': 'NOTICE: © 2020 Mapbox and its suppliers. All rights reserved. Use of this data is subject to the Mapbox Terms of Service (https://www.mapbox.com/about/maps/). This response and the information it contains may not be retained. POI(s) provided by Foursquare.'}\n"
     ]
    }
   ],
   "source": [
    "import ast\n",
    "import csv\n",
    "from csv import reader\n",
    "import mapbox\n",
    "from mapbox import Geocoder\n",
    "import json\n",
    "\n",
    "# mapbox api\n",
    "MAPBOX_ACCESS_KEY = 'pk.eyJ1IjoidGxldWNiIiwiYSI6ImNrN2N3d3h1aTA0YWwzaHFoNGJreDJmY2YifQ.pbWSn9txb4n8fKmUaKAG4g'\n",
    "\n",
    "geocoder = mapbox.Geocoder(access_token = MAPBOX_ACCESS_KEY)\n",
    "# geocoder = Geocoder()\n",
    "# address = input(\"Enter address (example: 2000 Carleton Street, Berkeley, CA): \")\n",
    "# response = geocoder.mapbox(address, key = MAPBOX_ACCESS_KEY)\n",
    "# print(response.content)\t\n",
    "\n",
    "response = geocoder.forward('2000 Carleton Street, Berkeley, CA')\t\n",
    "a = response.json()\n",
    "print(a)"
   ]
  },
  {
   "cell_type": "code",
   "execution_count": 62,
   "metadata": {},
   "outputs": [],
   "source": [
    "b = a[\"features\"][0][\"center\"][1]"
   ]
  },
  {
   "cell_type": "code",
   "execution_count": 63,
   "metadata": {},
   "outputs": [
    {
     "name": "stdout",
     "output_type": "stream",
     "text": [
      "37.860596\n"
     ]
    }
   ],
   "source": [
    "print(b)"
   ]
  },
  {
   "cell_type": "code",
   "execution_count": 59,
   "metadata": {},
   "outputs": [
    {
     "data": {
      "text/plain": [
       "list"
      ]
     },
     "execution_count": 59,
     "metadata": {},
     "output_type": "execute_result"
    }
   ],
   "source": [
    "type(b)"
   ]
  },
  {
   "cell_type": "code",
   "execution_count": 28,
   "metadata": {},
   "outputs": [],
   "source": [
    "# Write JSON file\n",
    "import io\n",
    "try:\n",
    "    to_unicode = unicode\n",
    "except NameError:\n",
    "    to_unicode = str\n",
    "    \n",
    "with io.open('data.json', 'w', encoding='utf8') as outfile:\n",
    "    str_ = json.dumps(a,\n",
    "                      indent=4, sort_keys=True,\n",
    "                      separators=(',', ': '), ensure_ascii=False)\n",
    "    outfile.write(to_unicode(str_))"
   ]
  },
  {
   "cell_type": "code",
   "execution_count": 44,
   "metadata": {},
   "outputs": [],
   "source": [
    "# read file\n",
    "with open('data.json', 'r') as myfile:\n",
    "    data = myfile.read()\n",
    "\n",
    "# parse file\n",
    "obj = json.loads(data)\n",
    "\n"
   ]
  },
  {
   "cell_type": "code",
   "execution_count": 60,
   "metadata": {},
   "outputs": [],
   "source": [
    "c = obj[\"features\"][0][\"center\"][0]"
   ]
  },
  {
   "cell_type": "code",
   "execution_count": 61,
   "metadata": {},
   "outputs": [
    {
     "name": "stdout",
     "output_type": "stream",
     "text": [
      "-122.268547\n"
     ]
    }
   ],
   "source": [
    "print(c)"
   ]
  },
  {
   "cell_type": "code",
   "execution_count": null,
   "metadata": {},
   "outputs": [],
   "source": []
  }
 ],
 "metadata": {
  "kernelspec": {
   "display_name": "Python 3",
   "language": "python",
   "name": "python3"
  },
  "language_info": {
   "codemirror_mode": {
    "name": "ipython",
    "version": 3
   },
   "file_extension": ".py",
   "mimetype": "text/x-python",
   "name": "python",
   "nbconvert_exporter": "python",
   "pygments_lexer": "ipython3",
   "version": "3.7.6"
  }
 },
 "nbformat": 4,
 "nbformat_minor": 4
}
