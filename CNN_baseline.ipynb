{
 "cells": [
  {
   "cell_type": "markdown",
   "metadata": {},
   "source": [
    "# CNN Baseline Model"
   ]
  },
  {
   "cell_type": "markdown",
   "metadata": {},
   "source": [
    "## Load Data"
   ]
  },
  {
   "cell_type": "code",
   "execution_count": 79,
   "metadata": {},
   "outputs": [],
   "source": [
    "import numpy as np\n",
    "import os\n",
    "from PIL import Image\n",
    "import csv"
   ]
  },
  {
   "cell_type": "markdown",
   "metadata": {},
   "source": [
    "### Small Dataset Processing"
   ]
  },
  {
   "cell_type": "code",
   "execution_count": 80,
   "metadata": {},
   "outputs": [],
   "source": [
    "def data_processing():\n",
    "\n",
    "    path = os.path.abspath(\"toydata\")\n",
    "\n",
    "    tiff_files = []\n",
    "\n",
    "    for f in os.listdir(path):\n",
    "        if f.endswith('.tif'):\n",
    "            tiff_files.append(path + '/' + f)\n",
    "\n",
    "    tiff_dict = {}\n",
    "\n",
    "    # dictionary of tiff files\n",
    "    for f in tiff_files:\n",
    "        k = f.split('/')[-1].split('.tif')[0]\n",
    "        tiff_dict[k] = f\n",
    "\n",
    "    # convert to np array\n",
    "    fire_id = Image.open(tiff_dict['fireid'])\n",
    "    fire_id = np.array(fire_id)\n",
    "    fire_id[fire_id == -9999] = 0\n",
    "\n",
    "    fireline = Image.open(tiff_dict['Global_fire_atlas_firelinecrop'])\n",
    "    fireline = np.array(fireline)\n",
    "    fireline[fireline == -9999] = 0\n",
    "\n",
    "    # get list of unique fire_ids\n",
    "    fire_ids = set()\n",
    "\n",
    "    for row in fire_id:\n",
    "        for val in row:\n",
    "            fire_ids.add(val)\n",
    "\n",
    "    # remove 0 from fire_ids set because it does not denote a fire\n",
    "    fire_ids.remove(0)\n",
    "\n",
    "    # get dict with key value pairs of fire_id and an empty dict\n",
    "    fire_data_dict = {}\n",
    "\n",
    "    for id in fire_ids:\n",
    "        id = str(id)\n",
    "        fire_data_dict[id] = {}\n",
    "\n",
    "    for id in fire_ids:\n",
    "        indices = np.where(fire_id == id, 1, 0)\n",
    "        fire_data_dict[str(id)] = indices\n",
    "        \n",
    "    return fire_data_dict, fireline"
   ]
  },
  {
   "cell_type": "code",
   "execution_count": 81,
   "metadata": {},
   "outputs": [],
   "source": [
    "fire_data_dict, fireline = data_processing()"
   ]
  },
  {
   "cell_type": "markdown",
   "metadata": {},
   "source": [
    "### Toy Dataset"
   ]
  },
  {
   "cell_type": "code",
   "execution_count": 82,
   "metadata": {},
   "outputs": [],
   "source": [
    "# create a toy dataset to test create_one_matrices\n",
    "\n",
    "toy_fire_data_dict = {}\n",
    "toy_fire_data_dict['1'] = np.mat('0 0 0 0 0; 0 1 1 1 0; 0 1 1 0 0; 0 0 1 1 0; 0 1 1 1 1; 0 0 0 1 1')\n",
    "toy_fireline = np.mat('0 0 0 0 0; 0 2 2 2 0; 0 2 2 0 0; 0 0 3 3 0; 0 3 3 3 3; 0 0 0 4 4')"
   ]
  },
  {
   "cell_type": "markdown",
   "metadata": {},
   "source": [
    "### Create One-Hot Fire-Day Matrices"
   ]
  },
  {
   "cell_type": "code",
   "execution_count": 83,
   "metadata": {},
   "outputs": [],
   "source": [
    "def create_one_hot_matrices(data_dict, fireline):\n",
    "    '''\n",
    "    This returns a dictionary with the structure:\n",
    "    {\n",
    "        \"fire_id\": {\n",
    "            \"day_of_year\": one-hot encoded 2D array of fire spread on that day,\n",
    "            \"day_of_year\": one-hot encoded 2D array of fire spread on that day\n",
    "        }\n",
    "\n",
    "    }\n",
    "    '''\n",
    "    \n",
    "    fire_data_dict = {}\n",
    "\n",
    "    for key, val in data_dict.items():\n",
    "        data = {}\n",
    "                \n",
    "        for y in range(1, 366):\n",
    "            mask = ((fireline == y) & (val == 1))\n",
    "            mask = mask.astype(int)\n",
    "        \n",
    "            if np.sum(mask) > 0:\n",
    "                data[str(y)] = mask\n",
    "        \n",
    "        fire_data_dict[key] = data\n",
    "        \n",
    "    return fire_data_dict"
   ]
  },
  {
   "cell_type": "code",
   "execution_count": 84,
   "metadata": {},
   "outputs": [
    {
     "name": "stdout",
     "output_type": "stream",
     "text": [
      "{'1': {'2': matrix([[0, 0, 0, 0, 0],\n",
      "        [0, 1, 1, 1, 0],\n",
      "        [0, 1, 1, 0, 0],\n",
      "        [0, 0, 0, 0, 0],\n",
      "        [0, 0, 0, 0, 0],\n",
      "        [0, 0, 0, 0, 0]]), '3': matrix([[0, 0, 0, 0, 0],\n",
      "        [0, 0, 0, 0, 0],\n",
      "        [0, 0, 0, 0, 0],\n",
      "        [0, 0, 1, 1, 0],\n",
      "        [0, 1, 1, 1, 1],\n",
      "        [0, 0, 0, 0, 0]]), '4': matrix([[0, 0, 0, 0, 0],\n",
      "        [0, 0, 0, 0, 0],\n",
      "        [0, 0, 0, 0, 0],\n",
      "        [0, 0, 0, 0, 0],\n",
      "        [0, 0, 0, 0, 0],\n",
      "        [0, 0, 0, 1, 1]])}}\n"
     ]
    }
   ],
   "source": [
    "# Test on toy dataset\n",
    "toy_fire_data_dict = create_one_hot_matrices(toy_fire_data_dict, toy_fireline)\n",
    "print(toy_fire_data_dict)"
   ]
  },
  {
   "cell_type": "code",
   "execution_count": 85,
   "metadata": {},
   "outputs": [
    {
     "name": "stdout",
     "output_type": "stream",
     "text": [
      "[(matrix([[0, 0, 0, 0, 0],\n",
      "        [0, 1, 1, 1, 0],\n",
      "        [0, 1, 1, 0, 0],\n",
      "        [0, 0, 0, 0, 0],\n",
      "        [0, 0, 0, 0, 0],\n",
      "        [0, 0, 0, 0, 0]]), matrix([[0, 0, 0, 0, 0],\n",
      "        [0, 0, 0, 0, 0],\n",
      "        [0, 0, 0, 0, 0],\n",
      "        [0, 0, 1, 1, 0],\n",
      "        [0, 1, 1, 1, 1],\n",
      "        [0, 0, 0, 0, 0]])), (matrix([[0, 0, 0, 0, 0],\n",
      "        [0, 0, 0, 0, 0],\n",
      "        [0, 0, 0, 0, 0],\n",
      "        [0, 0, 1, 1, 0],\n",
      "        [0, 1, 1, 1, 1],\n",
      "        [0, 0, 0, 0, 0]]), matrix([[0, 0, 0, 0, 0],\n",
      "        [0, 0, 0, 0, 0],\n",
      "        [0, 0, 0, 0, 0],\n",
      "        [0, 0, 0, 0, 0],\n",
      "        [0, 0, 0, 0, 0],\n",
      "        [0, 0, 0, 1, 1]]))]\n"
     ]
    }
   ],
   "source": [
    "def create_supervised_data(fire_data_dict):\n",
    "    '''\n",
    "    Turn this dictionary:\n",
    "    {\n",
    "        \"fire_id\": {\n",
    "            \"day_of_year\": one-hot encoded 2D array of fire spread on that day,\n",
    "            \"day_of_year\": one-hot encoded 2D array of fire spread on that day\n",
    "        }\n",
    "\n",
    "    }\n",
    "    \n",
    "    into:\n",
    "    [\n",
    "        (one-hot encoded 2D array of fire spread on that day_1, one-hot encoded 2D array of fire spread on day_2),\n",
    "        (one-hot encoded 2D array of fire spread on that day_2, one-hot encoded 2D array of fire spread on day_3),\n",
    "    ]\n",
    "    '''\n",
    "    \n",
    "    train_labels = []\n",
    "\n",
    "    for key, value in fire_data_dict.items():\n",
    "        burn_matrices = list(value.values())\n",
    "        \n",
    "        for index, day in enumerate(burn_matrices):\n",
    "\n",
    "            if index < len(burn_matrices) - 1:\n",
    "                day_1 = burn_matrices[index]\n",
    "                day_2_index = index + 1\n",
    "                day_2 = burn_matrices[day_2_index]\n",
    "                \n",
    "                pair = (day_1, day_2)\n",
    "                train_labels.append(pair)\n",
    "\n",
    "    return train_labels\n",
    "\n",
    "toy = create_supervised_data(toy_fire_data_dict)\n",
    "print(toy)"
   ]
  },
  {
   "cell_type": "code",
   "execution_count": 86,
   "metadata": {},
   "outputs": [
    {
     "name": "stdout",
     "output_type": "stream",
     "text": [
      "[(array([[1, 1, 0],\n",
      "       [0, 0, 0],\n",
      "       [0, 0, 0]]), 1), (array([[1, 0, 0],\n",
      "       [0, 0, 0],\n",
      "       [0, 0, 0]]), 1), (array([[0, 0, 0],\n",
      "       [0, 0, 0],\n",
      "       [0, 0, 0]]), 1), (array([[0, 0, 0],\n",
      "       [0, 0, 0],\n",
      "       [0, 0, 0]]), 1), (array([[0, 0, 0],\n",
      "       [0, 0, 0],\n",
      "       [0, 0, 0]]), 1), (array([[0, 0, 0],\n",
      "       [0, 0, 0],\n",
      "       [0, 0, 0]]), 1), (array([[1, 1, 1],\n",
      "       [0, 0, 0],\n",
      "       [0, 0, 0]]), 1), (array([[1, 1, 0],\n",
      "       [0, 0, 0],\n",
      "       [0, 0, 0]]), 1)]\n"
     ]
    }
   ],
   "source": [
    "### tuning variables ###\n",
    "matrix_dim = 4\n",
    "side_1 = int(matrix_dim/2)\n",
    "side_2 = side_1 - 1\n",
    "\n",
    "########################\n",
    "\n",
    "data = []\n",
    "\n",
    "for (x, y) in toy:    \n",
    "    (x_len, y_len) = x.shape\n",
    "\n",
    "    x = np.pad(x, matrix_dim, 'constant', constant_values=0)\n",
    "    y = np.pad(y, matrix_dim, 'constant', constant_values=0)\n",
    "    \n",
    "    vals = np.where(y == 1)\n",
    "    vals = list(zip(vals[0], vals[1]))\n",
    "    \n",
    "    for (xi, yi) in vals:\n",
    "        xi_r = xi + side_1\n",
    "        xi_l = xi - side_2\n",
    "        yi_b = yi + side_1\n",
    "        yi_t = yi - side_2\n",
    "        \n",
    "        m = x[xi_l:xi_r, yi_t:yi_b]\n",
    "\n",
    "        data.append((m, 1))\n",
    "\n",
    "print(data)"
   ]
  },
  {
   "cell_type": "markdown",
   "metadata": {},
   "source": [
    "### Write to disk"
   ]
  },
  {
   "cell_type": "code",
   "execution_count": 87,
   "metadata": {},
   "outputs": [],
   "source": [
    "def write_to_disk(data, name):\n",
    "    \n",
    "    with open(name, \"w\") as f:\n",
    "        writer = csv.writer(f)\n",
    "        writer.writerows(data)\n",
    "        \n",
    "write_to_disk(toy, \"toy_data.csv\")"
   ]
  },
  {
   "cell_type": "code",
   "execution_count": 88,
   "metadata": {},
   "outputs": [],
   "source": [
    "# Run on small dataset\n",
    "small_fire_data_dict = create_one_hot_matrices(fire_data_dict, fireline)\n",
    "small_dataset = create_supervised_data(small_fire_data_dict)\n",
    "write_to_disk(small_dataset, \"small_data.csv\")"
   ]
  },
  {
   "cell_type": "markdown",
   "metadata": {},
   "source": [
    "### Read from disk"
   ]
  },
  {
   "cell_type": "code",
   "execution_count": 89,
   "metadata": {},
   "outputs": [],
   "source": [
    "# TO-DO"
   ]
  },
  {
   "cell_type": "markdown",
   "metadata": {},
   "source": [
    "### Baseline CNN"
   ]
  },
  {
   "cell_type": "code",
   "execution_count": 90,
   "metadata": {},
   "outputs": [
    {
     "name": "stderr",
     "output_type": "stream",
     "text": [
      "Using TensorFlow backend.\n"
     ]
    }
   ],
   "source": [
    "from __future__ import print_function\n",
    "import keras\n",
    "from keras.models import Sequential\n",
    "from keras.layers import Dense, Dropout, Flatten\n",
    "from keras.layers import Conv2D, MaxPooling2D, AveragePooling2D, Conv1D, LSTM, UpSampling2D, Conv2DTranspose\n",
    "from keras import backend as K"
   ]
  },
  {
   "cell_type": "code",
   "execution_count": 91,
   "metadata": {},
   "outputs": [],
   "source": [
    "# get data into (X, 470, 456) shape\n",
    "X = []\n",
    "Y = []\n",
    "\n",
    "for (x, y) in small_dataset:\n",
    "    x = np.asarray(x)\n",
    "    y = np.asarray(y)\n",
    "    X.append(x)\n",
    "    Y.append(y)\n",
    "    \n",
    "X = np.asarray(X)\n",
    "Y = np.asarray(Y)"
   ]
  },
  {
   "cell_type": "code",
   "execution_count": 92,
   "metadata": {},
   "outputs": [],
   "source": [
    "# reshape data for CNN\n",
    "X = X.reshape(135, 470, 456, 1)\n",
    "Y = Y.reshape(135, 470, 456, 1)"
   ]
  },
  {
   "cell_type": "code",
   "execution_count": 93,
   "metadata": {},
   "outputs": [
    {
     "name": "stdout",
     "output_type": "stream",
     "text": [
      "(108, 470, 456, 1)\n",
      "(27, 470, 456, 1)\n",
      "(108, 470, 456, 1)\n",
      "(27, 470, 456, 1)\n"
     ]
    }
   ],
   "source": [
    "# split into train/test\n",
    "from sklearn.model_selection import train_test_split\n",
    "\n",
    "X_train, X_test, Y_train, Y_test = train_test_split(X, Y, test_size = 0.2)\n",
    "\n",
    "# take a look at the shapes\n",
    "print(X_train.shape)\n",
    "print(X_test.shape)\n",
    "print(Y_train.shape)\n",
    "print(Y_test.shape)"
   ]
  },
  {
   "cell_type": "code",
   "execution_count": 94,
   "metadata": {},
   "outputs": [
    {
     "name": "stdout",
     "output_type": "stream",
     "text": [
      "Model: \"sequential_1\"\n",
      "_________________________________________________________________\n",
      "Layer (type)                 Output Shape              Param #   \n",
      "=================================================================\n",
      "average_pooling2d_1 (Average (None, 235, 228, 1)       0         \n",
      "_________________________________________________________________\n",
      "conv2d_1 (Conv2D)            (None, 235, 228, 64)      128       \n",
      "_________________________________________________________________\n",
      "dropout_1 (Dropout)          (None, 235, 228, 64)      0         \n",
      "_________________________________________________________________\n",
      "conv2d_2 (Conv2D)            (None, 235, 228, 32)      2080      \n",
      "_________________________________________________________________\n",
      "conv2d_transpose_1 (Conv2DTr (None, 470, 456, 1)       129       \n",
      "=================================================================\n",
      "Total params: 2,337\n",
      "Trainable params: 2,337\n",
      "Non-trainable params: 0\n",
      "_________________________________________________________________\n"
     ]
    }
   ],
   "source": [
    "# Create Model\n",
    "model = Sequential()\n",
    "\n",
    "# Add Model Layers\n",
    "model.add(AveragePooling2D(pool_size=(2,2), padding='valid', input_shape=(470, 456, 1)))\n",
    "model.add(Conv2D(64, kernel_size=(1,1), padding='valid', activation='relu'))\n",
    "\n",
    "model.add(Dropout(0.5))\n",
    "model.add(Conv2D(32, kernel_size=(1,1), padding='valid', activation='relu'))\n",
    "\n",
    "model.add(Conv2DTranspose(1, kernel_size=(2,2), strides=(2,2)))\n",
    "\n",
    "\n",
    "# Look At Summary\n",
    "model.summary()"
   ]
  },
  {
   "cell_type": "code",
   "execution_count": 95,
   "metadata": {},
   "outputs": [],
   "source": [
    "model.compile(optimizer='adam', loss='binary_crossentropy', metrics=['accuracy'])"
   ]
  },
  {
   "cell_type": "code",
   "execution_count": 96,
   "metadata": {},
   "outputs": [
    {
     "name": "stdout",
     "output_type": "stream",
     "text": [
      "Train on 108 samples, validate on 27 samples\n",
      "Epoch 1/3\n",
      "108/108 [==============================] - 6s 57ms/step - loss: 0.0020 - accuracy: 0.9999 - val_loss: 0.0013 - val_accuracy: 0.9999\n",
      "Epoch 2/3\n",
      "108/108 [==============================] - 5s 46ms/step - loss: 0.0018 - accuracy: 0.9999 - val_loss: 0.0013 - val_accuracy: 0.9999\n",
      "Epoch 3/3\n",
      "108/108 [==============================] - 5s 45ms/step - loss: 0.0017 - accuracy: 0.9999 - val_loss: 0.0013 - val_accuracy: 0.9999\n"
     ]
    },
    {
     "data": {
      "text/plain": [
       "<keras.callbacks.callbacks.History at 0x7fcfc2ef3d10>"
      ]
     },
     "execution_count": 96,
     "metadata": {},
     "output_type": "execute_result"
    }
   ],
   "source": [
    "model.fit(X_train, Y_train,validation_data=(X_test, Y_test), epochs=3)"
   ]
  },
  {
   "cell_type": "code",
   "execution_count": null,
   "metadata": {},
   "outputs": [],
   "source": []
  }
 ],
 "metadata": {
  "kernelspec": {
   "display_name": "Python 3",
   "language": "python",
   "name": "python3"
  },
  "language_info": {
   "codemirror_mode": {
    "name": "ipython",
    "version": 3
   },
   "file_extension": ".py",
   "mimetype": "text/x-python",
   "name": "python",
   "nbconvert_exporter": "python",
   "pygments_lexer": "ipython3",
   "version": "3.7.6"
  }
 },
 "nbformat": 4,
 "nbformat_minor": 4
}
