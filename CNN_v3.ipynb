{
 "cells": [
  {
   "cell_type": "markdown",
   "metadata": {},
   "source": [
    "# CNN Model V3"
   ]
  },
  {
   "cell_type": "code",
   "execution_count": 51,
   "metadata": {},
   "outputs": [],
   "source": [
    "# Load packages\n",
    "import csv\n",
    "import math\n",
    "import numpy as np\n",
    "import os\n",
    "import pandas as pd\n",
    "import random\n",
    "\n",
    "from datetime import datetime as dt\n",
    "from matplotlib import pyplot as plt\n",
    "from PIL import Image"
   ]
  },
  {
   "cell_type": "markdown",
   "metadata": {},
   "source": [
    "## Variables and Hyperparameters"
   ]
  },
  {
   "cell_type": "code",
   "execution_count": 52,
   "metadata": {},
   "outputs": [],
   "source": [
    "###############\n",
    "## VARIABLES ##\n",
    "###############\n",
    "\n",
    "# name of directory with fire tif files\n",
    "tif_directory = \"toydata\"\n",
    "\n",
    "# name of directory with weather data\n",
    "weather_directory = 'weather_data'\n",
    "\n",
    "# weather and fire data to include in model\n",
    "rainint = True\n",
    "raintot = False\n",
    "high_t = True\n",
    "low_t = True\n",
    "humidity = True\n",
    "wind_speed = True\n",
    "wind_direction = True\n",
    "cloud_cover = False\n",
    "fire_direction = True\n",
    "\n",
    "weather_variables = {\n",
    "    'rainint': rainint, \n",
    "    'raintot': raintot, \n",
    "    'High T': high_t, \n",
    "    'Low T': low_t, \n",
    "    'Humidity': humidity, \n",
    "    'Wind Speed': wind_speed, \n",
    "    'Wind Direction': wind_direction, \n",
    "    'Cloud Cover': cloud_cover,\n",
    "    'Fire Direction': fire_direction\n",
    "}\n",
    "\n",
    "\n",
    "weather_vars = []\n",
    "\n",
    "for k, v in weather_variables.items():\n",
    "    if v == True:\n",
    "        weather_vars.append(k)\n",
    "\n",
    "#####################\n",
    "## HYPERPARAMETERS ##\n",
    "#####################\n",
    "# scale the weather data - yea or nay\n",
    "normalized_weather = True\n",
    "\n",
    "# the desired height and width (in pixels) of the matrix to feed into the CNN\n",
    "# 1 pixel side = 500 meters = 0.310686 miles\n",
    "matrix_dim = 32\n",
    "\n",
    "# multiplier for amount of zero-labeled data we want to add to dataset\n",
    "labeled_multiplier = 4\n",
    "\n",
    "# test size for train/test split\n",
    "test_size = 0.2\n",
    "\n",
    "# training epochs\n",
    "epoc = 20"
   ]
  },
  {
   "cell_type": "markdown",
   "metadata": {},
   "source": [
    "## Dataset Preprocessing Pipeline"
   ]
  },
  {
   "cell_type": "markdown",
   "metadata": {},
   "source": [
    "### Fire Dataset Preprocessing Functions"
   ]
  },
  {
   "cell_type": "code",
   "execution_count": 53,
   "metadata": {},
   "outputs": [],
   "source": [
    "def data_processing(directory):\n",
    "    '''\n",
    "    Process the dataset in the supplied directory and return matrices of which pixels belong to which fire and \n",
    "    which day of the year the pixel was on fire.\n",
    "    \n",
    "    Args: \n",
    "        - directory: name of directory with tif files\n",
    "    Returns: \n",
    "        - fire_data_dict: a dictionary where the key is \"fire_id\" and the value is a matrix of pixels \n",
    "        triggered by that fire (0, 1)\n",
    "        - fireline: matrix denoting what day of year that pixel was on fire (1-365)\n",
    "    '''\n",
    "    \n",
    "    \n",
    "    path = os.path.abspath(directory)\n",
    "\n",
    "    tiff_files = []\n",
    "\n",
    "    for f in os.listdir(path):\n",
    "        if f.endswith('.tif'):\n",
    "            tiff_files.append(path + '/' + f)\n",
    "\n",
    "    tiff_dict = {}\n",
    "\n",
    "    # dictionary of tiff files\n",
    "    for f in tiff_files:\n",
    "        k = f.split('/')[-1].split('.tif')[0]\n",
    "        tiff_dict[k] = f\n",
    "\n",
    "    # convert to np array\n",
    "    fire_id = Image.open(tiff_dict['fireid'])\n",
    "    fire_id = np.array(fire_id)\n",
    "    fire_id[fire_id == -9999] = 0\n",
    "\n",
    "    fireline = Image.open(tiff_dict['Global_fire_atlas_firelinecrop'])\n",
    "    fireline = np.array(fireline)\n",
    "    fireline[fireline == -9999] = 0\n",
    "\n",
    "    # get list of unique fire_ids\n",
    "    fire_ids = set()\n",
    "\n",
    "    for row in fire_id:\n",
    "        for val in row:\n",
    "            fire_ids.add(val)\n",
    "\n",
    "    # remove 0 from fire_ids set because it does not denote a fire\n",
    "    fire_ids.remove(0)\n",
    "\n",
    "    # get dict with key value pairs of fire_id and an empty dict\n",
    "    fire_data_dict = {}\n",
    "\n",
    "    for id in fire_ids:\n",
    "        id = str(id)\n",
    "        fire_data_dict[id] = {}\n",
    "\n",
    "    for id in fire_ids:\n",
    "        indices = np.where(fire_id == id, 1, 0)\n",
    "        fire_data_dict[str(id)] = indices\n",
    "        \n",
    "    return fire_data_dict, fireline"
   ]
  },
  {
   "cell_type": "code",
   "execution_count": 54,
   "metadata": {},
   "outputs": [],
   "source": [
    "def create_one_hot_matrices(data_dict, fireline):\n",
    "    '''\n",
    "    Create matrices for each fire_id that show were the fire was on a given day during the year.\n",
    "    \n",
    "    Args:\n",
    "        - data_dict: a dictionary where the key is \"fire_id\" and the value is a matrix of pixels \n",
    "        triggered by that fire (0, 1)\n",
    "        - fireline: matrix denoting what day of year that pixel was on fire (1-365)\n",
    "    Returns:\n",
    "        - fire_data_dict: a dictionary of the following structure:\n",
    "            {\n",
    "                \"fire_id\": {\n",
    "                    \"day_of_year\": one-hot encoded 2D array of fire spread on that day,\n",
    "                    \"day_of_year\": one-hot encoded 2D array of fire spread on that day\n",
    "                }\n",
    "\n",
    "            }\n",
    "    '''\n",
    "    \n",
    "    fire_data_dict = {}\n",
    "\n",
    "    for key, val in data_dict.items():\n",
    "        data = {}\n",
    "                \n",
    "        for y in range(1, 366):\n",
    "            mask = ((fireline == y) & (val == 1))\n",
    "            mask = mask.astype(int)\n",
    "        \n",
    "            if np.sum(mask) > 0:\n",
    "                data[str(y)] = mask\n",
    "        \n",
    "        fire_data_dict[key] = data\n",
    "        \n",
    "    return fire_data_dict"
   ]
  },
  {
   "cell_type": "code",
   "execution_count": 55,
   "metadata": {},
   "outputs": [],
   "source": [
    "def create_day_pairs(fire_data_dict):\n",
    "    '''\n",
    "    Create a list of sets where the first value is where the fire was on a given day and the second value is where\n",
    "    the fire was on the following day.\n",
    "    \n",
    "    Args:\n",
    "        - fire_data_dict: a dictionary of the following structure:\n",
    "            {\n",
    "                \"fire_id\": {\n",
    "                    \"day_of_year\": one-hot encoded 2D array of fire spread on that day,\n",
    "                    \"day_of_year\": one-hot encoded 2D array of fire spread on that day\n",
    "                }\n",
    "\n",
    "            }\n",
    "    Returns:\n",
    "        - train_labels: a list of sets where the first value of the set is a one-hot encoded 2D array of fire \n",
    "        spread on day_1 and the second value of the set is a one-hot encoded 2D array of fire spread on day_2:\n",
    "        [\n",
    "            (one-hot encoded 2D array of fire spread on that day_1, one-hot encoded 2D array of fire spread on day_2),\n",
    "            (one-hot encoded 2D array of fire spread on that day_2, one-hot encoded 2D array of fire spread on day_3),\n",
    "        ]\n",
    "    '''\n",
    "    \n",
    "    train_labels = []\n",
    "\n",
    "    for key, value in fire_data_dict.items():\n",
    "        burn_matrices = list(value.values())\n",
    "        day_of_year = list(value.keys())\n",
    "        \n",
    "        for index, day in enumerate(burn_matrices):\n",
    "\n",
    "            if index < len(burn_matrices) - 1:\n",
    "                day_1 = burn_matrices[index]\n",
    "                day_2_index = index + 1\n",
    "                day_2 = burn_matrices[day_2_index]\n",
    "                \n",
    "                doy = day_of_year[day_2_index]\n",
    "                \n",
    "                pair = (day_1, day_2)\n",
    "                train_labels.append((doy, pair))\n",
    "\n",
    "    return train_labels"
   ]
  },
  {
   "cell_type": "code",
   "execution_count": 56,
   "metadata": {},
   "outputs": [],
   "source": [
    "def process_fire_data_tiff(directory, file):\n",
    "    '''\n",
    "    \n",
    "    '''\n",
    "    \n",
    "    path = os.path.abspath(directory)\n",
    "\n",
    "    tiff_files = []\n",
    "\n",
    "    for f in os.listdir(path):\n",
    "        if f.endswith('.tif'):\n",
    "            tiff_files.append(path + '/' + f)\n",
    "\n",
    "    tiff_dict = {}\n",
    "\n",
    "    # dictionary of tiff files\n",
    "    for f in tiff_files:\n",
    "        k = f.split('/')[-1].split('.tif')[0]\n",
    "        tiff_dict[k] = f\n",
    "        \n",
    "    # convert day of burn tif to np array\n",
    "    fire_dob = Image.open(tiff_dict['Global_fire_atlas_dobcrop'])\n",
    "    fire_dob = np.array(fire_dob)\n",
    "    fire_dob[fire_dob == -9999] = 0\n",
    "\n",
    "    # convert tif of interest to np array\n",
    "    fire_data_mat = Image.open(tiff_dict[file])\n",
    "    fire_data_mat = np.array(fire_data_mat)\n",
    "    fire_data_mat[fire_data_mat == -9999] = 0\n",
    "    \n",
    "    # get list of unique days of burn\n",
    "    days_of_burn = list(np.unique(fire_dob))\n",
    "\n",
    "    # remove 0 from days of burn because it does not denote a fire\n",
    "    days_of_burn.remove(0)\n",
    "        \n",
    "    # get dict with key value pairs of fire_id and an empty dict\n",
    "    fire_data_dict = {}\n",
    "\n",
    "    for idx in days_of_burn:\n",
    "        idx = int(idx)\n",
    "        \n",
    "        mask = (fire_dob == idx)        \n",
    "        mask = mask.astype(int)\n",
    "        \n",
    "        values = np.multiply(mask, fire_data_mat)\n",
    "        \n",
    "        idx = str(idx)\n",
    "        fire_data_dict[idx] = {}\n",
    "        fire_data_dict[idx]['Fire Direction'] = values \n",
    "\n",
    "    \n",
    "    return fire_data_dict"
   ]
  },
  {
   "cell_type": "markdown",
   "metadata": {},
   "source": [
    "### Weather Data Preprocessing Functions"
   ]
  },
  {
   "cell_type": "code",
   "execution_count": 57,
   "metadata": {},
   "outputs": [],
   "source": [
    "def create_weather_dict(directory, normalized_weather, weather_vars, fire_data_dict):\n",
    "    '''\n",
    "    Create a dictionary of weather data from a pickled file\n",
    "    Args:\n",
    "        - directory: path to weather pickle file\n",
    "        - normalized_weather: True/False to scale using max value\n",
    "        - weather_vars: list of weather variables to include in model\n",
    "    Returns:\n",
    "        - weather_data: dictionary of key (day of year) and value (dictionary of key (weather parameter) \n",
    "        and value (matrix of value for each pixel))\n",
    "        - max_values: a list of max values for each weather feature to use to normalize data\n",
    "    '''\n",
    "\n",
    "    path = os.path.abspath(directory)\n",
    "    \n",
    "    weather_file = ''\n",
    "    \n",
    "    for f in os.listdir(path):\n",
    "        if f.endswith('.pickle'):\n",
    "            weather_file = path + '/' + f\n",
    "    \n",
    "    weather = pd.read_pickle(weather_file)\n",
    "    \n",
    "    weather_dict = {}\n",
    "    \n",
    "    for k, v in weather.items():\n",
    "        weather_dict[k] = {}\n",
    "        \n",
    "        for att, matrix in v.items():\n",
    "            if att in weather_vars:\n",
    "                \n",
    "                # scale to kelvin\n",
    "                if att in ['High T', 'Low T']:\n",
    "                    mat = np.nan_to_num(matrix)\n",
    "                    mat += 273.15\n",
    "                    weather_dict[k][att] = mat\n",
    "                else:\n",
    "                    mat = np.nan_to_num(matrix)\n",
    "                    weather_dict[k][att] = mat\n",
    "     \n",
    "    weather_data = {}\n",
    "\n",
    "    for k, v in weather_dict.items():\n",
    "        doy = dt.strptime(k, \"%Y-%m-%d\").strftime(\"%j\")\n",
    "        weather_data[doy] = v\n",
    "        \n",
    "    # add in fire direction and speed\n",
    "    for k, v in fire_data_dict.items():\n",
    "        for att, mat in v.items():\n",
    "            weather_data[k][att] = mat\n",
    "    \n",
    "    # scale weather data\n",
    "    vals = list(weather_data.values())[0]\n",
    "    weather_atts = list(vals.keys())\n",
    "    max_values = dict.fromkeys(weather_atts, 0)\n",
    "    \n",
    "    if normalized_weather == True:\n",
    "        \n",
    "        for k, v in weather_dict.items():\n",
    "\n",
    "            for weather_att, matrix in v.items():\n",
    "                max_val = matrix.max()\n",
    "                if max_val > max_values[weather_att]:\n",
    "                    max_values[weather_att] = max_val\n",
    "    \n",
    "    return weather_data, max_values"
   ]
  },
  {
   "cell_type": "code",
   "execution_count": 58,
   "metadata": {},
   "outputs": [],
   "source": [
    "def fetch_weather_data(max_values, normalized_weather, day_of_year, x, y):\n",
    "    '''\n",
    "    Fetch weather data for the relevant day and pixel.\n",
    "    \n",
    "    Args:\n",
    "        - max_values: list of max_values for each weather features\n",
    "        - normalized_weather: whether the weather data should be normalized - true/false\n",
    "        - day_of_year: day of the year (1-365)\n",
    "        - x: x-coordinate of matrix\n",
    "        - y: y-coordinate of matrix\n",
    "    Returns:\n",
    "        - weather_list: an array of relevant weather data for that pixel\n",
    "    '''\n",
    "    weather_list = []\n",
    "    \n",
    "    day_weather = weather_data.get(day_of_year)\n",
    "\n",
    "    if day_weather is None:\n",
    "        return None\n",
    "    else:\n",
    "        for k, v in day_weather.items():\n",
    "            if normalized_weather == True:\n",
    "                max_val = max_values.get(k, 1)\n",
    "                \n",
    "                try:\n",
    "                    val = v[x,y]/max_val\n",
    "                    value = val/max_val\n",
    "                    \n",
    "                    if math.isnan(value):\n",
    "                        weather_list.append(0)\n",
    "                    else:\n",
    "                        weather_list.append(value)\n",
    "                except IndexError:\n",
    "                    return None\n",
    "\n",
    "            else:\n",
    "                try:\n",
    "                    weather_list.append(v[x,y])\n",
    "                except IndexError:\n",
    "                    return None\n",
    "    \n",
    "    return weather_list"
   ]
  },
  {
   "cell_type": "markdown",
   "metadata": {},
   "source": [
    "### Prep Dataset for CNN functions"
   ]
  },
  {
   "cell_type": "code",
   "execution_count": 59,
   "metadata": {},
   "outputs": [],
   "source": [
    "def balance_dataset(dataset, matrix_dim, num_pixels, side):\n",
    "    '''\n",
    "    Supplement the list produced in `create_labeled_data` with data where there was no data\n",
    "    \n",
    "    Args:\n",
    "        - dataset: a list of sets where the first value of the set is a one-hot encoded 2D array of fire spread \n",
    "        on day_1 and the second value of the set is a one-hot encoded 2D array of fire spread on day_2\n",
    "        - matrix_dim: a hyperparameter for the height and width of the matrices fed into the CNN\n",
    "        - num_pixels: how many \"no-fire\" pixel-matrix pairs we want to return\n",
    "        - side: half the length of the dimension of the outpur matrix\n",
    "    Returns:\n",
    "        - no_fire: a list of sets, where the second value (0, 1) represents whether fire is present for a given pixel, and the\n",
    "        first value is a matrix centered on the second value for the previous day and represents where the fire was\n",
    "        on the previous day\n",
    "    '''\n",
    "        \n",
    "    no_fire = []\n",
    "\n",
    "    for (doy, (x, y)) in dataset:    \n",
    "\n",
    "        x = np.pad(x, pad_width=matrix_dim, mode='constant', constant_values=0)\n",
    "        y = np.pad(y, pad_width=matrix_dim, mode='constant', constant_values=0)\n",
    "\n",
    "        vals = np.where(y == 0)\n",
    "        vals = list(zip(vals[0], vals[1]))\n",
    "\n",
    "        for (xi, yi) in vals:\n",
    "            xi_r = xi + side\n",
    "            xi_l = xi - side\n",
    "            yi_b = yi + side\n",
    "            yi_t = yi - side\n",
    "\n",
    "            m = x[xi_l:xi_r, yi_t:yi_b]\n",
    "                                    \n",
    "            # control for edge cases where shape doesn't match up - not sure why this is happening\n",
    "            if m.shape == (matrix_dim, matrix_dim):\n",
    "                weather_data = fetch_weather_data(max_values, normalized_weather, doy, xi, yi)\n",
    "                if weather_data is not None:\n",
    "                    no_fire.append(((weather_data, m), 0))\n",
    "    \n",
    "    no_fire = random.sample(no_fire, num_pixels)\n",
    "    \n",
    "    return no_fire"
   ]
  },
  {
   "cell_type": "code",
   "execution_count": 60,
   "metadata": {},
   "outputs": [],
   "source": [
    "def create_labeled_data(dataset, matrix_dim, labeled_multiplier):\n",
    "    '''\n",
    "    Create a list of sets where the first value is a matrix of pixels on a given day and the second value denotes\n",
    "    whether there was fire in the center pixel on the following day.\n",
    "    \n",
    "    Args:\n",
    "        - dataset: a list of sets where the first value of the set is a one-hot encoded 2D array of fire spread \n",
    "        on day_1 and the second value of the set is a one-hot encoded 2D array of fire spread on day_2\n",
    "        - matrix_dim: a hyperparameter for the height and width of the matrices fed into the CNN\n",
    "        - labeled_multiplier: a hyperparameter for how much \"no-fire\" labeled data to add to the training set\n",
    "    Returns:\n",
    "        - data: a list of sets, where the second value (0, 1) represents whether fire is present for a given pixel, and the\n",
    "        first value is a matrix centered on the second value for the previous day and represents where the fire was\n",
    "        on the previous day\n",
    "    '''\n",
    "\n",
    "    side = int(matrix_dim/2)\n",
    "    \n",
    "    data = []\n",
    "    \n",
    "    for (doy, (x, y)) in dataset:    \n",
    "\n",
    "        x = np.pad(x, pad_width=matrix_dim, mode='constant', constant_values=0)\n",
    "        y = np.pad(y, pad_width=matrix_dim, mode='constant', constant_values=0)\n",
    "\n",
    "        vals = np.where(y == 1)\n",
    "        vals = list(zip(vals[0], vals[1]))\n",
    "\n",
    "        for (xi, yi) in vals:\n",
    "            xi_r = xi + side\n",
    "            xi_l = xi - side\n",
    "            yi_b = yi + side\n",
    "            yi_t = yi - side\n",
    "\n",
    "            m = x[xi_l:xi_r, yi_t:yi_b]\n",
    "                        \n",
    "            weather_data = fetch_weather_data(max_values, normalized_weather, doy, xi, yi)\n",
    "            \n",
    "            if weather_data is not None:\n",
    "                data.append(((weather_data, m), 1))\n",
    "    \n",
    "    data_len = len(data)\n",
    "    num_pixels = min(int(data_len*labeled_multiplier), data_len)\n",
    "    \n",
    "    # balance this dataset with values where there is no fire\n",
    "    no_fire = balance_dataset(dataset, matrix_dim, num_pixels, side)\n",
    "    \n",
    "    # combine and shuffle\n",
    "    data += no_fire    \n",
    "    random.shuffle(data)\n",
    "    \n",
    "    return data"
   ]
  },
  {
   "cell_type": "code",
   "execution_count": 61,
   "metadata": {},
   "outputs": [],
   "source": [
    "def prep_dataset_for_cnn(data, matrix_dim):\n",
    "    '''\n",
    "    Takes a list of ((weather_data, fire_data), integer) pairs and returns fire data, weather data, and output labels \n",
    "    split into train and test sets.\n",
    "    \n",
    "    Args:\n",
    "        - data: a list of (matrix, integer) pairs\n",
    "        - matrix_dim: a hyperparameter for the height and width of the matrices fed into the CNN\n",
    "    Returns:\n",
    "        - fire: array of input data in matrix_dim X matrix_dim shape\n",
    "        - weather: list of normalized weather weights\n",
    "        - Y: array of output labels (0 or 1)\n",
    "    '''\n",
    "    \n",
    "    fire = []\n",
    "    weather = []\n",
    "    Y = []\n",
    "\n",
    "    for ((w, f), y) in data:\n",
    "        f = np.asarray(f)\n",
    "        fire.append(f)\n",
    "        \n",
    "        w = np.asarray(w)\n",
    "        weather.append(w)\n",
    "        \n",
    "        Y.append(y)\n",
    "\n",
    "    fire = np.asarray(fire)\n",
    "    weather = np.asarray(weather)\n",
    "    Y = np.asarray(Y)\n",
    "    \n",
    "    obs = len(fire)\n",
    "    \n",
    "    fire = fire.reshape(obs, matrix_dim, matrix_dim, 1)\n",
    "\n",
    "    return fire, weather, Y"
   ]
  },
  {
   "cell_type": "markdown",
   "metadata": {},
   "source": [
    "### Run Data Preprocessing Pipeline"
   ]
  },
  {
   "cell_type": "code",
   "execution_count": 63,
   "metadata": {},
   "outputs": [],
   "source": [
    "file = 'Global_fire_atlas_dircrop'\n",
    "fire_data_dir_dict = process_fire_data_tiff(tif_directory, file)\n",
    "weather_data, max_values = create_weather_dict(weather_directory, normalized_weather, weather_vars, fire_data_dir_dict)\n",
    "\n",
    "fire_data_dict, fireline = data_processing(tif_directory)\n",
    "fire_data_dict = create_one_hot_matrices(fire_data_dict, fireline)\n",
    "small_dataset = create_day_pairs(fire_data_dict)\n",
    "data = create_labeled_data(small_dataset, matrix_dim, labeled_multiplier)\n",
    "fire, weather, Y = prep_dataset_for_cnn(data, matrix_dim)"
   ]
  },
  {
   "cell_type": "markdown",
   "metadata": {},
   "source": [
    "## Build CNN"
   ]
  },
  {
   "cell_type": "code",
   "execution_count": 64,
   "metadata": {},
   "outputs": [],
   "source": [
    "# import packages\n",
    "\n",
    "from __future__ import print_function\n",
    "\n",
    "import tensorflow as tf\n",
    "\n",
    "import keras\n",
    "import keras.backend as K\n",
    "\n",
    "from keras.models import Sequential, Model\n",
    "from keras.layers import AveragePooling2D, Conv1D, Conv2D, MaxPooling2D, Dropout, Flatten, Dense, Input, concatenate"
   ]
  },
  {
   "cell_type": "code",
   "execution_count": 65,
   "metadata": {},
   "outputs": [],
   "source": [
    "# compute f1 score manually - taken from https://datascience.stackexchange.com/a/45166\n",
    "\n",
    "def recall_m(y_true, y_pred):\n",
    "    '''\n",
    "    Computes recall.\n",
    "    \n",
    "    Args:\n",
    "        - y_true: true values of target variable.\n",
    "        - y_pred: predicted values of target variable.\n",
    "    Returns:\n",
    "        - recall: true positives / actual results\n",
    "    '''\n",
    "    \n",
    "    true_pos = K.sum(K.round(K.clip(y_true * y_pred, 0, 1)))\n",
    "    possible_pos = K.sum(K.round(K.clip(y_true, 0, 1)))\n",
    "    recall = true_pos / (possible_pos + K.epsilon())\n",
    "\n",
    "    return recall\n",
    "\n",
    "\n",
    "def precision_m(y_true, y_pred):\n",
    "    '''\n",
    "    Computes precision.\n",
    "    \n",
    "    Args:\n",
    "        - y_true: true values of target variable.\n",
    "        - y_pred: predicted values of target variable.\n",
    "    Returns:\n",
    "        - precision: true positives / predicted results\n",
    "    '''\n",
    "    \n",
    "    true_pos = K.sum(K.round(K.clip(y_true * y_pred, 0, 1)))\n",
    "    predicted_pos = K.sum(K.round(K.clip(y_pred, 0, 1)))\n",
    "    precision = true_pos / (predicted_pos + K.epsilon())\n",
    "    \n",
    "    return precision\n",
    "\n",
    "\n",
    "def f1_score(y_true, y_pred):\n",
    "    '''\n",
    "    Args:\n",
    "        - y_true: true values of target variable.\n",
    "        - y_pred: predicted values of target variable.\n",
    "    Returns:\n",
    "        - score: f1 score\n",
    "    '''\n",
    "    \n",
    "    precision = precision_m(y_true, y_pred)\n",
    "    recall = recall_m(y_true, y_pred)\n",
    "    score = 2*((precision*recall)/(precision+recall+K.epsilon()))\n",
    "    \n",
    "    return score"
   ]
  },
  {
   "cell_type": "markdown",
   "metadata": {},
   "source": [
    "### Model 1 - Fire Image Data"
   ]
  },
  {
   "cell_type": "code",
   "execution_count": 66,
   "metadata": {},
   "outputs": [],
   "source": [
    "# Create model_1: fire image data with Sequential API\n",
    "model_1 = Sequential()\n",
    "\n",
    "# Add layers\n",
    "model_1.add(AveragePooling2D(pool_size=(2, 2), strides=None, padding='valid'))\n",
    "model_1.add(Conv2D(64, kernel_size=(3, 3), activation='sigmoid'))\n",
    "model_1.add(Conv2D(32, kernel_size=(3, 3), activation='sigmoid'))\n",
    "model_1.add(MaxPooling2D(pool_size=(2, 2), strides=None, padding='valid'))\n",
    "model_1.add(Dropout(0.2))\n",
    "model_1.add(Flatten())\n",
    "\n",
    "# Final dense layer \n",
    "model_1.add(Dense(1, activation='sigmoid'))"
   ]
  },
  {
   "cell_type": "code",
   "execution_count": 67,
   "metadata": {},
   "outputs": [],
   "source": [
    "# compile the model\n",
    "model_1.compile(\n",
    "    optimizer='adam', \n",
    "    loss='binary_crossentropy', \n",
    "    metrics=['accuracy', f1_score, tf.keras.metrics.AUC()]\n",
    ")"
   ]
  },
  {
   "cell_type": "code",
   "execution_count": 68,
   "metadata": {},
   "outputs": [
    {
     "name": "stdout",
     "output_type": "stream",
     "text": [
      "Train on 5409 samples, validate on 1353 samples\n",
      "Epoch 1/20\n",
      "5409/5409 [==============================] - 2s 385us/step - loss: 0.7001 - accuracy: 0.5038 - f1_score: 0.4362 - auc_2: 0.5103 - val_loss: 0.6892 - val_accuracy: 0.5255 - val_f1_score: 0.1050 - val_auc_2: 0.5154\n",
      "Epoch 2/20\n",
      "5409/5409 [==============================] - 2s 294us/step - loss: 0.6237 - accuracy: 0.6441 - f1_score: 0.6018 - auc_2: 0.5508 - val_loss: 0.4282 - val_accuracy: 0.9135 - val_f1_score: 0.9038 - val_auc_2: 0.6442\n",
      "Epoch 3/20\n",
      "5409/5409 [==============================] - 2s 294us/step - loss: 0.3086 - accuracy: 0.8950 - f1_score: 0.8791 - auc_2: 0.7340 - val_loss: 0.2503 - val_accuracy: 0.9475 - val_f1_score: 0.9446 - val_auc_2: 0.7975\n",
      "Epoch 4/20\n",
      "5409/5409 [==============================] - 2s 292us/step - loss: 0.1971 - accuracy: 0.9347 - f1_score: 0.9277 - auc_2: 0.8372 - val_loss: 0.2786 - val_accuracy: 0.9860 - val_f1_score: 0.9869 - val_auc_2: 0.8665\n",
      "Epoch 5/20\n",
      "5409/5409 [==============================] - 2s 296us/step - loss: 0.1541 - accuracy: 0.9529 - f1_score: 0.9441 - auc_2: 0.8871 - val_loss: 0.2054 - val_accuracy: 0.9135 - val_f1_score: 0.9035 - val_auc_2: 0.9019\n",
      "Epoch 6/20\n",
      "5409/5409 [==============================] - 2s 289us/step - loss: 0.1250 - accuracy: 0.9619 - f1_score: 0.9535 - auc_2: 0.9133 - val_loss: 0.1318 - val_accuracy: 0.9446 - val_f1_score: 0.9410 - val_auc_2: 0.9236\n",
      "Epoch 7/20\n",
      "5409/5409 [==============================] - 2s 293us/step - loss: 0.1067 - accuracy: 0.9680 - f1_score: 0.9601 - auc_2: 0.9318 - val_loss: 0.1102 - val_accuracy: 0.9630 - val_f1_score: 0.9616 - val_auc_2: 0.9389\n",
      "Epoch 8/20\n",
      "5409/5409 [==============================] - 2s 290us/step - loss: 0.1021 - accuracy: 0.9708 - f1_score: 0.9695 - auc_2: 0.9445 - val_loss: 0.1025 - val_accuracy: 0.9712 - val_f1_score: 0.9700 - val_auc_2: 0.9495\n",
      "Epoch 9/20\n",
      "5409/5409 [==============================] - 2s 288us/step - loss: 0.0864 - accuracy: 0.9762 - f1_score: 0.9683 - auc_2: 0.9538 - val_loss: 0.1024 - val_accuracy: 0.9601 - val_f1_score: 0.9587 - val_auc_2: 0.9575\n",
      "Epoch 10/20\n",
      "5409/5409 [==============================] - 2s 302us/step - loss: 0.0795 - accuracy: 0.9787 - f1_score: 0.9716 - auc_2: 0.9606 - val_loss: 0.0951 - val_accuracy: 0.9808 - val_f1_score: 0.9819 - val_auc_2: 0.9635\n",
      "Epoch 11/20\n",
      "5409/5409 [==============================] - 2s 313us/step - loss: 0.0744 - accuracy: 0.9798 - f1_score: 0.9797 - auc_2: 0.9660 - val_loss: 0.1362 - val_accuracy: 0.9889 - val_f1_score: 0.9898 - val_auc_2: 0.9682\n",
      "Epoch 12/20\n",
      "5409/5409 [==============================] - 2s 329us/step - loss: 0.0686 - accuracy: 0.9839 - f1_score: 0.9774 - auc_2: 0.9702 - val_loss: 0.0851 - val_accuracy: 0.9778 - val_f1_score: 0.9788 - val_auc_2: 0.9720\n",
      "Epoch 13/20\n",
      "5409/5409 [==============================] - 2s 300us/step - loss: 0.0677 - accuracy: 0.9839 - f1_score: 0.9777 - auc_2: 0.9735 - val_loss: 0.0930 - val_accuracy: 0.9712 - val_f1_score: 0.9715 - val_auc_2: 0.9749\n",
      "Epoch 14/20\n",
      "5409/5409 [==============================] - 2s 291us/step - loss: 0.0646 - accuracy: 0.9854 - f1_score: 0.9846 - auc_2: 0.9762 - val_loss: 0.0808 - val_accuracy: 0.9815 - val_f1_score: 0.9826 - val_auc_2: 0.9774\n",
      "Epoch 15/20\n",
      "5409/5409 [==============================] - 2s 293us/step - loss: 0.0586 - accuracy: 0.9874 - f1_score: 0.9867 - auc_2: 0.9784 - val_loss: 0.0916 - val_accuracy: 0.9874 - val_f1_score: 0.9880 - val_auc_2: 0.9795\n",
      "Epoch 16/20\n",
      "5409/5409 [==============================] - 2s 296us/step - loss: 0.0642 - accuracy: 0.9863 - f1_score: 0.9802 - auc_2: 0.9804 - val_loss: 0.0791 - val_accuracy: 0.9830 - val_f1_score: 0.9841 - val_auc_2: 0.9812\n",
      "Epoch 17/20\n",
      "5409/5409 [==============================] - 2s 290us/step - loss: 0.0549 - accuracy: 0.9884 - f1_score: 0.9876 - auc_2: 0.9819 - val_loss: 0.0790 - val_accuracy: 0.9867 - val_f1_score: 0.9874 - val_auc_2: 0.9827\n",
      "Epoch 18/20\n",
      "5409/5409 [==============================] - 2s 295us/step - loss: 0.0580 - accuracy: 0.9882 - f1_score: 0.9822 - auc_2: 0.9833 - val_loss: 0.0787 - val_accuracy: 0.9786 - val_f1_score: 0.9791 - val_auc_2: 0.9839\n",
      "Epoch 19/20\n",
      "5409/5409 [==============================] - 2s 292us/step - loss: 0.0549 - accuracy: 0.9878 - f1_score: 0.9813 - auc_2: 0.9844 - val_loss: 0.0813 - val_accuracy: 0.9904 - val_f1_score: 0.9908 - val_auc_2: 0.9850\n",
      "Epoch 20/20\n",
      "5409/5409 [==============================] - 2s 302us/step - loss: 0.0538 - accuracy: 0.9896 - f1_score: 0.9889 - auc_2: 0.9855 - val_loss: 0.0889 - val_accuracy: 0.9904 - val_f1_score: 0.9908 - val_auc_2: 0.9859\n"
     ]
    },
    {
     "data": {
      "text/plain": [
       "<keras.callbacks.callbacks.History at 0x7fdd1954ad10>"
      ]
     },
     "execution_count": 68,
     "metadata": {},
     "output_type": "execute_result"
    }
   ],
   "source": [
    "# fit the model\n",
    "model_1.fit(\n",
    "    x = fire, \n",
    "    y = Y,\n",
    "    validation_split = test_size, \n",
    "    epochs=epoc\n",
    ")"
   ]
  },
  {
   "cell_type": "code",
   "execution_count": 69,
   "metadata": {
    "scrolled": true
   },
   "outputs": [
    {
     "data": {
      "text/plain": [
       "array([[0.04392324],\n",
       "       [0.04392324],\n",
       "       [1.        ],\n",
       "       [1.        ],\n",
       "       [1.        ],\n",
       "       [1.        ],\n",
       "       [0.9999999 ],\n",
       "       [0.04392324],\n",
       "       [0.9538374 ],\n",
       "       [0.9999999 ]], dtype=float32)"
      ]
     },
     "execution_count": 69,
     "metadata": {},
     "output_type": "execute_result"
    }
   ],
   "source": [
    "model_1.predict(fire[:10])"
   ]
  },
  {
   "cell_type": "code",
   "execution_count": 70,
   "metadata": {},
   "outputs": [
    {
     "data": {
      "text/plain": [
       "array([0, 0, 1, 1, 1, 1, 1, 0, 1, 1])"
      ]
     },
     "execution_count": 70,
     "metadata": {},
     "output_type": "execute_result"
    }
   ],
   "source": [
    "Y[:10]"
   ]
  },
  {
   "cell_type": "markdown",
   "metadata": {},
   "source": [
    "### Model 2 - Fire Image Data and Weather Data"
   ]
  },
  {
   "cell_type": "code",
   "execution_count": 71,
   "metadata": {},
   "outputs": [],
   "source": [
    "# Create model_2: image data and weather data with functional API\n",
    "\n",
    "# Define image inputs shape\n",
    "image_shape = fire[0].shape\n",
    "image_inputs = Input(shape = image_shape)\n",
    "\n",
    "# Define weather inputs shape\n",
    "weather_shape = weather[0].shape\n",
    "weather_inputs = Input(shape = weather_shape)\n",
    "\n",
    "# Add layers for fire image interpretation\n",
    "fire_1 = AveragePooling2D(pool_size=(2, 2), strides=None, padding='valid')(image_inputs)\n",
    "fire_2 = Conv2D(32, kernel_size=(3, 3), activation='sigmoid')(fire_1)\n",
    "fire_3 = Conv2D(64, kernel_size=(3, 3), activation='sigmoid')(fire_2)\n",
    "fire_4 = MaxPooling2D(pool_size=(2,2), strides=None, padding='valid')(fire_3)\n",
    "fire_5 = Dropout(0.2)(fire_4)\n",
    "fire_6 = Flatten()(fire_5)\n",
    "fire_7 = Dense(128, activation='sigmoid')(fire_6)\n",
    "\n",
    "# Combine the layers\n",
    "concat = concatenate([fire_7, weather_inputs])\n",
    "\n",
    "# Final dense layer \n",
    "predictions = Dense(1, activation='sigmoid')(concat)\n",
    "\n",
    "# Define the model\n",
    "model_2 = Model(inputs=[image_inputs, weather_inputs], outputs=predictions)"
   ]
  },
  {
   "cell_type": "code",
   "execution_count": 72,
   "metadata": {},
   "outputs": [],
   "source": [
    "# compile the model\n",
    "model_2.compile(\n",
    "    optimizer='adam', \n",
    "    loss='binary_crossentropy', \n",
    "    metrics=['accuracy', f1_score, tf.keras.metrics.AUC()]\n",
    ")"
   ]
  },
  {
   "cell_type": "code",
   "execution_count": 73,
   "metadata": {},
   "outputs": [
    {
     "name": "stdout",
     "output_type": "stream",
     "text": [
      "Train on 5409 samples, validate on 1353 samples\n",
      "Epoch 1/20\n",
      "5409/5409 [==============================] - 2s 360us/step - loss: 0.7088 - accuracy: 0.5189 - f1_score: 0.4001 - auc_3: 0.5127 - val_loss: 0.6889 - val_accuracy: 0.5846 - val_f1_score: 0.6700 - val_auc_3: 0.5232\n",
      "Epoch 2/20\n",
      "5409/5409 [==============================] - 2s 285us/step - loss: 0.6817 - accuracy: 0.5565 - f1_score: 0.5150 - auc_3: 0.5340 - val_loss: 0.6375 - val_accuracy: 0.5041 - val_f1_score: 0.6692 - val_auc_3: 0.5540\n",
      "Epoch 3/20\n",
      "5409/5409 [==============================] - 2s 289us/step - loss: 0.4127 - accuracy: 0.8416 - f1_score: 0.8234 - auc_3: 0.6261 - val_loss: 0.3299 - val_accuracy: 0.9749 - val_f1_score: 0.9741 - val_auc_3: 0.7147\n",
      "Epoch 4/20\n",
      "5409/5409 [==============================] - 2s 284us/step - loss: 0.2088 - accuracy: 0.9301 - f1_score: 0.9242 - auc_3: 0.7731 - val_loss: 0.1728 - val_accuracy: 0.9254 - val_f1_score: 0.9185 - val_auc_3: 0.8161\n",
      "Epoch 5/20\n",
      "5409/5409 [==============================] - 2s 292us/step - loss: 0.1475 - accuracy: 0.9527 - f1_score: 0.9428 - auc_3: 0.8456 - val_loss: 0.1428 - val_accuracy: 0.9460 - val_f1_score: 0.9425 - val_auc_3: 0.8695\n",
      "Epoch 6/20\n",
      "5409/5409 [==============================] - 2s 289us/step - loss: 0.1216 - accuracy: 0.9619 - f1_score: 0.9539 - auc_3: 0.8868 - val_loss: 0.1118 - val_accuracy: 0.9638 - val_f1_score: 0.9632 - val_auc_3: 0.9015\n",
      "Epoch 7/20\n",
      "5409/5409 [==============================] - 2s 287us/step - loss: 0.1029 - accuracy: 0.9706 - f1_score: 0.9681 - auc_3: 0.9130 - val_loss: 0.2250 - val_accuracy: 0.9897 - val_f1_score: 0.9905 - val_auc_3: 0.9224\n",
      "Epoch 8/20\n",
      "5409/5409 [==============================] - 2s 325us/step - loss: 0.1002 - accuracy: 0.9713 - f1_score: 0.9693 - auc_3: 0.9294 - val_loss: 0.0918 - val_accuracy: 0.9756 - val_f1_score: 0.9767 - val_auc_3: 0.9363\n",
      "Epoch 9/20\n",
      "5409/5409 [==============================] - 2s 302us/step - loss: 0.0838 - accuracy: 0.9767 - f1_score: 0.9698 - auc_3: 0.9419 - val_loss: 0.1075 - val_accuracy: 0.9623 - val_f1_score: 0.9624 - val_auc_3: 0.9465\n",
      "Epoch 10/20\n",
      "5409/5409 [==============================] - 2s 287us/step - loss: 0.0696 - accuracy: 0.9823 - f1_score: 0.9751 - auc_3: 0.9507 - val_loss: 0.0835 - val_accuracy: 0.9756 - val_f1_score: 0.9768 - val_auc_3: 0.9545\n",
      "Epoch 11/20\n",
      "5409/5409 [==============================] - 2s 297us/step - loss: 0.0686 - accuracy: 0.9824 - f1_score: 0.9820 - auc_3: 0.9576 - val_loss: 0.0783 - val_accuracy: 0.9786 - val_f1_score: 0.9798 - val_auc_3: 0.9605\n",
      "Epoch 12/20\n",
      "5409/5409 [==============================] - 2s 285us/step - loss: 0.0587 - accuracy: 0.9856 - f1_score: 0.9853 - auc_3: 0.9630 - val_loss: 0.0723 - val_accuracy: 0.9808 - val_f1_score: 0.9819 - val_auc_3: 0.9654\n",
      "Epoch 13/20\n",
      "5409/5409 [==============================] - 2s 291us/step - loss: 0.0588 - accuracy: 0.9872 - f1_score: 0.9865 - auc_3: 0.9674 - val_loss: 0.0702 - val_accuracy: 0.9823 - val_f1_score: 0.9835 - val_auc_3: 0.9693\n",
      "Epoch 14/20\n",
      "5409/5409 [==============================] - 2s 287us/step - loss: 0.0512 - accuracy: 0.9891 - f1_score: 0.9886 - auc_3: 0.9709 - val_loss: 0.0737 - val_accuracy: 0.9800 - val_f1_score: 0.9812 - val_auc_3: 0.9725\n",
      "Epoch 15/20\n",
      "5409/5409 [==============================] - 2s 291us/step - loss: 0.0542 - accuracy: 0.9876 - f1_score: 0.9813 - auc_3: 0.9738 - val_loss: 0.0780 - val_accuracy: 0.9786 - val_f1_score: 0.9797 - val_auc_3: 0.9750\n",
      "Epoch 16/20\n",
      "5409/5409 [==============================] - 2s 302us/step - loss: 0.0470 - accuracy: 0.9902 - f1_score: 0.9892 - auc_3: 0.9761 - val_loss: 0.0623 - val_accuracy: 0.9860 - val_f1_score: 0.9868 - val_auc_3: 0.9772\n",
      "Epoch 17/20\n",
      "5409/5409 [==============================] - 2s 317us/step - loss: 0.0437 - accuracy: 0.9904 - f1_score: 0.9899 - auc_3: 0.9782 - val_loss: 0.0625 - val_accuracy: 0.9860 - val_f1_score: 0.9868 - val_auc_3: 0.9791\n",
      "Epoch 18/20\n",
      "5409/5409 [==============================] - 2s 309us/step - loss: 0.0491 - accuracy: 0.9902 - f1_score: 0.9901 - auc_3: 0.9799 - val_loss: 0.0712 - val_accuracy: 0.9815 - val_f1_score: 0.9828 - val_auc_3: 0.9806\n",
      "Epoch 19/20\n",
      "5409/5409 [==============================] - 2s 295us/step - loss: 0.0404 - accuracy: 0.9915 - f1_score: 0.9912 - auc_3: 0.9813 - val_loss: 0.0580 - val_accuracy: 0.9897 - val_f1_score: 0.9902 - val_auc_3: 0.9820\n",
      "Epoch 20/20\n",
      "5409/5409 [==============================] - 2s 332us/step - loss: 0.0424 - accuracy: 0.9913 - f1_score: 0.9907 - auc_3: 0.9826 - val_loss: 0.0564 - val_accuracy: 0.9867 - val_f1_score: 0.9876 - val_auc_3: 0.9832\n"
     ]
    },
    {
     "data": {
      "text/plain": [
       "<keras.callbacks.callbacks.History at 0x7fdd7f45ad10>"
      ]
     },
     "execution_count": 73,
     "metadata": {},
     "output_type": "execute_result"
    }
   ],
   "source": [
    "# fit the model\n",
    "model_2.fit(\n",
    "    x = [fire, weather], \n",
    "    y = Y,\n",
    "    validation_split = test_size, \n",
    "    epochs=epoc\n",
    ")"
   ]
  },
  {
   "cell_type": "code",
   "execution_count": 74,
   "metadata": {},
   "outputs": [
    {
     "data": {
      "text/plain": [
       "array([[0.00411704],\n",
       "       [0.00407129],\n",
       "       [0.9979499 ],\n",
       "       [0.9979128 ],\n",
       "       [0.99799037],\n",
       "       [0.9978776 ],\n",
       "       [0.9979358 ],\n",
       "       [0.00412725],\n",
       "       [0.70243543],\n",
       "       [0.998014  ]], dtype=float32)"
      ]
     },
     "execution_count": 74,
     "metadata": {},
     "output_type": "execute_result"
    }
   ],
   "source": [
    "model_2.predict([fire[:10], weather[:10]])"
   ]
  },
  {
   "cell_type": "code",
   "execution_count": 75,
   "metadata": {},
   "outputs": [
    {
     "data": {
      "text/plain": [
       "array([0, 0, 1, 1, 1, 1, 1, 0, 1, 1])"
      ]
     },
     "execution_count": 75,
     "metadata": {},
     "output_type": "execute_result"
    }
   ],
   "source": [
    "Y[:10]"
   ]
  },
  {
   "cell_type": "markdown",
   "metadata": {},
   "source": [
    "## Fire Prediction Functions"
   ]
  },
  {
   "cell_type": "code",
   "execution_count": 76,
   "metadata": {},
   "outputs": [],
   "source": [
    "def show_images(images, cols = 1, titles = None):\n",
    "    '''\n",
    "    Display a list of images in a single figure with matplotlib. Taken from \n",
    "    https://gist.github.com/soply/f3eec2e79c165e39c9d540e916142ae1\n",
    "    \n",
    "    Args:\n",
    "        - images: List of np.arrays compatible with plt.imshow.\n",
    "    \n",
    "        - cols (Default = 1): Number of columns in figure (number of rows is set to np.ceil(n_images/float(cols))).\n",
    "    \n",
    "        - titles: List of titles corresponding to each image. Must have the same length as titles.\n",
    "    '''\n",
    "\n",
    "    assert((titles is None)or (len(images) == len(titles)))\n",
    "    \n",
    "    n_images = len(images)\n",
    "    \n",
    "    if titles is None: titles = ['Image (%d)' % i for i in range(1,n_images + 1)]\n",
    "    \n",
    "    fig = plt.figure()\n",
    "    \n",
    "    for n, (image, title) in enumerate(zip(images, titles)):\n",
    "        a = fig.add_subplot(cols, np.ceil(n_images/float(cols)), n + 1)\n",
    "        plt.imshow(image, cmap='inferno', interpolation='nearest')\n",
    "        a.set_title(title)\n",
    "    \n",
    "    fig.set_size_inches(np.array(fig.get_size_inches()) * n_images)\n",
    "    \n",
    "    plt.show()"
   ]
  },
  {
   "cell_type": "code",
   "execution_count": 77,
   "metadata": {},
   "outputs": [],
   "source": [
    "def predict_day(fire_id, doy, model, matrix_dim):\n",
    "    '''\n",
    "    Predicts where fire will be on day \"D + 1\" for a provided fire_id and day of year, using a provided model.\n",
    "    \n",
    "    Args:\n",
    "        - fire_id: ID of fire to be predicted\n",
    "        - doy: Day of year to predict fire for\n",
    "        - model: Model to use for predictions\n",
    "        - matrix_dim: a hyperparameter for the height and width of the matrices fed into the CNN\n",
    "    Returns:\n",
    "        - prediction: numpy matrix of predicted fire probabilities\n",
    "    '''\n",
    "\n",
    "    side = int(matrix_dim/2)\n",
    "    fire_id = str(fire_id)\n",
    "    doy = str(doy)\n",
    "    \n",
    "    try:\n",
    "        true_fire_map = fire_data_dict[fire_id][doy]\n",
    "    except KeyError:\n",
    "        print(\"Not a valid fire_id and day of year combination\")\n",
    "\n",
    "    weather_data_test = weather_data[doy]\n",
    "    small_dataset_test = None\n",
    "\n",
    "    for (day, (x, y)) in small_dataset:\n",
    "        if day == doy:\n",
    "            small_dataset_test = (day, (x, y))\n",
    "\n",
    "    (day, (x, y)) = small_dataset_test\n",
    "        \n",
    "    x = np.pad(x, pad_width=matrix_dim, mode='constant', constant_values=0)\n",
    "    y = np.pad(y, pad_width=matrix_dim, mode='constant', constant_values=0)\n",
    "    \n",
    "    vals = np.where((y == 1) | (y == 0))\n",
    "    vals = list(zip(vals[0], vals[1]))\n",
    "    \n",
    "    values = []\n",
    "    \n",
    "    shape = x.shape\n",
    "    prediction = np.zeros(shape)\n",
    "    \n",
    "    for (xi, yi) in vals:\n",
    "        point = (xi, yi)\n",
    "        \n",
    "        xi_r = xi + side\n",
    "        xi_l = xi - side\n",
    "        yi_b = yi + side\n",
    "        yi_t = yi - side\n",
    "\n",
    "        m = x[xi_l:xi_r, yi_t:yi_b]\n",
    "        \n",
    "        weather = fetch_weather_data(max_values, normalized_weather, doy, xi, yi)\n",
    "\n",
    "        y_label = y[xi, yi]\n",
    "        \n",
    "        if (weather is not None) and (m.shape == (matrix_dim, matrix_dim)):\n",
    "            values.append((point, y_label, weather, m))\n",
    "    \n",
    "    \n",
    "    for (point, y_label, w, f) in values:        \n",
    "        fire = []\n",
    "        weather = []\n",
    "        Y = []\n",
    "\n",
    "        fire.append(np.asarray(f))\n",
    "        weather.append(np.asarray(w))\n",
    "        Y.append(y_label)\n",
    "\n",
    "        fire = np.asarray(fire)\n",
    "        weather = np.asarray(weather)\n",
    "        Y = np.asarray(Y)\n",
    "        \n",
    "        obs = len(fire)\n",
    "        fire = fire.reshape(obs, matrix_dim, matrix_dim, 1)\n",
    "\n",
    "        if model == model_1:\n",
    "            val = model.predict(fire)\n",
    "        elif model == model_2:\n",
    "            val = model.predict([fire, weather])\n",
    "            \n",
    "        prediction[point] = val\n",
    "    \n",
    "    x_start = matrix_dim\n",
    "    x_end = 456 + matrix_dim\n",
    "    y_start = matrix_dim\n",
    "    y_end = 470 + matrix_dim\n",
    "    \n",
    "    prediction = prediction[y_start:y_end, x_start:x_end]\n",
    "    \n",
    "    return prediction"
   ]
  },
  {
   "cell_type": "markdown",
   "metadata": {},
   "source": [
    "## Predict a Day of Fire"
   ]
  },
  {
   "cell_type": "markdown",
   "metadata": {},
   "source": [
    "### Model 1 Prediction"
   ]
  },
  {
   "cell_type": "code",
   "execution_count": 78,
   "metadata": {},
   "outputs": [],
   "source": [
    "# get a day of fire to test\n",
    "a = fire_data_dict['140']['209']\n",
    "\n",
    "# focus more closely on the fire\n",
    "b = a[0:200, 0:200]\n",
    "\n",
    "# predict fire location for that day using model 1\n",
    "c = predict_day('140', '209', model_1, matrix_dim)\n",
    "\n",
    "# focus more closely on that fire\n",
    "d = c[0:200, 0:200]"
   ]
  },
  {
   "cell_type": "code",
   "execution_count": 79,
   "metadata": {},
   "outputs": [
    {
     "data": {
      "image/png": "[encoded data removed]",
      "text/plain": [
       "<Figure size 1728x1152 with 4 Axes>"
      ]
     },
     "metadata": {
      "needs_background": "light"
     },
     "output_type": "display_data"
    }
   ],
   "source": [
    "# show results\n",
    "images_1 = [a, c, b, d]\n",
    "titles_1 = [\"True Values\", \"Predicted Values (no Weather)\", \"True Values Zoomed\", \"Predicted Values Zoomed (no Weather)\"]\n",
    "show_images(images_1, titles=titles_1)"
   ]
  },
  {
   "cell_type": "code",
   "execution_count": 80,
   "metadata": {},
   "outputs": [
    {
     "data": {
      "image/png": "[encoded data removed]",
      "text/plain": [
       "<Figure size 432x288 with 1 Axes>"
      ]
     },
     "metadata": {
      "needs_background": "light"
     },
     "output_type": "display_data"
    }
   ],
   "source": [
    "# get outline of fire\n",
    "k = np.rint(d)\n",
    "k = np.diff(k)\n",
    "k = np.abs(k)\n",
    "plt.imshow(k, cmap='inferno', interpolation='nearest')\n",
    "plt.show()"
   ]
  },
  {
   "cell_type": "markdown",
   "metadata": {},
   "source": [
    "### Model 2 Prediction"
   ]
  },
  {
   "cell_type": "code",
   "execution_count": 81,
   "metadata": {},
   "outputs": [],
   "source": [
    "# predict fire locationf or that day using model 2\n",
    "e = predict_day('140', '209', model_2, matrix_dim)\n",
    "\n",
    "# focus more closely on prediction\n",
    "f = e[0:200, 0:200]"
   ]
  },
  {
   "cell_type": "code",
   "execution_count": 82,
   "metadata": {},
   "outputs": [
    {
     "data": {
      "image/png": "[encoded data removed]",
      "text/plain": [
       "<Figure size 1728x1152 with 4 Axes>"
      ]
     },
     "metadata": {
      "needs_background": "light"
     },
     "output_type": "display_data"
    }
   ],
   "source": [
    "# show results\n",
    "images_2 = [a, e, b, f]\n",
    "titles_2 = [\"True Values\", \"Predicted Values (with Weather)\", \"True Values Zoomed\", \"Predicted Values Zoomed (with Weather)\"]\n",
    "show_images(images_2, titles=titles_2)"
   ]
  },
  {
   "cell_type": "code",
   "execution_count": 83,
   "metadata": {
    "scrolled": true
   },
   "outputs": [
    {
     "data": {
      "image/png": "[encoded data removed]",
      "text/plain": [
       "<Figure size 432x288 with 1 Axes>"
      ]
     },
     "metadata": {
      "needs_background": "light"
     },
     "output_type": "display_data"
    }
   ],
   "source": [
    "# get outline of fire\n",
    "j = np.rint(f)\n",
    "j = np.diff(j)\n",
    "j = np.abs(j)\n",
    "plt.imshow(j, cmap='inferno', interpolation='nearest')\n",
    "plt.show()"
   ]
  },
  {
   "cell_type": "code",
   "execution_count": 84,
   "metadata": {},
   "outputs": [
    {
     "data": {
      "image/png": "[encoded data removed]",
      "text/plain": [
       "<Figure size 432x288 with 1 Axes>"
      ]
     },
     "metadata": {
      "needs_background": "light"
     },
     "output_type": "display_data"
    }
   ],
   "source": [
    "# overlay prediction with actual\n",
    "\n",
    "extent = np.min(b), np.max(b), np.min(f), np.max(f)\n",
    "\n",
    "fig = plt.figure(frameon=False)\n",
    "im1 = plt.imshow(b, cmap='gray', interpolation='bilinear', extent=extent)\n",
    "im2 = plt.imshow(f, cmap='inferno', interpolation='nearest', extent=extent, alpha=0.3)\n",
    "\n",
    "plt.show()"
   ]
  },
  {
   "cell_type": "code",
   "execution_count": 85,
   "metadata": {},
   "outputs": [
    {
     "data": {
      "image/png": "[encoded data removed]",
      "text/plain": [
       "<Figure size 432x288 with 1 Axes>"
      ]
     },
     "metadata": {
      "needs_background": "light"
     },
     "output_type": "display_data"
    },
    {
     "data": {
      "image/png": "[encoded data removed]",
      "text/plain": [
       "<Figure size 432x288 with 1 Axes>"
      ]
     },
     "metadata": {
      "needs_background": "light"
     },
     "output_type": "display_data"
    }
   ],
   "source": [
    "# overlay prediction with previous days of fire\n",
    "\n",
    "z = fire_data_dict['140']['203'][0:200, 0:200]\n",
    "y = fire_data_dict['140']['204'][0:200, 0:200]\n",
    "x = fire_data_dict['140']['205'][0:200, 0:200]\n",
    "v = fire_data_dict['140']['206'][0:200, 0:200]\n",
    "u = fire_data_dict['140']['207'][0:200, 0:200]\n",
    "t = fire_data_dict['140']['208'][0:200, 0:200]\n",
    "\n",
    "zz = 0\n",
    "zz = np.add(z, y)\n",
    "zz = np.add(zz, x)\n",
    "zz = np.add(zz, v)\n",
    "zz = np.add(zz, u)\n",
    "zz = np.add(zz, t)\n",
    "\n",
    "\n",
    "extent = np.min(zz), np.max(zz), np.min(f), np.max(f)\n",
    "\n",
    "fig2 = plt.figure(frameon=False)\n",
    "fig2.suptitle(\"Prediction of Day D Overlayed with Fire Extent up to Day D - 1\")\n",
    "im_203 = plt.imshow(zz, cmap='Blues', interpolation='bilinear', extent=extent)\n",
    "im_208 = plt.imshow(f, cmap='Reds', interpolation='nearest', extent=extent, alpha=0.5)\n",
    "plt.show()\n",
    "\n",
    "yy = np.add(zz, b)\n",
    "fig3 = plt.figure(frameon=False)\n",
    "im_act = plt.imshow(yy, cmap='Blues', interpolation='bilinear', extent=extent)\n",
    "im_pred = plt.imshow(f, cmap='Reds', interpolation='nearest', extent=extent, alpha=0.5)\n",
    "fig3.suptitle(\"Prediction of Day D Overlayed with Fire Extent up to and Including Day D\")\n",
    "plt.show()"
   ]
  },
  {
   "cell_type": "code",
   "execution_count": null,
   "metadata": {},
   "outputs": [],
   "source": []
  },
  {
   "cell_type": "code",
   "execution_count": null,
   "metadata": {},
   "outputs": [],
   "source": []
  }
 ],
 "metadata": {
  "kernelspec": {
   "display_name": "Python 3",
   "language": "python",
   "name": "python3"
  },
  "language_info": {
   "codemirror_mode": {
    "name": "ipython",
    "version": 3
   },
   "file_extension": ".py",
   "mimetype": "text/x-python",
   "name": "python",
   "nbconvert_exporter": "python",
   "pygments_lexer": "ipython3",
   "version": "3.7.6"
  }
 },
 "nbformat": 4,
 "nbformat_minor": 4
}
