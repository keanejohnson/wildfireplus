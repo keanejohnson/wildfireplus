{
 "cells": [
  {
   "cell_type": "code",
   "execution_count": 87,
   "metadata": {},
   "outputs": [],
   "source": [
    "import boto3\n",
    "from io import BytesIO\n",
    "import pickle\n",
    "\n",
    "resource = boto3.resource('s3')\n",
    "bucket = resource.Bucket('hotzone')"
   ]
  },
  {
   "cell_type": "code",
   "execution_count": 56,
   "metadata": {},
   "outputs": [],
   "source": [
    "fire_data = list(my_bucket.objects.filter(Prefix='fire_data'))"
   ]
  },
  {
   "cell_type": "code",
   "execution_count": 57,
   "metadata": {},
   "outputs": [],
   "source": [
    "weather_data = list(my_bucket.objects.filter(Prefix='weather_data'))"
   ]
  },
  {
   "cell_type": "code",
   "execution_count": 65,
   "metadata": {},
   "outputs": [
    {
     "name": "stdout",
     "output_type": "stream",
     "text": [
      "s3.ObjectSummary(bucket_name='hotzone', key='fire_data/')\n",
      "s3.ObjectSummary(bucket_name='hotzone', key='fire_data/Global_fire_atlas_datacrop.pickle')\n",
      "s3.ObjectSummary(bucket_name='hotzone', key='fire_data/Global_fire_atlas_dircrop.tif')\n",
      "s3.ObjectSummary(bucket_name='hotzone', key='fire_data/Global_fire_atlas_dobcrop.tif')\n",
      "s3.ObjectSummary(bucket_name='hotzone', key='fire_data/Global_fire_atlas_firelinecrop.tif')\n",
      "s3.ObjectSummary(bucket_name='hotzone', key='fire_data/Global_fire_atlas_ignitioncrop.pickle')\n",
      "s3.ObjectSummary(bucket_name='hotzone', key='fire_data/Global_fire_atlas_speedcrop.png')\n",
      "s3.ObjectSummary(bucket_name='hotzone', key='fire_data/Global_fire_atlas_speedcrop.tif')\n",
      "s3.ObjectSummary(bucket_name='hotzone', key='fire_data/fireid.tif')\n"
     ]
    }
   ],
   "source": [
    "for f in fire_data:\n",
    "    print(f)"
   ]
  },
  {
   "cell_type": "code",
   "execution_count": 88,
   "metadata": {},
   "outputs": [],
   "source": [
    "body = None\n",
    "\n",
    "for obj in bucket.objects.all():\n",
    "    if obj.key == 'weather_data/weather2016data.pickle':\n",
    "        body = obj.get()['Body'].read()\n",
    "        \n",
    "data = pickle.loads(body)"
   ]
  },
  {
   "cell_type": "code",
   "execution_count": 92,
   "metadata": {},
   "outputs": [],
   "source": [
    "fireid = None\n",
    "dircrop = None\n",
    "dobcrop = None\n",
    "firelinecrop = None\n",
    "speedcrop = None\n",
    "\n",
    "for obj in bucket.objects.all():\n",
    "    if obj.key == 'fire_data/fireid.tif':\n",
    "        fireid = obj.get()['Body'].read()\n",
    "    elif obj.key == 'fire_data/Global_fire_atlas_dircrop.tif':\n",
    "        dircrop = obj.get()['Body'].read()\n",
    "    elif obj.key == 'fire_data/Global_fire_atlas_dobcrop.tif':\n",
    "        dobcrop = obj.get()['Body'].read()\n",
    "    elif obj.key == 'fire_data/Global_fire_atlas_firelinecrop.tif':\n",
    "        firelinecrop = obj.get()['Body'].read()\n",
    "    elif obj.key == 'fire_data/Global_fire_atlas_speedcrop.tif':\n",
    "        speedcrop = obj.get()['Body'].read()\n"
   ]
  },
  {
   "cell_type": "code",
   "execution_count": 93,
   "metadata": {},
   "outputs": [
    {
     "name": "stdout",
     "output_type": "stream",
     "text": [
      "<class 'bytes'>\n"
     ]
    }
   ],
   "source": []
  },
  {
   "cell_type": "code",
   "execution_count": null,
   "metadata": {},
   "outputs": [],
   "source": []
  },
  {
   "cell_type": "code",
   "execution_count": null,
   "metadata": {},
   "outputs": [],
   "source": []
  },
  {
   "cell_type": "code",
   "execution_count": null,
   "metadata": {},
   "outputs": [],
   "source": []
  },
  {
   "cell_type": "code",
   "execution_count": null,
   "metadata": {},
   "outputs": [],
   "source": []
  }
 ],
 "metadata": {
  "kernelspec": {
   "display_name": "Python 3",
   "language": "python",
   "name": "python3"
  },
  "language_info": {
   "codemirror_mode": {
    "name": "ipython",
    "version": 3
   },
   "file_extension": ".py",
   "mimetype": "text/x-python",
   "name": "python",
   "nbconvert_exporter": "python",
   "pygments_lexer": "ipython3",
   "version": "3.6.10"
  }
 },
 "nbformat": 4,
 "nbformat_minor": 2
}
