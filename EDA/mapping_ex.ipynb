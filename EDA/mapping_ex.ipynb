{
 "cells": [
  {
   "cell_type": "code",
   "execution_count": null,
   "metadata": {},
   "outputs": [],
   "source": [
    "# pip install gmplot"
   ]
  },
  {
   "cell_type": "code",
   "execution_count": 2,
   "metadata": {},
   "outputs": [],
   "source": [
    "import gmplot\n",
    "\n",
    "\n",
    "# gmap.plot(latitudes, longitudes, 'cornflowerblue', edge_width=10)\n",
    "# gmap.scatter(more_lats, more_lngs, '#3B0B39', size=40, marker=False)\n",
    "# gmap.scatter(marker_lats, marker_lngs, 'k', marker=True)\n",
    "# gmap.heatmap(heat_lats, heat_lngs)\n",
    "\n",
    "# gmap.draw(\"mymap.html\")\n",
    "\n",
    "# Latitude and Longitude\n",
    "lat_var, lon_var = 38.4404, -122.7141\n",
    "fire_lat, fire_lon = 38.438237, -122.709523\n",
    "\n",
    "# Place map\n",
    "gmap = gmplot.GoogleMapPlotter(lat_var, lon_var, 17)\n",
    "\n",
    "# Place marker\n",
    "gmap.marker(lat_var, lon_var, 'blue')\n",
    "\n",
    "gmap.marker(fire_lat, fire_lon, 'red')\n",
    "\n",
    "# Polygon\n",
    "highper_lat, highper_lon = zip(*[\n",
    "    (38.4416,-122.7148),\n",
    "    (38.4409,-122.716686),\n",
    "    (38.4391,-122.71753),\n",
    "    (38.4376,-122.71227),\n",
    "    (38.4391,-122.7067),\n",
    "    (38.44348,-122.707208),\n",
    "    (38.4416,-122.7148)\n",
    "])\n",
    "\n",
    "gmap.plot(highper_lat, highper_lon, 'red', edge_width=7)\n",
    "\n",
    "highper_lat1, highper_lon1 = zip(*[\n",
    "    (38.4446,-122.719749),\n",
    "    (38.443452,-122.719447),\n",
    "    (38.43655,-122.717042),\n",
    "#     (38.44042,-122.71785),\n",
    "    (38.4355,-122.713762),\n",
    "    (38.4365,-122.707972),\n",
    "    (38.4382,-122.703169),\n",
    "    (38.444365,-122.705275),\n",
    "    (38.445988,-122.7098),\n",
    "#     (38.444365,-122.705275),\n",
    "#     (38.449246,-122.709397),\n",
    "    (38.4446,-122.719749)\n",
    "])\n",
    "\n",
    "gmap.plot(highper_lat1, highper_lon1, 'lightblue', edge_width=5)\n",
    "\n",
    "# # Scatter points\n",
    "# top_attraction_lats, top_attraction_lons = zip(*[\n",
    "#     (37.769901, -122.498331),\n",
    "#     (37.768645, -122.475328),\n",
    "#     (37.771478, -122.468677),\n",
    "#     (37.769867, -122.466102),\n",
    "#     (37.767187, -122.467496),\n",
    "#     (37.770104, -122.470436)\n",
    "#     ])\n",
    "# gmap.scatter(top_attraction_lats, top_attraction_lons, '#3B0B39', size=40, marker=False)\n",
    "\n",
    "# gmap.scatter(highper_lat, highper_lon, '#3B0B39', size=40, marker=False)\n",
    "\n",
    "\n",
    "\n",
    "# Draw\n",
    "gmap.draw(\"../website/my_map.html\")"
   ]
  },
  {
   "cell_type": "code",
   "execution_count": null,
   "metadata": {},
   "outputs": [],
   "source": []
  }
 ],
 "metadata": {
  "kernelspec": {
   "display_name": "Python 3",
   "language": "python",
   "name": "python3"
  },
  "language_info": {
   "codemirror_mode": {
    "name": "ipython",
    "version": 3
   },
   "file_extension": ".py",
   "mimetype": "text/x-python",
   "name": "python",
   "nbconvert_exporter": "python",
   "pygments_lexer": "ipython3",
   "version": "3.7.6"
  }
 },
 "nbformat": 4,
 "nbformat_minor": 4
}
