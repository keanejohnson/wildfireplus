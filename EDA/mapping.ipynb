{
 "cells": [
  {
   "cell_type": "code",
   "execution_count": 1,
   "metadata": {},
   "outputs": [],
   "source": [
    "# importing libraries\n",
    "import gmplot\n",
    "import requests\n",
    "import json"
   ]
  },
  {
   "cell_type": "code",
   "execution_count": 2,
   "metadata": {},
   "outputs": [],
   "source": [
    "# read JSON on active fire\n",
    "url = 'https://www.fire.ca.gov/umbraco/api/IncidentApi/List?inactive=true'\n",
    "geo_data = requests.get(url).json()"
   ]
  },
  {
   "cell_type": "code",
   "execution_count": 3,
   "metadata": {},
   "outputs": [],
   "source": [
    "geo_list = []\n",
    "\n",
    "# Latitude and Longitude of UC Berkeley\n",
    "loc_lat, loc_lon = 37.8719, -122.2585\n",
    "\n",
    "# Place map with 13 zoom\n",
    "gmap = gmplot.GoogleMapPlotter(loc_lat, loc_lon, 13)\n",
    "\n",
    "# Plotting fire marker\n",
    "for i in range(0,len(geo_data)):\n",
    "    if geo_data[i]['IsActive'] == \"Y\":\n",
    "        fire_lat = geo_data[i]['Latitude']\n",
    "        fire_lon = geo_data[i]['Longitude']\n",
    "        gmap.marker(fire_lat, fire_lon, 'red')\n",
    "        \n",
    "# Draw map\n",
    "gmap.draw('UCB_map.html')"
   ]
  }
 ],
 "metadata": {
  "kernelspec": {
   "display_name": "Python 3",
   "language": "python",
   "name": "python3"
  },
  "language_info": {
   "codemirror_mode": {
    "name": "ipython",
    "version": 3
   },
   "file_extension": ".py",
   "mimetype": "text/x-python",
   "name": "python",
   "nbconvert_exporter": "python",
   "pygments_lexer": "ipython3",
   "version": "3.7.6"
  }
 },
 "nbformat": 4,
 "nbformat_minor": 4
}
