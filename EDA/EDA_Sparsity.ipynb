{
 "cells": [
  {
   "cell_type": "markdown",
   "metadata": {
    "Collapsed": "true"
   },
   "source": [
    "# Setup"
   ]
  },
  {
   "cell_type": "code",
   "execution_count": 1,
   "metadata": {
    "Collapsed": "false"
   },
   "outputs": [
    {
     "name": "stdout",
     "output_type": "stream",
     "text": [
      "# conda environments:\n",
      "#\n",
      "base                     C:\\DDRIVE\\ProgramFiles\\Anaconda3\n",
      "wildfire              *  C:\\DDRIVE\\ProgramFiles\\Anaconda3\\envs\\wildfire\n",
      "\n"
     ]
    }
   ],
   "source": [
    "!conda info --envs"
   ]
  },
  {
   "cell_type": "code",
   "execution_count": 2,
   "metadata": {
    "Collapsed": "false"
   },
   "outputs": [
    {
     "name": "stdout",
     "output_type": "stream",
     "text": [
      "Python Version = 3.7.6 | packaged by conda-forge | (default, Jan  7 2020, 21:48:41) [MSC v.1916 64 bit (AMD64)]\n",
      "Pandas Version = 1.0.1\n",
      "Geopandas Version = 0.7.0\n",
      "rasterio version = 3.0.4\n"
     ]
    }
   ],
   "source": [
    "import pandas as pd\n",
    "import matplotlib.pyplot as plt\n",
    "import sys\n",
    "import csv\n",
    "import numpy as np\n",
    "import os\n",
    "import sqlite3\n",
    "import copy\n",
    "from dbfread import DBF\n",
    "import geopandas as gpd\n",
    "import fiona\n",
    "import pprint\n",
    "import folium\n",
    "import descartes\n",
    "import rasterio as rio\n",
    "from rasterio.plot import plotting_extent\n",
    "from rasterio.warp import calculate_default_transform, reproject, Resampling\n",
    "from rasterio import features\n",
    "import rasterio.mask\n",
    "import earthpy as et\n",
    "import earthpy.spatial as es\n",
    "import earthpy.plot as ep\n",
    "import pickle\n",
    "from scipy import stats\n",
    "from rasterio.windows import Window\n",
    "from numpy import nan\n",
    "import seaborn as sns\n",
    "\n",
    "print(f\"Python Version = {sys.version}\")\n",
    "print(f\"Pandas Version = {pd.__version__}\")\n",
    "print(f\"Geopandas Version = {gpd.__version__}\")\n",
    "print(f\"rasterio version = {rio._base.gdal_version()}\")"
   ]
  },
  {
   "cell_type": "markdown",
   "metadata": {
    "Collapsed": "true",
    "heading_collapsed": true
   },
   "source": [
    "# Definitions"
   ]
  },
  {
   "cell_type": "markdown",
   "metadata": {
    "Collapsed": "false",
    "hidden": true
   },
   "source": [
    "1) Fine Fuel Moisture Code\n",
    "The Fine Fuel Moisture Code (FFMC) is a numeric rating of the moisture content of litter and other cured fine fuels. This code is an indicator of the relative ease of ignition and the flammability of fine fuel.\n",
    "\n",
    "2) Duff Moisture Code\n",
    "The Duff Moisture Code (DMC) is a numeric rating of the average moisture content of loosely compacted organic layers of moderate depth. This code gives an indication of fuel consumption in moderate duff layers and medium-size woody material.\n",
    "\n",
    "3) Drought Code\n",
    "The Drought Code (DC) is a numeric rating of the average moisture content of deep, compact organic layers. This code is a useful indicator of seasonal drought effects on forest fuels and the amount of smoldering in deep duff layers and large logs.\n",
    "\n",
    "4)  Initial Spread Index\n",
    "The Initial Spread Index (ISI) is a numeric rating of the expected rate of fire spread. It combines the effects of wind and the FFMC on rate of spread without the influence of variable quantities of fuel.\n",
    "\n",
    "https://cwfis.cfs.nrcan.gc.ca/background/summary/fwi\n",
    "\n",
    "5) Temp\n",
    "Temperature in Celsius degrees\n",
    "\n",
    "6) RH\n",
    "Relative humidity in %\n",
    "\n",
    "7) Wind\n",
    "Wind speed in km/h\n",
    "\n",
    "8) Rain\n",
    "Outside rain in mm/m2\n",
    "\n",
    "9) Area\n",
    "The burned area of the forest (in ha), ha = hectare = 2.47 acres\n",
    "\n",
    "10) X\n",
    "x-axis spatial coordinate within the Montesinho park map: 1 to 9 2\n",
    "\n",
    "11) Y\n",
    "y-axis spatial coordinate within the Montesinho park map: 2 to 9 3"
   ]
  },
  {
   "cell_type": "markdown",
   "metadata": {
    "Collapsed": "false",
    "hidden": true
   },
   "source": [
    "Literature:\n",
    "\n",
    "https://news.uci.edu/2019/09/17/uci-team-uses-machine-learning-to-help-tell-which-wildfires-will-burn-out-of-control/\n",
    "\n",
    "In the original paper (Portugal - Montesinho fires), the best result (predicting burned area) was only using the 4 weather conditions: RH/Wind/Rain/Temp, and an SVM.\n",
    "\n",
    "This: https://datasetsearch.research.google.com/search?query=wildfire%20area&docid=fchFFzqh0O3qjX3PAAAAAA%3D%3D has georeferenced and date/time referenced with areas. Could combine with weather data for those dates/times."
   ]
  },
  {
   "cell_type": "markdown",
   "metadata": {
    "Collapsed": "true"
   },
   "source": [
    "# Query shape of datasets, type, feature names and how they work together"
   ]
  },
  {
   "cell_type": "code",
   "execution_count": 3,
   "metadata": {
    "Collapsed": "false"
   },
   "outputs": [],
   "source": [
    "# os.getcwd()"
   ]
  },
  {
   "cell_type": "markdown",
   "metadata": {
    "Collapsed": "false"
   },
   "source": [
    "## Fire Data  \n",
    "\n",
    "In the 'Laura EDA-Geo_Env.ipynb' you can see all the global data. Here we  have only pulled the 2016 California data to do further EDA."
   ]
  },
  {
   "cell_type": "markdown",
   "metadata": {
    "Collapsed": "true",
    "heading_collapsed": true
   },
   "source": [
    "### PRJ file - CRS Descriptions"
   ]
  },
  {
   "cell_type": "code",
   "execution_count": 4,
   "metadata": {
    "Collapsed": "false",
    "hidden": true
   },
   "outputs": [
    {
     "name": "stdout",
     "output_type": "stream",
     "text": [
      "Ignitions Prj file contents = GEOGCS[\"WGS 84\",DATUM[\"WGS_1984\",SPHEROID[\"WGS 84\",6378137,298.257223563]],PRIMEM[\"Greenwich\",0],UNIT[\"degree\",0.0174532925199433]]\n",
      "Perimeter Prj file contents = GEOGCS[\"WGS 84\",DATUM[\"WGS_1984\",SPHEROID[\"WGS 84\",6378137,298.257223563]],PRIMEM[\"Greenwich\",0],UNIT[\"degree\",0.0174532925199433]]\n"
     ]
    }
   ],
   "source": [
    "with open('../data/GlobalFire2016/Global_fire_atlas_V1_ignitions_2016/Global_fire_atlas_V1_ignitions_2016.prj') as f1:\n",
    "    print(f\"Ignitions Prj file contents = {f1.read()}\")\n",
    "    \n",
    "with open('../data/GlobalFire2016/Global_fire_atlas_V1_perimeter_2016/Global_fire_atlas_V1_perimeter_2016.prj','r') as f2:\n",
    "    print(f\"Perimeter Prj file contents = {f2.read()}\")    "
   ]
  },
  {
   "cell_type": "markdown",
   "metadata": {
    "Collapsed": "false",
    "hidden": true
   },
   "source": [
    "The above mean:\n",
    "- GEOGCS: Geographic coordinate reference system (vs. a projected coordinate system)\n",
    "- WGS 84 : the name of the geographic coordinate reference system\n",
    "- WGS_1984: The name of the DATUM\n",
    "- SPHEROID: Used for the reference system with the semi major axis = 6378137 m and inverse-flattening ratio of 298.257223563\n",
    "- PRIMEM: Greenwich is prime meridian where longitude is set as 0\n",
    "- UNIT: measurement units of coordinate system, in degrees, where 0.01745.. is the conversion from radians to the units here(degrees)"
   ]
  },
  {
   "cell_type": "markdown",
   "metadata": {
    "Collapsed": "false"
   },
   "source": [
    "### California - GEOTiffs and GPD Dataframes"
   ]
  },
  {
   "cell_type": "markdown",
   "metadata": {
    "Collapsed": "true",
    "heading_collapsed": true
   },
   "source": [
    "Reimport and engineer the features appropriately\n",
    "\n",
    "First, don't combine the shp files (as in 2.4.2.3). Instead, create 3 dataframes:  \n",
    "1) fire ID and all the features (except geometry)  \n",
    "2) fire ID and POLYGON  \n",
    "3) fire ID and POINT (ignition)  "
   ]
  },
  {
   "cell_type": "code",
   "execution_count": 5,
   "metadata": {
    "Collapsed": "false",
    "hidden": true
   },
   "outputs": [],
   "source": [
    "# %%time\n",
    "# ign_gdf = gpd.read_file('../data/GlobalFire2016/Global_fire_atlas_V1_ignitions_2016/Global_fire_atlas_V1_ignitions_2016.shp')\n",
    "# poly_gdf = gpd.read_file('../data/GlobalFire2016/Global_fire_atlas_V1_perimeter_2016/Global_fire_atlas_V1_perimeter_2016.shp')"
   ]
  },
  {
   "cell_type": "code",
   "execution_count": 6,
   "metadata": {
    "Collapsed": "false",
    "hidden": true
   },
   "outputs": [],
   "source": [
    "# # Global Fire Atlas GEOTiff projection Coordinate Reference System (from website)\n",
    "# gfacrs = \"+proj=sinu +lon_0=0 +x_0=0 +y_0=0 +a=6371007.181 +b=6371007.181 +units=m +no_defs\" "
   ]
  },
  {
   "cell_type": "markdown",
   "metadata": {
    "Collapsed": "false",
    "heading_collapsed": true
   },
   "source": [
    "#### CA State Boundaries"
   ]
  },
  {
   "cell_type": "markdown",
   "metadata": {
    "Collapsed": "false",
    "hidden": true
   },
   "source": [
    "From https://data.ca.gov/dataset/ca-geographic-boundaries/resource/3db1e426-fb51-44f5-82d5-a54d7c6e188b"
   ]
  },
  {
   "cell_type": "code",
   "execution_count": 7,
   "metadata": {
    "Collapsed": "false",
    "hidden": true
   },
   "outputs": [],
   "source": [
    "# %%time\n",
    "# CA_gdf = gpd.read_file('../data/ca-state-boundary/CA_state_TIGER2016.shp')"
   ]
  },
  {
   "cell_type": "code",
   "execution_count": 8,
   "metadata": {
    "Collapsed": "false",
    "hidden": true
   },
   "outputs": [],
   "source": [
    "# CA_gdf"
   ]
  },
  {
   "cell_type": "code",
   "execution_count": 9,
   "metadata": {
    "Collapsed": "false",
    "hidden": true
   },
   "outputs": [],
   "source": [
    "# CA_gdf.plot()"
   ]
  },
  {
   "cell_type": "markdown",
   "metadata": {
    "Collapsed": "false",
    "heading_collapsed": true
   },
   "source": [
    "#### Crop rasters to California"
   ]
  },
  {
   "cell_type": "markdown",
   "metadata": {
    "Collapsed": "false",
    "hidden": true
   },
   "source": [
    "From Earth  data science: https://www.earthdatascience.org/courses/use-data-open-source-python/intro-raster-data-python/raster-data-processing/crop-raster-data-with-shapefile-in-python/"
   ]
  },
  {
   "cell_type": "code",
   "execution_count": 10,
   "metadata": {
    "Collapsed": "false",
    "hidden": true
   },
   "outputs": [],
   "source": [
    "# # Raster Data opened by rio is diryr\n",
    "# print(diryr.bounds)"
   ]
  },
  {
   "cell_type": "code",
   "execution_count": 11,
   "metadata": {
    "Collapsed": "false",
    "hidden": true
   },
   "outputs": [],
   "source": [
    "# # Crop extent: CA_gdf\n",
    "# print('crop extent crs = \\n', CA_gdf.crs)\n",
    "# print('tiff crs = \\n', diryr.crs)"
   ]
  },
  {
   "cell_type": "code",
   "execution_count": 12,
   "metadata": {
    "Collapsed": "false",
    "hidden": true
   },
   "outputs": [],
   "source": [
    "# # Set destination CRS\n",
    "# dst_crs = CA_gdf.crs"
   ]
  },
  {
   "cell_type": "code",
   "execution_count": 13,
   "metadata": {
    "Collapsed": "false",
    "hidden": true
   },
   "outputs": [],
   "source": [
    "# %%time\n",
    "# # Calculate the transform using the rasterio warp function\n",
    "# transform,width,height = calculate_default_transform(diryr.crs,dst_crs,diryr.width,diryr.height,*diryr.bounds)"
   ]
  },
  {
   "cell_type": "code",
   "execution_count": 14,
   "metadata": {
    "Collapsed": "false",
    "hidden": true
   },
   "outputs": [],
   "source": [
    "# %%time\n",
    "# # Set the new meta data for the projected raster file\n",
    "# kwargs = diryr.meta.copy()\n",
    "# kwargs.update({'crs':dst_crs,\n",
    "#               'transform':transform,\n",
    "#               'width':width,\n",
    "#               'height':height\n",
    "#               })"
   ]
  },
  {
   "cell_type": "code",
   "execution_count": 15,
   "metadata": {
    "Collapsed": "false",
    "hidden": true
   },
   "outputs": [],
   "source": [
    "# %%time\n",
    "# # write the new raster file by using the rasterio reproject function\n",
    "# with rio.open('../data/GlobalFire2016/Global_fire_atlas_direction_yearly_2016_reproj.tif','w',**kwargs) as dst:\n",
    "#     for i in range(1, diryr.count + 1):\n",
    "#         reproject(\n",
    "#             source = rio.band(diryr,i),\n",
    "#             destination=rio.band(dst,i),\n",
    "#             diryr_transform = diryr.transform,\n",
    "#             diryr_crs = diryr.crs,\n",
    "#             dst_transform = transform,\n",
    "#             dst_crs = dst_crs,\n",
    "#             resampling=Resampling.nearest)"
   ]
  },
  {
   "cell_type": "code",
   "execution_count": 16,
   "metadata": {
    "Collapsed": "false",
    "hidden": true,
    "scrolled": true
   },
   "outputs": [],
   "source": [
    "# %%time\n",
    "# # Open the new reprojected geotiff\n",
    "# diryr_reproj = rio.open('../data/GlobalFire2016/Global_fire_atlas_direction_yearly_2016_reproj.tif')\n",
    "# print(diryr_reproj.meta)"
   ]
  },
  {
   "cell_type": "code",
   "execution_count": 17,
   "metadata": {
    "Collapsed": "false",
    "hidden": true
   },
   "outputs": [],
   "source": [
    "# %%time\n",
    "# # Crop extent: CA_gdf - crop to the boundaries of California, which should work now that both raster \n",
    "# # and shapefile are on the same CRS\n",
    "# print('crop extent crs = \\n', CA_gdf.crs)\n",
    "# print('tiff crs = \\n', diryr_reproj.crs)"
   ]
  },
  {
   "cell_type": "code",
   "execution_count": 18,
   "metadata": {
    "Collapsed": "false",
    "hidden": true
   },
   "outputs": [],
   "source": [
    "# %%time\n",
    "# # Use the earthpy.spatial function to crop the tif by the shapefile\n",
    "# diryr_reproj_crop, diryr_reproj_crop_meta = es.crop_image(diryr_reproj,CA_gdf)"
   ]
  },
  {
   "cell_type": "code",
   "execution_count": 19,
   "metadata": {
    "Collapsed": "false",
    "hidden": true
   },
   "outputs": [],
   "source": [
    "# print(\"cropped data\", diryr_reproj_crop.shape)\n",
    "# print(\"original data\", diryr.shape)"
   ]
  },
  {
   "cell_type": "code",
   "execution_count": 20,
   "metadata": {
    "Collapsed": "false",
    "hidden": true
   },
   "outputs": [],
   "source": [
    "# # Use the affine transformation for the CRS to define the extents\n",
    "# diryr_reproj_crop_affine = diryr_reproj_crop_meta[\"transform\"]\n",
    "# diryr_reproj_extent = plotting_extent(diryr_reproj_crop[0],diryr_reproj_crop_affine)"
   ]
  },
  {
   "cell_type": "code",
   "execution_count": 21,
   "metadata": {
    "Collapsed": "false",
    "hidden": true
   },
   "outputs": [],
   "source": [
    "# diryr_reproj_crop_meta"
   ]
  },
  {
   "cell_type": "code",
   "execution_count": 22,
   "metadata": {
    "Collapsed": "false",
    "hidden": true
   },
   "outputs": [],
   "source": [
    "# fig,ax = plt.subplots(figsize=(10,16))\n",
    "# ep.plot_bands(diryr_reproj_crop,\n",
    "#               extent = diryr_reproj_extent,\n",
    "#               cmap='Greys',\n",
    "#               title = 'Direction',\n",
    "#               scale=False,\n",
    "#               ax=ax,\n",
    "#               cbar=False)\n",
    "\n",
    "# CA_gdf.plot(ax=ax,alpha=0.2)\n",
    "# ax.set_axis_off()\n",
    "# plt.show()"
   ]
  },
  {
   "cell_type": "code",
   "execution_count": 23,
   "metadata": {
    "Collapsed": "false",
    "hidden": true
   },
   "outputs": [],
   "source": [
    "# vals = diryr_reproj_crop[0][diryr_reproj_crop[0]>0]\n",
    "# vals"
   ]
  },
  {
   "cell_type": "code",
   "execution_count": 24,
   "metadata": {
    "Collapsed": "false",
    "hidden": true
   },
   "outputs": [],
   "source": [
    "# print(type(vals),vals.shape)\n",
    "# stats.describe(vals)"
   ]
  },
  {
   "cell_type": "markdown",
   "metadata": {
    "Collapsed": "false",
    "heading_collapsed": true
   },
   "source": [
    "##### Transform Ignition and polygons of final fire sizes to CA CRS"
   ]
  },
  {
   "cell_type": "code",
   "execution_count": 25,
   "metadata": {
    "Collapsed": "false",
    "hidden": true
   },
   "outputs": [],
   "source": [
    "# # transform CRS\n",
    "# ign2 = ign_gdf.to_crs(dst_crs)\n",
    "# poly2 = poly_gdf.to_crs(dst_crs)"
   ]
  },
  {
   "cell_type": "code",
   "execution_count": 26,
   "metadata": {
    "Collapsed": "false",
    "hidden": true
   },
   "outputs": [],
   "source": [
    "# # set area to crop to\n",
    "# bb = CA_gdf.envelope"
   ]
  },
  {
   "cell_type": "code",
   "execution_count": 27,
   "metadata": {
    "Collapsed": "false",
    "hidden": true
   },
   "outputs": [],
   "source": [
    "# # Crop polygons of final fire sizes using geopandas overlay\n",
    "# df2 = gpd.GeoDataFrame(gpd.GeoSeries(bb),columns=['geometry'])\n",
    "# poly2crop = gpd.overlay(df2,poly2,how='intersection')"
   ]
  },
  {
   "cell_type": "code",
   "execution_count": 28,
   "metadata": {
    "Collapsed": "false",
    "hidden": true
   },
   "outputs": [],
   "source": [
    "# # Use dataframe slicing for the ignition point data.\n",
    "# xmin,ymin,xmax,ymax=CA_gdf.total_bounds\n",
    "# ign2crop = ign2.cx[xmin:xmax,ymin:ymax]"
   ]
  },
  {
   "cell_type": "code",
   "execution_count": 29,
   "metadata": {
    "Collapsed": "false",
    "hidden": true
   },
   "outputs": [],
   "source": [
    "# fig,ax = plt.subplots(figsize=(10,16))\n",
    "# ep.plot_bands(diryr_reproj_crop,\n",
    "#               extent = diryr_reproj_extent,\n",
    "#               cmap='Greys',\n",
    "#               title = 'Direction',\n",
    "#               scale=False,\n",
    "#               ax=ax,\n",
    "#               cbar=False)\n",
    "\n",
    "# CA_gdf.plot(ax=ax, alpha=0.2)\n",
    "# ign2crop.plot(ax=ax,marker='x',color='green',markersize=12)\n",
    "# poly2crop.plot(ax=ax,alpha=0.4)\n",
    "# ax.set_axis_off()\n",
    "# plt.show()"
   ]
  },
  {
   "cell_type": "markdown",
   "metadata": {
    "Collapsed": "false"
   },
   "source": [
    "#### Create new bounding box for smaller section of CA and convert CRS\n",
    "Repeat above process for cropping"
   ]
  },
  {
   "cell_type": "code",
   "execution_count": 30,
   "metadata": {
    "Collapsed": "false"
   },
   "outputs": [],
   "source": [
    "# # Set source CRS - this is the google maps CRS\n",
    "# bb_gdf_orig.crs = {'init':'epsg:4326'}\n",
    "# print(bb_gdf_orig.crs)"
   ]
  },
  {
   "cell_type": "code",
   "execution_count": 31,
   "metadata": {
    "Collapsed": "false"
   },
   "outputs": [],
   "source": [
    "# # Create bounding box polygon from lat long pulled from Gmaps\n",
    "# from shapely.geometry import Polygon\n",
    "# bb_long = [-122, -119.912,-119.912,-122,-122 ]\n",
    "# bb_lat = [36.8, 36.8, 35.06, 35.06,36.8]\n",
    "# bb_poly = Polygon(zip(bb_long,bb_lat))\n",
    "# bb_gdf2 = gpd.GeoDataFrame(index=[0],crs=bb_gdf_orig.crs,geometry = [bb_poly])\n",
    "# print(bb_gdf2.geometry)"
   ]
  },
  {
   "cell_type": "code",
   "execution_count": 32,
   "metadata": {
    "Collapsed": "false"
   },
   "outputs": [],
   "source": [
    "# # Change CRS of polygon to match other work here\n",
    "# bb_gdf2 = bb_gdf2.to_crs(epsg=3857)\n",
    "# bb_gdf2"
   ]
  },
  {
   "cell_type": "code",
   "execution_count": 33,
   "metadata": {
    "Collapsed": "false"
   },
   "outputs": [],
   "source": [
    "# # Plotting\n",
    "# fig,ax = plt.subplots(figsize=(10,16))\n",
    "# ep.plot_bands(diryr_reproj_crop,\n",
    "#               extent = diryr_reproj_extent,\n",
    "#               cmap='Greys',\n",
    "#               title = 'Direction',\n",
    "#               scale=False,\n",
    "#               ax=ax,\n",
    "#               cbar=False)\n",
    "\n",
    "# CA_gdf.plot(ax=ax, alpha=0.2)\n",
    "# ign2crop.plot(ax=ax,marker='x',color='green',markersize=12)\n",
    "# poly2crop.plot(ax=ax,alpha=0.4)\n",
    "# bb_gdf2.plot(ax=ax,color='green',alpha=0.2)\n",
    "# ax.set_axis_off()\n",
    "# plt.show()"
   ]
  },
  {
   "cell_type": "markdown",
   "metadata": {
    "Collapsed": "false",
    "heading_collapsed": true
   },
   "source": [
    "#### Convert CRS for remaining raster files"
   ]
  },
  {
   "cell_type": "code",
   "execution_count": 34,
   "metadata": {
    "Collapsed": "false",
    "hidden": true
   },
   "outputs": [],
   "source": [
    "# # Raster Data opened by rio \n",
    "# #speedyr = rio.open('../data/GlobalFire2016/Global_fire_atlas_speed_yearly_2016.tif')\n",
    "# #dobyr = rio.open('../data/GlobalFire2016/Global_fire_atlas_day_of_burn_yearly_2016.tif')\n",
    "# #firelineyr = rio.open('../data/GlobalFire2016/Global_fire_atlas_fire_line_yearly_2016.tif')\n",
    "# print('speedyr bounds =',speedyr.bounds)\n",
    "# print('dobyr bounds =',dobyr.bounds)\n",
    "# print('firelineyr bounds =',firelineyr.bounds)"
   ]
  },
  {
   "cell_type": "code",
   "execution_count": 35,
   "metadata": {
    "Collapsed": "false",
    "hidden": true
   },
   "outputs": [],
   "source": [
    "# # Set destination CRS\n",
    "# dst_crs = bb_gdf2.crs"
   ]
  },
  {
   "cell_type": "code",
   "execution_count": 36,
   "metadata": {
    "Collapsed": "false",
    "hidden": true
   },
   "outputs": [],
   "source": [
    "# tifs = [(speedyr,'speed'),(dobyr,'dob'),(firelineyr,'fireline')]"
   ]
  },
  {
   "cell_type": "code",
   "execution_count": 37,
   "metadata": {
    "Collapsed": "false",
    "hidden": true
   },
   "outputs": [],
   "source": [
    "# Commented out this whole box because files have been saved already NEXT TIME - ADD COMPRESSION - \n",
    "# FILES WERE HUGE (see commented line below) OR reproject to new array, then write out with compression\n",
    "# %%time\n",
    "# for tif in tifs:\n",
    "#     file,name = tif\n",
    "    \n",
    "#     # Calculate the transform using the rasterio warp function\n",
    "#     transform,width,height = calculate_default_transform(file.crs,dst_crs,file.width,file.height,*file.bounds)\n",
    "    \n",
    "#     # Set the new meta data for the projected raster file\n",
    "#     kwargs = file.meta.copy()\n",
    "#     kwargs.update({'crs':dst_crs,\n",
    "#                   'transform':transform,\n",
    "#                   'width':width,\n",
    "#                   'height':height\n",
    "#                   #compress:'lzw'\n",
    "#                   })\n",
    "    \n",
    "#     # Filename for writing out to\n",
    "#     filestring = '../data/GlobalFire2016/Global_fire_atlas_' + name + '_yearly_2016_reproj.tif'\n",
    "    \n",
    "#     # write the new raster file by using the rasterio reproject function\n",
    "#     with rio.open(filestring,'w',**kwargs) as dst:\n",
    "#         for i in range(1, file.count + 1):\n",
    "#             reproject(\n",
    "#                 source = rio.band(file,i),\n",
    "#                 destination=rio.band(dst,i),\n",
    "#                 file_transform = file.transform,\n",
    "#                 file_crs = file.crs,\n",
    "#                 dst_transform = transform,\n",
    "#                 dst_crs = dst_crs,\n",
    "#                 resampling=Resampling.nearest)  "
   ]
  },
  {
   "cell_type": "code",
   "execution_count": 38,
   "metadata": {
    "Collapsed": "false",
    "hidden": true
   },
   "outputs": [],
   "source": [
    "# # Close all the previous readers\n",
    "# diryr.close()\n",
    "# dobyr.close()\n",
    "# firelineyr.close()\n",
    "# speedyr.close()"
   ]
  },
  {
   "cell_type": "markdown",
   "metadata": {
    "Collapsed": "false"
   },
   "source": [
    "#### Crop to smaller bounding box - Toy Set"
   ]
  },
  {
   "cell_type": "code",
   "execution_count": 39,
   "metadata": {
    "Collapsed": "false"
   },
   "outputs": [],
   "source": [
    "# # Check CRSs all match\n",
    "# print('ignition CRS', ign2.crs)\n",
    "# print('final polygon CRS', poly2.crs)\n",
    "# print('bounding box CRS', bb_gdf2.crs)"
   ]
  },
  {
   "cell_type": "markdown",
   "metadata": {
    "Collapsed": "false"
   },
   "source": [
    "##### First the ignition points to get fire numbers and then final fire sizes and dbf data"
   ]
  },
  {
   "cell_type": "code",
   "execution_count": 40,
   "metadata": {
    "Collapsed": "false"
   },
   "outputs": [],
   "source": [
    "# print('bounding box extents', bb_gdf2.total_bounds)"
   ]
  },
  {
   "cell_type": "code",
   "execution_count": 41,
   "metadata": {
    "Collapsed": "false"
   },
   "outputs": [],
   "source": [
    "# # Crop Ignition Data\n",
    "# xmin2,ymin2,xmax2,ymax2=bb_gdf2.total_bounds\n",
    "# ign2crop2 = ign2.cx[xmin2:xmax2,ymin2:ymax2]"
   ]
  },
  {
   "cell_type": "code",
   "execution_count": 42,
   "metadata": {
    "Collapsed": "false"
   },
   "outputs": [],
   "source": [
    "# print(ign2crop2.shape, ign2.shape)"
   ]
  },
  {
   "cell_type": "code",
   "execution_count": 43,
   "metadata": {
    "Collapsed": "false"
   },
   "outputs": [],
   "source": [
    "# fires = ign2crop2['fire_ID'].values"
   ]
  },
  {
   "cell_type": "code",
   "execution_count": 44,
   "metadata": {
    "Collapsed": "false"
   },
   "outputs": [],
   "source": [
    "# poly2crop2 = poly2.loc[poly2['fire_ID'].isin(fires)]"
   ]
  },
  {
   "cell_type": "code",
   "execution_count": 45,
   "metadata": {
    "Collapsed": "false"
   },
   "outputs": [],
   "source": [
    "# print(poly2crop2.shape, poly2.shape)"
   ]
  },
  {
   "cell_type": "code",
   "execution_count": 46,
   "metadata": {
    "Collapsed": "false"
   },
   "outputs": [],
   "source": [
    "# featurescrop2 = features1.loc[features1['fire_ID'].isin(fires)]"
   ]
  },
  {
   "cell_type": "code",
   "execution_count": 47,
   "metadata": {
    "Collapsed": "false"
   },
   "outputs": [],
   "source": [
    "# featurescrop2.head()"
   ]
  },
  {
   "cell_type": "code",
   "execution_count": 48,
   "metadata": {
    "Collapsed": "false"
   },
   "outputs": [],
   "source": [
    "# ign2crop2.head()"
   ]
  },
  {
   "cell_type": "code",
   "execution_count": 49,
   "metadata": {
    "Collapsed": "false"
   },
   "outputs": [],
   "source": [
    "# %%time\n",
    "# #pickle out the ignition points and dbf\n",
    "# with open('../data/GlobalFire2016/Global_fire_atlas_ignitioncrop.pickle','wb') as f:\n",
    "#     pickle.dump(ign2crop2,f,pickle.HIGHEST_PROTOCOL)\n",
    "# with open('../data/GlobalFire2016/Global_fire_atlas_datacrop.pickle','wb') as f:\n",
    "#     pickle.dump(featurescrop2,f,pickle.HIGHEST_PROTOCOL)"
   ]
  },
  {
   "cell_type": "markdown",
   "metadata": {
    "Collapsed": "false",
    "heading_collapsed": true
   },
   "source": [
    "##### Crop the rasters"
   ]
  },
  {
   "cell_type": "code",
   "execution_count": 50,
   "metadata": {
    "Collapsed": "false",
    "hidden": true,
    "scrolled": true
   },
   "outputs": [],
   "source": [
    "# # Open the new reprojected geotiffs\n",
    "# diryr_reproj = rio.open('../data/GlobalFire2016/Global_fire_atlas_direction_yearly_2016_reproj.tif')\n",
    "# speedyr_reproj = rio.open('../data/GlobalFire2016/Global_fire_atlas_speed_yearly_2016_reproj.tif')\n",
    "# dobyr_reproj = rio.open('../data/GlobalFire2016/Global_fire_atlas_dob_yearly_2016_reproj.tif')\n",
    "# firelineyr_reproj = rio.open('../data/GlobalFire2016/Global_fire_atlas_fireline_yearly_2016_reproj.tif')"
   ]
  },
  {
   "cell_type": "code",
   "execution_count": 51,
   "metadata": {
    "Collapsed": "false",
    "hidden": true
   },
   "outputs": [],
   "source": [
    "# # Crop extent: bb_gdf2 - crop to the small box, which should work now that both raster \n",
    "# # and shapefile are on the same CRS\n",
    "# print('crop extent crs = ', bb_gdf2.crs)\n",
    "# print('direction tiff crs = ', diryr_reproj.crs)\n",
    "# print('speed tiff crs = ', speedyr_reproj.crs)\n",
    "# print('day of burn tiff crs = ', dobyr_reproj.crs)\n",
    "# print('fireline tiff crs = ', firelineyr_reproj.crs)"
   ]
  },
  {
   "cell_type": "code",
   "execution_count": 52,
   "metadata": {
    "Collapsed": "false",
    "hidden": true
   },
   "outputs": [],
   "source": [
    "# def crop_tif(tif_reproj,boundingbox):\n",
    "#     \"\"\"function to crop the reprojected tiffs by the bounding box (shapefile)\"\"\"\n",
    "    \n",
    "#     tif_reproj_crop,tif_reproj_crop_meta = es.crop_image(tif_reproj,boundingbox)\n",
    "#     print(\"cropped data\", tif_reproj_crop.shape)\n",
    "#     print(\"original data\", tif_reproj.shape)\n",
    "#     print(\"meta\", tif_reproj_crop_meta)\n",
    "       \n",
    "#     return(tif_reproj_crop, tif_reproj_crop_meta)"
   ]
  },
  {
   "cell_type": "code",
   "execution_count": 53,
   "metadata": {
    "Collapsed": "false",
    "hidden": true
   },
   "outputs": [],
   "source": [
    "# %%time\n",
    "# diryr_reproj_crop,diryr_reproj_crop_meta = crop_tif(diryr_reproj,bb_gdf2)\n",
    "# speedyr_reproj_crop,speedyr_reproj_crop_meta = crop_tif(speedyr_reproj,bb_gdf2)\n",
    "# dobyr_reproj_crop,dobyr_reproj_crop_meta = crop_tif(dobyr_reproj,bb_gdf2)\n",
    "# firelineyr_reproj_crop,firelineyr_reproj_crop_meta = crop_tif(firelineyr_reproj,bb_gdf2)"
   ]
  },
  {
   "cell_type": "code",
   "execution_count": 54,
   "metadata": {
    "Collapsed": "false",
    "hidden": true
   },
   "outputs": [],
   "source": [
    "# vals = firelineyr_reproj_crop[0][firelineyr_reproj_crop[0]>0]\n",
    "# vals"
   ]
  },
  {
   "cell_type": "code",
   "execution_count": 55,
   "metadata": {
    "Collapsed": "false",
    "hidden": true
   },
   "outputs": [],
   "source": [
    "# diryr_reproj.close()\n",
    "# speedyr_reproj.close()\n",
    "# dobyr_reproj.close()\n",
    "# firelineyr_reproj.close()"
   ]
  },
  {
   "cell_type": "code",
   "execution_count": 56,
   "metadata": {
    "Collapsed": "false",
    "hidden": true
   },
   "outputs": [],
   "source": [
    "# # Write these out to smaller tiffs\n",
    "# with rio.open('../data/GlobalFire2016/Global_fire_atlas_dircrop.tif','w',**diryr_reproj_crop_meta) as dst:\n",
    "#     dst.write(diryr_reproj_crop)\n",
    "# with rio.open('../data/GlobalFire2016/Global_fire_atlas_speedcrop.tif','w',**speedyr_reproj_crop_meta) as dst:\n",
    "#     dst.write(speedyr_reproj_crop)\n",
    "# with rio.open('../data/GlobalFire2016/Global_fire_atlas_dobcrop.tif','w',**dobyr_reproj_crop_meta) as dst:\n",
    "#     dst.write(dobyr_reproj_crop)\n",
    "# with rio.open('../data/GlobalFire2016/Global_fire_atlas_firelinecrop.tif','w',**firelineyr_reproj_crop_meta) as dst:\n",
    "#     dst.write(firelineyr_reproj_crop)"
   ]
  },
  {
   "cell_type": "markdown",
   "metadata": {
    "Collapsed": "false"
   },
   "source": [
    "#### Create a new tiff with fire_ID as the value\n",
    "Determine if a raster pixel is in a fire polygon and create a new tiff with fire_ID as the value"
   ]
  },
  {
   "cell_type": "code",
   "execution_count": 57,
   "metadata": {
    "Collapsed": "false"
   },
   "outputs": [],
   "source": [
    "# # From https://gis.stackexchange.com/questions/151339/rasterize-a-shapefile-with-geopandas-or-fiona-python\n",
    "# polys = poly2crop2\n",
    "# rst_fn = '../data/GlobalFire2016/template.tif'\n",
    "# out_fn = '../data/GlobalFire2016/fireid.tif'"
   ]
  },
  {
   "cell_type": "code",
   "execution_count": 58,
   "metadata": {
    "Collapsed": "false"
   },
   "outputs": [],
   "source": [
    "# rst = rio.open(rst_fn)\n",
    "# metaout = rst.meta.copy()\n",
    "# metaout.update(compress='lzw')"
   ]
  },
  {
   "cell_type": "code",
   "execution_count": 59,
   "metadata": {
    "Collapsed": "false"
   },
   "outputs": [],
   "source": [
    "# with rio.open(out_fn, 'w+',**metaout) as out:\n",
    "#     out_arr = out.read(1)\n",
    "    \n",
    "#     shapes = ((geom,value) for geom,value in zip(polys.geometry,polys.fire_ID))\n",
    "    \n",
    "#     burned = features.rasterize(shapes=shapes, fill=0, out=out_arr, transform=out.transform)\n",
    "#     out.write_band(1,burned)"
   ]
  },
  {
   "cell_type": "code",
   "execution_count": 60,
   "metadata": {
    "Collapsed": "false"
   },
   "outputs": [],
   "source": [
    "# fireid = rio.open('../data/GlobalFire2016/fireid.tif')\n",
    "# print(fireid.meta)"
   ]
  },
  {
   "cell_type": "code",
   "execution_count": 61,
   "metadata": {
    "Collapsed": "false"
   },
   "outputs": [],
   "source": [
    "# fireid_array = fireid.read()"
   ]
  },
  {
   "cell_type": "code",
   "execution_count": 62,
   "metadata": {
    "Collapsed": "false"
   },
   "outputs": [],
   "source": [
    "# fireid_array.shape"
   ]
  },
  {
   "cell_type": "code",
   "execution_count": 63,
   "metadata": {
    "Collapsed": "false"
   },
   "outputs": [],
   "source": [
    "# print(fireid_array)"
   ]
  },
  {
   "cell_type": "code",
   "execution_count": 64,
   "metadata": {
    "Collapsed": "false"
   },
   "outputs": [],
   "source": [
    "# vals = fireid_array[0][fireid_array[0]>0]\n",
    "# vals"
   ]
  },
  {
   "cell_type": "code",
   "execution_count": 65,
   "metadata": {
    "Collapsed": "false"
   },
   "outputs": [],
   "source": [
    "# len(vals)"
   ]
  },
  {
   "cell_type": "code",
   "execution_count": null,
   "metadata": {
    "Collapsed": "false"
   },
   "outputs": [],
   "source": []
  },
  {
   "cell_type": "markdown",
   "metadata": {
    "Collapsed": "false",
    "heading_collapsed": true
   },
   "source": [
    "#### Yearly TIFFs"
   ]
  },
  {
   "cell_type": "code",
   "execution_count": 66,
   "metadata": {
    "Collapsed": "false",
    "hidden": true
   },
   "outputs": [],
   "source": [
    "# from rasterio.windows import Window"
   ]
  },
  {
   "cell_type": "code",
   "execution_count": 67,
   "metadata": {
    "Collapsed": "false",
    "hidden": true
   },
   "outputs": [],
   "source": [
    "# %%time\n",
    "# diryr = rio.open('../data/GlobalFire2016/Global_fire_atlas_direction_yearly_2016.tif')\n",
    "# speedyr = rio.open('../data/GlobalFire2016/Global_fire_atlas_speed_yearly_2016.tif')\n",
    "# dobyr = rio.open('../data/GlobalFire2016/Global_fire_atlas_day_of_burn_yearly_2016.tif')\n",
    "# firelineyr = rio.open('../data/GlobalFire2016/Global_fire_atlas_fire_line_yearly_2016.tif')"
   ]
  },
  {
   "cell_type": "code",
   "execution_count": 68,
   "metadata": {
    "Collapsed": "false",
    "hidden": true
   },
   "outputs": [],
   "source": [
    "# tifs = [diryr,speedyr,dobyr,firelineyr]"
   ]
  },
  {
   "cell_type": "code",
   "execution_count": 69,
   "metadata": {
    "Collapsed": "false",
    "hidden": true
   },
   "outputs": [],
   "source": [
    "# for tif in tifs:\n",
    "#     print(\"name = \",tif.name)\n",
    "#     print(\"resolution of a pixel in units of coord reference system = \",tif.res)\n",
    "#     print(\"Image Structure tags =\",tif.tags(ns='IMAGE_STRUCTURE'))\n",
    "#     print(\"tags =\",tif.tags())\n",
    "#     print(tif.shape)\n",
    "#     print(tif.bounds)\n",
    "#     print(\"number of layers = \",tif.count)\n",
    "#     print(\"number of bands =\", tif.indexes)\n",
    "#     print(tif.meta)\n",
    "#     print(\"\\n\\n\")"
   ]
  },
  {
   "cell_type": "code",
   "execution_count": 70,
   "metadata": {
    "Collapsed": "false",
    "hidden": true
   },
   "outputs": [],
   "source": [
    "# print(diryr.meta)\n",
    "# #customcrs = diryr.meta"
   ]
  },
  {
   "cell_type": "code",
   "execution_count": 71,
   "metadata": {
    "Collapsed": "false",
    "hidden": true
   },
   "outputs": [],
   "source": [
    "# print(diryr.crs)"
   ]
  },
  {
   "cell_type": "code",
   "execution_count": 72,
   "metadata": {
    "Collapsed": "false",
    "hidden": true
   },
   "outputs": [],
   "source": [
    "# customcrs = diryr.crs"
   ]
  },
  {
   "cell_type": "markdown",
   "metadata": {
    "Collapsed": "false",
    "heading_collapsed": true
   },
   "source": [
    "#### Convert Lat/Long to CRS"
   ]
  },
  {
   "cell_type": "markdown",
   "metadata": {
    "Collapsed": "false",
    "hidden": true
   },
   "source": [
    "From StackExchange:\n",
    "\n",
    "You need to transform your points to the coordinate system of the raster. You could warp the raster to your points' coordinate system but warping rasters is a bit messy. (for R but should be similar in python)\n",
    "\n",
    "https://gis.stackexchange.com/questions/200417/very-basic-question-on-extracting-data-from-tif-raster-layer-in-r-projection-n"
   ]
  },
  {
   "cell_type": "code",
   "execution_count": 73,
   "metadata": {
    "Collapsed": "false",
    "hidden": true
   },
   "outputs": [],
   "source": [
    "# # Our desired 'fire' from the shapefile\n",
    "# fire"
   ]
  },
  {
   "cell_type": "code",
   "execution_count": 74,
   "metadata": {
    "Collapsed": "false",
    "hidden": true
   },
   "outputs": [],
   "source": [
    "# fire.crs"
   ]
  },
  {
   "cell_type": "code",
   "execution_count": 75,
   "metadata": {
    "Collapsed": "false",
    "hidden": true
   },
   "outputs": [],
   "source": [
    "# # Global Fire Atlas projection Coordinate Reference System (from website)\n",
    "# gfacrs = \"+proj=sinu +lon_0=0 +x_0=0 +y_0=0 +a=6371007.181 +b=6371007.181 +units=m +no_defs\" "
   ]
  },
  {
   "cell_type": "code",
   "execution_count": 76,
   "metadata": {
    "Collapsed": "false",
    "hidden": true,
    "scrolled": true
   },
   "outputs": [],
   "source": [
    "# fire2 = fire.to_crs(gfacrs)\n",
    "# fire2"
   ]
  },
  {
   "cell_type": "code",
   "execution_count": 77,
   "metadata": {
    "Collapsed": "false",
    "hidden": true
   },
   "outputs": [],
   "source": [
    "# fire2.geometry.name"
   ]
  },
  {
   "cell_type": "code",
   "execution_count": 78,
   "metadata": {
    "Collapsed": "false",
    "hidden": true
   },
   "outputs": [],
   "source": [
    "# fire2.crs  # Ah that is why you can't convert two columns. because when you convert one column\n",
    "# # then the entire dataframe thinks it is now in the new CRS"
   ]
  },
  {
   "cell_type": "markdown",
   "metadata": {
    "Collapsed": "false"
   },
   "source": [
    "# EDA Stats and Plots"
   ]
  },
  {
   "cell_type": "markdown",
   "metadata": {
    "Collapsed": "false"
   },
   "source": [
    "## Raster Data"
   ]
  },
  {
   "cell_type": "code",
   "execution_count": 79,
   "metadata": {
    "Collapsed": "false"
   },
   "outputs": [],
   "source": [
    "# Opening the 4 raster files in toy data (not including DOB)\n",
    "with rio.open('../toydata/Global_fire_atlas_dircrop.tif') as f1:\n",
    "    direction = f1.read(1).astype(float)\n",
    "with rio.open('../toydata/Global_fire_atlas_firelinecrop.tif') as f2:\n",
    "    fireline = f2.read(1).astype(float)\n",
    "with rio.open('../toydata/Global_fire_atlas_speedcrop.tif') as f3:\n",
    "    speed = f3.read(1)\n",
    "with rio.open('../toydata/fireid.tif') as f4:\n",
    "    fireid = f4.read(1).astype(float)"
   ]
  },
  {
   "cell_type": "code",
   "execution_count": 80,
   "metadata": {
    "Collapsed": "false"
   },
   "outputs": [],
   "source": [
    "rasters = {'direction':direction,'fireline':fireline,'speed':speed,'fireid':fireid}"
   ]
  },
  {
   "cell_type": "markdown",
   "metadata": {
    "Collapsed": "false"
   },
   "source": [
    "### Fire Data Heatmaps"
   ]
  },
  {
   "cell_type": "code",
   "execution_count": 81,
   "metadata": {
    "Collapsed": "false"
   },
   "outputs": [],
   "source": [
    "def plot_rasters(rasters):\n",
    "    \"\"\" Plot all the fire data rasters for 2016 as heatmaps\"\"\"\n",
    "    fig = plt.figure(figsize = (20,4))\n",
    "    fig.suptitle('Bounded Fire Data showing Sparsity 2016')\n",
    "    fig.subplots_adjust(hspace=0.4)\n",
    "    i=1\n",
    "    for key,data in rasters.items():\n",
    "        ax = fig.add_subplot(1,4,i)\n",
    "        sns.heatmap(data)\n",
    "        ax.set_title(key)\n",
    "        i+=1\n",
    "    plt.savefig('HeatmapFireData.jpg')\n",
    "    plt.show()"
   ]
  },
  {
   "cell_type": "code",
   "execution_count": 82,
   "metadata": {
    "Collapsed": "false"
   },
   "outputs": [
    {
     "data": {
      "image/png": "[encoded data removed]",
      "text/plain": [
       "<Figure size 1440x288 with 8 Axes>"
      ]
     },
     "metadata": {
      "needs_background": "light"
     },
     "output_type": "display_data"
    }
   ],
   "source": [
    "# Visual of sparsity\n",
    "plot_rasters(rasters)"
   ]
  },
  {
   "cell_type": "markdown",
   "metadata": {
    "Collapsed": "false"
   },
   "source": [
    "### Fire Data Statistics"
   ]
  },
  {
   "cell_type": "code",
   "execution_count": 83,
   "metadata": {
    "Collapsed": "false"
   },
   "outputs": [],
   "source": [
    "# First create 1D array from 2D rasters\n",
    "dir1 = copy.deepcopy(direction)\n",
    "fl1 = copy.deepcopy(fireline)\n",
    "spd1 = copy.deepcopy(speed)\n",
    "fid1 = copy.deepcopy(fireid)"
   ]
  },
  {
   "cell_type": "code",
   "execution_count": 84,
   "metadata": {
    "Collapsed": "false"
   },
   "outputs": [],
   "source": [
    "dir1 = np.ravel(dir1)\n",
    "fl1 = np.ravel(fl1)\n",
    "spd1 = np.ravel(spd1)\n",
    "fid1 = np.ravel(fid1)"
   ]
  },
  {
   "cell_type": "code",
   "execution_count": 85,
   "metadata": {
    "Collapsed": "false"
   },
   "outputs": [],
   "source": [
    "onedim = {'direction':dir1,'fireline':fl1,'speed':spd1,'fireid':fid1}"
   ]
  },
  {
   "cell_type": "code",
   "execution_count": 86,
   "metadata": {
    "Collapsed": "false"
   },
   "outputs": [],
   "source": [
    "totalpixels = dir1.shape[0]"
   ]
  },
  {
   "cell_type": "code",
   "execution_count": 87,
   "metadata": {
    "Collapsed": "false"
   },
   "outputs": [
    {
     "data": {
      "image/png": "[encoded data removed]",
      "text/plain": [
       "<Figure size 720x288 with 2 Axes>"
      ]
     },
     "metadata": {
      "needs_background": "light"
     },
     "output_type": "display_data"
    },
    {
     "data": {
      "image/png": "[encoded data removed]",
      "text/plain": [
       "<Figure size 720x288 with 2 Axes>"
      ]
     },
     "metadata": {},
     "output_type": "display_data"
    },
    {
     "data": {
      "image/png": "[encoded data removed]",
      "text/plain": [
       "<Figure size 720x288 with 2 Axes>"
      ]
     },
     "metadata": {},
     "output_type": "display_data"
    },
    {
     "data": {
      "image/png": "[encoded data removed]",
      "text/plain": [
       "<Figure size 720x288 with 2 Axes>"
      ]
     },
     "metadata": {},
     "output_type": "display_data"
    }
   ],
   "source": [
    "for name,data in onedim.items():\n",
    "    fig = plt.figure(figsize = (10,4))\n",
    "    fig.suptitle(f\"{name}. Total Pixels = {totalpixels}\")\n",
    "    plt.style.use('seaborn-white')\n",
    "    ax = fig.add_subplot(1,2,1)\n",
    "    plt.hist(data)\n",
    "    ax.set_title(\"All Data\")\n",
    "    ax = fig.add_subplot(1,2,2)\n",
    "    plt.hist(data[data>-10],bins=20)\n",
    "    ax.set_title(\"Null Data Ignored\")\n",
    "    plt.show()"
   ]
  },
  {
   "cell_type": "code",
   "execution_count": null,
   "metadata": {
    "Collapsed": "false"
   },
   "outputs": [],
   "source": []
  },
  {
   "cell_type": "markdown",
   "metadata": {
    "Collapsed": "false"
   },
   "source": [
    "# Setup"
   ]
  },
  {
   "cell_type": "code",
   "execution_count": null,
   "metadata": {
    "Collapsed": "false"
   },
   "outputs": [],
   "source": []
  }
 ],
 "metadata": {
  "kernelspec": {
   "display_name": "Python 3",
   "language": "python",
   "name": "python3"
  },
  "language_info": {
   "codemirror_mode": {
    "name": "ipython",
    "version": 3
   },
   "file_extension": ".py",
   "mimetype": "text/x-python",
   "name": "python",
   "nbconvert_exporter": "python",
   "pygments_lexer": "ipython3",
   "version": "3.7.6"
  },
  "toc": {
   "base_numbering": 1,
   "nav_menu": {},
   "number_sections": true,
   "sideBar": true,
   "skip_h1_title": false,
   "title_cell": "Table of Contents",
   "title_sidebar": "Contents",
   "toc_cell": false,
   "toc_position": {
    "height": "calc(100% - 180px)",
    "left": "10px",
    "top": "150px",
    "width": "427px"
   },
   "toc_section_display": true,
   "toc_window_display": true
  }
 },
 "nbformat": 4,
 "nbformat_minor": 4
}
