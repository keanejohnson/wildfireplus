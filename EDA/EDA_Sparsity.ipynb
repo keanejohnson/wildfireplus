{
 "cells": [
  {
   "cell_type": "markdown",
   "metadata": {
    "Collapsed": "true"
   },
   "source": [
    "# Setup"
   ]
  },
  {
   "cell_type": "code",
   "execution_count": 18,
   "metadata": {
    "Collapsed": "false"
   },
   "outputs": [
    {
     "name": "stdout",
     "output_type": "stream",
     "text": [
      "# conda environments:\n",
      "#\n",
      "base                     /opt/anaconda3\n",
      "w210                     /opt/anaconda3/envs/w210\n",
      "w210_geo              *  /opt/anaconda3/envs/w210_geo\n",
      "\n"
     ]
    }
   ],
   "source": [
    "!conda info --envs"
   ]
  },
  {
   "cell_type": "code",
   "execution_count": 126,
   "metadata": {
    "Collapsed": "false"
   },
   "outputs": [
    {
     "name": "stdout",
     "output_type": "stream",
     "text": [
      "Python Version = 3.7.6 (default, Jan  8 2020, 13:42:34) \n",
      "[Clang 4.0.1 (tags/RELEASE_401/final)]\n",
      "Pandas Version = 1.0.0\n",
      "Geopandas Version = 0.6.1\n",
      "rasterio version = 2.3.3\n"
     ]
    }
   ],
   "source": [
    "import pandas as pd\n",
    "import matplotlib.pyplot as plt\n",
    "import sys\n",
    "import csv\n",
    "import numpy as np\n",
    "import os\n",
    "import sqlite3\n",
    "import copy\n",
    "from dbfread import DBF\n",
    "import geopandas as gpd\n",
    "import fiona\n",
    "import pprint\n",
    "import folium\n",
    "import descartes\n",
    "import rasterio as rio\n",
    "from rasterio.plot import plotting_extent\n",
    "from rasterio.warp import calculate_default_transform, reproject, Resampling\n",
    "from rasterio import features\n",
    "import rasterio.mask\n",
    "import earthpy as et\n",
    "import earthpy.spatial as es\n",
    "import earthpy.plot as ep\n",
    "import pickle\n",
    "from scipy import stats\n",
    "from rasterio.windows import Window\n",
    "from numpy import nan\n",
    "import seaborn as sns\n",
    "\n",
    "print(f\"Python Version = {sys.version}\")\n",
    "print(f\"Pandas Version = {pd.__version__}\")\n",
    "print(f\"Geopandas Version = {gpd.__version__}\")\n",
    "print(f\"rasterio version = {rio._base.gdal_version()}\")"
   ]
  },
  {
   "cell_type": "markdown",
   "metadata": {
    "Collapsed": "true",
    "heading_collapsed": true
   },
   "source": [
    "# Definitions"
   ]
  },
  {
   "cell_type": "markdown",
   "metadata": {
    "Collapsed": "false",
    "hidden": true
   },
   "source": [
    "1) Fine Fuel Moisture Code\n",
    "The Fine Fuel Moisture Code (FFMC) is a numeric rating of the moisture content of litter and other cured fine fuels. This code is an indicator of the relative ease of ignition and the flammability of fine fuel.\n",
    "\n",
    "2) Duff Moisture Code\n",
    "The Duff Moisture Code (DMC) is a numeric rating of the average moisture content of loosely compacted organic layers of moderate depth. This code gives an indication of fuel consumption in moderate duff layers and medium-size woody material.\n",
    "\n",
    "3) Drought Code\n",
    "The Drought Code (DC) is a numeric rating of the average moisture content of deep, compact organic layers. This code is a useful indicator of seasonal drought effects on forest fuels and the amount of smoldering in deep duff layers and large logs.\n",
    "\n",
    "4)  Initial Spread Index\n",
    "The Initial Spread Index (ISI) is a numeric rating of the expected rate of fire spread. It combines the effects of wind and the FFMC on rate of spread without the influence of variable quantities of fuel.\n",
    "\n",
    "https://cwfis.cfs.nrcan.gc.ca/background/summary/fwi\n",
    "\n",
    "5) Temp\n",
    "Temperature in Celsius degrees\n",
    "\n",
    "6) RH\n",
    "Relative humidity in %\n",
    "\n",
    "7) Wind\n",
    "Wind speed in km/h\n",
    "\n",
    "8) Rain\n",
    "Outside rain in mm/m2\n",
    "\n",
    "9) Area\n",
    "The burned area of the forest (in ha), ha = hectare = 2.47 acres\n",
    "\n",
    "10) X\n",
    "x-axis spatial coordinate within the Montesinho park map: 1 to 9 2\n",
    "\n",
    "11) Y\n",
    "y-axis spatial coordinate within the Montesinho park map: 2 to 9 3"
   ]
  },
  {
   "cell_type": "markdown",
   "metadata": {
    "Collapsed": "false",
    "hidden": true
   },
   "source": [
    "Literature:\n",
    "\n",
    "https://news.uci.edu/2019/09/17/uci-team-uses-machine-learning-to-help-tell-which-wildfires-will-burn-out-of-control/\n",
    "\n",
    "In the original paper (Portugal - Montesinho fires), the best result (predicting burned area) was only using the 4 weather conditions: RH/Wind/Rain/Temp, and an SVM.\n",
    "\n",
    "This: https://datasetsearch.research.google.com/search?query=wildfire%20area&docid=fchFFzqh0O3qjX3PAAAAAA%3D%3D has georeferenced and date/time referenced with areas. Could combine with weather data for those dates/times."
   ]
  },
  {
   "cell_type": "markdown",
   "metadata": {
    "Collapsed": "true"
   },
   "source": [
    "# Query shape of datasets, type, feature names and how they work together"
   ]
  },
  {
   "cell_type": "code",
   "execution_count": 20,
   "metadata": {
    "Collapsed": "false"
   },
   "outputs": [],
   "source": [
    "# os.getcwd()"
   ]
  },
  {
   "cell_type": "markdown",
   "metadata": {
    "Collapsed": "false"
   },
   "source": [
    "## Fire Data  \n",
    "\n",
    "In the 'Laura EDA-Geo_Env.ipynb' you can see all the global data. Here we  have only pulled the 2016 California data to do further EDA."
   ]
  },
  {
   "cell_type": "markdown",
   "metadata": {
    "Collapsed": "true",
    "heading_collapsed": true
   },
   "source": [
    "### PRJ file - CRS Descriptions"
   ]
  },
  {
   "cell_type": "code",
   "execution_count": 127,
   "metadata": {
    "Collapsed": "false",
    "hidden": true
   },
   "outputs": [
    {
     "name": "stdout",
     "output_type": "stream",
     "text": [
      "Ignitions Prj file contents = GEOGCS[\"WGS 84\",DATUM[\"WGS_1984\",SPHEROID[\"WGS 84\",6378137,298.257223563]],PRIMEM[\"Greenwich\",0],UNIT[\"degree\",0.0174532925199433]]\n",
      "Perimeter Prj file contents = GEOGCS[\"WGS 84\",DATUM[\"WGS_1984\",SPHEROID[\"WGS 84\",6378137,298.257223563]],PRIMEM[\"Greenwich\",0],UNIT[\"degree\",0.0174532925199433]]\n"
     ]
    }
   ],
   "source": [
    "with open('../data/GlobalFire2016/Global_fire_atlas_V1_ignitions_2016/Global_fire_atlas_V1_ignitions_2016.prj') as f1:\n",
    "    print(f\"Ignitions Prj file contents = {f1.read()}\")\n",
    "    \n",
    "with open('../data/GlobalFire2016/Global_fire_atlas_V1_perimeter_2016/Global_fire_atlas_V1_perimeter_2016.prj','r') as f2:\n",
    "    print(f\"Perimeter Prj file contents = {f2.read()}\")    "
   ]
  },
  {
   "cell_type": "markdown",
   "metadata": {
    "Collapsed": "false",
    "hidden": true
   },
   "source": [
    "The above mean:\n",
    "- GEOGCS: Geographic coordinate reference system (vs. a projected coordinate system)\n",
    "- WGS 84 : the name of the geographic coordinate reference system\n",
    "- WGS_1984: The name of the DATUM\n",
    "- SPHEROID: Used for the reference system with the semi major axis = 6378137 m and inverse-flattening ratio of 298.257223563\n",
    "- PRIMEM: Greenwich is prime meridian where longitude is set as 0\n",
    "- UNIT: measurement units of coordinate system, in degrees, where 0.01745.. is the conversion from radians to the units here(degrees)"
   ]
  },
  {
   "cell_type": "markdown",
   "metadata": {
    "Collapsed": "false"
   },
   "source": [
    "### California - GEOTiffs and GPD Dataframes"
   ]
  },
  {
   "cell_type": "markdown",
   "metadata": {
    "Collapsed": "true",
    "heading_collapsed": true
   },
   "source": [
    "Reimport and engineer the features appropriately\n",
    "\n",
    "First, don't combine the shp files (as in 2.4.2.3). Instead, create 3 dataframes:  \n",
    "1) fire ID and all the features (except geometry)  \n",
    "2) fire ID and POLYGON  \n",
    "3) fire ID and POINT (ignition)  "
   ]
  },
  {
   "cell_type": "code",
   "execution_count": 22,
   "metadata": {
    "Collapsed": "false",
    "hidden": true
   },
   "outputs": [],
   "source": [
    "# %%time\n",
    "# ign_gdf = gpd.read_file('../data/GlobalFire2016/Global_fire_atlas_V1_ignitions_2016/Global_fire_atlas_V1_ignitions_2016.shp')\n",
    "# poly_gdf = gpd.read_file('../data/GlobalFire2016/Global_fire_atlas_V1_perimeter_2016/Global_fire_atlas_V1_perimeter_2016.shp')"
   ]
  },
  {
   "cell_type": "code",
   "execution_count": 23,
   "metadata": {
    "Collapsed": "false",
    "hidden": true
   },
   "outputs": [],
   "source": [
    "# # Global Fire Atlas GEOTiff projection Coordinate Reference System (from website)\n",
    "# gfacrs = \"+proj=sinu +lon_0=0 +x_0=0 +y_0=0 +a=6371007.181 +b=6371007.181 +units=m +no_defs\" "
   ]
  },
  {
   "cell_type": "markdown",
   "metadata": {
    "Collapsed": "false",
    "heading_collapsed": true
   },
   "source": [
    "#### CA State Boundaries"
   ]
  },
  {
   "cell_type": "markdown",
   "metadata": {
    "Collapsed": "false",
    "hidden": true
   },
   "source": [
    "From https://data.ca.gov/dataset/ca-geographic-boundaries/resource/3db1e426-fb51-44f5-82d5-a54d7c6e188b"
   ]
  },
  {
   "cell_type": "code",
   "execution_count": 24,
   "metadata": {
    "Collapsed": "false",
    "hidden": true
   },
   "outputs": [],
   "source": [
    "# %%time\n",
    "# CA_gdf = gpd.read_file('../data/ca-state-boundary/CA_state_TIGER2016.shp')"
   ]
  },
  {
   "cell_type": "code",
   "execution_count": 25,
   "metadata": {
    "Collapsed": "false",
    "hidden": true
   },
   "outputs": [],
   "source": [
    "# CA_gdf"
   ]
  },
  {
   "cell_type": "code",
   "execution_count": 26,
   "metadata": {
    "Collapsed": "false",
    "hidden": true
   },
   "outputs": [],
   "source": [
    "# CA_gdf.plot()"
   ]
  },
  {
   "cell_type": "markdown",
   "metadata": {
    "Collapsed": "false",
    "heading_collapsed": true
   },
   "source": [
    "#### Crop rasters to California"
   ]
  },
  {
   "cell_type": "markdown",
   "metadata": {
    "Collapsed": "false",
    "hidden": true
   },
   "source": [
    "From Earth  data science: https://www.earthdatascience.org/courses/use-data-open-source-python/intro-raster-data-python/raster-data-processing/crop-raster-data-with-shapefile-in-python/"
   ]
  },
  {
   "cell_type": "code",
   "execution_count": 27,
   "metadata": {
    "Collapsed": "false",
    "hidden": true
   },
   "outputs": [],
   "source": [
    "# # Raster Data opened by rio is diryr\n",
    "# print(diryr.bounds)"
   ]
  },
  {
   "cell_type": "code",
   "execution_count": 28,
   "metadata": {
    "Collapsed": "false",
    "hidden": true
   },
   "outputs": [],
   "source": [
    "# # Crop extent: CA_gdf\n",
    "# print('crop extent crs = \\n', CA_gdf.crs)\n",
    "# print('tiff crs = \\n', diryr.crs)"
   ]
  },
  {
   "cell_type": "code",
   "execution_count": 29,
   "metadata": {
    "Collapsed": "false",
    "hidden": true
   },
   "outputs": [],
   "source": [
    "# # Set destination CRS\n",
    "# dst_crs = CA_gdf.crs"
   ]
  },
  {
   "cell_type": "code",
   "execution_count": 30,
   "metadata": {
    "Collapsed": "false",
    "hidden": true
   },
   "outputs": [],
   "source": [
    "# %%time\n",
    "# # Calculate the transform using the rasterio warp function\n",
    "# transform,width,height = calculate_default_transform(diryr.crs,dst_crs,diryr.width,diryr.height,*diryr.bounds)"
   ]
  },
  {
   "cell_type": "code",
   "execution_count": 31,
   "metadata": {
    "Collapsed": "false",
    "hidden": true
   },
   "outputs": [],
   "source": [
    "# %%time\n",
    "# # Set the new meta data for the projected raster file\n",
    "# kwargs = diryr.meta.copy()\n",
    "# kwargs.update({'crs':dst_crs,\n",
    "#               'transform':transform,\n",
    "#               'width':width,\n",
    "#               'height':height\n",
    "#               })"
   ]
  },
  {
   "cell_type": "code",
   "execution_count": 32,
   "metadata": {
    "Collapsed": "false",
    "hidden": true
   },
   "outputs": [],
   "source": [
    "# %%time\n",
    "# # write the new raster file by using the rasterio reproject function\n",
    "# with rio.open('../data/GlobalFire2016/Global_fire_atlas_direction_yearly_2016_reproj.tif','w',**kwargs) as dst:\n",
    "#     for i in range(1, diryr.count + 1):\n",
    "#         reproject(\n",
    "#             source = rio.band(diryr,i),\n",
    "#             destination=rio.band(dst,i),\n",
    "#             diryr_transform = diryr.transform,\n",
    "#             diryr_crs = diryr.crs,\n",
    "#             dst_transform = transform,\n",
    "#             dst_crs = dst_crs,\n",
    "#             resampling=Resampling.nearest)"
   ]
  },
  {
   "cell_type": "code",
   "execution_count": 33,
   "metadata": {
    "Collapsed": "false",
    "hidden": true,
    "scrolled": true
   },
   "outputs": [],
   "source": [
    "# %%time\n",
    "# # Open the new reprojected geotiff\n",
    "# diryr_reproj = rio.open('../data/GlobalFire2016/Global_fire_atlas_direction_yearly_2016_reproj.tif')\n",
    "# print(diryr_reproj.meta)"
   ]
  },
  {
   "cell_type": "code",
   "execution_count": 34,
   "metadata": {
    "Collapsed": "false",
    "hidden": true
   },
   "outputs": [],
   "source": [
    "# %%time\n",
    "# # Crop extent: CA_gdf - crop to the boundaries of California, which should work now that both raster \n",
    "# # and shapefile are on the same CRS\n",
    "# print('crop extent crs = \\n', CA_gdf.crs)\n",
    "# print('tiff crs = \\n', diryr_reproj.crs)"
   ]
  },
  {
   "cell_type": "code",
   "execution_count": 35,
   "metadata": {
    "Collapsed": "false",
    "hidden": true
   },
   "outputs": [],
   "source": [
    "# %%time\n",
    "# # Use the earthpy.spatial function to crop the tif by the shapefile\n",
    "# diryr_reproj_crop, diryr_reproj_crop_meta = es.crop_image(diryr_reproj,CA_gdf)"
   ]
  },
  {
   "cell_type": "code",
   "execution_count": 36,
   "metadata": {
    "Collapsed": "false",
    "hidden": true
   },
   "outputs": [],
   "source": [
    "# print(\"cropped data\", diryr_reproj_crop.shape)\n",
    "# print(\"original data\", diryr.shape)"
   ]
  },
  {
   "cell_type": "code",
   "execution_count": 37,
   "metadata": {
    "Collapsed": "false",
    "hidden": true
   },
   "outputs": [],
   "source": [
    "# # Use the affine transformation for the CRS to define the extents\n",
    "# diryr_reproj_crop_affine = diryr_reproj_crop_meta[\"transform\"]\n",
    "# diryr_reproj_extent = plotting_extent(diryr_reproj_crop[0],diryr_reproj_crop_affine)"
   ]
  },
  {
   "cell_type": "code",
   "execution_count": 38,
   "metadata": {
    "Collapsed": "false",
    "hidden": true
   },
   "outputs": [],
   "source": [
    "# diryr_reproj_crop_meta"
   ]
  },
  {
   "cell_type": "code",
   "execution_count": 39,
   "metadata": {
    "Collapsed": "false",
    "hidden": true
   },
   "outputs": [],
   "source": [
    "# fig,ax = plt.subplots(figsize=(10,16))\n",
    "# ep.plot_bands(diryr_reproj_crop,\n",
    "#               extent = diryr_reproj_extent,\n",
    "#               cmap='Greys',\n",
    "#               title = 'Direction',\n",
    "#               scale=False,\n",
    "#               ax=ax,\n",
    "#               cbar=False)\n",
    "\n",
    "# CA_gdf.plot(ax=ax,alpha=0.2)\n",
    "# ax.set_axis_off()\n",
    "# plt.show()"
   ]
  },
  {
   "cell_type": "code",
   "execution_count": 40,
   "metadata": {
    "Collapsed": "false",
    "hidden": true
   },
   "outputs": [],
   "source": [
    "# vals = diryr_reproj_crop[0][diryr_reproj_crop[0]>0]\n",
    "# vals"
   ]
  },
  {
   "cell_type": "code",
   "execution_count": 41,
   "metadata": {
    "Collapsed": "false",
    "hidden": true
   },
   "outputs": [],
   "source": [
    "# print(type(vals),vals.shape)\n",
    "# stats.describe(vals)"
   ]
  },
  {
   "cell_type": "markdown",
   "metadata": {
    "Collapsed": "false",
    "heading_collapsed": true
   },
   "source": [
    "##### Transform Ignition and polygons of final fire sizes to CA CRS"
   ]
  },
  {
   "cell_type": "code",
   "execution_count": 42,
   "metadata": {
    "Collapsed": "false",
    "hidden": true
   },
   "outputs": [],
   "source": [
    "# # transform CRS\n",
    "# ign2 = ign_gdf.to_crs(dst_crs)\n",
    "# poly2 = poly_gdf.to_crs(dst_crs)"
   ]
  },
  {
   "cell_type": "code",
   "execution_count": 43,
   "metadata": {
    "Collapsed": "false",
    "hidden": true
   },
   "outputs": [],
   "source": [
    "# # set area to crop to\n",
    "# bb = CA_gdf.envelope"
   ]
  },
  {
   "cell_type": "code",
   "execution_count": 44,
   "metadata": {
    "Collapsed": "false",
    "hidden": true
   },
   "outputs": [],
   "source": [
    "# # Crop polygons of final fire sizes using geopandas overlay\n",
    "# df2 = gpd.GeoDataFrame(gpd.GeoSeries(bb),columns=['geometry'])\n",
    "# poly2crop = gpd.overlay(df2,poly2,how='intersection')"
   ]
  },
  {
   "cell_type": "code",
   "execution_count": 45,
   "metadata": {
    "Collapsed": "false",
    "hidden": true
   },
   "outputs": [],
   "source": [
    "# # Use dataframe slicing for the ignition point data.\n",
    "# xmin,ymin,xmax,ymax=CA_gdf.total_bounds\n",
    "# ign2crop = ign2.cx[xmin:xmax,ymin:ymax]"
   ]
  },
  {
   "cell_type": "code",
   "execution_count": 46,
   "metadata": {
    "Collapsed": "false",
    "hidden": true
   },
   "outputs": [],
   "source": [
    "# fig,ax = plt.subplots(figsize=(10,16))\n",
    "# ep.plot_bands(diryr_reproj_crop,\n",
    "#               extent = diryr_reproj_extent,\n",
    "#               cmap='Greys',\n",
    "#               title = 'Direction',\n",
    "#               scale=False,\n",
    "#               ax=ax,\n",
    "#               cbar=False)\n",
    "\n",
    "# CA_gdf.plot(ax=ax, alpha=0.2)\n",
    "# ign2crop.plot(ax=ax,marker='x',color='green',markersize=12)\n",
    "# poly2crop.plot(ax=ax,alpha=0.4)\n",
    "# ax.set_axis_off()\n",
    "# plt.show()"
   ]
  },
  {
   "cell_type": "markdown",
   "metadata": {
    "Collapsed": "false"
   },
   "source": [
    "#### Create new bounding box for smaller section of CA and convert CRS\n",
    "Repeat above process for cropping"
   ]
  },
  {
   "cell_type": "code",
   "execution_count": 47,
   "metadata": {
    "Collapsed": "false"
   },
   "outputs": [],
   "source": [
    "# # Set source CRS - this is the google maps CRS\n",
    "# bb_gdf_orig.crs = {'init':'epsg:4326'}\n",
    "# print(bb_gdf_orig.crs)"
   ]
  },
  {
   "cell_type": "code",
   "execution_count": 48,
   "metadata": {
    "Collapsed": "false"
   },
   "outputs": [],
   "source": [
    "# # Create bounding box polygon from lat long pulled from Gmaps\n",
    "# from shapely.geometry import Polygon\n",
    "# bb_long = [-122, -119.912,-119.912,-122,-122 ]\n",
    "# bb_lat = [36.8, 36.8, 35.06, 35.06,36.8]\n",
    "# bb_poly = Polygon(zip(bb_long,bb_lat))\n",
    "# bb_gdf2 = gpd.GeoDataFrame(index=[0],crs=bb_gdf_orig.crs,geometry = [bb_poly])\n",
    "# print(bb_gdf2.geometry)"
   ]
  },
  {
   "cell_type": "code",
   "execution_count": 49,
   "metadata": {
    "Collapsed": "false"
   },
   "outputs": [],
   "source": [
    "# # Change CRS of polygon to match other work here\n",
    "# bb_gdf2 = bb_gdf2.to_crs(epsg=3857)\n",
    "# bb_gdf2"
   ]
  },
  {
   "cell_type": "code",
   "execution_count": 50,
   "metadata": {
    "Collapsed": "false"
   },
   "outputs": [],
   "source": [
    "# # Plotting\n",
    "# fig,ax = plt.subplots(figsize=(10,16))\n",
    "# ep.plot_bands(diryr_reproj_crop,\n",
    "#               extent = diryr_reproj_extent,\n",
    "#               cmap='Greys',\n",
    "#               title = 'Direction',\n",
    "#               scale=False,\n",
    "#               ax=ax,\n",
    "#               cbar=False)\n",
    "\n",
    "# CA_gdf.plot(ax=ax, alpha=0.2)\n",
    "# ign2crop.plot(ax=ax,marker='x',color='green',markersize=12)\n",
    "# poly2crop.plot(ax=ax,alpha=0.4)\n",
    "# bb_gdf2.plot(ax=ax,color='green',alpha=0.2)\n",
    "# ax.set_axis_off()\n",
    "# plt.show()"
   ]
  },
  {
   "cell_type": "markdown",
   "metadata": {
    "Collapsed": "false",
    "heading_collapsed": true
   },
   "source": [
    "#### Convert CRS for remaining raster files"
   ]
  },
  {
   "cell_type": "code",
   "execution_count": 51,
   "metadata": {
    "Collapsed": "false",
    "hidden": true
   },
   "outputs": [],
   "source": [
    "# # Raster Data opened by rio \n",
    "# #speedyr = rio.open('../data/GlobalFire2016/Global_fire_atlas_speed_yearly_2016.tif')\n",
    "# #dobyr = rio.open('../data/GlobalFire2016/Global_fire_atlas_day_of_burn_yearly_2016.tif')\n",
    "# #firelineyr = rio.open('../data/GlobalFire2016/Global_fire_atlas_fire_line_yearly_2016.tif')\n",
    "# print('speedyr bounds =',speedyr.bounds)\n",
    "# print('dobyr bounds =',dobyr.bounds)\n",
    "# print('firelineyr bounds =',firelineyr.bounds)"
   ]
  },
  {
   "cell_type": "code",
   "execution_count": 52,
   "metadata": {
    "Collapsed": "false",
    "hidden": true
   },
   "outputs": [],
   "source": [
    "# # Set destination CRS\n",
    "# dst_crs = bb_gdf2.crs"
   ]
  },
  {
   "cell_type": "code",
   "execution_count": 53,
   "metadata": {
    "Collapsed": "false",
    "hidden": true
   },
   "outputs": [],
   "source": [
    "# tifs = [(speedyr,'speed'),(dobyr,'dob'),(firelineyr,'fireline')]"
   ]
  },
  {
   "cell_type": "code",
   "execution_count": 54,
   "metadata": {
    "Collapsed": "false",
    "hidden": true
   },
   "outputs": [],
   "source": [
    "# Commented out this whole box because files have been saved already NEXT TIME - ADD COMPRESSION - \n",
    "# FILES WERE HUGE (see commented line below) OR reproject to new array, then write out with compression\n",
    "# %%time\n",
    "# for tif in tifs:\n",
    "#     file,name = tif\n",
    "    \n",
    "#     # Calculate the transform using the rasterio warp function\n",
    "#     transform,width,height = calculate_default_transform(file.crs,dst_crs,file.width,file.height,*file.bounds)\n",
    "    \n",
    "#     # Set the new meta data for the projected raster file\n",
    "#     kwargs = file.meta.copy()\n",
    "#     kwargs.update({'crs':dst_crs,\n",
    "#                   'transform':transform,\n",
    "#                   'width':width,\n",
    "#                   'height':height\n",
    "#                   #compress:'lzw'\n",
    "#                   })\n",
    "    \n",
    "#     # Filename for writing out to\n",
    "#     filestring = '../data/GlobalFire2016/Global_fire_atlas_' + name + '_yearly_2016_reproj.tif'\n",
    "    \n",
    "#     # write the new raster file by using the rasterio reproject function\n",
    "#     with rio.open(filestring,'w',**kwargs) as dst:\n",
    "#         for i in range(1, file.count + 1):\n",
    "#             reproject(\n",
    "#                 source = rio.band(file,i),\n",
    "#                 destination=rio.band(dst,i),\n",
    "#                 file_transform = file.transform,\n",
    "#                 file_crs = file.crs,\n",
    "#                 dst_transform = transform,\n",
    "#                 dst_crs = dst_crs,\n",
    "#                 resampling=Resampling.nearest)  "
   ]
  },
  {
   "cell_type": "code",
   "execution_count": 55,
   "metadata": {
    "Collapsed": "false",
    "hidden": true
   },
   "outputs": [],
   "source": [
    "# # Close all the previous readers\n",
    "# diryr.close()\n",
    "# dobyr.close()\n",
    "# firelineyr.close()\n",
    "# speedyr.close()"
   ]
  },
  {
   "cell_type": "markdown",
   "metadata": {
    "Collapsed": "false"
   },
   "source": [
    "#### Crop to smaller bounding box - Toy Set"
   ]
  },
  {
   "cell_type": "code",
   "execution_count": 56,
   "metadata": {
    "Collapsed": "false"
   },
   "outputs": [],
   "source": [
    "# # Check CRSs all match\n",
    "# print('ignition CRS', ign2.crs)\n",
    "# print('final polygon CRS', poly2.crs)\n",
    "# print('bounding box CRS', bb_gdf2.crs)"
   ]
  },
  {
   "cell_type": "markdown",
   "metadata": {
    "Collapsed": "false"
   },
   "source": [
    "##### First the ignition points to get fire numbers and then final fire sizes and dbf data"
   ]
  },
  {
   "cell_type": "code",
   "execution_count": 57,
   "metadata": {
    "Collapsed": "false"
   },
   "outputs": [],
   "source": [
    "# print('bounding box extents', bb_gdf2.total_bounds)"
   ]
  },
  {
   "cell_type": "code",
   "execution_count": 58,
   "metadata": {
    "Collapsed": "false"
   },
   "outputs": [],
   "source": [
    "# # Crop Ignition Data\n",
    "# xmin2,ymin2,xmax2,ymax2=bb_gdf2.total_bounds\n",
    "# ign2crop2 = ign2.cx[xmin2:xmax2,ymin2:ymax2]"
   ]
  },
  {
   "cell_type": "code",
   "execution_count": 59,
   "metadata": {
    "Collapsed": "false"
   },
   "outputs": [],
   "source": [
    "# print(ign2crop2.shape, ign2.shape)"
   ]
  },
  {
   "cell_type": "code",
   "execution_count": 60,
   "metadata": {
    "Collapsed": "false"
   },
   "outputs": [],
   "source": [
    "# fires = ign2crop2['fire_ID'].values"
   ]
  },
  {
   "cell_type": "code",
   "execution_count": 61,
   "metadata": {
    "Collapsed": "false"
   },
   "outputs": [],
   "source": [
    "# poly2crop2 = poly2.loc[poly2['fire_ID'].isin(fires)]"
   ]
  },
  {
   "cell_type": "code",
   "execution_count": 62,
   "metadata": {
    "Collapsed": "false"
   },
   "outputs": [],
   "source": [
    "# print(poly2crop2.shape, poly2.shape)"
   ]
  },
  {
   "cell_type": "code",
   "execution_count": 63,
   "metadata": {
    "Collapsed": "false"
   },
   "outputs": [],
   "source": [
    "# featurescrop2 = features1.loc[features1['fire_ID'].isin(fires)]"
   ]
  },
  {
   "cell_type": "code",
   "execution_count": 64,
   "metadata": {
    "Collapsed": "false"
   },
   "outputs": [],
   "source": [
    "# featurescrop2.head()"
   ]
  },
  {
   "cell_type": "code",
   "execution_count": 65,
   "metadata": {
    "Collapsed": "false"
   },
   "outputs": [],
   "source": [
    "# ign2crop2.head()"
   ]
  },
  {
   "cell_type": "code",
   "execution_count": 66,
   "metadata": {
    "Collapsed": "false"
   },
   "outputs": [],
   "source": [
    "# %%time\n",
    "# #pickle out the ignition points and dbf\n",
    "# with open('../data/GlobalFire2016/Global_fire_atlas_ignitioncrop.pickle','wb') as f:\n",
    "#     pickle.dump(ign2crop2,f,pickle.HIGHEST_PROTOCOL)\n",
    "# with open('../data/GlobalFire2016/Global_fire_atlas_datacrop.pickle','wb') as f:\n",
    "#     pickle.dump(featurescrop2,f,pickle.HIGHEST_PROTOCOL)"
   ]
  },
  {
   "cell_type": "markdown",
   "metadata": {
    "Collapsed": "false",
    "heading_collapsed": true
   },
   "source": [
    "##### Crop the rasters"
   ]
  },
  {
   "cell_type": "code",
   "execution_count": 67,
   "metadata": {
    "Collapsed": "false",
    "hidden": true,
    "scrolled": true
   },
   "outputs": [],
   "source": [
    "# # Open the new reprojected geotiffs\n",
    "# diryr_reproj = rio.open('../data/GlobalFire2016/Global_fire_atlas_direction_yearly_2016_reproj.tif')\n",
    "# speedyr_reproj = rio.open('../data/GlobalFire2016/Global_fire_atlas_speed_yearly_2016_reproj.tif')\n",
    "# dobyr_reproj = rio.open('../data/GlobalFire2016/Global_fire_atlas_dob_yearly_2016_reproj.tif')\n",
    "# firelineyr_reproj = rio.open('../data/GlobalFire2016/Global_fire_atlas_fireline_yearly_2016_reproj.tif')"
   ]
  },
  {
   "cell_type": "code",
   "execution_count": 68,
   "metadata": {
    "Collapsed": "false",
    "hidden": true
   },
   "outputs": [],
   "source": [
    "# # Crop extent: bb_gdf2 - crop to the small box, which should work now that both raster \n",
    "# # and shapefile are on the same CRS\n",
    "# print('crop extent crs = ', bb_gdf2.crs)\n",
    "# print('direction tiff crs = ', diryr_reproj.crs)\n",
    "# print('speed tiff crs = ', speedyr_reproj.crs)\n",
    "# print('day of burn tiff crs = ', dobyr_reproj.crs)\n",
    "# print('fireline tiff crs = ', firelineyr_reproj.crs)"
   ]
  },
  {
   "cell_type": "code",
   "execution_count": 69,
   "metadata": {
    "Collapsed": "false",
    "hidden": true
   },
   "outputs": [],
   "source": [
    "# def crop_tif(tif_reproj,boundingbox):\n",
    "#     \"\"\"function to crop the reprojected tiffs by the bounding box (shapefile)\"\"\"\n",
    "    \n",
    "#     tif_reproj_crop,tif_reproj_crop_meta = es.crop_image(tif_reproj,boundingbox)\n",
    "#     print(\"cropped data\", tif_reproj_crop.shape)\n",
    "#     print(\"original data\", tif_reproj.shape)\n",
    "#     print(\"meta\", tif_reproj_crop_meta)\n",
    "       \n",
    "#     return(tif_reproj_crop, tif_reproj_crop_meta)"
   ]
  },
  {
   "cell_type": "code",
   "execution_count": 70,
   "metadata": {
    "Collapsed": "false",
    "hidden": true
   },
   "outputs": [],
   "source": [
    "# %%time\n",
    "# diryr_reproj_crop,diryr_reproj_crop_meta = crop_tif(diryr_reproj,bb_gdf2)\n",
    "# speedyr_reproj_crop,speedyr_reproj_crop_meta = crop_tif(speedyr_reproj,bb_gdf2)\n",
    "# dobyr_reproj_crop,dobyr_reproj_crop_meta = crop_tif(dobyr_reproj,bb_gdf2)\n",
    "# firelineyr_reproj_crop,firelineyr_reproj_crop_meta = crop_tif(firelineyr_reproj,bb_gdf2)"
   ]
  },
  {
   "cell_type": "code",
   "execution_count": 71,
   "metadata": {
    "Collapsed": "false",
    "hidden": true
   },
   "outputs": [],
   "source": [
    "# vals = firelineyr_reproj_crop[0][firelineyr_reproj_crop[0]>0]\n",
    "# vals"
   ]
  },
  {
   "cell_type": "code",
   "execution_count": 72,
   "metadata": {
    "Collapsed": "false",
    "hidden": true
   },
   "outputs": [],
   "source": [
    "# diryr_reproj.close()\n",
    "# speedyr_reproj.close()\n",
    "# dobyr_reproj.close()\n",
    "# firelineyr_reproj.close()"
   ]
  },
  {
   "cell_type": "code",
   "execution_count": 73,
   "metadata": {
    "Collapsed": "false",
    "hidden": true
   },
   "outputs": [],
   "source": [
    "# # Write these out to smaller tiffs\n",
    "# with rio.open('../data/GlobalFire2016/Global_fire_atlas_dircrop.tif','w',**diryr_reproj_crop_meta) as dst:\n",
    "#     dst.write(diryr_reproj_crop)\n",
    "# with rio.open('../data/GlobalFire2016/Global_fire_atlas_speedcrop.tif','w',**speedyr_reproj_crop_meta) as dst:\n",
    "#     dst.write(speedyr_reproj_crop)\n",
    "# with rio.open('../data/GlobalFire2016/Global_fire_atlas_dobcrop.tif','w',**dobyr_reproj_crop_meta) as dst:\n",
    "#     dst.write(dobyr_reproj_crop)\n",
    "# with rio.open('../data/GlobalFire2016/Global_fire_atlas_firelinecrop.tif','w',**firelineyr_reproj_crop_meta) as dst:\n",
    "#     dst.write(firelineyr_reproj_crop)"
   ]
  },
  {
   "cell_type": "markdown",
   "metadata": {
    "Collapsed": "false"
   },
   "source": [
    "#### Create a new tiff with fire_ID as the value\n",
    "Determine if a raster pixel is in a fire polygon and create a new tiff with fire_ID as the value"
   ]
  },
  {
   "cell_type": "code",
   "execution_count": 74,
   "metadata": {
    "Collapsed": "false"
   },
   "outputs": [],
   "source": [
    "# # From https://gis.stackexchange.com/questions/151339/rasterize-a-shapefile-with-geopandas-or-fiona-python\n",
    "# polys = poly2crop2\n",
    "# rst_fn = '../data/GlobalFire2016/template.tif'\n",
    "# out_fn = '../data/GlobalFire2016/fireid.tif'"
   ]
  },
  {
   "cell_type": "code",
   "execution_count": 75,
   "metadata": {
    "Collapsed": "false"
   },
   "outputs": [],
   "source": [
    "# rst = rio.open(rst_fn)\n",
    "# metaout = rst.meta.copy()\n",
    "# metaout.update(compress='lzw')"
   ]
  },
  {
   "cell_type": "code",
   "execution_count": 76,
   "metadata": {
    "Collapsed": "false"
   },
   "outputs": [],
   "source": [
    "# with rio.open(out_fn, 'w+',**metaout) as out:\n",
    "#     out_arr = out.read(1)\n",
    "    \n",
    "#     shapes = ((geom,value) for geom,value in zip(polys.geometry,polys.fire_ID))\n",
    "    \n",
    "#     burned = features.rasterize(shapes=shapes, fill=0, out=out_arr, transform=out.transform)\n",
    "#     out.write_band(1,burned)"
   ]
  },
  {
   "cell_type": "code",
   "execution_count": 77,
   "metadata": {
    "Collapsed": "false"
   },
   "outputs": [],
   "source": [
    "# fireid = rio.open('../data/GlobalFire2016/fireid.tif')\n",
    "# print(fireid.meta)"
   ]
  },
  {
   "cell_type": "code",
   "execution_count": 78,
   "metadata": {
    "Collapsed": "false"
   },
   "outputs": [],
   "source": [
    "# fireid_array = fireid.read()"
   ]
  },
  {
   "cell_type": "code",
   "execution_count": 79,
   "metadata": {
    "Collapsed": "false"
   },
   "outputs": [],
   "source": [
    "# fireid_array.shape"
   ]
  },
  {
   "cell_type": "code",
   "execution_count": 80,
   "metadata": {
    "Collapsed": "false"
   },
   "outputs": [],
   "source": [
    "# print(fireid_array)"
   ]
  },
  {
   "cell_type": "code",
   "execution_count": 81,
   "metadata": {
    "Collapsed": "false"
   },
   "outputs": [],
   "source": [
    "# vals = fireid_array[0][fireid_array[0]>0]\n",
    "# vals"
   ]
  },
  {
   "cell_type": "code",
   "execution_count": 82,
   "metadata": {
    "Collapsed": "false"
   },
   "outputs": [],
   "source": [
    "# len(vals)"
   ]
  },
  {
   "cell_type": "code",
   "execution_count": null,
   "metadata": {
    "Collapsed": "false"
   },
   "outputs": [],
   "source": []
  },
  {
   "cell_type": "markdown",
   "metadata": {
    "Collapsed": "false",
    "heading_collapsed": true
   },
   "source": [
    "#### Yearly TIFFs"
   ]
  },
  {
   "cell_type": "code",
   "execution_count": 83,
   "metadata": {
    "Collapsed": "false",
    "hidden": true
   },
   "outputs": [],
   "source": [
    "# from rasterio.windows import Window"
   ]
  },
  {
   "cell_type": "code",
   "execution_count": 84,
   "metadata": {
    "Collapsed": "false",
    "hidden": true
   },
   "outputs": [],
   "source": [
    "# %%time\n",
    "# diryr = rio.open('../data/GlobalFire2016/Global_fire_atlas_direction_yearly_2016.tif')\n",
    "# speedyr = rio.open('../data/GlobalFire2016/Global_fire_atlas_speed_yearly_2016.tif')\n",
    "# dobyr = rio.open('../data/GlobalFire2016/Global_fire_atlas_day_of_burn_yearly_2016.tif')\n",
    "# firelineyr = rio.open('../data/GlobalFire2016/Global_fire_atlas_fire_line_yearly_2016.tif')"
   ]
  },
  {
   "cell_type": "code",
   "execution_count": 85,
   "metadata": {
    "Collapsed": "false",
    "hidden": true
   },
   "outputs": [],
   "source": [
    "# tifs = [diryr,speedyr,dobyr,firelineyr]"
   ]
  },
  {
   "cell_type": "code",
   "execution_count": 86,
   "metadata": {
    "Collapsed": "false",
    "hidden": true
   },
   "outputs": [],
   "source": [
    "# for tif in tifs:\n",
    "#     print(\"name = \",tif.name)\n",
    "#     print(\"resolution of a pixel in units of coord reference system = \",tif.res)\n",
    "#     print(\"Image Structure tags =\",tif.tags(ns='IMAGE_STRUCTURE'))\n",
    "#     print(\"tags =\",tif.tags())\n",
    "#     print(tif.shape)\n",
    "#     print(tif.bounds)\n",
    "#     print(\"number of layers = \",tif.count)\n",
    "#     print(\"number of bands =\", tif.indexes)\n",
    "#     print(tif.meta)\n",
    "#     print(\"\\n\\n\")"
   ]
  },
  {
   "cell_type": "code",
   "execution_count": 87,
   "metadata": {
    "Collapsed": "false",
    "hidden": true
   },
   "outputs": [],
   "source": [
    "# print(diryr.meta)\n",
    "# #customcrs = diryr.meta"
   ]
  },
  {
   "cell_type": "code",
   "execution_count": 88,
   "metadata": {
    "Collapsed": "false",
    "hidden": true
   },
   "outputs": [],
   "source": [
    "# print(diryr.crs)"
   ]
  },
  {
   "cell_type": "code",
   "execution_count": 89,
   "metadata": {
    "Collapsed": "false",
    "hidden": true
   },
   "outputs": [],
   "source": [
    "# customcrs = diryr.crs"
   ]
  },
  {
   "cell_type": "markdown",
   "metadata": {
    "Collapsed": "false",
    "heading_collapsed": true
   },
   "source": [
    "#### Convert Lat/Long to CRS"
   ]
  },
  {
   "cell_type": "markdown",
   "metadata": {
    "Collapsed": "false",
    "hidden": true
   },
   "source": [
    "From StackExchange:\n",
    "\n",
    "You need to transform your points to the coordinate system of the raster. You could warp the raster to your points' coordinate system but warping rasters is a bit messy. (for R but should be similar in python)\n",
    "\n",
    "https://gis.stackexchange.com/questions/200417/very-basic-question-on-extracting-data-from-tif-raster-layer-in-r-projection-n"
   ]
  },
  {
   "cell_type": "code",
   "execution_count": 90,
   "metadata": {
    "Collapsed": "false",
    "hidden": true
   },
   "outputs": [],
   "source": [
    "# # Our desired 'fire' from the shapefile\n",
    "# fire"
   ]
  },
  {
   "cell_type": "code",
   "execution_count": 91,
   "metadata": {
    "Collapsed": "false",
    "hidden": true
   },
   "outputs": [],
   "source": [
    "# fire.crs"
   ]
  },
  {
   "cell_type": "code",
   "execution_count": 92,
   "metadata": {
    "Collapsed": "false",
    "hidden": true
   },
   "outputs": [],
   "source": [
    "# # Global Fire Atlas projection Coordinate Reference System (from website)\n",
    "# gfacrs = \"+proj=sinu +lon_0=0 +x_0=0 +y_0=0 +a=6371007.181 +b=6371007.181 +units=m +no_defs\" "
   ]
  },
  {
   "cell_type": "code",
   "execution_count": 93,
   "metadata": {
    "Collapsed": "false",
    "hidden": true,
    "scrolled": true
   },
   "outputs": [],
   "source": [
    "# fire2 = fire.to_crs(gfacrs)\n",
    "# fire2"
   ]
  },
  {
   "cell_type": "code",
   "execution_count": 94,
   "metadata": {
    "Collapsed": "false",
    "hidden": true
   },
   "outputs": [],
   "source": [
    "# fire2.geometry.name"
   ]
  },
  {
   "cell_type": "code",
   "execution_count": 95,
   "metadata": {
    "Collapsed": "false",
    "hidden": true
   },
   "outputs": [],
   "source": [
    "# fire2.crs  # Ah that is why you can't convert two columns. because when you convert one column\n",
    "# # then the entire dataframe thinks it is now in the new CRS"
   ]
  },
  {
   "cell_type": "markdown",
   "metadata": {
    "Collapsed": "false"
   },
   "source": [
    "# EDA Stats and Plots"
   ]
  },
  {
   "cell_type": "markdown",
   "metadata": {
    "Collapsed": "false"
   },
   "source": [
    "## Raster Data"
   ]
  },
  {
   "cell_type": "code",
   "execution_count": 128,
   "metadata": {
    "Collapsed": "false"
   },
   "outputs": [],
   "source": [
    "# Opening the 4 raster files in toy data (not including DOB)\n",
    "with rio.open('../toydata/Global_fire_atlas_dircrop.tif') as f1:\n",
    "    direction = f1.read(1).astype(float)\n",
    "with rio.open('../toydata/Global_fire_atlas_firelinecrop.tif') as f2:\n",
    "    fireline = f2.read(1).astype(float)\n",
    "with rio.open('../toydata/Global_fire_atlas_speedcrop.tif') as f3:\n",
    "    speed = f3.read(1)\n",
    "with rio.open('../toydata/fireid.tif') as f4:\n",
    "    fireid = f4.read(1).astype(float)"
   ]
  },
  {
   "cell_type": "code",
   "execution_count": 129,
   "metadata": {
    "Collapsed": "false"
   },
   "outputs": [],
   "source": [
    "rasters = {'direction':direction,'fireline':fireline,'speed':speed,'fireid':fireid}"
   ]
  },
  {
   "cell_type": "code",
   "execution_count": 130,
   "metadata": {
    "Collapsed": "false"
   },
   "outputs": [
    {
     "data": {
      "text/plain": [
       "array([[-9999., -9999., -9999., ..., -9999., -9999., -9999.],\n",
       "       [-9999., -9999., -9999., ..., -9999., -9999., -9999.],\n",
       "       [-9999., -9999., -9999., ..., -9999., -9999., -9999.],\n",
       "       ...,\n",
       "       [-9999., -9999., -9999., ..., -9999., -9999., -9999.],\n",
       "       [-9999., -9999., -9999., ..., -9999., -9999., -9999.],\n",
       "       [-9999., -9999., -9999., ..., -9999., -9999., -9999.]])"
      ]
     },
     "execution_count": 130,
     "metadata": {},
     "output_type": "execute_result"
    }
   ],
   "source": [
    "fireline"
   ]
  },
  {
   "cell_type": "code",
   "execution_count": 131,
   "metadata": {
    "Collapsed": "false"
   },
   "outputs": [],
   "source": [
    "from collections import Counter\n",
    "# from osgeo import gdal_array"
   ]
  },
  {
   "cell_type": "code",
   "execution_count": 132,
   "metadata": {
    "Collapsed": "false"
   },
   "outputs": [
    {
     "name": "stdout",
     "output_type": "stream",
     "text": [
      "Counter({-9999.0: 210776, 209.0: 144, 236.0: 138, 230.0: 111, 234.0: 106, 235.0: 106, 210.0: 93, 211.0: 92, 233.0: 88, 207.0: 87, 216.0: 85, 218.0: 83, 262.0: 82, 222.0: 81, 206.0: 80, 205.0: 80, 223.0: 79, 221.0: 77, 229.0: 77, 263.0: 75, 231.0: 75, 219.0: 74, 213.0: 72, 220.0: 68, 228.0: 63, 144.0: 61, 217.0: 60, 237.0: 60, 224.0: 56, 232.0: 52, 227.0: 52, 212.0: 49, 265.0: 47, 225.0: 43, 242.0: 43, 238.0: 41, 257.0: 40, 248.0: 38, 264.0: 37, 226.0: 36, 208.0: 35, 247.0: 34, 267.0: 32, 261.0: 32, 215.0: 30, 239.0: 30, 255.0: 29, 157.0: 29, 142.0: 28, 214.0: 26, 184.0: 26, 241.0: 25, 243.0: 24, 246.0: 23, 251.0: 21, 240.0: 19, 250.0: 19, 140.0: 19, 266.0: 18, 146.0: 17, 249.0: 17, 259.0: 16, 155.0: 13, 100.0: 12, 300.0: 12, 254.0: 11, 253.0: 11, 269.0: 10, 252.0: 9, 159.0: 9, 256.0: 7, 156.0: 7, 105.0: 6, 268.0: 6, 270.0: 6, 143.0: 6, 260.0: 5, 245.0: 4, 145.0: 3, 244.0: 3, 161.0: 3, 204.0: 2, 273.0: 2, 304.0: 2, 297.0: 2, 148.0: 2, 203.0: 1, 147.0: 1, 271.0: 1, 299.0: 1, 301.0: 1, 160.0: 1, 163.0: 1, 186.0: 1, 187.0: 1, 154.0: 1, 170.0: 1})\n"
     ]
    }
   ],
   "source": [
    "print(Counter(fireline.flatten()))"
   ]
  },
  {
   "cell_type": "code",
   "execution_count": 133,
   "metadata": {
    "Collapsed": "false"
   },
   "outputs": [
    {
     "data": {
      "text/plain": [
       "(470, 456)"
      ]
     },
     "execution_count": 133,
     "metadata": {},
     "output_type": "execute_result"
    }
   ],
   "source": [
    "fireline.shape"
   ]
  },
  {
   "cell_type": "markdown",
   "metadata": {
    "Collapsed": "false"
   },
   "source": [
    "Of the 214,320 pixels, 210,776 contain null values.  That roughly means 1.65% of the raster file has any fire data.  "
   ]
  },
  {
   "cell_type": "code",
   "execution_count": 140,
   "metadata": {
    "Collapsed": "false"
   },
   "outputs": [
    {
     "name": "stdout",
     "output_type": "stream",
     "text": [
      "Counter({-9999.0: 209491, 4.0: 1383, 8.0: 1084, 3.0: 841, 7.0: 540, 5.0: 539, 1.0: 442})\n"
     ]
    }
   ],
   "source": [
    "print(Counter(direction.flatten()))"
   ]
  },
  {
   "cell_type": "code",
   "execution_count": 141,
   "metadata": {
    "Collapsed": "false"
   },
   "outputs": [
    {
     "name": "stdout",
     "output_type": "stream",
     "text": [
      "Counter({-9999.0: 209465, 0.46: 675, 0.74: 487, 0.75: 223, 0.93: 153, 1.49: 145, 0.48: 141, 1.14: 126, 1.61: 106, 1.47: 105, 1.89: 86, 1.87: 63, 1.22: 57, 1.13: 55, 0.94: 51, 2.29: 46, 1.15: 42, 3.03: 37, 2.63: 36, 2.21: 35, 0.96: 34, 2.07: 34, 1.6: 33, 1.62: 32, 2.23: 31, 1.39: 29, 3.33: 26, 2.75: 26, 1.88: 26, 1.43: 25, 1.91: 23, 1.85: 23, 4.63: 22, 2.98: 22, 5.6: 22, 9.03: 22, 1.41: 21, 2.64: 20, 6.2: 19, 2.37: 19, 2.71: 19, 4.06: 19, 7.16: 18, 2.35: 18, 2.84: 18, 3.0: 18, 7.34: 18, 3.4: 18, 4.14: 17, 3.38: 17, 2.83: 17, 9.13: 17, 9.39: 17, 2.76: 16, 3.78: 16, 1.9: 16, 2.44: 16, 2.53: 16, 3.59: 16, 3.31: 15, 6.79: 15, 2.97: 15, 5.11: 15, 2.38: 15, 0.95: 15, 4.25: 14, 3.04: 14, 6.12: 14, 3.09: 14, 3.01: 14, 3.49: 14, 1.21: 14, 4.16: 14, 6.01: 14, 3.32: 13, 3.22: 13, 2.8: 13, 1.42: 13, 2.81: 13, 3.44: 12, 5.1: 12, 4.21: 12, 4.18: 12, 3.45: 12, 1.4: 12, 1.95: 12, 1.97: 11, 2.54: 11, 4.43: 11, 4.26: 11, 2.92: 11, 7.08: 11, 3.43: 11, 3.77: 11, 2.33: 11, 2.28: 11, 2.34: 11, 3.42: 11, 2.27: 11, 2.55: 10, 6.06: 10, 5.06: 10, 2.09: 10, 4.82: 10, 3.07: 10, 2.06: 10, 2.73: 10, 3.79: 10, 3.48: 9, 5.05: 9, 6.38: 9, 5.97: 9, 2.66: 9, 3.37: 9, 3.57: 9, 5.55: 9, 6.95: 9, 2.99: 9, 5.52: 8, 5.51: 8, 4.37: 8, 2.36: 8, 6.64: 8, 4.87: 8, 3.14: 8, 2.56: 8, 2.08: 8, 4.45: 8, 1.48: 8, 2.74: 8, 2.61: 8, 3.8: 8, 4.42: 8, 5.66: 8, 3.2: 8, 3.74: 8, 3.68: 7, 2.62: 7, 5.22: 7, 6.08: 7, 6.48: 7, 5.16: 7, 3.5: 7, 2.78: 7, 3.86: 7, 5.72: 7, 1.69: 7, 4.17: 7, 2.87: 7, 1.96: 7, 2.91: 7, 3.97: 6, 3.73: 6, 1.7: 6, 2.57: 6, 8.18: 6, 3.1: 6, 6.43: 6, 3.11: 6, 3.67: 6, 3.16: 6, 3.9: 6, 5.84: 6, 5.24: 6, 0.73: 6, 4.73: 5, 4.65: 5, 2.1: 5, 3.05: 5, 4.47: 5, 4.29: 5, 4.92: 5, 4.57: 5, 3.96: 5, 3.88: 5, 2.17: 5, 3.21: 5, 3.3: 5, 2.16: 5, 2.95: 5, 2.94: 5, 3.62: 5, 3.87: 5, 4.71: 4, 1.44: 4, 3.02: 4, 5.53: 4, 5.75: 4, 3.12: 4, 2.18: 4, 5.44: 4, 2.65: 4, 6.82: 4, 5.03: 4, 5.98: 4, 6.24: 4, 3.13: 4, 4.91: 4, 4.49: 4, 3.41: 4, 3.47: 4, 4.23: 4, 6.27: 4, 6.49: 4, 4.03: 4, 3.82: 4, 4.15: 3, 4.0: 3, 3.99: 3, 7.78: 3, 2.24: 3, 6.18: 3, 6.19: 3, 4.84: 3, 2.39: 3, 2.43: 3, 5.34: 3, 2.69: 3, 2.68: 3, 8.25: 3, 3.56: 3, 3.08: 3, 3.98: 2, 1.23: 2, 4.93: 2, 2.72: 2, 6.09: 2, 1.86: 2, 3.23: 2, 3.52: 2, 1.63: 2, 3.71: 2, 8.26: 2, 4.75: 2, 3.54: 2, 4.9: 2, 3.25: 2, 0.7: 2, 5.07: 2, 5.96: 2, 4.32: 2, 5.38: 2, 4.09: 2, 0.24: 2, 2.22: 2, 0.57: 2, 3.28: 2, 2.9: 2, 6.75: 2, 6.23: 2, 8.23: 2, 4.61: 2, 5.49: 2, 4.54: 2, 3.34: 2, 2.52: 2, 3.7: 1, 5.79: 1, 5.18: 1, 0.1: 1, 6.39: 1, 3.94: 1, 2.77: 1, 4.95: 1, 6.56: 1, 6.16: 1, 6.4: 1, 4.08: 1, 2.45: 1, 3.06: 1, 0.15: 1, 4.6: 1, 5.58: 1, 5.0: 1, 3.91: 1, 2.82: 1, 0.71: 1, 5.61: 1, 1.68: 1, 5.68: 1, 4.74: 1, 7.1: 1, 4.28: 1, 6.0: 1, 5.5: 1, 4.69: 1, 1.16: 1})\n"
     ]
    }
   ],
   "source": [
    "print(Counter(speed.flatten()))"
   ]
  },
  {
   "cell_type": "code",
   "execution_count": 142,
   "metadata": {
    "Collapsed": "false"
   },
   "outputs": [
    {
     "name": "stdout",
     "output_type": "stream",
     "text": [
      "Counter({-9999.0: 209465, 140.0: 2674, 189.0: 1126, 142.0: 240, 141.0: 137, 161.0: 123, 143.0: 114, 185.0: 107, 147.0: 72, 167.0: 54, 164.0: 42, 165.0: 37, 162.0: 31, 170.0: 20, 163.0: 18, 166.0: 18, 190.0: 18, 146.0: 12, 171.0: 5, 148.0: 4, 178.0: 1, 184.0: 1, 188.0: 1})\n"
     ]
    }
   ],
   "source": [
    "print(Counter(fireid.flatten()))"
   ]
  },
  {
   "cell_type": "code",
   "execution_count": null,
   "metadata": {
    "Collapsed": "false"
   },
   "outputs": [],
   "source": []
  },
  {
   "cell_type": "code",
   "execution_count": 134,
   "metadata": {
    "Collapsed": "false"
   },
   "outputs": [
    {
     "data": {
      "image/png": "[encoded data removed]",
      "text/plain": [
       "<Figure size 432x288 with 1 Axes>"
      ]
     },
     "metadata": {},
     "output_type": "display_data"
    }
   ],
   "source": [
    "# plt.figure()\n",
    "# plt.imshow(fireline, cmap='Reds')    \n",
    "# plt.show()"
   ]
  },
  {
   "cell_type": "code",
   "execution_count": 136,
   "metadata": {
    "Collapsed": "false"
   },
   "outputs": [
    {
     "data": {
      "image/png": "[encoded data removed]",
      "text/plain": [
       "<Figure size 432x288 with 1 Axes>"
      ]
     },
     "metadata": {},
     "output_type": "display_data"
    }
   ],
   "source": [
    "# from rasterio.plot import show_hist\n",
    "\n",
    "# show_hist(fireline, bins=50, lw=0.0, stacked=False, alpha=0.8, histtype='stepfilled', title=\"Histogram\")"
   ]
  },
  {
   "cell_type": "code",
   "execution_count": null,
   "metadata": {
    "Collapsed": "false"
   },
   "outputs": [],
   "source": []
  },
  {
   "cell_type": "code",
   "execution_count": null,
   "metadata": {
    "Collapsed": "false"
   },
   "outputs": [],
   "source": []
  },
  {
   "cell_type": "code",
   "execution_count": null,
   "metadata": {
    "Collapsed": "false"
   },
   "outputs": [],
   "source": []
  },
  {
   "cell_type": "markdown",
   "metadata": {
    "Collapsed": "false"
   },
   "source": [
    "### Fire Data Heatmaps"
   ]
  },
  {
   "cell_type": "code",
   "execution_count": 98,
   "metadata": {
    "Collapsed": "false"
   },
   "outputs": [],
   "source": [
    "def plot_rasters(rasters):\n",
    "    \"\"\" Plot all the fire data rasters for 2016 as heatmaps\"\"\"\n",
    "    fig = plt.figure(figsize = (20,4))\n",
    "    fig.suptitle('Bounded Fire Data showing Sparsity 2016')\n",
    "    fig.subplots_adjust(hspace=0.4)\n",
    "    i=1\n",
    "    for key,data in rasters.items():\n",
    "        ax = fig.add_subplot(1,4,i)\n",
    "        sns.heatmap(data)\n",
    "        ax.set_title(key)\n",
    "        i+=1\n",
    "    plt.savefig('HeatmapFireData.jpg')\n",
    "    plt.show()"
   ]
  },
  {
   "cell_type": "code",
   "execution_count": 99,
   "metadata": {
    "Collapsed": "false"
   },
   "outputs": [
    {
     "data": {
      "image/png": "[encoded data removed]",
      "text/plain": [
       "<Figure size 1440x288 with 8 Axes>"
      ]
     },
     "metadata": {
      "needs_background": "light"
     },
     "output_type": "display_data"
    }
   ],
   "source": [
    "# Visual of sparsity\n",
    "plot_rasters(rasters)"
   ]
  },
  {
   "cell_type": "markdown",
   "metadata": {
    "Collapsed": "false"
   },
   "source": [
    "### Fire Data Statistics"
   ]
  },
  {
   "cell_type": "code",
   "execution_count": 100,
   "metadata": {
    "Collapsed": "false"
   },
   "outputs": [],
   "source": [
    "# First create 1D array from 2D rasters\n",
    "dir1 = copy.deepcopy(direction)\n",
    "fl1 = copy.deepcopy(fireline)\n",
    "spd1 = copy.deepcopy(speed)\n",
    "fid1 = copy.deepcopy(fireid)"
   ]
  },
  {
   "cell_type": "code",
   "execution_count": 101,
   "metadata": {
    "Collapsed": "false"
   },
   "outputs": [],
   "source": [
    "dir1 = np.ravel(dir1)\n",
    "fl1 = np.ravel(fl1)\n",
    "spd1 = np.ravel(spd1)\n",
    "fid1 = np.ravel(fid1)"
   ]
  },
  {
   "cell_type": "code",
   "execution_count": 102,
   "metadata": {
    "Collapsed": "false"
   },
   "outputs": [],
   "source": [
    "onedim = {'direction':dir1,'fireline':fl1,'speed':spd1,'fireid':fid1}"
   ]
  },
  {
   "cell_type": "code",
   "execution_count": 103,
   "metadata": {
    "Collapsed": "false"
   },
   "outputs": [],
   "source": [
    "totalpixels = dir1.shape[0]"
   ]
  },
  {
   "cell_type": "code",
   "execution_count": 104,
   "metadata": {
    "Collapsed": "false"
   },
   "outputs": [
    {
     "data": {
      "image/png": "[encoded data removed]",
      "text/plain": [
       "<Figure size 720x288 with 2 Axes>"
      ]
     },
     "metadata": {
      "needs_background": "light"
     },
     "output_type": "display_data"
    },
    {
     "data": {
      "image/png": "[encoded data removed]",
      "text/plain": [
       "<Figure size 720x288 with 2 Axes>"
      ]
     },
     "metadata": {},
     "output_type": "display_data"
    },
    {
     "data": {
      "image/png": "[encoded data removed]",
      "text/plain": [
       "<Figure size 720x288 with 2 Axes>"
      ]
     },
     "metadata": {},
     "output_type": "display_data"
    },
    {
     "data": {
      "image/png": "[encoded data removed]",
      "text/plain": [
       "<Figure size 720x288 with 2 Axes>"
      ]
     },
     "metadata": {},
     "output_type": "display_data"
    }
   ],
   "source": [
    "for name,data in onedim.items():\n",
    "    fig = plt.figure(figsize = (10,4))\n",
    "    fig.suptitle(f\"{name}. Total Pixels = {totalpixels}\")\n",
    "    plt.style.use('seaborn-white')\n",
    "    ax = fig.add_subplot(1,2,1)\n",
    "    plt.hist(data)\n",
    "    ax.set_title(\"All Data\")\n",
    "    ax = fig.add_subplot(1,2,2)\n",
    "    plt.hist(data[data>-10],bins=20)\n",
    "    ax.set_title(\"Null Data Ignored\")\n",
    "    plt.show()"
   ]
  },
  {
   "cell_type": "markdown",
   "metadata": {
    "Collapsed": "false"
   },
   "source": [
    "# Setup"
   ]
  },
  {
   "cell_type": "code",
   "execution_count": null,
   "metadata": {
    "Collapsed": "false"
   },
   "outputs": [],
   "source": []
  }
 ],
 "metadata": {
  "kernelspec": {
   "display_name": "Python 3",
   "language": "python",
   "name": "python3"
  },
  "language_info": {
   "codemirror_mode": {
    "name": "ipython",
    "version": 3
   },
   "file_extension": ".py",
   "mimetype": "text/x-python",
   "name": "python",
   "nbconvert_exporter": "python",
   "pygments_lexer": "ipython3",
   "version": "3.7.4"
  },
  "toc": {
   "base_numbering": 1,
   "nav_menu": {},
   "number_sections": true,
   "sideBar": true,
   "skip_h1_title": false,
   "title_cell": "Table of Contents",
   "title_sidebar": "Contents",
   "toc_cell": false,
   "toc_position": {
    "height": "calc(100% - 180px)",
    "left": "10px",
    "top": "150px",
    "width": "427px"
   },
   "toc_section_display": true,
   "toc_window_display": true
  }
 },
 "nbformat": 4,
 "nbformat_minor": 4
}
