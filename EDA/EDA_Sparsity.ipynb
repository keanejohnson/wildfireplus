{
 "cells": [
  {
   "cell_type": "markdown",
   "metadata": {
    "Collapsed": "true"
   },
   "source": [
    "# Setup"
   ]
  },
  {
   "cell_type": "code",
   "execution_count": 1,
   "metadata": {
    "Collapsed": "false"
   },
   "outputs": [
    {
     "name": "stdout",
     "output_type": "stream",
     "text": [
      "# conda environments:\n",
      "#\n",
      "base                     C:\\DDRIVE\\ProgramFiles\\Anaconda3\n",
      "wildfire              *  C:\\DDRIVE\\ProgramFiles\\Anaconda3\\envs\\wildfire\n",
      "\n"
     ]
    }
   ],
   "source": [
    "!conda info --envs"
   ]
  },
  {
   "cell_type": "code",
   "execution_count": 73,
   "metadata": {
    "Collapsed": "false"
   },
   "outputs": [
    {
     "name": "stdout",
     "output_type": "stream",
     "text": [
      "Python Version = 3.7.6 | packaged by conda-forge | (default, Jan  7 2020, 21:48:41) [MSC v.1916 64 bit (AMD64)]\n",
      "Pandas Version = 1.0.1\n",
      "Geopandas Version = 0.7.0\n",
      "rasterio version = 3.0.4\n"
     ]
    }
   ],
   "source": [
    "import pandas as pd\n",
    "import matplotlib.pyplot as plt\n",
    "import sys\n",
    "import csv\n",
    "import numpy as np\n",
    "import os\n",
    "import sqlite3\n",
    "import copy\n",
    "from dbfread import DBF\n",
    "import geopandas as gpd\n",
    "import fiona\n",
    "import pprint\n",
    "import folium\n",
    "import descartes\n",
    "import rasterio as rio\n",
    "from rasterio.plot import plotting_extent\n",
    "from rasterio.warp import calculate_default_transform, reproject, Resampling\n",
    "from rasterio import features\n",
    "import rasterio.mask\n",
    "import earthpy as et\n",
    "import earthpy.spatial as es\n",
    "import earthpy.plot as ep\n",
    "import pickle\n",
    "from scipy import stats\n",
    "from rasterio.windows import Window\n",
    "from numpy import nan\n",
    "import seaborn as sns\n",
    "\n",
    "print(f\"Python Version = {sys.version}\")\n",
    "print(f\"Pandas Version = {pd.__version__}\")\n",
    "print(f\"Geopandas Version = {gpd.__version__}\")\n",
    "print(f\"rasterio version = {rio._base.gdal_version()}\")"
   ]
  },
  {
   "cell_type": "markdown",
   "metadata": {
    "Collapsed": "true",
    "heading_collapsed": true
   },
   "source": [
    "# Definitions"
   ]
  },
  {
   "cell_type": "markdown",
   "metadata": {
    "Collapsed": "false",
    "hidden": true
   },
   "source": [
    "1) Fine Fuel Moisture Code\n",
    "The Fine Fuel Moisture Code (FFMC) is a numeric rating of the moisture content of litter and other cured fine fuels. This code is an indicator of the relative ease of ignition and the flammability of fine fuel.\n",
    "\n",
    "2) Duff Moisture Code\n",
    "The Duff Moisture Code (DMC) is a numeric rating of the average moisture content of loosely compacted organic layers of moderate depth. This code gives an indication of fuel consumption in moderate duff layers and medium-size woody material.\n",
    "\n",
    "3) Drought Code\n",
    "The Drought Code (DC) is a numeric rating of the average moisture content of deep, compact organic layers. This code is a useful indicator of seasonal drought effects on forest fuels and the amount of smoldering in deep duff layers and large logs.\n",
    "\n",
    "4)  Initial Spread Index\n",
    "The Initial Spread Index (ISI) is a numeric rating of the expected rate of fire spread. It combines the effects of wind and the FFMC on rate of spread without the influence of variable quantities of fuel.\n",
    "\n",
    "https://cwfis.cfs.nrcan.gc.ca/background/summary/fwi\n",
    "\n",
    "5) Temp\n",
    "Temperature in Celsius degrees\n",
    "\n",
    "6) RH\n",
    "Relative humidity in %\n",
    "\n",
    "7) Wind\n",
    "Wind speed in km/h\n",
    "\n",
    "8) Rain\n",
    "Outside rain in mm/m2\n",
    "\n",
    "9) Area\n",
    "The burned area of the forest (in ha), ha = hectare = 2.47 acres\n",
    "\n",
    "10) X\n",
    "x-axis spatial coordinate within the Montesinho park map: 1 to 9 2\n",
    "\n",
    "11) Y\n",
    "y-axis spatial coordinate within the Montesinho park map: 2 to 9 3"
   ]
  },
  {
   "cell_type": "markdown",
   "metadata": {
    "Collapsed": "false",
    "hidden": true
   },
   "source": [
    "Literature:\n",
    "\n",
    "https://news.uci.edu/2019/09/17/uci-team-uses-machine-learning-to-help-tell-which-wildfires-will-burn-out-of-control/\n",
    "\n",
    "In the original paper (Portugal - Montesinho fires), the best result (predicting burned area) was only using the 4 weather conditions: RH/Wind/Rain/Temp, and an SVM.\n",
    "\n",
    "This: https://datasetsearch.research.google.com/search?query=wildfire%20area&docid=fchFFzqh0O3qjX3PAAAAAA%3D%3D has georeferenced and date/time referenced with areas. Could combine with weather data for those dates/times."
   ]
  },
  {
   "cell_type": "markdown",
   "metadata": {
    "Collapsed": "true"
   },
   "source": [
    "# Query shape of datasets, type, feature names and how they work together"
   ]
  },
  {
   "cell_type": "code",
   "execution_count": 5,
   "metadata": {
    "Collapsed": "false"
   },
   "outputs": [
    {
     "data": {
      "text/plain": [
       "'C:\\\\DDRIVE\\\\W210 Capstone\\\\wildfireplus\\\\EDA'"
      ]
     },
     "execution_count": 5,
     "metadata": {},
     "output_type": "execute_result"
    }
   ],
   "source": [
    "os.getcwd()"
   ]
  },
  {
   "cell_type": "markdown",
   "metadata": {
    "Collapsed": "false"
   },
   "source": [
    "## Fire Data  \n",
    "\n",
    "In the 'Laura EDA-Geo_Env.ipynb' you can see all the global data. Here we  have only pulled the 2016 California data to do further EDA."
   ]
  },
  {
   "cell_type": "markdown",
   "metadata": {
    "Collapsed": "true",
    "heading_collapsed": true
   },
   "source": [
    "### PRJ file - CRS Descriptions"
   ]
  },
  {
   "cell_type": "code",
   "execution_count": 4,
   "metadata": {
    "Collapsed": "false",
    "hidden": true
   },
   "outputs": [
    {
     "name": "stdout",
     "output_type": "stream",
     "text": [
      "Ignitions Prj file contents = GEOGCS[\"WGS 84\",DATUM[\"WGS_1984\",SPHEROID[\"WGS 84\",6378137,298.257223563]],PRIMEM[\"Greenwich\",0],UNIT[\"degree\",0.0174532925199433]]\n",
      "Perimeter Prj file contents = GEOGCS[\"WGS 84\",DATUM[\"WGS_1984\",SPHEROID[\"WGS 84\",6378137,298.257223563]],PRIMEM[\"Greenwich\",0],UNIT[\"degree\",0.0174532925199433]]\n"
     ]
    }
   ],
   "source": [
    "with open('../data/GlobalFire2016/Global_fire_atlas_V1_ignitions_2016/Global_fire_atlas_V1_ignitions_2016.prj') as f1:\n",
    "    print(f\"Ignitions Prj file contents = {f1.read()}\")\n",
    "    \n",
    "with open('../data/GlobalFire2016/Global_fire_atlas_V1_perimeter_2016/Global_fire_atlas_V1_perimeter_2016.prj','r') as f2:\n",
    "    print(f\"Perimeter Prj file contents = {f2.read()}\")    "
   ]
  },
  {
   "cell_type": "markdown",
   "metadata": {
    "Collapsed": "false",
    "hidden": true
   },
   "source": [
    "The above mean:\n",
    "- GEOGCS: Geographic coordinate reference system (vs. a projected coordinate system)\n",
    "- WGS 84 : the name of the geographic coordinate reference system\n",
    "- WGS_1984: The name of the DATUM\n",
    "- SPHEROID: Used for the reference system with the semi major axis = 6378137 m and inverse-flattening ratio of 298.257223563\n",
    "- PRIMEM: Greenwich is prime meridian where longitude is set as 0\n",
    "- UNIT: measurement units of coordinate system, in degrees, where 0.01745.. is the conversion from radians to the units here(degrees)"
   ]
  },
  {
   "cell_type": "markdown",
   "metadata": {
    "Collapsed": "false"
   },
   "source": [
    "### California - GEOTiffs and GPD Dataframes"
   ]
  },
  {
   "cell_type": "markdown",
   "metadata": {
    "Collapsed": "true",
    "heading_collapsed": true
   },
   "source": [
    "Reimport and engineer the features appropriately\n",
    "\n",
    "First, don't combine the shp files (as in 2.4.2.3). Instead, create 3 dataframes:  \n",
    "1) fire ID and all the features (except geometry)  \n",
    "2) fire ID and POLYGON  \n",
    "3) fire ID and POINT (ignition)  "
   ]
  },
  {
   "cell_type": "code",
   "execution_count": 9,
   "metadata": {
    "Collapsed": "false",
    "hidden": true
   },
   "outputs": [
    {
     "name": "stdout",
     "output_type": "stream",
     "text": [
      "Wall time: 2min 19s\n"
     ]
    }
   ],
   "source": [
    "%%time\n",
    "ign_gdf = gpd.read_file('../data/GlobalFire2016/Global_fire_atlas_V1_ignitions_2016/Global_fire_atlas_V1_ignitions_2016.shp')\n",
    "poly_gdf = gpd.read_file('../data/GlobalFire2016/Global_fire_atlas_V1_perimeter_2016/Global_fire_atlas_V1_perimeter_2016.shp')"
   ]
  },
  {
   "cell_type": "code",
   "execution_count": 14,
   "metadata": {
    "Collapsed": "false",
    "hidden": true
   },
   "outputs": [],
   "source": [
    "# Global Fire Atlas GEOTiff projection Coordinate Reference System (from website)\n",
    "gfacrs = \"+proj=sinu +lon_0=0 +x_0=0 +y_0=0 +a=6371007.181 +b=6371007.181 +units=m +no_defs\" "
   ]
  },
  {
   "cell_type": "markdown",
   "metadata": {
    "Collapsed": "true",
    "heading_collapsed": true
   },
   "source": [
    "#### CA State Boundaries"
   ]
  },
  {
   "cell_type": "markdown",
   "metadata": {
    "Collapsed": "false",
    "hidden": true
   },
   "source": [
    "From https://data.ca.gov/dataset/ca-geographic-boundaries/resource/3db1e426-fb51-44f5-82d5-a54d7c6e188b"
   ]
  },
  {
   "cell_type": "code",
   "execution_count": 10,
   "metadata": {
    "Collapsed": "false",
    "hidden": true
   },
   "outputs": [
    {
     "name": "stdout",
     "output_type": "stream",
     "text": [
      "Wall time: 112 ms\n"
     ]
    }
   ],
   "source": [
    "%%time\n",
    "CA_gdf = gpd.read_file('../data/ca-state-boundary/CA_state_TIGER2016.shp')"
   ]
  },
  {
   "cell_type": "code",
   "execution_count": 11,
   "metadata": {
    "Collapsed": "false",
    "hidden": true
   },
   "outputs": [
    {
     "data": {
      "text/html": [
       "<div>\n",
       "<style scoped>\n",
       "    .dataframe tbody tr th:only-of-type {\n",
       "        vertical-align: middle;\n",
       "    }\n",
       "\n",
       "    .dataframe tbody tr th {\n",
       "        vertical-align: top;\n",
       "    }\n",
       "\n",
       "    .dataframe thead th {\n",
       "        text-align: right;\n",
       "    }\n",
       "</style>\n",
       "<table border=\"1\" class=\"dataframe\">\n",
       "  <thead>\n",
       "    <tr style=\"text-align: right;\">\n",
       "      <th></th>\n",
       "      <th>REGION</th>\n",
       "      <th>DIVISION</th>\n",
       "      <th>STATEFP</th>\n",
       "      <th>STATENS</th>\n",
       "      <th>GEOID</th>\n",
       "      <th>STUSPS</th>\n",
       "      <th>NAME</th>\n",
       "      <th>LSAD</th>\n",
       "      <th>MTFCC</th>\n",
       "      <th>FUNCSTAT</th>\n",
       "      <th>ALAND</th>\n",
       "      <th>AWATER</th>\n",
       "      <th>INTPTLAT</th>\n",
       "      <th>INTPTLON</th>\n",
       "      <th>geometry</th>\n",
       "    </tr>\n",
       "  </thead>\n",
       "  <tbody>\n",
       "    <tr>\n",
       "      <th>0</th>\n",
       "      <td>4</td>\n",
       "      <td>9</td>\n",
       "      <td>06</td>\n",
       "      <td>01779778</td>\n",
       "      <td>06</td>\n",
       "      <td>CA</td>\n",
       "      <td>California</td>\n",
       "      <td>00</td>\n",
       "      <td>G4000</td>\n",
       "      <td>A</td>\n",
       "      <td>403501101370</td>\n",
       "      <td>20466718403</td>\n",
       "      <td>+37.1551773</td>\n",
       "      <td>-119.5434183</td>\n",
       "      <td>MULTIPOLYGON (((-13317677.375 3930590.808, -13...</td>\n",
       "    </tr>\n",
       "  </tbody>\n",
       "</table>\n",
       "</div>"
      ],
      "text/plain": [
       "  REGION DIVISION STATEFP   STATENS GEOID STUSPS        NAME LSAD  MTFCC  \\\n",
       "0      4        9      06  01779778    06     CA  California   00  G4000   \n",
       "\n",
       "  FUNCSTAT         ALAND       AWATER     INTPTLAT      INTPTLON  \\\n",
       "0        A  403501101370  20466718403  +37.1551773  -119.5434183   \n",
       "\n",
       "                                            geometry  \n",
       "0  MULTIPOLYGON (((-13317677.375 3930590.808, -13...  "
      ]
     },
     "execution_count": 11,
     "metadata": {},
     "output_type": "execute_result"
    }
   ],
   "source": [
    "CA_gdf"
   ]
  },
  {
   "cell_type": "code",
   "execution_count": 12,
   "metadata": {
    "Collapsed": "false",
    "hidden": true
   },
   "outputs": [
    {
     "data": {
      "text/plain": [
       "<matplotlib.axes._subplots.AxesSubplot at 0x26a08b58448>"
      ]
     },
     "execution_count": 12,
     "metadata": {},
     "output_type": "execute_result"
    },
    {
     "data": {
      "image/png": "[encoded data removed]",
      "text/plain": [
       "<Figure size 432x288 with 1 Axes>"
      ]
     },
     "metadata": {
      "needs_background": "light"
     },
     "output_type": "display_data"
    }
   ],
   "source": [
    "CA_gdf.plot()"
   ]
  },
  {
   "cell_type": "markdown",
   "metadata": {
    "Collapsed": "false",
    "heading_collapsed": true
   },
   "source": [
    "#### Crop rasters to California"
   ]
  },
  {
   "cell_type": "markdown",
   "metadata": {
    "Collapsed": "false",
    "hidden": true
   },
   "source": [
    "From Earth  data science: https://www.earthdatascience.org/courses/use-data-open-source-python/intro-raster-data-python/raster-data-processing/crop-raster-data-with-shapefile-in-python/"
   ]
  },
  {
   "cell_type": "code",
   "execution_count": null,
   "metadata": {
    "Collapsed": "false",
    "hidden": true
   },
   "outputs": [],
   "source": [
    "# Raster Data opened by rio is diryr\n",
    "print(diryr.bounds)"
   ]
  },
  {
   "cell_type": "code",
   "execution_count": 288,
   "metadata": {
    "Collapsed": "false",
    "hidden": true
   },
   "outputs": [
    {
     "name": "stdout",
     "output_type": "stream",
     "text": [
      "crop extent crs = \n",
      " {'init': 'epsg:3857'}\n",
      "tiff crs = \n",
      " PROJCS[\"unnamed\",GEOGCS[\"Unknown datum based upon the custom spheroid\",DATUM[\"Not_specified_based_on_custom_spheroid\",SPHEROID[\"Custom spheroid\",6371007.181,0]],PRIMEM[\"Greenwich\",0],UNIT[\"degree\",0.0174532925199433,AUTHORITY[\"EPSG\",\"9122\"]]],PROJECTION[\"Sinusoidal\"],PARAMETER[\"longitude_of_center\",0],PARAMETER[\"false_easting\",0],PARAMETER[\"false_northing\",0],UNIT[\"metre\",1,AUTHORITY[\"EPSG\",\"9001\"]],AXIS[\"Easting\",EAST],AXIS[\"Northing\",NORTH]]\n"
     ]
    }
   ],
   "source": [
    "# Crop extent: CA_gdf\n",
    "print('crop extent crs = \\n', CA_gdf.crs)\n",
    "print('tiff crs = \\n', diryr.crs)"
   ]
  },
  {
   "cell_type": "code",
   "execution_count": 289,
   "metadata": {
    "Collapsed": "false",
    "hidden": true
   },
   "outputs": [],
   "source": [
    "# Set destination CRS\n",
    "dst_crs = CA_gdf.crs"
   ]
  },
  {
   "cell_type": "code",
   "execution_count": 290,
   "metadata": {
    "Collapsed": "false",
    "hidden": true
   },
   "outputs": [
    {
     "name": "stdout",
     "output_type": "stream",
     "text": [
      "Wall time: 121 ms\n"
     ]
    }
   ],
   "source": [
    "%%time\n",
    "# Calculate the transform using the rasterio warp function\n",
    "transform,width,height = calculate_default_transform(diryr.crs,dst_crs,diryr.width,diryr.height,*diryr.bounds)"
   ]
  },
  {
   "cell_type": "code",
   "execution_count": 291,
   "metadata": {
    "Collapsed": "false",
    "hidden": true
   },
   "outputs": [
    {
     "name": "stdout",
     "output_type": "stream",
     "text": [
      "Wall time: 1 ms\n"
     ]
    }
   ],
   "source": [
    "%%time\n",
    "# Set the new meta data for the projected raster file\n",
    "kwargs = diryr.meta.copy()\n",
    "kwargs.update({'crs':dst_crs,\n",
    "              'transform':transform,\n",
    "              'width':width,\n",
    "              'height':height\n",
    "              })"
   ]
  },
  {
   "cell_type": "code",
   "execution_count": 292,
   "metadata": {
    "Collapsed": "false",
    "hidden": true
   },
   "outputs": [
    {
     "name": "stdout",
     "output_type": "stream",
     "text": [
      "Wall time: 10min 33s\n"
     ]
    }
   ],
   "source": [
    "%%time\n",
    "# write the new raster file by using the rasterio reproject function\n",
    "with rio.open('../data/GlobalFire2016/Global_fire_atlas_direction_yearly_2016_reproj.tif','w',**kwargs) as dst:\n",
    "    for i in range(1, diryr.count + 1):\n",
    "        reproject(\n",
    "            source = rio.band(diryr,i),\n",
    "            destination=rio.band(dst,i),\n",
    "            diryr_transform = diryr.transform,\n",
    "            diryr_crs = diryr.crs,\n",
    "            dst_transform = transform,\n",
    "            dst_crs = dst_crs,\n",
    "            resampling=Resampling.nearest)"
   ]
  },
  {
   "cell_type": "code",
   "execution_count": 295,
   "metadata": {
    "Collapsed": "false",
    "hidden": true,
    "scrolled": true
   },
   "outputs": [
    {
     "name": "stdout",
     "output_type": "stream",
     "text": [
      "{'driver': 'GTiff', 'dtype': 'int32', 'nodata': -9999.0, 'width': 78580, 'height': 38174, 'count': 1, 'crs': CRS.from_epsg(3857), 'transform': Affine(509.9863732168427, 0.0, -20037508.33380717,\n",
      "       0.0, -509.9928633270912, 11068715.657331526)}\n",
      "Wall time: 43 ms\n"
     ]
    }
   ],
   "source": [
    "%%time\n",
    "# Open the new reprojected geotiff\n",
    "diryr_reproj = rio.open('../data/GlobalFire2016/Global_fire_atlas_direction_yearly_2016_reproj.tif')\n",
    "print(diryr_reproj.meta)"
   ]
  },
  {
   "cell_type": "code",
   "execution_count": 296,
   "metadata": {
    "Collapsed": "false",
    "hidden": true
   },
   "outputs": [
    {
     "name": "stdout",
     "output_type": "stream",
     "text": [
      "crop extent crs = \n",
      " {'init': 'epsg:3857'}\n",
      "tiff crs = \n",
      " EPSG:3857\n",
      "Wall time: 1e+03 µs\n"
     ]
    }
   ],
   "source": [
    "%%time\n",
    "# Crop extent: CA_gdf - crop to the boundaries of California, which should work now that both raster \n",
    "# and shapefile are on the same CRS\n",
    "print('crop extent crs = \\n', CA_gdf.crs)\n",
    "print('tiff crs = \\n', diryr_reproj.crs)"
   ]
  },
  {
   "cell_type": "code",
   "execution_count": 297,
   "metadata": {
    "Collapsed": "false",
    "hidden": true
   },
   "outputs": [
    {
     "name": "stdout",
     "output_type": "stream",
     "text": [
      "Wall time: 2.16 s\n"
     ]
    }
   ],
   "source": [
    "%%time\n",
    "# Use the earthpy.spatial function to crop the tif by the shapefile\n",
    "diryr_reproj_crop, diryr_reproj_crop_meta = es.crop_image(diryr_reproj,CA_gdf)"
   ]
  },
  {
   "cell_type": "code",
   "execution_count": 298,
   "metadata": {
    "Collapsed": "false",
    "hidden": true
   },
   "outputs": [
    {
     "name": "stdout",
     "output_type": "stream",
     "text": [
      "cropped data (1, 2608, 2260)\n",
      "original data (31200, 81600)\n"
     ]
    }
   ],
   "source": [
    "print(\"cropped data\", diryr_reproj_crop.shape)\n",
    "print(\"original data\", diryr.shape)"
   ]
  },
  {
   "cell_type": "code",
   "execution_count": 299,
   "metadata": {
    "Collapsed": "false",
    "hidden": true
   },
   "outputs": [],
   "source": [
    "# Use the affine transformation for the CRS to define the extents\n",
    "diryr_reproj_crop_affine = diryr_reproj_crop_meta[\"transform\"]\n",
    "diryr_reproj_extent = plotting_extent(diryr_reproj_crop[0],diryr_reproj_crop_affine)"
   ]
  },
  {
   "cell_type": "code",
   "execution_count": 300,
   "metadata": {
    "Collapsed": "false",
    "hidden": true
   },
   "outputs": [
    {
     "data": {
      "text/plain": [
       "{'driver': 'GTiff',\n",
       " 'dtype': 'int32',\n",
       " 'nodata': -9999.0,\n",
       " 'width': 2260,\n",
       " 'height': 2608,\n",
       " 'count': 1,\n",
       " 'crs': CRS.from_epsg(3857),\n",
       " 'transform': Affine(509.9863732168427, 0.0, -13857493.46316547,\n",
       "        0.0, -509.9928633270912, 5162488.3071404835)}"
      ]
     },
     "execution_count": 300,
     "metadata": {},
     "output_type": "execute_result"
    }
   ],
   "source": [
    "diryr_reproj_crop_meta"
   ]
  },
  {
   "cell_type": "code",
   "execution_count": 111,
   "metadata": {
    "Collapsed": "false",
    "collapsed": true,
    "hidden": true,
    "jupyter": {
     "outputs_hidden": true
    }
   },
   "outputs": [
    {
     "data": {
      "image/png": "[encoded data removed]",
      "text/plain": [
       "<Figure size 720x1152 with 1 Axes>"
      ]
     },
     "metadata": {},
     "output_type": "display_data"
    }
   ],
   "source": [
    "fig,ax = plt.subplots(figsize=(10,16))\n",
    "ep.plot_bands(diryr_reproj_crop,\n",
    "              extent = diryr_reproj_extent,\n",
    "              cmap='Greys',\n",
    "              title = 'Direction',\n",
    "              scale=False,\n",
    "              ax=ax,\n",
    "              cbar=False)\n",
    "\n",
    "CA_gdf.plot(ax=ax,alpha=0.2)\n",
    "ax.set_axis_off()\n",
    "plt.show()"
   ]
  },
  {
   "cell_type": "code",
   "execution_count": 301,
   "metadata": {
    "Collapsed": "false",
    "hidden": true
   },
   "outputs": [
    {
     "data": {
      "text/plain": [
       "array([5, 5, 4, ..., 4, 4, 4])"
      ]
     },
     "execution_count": 301,
     "metadata": {},
     "output_type": "execute_result"
    }
   ],
   "source": [
    "vals = diryr_reproj_crop[0][diryr_reproj_crop[0]>0]\n",
    "vals"
   ]
  },
  {
   "cell_type": "code",
   "execution_count": 95,
   "metadata": {
    "Collapsed": "false",
    "hidden": true
   },
   "outputs": [
    {
     "name": "stdout",
     "output_type": "stream",
     "text": [
      "<class 'numpy.ndarray'> (18878,)\n"
     ]
    },
    {
     "data": {
      "text/plain": [
       "DescribeResult(nobs=18878, minmax=(1, 8), mean=4.827788960694989, variance=4.573986433819962, skewness=0.01438966604151448, kurtosis=-0.8866531007320164)"
      ]
     },
     "execution_count": 95,
     "metadata": {},
     "output_type": "execute_result"
    }
   ],
   "source": [
    "print(type(vals),vals.shape)\n",
    "stats.describe(vals)"
   ]
  },
  {
   "cell_type": "markdown",
   "metadata": {
    "Collapsed": "false",
    "heading_collapsed": true
   },
   "source": [
    "##### Transform Ignition and polygons of final fire sizes to CA CRS"
   ]
  },
  {
   "cell_type": "code",
   "execution_count": 109,
   "metadata": {
    "Collapsed": "false",
    "hidden": true
   },
   "outputs": [
    {
     "name": "stderr",
     "output_type": "stream",
     "text": [
      "C:\\DDRIVE\\ProgramData\\Anaconda3\\envs\\wildfire\\lib\\site-packages\\pyproj\\crs.py:77: FutureWarning: '+init=<authority>:<code>' syntax is deprecated. '<authority>:<code>' is the preferred initialization method.\n",
      "  return _prepare_from_string(\" \".join(pjargs))\n",
      "C:\\DDRIVE\\ProgramData\\Anaconda3\\envs\\wildfire\\lib\\site-packages\\pyproj\\crs.py:77: FutureWarning: '+init=<authority>:<code>' syntax is deprecated. '<authority>:<code>' is the preferred initialization method.\n",
      "  return _prepare_from_string(\" \".join(pjargs))\n"
     ]
    }
   ],
   "source": [
    "# transform CRS\n",
    "ign2 = ign_gdf.to_crs(dst_crs)\n",
    "poly2 = poly_gdf.to_crs(dst_crs)"
   ]
  },
  {
   "cell_type": "code",
   "execution_count": 114,
   "metadata": {
    "Collapsed": "false",
    "hidden": true
   },
   "outputs": [],
   "source": [
    "# set area to crop to\n",
    "bb = CA_gdf.envelope"
   ]
  },
  {
   "cell_type": "code",
   "execution_count": 116,
   "metadata": {
    "Collapsed": "false",
    "hidden": true
   },
   "outputs": [],
   "source": [
    "# Crop polygons of final fire sizes using geopandas overlay\n",
    "df2 = gpd.GeoDataFrame(gpd.GeoSeries(bb),columns=['geometry'])\n",
    "poly2crop = gpd.overlay(df2,poly2,how='intersection')"
   ]
  },
  {
   "cell_type": "code",
   "execution_count": 117,
   "metadata": {
    "Collapsed": "false",
    "hidden": true
   },
   "outputs": [],
   "source": [
    "# Use dataframe slicing for the ignition point data.\n",
    "xmin,ymin,xmax,ymax=CA_gdf.total_bounds\n",
    "ign2crop = ign2.cx[xmin:xmax,ymin:ymax]"
   ]
  },
  {
   "cell_type": "code",
   "execution_count": 131,
   "metadata": {
    "Collapsed": "false",
    "hidden": true
   },
   "outputs": [
    {
     "data": {
      "image/png": "[encoded data removed]",
      "text/plain": [
       "<Figure size 720x1152 with 1 Axes>"
      ]
     },
     "metadata": {},
     "output_type": "display_data"
    }
   ],
   "source": [
    "fig,ax = plt.subplots(figsize=(10,16))\n",
    "ep.plot_bands(diryr_reproj_crop,\n",
    "              extent = diryr_reproj_extent,\n",
    "              cmap='Greys',\n",
    "              title = 'Direction',\n",
    "              scale=False,\n",
    "              ax=ax,\n",
    "              cbar=False)\n",
    "\n",
    "CA_gdf.plot(ax=ax, alpha=0.2)\n",
    "ign2crop.plot(ax=ax,marker='x',color='green',markersize=12)\n",
    "poly2crop.plot(ax=ax,alpha=0.4)\n",
    "ax.set_axis_off()\n",
    "plt.show()"
   ]
  },
  {
   "cell_type": "markdown",
   "metadata": {
    "Collapsed": "false"
   },
   "source": [
    "#### Create new bounding box for smaller section of CA and convert CRS\n",
    "Repeat above process for cropping"
   ]
  },
  {
   "cell_type": "code",
   "execution_count": 155,
   "metadata": {
    "Collapsed": "false"
   },
   "outputs": [
    {
     "name": "stdout",
     "output_type": "stream",
     "text": [
      "{'init': 'epsg:4326'}\n"
     ]
    }
   ],
   "source": [
    "# Set source CRS - this is the google maps CRS\n",
    "bb_gdf_orig.crs = {'init':'epsg:4326'}\n",
    "print(bb_gdf_orig.crs)"
   ]
  },
  {
   "cell_type": "code",
   "execution_count": 165,
   "metadata": {
    "Collapsed": "false"
   },
   "outputs": [
    {
     "name": "stdout",
     "output_type": "stream",
     "text": [
      "0    POLYGON ((-122.00000 36.80000, -119.91200 36.8...\n",
      "Name: geometry, dtype: geometry\n"
     ]
    }
   ],
   "source": [
    "# Create bounding box polygon from lat long pulled from Gmaps\n",
    "from shapely.geometry import Polygon\n",
    "bb_long = [-122, -119.912,-119.912,-122,-122 ]\n",
    "bb_lat = [36.8, 36.8, 35.06, 35.06,36.8]\n",
    "bb_poly = Polygon(zip(bb_long,bb_lat))\n",
    "bb_gdf2 = gpd.GeoDataFrame(index=[0],crs=bb_gdf_orig.crs,geometry = [bb_poly])\n",
    "print(bb_gdf2.geometry)"
   ]
  },
  {
   "cell_type": "code",
   "execution_count": 167,
   "metadata": {
    "Collapsed": "false"
   },
   "outputs": [
    {
     "name": "stderr",
     "output_type": "stream",
     "text": [
      "C:\\DDRIVE\\ProgramData\\Anaconda3\\envs\\wildfire\\lib\\site-packages\\pyproj\\crs.py:77: FutureWarning: '+init=<authority>:<code>' syntax is deprecated. '<authority>:<code>' is the preferred initialization method.\n",
      "  return _prepare_from_string(\" \".join(pjargs))\n"
     ]
    },
    {
     "data": {
      "text/html": [
       "<div>\n",
       "<style scoped>\n",
       "    .dataframe tbody tr th:only-of-type {\n",
       "        vertical-align: middle;\n",
       "    }\n",
       "\n",
       "    .dataframe tbody tr th {\n",
       "        vertical-align: top;\n",
       "    }\n",
       "\n",
       "    .dataframe thead th {\n",
       "        text-align: right;\n",
       "    }\n",
       "</style>\n",
       "<table border=\"1\" class=\"dataframe\">\n",
       "  <thead>\n",
       "    <tr style=\"text-align: right;\">\n",
       "      <th></th>\n",
       "      <th>geometry</th>\n",
       "    </tr>\n",
       "  </thead>\n",
       "  <tbody>\n",
       "    <tr>\n",
       "      <th>0</th>\n",
       "      <td>POLYGON ((-13580977.877 4411265.910, -13348542...</td>\n",
       "    </tr>\n",
       "  </tbody>\n",
       "</table>\n",
       "</div>"
      ],
      "text/plain": [
       "                                            geometry\n",
       "0  POLYGON ((-13580977.877 4411265.910, -13348542..."
      ]
     },
     "execution_count": 167,
     "metadata": {},
     "output_type": "execute_result"
    }
   ],
   "source": [
    "# Change CRS of polygon to match other work here\n",
    "bb_gdf2 = bb_gdf2.to_crs(epsg=3857)\n",
    "bb_gdf2"
   ]
  },
  {
   "cell_type": "code",
   "execution_count": 168,
   "metadata": {
    "Collapsed": "false"
   },
   "outputs": [
    {
     "data": {
      "image/png": "[encoded data removed]",
      "text/plain": [
       "<Figure size 720x1152 with 1 Axes>"
      ]
     },
     "metadata": {},
     "output_type": "display_data"
    }
   ],
   "source": [
    "# Plotting\n",
    "fig,ax = plt.subplots(figsize=(10,16))\n",
    "ep.plot_bands(diryr_reproj_crop,\n",
    "              extent = diryr_reproj_extent,\n",
    "              cmap='Greys',\n",
    "              title = 'Direction',\n",
    "              scale=False,\n",
    "              ax=ax,\n",
    "              cbar=False)\n",
    "\n",
    "CA_gdf.plot(ax=ax, alpha=0.2)\n",
    "ign2crop.plot(ax=ax,marker='x',color='green',markersize=12)\n",
    "poly2crop.plot(ax=ax,alpha=0.4)\n",
    "bb_gdf2.plot(ax=ax,color='green',alpha=0.2)\n",
    "ax.set_axis_off()\n",
    "plt.show()"
   ]
  },
  {
   "cell_type": "markdown",
   "metadata": {
    "Collapsed": "false",
    "heading_collapsed": true
   },
   "source": [
    "#### Convert CRS for remaining raster files"
   ]
  },
  {
   "cell_type": "code",
   "execution_count": 180,
   "metadata": {
    "Collapsed": "false",
    "hidden": true
   },
   "outputs": [
    {
     "name": "stdout",
     "output_type": "stream",
     "text": [
      "speedyr bounds = BoundingBox(left=-20015109.354, bottom=-6671703.118005, right=17791208.314677987, top=7783653.637666)\n",
      "dobyr bounds = BoundingBox(left=-20015109.354, bottom=-6671703.118005, right=17791208.314677987, top=7783653.637666)\n",
      "firelineyr bounds = BoundingBox(left=-20015109.354, bottom=-6671703.118005, right=17791208.314677987, top=7783653.637666)\n"
     ]
    }
   ],
   "source": [
    "# Raster Data opened by rio \n",
    "#speedyr = rio.open('../data/GlobalFire2016/Global_fire_atlas_speed_yearly_2016.tif')\n",
    "#dobyr = rio.open('../data/GlobalFire2016/Global_fire_atlas_day_of_burn_yearly_2016.tif')\n",
    "#firelineyr = rio.open('../data/GlobalFire2016/Global_fire_atlas_fire_line_yearly_2016.tif')\n",
    "print('speedyr bounds =',speedyr.bounds)\n",
    "print('dobyr bounds =',dobyr.bounds)\n",
    "print('firelineyr bounds =',firelineyr.bounds)"
   ]
  },
  {
   "cell_type": "code",
   "execution_count": 60,
   "metadata": {
    "Collapsed": "false",
    "hidden": true
   },
   "outputs": [],
   "source": [
    "# Set destination CRS\n",
    "dst_crs = bb_gdf2.crs"
   ]
  },
  {
   "cell_type": "code",
   "execution_count": 185,
   "metadata": {
    "Collapsed": "false",
    "hidden": true
   },
   "outputs": [],
   "source": [
    "tifs = [(speedyr,'speed'),(dobyr,'dob'),(firelineyr,'fireline')]"
   ]
  },
  {
   "cell_type": "code",
   "execution_count": 187,
   "metadata": {
    "Collapsed": "false",
    "hidden": true
   },
   "outputs": [],
   "source": [
    "# Commented out this whole box because files have been saved already NEXT TIME - ADD COMPRESSION - \n",
    "# FILES WERE HUGE (see commented line below) OR reproject to new array, then write out with compression\n",
    "# %%time\n",
    "# for tif in tifs:\n",
    "#     file,name = tif\n",
    "    \n",
    "#     # Calculate the transform using the rasterio warp function\n",
    "#     transform,width,height = calculate_default_transform(file.crs,dst_crs,file.width,file.height,*file.bounds)\n",
    "    \n",
    "#     # Set the new meta data for the projected raster file\n",
    "#     kwargs = file.meta.copy()\n",
    "#     kwargs.update({'crs':dst_crs,\n",
    "#                   'transform':transform,\n",
    "#                   'width':width,\n",
    "#                   'height':height\n",
    "#                   #compress:'lzw'\n",
    "#                   })\n",
    "    \n",
    "#     # Filename for writing out to\n",
    "#     filestring = '../data/GlobalFire2016/Global_fire_atlas_' + name + '_yearly_2016_reproj.tif'\n",
    "    \n",
    "#     # write the new raster file by using the rasterio reproject function\n",
    "#     with rio.open(filestring,'w',**kwargs) as dst:\n",
    "#         for i in range(1, file.count + 1):\n",
    "#             reproject(\n",
    "#                 source = rio.band(file,i),\n",
    "#                 destination=rio.band(dst,i),\n",
    "#                 file_transform = file.transform,\n",
    "#                 file_crs = file.crs,\n",
    "#                 dst_transform = transform,\n",
    "#                 dst_crs = dst_crs,\n",
    "#                 resampling=Resampling.nearest)  "
   ]
  },
  {
   "cell_type": "code",
   "execution_count": 302,
   "metadata": {
    "Collapsed": "false",
    "hidden": true
   },
   "outputs": [],
   "source": [
    "# Close all the previous readers\n",
    "diryr.close()\n",
    "dobyr.close()\n",
    "firelineyr.close()\n",
    "speedyr.close()"
   ]
  },
  {
   "cell_type": "markdown",
   "metadata": {
    "Collapsed": "false"
   },
   "source": [
    "#### Crop to smaller bounding box - Toy Set"
   ]
  },
  {
   "cell_type": "code",
   "execution_count": 303,
   "metadata": {
    "Collapsed": "false"
   },
   "outputs": [
    {
     "name": "stdout",
     "output_type": "stream",
     "text": [
      "ignition CRS {'init': 'epsg:3857'}\n",
      "final polygon CRS {'init': 'epsg:3857'}\n",
      "bounding box CRS {'init': 'epsg:3857', 'no_defs': True}\n"
     ]
    }
   ],
   "source": [
    "# Check CRSs all match\n",
    "print('ignition CRS', ign2.crs)\n",
    "print('final polygon CRS', poly2.crs)\n",
    "print('bounding box CRS', bb_gdf2.crs)"
   ]
  },
  {
   "cell_type": "markdown",
   "metadata": {
    "Collapsed": "false"
   },
   "source": [
    "##### First the ignition points to get fire numbers and then final fire sizes and dbf data"
   ]
  },
  {
   "cell_type": "code",
   "execution_count": 304,
   "metadata": {
    "Collapsed": "false"
   },
   "outputs": [
    {
     "name": "stdout",
     "output_type": "stream",
     "text": [
      "bounding box extents [-13580977.87677938   4172037.89674901 -13348542.78000302\n",
      "   4411265.91026269]\n"
     ]
    }
   ],
   "source": [
    "print('bounding box extents', bb_gdf2.total_bounds)"
   ]
  },
  {
   "cell_type": "code",
   "execution_count": 305,
   "metadata": {
    "Collapsed": "false"
   },
   "outputs": [],
   "source": [
    "# Crop Ignition Data\n",
    "xmin2,ymin2,xmax2,ymax2=bb_gdf2.total_bounds\n",
    "ign2crop2 = ign2.cx[xmin2:xmax2,ymin2:ymax2]"
   ]
  },
  {
   "cell_type": "code",
   "execution_count": 306,
   "metadata": {
    "Collapsed": "false"
   },
   "outputs": [
    {
     "name": "stdout",
     "output_type": "stream",
     "text": [
      "(22, 2) (887221, 2)\n"
     ]
    }
   ],
   "source": [
    "print(ign2crop2.shape, ign2.shape)"
   ]
  },
  {
   "cell_type": "code",
   "execution_count": 307,
   "metadata": {
    "Collapsed": "false"
   },
   "outputs": [],
   "source": [
    "fires = ign2crop2['fire_ID'].values"
   ]
  },
  {
   "cell_type": "code",
   "execution_count": 308,
   "metadata": {
    "Collapsed": "false"
   },
   "outputs": [],
   "source": [
    "poly2crop2 = poly2.loc[poly2['fire_ID'].isin(fires)]"
   ]
  },
  {
   "cell_type": "code",
   "execution_count": 309,
   "metadata": {
    "Collapsed": "false"
   },
   "outputs": [
    {
     "name": "stdout",
     "output_type": "stream",
     "text": [
      "(22, 2) (887251, 2)\n"
     ]
    }
   ],
   "source": [
    "print(poly2crop2.shape, poly2.shape)"
   ]
  },
  {
   "cell_type": "code",
   "execution_count": 310,
   "metadata": {
    "Collapsed": "false"
   },
   "outputs": [],
   "source": [
    "featurescrop2 = features1.loc[features1['fire_ID'].isin(fires)]"
   ]
  },
  {
   "cell_type": "code",
   "execution_count": 342,
   "metadata": {
    "Collapsed": "false"
   },
   "outputs": [
    {
     "data": {
      "text/html": [
       "<div>\n",
       "<style scoped>\n",
       "    .dataframe tbody tr th:only-of-type {\n",
       "        vertical-align: middle;\n",
       "    }\n",
       "\n",
       "    .dataframe tbody tr th {\n",
       "        vertical-align: top;\n",
       "    }\n",
       "\n",
       "    .dataframe thead th {\n",
       "        text-align: right;\n",
       "    }\n",
       "</style>\n",
       "<table border=\"1\" class=\"dataframe\">\n",
       "  <thead>\n",
       "    <tr style=\"text-align: right;\">\n",
       "      <th></th>\n",
       "      <th>fire_ID</th>\n",
       "      <th>latitude</th>\n",
       "      <th>longitude</th>\n",
       "      <th>size</th>\n",
       "      <th>perimeter</th>\n",
       "      <th>start_date</th>\n",
       "      <th>start_DOY</th>\n",
       "      <th>end_date</th>\n",
       "      <th>end_DOY</th>\n",
       "      <th>duration</th>\n",
       "      <th>expansion</th>\n",
       "      <th>fire_line</th>\n",
       "      <th>speed</th>\n",
       "      <th>direction</th>\n",
       "      <th>direction_s</th>\n",
       "      <th>landcover</th>\n",
       "      <th>landcover_s</th>\n",
       "      <th>tile_ID</th>\n",
       "    </tr>\n",
       "  </thead>\n",
       "  <tbody>\n",
       "    <tr>\n",
       "      <th>139</th>\n",
       "      <td>140</td>\n",
       "      <td>36.4604</td>\n",
       "      <td>-121.894</td>\n",
       "      <td>447.39</td>\n",
       "      <td>196.31</td>\n",
       "      <td>2016-07-21</td>\n",
       "      <td>203</td>\n",
       "      <td>2016-09-17</td>\n",
       "      <td>261</td>\n",
       "      <td>59</td>\n",
       "      <td>7.58</td>\n",
       "      <td>12.96</td>\n",
       "      <td>1.89</td>\n",
       "      <td>4</td>\n",
       "      <td>southeast</td>\n",
       "      <td>8</td>\n",
       "      <td>Woody savannas</td>\n",
       "      <td>h08v05</td>\n",
       "    </tr>\n",
       "    <tr>\n",
       "      <th>140</th>\n",
       "      <td>141</td>\n",
       "      <td>36.3271</td>\n",
       "      <td>-121.592</td>\n",
       "      <td>23.79</td>\n",
       "      <td>30.56</td>\n",
       "      <td>2016-09-15</td>\n",
       "      <td>259</td>\n",
       "      <td>2016-09-23</td>\n",
       "      <td>267</td>\n",
       "      <td>9</td>\n",
       "      <td>2.64</td>\n",
       "      <td>4.42</td>\n",
       "      <td>3.04</td>\n",
       "      <td>8</td>\n",
       "      <td>northwest</td>\n",
       "      <td>8</td>\n",
       "      <td>Woody savannas</td>\n",
       "      <td>h08v05</td>\n",
       "    </tr>\n",
       "    <tr>\n",
       "      <th>141</th>\n",
       "      <td>142</td>\n",
       "      <td>36.3188</td>\n",
       "      <td>-121.594</td>\n",
       "      <td>39.23</td>\n",
       "      <td>36.11</td>\n",
       "      <td>2016-09-15</td>\n",
       "      <td>259</td>\n",
       "      <td>2016-09-25</td>\n",
       "      <td>269</td>\n",
       "      <td>11</td>\n",
       "      <td>3.57</td>\n",
       "      <td>5.14</td>\n",
       "      <td>2.55</td>\n",
       "      <td>4</td>\n",
       "      <td>southeast</td>\n",
       "      <td>8</td>\n",
       "      <td>Woody savannas</td>\n",
       "      <td>h08v05</td>\n",
       "    </tr>\n",
       "    <tr>\n",
       "      <th>142</th>\n",
       "      <td>143</td>\n",
       "      <td>36.3146</td>\n",
       "      <td>-121.629</td>\n",
       "      <td>18.86</td>\n",
       "      <td>24.08</td>\n",
       "      <td>2016-09-17</td>\n",
       "      <td>261</td>\n",
       "      <td>2016-09-29</td>\n",
       "      <td>273</td>\n",
       "      <td>13</td>\n",
       "      <td>1.45</td>\n",
       "      <td>2.32</td>\n",
       "      <td>2.64</td>\n",
       "      <td>4</td>\n",
       "      <td>southeast</td>\n",
       "      <td>8</td>\n",
       "      <td>Woody savannas</td>\n",
       "      <td>h08v05</td>\n",
       "    </tr>\n",
       "    <tr>\n",
       "      <th>145</th>\n",
       "      <td>146</td>\n",
       "      <td>36.4188</td>\n",
       "      <td>-121.259</td>\n",
       "      <td>1.93</td>\n",
       "      <td>8.33</td>\n",
       "      <td>2016-04-09</td>\n",
       "      <td>100</td>\n",
       "      <td>2016-04-14</td>\n",
       "      <td>105</td>\n",
       "      <td>6</td>\n",
       "      <td>0.32</td>\n",
       "      <td>0.69</td>\n",
       "      <td>1.57</td>\n",
       "      <td>4</td>\n",
       "      <td>southeast</td>\n",
       "      <td>10</td>\n",
       "      <td>Grasslands</td>\n",
       "      <td>h08v05</td>\n",
       "    </tr>\n",
       "  </tbody>\n",
       "</table>\n",
       "</div>"
      ],
      "text/plain": [
       "     fire_ID  latitude  longitude    size  perimeter  start_date  start_DOY  \\\n",
       "139      140   36.4604   -121.894  447.39     196.31  2016-07-21        203   \n",
       "140      141   36.3271   -121.592   23.79      30.56  2016-09-15        259   \n",
       "141      142   36.3188   -121.594   39.23      36.11  2016-09-15        259   \n",
       "142      143   36.3146   -121.629   18.86      24.08  2016-09-17        261   \n",
       "145      146   36.4188   -121.259    1.93       8.33  2016-04-09        100   \n",
       "\n",
       "       end_date  end_DOY  duration  expansion  fire_line  speed  direction  \\\n",
       "139  2016-09-17      261        59       7.58      12.96   1.89          4   \n",
       "140  2016-09-23      267         9       2.64       4.42   3.04          8   \n",
       "141  2016-09-25      269        11       3.57       5.14   2.55          4   \n",
       "142  2016-09-29      273        13       1.45       2.32   2.64          4   \n",
       "145  2016-04-14      105         6       0.32       0.69   1.57          4   \n",
       "\n",
       "    direction_s  landcover     landcover_s tile_ID  \n",
       "139   southeast          8  Woody savannas  h08v05  \n",
       "140   northwest          8  Woody savannas  h08v05  \n",
       "141   southeast          8  Woody savannas  h08v05  \n",
       "142   southeast          8  Woody savannas  h08v05  \n",
       "145   southeast         10      Grasslands  h08v05  "
      ]
     },
     "execution_count": 342,
     "metadata": {},
     "output_type": "execute_result"
    }
   ],
   "source": [
    "featurescrop2.head()"
   ]
  },
  {
   "cell_type": "code",
   "execution_count": 343,
   "metadata": {
    "Collapsed": "false"
   },
   "outputs": [
    {
     "data": {
      "text/html": [
       "<div>\n",
       "<style scoped>\n",
       "    .dataframe tbody tr th:only-of-type {\n",
       "        vertical-align: middle;\n",
       "    }\n",
       "\n",
       "    .dataframe tbody tr th {\n",
       "        vertical-align: top;\n",
       "    }\n",
       "\n",
       "    .dataframe thead th {\n",
       "        text-align: right;\n",
       "    }\n",
       "</style>\n",
       "<table border=\"1\" class=\"dataframe\">\n",
       "  <thead>\n",
       "    <tr style=\"text-align: right;\">\n",
       "      <th></th>\n",
       "      <th>fire_ID</th>\n",
       "      <th>geometry</th>\n",
       "    </tr>\n",
       "  </thead>\n",
       "  <tbody>\n",
       "    <tr>\n",
       "      <th>139</th>\n",
       "      <td>140</td>\n",
       "      <td>POINT (-13569190.649 4364164.207)</td>\n",
       "    </tr>\n",
       "    <tr>\n",
       "      <th>140</th>\n",
       "      <td>141</td>\n",
       "      <td>POINT (-13535572.325 4345725.240)</td>\n",
       "    </tr>\n",
       "    <tr>\n",
       "      <th>141</th>\n",
       "      <td>142</td>\n",
       "      <td>POINT (-13535852.045 4344573.853)</td>\n",
       "    </tr>\n",
       "    <tr>\n",
       "      <th>142</th>\n",
       "      <td>143</td>\n",
       "      <td>POINT (-13539733.596 4343998.206)</td>\n",
       "    </tr>\n",
       "    <tr>\n",
       "      <th>145</th>\n",
       "      <td>146</td>\n",
       "      <td>POINT (-13498502.587 4358398.631)</td>\n",
       "    </tr>\n",
       "  </tbody>\n",
       "</table>\n",
       "</div>"
      ],
      "text/plain": [
       "     fire_ID                           geometry\n",
       "139      140  POINT (-13569190.649 4364164.207)\n",
       "140      141  POINT (-13535572.325 4345725.240)\n",
       "141      142  POINT (-13535852.045 4344573.853)\n",
       "142      143  POINT (-13539733.596 4343998.206)\n",
       "145      146  POINT (-13498502.587 4358398.631)"
      ]
     },
     "execution_count": 343,
     "metadata": {},
     "output_type": "execute_result"
    }
   ],
   "source": [
    "ign2crop2.head()"
   ]
  },
  {
   "cell_type": "code",
   "execution_count": 338,
   "metadata": {
    "Collapsed": "false"
   },
   "outputs": [
    {
     "name": "stdout",
     "output_type": "stream",
     "text": [
      "Wall time: 18 ms\n"
     ]
    }
   ],
   "source": [
    "%%time\n",
    "#pickle out the ignition points and dbf\n",
    "with open('../data/GlobalFire2016/Global_fire_atlas_ignitioncrop.pickle','wb') as f:\n",
    "    pickle.dump(ign2crop2,f,pickle.HIGHEST_PROTOCOL)\n",
    "with open('../data/GlobalFire2016/Global_fire_atlas_datacrop.pickle','wb') as f:\n",
    "    pickle.dump(featurescrop2,f,pickle.HIGHEST_PROTOCOL)"
   ]
  },
  {
   "cell_type": "markdown",
   "metadata": {
    "Collapsed": "false",
    "heading_collapsed": true
   },
   "source": [
    "##### Crop the rasters"
   ]
  },
  {
   "cell_type": "code",
   "execution_count": 256,
   "metadata": {
    "Collapsed": "false",
    "hidden": true,
    "scrolled": true
   },
   "outputs": [],
   "source": [
    "# Open the new reprojected geotiffs\n",
    "diryr_reproj = rio.open('../data/GlobalFire2016/Global_fire_atlas_direction_yearly_2016_reproj.tif')\n",
    "speedyr_reproj = rio.open('../data/GlobalFire2016/Global_fire_atlas_speed_yearly_2016_reproj.tif')\n",
    "dobyr_reproj = rio.open('../data/GlobalFire2016/Global_fire_atlas_dob_yearly_2016_reproj.tif')\n",
    "firelineyr_reproj = rio.open('../data/GlobalFire2016/Global_fire_atlas_fireline_yearly_2016_reproj.tif')"
   ]
  },
  {
   "cell_type": "code",
   "execution_count": 311,
   "metadata": {
    "Collapsed": "false",
    "hidden": true
   },
   "outputs": [
    {
     "name": "stdout",
     "output_type": "stream",
     "text": [
      "crop extent crs =  {'init': 'epsg:3857', 'no_defs': True}\n",
      "direction tiff crs =  EPSG:3857\n",
      "speed tiff crs =  EPSG:3857\n",
      "day of burn tiff crs =  EPSG:3857\n",
      "fireline tiff crs =  EPSG:3857\n"
     ]
    }
   ],
   "source": [
    "# Crop extent: bb_gdf2 - crop to the small box, which should work now that both raster \n",
    "# and shapefile are on the same CRS\n",
    "print('crop extent crs = ', bb_gdf2.crs)\n",
    "print('direction tiff crs = ', diryr_reproj.crs)\n",
    "print('speed tiff crs = ', speedyr_reproj.crs)\n",
    "print('day of burn tiff crs = ', dobyr_reproj.crs)\n",
    "print('fireline tiff crs = ', firelineyr_reproj.crs)"
   ]
  },
  {
   "cell_type": "code",
   "execution_count": 313,
   "metadata": {
    "Collapsed": "false",
    "hidden": true
   },
   "outputs": [],
   "source": [
    "def crop_tif(tif_reproj,boundingbox):\n",
    "    \"\"\"function to crop the reprojected tiffs by the bounding box (shapefile)\"\"\"\n",
    "    \n",
    "    tif_reproj_crop,tif_reproj_crop_meta = es.crop_image(tif_reproj,boundingbox)\n",
    "    print(\"cropped data\", tif_reproj_crop.shape)\n",
    "    print(\"original data\", tif_reproj.shape)\n",
    "    print(\"meta\", tif_reproj_crop_meta)\n",
    "       \n",
    "    return(tif_reproj_crop, tif_reproj_crop_meta)"
   ]
  },
  {
   "cell_type": "code",
   "execution_count": 314,
   "metadata": {
    "Collapsed": "false",
    "hidden": true
   },
   "outputs": [
    {
     "name": "stdout",
     "output_type": "stream",
     "text": [
      "cropped data (1, 470, 456)\n",
      "original data (38174, 78580)\n",
      "meta {'driver': 'GTiff', 'dtype': 'int32', 'nodata': -9999.0, 'width': 456, 'height': 470, 'count': 1, 'crs': CRS.from_epsg(3857), 'transform': Affine(509.9863732168427, 0.0, -13581080.848881941,\n",
      "       0.0, -509.9928633270912, 4411268.819459678)}\n",
      "cropped data (1, 470, 456)\n",
      "original data (38174, 78580)\n",
      "meta {'driver': 'GTiff', 'dtype': 'float64', 'nodata': -9999.0, 'width': 456, 'height': 470, 'count': 1, 'crs': CRS.from_epsg(3857), 'transform': Affine(509.9863732168427, 0.0, -13581080.848881941,\n",
      "       0.0, -509.9928633270912, 4411268.819459678)}\n",
      "cropped data (1, 470, 456)\n",
      "original data (38174, 78580)\n",
      "meta {'driver': 'GTiff', 'dtype': 'int32', 'nodata': -9999.0, 'width': 456, 'height': 470, 'count': 1, 'crs': CRS.from_epsg(3857), 'transform': Affine(509.9863732168427, 0.0, -13581080.848881941,\n",
      "       0.0, -509.9928633270912, 4411268.819459678)}\n",
      "cropped data (1, 470, 456)\n",
      "original data (38174, 78580)\n",
      "meta {'driver': 'GTiff', 'dtype': 'int32', 'nodata': -9999.0, 'width': 456, 'height': 470, 'count': 1, 'crs': CRS.from_epsg(3857), 'transform': Affine(509.9863732168427, 0.0, -13581080.848881941,\n",
      "       0.0, -509.9928633270912, 4411268.819459678)}\n",
      "Wall time: 1.32 s\n"
     ]
    }
   ],
   "source": [
    "%%time\n",
    "diryr_reproj_crop,diryr_reproj_crop_meta = crop_tif(diryr_reproj,bb_gdf2)\n",
    "speedyr_reproj_crop,speedyr_reproj_crop_meta = crop_tif(speedyr_reproj,bb_gdf2)\n",
    "dobyr_reproj_crop,dobyr_reproj_crop_meta = crop_tif(dobyr_reproj,bb_gdf2)\n",
    "firelineyr_reproj_crop,firelineyr_reproj_crop_meta = crop_tif(firelineyr_reproj,bb_gdf2)"
   ]
  },
  {
   "cell_type": "code",
   "execution_count": 318,
   "metadata": {
    "Collapsed": "false",
    "hidden": true
   },
   "outputs": [
    {
     "data": {
      "text/plain": [
       "array([208, 208, 208, ..., 232, 231, 231])"
      ]
     },
     "execution_count": 318,
     "metadata": {},
     "output_type": "execute_result"
    }
   ],
   "source": [
    "vals = firelineyr_reproj_crop[0][firelineyr_reproj_crop[0]>0]\n",
    "vals"
   ]
  },
  {
   "cell_type": "code",
   "execution_count": 321,
   "metadata": {
    "Collapsed": "false",
    "hidden": true
   },
   "outputs": [],
   "source": [
    "diryr_reproj.close()\n",
    "speedyr_reproj.close()\n",
    "dobyr_reproj.close()\n",
    "firelineyr_reproj.close()"
   ]
  },
  {
   "cell_type": "code",
   "execution_count": 323,
   "metadata": {
    "Collapsed": "false",
    "hidden": true
   },
   "outputs": [],
   "source": [
    "# Write these out to smaller tiffs\n",
    "with rio.open('../data/GlobalFire2016/Global_fire_atlas_dircrop.tif','w',**diryr_reproj_crop_meta) as dst:\n",
    "    dst.write(diryr_reproj_crop)\n",
    "with rio.open('../data/GlobalFire2016/Global_fire_atlas_speedcrop.tif','w',**speedyr_reproj_crop_meta) as dst:\n",
    "    dst.write(speedyr_reproj_crop)\n",
    "with rio.open('../data/GlobalFire2016/Global_fire_atlas_dobcrop.tif','w',**dobyr_reproj_crop_meta) as dst:\n",
    "    dst.write(dobyr_reproj_crop)\n",
    "with rio.open('../data/GlobalFire2016/Global_fire_atlas_firelinecrop.tif','w',**firelineyr_reproj_crop_meta) as dst:\n",
    "    dst.write(firelineyr_reproj_crop)"
   ]
  },
  {
   "cell_type": "markdown",
   "metadata": {
    "Collapsed": "false"
   },
   "source": [
    "#### Create a new tiff with fire_ID as the value\n",
    "Determine if a raster pixel is in a fire polygon and create a new tiff with fire_ID as the value"
   ]
  },
  {
   "cell_type": "code",
   "execution_count": 324,
   "metadata": {
    "Collapsed": "false"
   },
   "outputs": [],
   "source": [
    "# From https://gis.stackexchange.com/questions/151339/rasterize-a-shapefile-with-geopandas-or-fiona-python\n",
    "polys = poly2crop2\n",
    "rst_fn = '../data/GlobalFire2016/template.tif'\n",
    "out_fn = '../data/GlobalFire2016/fireid.tif'"
   ]
  },
  {
   "cell_type": "code",
   "execution_count": 325,
   "metadata": {
    "Collapsed": "false"
   },
   "outputs": [],
   "source": [
    "rst = rio.open(rst_fn)\n",
    "metaout = rst.meta.copy()\n",
    "metaout.update(compress='lzw')"
   ]
  },
  {
   "cell_type": "code",
   "execution_count": 327,
   "metadata": {
    "Collapsed": "false"
   },
   "outputs": [],
   "source": [
    "with rio.open(out_fn, 'w+',**metaout) as out:\n",
    "    out_arr = out.read(1)\n",
    "    \n",
    "    shapes = ((geom,value) for geom,value in zip(polys.geometry,polys.fire_ID))\n",
    "    \n",
    "    burned = features.rasterize(shapes=shapes, fill=0, out=out_arr, transform=out.transform)\n",
    "    out.write_band(1,burned)"
   ]
  },
  {
   "cell_type": "code",
   "execution_count": 334,
   "metadata": {
    "Collapsed": "false"
   },
   "outputs": [
    {
     "name": "stdout",
     "output_type": "stream",
     "text": [
      "{'driver': 'GTiff', 'dtype': 'int32', 'nodata': -9999.0, 'width': 456, 'height': 470, 'count': 1, 'crs': CRS.from_epsg(3857), 'transform': Affine(509.9863732168427, 0.0, -13581080.848881941,\n",
      "       0.0, -509.9928633270912, 4411268.819459678)}\n"
     ]
    }
   ],
   "source": [
    "fireid = rio.open('../data/GlobalFire2016/fireid.tif')\n",
    "print(fireid.meta)"
   ]
  },
  {
   "cell_type": "code",
   "execution_count": 332,
   "metadata": {
    "Collapsed": "false"
   },
   "outputs": [],
   "source": [
    "fireid_array = fireid.read()"
   ]
  },
  {
   "cell_type": "code",
   "execution_count": 333,
   "metadata": {
    "Collapsed": "false"
   },
   "outputs": [
    {
     "data": {
      "text/plain": [
       "(1, 470, 456)"
      ]
     },
     "execution_count": 333,
     "metadata": {},
     "output_type": "execute_result"
    }
   ],
   "source": [
    "fireid_array.shape"
   ]
  },
  {
   "cell_type": "code",
   "execution_count": 344,
   "metadata": {
    "Collapsed": "false"
   },
   "outputs": [
    {
     "name": "stdout",
     "output_type": "stream",
     "text": [
      "[[[-9999 -9999 -9999 ... -9999 -9999 -9999]\n",
      "  [-9999 -9999 -9999 ... -9999 -9999 -9999]\n",
      "  [-9999 -9999 -9999 ... -9999 -9999 -9999]\n",
      "  ...\n",
      "  [-9999 -9999 -9999 ... -9999 -9999 -9999]\n",
      "  [-9999 -9999 -9999 ... -9999 -9999 -9999]\n",
      "  [-9999 -9999 -9999 ... -9999 -9999 -9999]]]\n"
     ]
    }
   ],
   "source": [
    "print(fireid_array)"
   ]
  },
  {
   "cell_type": "code",
   "execution_count": 336,
   "metadata": {
    "Collapsed": "false"
   },
   "outputs": [
    {
     "data": {
      "text/plain": [
       "array([140, 140, 140, ..., 189, 189, 189])"
      ]
     },
     "execution_count": 336,
     "metadata": {},
     "output_type": "execute_result"
    }
   ],
   "source": [
    "vals = fireid_array[0][fireid_array[0]>0]\n",
    "vals"
   ]
  },
  {
   "cell_type": "code",
   "execution_count": 341,
   "metadata": {
    "Collapsed": "false"
   },
   "outputs": [
    {
     "data": {
      "text/plain": [
       "4855"
      ]
     },
     "execution_count": 341,
     "metadata": {},
     "output_type": "execute_result"
    }
   ],
   "source": [
    "len(vals)"
   ]
  },
  {
   "cell_type": "code",
   "execution_count": null,
   "metadata": {
    "Collapsed": "false"
   },
   "outputs": [],
   "source": []
  },
  {
   "cell_type": "markdown",
   "metadata": {
    "Collapsed": "false",
    "heading_collapsed": true
   },
   "source": [
    "#### Yearly TIFFs"
   ]
  },
  {
   "cell_type": "code",
   "execution_count": 28,
   "metadata": {
    "Collapsed": "false",
    "hidden": true
   },
   "outputs": [],
   "source": [
    "from rasterio.windows import Window"
   ]
  },
  {
   "cell_type": "code",
   "execution_count": 29,
   "metadata": {
    "Collapsed": "false",
    "hidden": true
   },
   "outputs": [
    {
     "name": "stdout",
     "output_type": "stream",
     "text": [
      "Wall time: 116 ms\n"
     ]
    }
   ],
   "source": [
    "%%time\n",
    "diryr = rio.open('../data/GlobalFire2016/Global_fire_atlas_direction_yearly_2016.tif')\n",
    "speedyr = rio.open('../data/GlobalFire2016/Global_fire_atlas_speed_yearly_2016.tif')\n",
    "dobyr = rio.open('../data/GlobalFire2016/Global_fire_atlas_day_of_burn_yearly_2016.tif')\n",
    "firelineyr = rio.open('../data/GlobalFire2016/Global_fire_atlas_fire_line_yearly_2016.tif')"
   ]
  },
  {
   "cell_type": "code",
   "execution_count": null,
   "metadata": {
    "Collapsed": "false",
    "hidden": true
   },
   "outputs": [],
   "source": [
    "tifs = [diryr,speedyr,dobyr,firelineyr]"
   ]
  },
  {
   "cell_type": "code",
   "execution_count": null,
   "metadata": {
    "Collapsed": "false",
    "hidden": true
   },
   "outputs": [],
   "source": [
    "for tif in tifs:\n",
    "    print(\"name = \",tif.name)\n",
    "    print(\"resolution of a pixel in units of coord reference system = \",tif.res)\n",
    "    print(\"Image Structure tags =\",tif.tags(ns='IMAGE_STRUCTURE'))\n",
    "    print(\"tags =\",tif.tags())\n",
    "    print(tif.shape)\n",
    "    print(tif.bounds)\n",
    "    print(\"number of layers = \",tif.count)\n",
    "    print(\"number of bands =\", tif.indexes)\n",
    "    print(tif.meta)\n",
    "    print(\"\\n\\n\")"
   ]
  },
  {
   "cell_type": "code",
   "execution_count": 34,
   "metadata": {
    "Collapsed": "false",
    "hidden": true
   },
   "outputs": [
    {
     "name": "stdout",
     "output_type": "stream",
     "text": [
      "{'driver': 'GTiff', 'dtype': 'int32', 'nodata': -9999.0, 'width': 81600, 'height': 31200, 'count': 1, 'crs': CRS.from_wkt('PROJCS[\"unnamed\",GEOGCS[\"Unknown datum based upon the custom spheroid\",DATUM[\"Not_specified_based_on_custom_spheroid\",SPHEROID[\"Custom spheroid\",6371007.181,0]],PRIMEM[\"Greenwich\",0],UNIT[\"degree\",0.0174532925199433,AUTHORITY[\"EPSG\",\"9122\"]]],PROJECTION[\"Sinusoidal\"],PARAMETER[\"longitude_of_center\",0],PARAMETER[\"false_easting\",0],PARAMETER[\"false_northing\",0],UNIT[\"metre\",1,AUTHORITY[\"EPSG\",\"9001\"]],AXIS[\"Easting\",EAST],AXIS[\"Northing\",NORTH]]'), 'transform': Affine(463.3127165279165, 0.0, -20015109.354,\n",
      "       0.0, -463.3127165279167, 7783653.637666)}\n"
     ]
    }
   ],
   "source": [
    "print(diryr.meta)\n",
    "#customcrs = diryr.meta"
   ]
  },
  {
   "cell_type": "code",
   "execution_count": 35,
   "metadata": {
    "Collapsed": "false",
    "hidden": true
   },
   "outputs": [
    {
     "name": "stdout",
     "output_type": "stream",
     "text": [
      "PROJCS[\"unnamed\",GEOGCS[\"Unknown datum based upon the custom spheroid\",DATUM[\"Not_specified_based_on_custom_spheroid\",SPHEROID[\"Custom spheroid\",6371007.181,0]],PRIMEM[\"Greenwich\",0],UNIT[\"degree\",0.0174532925199433,AUTHORITY[\"EPSG\",\"9122\"]]],PROJECTION[\"Sinusoidal\"],PARAMETER[\"longitude_of_center\",0],PARAMETER[\"false_easting\",0],PARAMETER[\"false_northing\",0],UNIT[\"metre\",1,AUTHORITY[\"EPSG\",\"9001\"]],AXIS[\"Easting\",EAST],AXIS[\"Northing\",NORTH]]\n"
     ]
    }
   ],
   "source": [
    "print(diryr.crs)"
   ]
  },
  {
   "cell_type": "code",
   "execution_count": 36,
   "metadata": {
    "Collapsed": "false",
    "hidden": true
   },
   "outputs": [],
   "source": [
    "customcrs = diryr.crs"
   ]
  },
  {
   "cell_type": "markdown",
   "metadata": {
    "Collapsed": "false",
    "heading_collapsed": true
   },
   "source": [
    "#### Convert Lat/Long to CRS"
   ]
  },
  {
   "cell_type": "markdown",
   "metadata": {
    "Collapsed": "false",
    "hidden": true
   },
   "source": [
    "From StackExchange:\n",
    "\n",
    "You need to transform your points to the coordinate system of the raster. You could warp the raster to your points' coordinate system but warping rasters is a bit messy. (for R but should be similar in python)\n",
    "\n",
    "https://gis.stackexchange.com/questions/200417/very-basic-question-on-extracting-data-from-tif-raster-layer-in-r-projection-n"
   ]
  },
  {
   "cell_type": "code",
   "execution_count": 9,
   "metadata": {
    "Collapsed": "false",
    "hidden": true
   },
   "outputs": [
    {
     "data": {
      "text/html": [
       "<div>\n",
       "<style scoped>\n",
       "    .dataframe tbody tr th:only-of-type {\n",
       "        vertical-align: middle;\n",
       "    }\n",
       "\n",
       "    .dataframe tbody tr th {\n",
       "        vertical-align: top;\n",
       "    }\n",
       "\n",
       "    .dataframe thead th {\n",
       "        text-align: right;\n",
       "    }\n",
       "</style>\n",
       "<table border=\"1\" class=\"dataframe\">\n",
       "  <thead>\n",
       "    <tr style=\"text-align: right;\">\n",
       "      <th></th>\n",
       "      <th>fire_ID</th>\n",
       "      <th>latitude</th>\n",
       "      <th>longitude</th>\n",
       "      <th>size</th>\n",
       "      <th>geometry</th>\n",
       "      <th>start_date</th>\n",
       "      <th>start_DOY</th>\n",
       "      <th>end_date</th>\n",
       "      <th>end_DOY</th>\n",
       "      <th>duration</th>\n",
       "      <th>expansion</th>\n",
       "      <th>fire_line</th>\n",
       "      <th>speed</th>\n",
       "      <th>direction</th>\n",
       "      <th>direction_s</th>\n",
       "      <th>landcover</th>\n",
       "      <th>landcover_s</th>\n",
       "      <th>tile_ID</th>\n",
       "      <th>ignition_pt</th>\n",
       "    </tr>\n",
       "  </thead>\n",
       "  <tbody>\n",
       "    <tr>\n",
       "      <th>34569</th>\n",
       "      <td>34570</td>\n",
       "      <td>56.6604</td>\n",
       "      <td>-111.41</td>\n",
       "      <td>1547.32</td>\n",
       "      <td>POLYGON ((-110.20500 56.80417, -110.19739 56.8...</td>\n",
       "      <td>2016-05-01</td>\n",
       "      <td>122</td>\n",
       "      <td>2016-05-29</td>\n",
       "      <td>150</td>\n",
       "      <td>29</td>\n",
       "      <td>53.36</td>\n",
       "      <td>68.3</td>\n",
       "      <td>13.21</td>\n",
       "      <td>3</td>\n",
       "      <td>east</td>\n",
       "      <td>1</td>\n",
       "      <td>Evergreen Needleleaf forest</td>\n",
       "      <td>h11v03</td>\n",
       "      <td>POINT (-111.41070 56.66044)</td>\n",
       "    </tr>\n",
       "  </tbody>\n",
       "</table>\n",
       "</div>"
      ],
      "text/plain": [
       "       fire_ID  latitude  longitude     size  \\\n",
       "34569    34570   56.6604    -111.41  1547.32   \n",
       "\n",
       "                                                geometry  start_date  \\\n",
       "34569  POLYGON ((-110.20500 56.80417, -110.19739 56.8...  2016-05-01   \n",
       "\n",
       "       start_DOY    end_date  end_DOY  duration  expansion  fire_line  speed  \\\n",
       "34569        122  2016-05-29      150        29      53.36       68.3  13.21   \n",
       "\n",
       "       direction direction_s  landcover                  landcover_s tile_ID  \\\n",
       "34569          3        east          1  Evergreen Needleleaf forest  h11v03   \n",
       "\n",
       "                       ignition_pt  \n",
       "34569  POINT (-111.41070 56.66044)  "
      ]
     },
     "execution_count": 9,
     "metadata": {},
     "output_type": "execute_result"
    }
   ],
   "source": [
    "# Our desired 'fire' from the shapefile\n",
    "fire"
   ]
  },
  {
   "cell_type": "code",
   "execution_count": 10,
   "metadata": {
    "Collapsed": "false",
    "hidden": true
   },
   "outputs": [
    {
     "data": {
      "text/plain": [
       "{'init': 'epsg:4326'}"
      ]
     },
     "execution_count": 10,
     "metadata": {},
     "output_type": "execute_result"
    }
   ],
   "source": [
    "fire.crs"
   ]
  },
  {
   "cell_type": "code",
   "execution_count": 11,
   "metadata": {
    "Collapsed": "false",
    "hidden": true
   },
   "outputs": [],
   "source": [
    "# Global Fire Atlas projection Coordinate Reference System (from website)\n",
    "gfacrs = \"+proj=sinu +lon_0=0 +x_0=0 +y_0=0 +a=6371007.181 +b=6371007.181 +units=m +no_defs\" "
   ]
  },
  {
   "cell_type": "code",
   "execution_count": 12,
   "metadata": {
    "Collapsed": "false",
    "hidden": true,
    "scrolled": true
   },
   "outputs": [
    {
     "name": "stderr",
     "output_type": "stream",
     "text": [
      "C:\\DDRIVE\\ProgramData\\Anaconda3\\envs\\wildfire\\lib\\site-packages\\pyproj\\crs.py:77: FutureWarning: '+init=<authority>:<code>' syntax is deprecated. '<authority>:<code>' is the preferred initialization method.\n",
      "  return _prepare_from_string(\" \".join(pjargs))\n"
     ]
    },
    {
     "data": {
      "text/html": [
       "<div>\n",
       "<style scoped>\n",
       "    .dataframe tbody tr th:only-of-type {\n",
       "        vertical-align: middle;\n",
       "    }\n",
       "\n",
       "    .dataframe tbody tr th {\n",
       "        vertical-align: top;\n",
       "    }\n",
       "\n",
       "    .dataframe thead th {\n",
       "        text-align: right;\n",
       "    }\n",
       "</style>\n",
       "<table border=\"1\" class=\"dataframe\">\n",
       "  <thead>\n",
       "    <tr style=\"text-align: right;\">\n",
       "      <th></th>\n",
       "      <th>fire_ID</th>\n",
       "      <th>latitude</th>\n",
       "      <th>longitude</th>\n",
       "      <th>size</th>\n",
       "      <th>geometry</th>\n",
       "      <th>start_date</th>\n",
       "      <th>start_DOY</th>\n",
       "      <th>end_date</th>\n",
       "      <th>end_DOY</th>\n",
       "      <th>duration</th>\n",
       "      <th>expansion</th>\n",
       "      <th>fire_line</th>\n",
       "      <th>speed</th>\n",
       "      <th>direction</th>\n",
       "      <th>direction_s</th>\n",
       "      <th>landcover</th>\n",
       "      <th>landcover_s</th>\n",
       "      <th>tile_ID</th>\n",
       "      <th>ignition_pt</th>\n",
       "    </tr>\n",
       "  </thead>\n",
       "  <tbody>\n",
       "    <tr>\n",
       "      <th>34569</th>\n",
       "      <td>34570</td>\n",
       "      <td>56.6604</td>\n",
       "      <td>-111.41</td>\n",
       "      <td>1547.32</td>\n",
       "      <td>POLYGON ((-6709231.448 6316342.264, -6708768.1...</td>\n",
       "      <td>2016-05-01</td>\n",
       "      <td>122</td>\n",
       "      <td>2016-05-29</td>\n",
       "      <td>150</td>\n",
       "      <td>29</td>\n",
       "      <td>53.36</td>\n",
       "      <td>68.3</td>\n",
       "      <td>13.21</td>\n",
       "      <td>3</td>\n",
       "      <td>east</td>\n",
       "      <td>1</td>\n",
       "      <td>Evergreen Needleleaf forest</td>\n",
       "      <td>h11v03</td>\n",
       "      <td>POINT (-111.41070 56.66044)</td>\n",
       "    </tr>\n",
       "  </tbody>\n",
       "</table>\n",
       "</div>"
      ],
      "text/plain": [
       "       fire_ID  latitude  longitude     size  \\\n",
       "34569    34570   56.6604    -111.41  1547.32   \n",
       "\n",
       "                                                geometry  start_date  \\\n",
       "34569  POLYGON ((-6709231.448 6316342.264, -6708768.1...  2016-05-01   \n",
       "\n",
       "       start_DOY    end_date  end_DOY  duration  expansion  fire_line  speed  \\\n",
       "34569        122  2016-05-29      150        29      53.36       68.3  13.21   \n",
       "\n",
       "       direction direction_s  landcover                  landcover_s tile_ID  \\\n",
       "34569          3        east          1  Evergreen Needleleaf forest  h11v03   \n",
       "\n",
       "                       ignition_pt  \n",
       "34569  POINT (-111.41070 56.66044)  "
      ]
     },
     "execution_count": 12,
     "metadata": {},
     "output_type": "execute_result"
    }
   ],
   "source": [
    "fire2 = fire.to_crs(gfacrs)\n",
    "fire2"
   ]
  },
  {
   "cell_type": "code",
   "execution_count": 17,
   "metadata": {
    "Collapsed": "false",
    "hidden": true
   },
   "outputs": [
    {
     "data": {
      "text/plain": [
       "'geometry'"
      ]
     },
     "execution_count": 17,
     "metadata": {},
     "output_type": "execute_result"
    }
   ],
   "source": [
    "fire2.geometry.name"
   ]
  },
  {
   "cell_type": "code",
   "execution_count": 19,
   "metadata": {
    "Collapsed": "false",
    "collapsed": true,
    "hidden": true,
    "jupyter": {
     "outputs_hidden": true
    }
   },
   "outputs": [
    {
     "data": {
      "text/plain": [
       "'+proj=sinu +lon_0=0 +x_0=0 +y_0=0 +a=6371007.181 +b=6371007.181 +units=m +no_defs'"
      ]
     },
     "execution_count": 19,
     "metadata": {},
     "output_type": "execute_result"
    }
   ],
   "source": [
    "fire2.crs  # Ah that is why you can't convert two columns. because when you convert one column\n",
    "# then the entire dataframe thinks it is now in the new CRS"
   ]
  },
  {
   "cell_type": "markdown",
   "metadata": {
    "Collapsed": "false"
   },
   "source": [
    "# EDA Stats and Plots"
   ]
  },
  {
   "cell_type": "markdown",
   "metadata": {
    "Collapsed": "false"
   },
   "source": [
    "## Raster Data"
   ]
  },
  {
   "cell_type": "code",
   "execution_count": 91,
   "metadata": {
    "Collapsed": "false"
   },
   "outputs": [],
   "source": [
    "# Opening the 4 raster files in toy data (not including DOB)\n",
    "with rio.open('../toydata/Global_fire_atlas_dircrop.tif') as f1:\n",
    "    direction = f1.read(1).astype(float)\n",
    "with rio.open('../toydata/Global_fire_atlas_firelinecrop.tif') as f2:\n",
    "    fireline = f2.read(1).astype(float)\n",
    "with rio.open('../toydata/Global_fire_atlas_speedcrop.tif') as f3:\n",
    "    speed = f3.read(1)\n",
    "with rio.open('../toydata/fireid.tif') as f4:\n",
    "    fireid = f4.read(1).astype(float)"
   ]
  },
  {
   "cell_type": "code",
   "execution_count": 92,
   "metadata": {
    "Collapsed": "false"
   },
   "outputs": [],
   "source": [
    "rasters = {'direction':direction,'fireline':fireline,'speed':speed,'fireid':fireid}"
   ]
  },
  {
   "cell_type": "markdown",
   "metadata": {
    "Collapsed": "false"
   },
   "source": [
    "### Fire Data Heatmaps"
   ]
  },
  {
   "cell_type": "code",
   "execution_count": 64,
   "metadata": {
    "Collapsed": "false"
   },
   "outputs": [],
   "source": [
    "def plot_rasters(rasters):\n",
    "    \"\"\" Plot all the fire data rasters for 2016 as heatmaps\"\"\"\n",
    "    fig = plt.figure(figsize = (20,4))\n",
    "    fig.suptitle('Bounded Fire Data showing Sparsity 2016')\n",
    "    fig.subplots_adjust(hspace=0.4)\n",
    "    i=1\n",
    "    for key,data in rasters.items():\n",
    "        ax = fig.add_subplot(1,4,i)\n",
    "        sns.heatmap(data)\n",
    "        ax.set_title(key)\n",
    "        i+=1\n",
    "    plt.savefig('HeatmapFireData.jpg')\n",
    "    plt.show()"
   ]
  },
  {
   "cell_type": "code",
   "execution_count": 65,
   "metadata": {
    "Collapsed": "false"
   },
   "outputs": [
    {
     "data": {
      "image/png": "[encoded data removed]",
      "text/plain": [
       "<Figure size 1440x288 with 8 Axes>"
      ]
     },
     "metadata": {
      "needs_background": "light"
     },
     "output_type": "display_data"
    }
   ],
   "source": [
    "# Visual of sparsity\n",
    "plot_rasters(rasters)"
   ]
  },
  {
   "cell_type": "markdown",
   "metadata": {
    "Collapsed": "false"
   },
   "source": [
    "### Fire Data Statistics"
   ]
  },
  {
   "cell_type": "code",
   "execution_count": 96,
   "metadata": {
    "Collapsed": "false"
   },
   "outputs": [],
   "source": [
    "# First create 1D array from 2D rasters\n",
    "dir1 = copy.deepcopy(direction)\n",
    "fl1 = copy.deepcopy(fireline)\n",
    "spd1 = copy.deepcopy(speed)\n",
    "fid1 = copy.deepcopy(fireid)"
   ]
  },
  {
   "cell_type": "code",
   "execution_count": 97,
   "metadata": {
    "Collapsed": "false"
   },
   "outputs": [],
   "source": [
    "dir1 = np.ravel(dir1)\n",
    "fl1 = np.ravel(fl1)\n",
    "spd1 = np.ravel(spd1)\n",
    "fid1 = np.ravel(fid1)"
   ]
  },
  {
   "cell_type": "code",
   "execution_count": 111,
   "metadata": {
    "Collapsed": "false"
   },
   "outputs": [],
   "source": [
    "onedim = {'direction':dir1,'fireline':fl1,'speed':spd1,'fireid':fid1}"
   ]
  },
  {
   "cell_type": "code",
   "execution_count": 106,
   "metadata": {
    "Collapsed": "false"
   },
   "outputs": [],
   "source": [
    "totalpixels = dir1.shape[0]"
   ]
  },
  {
   "cell_type": "code",
   "execution_count": 114,
   "metadata": {
    "Collapsed": "false"
   },
   "outputs": [
    {
     "data": {
      "image/png": "[encoded data removed]",
      "text/plain": [
       "<Figure size 720x288 with 2 Axes>"
      ]
     },
     "metadata": {},
     "output_type": "display_data"
    },
    {
     "data": {
      "image/png": "[encoded data removed]",
      "text/plain": [
       "<Figure size 720x288 with 2 Axes>"
      ]
     },
     "metadata": {},
     "output_type": "display_data"
    },
    {
     "data": {
      "image/png": "[encoded data removed]",
      "text/plain": [
       "<Figure size 720x288 with 2 Axes>"
      ]
     },
     "metadata": {},
     "output_type": "display_data"
    },
    {
     "data": {
      "image/png": "[encoded data removed]",
      "text/plain": [
       "<Figure size 720x288 with 2 Axes>"
      ]
     },
     "metadata": {},
     "output_type": "display_data"
    }
   ],
   "source": [
    "for name,data in onedim.items():\n",
    "    fig = plt.figure(figsize = (10,4))\n",
    "    fig.suptitle(f\"{name}. Total Pixels = {totalpixels}\")\n",
    "    plt.style.use('seaborn-white')\n",
    "    ax = fig.add_subplot(1,2,1)\n",
    "    plt.hist(data)\n",
    "    ax.set_title(\"All Data\")\n",
    "    ax = fig.add_subplot(1,2,2)\n",
    "    plt.hist(data[data>-10],bins=20)\n",
    "    ax.set_title(\"Null Data Ignored\")\n",
    "    plt.show()"
   ]
  },
  {
   "cell_type": "code",
   "execution_count": null,
   "metadata": {
    "Collapsed": "false"
   },
   "outputs": [],
   "source": []
  },
  {
   "cell_type": "markdown",
   "metadata": {
    "Collapsed": "false"
   },
   "source": [
    "# Setup"
   ]
  },
  {
   "cell_type": "code",
   "execution_count": null,
   "metadata": {
    "Collapsed": "false"
   },
   "outputs": [],
   "source": []
  }
 ],
 "metadata": {
  "kernelspec": {
   "display_name": "Python 3",
   "language": "python",
   "name": "python3"
  },
  "language_info": {
   "codemirror_mode": {
    "name": "ipython",
    "version": 3
   },
   "file_extension": ".py",
   "mimetype": "text/x-python",
   "name": "python",
   "nbconvert_exporter": "python",
   "pygments_lexer": "ipython3",
   "version": "3.7.6"
  },
  "toc": {
   "base_numbering": 1,
   "nav_menu": {},
   "number_sections": true,
   "sideBar": true,
   "skip_h1_title": false,
   "title_cell": "Table of Contents",
   "title_sidebar": "Contents",
   "toc_cell": false,
   "toc_position": {
    "height": "calc(100% - 180px)",
    "left": "10px",
    "top": "150px",
    "width": "427px"
   },
   "toc_section_display": true,
   "toc_window_display": true
  }
 },
 "nbformat": 4,
 "nbformat_minor": 4
}
