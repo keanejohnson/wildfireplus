{
 "cells": [
  {
   "cell_type": "markdown",
   "metadata": {
    "collapsed": "true"
   },
   "source": [
    "# Setup"
   ]
  },
  {
   "cell_type": "code",
   "execution_count": 1,
   "metadata": {},
   "outputs": [
    {
     "name": "stdout",
     "output_type": "stream",
     "text": [
      "# conda environments:\n",
      "#\n",
      "base                     C:\\DDRIVE\\ProgramFiles\\Anaconda3\n",
      "earth-analytics-python  *  C:\\DDRIVE\\ProgramFiles\\Anaconda3\\envs\\earth-analytics-python\n",
      "envhotzone               C:\\DDRIVE\\ProgramFiles\\Anaconda3\\envs\\envhotzone\n",
      "py36                     C:\\DDRIVE\\ProgramFiles\\Anaconda3\\envs\\py36\n",
      "wildfire                 C:\\DDRIVE\\ProgramFiles\\Anaconda3\\envs\\wildfire\n",
      "\n"
     ]
    }
   ],
   "source": [
    "!conda info --envs"
   ]
  },
  {
   "cell_type": "code",
   "execution_count": 2,
   "metadata": {},
   "outputs": [
    {
     "name": "stdout",
     "output_type": "stream",
     "text": [
      "Python Version = 3.7.6 | packaged by conda-forge | (default, Mar 23 2020, 22:22:21) [MSC v.1916 64 bit (AMD64)]\n",
      "Pandas Version = 1.0.3\n",
      "Geopandas Version = 0.7.0\n",
      "rasterio version = 3.0.4\n"
     ]
    }
   ],
   "source": [
    "import pandas as pd\n",
    "import matplotlib.pyplot as plt\n",
    "import sys\n",
    "import csv\n",
    "import numpy as np\n",
    "import os\n",
    "import sqlite3\n",
    "import copy\n",
    "#from dbfread import DBF\n",
    "import geopandas as gpd\n",
    "import fiona\n",
    "import pprint\n",
    "import folium\n",
    "#import descartes\n",
    "import rasterio as rio\n",
    "from rasterio.plot import plotting_extent\n",
    "from rasterio.warp import calculate_default_transform, reproject, Resampling\n",
    "from rasterio import features\n",
    "import rasterio.mask\n",
    "import earthpy as et\n",
    "import earthpy.spatial as es\n",
    "import earthpy.plot as ep\n",
    "import pickle\n",
    "from scipy import stats\n",
    "\n",
    "print(f\"Python Version = {sys.version}\")\n",
    "print(f\"Pandas Version = {pd.__version__}\")\n",
    "print(f\"Geopandas Version = {gpd.__version__}\")\n",
    "print(f\"rasterio version = {rio._base.gdal_version()}\")"
   ]
  },
  {
   "cell_type": "markdown",
   "metadata": {
    "collapsed": "true",
    "heading_collapsed": true
   },
   "source": [
    "# Definitions"
   ]
  },
  {
   "cell_type": "markdown",
   "metadata": {
    "hidden": true
   },
   "source": [
    "1) Fine Fuel Moisture Code\n",
    "The Fine Fuel Moisture Code (FFMC) is a numeric rating of the moisture content of litter and other cured fine fuels. This code is an indicator of the relative ease of ignition and the flammability of fine fuel.\n",
    "\n",
    "2) Duff Moisture Code\n",
    "The Duff Moisture Code (DMC) is a numeric rating of the average moisture content of loosely compacted organic layers of moderate depth. This code gives an indication of fuel consumption in moderate duff layers and medium-size woody material.\n",
    "\n",
    "3) Drought Code\n",
    "The Drought Code (DC) is a numeric rating of the average moisture content of deep, compact organic layers. This code is a useful indicator of seasonal drought effects on forest fuels and the amount of smoldering in deep duff layers and large logs.\n",
    "\n",
    "4)  Initial Spread Index\n",
    "The Initial Spread Index (ISI) is a numeric rating of the expected rate of fire spread. It combines the effects of wind and the FFMC on rate of spread without the influence of variable quantities of fuel.\n",
    "\n",
    "https://cwfis.cfs.nrcan.gc.ca/background/summary/fwi\n",
    "\n",
    "5) Temp\n",
    "Temperature in Celsius degrees\n",
    "\n",
    "6) RH\n",
    "Relative humidity in %\n",
    "\n",
    "7) Wind\n",
    "Wind speed in km/h\n",
    "\n",
    "8) Rain\n",
    "Outside rain in mm/m2\n",
    "\n",
    "9) Area\n",
    "The burned area of the forest (in ha), ha = hectare = 2.47 acres\n",
    "\n",
    "10) X\n",
    "x-axis spatial coordinate within the Montesinho park map: 1 to 9 2\n",
    "\n",
    "11) Y\n",
    "y-axis spatial coordinate within the Montesinho park map: 2 to 9 3"
   ]
  },
  {
   "cell_type": "markdown",
   "metadata": {
    "hidden": true
   },
   "source": [
    "Literature:\n",
    "\n",
    "https://news.uci.edu/2019/09/17/uci-team-uses-machine-learning-to-help-tell-which-wildfires-will-burn-out-of-control/\n",
    "\n",
    "In the original paper (Portugal - Montesinho fires), the best result (predicting burned area) was only using the 4 weather conditions: RH/Wind/Rain/Temp, and an SVM.\n",
    "\n",
    "This: https://datasetsearch.research.google.com/search?query=wildfire%20area&docid=fchFFzqh0O3qjX3PAAAAAA%3D%3D has georeferenced and date/time referenced with areas. Could combine with weather data for those dates/times."
   ]
  },
  {
   "cell_type": "markdown",
   "metadata": {
    "collapsed": "true"
   },
   "source": [
    "# Query shape of datasets, type, feature names and how they work together"
   ]
  },
  {
   "cell_type": "code",
   "execution_count": null,
   "metadata": {},
   "outputs": [],
   "source": [
    "os.getcwd()"
   ]
  },
  {
   "cell_type": "markdown",
   "metadata": {},
   "source": [
    "## Global Fire Data  \n",
    "\n",
    "If you want to see these easily on a map, visit: https://daac.ornl.gov/cgi-bin/dsviewer.pl?ds_id=1642  \n",
    "\n",
    "I have only pulled the 2016 data in in order to get a feel for it."
   ]
  },
  {
   "cell_type": "markdown",
   "metadata": {},
   "source": [
    "### DBF file"
   ]
  },
  {
   "cell_type": "markdown",
   "metadata": {
    "heading_collapsed": true
   },
   "source": [
    "#### Ignitions"
   ]
  },
  {
   "cell_type": "code",
   "execution_count": null,
   "metadata": {
    "hidden": true
   },
   "outputs": [],
   "source": [
    "globaldbf = DBF('../data/GlobalFire2016/Global_fire_atlas_V1_ignitions_2016/Global_fire_atlas_V1_ignitions_2016.dbf')"
   ]
  },
  {
   "cell_type": "code",
   "execution_count": null,
   "metadata": {
    "hidden": true
   },
   "outputs": [],
   "source": [
    "len(globaldbf)"
   ]
  },
  {
   "cell_type": "code",
   "execution_count": null,
   "metadata": {
    "hidden": true
   },
   "outputs": [],
   "source": [
    "records = list(globaldbf)"
   ]
  },
  {
   "cell_type": "code",
   "execution_count": null,
   "metadata": {
    "hidden": true
   },
   "outputs": [],
   "source": [
    "print(records[0])"
   ]
  },
  {
   "cell_type": "code",
   "execution_count": null,
   "metadata": {
    "hidden": true
   },
   "outputs": [],
   "source": [
    "df = pd.DataFrame(iter(globaldbf))"
   ]
  },
  {
   "cell_type": "code",
   "execution_count": null,
   "metadata": {
    "hidden": true
   },
   "outputs": [],
   "source": [
    "df.head()"
   ]
  },
  {
   "cell_type": "markdown",
   "metadata": {
    "heading_collapsed": true
   },
   "source": [
    "#### Perimeter"
   ]
  },
  {
   "cell_type": "code",
   "execution_count": null,
   "metadata": {
    "hidden": true
   },
   "outputs": [],
   "source": [
    "perim2016 = DBF('../data/GlobalFire2016/Global_fire_atlas_V1_perimeter_2016/Global_fire_atlas_V1_perimeter_2016.dbf')"
   ]
  },
  {
   "cell_type": "code",
   "execution_count": null,
   "metadata": {
    "hidden": true
   },
   "outputs": [],
   "source": [
    "perimdf = pd.DataFrame(iter(perim2016))"
   ]
  },
  {
   "cell_type": "code",
   "execution_count": null,
   "metadata": {
    "hidden": true
   },
   "outputs": [],
   "source": [
    "perimdf.head()"
   ]
  },
  {
   "cell_type": "markdown",
   "metadata": {},
   "source": [
    "### Shapefile - shp"
   ]
  },
  {
   "cell_type": "markdown",
   "metadata": {
    "heading_collapsed": true
   },
   "source": [
    "#### Ignitions"
   ]
  },
  {
   "cell_type": "code",
   "execution_count": null,
   "metadata": {
    "code_folding": [],
    "hidden": true
   },
   "outputs": [],
   "source": [
    "with fiona.open('../data/GlobalFire2016/Global_fire_atlas_V1_ignitions_2016/Global_fire_atlas_V1_ignitions_2016.shp') as src:\n",
    "    pprint.pprint(src[0])"
   ]
  },
  {
   "cell_type": "code",
   "execution_count": null,
   "metadata": {
    "hidden": true
   },
   "outputs": [],
   "source": [
    "gdf = gpd.read_file('../data/GlobalFire2016/Global_fire_atlas_V1_ignitions_2016/Global_fire_atlas_V1_ignitions_2016.shp')"
   ]
  },
  {
   "cell_type": "code",
   "execution_count": null,
   "metadata": {
    "hidden": true
   },
   "outputs": [],
   "source": [
    "gdf.head()"
   ]
  },
  {
   "cell_type": "code",
   "execution_count": null,
   "metadata": {
    "hidden": true
   },
   "outputs": [],
   "source": [
    "#gdf.plot()"
   ]
  },
  {
   "cell_type": "code",
   "execution_count": null,
   "metadata": {
    "hidden": true
   },
   "outputs": [],
   "source": [
    "gdf.geometry[:5]"
   ]
  },
  {
   "cell_type": "code",
   "execution_count": null,
   "metadata": {
    "hidden": true
   },
   "outputs": [],
   "source": [
    "print(gdf.crs)"
   ]
  },
  {
   "cell_type": "code",
   "execution_count": null,
   "metadata": {
    "hidden": true
   },
   "outputs": [],
   "source": [
    "gdf.columns.values"
   ]
  },
  {
   "cell_type": "markdown",
   "metadata": {
    "heading_collapsed": true
   },
   "source": [
    "#### Perimeter"
   ]
  },
  {
   "cell_type": "code",
   "execution_count": null,
   "metadata": {
    "hidden": true
   },
   "outputs": [],
   "source": [
    "gdf1 = gpd.read_file('../data/GlobalFire2016/Global_fire_atlas_V1_perimeter_2016/Global_fire_atlas_V1_perimeter_2016.shp')"
   ]
  },
  {
   "cell_type": "code",
   "execution_count": null,
   "metadata": {
    "hidden": true
   },
   "outputs": [],
   "source": [
    "gdf1.head()"
   ]
  },
  {
   "cell_type": "code",
   "execution_count": null,
   "metadata": {
    "hidden": true
   },
   "outputs": [],
   "source": [
    "gdf1.columns.values"
   ]
  },
  {
   "cell_type": "code",
   "execution_count": null,
   "metadata": {
    "hidden": true
   },
   "outputs": [],
   "source": [
    "gdf1.geometry[0]"
   ]
  },
  {
   "cell_type": "code",
   "execution_count": null,
   "metadata": {
    "hidden": true
   },
   "outputs": [],
   "source": [
    "gdf1[0:3].plot()"
   ]
  },
  {
   "cell_type": "code",
   "execution_count": null,
   "metadata": {
    "hidden": true
   },
   "outputs": [],
   "source": [
    "%%time\n",
    "world = gpd.read_file(gpd.datasets.get_path('naturalearth_lowres'))\n",
    "ax = world.plot(color='lightgrey',linewidth=0.5,edgecolor='white',figsize = (20,8))\n",
    "gdf1.plot(ax=ax)\n",
    "plt.savefig('perimeters.png')"
   ]
  },
  {
   "cell_type": "markdown",
   "metadata": {
    "heading_collapsed": true
   },
   "source": [
    "### PRJ file"
   ]
  },
  {
   "cell_type": "code",
   "execution_count": null,
   "metadata": {
    "hidden": true
   },
   "outputs": [],
   "source": [
    "with open('../data/GlobalFire2016/Global_fire_atlas_V1_ignitions_2016/Global_fire_atlas_V1_ignitions_2016.prj') as f1:\n",
    "    print(f\"Ignitions Prj file contents = {f1.read()}\")\n",
    "    \n",
    "with open('../data/GlobalFire2016/Global_fire_atlas_V1_perimeter_2016/Global_fire_atlas_V1_perimeter_2016.prj','r') as f2:\n",
    "    print(f\"Perimeter Prj file contents = {f2.read()}\")    "
   ]
  },
  {
   "cell_type": "markdown",
   "metadata": {
    "hidden": true
   },
   "source": [
    "The above mean:\n",
    "- GEOGCS: Geographic coordinate reference system (vs. a projected coordinate system)\n",
    "- WGS 84 : the name of the geographic coordinate reference system\n",
    "- WGS_1984: The name of the DATUM\n",
    "- SPHEROID: Used for the reference system with the semi major axis = 6378137 m and inverse-flattening ratio of 298.257223563\n",
    "- PRIMEM: Greenwich is prime meridian where longitude is set as 0\n",
    "- UNIT: measurement units of coordinate system, in degrees, where 0.01745.. is the conversion from radians to the units here(degrees)"
   ]
  },
  {
   "cell_type": "markdown",
   "metadata": {},
   "source": [
    "### GEOTiff"
   ]
  },
  {
   "cell_type": "markdown",
   "metadata": {
    "heading_collapsed": true
   },
   "source": [
    "#### Yearly TIFFs"
   ]
  },
  {
   "cell_type": "code",
   "execution_count": null,
   "metadata": {
    "hidden": true
   },
   "outputs": [],
   "source": [
    "from rasterio.windows import Window"
   ]
  },
  {
   "cell_type": "code",
   "execution_count": null,
   "metadata": {
    "hidden": true
   },
   "outputs": [],
   "source": [
    "%%time\n",
    "diryr = rio.open('../data/GlobalFire2016/Global_fire_atlas_direction_yearly_2016.tif')\n",
    "# speedyr = rio.open('../data/GlobalFire2016/Global_fire_atlas_speed_yearly_2016.tif')\n",
    "# dobyr = rio.open('../data/GlobalFire2016/Global_fire_atlas_day_of_burn_yearly_2016.tif')\n",
    "# firelineyr = rio.open('../data/GlobalFire2016/Global_fire_atlas_fire_line_yearly_2016.tif')"
   ]
  },
  {
   "cell_type": "code",
   "execution_count": null,
   "metadata": {
    "hidden": true
   },
   "outputs": [],
   "source": [
    "tifs = [diryr,speedyr,dobyr,firelineyr]"
   ]
  },
  {
   "cell_type": "code",
   "execution_count": null,
   "metadata": {
    "hidden": true
   },
   "outputs": [],
   "source": [
    "for tif in tifs:\n",
    "    print(\"name = \",tif.name)\n",
    "    print(\"resolution of a pixel in units of coord reference system = \",tif.res)\n",
    "    print(\"Image Structure tags =\",tif.tags(ns='IMAGE_STRUCTURE'))\n",
    "    print(\"tags =\",tif.tags())\n",
    "    print(tif.shape)\n",
    "    print(tif.bounds)\n",
    "    print(\"number of layers = \",tif.count)\n",
    "    print(\"number of bands =\", tif.indexes)\n",
    "    print(tif.meta)\n",
    "    print(\"\\n\\n\")"
   ]
  },
  {
   "cell_type": "code",
   "execution_count": null,
   "metadata": {
    "hidden": true
   },
   "outputs": [],
   "source": [
    "print(diryr.meta)\n",
    "#customcrs = diryr.meta"
   ]
  },
  {
   "cell_type": "code",
   "execution_count": null,
   "metadata": {
    "hidden": true
   },
   "outputs": [],
   "source": [
    "print(diryr.crs)"
   ]
  },
  {
   "cell_type": "code",
   "execution_count": null,
   "metadata": {
    "hidden": true
   },
   "outputs": [],
   "source": [
    "customcrs = diryr.crs"
   ]
  },
  {
   "cell_type": "markdown",
   "metadata": {
    "heading_collapsed": true
   },
   "source": [
    "#### Convert Lat/Long to CRS"
   ]
  },
  {
   "cell_type": "markdown",
   "metadata": {
    "hidden": true
   },
   "source": [
    "From StackExchange:\n",
    "\n",
    "You need to transform your points to the coordinate system of the raster. You could warp the raster to your points' coordinate system but warping rasters is a bit messy. (for R but should be similar in python)\n",
    "\n",
    "https://gis.stackexchange.com/questions/200417/very-basic-question-on-extracting-data-from-tif-raster-layer-in-r-projection-n"
   ]
  },
  {
   "cell_type": "markdown",
   "metadata": {
    "hidden": true
   },
   "source": [
    "Spatial Reference System, proj4: +proj=sinu +lon_0=0 +x_0=0 +y_0=0 +a=6371007.181 +b=6371007.181 +units=m +no_defs"
   ]
  },
  {
   "cell_type": "code",
   "execution_count": null,
   "metadata": {
    "hidden": true
   },
   "outputs": [],
   "source": [
    "# Our desired 'fire' from the shapefile\n",
    "fire"
   ]
  },
  {
   "cell_type": "code",
   "execution_count": null,
   "metadata": {
    "hidden": true
   },
   "outputs": [],
   "source": [
    "fire.crs"
   ]
  },
  {
   "cell_type": "code",
   "execution_count": null,
   "metadata": {
    "hidden": true
   },
   "outputs": [],
   "source": [
    "# Global Fire Atlas projection Coordinate Reference System (from website)\n",
    "gfacrs = \"+proj=sinu +lon_0=0 +x_0=0 +y_0=0 +a=6371007.181 +b=6371007.181 +units=m +no_defs\" "
   ]
  },
  {
   "cell_type": "code",
   "execution_count": null,
   "metadata": {
    "hidden": true,
    "scrolled": true
   },
   "outputs": [],
   "source": [
    "fire2 = fire.to_crs(gfacrs)\n",
    "fire2"
   ]
  },
  {
   "cell_type": "code",
   "execution_count": null,
   "metadata": {
    "hidden": true
   },
   "outputs": [],
   "source": [
    "fire2.geometry.name"
   ]
  },
  {
   "cell_type": "code",
   "execution_count": null,
   "metadata": {
    "hidden": true
   },
   "outputs": [],
   "source": [
    "fire2.crs  # Ah that is why you can't convert two columns. because when you convert one column\n",
    "# then the entire dataframe thinks it is now in the new CRS"
   ]
  },
  {
   "cell_type": "markdown",
   "metadata": {
    "heading_collapsed": true
   },
   "source": [
    "#### Reimport and engineer the features appropriately\n",
    "\n",
    "First, don't combine the shp files. Instead, create 3 dataframes:  \n",
    "1) fire ID and all the features (except geometry)  \n",
    "2) fire ID and POLYGON  \n",
    "3) fire ID and POINT (ignition)  "
   ]
  },
  {
   "cell_type": "code",
   "execution_count": null,
   "metadata": {
    "hidden": true
   },
   "outputs": [],
   "source": [
    "%%time\n",
    "ign_gdf = gpd.read_file('../data/GlobalFire2016/Global_fire_atlas_V1_ignitions_2016/Global_fire_atlas_V1_ignitions_2016.shp')\n",
    "poly_gdf = gpd.read_file('../data/GlobalFire2016/Global_fire_atlas_V1_perimeter_2016/Global_fire_atlas_V1_perimeter_2016.shp')"
   ]
  },
  {
   "cell_type": "code",
   "execution_count": null,
   "metadata": {
    "hidden": true
   },
   "outputs": [],
   "source": [
    "features1 = copy.deepcopy(ign_gdf)"
   ]
  },
  {
   "cell_type": "code",
   "execution_count": null,
   "metadata": {
    "hidden": true
   },
   "outputs": [],
   "source": [
    "features1 = pd.DataFrame(ign_gdf.drop(columns='geometry'))\n",
    "features1.head()"
   ]
  },
  {
   "cell_type": "code",
   "execution_count": null,
   "metadata": {
    "hidden": true
   },
   "outputs": [],
   "source": [
    "colnames = list(ign_gdf.columns)"
   ]
  },
  {
   "cell_type": "code",
   "execution_count": null,
   "metadata": {
    "hidden": true
   },
   "outputs": [],
   "source": [
    "keepnames = [colnames[0],colnames[len(colnames)-1]]\n",
    "keepnames"
   ]
  },
  {
   "cell_type": "code",
   "execution_count": null,
   "metadata": {
    "hidden": true
   },
   "outputs": [],
   "source": [
    "dropnames = list(set(colnames) - set(keepnames))"
   ]
  },
  {
   "cell_type": "code",
   "execution_count": null,
   "metadata": {
    "hidden": true
   },
   "outputs": [],
   "source": [
    "ign_gdf.drop(columns=dropnames,inplace=True)"
   ]
  },
  {
   "cell_type": "code",
   "execution_count": null,
   "metadata": {
    "hidden": true
   },
   "outputs": [],
   "source": [
    "dropnames2 = list(set(list(poly_gdf.columns)) - set(keepnames))\n",
    "poly_gdf.drop(columns=dropnames2,inplace=True)"
   ]
  },
  {
   "cell_type": "code",
   "execution_count": null,
   "metadata": {
    "hidden": true
   },
   "outputs": [],
   "source": [
    "# Global Fire Atlas projection Coordinate Reference System (from website)\n",
    "gfacrs = \"+proj=sinu +lon_0=0 +x_0=0 +y_0=0 +a=6371007.181 +b=6371007.181 +units=m +no_defs\" "
   ]
  },
  {
   "cell_type": "markdown",
   "metadata": {},
   "source": [
    "#### Subset to California State"
   ]
  },
  {
   "cell_type": "markdown",
   "metadata": {
    "heading_collapsed": true
   },
   "source": [
    "##### CA State Boundaries"
   ]
  },
  {
   "cell_type": "markdown",
   "metadata": {
    "hidden": true
   },
   "source": [
    "From https://data.ca.gov/dataset/ca-geographic-boundaries/resource/3db1e426-fb51-44f5-82d5-a54d7c6e188b"
   ]
  },
  {
   "cell_type": "code",
   "execution_count": null,
   "metadata": {
    "hidden": true
   },
   "outputs": [],
   "source": [
    "%%time\n",
    "#CA_gdf = gpd.read_file('../data/ca-state-boundary/CA_state_TIGER2016.shp')\n",
    "CA_gdf = gpd.read_file('../data/ca-state-boundary/CA_State_TIGER2016.shp')"
   ]
  },
  {
   "cell_type": "code",
   "execution_count": null,
   "metadata": {
    "hidden": true
   },
   "outputs": [],
   "source": [
    "CA_gdf"
   ]
  },
  {
   "cell_type": "code",
   "execution_count": null,
   "metadata": {
    "hidden": true
   },
   "outputs": [],
   "source": [
    "CA_gdf.plot()"
   ]
  },
  {
   "cell_type": "code",
   "execution_count": null,
   "metadata": {},
   "outputs": [],
   "source": [
    "CA_gdf.crs"
   ]
  },
  {
   "cell_type": "markdown",
   "metadata": {
    "heading_collapsed": true
   },
   "source": [
    "##### Try a different approach - crop rasters to California"
   ]
  },
  {
   "cell_type": "markdown",
   "metadata": {
    "hidden": true
   },
   "source": [
    "From Earth  data science: https://www.earthdatascience.org/courses/use-data-open-source-python/intro-raster-data-python/raster-data-processing/crop-raster-data-with-shapefile-in-python/"
   ]
  },
  {
   "cell_type": "code",
   "execution_count": null,
   "metadata": {
    "hidden": true
   },
   "outputs": [],
   "source": [
    "# Raster Data opened by rio is diryr\n",
    "print(diryr.bounds)"
   ]
  },
  {
   "cell_type": "code",
   "execution_count": null,
   "metadata": {
    "hidden": true
   },
   "outputs": [],
   "source": [
    "# Crop extent: CA_gdf\n",
    "print('crop extent crs = \\n', CA_gdf.crs)\n",
    "print('tiff crs = \\n', diryr.crs)"
   ]
  },
  {
   "cell_type": "code",
   "execution_count": null,
   "metadata": {
    "hidden": true
   },
   "outputs": [],
   "source": [
    "# Set destination CRS\n",
    "dst_crs = CA_gdf.crs"
   ]
  },
  {
   "cell_type": "code",
   "execution_count": null,
   "metadata": {
    "hidden": true
   },
   "outputs": [],
   "source": [
    "%%time\n",
    "# Calculate the transform using the rasterio warp function\n",
    "transform,width,height = calculate_default_transform(diryr.crs,dst_crs,diryr.width,diryr.height,*diryr.bounds)"
   ]
  },
  {
   "cell_type": "code",
   "execution_count": null,
   "metadata": {
    "hidden": true
   },
   "outputs": [],
   "source": [
    "%%time\n",
    "# Set the new meta data for the projected raster file\n",
    "kwargs = diryr.meta.copy()\n",
    "kwargs.update({'crs':dst_crs,\n",
    "              'transform':transform,\n",
    "              'width':width,\n",
    "              'height':height\n",
    "              })"
   ]
  },
  {
   "cell_type": "code",
   "execution_count": null,
   "metadata": {
    "hidden": true
   },
   "outputs": [],
   "source": [
    "%%time\n",
    "# write the new raster file by using the rasterio reproject function\n",
    "with rio.open('../data/GlobalFire2016/Global_fire_atlas_direction_yearly_2016_reproj.tif','w',**kwargs) as dst:\n",
    "    for i in range(1, diryr.count + 1):\n",
    "        reproject(\n",
    "            source = rio.band(diryr,i),\n",
    "            destination=rio.band(dst,i),\n",
    "            diryr_transform = diryr.transform,\n",
    "            diryr_crs = diryr.crs,\n",
    "            dst_transform = transform,\n",
    "            dst_crs = dst_crs,\n",
    "            resampling=Resampling.nearest)"
   ]
  },
  {
   "cell_type": "code",
   "execution_count": null,
   "metadata": {
    "hidden": true,
    "scrolled": true
   },
   "outputs": [],
   "source": [
    "%%time\n",
    "# Open the new reprojected geotiff\n",
    "diryr_reproj = rio.open('../data/GlobalFire2016/Global_fire_atlas_direction_yearly_2016_reproj.tif')\n",
    "print(diryr_reproj.meta)"
   ]
  },
  {
   "cell_type": "code",
   "execution_count": null,
   "metadata": {
    "hidden": true
   },
   "outputs": [],
   "source": [
    "%%time\n",
    "# Crop extent: CA_gdf - crop to the boundaries of California, which should work now that both raster \n",
    "# and shapefile are on the same CRS\n",
    "print('crop extent crs = \\n', CA_gdf.crs)\n",
    "print('tiff crs = \\n', diryr_reproj.crs)"
   ]
  },
  {
   "cell_type": "code",
   "execution_count": null,
   "metadata": {
    "hidden": true
   },
   "outputs": [],
   "source": [
    "%%time\n",
    "# Use the earthpy.spatial function to crop the tif by the shapefile\n",
    "diryr_reproj_crop, diryr_reproj_crop_meta = es.crop_image(diryr_reproj,CA_gdf)"
   ]
  },
  {
   "cell_type": "code",
   "execution_count": null,
   "metadata": {
    "hidden": true
   },
   "outputs": [],
   "source": [
    "print(\"cropped data\", diryr_reproj_crop.shape)\n",
    "print(\"original data\", diryr.shape)"
   ]
  },
  {
   "cell_type": "code",
   "execution_count": null,
   "metadata": {
    "hidden": true
   },
   "outputs": [],
   "source": [
    "# Use the affine transformation for the CRS to define the extents\n",
    "diryr_reproj_crop_affine = diryr_reproj_crop_meta[\"transform\"]\n",
    "diryr_reproj_extent = plotting_extent(diryr_reproj_crop[0],diryr_reproj_crop_affine)"
   ]
  },
  {
   "cell_type": "code",
   "execution_count": null,
   "metadata": {
    "hidden": true
   },
   "outputs": [],
   "source": [
    "diryr_reproj_crop_meta"
   ]
  },
  {
   "cell_type": "code",
   "execution_count": null,
   "metadata": {
    "hidden": true
   },
   "outputs": [],
   "source": [
    "fig,ax = plt.subplots(figsize=(10,16))\n",
    "ep.plot_bands(diryr_reproj_crop,\n",
    "              extent = diryr_reproj_extent,\n",
    "              cmap='Greys',\n",
    "              title = 'Direction',\n",
    "              scale=False,\n",
    "              ax=ax,\n",
    "              cbar=False)\n",
    "\n",
    "CA_gdf.plot(ax=ax,alpha=0.2)\n",
    "ax.set_axis_off()\n",
    "plt.show()"
   ]
  },
  {
   "cell_type": "code",
   "execution_count": null,
   "metadata": {
    "hidden": true
   },
   "outputs": [],
   "source": [
    "vals = diryr_reproj_crop[0][diryr_reproj_crop[0]>0]\n",
    "vals"
   ]
  },
  {
   "cell_type": "code",
   "execution_count": null,
   "metadata": {
    "hidden": true
   },
   "outputs": [],
   "source": [
    "print(type(vals),vals.shape)\n",
    "stats.describe(vals)"
   ]
  },
  {
   "cell_type": "markdown",
   "metadata": {
    "heading_collapsed": true
   },
   "source": [
    "##### Transform Ignition and polygons of final fire sizes to CA CRS"
   ]
  },
  {
   "cell_type": "code",
   "execution_count": null,
   "metadata": {
    "hidden": true
   },
   "outputs": [],
   "source": [
    "# transform CRS\n",
    "ign2 = ign_gdf.to_crs(dst_crs)\n",
    "poly2 = poly_gdf.to_crs(dst_crs)"
   ]
  },
  {
   "cell_type": "code",
   "execution_count": null,
   "metadata": {
    "hidden": true
   },
   "outputs": [],
   "source": [
    "# set area to crop to\n",
    "bb = CA_gdf.envelope"
   ]
  },
  {
   "cell_type": "code",
   "execution_count": null,
   "metadata": {
    "hidden": true
   },
   "outputs": [],
   "source": [
    "# Crop polygons of final fire sizes using geopandas overlay\n",
    "df2 = gpd.GeoDataFrame(gpd.GeoSeries(bb),columns=['geometry'])\n",
    "poly2crop = gpd.overlay(df2,poly2,how='intersection')"
   ]
  },
  {
   "cell_type": "code",
   "execution_count": null,
   "metadata": {
    "hidden": true
   },
   "outputs": [],
   "source": [
    "# Use dataframe slicing for the ignition point data.\n",
    "xmin,ymin,xmax,ymax=CA_gdf.total_bounds\n",
    "ign2crop = ign2.cx[xmin:xmax,ymin:ymax]"
   ]
  },
  {
   "cell_type": "code",
   "execution_count": null,
   "metadata": {
    "hidden": true
   },
   "outputs": [],
   "source": [
    "fig,ax = plt.subplots(figsize=(10,16))\n",
    "ep.plot_bands(diryr_reproj_crop,\n",
    "              extent = diryr_reproj_extent,\n",
    "              cmap='Greys',\n",
    "              title = 'Direction',\n",
    "              scale=False,\n",
    "              ax=ax,\n",
    "              cbar=False)\n",
    "\n",
    "CA_gdf.plot(ax=ax, alpha=0.2)\n",
    "ign2crop.plot(ax=ax,marker='x',color='green',markersize=12)\n",
    "poly2crop.plot(ax=ax,alpha=0.4)\n",
    "ax.set_axis_off()\n",
    "plt.show()"
   ]
  },
  {
   "cell_type": "markdown",
   "metadata": {},
   "source": [
    "#### Create new bounding box for smaller section of CA and convert CRS\n",
    "Repeat above process for cropping"
   ]
  },
  {
   "cell_type": "code",
   "execution_count": null,
   "metadata": {},
   "outputs": [],
   "source": [
    "# Set source CRS - this is the google maps CRS\n",
    "bb_gdf_orig.crs = {'init':'epsg:4326'}\n",
    "print(bb_gdf_orig.crs)"
   ]
  },
  {
   "cell_type": "code",
   "execution_count": null,
   "metadata": {},
   "outputs": [],
   "source": [
    "# Create bounding box polygon from lat long pulled from Gmaps\n",
    "from shapely.geometry import Polygon\n",
    "bb_long = [-122, -119.912,-119.912,-122,-122 ]\n",
    "bb_lat = [36.8, 36.8, 35.06, 35.06,36.8]\n",
    "bb_poly = Polygon(zip(bb_long,bb_lat))\n",
    "bb_gdf2 = gpd.GeoDataFrame(index=[0],crs=bb_gdf_orig.crs,geometry = [bb_poly])\n",
    "print(bb_gdf2.geometry)"
   ]
  },
  {
   "cell_type": "code",
   "execution_count": null,
   "metadata": {},
   "outputs": [],
   "source": [
    "# Change CRS of polygon to match other work here\n",
    "bb_gdf2 = bb_gdf2.to_crs(epsg=3857)\n",
    "bb_gdf2"
   ]
  },
  {
   "cell_type": "code",
   "execution_count": null,
   "metadata": {},
   "outputs": [],
   "source": [
    "# Plotting\n",
    "fig,ax = plt.subplots(figsize=(10,16))\n",
    "ep.plot_bands(diryr_reproj_crop,\n",
    "              extent = diryr_reproj_extent,\n",
    "              cmap='Greys',\n",
    "              title = 'Direction',\n",
    "              scale=False,\n",
    "              ax=ax,\n",
    "              cbar=False)\n",
    "\n",
    "CA_gdf.plot(ax=ax, alpha=0.2)\n",
    "ign2crop.plot(ax=ax,marker='x',color='green',markersize=12)\n",
    "poly2crop.plot(ax=ax,alpha=0.4)\n",
    "bb_gdf2.plot(ax=ax,color='green',alpha=0.2)\n",
    "ax.set_axis_off()\n",
    "plt.show()"
   ]
  },
  {
   "cell_type": "markdown",
   "metadata": {
    "heading_collapsed": true
   },
   "source": [
    "#### Convert CRS for remaining raster files"
   ]
  },
  {
   "cell_type": "code",
   "execution_count": null,
   "metadata": {
    "hidden": true
   },
   "outputs": [],
   "source": [
    "# Raster Data opened by rio \n",
    "#speedyr = rio.open('../data/GlobalFire2016/Global_fire_atlas_speed_yearly_2016.tif')\n",
    "#dobyr = rio.open('../data/GlobalFire2016/Global_fire_atlas_day_of_burn_yearly_2016.tif')\n",
    "#firelineyr = rio.open('../data/GlobalFire2016/Global_fire_atlas_fire_line_yearly_2016.tif')\n",
    "print('speedyr bounds =',speedyr.bounds)\n",
    "print('dobyr bounds =',dobyr.bounds)\n",
    "print('firelineyr bounds =',firelineyr.bounds)"
   ]
  },
  {
   "cell_type": "code",
   "execution_count": null,
   "metadata": {
    "hidden": true
   },
   "outputs": [],
   "source": [
    "# Set destination CRS\n",
    "dst_crs = bb_gdf2.crs"
   ]
  },
  {
   "cell_type": "code",
   "execution_count": null,
   "metadata": {
    "hidden": true
   },
   "outputs": [],
   "source": [
    "tifs = [(speedyr,'speed'),(dobyr,'dob'),(firelineyr,'fireline')]"
   ]
  },
  {
   "cell_type": "code",
   "execution_count": null,
   "metadata": {
    "hidden": true
   },
   "outputs": [],
   "source": [
    "# Commented out this whole box because files have been saved already NEXT TIME - ADD COMPRESSION - \n",
    "# FILES WERE HUGE (see commented line below) OR reproject to new array, then write out with compression\n",
    "# %%time\n",
    "# for tif in tifs:\n",
    "#     file,name = tif\n",
    "    \n",
    "#     # Calculate the transform using the rasterio warp function\n",
    "#     transform,width,height = calculate_default_transform(file.crs,dst_crs,file.width,file.height,*file.bounds)\n",
    "    \n",
    "#     # Set the new meta data for the projected raster file\n",
    "#     kwargs = file.meta.copy()\n",
    "#     kwargs.update({'crs':dst_crs,\n",
    "#                   'transform':transform,\n",
    "#                   'width':width,\n",
    "#                   'height':height\n",
    "#                   #compress:'lzw'\n",
    "#                   })\n",
    "    \n",
    "#     # Filename for writing out to\n",
    "#     filestring = '../data/GlobalFire2016/Global_fire_atlas_' + name + '_yearly_2016_reproj.tif'\n",
    "    \n",
    "#     # write the new raster file by using the rasterio reproject function\n",
    "#     with rio.open(filestring,'w',**kwargs) as dst:\n",
    "#         for i in range(1, file.count + 1):\n",
    "#             reproject(\n",
    "#                 source = rio.band(file,i),\n",
    "#                 destination=rio.band(dst,i),\n",
    "#                 file_transform = file.transform,\n",
    "#                 file_crs = file.crs,\n",
    "#                 dst_transform = transform,\n",
    "#                 dst_crs = dst_crs,\n",
    "#                 resampling=Resampling.nearest)  "
   ]
  },
  {
   "cell_type": "code",
   "execution_count": null,
   "metadata": {
    "hidden": true
   },
   "outputs": [],
   "source": [
    "# Close all the previous readers\n",
    "diryr.close()\n",
    "dobyr.close()\n",
    "firelineyr.close()\n",
    "speedyr.close()"
   ]
  },
  {
   "cell_type": "markdown",
   "metadata": {},
   "source": [
    "#### Crop to smaller bounding box - Toy Set"
   ]
  },
  {
   "cell_type": "code",
   "execution_count": null,
   "metadata": {},
   "outputs": [],
   "source": [
    "# Check CRSs all match\n",
    "print('ignition CRS', ign2.crs)\n",
    "print('final polygon CRS', poly2.crs)\n",
    "print('bounding box CRS', bb_gdf2.crs)"
   ]
  },
  {
   "cell_type": "markdown",
   "metadata": {},
   "source": [
    "##### First the ignition points to get fire numbers and then final fire sizes and dbf data"
   ]
  },
  {
   "cell_type": "code",
   "execution_count": null,
   "metadata": {},
   "outputs": [],
   "source": [
    "print('bounding box extents', bb_gdf2.total_bounds)"
   ]
  },
  {
   "cell_type": "code",
   "execution_count": null,
   "metadata": {},
   "outputs": [],
   "source": [
    "# Crop Ignition Data\n",
    "xmin2,ymin2,xmax2,ymax2=bb_gdf2.total_bounds\n",
    "ign2crop2 = ign2.cx[xmin2:xmax2,ymin2:ymax2]"
   ]
  },
  {
   "cell_type": "code",
   "execution_count": null,
   "metadata": {},
   "outputs": [],
   "source": [
    "print(ign2crop2.shape, ign2.shape)"
   ]
  },
  {
   "cell_type": "code",
   "execution_count": null,
   "metadata": {},
   "outputs": [],
   "source": [
    "fires = ign2crop2['fire_ID'].values"
   ]
  },
  {
   "cell_type": "code",
   "execution_count": null,
   "metadata": {},
   "outputs": [],
   "source": [
    "poly2crop2 = poly2.loc[poly2['fire_ID'].isin(fires)]"
   ]
  },
  {
   "cell_type": "code",
   "execution_count": null,
   "metadata": {},
   "outputs": [],
   "source": [
    "print(poly2crop2.shape, poly2.shape)"
   ]
  },
  {
   "cell_type": "code",
   "execution_count": null,
   "metadata": {},
   "outputs": [],
   "source": [
    "featurescrop2 = features1.loc[features1['fire_ID'].isin(fires)]"
   ]
  },
  {
   "cell_type": "code",
   "execution_count": null,
   "metadata": {},
   "outputs": [],
   "source": [
    "featurescrop2.head()"
   ]
  },
  {
   "cell_type": "code",
   "execution_count": null,
   "metadata": {},
   "outputs": [],
   "source": [
    "ign2crop2.head()"
   ]
  },
  {
   "cell_type": "code",
   "execution_count": null,
   "metadata": {},
   "outputs": [],
   "source": [
    "%%time\n",
    "#pickle out the ignition points and dbf\n",
    "with open('../data/GlobalFire2016/Global_fire_atlas_ignitioncrop.pickle','wb') as f:\n",
    "    pickle.dump(ign2crop2,f,pickle.HIGHEST_PROTOCOL)\n",
    "with open('../data/GlobalFire2016/Global_fire_atlas_datacrop.pickle','wb') as f:\n",
    "    pickle.dump(featurescrop2,f,pickle.HIGHEST_PROTOCOL)"
   ]
  },
  {
   "cell_type": "markdown",
   "metadata": {
    "heading_collapsed": true
   },
   "source": [
    "##### Crop the rasters"
   ]
  },
  {
   "cell_type": "code",
   "execution_count": null,
   "metadata": {
    "hidden": true,
    "scrolled": true
   },
   "outputs": [],
   "source": [
    "# Open the new reprojected geotiffs\n",
    "diryr_reproj = rio.open('../data/GlobalFire2016/Global_fire_atlas_direction_yearly_2016_reproj.tif')\n",
    "speedyr_reproj = rio.open('../data/GlobalFire2016/Global_fire_atlas_speed_yearly_2016_reproj.tif')\n",
    "dobyr_reproj = rio.open('../data/GlobalFire2016/Global_fire_atlas_dob_yearly_2016_reproj.tif')\n",
    "firelineyr_reproj = rio.open('../data/GlobalFire2016/Global_fire_atlas_fireline_yearly_2016_reproj.tif')"
   ]
  },
  {
   "cell_type": "code",
   "execution_count": null,
   "metadata": {
    "hidden": true
   },
   "outputs": [],
   "source": [
    "# Crop extent: bb_gdf2 - crop to the small box, which should work now that both raster \n",
    "# and shapefile are on the same CRS\n",
    "print('crop extent crs = ', bb_gdf2.crs)\n",
    "print('direction tiff crs = ', diryr_reproj.crs)\n",
    "print('speed tiff crs = ', speedyr_reproj.crs)\n",
    "print('day of burn tiff crs = ', dobyr_reproj.crs)\n",
    "print('fireline tiff crs = ', firelineyr_reproj.crs)"
   ]
  },
  {
   "cell_type": "code",
   "execution_count": null,
   "metadata": {
    "hidden": true
   },
   "outputs": [],
   "source": [
    "def crop_tif(tif_reproj,boundingbox):\n",
    "    \"\"\"function to crop the reprojected tiffs by the bounding box (shapefile)\"\"\"\n",
    "    \n",
    "    tif_reproj_crop,tif_reproj_crop_meta = es.crop_image(tif_reproj,boundingbox)\n",
    "    print(\"cropped data\", tif_reproj_crop.shape)\n",
    "    print(\"original data\", tif_reproj.shape)\n",
    "    print(\"meta\", tif_reproj_crop_meta)\n",
    "       \n",
    "    return(tif_reproj_crop, tif_reproj_crop_meta)"
   ]
  },
  {
   "cell_type": "code",
   "execution_count": null,
   "metadata": {
    "hidden": true
   },
   "outputs": [],
   "source": [
    "%%time\n",
    "diryr_reproj_crop,diryr_reproj_crop_meta = crop_tif(diryr_reproj,bb_gdf2)\n",
    "speedyr_reproj_crop,speedyr_reproj_crop_meta = crop_tif(speedyr_reproj,bb_gdf2)\n",
    "dobyr_reproj_crop,dobyr_reproj_crop_meta = crop_tif(dobyr_reproj,bb_gdf2)\n",
    "firelineyr_reproj_crop,firelineyr_reproj_crop_meta = crop_tif(firelineyr_reproj,bb_gdf2)"
   ]
  },
  {
   "cell_type": "code",
   "execution_count": null,
   "metadata": {
    "hidden": true
   },
   "outputs": [],
   "source": [
    "vals = firelineyr_reproj_crop[0][firelineyr_reproj_crop[0]>0]\n",
    "vals"
   ]
  },
  {
   "cell_type": "code",
   "execution_count": null,
   "metadata": {
    "hidden": true
   },
   "outputs": [],
   "source": [
    "diryr_reproj.close()\n",
    "speedyr_reproj.close()\n",
    "dobyr_reproj.close()\n",
    "firelineyr_reproj.close()"
   ]
  },
  {
   "cell_type": "code",
   "execution_count": null,
   "metadata": {
    "hidden": true
   },
   "outputs": [],
   "source": [
    "# Write these out to smaller tiffs\n",
    "with rio.open('../data/GlobalFire2016/Global_fire_atlas_dircrop.tif','w',**diryr_reproj_crop_meta) as dst:\n",
    "    dst.write(diryr_reproj_crop)\n",
    "with rio.open('../data/GlobalFire2016/Global_fire_atlas_speedcrop.tif','w',**speedyr_reproj_crop_meta) as dst:\n",
    "    dst.write(speedyr_reproj_crop)\n",
    "with rio.open('../data/GlobalFire2016/Global_fire_atlas_dobcrop.tif','w',**dobyr_reproj_crop_meta) as dst:\n",
    "    dst.write(dobyr_reproj_crop)\n",
    "with rio.open('../data/GlobalFire2016/Global_fire_atlas_firelinecrop.tif','w',**firelineyr_reproj_crop_meta) as dst:\n",
    "    dst.write(firelineyr_reproj_crop)"
   ]
  },
  {
   "cell_type": "markdown",
   "metadata": {},
   "source": [
    "#### Create a new tiff with fire_ID as the value\n",
    "Determine if a raster pixel is in a fire polygon and create a new tiff with fire_ID as the value"
   ]
  },
  {
   "cell_type": "code",
   "execution_count": null,
   "metadata": {},
   "outputs": [],
   "source": [
    "# From https://gis.stackexchange.com/questions/151339/rasterize-a-shapefile-with-geopandas-or-fiona-python\n",
    "polys = poly2crop2\n",
    "rst_fn = '../data/GlobalFire2016/template.tif'\n",
    "out_fn = '../data/GlobalFire2016/fireid.tif'"
   ]
  },
  {
   "cell_type": "code",
   "execution_count": null,
   "metadata": {},
   "outputs": [],
   "source": [
    "rst = rio.open(rst_fn)\n",
    "metaout = rst.meta.copy()\n",
    "metaout.update(compress='lzw')"
   ]
  },
  {
   "cell_type": "code",
   "execution_count": null,
   "metadata": {},
   "outputs": [],
   "source": [
    "with rio.open(out_fn, 'w+',**metaout) as out:\n",
    "    out_arr = out.read(1)\n",
    "    \n",
    "    shapes = ((geom,value) for geom,value in zip(polys.geometry,polys.fire_ID))\n",
    "    \n",
    "    burned = features.rasterize(shapes=shapes, fill=0, out=out_arr, transform=out.transform)\n",
    "    out.write_band(1,burned)"
   ]
  },
  {
   "cell_type": "code",
   "execution_count": null,
   "metadata": {},
   "outputs": [],
   "source": [
    "fireid = rio.open('../data/GlobalFire2016/fireid.tif')\n",
    "print(fireid.meta)"
   ]
  },
  {
   "cell_type": "code",
   "execution_count": null,
   "metadata": {},
   "outputs": [],
   "source": [
    "fireid_array = fireid.read()"
   ]
  },
  {
   "cell_type": "code",
   "execution_count": null,
   "metadata": {},
   "outputs": [],
   "source": [
    "fireid_array.shape"
   ]
  },
  {
   "cell_type": "code",
   "execution_count": null,
   "metadata": {},
   "outputs": [],
   "source": [
    "print(fireid_array)"
   ]
  },
  {
   "cell_type": "code",
   "execution_count": null,
   "metadata": {},
   "outputs": [],
   "source": [
    "vals = fireid_array[0][fireid_array[0]>0]\n",
    "vals"
   ]
  },
  {
   "cell_type": "code",
   "execution_count": null,
   "metadata": {},
   "outputs": [],
   "source": [
    "len(vals)"
   ]
  },
  {
   "cell_type": "markdown",
   "metadata": {},
   "source": [
    "# Data Pipeline Functions"
   ]
  },
  {
   "cell_type": "markdown",
   "metadata": {
    "collapsed": "true"
   },
   "source": [
    "## Read in California Shape"
   ]
  },
  {
   "cell_type": "code",
   "execution_count": 1,
   "metadata": {},
   "outputs": [],
   "source": [
    "def get_cali(path, filename):\n",
    "    \"\"\"readin shp file and return destination geodataframe and CRS\"\"\"\n",
    "    filestring = path+filename\n",
    "    dst_gdf = gpd.read_file(filestring)\n",
    "    dst_crs = dst_gdf.crs\n",
    "    return (dst_gdf,dst_crs)"
   ]
  },
  {
   "cell_type": "markdown",
   "metadata": {},
   "source": [
    "## Crop Raster Data Function"
   ]
  },
  {
   "cell_type": "code",
   "execution_count": 41,
   "metadata": {},
   "outputs": [],
   "source": [
    "def crop_raster(crop_gdf,tiff_path,tiff_filename,new_prefix):\n",
    "    \"\"\" Crop the raster data to a smaller size based on a gdf\n",
    "    Input: gdf with polygon of crop boundaries\n",
    "    Output: Cropped Raster in its original CRS\n",
    "    \"\"\"\n",
    "    \n",
    "    # Open tiff\n",
    "    orig_tif_file = tiff_path + tiff_filename\n",
    "    orig_tif = rio.open(orig_tif_file)\n",
    "    \n",
    "    # Get crs for tiff\n",
    "    tif_crs = orig_tif.crs\n",
    "    # Get crs for crop_gdf\n",
    "    gdf_crs = crop_gdf.crs\n",
    "    \n",
    "    #Transform the gdf crs\n",
    "    bbgdf = crop_gdf.to_crs(tif_crs)\n",
    "    \n",
    "    # Crop if the crs's match:\n",
    "    if tif_crs == bbgdf.crs:\n",
    "        tif_crop,tif_crop_meta = es.crop_image(orig_tif,bbgdf)\n",
    "    else:\n",
    "        print(f\"CRSs do not match. Tif CRS: {tif_crs}, \\ngdf_crs: {bbgdf.crs}\")\n",
    "    \n",
    "    # Write out smaller tifs\n",
    "    newtif_name = new_prefix+tiff_filename\n",
    "    newtif_filestring = tiff_path+newtif_name\n",
    "    \n",
    "    kwargs = orig_tif.meta.copy()\n",
    "    kwargs.update({'crs':tif_crs,\n",
    "                   'width':tif_crop_meta['width'],\n",
    "                   'height':tif_crop_meta['height'],\n",
    "                   'transform':tif_crop_meta['transform'],\n",
    "                   'compress':'lzw'\n",
    "                  })\n",
    "    with rio.open(newtif_filestring,'w',**kwargs) as smaller:\n",
    "        smaller.write(tif_crop)\n",
    "    \n",
    "    # Close tifs\n",
    "    orig_tif.close()\n",
    "    \n",
    "    return newtif_name"
   ]
  },
  {
   "cell_type": "markdown",
   "metadata": {
    "collapsed": "true"
   },
   "source": [
    "## Reproject Raster Data to EPSG 3857 and Save Out  \n"
   ]
  },
  {
   "cell_type": "code",
   "execution_count": 3,
   "metadata": {},
   "outputs": [],
   "source": [
    "def reproject_raster(dst_crs,tiff_path,tiff_filename):\n",
    "    \"\"\"Using the destination crs and the input raster\n",
    "    create a reprojected raster file\n",
    "    \n",
    "    Input: Destination Crs and Tiff file in original format\n",
    "    Output: Status of File Write\n",
    "    \"\"\"\n",
    "    # Get tiff crs and dimensions\n",
    "    tiff_filestring = tiff_path + tiff_filename\n",
    "    raster = rio.open(tiff_filestring)\n",
    "    print(f\"Filename {tiff_filestring} and Original raster meta {raster.meta} \\n dest crs: {dst_crs}\\n raster bounds: {raster.bounds}\")\n",
    "    \n",
    "    # Calculate the transform using the rasterio warp function\n",
    "    transform,width,height = calculate_default_transform(raster.crs,dst_crs,raster.width,raster.height,*raster.bounds)\n",
    "    print(f\"Newtransform: {transform}, new width: {width}, new height: {height} \")\n",
    "    \n",
    "    # Set the new meta data for the projected raster file\n",
    "#     kwargs = raster.meta.copy()\n",
    "#     kwargs.update({'crs':dst_crs,\n",
    "#                    'transform':transform,\n",
    "#                    'width':width,\n",
    "#                    'height':height,\n",
    "#                    'compress':'lzw'\n",
    "#                   })\n",
    "    \n",
    "#     # write the new raster file by using the rasterio reproject function\n",
    "#     dst_filename = 'Reproj_'+tiff_filename\n",
    "#     dst_filestring = tiff_path+dst_filename\n",
    "#     dst = rio.open(dst_filestring,'w',**kwargs)\n",
    "#     for i in range(1, raster.count + 1):\n",
    "#         reproject(\n",
    "#             source = rio.band(raster,i),\n",
    "#             destination=rio.band(dst,i),\n",
    "#             raster_transform = raster.transform,\n",
    "#             raster_crs = raster.crs,\n",
    "#             dst_transform = transform,\n",
    "#             dst_crs = dst_crs,\n",
    "#             resampling=Resampling.nearest)\n",
    "    \n",
    "#     print(\"destination raster meta\",dst.meta)\n",
    "#     # Close raster files\n",
    "#     raster.close()\n",
    "#     dst.close()\n",
    "    \n",
    "    return dst_filename"
   ]
  },
  {
   "cell_type": "markdown",
   "metadata": {
    "collapsed": "true"
   },
   "source": [
    "## Crop Ignition and Perimeter Files and Save Out"
   ]
  },
  {
   "cell_type": "code",
   "execution_count": 4,
   "metadata": {},
   "outputs": [],
   "source": [
    "def crop_ign(bb_gdf,path,year):\n",
    "    \"\"\"Takes the cropping bounding box and input files of ignition and final\n",
    "    fire polygon data and crops\n",
    "    Input: bb_gdf - bounding box dataframe, path and year of ignition and final fire perimeter polygon data\n",
    "    Output: BBign and BBpoly dataframes and list of fires\n",
    "    \"\"\"\n",
    "    ignfilestring = \"zip://\"+path+\"Global_fire_atlas_V1_ignitions_\"+year+\".zip!Global_fire_atlas_V1_ignitions_\"+year+\".shp\"\n",
    "    polyfilestring = \"zip://\"+path+\"Global_fire_atlas_V1_perimeter_\"+year+\".zip!Global_fire_atlas_V1_perimeter_\"+year+\".shp\"\n",
    "    ign_gdf = gpd.read_file(ignfilestring)\n",
    "    poly_gdf = gpd.read_file(polyfilestring)\n",
    "    \n",
    "    ign_crs = ign_gdf.crs\n",
    "    poly_crs = poly_gdf.crs\n",
    "    bb_crs = bb_gdf.crs\n",
    "    \n",
    "    # If Crs doesn't match, then convert\n",
    "    if ign_crs != bb_crs:\n",
    "        # transform CRS\n",
    "        ign_gdf = ign_gdf.to_crs(bb_crs)\n",
    "        \n",
    "    if poly_crs != bb_crs:\n",
    "        # transform CRS\n",
    "        poly_gdf = poly_gdf.to_crs(bb_crs)\n",
    "        \n",
    "    # Crop polygons of final fire sizes using geopandas overlay\n",
    "    df2 = gpd.GeoDataFrame(gpd.GeoSeries(bb_gdf.envelope),columns=['geometry'],crs=bb_crs)\n",
    "    poly_crop = gpd.overlay(df2,poly_gdf,how='intersection')\n",
    "    \n",
    "    fires = poly_crop['fire_ID'].values\n",
    "    ign_crop = ign_gdf[ign_gdf['fire_ID'].isin(fires)]\n",
    "    \n",
    "    # take all columns except fire ID and geometry out\n",
    "    ign_crop = ign_crop[['fire_ID','geometry']]\n",
    "    poly_crop = poly_crop[['fire_ID','geometry']]\n",
    "    \n",
    "    ignition_file = path+'ignitioncrop.pickle'\n",
    "    perim_file = path+'polygoncrop.pickle'\n",
    "    with open(ignition_file,'wb') as f:\n",
    "        pickle.dump(ign_crop,f,pickle.HIGHEST_PROTOCOL)\n",
    "    with open(perim_file,'wb') as f1:\n",
    "        pickle.dump(poly_crop,f1,pickle.HIGHEST_PROTOCOL)\n",
    "\n",
    "    return (ign_crop,poly_crop,fires) "
   ]
  },
  {
   "cell_type": "markdown",
   "metadata": {},
   "source": [
    "## Create Fire ID Raster and Save Out  \n",
    "- ensure that Raster to Array conversion is saved as well"
   ]
  },
  {
   "cell_type": "code",
   "execution_count": 5,
   "metadata": {},
   "outputs": [],
   "source": [
    "def create_fireidtif(path,polys):\n",
    "    \"\"\"Take path name and polygons for fires in bounding box and save out fireid Raster\n",
    "    Input: path for given year and cropped polygon dataframe\n",
    "    Output: save out fire_id raster and return true\n",
    "    \"\"\"\n",
    "    \n",
    "    rst_fn = path+'BBfirelineCA.tif'\n",
    "    out_fn = path+'BBfireid.tif'\n",
    "    \n",
    "    with rio.open(rst_fn) as f:\n",
    "        meta = f.meta    \n",
    "    \n",
    "    metaout = meta.copy()\n",
    "    metaout.update(compress='lzw')\n",
    "    \n",
    "    shapes = ((geom,value) for geom,value in zip(polys.geometry,polys.fire_ID))\n",
    "    \n",
    "    with rio.open(out_fn, 'w+',**metaout) as out:\n",
    "        out_arr = out.read(1)\n",
    "        burned = features.rasterize(shapes=shapes, fill=0, out=out_arr, transform=out.transform)\n",
    "        out.write_band(1,burned)\n",
    "        \n",
    "    return True"
   ]
  },
  {
   "cell_type": "markdown",
   "metadata": {},
   "source": [
    "## Run Pipeline"
   ]
  },
  {
   "cell_type": "code",
   "execution_count": 42,
   "metadata": {},
   "outputs": [
    {
     "name": "stdout",
     "output_type": "stream",
     "text": [
      "year 2016 has completed processing\n",
      "fire ids for fires in year 2016 are:\n",
      "[ 89  90  86  88  87  98  97  96  95  94  91  93  92 114 113 110 109 111\n",
      " 108 103 101 102 100  99 117 136 132 133 131 121 170 167 165 162 166 161\n",
      " 164 163 143 142 140 141 152 147 149 146 148 144 138]\n",
      "Wall time: 6min 31s\n"
     ]
    }
   ],
   "source": [
    "%%time\n",
    "import geopandas as gpd\n",
    "import rasterio as rio\n",
    "from shapely.geometry import Polygon\n",
    "import earthpy.spatial as es\n",
    "from rasterio.warp import calculate_default_transform, reproject, Resampling\n",
    "from rasterio import features\n",
    "import pickle\n",
    "\n",
    "# Create Berkeley area Bounding Box\n",
    "bb_crs = \"epsg:4326\" # Long/Lat from map\n",
    "bblong = [-123.5, -119.5,-119.5,-123.5,-123.5]\n",
    "bblat = [39, 39, 36, 36,39]\n",
    "bbpoly = Polygon(zip(bblong,bblat))\n",
    "bbgdf = gpd.GeoDataFrame(index=[0],crs=bb_crs,geometry = [bbpoly])\n",
    "\n",
    "#eventually\n",
    "# years = ['2003','2004','2005','2006','2007','2008','2009','2010','2011','2012','2013','2014','2015','2016',]\n",
    "# for year in years:\n",
    "    \n",
    "# Build list of tif file names to crop\n",
    "year = '2016'  # remove when in loop over years\n",
    "src_path = '../data/GlobalFire/'+year+'/'\n",
    "firevars = ['dayofburn','direction','fireline','speed']\n",
    "filenames = []\n",
    "for var in firevars:\n",
    "    filename = var+'CA'+'.tif'\n",
    "    filenames.append(filename)\n",
    "        \n",
    "# Crop rasters to smaller box\n",
    "bb_filenames=[]\n",
    "for file in filenames:\n",
    "    bbname = crop_raster(bbgdf,src_path,file,new_prefix='BB')\n",
    "    bb_filenames.append(bbname)\n",
    "\n",
    "#Crop Ignition File and get FireIDs for bb\n",
    "ign_crop,poly_crop,fires = crop_ign(bbgdf,src_path,year)\n",
    "    \n",
    "# Create FireID raster\n",
    "created_tif = create_fireidtif(src_path,poly_crop)\n",
    "\n",
    "if created_tif:\n",
    "    print(f\"year {year} has completed processing\")\n",
    "    print(f\"fire ids for fires in year {year} are:\\n{fires}\")\n",
    "else:\n",
    "    print(f\"something went wrong in processing year {year}\")"
   ]
  },
  {
   "cell_type": "markdown",
   "metadata": {},
   "source": [
    "### Check Processing Completed OK"
   ]
  },
  {
   "cell_type": "code",
   "execution_count": 43,
   "metadata": {},
   "outputs": [],
   "source": [
    "def plot_fires(bbgdf, path, year):\n",
    "    \n",
    "    from rasterio.plot import plotting_extent\n",
    "    import descartes\n",
    "    import earthpy.plot as ep\n",
    "    import matplotlib.pyplot as plt\n",
    "    \n",
    "    ignitions = path+'ignitioncrop.pickle'\n",
    "    polygons = path+'polygoncrop.pickle'\n",
    "    with open(ignitions,'rb') as f1:\n",
    "        ig = pickle.load(f1)\n",
    "    with open(polygons,'rb') as f2:\n",
    "        pl = pickle.load(f2)\n",
    "    \n",
    "    CA_gdf,CA_crs = get_cali('../data/ca-state-boundary/','CA_State_TIGER2016.shp')\n",
    "    CA_gdf = CA_gdf.to_crs(ig.crs)\n",
    "    \n",
    "    #sample raster\n",
    "    rasterfile = path+'BBdayofburnCA.tif'\n",
    "    rst = rio.open(rasterfile)\n",
    "    data = rst.read(1)\n",
    "    \n",
    "    rst_affine = rst.meta[\"transform\"]\n",
    "    rst_extent = plotting_extent(rst,rst_affine)\n",
    "    \n",
    "    # Plotting\n",
    "    fig,ax = plt.subplots(figsize=(10,16))\n",
    "    ep.plot_bands(data,\n",
    "                  extent = rst_extent,\n",
    "                  cmap='Greys',\n",
    "                  title = 'DayOfBurn',\n",
    "                  scale=False,\n",
    "                  ax=ax,\n",
    "                  cbar=False)\n",
    "\n",
    "    CA_gdf.plot(ax=ax, alpha=0.2)\n",
    "    ig.plot(ax=ax,marker='x',color='green',markersize=12)\n",
    "    pl.plot(ax=ax,alpha=0.4)\n",
    "    bbgdf.plot(ax=ax,color='green',alpha=0.2)\n",
    "    ax.set_axis_off()\n",
    "    plt.show()\n",
    "    \n",
    "    rst.close()\n",
    "    \n",
    "    return"
   ]
  },
  {
   "cell_type": "code",
   "execution_count": 44,
   "metadata": {},
   "outputs": [
    {
     "data": {
      "image/png": "[encoded data removed]",
      "text/plain": [
       "<Figure size 720x1152 with 1 Axes>"
      ]
     },
     "metadata": {},
     "output_type": "display_data"
    }
   ],
   "source": [
    "\n",
    "plot_fires(bbgdf,src_path,year)"
   ]
  },
  {
   "cell_type": "code",
   "execution_count": 49,
   "metadata": {},
   "outputs": [],
   "source": [
    "def plot_rasters(rasters):\n",
    "    \"\"\" Plot all the fire data rasters for 2016 as heatmaps\"\"\"\n",
    "    fig = plt.figure(figsize = (20,4))\n",
    "    fig.suptitle('Bounded Fire Data showing Sparsity 2016')\n",
    "    fig.subplots_adjust(hspace=0.4)\n",
    "    i=1\n",
    "    for key,data in rasters.items():\n",
    "        ax = fig.add_subplot(1,4,i)\n",
    "        sns.heatmap(data)\n",
    "        ax.set_title(key)\n",
    "        i+=1\n",
    "    plt.savefig('HeatmapFireData.jpg')\n",
    "    plt.show()"
   ]
  },
  {
   "cell_type": "code",
   "execution_count": 50,
   "metadata": {},
   "outputs": [
    {
     "name": "stdout",
     "output_type": "stream",
     "text": [
      "../data/GlobalFire/2016/BBdayofburnCA.tif\n"
     ]
    },
    {
     "data": {
      "image/png": "[encoded data removed]",
      "text/plain": [
       "<Figure size 432x288 with 1 Axes>"
      ]
     },
     "metadata": {
      "needs_background": "light"
     },
     "output_type": "display_data"
    },
    {
     "name": "stdout",
     "output_type": "stream",
     "text": [
      "../data/GlobalFire/2016/BBdirectionCA.tif\n"
     ]
    },
    {
     "data": {
      "image/png": "[encoded data removed]",
      "text/plain": [
       "<Figure size 432x288 with 1 Axes>"
      ]
     },
     "metadata": {
      "needs_background": "light"
     },
     "output_type": "display_data"
    },
    {
     "name": "stdout",
     "output_type": "stream",
     "text": [
      "../data/GlobalFire/2016/BBfirelineCA.tif\n"
     ]
    },
    {
     "data": {
      "image/png": "[encoded data removed]",
      "text/plain": [
       "<Figure size 432x288 with 1 Axes>"
      ]
     },
     "metadata": {
      "needs_background": "light"
     },
     "output_type": "display_data"
    },
    {
     "name": "stdout",
     "output_type": "stream",
     "text": [
      "../data/GlobalFire/2016/BBspeedCA.tif\n"
     ]
    },
    {
     "data": {
      "image/png": "[encoded data removed]",
      "text/plain": [
       "<Figure size 432x288 with 1 Axes>"
      ]
     },
     "metadata": {
      "needs_background": "light"
     },
     "output_type": "display_data"
    },
    {
     "name": "stdout",
     "output_type": "stream",
     "text": [
      "../data/GlobalFire/2016/BBfireid.tif\n"
     ]
    },
    {
     "data": {
      "image/png": "[encoded data removed]",
      "text/plain": [
       "<Figure size 432x288 with 1 Axes>"
      ]
     },
     "metadata": {
      "needs_background": "light"
     },
     "output_type": "display_data"
    }
   ],
   "source": [
    "for file in bb_filenames:\n",
    "    filex = src_path+file\n",
    "    with rio.open(filex) as f:\n",
    "        ff = f.read(1)\n",
    "        print(filex)\n",
    "        plt.figure()\n",
    "        plt.imshow(ff, cmap='Reds')    \n",
    "        plt.show()\n",
    "fireidtif = src_path+'BBfireid.tif'\n",
    "with rio.open(fireidtif) as f1:\n",
    "    print(fireidtif)\n",
    "    ff1 = f1.read(1)\n",
    "    plt.figure()\n",
    "    plt.imshow(ff1,cmap='Reds')\n",
    "    plt.show()"
   ]
  }
 ],
 "metadata": {
  "kernelspec": {
   "display_name": "Python 3",
   "language": "python",
   "name": "python3"
  },
  "language_info": {
   "codemirror_mode": {
    "name": "ipython",
    "version": 3
   },
   "file_extension": ".py",
   "mimetype": "text/x-python",
   "name": "python",
   "nbconvert_exporter": "python",
   "pygments_lexer": "ipython3",
   "version": "3.7.6"
  },
  "toc": {
   "base_numbering": 1,
   "nav_menu": {},
   "number_sections": true,
   "sideBar": true,
   "skip_h1_title": false,
   "title_cell": "Table of Contents",
   "title_sidebar": "Contents",
   "toc_cell": false,
   "toc_position": {
    "height": "calc(100% - 180px)",
    "left": "10px",
    "top": "150px",
    "width": "427px"
   },
   "toc_section_display": true,
   "toc_window_display": true
  },
  "toc-autonumbering": true
 },
 "nbformat": 4,
 "nbformat_minor": 4
}
