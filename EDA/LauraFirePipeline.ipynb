{
 "cells": [
  {
   "cell_type": "markdown",
   "metadata": {
    "collapsed": "true"
   },
   "source": [
    "# Setup"
   ]
  },
  {
   "cell_type": "code",
   "execution_count": null,
   "metadata": {},
   "outputs": [],
   "source": [
    "!conda info --envs"
   ]
  },
  {
   "cell_type": "code",
   "execution_count": null,
   "metadata": {},
   "outputs": [],
   "source": [
    "import pandas as pd\n",
    "import matplotlib.pyplot as plt\n",
    "import sys\n",
    "import csv\n",
    "import numpy as np\n",
    "import os\n",
    "import sqlite3\n",
    "import copy\n",
    "from dbfread import DBF\n",
    "import geopandas as gpd\n",
    "import fiona\n",
    "import pprint\n",
    "import folium\n",
    "import descartes\n",
    "import rasterio as rio\n",
    "from rasterio.plot import plotting_extent\n",
    "from rasterio.warp import calculate_default_transform, reproject, Resampling\n",
    "from rasterio import features\n",
    "import rasterio.mask\n",
    "import earthpy as et\n",
    "import earthpy.spatial as es\n",
    "import earthpy.plot as ep\n",
    "import pickle\n",
    "from scipy import stats\n",
    "\n",
    "print(f\"Python Version = {sys.version}\")\n",
    "print(f\"Pandas Version = {pd.__version__}\")\n",
    "print(f\"Geopandas Version = {gpd.__version__}\")\n",
    "print(f\"rasterio version = {rio._base.gdal_version()}\")"
   ]
  },
  {
   "cell_type": "markdown",
   "metadata": {
    "collapsed": "true",
    "heading_collapsed": true
   },
   "source": [
    "# Definitions"
   ]
  },
  {
   "cell_type": "markdown",
   "metadata": {
    "hidden": true
   },
   "source": [
    "1) Fine Fuel Moisture Code\n",
    "The Fine Fuel Moisture Code (FFMC) is a numeric rating of the moisture content of litter and other cured fine fuels. This code is an indicator of the relative ease of ignition and the flammability of fine fuel.\n",
    "\n",
    "2) Duff Moisture Code\n",
    "The Duff Moisture Code (DMC) is a numeric rating of the average moisture content of loosely compacted organic layers of moderate depth. This code gives an indication of fuel consumption in moderate duff layers and medium-size woody material.\n",
    "\n",
    "3) Drought Code\n",
    "The Drought Code (DC) is a numeric rating of the average moisture content of deep, compact organic layers. This code is a useful indicator of seasonal drought effects on forest fuels and the amount of smoldering in deep duff layers and large logs.\n",
    "\n",
    "4)  Initial Spread Index\n",
    "The Initial Spread Index (ISI) is a numeric rating of the expected rate of fire spread. It combines the effects of wind and the FFMC on rate of spread without the influence of variable quantities of fuel.\n",
    "\n",
    "https://cwfis.cfs.nrcan.gc.ca/background/summary/fwi\n",
    "\n",
    "5) Temp\n",
    "Temperature in Celsius degrees\n",
    "\n",
    "6) RH\n",
    "Relative humidity in %\n",
    "\n",
    "7) Wind\n",
    "Wind speed in km/h\n",
    "\n",
    "8) Rain\n",
    "Outside rain in mm/m2\n",
    "\n",
    "9) Area\n",
    "The burned area of the forest (in ha), ha = hectare = 2.47 acres\n",
    "\n",
    "10) X\n",
    "x-axis spatial coordinate within the Montesinho park map: 1 to 9 2\n",
    "\n",
    "11) Y\n",
    "y-axis spatial coordinate within the Montesinho park map: 2 to 9 3"
   ]
  },
  {
   "cell_type": "markdown",
   "metadata": {
    "hidden": true
   },
   "source": [
    "Literature:\n",
    "\n",
    "https://news.uci.edu/2019/09/17/uci-team-uses-machine-learning-to-help-tell-which-wildfires-will-burn-out-of-control/\n",
    "\n",
    "In the original paper (Portugal - Montesinho fires), the best result (predicting burned area) was only using the 4 weather conditions: RH/Wind/Rain/Temp, and an SVM.\n",
    "\n",
    "This: https://datasetsearch.research.google.com/search?query=wildfire%20area&docid=fchFFzqh0O3qjX3PAAAAAA%3D%3D has georeferenced and date/time referenced with areas. Could combine with weather data for those dates/times."
   ]
  },
  {
   "cell_type": "markdown",
   "metadata": {
    "collapsed": "true"
   },
   "source": [
    "# Query shape of datasets, type, feature names and how they work together"
   ]
  },
  {
   "cell_type": "code",
   "execution_count": null,
   "metadata": {},
   "outputs": [],
   "source": [
    "os.getcwd()"
   ]
  },
  {
   "cell_type": "markdown",
   "metadata": {},
   "source": [
    "## Global Fire Data  \n",
    "\n",
    "If you want to see these easily on a map, visit: https://daac.ornl.gov/cgi-bin/dsviewer.pl?ds_id=1642  \n",
    "\n",
    "I have only pulled the 2016 data in in order to get a feel for it."
   ]
  },
  {
   "cell_type": "markdown",
   "metadata": {},
   "source": [
    "### DBF file"
   ]
  },
  {
   "cell_type": "markdown",
   "metadata": {
    "heading_collapsed": true
   },
   "source": [
    "#### Ignitions"
   ]
  },
  {
   "cell_type": "code",
   "execution_count": null,
   "metadata": {
    "hidden": true
   },
   "outputs": [],
   "source": [
    "globaldbf = DBF('../data/GlobalFire2016/Global_fire_atlas_V1_ignitions_2016/Global_fire_atlas_V1_ignitions_2016.dbf')"
   ]
  },
  {
   "cell_type": "code",
   "execution_count": null,
   "metadata": {
    "hidden": true
   },
   "outputs": [],
   "source": [
    "len(globaldbf)"
   ]
  },
  {
   "cell_type": "code",
   "execution_count": null,
   "metadata": {
    "hidden": true
   },
   "outputs": [],
   "source": [
    "records = list(globaldbf)"
   ]
  },
  {
   "cell_type": "code",
   "execution_count": null,
   "metadata": {
    "hidden": true
   },
   "outputs": [],
   "source": [
    "print(records[0])"
   ]
  },
  {
   "cell_type": "code",
   "execution_count": null,
   "metadata": {
    "hidden": true
   },
   "outputs": [],
   "source": [
    "df = pd.DataFrame(iter(globaldbf))"
   ]
  },
  {
   "cell_type": "code",
   "execution_count": null,
   "metadata": {
    "hidden": true
   },
   "outputs": [],
   "source": [
    "df.head()"
   ]
  },
  {
   "cell_type": "markdown",
   "metadata": {
    "heading_collapsed": true
   },
   "source": [
    "#### Perimeter"
   ]
  },
  {
   "cell_type": "code",
   "execution_count": null,
   "metadata": {
    "hidden": true
   },
   "outputs": [],
   "source": [
    "perim2016 = DBF('../data/GlobalFire2016/Global_fire_atlas_V1_perimeter_2016/Global_fire_atlas_V1_perimeter_2016.dbf')"
   ]
  },
  {
   "cell_type": "code",
   "execution_count": null,
   "metadata": {
    "hidden": true
   },
   "outputs": [],
   "source": [
    "perimdf = pd.DataFrame(iter(perim2016))"
   ]
  },
  {
   "cell_type": "code",
   "execution_count": null,
   "metadata": {
    "hidden": true
   },
   "outputs": [],
   "source": [
    "perimdf.head()"
   ]
  },
  {
   "cell_type": "markdown",
   "metadata": {},
   "source": [
    "### Shapefile - shp"
   ]
  },
  {
   "cell_type": "markdown",
   "metadata": {
    "heading_collapsed": true
   },
   "source": [
    "#### Ignitions"
   ]
  },
  {
   "cell_type": "code",
   "execution_count": null,
   "metadata": {
    "code_folding": [],
    "hidden": true
   },
   "outputs": [],
   "source": [
    "with fiona.open('../data/GlobalFire2016/Global_fire_atlas_V1_ignitions_2016/Global_fire_atlas_V1_ignitions_2016.shp') as src:\n",
    "    pprint.pprint(src[0])"
   ]
  },
  {
   "cell_type": "code",
   "execution_count": null,
   "metadata": {
    "hidden": true
   },
   "outputs": [],
   "source": [
    "gdf = gpd.read_file('../data/GlobalFire2016/Global_fire_atlas_V1_ignitions_2016/Global_fire_atlas_V1_ignitions_2016.shp')"
   ]
  },
  {
   "cell_type": "code",
   "execution_count": null,
   "metadata": {
    "hidden": true
   },
   "outputs": [],
   "source": [
    "gdf.head()"
   ]
  },
  {
   "cell_type": "code",
   "execution_count": null,
   "metadata": {
    "hidden": true
   },
   "outputs": [],
   "source": [
    "#gdf.plot()"
   ]
  },
  {
   "cell_type": "code",
   "execution_count": null,
   "metadata": {
    "hidden": true
   },
   "outputs": [],
   "source": [
    "gdf.geometry[:5]"
   ]
  },
  {
   "cell_type": "code",
   "execution_count": null,
   "metadata": {
    "hidden": true
   },
   "outputs": [],
   "source": [
    "print(gdf.crs)"
   ]
  },
  {
   "cell_type": "code",
   "execution_count": null,
   "metadata": {
    "hidden": true
   },
   "outputs": [],
   "source": [
    "gdf.columns.values"
   ]
  },
  {
   "cell_type": "markdown",
   "metadata": {
    "heading_collapsed": true
   },
   "source": [
    "#### Perimeter"
   ]
  },
  {
   "cell_type": "code",
   "execution_count": null,
   "metadata": {
    "hidden": true
   },
   "outputs": [],
   "source": [
    "gdf1 = gpd.read_file('../data/GlobalFire2016/Global_fire_atlas_V1_perimeter_2016/Global_fire_atlas_V1_perimeter_2016.shp')"
   ]
  },
  {
   "cell_type": "code",
   "execution_count": null,
   "metadata": {
    "hidden": true
   },
   "outputs": [],
   "source": [
    "gdf1.head()"
   ]
  },
  {
   "cell_type": "code",
   "execution_count": null,
   "metadata": {
    "hidden": true
   },
   "outputs": [],
   "source": [
    "gdf1.columns.values"
   ]
  },
  {
   "cell_type": "code",
   "execution_count": null,
   "metadata": {
    "hidden": true
   },
   "outputs": [],
   "source": [
    "gdf1.geometry[0]"
   ]
  },
  {
   "cell_type": "code",
   "execution_count": null,
   "metadata": {
    "hidden": true
   },
   "outputs": [],
   "source": [
    "gdf1[0:3].plot()"
   ]
  },
  {
   "cell_type": "code",
   "execution_count": null,
   "metadata": {
    "hidden": true
   },
   "outputs": [],
   "source": [
    "%%time\n",
    "world = gpd.read_file(gpd.datasets.get_path('naturalearth_lowres'))\n",
    "ax = world.plot(color='lightgrey',linewidth=0.5,edgecolor='white',figsize = (20,8))\n",
    "gdf1.plot(ax=ax)\n",
    "plt.savefig('perimeters.png')"
   ]
  },
  {
   "cell_type": "markdown",
   "metadata": {
    "heading_collapsed": true
   },
   "source": [
    "### PRJ file"
   ]
  },
  {
   "cell_type": "code",
   "execution_count": null,
   "metadata": {
    "hidden": true
   },
   "outputs": [],
   "source": [
    "with open('../data/GlobalFire2016/Global_fire_atlas_V1_ignitions_2016/Global_fire_atlas_V1_ignitions_2016.prj') as f1:\n",
    "    print(f\"Ignitions Prj file contents = {f1.read()}\")\n",
    "    \n",
    "with open('../data/GlobalFire2016/Global_fire_atlas_V1_perimeter_2016/Global_fire_atlas_V1_perimeter_2016.prj','r') as f2:\n",
    "    print(f\"Perimeter Prj file contents = {f2.read()}\")    "
   ]
  },
  {
   "cell_type": "markdown",
   "metadata": {
    "hidden": true
   },
   "source": [
    "The above mean:\n",
    "- GEOGCS: Geographic coordinate reference system (vs. a projected coordinate system)\n",
    "- WGS 84 : the name of the geographic coordinate reference system\n",
    "- WGS_1984: The name of the DATUM\n",
    "- SPHEROID: Used for the reference system with the semi major axis = 6378137 m and inverse-flattening ratio of 298.257223563\n",
    "- PRIMEM: Greenwich is prime meridian where longitude is set as 0\n",
    "- UNIT: measurement units of coordinate system, in degrees, where 0.01745.. is the conversion from radians to the units here(degrees)"
   ]
  },
  {
   "cell_type": "markdown",
   "metadata": {},
   "source": [
    "### GEOTiff"
   ]
  },
  {
   "cell_type": "markdown",
   "metadata": {
    "heading_collapsed": true
   },
   "source": [
    "#### Yearly TIFFs"
   ]
  },
  {
   "cell_type": "code",
   "execution_count": null,
   "metadata": {
    "hidden": true
   },
   "outputs": [],
   "source": [
    "from rasterio.windows import Window"
   ]
  },
  {
   "cell_type": "code",
   "execution_count": null,
   "metadata": {
    "hidden": true
   },
   "outputs": [],
   "source": [
    "%%time\n",
    "diryr = rio.open('../data/GlobalFire2016/Global_fire_atlas_direction_yearly_2016.tif')\n",
    "# speedyr = rio.open('../data/GlobalFire2016/Global_fire_atlas_speed_yearly_2016.tif')\n",
    "# dobyr = rio.open('../data/GlobalFire2016/Global_fire_atlas_day_of_burn_yearly_2016.tif')\n",
    "# firelineyr = rio.open('../data/GlobalFire2016/Global_fire_atlas_fire_line_yearly_2016.tif')"
   ]
  },
  {
   "cell_type": "code",
   "execution_count": null,
   "metadata": {
    "hidden": true
   },
   "outputs": [],
   "source": [
    "tifs = [diryr,speedyr,dobyr,firelineyr]"
   ]
  },
  {
   "cell_type": "code",
   "execution_count": null,
   "metadata": {
    "hidden": true
   },
   "outputs": [],
   "source": [
    "for tif in tifs:\n",
    "    print(\"name = \",tif.name)\n",
    "    print(\"resolution of a pixel in units of coord reference system = \",tif.res)\n",
    "    print(\"Image Structure tags =\",tif.tags(ns='IMAGE_STRUCTURE'))\n",
    "    print(\"tags =\",tif.tags())\n",
    "    print(tif.shape)\n",
    "    print(tif.bounds)\n",
    "    print(\"number of layers = \",tif.count)\n",
    "    print(\"number of bands =\", tif.indexes)\n",
    "    print(tif.meta)\n",
    "    print(\"\\n\\n\")"
   ]
  },
  {
   "cell_type": "code",
   "execution_count": null,
   "metadata": {
    "hidden": true
   },
   "outputs": [],
   "source": [
    "print(diryr.meta)\n",
    "#customcrs = diryr.meta"
   ]
  },
  {
   "cell_type": "code",
   "execution_count": null,
   "metadata": {
    "hidden": true
   },
   "outputs": [],
   "source": [
    "print(diryr.crs)"
   ]
  },
  {
   "cell_type": "code",
   "execution_count": null,
   "metadata": {
    "hidden": true
   },
   "outputs": [],
   "source": [
    "customcrs = diryr.crs"
   ]
  },
  {
   "cell_type": "markdown",
   "metadata": {
    "heading_collapsed": true
   },
   "source": [
    "#### Convert Lat/Long to CRS"
   ]
  },
  {
   "cell_type": "markdown",
   "metadata": {
    "hidden": true
   },
   "source": [
    "From StackExchange:\n",
    "\n",
    "You need to transform your points to the coordinate system of the raster. You could warp the raster to your points' coordinate system but warping rasters is a bit messy. (for R but should be similar in python)\n",
    "\n",
    "https://gis.stackexchange.com/questions/200417/very-basic-question-on-extracting-data-from-tif-raster-layer-in-r-projection-n"
   ]
  },
  {
   "cell_type": "markdown",
   "metadata": {
    "hidden": true
   },
   "source": [
    "Spatial Reference System, proj4: +proj=sinu +lon_0=0 +x_0=0 +y_0=0 +a=6371007.181 +b=6371007.181 +units=m +no_defs"
   ]
  },
  {
   "cell_type": "code",
   "execution_count": null,
   "metadata": {
    "hidden": true
   },
   "outputs": [],
   "source": [
    "# Our desired 'fire' from the shapefile\n",
    "fire"
   ]
  },
  {
   "cell_type": "code",
   "execution_count": null,
   "metadata": {
    "hidden": true
   },
   "outputs": [],
   "source": [
    "fire.crs"
   ]
  },
  {
   "cell_type": "code",
   "execution_count": null,
   "metadata": {
    "hidden": true
   },
   "outputs": [],
   "source": [
    "# Global Fire Atlas projection Coordinate Reference System (from website)\n",
    "gfacrs = \"+proj=sinu +lon_0=0 +x_0=0 +y_0=0 +a=6371007.181 +b=6371007.181 +units=m +no_defs\" "
   ]
  },
  {
   "cell_type": "code",
   "execution_count": null,
   "metadata": {
    "hidden": true,
    "scrolled": true
   },
   "outputs": [],
   "source": [
    "fire2 = fire.to_crs(gfacrs)\n",
    "fire2"
   ]
  },
  {
   "cell_type": "code",
   "execution_count": null,
   "metadata": {
    "hidden": true
   },
   "outputs": [],
   "source": [
    "fire2.geometry.name"
   ]
  },
  {
   "cell_type": "code",
   "execution_count": null,
   "metadata": {
    "hidden": true
   },
   "outputs": [],
   "source": [
    "fire2.crs  # Ah that is why you can't convert two columns. because when you convert one column\n",
    "# then the entire dataframe thinks it is now in the new CRS"
   ]
  },
  {
   "cell_type": "markdown",
   "metadata": {
    "heading_collapsed": true
   },
   "source": [
    "#### Reimport and engineer the features appropriately\n",
    "\n",
    "First, don't combine the shp files. Instead, create 3 dataframes:  \n",
    "1) fire ID and all the features (except geometry)  \n",
    "2) fire ID and POLYGON  \n",
    "3) fire ID and POINT (ignition)  "
   ]
  },
  {
   "cell_type": "code",
   "execution_count": null,
   "metadata": {
    "hidden": true
   },
   "outputs": [],
   "source": [
    "%%time\n",
    "ign_gdf = gpd.read_file('../data/GlobalFire2016/Global_fire_atlas_V1_ignitions_2016/Global_fire_atlas_V1_ignitions_2016.shp')\n",
    "poly_gdf = gpd.read_file('../data/GlobalFire2016/Global_fire_atlas_V1_perimeter_2016/Global_fire_atlas_V1_perimeter_2016.shp')"
   ]
  },
  {
   "cell_type": "code",
   "execution_count": null,
   "metadata": {
    "hidden": true
   },
   "outputs": [],
   "source": [
    "features1 = copy.deepcopy(ign_gdf)"
   ]
  },
  {
   "cell_type": "code",
   "execution_count": null,
   "metadata": {
    "hidden": true
   },
   "outputs": [],
   "source": [
    "features1 = pd.DataFrame(ign_gdf.drop(columns='geometry'))\n",
    "features1.head()"
   ]
  },
  {
   "cell_type": "code",
   "execution_count": null,
   "metadata": {
    "hidden": true
   },
   "outputs": [],
   "source": [
    "colnames = list(ign_gdf.columns)"
   ]
  },
  {
   "cell_type": "code",
   "execution_count": null,
   "metadata": {
    "hidden": true
   },
   "outputs": [],
   "source": [
    "keepnames = [colnames[0],colnames[len(colnames)-1]]\n",
    "keepnames"
   ]
  },
  {
   "cell_type": "code",
   "execution_count": null,
   "metadata": {
    "hidden": true
   },
   "outputs": [],
   "source": [
    "dropnames = list(set(colnames) - set(keepnames))"
   ]
  },
  {
   "cell_type": "code",
   "execution_count": null,
   "metadata": {
    "hidden": true
   },
   "outputs": [],
   "source": [
    "ign_gdf.drop(columns=dropnames,inplace=True)"
   ]
  },
  {
   "cell_type": "code",
   "execution_count": null,
   "metadata": {
    "hidden": true
   },
   "outputs": [],
   "source": [
    "dropnames2 = list(set(list(poly_gdf.columns)) - set(keepnames))\n",
    "poly_gdf.drop(columns=dropnames2,inplace=True)"
   ]
  },
  {
   "cell_type": "code",
   "execution_count": null,
   "metadata": {
    "hidden": true
   },
   "outputs": [],
   "source": [
    "# Global Fire Atlas projection Coordinate Reference System (from website)\n",
    "gfacrs = \"+proj=sinu +lon_0=0 +x_0=0 +y_0=0 +a=6371007.181 +b=6371007.181 +units=m +no_defs\" "
   ]
  },
  {
   "cell_type": "markdown",
   "metadata": {},
   "source": [
    "#### Subset to California State"
   ]
  },
  {
   "cell_type": "markdown",
   "metadata": {
    "heading_collapsed": true
   },
   "source": [
    "##### CA State Boundaries"
   ]
  },
  {
   "cell_type": "markdown",
   "metadata": {
    "hidden": true
   },
   "source": [
    "From https://data.ca.gov/dataset/ca-geographic-boundaries/resource/3db1e426-fb51-44f5-82d5-a54d7c6e188b"
   ]
  },
  {
   "cell_type": "code",
   "execution_count": null,
   "metadata": {
    "hidden": true
   },
   "outputs": [],
   "source": [
    "%%time\n",
    "#CA_gdf = gpd.read_file('../data/ca-state-boundary/CA_state_TIGER2016.shp')\n",
    "CA_gdf = gpd.read_file('../data/ca-state-boundary/CA_State_TIGER2016.shp')"
   ]
  },
  {
   "cell_type": "code",
   "execution_count": null,
   "metadata": {
    "hidden": true
   },
   "outputs": [],
   "source": [
    "CA_gdf"
   ]
  },
  {
   "cell_type": "code",
   "execution_count": null,
   "metadata": {
    "hidden": true
   },
   "outputs": [],
   "source": [
    "CA_gdf.plot()"
   ]
  },
  {
   "cell_type": "code",
   "execution_count": null,
   "metadata": {},
   "outputs": [],
   "source": [
    "CA_gdf.crs"
   ]
  },
  {
   "cell_type": "markdown",
   "metadata": {
    "heading_collapsed": true
   },
   "source": [
    "##### Try a different approach - crop rasters to California"
   ]
  },
  {
   "cell_type": "markdown",
   "metadata": {
    "hidden": true
   },
   "source": [
    "From Earth  data science: https://www.earthdatascience.org/courses/use-data-open-source-python/intro-raster-data-python/raster-data-processing/crop-raster-data-with-shapefile-in-python/"
   ]
  },
  {
   "cell_type": "code",
   "execution_count": null,
   "metadata": {
    "hidden": true
   },
   "outputs": [],
   "source": [
    "# Raster Data opened by rio is diryr\n",
    "print(diryr.bounds)"
   ]
  },
  {
   "cell_type": "code",
   "execution_count": null,
   "metadata": {
    "hidden": true
   },
   "outputs": [],
   "source": [
    "# Crop extent: CA_gdf\n",
    "print('crop extent crs = \\n', CA_gdf.crs)\n",
    "print('tiff crs = \\n', diryr.crs)"
   ]
  },
  {
   "cell_type": "code",
   "execution_count": null,
   "metadata": {
    "hidden": true
   },
   "outputs": [],
   "source": [
    "# Set destination CRS\n",
    "dst_crs = CA_gdf.crs"
   ]
  },
  {
   "cell_type": "code",
   "execution_count": null,
   "metadata": {
    "hidden": true
   },
   "outputs": [],
   "source": [
    "%%time\n",
    "# Calculate the transform using the rasterio warp function\n",
    "transform,width,height = calculate_default_transform(diryr.crs,dst_crs,diryr.width,diryr.height,*diryr.bounds)"
   ]
  },
  {
   "cell_type": "code",
   "execution_count": null,
   "metadata": {
    "hidden": true
   },
   "outputs": [],
   "source": [
    "%%time\n",
    "# Set the new meta data for the projected raster file\n",
    "kwargs = diryr.meta.copy()\n",
    "kwargs.update({'crs':dst_crs,\n",
    "              'transform':transform,\n",
    "              'width':width,\n",
    "              'height':height\n",
    "              })"
   ]
  },
  {
   "cell_type": "code",
   "execution_count": null,
   "metadata": {
    "hidden": true
   },
   "outputs": [],
   "source": [
    "%%time\n",
    "# write the new raster file by using the rasterio reproject function\n",
    "with rio.open('../data/GlobalFire2016/Global_fire_atlas_direction_yearly_2016_reproj.tif','w',**kwargs) as dst:\n",
    "    for i in range(1, diryr.count + 1):\n",
    "        reproject(\n",
    "            source = rio.band(diryr,i),\n",
    "            destination=rio.band(dst,i),\n",
    "            diryr_transform = diryr.transform,\n",
    "            diryr_crs = diryr.crs,\n",
    "            dst_transform = transform,\n",
    "            dst_crs = dst_crs,\n",
    "            resampling=Resampling.nearest)"
   ]
  },
  {
   "cell_type": "code",
   "execution_count": null,
   "metadata": {
    "hidden": true,
    "scrolled": true
   },
   "outputs": [],
   "source": [
    "%%time\n",
    "# Open the new reprojected geotiff\n",
    "diryr_reproj = rio.open('../data/GlobalFire2016/Global_fire_atlas_direction_yearly_2016_reproj.tif')\n",
    "print(diryr_reproj.meta)"
   ]
  },
  {
   "cell_type": "code",
   "execution_count": null,
   "metadata": {
    "hidden": true
   },
   "outputs": [],
   "source": [
    "%%time\n",
    "# Crop extent: CA_gdf - crop to the boundaries of California, which should work now that both raster \n",
    "# and shapefile are on the same CRS\n",
    "print('crop extent crs = \\n', CA_gdf.crs)\n",
    "print('tiff crs = \\n', diryr_reproj.crs)"
   ]
  },
  {
   "cell_type": "code",
   "execution_count": null,
   "metadata": {
    "hidden": true
   },
   "outputs": [],
   "source": [
    "%%time\n",
    "# Use the earthpy.spatial function to crop the tif by the shapefile\n",
    "diryr_reproj_crop, diryr_reproj_crop_meta = es.crop_image(diryr_reproj,CA_gdf)"
   ]
  },
  {
   "cell_type": "code",
   "execution_count": null,
   "metadata": {
    "hidden": true
   },
   "outputs": [],
   "source": [
    "print(\"cropped data\", diryr_reproj_crop.shape)\n",
    "print(\"original data\", diryr.shape)"
   ]
  },
  {
   "cell_type": "code",
   "execution_count": null,
   "metadata": {
    "hidden": true
   },
   "outputs": [],
   "source": [
    "# Use the affine transformation for the CRS to define the extents\n",
    "diryr_reproj_crop_affine = diryr_reproj_crop_meta[\"transform\"]\n",
    "diryr_reproj_extent = plotting_extent(diryr_reproj_crop[0],diryr_reproj_crop_affine)"
   ]
  },
  {
   "cell_type": "code",
   "execution_count": null,
   "metadata": {
    "hidden": true
   },
   "outputs": [],
   "source": [
    "diryr_reproj_crop_meta"
   ]
  },
  {
   "cell_type": "code",
   "execution_count": null,
   "metadata": {
    "hidden": true
   },
   "outputs": [],
   "source": [
    "fig,ax = plt.subplots(figsize=(10,16))\n",
    "ep.plot_bands(diryr_reproj_crop,\n",
    "              extent = diryr_reproj_extent,\n",
    "              cmap='Greys',\n",
    "              title = 'Direction',\n",
    "              scale=False,\n",
    "              ax=ax,\n",
    "              cbar=False)\n",
    "\n",
    "CA_gdf.plot(ax=ax,alpha=0.2)\n",
    "ax.set_axis_off()\n",
    "plt.show()"
   ]
  },
  {
   "cell_type": "code",
   "execution_count": null,
   "metadata": {
    "hidden": true
   },
   "outputs": [],
   "source": [
    "vals = diryr_reproj_crop[0][diryr_reproj_crop[0]>0]\n",
    "vals"
   ]
  },
  {
   "cell_type": "code",
   "execution_count": null,
   "metadata": {
    "hidden": true
   },
   "outputs": [],
   "source": [
    "print(type(vals),vals.shape)\n",
    "stats.describe(vals)"
   ]
  },
  {
   "cell_type": "markdown",
   "metadata": {
    "heading_collapsed": true
   },
   "source": [
    "##### Transform Ignition and polygons of final fire sizes to CA CRS"
   ]
  },
  {
   "cell_type": "code",
   "execution_count": null,
   "metadata": {
    "hidden": true
   },
   "outputs": [],
   "source": [
    "# transform CRS\n",
    "ign2 = ign_gdf.to_crs(dst_crs)\n",
    "poly2 = poly_gdf.to_crs(dst_crs)"
   ]
  },
  {
   "cell_type": "code",
   "execution_count": null,
   "metadata": {
    "hidden": true
   },
   "outputs": [],
   "source": [
    "# set area to crop to\n",
    "bb = CA_gdf.envelope"
   ]
  },
  {
   "cell_type": "code",
   "execution_count": null,
   "metadata": {
    "hidden": true
   },
   "outputs": [],
   "source": [
    "# Crop polygons of final fire sizes using geopandas overlay\n",
    "df2 = gpd.GeoDataFrame(gpd.GeoSeries(bb),columns=['geometry'])\n",
    "poly2crop = gpd.overlay(df2,poly2,how='intersection')"
   ]
  },
  {
   "cell_type": "code",
   "execution_count": null,
   "metadata": {
    "hidden": true
   },
   "outputs": [],
   "source": [
    "# Use dataframe slicing for the ignition point data.\n",
    "xmin,ymin,xmax,ymax=CA_gdf.total_bounds\n",
    "ign2crop = ign2.cx[xmin:xmax,ymin:ymax]"
   ]
  },
  {
   "cell_type": "code",
   "execution_count": null,
   "metadata": {
    "hidden": true
   },
   "outputs": [],
   "source": [
    "fig,ax = plt.subplots(figsize=(10,16))\n",
    "ep.plot_bands(diryr_reproj_crop,\n",
    "              extent = diryr_reproj_extent,\n",
    "              cmap='Greys',\n",
    "              title = 'Direction',\n",
    "              scale=False,\n",
    "              ax=ax,\n",
    "              cbar=False)\n",
    "\n",
    "CA_gdf.plot(ax=ax, alpha=0.2)\n",
    "ign2crop.plot(ax=ax,marker='x',color='green',markersize=12)\n",
    "poly2crop.plot(ax=ax,alpha=0.4)\n",
    "ax.set_axis_off()\n",
    "plt.show()"
   ]
  },
  {
   "cell_type": "markdown",
   "metadata": {},
   "source": [
    "#### Create new bounding box for smaller section of CA and convert CRS\n",
    "Repeat above process for cropping"
   ]
  },
  {
   "cell_type": "code",
   "execution_count": null,
   "metadata": {},
   "outputs": [],
   "source": [
    "# Set source CRS - this is the google maps CRS\n",
    "bb_gdf_orig.crs = {'init':'epsg:4326'}\n",
    "print(bb_gdf_orig.crs)"
   ]
  },
  {
   "cell_type": "code",
   "execution_count": null,
   "metadata": {},
   "outputs": [],
   "source": [
    "# Create bounding box polygon from lat long pulled from Gmaps\n",
    "from shapely.geometry import Polygon\n",
    "bb_long = [-122, -119.912,-119.912,-122,-122 ]\n",
    "bb_lat = [36.8, 36.8, 35.06, 35.06,36.8]\n",
    "bb_poly = Polygon(zip(bb_long,bb_lat))\n",
    "bb_gdf2 = gpd.GeoDataFrame(index=[0],crs=bb_gdf_orig.crs,geometry = [bb_poly])\n",
    "print(bb_gdf2.geometry)"
   ]
  },
  {
   "cell_type": "code",
   "execution_count": null,
   "metadata": {},
   "outputs": [],
   "source": [
    "# Change CRS of polygon to match other work here\n",
    "bb_gdf2 = bb_gdf2.to_crs(epsg=3857)\n",
    "bb_gdf2"
   ]
  },
  {
   "cell_type": "code",
   "execution_count": null,
   "metadata": {},
   "outputs": [],
   "source": [
    "# Plotting\n",
    "fig,ax = plt.subplots(figsize=(10,16))\n",
    "ep.plot_bands(diryr_reproj_crop,\n",
    "              extent = diryr_reproj_extent,\n",
    "              cmap='Greys',\n",
    "              title = 'Direction',\n",
    "              scale=False,\n",
    "              ax=ax,\n",
    "              cbar=False)\n",
    "\n",
    "CA_gdf.plot(ax=ax, alpha=0.2)\n",
    "ign2crop.plot(ax=ax,marker='x',color='green',markersize=12)\n",
    "poly2crop.plot(ax=ax,alpha=0.4)\n",
    "bb_gdf2.plot(ax=ax,color='green',alpha=0.2)\n",
    "ax.set_axis_off()\n",
    "plt.show()"
   ]
  },
  {
   "cell_type": "markdown",
   "metadata": {
    "heading_collapsed": true
   },
   "source": [
    "#### Convert CRS for remaining raster files"
   ]
  },
  {
   "cell_type": "code",
   "execution_count": null,
   "metadata": {
    "hidden": true
   },
   "outputs": [],
   "source": [
    "# Raster Data opened by rio \n",
    "#speedyr = rio.open('../data/GlobalFire2016/Global_fire_atlas_speed_yearly_2016.tif')\n",
    "#dobyr = rio.open('../data/GlobalFire2016/Global_fire_atlas_day_of_burn_yearly_2016.tif')\n",
    "#firelineyr = rio.open('../data/GlobalFire2016/Global_fire_atlas_fire_line_yearly_2016.tif')\n",
    "print('speedyr bounds =',speedyr.bounds)\n",
    "print('dobyr bounds =',dobyr.bounds)\n",
    "print('firelineyr bounds =',firelineyr.bounds)"
   ]
  },
  {
   "cell_type": "code",
   "execution_count": null,
   "metadata": {
    "hidden": true
   },
   "outputs": [],
   "source": [
    "# Set destination CRS\n",
    "dst_crs = bb_gdf2.crs"
   ]
  },
  {
   "cell_type": "code",
   "execution_count": null,
   "metadata": {
    "hidden": true
   },
   "outputs": [],
   "source": [
    "tifs = [(speedyr,'speed'),(dobyr,'dob'),(firelineyr,'fireline')]"
   ]
  },
  {
   "cell_type": "code",
   "execution_count": null,
   "metadata": {
    "hidden": true
   },
   "outputs": [],
   "source": [
    "# Commented out this whole box because files have been saved already NEXT TIME - ADD COMPRESSION - \n",
    "# FILES WERE HUGE (see commented line below) OR reproject to new array, then write out with compression\n",
    "# %%time\n",
    "# for tif in tifs:\n",
    "#     file,name = tif\n",
    "    \n",
    "#     # Calculate the transform using the rasterio warp function\n",
    "#     transform,width,height = calculate_default_transform(file.crs,dst_crs,file.width,file.height,*file.bounds)\n",
    "    \n",
    "#     # Set the new meta data for the projected raster file\n",
    "#     kwargs = file.meta.copy()\n",
    "#     kwargs.update({'crs':dst_crs,\n",
    "#                   'transform':transform,\n",
    "#                   'width':width,\n",
    "#                   'height':height\n",
    "#                   #compress:'lzw'\n",
    "#                   })\n",
    "    \n",
    "#     # Filename for writing out to\n",
    "#     filestring = '../data/GlobalFire2016/Global_fire_atlas_' + name + '_yearly_2016_reproj.tif'\n",
    "    \n",
    "#     # write the new raster file by using the rasterio reproject function\n",
    "#     with rio.open(filestring,'w',**kwargs) as dst:\n",
    "#         for i in range(1, file.count + 1):\n",
    "#             reproject(\n",
    "#                 source = rio.band(file,i),\n",
    "#                 destination=rio.band(dst,i),\n",
    "#                 file_transform = file.transform,\n",
    "#                 file_crs = file.crs,\n",
    "#                 dst_transform = transform,\n",
    "#                 dst_crs = dst_crs,\n",
    "#                 resampling=Resampling.nearest)  "
   ]
  },
  {
   "cell_type": "code",
   "execution_count": null,
   "metadata": {
    "hidden": true
   },
   "outputs": [],
   "source": [
    "# Close all the previous readers\n",
    "diryr.close()\n",
    "dobyr.close()\n",
    "firelineyr.close()\n",
    "speedyr.close()"
   ]
  },
  {
   "cell_type": "markdown",
   "metadata": {},
   "source": [
    "#### Crop to smaller bounding box - Toy Set"
   ]
  },
  {
   "cell_type": "code",
   "execution_count": null,
   "metadata": {},
   "outputs": [],
   "source": [
    "# Check CRSs all match\n",
    "print('ignition CRS', ign2.crs)\n",
    "print('final polygon CRS', poly2.crs)\n",
    "print('bounding box CRS', bb_gdf2.crs)"
   ]
  },
  {
   "cell_type": "markdown",
   "metadata": {},
   "source": [
    "##### First the ignition points to get fire numbers and then final fire sizes and dbf data"
   ]
  },
  {
   "cell_type": "code",
   "execution_count": null,
   "metadata": {},
   "outputs": [],
   "source": [
    "print('bounding box extents', bb_gdf2.total_bounds)"
   ]
  },
  {
   "cell_type": "code",
   "execution_count": null,
   "metadata": {},
   "outputs": [],
   "source": [
    "# Crop Ignition Data\n",
    "xmin2,ymin2,xmax2,ymax2=bb_gdf2.total_bounds\n",
    "ign2crop2 = ign2.cx[xmin2:xmax2,ymin2:ymax2]"
   ]
  },
  {
   "cell_type": "code",
   "execution_count": null,
   "metadata": {},
   "outputs": [],
   "source": [
    "print(ign2crop2.shape, ign2.shape)"
   ]
  },
  {
   "cell_type": "code",
   "execution_count": null,
   "metadata": {},
   "outputs": [],
   "source": [
    "fires = ign2crop2['fire_ID'].values"
   ]
  },
  {
   "cell_type": "code",
   "execution_count": null,
   "metadata": {},
   "outputs": [],
   "source": [
    "poly2crop2 = poly2.loc[poly2['fire_ID'].isin(fires)]"
   ]
  },
  {
   "cell_type": "code",
   "execution_count": null,
   "metadata": {},
   "outputs": [],
   "source": [
    "print(poly2crop2.shape, poly2.shape)"
   ]
  },
  {
   "cell_type": "code",
   "execution_count": null,
   "metadata": {},
   "outputs": [],
   "source": [
    "featurescrop2 = features1.loc[features1['fire_ID'].isin(fires)]"
   ]
  },
  {
   "cell_type": "code",
   "execution_count": null,
   "metadata": {},
   "outputs": [],
   "source": [
    "featurescrop2.head()"
   ]
  },
  {
   "cell_type": "code",
   "execution_count": null,
   "metadata": {},
   "outputs": [],
   "source": [
    "ign2crop2.head()"
   ]
  },
  {
   "cell_type": "code",
   "execution_count": null,
   "metadata": {},
   "outputs": [],
   "source": [
    "%%time\n",
    "#pickle out the ignition points and dbf\n",
    "with open('../data/GlobalFire2016/Global_fire_atlas_ignitioncrop.pickle','wb') as f:\n",
    "    pickle.dump(ign2crop2,f,pickle.HIGHEST_PROTOCOL)\n",
    "with open('../data/GlobalFire2016/Global_fire_atlas_datacrop.pickle','wb') as f:\n",
    "    pickle.dump(featurescrop2,f,pickle.HIGHEST_PROTOCOL)"
   ]
  },
  {
   "cell_type": "markdown",
   "metadata": {
    "heading_collapsed": true
   },
   "source": [
    "##### Crop the rasters"
   ]
  },
  {
   "cell_type": "code",
   "execution_count": null,
   "metadata": {
    "hidden": true,
    "scrolled": true
   },
   "outputs": [],
   "source": [
    "# Open the new reprojected geotiffs\n",
    "diryr_reproj = rio.open('../data/GlobalFire2016/Global_fire_atlas_direction_yearly_2016_reproj.tif')\n",
    "speedyr_reproj = rio.open('../data/GlobalFire2016/Global_fire_atlas_speed_yearly_2016_reproj.tif')\n",
    "dobyr_reproj = rio.open('../data/GlobalFire2016/Global_fire_atlas_dob_yearly_2016_reproj.tif')\n",
    "firelineyr_reproj = rio.open('../data/GlobalFire2016/Global_fire_atlas_fireline_yearly_2016_reproj.tif')"
   ]
  },
  {
   "cell_type": "code",
   "execution_count": null,
   "metadata": {
    "hidden": true
   },
   "outputs": [],
   "source": [
    "# Crop extent: bb_gdf2 - crop to the small box, which should work now that both raster \n",
    "# and shapefile are on the same CRS\n",
    "print('crop extent crs = ', bb_gdf2.crs)\n",
    "print('direction tiff crs = ', diryr_reproj.crs)\n",
    "print('speed tiff crs = ', speedyr_reproj.crs)\n",
    "print('day of burn tiff crs = ', dobyr_reproj.crs)\n",
    "print('fireline tiff crs = ', firelineyr_reproj.crs)"
   ]
  },
  {
   "cell_type": "code",
   "execution_count": null,
   "metadata": {
    "hidden": true
   },
   "outputs": [],
   "source": [
    "def crop_tif(tif_reproj,boundingbox):\n",
    "    \"\"\"function to crop the reprojected tiffs by the bounding box (shapefile)\"\"\"\n",
    "    \n",
    "    tif_reproj_crop,tif_reproj_crop_meta = es.crop_image(tif_reproj,boundingbox)\n",
    "    print(\"cropped data\", tif_reproj_crop.shape)\n",
    "    print(\"original data\", tif_reproj.shape)\n",
    "    print(\"meta\", tif_reproj_crop_meta)\n",
    "       \n",
    "    return(tif_reproj_crop, tif_reproj_crop_meta)"
   ]
  },
  {
   "cell_type": "code",
   "execution_count": null,
   "metadata": {
    "hidden": true
   },
   "outputs": [],
   "source": [
    "%%time\n",
    "diryr_reproj_crop,diryr_reproj_crop_meta = crop_tif(diryr_reproj,bb_gdf2)\n",
    "speedyr_reproj_crop,speedyr_reproj_crop_meta = crop_tif(speedyr_reproj,bb_gdf2)\n",
    "dobyr_reproj_crop,dobyr_reproj_crop_meta = crop_tif(dobyr_reproj,bb_gdf2)\n",
    "firelineyr_reproj_crop,firelineyr_reproj_crop_meta = crop_tif(firelineyr_reproj,bb_gdf2)"
   ]
  },
  {
   "cell_type": "code",
   "execution_count": null,
   "metadata": {
    "hidden": true
   },
   "outputs": [],
   "source": [
    "vals = firelineyr_reproj_crop[0][firelineyr_reproj_crop[0]>0]\n",
    "vals"
   ]
  },
  {
   "cell_type": "code",
   "execution_count": null,
   "metadata": {
    "hidden": true
   },
   "outputs": [],
   "source": [
    "diryr_reproj.close()\n",
    "speedyr_reproj.close()\n",
    "dobyr_reproj.close()\n",
    "firelineyr_reproj.close()"
   ]
  },
  {
   "cell_type": "code",
   "execution_count": null,
   "metadata": {
    "hidden": true
   },
   "outputs": [],
   "source": [
    "# Write these out to smaller tiffs\n",
    "with rio.open('../data/GlobalFire2016/Global_fire_atlas_dircrop.tif','w',**diryr_reproj_crop_meta) as dst:\n",
    "    dst.write(diryr_reproj_crop)\n",
    "with rio.open('../data/GlobalFire2016/Global_fire_atlas_speedcrop.tif','w',**speedyr_reproj_crop_meta) as dst:\n",
    "    dst.write(speedyr_reproj_crop)\n",
    "with rio.open('../data/GlobalFire2016/Global_fire_atlas_dobcrop.tif','w',**dobyr_reproj_crop_meta) as dst:\n",
    "    dst.write(dobyr_reproj_crop)\n",
    "with rio.open('../data/GlobalFire2016/Global_fire_atlas_firelinecrop.tif','w',**firelineyr_reproj_crop_meta) as dst:\n",
    "    dst.write(firelineyr_reproj_crop)"
   ]
  },
  {
   "cell_type": "markdown",
   "metadata": {},
   "source": [
    "#### Create a new tiff with fire_ID as the value\n",
    "Determine if a raster pixel is in a fire polygon and create a new tiff with fire_ID as the value"
   ]
  },
  {
   "cell_type": "code",
   "execution_count": null,
   "metadata": {},
   "outputs": [],
   "source": [
    "# From https://gis.stackexchange.com/questions/151339/rasterize-a-shapefile-with-geopandas-or-fiona-python\n",
    "polys = poly2crop2\n",
    "rst_fn = '../data/GlobalFire2016/template.tif'\n",
    "out_fn = '../data/GlobalFire2016/fireid.tif'"
   ]
  },
  {
   "cell_type": "code",
   "execution_count": null,
   "metadata": {},
   "outputs": [],
   "source": [
    "rst = rio.open(rst_fn)\n",
    "metaout = rst.meta.copy()\n",
    "metaout.update(compress='lzw')"
   ]
  },
  {
   "cell_type": "code",
   "execution_count": null,
   "metadata": {},
   "outputs": [],
   "source": [
    "with rio.open(out_fn, 'w+',**metaout) as out:\n",
    "    out_arr = out.read(1)\n",
    "    \n",
    "    shapes = ((geom,value) for geom,value in zip(polys.geometry,polys.fire_ID))\n",
    "    \n",
    "    burned = features.rasterize(shapes=shapes, fill=0, out=out_arr, transform=out.transform)\n",
    "    out.write_band(1,burned)"
   ]
  },
  {
   "cell_type": "code",
   "execution_count": null,
   "metadata": {},
   "outputs": [],
   "source": [
    "fireid = rio.open('../data/GlobalFire2016/fireid.tif')\n",
    "print(fireid.meta)"
   ]
  },
  {
   "cell_type": "code",
   "execution_count": null,
   "metadata": {},
   "outputs": [],
   "source": [
    "fireid_array = fireid.read()"
   ]
  },
  {
   "cell_type": "code",
   "execution_count": null,
   "metadata": {},
   "outputs": [],
   "source": [
    "fireid_array.shape"
   ]
  },
  {
   "cell_type": "code",
   "execution_count": null,
   "metadata": {},
   "outputs": [],
   "source": [
    "print(fireid_array)"
   ]
  },
  {
   "cell_type": "code",
   "execution_count": null,
   "metadata": {},
   "outputs": [],
   "source": [
    "vals = fireid_array[0][fireid_array[0]>0]\n",
    "vals"
   ]
  },
  {
   "cell_type": "code",
   "execution_count": null,
   "metadata": {},
   "outputs": [],
   "source": [
    "len(vals)"
   ]
  },
  {
   "cell_type": "markdown",
   "metadata": {
    "collapsed": "true"
   },
   "source": [
    "# Plots"
   ]
  },
  {
   "cell_type": "code",
   "execution_count": null,
   "metadata": {
    "hidden": true
   },
   "outputs": [],
   "source": [
    "fig,ax = plt.subplots(1)\n",
    "ax.set_aspect('equal')\n",
    "\n",
    "ax.plot(ix,iy,marker='x',markersize=12,color='green')\n",
    "ax.set_xlim([-110.21,-110.18])\n",
    "ax.set_ylim([56.79,56.81])\n",
    "\n",
    "fire.plot(ax=ax)\n",
    "\n",
    "plt.show()\n",
    "\n",
    "### CANNOT SEEM TO GET THE IGNITION POINT TO SHOW ON THE PLOT. GEOPANDAS DOES DIFFERENT STUFF WITH matplotlib"
   ]
  },
  {
   "cell_type": "markdown",
   "metadata": {},
   "source": [
    "# Data Pipeline Functions"
   ]
  },
  {
   "cell_type": "markdown",
   "metadata": {},
   "source": [
    "## Read in California Shape"
   ]
  },
  {
   "cell_type": "code",
   "execution_count": 1,
   "metadata": {},
   "outputs": [],
   "source": [
    "def get_dst(path, filename):\n",
    "    \"\"\"readin shp file and return destination geodataframe and CRS\"\"\"\n",
    "    filestring = path+filename\n",
    "    dst_gdf = gpd.read_file(filestring)\n",
    "    dst_crs = dst_gdf.crs\n",
    "    return (dst_gdf,dst_crs)"
   ]
  },
  {
   "cell_type": "markdown",
   "metadata": {},
   "source": [
    "## Crop Raster Data to Smaller Set and save out before Reprojecting"
   ]
  },
  {
   "cell_type": "code",
   "execution_count": 21,
   "metadata": {},
   "outputs": [],
   "source": [
    "def crop_raster(crop_gdf,tiff_path,tiff_filename,new_prefix):\n",
    "    \"\"\" Crop the raster data to a smaller size based on a gdf\n",
    "    Input: gdf with polygon of crop boundaries\n",
    "    Output: Cropped Raster in its original CRS\n",
    "    \"\"\"\n",
    "    \n",
    "    # Open tiff\n",
    "    orig_tif_file = tiff_path + tiff_filename\n",
    "    orig_tif = rio.open(orig_tif_file)\n",
    "    #print(f\"orig tif meta: {orig_tif.meta}\")\n",
    "    \n",
    "    # Get crs for tiff\n",
    "    tif_crs = orig_tif.crs\n",
    "    # Get crs for crop_gdf\n",
    "    gdf_crs = crop_gdf.crs\n",
    "    \n",
    "    #Transform the gdf crs\n",
    "    bbgdf = crop_gdf.to_crs(tif_crs)\n",
    "    \n",
    "    # Crop if the crs's match:\n",
    "    if tif_crs == bbgdf.crs:\n",
    "        tif_crop,tif_crop_meta = es.crop_image(orig_tif,bbgdf)\n",
    "        #print(f\"cropped meta: {tif_crop_meta}, width {tif_crop_meta['width']}\")\n",
    "    else:\n",
    "        print(f\"CRSs do not match. Tif CRS: {tif_crs}, \\ngdf_crs: {bbgdf.crs}\")\n",
    "    \n",
    "    # Write out smaller tifs\n",
    "    newtif_name = new_prefix+tiff_filename\n",
    "    newtif_filestring = tiff_path+newtif_name\n",
    "    \n",
    "    kwargs = orig_tif.meta.copy()\n",
    "    kwargs.update({'crs':tif_crs,\n",
    "                   'width':tif_crop_meta['width'],\n",
    "                   'height':tif_crop_meta['height'],\n",
    "                   'compress':'lzw'\n",
    "                  })\n",
    "    smaller = rio.open(newtif_filestring,'w',**kwargs)\n",
    "    \n",
    "    # Close tifs\n",
    "    orig_tif.close()\n",
    "    smaller.close()\n",
    "    \n",
    "    return newtif_name"
   ]
  },
  {
   "cell_type": "markdown",
   "metadata": {},
   "source": [
    "## Reproject Raster Data to EPSG 3857 and Save Out  \n"
   ]
  },
  {
   "cell_type": "code",
   "execution_count": 25,
   "metadata": {},
   "outputs": [],
   "source": [
    "def reproject_raster(dst_crs,tiff_path,tiff_filename):\n",
    "    \"\"\"Using the destination crs and the input raster\n",
    "    create a reprojected raster file\n",
    "    \n",
    "    Input: Destination Crs and Tiff file in original format\n",
    "    Output: Status of File Write\n",
    "    \"\"\"\n",
    "    # Get tiff crs and dimensions\n",
    "    tiff_filestring = tiff_path + tiff_filename\n",
    "    raster = rio.open(tiff_filestring)\n",
    "    print(f\"Filename {tiff_filestring} and Original raster meta {raster.meta} \\n dest crs: {dst_crs}\\n raster bounds: {raster.bounds}\")\n",
    "    \n",
    "    # Calculate the transform using the rasterio warp function\n",
    "    transform,width,height = calculate_default_transform(raster.crs,dst_crs,raster.width,raster.height,*raster.bounds)\n",
    "    print(f\"Newtransform: {transform}, new width: {width}, new height: {height} \")\n",
    "    \n",
    "    # Set the new meta data for the projected raster file\n",
    "#     kwargs = raster.meta.copy()\n",
    "#     kwargs.update({'crs':dst_crs,\n",
    "#                    'transform':transform,\n",
    "#                    'width':width,\n",
    "#                    'height':height,\n",
    "#                    'compress':'lzw'\n",
    "#                   })\n",
    "    \n",
    "#     # write the new raster file by using the rasterio reproject function\n",
    "#     dst_filename = 'Reproj_'+tiff_filename\n",
    "#     dst_filestring = tiff_path+dst_filename\n",
    "#     dst = rio.open(dst_filestring,'w',**kwargs)\n",
    "#     for i in range(1, raster.count + 1):\n",
    "#         reproject(\n",
    "#             source = rio.band(raster,i),\n",
    "#             destination=rio.band(dst,i),\n",
    "#             raster_transform = raster.transform,\n",
    "#             raster_crs = raster.crs,\n",
    "#             dst_transform = transform,\n",
    "#             dst_crs = dst_crs,\n",
    "#             resampling=Resampling.nearest)\n",
    "    \n",
    "#     print(\"destination raster meta\",dst.meta)\n",
    "#     # Close raster files\n",
    "#     raster.close()\n",
    "#     dst.close()\n",
    "    \n",
    "    return dst_filename"
   ]
  },
  {
   "cell_type": "markdown",
   "metadata": {},
   "source": [
    "## Read in Ignition Files and Convert to EPSG 3857\n"
   ]
  },
  {
   "cell_type": "markdown",
   "metadata": {},
   "source": [
    "## Crop Ignition Files and Save Out"
   ]
  },
  {
   "cell_type": "markdown",
   "metadata": {},
   "source": [
    "## Create Fire ID Raster and Save Out  \n",
    "- ensure that Raster to Array conversion is saved as well"
   ]
  },
  {
   "cell_type": "markdown",
   "metadata": {},
   "source": [
    "## Run Pipeline"
   ]
  },
  {
   "cell_type": "code",
   "execution_count": 26,
   "metadata": {},
   "outputs": [
    {
     "name": "stdout",
     "output_type": "stream",
     "text": [
      "Filename ../data/GlobalFire/2016/Cali_Global_fire_atlas_day_of_burn_yearly_2016.tif and Original raster meta {'driver': 'GTiff', 'dtype': 'int32', 'nodata': -9999.0, 'width': 2614, 'height': 2277, 'count': 1, 'crs': CRS.from_wkt('PROJCS[\"unnamed\",GEOGCS[\"Unknown datum based upon the custom spheroid\",DATUM[\"Not_specified_based_on_custom_spheroid\",SPHEROID[\"Custom spheroid\",6371007.181,0]],PRIMEM[\"Greenwich\",0],UNIT[\"degree\",0.0174532925199433,AUTHORITY[\"EPSG\",\"9122\"]]],PROJECTION[\"Sinusoidal\"],PARAMETER[\"longitude_of_center\",0],PARAMETER[\"false_easting\",0],PARAMETER[\"false_northing\",0],UNIT[\"metre\",1,AUTHORITY[\"EPSG\",\"9001\"]],AXIS[\"Easting\",EAST],AXIS[\"Northing\",NORTH]]'), 'transform': Affine(463.3127165279165, 0.0, -20015109.354,\n",
      "       0.0, -463.3127165279167, 7783653.637666)} \n",
      " dest crs: epsg:3857\n",
      " raster bounds: BoundingBox(left=-20015109.354, bottom=6728690.582131933, right=-18804009.912996024, top=7783653.637666)\n"
     ]
    },
    {
     "ename": "CPLE_AppDefinedError",
     "evalue": "Too many points (2209 out of 2209) failed to transform, unable to compute output bounds.",
     "output_type": "error",
     "traceback": [
      "\u001b[1;31m---------------------------------------------------------------------------\u001b[0m",
      "\u001b[1;31mCPLE_AppDefinedError\u001b[0m                      Traceback (most recent call last)",
      "\u001b[1;32m<timed exec>\u001b[0m in \u001b[0;36m<module>\u001b[1;34m\u001b[0m\n",
      "\u001b[1;32m<ipython-input-25-91dd07b1c655>\u001b[0m in \u001b[0;36mreproject_raster\u001b[1;34m(dst_crs, tiff_path, tiff_filename)\u001b[0m\n\u001b[0;32m     12\u001b[0m \u001b[1;33m\u001b[0m\u001b[0m\n\u001b[0;32m     13\u001b[0m     \u001b[1;31m# Calculate the transform using the rasterio warp function\u001b[0m\u001b[1;33m\u001b[0m\u001b[1;33m\u001b[0m\u001b[1;33m\u001b[0m\u001b[0m\n\u001b[1;32m---> 14\u001b[1;33m     \u001b[0mtransform\u001b[0m\u001b[1;33m,\u001b[0m\u001b[0mwidth\u001b[0m\u001b[1;33m,\u001b[0m\u001b[0mheight\u001b[0m \u001b[1;33m=\u001b[0m \u001b[0mcalculate_default_transform\u001b[0m\u001b[1;33m(\u001b[0m\u001b[0mraster\u001b[0m\u001b[1;33m.\u001b[0m\u001b[0mcrs\u001b[0m\u001b[1;33m,\u001b[0m\u001b[0mdst_crs\u001b[0m\u001b[1;33m,\u001b[0m\u001b[0mraster\u001b[0m\u001b[1;33m.\u001b[0m\u001b[0mwidth\u001b[0m\u001b[1;33m,\u001b[0m\u001b[0mraster\u001b[0m\u001b[1;33m.\u001b[0m\u001b[0mheight\u001b[0m\u001b[1;33m,\u001b[0m\u001b[1;33m*\u001b[0m\u001b[0mraster\u001b[0m\u001b[1;33m.\u001b[0m\u001b[0mbounds\u001b[0m\u001b[1;33m)\u001b[0m\u001b[1;33m\u001b[0m\u001b[1;33m\u001b[0m\u001b[0m\n\u001b[0m\u001b[0;32m     15\u001b[0m     \u001b[0mprint\u001b[0m\u001b[1;33m(\u001b[0m\u001b[1;34mf\"Newtransform: {transform}, new width: {width}, new height: {height} \"\u001b[0m\u001b[1;33m)\u001b[0m\u001b[1;33m\u001b[0m\u001b[1;33m\u001b[0m\u001b[0m\n\u001b[0;32m     16\u001b[0m \u001b[1;33m\u001b[0m\u001b[0m\n",
      "\u001b[1;32mC:\\DDRIVE\\ProgramFiles\\Anaconda3\\envs\\earth-analytics-python\\lib\\site-packages\\rasterio\\env.py\u001b[0m in \u001b[0;36mwrapper\u001b[1;34m(*args, **kwds)\u001b[0m\n\u001b[0;32m    384\u001b[0m         \u001b[1;32melse\u001b[0m\u001b[1;33m:\u001b[0m\u001b[1;33m\u001b[0m\u001b[1;33m\u001b[0m\u001b[0m\n\u001b[0;32m    385\u001b[0m             \u001b[1;32mwith\u001b[0m \u001b[0mEnv\u001b[0m\u001b[1;33m.\u001b[0m\u001b[0mfrom_defaults\u001b[0m\u001b[1;33m(\u001b[0m\u001b[1;33m)\u001b[0m\u001b[1;33m:\u001b[0m\u001b[1;33m\u001b[0m\u001b[1;33m\u001b[0m\u001b[0m\n\u001b[1;32m--> 386\u001b[1;33m                 \u001b[1;32mreturn\u001b[0m \u001b[0mf\u001b[0m\u001b[1;33m(\u001b[0m\u001b[1;33m*\u001b[0m\u001b[0margs\u001b[0m\u001b[1;33m,\u001b[0m \u001b[1;33m**\u001b[0m\u001b[0mkwds\u001b[0m\u001b[1;33m)\u001b[0m\u001b[1;33m\u001b[0m\u001b[1;33m\u001b[0m\u001b[0m\n\u001b[0m\u001b[0;32m    387\u001b[0m     \u001b[1;32mreturn\u001b[0m \u001b[0mwrapper\u001b[0m\u001b[1;33m\u001b[0m\u001b[1;33m\u001b[0m\u001b[0m\n\u001b[0;32m    388\u001b[0m \u001b[1;33m\u001b[0m\u001b[0m\n",
      "\u001b[1;32mC:\\DDRIVE\\ProgramFiles\\Anaconda3\\envs\\earth-analytics-python\\lib\\site-packages\\rasterio\\warp.py\u001b[0m in \u001b[0;36mcalculate_default_transform\u001b[1;34m(src_crs, dst_crs, width, height, left, bottom, right, top, gcps, resolution, dst_width, dst_height)\u001b[0m\n\u001b[0;32m    468\u001b[0m \u001b[1;33m\u001b[0m\u001b[0m\n\u001b[0;32m    469\u001b[0m     dst_affine, dst_width, dst_height = _calculate_default_transform(\n\u001b[1;32m--> 470\u001b[1;33m         src_crs, dst_crs, width, height, left, bottom, right, top, gcps)\n\u001b[0m\u001b[0;32m    471\u001b[0m \u001b[1;33m\u001b[0m\u001b[0m\n\u001b[0;32m    472\u001b[0m     \u001b[1;31m# If resolution is specified, Keep upper-left anchored\u001b[0m\u001b[1;33m\u001b[0m\u001b[1;33m\u001b[0m\u001b[1;33m\u001b[0m\u001b[0m\n",
      "\u001b[1;32mrasterio\\_warp.pyx\u001b[0m in \u001b[0;36mrasterio._warp._calculate_default_transform\u001b[1;34m()\u001b[0m\n",
      "\u001b[1;32mrasterio\\_warp.pyx\u001b[0m in \u001b[0;36mrasterio._warp._calculate_default_transform\u001b[1;34m()\u001b[0m\n",
      "\u001b[1;32mrasterio\\_err.pyx\u001b[0m in \u001b[0;36mrasterio._err.exc_wrap_int\u001b[1;34m()\u001b[0m\n",
      "\u001b[1;31mCPLE_AppDefinedError\u001b[0m: Too many points (2209 out of 2209) failed to transform, unable to compute output bounds."
     ]
    }
   ],
   "source": [
    "%%time\n",
    "import geopandas as gpd\n",
    "import rasterio as rio\n",
    "from shapely.geometry import Polygon\n",
    "import earthpy.spatial as es\n",
    "from rasterio.warp import calculate_default_transform, reproject, Resampling\n",
    "\n",
    "# Get Destination CRS from Shapefile\n",
    "dst_crs_path = '../data/ca-state-boundary/'\n",
    "dst_crs_filename = 'CA_State_TIGER2016.shp'\n",
    "\n",
    "dst_gdf,dst_crs = get_dst(dst_crs_path,dst_crs_filename)\n",
    "\n",
    "\n",
    "# Build list of tif file names to crop\n",
    "year = '2016'\n",
    "src_path = '../data/GlobalFire/'+year+'/'\n",
    "firevars = ['day_of_burn','direction','fire_line','speed']\n",
    "filenames = []\n",
    "for var in firevars:\n",
    "    filename = 'Global_fire_atlas_'+var+'_yearly_'+year+'.tif'\n",
    "    filenames.append(filename)\n",
    "    \n",
    "#Crop original Rasters and save out\n",
    "# newfilenames=[]\n",
    "# #cropped = crop_raster(dst_gdf,src_path,filenames[0],new_prefix='Cali')\n",
    "# for file in filenames:\n",
    "#     newname = crop_raster(dst_gdf,src_path,file,new_prefix='Cali_')\n",
    "#     newfilenames.append(newname)   \n",
    "\n",
    "# Convert raster data for one year to new projection\n",
    "reproj_files = []\n",
    "#reproj_name = reproject_raster(dst_crs,src_path,newfilenames[0])\n",
    "for file in newfilenames:\n",
    "    reproj_name = reproject_raster(dst_crs,src_path,file)\n",
    "    reproj_files.append(reproj_name)\n",
    "    \n",
    "# Create Berkeley area Bounding Box\n",
    "# bb_crs = \"epsg:4326\" # Long/Lat from map\n",
    "# bblong = [-123.5, -119.5,-119.5,-123.5,-123.5]\n",
    "# bblat = [39, 39, 36, 36,39]\n",
    "# bbpoly = Polygon(zip(bblong,bblat))\n",
    "# bbgdf = gpd.GeoDataFrame(index=[0],crs=bb_crs,geometry = [bbpoly])\n",
    "\n",
    "# # Crop smaller rasters\n",
    "# bb_filenames=[]\n",
    "# for file in reproj_files:\n",
    "#     bbname = crop_raster(bbgdf,src_path,file,new_prefix='BB')\n",
    "#     bb_filenames.append(bbname)\n",
    "\n",
    "# #Crop Ignition File\n",
    "\n",
    "    \n",
    "# Create FireID raster and get extents, res\n",
    "\n",
    "\n"
   ]
  },
  {
   "cell_type": "code",
   "execution_count": 3,
   "metadata": {},
   "outputs": [
    {
     "ename": "NameError",
     "evalue": "name 'newfilenames' is not defined",
     "output_type": "error",
     "traceback": [
      "\u001b[1;31m---------------------------------------------------------------------------\u001b[0m",
      "\u001b[1;31mNameError\u001b[0m                                 Traceback (most recent call last)",
      "\u001b[1;32m<ipython-input-3-834bbfb15619>\u001b[0m in \u001b[0;36m<module>\u001b[1;34m\u001b[0m\n\u001b[1;32m----> 1\u001b[1;33m \u001b[0mnewfilenames\u001b[0m\u001b[1;33m\u001b[0m\u001b[1;33m\u001b[0m\u001b[0m\n\u001b[0m",
      "\u001b[1;31mNameError\u001b[0m: name 'newfilenames' is not defined"
     ]
    }
   ],
   "source": [
    "newfilenames"
   ]
  },
  {
   "cell_type": "code",
   "execution_count": null,
   "metadata": {},
   "outputs": [],
   "source": [
    "import pyproj\n",
    "crs = pyproj.crs.CRS(tif_crs)\n",
    "crs"
   ]
  },
  {
   "cell_type": "code",
   "execution_count": null,
   "metadata": {},
   "outputs": [],
   "source": [
    "with rio.open(src_path + 'ReprojSmaller_'+filenames[0]) as examp:\n",
    "    #print(examp.meta)\n",
    "    prof = examp.profile\n",
    "    bounds = examp.bounds\n",
    "    aff = examp.transform"
   ]
  },
  {
   "cell_type": "code",
   "execution_count": null,
   "metadata": {},
   "outputs": [],
   "source": [
    "print(type(bounds))\n",
    "print(bounds)"
   ]
  },
  {
   "cell_type": "code",
   "execution_count": null,
   "metadata": {},
   "outputs": [],
   "source": [
    "print(type(aff))\n",
    "print(aff)"
   ]
  },
  {
   "cell_type": "code",
   "execution_count": null,
   "metadata": {},
   "outputs": [],
   "source": [
    "print(type(prof))\n",
    "print(prof)"
   ]
  },
  {
   "cell_type": "code",
   "execution_count": null,
   "metadata": {},
   "outputs": [],
   "source": [
    "w = prof['width']"
   ]
  },
  {
   "cell_type": "code",
   "execution_count": null,
   "metadata": {},
   "outputs": [],
   "source": [
    "xres = prof['transform'][0]\n",
    "yres = prof['transform'][4]\n",
    "print(xres,yres)"
   ]
  },
  {
   "cell_type": "code",
   "execution_count": null,
   "metadata": {},
   "outputs": [],
   "source": [
    "print((abs(bounds[0])+abs(bounds[2]))/(aff[0]))"
   ]
  },
  {
   "cell_type": "code",
   "execution_count": null,
   "metadata": {},
   "outputs": [],
   "source": [
    "xx = abs(bounds[0])+bounds[2]"
   ]
  },
  {
   "cell_type": "code",
   "execution_count": null,
   "metadata": {},
   "outputs": [],
   "source": [
    "xx/prof['width']"
   ]
  },
  {
   "cell_type": "code",
   "execution_count": null,
   "metadata": {},
   "outputs": [],
   "source": [
    "x = prof['transform'][2]+xres*prof['width']\n",
    "x"
   ]
  },
  {
   "cell_type": "code",
   "execution_count": null,
   "metadata": {},
   "outputs": [],
   "source": [
    "def getcoords(geotif,pixelrow,pixelcol):\n",
    "    \"\"\"Get the coordinates of a given pixel in the tif coordinate\n",
    "    system\n",
    "    Input: geotiff path+filename, and row,column of the pixel in question\n",
    "    Output: tuple of the x,y coordinate in the geotif coordinate system\n",
    "    \"\"\"\n",
    "    \n",
    "    import rasterio as rio\n",
    "    import numpy as np\n",
    "    \n",
    "    with rio.open(geotif) as tif:\n",
    "        profile = tif.profile\n",
    "\n",
    "    left = profile['transform'][2]\n",
    "    print(left)\n",
    "    top = profile['transform'][5]\n",
    "    print(top)\n",
    "    \n",
    "    xres = prof['transform'][0]\n",
    "    print(xres)\n",
    "    yres = prof['transform'][4]\n",
    "    print(yres)\n",
    "    \n",
    "    deltax = xres*pixelcol\n",
    "    deltay = yres*pixelrow\n",
    "    print(deltax,deltay)\n",
    "    \n",
    "    x = left+deltax\n",
    "    y = top+deltay\n",
    "    \n",
    "    return (x,y)"
   ]
  },
  {
   "cell_type": "code",
   "execution_count": null,
   "metadata": {},
   "outputs": [],
   "source": [
    "ff = src_path + 'ReprojSmaller_'+filenames[0]\n",
    "a,b = getcoords(ff,21704,39290)"
   ]
  },
  {
   "cell_type": "code",
   "execution_count": null,
   "metadata": {},
   "outputs": [],
   "source": [
    "print(a,b)"
   ]
  }
 ],
 "metadata": {
  "kernelspec": {
   "display_name": "Python 3",
   "language": "python",
   "name": "python3"
  },
  "language_info": {
   "codemirror_mode": {
    "name": "ipython",
    "version": 3
   },
   "file_extension": ".py",
   "mimetype": "text/x-python",
   "name": "python",
   "nbconvert_exporter": "python",
   "pygments_lexer": "ipython3",
   "version": "3.7.6"
  },
  "toc": {
   "base_numbering": 1,
   "nav_menu": {},
   "number_sections": true,
   "sideBar": true,
   "skip_h1_title": false,
   "title_cell": "Table of Contents",
   "title_sidebar": "Contents",
   "toc_cell": false,
   "toc_position": {
    "height": "calc(100% - 180px)",
    "left": "10px",
    "top": "150px",
    "width": "427px"
   },
   "toc_section_display": true,
   "toc_window_display": true
  },
  "toc-autonumbering": true
 },
 "nbformat": 4,
 "nbformat_minor": 4
}
