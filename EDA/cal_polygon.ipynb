{
 "cells": [
  {
   "cell_type": "code",
   "execution_count": 4,
   "metadata": {},
   "outputs": [],
   "source": [
    "import geopandas as gpd\n",
    "import shapely\n",
    "from shapely.geometry.polygon import Polygon\n",
    "\n",
    "def create_hectar_sized_square(lat, lon):\n",
    "    gdf = gpd.GeoDataFrame(geometry=[shapely.geometry.Point(lon, lat)])\n",
    "    gdf.crs = {'init': 'epsg:4326'}\n",
    "    gdf = gdf.to_crs({'init': 'epsg:3857'})\n",
    "    gdf['geometry'] = gdf['geometry'].apply(lambda x: x.buffer(50).envelope)\n",
    "    print(gdf.area)\n",
    "    gdf = gdf.to_crs({'init': 'epsg:4326'})\n",
    "    gdf.plot()\n",
    "    return gdf.to_json()"
   ]
  },
  {
   "cell_type": "code",
   "execution_count": 5,
   "metadata": {},
   "outputs": [
    {
     "name": "stdout",
     "output_type": "stream",
     "text": [
      "0    10000.0\n",
      "dtype: float64\n"
     ]
    },
    {
     "data": {
      "text/plain": [
       "'{\"type\": \"FeatureCollection\", \"features\": [{\"id\": \"0\", \"type\": \"Feature\", \"properties\": {}, \"geometry\": {\"type\": \"Polygon\", \"coordinates\": [[[-122.25894915764205, 37.871545440725484], [-122.25805084235793, 37.871545440725484], [-122.25805084235793, 37.87225455756818], [-122.25894915764205, 37.87225455756818], [-122.25894915764205, 37.871545440725484]]]}}]}'"
      ]
     },
     "execution_count": 5,
     "metadata": {},
     "output_type": "execute_result"
    },
    {
     "data": {
      "image/png": "[encoded data removed]",
      "text/plain": [
       "<Figure size 432x288 with 1 Axes>"
      ]
     },
     "metadata": {
      "needs_background": "light"
     },
     "output_type": "display_data"
    }
   ],
   "source": [
    "create_hectar_sized_square(37.8719, -122.2585)"
   ]
  },
  {
   "cell_type": "code",
   "execution_count": 3,
   "metadata": {},
   "outputs": [],
   "source": []
  },
  {
   "cell_type": "code",
   "execution_count": null,
   "metadata": {},
   "outputs": [],
   "source": []
  }
 ],
 "metadata": {
  "kernelspec": {
   "display_name": "Python 3",
   "language": "python",
   "name": "python3"
  },
  "language_info": {
   "codemirror_mode": {
    "name": "ipython",
    "version": 3
   },
   "file_extension": ".py",
   "mimetype": "text/x-python",
   "name": "python",
   "nbconvert_exporter": "python",
   "pygments_lexer": "ipython3",
   "version": "3.7.6"
  }
 },
 "nbformat": 4,
 "nbformat_minor": 4
}
