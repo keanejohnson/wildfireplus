{
 "cells": [
  {
   "cell_type": "markdown",
   "metadata": {},
   "source": [
    "# Single Lat Long to GeoTiff CRS"
   ]
  },
  {
   "cell_type": "code",
   "execution_count": 6,
   "metadata": {},
   "outputs": [],
   "source": [
    "def convert_point(lat,long):\n",
    "    \"\"\"Convert Coordinate Reference systems from map lat/long\n",
    "    to fire raster CRS\n",
    "    Input: Point of latitude,longitude - in that order\n",
    "    Output: Tuple of (x,y) in CRS coordinates\n",
    "    \"\"\"\n",
    "    \n",
    "    import geopandas as gpd\n",
    "    from shapely.geometry import Point\n",
    "    \n",
    "    # Declare point (longitude (or x) always comes first, then latitude (y))\n",
    "    point = Point(long,lat)\n",
    "    \n",
    "    # Set Source CRS (Mapbox or Google Maps)\n",
    "    src_crs = \"EPSG:4326\"\n",
    "    \n",
    "    # create dataframe from input lat/long\n",
    "    gdf=gpd.GeoDataFrame(index=[0],crs = src_crs, geometry=[point])\n",
    "        \n",
    "    # Change CRS to match Wildfire CRS (3857)\n",
    "    gdf_tf = gdf.to_crs(\"epsg:3857\")\n",
    "    \n",
    "    # pull x and y value out from the POINT attribute, then get\n",
    "    # the value in the data series at row[0]\n",
    "    x = gdf_tf.geometry.x.at[0]\n",
    "    y = gdf_tf.geometry.y.at[0]\n",
    "        \n",
    "    return (x,y)"
   ]
  },
  {
   "cell_type": "code",
   "execution_count": 8,
   "metadata": {},
   "outputs": [
    {
     "name": "stdout",
     "output_type": "stream",
     "text": [
      "-13580977.876779376 4411265.910262686\n"
     ]
    }
   ],
   "source": [
    "x,y = convert_point(36.8,-122.0)\n",
    "print(x,y)"
   ]
  },
  {
   "cell_type": "markdown",
   "metadata": {},
   "source": [
    "# List of Fire polygon points in Fire CRS to Lat Long"
   ]
  },
  {
   "cell_type": "code",
   "execution_count": 3,
   "metadata": {
    "collapsed": true,
    "jupyter": {
     "outputs_hidden": true
    }
   },
   "outputs": [],
   "source": [
    "def convert_polygon(fire_polygon):\n",
    "    \"\"\"Convert Coord ref system (CRS) from fire data (EPSG 3857) to map \n",
    "    lat/long (EPSG 4326), polygon starts and ends on same point (to close it)\n",
    "    \n",
    "    Input: list containing tuples of x,y points in fire CRS that describe a polygon\n",
    "    Output: list containing tuples of lat/long points that describe the polygon\n",
    "    \"\"\"\n",
    "    from shapely import geometry\n",
    "    import geopandas as gpd\n",
    "    import numpy as np\n",
    "    # create polygon\n",
    "    poly = geometry.Polygon([(p[0], p[1]) for p in fire_polygon])\n",
    "    \n",
    "    #CRS\n",
    "    src_crs = \"EPSG:3857\"\n",
    "    dst_crs = \"EPSG:4326\"\n",
    "    \n",
    "    # Create Geo DataFrame\n",
    "    gfp = gpd.GeoDataFrame(index=[0],crs=src_crs,geometry=[poly])\n",
    "    \n",
    "    # Convert CRS\n",
    "    gfp2 = gfp.to_crs(dst_crs)\n",
    "    \n",
    "    # pull data from dataframe\n",
    "    polyout = gfp2.iloc[0]['geometry']\n",
    "    \n",
    "    # create list of tuples, but longitude is first\n",
    "    l = list(map(tuple,np.asarray(polyout.exterior.coords)))\n",
    "    l = list(map(lambda m: (m[1],m[0]), l))\n",
    "    \n",
    "    return l\n",
    "    "
   ]
  },
  {
   "cell_type": "code",
   "execution_count": 4,
   "metadata": {
    "collapsed": true,
    "jupyter": {
     "outputs_hidden": true
    }
   },
   "outputs": [],
   "source": [
    "points = [(-13580977.876779376, 4411265.910262686),\n",
    " (-13348542.780003022, 4411265.910262686),\n",
    " (-13348542.780003022, 4172037.896749009),\n",
    " (-13580977.876779376, 4172037.896749009),\n",
    " (-13580977.876779376, 4411265.910262686)]"
   ]
  },
  {
   "cell_type": "code",
   "execution_count": 5,
   "metadata": {
    "collapsed": true,
    "jupyter": {
     "outputs_hidden": true
    }
   },
   "outputs": [
    {
     "name": "stdout",
     "output_type": "stream",
     "text": [
      "[(36.79999999999999, -122.0), (36.79999999999999, -119.91200000000002), (35.06000000000001, -119.91200000000002), (35.06000000000001, -122.0), (36.79999999999999, -122.0)]\n"
     ]
    }
   ],
   "source": [
    "x = convert_polygon(points)\n",
    "print(x)"
   ]
  },
  {
   "cell_type": "markdown",
   "metadata": {},
   "source": [
    "# Convert from Pixels to Raster"
   ]
  },
  {
   "cell_type": "code",
   "execution_count": null,
   "metadata": {
    "collapsed": true,
    "jupyter": {
     "outputs_hidden": true
    }
   },
   "outputs": [],
   "source": [
    "def getcoords(geotif,pixelrow,pixelcol):\n",
    "    \"\"\"Get the coordinates of a given pixel in the tif coordinate\n",
    "    system\n",
    "    Input: geotiff path+filename, and row,column of the pixel in question\n",
    "    Output: tuple of the x,y coordinate in the geotif coordinate system\n",
    "    \"\"\"\n",
    "    \n",
    "    import rasterio as rio\n",
    "       \n",
    "    with rio.open(geotif) as tif:\n",
    "        profile = tif.profile\n",
    "\n",
    "    left = profile['transform'][2]\n",
    "    top = profile['transform'][5]\n",
    "    \n",
    "    xres = prof['transform'][0]\n",
    "    yres = prof['transform'][4]\n",
    "    \n",
    "    deltax = xres*pixelcol\n",
    "    deltay = yres*pixelrow\n",
    "    \n",
    "    x = left+deltax\n",
    "    y = top+deltay\n",
    "    \n",
    "    return (x,y)"
   ]
  },
  {
   "cell_type": "markdown",
   "metadata": {},
   "source": [
    "# Convert from Raster to Pixels"
   ]
  },
  {
   "cell_type": "code",
   "execution_count": 1,
   "metadata": {},
   "outputs": [],
   "source": [
    "def getrasterdims(geotif_filename):\n",
    "    \"\"\"Get the top left and resolution for pixels in an array\n",
    "    given the tif coordinate reference system\n",
    "    Input: geotiff path+filename\n",
    "    Output: tuple of the x,y coordinate of top left and resolutions of pixel\n",
    "    \n",
    "    Example to find out which pixel a given x,y coordinate refers to:\n",
    "    pixel_column = (x-left)/xres\n",
    "    pixel_row = (y-top)/yres\n",
    "    \"\"\"\n",
    "    \n",
    "    import rasterio as rio\n",
    "    \n",
    "    with rio.open(geotif_filename) as tif:\n",
    "        profile = tif.profile\n",
    "\n",
    "    left = profile['transform'][2]\n",
    "    top = profile['transform'][5]\n",
    "    \n",
    "    xres = prof['transform'][0]\n",
    "    yres = prof['transform'][4]\n",
    "        \n",
    "    return ((left,top),(xres,yres))"
   ]
  },
  {
   "cell_type": "markdown",
   "metadata": {},
   "source": [
    "# Lat Long Polygon convert to Fire CRS (EPSG 3857)"
   ]
  },
  {
   "cell_type": "code",
   "execution_count": 6,
   "metadata": {},
   "outputs": [],
   "source": [
    "def poly_to_fire(longs,lats):\n",
    "    \"\"\"Convert the longitude/latitude polygon from Mapbox input\n",
    "    to Fire CRS (EPSG 3857)\n",
    "    Input: List of Longitudes and Latitudes that form a polygon\n",
    "    Output: List of (X,Y) tuples defining polygon on the fire CRS\n",
    "    \"\"\"\n",
    "    \n",
    "    import geopandas as gpd\n",
    "    import rasterio as rio\n",
    "    from shapely.geometry import Polygon\n",
    "    # Define CRSs\n",
    "    poly_crs = \"epsg:4326\" # Long/Lat from map\n",
    "    fire_crs = \"epsg:3857\"\n",
    "    \n",
    "    # Create polygon and put in GDF\n",
    "    poly_poly = Polygon(zip(longs,lats))\n",
    "    poly_gdf = gpd.GeoDataFrame(index=[0],crs=poly_crs,geometry = [poly_poly])\n",
    "    \n",
    "    #Transform the gdf crs\n",
    "    outgdf = poly_gdf.to_crs(fire_crs)\n",
    "    \n",
    "    # pull data from dataframe\n",
    "    polyout = outgdf.iloc[0]['geometry']\n",
    "    \n",
    "    # create list of tuples of x,y\n",
    "    l = list(map(tuple,np.asarray(polyout.exterior.coords)))\n",
    "    \n",
    "    return l\n",
    "    \n",
    "    "
   ]
  }
 ],
 "metadata": {
  "kernelspec": {
   "display_name": "Python 3",
   "language": "python",
   "name": "python3"
  },
  "language_info": {
   "codemirror_mode": {
    "name": "ipython",
    "version": 3
   },
   "file_extension": ".py",
   "mimetype": "text/x-python",
   "name": "python",
   "nbconvert_exporter": "python",
   "pygments_lexer": "ipython3",
   "version": "3.7.6"
  }
 },
 "nbformat": 4,
 "nbformat_minor": 4
}
