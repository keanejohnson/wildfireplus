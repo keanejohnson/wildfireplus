{
 "cells": [
  {
   "cell_type": "markdown",
   "metadata": {
    "collapsed": "true"
   },
   "source": [
    "# SETUP"
   ]
  },
  {
   "cell_type": "code",
   "execution_count": null,
   "metadata": {
    "Collapsed": "false"
   },
   "outputs": [],
   "source": [
    "import numpy as np\n",
    "import itertools\n",
    "import requests\n",
    "import datetime\n",
    "import time\n",
    "import json\n",
    "import sys\n",
    "from datetime import datetime\n",
    "import pickle\n",
    "import pandas as pd\n",
    "import rasterio as rio\n",
    "import copy\n",
    "import seaborn as sns\n",
    "import matplotlib.pyplot as plt\n",
    "import matplotlib\n",
    "from rasterio.transform import Affine\n",
    "from rasterio.warp import calculate_default_transform, reproject, Resampling"
   ]
  },
  {
   "cell_type": "code",
   "execution_count": null,
   "metadata": {
    "Collapsed": "false"
   },
   "outputs": [],
   "source": [
    "print(\"matplotlib\",matplotlib.__version__)\n",
    "print(\"seaborn\",sns.__version__)\n",
    "print(\"numpy\",np.__version__)\n",
    "print(\"pandas\",pd.__version__)\n",
    "print(\"python\",sys.version)"
   ]
  },
  {
   "cell_type": "markdown",
   "metadata": {
    "toc-hr-collapsed": false
   },
   "source": [
    "# Requests \n",
    "\n",
    "From GEO EDA sheet:"
   ]
  },
  {
   "cell_type": "markdown",
   "metadata": {
    "collapsed": "false",
    "heading_collapsed": true
   },
   "source": [
    "## DarkSky Sample"
   ]
  },
  {
   "cell_type": "markdown",
   "metadata": {
    "collapsed": "false",
    "hidden": true
   },
   "source": [
    "1) cheapest seems to be DarkSky. 1000 per day for free 2) $0.0001 per request after that 3) Request: \" https://api.darksky.net/forecast/[key]/40.036944,-121.005833,2005-02-02T17:30:00\" (my api key removed)\n",
    "\n",
    "Output is like this: {\"latitude\":40.036944,\"longitude\":-121.005833,\"timezone\":\"America/Los_Angeles\",\"currently\":{\"time\":1107394200,\"precipIntensity\":0,\"precipProbability\":0,\"temperature\":50.24,\"apparentTemperature\":50.41,\"dewPoint\":13.85,\"humidity\":0.23,\"windSpeed\":2.62,\"windGust\":13.17,\"windBearing\":24,\"uvIndex\":0},\"hourly\":{\"data\":\n",
    "...\n",
    "{\"time\":1107414000,\"precipIntensity\":0,\"precipProbability\":0,\"temperature\":41.2,\"apparentTemperature\":41.2,\"dewPoint\":12.53,\"humidity\":0.31,\"windSpeed\":1.56,\"windGust\":12.79,\"windBearing\":100,\"uvIndex\":0}]},\"daily\":{\"data\":[{\"time\":1107331200,\"sunriseTime\":1107357120,\"sunsetTime\":1107393960,\"moonPhase\":0.78,\"precipIntensity\":0,\"precipIntensityMax\":0,\"precipProbability\":0,\"temperatureHigh\":57.95,\"temperatureHighTime\":1107384600,\"temperatureLow\":38.42,\"temperatureLowTime\":1107439200,\"apparentTemperatureHigh\":57.45,\"apparentTemperatureHighTime\":1107384600,\"apparentTemperatureLow\":38.91,\"apparentTemperatureLowTime\":1107439200,\"dewPoint\":14.85,\"humidity\":0.31,\"windSpeed\":3.33,\"windGust\":14.83,\"windGustTime\":1107390840,\"windBearing\":76,\"uvIndex\":0,\"uvIndexTime\":1107331200,\"temperatureMin\":35.03,\"temperatureMinTime\":1107359100,\"temperatureMax\":57.95,\"temperatureMaxTime\":1107384600,\"apparentTemperatureMin\":34.3,\"apparentTemperatureMinTime\":1107338640,\"apparentTemperatureMax\":57.45,\"apparentTemperatureMaxTime\":1107384600}]},\"flags\":{\"sources\":[\"cmc\",\"gfs\",\"hrrr\",\"icon\",\"isd\",\"madis\",\"nam\",\"sref\"],\"nearest-station\":3.312,\"units\":\"us\"},\"offset\":-8}"
   ]
  },
  {
   "cell_type": "markdown",
   "metadata": {
    "collapsed": "false",
    "toc-hr-collapsed": false
   },
   "source": [
    "## Dark Sky locality"
   ]
  },
  {
   "cell_type": "code",
   "execution_count": 2,
   "metadata": {},
   "outputs": [],
   "source": [
    "# From Geo Sheet - Toy Data Bounding Box\n",
    "# keep in mind each pixel is roughly 500 m x 500 m\n",
    "bb_long = [-122, -119.912,-119.912,-122,-122 ]\n",
    "bb_lat = [36.8, 36.8, 35.06, 35.06,36.8]"
   ]
  },
  {
   "cell_type": "markdown",
   "metadata": {
    "collapsed": "false"
   },
   "source": [
    "Requests, to see how how 'hyperlocal' the darksky data really is."
   ]
  },
  {
   "cell_type": "code",
   "execution_count": 3,
   "metadata": {},
   "outputs": [],
   "source": [
    "# Create Pairs\n",
    "min_long = min(bb_long)\n",
    "max_long = max(bb_long)\n",
    "min_lat = min(bb_lat)\n",
    "max_lat = max(bb_lat)"
   ]
  },
  {
   "cell_type": "code",
   "execution_count": 4,
   "metadata": {},
   "outputs": [
    {
     "name": "stdout",
     "output_type": "stream",
     "text": [
      "[-122.    -121.768 -121.536 -121.304 -121.072 -120.84  -120.608 -120.376\n",
      " -120.144 -119.912] [35.06       35.25333333 35.44666667 35.64       35.83333333 36.02666667\n",
      " 36.22       36.41333333 36.60666667 36.8       ]\n",
      "distance between forecast pairings ~ 19.1 km, or 38.3 pixels\n"
     ]
    }
   ],
   "source": [
    "import numpy as np\n",
    "spaces = 10\n",
    "longs = np.linspace(min_long,max_long,spaces)\n",
    "lats = np.linspace(min_lat,max_lat,spaces)\n",
    "print(longs, lats)\n",
    "distance = (max_lat-min_lat)*110/spaces\n",
    "print(f\"distance between forecast pairings ~ {distance:.3} km, or {(distance/.5):.3} pixels\")"
   ]
  },
  {
   "cell_type": "code",
   "execution_count": 5,
   "metadata": {},
   "outputs": [
    {
     "name": "stdout",
     "output_type": "stream",
     "text": [
      "100\n",
      "(35.446666666666665, -120.84)\n"
     ]
    }
   ],
   "source": [
    "# Pairs\n",
    "pairs = [(lat,long) for lat in lats for long in longs]\n",
    "print(len(pairs))\n",
    "print(pairs[25])"
   ]
  },
  {
   "cell_type": "code",
   "execution_count": 6,
   "metadata": {},
   "outputs": [],
   "source": [
    "key = '5ffac5f056d341c6296cba58fa96e9ba'"
   ]
  },
  {
   "cell_type": "markdown",
   "metadata": {
    "collapsed": "false"
   },
   "source": [
    "The Forecast Data API supports HTTP compression. We heartily recommend using it, as it will make responses much smaller over the wire. To enable it, simply add an `Accept-Encoding: gzip` header to your request."
   ]
  },
  {
   "cell_type": "markdown",
   "metadata": {
    "heading_collapsed": true
   },
   "source": [
    "### Try one request"
   ]
  },
  {
   "cell_type": "code",
   "execution_count": 7,
   "metadata": {
    "hidden": true
   },
   "outputs": [
    {
     "name": "stdout",
     "output_type": "stream",
     "text": [
      "https://api.darksky.net/forecast/5ffac5f056d341c6296cba58fa96e9ba/35.446666666666665,-120.84,2016-12-16T12:00:00?exclude=[currently,minutely,hourly,alerts]&units=ca\n"
     ]
    }
   ],
   "source": [
    "import faster_than_requests as ftreq\n",
    "# items to exclude from call\n",
    "blocks = '[currently,minutely,hourly,alerts]'\n",
    "# Units for call\n",
    "units = 'ca'\n",
    "# Time\n",
    "time = '2005-02-02T12:00:00' # for noon, but hour doesn't matter as we're grabbing daily data only.\n",
    "# Dates (relevant to our fires): only use one for testing\n",
    "dates = ['2016-12-16']\n",
    "\n",
    "# create time string:\n",
    "date = dates[0]\n",
    "time = date+'T12:00:00'\n",
    "lat = str(pairs[25][0])\n",
    "long = str(pairs[25][1])\n",
    "\n",
    "query = ('https://api.darksky.net/forecast/'+key+'/'+ \n",
    "        lat+','+long+','+time+'?exclude=' \n",
    "        +blocks+'&units='+units)\n",
    "print(query)   \n",
    "#ftreq.set_headers(headers = [('Accept-Encoding','gzip')])"
   ]
  },
  {
   "cell_type": "code",
   "execution_count": 8,
   "metadata": {},
   "outputs": [
    {
     "name": "stdout",
     "output_type": "stream",
     "text": [
      "{'version': '1.1', 'headers': '{\"content-length\": [\"1209\"], \"vary\": [\"Accept-Encoding\"], \"content-type\": [\"application/json; charset=utf-8\"], \"x-authentication-time\": [\"70ms\"], \"date\": [\"Wed, 08 Apr 2020 19:07:28 GMT\"], \"strict-transport-security\": [\"max-age=31536000\"], \"x-forecast-api-calls\": [\"195466\"], \"expires\": [\"Thu, 09 Apr 2020 19:07:28 +0000\"], \"x-response-time\": [\"11.254ms\"], \"connection\": [\"keep-alive\"], \"cache-control\": [\"max-age=86400\"]}', 'status': '200 OK', 'content-type': 'application/json; charset=utf-8', 'content-length': '1209', 'body': '{\"latitude\":35.446666666666665,\"longitude\":-120.84,\"timezone\":\"America/Los_Angeles\",\"daily\":{\"data\":[{\"time\":1481875200,\"summary\":\"Light rain in the morning.\",\"icon\":\"rain\",\"sunriseTime\":1481900880,\"sunsetTime\":1481936040,\"moonPhase\":0.62,\"precipIntensity\":0.3388,\"precipIntensityMax\":2.5329,\"precipIntensityMaxTime\":1481875200,\"precipProbability\":0.68,\"precipType\":\"rain\",\"temperatureHigh\":12.73,\"temperatureHighTime\":1481918520,\"temperatureLow\":2.12,\"temperatureLowTime\":1481986680,\"apparentTemperatureHigh\":12.45,\"apparentTemperatureHighTime\":1481918520,\"apparentTemperatureLow\":0.95,\"apparentTemperatureLowTime\":1481986800,\"dewPoint\":6.25,\"humidity\":0.76,\"pressure\":1013.2,\"windSpeed\":11.52,\"windGust\":29.98,\"windGustTime\":1481875200,\"windBearing\":298,\"cloudCover\":0.62,\"uvIndex\":2,\"uvIndexTime\":1481918280,\"visibility\":15.079,\"temperatureMin\":3.96,\"temperatureMinTime\":1481958000,\"temperatureMax\":14.47,\"temperatureMaxTime\":1481875440,\"apparentTemperatureMin\":4.23,\"apparentTemperatureMinTime\":1481958000,\"apparentTemperatureMax\":14.19,\"apparentTemperatureMaxTime\":1481875440}]},\"flags\":{\"sources\":[\"cmc\",\"gfs\",\"hrrr\",\"icon\",\"isd\",\"madis\",\"nam\",\"sref\"],\"nearest-station\":2.545,\"units\":\"ca\"},\"offset\":-8}\\n'}\n",
      "CPU times: user 18.2 ms, sys: 841 µs, total: 19.1 ms\n",
      "Wall time: 835 ms\n"
     ]
    }
   ],
   "source": [
    "%%time\n",
    "d = ftreq.get(query)\n",
    "print(d)"
   ]
  },
  {
   "cell_type": "code",
   "execution_count": 13,
   "metadata": {},
   "outputs": [
    {
     "ename": "ProtocolError",
     "evalue": "Unexpected error encountered: Connection was closed before full request has been made",
     "output_type": "error",
     "traceback": [
      "\u001b[0;31m---------------------------------------------------------------------------\u001b[0m",
      "\u001b[0;31mProtocolError\u001b[0m                             Traceback (most recent call last)",
      "\u001b[0;32m<timed exec>\u001b[0m in \u001b[0;36m<module>\u001b[0;34m\u001b[0m\n",
      "\u001b[0;31mProtocolError\u001b[0m: Unexpected error encountered: Connection was closed before full request has been made"
     ]
    }
   ],
   "source": [
    "%%time\n",
    "dj=ftreq.get2json(query)\n",
    "print(dj)"
   ]
  },
  {
   "cell_type": "code",
   "execution_count": 12,
   "metadata": {},
   "outputs": [
    {
     "data": {
      "text/plain": [
       "'{\"version\": \"1.1\", \"headers\": \"{\\\\\"content-length\\\\\": [\\\\\"1209\\\\\"], \\\\\"vary\\\\\": [\\\\\"Accept-Encoding\\\\\"], \\\\\"content-type\\\\\": [\\\\\"application/json; charset=utf-8\\\\\"], \\\\\"x-authentication-time\\\\\": [\\\\\"70ms\\\\\"], \\\\\"date\\\\\": [\\\\\"Wed, 08 Apr 2020 19:07:28 GMT\\\\\"], \\\\\"strict-transport-security\\\\\": [\\\\\"max-age=31536000\\\\\"], \\\\\"x-forecast-api-calls\\\\\": [\\\\\"195466\\\\\"], \\\\\"expires\\\\\": [\\\\\"Thu, 09 Apr 2020 19:07:28 +0000\\\\\"], \\\\\"x-response-time\\\\\": [\\\\\"11.254ms\\\\\"], \\\\\"connection\\\\\": [\\\\\"keep-alive\\\\\"], \\\\\"cache-control\\\\\": [\\\\\"max-age=86400\\\\\"]}\", \"status\": \"200 OK\", \"content-type\": \"application/json; charset=utf-8\", \"content-length\": \"1209\", \"body\": \"{\\\\\"latitude\\\\\":35.446666666666665,\\\\\"longitude\\\\\":-120.84,\\\\\"timezone\\\\\":\\\\\"America/Los_Angeles\\\\\",\\\\\"daily\\\\\":{\\\\\"data\\\\\":[{\\\\\"time\\\\\":1481875200,\\\\\"summary\\\\\":\\\\\"Light rain in the morning.\\\\\",\\\\\"icon\\\\\":\\\\\"rain\\\\\",\\\\\"sunriseTime\\\\\":1481900880,\\\\\"sunsetTime\\\\\":1481936040,\\\\\"moonPhase\\\\\":0.62,\\\\\"precipIntensity\\\\\":0.3388,\\\\\"precipIntensityMax\\\\\":2.5329,\\\\\"precipIntensityMaxTime\\\\\":1481875200,\\\\\"precipProbability\\\\\":0.68,\\\\\"precipType\\\\\":\\\\\"rain\\\\\",\\\\\"temperatureHigh\\\\\":12.73,\\\\\"temperatureHighTime\\\\\":1481918520,\\\\\"temperatureLow\\\\\":2.12,\\\\\"temperatureLowTime\\\\\":1481986680,\\\\\"apparentTemperatureHigh\\\\\":12.45,\\\\\"apparentTemperatureHighTime\\\\\":1481918520,\\\\\"apparentTemperatureLow\\\\\":0.95,\\\\\"apparentTemperatureLowTime\\\\\":1481986800,\\\\\"dewPoint\\\\\":6.25,\\\\\"humidity\\\\\":0.76,\\\\\"pressure\\\\\":1013.2,\\\\\"windSpeed\\\\\":11.52,\\\\\"windGust\\\\\":29.98,\\\\\"windGustTime\\\\\":1481875200,\\\\\"windBearing\\\\\":298,\\\\\"cloudCover\\\\\":0.62,\\\\\"uvIndex\\\\\":2,\\\\\"uvIndexTime\\\\\":1481918280,\\\\\"visibility\\\\\":15.079,\\\\\"temperatureMin\\\\\":3.96,\\\\\"temperatureMinTime\\\\\":1481958000,\\\\\"temperatureMax\\\\\":14.47,\\\\\"temperatureMaxTime\\\\\":1481875440,\\\\\"apparentTemperatureMin\\\\\":4.23,\\\\\"apparentTemperatureMinTime\\\\\":1481958000,\\\\\"apparentTemperatureMax\\\\\":14.19,\\\\\"apparentTemperatureMaxTime\\\\\":1481875440}]},\\\\\"flags\\\\\":{\\\\\"sources\\\\\":[\\\\\"cmc\\\\\",\\\\\"gfs\\\\\",\\\\\"hrrr\\\\\",\\\\\"icon\\\\\",\\\\\"isd\\\\\",\\\\\"madis\\\\\",\\\\\"nam\\\\\",\\\\\"sref\\\\\"],\\\\\"nearest-station\\\\\":2.545,\\\\\"units\\\\\":\\\\\"ca\\\\\"},\\\\\"offset\\\\\":-8}\\\\n\"}'"
      ]
     },
     "execution_count": 12,
     "metadata": {},
     "output_type": "execute_result"
    }
   ],
   "source": [
    "import json\n",
    "weath = json.dumps(d)\n",
    "weath"
   ]
  },
  {
   "cell_type": "markdown",
   "metadata": {},
   "source": [
    "Try session "
   ]
  },
  {
   "cell_type": "code",
   "execution_count": 17,
   "metadata": {},
   "outputs": [],
   "source": [
    "import requests\n",
    "s = requests.Session()\n",
    "s.auth = ('user', 'pass')\n",
    "s.headers.update({'Accept-Encoding':'gzip'})\n",
    "\n",
    "# both 'x-test' and 'x-test2' are sent\n",
    "q =s.get(query)"
   ]
  },
  {
   "cell_type": "code",
   "execution_count": 18,
   "metadata": {},
   "outputs": [
    {
     "data": {
      "text/plain": [
       "[{'time': 1481875200,\n",
       "  'summary': 'Light rain in the morning.',\n",
       "  'icon': 'rain',\n",
       "  'sunriseTime': 1481900880,\n",
       "  'sunsetTime': 1481936040,\n",
       "  'moonPhase': 0.62,\n",
       "  'precipIntensity': 0.3388,\n",
       "  'precipIntensityMax': 2.5329,\n",
       "  'precipIntensityMaxTime': 1481875200,\n",
       "  'precipProbability': 0.68,\n",
       "  'precipType': 'rain',\n",
       "  'temperatureHigh': 12.73,\n",
       "  'temperatureHighTime': 1481918520,\n",
       "  'temperatureLow': 2.12,\n",
       "  'temperatureLowTime': 1481986680,\n",
       "  'apparentTemperatureHigh': 12.45,\n",
       "  'apparentTemperatureHighTime': 1481918520,\n",
       "  'apparentTemperatureLow': 0.95,\n",
       "  'apparentTemperatureLowTime': 1481986800,\n",
       "  'dewPoint': 6.25,\n",
       "  'humidity': 0.76,\n",
       "  'pressure': 1013.2,\n",
       "  'windSpeed': 11.52,\n",
       "  'windGust': 29.98,\n",
       "  'windGustTime': 1481875200,\n",
       "  'windBearing': 298,\n",
       "  'cloudCover': 0.62,\n",
       "  'uvIndex': 2,\n",
       "  'uvIndexTime': 1481918280,\n",
       "  'visibility': 15.079,\n",
       "  'temperatureMin': 3.96,\n",
       "  'temperatureMinTime': 1481958000,\n",
       "  'temperatureMax': 14.47,\n",
       "  'temperatureMaxTime': 1481875440,\n",
       "  'apparentTemperatureMin': 4.23,\n",
       "  'apparentTemperatureMinTime': 1481958000,\n",
       "  'apparentTemperatureMax': 14.19,\n",
       "  'apparentTemperatureMaxTime': 1481875440}]"
      ]
     },
     "execution_count": 18,
     "metadata": {},
     "output_type": "execute_result"
    }
   ],
   "source": [
    "q.json()['daily']['data']"
   ]
  },
  {
   "cell_type": "markdown",
   "metadata": {},
   "source": [
    "----"
   ]
  },
  {
   "cell_type": "code",
   "execution_count": null,
   "metadata": {
    "hidden": true
   },
   "outputs": [],
   "source": [
    "r.status_code"
   ]
  },
  {
   "cell_type": "code",
   "execution_count": null,
   "metadata": {
    "hidden": true
   },
   "outputs": [],
   "source": [
    "weather = r.json()\n",
    "weather['daily']['data']"
   ]
  },
  {
   "cell_type": "code",
   "execution_count": null,
   "metadata": {
    "hidden": true
   },
   "outputs": [],
   "source": [
    "# Parsed important elements:\n",
    "dailydata = weather['daily']['data'][0]\n",
    "rainint = dailydata['precipIntensityMax']\n",
    "raintot = dailydata['precipAccumulation']=0.0\n",
    "hitemp = dailydata['temperatureHigh']\n",
    "lotemp = dailydata['temperatureLow']\n",
    "humidity = dailydata['humidity']\n",
    "windspd = dailydata['windSpeed']\n",
    "winddir = dailydata['windBearing']\n",
    "clouds = dailydata['cloudCover']"
   ]
  },
  {
   "cell_type": "code",
   "execution_count": null,
   "metadata": {
    "hidden": true
   },
   "outputs": [],
   "source": [
    "point = [date,lat,long,rainint,raintot,hitemp,lotemp,humidity,windspd,winddir,clouds]"
   ]
  },
  {
   "cell_type": "code",
   "execution_count": null,
   "metadata": {
    "hidden": true
   },
   "outputs": [],
   "source": [
    "point"
   ]
  },
  {
   "cell_type": "code",
   "execution_count": null,
   "metadata": {
    "hidden": true
   },
   "outputs": [],
   "source": [
    "print(type(point))"
   ]
  },
  {
   "cell_type": "code",
   "execution_count": null,
   "metadata": {
    "hidden": true
   },
   "outputs": [],
   "source": [
    "pairs[0][0]"
   ]
  },
  {
   "cell_type": "markdown",
   "metadata": {
    "collapsed": "false"
   },
   "source": [
    "## Multiple Requests to determine degree of hyperlocality required"
   ]
  },
  {
   "cell_type": "markdown",
   "metadata": {
    "collapsed": "false",
    "heading_collapsed": true
   },
   "source": [
    "### Https requests functions"
   ]
  },
  {
   "cell_type": "code",
   "execution_count": null,
   "metadata": {
    "hidden": true
   },
   "outputs": [],
   "source": [
    "# NEWER VERSION BELOW\n",
    "# def getweather(coordinates,date,key):\n",
    "#     \"\"\" Function to take the set of coordinates and get the daily\n",
    "#     weather for a given date. rain, hi and low temps, humidity\n",
    "#     wind speed and direction and cloud cover only.\n",
    "    \n",
    "#     Input: Date, API Key and list of coordinate pairs (lat,long)\n",
    "#     Output: list of jsons\n",
    "#     \"\"\"\n",
    "#     # items to exclude from call\n",
    "#     blocks = '[currently,minutely,hourly,alerts]'\n",
    "\n",
    "#     # Units for call\n",
    "#     units = 'ca'\n",
    "    \n",
    "#     # Compression for call\n",
    "#     headers = {'Accept-Encoding':'gzip'}\n",
    "    \n",
    "#     time = date+'T12:00:00'\n",
    "    \n",
    "#     data_out = []\n",
    "#     for pair in coordinates:\n",
    "#         lat = str(pair[0])\n",
    "#         long = str(pair[1])\n",
    "#         # set the query string for darksky\n",
    "#         query = ('https://api.darksky.net/forecast/'+key+'/'+ \n",
    "#             lat+','+long+','+time+'?exclude=' \n",
    "#             +blocks+'&units='+units)\n",
    "#         # Make the call to Dark Sky to get all the data for that date and location\n",
    "#         r=requests.get(query,headers=headers)\n",
    "        \n",
    "#         # get the weather data from the request return\n",
    "#         weather=r.json()\n",
    "        \n",
    "#         # write the jsons as items in the output data list\n",
    "#         data_out.append(weather)\n",
    "    \n",
    "#     return data_out"
   ]
  },
  {
   "cell_type": "code",
   "execution_count": null,
   "metadata": {
    "hidden": true
   },
   "outputs": [],
   "source": [
    "%%time\n",
    "# Dates (relevant to our fires): only use one for testing\n",
    "dates = ['2016-07-21']\n",
    "# create time string:\n",
    "date = dates[0]\n",
    "\n",
    "data_for_date = getweather(pairs,date,key)"
   ]
  },
  {
   "cell_type": "code",
   "execution_count": null,
   "metadata": {
    "hidden": true
   },
   "outputs": [],
   "source": [
    "%%time\n",
    "# Pickle results out so that i don't have to make another api call later\n",
    "with open('../data/GlobalFire2016/weathertest.pickle','wb') as f:\n",
    "    pickle.dump(data_for_date,f,pickle.HIGHEST_PROTOCOL)"
   ]
  },
  {
   "cell_type": "code",
   "execution_count": null,
   "metadata": {
    "hidden": true
   },
   "outputs": [],
   "source": [
    "def check_point(info,rain=False):\n",
    "    \"\"\" to check if there is a value for that weather element and provide \n",
    "    either None or the value back\n",
    "    \"\"\"\n",
    "    if info:\n",
    "        return info\n",
    "    elif (not info and rain):\n",
    "        return 0.0        \n",
    "    else:\n",
    "        return None"
   ]
  },
  {
   "cell_type": "code",
   "execution_count": null,
   "metadata": {
    "hidden": true
   },
   "outputs": [],
   "source": [
    "def date_df(data_out):\n",
    "    \"\"\" Function to take the list of jsons from a date\n",
    "    of daily weather requests and create a pandas dataframe\n",
    "    \n",
    "    Input: list of jsons containing the weather data\n",
    "    Output: pandas dataframe\n",
    "    \"\"\"\n",
    "    data_convert=[]\n",
    "    # Titles for the data\n",
    "    coltitles = ['date','latitude','longitude','rainint','raintot','High T','Low T','Humidity','Wind Speed','Wind Direction','Cloud Cover']\n",
    "    data_convert.append(coltitles)\n",
    "    # Loope through all the geopoints to get the data\n",
    "    for point in data_out:\n",
    "        lat = point['latitude']\n",
    "        long = point['longitude']\n",
    "        daily = point.get('daily')\n",
    "        if daily:\n",
    "            data = daily['data'][0]\n",
    "            time = datetime.fromtimestamp(data['time']).strftime('%Y-%m-%d')\n",
    "            rainint = data.get('precipIntensityMax')\n",
    "            raintot = data.get('precipAccumulation')\n",
    "            hitemp = data.get('temperatureHigh')\n",
    "            lotemp = data.get('temperatureLow')\n",
    "            humidity = data.get('humidity')\n",
    "            windspd = data.get('windSpeed')\n",
    "            winddir = data.get('windBearing')\n",
    "            clouds = data.get('cloudCover')\n",
    "            point = [date,lat,long,check_point(rainint,1),check_point(raintot,1), \\\n",
    "                     check_point(hitemp,0),check_point(lotemp,0), \\\n",
    "                     check_point(humidity,0),check_point(windspd,0), \\\n",
    "                     check_point(winddir,0), check_point(clouds,0)] \n",
    "            data_convert.append(point)\n",
    "        else:\n",
    "            point = None\n",
    "            \n",
    "    df = pd.DataFrame(data_convert[1:], columns = data_convert[0])\n",
    "    \n",
    "    return df\n"
   ]
  },
  {
   "cell_type": "code",
   "execution_count": null,
   "metadata": {
    "hidden": true
   },
   "outputs": [],
   "source": [
    "with open('../data/GlobalFire2016/weathertest.pickle','rb') as f:\n",
    "    data_for_date = pickle.load(f)\n",
    "    \n",
    "    # Dates (relevant to our fires): only use one for testing\n",
    "dates = ['2016-07-21']\n",
    "# create time string:\n",
    "date = dates[0]\n",
    "df2 = date_df(data_for_date)"
   ]
  },
  {
   "cell_type": "code",
   "execution_count": null,
   "metadata": {},
   "outputs": [],
   "source": [
    "df2"
   ]
  },
  {
   "cell_type": "markdown",
   "metadata": {
    "collapsed": "false"
   },
   "source": [
    "If matrix is missing some rows then add them back in with NaN"
   ]
  },
  {
   "cell_type": "code",
   "execution_count": null,
   "metadata": {},
   "outputs": [],
   "source": [
    "df3 = copy.deepcopy(df2)\n",
    "df3['xx'] = list(zip(df3['latitude'],df3['longitude']))\n",
    "df3"
   ]
  },
  {
   "cell_type": "code",
   "execution_count": null,
   "metadata": {},
   "outputs": [],
   "source": [
    "missing = pd.DataFrame({'xx':list(set(df3['xx']) ^ set(pairs))})\n",
    "missing[['latitude','longitude']]=pd.DataFrame(missing['xx'].tolist(),index=missing.index)\n",
    "missing"
   ]
  },
  {
   "cell_type": "code",
   "execution_count": null,
   "metadata": {},
   "outputs": [],
   "source": [
    "df4 = df3.append(missing, ignore_index=True, sort=True)\n",
    "df4.shape"
   ]
  },
  {
   "cell_type": "markdown",
   "metadata": {
    "collapsed": "true"
   },
   "source": [
    "### Look at uniqueness"
   ]
  },
  {
   "cell_type": "code",
   "execution_count": null,
   "metadata": {
    "Collapsed": "false"
   },
   "outputs": [],
   "source": [
    "stats = df2.describe()"
   ]
  },
  {
   "cell_type": "code",
   "execution_count": null,
   "metadata": {
    "Collapsed": "false"
   },
   "outputs": [],
   "source": [
    "cols = stats.columns"
   ]
  },
  {
   "cell_type": "code",
   "execution_count": null,
   "metadata": {
    "Collapsed": "false"
   },
   "outputs": [],
   "source": [
    "uniques = []\n",
    "for col in cols:\n",
    "    uniq = len(df2[col].value_counts())\n",
    "    uniques.append(uniq)\n",
    "uniques = pd.DataFrame([uniques],columns=cols)"
   ]
  },
  {
   "cell_type": "code",
   "execution_count": null,
   "metadata": {
    "Collapsed": "false"
   },
   "outputs": [],
   "source": [
    "uniques.rename(index={0:'Uniques'},inplace = True)"
   ]
  },
  {
   "cell_type": "code",
   "execution_count": null,
   "metadata": {
    "Collapsed": "false"
   },
   "outputs": [],
   "source": [
    "newstats = stats.append(uniques)\n",
    "newstats"
   ]
  },
  {
   "cell_type": "markdown",
   "metadata": {},
   "source": [
    "# Turn data into 2D numpy arrays"
   ]
  },
  {
   "cell_type": "markdown",
   "metadata": {
    "collapsed": "false"
   },
   "source": [
    "The above says that the data is fairly hyperlocal. Try doing heat maps?\n",
    "To do heatmaps, have to turn this into a numpy array which i have to do anyway"
   ]
  },
  {
   "cell_type": "markdown",
   "metadata": {
    "collapsed": "true"
   },
   "source": [
    "## Create the numpy arrays"
   ]
  },
  {
   "cell_type": "markdown",
   "metadata": {
    "collapsed": "false"
   },
   "source": [
    "### Sample for 1 array (High Temp) For Reference"
   ]
  },
  {
   "cell_type": "code",
   "execution_count": null,
   "metadata": {
    "Collapsed": "false"
   },
   "outputs": [],
   "source": [
    "# Create numpy array for High Temperature\n",
    "# create a list of all the values by increasing longitude for each latitude, so we can vstack into array\n",
    "\n",
    "# # Subset the dataframe\n",
    "# sub = df2[['latitude','longitude','High T']]\n",
    "\n",
    "# # All values of longitude, to ensure square matrix\n",
    "# long_df = pd.DataFrame(longs,columns=['longitude'])\n",
    "\n",
    "# hiT = []\n",
    "\n",
    "# # reverse the latitudes so we start with largest first\n",
    "# lats2 = list(copy.deepcopy(lats))\n",
    "# lats2.reverse()\n",
    "\n",
    "# # loop through each latitude\n",
    "# for lat in lats2:\n",
    "#     # get the row values for each latitude, sort by longitude\n",
    "#     row = sub[sub['latitude']==lat].sort_values(by=['longitude'])\n",
    "    \n",
    "#     # add in missing longitude if necessary\n",
    "#     row2 = long_df.merge(row,how='left')\n",
    "    \n",
    "#     # Fill any missing values of latitude if needed\n",
    "#     row2['latitude'].fillna(lat,inplace=True)\n",
    "    \n",
    "#     # pull out just the High T\n",
    "#     row3 = row2['High T']\n",
    "    \n",
    "#     # reshape array\n",
    "#     row3 = np.array(row3)[np.newaxis] \n",
    "    \n",
    "#     hiT.append(row3)\n",
    "\n",
    "# x = np.vstack(hiT)\n",
    "# For Reference\n",
    "# hhh = HighTempArray\n",
    "# hhh\n"
   ]
  },
  {
   "cell_type": "markdown",
   "metadata": {
    "collapsed": "false"
   },
   "source": [
    "### Looping to generate all weather for given day"
   ]
  },
  {
   "cell_type": "code",
   "execution_count": null,
   "metadata": {
    "Collapsed": "false"
   },
   "outputs": [],
   "source": [
    "weather = ['rainint','raintot','High T','Low T','Humidity','Wind Speed','Wind Direction','Cloud Cover']"
   ]
  },
  {
   "cell_type": "code",
   "execution_count": null,
   "metadata": {
    "Collapsed": "false"
   },
   "outputs": [],
   "source": [
    "weath_sort = df4.to_records(index=False)\n",
    "weath_sort.sort(order=('latitude','longitude'))"
   ]
  },
  {
   "cell_type": "code",
   "execution_count": null,
   "metadata": {
    "Collapsed": "false"
   },
   "outputs": [],
   "source": [
    "weather_date = {}\n",
    "for var in weather:\n",
    "    x = weath_sort[var].reshape(10,10)\n",
    "    xx = np.flip(x,0)\n",
    "    weather_date.update({var:xx})"
   ]
  },
  {
   "cell_type": "code",
   "execution_count": null,
   "metadata": {
    "Collapsed": "false"
   },
   "outputs": [],
   "source": [
    "weather_date"
   ]
  },
  {
   "cell_type": "code",
   "execution_count": null,
   "metadata": {
    "Collapsed": "false"
   },
   "outputs": [],
   "source": [
    "# REFERENCE PLOT\n",
    "# ax = sns.heatmap(HighTempArray)  # Plotting HighTempArray but replaced -9999 with nan for plot\n",
    "\n",
    "# # Fix the cutoff heatmap issue\n",
    "# b, t = plt.ylim() # discover the values for bottom and top\n",
    "# b += 0.5 # Add 0.5 to the bottom\n",
    "# t -= 0.5 # Subtract 0.5 from the top\n",
    "# plt.ylim(b, t) # update the ylim(bottom, top) values\n",
    "\n",
    "# plt.show()"
   ]
  },
  {
   "cell_type": "code",
   "execution_count": null,
   "metadata": {
    "Collapsed": "false"
   },
   "outputs": [],
   "source": [
    "type(weather_date)"
   ]
  },
  {
   "cell_type": "code",
   "execution_count": null,
   "metadata": {
    "Collapsed": "false"
   },
   "outputs": [],
   "source": [
    "fig = plt.figure(figsize = (20,8))\n",
    "fig.subplots_adjust(hspace=0.4,wspace=0.4)\n",
    "i=1\n",
    "for key,data in weather_date.items():\n",
    "    ax = fig.add_subplot(2,4,i)\n",
    "    sns.heatmap(data)\n",
    "    ax.set_title(key)\n",
    "    i+=1\n",
    "plt.show()"
   ]
  },
  {
   "cell_type": "markdown",
   "metadata": {
    "collapsed": "true"
   },
   "source": [
    "## Create a GEOTIFF on the Lat/Long data\n",
    "\n",
    "must create geotiff first, then change crs, then upsample"
   ]
  },
  {
   "cell_type": "code",
   "execution_count": null,
   "metadata": {
    "Collapsed": "false"
   },
   "outputs": [],
   "source": [
    "lats"
   ]
  },
  {
   "cell_type": "markdown",
   "metadata": {
    "Collapsed": "false"
   },
   "source": [
    "Sketches with transforms\n",
    "![DestinationTransform](DestinationTransform.jpg)\n",
    "![SourceTransform](SourceTransform.jpg)"
   ]
  },
  {
   "cell_type": "code",
   "execution_count": null,
   "metadata": {
    "Collapsed": "false"
   },
   "outputs": [],
   "source": [
    "# from https://rasterio.readthedocs.io/en/latest/quickstart.html#creating-data\n",
    "# See my imported sketches with the correct transforms\n",
    "\n",
    "#  Resolution\n",
    "xres = (longs[-1] - longs[0]) / 9\n",
    "yres = (lats[0] - lats[-1]) /9\n",
    "\n",
    "# affine transform - assumes each lat/long point is in the center of the pixel it represents\n",
    "src_transform = Affine.translation(longs[0] - xres / 2, lats[-1] - yres / 2) * Affine.scale(xres, yres)\n",
    "src_transform"
   ]
  },
  {
   "cell_type": "code",
   "execution_count": null,
   "metadata": {
    "Collapsed": "false"
   },
   "outputs": [],
   "source": [
    "new_meta = {'driver':'GTiff','height':10, \\\n",
    "           'width':10,'count':1, \\\n",
    "           'dtype':'float64', 'crs':'+proj=latlong', \\\n",
    "           'transform':src_transform, 'nodata':-9999, \\\n",
    "           'compress':'lzw','interleave':'band'}"
   ]
  },
  {
   "cell_type": "code",
   "execution_count": null,
   "metadata": {
    "Collapsed": "false"
   },
   "outputs": [],
   "source": [
    "# Write the high temp data - change nan to -9999 first\n",
    "np.nan_to_num(HighTempArray,copy=False,nan=-9999)\n",
    "with rio.open('../data/GlobalFire2016/hitemp.tif','w', **new_meta) as new:\n",
    "    new.write(HighTempArray,1)"
   ]
  },
  {
   "cell_type": "code",
   "execution_count": null,
   "metadata": {
    "Collapsed": "false"
   },
   "outputs": [],
   "source": [
    "# re-open to see if it did the right thing\n",
    "with rio.open('../data/GlobalFire2016/hitemp.tif','r') as ht:\n",
    "    htmeta = ht.meta\n",
    "    ht_data = ht.read()"
   ]
  },
  {
   "cell_type": "code",
   "execution_count": null,
   "metadata": {
    "Collapsed": "false"
   },
   "outputs": [],
   "source": [
    "htmeta"
   ]
  },
  {
   "cell_type": "code",
   "execution_count": null,
   "metadata": {
    "Collapsed": "false"
   },
   "outputs": [],
   "source": [
    "ht_data[ht_data == -9999.]='NaN'\n",
    "ht_data"
   ]
  },
  {
   "cell_type": "markdown",
   "metadata": {
    "collapsed": "true"
   },
   "source": [
    "## Reproject and upsample weather data to fire crs"
   ]
  },
  {
   "cell_type": "code",
   "execution_count": null,
   "metadata": {
    "Collapsed": "false"
   },
   "outputs": [],
   "source": [
    "# Use the firedata raster as the reference meta data and transform\n",
    "with rio.open('../data/GlobalFire2016/Global_fire_atlas_firelinecrop.tif','r') as ref:\n",
    "    refdata = ref.read(1)\n",
    "    refmeta = ref.meta\n",
    "    refres = ref.res"
   ]
  },
  {
   "cell_type": "code",
   "execution_count": null,
   "metadata": {
    "Collapsed": "false"
   },
   "outputs": [],
   "source": [
    "dst_transform = refmeta['transform']"
   ]
  },
  {
   "cell_type": "code",
   "execution_count": null,
   "metadata": {
    "Collapsed": "false"
   },
   "outputs": [],
   "source": [
    "dst_transform"
   ]
  },
  {
   "cell_type": "code",
   "execution_count": null,
   "metadata": {
    "Collapsed": "false"
   },
   "outputs": [],
   "source": [
    "src_crs = htmeta['crs']\n",
    "dst_crs = refmeta['crs']"
   ]
  },
  {
   "cell_type": "code",
   "execution_count": null,
   "metadata": {
    "Collapsed": "false"
   },
   "outputs": [],
   "source": [
    "print('source crs = ',src_crs,'\\ndestination crs =',dst_crs)"
   ]
  },
  {
   "cell_type": "markdown",
   "metadata": {
    "collapsed": "false"
   },
   "source": [
    "### Reproject the Array"
   ]
  },
  {
   "cell_type": "code",
   "execution_count": null,
   "metadata": {
    "Collapsed": "false"
   },
   "outputs": [],
   "source": [
    "print(lats,longs)\n",
    "print(refmeta)\n",
    "print(refdata.shape)"
   ]
  },
  {
   "cell_type": "code",
   "execution_count": null,
   "metadata": {
    "Collapsed": "false"
   },
   "outputs": [],
   "source": [
    "# Change the dtype for the tempdata - fireline used integer data and we want float\n",
    "refmeta['dtype'] = 'float64'\n",
    "refmeta\n"
   ]
  },
  {
   "cell_type": "code",
   "execution_count": null,
   "metadata": {
    "Collapsed": "false"
   },
   "outputs": [],
   "source": [
    "dst_shape = refdata.shape\n",
    "dst_shape"
   ]
  },
  {
   "cell_type": "code",
   "execution_count": null,
   "metadata": {
    "Collapsed": "false"
   },
   "outputs": [],
   "source": [
    "destination = np.full(dst_shape, -9999.0)"
   ]
  },
  {
   "cell_type": "code",
   "execution_count": null,
   "metadata": {
    "Collapsed": "false"
   },
   "outputs": [],
   "source": [
    "ht_data"
   ]
  },
  {
   "cell_type": "code",
   "execution_count": null,
   "metadata": {
    "Collapsed": "false"
   },
   "outputs": [],
   "source": [
    "destination"
   ]
  },
  {
   "cell_type": "code",
   "execution_count": null,
   "metadata": {
    "Collapsed": "false"
   },
   "outputs": [],
   "source": [
    "src_transform"
   ]
  },
  {
   "cell_type": "code",
   "execution_count": null,
   "metadata": {
    "Collapsed": "false"
   },
   "outputs": [],
   "source": [
    "src_crs"
   ]
  },
  {
   "cell_type": "code",
   "execution_count": null,
   "metadata": {
    "Collapsed": "false"
   },
   "outputs": [],
   "source": [
    "dst_transform"
   ]
  },
  {
   "cell_type": "code",
   "execution_count": null,
   "metadata": {
    "Collapsed": "false"
   },
   "outputs": [],
   "source": [
    "dst_crs"
   ]
  },
  {
   "cell_type": "code",
   "execution_count": null,
   "metadata": {
    "Collapsed": "false"
   },
   "outputs": [],
   "source": [
    "reproject(\n",
    "    ht_data,\n",
    "    destination,\n",
    "    src_transform=src_transform,\n",
    "    src_crs=src_crs,\n",
    "    dst_transform=dst_transform,\n",
    "    dst_crs=dst_crs,\n",
    "    resampling=Resampling.bilinear)"
   ]
  },
  {
   "cell_type": "code",
   "execution_count": null,
   "metadata": {
    "Collapsed": "false"
   },
   "outputs": [],
   "source": [
    "ht_data"
   ]
  },
  {
   "cell_type": "markdown",
   "metadata": {
    "collapsed": "false"
   },
   "source": [
    "### Check that raster data was projected and written correctly"
   ]
  },
  {
   "cell_type": "code",
   "execution_count": null,
   "metadata": {
    "Collapsed": "false"
   },
   "outputs": [],
   "source": [
    "# Plot to test\n",
    "ax = sns.heatmap(destination)"
   ]
  },
  {
   "cell_type": "markdown",
   "metadata": {
    "collapsed": "false"
   },
   "source": [
    "## Putting it all together: Functions to get weather, create each day's weather from DarkSky json and to upsample each array then store the dictionary of arrays out"
   ]
  },
  {
   "cell_type": "markdown",
   "metadata": {
    "collapsed": "true"
   },
   "source": [
    "### Get Weather Data Functions and call"
   ]
  },
  {
   "cell_type": "code",
   "execution_count": null,
   "metadata": {
    "Collapsed": "false"
   },
   "outputs": [],
   "source": [
    "# Function to get dates of fire in pertinent area from raster file.\n",
    "def get_fire_dates(yr,path,filename):\n",
    "    \"\"\"Get all the dates for a given year that there was fire\n",
    "    in the raster being studied\n",
    "    \"\"\"\n",
    "    \n",
    "    f = path+filename\n",
    "    # Use the firedata raster to find the day of year \n",
    "    with rio.open(f,'r') as rast:\n",
    "        rastdata = rast.read(1)\n",
    "    \n",
    "    # Get unique days of the year there was a pixel on a fireline, as well as counts\n",
    "    uniq = np.unique(rastdata, return_counts=True)\n",
    "    days = uniq[0]\n",
    "    counts = uniq[1]\n",
    "    \n",
    "    # Error check that counts are greater than 0\n",
    "    if np.count_nonzero(counts) > 0:\n",
    "        days = days[days > 0]  # remove the -9999 no data values\n",
    "\n",
    "    # Create list of dates for DOY on fireline, date format = ['2016-12-16']\n",
    "    # time = date+'T12:00:00'\n",
    "    fire_dates = []\n",
    "    for day in days:\n",
    "        s = yr + '-'+ str(day)\n",
    "        d = datetime.strptime(s,'%Y-%j')\n",
    "        s2 = str(d.strftime(\"%Y-%m-%d\")) + 'T12:00:00'\n",
    "        fire_dates.append(s2)\n",
    "    \n",
    "    return fire_dates"
   ]
  },
  {
   "cell_type": "code",
   "execution_count": null,
   "metadata": {
    "Collapsed": "false"
   },
   "outputs": [],
   "source": [
    "def fire_weather(pairs,fire_dates,key):\n",
    "    \"\"\"Function to loop through all pairs of lat/long and get the daily weather\n",
    "    for each point from DarkSky\n",
    "    Input: list of pairs of lat/long, list of dates, API Key\n",
    "    Output: Dictionary of list of daily weather jsons\n",
    "    \"\"\"\n",
    "    \n",
    "    yr_weath = {}\n",
    "    for date in fire_dates:\n",
    "        # Call function to get weather for specified date\n",
    "        data_for_date = getweather(pairs,date,key)\n",
    "        yr_weath.update({date:data_for_date})\n",
    "        \n",
    "    return yr_weath"
   ]
  },
  {
   "cell_type": "code",
   "execution_count": null,
   "metadata": {
    "Collapsed": "false"
   },
   "outputs": [],
   "source": [
    "def getweather(coordinates,date,key):\n",
    "    \"\"\" Function to take the set of coordinates and get the daily\n",
    "    weather for a given date. rain, hi and low temps, humidity\n",
    "    wind speed and direction and cloud cover only.\n",
    "    \n",
    "    Input: Date, API Key and list of coordinate pairs (lat,long)\n",
    "    Output: list of jsons\n",
    "    \"\"\"\n",
    "    # items to exclude from call\n",
    "    blocks = '[currently,minutely,hourly,alerts]'\n",
    "\n",
    "    # Units for call (km/h, deg C, kPa, mm precip)\n",
    "    units = 'ca'\n",
    "    \n",
    "    # Compression for call\n",
    "    headers = {'Accept-Encoding':'gzip'}\n",
    "    \n",
    "    data_out = []\n",
    "    for pair in coordinates:\n",
    "        lat = str(pair[0])\n",
    "        long = str(pair[1])\n",
    "        # set the query string for darksky\n",
    "        query = ('https://api.darksky.net/forecast/'+key+'/'+ \n",
    "            lat+','+long+','+date+'?exclude=' \n",
    "            +blocks+'&units='+units)\n",
    "        # Make the call to Dark Sky to get all the data for that date and location\n",
    "        try:\n",
    "            r=requests.get(query,headers=headers)\n",
    "        except requests.exceptions.RequestException as e:\n",
    "            print(e)\n",
    "            sys.exit(1)\n",
    "        \n",
    "        # get the weather data from the request return\n",
    "        weather=r.json()\n",
    "        \n",
    "        # write the jsons as items in the output data list\n",
    "        data_out.append(weather)\n",
    "    \n",
    "    return data_out"
   ]
  },
  {
   "cell_type": "code",
   "execution_count": null,
   "metadata": {
    "Collapsed": "false"
   },
   "outputs": [],
   "source": [
    "# Non url request related setup\n",
    "path = '../toydata/'\n",
    "filename = 'Global_fire_atlas_firelinecrop.tif'\n",
    "fire_dates = get_fire_dates('2016',path,filename)"
   ]
  },
  {
   "cell_type": "code",
   "execution_count": null,
   "metadata": {
    "Collapsed": "false"
   },
   "outputs": [],
   "source": [
    "def setup():\n",
    "    \"\"\" one time function to set limits of bounding box for weather\n",
    "    in lat / long\n",
    "    Input: None (hard coded)\n",
    "    Output: pairs of lat/long, lats and longs    \n",
    "    \"\"\"\n",
    "    # Polygon of bounding box in lat/long \n",
    "    bb_long = [-122, -119.912,-119.912,-122,-122 ]\n",
    "    bb_lat = [36.8, 36.8, 35.06, 35.06,36.8]\n",
    "\n",
    "    # Create grid of lat/long pairs for retrieving weather data\n",
    "    min_long = min(bb_long)\n",
    "    max_long = max(bb_long)\n",
    "    min_lat = min(bb_lat)\n",
    "    max_lat = max(bb_lat)\n",
    "\n",
    "    # 10 x 10 grid\n",
    "    spaces = 10\n",
    "    longs = np.linspace(min_long,max_long,spaces)\n",
    "    lats = np.linspace(min_lat,max_lat,spaces)\n",
    "    pairs = [(lat,long) for lat in lats for long in longs]\n",
    "    \n",
    "    # Reference file for raster\n",
    "    path = '../toydata/'\n",
    "    filename = 'Global_fire_atlas_firelinecrop.tif'\n",
    "    \n",
    "    return (pairs,lats,longs,path,filename)"
   ]
  },
  {
   "cell_type": "code",
   "execution_count": null,
   "metadata": {
    "Collapsed": "false"
   },
   "outputs": [],
   "source": [
    "pairs,lats,longs,path,filename = setup()\n",
    "fire_dates = get_fire_dates('2016',path,filename)"
   ]
  },
  {
   "cell_type": "code",
   "execution_count": null,
   "metadata": {
    "Collapsed": "false"
   },
   "outputs": [],
   "source": [
    "%%time\n",
    "# Dark Sky API key (Laura Chutny)\n",
    "key = '5ffac5f056d341c6296cba58fa96e9ba'\n",
    "\n",
    "# trial\n",
    "# sdates = fire_dates[0:2]\n",
    "\n",
    "yr_weather = fire_weather(pairs,fire_dates,key)  # Dictionary of jsons"
   ]
  },
  {
   "cell_type": "code",
   "execution_count": null,
   "metadata": {
    "Collapsed": "false"
   },
   "outputs": [],
   "source": [
    "# Pickle out the jsons to avoid another call:\n",
    "with open('../data/GlobalFire2016/weatherjsons.pickle','wb') as f:\n",
    "    pickle.dump(yr_weather,f,pickle.HIGHEST_PROTOCOL)"
   ]
  },
  {
   "cell_type": "code",
   "execution_count": null,
   "metadata": {
    "Collapsed": "false"
   },
   "outputs": [],
   "source": [
    "with open('../data/GlobalFire2016/weatherjsons.pickle','rb') as f:\n",
    "    yr_weather = pickle.load(f)   "
   ]
  },
  {
   "cell_type": "code",
   "execution_count": null,
   "metadata": {
    "Collapsed": "false"
   },
   "outputs": [],
   "source": [
    "yr_weather.keys()"
   ]
  },
  {
   "cell_type": "markdown",
   "metadata": {
    "collapsed": "false"
   },
   "source": [
    "### Change jsons to dataframes and then rasters and reproject before pickling out"
   ]
  },
  {
   "cell_type": "code",
   "execution_count": null,
   "metadata": {
    "hidden": true,
    "jupyter": {
     "source_hidden": true
    }
   },
   "outputs": [],
   "source": [
    "def check_point(info,rain=False):\n",
    "    \"\"\" to check if there is a value for that weather element and provide \n",
    "    either None or the value back\n",
    "    \"\"\"\n",
    "    if info:\n",
    "        return info\n",
    "    elif (not info and rain):\n",
    "        return 0.0        \n",
    "    else:\n",
    "        return None"
   ]
  },
  {
   "cell_type": "code",
   "execution_count": null,
   "metadata": {
    "hidden": true,
    "jupyter": {
     "source_hidden": true
    }
   },
   "outputs": [],
   "source": [
    "def date_df(data_out):\n",
    "    \"\"\" Function to take the list of jsons for each lat/long from one date\n",
    "    of daily weather request and create a pandas dataframe\n",
    "    \n",
    "    Input: list of jsons containing the weather data for one day\n",
    "    Output: pandas dataframe\n",
    "    \"\"\"\n",
    "    data_convert=[]\n",
    "    # Titles for the data\n",
    "    coltitles = ['date','latitude','longitude','rainint','raintot','High T','Low T','Humidity','Wind Speed','Wind Direction','Cloud Cover']\n",
    "    data_convert.append(coltitles)\n",
    "    # Loope through all the geopoints to get the data\n",
    "    for point in data_out:\n",
    "        lat = point['latitude']\n",
    "        long = point['longitude']\n",
    "        daily = point.get('daily')\n",
    "        if daily:\n",
    "            data = daily['data'][0]\n",
    "            date = datetime.fromtimestamp(data['time']).strftime('%Y-%m-%d')\n",
    "            rainint = data.get('precipIntensityMax')\n",
    "            raintot = data.get('precipAccumulation')\n",
    "            hitemp = data.get('temperatureHigh')\n",
    "            lotemp = data.get('temperatureLow')\n",
    "            humidity = data.get('humidity')\n",
    "            windspd = data.get('windSpeed')\n",
    "            winddir = data.get('windBearing')\n",
    "            clouds = data.get('cloudCover')\n",
    "            point = [date,lat,long,check_point(rainint,1),check_point(raintot,1), \\\n",
    "                     check_point(hitemp,0),check_point(lotemp,0), \\\n",
    "                     check_point(humidity,0),check_point(windspd,0), \\\n",
    "                     check_point(winddir,0), check_point(clouds,0)] \n",
    "            data_convert.append(point)\n",
    "            \n",
    "        else:\n",
    "            point = None\n",
    "            \n",
    "    df = pd.DataFrame(data_convert[1:], columns = data_convert[0])\n",
    "    \n",
    "    return df"
   ]
  },
  {
   "cell_type": "code",
   "execution_count": null,
   "metadata": {
    "jupyter": {
     "source_hidden": true
    }
   },
   "outputs": [],
   "source": [
    "def jsons_to_arrays(date_jsons,pairs):\n",
    "    \"\"\" Take list of jsons for weather for area being studied (100 jsons)\n",
    "    for 1 day and turn them into a dictionary of numpy arrays\n",
    "    \n",
    "    Input: list of jsons - 1 per lat/long point and pairs of lat/long\n",
    "    Output: dictionary of numpy arrays - 1 for each weather type for given date\n",
    "    \"\"\"\n",
    "    \n",
    "    # Input jsons to pandas dataframe:\n",
    "    df = date_df(date_jsons)\n",
    "          \n",
    "    # Add Missing Rows to dataframe:\n",
    "    # First get a paired list to determine if any rows are missing\n",
    "    df['xx'] = list(zip(df['latitude'],df['longitude']))\n",
    "    missing = pd.DataFrame({'xx':list(set(df['xx']) ^ set(pairs))})\n",
    "    if not missing.empty:\n",
    "        missing[['latitude','longitude']]=pd.DataFrame(missing['xx'].tolist(),index=missing.index)\n",
    "        df = df.append(missing, ignore_index=True, sort=True)\n",
    "    \n",
    "    # Sort DataFrame to allow creation of rows in array.\n",
    "    weather = ['rainint','raintot','High T','Low T','Humidity','Wind Speed','Wind Direction','Cloud Cover']\n",
    "    weath_sort = df.to_records(index=False)\n",
    "    weath_sort.sort(order=('latitude','longitude'))\n",
    "\n",
    "    # Create Dictionary of Numpy Arrays\n",
    "    weather_date = {}\n",
    "    for var in weather:\n",
    "        x = weath_sort[var].reshape(10,10)\n",
    "        xx = np.flip(x,0)\n",
    "        weather_date.update({var:xx})\n",
    "        \n",
    "    return weather_date"
   ]
  },
  {
   "cell_type": "code",
   "execution_count": null,
   "metadata": {
    "jupyter": {
     "source_hidden": true
    }
   },
   "outputs": [],
   "source": [
    "def new_meta(lats,longs):\n",
    "    \"\"\" Calculate transform and meta data for 10x10 \n",
    "    raster of lat/long data\n",
    "    \"\"\"\n",
    "    \n",
    "    # from https://rasterio.readthedocs.io/en/latest/quickstart.html#creating-data\n",
    "    # See my imported sketches with the correct transforms\n",
    "    \n",
    "    #  Resolution\n",
    "    xres = (longs[-1] - longs[0]) / 9\n",
    "    yres = (lats[0] - lats[-1]) /9\n",
    "    \n",
    "    # affine transform - assumes each lat/long point is in the center of the pixel it represents\n",
    "    src_transform = Affine.translation(longs[0] - xres / 2, lats[-1] - yres / 2) * Affine.scale(xres, yres)\n",
    "    \n",
    "    meta = {'driver':'GTiff','height':10, \\\n",
    "                'width':10,'count':1, \\\n",
    "                'dtype':'float64', 'crs':'+proj=latlong', \\\n",
    "                'transform':src_transform, 'nodata':-9999, \\\n",
    "                'compress':'lzw','interleave':'band'}\n",
    "    \n",
    "    return meta"
   ]
  },
  {
   "cell_type": "code",
   "execution_count": null,
   "metadata": {
    "jupyter": {
     "source_hidden": true
    }
   },
   "outputs": [],
   "source": [
    "def reproject_arrs(arrs,path,filename,src_meta):\n",
    "    \"\"\"Reproject the lat/long weather arrays to\n",
    "    raster arrays with new CRS\n",
    "    \n",
    "    Input: Dictionary of numpy arrays holding 8 weather variables\n",
    "    for one date in 10x10 grid based on lat/long, path and filename to raster\n",
    "    and Source meta data\n",
    "    Output: Dictionary of numpy arrays holding 8 weather variables\n",
    "    for one date in grid to match firedata raster.\n",
    "    \"\"\"    \n",
    "    # Get reference meta data from raster\n",
    "    file = path+filename\n",
    "    with rio.open(file,'r') as ref:\n",
    "        refdata = ref.read(1)  # data in raster\n",
    "        refmeta = ref.meta # meta data in raster\n",
    "        refres = ref.res # resolution in raster\n",
    "    \n",
    "    # Set destination transform and coordinate reference system\n",
    "    dst_transform = refmeta['transform']\n",
    "    dst_crs = refmeta['crs']\n",
    "\n",
    "    # Get source transform and CRS\n",
    "    src_transform = src_meta['transform']\n",
    "    src_crs = src_meta['crs']\n",
    "    \n",
    "    refmeta['dtype'] = 'float64'\n",
    "    \n",
    "    dst_shape = refdata.shape\n",
    "    destination = np.full(dst_shape, -9999.0)\n",
    "    \n",
    "    rp = {}\n",
    "    for w,a in arrs.items():\n",
    "        # clear the array before reprojecting each time\n",
    "        destination = np.full(dst_shape, -9999.0)\n",
    "        \n",
    "        reproject(\n",
    "            a,\n",
    "            destination,\n",
    "            src_transform=src_transform,\n",
    "            src_crs=src_crs,\n",
    "            dst_transform=dst_transform,\n",
    "            dst_crs=dst_crs,\n",
    "            resampling=Resampling.bilinear)\n",
    "        \n",
    "        rp.update({str(w):destination})\n",
    "\n",
    "    return rp"
   ]
  },
  {
   "cell_type": "markdown",
   "metadata": {
    "collapsed": "false"
   },
   "source": [
    "### Create reprojected arrays for each date and pickle out"
   ]
  },
  {
   "cell_type": "code",
   "execution_count": null,
   "metadata": {},
   "outputs": [],
   "source": [
    "# Create function to loop over all dates and write out the dictionary\n",
    "def all_weather(yr_weather):\n",
    "    \"\"\"Loop through all the dates for fire in a year and\n",
    "    corresponding daily weather jsons (yr_weather), convert\n",
    "    to numpy arrays and reproject the arrays, the save out the new dictionary\n",
    "    \n",
    "    Input: yearly weather from darksky as date keyed dictionary of jsons\n",
    "    Output: write out the reprojected yearly weather arrays as pickle file\n",
    "    \"\"\"\n",
    "    # Get pairs of lat / long and path and filename for raster reference file\n",
    "    pairs,lats,longs,path,filename = setup()\n",
    "    \n",
    "    yr_rp_weather = {}    \n",
    "    for date,data in yr_weather.items():\n",
    "        # Convert jsons to arrays for given date\n",
    "        day_data = jsons_to_arrays(data,pairs)\n",
    "        \n",
    "        # Reproject arrays\n",
    "        reproj = reproject_arrs(day_data,path,filename,new_meta(lats,longs))\n",
    "        dt = date[0:10]\n",
    "        \n",
    "        yr_rp_weather.update({dt:reproj})\n",
    "        \n",
    "    # Pickle out the reprojected array dictionary:\n",
    "    with open('../data/GlobalFire2016/weather2016data.pickle','wb') as f:\n",
    "        pickle.dump(yr_rp_weather,f,pickle.HIGHEST_PROTOCOL)\n",
    "    \n",
    "    return (len(yr_rp_weather))"
   ]
  },
  {
   "cell_type": "code",
   "execution_count": null,
   "metadata": {},
   "outputs": [],
   "source": [
    "%%time\n",
    "weather_days = all_weather(yr_weather)\n",
    "print('Number of days of weather reprojected for 2016:',weather_days)"
   ]
  },
  {
   "cell_type": "code",
   "execution_count": null,
   "metadata": {},
   "outputs": [],
   "source": [
    "# Test if all_weather worked correctly.\n",
    "with open('../data/GlobalFire2016/weather2016data.pickle','rb') as f:\n",
    "    y1 = pickle.load(f)   \n",
    "    \n",
    "len(y1)"
   ]
  },
  {
   "cell_type": "code",
   "execution_count": null,
   "metadata": {},
   "outputs": [],
   "source": [
    "y1.keys()"
   ]
  },
  {
   "cell_type": "code",
   "execution_count": null,
   "metadata": {},
   "outputs": [],
   "source": [
    "x1 =y1['2016-04-09']\n",
    "x1"
   ]
  },
  {
   "cell_type": "code",
   "execution_count": null,
   "metadata": {},
   "outputs": [],
   "source": [
    "w1 = x1['High T']"
   ]
  },
  {
   "cell_type": "code",
   "execution_count": null,
   "metadata": {},
   "outputs": [],
   "source": [
    "w1.shape"
   ]
  },
  {
   "cell_type": "code",
   "execution_count": null,
   "metadata": {},
   "outputs": [],
   "source": [
    "x1"
   ]
  },
  {
   "cell_type": "markdown",
   "metadata": {
    "collapsed": "false"
   },
   "source": [
    "### Plot reprojected data for a day"
   ]
  },
  {
   "cell_type": "code",
   "execution_count": null,
   "metadata": {},
   "outputs": [],
   "source": [
    "def plot_weather(day_weath):\n",
    "    \"\"\" Plot all the weather components for that day\"\"\"\n",
    "    fig = plt.figure(figsize = (20,8))\n",
    "    fig.subplots_adjust(hspace=0.4,wspace=0.4)\n",
    "    i=1\n",
    "    for key,data in day_weath.items():\n",
    "        ax = fig.add_subplot(2,4,i)\n",
    "        sns.heatmap(data)\n",
    "        ax.set_title(key)\n",
    "        i+=1\n",
    "    plt.show()"
   ]
  },
  {
   "cell_type": "code",
   "execution_count": null,
   "metadata": {},
   "outputs": [],
   "source": [
    "plot_weather(x1)"
   ]
  },
  {
   "cell_type": "markdown",
   "metadata": {},
   "source": [
    "# Determine which days of the year we need data for"
   ]
  },
  {
   "cell_type": "code",
   "execution_count": null,
   "metadata": {},
   "outputs": [],
   "source": [
    "# Use the firedata raster as the reference meta data and transform\n",
    "with rio.open('../toydata/Global_fire_atlas_firelinecrop.tif','r') as rast:\n",
    "    rastdata = rast.read(1)\n",
    "    rastmeta = rast.meta"
   ]
  },
  {
   "cell_type": "code",
   "execution_count": null,
   "metadata": {},
   "outputs": [],
   "source": [
    "rastdata.shape"
   ]
  },
  {
   "cell_type": "code",
   "execution_count": null,
   "metadata": {},
   "outputs": [],
   "source": [
    "uniq = np.unique(rastdata, return_counts=True)\n",
    "days = uniq[0]\n",
    "counts = uniq[1]\n",
    "# days = days[days > 0]  # remove the -9999 no data values\n",
    "days"
   ]
  },
  {
   "cell_type": "code",
   "execution_count": null,
   "metadata": {},
   "outputs": [],
   "source": [
    "print(len(days))"
   ]
  },
  {
   "cell_type": "code",
   "execution_count": null,
   "metadata": {},
   "outputs": [],
   "source": [
    "# Cost for 2016:\n",
    "nopoints = 10*10 # weather data on 10x10 grid\n",
    "nodays = len(days) # number of unique days \n",
    "total_calls = nopoints * nodays\n",
    "percall = 0.0001 # $0.0001 USD/call\n",
    "free = 1000 # number free calls per day\n",
    "cost = (total_calls - free)*percall\n",
    "print(f\"Cost to obtain data for all 2016 for cropped area is: ${cost} for {total_calls} total calls.\")"
   ]
  },
  {
   "cell_type": "code",
   "execution_count": null,
   "metadata": {},
   "outputs": [],
   "source": [
    "# Find date for given day of year\n",
    "datetime.strptime('2016-100','%Y-%j')"
   ]
  },
  {
   "cell_type": "code",
   "execution_count": null,
   "metadata": {},
   "outputs": [],
   "source": [
    "# Create list of dates for DOY on fireline\n",
    "# dates = ['2016-12-16']\n",
    "# time = date+'T12:00:00'\n",
    "fire_dates = []\n",
    "yr = '2016'\n",
    "for day in days:\n",
    "    s = yr + '-'+ str(day)\n",
    "    d = datetime.strptime(s,'%Y-%j')\n",
    "    s2 = str(d.strftime(\"%Y-%m-%d\")) + 'T12:00:00'\n",
    "    fire_dates.append(s2)\n",
    "len(fire_dates)"
   ]
  },
  {
   "cell_type": "markdown",
   "metadata": {
    "collapsed": "false"
   },
   "source": [
    "Check if dates above cover the dates for the ignitions as well"
   ]
  },
  {
   "cell_type": "code",
   "execution_count": null,
   "metadata": {},
   "outputs": [],
   "source": [
    "with open('../toydata/Global_fire_atlas_datacrop.pickle','rb') as f:\n",
    "    firedbf = pickle.load(f)"
   ]
  },
  {
   "cell_type": "code",
   "execution_count": null,
   "metadata": {},
   "outputs": [],
   "source": [
    "ign_dates = firedbf['start_date']"
   ]
  },
  {
   "cell_type": "code",
   "execution_count": null,
   "metadata": {},
   "outputs": [],
   "source": [
    "ign_dates2 = []\n",
    "for day in ign_dates:\n",
    "    s3 = day + 'T12:00:00'\n",
    "    ign_dates2.append(s3)"
   ]
  },
  {
   "cell_type": "code",
   "execution_count": null,
   "metadata": {},
   "outputs": [],
   "source": [
    "# Check if ignition dates amongst the fireline dates\n",
    "missed = set(ign_dates2).issubset(set(fire_dates))\n",
    "missed"
   ]
  },
  {
   "cell_type": "markdown",
   "metadata": {
    "collapsed": "false"
   },
   "source": [
    "The ignition days are also within the fireline days, so just pickle out the arrays for each day."
   ]
  },
  {
   "cell_type": "markdown",
   "metadata": {
    "collapsed": "false"
   },
   "source": [
    "## Sa"
   ]
  }
 ],
 "metadata": {
  "kernelspec": {
   "display_name": "Python 3",
   "language": "python",
   "name": "python3"
  },
  "language_info": {
   "codemirror_mode": {
    "name": "ipython",
    "version": 3
   },
   "file_extension": ".py",
   "mimetype": "text/x-python",
   "name": "python",
   "nbconvert_exporter": "python",
   "pygments_lexer": "ipython3",
   "version": "3.7.6"
  },
  "toc": {
   "base_numbering": 1,
   "nav_menu": {},
   "number_sections": true,
   "sideBar": true,
   "skip_h1_title": false,
   "title_cell": "Table of Contents",
   "title_sidebar": "Contents",
   "toc_cell": false,
   "toc_position": {},
   "toc_section_display": true,
   "toc_window_display": true
  },
  "toc-autonumbering": true,
  "toc-showmarkdowntxt": false,
  "toc-showtags": false
 },
 "nbformat": 4,
 "nbformat_minor": 4
}
