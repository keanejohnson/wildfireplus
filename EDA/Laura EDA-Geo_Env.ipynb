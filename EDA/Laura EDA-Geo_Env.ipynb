{
 "cells": [
  {
   "cell_type": "code",
   "execution_count": 35,
   "metadata": {},
   "outputs": [
    {
     "name": "stdout",
     "output_type": "stream",
     "text": [
      "Python Version = 3.7.6 (default, Jan  8 2020, 20:23:39) [MSC v.1916 64 bit (AMD64)]\n",
      "Pandas Version = 1.0.0\n",
      "Geopandas Version = 0.6.2\n"
     ]
    }
   ],
   "source": [
    "import pandas as pd\n",
    "import matplotlib.pyplot as plt\n",
    "import sys\n",
    "import csv\n",
    "import numpy as np\n",
    "import os\n",
    "import sqlite3\n",
    "import copy\n",
    "from dbfread import DBF\n",
    "import geopandas as gpd\n",
    "import fiona\n",
    "import pprint\n",
    "import folium\n",
    "import descartes\n",
    "import rasterio as rio\n",
    "import earthpy as et\n",
    "import pickle\n",
    "\n",
    "print(f\"Python Version = {sys.version}\")\n",
    "print(f\"Pandas Version = {pd.__version__}\")\n",
    "print(f\"Geopandas Version = {gpd.__version__}\")"
   ]
  },
  {
   "cell_type": "markdown",
   "metadata": {
    "heading_collapsed": true
   },
   "source": [
    "# Definitions"
   ]
  },
  {
   "cell_type": "markdown",
   "metadata": {
    "hidden": true
   },
   "source": [
    "1) Fine Fuel Moisture Code\n",
    "The Fine Fuel Moisture Code (FFMC) is a numeric rating of the moisture content of litter and other cured fine fuels. This code is an indicator of the relative ease of ignition and the flammability of fine fuel.\n",
    "\n",
    "2) Duff Moisture Code\n",
    "The Duff Moisture Code (DMC) is a numeric rating of the average moisture content of loosely compacted organic layers of moderate depth. This code gives an indication of fuel consumption in moderate duff layers and medium-size woody material.\n",
    "\n",
    "3) Drought Code\n",
    "The Drought Code (DC) is a numeric rating of the average moisture content of deep, compact organic layers. This code is a useful indicator of seasonal drought effects on forest fuels and the amount of smoldering in deep duff layers and large logs.\n",
    "\n",
    "4)  Initial Spread Index\n",
    "The Initial Spread Index (ISI) is a numeric rating of the expected rate of fire spread. It combines the effects of wind and the FFMC on rate of spread without the influence of variable quantities of fuel.\n",
    "\n",
    "https://cwfis.cfs.nrcan.gc.ca/background/summary/fwi\n",
    "\n",
    "5) Temp\n",
    "Temperature in Celsius degrees\n",
    "\n",
    "6) RH\n",
    "Relative humidity in %\n",
    "\n",
    "7) Wind\n",
    "Wind speed in km/h\n",
    "\n",
    "8) Rain\n",
    "Outside rain in mm/m2\n",
    "\n",
    "9) Area\n",
    "The burned area of the forest (in ha), ha = hectare = 2.47 acres\n",
    "\n",
    "10) X\n",
    "x-axis spatial coordinate within the Montesinho park map: 1 to 9 2\n",
    "\n",
    "11) Y\n",
    "y-axis spatial coordinate within the Montesinho park map: 2 to 9 3"
   ]
  },
  {
   "cell_type": "markdown",
   "metadata": {
    "hidden": true
   },
   "source": [
    "Literature:\n",
    "\n",
    "https://news.uci.edu/2019/09/17/uci-team-uses-machine-learning-to-help-tell-which-wildfires-will-burn-out-of-control/\n",
    "\n",
    "In the original paper (Portugal - Montesinho fires), the best result (predicting burned area) was only using the 4 weather conditions: RH/Wind/Rain/Temp, and an SVM.\n",
    "\n",
    "This: https://datasetsearch.research.google.com/search?query=wildfire%20area&docid=fchFFzqh0O3qjX3PAAAAAA%3D%3D has georeferenced and date/time referenced with areas. Could combine with weather data for those dates/times."
   ]
  },
  {
   "cell_type": "markdown",
   "metadata": {},
   "source": [
    "# Query shape of datasets and feature names"
   ]
  },
  {
   "cell_type": "code",
   "execution_count": 2,
   "metadata": {},
   "outputs": [
    {
     "data": {
      "text/plain": [
       "'C:\\\\DDRIVE\\\\W210 Capstone\\\\wildfireplus\\\\EDA'"
      ]
     },
     "execution_count": 2,
     "metadata": {},
     "output_type": "execute_result"
    }
   ],
   "source": [
    "os.getcwd()"
   ]
  },
  {
   "cell_type": "markdown",
   "metadata": {
    "heading_collapsed": true
   },
   "source": [
    "## Montesinho"
   ]
  },
  {
   "cell_type": "code",
   "execution_count": null,
   "metadata": {
    "hidden": true
   },
   "outputs": [],
   "source": [
    "montesinho = pd.read_csv('../data/Montesinho/forestfires.csv')"
   ]
  },
  {
   "cell_type": "code",
   "execution_count": 22,
   "metadata": {
    "hidden": true
   },
   "outputs": [
    {
     "name": "stdout",
     "output_type": "stream",
     "text": [
      "(517, 13)\n"
     ]
    },
    {
     "data": {
      "text/html": [
       "<div>\n",
       "<style scoped>\n",
       "    .dataframe tbody tr th:only-of-type {\n",
       "        vertical-align: middle;\n",
       "    }\n",
       "\n",
       "    .dataframe tbody tr th {\n",
       "        vertical-align: top;\n",
       "    }\n",
       "\n",
       "    .dataframe thead th {\n",
       "        text-align: right;\n",
       "    }\n",
       "</style>\n",
       "<table border=\"1\" class=\"dataframe\">\n",
       "  <thead>\n",
       "    <tr style=\"text-align: right;\">\n",
       "      <th></th>\n",
       "      <th>X</th>\n",
       "      <th>Y</th>\n",
       "      <th>month</th>\n",
       "      <th>day</th>\n",
       "      <th>FFMC</th>\n",
       "      <th>DMC</th>\n",
       "      <th>DC</th>\n",
       "      <th>ISI</th>\n",
       "      <th>temp</th>\n",
       "      <th>RH</th>\n",
       "      <th>wind</th>\n",
       "      <th>rain</th>\n",
       "      <th>area</th>\n",
       "    </tr>\n",
       "  </thead>\n",
       "  <tbody>\n",
       "    <tr>\n",
       "      <td>0</td>\n",
       "      <td>7</td>\n",
       "      <td>5</td>\n",
       "      <td>mar</td>\n",
       "      <td>fri</td>\n",
       "      <td>86.2</td>\n",
       "      <td>26.2</td>\n",
       "      <td>94.3</td>\n",
       "      <td>5.1</td>\n",
       "      <td>8.2</td>\n",
       "      <td>51</td>\n",
       "      <td>6.7</td>\n",
       "      <td>0.0</td>\n",
       "      <td>0.0</td>\n",
       "    </tr>\n",
       "    <tr>\n",
       "      <td>1</td>\n",
       "      <td>7</td>\n",
       "      <td>4</td>\n",
       "      <td>oct</td>\n",
       "      <td>tue</td>\n",
       "      <td>90.6</td>\n",
       "      <td>35.4</td>\n",
       "      <td>669.1</td>\n",
       "      <td>6.7</td>\n",
       "      <td>18.0</td>\n",
       "      <td>33</td>\n",
       "      <td>0.9</td>\n",
       "      <td>0.0</td>\n",
       "      <td>0.0</td>\n",
       "    </tr>\n",
       "    <tr>\n",
       "      <td>2</td>\n",
       "      <td>7</td>\n",
       "      <td>4</td>\n",
       "      <td>oct</td>\n",
       "      <td>sat</td>\n",
       "      <td>90.6</td>\n",
       "      <td>43.7</td>\n",
       "      <td>686.9</td>\n",
       "      <td>6.7</td>\n",
       "      <td>14.6</td>\n",
       "      <td>33</td>\n",
       "      <td>1.3</td>\n",
       "      <td>0.0</td>\n",
       "      <td>0.0</td>\n",
       "    </tr>\n",
       "    <tr>\n",
       "      <td>3</td>\n",
       "      <td>8</td>\n",
       "      <td>6</td>\n",
       "      <td>mar</td>\n",
       "      <td>fri</td>\n",
       "      <td>91.7</td>\n",
       "      <td>33.3</td>\n",
       "      <td>77.5</td>\n",
       "      <td>9.0</td>\n",
       "      <td>8.3</td>\n",
       "      <td>97</td>\n",
       "      <td>4.0</td>\n",
       "      <td>0.2</td>\n",
       "      <td>0.0</td>\n",
       "    </tr>\n",
       "    <tr>\n",
       "      <td>4</td>\n",
       "      <td>8</td>\n",
       "      <td>6</td>\n",
       "      <td>mar</td>\n",
       "      <td>sun</td>\n",
       "      <td>89.3</td>\n",
       "      <td>51.3</td>\n",
       "      <td>102.2</td>\n",
       "      <td>9.6</td>\n",
       "      <td>11.4</td>\n",
       "      <td>99</td>\n",
       "      <td>1.8</td>\n",
       "      <td>0.0</td>\n",
       "      <td>0.0</td>\n",
       "    </tr>\n",
       "  </tbody>\n",
       "</table>\n",
       "</div>"
      ],
      "text/plain": [
       "   X  Y month  day  FFMC   DMC     DC  ISI  temp  RH  wind  rain  area\n",
       "0  7  5   mar  fri  86.2  26.2   94.3  5.1   8.2  51   6.7   0.0   0.0\n",
       "1  7  4   oct  tue  90.6  35.4  669.1  6.7  18.0  33   0.9   0.0   0.0\n",
       "2  7  4   oct  sat  90.6  43.7  686.9  6.7  14.6  33   1.3   0.0   0.0\n",
       "3  8  6   mar  fri  91.7  33.3   77.5  9.0   8.3  97   4.0   0.2   0.0\n",
       "4  8  6   mar  sun  89.3  51.3  102.2  9.6  11.4  99   1.8   0.0   0.0"
      ]
     },
     "execution_count": 22,
     "metadata": {},
     "output_type": "execute_result"
    }
   ],
   "source": [
    "print(montesinho.shape)\n",
    "montesinho.head()"
   ]
  },
  {
   "cell_type": "markdown",
   "metadata": {
    "heading_collapsed": true
   },
   "source": [
    "## US Fires 1.88 Million"
   ]
  },
  {
   "cell_type": "code",
   "execution_count": 9,
   "metadata": {
    "hidden": true
   },
   "outputs": [],
   "source": [
    "db = sqlite3.connect('../data/188millionuswildfires/FPA_FOD_20170508.sqlite')"
   ]
  },
  {
   "cell_type": "code",
   "execution_count": 10,
   "metadata": {
    "hidden": true
   },
   "outputs": [
    {
     "data": {
      "text/plain": [
       "[('spatial_ref_sys',),\n",
       " ('spatialite_history',),\n",
       " ('sqlite_sequence',),\n",
       " ('geometry_columns',),\n",
       " ('spatial_ref_sys_aux',),\n",
       " ('views_geometry_columns',),\n",
       " ('virts_geometry_columns',),\n",
       " ('geometry_columns_statistics',),\n",
       " ('views_geometry_columns_statistics',),\n",
       " ('virts_geometry_columns_statistics',),\n",
       " ('geometry_columns_field_infos',),\n",
       " ('views_geometry_columns_field_infos',),\n",
       " ('virts_geometry_columns_field_infos',),\n",
       " ('geometry_columns_time',),\n",
       " ('geometry_columns_auth',),\n",
       " ('views_geometry_columns_auth',),\n",
       " ('virts_geometry_columns_auth',),\n",
       " ('sql_statements_log',),\n",
       " ('SpatialIndex',),\n",
       " ('ElementaryGeometries',),\n",
       " ('KNN',),\n",
       " ('Fires',),\n",
       " ('idx_Fires_Shape',),\n",
       " ('idx_Fires_Shape_node',),\n",
       " ('idx_Fires_Shape_rowid',),\n",
       " ('idx_Fires_Shape_parent',),\n",
       " ('NWCG_UnitIDActive_20170109',)]"
      ]
     },
     "execution_count": 10,
     "metadata": {},
     "output_type": "execute_result"
    }
   ],
   "source": [
    "cursorobj = db.cursor()\n",
    "cursorobj.execute('SELECT name from sqlite_master where type = \"table\"')\n",
    "tables1 = cursorobj.fetchall()\n",
    "tables1"
   ]
  },
  {
   "cell_type": "code",
   "execution_count": 11,
   "metadata": {
    "hidden": true
   },
   "outputs": [
    {
     "data": {
      "text/plain": [
       "[('spatial_ref_sys',),\n",
       " ('spatialite_history',),\n",
       " ('sqlite_sequence',),\n",
       " ('geometry_columns',),\n",
       " ('spatial_ref_sys_aux',),\n",
       " ('views_geometry_columns',),\n",
       " ('virts_geometry_columns',),\n",
       " ('geometry_columns_statistics',),\n",
       " ('views_geometry_columns_statistics',),\n",
       " ('virts_geometry_columns_statistics',),\n",
       " ('geometry_columns_field_infos',),\n",
       " ('views_geometry_columns_field_infos',),\n",
       " ('virts_geometry_columns_field_infos',),\n",
       " ('geometry_columns_time',),\n",
       " ('geometry_columns_auth',),\n",
       " ('views_geometry_columns_auth',),\n",
       " ('virts_geometry_columns_auth',),\n",
       " ('sql_statements_log',),\n",
       " ('Fires',),\n",
       " ('idx_Fires_Shape_node',),\n",
       " ('idx_Fires_Shape_rowid',),\n",
       " ('idx_Fires_Shape_parent',),\n",
       " ('NWCG_UnitIDActive_20170109',)]"
      ]
     },
     "execution_count": 11,
     "metadata": {},
     "output_type": "execute_result"
    }
   ],
   "source": [
    "tables2 = copy.deepcopy(tables1)\n",
    "del tables2[18:21]\n",
    "tables2\n",
    "del tables2[19]\n",
    "tables2"
   ]
  },
  {
   "cell_type": "code",
   "execution_count": 12,
   "metadata": {
    "hidden": true
   },
   "outputs": [
    {
     "name": "stdout",
     "output_type": "stream",
     "text": [
      "('spatial_ref_sys',) ['srid', 'auth_name', 'auth_srid', 'ref_sys_name', 'proj4text', 'srtext']\n",
      "('spatialite_history',) ['event_id', 'table_name', 'geometry_column', 'event', 'timestamp', 'ver_sqlite', 'ver_splite']\n",
      "('sqlite_sequence',) ['name', 'seq']\n",
      "('geometry_columns',) ['f_table_name', 'f_geometry_column', 'geometry_type', 'coord_dimension', 'srid', 'spatial_index_enabled']\n",
      "('spatial_ref_sys_aux',) ['srid', 'is_geographic', 'has_flipped_axes', 'spheroid', 'prime_meridian', 'datum', 'projection', 'unit', 'axis_1_name', 'axis_1_orientation', 'axis_2_name', 'axis_2_orientation']\n",
      "('views_geometry_columns',) ['view_name', 'view_geometry', 'view_rowid', 'f_table_name', 'f_geometry_column', 'read_only']\n",
      "('virts_geometry_columns',) ['virt_name', 'virt_geometry', 'geometry_type', 'coord_dimension', 'srid']\n",
      "('geometry_columns_statistics',) ['f_table_name', 'f_geometry_column', 'last_verified', 'row_count', 'extent_min_x', 'extent_min_y', 'extent_max_x', 'extent_max_y']\n",
      "('views_geometry_columns_statistics',) ['view_name', 'view_geometry', 'last_verified', 'row_count', 'extent_min_x', 'extent_min_y', 'extent_max_x', 'extent_max_y']\n",
      "('virts_geometry_columns_statistics',) ['virt_name', 'virt_geometry', 'last_verified', 'row_count', 'extent_min_x', 'extent_min_y', 'extent_max_x', 'extent_max_y']\n",
      "('geometry_columns_field_infos',) ['f_table_name', 'f_geometry_column', 'ordinal', 'column_name', 'null_values', 'integer_values', 'double_values', 'text_values', 'blob_values', 'max_size', 'integer_min', 'integer_max', 'double_min', 'double_max']\n",
      "('views_geometry_columns_field_infos',) ['view_name', 'view_geometry', 'ordinal', 'column_name', 'null_values', 'integer_values', 'double_values', 'text_values', 'blob_values', 'max_size', 'integer_min', 'integer_max', 'double_min', 'double_max']\n",
      "('virts_geometry_columns_field_infos',) ['virt_name', 'virt_geometry', 'ordinal', 'column_name', 'null_values', 'integer_values', 'double_values', 'text_values', 'blob_values', 'max_size', 'integer_min', 'integer_max', 'double_min', 'double_max']\n",
      "('geometry_columns_time',) ['f_table_name', 'f_geometry_column', 'last_insert', 'last_update', 'last_delete']\n",
      "('geometry_columns_auth',) ['f_table_name', 'f_geometry_column', 'read_only', 'hidden']\n",
      "('views_geometry_columns_auth',) ['view_name', 'view_geometry', 'hidden']\n",
      "('virts_geometry_columns_auth',) ['virt_name', 'virt_geometry', 'hidden']\n",
      "('sql_statements_log',) ['id', 'time_start', 'time_end', 'user_agent', 'sql_statement', 'success', 'error_cause']\n",
      "('Fires',) ['OBJECTID', 'FOD_ID', 'FPA_ID', 'SOURCE_SYSTEM_TYPE', 'SOURCE_SYSTEM', 'NWCG_REPORTING_AGENCY', 'NWCG_REPORTING_UNIT_ID', 'NWCG_REPORTING_UNIT_NAME', 'SOURCE_REPORTING_UNIT', 'SOURCE_REPORTING_UNIT_NAME', 'LOCAL_FIRE_REPORT_ID', 'LOCAL_INCIDENT_ID', 'FIRE_CODE', 'FIRE_NAME', 'ICS_209_INCIDENT_NUMBER', 'ICS_209_NAME', 'MTBS_ID', 'MTBS_FIRE_NAME', 'COMPLEX_NAME', 'FIRE_YEAR', 'DISCOVERY_DATE', 'DISCOVERY_DOY', 'DISCOVERY_TIME', 'STAT_CAUSE_CODE', 'STAT_CAUSE_DESCR', 'CONT_DATE', 'CONT_DOY', 'CONT_TIME', 'FIRE_SIZE', 'FIRE_SIZE_CLASS', 'LATITUDE', 'LONGITUDE', 'OWNER_CODE', 'OWNER_DESCR', 'STATE', 'COUNTY', 'FIPS_CODE', 'FIPS_NAME', 'Shape']\n",
      "('idx_Fires_Shape_node',) ['nodeno', 'data']\n",
      "('idx_Fires_Shape_rowid',) ['rowid', 'nodeno']\n",
      "('idx_Fires_Shape_parent',) ['nodeno', 'parentnode']\n",
      "('NWCG_UnitIDActive_20170109',) ['OBJECTID', 'UnitId', 'GeographicArea', 'Gacc', 'WildlandRole', 'UnitType', 'Department', 'Agency', 'Parent', 'Country', 'State', 'Code', 'Name']\n"
     ]
    }
   ],
   "source": [
    "for table in tables2:\n",
    "    query = \"SELECT * FROM \" + table[0]\n",
    "    #print(query)\n",
    "    cursorobj.execute(query)\n",
    "    names = [description[0] for description in cursorobj.description]\n",
    "    print(table, names)"
   ]
  },
  {
   "cell_type": "code",
   "execution_count": 13,
   "metadata": {
    "hidden": true
   },
   "outputs": [],
   "source": [
    "usfires2 = pd.read_sql_query(\"SELECT datetime(DISCOVERY_DATE) as DISCOVERY_DATE, \\\n",
    "                             DISCOVERY_TIME, FIRE_SIZE, LATITUDE, LONGITUDE, \\\n",
    "                             datetime(CONT_DATE) as CONT_DATE, CONT_TIME \\\n",
    "                             FROM Fires\",db)"
   ]
  },
  {
   "cell_type": "code",
   "execution_count": 14,
   "metadata": {
    "hidden": true
   },
   "outputs": [
    {
     "data": {
      "text/plain": [
       "(1880465, 7)"
      ]
     },
     "execution_count": 14,
     "metadata": {},
     "output_type": "execute_result"
    }
   ],
   "source": [
    "usfires2.shape"
   ]
  },
  {
   "cell_type": "code",
   "execution_count": 15,
   "metadata": {
    "hidden": true
   },
   "outputs": [
    {
     "data": {
      "text/html": [
       "<div>\n",
       "<style scoped>\n",
       "    .dataframe tbody tr th:only-of-type {\n",
       "        vertical-align: middle;\n",
       "    }\n",
       "\n",
       "    .dataframe tbody tr th {\n",
       "        vertical-align: top;\n",
       "    }\n",
       "\n",
       "    .dataframe thead th {\n",
       "        text-align: right;\n",
       "    }\n",
       "</style>\n",
       "<table border=\"1\" class=\"dataframe\">\n",
       "  <thead>\n",
       "    <tr style=\"text-align: right;\">\n",
       "      <th></th>\n",
       "      <th>DISCOVERY_DATE</th>\n",
       "      <th>DISCOVERY_TIME</th>\n",
       "      <th>FIRE_SIZE</th>\n",
       "      <th>LATITUDE</th>\n",
       "      <th>LONGITUDE</th>\n",
       "      <th>CONT_DATE</th>\n",
       "      <th>CONT_TIME</th>\n",
       "    </tr>\n",
       "  </thead>\n",
       "  <tbody>\n",
       "    <tr>\n",
       "      <th>0</th>\n",
       "      <td>2005-02-02 00:00:00</td>\n",
       "      <td>1300</td>\n",
       "      <td>0.10</td>\n",
       "      <td>40.036944</td>\n",
       "      <td>-121.005833</td>\n",
       "      <td>2005-02-02 00:00:00</td>\n",
       "      <td>1730</td>\n",
       "    </tr>\n",
       "    <tr>\n",
       "      <th>1</th>\n",
       "      <td>2004-05-12 00:00:00</td>\n",
       "      <td>0845</td>\n",
       "      <td>0.25</td>\n",
       "      <td>38.933056</td>\n",
       "      <td>-120.404444</td>\n",
       "      <td>2004-05-12 00:00:00</td>\n",
       "      <td>1530</td>\n",
       "    </tr>\n",
       "    <tr>\n",
       "      <th>2</th>\n",
       "      <td>2004-05-31 00:00:00</td>\n",
       "      <td>1921</td>\n",
       "      <td>0.10</td>\n",
       "      <td>38.984167</td>\n",
       "      <td>-120.735556</td>\n",
       "      <td>2004-05-31 00:00:00</td>\n",
       "      <td>2024</td>\n",
       "    </tr>\n",
       "    <tr>\n",
       "      <th>3</th>\n",
       "      <td>2004-06-28 00:00:00</td>\n",
       "      <td>1600</td>\n",
       "      <td>0.10</td>\n",
       "      <td>38.559167</td>\n",
       "      <td>-119.913333</td>\n",
       "      <td>2004-07-03 00:00:00</td>\n",
       "      <td>1400</td>\n",
       "    </tr>\n",
       "    <tr>\n",
       "      <th>4</th>\n",
       "      <td>2004-06-28 00:00:00</td>\n",
       "      <td>1600</td>\n",
       "      <td>0.10</td>\n",
       "      <td>38.559167</td>\n",
       "      <td>-119.933056</td>\n",
       "      <td>2004-07-03 00:00:00</td>\n",
       "      <td>1200</td>\n",
       "    </tr>\n",
       "  </tbody>\n",
       "</table>\n",
       "</div>"
      ],
      "text/plain": [
       "        DISCOVERY_DATE DISCOVERY_TIME  FIRE_SIZE   LATITUDE   LONGITUDE  \\\n",
       "0  2005-02-02 00:00:00           1300       0.10  40.036944 -121.005833   \n",
       "1  2004-05-12 00:00:00           0845       0.25  38.933056 -120.404444   \n",
       "2  2004-05-31 00:00:00           1921       0.10  38.984167 -120.735556   \n",
       "3  2004-06-28 00:00:00           1600       0.10  38.559167 -119.913333   \n",
       "4  2004-06-28 00:00:00           1600       0.10  38.559167 -119.933056   \n",
       "\n",
       "             CONT_DATE CONT_TIME  \n",
       "0  2005-02-02 00:00:00      1730  \n",
       "1  2004-05-12 00:00:00      1530  \n",
       "2  2004-05-31 00:00:00      2024  \n",
       "3  2004-07-03 00:00:00      1400  \n",
       "4  2004-07-03 00:00:00      1200  "
      ]
     },
     "execution_count": 15,
     "metadata": {},
     "output_type": "execute_result"
    }
   ],
   "source": [
    "usfires2.head()"
   ]
  },
  {
   "cell_type": "code",
   "execution_count": 19,
   "metadata": {
    "hidden": true
   },
   "outputs": [],
   "source": [
    "usfires2['logArea'] = usfires2.apply(lambda row: np.log(row.FIRE_SIZE+1), axis=1)"
   ]
  },
  {
   "cell_type": "code",
   "execution_count": 21,
   "metadata": {
    "hidden": true
   },
   "outputs": [
    {
     "data": {
      "image/png": "[encoded data removed]",
      "text/plain": [
       "<Figure size 1152x576 with 2 Axes>"
      ]
     },
     "metadata": {
      "needs_background": "light"
     },
     "output_type": "display_data"
    }
   ],
   "source": [
    "fig,axes = plt.subplots(1,2,figsize=(16,8))\n",
    "usfires2.hist(column = \"FIRE_SIZE\", bins=100, ax = axes[0])\n",
    "usfires2.hist(column = 'logArea', bins=100, ax=axes[1])\n",
    "plt.show()"
   ]
  },
  {
   "cell_type": "markdown",
   "metadata": {
    "heading_collapsed": true
   },
   "source": [
    "## GeoMac"
   ]
  },
  {
   "cell_type": "code",
   "execution_count": null,
   "metadata": {
    "hidden": true
   },
   "outputs": [],
   "source": [
    "geomac = sqlite3.connect('../data/188millionuswildfires/FPA_FOD_20170508.sqlite')"
   ]
  },
  {
   "cell_type": "code",
   "execution_count": null,
   "metadata": {
    "hidden": true
   },
   "outputs": [],
   "source": []
  },
  {
   "cell_type": "markdown",
   "metadata": {
    "heading_collapsed": true
   },
   "source": [
    "## Weather Data"
   ]
  },
  {
   "cell_type": "markdown",
   "metadata": {
    "hidden": true
   },
   "source": [
    "1) cheapest seems to be DarkSky. 1000 per day for free\n",
    "2) $0.0001 per request after that\n",
    "3) Request: \"\n",
    "https://api.darksky.net/forecast/[key]/40.036944,-121.005833,2005-02-02T17:30:00\"  (my api key removed)\n",
    "\n",
    "Output is like this:\n",
    "{\"latitude\":40.036944,\"longitude\":-121.005833,\"timezone\":\"America/Los_Angeles\",\"currently\":{\"time\":1107394200,\"precipIntensity\":0,\"precipProbability\":0,\"temperature\":50.24,\"apparentTemperature\":50.41,\"dewPoint\":13.85,\"humidity\":0.23,\"windSpeed\":2.62,\"windGust\":13.17,\"windBearing\":24,\"uvIndex\":0},\"hourly\":{\"data\":[{\"time\":1107331200,\"precipIntensity\":0,\"precipProbability\":0,\"temperature\":39.73,\"apparentTemperature\":39.73,\"dewPoint\":12.45,\"humidity\":0.32,\"windSpeed\":1.23,\"windGust\":6.42,\"windBearing\":140,\"uvIndex\":0},{\"time\":1107334800,\"precipIntensity\":0,\"precipProbability\":0,\"temperature\":39.57,\"apparentTemperature\":39.57,\"dewPoint\":11.95,\"humidity\":0.32,\"windSpeed\":2.21,\"windGust\":5.8,\"windBearing\":72,\"uvIndex\":0},{\"time\":1107338400,\"precipIntensity\":0,\"precipProbability\":0,\"temperature\":38.69,\"apparentTemperature\":34.34,\"dewPoint\":13.27,\"humidity\":0.35,\"windSpeed\":5.79,\"windGust\":14.19,\"windBearing\":82,\"uvIndex\":0},{\"time\":1107342000,\"precipIntensity\":0,\"precipProbability\":0,\"temperature\":37.04,\"apparentTemperature\":37.04,\"dewPoint\":12.65,\"humidity\":0.36,\"windSpeed\":2.35,\"windGust\":9.56,\"windBearing\":98,\"uvIndex\":0},{\"time\":1107345600,\"precipIntensity\":0,\"precipProbability\":0,\"temperature\":36.26,\"apparentTemperature\":36.26,\"dewPoint\":12.71,\"humidity\":0.37,\"windSpeed\":1.16,\"windGust\":7.66,\"windBearing\":58,\"uvIndex\":0},{\"time\":1107349200,\"precipIntensity\":0,\"precipProbability\":0,\"temperature\":36.51,\"apparentTemperature\":36.51,\"dewPoint\":13.58,\"humidity\":0.39,\"windSpeed\":2.18,\"windGust\":6.93,\"windBearing\":71,\"uvIndex\":0},{\"time\":1107352800,\"precipIntensity\":0,\"precipProbability\":0,\"temperature\":36.4,\"apparentTemperature\":36.4,\"dewPoint\":12.17,\"humidity\":0.36,\"windSpeed\":2.48,\"windGust\":5.45,\"windBearing\":16,\"uvIndex\":0},{\"time\":1107356400,\"precipIntensity\":0,\"precipProbability\":0,\"temperature\":36.36,\"apparentTemperature\":36.36,\"dewPoint\":13.45,\"humidity\":0.39,\"windSpeed\":1.74,\"windGust\":5.3,\"windBearing\":61,\"uvIndex\":0},{\"time\":1107360000,\"precipIntensity\":0,\"precipProbability\":0,\"temperature\":35.85,\"apparentTemperature\":35.85,\"dewPoint\":14.88,\"humidity\":0.42,\"windSpeed\":2.52,\"windGust\":6.53,\"windBearing\":87},{\"time\":1107363600,\"precipIntensity\":0,\"precipProbability\":0,\"temperature\":42.06,\"apparentTemperature\":40.19,\"dewPoint\":13.16,\"humidity\":0.3,\"windSpeed\":3.48,\"windGust\":8.05,\"windBearing\":91},{\"time\":1107367200,\"precipIntensity\":0,\"precipProbability\":0,\"temperature\":46.17,\"apparentTemperature\":46.17,\"dewPoint\":16.52,\"humidity\":0.3,\"windSpeed\":2.71,\"windGust\":7.32,\"windBearing\":126},{\"time\":1107370800,\"precipIntensity\":0,\"precipProbability\":0,\"temperature\":47.55,\"apparentTemperature\":47.55,\"dewPoint\":21.59,\"humidity\":0.36,\"windSpeed\":2.72,\"windGust\":10.31,\"windBearing\":150},{\"time\":1107374400,\"precipIntensity\":0,\"precipProbability\":0,\"temperature\":52.04,\"apparentTemperature\":52.04,\"dewPoint\":20.52,\"humidity\":0.29,\"windSpeed\":4.29,\"windGust\":8.13,\"windBearing\":87},{\"time\":1107378000,\"precipIntensity\":0,\"precipProbability\":0,\"temperature\":55.54,\"apparentTemperature\":55.54,\"dewPoint\":19.53,\"humidity\":0.24,\"windSpeed\":4.84,\"windGust\":11.03,\"windBearing\":149},{\"time\":1107381600,\"precipIntensity\":0,\"precipProbability\":0,\"temperature\":56.34,\"apparentTemperature\":56.34,\"dewPoint\":17.37,\"humidity\":0.21,\"windSpeed\":5.54,\"windGust\":11.23,\"windBearing\":188},{\"time\":1107385200,\"precipIntensity\":0,\"precipProbability\":0,\"temperature\":57.34,\"apparentTemperature\":57.34,\"dewPoint\":15.65,\"humidity\":0.19,\"windSpeed\":6.36,\"windGust\":12.71,\"windBearing\":107},{\"time\":1107388800,\"precipIntensity\":0,\"precipProbability\":0,\"temperature\":53.57,\"apparentTemperature\":53.57,\"dewPoint\":15.64,\"humidity\":0.22,\"windSpeed\":6.13,\"windGust\":14.53,\"windBearing\":36},{\"time\":1107392400,\"precipIntensity\":0,\"precipProbability\":0,\"temperature\":52.58,\"apparentTemperature\":52.58,\"dewPoint\":14.07,\"humidity\":0.21,\"windSpeed\":3.32,\"windGust\":14.57,\"windBearing\":35},{\"time\":1107396000,\"precipIntensity\":0,\"precipProbability\":0,\"temperature\":47.79,\"apparentTemperature\":47.79,\"dewPoint\":13.74,\"humidity\":0.25,\"windSpeed\":2.6,\"windGust\":11.96,\"windBearing\":13,\"uvIndex\":0},{\"time\":1107399600,\"precipIntensity\":0,\"precipProbability\":0,\"temperature\":45.91,\"apparentTemperature\":43.25,\"dewPoint\":12.96,\"humidity\":0.26,\"windSpeed\":5.25,\"windGust\":13.55,\"windBearing\":80,\"uvIndex\":0},{\"time\":1107403200,\"precipIntensity\":0,\"precipProbability\":0,\"temperature\":43.25,\"apparentTemperature\":41.58,\"dewPoint\":14.25,\"humidity\":0.31,\"windSpeed\":3.45,\"windGust\":8.79,\"windBearing\":55,\"uvIndex\":0},{\"time\":1107406800,\"precipIntensity\":0,\"precipProbability\":0,\"temperature\":43.79,\"apparentTemperature\":43.79,\"dewPoint\":14.86,\"humidity\":0.31,\"windSpeed\":1.71,\"windGust\":6.29,\"windBearing\":158,\"uvIndex\":0},{\"time\":1107410400,\"precipIntensity\":0,\"precipProbability\":0,\"temperature\":42.36,\"apparentTemperature\":42.36,\"dewPoint\":14.51,\"humidity\":0.32,\"windSpeed\":2.37,\"windGust\":12.25,\"windBearing\":43,\"uvIndex\":0},{\"time\":1107414000,\"precipIntensity\":0,\"precipProbability\":0,\"temperature\":41.2,\"apparentTemperature\":41.2,\"dewPoint\":12.53,\"humidity\":0.31,\"windSpeed\":1.56,\"windGust\":12.79,\"windBearing\":100,\"uvIndex\":0}]},\"daily\":{\"data\":[{\"time\":1107331200,\"sunriseTime\":1107357120,\"sunsetTime\":1107393960,\"moonPhase\":0.78,\"precipIntensity\":0,\"precipIntensityMax\":0,\"precipProbability\":0,\"temperatureHigh\":57.95,\"temperatureHighTime\":1107384600,\"temperatureLow\":38.42,\"temperatureLowTime\":1107439200,\"apparentTemperatureHigh\":57.45,\"apparentTemperatureHighTime\":1107384600,\"apparentTemperatureLow\":38.91,\"apparentTemperatureLowTime\":1107439200,\"dewPoint\":14.85,\"humidity\":0.31,\"windSpeed\":3.33,\"windGust\":14.83,\"windGustTime\":1107390840,\"windBearing\":76,\"uvIndex\":0,\"uvIndexTime\":1107331200,\"temperatureMin\":35.03,\"temperatureMinTime\":1107359100,\"temperatureMax\":57.95,\"temperatureMaxTime\":1107384600,\"apparentTemperatureMin\":34.3,\"apparentTemperatureMinTime\":1107338640,\"apparentTemperatureMax\":57.45,\"apparentTemperatureMaxTime\":1107384600}]},\"flags\":{\"sources\":[\"cmc\",\"gfs\",\"hrrr\",\"icon\",\"isd\",\"madis\",\"nam\",\"sref\"],\"nearest-station\":3.312,\"units\":\"us\"},\"offset\":-8}"
   ]
  },
  {
   "cell_type": "code",
   "execution_count": null,
   "metadata": {
    "hidden": true
   },
   "outputs": [],
   "source": []
  },
  {
   "cell_type": "markdown",
   "metadata": {},
   "source": [
    "## Global Fire Data"
   ]
  },
  {
   "cell_type": "markdown",
   "metadata": {},
   "source": [
    "### DBF file"
   ]
  },
  {
   "cell_type": "markdown",
   "metadata": {
    "heading_collapsed": true
   },
   "source": [
    "#### Ignitions"
   ]
  },
  {
   "cell_type": "code",
   "execution_count": 4,
   "metadata": {
    "hidden": true
   },
   "outputs": [],
   "source": [
    "globaldbf = DBF('../data/GlobalFire2016/Global_fire_atlas_V1_ignitions_2016/Global_fire_atlas_V1_ignitions_2016.dbf')"
   ]
  },
  {
   "cell_type": "code",
   "execution_count": 5,
   "metadata": {
    "hidden": true
   },
   "outputs": [
    {
     "data": {
      "text/plain": [
       "887221"
      ]
     },
     "execution_count": 5,
     "metadata": {},
     "output_type": "execute_result"
    }
   ],
   "source": [
    "len(globaldbf)"
   ]
  },
  {
   "cell_type": "code",
   "execution_count": 6,
   "metadata": {
    "hidden": true
   },
   "outputs": [],
   "source": [
    "records = list(globaldbf)"
   ]
  },
  {
   "cell_type": "code",
   "execution_count": 7,
   "metadata": {
    "hidden": true
   },
   "outputs": [
    {
     "name": "stdout",
     "output_type": "stream",
     "text": [
      "OrderedDict([('fire_ID', 1), ('latitude', 20.8438), ('longitude', -156.413), ('size', 0.86), ('perimeter', 4.63), ('start_date', '2016-10-26'), ('start_DOY', 300.0), ('end_date', '2016-11-02'), ('end_DOY', 307.0), ('duration', 8.0), ('expansion', 0.11), ('fire_line', 0.23), ('speed', 0.37), ('direction', 3.0), ('direction_s', 'east'), ('landcover', 12.0), ('landcover_s', 'Croplands'), ('tile_ID', 'h03v06')])\n"
     ]
    }
   ],
   "source": [
    "print(records[0])"
   ]
  },
  {
   "cell_type": "code",
   "execution_count": 8,
   "metadata": {
    "hidden": true
   },
   "outputs": [],
   "source": [
    "df = pd.DataFrame(iter(globaldbf))"
   ]
  },
  {
   "cell_type": "code",
   "execution_count": 9,
   "metadata": {
    "hidden": true,
    "scrolled": false
   },
   "outputs": [
    {
     "data": {
      "text/html": [
       "<div>\n",
       "<style scoped>\n",
       "    .dataframe tbody tr th:only-of-type {\n",
       "        vertical-align: middle;\n",
       "    }\n",
       "\n",
       "    .dataframe tbody tr th {\n",
       "        vertical-align: top;\n",
       "    }\n",
       "\n",
       "    .dataframe thead th {\n",
       "        text-align: right;\n",
       "    }\n",
       "</style>\n",
       "<table border=\"1\" class=\"dataframe\">\n",
       "  <thead>\n",
       "    <tr style=\"text-align: right;\">\n",
       "      <th></th>\n",
       "      <th>fire_ID</th>\n",
       "      <th>latitude</th>\n",
       "      <th>longitude</th>\n",
       "      <th>size</th>\n",
       "      <th>perimeter</th>\n",
       "      <th>start_date</th>\n",
       "      <th>start_DOY</th>\n",
       "      <th>end_date</th>\n",
       "      <th>end_DOY</th>\n",
       "      <th>duration</th>\n",
       "      <th>expansion</th>\n",
       "      <th>fire_line</th>\n",
       "      <th>speed</th>\n",
       "      <th>direction</th>\n",
       "      <th>direction_s</th>\n",
       "      <th>landcover</th>\n",
       "      <th>landcover_s</th>\n",
       "      <th>tile_ID</th>\n",
       "    </tr>\n",
       "  </thead>\n",
       "  <tbody>\n",
       "    <tr>\n",
       "      <th>0</th>\n",
       "      <td>1</td>\n",
       "      <td>20.8438</td>\n",
       "      <td>-156.413</td>\n",
       "      <td>0.86</td>\n",
       "      <td>4.63</td>\n",
       "      <td>2016-10-26</td>\n",
       "      <td>300.0</td>\n",
       "      <td>2016-11-02</td>\n",
       "      <td>307.0</td>\n",
       "      <td>8.0</td>\n",
       "      <td>0.11</td>\n",
       "      <td>0.23</td>\n",
       "      <td>0.37</td>\n",
       "      <td>3.0</td>\n",
       "      <td>east</td>\n",
       "      <td>12.0</td>\n",
       "      <td>Croplands</td>\n",
       "      <td>h03v06</td>\n",
       "    </tr>\n",
       "    <tr>\n",
       "      <th>1</th>\n",
       "      <td>2</td>\n",
       "      <td>20.8396</td>\n",
       "      <td>-156.418</td>\n",
       "      <td>1.50</td>\n",
       "      <td>6.48</td>\n",
       "      <td>2016-10-28</td>\n",
       "      <td>302.0</td>\n",
       "      <td>2016-11-02</td>\n",
       "      <td>307.0</td>\n",
       "      <td>6.0</td>\n",
       "      <td>0.25</td>\n",
       "      <td>0.54</td>\n",
       "      <td>0.57</td>\n",
       "      <td>4.0</td>\n",
       "      <td>southeast</td>\n",
       "      <td>12.0</td>\n",
       "      <td>Croplands</td>\n",
       "      <td>h03v06</td>\n",
       "    </tr>\n",
       "    <tr>\n",
       "      <th>2</th>\n",
       "      <td>3</td>\n",
       "      <td>20.8105</td>\n",
       "      <td>-156.437</td>\n",
       "      <td>0.43</td>\n",
       "      <td>2.78</td>\n",
       "      <td>2016-11-29</td>\n",
       "      <td>334.0</td>\n",
       "      <td>2016-11-29</td>\n",
       "      <td>334.0</td>\n",
       "      <td>1.0</td>\n",
       "      <td>0.43</td>\n",
       "      <td>0.93</td>\n",
       "      <td>0.46</td>\n",
       "      <td>0.0</td>\n",
       "      <td>none</td>\n",
       "      <td>12.0</td>\n",
       "      <td>Croplands</td>\n",
       "      <td>h03v06</td>\n",
       "    </tr>\n",
       "    <tr>\n",
       "      <th>3</th>\n",
       "      <td>4</td>\n",
       "      <td>20.6271</td>\n",
       "      <td>-156.247</td>\n",
       "      <td>18.65</td>\n",
       "      <td>30.56</td>\n",
       "      <td>2016-02-16</td>\n",
       "      <td>47.0</td>\n",
       "      <td>2016-02-20</td>\n",
       "      <td>51.0</td>\n",
       "      <td>5.0</td>\n",
       "      <td>3.73</td>\n",
       "      <td>6.20</td>\n",
       "      <td>2.68</td>\n",
       "      <td>8.0</td>\n",
       "      <td>northwest</td>\n",
       "      <td>7.0</td>\n",
       "      <td>Open shrublands</td>\n",
       "      <td>h03v06</td>\n",
       "    </tr>\n",
       "    <tr>\n",
       "      <th>4</th>\n",
       "      <td>5</td>\n",
       "      <td>19.8063</td>\n",
       "      <td>-155.895</td>\n",
       "      <td>7.72</td>\n",
       "      <td>12.96</td>\n",
       "      <td>2016-03-20</td>\n",
       "      <td>80.0</td>\n",
       "      <td>2016-03-25</td>\n",
       "      <td>85.0</td>\n",
       "      <td>6.0</td>\n",
       "      <td>1.29</td>\n",
       "      <td>2.47</td>\n",
       "      <td>1.39</td>\n",
       "      <td>4.0</td>\n",
       "      <td>southeast</td>\n",
       "      <td>7.0</td>\n",
       "      <td>Open shrublands</td>\n",
       "      <td>h03v07</td>\n",
       "    </tr>\n",
       "  </tbody>\n",
       "</table>\n",
       "</div>"
      ],
      "text/plain": [
       "   fire_ID  latitude  longitude   size  perimeter  start_date  start_DOY  \\\n",
       "0        1   20.8438   -156.413   0.86       4.63  2016-10-26      300.0   \n",
       "1        2   20.8396   -156.418   1.50       6.48  2016-10-28      302.0   \n",
       "2        3   20.8105   -156.437   0.43       2.78  2016-11-29      334.0   \n",
       "3        4   20.6271   -156.247  18.65      30.56  2016-02-16       47.0   \n",
       "4        5   19.8063   -155.895   7.72      12.96  2016-03-20       80.0   \n",
       "\n",
       "     end_date  end_DOY  duration  expansion  fire_line  speed  direction  \\\n",
       "0  2016-11-02    307.0       8.0       0.11       0.23   0.37        3.0   \n",
       "1  2016-11-02    307.0       6.0       0.25       0.54   0.57        4.0   \n",
       "2  2016-11-29    334.0       1.0       0.43       0.93   0.46        0.0   \n",
       "3  2016-02-20     51.0       5.0       3.73       6.20   2.68        8.0   \n",
       "4  2016-03-25     85.0       6.0       1.29       2.47   1.39        4.0   \n",
       "\n",
       "  direction_s  landcover      landcover_s tile_ID  \n",
       "0        east       12.0        Croplands  h03v06  \n",
       "1   southeast       12.0        Croplands  h03v06  \n",
       "2        none       12.0        Croplands  h03v06  \n",
       "3   northwest        7.0  Open shrublands  h03v06  \n",
       "4   southeast        7.0  Open shrublands  h03v07  "
      ]
     },
     "execution_count": 9,
     "metadata": {},
     "output_type": "execute_result"
    }
   ],
   "source": [
    "df.head()"
   ]
  },
  {
   "cell_type": "markdown",
   "metadata": {
    "heading_collapsed": true
   },
   "source": [
    "#### Perimeter"
   ]
  },
  {
   "cell_type": "code",
   "execution_count": 10,
   "metadata": {
    "hidden": true
   },
   "outputs": [],
   "source": [
    "perim2016 = DBF('../data/GlobalFire2016/Global_fire_atlas_V1_perimeter_2016/Global_fire_atlas_V1_perimeter_2016.dbf')"
   ]
  },
  {
   "cell_type": "code",
   "execution_count": 11,
   "metadata": {
    "hidden": true
   },
   "outputs": [],
   "source": [
    "perimdf = pd.DataFrame(iter(perim2016))"
   ]
  },
  {
   "cell_type": "code",
   "execution_count": 12,
   "metadata": {
    "hidden": true,
    "scrolled": true
   },
   "outputs": [
    {
     "data": {
      "text/html": [
       "<div>\n",
       "<style scoped>\n",
       "    .dataframe tbody tr th:only-of-type {\n",
       "        vertical-align: middle;\n",
       "    }\n",
       "\n",
       "    .dataframe tbody tr th {\n",
       "        vertical-align: top;\n",
       "    }\n",
       "\n",
       "    .dataframe thead th {\n",
       "        text-align: right;\n",
       "    }\n",
       "</style>\n",
       "<table border=\"1\" class=\"dataframe\">\n",
       "  <thead>\n",
       "    <tr style=\"text-align: right;\">\n",
       "      <th></th>\n",
       "      <th>fire_ID</th>\n",
       "      <th>lat</th>\n",
       "      <th>lon</th>\n",
       "      <th>size</th>\n",
       "      <th>perimeter</th>\n",
       "      <th>start_date</th>\n",
       "      <th>start_DOY</th>\n",
       "      <th>end_date</th>\n",
       "      <th>end_DOY</th>\n",
       "      <th>duration</th>\n",
       "      <th>expansion</th>\n",
       "      <th>fire_line</th>\n",
       "      <th>speed</th>\n",
       "      <th>direction</th>\n",
       "      <th>direction_s</th>\n",
       "      <th>landcover</th>\n",
       "      <th>landcover_s</th>\n",
       "      <th>tile_ID</th>\n",
       "    </tr>\n",
       "  </thead>\n",
       "  <tbody>\n",
       "    <tr>\n",
       "      <th>0</th>\n",
       "      <td>1</td>\n",
       "      <td>20.8438</td>\n",
       "      <td>-156.412</td>\n",
       "      <td>0.86</td>\n",
       "      <td>4.63</td>\n",
       "      <td>2016-10-26</td>\n",
       "      <td>300.0</td>\n",
       "      <td>2016-11-02</td>\n",
       "      <td>307.0</td>\n",
       "      <td>8.0</td>\n",
       "      <td>0.11</td>\n",
       "      <td>0.23</td>\n",
       "      <td>0.37</td>\n",
       "      <td>3.0</td>\n",
       "      <td>east</td>\n",
       "      <td>12.0</td>\n",
       "      <td>Croplands</td>\n",
       "      <td>h03v06</td>\n",
       "    </tr>\n",
       "    <tr>\n",
       "      <th>1</th>\n",
       "      <td>2</td>\n",
       "      <td>20.8396</td>\n",
       "      <td>-156.416</td>\n",
       "      <td>1.50</td>\n",
       "      <td>6.48</td>\n",
       "      <td>2016-10-28</td>\n",
       "      <td>302.0</td>\n",
       "      <td>2016-11-02</td>\n",
       "      <td>307.0</td>\n",
       "      <td>6.0</td>\n",
       "      <td>0.25</td>\n",
       "      <td>0.54</td>\n",
       "      <td>0.57</td>\n",
       "      <td>4.0</td>\n",
       "      <td>southeast</td>\n",
       "      <td>12.0</td>\n",
       "      <td>Croplands</td>\n",
       "      <td>h03v06</td>\n",
       "    </tr>\n",
       "    <tr>\n",
       "      <th>2</th>\n",
       "      <td>3</td>\n",
       "      <td>20.8104</td>\n",
       "      <td>-156.435</td>\n",
       "      <td>0.43</td>\n",
       "      <td>2.78</td>\n",
       "      <td>2016-11-29</td>\n",
       "      <td>334.0</td>\n",
       "      <td>2016-11-29</td>\n",
       "      <td>334.0</td>\n",
       "      <td>1.0</td>\n",
       "      <td>0.43</td>\n",
       "      <td>0.93</td>\n",
       "      <td>0.46</td>\n",
       "      <td>0.0</td>\n",
       "      <td>none</td>\n",
       "      <td>12.0</td>\n",
       "      <td>Croplands</td>\n",
       "      <td>h03v06</td>\n",
       "    </tr>\n",
       "    <tr>\n",
       "      <th>3</th>\n",
       "      <td>4</td>\n",
       "      <td>20.6271</td>\n",
       "      <td>-156.246</td>\n",
       "      <td>18.65</td>\n",
       "      <td>30.56</td>\n",
       "      <td>2016-02-16</td>\n",
       "      <td>47.0</td>\n",
       "      <td>2016-02-20</td>\n",
       "      <td>51.0</td>\n",
       "      <td>5.0</td>\n",
       "      <td>3.73</td>\n",
       "      <td>6.20</td>\n",
       "      <td>2.68</td>\n",
       "      <td>8.0</td>\n",
       "      <td>northwest</td>\n",
       "      <td>7.0</td>\n",
       "      <td>Open shrublands</td>\n",
       "      <td>h03v06</td>\n",
       "    </tr>\n",
       "    <tr>\n",
       "      <th>4</th>\n",
       "      <td>5</td>\n",
       "      <td>19.8062</td>\n",
       "      <td>-155.893</td>\n",
       "      <td>7.72</td>\n",
       "      <td>12.96</td>\n",
       "      <td>2016-03-20</td>\n",
       "      <td>80.0</td>\n",
       "      <td>2016-03-25</td>\n",
       "      <td>85.0</td>\n",
       "      <td>6.0</td>\n",
       "      <td>1.29</td>\n",
       "      <td>2.47</td>\n",
       "      <td>1.39</td>\n",
       "      <td>4.0</td>\n",
       "      <td>southeast</td>\n",
       "      <td>7.0</td>\n",
       "      <td>Open shrublands</td>\n",
       "      <td>h03v07</td>\n",
       "    </tr>\n",
       "  </tbody>\n",
       "</table>\n",
       "</div>"
      ],
      "text/plain": [
       "   fire_ID      lat      lon   size  perimeter  start_date  start_DOY  \\\n",
       "0        1  20.8438 -156.412   0.86       4.63  2016-10-26      300.0   \n",
       "1        2  20.8396 -156.416   1.50       6.48  2016-10-28      302.0   \n",
       "2        3  20.8104 -156.435   0.43       2.78  2016-11-29      334.0   \n",
       "3        4  20.6271 -156.246  18.65      30.56  2016-02-16       47.0   \n",
       "4        5  19.8062 -155.893   7.72      12.96  2016-03-20       80.0   \n",
       "\n",
       "     end_date  end_DOY  duration  expansion  fire_line  speed  direction  \\\n",
       "0  2016-11-02    307.0       8.0       0.11       0.23   0.37        3.0   \n",
       "1  2016-11-02    307.0       6.0       0.25       0.54   0.57        4.0   \n",
       "2  2016-11-29    334.0       1.0       0.43       0.93   0.46        0.0   \n",
       "3  2016-02-20     51.0       5.0       3.73       6.20   2.68        8.0   \n",
       "4  2016-03-25     85.0       6.0       1.29       2.47   1.39        4.0   \n",
       "\n",
       "  direction_s  landcover      landcover_s tile_ID  \n",
       "0        east       12.0        Croplands  h03v06  \n",
       "1   southeast       12.0        Croplands  h03v06  \n",
       "2        none       12.0        Croplands  h03v06  \n",
       "3   northwest        7.0  Open shrublands  h03v06  \n",
       "4   southeast        7.0  Open shrublands  h03v07  "
      ]
     },
     "execution_count": 12,
     "metadata": {},
     "output_type": "execute_result"
    }
   ],
   "source": [
    "perimdf.head()"
   ]
  },
  {
   "cell_type": "markdown",
   "metadata": {},
   "source": [
    "### Shapefile - shp"
   ]
  },
  {
   "cell_type": "markdown",
   "metadata": {},
   "source": [
    "#### Ignitions"
   ]
  },
  {
   "cell_type": "code",
   "execution_count": 13,
   "metadata": {
    "code_folding": [],
    "collapsed": true
   },
   "outputs": [
    {
     "name": "stdout",
     "output_type": "stream",
     "text": [
      "{'geometry': {'coordinates': (-156.4137448816646, 20.843785222895118),\n",
      "              'type': 'Point'},\n",
      " 'id': '0',\n",
      " 'properties': OrderedDict([('fire_ID', 1),\n",
      "                            ('latitude', 20.8438),\n",
      "                            ('longitude', -156.413),\n",
      "                            ('size', 0.86),\n",
      "                            ('perimeter', 4.63),\n",
      "                            ('start_date', '2016-10-26'),\n",
      "                            ('start_DOY', 300),\n",
      "                            ('end_date', '2016-11-02'),\n",
      "                            ('end_DOY', 307),\n",
      "                            ('duration', 8),\n",
      "                            ('expansion', 0.11),\n",
      "                            ('fire_line', 0.23),\n",
      "                            ('speed', 0.37),\n",
      "                            ('direction', 3),\n",
      "                            ('direction_s', 'east'),\n",
      "                            ('landcover', 12),\n",
      "                            ('landcover_s', 'Croplands'),\n",
      "                            ('tile_ID', 'h03v06')]),\n",
      " 'type': 'Feature'}\n"
     ]
    }
   ],
   "source": [
    "with fiona.open('../data/GlobalFire2016/Global_fire_atlas_V1_ignitions_2016/Global_fire_atlas_V1_ignitions_2016.shp') as src:\n",
    "    pprint.pprint(src[0])"
   ]
  },
  {
   "cell_type": "code",
   "execution_count": 14,
   "metadata": {},
   "outputs": [],
   "source": [
    "gdf = gpd.read_file('../data/GlobalFire2016/Global_fire_atlas_V1_ignitions_2016/Global_fire_atlas_V1_ignitions_2016.shp')"
   ]
  },
  {
   "cell_type": "code",
   "execution_count": 8,
   "metadata": {},
   "outputs": [
    {
     "data": {
      "text/html": [
       "<div>\n",
       "<style scoped>\n",
       "    .dataframe tbody tr th:only-of-type {\n",
       "        vertical-align: middle;\n",
       "    }\n",
       "\n",
       "    .dataframe tbody tr th {\n",
       "        vertical-align: top;\n",
       "    }\n",
       "\n",
       "    .dataframe thead th {\n",
       "        text-align: right;\n",
       "    }\n",
       "</style>\n",
       "<table border=\"1\" class=\"dataframe\">\n",
       "  <thead>\n",
       "    <tr style=\"text-align: right;\">\n",
       "      <th></th>\n",
       "      <th>fire_ID</th>\n",
       "      <th>latitude</th>\n",
       "      <th>longitude</th>\n",
       "      <th>size</th>\n",
       "      <th>perimeter</th>\n",
       "      <th>start_date</th>\n",
       "      <th>start_DOY</th>\n",
       "      <th>end_date</th>\n",
       "      <th>end_DOY</th>\n",
       "      <th>duration</th>\n",
       "      <th>expansion</th>\n",
       "      <th>fire_line</th>\n",
       "      <th>speed</th>\n",
       "      <th>direction</th>\n",
       "      <th>direction_s</th>\n",
       "      <th>landcover</th>\n",
       "      <th>landcover_s</th>\n",
       "      <th>tile_ID</th>\n",
       "      <th>geometry</th>\n",
       "    </tr>\n",
       "  </thead>\n",
       "  <tbody>\n",
       "    <tr>\n",
       "      <th>0</th>\n",
       "      <td>1</td>\n",
       "      <td>20.8438</td>\n",
       "      <td>-156.413</td>\n",
       "      <td>0.86</td>\n",
       "      <td>4.63</td>\n",
       "      <td>2016-10-26</td>\n",
       "      <td>300</td>\n",
       "      <td>2016-11-02</td>\n",
       "      <td>307</td>\n",
       "      <td>8</td>\n",
       "      <td>0.11</td>\n",
       "      <td>0.23</td>\n",
       "      <td>0.37</td>\n",
       "      <td>3</td>\n",
       "      <td>east</td>\n",
       "      <td>12</td>\n",
       "      <td>Croplands</td>\n",
       "      <td>h03v06</td>\n",
       "      <td>POINT (-156.41374 20.84379)</td>\n",
       "    </tr>\n",
       "    <tr>\n",
       "      <th>1</th>\n",
       "      <td>2</td>\n",
       "      <td>20.8396</td>\n",
       "      <td>-156.418</td>\n",
       "      <td>1.50</td>\n",
       "      <td>6.48</td>\n",
       "      <td>2016-10-28</td>\n",
       "      <td>302</td>\n",
       "      <td>2016-11-02</td>\n",
       "      <td>307</td>\n",
       "      <td>6</td>\n",
       "      <td>0.25</td>\n",
       "      <td>0.54</td>\n",
       "      <td>0.57</td>\n",
       "      <td>4</td>\n",
       "      <td>southeast</td>\n",
       "      <td>12</td>\n",
       "      <td>Croplands</td>\n",
       "      <td>h03v06</td>\n",
       "      <td>POINT (-156.41833 20.83962)</td>\n",
       "    </tr>\n",
       "    <tr>\n",
       "      <th>2</th>\n",
       "      <td>3</td>\n",
       "      <td>20.8105</td>\n",
       "      <td>-156.437</td>\n",
       "      <td>0.43</td>\n",
       "      <td>2.78</td>\n",
       "      <td>2016-11-29</td>\n",
       "      <td>334</td>\n",
       "      <td>2016-11-29</td>\n",
       "      <td>334</td>\n",
       "      <td>1</td>\n",
       "      <td>0.43</td>\n",
       "      <td>0.93</td>\n",
       "      <td>0.46</td>\n",
       "      <td>0</td>\n",
       "      <td>none</td>\n",
       "      <td>12</td>\n",
       "      <td>Croplands</td>\n",
       "      <td>h03v06</td>\n",
       "      <td>POINT (-156.43708 20.81045)</td>\n",
       "    </tr>\n",
       "    <tr>\n",
       "      <th>3</th>\n",
       "      <td>4</td>\n",
       "      <td>20.6271</td>\n",
       "      <td>-156.247</td>\n",
       "      <td>18.65</td>\n",
       "      <td>30.56</td>\n",
       "      <td>2016-02-16</td>\n",
       "      <td>47</td>\n",
       "      <td>2016-02-20</td>\n",
       "      <td>51</td>\n",
       "      <td>5</td>\n",
       "      <td>3.73</td>\n",
       "      <td>6.20</td>\n",
       "      <td>2.68</td>\n",
       "      <td>8</td>\n",
       "      <td>northwest</td>\n",
       "      <td>7</td>\n",
       "      <td>Open shrublands</td>\n",
       "      <td>h03v06</td>\n",
       "      <td>POINT (-156.24786 20.62712)</td>\n",
       "    </tr>\n",
       "    <tr>\n",
       "      <th>4</th>\n",
       "      <td>5</td>\n",
       "      <td>19.8063</td>\n",
       "      <td>-155.895</td>\n",
       "      <td>7.72</td>\n",
       "      <td>12.96</td>\n",
       "      <td>2016-03-20</td>\n",
       "      <td>80</td>\n",
       "      <td>2016-03-25</td>\n",
       "      <td>85</td>\n",
       "      <td>6</td>\n",
       "      <td>1.29</td>\n",
       "      <td>2.47</td>\n",
       "      <td>1.39</td>\n",
       "      <td>4</td>\n",
       "      <td>southeast</td>\n",
       "      <td>7</td>\n",
       "      <td>Open shrublands</td>\n",
       "      <td>h03v07</td>\n",
       "      <td>POINT (-155.89512 19.80629)</td>\n",
       "    </tr>\n",
       "  </tbody>\n",
       "</table>\n",
       "</div>"
      ],
      "text/plain": [
       "   fire_ID  latitude  longitude   size  perimeter  start_date  start_DOY  \\\n",
       "0        1   20.8438   -156.413   0.86       4.63  2016-10-26        300   \n",
       "1        2   20.8396   -156.418   1.50       6.48  2016-10-28        302   \n",
       "2        3   20.8105   -156.437   0.43       2.78  2016-11-29        334   \n",
       "3        4   20.6271   -156.247  18.65      30.56  2016-02-16         47   \n",
       "4        5   19.8063   -155.895   7.72      12.96  2016-03-20         80   \n",
       "\n",
       "     end_date  end_DOY  duration  expansion  fire_line  speed  direction  \\\n",
       "0  2016-11-02      307         8       0.11       0.23   0.37          3   \n",
       "1  2016-11-02      307         6       0.25       0.54   0.57          4   \n",
       "2  2016-11-29      334         1       0.43       0.93   0.46          0   \n",
       "3  2016-02-20       51         5       3.73       6.20   2.68          8   \n",
       "4  2016-03-25       85         6       1.29       2.47   1.39          4   \n",
       "\n",
       "  direction_s  landcover      landcover_s tile_ID                     geometry  \n",
       "0        east         12        Croplands  h03v06  POINT (-156.41374 20.84379)  \n",
       "1   southeast         12        Croplands  h03v06  POINT (-156.41833 20.83962)  \n",
       "2        none         12        Croplands  h03v06  POINT (-156.43708 20.81045)  \n",
       "3   northwest          7  Open shrublands  h03v06  POINT (-156.24786 20.62712)  \n",
       "4   southeast          7  Open shrublands  h03v07  POINT (-155.89512 19.80629)  "
      ]
     },
     "execution_count": 8,
     "metadata": {},
     "output_type": "execute_result"
    }
   ],
   "source": [
    "gdf.head()"
   ]
  },
  {
   "cell_type": "code",
   "execution_count": 4,
   "metadata": {},
   "outputs": [
    {
     "data": {
      "text/plain": [
       "<matplotlib.axes._subplots.AxesSubplot at 0x7f30bf7ee1d0>"
      ]
     },
     "execution_count": 4,
     "metadata": {},
     "output_type": "execute_result"
    },
    {
     "data": {
      "image/png": "[encoded data removed]",
      "text/plain": [
       "<Figure size 432x288 with 1 Axes>"
      ]
     },
     "metadata": {
      "needs_background": "light"
     },
     "output_type": "display_data"
    }
   ],
   "source": [
    "#gdf.plot()"
   ]
  },
  {
   "cell_type": "code",
   "execution_count": 15,
   "metadata": {},
   "outputs": [
    {
     "data": {
      "text/plain": [
       "0    POINT (-156.41374 20.84379)\n",
       "1    POINT (-156.41833 20.83962)\n",
       "2    POINT (-156.43708 20.81045)\n",
       "3    POINT (-156.24786 20.62712)\n",
       "4    POINT (-155.89512 19.80629)\n",
       "Name: geometry, dtype: geometry"
      ]
     },
     "execution_count": 15,
     "metadata": {},
     "output_type": "execute_result"
    }
   ],
   "source": [
    "gdf.geometry[:5]"
   ]
  },
  {
   "cell_type": "code",
   "execution_count": 16,
   "metadata": {},
   "outputs": [
    {
     "name": "stdout",
     "output_type": "stream",
     "text": [
      "{'init': 'epsg:4326'}\n"
     ]
    }
   ],
   "source": [
    "print(gdf.crs)"
   ]
  },
  {
   "cell_type": "code",
   "execution_count": 18,
   "metadata": {},
   "outputs": [
    {
     "data": {
      "text/plain": [
       "array(['fire_ID', 'latitude', 'longitude', 'size', 'perimeter',\n",
       "       'start_date', 'start_DOY', 'end_date', 'end_DOY', 'duration',\n",
       "       'expansion', 'fire_line', 'speed', 'direction', 'direction_s',\n",
       "       'landcover', 'landcover_s', 'tile_ID', 'geometry'], dtype=object)"
      ]
     },
     "execution_count": 18,
     "metadata": {},
     "output_type": "execute_result"
    }
   ],
   "source": [
    "gdf.columns.values"
   ]
  },
  {
   "cell_type": "markdown",
   "metadata": {},
   "source": [
    "#### Perimeter"
   ]
  },
  {
   "cell_type": "code",
   "execution_count": 17,
   "metadata": {},
   "outputs": [],
   "source": [
    "gdf1 = gpd.read_file('../data/GlobalFire2016/Global_fire_atlas_V1_perimeter_2016/Global_fire_atlas_V1_perimeter_2016.shp')"
   ]
  },
  {
   "cell_type": "code",
   "execution_count": 19,
   "metadata": {},
   "outputs": [
    {
     "data": {
      "text/html": [
       "<div>\n",
       "<style scoped>\n",
       "    .dataframe tbody tr th:only-of-type {\n",
       "        vertical-align: middle;\n",
       "    }\n",
       "\n",
       "    .dataframe tbody tr th {\n",
       "        vertical-align: top;\n",
       "    }\n",
       "\n",
       "    .dataframe thead th {\n",
       "        text-align: right;\n",
       "    }\n",
       "</style>\n",
       "<table border=\"1\" class=\"dataframe\">\n",
       "  <thead>\n",
       "    <tr style=\"text-align: right;\">\n",
       "      <th></th>\n",
       "      <th>fire_ID</th>\n",
       "      <th>lat</th>\n",
       "      <th>lon</th>\n",
       "      <th>size</th>\n",
       "      <th>perimeter</th>\n",
       "      <th>start_date</th>\n",
       "      <th>start_DOY</th>\n",
       "      <th>end_date</th>\n",
       "      <th>end_DOY</th>\n",
       "      <th>duration</th>\n",
       "      <th>expansion</th>\n",
       "      <th>fire_line</th>\n",
       "      <th>speed</th>\n",
       "      <th>direction</th>\n",
       "      <th>direction_s</th>\n",
       "      <th>landcover</th>\n",
       "      <th>landcover_s</th>\n",
       "      <th>tile_ID</th>\n",
       "      <th>geometry</th>\n",
       "    </tr>\n",
       "  </thead>\n",
       "  <tbody>\n",
       "    <tr>\n",
       "      <th>0</th>\n",
       "      <td>1</td>\n",
       "      <td>20.8438</td>\n",
       "      <td>-156.412</td>\n",
       "      <td>0.86</td>\n",
       "      <td>4.63</td>\n",
       "      <td>2016-10-26</td>\n",
       "      <td>300</td>\n",
       "      <td>2016-11-02</td>\n",
       "      <td>307</td>\n",
       "      <td>8</td>\n",
       "      <td>0.11</td>\n",
       "      <td>0.23</td>\n",
       "      <td>0.37</td>\n",
       "      <td>3</td>\n",
       "      <td>east</td>\n",
       "      <td>12</td>\n",
       "      <td>Croplands</td>\n",
       "      <td>h03v06</td>\n",
       "      <td>POLYGON ((-156.41809 20.84583, -156.40917 20.8...</td>\n",
       "    </tr>\n",
       "    <tr>\n",
       "      <th>1</th>\n",
       "      <td>2</td>\n",
       "      <td>20.8396</td>\n",
       "      <td>-156.416</td>\n",
       "      <td>1.50</td>\n",
       "      <td>6.48</td>\n",
       "      <td>2016-10-28</td>\n",
       "      <td>302</td>\n",
       "      <td>2016-11-02</td>\n",
       "      <td>307</td>\n",
       "      <td>6</td>\n",
       "      <td>0.25</td>\n",
       "      <td>0.54</td>\n",
       "      <td>0.57</td>\n",
       "      <td>4</td>\n",
       "      <td>southeast</td>\n",
       "      <td>12</td>\n",
       "      <td>Croplands</td>\n",
       "      <td>h03v06</td>\n",
       "      <td>POLYGON ((-156.42268 20.84167, -156.41822 20.8...</td>\n",
       "    </tr>\n",
       "    <tr>\n",
       "      <th>2</th>\n",
       "      <td>3</td>\n",
       "      <td>20.8104</td>\n",
       "      <td>-156.435</td>\n",
       "      <td>0.43</td>\n",
       "      <td>2.78</td>\n",
       "      <td>2016-11-29</td>\n",
       "      <td>334</td>\n",
       "      <td>2016-11-29</td>\n",
       "      <td>334</td>\n",
       "      <td>1</td>\n",
       "      <td>0.43</td>\n",
       "      <td>0.93</td>\n",
       "      <td>0.46</td>\n",
       "      <td>0</td>\n",
       "      <td>none</td>\n",
       "      <td>12</td>\n",
       "      <td>Croplands</td>\n",
       "      <td>h03v06</td>\n",
       "      <td>POLYGON ((-156.44142 20.81250, -156.43251 20.8...</td>\n",
       "    </tr>\n",
       "    <tr>\n",
       "      <th>3</th>\n",
       "      <td>4</td>\n",
       "      <td>20.6271</td>\n",
       "      <td>-156.246</td>\n",
       "      <td>18.65</td>\n",
       "      <td>30.56</td>\n",
       "      <td>2016-02-16</td>\n",
       "      <td>47</td>\n",
       "      <td>2016-02-20</td>\n",
       "      <td>51</td>\n",
       "      <td>5</td>\n",
       "      <td>3.73</td>\n",
       "      <td>6.20</td>\n",
       "      <td>2.68</td>\n",
       "      <td>8</td>\n",
       "      <td>northwest</td>\n",
       "      <td>7</td>\n",
       "      <td>Open shrublands</td>\n",
       "      <td>h03v06</td>\n",
       "      <td>POLYGON ((-156.27803 20.65000, -156.26912 20.6...</td>\n",
       "    </tr>\n",
       "    <tr>\n",
       "      <th>4</th>\n",
       "      <td>5</td>\n",
       "      <td>19.8062</td>\n",
       "      <td>-155.893</td>\n",
       "      <td>7.72</td>\n",
       "      <td>12.96</td>\n",
       "      <td>2016-03-20</td>\n",
       "      <td>80</td>\n",
       "      <td>2016-03-25</td>\n",
       "      <td>85</td>\n",
       "      <td>6</td>\n",
       "      <td>1.29</td>\n",
       "      <td>2.47</td>\n",
       "      <td>1.39</td>\n",
       "      <td>4</td>\n",
       "      <td>southeast</td>\n",
       "      <td>7</td>\n",
       "      <td>Open shrublands</td>\n",
       "      <td>h03v07</td>\n",
       "      <td>POLYGON ((-155.90819 19.80833, -155.88604 19.8...</td>\n",
       "    </tr>\n",
       "  </tbody>\n",
       "</table>\n",
       "</div>"
      ],
      "text/plain": [
       "   fire_ID      lat      lon   size  perimeter  start_date  start_DOY  \\\n",
       "0        1  20.8438 -156.412   0.86       4.63  2016-10-26        300   \n",
       "1        2  20.8396 -156.416   1.50       6.48  2016-10-28        302   \n",
       "2        3  20.8104 -156.435   0.43       2.78  2016-11-29        334   \n",
       "3        4  20.6271 -156.246  18.65      30.56  2016-02-16         47   \n",
       "4        5  19.8062 -155.893   7.72      12.96  2016-03-20         80   \n",
       "\n",
       "     end_date  end_DOY  duration  expansion  fire_line  speed  direction  \\\n",
       "0  2016-11-02      307         8       0.11       0.23   0.37          3   \n",
       "1  2016-11-02      307         6       0.25       0.54   0.57          4   \n",
       "2  2016-11-29      334         1       0.43       0.93   0.46          0   \n",
       "3  2016-02-20       51         5       3.73       6.20   2.68          8   \n",
       "4  2016-03-25       85         6       1.29       2.47   1.39          4   \n",
       "\n",
       "  direction_s  landcover      landcover_s tile_ID  \\\n",
       "0        east         12        Croplands  h03v06   \n",
       "1   southeast         12        Croplands  h03v06   \n",
       "2        none         12        Croplands  h03v06   \n",
       "3   northwest          7  Open shrublands  h03v06   \n",
       "4   southeast          7  Open shrublands  h03v07   \n",
       "\n",
       "                                            geometry  \n",
       "0  POLYGON ((-156.41809 20.84583, -156.40917 20.8...  \n",
       "1  POLYGON ((-156.42268 20.84167, -156.41822 20.8...  \n",
       "2  POLYGON ((-156.44142 20.81250, -156.43251 20.8...  \n",
       "3  POLYGON ((-156.27803 20.65000, -156.26912 20.6...  \n",
       "4  POLYGON ((-155.90819 19.80833, -155.88604 19.8...  "
      ]
     },
     "execution_count": 19,
     "metadata": {},
     "output_type": "execute_result"
    }
   ],
   "source": [
    "gdf1.head()"
   ]
  },
  {
   "cell_type": "code",
   "execution_count": 20,
   "metadata": {},
   "outputs": [
    {
     "data": {
      "text/plain": [
       "array(['fire_ID', 'lat', 'lon', 'size', 'perimeter', 'start_date',\n",
       "       'start_DOY', 'end_date', 'end_DOY', 'duration', 'expansion',\n",
       "       'fire_line', 'speed', 'direction', 'direction_s', 'landcover',\n",
       "       'landcover_s', 'tile_ID', 'geometry'], dtype=object)"
      ]
     },
     "execution_count": 20,
     "metadata": {},
     "output_type": "execute_result"
    }
   ],
   "source": [
    "gdf1.columns.values"
   ]
  },
  {
   "cell_type": "code",
   "execution_count": 21,
   "metadata": {},
   "outputs": [
    {
     "data": {
      "image/svg+xml": [
       "<svg xmlns=\"http://www.w3.org/2000/svg\" xmlns:xlink=\"http://www.w3.org/1999/xlink\" width=\"100.0\" height=\"100.0\" viewBox=\"-156.41875209270648 20.83696499108582 0.014445189355768662 0.00940334735894055\" preserveAspectRatio=\"xMinYMin meet\"><g transform=\"matrix(1,0,0,-1,0,41.68333332953058)\"><path fill-rule=\"evenodd\" fill=\"#66cc99\" stroke=\"#555555\" stroke-width=\"0.00028890378711537323\" opacity=\"0.6\" d=\"M -156.41808955000099,20.845833331431585 L -156.40917251955602,20.845833331431585 L -156.4048419103639,20.84166666476529 L -156.40930030214037,20.84166666476529 L -156.40497063643588,20.837499998099 L -156.41388717315763,20.837499998099 L -156.4182170856933,20.84166666476529 L -156.41375869391683,20.84166666476529 L -156.41808955000099,20.845833331431585 z\" /></g></svg>"
      ],
      "text/plain": [
       "<shapely.geometry.polygon.Polygon at 0x26c0ff0ed88>"
      ]
     },
     "execution_count": 21,
     "metadata": {},
     "output_type": "execute_result"
    }
   ],
   "source": [
    "gdf1.geometry[0]"
   ]
  },
  {
   "cell_type": "code",
   "execution_count": 22,
   "metadata": {},
   "outputs": [
    {
     "data": {
      "text/plain": [
       "<matplotlib.axes._subplots.AxesSubplot at 0x26c0ff16c88>"
      ]
     },
     "execution_count": 22,
     "metadata": {},
     "output_type": "execute_result"
    },
    {
     "data": {
      "image/png": "[encoded data removed]",
      "text/plain": [
       "<Figure size 432x288 with 1 Axes>"
      ]
     },
     "metadata": {
      "needs_background": "light"
     },
     "output_type": "display_data"
    }
   ],
   "source": [
    "gdf1[0:3].plot()"
   ]
  },
  {
   "cell_type": "markdown",
   "metadata": {},
   "source": [
    "#### Combine Geom Ignition and Perimeter columns into single dataframe. pickle out"
   ]
  },
  {
   "cell_type": "code",
   "execution_count": null,
   "metadata": {},
   "outputs": [],
   "source": [
    "perims = gdf1['geometry']"
   ]
  },
  {
   "cell_type": "code",
   "execution_count": 25,
   "metadata": {},
   "outputs": [],
   "source": [
    "geomsdf = copy.deepcopy(gdf)"
   ]
  },
  {
   "cell_type": "code",
   "execution_count": 30,
   "metadata": {},
   "outputs": [],
   "source": [
    "geomsdf.rename(columns={'geometry':'ignition_pt'},inplace=True)"
   ]
  },
  {
   "cell_type": "code",
   "execution_count": 32,
   "metadata": {},
   "outputs": [],
   "source": [
    "geomsdf['perimeter']=perims"
   ]
  },
  {
   "cell_type": "code",
   "execution_count": 37,
   "metadata": {},
   "outputs": [
    {
     "name": "stdout",
     "output_type": "stream",
     "text": [
      "Wall time: 36 s\n"
     ]
    }
   ],
   "source": [
    "%%time\n",
    "with open('../data/GlobalFire2016/Global_fire_atlas_V1_combined2016.pickle','wb') as f:\n",
    "    pickle.dump(geomsdf,f,pickle.HIGHEST_PROTOCOL)"
   ]
  },
  {
   "cell_type": "code",
   "execution_count": null,
   "metadata": {},
   "outputs": [],
   "source": []
  },
  {
   "cell_type": "markdown",
   "metadata": {},
   "source": [
    "### GEOTiff"
   ]
  },
  {
   "cell_type": "code",
   "execution_count": 22,
   "metadata": {},
   "outputs": [
    {
     "data": {
      "text/plain": [
       "<open DatasetReader name='../data/GlobalFire2016/Global_fire_atlas_day_of_burn_yearly_2016.tif' mode='r'>"
      ]
     },
     "execution_count": 22,
     "metadata": {},
     "output_type": "execute_result"
    }
   ],
   "source": [
    "dob = rio.open('../data/GlobalFire2016/Global_fire_atlas_day_of_burn_yearly_2016.tif')\n",
    "dob"
   ]
  },
  {
   "cell_type": "code",
   "execution_count": 23,
   "metadata": {},
   "outputs": [
    {
     "data": {
      "text/plain": [
       "'../data/GlobalFire2016/Global_fire_atlas_day_of_burn_yearly_2016.tif'"
      ]
     },
     "execution_count": 23,
     "metadata": {},
     "output_type": "execute_result"
    }
   ],
   "source": [
    "dob.name"
   ]
  },
  {
   "cell_type": "code",
   "execution_count": 24,
   "metadata": {},
   "outputs": [
    {
     "data": {
      "text/plain": [
       "'r'"
      ]
     },
     "execution_count": 24,
     "metadata": {},
     "output_type": "execute_result"
    }
   ],
   "source": [
    "dob.mode"
   ]
  },
  {
   "cell_type": "code",
   "execution_count": 25,
   "metadata": {},
   "outputs": [
    {
     "data": {
      "text/plain": [
       "False"
      ]
     },
     "execution_count": 25,
     "metadata": {},
     "output_type": "execute_result"
    }
   ],
   "source": [
    "dob.closed"
   ]
  },
  {
   "cell_type": "code",
   "execution_count": 6,
   "metadata": {},
   "outputs": [
    {
     "data": {
      "text/plain": [
       "{'driver': 'GTiff',\n",
       " 'dtype': 'int32',\n",
       " 'nodata': -9999.0,\n",
       " 'width': 81600,\n",
       " 'height': 31200,\n",
       " 'count': 1,\n",
       " 'crs': CRS.from_wkt('PROJCS[\"unnamed\",GEOGCS[\"Unknown datum based upon the custom spheroid\",DATUM[\"Not_specified_based_on_custom_spheroid\",SPHEROID[\"Custom spheroid\",6371007.181,0]],PRIMEM[\"Greenwich\",0],UNIT[\"degree\",0.0174532925199433]],PROJECTION[\"Sinusoidal\"],PARAMETER[\"longitude_of_center\",0],PARAMETER[\"false_easting\",0],PARAMETER[\"false_northing\",0],UNIT[\"metre\",1,AUTHORITY[\"EPSG\",\"9001\"]]]'),\n",
       " 'transform': Affine(463.3127165279165, 0.0, -20015109.354,\n",
       "        0.0, -463.3127165279167, 7783653.637666)}"
      ]
     },
     "execution_count": 6,
     "metadata": {},
     "output_type": "execute_result"
    }
   ],
   "source": [
    "dob.meta"
   ]
  },
  {
   "cell_type": "code",
   "execution_count": 7,
   "metadata": {},
   "outputs": [
    {
     "data": {
      "text/plain": [
       "(463.3127165279165, 463.3127165279167)"
      ]
     },
     "execution_count": 7,
     "metadata": {},
     "output_type": "execute_result"
    }
   ],
   "source": [
    "dob.res"
   ]
  },
  {
   "cell_type": "code",
   "execution_count": 26,
   "metadata": {},
   "outputs": [
    {
     "name": "stdout",
     "output_type": "stream",
     "text": [
      "{'COMPRESSION': 'LZW', 'INTERLEAVE': 'BAND'}\n"
     ]
    }
   ],
   "source": [
    "print(dob.tags(ns='IMAGE_STRUCTURE'))"
   ]
  },
  {
   "cell_type": "code",
   "execution_count": 27,
   "metadata": {},
   "outputs": [
    {
     "name": "stdout",
     "output_type": "stream",
     "text": [
      "(31200, 81600)\n",
      "BoundingBox(left=-20015109.354, bottom=-6671703.118005, right=17791208.314677987, top=7783653.637666)\n",
      "number of layers =  1\n",
      "number of bands (1,)\n"
     ]
    }
   ],
   "source": [
    "print(dob.shape)\n",
    "print(dob.bounds)\n",
    "print(\"number of layers = \",dob.count)\n",
    "print(\"number of bands\", dob.indexes)"
   ]
  },
  {
   "cell_type": "code",
   "execution_count": 21,
   "metadata": {},
   "outputs": [
    {
     "ename": "TypeError",
     "evalue": "'DatasetReader' object is not iterable",
     "output_type": "error",
     "traceback": [
      "\u001b[0;31m---------------------------------------------------------------------------\u001b[0m",
      "\u001b[0;31mTypeError\u001b[0m                                 Traceback (most recent call last)",
      "\u001b[0;32m<ipython-input-21-bef3e3366371>\u001b[0m in \u001b[0;36m<module>\u001b[0;34m\u001b[0m\n\u001b[1;32m      1\u001b[0m \u001b[0;32mwith\u001b[0m \u001b[0mrio\u001b[0m\u001b[0;34m.\u001b[0m\u001b[0mopen\u001b[0m\u001b[0;34m(\u001b[0m\u001b[0;34m'../data/GlobalFire2016/Global_fire_atlas_day_of_burn_yearly_2016.tif'\u001b[0m\u001b[0;34m)\u001b[0m \u001b[0;32mas\u001b[0m \u001b[0mdob\u001b[0m\u001b[0;34m:\u001b[0m\u001b[0;34m\u001b[0m\u001b[0;34m\u001b[0m\u001b[0m\n\u001b[0;32m----> 2\u001b[0;31m     \u001b[0mtifdf\u001b[0m \u001b[0;34m=\u001b[0m \u001b[0mpd\u001b[0m\u001b[0;34m.\u001b[0m\u001b[0mDataFrame\u001b[0m\u001b[0;34m(\u001b[0m\u001b[0miter\u001b[0m\u001b[0;34m(\u001b[0m\u001b[0mdob\u001b[0m\u001b[0;34m)\u001b[0m\u001b[0;34m)\u001b[0m\u001b[0;34m\u001b[0m\u001b[0;34m\u001b[0m\u001b[0m\n\u001b[0m",
      "\u001b[0;31mTypeError\u001b[0m: 'DatasetReader' object is not iterable"
     ]
    }
   ],
   "source": [
    "dob_array = array"
   ]
  },
  {
   "cell_type": "code",
   "execution_count": null,
   "metadata": {},
   "outputs": [],
   "source": []
  }
 ],
 "metadata": {
  "kernelspec": {
   "display_name": "Python 3",
   "language": "python",
   "name": "python3"
  },
  "language_info": {
   "codemirror_mode": {
    "name": "ipython",
    "version": 3
   },
   "file_extension": ".py",
   "mimetype": "text/x-python",
   "name": "python",
   "nbconvert_exporter": "python",
   "pygments_lexer": "ipython3",
   "version": "3.7.6"
  },
  "toc": {
   "base_numbering": 1,
   "nav_menu": {},
   "number_sections": true,
   "sideBar": true,
   "skip_h1_title": false,
   "title_cell": "Table of Contents",
   "title_sidebar": "Contents",
   "toc_cell": false,
   "toc_position": {},
   "toc_section_display": true,
   "toc_window_display": true
  }
 },
 "nbformat": 4,
 "nbformat_minor": 2
}
