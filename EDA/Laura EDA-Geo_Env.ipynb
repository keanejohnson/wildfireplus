{
 "cells": [
  {
   "cell_type": "code",
   "execution_count": 79,
   "metadata": {},
   "outputs": [
    {
     "name": "stdout",
     "output_type": "stream",
     "text": [
      "Python Version = 3.7.6 (default, Jan  8 2020, 20:23:39) [MSC v.1916 64 bit (AMD64)]\n",
      "Pandas Version = 1.0.0\n",
      "Geopandas Version = 0.6.2\n",
      "rasterio version = 3.0.2\n"
     ]
    }
   ],
   "source": [
    "import pandas as pd\n",
    "import matplotlib.pyplot as plt\n",
    "import sys\n",
    "import csv\n",
    "import numpy as np\n",
    "import os\n",
    "import sqlite3\n",
    "import copy\n",
    "from dbfread import DBF\n",
    "import geopandas as gpd\n",
    "import fiona\n",
    "import pprint\n",
    "import folium\n",
    "import descartes\n",
    "import rasterio as rio\n",
    "import earthpy as et\n",
    "import pickle\n",
    "\n",
    "print(f\"Python Version = {sys.version}\")\n",
    "print(f\"Pandas Version = {pd.__version__}\")\n",
    "print(f\"Geopandas Version = {gpd.__version__}\")\n",
    "print(f\"rasterio version = {rio._base.gdal_version()}\")"
   ]
  },
  {
   "cell_type": "markdown",
   "metadata": {
    "heading_collapsed": true
   },
   "source": [
    "# Definitions"
   ]
  },
  {
   "cell_type": "markdown",
   "metadata": {
    "hidden": true
   },
   "source": [
    "1) Fine Fuel Moisture Code\n",
    "The Fine Fuel Moisture Code (FFMC) is a numeric rating of the moisture content of litter and other cured fine fuels. This code is an indicator of the relative ease of ignition and the flammability of fine fuel.\n",
    "\n",
    "2) Duff Moisture Code\n",
    "The Duff Moisture Code (DMC) is a numeric rating of the average moisture content of loosely compacted organic layers of moderate depth. This code gives an indication of fuel consumption in moderate duff layers and medium-size woody material.\n",
    "\n",
    "3) Drought Code\n",
    "The Drought Code (DC) is a numeric rating of the average moisture content of deep, compact organic layers. This code is a useful indicator of seasonal drought effects on forest fuels and the amount of smoldering in deep duff layers and large logs.\n",
    "\n",
    "4)  Initial Spread Index\n",
    "The Initial Spread Index (ISI) is a numeric rating of the expected rate of fire spread. It combines the effects of wind and the FFMC on rate of spread without the influence of variable quantities of fuel.\n",
    "\n",
    "https://cwfis.cfs.nrcan.gc.ca/background/summary/fwi\n",
    "\n",
    "5) Temp\n",
    "Temperature in Celsius degrees\n",
    "\n",
    "6) RH\n",
    "Relative humidity in %\n",
    "\n",
    "7) Wind\n",
    "Wind speed in km/h\n",
    "\n",
    "8) Rain\n",
    "Outside rain in mm/m2\n",
    "\n",
    "9) Area\n",
    "The burned area of the forest (in ha), ha = hectare = 2.47 acres\n",
    "\n",
    "10) X\n",
    "x-axis spatial coordinate within the Montesinho park map: 1 to 9 2\n",
    "\n",
    "11) Y\n",
    "y-axis spatial coordinate within the Montesinho park map: 2 to 9 3"
   ]
  },
  {
   "cell_type": "markdown",
   "metadata": {
    "hidden": true
   },
   "source": [
    "Literature:\n",
    "\n",
    "https://news.uci.edu/2019/09/17/uci-team-uses-machine-learning-to-help-tell-which-wildfires-will-burn-out-of-control/\n",
    "\n",
    "In the original paper (Portugal - Montesinho fires), the best result (predicting burned area) was only using the 4 weather conditions: RH/Wind/Rain/Temp, and an SVM.\n",
    "\n",
    "This: https://datasetsearch.research.google.com/search?query=wildfire%20area&docid=fchFFzqh0O3qjX3PAAAAAA%3D%3D has georeferenced and date/time referenced with areas. Could combine with weather data for those dates/times."
   ]
  },
  {
   "cell_type": "markdown",
   "metadata": {},
   "source": [
    "# Query shape of datasets and feature names"
   ]
  },
  {
   "cell_type": "code",
   "execution_count": 2,
   "metadata": {},
   "outputs": [
    {
     "data": {
      "text/plain": [
       "'C:\\\\DDRIVE\\\\W210 Capstone\\\\wildfireplus\\\\EDA'"
      ]
     },
     "execution_count": 2,
     "metadata": {},
     "output_type": "execute_result"
    }
   ],
   "source": [
    "os.getcwd()"
   ]
  },
  {
   "cell_type": "markdown",
   "metadata": {
    "heading_collapsed": true
   },
   "source": [
    "## Montesinho"
   ]
  },
  {
   "cell_type": "code",
   "execution_count": null,
   "metadata": {
    "hidden": true
   },
   "outputs": [],
   "source": [
    "montesinho = pd.read_csv('../data/Montesinho/forestfires.csv')"
   ]
  },
  {
   "cell_type": "code",
   "execution_count": 22,
   "metadata": {
    "hidden": true
   },
   "outputs": [
    {
     "name": "stdout",
     "output_type": "stream",
     "text": [
      "(517, 13)\n"
     ]
    },
    {
     "data": {
      "text/html": [
       "<div>\n",
       "<style scoped>\n",
       "    .dataframe tbody tr th:only-of-type {\n",
       "        vertical-align: middle;\n",
       "    }\n",
       "\n",
       "    .dataframe tbody tr th {\n",
       "        vertical-align: top;\n",
       "    }\n",
       "\n",
       "    .dataframe thead th {\n",
       "        text-align: right;\n",
       "    }\n",
       "</style>\n",
       "<table border=\"1\" class=\"dataframe\">\n",
       "  <thead>\n",
       "    <tr style=\"text-align: right;\">\n",
       "      <th></th>\n",
       "      <th>X</th>\n",
       "      <th>Y</th>\n",
       "      <th>month</th>\n",
       "      <th>day</th>\n",
       "      <th>FFMC</th>\n",
       "      <th>DMC</th>\n",
       "      <th>DC</th>\n",
       "      <th>ISI</th>\n",
       "      <th>temp</th>\n",
       "      <th>RH</th>\n",
       "      <th>wind</th>\n",
       "      <th>rain</th>\n",
       "      <th>area</th>\n",
       "    </tr>\n",
       "  </thead>\n",
       "  <tbody>\n",
       "    <tr>\n",
       "      <td>0</td>\n",
       "      <td>7</td>\n",
       "      <td>5</td>\n",
       "      <td>mar</td>\n",
       "      <td>fri</td>\n",
       "      <td>86.2</td>\n",
       "      <td>26.2</td>\n",
       "      <td>94.3</td>\n",
       "      <td>5.1</td>\n",
       "      <td>8.2</td>\n",
       "      <td>51</td>\n",
       "      <td>6.7</td>\n",
       "      <td>0.0</td>\n",
       "      <td>0.0</td>\n",
       "    </tr>\n",
       "    <tr>\n",
       "      <td>1</td>\n",
       "      <td>7</td>\n",
       "      <td>4</td>\n",
       "      <td>oct</td>\n",
       "      <td>tue</td>\n",
       "      <td>90.6</td>\n",
       "      <td>35.4</td>\n",
       "      <td>669.1</td>\n",
       "      <td>6.7</td>\n",
       "      <td>18.0</td>\n",
       "      <td>33</td>\n",
       "      <td>0.9</td>\n",
       "      <td>0.0</td>\n",
       "      <td>0.0</td>\n",
       "    </tr>\n",
       "    <tr>\n",
       "      <td>2</td>\n",
       "      <td>7</td>\n",
       "      <td>4</td>\n",
       "      <td>oct</td>\n",
       "      <td>sat</td>\n",
       "      <td>90.6</td>\n",
       "      <td>43.7</td>\n",
       "      <td>686.9</td>\n",
       "      <td>6.7</td>\n",
       "      <td>14.6</td>\n",
       "      <td>33</td>\n",
       "      <td>1.3</td>\n",
       "      <td>0.0</td>\n",
       "      <td>0.0</td>\n",
       "    </tr>\n",
       "    <tr>\n",
       "      <td>3</td>\n",
       "      <td>8</td>\n",
       "      <td>6</td>\n",
       "      <td>mar</td>\n",
       "      <td>fri</td>\n",
       "      <td>91.7</td>\n",
       "      <td>33.3</td>\n",
       "      <td>77.5</td>\n",
       "      <td>9.0</td>\n",
       "      <td>8.3</td>\n",
       "      <td>97</td>\n",
       "      <td>4.0</td>\n",
       "      <td>0.2</td>\n",
       "      <td>0.0</td>\n",
       "    </tr>\n",
       "    <tr>\n",
       "      <td>4</td>\n",
       "      <td>8</td>\n",
       "      <td>6</td>\n",
       "      <td>mar</td>\n",
       "      <td>sun</td>\n",
       "      <td>89.3</td>\n",
       "      <td>51.3</td>\n",
       "      <td>102.2</td>\n",
       "      <td>9.6</td>\n",
       "      <td>11.4</td>\n",
       "      <td>99</td>\n",
       "      <td>1.8</td>\n",
       "      <td>0.0</td>\n",
       "      <td>0.0</td>\n",
       "    </tr>\n",
       "  </tbody>\n",
       "</table>\n",
       "</div>"
      ],
      "text/plain": [
       "   X  Y month  day  FFMC   DMC     DC  ISI  temp  RH  wind  rain  area\n",
       "0  7  5   mar  fri  86.2  26.2   94.3  5.1   8.2  51   6.7   0.0   0.0\n",
       "1  7  4   oct  tue  90.6  35.4  669.1  6.7  18.0  33   0.9   0.0   0.0\n",
       "2  7  4   oct  sat  90.6  43.7  686.9  6.7  14.6  33   1.3   0.0   0.0\n",
       "3  8  6   mar  fri  91.7  33.3   77.5  9.0   8.3  97   4.0   0.2   0.0\n",
       "4  8  6   mar  sun  89.3  51.3  102.2  9.6  11.4  99   1.8   0.0   0.0"
      ]
     },
     "execution_count": 22,
     "metadata": {},
     "output_type": "execute_result"
    }
   ],
   "source": [
    "print(montesinho.shape)\n",
    "montesinho.head()"
   ]
  },
  {
   "cell_type": "markdown",
   "metadata": {
    "heading_collapsed": true
   },
   "source": [
    "## US Fires 1.88 Million"
   ]
  },
  {
   "cell_type": "code",
   "execution_count": 9,
   "metadata": {
    "hidden": true
   },
   "outputs": [],
   "source": [
    "db = sqlite3.connect('../data/188millionuswildfires/FPA_FOD_20170508.sqlite')"
   ]
  },
  {
   "cell_type": "code",
   "execution_count": 10,
   "metadata": {
    "hidden": true
   },
   "outputs": [
    {
     "data": {
      "text/plain": [
       "[('spatial_ref_sys',),\n",
       " ('spatialite_history',),\n",
       " ('sqlite_sequence',),\n",
       " ('geometry_columns',),\n",
       " ('spatial_ref_sys_aux',),\n",
       " ('views_geometry_columns',),\n",
       " ('virts_geometry_columns',),\n",
       " ('geometry_columns_statistics',),\n",
       " ('views_geometry_columns_statistics',),\n",
       " ('virts_geometry_columns_statistics',),\n",
       " ('geometry_columns_field_infos',),\n",
       " ('views_geometry_columns_field_infos',),\n",
       " ('virts_geometry_columns_field_infos',),\n",
       " ('geometry_columns_time',),\n",
       " ('geometry_columns_auth',),\n",
       " ('views_geometry_columns_auth',),\n",
       " ('virts_geometry_columns_auth',),\n",
       " ('sql_statements_log',),\n",
       " ('SpatialIndex',),\n",
       " ('ElementaryGeometries',),\n",
       " ('KNN',),\n",
       " ('Fires',),\n",
       " ('idx_Fires_Shape',),\n",
       " ('idx_Fires_Shape_node',),\n",
       " ('idx_Fires_Shape_rowid',),\n",
       " ('idx_Fires_Shape_parent',),\n",
       " ('NWCG_UnitIDActive_20170109',)]"
      ]
     },
     "execution_count": 10,
     "metadata": {},
     "output_type": "execute_result"
    }
   ],
   "source": [
    "cursorobj = db.cursor()\n",
    "cursorobj.execute('SELECT name from sqlite_master where type = \"table\"')\n",
    "tables1 = cursorobj.fetchall()\n",
    "tables1"
   ]
  },
  {
   "cell_type": "code",
   "execution_count": 11,
   "metadata": {
    "hidden": true
   },
   "outputs": [
    {
     "data": {
      "text/plain": [
       "[('spatial_ref_sys',),\n",
       " ('spatialite_history',),\n",
       " ('sqlite_sequence',),\n",
       " ('geometry_columns',),\n",
       " ('spatial_ref_sys_aux',),\n",
       " ('views_geometry_columns',),\n",
       " ('virts_geometry_columns',),\n",
       " ('geometry_columns_statistics',),\n",
       " ('views_geometry_columns_statistics',),\n",
       " ('virts_geometry_columns_statistics',),\n",
       " ('geometry_columns_field_infos',),\n",
       " ('views_geometry_columns_field_infos',),\n",
       " ('virts_geometry_columns_field_infos',),\n",
       " ('geometry_columns_time',),\n",
       " ('geometry_columns_auth',),\n",
       " ('views_geometry_columns_auth',),\n",
       " ('virts_geometry_columns_auth',),\n",
       " ('sql_statements_log',),\n",
       " ('Fires',),\n",
       " ('idx_Fires_Shape_node',),\n",
       " ('idx_Fires_Shape_rowid',),\n",
       " ('idx_Fires_Shape_parent',),\n",
       " ('NWCG_UnitIDActive_20170109',)]"
      ]
     },
     "execution_count": 11,
     "metadata": {},
     "output_type": "execute_result"
    }
   ],
   "source": [
    "tables2 = copy.deepcopy(tables1)\n",
    "del tables2[18:21]\n",
    "tables2\n",
    "del tables2[19]\n",
    "tables2"
   ]
  },
  {
   "cell_type": "code",
   "execution_count": 12,
   "metadata": {
    "hidden": true
   },
   "outputs": [
    {
     "name": "stdout",
     "output_type": "stream",
     "text": [
      "('spatial_ref_sys',) ['srid', 'auth_name', 'auth_srid', 'ref_sys_name', 'proj4text', 'srtext']\n",
      "('spatialite_history',) ['event_id', 'table_name', 'geometry_column', 'event', 'timestamp', 'ver_sqlite', 'ver_splite']\n",
      "('sqlite_sequence',) ['name', 'seq']\n",
      "('geometry_columns',) ['f_table_name', 'f_geometry_column', 'geometry_type', 'coord_dimension', 'srid', 'spatial_index_enabled']\n",
      "('spatial_ref_sys_aux',) ['srid', 'is_geographic', 'has_flipped_axes', 'spheroid', 'prime_meridian', 'datum', 'projection', 'unit', 'axis_1_name', 'axis_1_orientation', 'axis_2_name', 'axis_2_orientation']\n",
      "('views_geometry_columns',) ['view_name', 'view_geometry', 'view_rowid', 'f_table_name', 'f_geometry_column', 'read_only']\n",
      "('virts_geometry_columns',) ['virt_name', 'virt_geometry', 'geometry_type', 'coord_dimension', 'srid']\n",
      "('geometry_columns_statistics',) ['f_table_name', 'f_geometry_column', 'last_verified', 'row_count', 'extent_min_x', 'extent_min_y', 'extent_max_x', 'extent_max_y']\n",
      "('views_geometry_columns_statistics',) ['view_name', 'view_geometry', 'last_verified', 'row_count', 'extent_min_x', 'extent_min_y', 'extent_max_x', 'extent_max_y']\n",
      "('virts_geometry_columns_statistics',) ['virt_name', 'virt_geometry', 'last_verified', 'row_count', 'extent_min_x', 'extent_min_y', 'extent_max_x', 'extent_max_y']\n",
      "('geometry_columns_field_infos',) ['f_table_name', 'f_geometry_column', 'ordinal', 'column_name', 'null_values', 'integer_values', 'double_values', 'text_values', 'blob_values', 'max_size', 'integer_min', 'integer_max', 'double_min', 'double_max']\n",
      "('views_geometry_columns_field_infos',) ['view_name', 'view_geometry', 'ordinal', 'column_name', 'null_values', 'integer_values', 'double_values', 'text_values', 'blob_values', 'max_size', 'integer_min', 'integer_max', 'double_min', 'double_max']\n",
      "('virts_geometry_columns_field_infos',) ['virt_name', 'virt_geometry', 'ordinal', 'column_name', 'null_values', 'integer_values', 'double_values', 'text_values', 'blob_values', 'max_size', 'integer_min', 'integer_max', 'double_min', 'double_max']\n",
      "('geometry_columns_time',) ['f_table_name', 'f_geometry_column', 'last_insert', 'last_update', 'last_delete']\n",
      "('geometry_columns_auth',) ['f_table_name', 'f_geometry_column', 'read_only', 'hidden']\n",
      "('views_geometry_columns_auth',) ['view_name', 'view_geometry', 'hidden']\n",
      "('virts_geometry_columns_auth',) ['virt_name', 'virt_geometry', 'hidden']\n",
      "('sql_statements_log',) ['id', 'time_start', 'time_end', 'user_agent', 'sql_statement', 'success', 'error_cause']\n",
      "('Fires',) ['OBJECTID', 'FOD_ID', 'FPA_ID', 'SOURCE_SYSTEM_TYPE', 'SOURCE_SYSTEM', 'NWCG_REPORTING_AGENCY', 'NWCG_REPORTING_UNIT_ID', 'NWCG_REPORTING_UNIT_NAME', 'SOURCE_REPORTING_UNIT', 'SOURCE_REPORTING_UNIT_NAME', 'LOCAL_FIRE_REPORT_ID', 'LOCAL_INCIDENT_ID', 'FIRE_CODE', 'FIRE_NAME', 'ICS_209_INCIDENT_NUMBER', 'ICS_209_NAME', 'MTBS_ID', 'MTBS_FIRE_NAME', 'COMPLEX_NAME', 'FIRE_YEAR', 'DISCOVERY_DATE', 'DISCOVERY_DOY', 'DISCOVERY_TIME', 'STAT_CAUSE_CODE', 'STAT_CAUSE_DESCR', 'CONT_DATE', 'CONT_DOY', 'CONT_TIME', 'FIRE_SIZE', 'FIRE_SIZE_CLASS', 'LATITUDE', 'LONGITUDE', 'OWNER_CODE', 'OWNER_DESCR', 'STATE', 'COUNTY', 'FIPS_CODE', 'FIPS_NAME', 'Shape']\n",
      "('idx_Fires_Shape_node',) ['nodeno', 'data']\n",
      "('idx_Fires_Shape_rowid',) ['rowid', 'nodeno']\n",
      "('idx_Fires_Shape_parent',) ['nodeno', 'parentnode']\n",
      "('NWCG_UnitIDActive_20170109',) ['OBJECTID', 'UnitId', 'GeographicArea', 'Gacc', 'WildlandRole', 'UnitType', 'Department', 'Agency', 'Parent', 'Country', 'State', 'Code', 'Name']\n"
     ]
    }
   ],
   "source": [
    "for table in tables2:\n",
    "    query = \"SELECT * FROM \" + table[0]\n",
    "    #print(query)\n",
    "    cursorobj.execute(query)\n",
    "    names = [description[0] for description in cursorobj.description]\n",
    "    print(table, names)"
   ]
  },
  {
   "cell_type": "code",
   "execution_count": 13,
   "metadata": {
    "hidden": true
   },
   "outputs": [],
   "source": [
    "usfires2 = pd.read_sql_query(\"SELECT datetime(DISCOVERY_DATE) as DISCOVERY_DATE, \\\n",
    "                             DISCOVERY_TIME, FIRE_SIZE, LATITUDE, LONGITUDE, \\\n",
    "                             datetime(CONT_DATE) as CONT_DATE, CONT_TIME \\\n",
    "                             FROM Fires\",db)"
   ]
  },
  {
   "cell_type": "code",
   "execution_count": 14,
   "metadata": {
    "hidden": true
   },
   "outputs": [
    {
     "data": {
      "text/plain": [
       "(1880465, 7)"
      ]
     },
     "execution_count": 14,
     "metadata": {},
     "output_type": "execute_result"
    }
   ],
   "source": [
    "usfires2.shape"
   ]
  },
  {
   "cell_type": "code",
   "execution_count": 15,
   "metadata": {
    "hidden": true
   },
   "outputs": [
    {
     "data": {
      "text/html": [
       "<div>\n",
       "<style scoped>\n",
       "    .dataframe tbody tr th:only-of-type {\n",
       "        vertical-align: middle;\n",
       "    }\n",
       "\n",
       "    .dataframe tbody tr th {\n",
       "        vertical-align: top;\n",
       "    }\n",
       "\n",
       "    .dataframe thead th {\n",
       "        text-align: right;\n",
       "    }\n",
       "</style>\n",
       "<table border=\"1\" class=\"dataframe\">\n",
       "  <thead>\n",
       "    <tr style=\"text-align: right;\">\n",
       "      <th></th>\n",
       "      <th>DISCOVERY_DATE</th>\n",
       "      <th>DISCOVERY_TIME</th>\n",
       "      <th>FIRE_SIZE</th>\n",
       "      <th>LATITUDE</th>\n",
       "      <th>LONGITUDE</th>\n",
       "      <th>CONT_DATE</th>\n",
       "      <th>CONT_TIME</th>\n",
       "    </tr>\n",
       "  </thead>\n",
       "  <tbody>\n",
       "    <tr>\n",
       "      <th>0</th>\n",
       "      <td>2005-02-02 00:00:00</td>\n",
       "      <td>1300</td>\n",
       "      <td>0.10</td>\n",
       "      <td>40.036944</td>\n",
       "      <td>-121.005833</td>\n",
       "      <td>2005-02-02 00:00:00</td>\n",
       "      <td>1730</td>\n",
       "    </tr>\n",
       "    <tr>\n",
       "      <th>1</th>\n",
       "      <td>2004-05-12 00:00:00</td>\n",
       "      <td>0845</td>\n",
       "      <td>0.25</td>\n",
       "      <td>38.933056</td>\n",
       "      <td>-120.404444</td>\n",
       "      <td>2004-05-12 00:00:00</td>\n",
       "      <td>1530</td>\n",
       "    </tr>\n",
       "    <tr>\n",
       "      <th>2</th>\n",
       "      <td>2004-05-31 00:00:00</td>\n",
       "      <td>1921</td>\n",
       "      <td>0.10</td>\n",
       "      <td>38.984167</td>\n",
       "      <td>-120.735556</td>\n",
       "      <td>2004-05-31 00:00:00</td>\n",
       "      <td>2024</td>\n",
       "    </tr>\n",
       "    <tr>\n",
       "      <th>3</th>\n",
       "      <td>2004-06-28 00:00:00</td>\n",
       "      <td>1600</td>\n",
       "      <td>0.10</td>\n",
       "      <td>38.559167</td>\n",
       "      <td>-119.913333</td>\n",
       "      <td>2004-07-03 00:00:00</td>\n",
       "      <td>1400</td>\n",
       "    </tr>\n",
       "    <tr>\n",
       "      <th>4</th>\n",
       "      <td>2004-06-28 00:00:00</td>\n",
       "      <td>1600</td>\n",
       "      <td>0.10</td>\n",
       "      <td>38.559167</td>\n",
       "      <td>-119.933056</td>\n",
       "      <td>2004-07-03 00:00:00</td>\n",
       "      <td>1200</td>\n",
       "    </tr>\n",
       "  </tbody>\n",
       "</table>\n",
       "</div>"
      ],
      "text/plain": [
       "        DISCOVERY_DATE DISCOVERY_TIME  FIRE_SIZE   LATITUDE   LONGITUDE  \\\n",
       "0  2005-02-02 00:00:00           1300       0.10  40.036944 -121.005833   \n",
       "1  2004-05-12 00:00:00           0845       0.25  38.933056 -120.404444   \n",
       "2  2004-05-31 00:00:00           1921       0.10  38.984167 -120.735556   \n",
       "3  2004-06-28 00:00:00           1600       0.10  38.559167 -119.913333   \n",
       "4  2004-06-28 00:00:00           1600       0.10  38.559167 -119.933056   \n",
       "\n",
       "             CONT_DATE CONT_TIME  \n",
       "0  2005-02-02 00:00:00      1730  \n",
       "1  2004-05-12 00:00:00      1530  \n",
       "2  2004-05-31 00:00:00      2024  \n",
       "3  2004-07-03 00:00:00      1400  \n",
       "4  2004-07-03 00:00:00      1200  "
      ]
     },
     "execution_count": 15,
     "metadata": {},
     "output_type": "execute_result"
    }
   ],
   "source": [
    "usfires2.head()"
   ]
  },
  {
   "cell_type": "code",
   "execution_count": 19,
   "metadata": {
    "hidden": true
   },
   "outputs": [],
   "source": [
    "usfires2['logArea'] = usfires2.apply(lambda row: np.log(row.FIRE_SIZE+1), axis=1)"
   ]
  },
  {
   "cell_type": "code",
   "execution_count": 21,
   "metadata": {
    "hidden": true
   },
   "outputs": [
    {
     "data": {
      "image/png": "[encoded data removed]",
      "text/plain": [
       "<Figure size 1152x576 with 2 Axes>"
      ]
     },
     "metadata": {
      "needs_background": "light"
     },
     "output_type": "display_data"
    }
   ],
   "source": [
    "fig,axes = plt.subplots(1,2,figsize=(16,8))\n",
    "usfires2.hist(column = \"FIRE_SIZE\", bins=100, ax = axes[0])\n",
    "usfires2.hist(column = 'logArea', bins=100, ax=axes[1])\n",
    "plt.show()"
   ]
  },
  {
   "cell_type": "code",
   "execution_count": null,
   "metadata": {
    "hidden": true
   },
   "outputs": [],
   "source": [
    "geomac = sqlite3.connect('../data/188millionuswildfires/FPA_FOD_20170508.sqlite')"
   ]
  },
  {
   "cell_type": "code",
   "execution_count": null,
   "metadata": {
    "hidden": true
   },
   "outputs": [],
   "source": []
  },
  {
   "cell_type": "markdown",
   "metadata": {
    "heading_collapsed": true
   },
   "source": [
    "## Weather Data"
   ]
  },
  {
   "cell_type": "markdown",
   "metadata": {
    "hidden": true
   },
   "source": [
    "1) cheapest seems to be DarkSky. 1000 per day for free\n",
    "2) $0.0001 per request after that\n",
    "3) Request: \"\n",
    "https://api.darksky.net/forecast/[key]/40.036944,-121.005833,2005-02-02T17:30:00\"  (my api key removed)\n",
    "\n",
    "Output is like this:\n",
    "{\"latitude\":40.036944,\"longitude\":-121.005833,\"timezone\":\"America/Los_Angeles\",\"currently\":{\"time\":1107394200,\"precipIntensity\":0,\"precipProbability\":0,\"temperature\":50.24,\"apparentTemperature\":50.41,\"dewPoint\":13.85,\"humidity\":0.23,\"windSpeed\":2.62,\"windGust\":13.17,\"windBearing\":24,\"uvIndex\":0},\"hourly\":{\"data\":[{\"time\":1107331200,\"precipIntensity\":0,\"precipProbability\":0,\"temperature\":39.73,\"apparentTemperature\":39.73,\"dewPoint\":12.45,\"humidity\":0.32,\"windSpeed\":1.23,\"windGust\":6.42,\"windBearing\":140,\"uvIndex\":0},{\"time\":1107334800,\"precipIntensity\":0,\"precipProbability\":0,\"temperature\":39.57,\"apparentTemperature\":39.57,\"dewPoint\":11.95,\"humidity\":0.32,\"windSpeed\":2.21,\"windGust\":5.8,\"windBearing\":72,\"uvIndex\":0},{\"time\":1107338400,\"precipIntensity\":0,\"precipProbability\":0,\"temperature\":38.69,\"apparentTemperature\":34.34,\"dewPoint\":13.27,\"humidity\":0.35,\"windSpeed\":5.79,\"windGust\":14.19,\"windBearing\":82,\"uvIndex\":0},{\"time\":1107342000,\"precipIntensity\":0,\"precipProbability\":0,\"temperature\":37.04,\"apparentTemperature\":37.04,\"dewPoint\":12.65,\"humidity\":0.36,\"windSpeed\":2.35,\"windGust\":9.56,\"windBearing\":98,\"uvIndex\":0},{\"time\":1107345600,\"precipIntensity\":0,\"precipProbability\":0,\"temperature\":36.26,\"apparentTemperature\":36.26,\"dewPoint\":12.71,\"humidity\":0.37,\"windSpeed\":1.16,\"windGust\":7.66,\"windBearing\":58,\"uvIndex\":0},{\"time\":1107349200,\"precipIntensity\":0,\"precipProbability\":0,\"temperature\":36.51,\"apparentTemperature\":36.51,\"dewPoint\":13.58,\"humidity\":0.39,\"windSpeed\":2.18,\"windGust\":6.93,\"windBearing\":71,\"uvIndex\":0},{\"time\":1107352800,\"precipIntensity\":0,\"precipProbability\":0,\"temperature\":36.4,\"apparentTemperature\":36.4,\"dewPoint\":12.17,\"humidity\":0.36,\"windSpeed\":2.48,\"windGust\":5.45,\"windBearing\":16,\"uvIndex\":0},{\"time\":1107356400,\"precipIntensity\":0,\"precipProbability\":0,\"temperature\":36.36,\"apparentTemperature\":36.36,\"dewPoint\":13.45,\"humidity\":0.39,\"windSpeed\":1.74,\"windGust\":5.3,\"windBearing\":61,\"uvIndex\":0},{\"time\":1107360000,\"precipIntensity\":0,\"precipProbability\":0,\"temperature\":35.85,\"apparentTemperature\":35.85,\"dewPoint\":14.88,\"humidity\":0.42,\"windSpeed\":2.52,\"windGust\":6.53,\"windBearing\":87},{\"time\":1107363600,\"precipIntensity\":0,\"precipProbability\":0,\"temperature\":42.06,\"apparentTemperature\":40.19,\"dewPoint\":13.16,\"humidity\":0.3,\"windSpeed\":3.48,\"windGust\":8.05,\"windBearing\":91},{\"time\":1107367200,\"precipIntensity\":0,\"precipProbability\":0,\"temperature\":46.17,\"apparentTemperature\":46.17,\"dewPoint\":16.52,\"humidity\":0.3,\"windSpeed\":2.71,\"windGust\":7.32,\"windBearing\":126},{\"time\":1107370800,\"precipIntensity\":0,\"precipProbability\":0,\"temperature\":47.55,\"apparentTemperature\":47.55,\"dewPoint\":21.59,\"humidity\":0.36,\"windSpeed\":2.72,\"windGust\":10.31,\"windBearing\":150},{\"time\":1107374400,\"precipIntensity\":0,\"precipProbability\":0,\"temperature\":52.04,\"apparentTemperature\":52.04,\"dewPoint\":20.52,\"humidity\":0.29,\"windSpeed\":4.29,\"windGust\":8.13,\"windBearing\":87},{\"time\":1107378000,\"precipIntensity\":0,\"precipProbability\":0,\"temperature\":55.54,\"apparentTemperature\":55.54,\"dewPoint\":19.53,\"humidity\":0.24,\"windSpeed\":4.84,\"windGust\":11.03,\"windBearing\":149},{\"time\":1107381600,\"precipIntensity\":0,\"precipProbability\":0,\"temperature\":56.34,\"apparentTemperature\":56.34,\"dewPoint\":17.37,\"humidity\":0.21,\"windSpeed\":5.54,\"windGust\":11.23,\"windBearing\":188},{\"time\":1107385200,\"precipIntensity\":0,\"precipProbability\":0,\"temperature\":57.34,\"apparentTemperature\":57.34,\"dewPoint\":15.65,\"humidity\":0.19,\"windSpeed\":6.36,\"windGust\":12.71,\"windBearing\":107},{\"time\":1107388800,\"precipIntensity\":0,\"precipProbability\":0,\"temperature\":53.57,\"apparentTemperature\":53.57,\"dewPoint\":15.64,\"humidity\":0.22,\"windSpeed\":6.13,\"windGust\":14.53,\"windBearing\":36},{\"time\":1107392400,\"precipIntensity\":0,\"precipProbability\":0,\"temperature\":52.58,\"apparentTemperature\":52.58,\"dewPoint\":14.07,\"humidity\":0.21,\"windSpeed\":3.32,\"windGust\":14.57,\"windBearing\":35},{\"time\":1107396000,\"precipIntensity\":0,\"precipProbability\":0,\"temperature\":47.79,\"apparentTemperature\":47.79,\"dewPoint\":13.74,\"humidity\":0.25,\"windSpeed\":2.6,\"windGust\":11.96,\"windBearing\":13,\"uvIndex\":0},{\"time\":1107399600,\"precipIntensity\":0,\"precipProbability\":0,\"temperature\":45.91,\"apparentTemperature\":43.25,\"dewPoint\":12.96,\"humidity\":0.26,\"windSpeed\":5.25,\"windGust\":13.55,\"windBearing\":80,\"uvIndex\":0},{\"time\":1107403200,\"precipIntensity\":0,\"precipProbability\":0,\"temperature\":43.25,\"apparentTemperature\":41.58,\"dewPoint\":14.25,\"humidity\":0.31,\"windSpeed\":3.45,\"windGust\":8.79,\"windBearing\":55,\"uvIndex\":0},{\"time\":1107406800,\"precipIntensity\":0,\"precipProbability\":0,\"temperature\":43.79,\"apparentTemperature\":43.79,\"dewPoint\":14.86,\"humidity\":0.31,\"windSpeed\":1.71,\"windGust\":6.29,\"windBearing\":158,\"uvIndex\":0},{\"time\":1107410400,\"precipIntensity\":0,\"precipProbability\":0,\"temperature\":42.36,\"apparentTemperature\":42.36,\"dewPoint\":14.51,\"humidity\":0.32,\"windSpeed\":2.37,\"windGust\":12.25,\"windBearing\":43,\"uvIndex\":0},{\"time\":1107414000,\"precipIntensity\":0,\"precipProbability\":0,\"temperature\":41.2,\"apparentTemperature\":41.2,\"dewPoint\":12.53,\"humidity\":0.31,\"windSpeed\":1.56,\"windGust\":12.79,\"windBearing\":100,\"uvIndex\":0}]},\"daily\":{\"data\":[{\"time\":1107331200,\"sunriseTime\":1107357120,\"sunsetTime\":1107393960,\"moonPhase\":0.78,\"precipIntensity\":0,\"precipIntensityMax\":0,\"precipProbability\":0,\"temperatureHigh\":57.95,\"temperatureHighTime\":1107384600,\"temperatureLow\":38.42,\"temperatureLowTime\":1107439200,\"apparentTemperatureHigh\":57.45,\"apparentTemperatureHighTime\":1107384600,\"apparentTemperatureLow\":38.91,\"apparentTemperatureLowTime\":1107439200,\"dewPoint\":14.85,\"humidity\":0.31,\"windSpeed\":3.33,\"windGust\":14.83,\"windGustTime\":1107390840,\"windBearing\":76,\"uvIndex\":0,\"uvIndexTime\":1107331200,\"temperatureMin\":35.03,\"temperatureMinTime\":1107359100,\"temperatureMax\":57.95,\"temperatureMaxTime\":1107384600,\"apparentTemperatureMin\":34.3,\"apparentTemperatureMinTime\":1107338640,\"apparentTemperatureMax\":57.45,\"apparentTemperatureMaxTime\":1107384600}]},\"flags\":{\"sources\":[\"cmc\",\"gfs\",\"hrrr\",\"icon\",\"isd\",\"madis\",\"nam\",\"sref\"],\"nearest-station\":3.312,\"units\":\"us\"},\"offset\":-8}"
   ]
  },
  {
   "cell_type": "code",
   "execution_count": null,
   "metadata": {
    "hidden": true
   },
   "outputs": [],
   "source": []
  },
  {
   "cell_type": "markdown",
   "metadata": {},
   "source": [
    "## Global Fire Data"
   ]
  },
  {
   "cell_type": "markdown",
   "metadata": {},
   "source": [
    "### DBF file"
   ]
  },
  {
   "cell_type": "markdown",
   "metadata": {},
   "source": [
    "#### Ignitions"
   ]
  },
  {
   "cell_type": "code",
   "execution_count": 4,
   "metadata": {},
   "outputs": [],
   "source": [
    "globaldbf = DBF('../data/GlobalFire2016/Global_fire_atlas_V1_ignitions_2016/Global_fire_atlas_V1_ignitions_2016.dbf')"
   ]
  },
  {
   "cell_type": "code",
   "execution_count": 5,
   "metadata": {},
   "outputs": [
    {
     "data": {
      "text/plain": [
       "887221"
      ]
     },
     "execution_count": 5,
     "metadata": {},
     "output_type": "execute_result"
    }
   ],
   "source": [
    "len(globaldbf)"
   ]
  },
  {
   "cell_type": "code",
   "execution_count": 6,
   "metadata": {},
   "outputs": [],
   "source": [
    "records = list(globaldbf)"
   ]
  },
  {
   "cell_type": "code",
   "execution_count": 7,
   "metadata": {},
   "outputs": [
    {
     "name": "stdout",
     "output_type": "stream",
     "text": [
      "OrderedDict([('fire_ID', 1), ('latitude', 20.8438), ('longitude', -156.413), ('size', 0.86), ('perimeter', 4.63), ('start_date', '2016-10-26'), ('start_DOY', 300.0), ('end_date', '2016-11-02'), ('end_DOY', 307.0), ('duration', 8.0), ('expansion', 0.11), ('fire_line', 0.23), ('speed', 0.37), ('direction', 3.0), ('direction_s', 'east'), ('landcover', 12.0), ('landcover_s', 'Croplands'), ('tile_ID', 'h03v06')])\n"
     ]
    }
   ],
   "source": [
    "print(records[0])"
   ]
  },
  {
   "cell_type": "code",
   "execution_count": 8,
   "metadata": {},
   "outputs": [],
   "source": [
    "df = pd.DataFrame(iter(globaldbf))"
   ]
  },
  {
   "cell_type": "code",
   "execution_count": 9,
   "metadata": {
    "scrolled": false
   },
   "outputs": [
    {
     "data": {
      "text/html": [
       "<div>\n",
       "<style scoped>\n",
       "    .dataframe tbody tr th:only-of-type {\n",
       "        vertical-align: middle;\n",
       "    }\n",
       "\n",
       "    .dataframe tbody tr th {\n",
       "        vertical-align: top;\n",
       "    }\n",
       "\n",
       "    .dataframe thead th {\n",
       "        text-align: right;\n",
       "    }\n",
       "</style>\n",
       "<table border=\"1\" class=\"dataframe\">\n",
       "  <thead>\n",
       "    <tr style=\"text-align: right;\">\n",
       "      <th></th>\n",
       "      <th>fire_ID</th>\n",
       "      <th>latitude</th>\n",
       "      <th>longitude</th>\n",
       "      <th>size</th>\n",
       "      <th>perimeter</th>\n",
       "      <th>start_date</th>\n",
       "      <th>start_DOY</th>\n",
       "      <th>end_date</th>\n",
       "      <th>end_DOY</th>\n",
       "      <th>duration</th>\n",
       "      <th>expansion</th>\n",
       "      <th>fire_line</th>\n",
       "      <th>speed</th>\n",
       "      <th>direction</th>\n",
       "      <th>direction_s</th>\n",
       "      <th>landcover</th>\n",
       "      <th>landcover_s</th>\n",
       "      <th>tile_ID</th>\n",
       "    </tr>\n",
       "  </thead>\n",
       "  <tbody>\n",
       "    <tr>\n",
       "      <th>0</th>\n",
       "      <td>1</td>\n",
       "      <td>20.8438</td>\n",
       "      <td>-156.413</td>\n",
       "      <td>0.86</td>\n",
       "      <td>4.63</td>\n",
       "      <td>2016-10-26</td>\n",
       "      <td>300.0</td>\n",
       "      <td>2016-11-02</td>\n",
       "      <td>307.0</td>\n",
       "      <td>8.0</td>\n",
       "      <td>0.11</td>\n",
       "      <td>0.23</td>\n",
       "      <td>0.37</td>\n",
       "      <td>3.0</td>\n",
       "      <td>east</td>\n",
       "      <td>12.0</td>\n",
       "      <td>Croplands</td>\n",
       "      <td>h03v06</td>\n",
       "    </tr>\n",
       "    <tr>\n",
       "      <th>1</th>\n",
       "      <td>2</td>\n",
       "      <td>20.8396</td>\n",
       "      <td>-156.418</td>\n",
       "      <td>1.50</td>\n",
       "      <td>6.48</td>\n",
       "      <td>2016-10-28</td>\n",
       "      <td>302.0</td>\n",
       "      <td>2016-11-02</td>\n",
       "      <td>307.0</td>\n",
       "      <td>6.0</td>\n",
       "      <td>0.25</td>\n",
       "      <td>0.54</td>\n",
       "      <td>0.57</td>\n",
       "      <td>4.0</td>\n",
       "      <td>southeast</td>\n",
       "      <td>12.0</td>\n",
       "      <td>Croplands</td>\n",
       "      <td>h03v06</td>\n",
       "    </tr>\n",
       "    <tr>\n",
       "      <th>2</th>\n",
       "      <td>3</td>\n",
       "      <td>20.8105</td>\n",
       "      <td>-156.437</td>\n",
       "      <td>0.43</td>\n",
       "      <td>2.78</td>\n",
       "      <td>2016-11-29</td>\n",
       "      <td>334.0</td>\n",
       "      <td>2016-11-29</td>\n",
       "      <td>334.0</td>\n",
       "      <td>1.0</td>\n",
       "      <td>0.43</td>\n",
       "      <td>0.93</td>\n",
       "      <td>0.46</td>\n",
       "      <td>0.0</td>\n",
       "      <td>none</td>\n",
       "      <td>12.0</td>\n",
       "      <td>Croplands</td>\n",
       "      <td>h03v06</td>\n",
       "    </tr>\n",
       "    <tr>\n",
       "      <th>3</th>\n",
       "      <td>4</td>\n",
       "      <td>20.6271</td>\n",
       "      <td>-156.247</td>\n",
       "      <td>18.65</td>\n",
       "      <td>30.56</td>\n",
       "      <td>2016-02-16</td>\n",
       "      <td>47.0</td>\n",
       "      <td>2016-02-20</td>\n",
       "      <td>51.0</td>\n",
       "      <td>5.0</td>\n",
       "      <td>3.73</td>\n",
       "      <td>6.20</td>\n",
       "      <td>2.68</td>\n",
       "      <td>8.0</td>\n",
       "      <td>northwest</td>\n",
       "      <td>7.0</td>\n",
       "      <td>Open shrublands</td>\n",
       "      <td>h03v06</td>\n",
       "    </tr>\n",
       "    <tr>\n",
       "      <th>4</th>\n",
       "      <td>5</td>\n",
       "      <td>19.8063</td>\n",
       "      <td>-155.895</td>\n",
       "      <td>7.72</td>\n",
       "      <td>12.96</td>\n",
       "      <td>2016-03-20</td>\n",
       "      <td>80.0</td>\n",
       "      <td>2016-03-25</td>\n",
       "      <td>85.0</td>\n",
       "      <td>6.0</td>\n",
       "      <td>1.29</td>\n",
       "      <td>2.47</td>\n",
       "      <td>1.39</td>\n",
       "      <td>4.0</td>\n",
       "      <td>southeast</td>\n",
       "      <td>7.0</td>\n",
       "      <td>Open shrublands</td>\n",
       "      <td>h03v07</td>\n",
       "    </tr>\n",
       "  </tbody>\n",
       "</table>\n",
       "</div>"
      ],
      "text/plain": [
       "   fire_ID  latitude  longitude   size  perimeter  start_date  start_DOY  \\\n",
       "0        1   20.8438   -156.413   0.86       4.63  2016-10-26      300.0   \n",
       "1        2   20.8396   -156.418   1.50       6.48  2016-10-28      302.0   \n",
       "2        3   20.8105   -156.437   0.43       2.78  2016-11-29      334.0   \n",
       "3        4   20.6271   -156.247  18.65      30.56  2016-02-16       47.0   \n",
       "4        5   19.8063   -155.895   7.72      12.96  2016-03-20       80.0   \n",
       "\n",
       "     end_date  end_DOY  duration  expansion  fire_line  speed  direction  \\\n",
       "0  2016-11-02    307.0       8.0       0.11       0.23   0.37        3.0   \n",
       "1  2016-11-02    307.0       6.0       0.25       0.54   0.57        4.0   \n",
       "2  2016-11-29    334.0       1.0       0.43       0.93   0.46        0.0   \n",
       "3  2016-02-20     51.0       5.0       3.73       6.20   2.68        8.0   \n",
       "4  2016-03-25     85.0       6.0       1.29       2.47   1.39        4.0   \n",
       "\n",
       "  direction_s  landcover      landcover_s tile_ID  \n",
       "0        east       12.0        Croplands  h03v06  \n",
       "1   southeast       12.0        Croplands  h03v06  \n",
       "2        none       12.0        Croplands  h03v06  \n",
       "3   northwest        7.0  Open shrublands  h03v06  \n",
       "4   southeast        7.0  Open shrublands  h03v07  "
      ]
     },
     "execution_count": 9,
     "metadata": {},
     "output_type": "execute_result"
    }
   ],
   "source": [
    "df.head()"
   ]
  },
  {
   "cell_type": "markdown",
   "metadata": {
    "heading_collapsed": true
   },
   "source": [
    "#### Perimeter"
   ]
  },
  {
   "cell_type": "code",
   "execution_count": 10,
   "metadata": {
    "hidden": true
   },
   "outputs": [],
   "source": [
    "perim2016 = DBF('../data/GlobalFire2016/Global_fire_atlas_V1_perimeter_2016/Global_fire_atlas_V1_perimeter_2016.dbf')"
   ]
  },
  {
   "cell_type": "code",
   "execution_count": 11,
   "metadata": {
    "hidden": true
   },
   "outputs": [],
   "source": [
    "perimdf = pd.DataFrame(iter(perim2016))"
   ]
  },
  {
   "cell_type": "code",
   "execution_count": 12,
   "metadata": {
    "hidden": true,
    "scrolled": true
   },
   "outputs": [
    {
     "data": {
      "text/html": [
       "<div>\n",
       "<style scoped>\n",
       "    .dataframe tbody tr th:only-of-type {\n",
       "        vertical-align: middle;\n",
       "    }\n",
       "\n",
       "    .dataframe tbody tr th {\n",
       "        vertical-align: top;\n",
       "    }\n",
       "\n",
       "    .dataframe thead th {\n",
       "        text-align: right;\n",
       "    }\n",
       "</style>\n",
       "<table border=\"1\" class=\"dataframe\">\n",
       "  <thead>\n",
       "    <tr style=\"text-align: right;\">\n",
       "      <th></th>\n",
       "      <th>fire_ID</th>\n",
       "      <th>lat</th>\n",
       "      <th>lon</th>\n",
       "      <th>size</th>\n",
       "      <th>perimeter</th>\n",
       "      <th>start_date</th>\n",
       "      <th>start_DOY</th>\n",
       "      <th>end_date</th>\n",
       "      <th>end_DOY</th>\n",
       "      <th>duration</th>\n",
       "      <th>expansion</th>\n",
       "      <th>fire_line</th>\n",
       "      <th>speed</th>\n",
       "      <th>direction</th>\n",
       "      <th>direction_s</th>\n",
       "      <th>landcover</th>\n",
       "      <th>landcover_s</th>\n",
       "      <th>tile_ID</th>\n",
       "    </tr>\n",
       "  </thead>\n",
       "  <tbody>\n",
       "    <tr>\n",
       "      <th>0</th>\n",
       "      <td>1</td>\n",
       "      <td>20.8438</td>\n",
       "      <td>-156.412</td>\n",
       "      <td>0.86</td>\n",
       "      <td>4.63</td>\n",
       "      <td>2016-10-26</td>\n",
       "      <td>300.0</td>\n",
       "      <td>2016-11-02</td>\n",
       "      <td>307.0</td>\n",
       "      <td>8.0</td>\n",
       "      <td>0.11</td>\n",
       "      <td>0.23</td>\n",
       "      <td>0.37</td>\n",
       "      <td>3.0</td>\n",
       "      <td>east</td>\n",
       "      <td>12.0</td>\n",
       "      <td>Croplands</td>\n",
       "      <td>h03v06</td>\n",
       "    </tr>\n",
       "    <tr>\n",
       "      <th>1</th>\n",
       "      <td>2</td>\n",
       "      <td>20.8396</td>\n",
       "      <td>-156.416</td>\n",
       "      <td>1.50</td>\n",
       "      <td>6.48</td>\n",
       "      <td>2016-10-28</td>\n",
       "      <td>302.0</td>\n",
       "      <td>2016-11-02</td>\n",
       "      <td>307.0</td>\n",
       "      <td>6.0</td>\n",
       "      <td>0.25</td>\n",
       "      <td>0.54</td>\n",
       "      <td>0.57</td>\n",
       "      <td>4.0</td>\n",
       "      <td>southeast</td>\n",
       "      <td>12.0</td>\n",
       "      <td>Croplands</td>\n",
       "      <td>h03v06</td>\n",
       "    </tr>\n",
       "    <tr>\n",
       "      <th>2</th>\n",
       "      <td>3</td>\n",
       "      <td>20.8104</td>\n",
       "      <td>-156.435</td>\n",
       "      <td>0.43</td>\n",
       "      <td>2.78</td>\n",
       "      <td>2016-11-29</td>\n",
       "      <td>334.0</td>\n",
       "      <td>2016-11-29</td>\n",
       "      <td>334.0</td>\n",
       "      <td>1.0</td>\n",
       "      <td>0.43</td>\n",
       "      <td>0.93</td>\n",
       "      <td>0.46</td>\n",
       "      <td>0.0</td>\n",
       "      <td>none</td>\n",
       "      <td>12.0</td>\n",
       "      <td>Croplands</td>\n",
       "      <td>h03v06</td>\n",
       "    </tr>\n",
       "    <tr>\n",
       "      <th>3</th>\n",
       "      <td>4</td>\n",
       "      <td>20.6271</td>\n",
       "      <td>-156.246</td>\n",
       "      <td>18.65</td>\n",
       "      <td>30.56</td>\n",
       "      <td>2016-02-16</td>\n",
       "      <td>47.0</td>\n",
       "      <td>2016-02-20</td>\n",
       "      <td>51.0</td>\n",
       "      <td>5.0</td>\n",
       "      <td>3.73</td>\n",
       "      <td>6.20</td>\n",
       "      <td>2.68</td>\n",
       "      <td>8.0</td>\n",
       "      <td>northwest</td>\n",
       "      <td>7.0</td>\n",
       "      <td>Open shrublands</td>\n",
       "      <td>h03v06</td>\n",
       "    </tr>\n",
       "    <tr>\n",
       "      <th>4</th>\n",
       "      <td>5</td>\n",
       "      <td>19.8062</td>\n",
       "      <td>-155.893</td>\n",
       "      <td>7.72</td>\n",
       "      <td>12.96</td>\n",
       "      <td>2016-03-20</td>\n",
       "      <td>80.0</td>\n",
       "      <td>2016-03-25</td>\n",
       "      <td>85.0</td>\n",
       "      <td>6.0</td>\n",
       "      <td>1.29</td>\n",
       "      <td>2.47</td>\n",
       "      <td>1.39</td>\n",
       "      <td>4.0</td>\n",
       "      <td>southeast</td>\n",
       "      <td>7.0</td>\n",
       "      <td>Open shrublands</td>\n",
       "      <td>h03v07</td>\n",
       "    </tr>\n",
       "  </tbody>\n",
       "</table>\n",
       "</div>"
      ],
      "text/plain": [
       "   fire_ID      lat      lon   size  perimeter  start_date  start_DOY  \\\n",
       "0        1  20.8438 -156.412   0.86       4.63  2016-10-26      300.0   \n",
       "1        2  20.8396 -156.416   1.50       6.48  2016-10-28      302.0   \n",
       "2        3  20.8104 -156.435   0.43       2.78  2016-11-29      334.0   \n",
       "3        4  20.6271 -156.246  18.65      30.56  2016-02-16       47.0   \n",
       "4        5  19.8062 -155.893   7.72      12.96  2016-03-20       80.0   \n",
       "\n",
       "     end_date  end_DOY  duration  expansion  fire_line  speed  direction  \\\n",
       "0  2016-11-02    307.0       8.0       0.11       0.23   0.37        3.0   \n",
       "1  2016-11-02    307.0       6.0       0.25       0.54   0.57        4.0   \n",
       "2  2016-11-29    334.0       1.0       0.43       0.93   0.46        0.0   \n",
       "3  2016-02-20     51.0       5.0       3.73       6.20   2.68        8.0   \n",
       "4  2016-03-25     85.0       6.0       1.29       2.47   1.39        4.0   \n",
       "\n",
       "  direction_s  landcover      landcover_s tile_ID  \n",
       "0        east       12.0        Croplands  h03v06  \n",
       "1   southeast       12.0        Croplands  h03v06  \n",
       "2        none       12.0        Croplands  h03v06  \n",
       "3   northwest        7.0  Open shrublands  h03v06  \n",
       "4   southeast        7.0  Open shrublands  h03v07  "
      ]
     },
     "execution_count": 12,
     "metadata": {},
     "output_type": "execute_result"
    }
   ],
   "source": [
    "perimdf.head()"
   ]
  },
  {
   "cell_type": "markdown",
   "metadata": {},
   "source": [
    "### Shapefile - shp"
   ]
  },
  {
   "cell_type": "markdown",
   "metadata": {},
   "source": [
    "#### Ignitions"
   ]
  },
  {
   "cell_type": "code",
   "execution_count": 13,
   "metadata": {
    "code_folding": [],
    "collapsed": true
   },
   "outputs": [
    {
     "name": "stdout",
     "output_type": "stream",
     "text": [
      "{'geometry': {'coordinates': (-156.4137448816646, 20.843785222895118),\n",
      "              'type': 'Point'},\n",
      " 'id': '0',\n",
      " 'properties': OrderedDict([('fire_ID', 1),\n",
      "                            ('latitude', 20.8438),\n",
      "                            ('longitude', -156.413),\n",
      "                            ('size', 0.86),\n",
      "                            ('perimeter', 4.63),\n",
      "                            ('start_date', '2016-10-26'),\n",
      "                            ('start_DOY', 300),\n",
      "                            ('end_date', '2016-11-02'),\n",
      "                            ('end_DOY', 307),\n",
      "                            ('duration', 8),\n",
      "                            ('expansion', 0.11),\n",
      "                            ('fire_line', 0.23),\n",
      "                            ('speed', 0.37),\n",
      "                            ('direction', 3),\n",
      "                            ('direction_s', 'east'),\n",
      "                            ('landcover', 12),\n",
      "                            ('landcover_s', 'Croplands'),\n",
      "                            ('tile_ID', 'h03v06')]),\n",
      " 'type': 'Feature'}\n"
     ]
    }
   ],
   "source": [
    "with fiona.open('../data/GlobalFire2016/Global_fire_atlas_V1_ignitions_2016/Global_fire_atlas_V1_ignitions_2016.shp') as src:\n",
    "    pprint.pprint(src[0])"
   ]
  },
  {
   "cell_type": "code",
   "execution_count": 14,
   "metadata": {},
   "outputs": [],
   "source": [
    "gdf = gpd.read_file('../data/GlobalFire2016/Global_fire_atlas_V1_ignitions_2016/Global_fire_atlas_V1_ignitions_2016.shp')"
   ]
  },
  {
   "cell_type": "code",
   "execution_count": 8,
   "metadata": {},
   "outputs": [
    {
     "data": {
      "text/html": [
       "<div>\n",
       "<style scoped>\n",
       "    .dataframe tbody tr th:only-of-type {\n",
       "        vertical-align: middle;\n",
       "    }\n",
       "\n",
       "    .dataframe tbody tr th {\n",
       "        vertical-align: top;\n",
       "    }\n",
       "\n",
       "    .dataframe thead th {\n",
       "        text-align: right;\n",
       "    }\n",
       "</style>\n",
       "<table border=\"1\" class=\"dataframe\">\n",
       "  <thead>\n",
       "    <tr style=\"text-align: right;\">\n",
       "      <th></th>\n",
       "      <th>fire_ID</th>\n",
       "      <th>latitude</th>\n",
       "      <th>longitude</th>\n",
       "      <th>size</th>\n",
       "      <th>perimeter</th>\n",
       "      <th>start_date</th>\n",
       "      <th>start_DOY</th>\n",
       "      <th>end_date</th>\n",
       "      <th>end_DOY</th>\n",
       "      <th>duration</th>\n",
       "      <th>expansion</th>\n",
       "      <th>fire_line</th>\n",
       "      <th>speed</th>\n",
       "      <th>direction</th>\n",
       "      <th>direction_s</th>\n",
       "      <th>landcover</th>\n",
       "      <th>landcover_s</th>\n",
       "      <th>tile_ID</th>\n",
       "      <th>geometry</th>\n",
       "    </tr>\n",
       "  </thead>\n",
       "  <tbody>\n",
       "    <tr>\n",
       "      <th>0</th>\n",
       "      <td>1</td>\n",
       "      <td>20.8438</td>\n",
       "      <td>-156.413</td>\n",
       "      <td>0.86</td>\n",
       "      <td>4.63</td>\n",
       "      <td>2016-10-26</td>\n",
       "      <td>300</td>\n",
       "      <td>2016-11-02</td>\n",
       "      <td>307</td>\n",
       "      <td>8</td>\n",
       "      <td>0.11</td>\n",
       "      <td>0.23</td>\n",
       "      <td>0.37</td>\n",
       "      <td>3</td>\n",
       "      <td>east</td>\n",
       "      <td>12</td>\n",
       "      <td>Croplands</td>\n",
       "      <td>h03v06</td>\n",
       "      <td>POINT (-156.41374 20.84379)</td>\n",
       "    </tr>\n",
       "    <tr>\n",
       "      <th>1</th>\n",
       "      <td>2</td>\n",
       "      <td>20.8396</td>\n",
       "      <td>-156.418</td>\n",
       "      <td>1.50</td>\n",
       "      <td>6.48</td>\n",
       "      <td>2016-10-28</td>\n",
       "      <td>302</td>\n",
       "      <td>2016-11-02</td>\n",
       "      <td>307</td>\n",
       "      <td>6</td>\n",
       "      <td>0.25</td>\n",
       "      <td>0.54</td>\n",
       "      <td>0.57</td>\n",
       "      <td>4</td>\n",
       "      <td>southeast</td>\n",
       "      <td>12</td>\n",
       "      <td>Croplands</td>\n",
       "      <td>h03v06</td>\n",
       "      <td>POINT (-156.41833 20.83962)</td>\n",
       "    </tr>\n",
       "    <tr>\n",
       "      <th>2</th>\n",
       "      <td>3</td>\n",
       "      <td>20.8105</td>\n",
       "      <td>-156.437</td>\n",
       "      <td>0.43</td>\n",
       "      <td>2.78</td>\n",
       "      <td>2016-11-29</td>\n",
       "      <td>334</td>\n",
       "      <td>2016-11-29</td>\n",
       "      <td>334</td>\n",
       "      <td>1</td>\n",
       "      <td>0.43</td>\n",
       "      <td>0.93</td>\n",
       "      <td>0.46</td>\n",
       "      <td>0</td>\n",
       "      <td>none</td>\n",
       "      <td>12</td>\n",
       "      <td>Croplands</td>\n",
       "      <td>h03v06</td>\n",
       "      <td>POINT (-156.43708 20.81045)</td>\n",
       "    </tr>\n",
       "    <tr>\n",
       "      <th>3</th>\n",
       "      <td>4</td>\n",
       "      <td>20.6271</td>\n",
       "      <td>-156.247</td>\n",
       "      <td>18.65</td>\n",
       "      <td>30.56</td>\n",
       "      <td>2016-02-16</td>\n",
       "      <td>47</td>\n",
       "      <td>2016-02-20</td>\n",
       "      <td>51</td>\n",
       "      <td>5</td>\n",
       "      <td>3.73</td>\n",
       "      <td>6.20</td>\n",
       "      <td>2.68</td>\n",
       "      <td>8</td>\n",
       "      <td>northwest</td>\n",
       "      <td>7</td>\n",
       "      <td>Open shrublands</td>\n",
       "      <td>h03v06</td>\n",
       "      <td>POINT (-156.24786 20.62712)</td>\n",
       "    </tr>\n",
       "    <tr>\n",
       "      <th>4</th>\n",
       "      <td>5</td>\n",
       "      <td>19.8063</td>\n",
       "      <td>-155.895</td>\n",
       "      <td>7.72</td>\n",
       "      <td>12.96</td>\n",
       "      <td>2016-03-20</td>\n",
       "      <td>80</td>\n",
       "      <td>2016-03-25</td>\n",
       "      <td>85</td>\n",
       "      <td>6</td>\n",
       "      <td>1.29</td>\n",
       "      <td>2.47</td>\n",
       "      <td>1.39</td>\n",
       "      <td>4</td>\n",
       "      <td>southeast</td>\n",
       "      <td>7</td>\n",
       "      <td>Open shrublands</td>\n",
       "      <td>h03v07</td>\n",
       "      <td>POINT (-155.89512 19.80629)</td>\n",
       "    </tr>\n",
       "  </tbody>\n",
       "</table>\n",
       "</div>"
      ],
      "text/plain": [
       "   fire_ID  latitude  longitude   size  perimeter  start_date  start_DOY  \\\n",
       "0        1   20.8438   -156.413   0.86       4.63  2016-10-26        300   \n",
       "1        2   20.8396   -156.418   1.50       6.48  2016-10-28        302   \n",
       "2        3   20.8105   -156.437   0.43       2.78  2016-11-29        334   \n",
       "3        4   20.6271   -156.247  18.65      30.56  2016-02-16         47   \n",
       "4        5   19.8063   -155.895   7.72      12.96  2016-03-20         80   \n",
       "\n",
       "     end_date  end_DOY  duration  expansion  fire_line  speed  direction  \\\n",
       "0  2016-11-02      307         8       0.11       0.23   0.37          3   \n",
       "1  2016-11-02      307         6       0.25       0.54   0.57          4   \n",
       "2  2016-11-29      334         1       0.43       0.93   0.46          0   \n",
       "3  2016-02-20       51         5       3.73       6.20   2.68          8   \n",
       "4  2016-03-25       85         6       1.29       2.47   1.39          4   \n",
       "\n",
       "  direction_s  landcover      landcover_s tile_ID                     geometry  \n",
       "0        east         12        Croplands  h03v06  POINT (-156.41374 20.84379)  \n",
       "1   southeast         12        Croplands  h03v06  POINT (-156.41833 20.83962)  \n",
       "2        none         12        Croplands  h03v06  POINT (-156.43708 20.81045)  \n",
       "3   northwest          7  Open shrublands  h03v06  POINT (-156.24786 20.62712)  \n",
       "4   southeast          7  Open shrublands  h03v07  POINT (-155.89512 19.80629)  "
      ]
     },
     "execution_count": 8,
     "metadata": {},
     "output_type": "execute_result"
    }
   ],
   "source": [
    "gdf.head()"
   ]
  },
  {
   "cell_type": "code",
   "execution_count": 4,
   "metadata": {},
   "outputs": [
    {
     "data": {
      "text/plain": [
       "<matplotlib.axes._subplots.AxesSubplot at 0x7f30bf7ee1d0>"
      ]
     },
     "execution_count": 4,
     "metadata": {},
     "output_type": "execute_result"
    },
    {
     "data": {
      "image/png": "[encoded data removed]",
      "text/plain": [
       "<Figure size 432x288 with 1 Axes>"
      ]
     },
     "metadata": {
      "needs_background": "light"
     },
     "output_type": "display_data"
    }
   ],
   "source": [
    "#gdf.plot()"
   ]
  },
  {
   "cell_type": "code",
   "execution_count": 15,
   "metadata": {},
   "outputs": [
    {
     "data": {
      "text/plain": [
       "0    POINT (-156.41374 20.84379)\n",
       "1    POINT (-156.41833 20.83962)\n",
       "2    POINT (-156.43708 20.81045)\n",
       "3    POINT (-156.24786 20.62712)\n",
       "4    POINT (-155.89512 19.80629)\n",
       "Name: geometry, dtype: geometry"
      ]
     },
     "execution_count": 15,
     "metadata": {},
     "output_type": "execute_result"
    }
   ],
   "source": [
    "gdf.geometry[:5]"
   ]
  },
  {
   "cell_type": "code",
   "execution_count": 16,
   "metadata": {},
   "outputs": [
    {
     "name": "stdout",
     "output_type": "stream",
     "text": [
      "{'init': 'epsg:4326'}\n"
     ]
    }
   ],
   "source": [
    "print(gdf.crs)"
   ]
  },
  {
   "cell_type": "code",
   "execution_count": 18,
   "metadata": {},
   "outputs": [
    {
     "data": {
      "text/plain": [
       "array(['fire_ID', 'latitude', 'longitude', 'size', 'perimeter',\n",
       "       'start_date', 'start_DOY', 'end_date', 'end_DOY', 'duration',\n",
       "       'expansion', 'fire_line', 'speed', 'direction', 'direction_s',\n",
       "       'landcover', 'landcover_s', 'tile_ID', 'geometry'], dtype=object)"
      ]
     },
     "execution_count": 18,
     "metadata": {},
     "output_type": "execute_result"
    }
   ],
   "source": [
    "gdf.columns.values"
   ]
  },
  {
   "cell_type": "markdown",
   "metadata": {},
   "source": [
    "#### Perimeter"
   ]
  },
  {
   "cell_type": "code",
   "execution_count": 17,
   "metadata": {},
   "outputs": [],
   "source": [
    "gdf1 = gpd.read_file('../data/GlobalFire2016/Global_fire_atlas_V1_perimeter_2016/Global_fire_atlas_V1_perimeter_2016.shp')"
   ]
  },
  {
   "cell_type": "code",
   "execution_count": 19,
   "metadata": {},
   "outputs": [
    {
     "data": {
      "text/html": [
       "<div>\n",
       "<style scoped>\n",
       "    .dataframe tbody tr th:only-of-type {\n",
       "        vertical-align: middle;\n",
       "    }\n",
       "\n",
       "    .dataframe tbody tr th {\n",
       "        vertical-align: top;\n",
       "    }\n",
       "\n",
       "    .dataframe thead th {\n",
       "        text-align: right;\n",
       "    }\n",
       "</style>\n",
       "<table border=\"1\" class=\"dataframe\">\n",
       "  <thead>\n",
       "    <tr style=\"text-align: right;\">\n",
       "      <th></th>\n",
       "      <th>fire_ID</th>\n",
       "      <th>lat</th>\n",
       "      <th>lon</th>\n",
       "      <th>size</th>\n",
       "      <th>perimeter</th>\n",
       "      <th>start_date</th>\n",
       "      <th>start_DOY</th>\n",
       "      <th>end_date</th>\n",
       "      <th>end_DOY</th>\n",
       "      <th>duration</th>\n",
       "      <th>expansion</th>\n",
       "      <th>fire_line</th>\n",
       "      <th>speed</th>\n",
       "      <th>direction</th>\n",
       "      <th>direction_s</th>\n",
       "      <th>landcover</th>\n",
       "      <th>landcover_s</th>\n",
       "      <th>tile_ID</th>\n",
       "      <th>geometry</th>\n",
       "    </tr>\n",
       "  </thead>\n",
       "  <tbody>\n",
       "    <tr>\n",
       "      <th>0</th>\n",
       "      <td>1</td>\n",
       "      <td>20.8438</td>\n",
       "      <td>-156.412</td>\n",
       "      <td>0.86</td>\n",
       "      <td>4.63</td>\n",
       "      <td>2016-10-26</td>\n",
       "      <td>300</td>\n",
       "      <td>2016-11-02</td>\n",
       "      <td>307</td>\n",
       "      <td>8</td>\n",
       "      <td>0.11</td>\n",
       "      <td>0.23</td>\n",
       "      <td>0.37</td>\n",
       "      <td>3</td>\n",
       "      <td>east</td>\n",
       "      <td>12</td>\n",
       "      <td>Croplands</td>\n",
       "      <td>h03v06</td>\n",
       "      <td>POLYGON ((-156.41809 20.84583, -156.40917 20.8...</td>\n",
       "    </tr>\n",
       "    <tr>\n",
       "      <th>1</th>\n",
       "      <td>2</td>\n",
       "      <td>20.8396</td>\n",
       "      <td>-156.416</td>\n",
       "      <td>1.50</td>\n",
       "      <td>6.48</td>\n",
       "      <td>2016-10-28</td>\n",
       "      <td>302</td>\n",
       "      <td>2016-11-02</td>\n",
       "      <td>307</td>\n",
       "      <td>6</td>\n",
       "      <td>0.25</td>\n",
       "      <td>0.54</td>\n",
       "      <td>0.57</td>\n",
       "      <td>4</td>\n",
       "      <td>southeast</td>\n",
       "      <td>12</td>\n",
       "      <td>Croplands</td>\n",
       "      <td>h03v06</td>\n",
       "      <td>POLYGON ((-156.42268 20.84167, -156.41822 20.8...</td>\n",
       "    </tr>\n",
       "    <tr>\n",
       "      <th>2</th>\n",
       "      <td>3</td>\n",
       "      <td>20.8104</td>\n",
       "      <td>-156.435</td>\n",
       "      <td>0.43</td>\n",
       "      <td>2.78</td>\n",
       "      <td>2016-11-29</td>\n",
       "      <td>334</td>\n",
       "      <td>2016-11-29</td>\n",
       "      <td>334</td>\n",
       "      <td>1</td>\n",
       "      <td>0.43</td>\n",
       "      <td>0.93</td>\n",
       "      <td>0.46</td>\n",
       "      <td>0</td>\n",
       "      <td>none</td>\n",
       "      <td>12</td>\n",
       "      <td>Croplands</td>\n",
       "      <td>h03v06</td>\n",
       "      <td>POLYGON ((-156.44142 20.81250, -156.43251 20.8...</td>\n",
       "    </tr>\n",
       "    <tr>\n",
       "      <th>3</th>\n",
       "      <td>4</td>\n",
       "      <td>20.6271</td>\n",
       "      <td>-156.246</td>\n",
       "      <td>18.65</td>\n",
       "      <td>30.56</td>\n",
       "      <td>2016-02-16</td>\n",
       "      <td>47</td>\n",
       "      <td>2016-02-20</td>\n",
       "      <td>51</td>\n",
       "      <td>5</td>\n",
       "      <td>3.73</td>\n",
       "      <td>6.20</td>\n",
       "      <td>2.68</td>\n",
       "      <td>8</td>\n",
       "      <td>northwest</td>\n",
       "      <td>7</td>\n",
       "      <td>Open shrublands</td>\n",
       "      <td>h03v06</td>\n",
       "      <td>POLYGON ((-156.27803 20.65000, -156.26912 20.6...</td>\n",
       "    </tr>\n",
       "    <tr>\n",
       "      <th>4</th>\n",
       "      <td>5</td>\n",
       "      <td>19.8062</td>\n",
       "      <td>-155.893</td>\n",
       "      <td>7.72</td>\n",
       "      <td>12.96</td>\n",
       "      <td>2016-03-20</td>\n",
       "      <td>80</td>\n",
       "      <td>2016-03-25</td>\n",
       "      <td>85</td>\n",
       "      <td>6</td>\n",
       "      <td>1.29</td>\n",
       "      <td>2.47</td>\n",
       "      <td>1.39</td>\n",
       "      <td>4</td>\n",
       "      <td>southeast</td>\n",
       "      <td>7</td>\n",
       "      <td>Open shrublands</td>\n",
       "      <td>h03v07</td>\n",
       "      <td>POLYGON ((-155.90819 19.80833, -155.88604 19.8...</td>\n",
       "    </tr>\n",
       "  </tbody>\n",
       "</table>\n",
       "</div>"
      ],
      "text/plain": [
       "   fire_ID      lat      lon   size  perimeter  start_date  start_DOY  \\\n",
       "0        1  20.8438 -156.412   0.86       4.63  2016-10-26        300   \n",
       "1        2  20.8396 -156.416   1.50       6.48  2016-10-28        302   \n",
       "2        3  20.8104 -156.435   0.43       2.78  2016-11-29        334   \n",
       "3        4  20.6271 -156.246  18.65      30.56  2016-02-16         47   \n",
       "4        5  19.8062 -155.893   7.72      12.96  2016-03-20         80   \n",
       "\n",
       "     end_date  end_DOY  duration  expansion  fire_line  speed  direction  \\\n",
       "0  2016-11-02      307         8       0.11       0.23   0.37          3   \n",
       "1  2016-11-02      307         6       0.25       0.54   0.57          4   \n",
       "2  2016-11-29      334         1       0.43       0.93   0.46          0   \n",
       "3  2016-02-20       51         5       3.73       6.20   2.68          8   \n",
       "4  2016-03-25       85         6       1.29       2.47   1.39          4   \n",
       "\n",
       "  direction_s  landcover      landcover_s tile_ID  \\\n",
       "0        east         12        Croplands  h03v06   \n",
       "1   southeast         12        Croplands  h03v06   \n",
       "2        none         12        Croplands  h03v06   \n",
       "3   northwest          7  Open shrublands  h03v06   \n",
       "4   southeast          7  Open shrublands  h03v07   \n",
       "\n",
       "                                            geometry  \n",
       "0  POLYGON ((-156.41809 20.84583, -156.40917 20.8...  \n",
       "1  POLYGON ((-156.42268 20.84167, -156.41822 20.8...  \n",
       "2  POLYGON ((-156.44142 20.81250, -156.43251 20.8...  \n",
       "3  POLYGON ((-156.27803 20.65000, -156.26912 20.6...  \n",
       "4  POLYGON ((-155.90819 19.80833, -155.88604 19.8...  "
      ]
     },
     "execution_count": 19,
     "metadata": {},
     "output_type": "execute_result"
    }
   ],
   "source": [
    "gdf1.head()"
   ]
  },
  {
   "cell_type": "code",
   "execution_count": 20,
   "metadata": {},
   "outputs": [
    {
     "data": {
      "text/plain": [
       "array(['fire_ID', 'lat', 'lon', 'size', 'perimeter', 'start_date',\n",
       "       'start_DOY', 'end_date', 'end_DOY', 'duration', 'expansion',\n",
       "       'fire_line', 'speed', 'direction', 'direction_s', 'landcover',\n",
       "       'landcover_s', 'tile_ID', 'geometry'], dtype=object)"
      ]
     },
     "execution_count": 20,
     "metadata": {},
     "output_type": "execute_result"
    }
   ],
   "source": [
    "gdf1.columns.values"
   ]
  },
  {
   "cell_type": "code",
   "execution_count": 21,
   "metadata": {},
   "outputs": [
    {
     "data": {
      "image/svg+xml": [
       "<svg xmlns=\"http://www.w3.org/2000/svg\" xmlns:xlink=\"http://www.w3.org/1999/xlink\" width=\"100.0\" height=\"100.0\" viewBox=\"-156.41875209270648 20.83696499108582 0.014445189355768662 0.00940334735894055\" preserveAspectRatio=\"xMinYMin meet\"><g transform=\"matrix(1,0,0,-1,0,41.68333332953058)\"><path fill-rule=\"evenodd\" fill=\"#66cc99\" stroke=\"#555555\" stroke-width=\"0.00028890378711537323\" opacity=\"0.6\" d=\"M -156.41808955000099,20.845833331431585 L -156.40917251955602,20.845833331431585 L -156.4048419103639,20.84166666476529 L -156.40930030214037,20.84166666476529 L -156.40497063643588,20.837499998099 L -156.41388717315763,20.837499998099 L -156.4182170856933,20.84166666476529 L -156.41375869391683,20.84166666476529 L -156.41808955000099,20.845833331431585 z\" /></g></svg>"
      ],
      "text/plain": [
       "<shapely.geometry.polygon.Polygon at 0x26c0ff0ed88>"
      ]
     },
     "execution_count": 21,
     "metadata": {},
     "output_type": "execute_result"
    }
   ],
   "source": [
    "gdf1.geometry[0]"
   ]
  },
  {
   "cell_type": "code",
   "execution_count": 22,
   "metadata": {},
   "outputs": [
    {
     "data": {
      "text/plain": [
       "<matplotlib.axes._subplots.AxesSubplot at 0x26c0ff16c88>"
      ]
     },
     "execution_count": 22,
     "metadata": {},
     "output_type": "execute_result"
    },
    {
     "data": {
      "image/png": "[encoded data removed]",
      "text/plain": [
       "<Figure size 432x288 with 1 Axes>"
      ]
     },
     "metadata": {
      "needs_background": "light"
     },
     "output_type": "display_data"
    }
   ],
   "source": [
    "gdf1[0:3].plot()"
   ]
  },
  {
   "cell_type": "markdown",
   "metadata": {},
   "source": [
    "#### Combine Geom Ignition and Perimeter columns into single dataframe. pickle out"
   ]
  },
  {
   "cell_type": "code",
   "execution_count": null,
   "metadata": {},
   "outputs": [],
   "source": [
    "perims = gdf1['geometry']"
   ]
  },
  {
   "cell_type": "code",
   "execution_count": 25,
   "metadata": {},
   "outputs": [],
   "source": [
    "geomsdf = copy.deepcopy(gdf)"
   ]
  },
  {
   "cell_type": "code",
   "execution_count": 30,
   "metadata": {},
   "outputs": [],
   "source": [
    "geomsdf.rename(columns={'geometry':'ignition_pt'},inplace=True)"
   ]
  },
  {
   "cell_type": "code",
   "execution_count": 32,
   "metadata": {},
   "outputs": [],
   "source": [
    "geomsdf['perimeter']=perims"
   ]
  },
  {
   "cell_type": "code",
   "execution_count": 37,
   "metadata": {},
   "outputs": [
    {
     "name": "stdout",
     "output_type": "stream",
     "text": [
      "Wall time: 36 s\n"
     ]
    }
   ],
   "source": [
    "%%time\n",
    "with open('../data/GlobalFire2016/Global_fire_atlas_V1_combined2016.pickle','wb') as f:\n",
    "    pickle.dump(geomsdf,f,pickle.HIGHEST_PROTOCOL)"
   ]
  },
  {
   "cell_type": "markdown",
   "metadata": {},
   "source": [
    "### GEOTiff"
   ]
  },
  {
   "cell_type": "markdown",
   "metadata": {},
   "source": [
    "#### Monthly TIFF (averages)"
   ]
  },
  {
   "cell_type": "code",
   "execution_count": 68,
   "metadata": {},
   "outputs": [
    {
     "data": {
      "text/plain": [
       "<open DatasetReader name='../data/GlobalFire2016/Global_fire_atlas_direction_monthly_2016.tif' mode='r'>"
      ]
     },
     "execution_count": 68,
     "metadata": {},
     "output_type": "execute_result"
    }
   ],
   "source": [
    "dirmth = rio.open('../data/GlobalFire2016/Global_fire_atlas_direction_monthly_2016.tif')\n",
    "dirmth"
   ]
  },
  {
   "cell_type": "code",
   "execution_count": 75,
   "metadata": {},
   "outputs": [
    {
     "name": "stdout",
     "output_type": "stream",
     "text": [
      "name =  ../data/GlobalFire2016/Global_fire_atlas_direction_monthly_2016.tif\n",
      "mode =  r\n",
      "closed? =  False\n",
      "resolution of a pixel in units of coord reference system =  (0.25, 0.25)\n",
      "Image Structure tags = {'COMPRESSION': 'LZW', 'INTERLEAVE': 'PIXEL'}\n",
      "tags = {'AREA_OR_POINT': 'Area'}\n"
     ]
    },
    {
     "data": {
      "text/plain": [
       "{'driver': 'GTiff',\n",
       " 'dtype': 'float32',\n",
       " 'nodata': -9999.0,\n",
       " 'width': 1440,\n",
       " 'height': 720,\n",
       " 'count': 12,\n",
       " 'crs': CRS.from_epsg(4326),\n",
       " 'transform': Affine(0.25, 0.0, -180.0,\n",
       "        0.0, -0.25, 90.0)}"
      ]
     },
     "execution_count": 75,
     "metadata": {},
     "output_type": "execute_result"
    }
   ],
   "source": [
    "print(\"name = \",dirmth.name)\n",
    "print(\"mode = \",dirmth.mode)\n",
    "print(\"closed? = \",dirmth.closed)\n",
    "print(\"resolution of a pixel in units of coord reference system = \",dirmth.res)\n",
    "print(\"Image Structure tags =\",dirmth.tags(ns='IMAGE_STRUCTURE'))\n",
    "print(\"tags =\",dirmth.tags())\n",
    "dirmth.meta"
   ]
  },
  {
   "cell_type": "code",
   "execution_count": 76,
   "metadata": {},
   "outputs": [],
   "source": [
    "dirmth.close()"
   ]
  },
  {
   "cell_type": "code",
   "execution_count": 77,
   "metadata": {},
   "outputs": [
    {
     "data": {
      "text/plain": [
       "True"
      ]
     },
     "execution_count": 77,
     "metadata": {},
     "output_type": "execute_result"
    }
   ],
   "source": [
    "dirmth.closed"
   ]
  },
  {
   "cell_type": "code",
   "execution_count": 58,
   "metadata": {},
   "outputs": [
    {
     "name": "stdout",
     "output_type": "stream",
     "text": [
      "(720, 1440)\n",
      "BoundingBox(left=-180.0, bottom=-90.0, right=180.0, top=90.0)\n",
      "number of layers =  12\n",
      "number of bands (1, 2, 3, 4, 5, 6, 7, 8, 9, 10, 11, 12)\n"
     ]
    }
   ],
   "source": [
    "print(dirmth.shape)\n",
    "print(dirmth.bounds)\n",
    "print(\"number of layers = \",dirmth.count)\n",
    "print(\"number of bands\", dirmth.indexes)"
   ]
  },
  {
   "cell_type": "code",
   "execution_count": 61,
   "metadata": {},
   "outputs": [],
   "source": [
    "dirmth_1 = dirmth.read(1)"
   ]
  },
  {
   "cell_type": "code",
   "execution_count": 62,
   "metadata": {},
   "outputs": [
    {
     "data": {
      "text/plain": [
       "(720, 1440)"
      ]
     },
     "execution_count": 62,
     "metadata": {},
     "output_type": "execute_result"
    }
   ],
   "source": [
    "dirmth_1.shape"
   ]
  },
  {
   "cell_type": "code",
   "execution_count": 72,
   "metadata": {},
   "outputs": [
    {
     "data": {
      "image/png": "[encoded data removed]",
      "text/plain": [
       "<Figure size 432x288 with 1 Axes>"
      ]
     },
     "metadata": {
      "needs_background": "light"
     },
     "output_type": "display_data"
    }
   ],
   "source": [
    "plt.imshow(dirmth_1, cmap='summer')\n",
    "plt.show()"
   ]
  },
  {
   "cell_type": "code",
   "execution_count": 73,
   "metadata": {},
   "outputs": [
    {
     "data": {
      "text/plain": [
       "(12, 720, 1440)"
      ]
     },
     "execution_count": 73,
     "metadata": {},
     "output_type": "execute_result"
    }
   ],
   "source": [
    "array = dirmth.read()\n",
    "array.shape"
   ]
  },
  {
   "cell_type": "code",
   "execution_count": 63,
   "metadata": {
    "scrolled": false
   },
   "outputs": [
    {
     "name": "stdout",
     "output_type": "stream",
     "text": [
      "1 float32 -9999.0\n",
      "2 float32 -9999.0\n",
      "3 float32 -9999.0\n",
      "4 float32 -9999.0\n",
      "5 float32 -9999.0\n",
      "6 float32 -9999.0\n",
      "7 float32 -9999.0\n",
      "8 float32 -9999.0\n",
      "9 float32 -9999.0\n",
      "10 float32 -9999.0\n",
      "11 float32 -9999.0\n",
      "12 float32 -9999.0\n"
     ]
    }
   ],
   "source": [
    "for i, dtype, nodataval in zip(dirmth.indexes, dirmth.dtypes, dirmth.nodatavals):\n",
    "    print(i, dtype, nodataval)"
   ]
  },
  {
   "cell_type": "markdown",
   "metadata": {},
   "source": [
    "#### Yearly TIFFs"
   ]
  },
  {
   "cell_type": "code",
   "execution_count": 74,
   "metadata": {},
   "outputs": [],
   "source": [
    "from rasterio.windows import Window"
   ]
  },
  {
   "cell_type": "code",
   "execution_count": 112,
   "metadata": {},
   "outputs": [],
   "source": [
    "diryr = rio.open('../data/GlobalFire2016/Global_fire_atlas_direction_yearly_2016.tif')\n",
    "speedyr = rio.open('../data/GlobalFire2016/Global_fire_atlas_speed_yearly_2016.tif')\n",
    "dobyr = rio.open('../data/GlobalFire2016/Global_fire_atlas_day_of_burn_yearly_2016.tif')\n",
    "firelineyr = rio.open('../data/GlobalFire2016/Global_fire_atlas_fire_line_yearly_2016.tif')"
   ]
  },
  {
   "cell_type": "code",
   "execution_count": 82,
   "metadata": {},
   "outputs": [],
   "source": [
    "tifs = [diryr,speedyr,dobyr,firelineyr]"
   ]
  },
  {
   "cell_type": "code",
   "execution_count": 87,
   "metadata": {
    "scrolled": true
   },
   "outputs": [
    {
     "name": "stdout",
     "output_type": "stream",
     "text": [
      "name =  ../data/GlobalFire2016/Global_fire_atlas_direction_yearly_2016.tif\n",
      "resolution of a pixel in units of coord reference system =  (463.3127165279165, 463.3127165279167)\n",
      "Image Structure tags = {'COMPRESSION': 'LZW', 'INTERLEAVE': 'BAND'}\n",
      "tags = {'AREA_OR_POINT': 'Area'}\n",
      "(31200, 81600)\n",
      "BoundingBox(left=-20015109.354, bottom=-6671703.118005, right=17791208.314677987, top=7783653.637666)\n",
      "number of layers =  1\n",
      "number of bands = (1,)\n",
      "{'driver': 'GTiff', 'dtype': 'int32', 'nodata': -9999.0, 'width': 81600, 'height': 31200, 'count': 1, 'crs': CRS.from_wkt('PROJCS[\"unnamed\",GEOGCS[\"Unknown datum based upon the custom spheroid\",DATUM[\"Not_specified_based_on_custom_spheroid\",SPHEROID[\"Custom spheroid\",6371007.181,0]],PRIMEM[\"Greenwich\",0],UNIT[\"degree\",0.0174532925199433,AUTHORITY[\"EPSG\",\"9122\"]]],PROJECTION[\"Sinusoidal\"],PARAMETER[\"longitude_of_center\",0],PARAMETER[\"false_easting\",0],PARAMETER[\"false_northing\",0],UNIT[\"metre\",1,AUTHORITY[\"EPSG\",\"9001\"]],AXIS[\"Easting\",EAST],AXIS[\"Northing\",NORTH]]'), 'transform': Affine(463.3127165279165, 0.0, -20015109.354,\n",
      "       0.0, -463.3127165279167, 7783653.637666)}\n",
      "\n",
      "\n",
      "\n",
      "name =  ../data/GlobalFire2016/Global_fire_atlas_speed_yearly_2016.tif\n",
      "resolution of a pixel in units of coord reference system =  (463.3127165279165, 463.3127165279167)\n",
      "Image Structure tags = {'COMPRESSION': 'LZW', 'INTERLEAVE': 'BAND'}\n",
      "tags = {'AREA_OR_POINT': 'Area'}\n",
      "(31200, 81600)\n",
      "BoundingBox(left=-20015109.354, bottom=-6671703.118005, right=17791208.314677987, top=7783653.637666)\n",
      "number of layers =  1\n",
      "number of bands = (1,)\n",
      "{'driver': 'GTiff', 'dtype': 'float64', 'nodata': -9999.0, 'width': 81600, 'height': 31200, 'count': 1, 'crs': CRS.from_wkt('PROJCS[\"unnamed\",GEOGCS[\"Unknown datum based upon the custom spheroid\",DATUM[\"Not_specified_based_on_custom_spheroid\",SPHEROID[\"Custom spheroid\",6371007.181,0]],PRIMEM[\"Greenwich\",0],UNIT[\"degree\",0.0174532925199433,AUTHORITY[\"EPSG\",\"9122\"]]],PROJECTION[\"Sinusoidal\"],PARAMETER[\"longitude_of_center\",0],PARAMETER[\"false_easting\",0],PARAMETER[\"false_northing\",0],UNIT[\"metre\",1,AUTHORITY[\"EPSG\",\"9001\"]],AXIS[\"Easting\",EAST],AXIS[\"Northing\",NORTH]]'), 'transform': Affine(463.3127165279165, 0.0, -20015109.354,\n",
      "       0.0, -463.3127165279167, 7783653.637666)}\n",
      "\n",
      "\n",
      "\n",
      "name =  ../data/GlobalFire2016/Global_fire_atlas_day_of_burn_yearly_2016.tif\n",
      "resolution of a pixel in units of coord reference system =  (463.3127165279165, 463.3127165279167)\n",
      "Image Structure tags = {'COMPRESSION': 'LZW', 'INTERLEAVE': 'BAND'}\n",
      "tags = {'AREA_OR_POINT': 'Area'}\n",
      "(31200, 81600)\n",
      "BoundingBox(left=-20015109.354, bottom=-6671703.118005, right=17791208.314677987, top=7783653.637666)\n",
      "number of layers =  1\n",
      "number of bands = (1,)\n",
      "{'driver': 'GTiff', 'dtype': 'int32', 'nodata': -9999.0, 'width': 81600, 'height': 31200, 'count': 1, 'crs': CRS.from_wkt('PROJCS[\"unnamed\",GEOGCS[\"Unknown datum based upon the custom spheroid\",DATUM[\"Not_specified_based_on_custom_spheroid\",SPHEROID[\"Custom spheroid\",6371007.181,0]],PRIMEM[\"Greenwich\",0],UNIT[\"degree\",0.0174532925199433,AUTHORITY[\"EPSG\",\"9122\"]]],PROJECTION[\"Sinusoidal\"],PARAMETER[\"longitude_of_center\",0],PARAMETER[\"false_easting\",0],PARAMETER[\"false_northing\",0],UNIT[\"metre\",1,AUTHORITY[\"EPSG\",\"9001\"]],AXIS[\"Easting\",EAST],AXIS[\"Northing\",NORTH]]'), 'transform': Affine(463.3127165279165, 0.0, -20015109.354,\n",
      "       0.0, -463.3127165279167, 7783653.637666)}\n",
      "\n",
      "\n",
      "\n",
      "name =  ../data/GlobalFire2016/Global_fire_atlas_fire_line_yearly_2016.tif\n",
      "resolution of a pixel in units of coord reference system =  (463.3127165279165, 463.3127165279167)\n",
      "Image Structure tags = {'COMPRESSION': 'LZW', 'INTERLEAVE': 'BAND'}\n",
      "tags = {'AREA_OR_POINT': 'Area'}\n",
      "(31200, 81600)\n",
      "BoundingBox(left=-20015109.354, bottom=-6671703.118005, right=17791208.314677987, top=7783653.637666)\n",
      "number of layers =  1\n",
      "number of bands = (1,)\n",
      "{'driver': 'GTiff', 'dtype': 'int32', 'nodata': -9999.0, 'width': 81600, 'height': 31200, 'count': 1, 'crs': CRS.from_wkt('PROJCS[\"unnamed\",GEOGCS[\"Unknown datum based upon the custom spheroid\",DATUM[\"Not_specified_based_on_custom_spheroid\",SPHEROID[\"Custom spheroid\",6371007.181,0]],PRIMEM[\"Greenwich\",0],UNIT[\"degree\",0.0174532925199433,AUTHORITY[\"EPSG\",\"9122\"]]],PROJECTION[\"Sinusoidal\"],PARAMETER[\"longitude_of_center\",0],PARAMETER[\"false_easting\",0],PARAMETER[\"false_northing\",0],UNIT[\"metre\",1,AUTHORITY[\"EPSG\",\"9001\"]],AXIS[\"Easting\",EAST],AXIS[\"Northing\",NORTH]]'), 'transform': Affine(463.3127165279165, 0.0, -20015109.354,\n",
      "       0.0, -463.3127165279167, 7783653.637666)}\n",
      "\n",
      "\n",
      "\n"
     ]
    }
   ],
   "source": [
    "for tif in tifs:\n",
    "    print(\"name = \",tif.name)\n",
    "    print(\"resolution of a pixel in units of coord reference system = \",tif.res)\n",
    "    print(\"Image Structure tags =\",tif.tags(ns='IMAGE_STRUCTURE'))\n",
    "    print(\"tags =\",tif.tags())\n",
    "    print(tif.shape)\n",
    "    print(tif.bounds)\n",
    "    print(\"number of layers = \",tif.count)\n",
    "    print(\"number of bands =\", tif.indexes)\n",
    "    print(tif.meta)\n",
    "    print(\"\\n\\n\")"
   ]
  },
  {
   "cell_type": "code",
   "execution_count": 140,
   "metadata": {},
   "outputs": [
    {
     "name": "stdout",
     "output_type": "stream",
     "text": [
      "Wall time: 697 ms\n"
     ]
    }
   ],
   "source": [
    "%%time\n",
    "diryr = rio.open('../data/GlobalFire2016/Global_fire_atlas_direction_yearly_2016.tif')\n",
    "diryr1 = diryr.read(1,window=Window(0,25000,81600,1000))\n",
    "diryr.close()"
   ]
  },
  {
   "cell_type": "code",
   "execution_count": null,
   "metadata": {},
   "outputs": [],
   "source": [
    "# Too Big to open this way\n",
    "%%time\n",
    "speedyr1 = speedyr.read(1)\n",
    "speedyr.close()"
   ]
  },
  {
   "cell_type": "code",
   "execution_count": null,
   "metadata": {},
   "outputs": [],
   "source": [
    "# Too Big to open this way\n",
    "%%time\n",
    "dobyr1 = dobyr.read(1)\n",
    "dobyr.close()"
   ]
  },
  {
   "cell_type": "code",
   "execution_count": null,
   "metadata": {},
   "outputs": [],
   "source": [
    "# Too Big to open this way\n",
    "%%time\n",
    "firelineyr1 = firelineyr.read(1)\n",
    "firelineyr.close()"
   ]
  },
  {
   "cell_type": "code",
   "execution_count": 141,
   "metadata": {},
   "outputs": [
    {
     "data": {
      "text/plain": [
       "(1000, 81600)"
      ]
     },
     "execution_count": 141,
     "metadata": {},
     "output_type": "execute_result"
    }
   ],
   "source": [
    "diryr1.shape"
   ]
  },
  {
   "cell_type": "code",
   "execution_count": 142,
   "metadata": {},
   "outputs": [],
   "source": [
    "d2 = diryr1.flatten()"
   ]
  },
  {
   "cell_type": "code",
   "execution_count": 143,
   "metadata": {},
   "outputs": [
    {
     "data": {
      "image/png": "[encoded data removed]",
      "text/plain": [
       "<Figure size 432x288 with 1 Axes>"
      ]
     },
     "metadata": {
      "needs_background": "light"
     },
     "output_type": "display_data"
    }
   ],
   "source": [
    "plt.hist(d2,bins='auto')\n",
    "plt.show()"
   ]
  },
  {
   "cell_type": "code",
   "execution_count": 145,
   "metadata": {},
   "outputs": [
    {
     "data": {
      "text/html": [
       "<div>\n",
       "<style scoped>\n",
       "    .dataframe tbody tr th:only-of-type {\n",
       "        vertical-align: middle;\n",
       "    }\n",
       "\n",
       "    .dataframe tbody tr th {\n",
       "        vertical-align: top;\n",
       "    }\n",
       "\n",
       "    .dataframe thead th {\n",
       "        text-align: right;\n",
       "    }\n",
       "</style>\n",
       "<table border=\"1\" class=\"dataframe\">\n",
       "  <thead>\n",
       "    <tr style=\"text-align: right;\">\n",
       "      <th></th>\n",
       "      <th>0</th>\n",
       "      <th>1</th>\n",
       "      <th>2</th>\n",
       "      <th>3</th>\n",
       "      <th>4</th>\n",
       "      <th>5</th>\n",
       "      <th>6</th>\n",
       "      <th>7</th>\n",
       "      <th>8</th>\n",
       "      <th>9</th>\n",
       "      <th>...</th>\n",
       "      <th>81590</th>\n",
       "      <th>81591</th>\n",
       "      <th>81592</th>\n",
       "      <th>81593</th>\n",
       "      <th>81594</th>\n",
       "      <th>81595</th>\n",
       "      <th>81596</th>\n",
       "      <th>81597</th>\n",
       "      <th>81598</th>\n",
       "      <th>81599</th>\n",
       "    </tr>\n",
       "  </thead>\n",
       "  <tbody>\n",
       "    <tr>\n",
       "      <th>count</th>\n",
       "      <td>1000.0</td>\n",
       "      <td>1000.0</td>\n",
       "      <td>1000.0</td>\n",
       "      <td>1000.0</td>\n",
       "      <td>1000.0</td>\n",
       "      <td>1000.0</td>\n",
       "      <td>1000.0</td>\n",
       "      <td>1000.0</td>\n",
       "      <td>1000.0</td>\n",
       "      <td>1000.0</td>\n",
       "      <td>...</td>\n",
       "      <td>1000.0</td>\n",
       "      <td>1000.0</td>\n",
       "      <td>1000.0</td>\n",
       "      <td>1000.0</td>\n",
       "      <td>1000.0</td>\n",
       "      <td>1000.0</td>\n",
       "      <td>1000.0</td>\n",
       "      <td>1000.0</td>\n",
       "      <td>1000.0</td>\n",
       "      <td>1000.0</td>\n",
       "    </tr>\n",
       "    <tr>\n",
       "      <th>mean</th>\n",
       "      <td>-9999.0</td>\n",
       "      <td>-9999.0</td>\n",
       "      <td>-9999.0</td>\n",
       "      <td>-9999.0</td>\n",
       "      <td>-9999.0</td>\n",
       "      <td>-9999.0</td>\n",
       "      <td>-9999.0</td>\n",
       "      <td>-9999.0</td>\n",
       "      <td>-9999.0</td>\n",
       "      <td>-9999.0</td>\n",
       "      <td>...</td>\n",
       "      <td>-9999.0</td>\n",
       "      <td>-9999.0</td>\n",
       "      <td>-9999.0</td>\n",
       "      <td>-9999.0</td>\n",
       "      <td>-9999.0</td>\n",
       "      <td>-9999.0</td>\n",
       "      <td>-9999.0</td>\n",
       "      <td>-9999.0</td>\n",
       "      <td>-9999.0</td>\n",
       "      <td>-9999.0</td>\n",
       "    </tr>\n",
       "    <tr>\n",
       "      <th>std</th>\n",
       "      <td>0.0</td>\n",
       "      <td>0.0</td>\n",
       "      <td>0.0</td>\n",
       "      <td>0.0</td>\n",
       "      <td>0.0</td>\n",
       "      <td>0.0</td>\n",
       "      <td>0.0</td>\n",
       "      <td>0.0</td>\n",
       "      <td>0.0</td>\n",
       "      <td>0.0</td>\n",
       "      <td>...</td>\n",
       "      <td>0.0</td>\n",
       "      <td>0.0</td>\n",
       "      <td>0.0</td>\n",
       "      <td>0.0</td>\n",
       "      <td>0.0</td>\n",
       "      <td>0.0</td>\n",
       "      <td>0.0</td>\n",
       "      <td>0.0</td>\n",
       "      <td>0.0</td>\n",
       "      <td>0.0</td>\n",
       "    </tr>\n",
       "    <tr>\n",
       "      <th>min</th>\n",
       "      <td>-9999.0</td>\n",
       "      <td>-9999.0</td>\n",
       "      <td>-9999.0</td>\n",
       "      <td>-9999.0</td>\n",
       "      <td>-9999.0</td>\n",
       "      <td>-9999.0</td>\n",
       "      <td>-9999.0</td>\n",
       "      <td>-9999.0</td>\n",
       "      <td>-9999.0</td>\n",
       "      <td>-9999.0</td>\n",
       "      <td>...</td>\n",
       "      <td>-9999.0</td>\n",
       "      <td>-9999.0</td>\n",
       "      <td>-9999.0</td>\n",
       "      <td>-9999.0</td>\n",
       "      <td>-9999.0</td>\n",
       "      <td>-9999.0</td>\n",
       "      <td>-9999.0</td>\n",
       "      <td>-9999.0</td>\n",
       "      <td>-9999.0</td>\n",
       "      <td>-9999.0</td>\n",
       "    </tr>\n",
       "    <tr>\n",
       "      <th>25%</th>\n",
       "      <td>-9999.0</td>\n",
       "      <td>-9999.0</td>\n",
       "      <td>-9999.0</td>\n",
       "      <td>-9999.0</td>\n",
       "      <td>-9999.0</td>\n",
       "      <td>-9999.0</td>\n",
       "      <td>-9999.0</td>\n",
       "      <td>-9999.0</td>\n",
       "      <td>-9999.0</td>\n",
       "      <td>-9999.0</td>\n",
       "      <td>...</td>\n",
       "      <td>-9999.0</td>\n",
       "      <td>-9999.0</td>\n",
       "      <td>-9999.0</td>\n",
       "      <td>-9999.0</td>\n",
       "      <td>-9999.0</td>\n",
       "      <td>-9999.0</td>\n",
       "      <td>-9999.0</td>\n",
       "      <td>-9999.0</td>\n",
       "      <td>-9999.0</td>\n",
       "      <td>-9999.0</td>\n",
       "    </tr>\n",
       "    <tr>\n",
       "      <th>50%</th>\n",
       "      <td>-9999.0</td>\n",
       "      <td>-9999.0</td>\n",
       "      <td>-9999.0</td>\n",
       "      <td>-9999.0</td>\n",
       "      <td>-9999.0</td>\n",
       "      <td>-9999.0</td>\n",
       "      <td>-9999.0</td>\n",
       "      <td>-9999.0</td>\n",
       "      <td>-9999.0</td>\n",
       "      <td>-9999.0</td>\n",
       "      <td>...</td>\n",
       "      <td>-9999.0</td>\n",
       "      <td>-9999.0</td>\n",
       "      <td>-9999.0</td>\n",
       "      <td>-9999.0</td>\n",
       "      <td>-9999.0</td>\n",
       "      <td>-9999.0</td>\n",
       "      <td>-9999.0</td>\n",
       "      <td>-9999.0</td>\n",
       "      <td>-9999.0</td>\n",
       "      <td>-9999.0</td>\n",
       "    </tr>\n",
       "    <tr>\n",
       "      <th>75%</th>\n",
       "      <td>-9999.0</td>\n",
       "      <td>-9999.0</td>\n",
       "      <td>-9999.0</td>\n",
       "      <td>-9999.0</td>\n",
       "      <td>-9999.0</td>\n",
       "      <td>-9999.0</td>\n",
       "      <td>-9999.0</td>\n",
       "      <td>-9999.0</td>\n",
       "      <td>-9999.0</td>\n",
       "      <td>-9999.0</td>\n",
       "      <td>...</td>\n",
       "      <td>-9999.0</td>\n",
       "      <td>-9999.0</td>\n",
       "      <td>-9999.0</td>\n",
       "      <td>-9999.0</td>\n",
       "      <td>-9999.0</td>\n",
       "      <td>-9999.0</td>\n",
       "      <td>-9999.0</td>\n",
       "      <td>-9999.0</td>\n",
       "      <td>-9999.0</td>\n",
       "      <td>-9999.0</td>\n",
       "    </tr>\n",
       "    <tr>\n",
       "      <th>max</th>\n",
       "      <td>-9999.0</td>\n",
       "      <td>-9999.0</td>\n",
       "      <td>-9999.0</td>\n",
       "      <td>-9999.0</td>\n",
       "      <td>-9999.0</td>\n",
       "      <td>-9999.0</td>\n",
       "      <td>-9999.0</td>\n",
       "      <td>-9999.0</td>\n",
       "      <td>-9999.0</td>\n",
       "      <td>-9999.0</td>\n",
       "      <td>...</td>\n",
       "      <td>-9999.0</td>\n",
       "      <td>-9999.0</td>\n",
       "      <td>-9999.0</td>\n",
       "      <td>-9999.0</td>\n",
       "      <td>-9999.0</td>\n",
       "      <td>-9999.0</td>\n",
       "      <td>-9999.0</td>\n",
       "      <td>-9999.0</td>\n",
       "      <td>-9999.0</td>\n",
       "      <td>-9999.0</td>\n",
       "    </tr>\n",
       "  </tbody>\n",
       "</table>\n",
       "<p>8 rows × 81600 columns</p>\n",
       "</div>"
      ],
      "text/plain": [
       "        0       1       2       3       4       5       6       7       8      \\\n",
       "count  1000.0  1000.0  1000.0  1000.0  1000.0  1000.0  1000.0  1000.0  1000.0   \n",
       "mean  -9999.0 -9999.0 -9999.0 -9999.0 -9999.0 -9999.0 -9999.0 -9999.0 -9999.0   \n",
       "std       0.0     0.0     0.0     0.0     0.0     0.0     0.0     0.0     0.0   \n",
       "min   -9999.0 -9999.0 -9999.0 -9999.0 -9999.0 -9999.0 -9999.0 -9999.0 -9999.0   \n",
       "25%   -9999.0 -9999.0 -9999.0 -9999.0 -9999.0 -9999.0 -9999.0 -9999.0 -9999.0   \n",
       "50%   -9999.0 -9999.0 -9999.0 -9999.0 -9999.0 -9999.0 -9999.0 -9999.0 -9999.0   \n",
       "75%   -9999.0 -9999.0 -9999.0 -9999.0 -9999.0 -9999.0 -9999.0 -9999.0 -9999.0   \n",
       "max   -9999.0 -9999.0 -9999.0 -9999.0 -9999.0 -9999.0 -9999.0 -9999.0 -9999.0   \n",
       "\n",
       "        9      ...   81590   81591   81592   81593   81594   81595   81596  \\\n",
       "count  1000.0  ...  1000.0  1000.0  1000.0  1000.0  1000.0  1000.0  1000.0   \n",
       "mean  -9999.0  ... -9999.0 -9999.0 -9999.0 -9999.0 -9999.0 -9999.0 -9999.0   \n",
       "std       0.0  ...     0.0     0.0     0.0     0.0     0.0     0.0     0.0   \n",
       "min   -9999.0  ... -9999.0 -9999.0 -9999.0 -9999.0 -9999.0 -9999.0 -9999.0   \n",
       "25%   -9999.0  ... -9999.0 -9999.0 -9999.0 -9999.0 -9999.0 -9999.0 -9999.0   \n",
       "50%   -9999.0  ... -9999.0 -9999.0 -9999.0 -9999.0 -9999.0 -9999.0 -9999.0   \n",
       "75%   -9999.0  ... -9999.0 -9999.0 -9999.0 -9999.0 -9999.0 -9999.0 -9999.0   \n",
       "max   -9999.0  ... -9999.0 -9999.0 -9999.0 -9999.0 -9999.0 -9999.0 -9999.0   \n",
       "\n",
       "        81597   81598   81599  \n",
       "count  1000.0  1000.0  1000.0  \n",
       "mean  -9999.0 -9999.0 -9999.0  \n",
       "std       0.0     0.0     0.0  \n",
       "min   -9999.0 -9999.0 -9999.0  \n",
       "25%   -9999.0 -9999.0 -9999.0  \n",
       "50%   -9999.0 -9999.0 -9999.0  \n",
       "75%   -9999.0 -9999.0 -9999.0  \n",
       "max   -9999.0 -9999.0 -9999.0  \n",
       "\n",
       "[8 rows x 81600 columns]"
      ]
     },
     "execution_count": 145,
     "metadata": {},
     "output_type": "execute_result"
    }
   ],
   "source": [
    "dirdf = pd.DataFrame(diryr1)\n",
    "dirdf.describe()"
   ]
  },
  {
   "cell_type": "code",
   "execution_count": null,
   "metadata": {},
   "outputs": [],
   "source": []
  },
  {
   "cell_type": "markdown",
   "metadata": {
    "heading_collapsed": true
   },
   "source": [
    "### Alberta"
   ]
  },
  {
   "cell_type": "code",
   "execution_count": 77,
   "metadata": {
    "hidden": true
   },
   "outputs": [],
   "source": [
    "alb_dbf = DBF('../data/Alberta/HistoricalWildfirePerimeters/WilfirePerimeters1931to2019.dbf')"
   ]
  },
  {
   "cell_type": "code",
   "execution_count": 78,
   "metadata": {
    "hidden": true
   },
   "outputs": [
    {
     "data": {
      "text/plain": [
       "45211"
      ]
     },
     "execution_count": 78,
     "metadata": {},
     "output_type": "execute_result"
    }
   ],
   "source": [
    "len(alb_dbf)"
   ]
  },
  {
   "cell_type": "code",
   "execution_count": 79,
   "metadata": {
    "hidden": true
   },
   "outputs": [
    {
     "data": {
      "text/html": [
       "<div>\n",
       "<style scoped>\n",
       "    .dataframe tbody tr th:only-of-type {\n",
       "        vertical-align: middle;\n",
       "    }\n",
       "\n",
       "    .dataframe tbody tr th {\n",
       "        vertical-align: top;\n",
       "    }\n",
       "\n",
       "    .dataframe thead th {\n",
       "        text-align: right;\n",
       "    }\n",
       "</style>\n",
       "<table border=\"1\" class=\"dataframe\">\n",
       "  <thead>\n",
       "    <tr style=\"text-align: right;\">\n",
       "      <th></th>\n",
       "      <th>OBJECTID</th>\n",
       "      <th>FIRENUMBER</th>\n",
       "      <th>FIRE_NUMBE</th>\n",
       "      <th>FIRE_CLASS</th>\n",
       "      <th>BURNCODE</th>\n",
       "      <th>BURN_CLASS</th>\n",
       "      <th>HECTARES_U</th>\n",
       "      <th>YEAR</th>\n",
       "      <th>ALIAS</th>\n",
       "      <th>CAPTURE_DA</th>\n",
       "      <th>TIME</th>\n",
       "      <th>SOURCE</th>\n",
       "      <th>SHAPE_Leng</th>\n",
       "      <th>SHAPE_Area</th>\n",
       "    </tr>\n",
       "  </thead>\n",
       "  <tbody>\n",
       "    <tr>\n",
       "      <th>0</th>\n",
       "      <td>1</td>\n",
       "      <td>REF-001-1931</td>\n",
       "      <td>REF001</td>\n",
       "      <td>E</td>\n",
       "      <td>B</td>\n",
       "      <td>5</td>\n",
       "      <td>1256.0</td>\n",
       "      <td>1931</td>\n",
       "      <td></td>\n",
       "      <td>1931-99-99</td>\n",
       "      <td>1200</td>\n",
       "      <td>14 - Publication ISBN 0-662-15280-8 (1:500,000)</td>\n",
       "      <td>22339.077980</td>\n",
       "      <td>1.254048e+07</td>\n",
       "    </tr>\n",
       "    <tr>\n",
       "      <th>1</th>\n",
       "      <td>2</td>\n",
       "      <td>REF-001-1931</td>\n",
       "      <td>REF001</td>\n",
       "      <td>E</td>\n",
       "      <td>B</td>\n",
       "      <td>5</td>\n",
       "      <td>1118.9</td>\n",
       "      <td>1931</td>\n",
       "      <td></td>\n",
       "      <td>1931-99-99</td>\n",
       "      <td>1200</td>\n",
       "      <td>14 - Publication ISBN 0-662-15280-8 (1:500,000)</td>\n",
       "      <td>24687.358921</td>\n",
       "      <td>1.117232e+07</td>\n",
       "    </tr>\n",
       "    <tr>\n",
       "      <th>2</th>\n",
       "      <td>3</td>\n",
       "      <td>REF-002-1932</td>\n",
       "      <td>REF002</td>\n",
       "      <td>E</td>\n",
       "      <td>B</td>\n",
       "      <td>5</td>\n",
       "      <td>6441.1</td>\n",
       "      <td>1932</td>\n",
       "      <td></td>\n",
       "      <td>1932-99-99</td>\n",
       "      <td>1200</td>\n",
       "      <td>14 - Publication ISBN 0-662-15280-8 (1:500,000)</td>\n",
       "      <td>42069.833346</td>\n",
       "      <td>6.439967e+07</td>\n",
       "    </tr>\n",
       "    <tr>\n",
       "      <th>3</th>\n",
       "      <td>4</td>\n",
       "      <td>REF-003-1932</td>\n",
       "      <td>REF003</td>\n",
       "      <td>E</td>\n",
       "      <td>B</td>\n",
       "      <td>5</td>\n",
       "      <td>727.9</td>\n",
       "      <td>1932</td>\n",
       "      <td></td>\n",
       "      <td>1932-99-99</td>\n",
       "      <td>1200</td>\n",
       "      <td>14 - Publication ISBN 0-662-15280-8 (1:500,000)</td>\n",
       "      <td>11375.479857</td>\n",
       "      <td>7.281131e+06</td>\n",
       "    </tr>\n",
       "    <tr>\n",
       "      <th>4</th>\n",
       "      <td>5</td>\n",
       "      <td>REF-004-1932</td>\n",
       "      <td>REF004</td>\n",
       "      <td>E</td>\n",
       "      <td>B</td>\n",
       "      <td>5</td>\n",
       "      <td>636.6</td>\n",
       "      <td>1932</td>\n",
       "      <td></td>\n",
       "      <td>1932-99-99</td>\n",
       "      <td>1200</td>\n",
       "      <td>14 - Publication ISBN 0-662-15280-8 (1:500,000)</td>\n",
       "      <td>12228.593322</td>\n",
       "      <td>6.365949e+06</td>\n",
       "    </tr>\n",
       "  </tbody>\n",
       "</table>\n",
       "</div>"
      ],
      "text/plain": [
       "   OBJECTID    FIRENUMBER FIRE_NUMBE FIRE_CLASS BURNCODE  BURN_CLASS  \\\n",
       "0         1  REF-001-1931     REF001          E        B           5   \n",
       "1         2  REF-001-1931     REF001          E        B           5   \n",
       "2         3  REF-002-1932     REF002          E        B           5   \n",
       "3         4  REF-003-1932     REF003          E        B           5   \n",
       "4         5  REF-004-1932     REF004          E        B           5   \n",
       "\n",
       "   HECTARES_U  YEAR ALIAS  CAPTURE_DA  TIME  \\\n",
       "0      1256.0  1931        1931-99-99  1200   \n",
       "1      1118.9  1931        1931-99-99  1200   \n",
       "2      6441.1  1932        1932-99-99  1200   \n",
       "3       727.9  1932        1932-99-99  1200   \n",
       "4       636.6  1932        1932-99-99  1200   \n",
       "\n",
       "                                            SOURCE    SHAPE_Leng    SHAPE_Area  \n",
       "0  14 - Publication ISBN 0-662-15280-8 (1:500,000)  22339.077980  1.254048e+07  \n",
       "1  14 - Publication ISBN 0-662-15280-8 (1:500,000)  24687.358921  1.117232e+07  \n",
       "2  14 - Publication ISBN 0-662-15280-8 (1:500,000)  42069.833346  6.439967e+07  \n",
       "3  14 - Publication ISBN 0-662-15280-8 (1:500,000)  11375.479857  7.281131e+06  \n",
       "4  14 - Publication ISBN 0-662-15280-8 (1:500,000)  12228.593322  6.365949e+06  "
      ]
     },
     "execution_count": 79,
     "metadata": {},
     "output_type": "execute_result"
    }
   ],
   "source": [
    "dfalb = pd.DataFrame(iter(alb_dbf))\n",
    "dfalb.head()"
   ]
  },
  {
   "cell_type": "code",
   "execution_count": 86,
   "metadata": {
    "hidden": true
   },
   "outputs": [],
   "source": [
    "alb_gdf = gpd.read_file('../data/Alberta/HistoricalWildfirePerimeters/WilfirePerimeters1931to2019.shp')"
   ]
  },
  {
   "cell_type": "code",
   "execution_count": 87,
   "metadata": {
    "hidden": true
   },
   "outputs": [
    {
     "data": {
      "text/plain": [
       "<matplotlib.axes._subplots.AxesSubplot at 0x26c0f91ae88>"
      ]
     },
     "execution_count": 87,
     "metadata": {},
     "output_type": "execute_result"
    },
    {
     "data": {
      "image/png": "[encoded data removed]",
      "text/plain": [
       "<Figure size 432x288 with 1 Axes>"
      ]
     },
     "metadata": {
      "needs_background": "light"
     },
     "output_type": "display_data"
    }
   ],
   "source": [
    "alb_gdf.plot()"
   ]
  },
  {
   "cell_type": "code",
   "execution_count": 88,
   "metadata": {
    "hidden": true
   },
   "outputs": [
    {
     "data": {
      "text/html": [
       "<div>\n",
       "<style scoped>\n",
       "    .dataframe tbody tr th:only-of-type {\n",
       "        vertical-align: middle;\n",
       "    }\n",
       "\n",
       "    .dataframe tbody tr th {\n",
       "        vertical-align: top;\n",
       "    }\n",
       "\n",
       "    .dataframe thead th {\n",
       "        text-align: right;\n",
       "    }\n",
       "</style>\n",
       "<table border=\"1\" class=\"dataframe\">\n",
       "  <thead>\n",
       "    <tr style=\"text-align: right;\">\n",
       "      <th></th>\n",
       "      <th>OBJECTID</th>\n",
       "      <th>FIRENUMBER</th>\n",
       "      <th>FIRE_NUMBE</th>\n",
       "      <th>FIRE_CLASS</th>\n",
       "      <th>BURNCODE</th>\n",
       "      <th>BURN_CLASS</th>\n",
       "      <th>HECTARES_U</th>\n",
       "      <th>YEAR</th>\n",
       "      <th>ALIAS</th>\n",
       "      <th>CAPTURE_DA</th>\n",
       "      <th>TIME</th>\n",
       "      <th>SOURCE</th>\n",
       "      <th>SHAPE_Leng</th>\n",
       "      <th>SHAPE_Area</th>\n",
       "      <th>geometry</th>\n",
       "    </tr>\n",
       "  </thead>\n",
       "  <tbody>\n",
       "    <tr>\n",
       "      <th>0</th>\n",
       "      <td>1</td>\n",
       "      <td>REF-001-1931</td>\n",
       "      <td>REF001</td>\n",
       "      <td>E</td>\n",
       "      <td>B</td>\n",
       "      <td>5</td>\n",
       "      <td>1256.0</td>\n",
       "      <td>1931</td>\n",
       "      <td>None</td>\n",
       "      <td>1931-99-99</td>\n",
       "      <td>1200</td>\n",
       "      <td>14 - Publication ISBN 0-662-15280-8 (1:500,000)</td>\n",
       "      <td>22339.077980</td>\n",
       "      <td>1.254048e+07</td>\n",
       "      <td>POLYGON ((535421.166 5489014.589, 535305.852 5...</td>\n",
       "    </tr>\n",
       "    <tr>\n",
       "      <th>1</th>\n",
       "      <td>2</td>\n",
       "      <td>REF-001-1931</td>\n",
       "      <td>REF001</td>\n",
       "      <td>E</td>\n",
       "      <td>B</td>\n",
       "      <td>5</td>\n",
       "      <td>1118.9</td>\n",
       "      <td>1931</td>\n",
       "      <td>None</td>\n",
       "      <td>1931-99-99</td>\n",
       "      <td>1200</td>\n",
       "      <td>14 - Publication ISBN 0-662-15280-8 (1:500,000)</td>\n",
       "      <td>24687.358921</td>\n",
       "      <td>1.117232e+07</td>\n",
       "      <td>POLYGON ((522722.919 5487721.868, 522557.591 5...</td>\n",
       "    </tr>\n",
       "    <tr>\n",
       "      <th>2</th>\n",
       "      <td>3</td>\n",
       "      <td>REF-002-1932</td>\n",
       "      <td>REF002</td>\n",
       "      <td>E</td>\n",
       "      <td>B</td>\n",
       "      <td>5</td>\n",
       "      <td>6441.1</td>\n",
       "      <td>1932</td>\n",
       "      <td>None</td>\n",
       "      <td>1932-99-99</td>\n",
       "      <td>1200</td>\n",
       "      <td>14 - Publication ISBN 0-662-15280-8 (1:500,000)</td>\n",
       "      <td>42069.833346</td>\n",
       "      <td>6.439967e+07</td>\n",
       "      <td>POLYGON ((335417.909 6165963.257, 335413.322 6...</td>\n",
       "    </tr>\n",
       "    <tr>\n",
       "      <th>3</th>\n",
       "      <td>4</td>\n",
       "      <td>REF-003-1932</td>\n",
       "      <td>REF003</td>\n",
       "      <td>E</td>\n",
       "      <td>B</td>\n",
       "      <td>5</td>\n",
       "      <td>727.9</td>\n",
       "      <td>1932</td>\n",
       "      <td>None</td>\n",
       "      <td>1932-99-99</td>\n",
       "      <td>1200</td>\n",
       "      <td>14 - Publication ISBN 0-662-15280-8 (1:500,000)</td>\n",
       "      <td>11375.479857</td>\n",
       "      <td>7.281131e+06</td>\n",
       "      <td>POLYGON ((257622.401 6214291.947, 257773.388 6...</td>\n",
       "    </tr>\n",
       "    <tr>\n",
       "      <th>4</th>\n",
       "      <td>5</td>\n",
       "      <td>REF-004-1932</td>\n",
       "      <td>REF004</td>\n",
       "      <td>E</td>\n",
       "      <td>B</td>\n",
       "      <td>5</td>\n",
       "      <td>636.6</td>\n",
       "      <td>1932</td>\n",
       "      <td>None</td>\n",
       "      <td>1932-99-99</td>\n",
       "      <td>1200</td>\n",
       "      <td>14 - Publication ISBN 0-662-15280-8 (1:500,000)</td>\n",
       "      <td>12228.593322</td>\n",
       "      <td>6.365949e+06</td>\n",
       "      <td>POLYGON ((303804.821 6098297.016, 303537.782 6...</td>\n",
       "    </tr>\n",
       "  </tbody>\n",
       "</table>\n",
       "</div>"
      ],
      "text/plain": [
       "   OBJECTID    FIRENUMBER FIRE_NUMBE FIRE_CLASS BURNCODE  BURN_CLASS  \\\n",
       "0         1  REF-001-1931     REF001          E        B           5   \n",
       "1         2  REF-001-1931     REF001          E        B           5   \n",
       "2         3  REF-002-1932     REF002          E        B           5   \n",
       "3         4  REF-003-1932     REF003          E        B           5   \n",
       "4         5  REF-004-1932     REF004          E        B           5   \n",
       "\n",
       "   HECTARES_U  YEAR ALIAS  CAPTURE_DA  TIME  \\\n",
       "0      1256.0  1931  None  1931-99-99  1200   \n",
       "1      1118.9  1931  None  1931-99-99  1200   \n",
       "2      6441.1  1932  None  1932-99-99  1200   \n",
       "3       727.9  1932  None  1932-99-99  1200   \n",
       "4       636.6  1932  None  1932-99-99  1200   \n",
       "\n",
       "                                            SOURCE    SHAPE_Leng  \\\n",
       "0  14 - Publication ISBN 0-662-15280-8 (1:500,000)  22339.077980   \n",
       "1  14 - Publication ISBN 0-662-15280-8 (1:500,000)  24687.358921   \n",
       "2  14 - Publication ISBN 0-662-15280-8 (1:500,000)  42069.833346   \n",
       "3  14 - Publication ISBN 0-662-15280-8 (1:500,000)  11375.479857   \n",
       "4  14 - Publication ISBN 0-662-15280-8 (1:500,000)  12228.593322   \n",
       "\n",
       "     SHAPE_Area                                           geometry  \n",
       "0  1.254048e+07  POLYGON ((535421.166 5489014.589, 535305.852 5...  \n",
       "1  1.117232e+07  POLYGON ((522722.919 5487721.868, 522557.591 5...  \n",
       "2  6.439967e+07  POLYGON ((335417.909 6165963.257, 335413.322 6...  \n",
       "3  7.281131e+06  POLYGON ((257622.401 6214291.947, 257773.388 6...  \n",
       "4  6.365949e+06  POLYGON ((303804.821 6098297.016, 303537.782 6...  "
      ]
     },
     "execution_count": 88,
     "metadata": {},
     "output_type": "execute_result"
    }
   ],
   "source": [
    "alb_gdf.head()"
   ]
  },
  {
   "cell_type": "markdown",
   "metadata": {},
   "source": [
    "### Geomac"
   ]
  },
  {
   "cell_type": "markdown",
   "metadata": {
    "heading_collapsed": true
   },
   "source": [
    "#### Event Polygon"
   ]
  },
  {
   "cell_type": "code",
   "execution_count": 135,
   "metadata": {
    "hidden": true
   },
   "outputs": [],
   "source": [
    "gmdbf = DBF('../data/GeoMac/EventPolygon.dbf', encoding='UTF-8')"
   ]
  },
  {
   "cell_type": "code",
   "execution_count": 139,
   "metadata": {
    "hidden": true
   },
   "outputs": [],
   "source": [
    "dfgmac = pd.DataFrame(iter(gmdbf))\n",
    "#dfgmac[210:215]\n",
    "#same data in shp file, shp file has geometry added. not showing this one"
   ]
  },
  {
   "cell_type": "code",
   "execution_count": 96,
   "metadata": {
    "hidden": true
   },
   "outputs": [],
   "source": [
    "gm_gdf = gpd.read_file('../data/GeoMac/EventPolygon.shp')"
   ]
  },
  {
   "cell_type": "code",
   "execution_count": 103,
   "metadata": {
    "hidden": true
   },
   "outputs": [],
   "source": [
    "pd.set_option('display.max_columns', 500)"
   ]
  },
  {
   "cell_type": "code",
   "execution_count": 109,
   "metadata": {
    "hidden": true
   },
   "outputs": [
    {
     "data": {
      "text/html": [
       "<div>\n",
       "<style scoped>\n",
       "    .dataframe tbody tr th:only-of-type {\n",
       "        vertical-align: middle;\n",
       "    }\n",
       "\n",
       "    .dataframe tbody tr th {\n",
       "        vertical-align: top;\n",
       "    }\n",
       "\n",
       "    .dataframe thead th {\n",
       "        text-align: right;\n",
       "    }\n",
       "</style>\n",
       "<table border=\"1\" class=\"dataframe\">\n",
       "  <thead>\n",
       "    <tr style=\"text-align: right;\">\n",
       "      <th></th>\n",
       "      <th>IncidentNa</th>\n",
       "      <th>FeatureCat</th>\n",
       "      <th>MapMethod</th>\n",
       "      <th>Comments</th>\n",
       "      <th>GISAcres</th>\n",
       "      <th>DeleteThis</th>\n",
       "      <th>Label</th>\n",
       "      <th>FeatureAcc</th>\n",
       "      <th>FeatureSta</th>\n",
       "      <th>IsVisible</th>\n",
       "      <th>CreateDate</th>\n",
       "      <th>DateCurren</th>\n",
       "      <th>PolygonDat</th>\n",
       "      <th>ComplexNam</th>\n",
       "      <th>ComplexID</th>\n",
       "      <th>GACC</th>\n",
       "      <th>IMTName</th>\n",
       "      <th>UnitID</th>\n",
       "      <th>LocalIncid</th>\n",
       "      <th>IRWINID</th>\n",
       "      <th>GeometryID</th>\n",
       "      <th>GlobalID</th>\n",
       "      <th>GDB_ARCHIV</th>\n",
       "      <th>GDB_FROM_D</th>\n",
       "      <th>GDB_TO_DAT</th>\n",
       "      <th>OBJECTID</th>\n",
       "      <th>Shape__Are</th>\n",
       "      <th>Shape__Len</th>\n",
       "      <th>geometry</th>\n",
       "    </tr>\n",
       "  </thead>\n",
       "  <tbody>\n",
       "    <tr>\n",
       "      <th>210</th>\n",
       "      <td>Flathead Lake</td>\n",
       "      <td>IR Intense Heat</td>\n",
       "      <td>Mixed Methods</td>\n",
       "      <td>Flown on 20180322 @ 2200 hrs</td>\n",
       "      <td>3963.880005</td>\n",
       "      <td>No</td>\n",
       "      <td>None</td>\n",
       "      <td>Cooperators</td>\n",
       "      <td>Approved</td>\n",
       "      <td>Yes</td>\n",
       "      <td>2018-04-03T20:03:24.000Z</td>\n",
       "      <td>2018-04-03T20:03:24.000Z</td>\n",
       "      <td>None</td>\n",
       "      <td>None</td>\n",
       "      <td>None</td>\n",
       "      <td>NRCC</td>\n",
       "      <td>Goke</td>\n",
       "      <td>MT - LNF</td>\n",
       "      <td>12345</td>\n",
       "      <td>{6E662394-42EA-4F4F-8E95-99AD0E37E95E}</td>\n",
       "      <td>None</td>\n",
       "      <td>401f9421-f1de-45c5-899e-88828e58868e</td>\n",
       "      <td>211</td>\n",
       "      <td>2018-04-03T20:04:14.000Z</td>\n",
       "      <td>2018-04-04T09:48:39.000Z</td>\n",
       "      <td>6412</td>\n",
       "      <td>1.928445e-03</td>\n",
       "      <td>0.162579</td>\n",
       "      <td>POLYGON ((-114.09006 47.88280, -114.10002 47.8...</td>\n",
       "    </tr>\n",
       "    <tr>\n",
       "      <th>211</th>\n",
       "      <td>Flathead Lake</td>\n",
       "      <td>Retardant Avoidance Area</td>\n",
       "      <td>Mixed Methods</td>\n",
       "      <td>None</td>\n",
       "      <td>469.981871</td>\n",
       "      <td>No</td>\n",
       "      <td>None</td>\n",
       "      <td>Cooperators</td>\n",
       "      <td>Approved</td>\n",
       "      <td>Yes</td>\n",
       "      <td>2018-04-03T20:03:24.000Z</td>\n",
       "      <td>2018-04-03T20:03:24.000Z</td>\n",
       "      <td>None</td>\n",
       "      <td>None</td>\n",
       "      <td>None</td>\n",
       "      <td>NRCC</td>\n",
       "      <td>Goke</td>\n",
       "      <td>MT - LNF</td>\n",
       "      <td>12345</td>\n",
       "      <td>{6E662394-42EA-4F4F-8E95-99AD0E37E95E}</td>\n",
       "      <td>None</td>\n",
       "      <td>43e3730f-8d25-4314-a155-aeee11e9b938</td>\n",
       "      <td>212</td>\n",
       "      <td>2018-04-03T20:04:14.000Z</td>\n",
       "      <td>2018-04-04T09:48:39.000Z</td>\n",
       "      <td>6413</td>\n",
       "      <td>2.286127e-04</td>\n",
       "      <td>0.063586</td>\n",
       "      <td>POLYGON ((-114.00858 47.87785, -114.01545 47.8...</td>\n",
       "    </tr>\n",
       "    <tr>\n",
       "      <th>212</th>\n",
       "      <td>Colony Area</td>\n",
       "      <td>Wildfire Daily Fire Perimeter</td>\n",
       "      <td>Auto-generated</td>\n",
       "      <td>Auto-generated by EGP-IRWIN</td>\n",
       "      <td>10.000000</td>\n",
       "      <td>No</td>\n",
       "      <td>None</td>\n",
       "      <td>Cooperators</td>\n",
       "      <td>proposed</td>\n",
       "      <td>-1</td>\n",
       "      <td>2018-04-03T20:38:33.000Z</td>\n",
       "      <td>2018-04-03T20:38:33.000Z</td>\n",
       "      <td>2018-04-04T03:37:09.000Z</td>\n",
       "      <td>None</td>\n",
       "      <td>None</td>\n",
       "      <td>SACC</td>\n",
       "      <td>None</td>\n",
       "      <td>None</td>\n",
       "      <td>000771</td>\n",
       "      <td>f11e0f81-7852-4e49-a3df-a465a2647415</td>\n",
       "      <td>496921bc-274d-4c5c-8691-4ab219cdea7b</td>\n",
       "      <td>7531f0cc-26a5-4d94-9866-9b8639b4cffa</td>\n",
       "      <td>213</td>\n",
       "      <td>2018-04-03T20:38:33.000Z</td>\n",
       "      <td>2018-06-13T21:57:42.000Z</td>\n",
       "      <td>6414</td>\n",
       "      <td>2.663454e-06</td>\n",
       "      <td>0.007499</td>\n",
       "      <td>POLYGON ((-98.66905 35.35374, -98.67179 35.353...</td>\n",
       "    </tr>\n",
       "    <tr>\n",
       "      <th>213</th>\n",
       "      <td>Whiskenboo</td>\n",
       "      <td>Wildfire Daily Fire Perimeter</td>\n",
       "      <td>Auto-generated</td>\n",
       "      <td>Auto-generated by EGP-IRWIN</td>\n",
       "      <td>0.100000</td>\n",
       "      <td>No</td>\n",
       "      <td>None</td>\n",
       "      <td>Cooperators</td>\n",
       "      <td>proposed</td>\n",
       "      <td>-1</td>\n",
       "      <td>2018-04-03T20:57:25.000Z</td>\n",
       "      <td>2018-04-03T20:57:25.000Z</td>\n",
       "      <td>2018-04-04T02:28:27.000Z</td>\n",
       "      <td>None</td>\n",
       "      <td>None</td>\n",
       "      <td>SACC</td>\n",
       "      <td>None</td>\n",
       "      <td>None</td>\n",
       "      <td>000144</td>\n",
       "      <td>07426700-1dd7-443d-b0a6-c8fa7d404baa</td>\n",
       "      <td>e93210a2-c53e-42fb-baa2-9b51d8622af6</td>\n",
       "      <td>6c95456a-6e41-46e1-93d0-ac676efa0112</td>\n",
       "      <td>214</td>\n",
       "      <td>2018-04-03T20:57:25.000Z</td>\n",
       "      <td>2018-06-13T16:22:29.000Z</td>\n",
       "      <td>6415</td>\n",
       "      <td>2.735237e-08</td>\n",
       "      <td>0.000759</td>\n",
       "      <td>POLYGON ((-79.80170 33.11601, -79.80197 33.116...</td>\n",
       "    </tr>\n",
       "    <tr>\n",
       "      <th>214</th>\n",
       "      <td>GARBAGE CAN 1</td>\n",
       "      <td>Wildfire Daily Fire Perimeter</td>\n",
       "      <td>Auto-generated</td>\n",
       "      <td>Auto-generated by EGP-IRWIN</td>\n",
       "      <td>1.000000</td>\n",
       "      <td>No</td>\n",
       "      <td>None</td>\n",
       "      <td>Cooperators</td>\n",
       "      <td>proposed</td>\n",
       "      <td>-1</td>\n",
       "      <td>2018-04-03T21:20:23.000Z</td>\n",
       "      <td>2018-04-03T21:20:23.000Z</td>\n",
       "      <td>2018-04-04T04:01:00.000Z</td>\n",
       "      <td>None</td>\n",
       "      <td>None</td>\n",
       "      <td>NRCC</td>\n",
       "      <td>None</td>\n",
       "      <td>None</td>\n",
       "      <td>000001</td>\n",
       "      <td>3a27373b-62bd-428e-b2b3-a188f43e0931</td>\n",
       "      <td>38e347c1-bfa3-4727-b254-75cd994ef916</td>\n",
       "      <td>b66e3c49-f7c0-45df-9e74-17fe1508356e</td>\n",
       "      <td>215</td>\n",
       "      <td>2018-04-03T21:20:22.000Z</td>\n",
       "      <td>2018-06-13T16:22:29.000Z</td>\n",
       "      <td>6416</td>\n",
       "      <td>2.148463e-07</td>\n",
       "      <td>0.002185</td>\n",
       "      <td>POLYGON ((-99.67735 48.86123, -99.67822 48.861...</td>\n",
       "    </tr>\n",
       "  </tbody>\n",
       "</table>\n",
       "</div>"
      ],
      "text/plain": [
       "        IncidentNa                     FeatureCat       MapMethod  \\\n",
       "210  Flathead Lake                IR Intense Heat   Mixed Methods   \n",
       "211  Flathead Lake       Retardant Avoidance Area   Mixed Methods   \n",
       "212    Colony Area  Wildfire Daily Fire Perimeter  Auto-generated   \n",
       "213     Whiskenboo  Wildfire Daily Fire Perimeter  Auto-generated   \n",
       "214  GARBAGE CAN 1  Wildfire Daily Fire Perimeter  Auto-generated   \n",
       "\n",
       "                         Comments     GISAcres DeleteThis Label   FeatureAcc  \\\n",
       "210  Flown on 20180322 @ 2200 hrs  3963.880005         No  None  Cooperators   \n",
       "211                          None   469.981871         No  None  Cooperators   \n",
       "212   Auto-generated by EGP-IRWIN    10.000000         No  None  Cooperators   \n",
       "213   Auto-generated by EGP-IRWIN     0.100000         No  None  Cooperators   \n",
       "214   Auto-generated by EGP-IRWIN     1.000000         No  None  Cooperators   \n",
       "\n",
       "    FeatureSta IsVisible                CreateDate                DateCurren  \\\n",
       "210   Approved       Yes  2018-04-03T20:03:24.000Z  2018-04-03T20:03:24.000Z   \n",
       "211   Approved       Yes  2018-04-03T20:03:24.000Z  2018-04-03T20:03:24.000Z   \n",
       "212   proposed        -1  2018-04-03T20:38:33.000Z  2018-04-03T20:38:33.000Z   \n",
       "213   proposed        -1  2018-04-03T20:57:25.000Z  2018-04-03T20:57:25.000Z   \n",
       "214   proposed        -1  2018-04-03T21:20:23.000Z  2018-04-03T21:20:23.000Z   \n",
       "\n",
       "                   PolygonDat ComplexNam ComplexID  GACC IMTName    UnitID  \\\n",
       "210                      None       None      None  NRCC    Goke  MT - LNF   \n",
       "211                      None       None      None  NRCC    Goke  MT - LNF   \n",
       "212  2018-04-04T03:37:09.000Z       None      None  SACC    None      None   \n",
       "213  2018-04-04T02:28:27.000Z       None      None  SACC    None      None   \n",
       "214  2018-04-04T04:01:00.000Z       None      None  NRCC    None      None   \n",
       "\n",
       "    LocalIncid                                 IRWINID  \\\n",
       "210      12345  {6E662394-42EA-4F4F-8E95-99AD0E37E95E}   \n",
       "211      12345  {6E662394-42EA-4F4F-8E95-99AD0E37E95E}   \n",
       "212     000771    f11e0f81-7852-4e49-a3df-a465a2647415   \n",
       "213     000144    07426700-1dd7-443d-b0a6-c8fa7d404baa   \n",
       "214     000001    3a27373b-62bd-428e-b2b3-a188f43e0931   \n",
       "\n",
       "                               GeometryID  \\\n",
       "210                                  None   \n",
       "211                                  None   \n",
       "212  496921bc-274d-4c5c-8691-4ab219cdea7b   \n",
       "213  e93210a2-c53e-42fb-baa2-9b51d8622af6   \n",
       "214  38e347c1-bfa3-4727-b254-75cd994ef916   \n",
       "\n",
       "                                 GlobalID  GDB_ARCHIV  \\\n",
       "210  401f9421-f1de-45c5-899e-88828e58868e         211   \n",
       "211  43e3730f-8d25-4314-a155-aeee11e9b938         212   \n",
       "212  7531f0cc-26a5-4d94-9866-9b8639b4cffa         213   \n",
       "213  6c95456a-6e41-46e1-93d0-ac676efa0112         214   \n",
       "214  b66e3c49-f7c0-45df-9e74-17fe1508356e         215   \n",
       "\n",
       "                   GDB_FROM_D                GDB_TO_DAT  OBJECTID  \\\n",
       "210  2018-04-03T20:04:14.000Z  2018-04-04T09:48:39.000Z      6412   \n",
       "211  2018-04-03T20:04:14.000Z  2018-04-04T09:48:39.000Z      6413   \n",
       "212  2018-04-03T20:38:33.000Z  2018-06-13T21:57:42.000Z      6414   \n",
       "213  2018-04-03T20:57:25.000Z  2018-06-13T16:22:29.000Z      6415   \n",
       "214  2018-04-03T21:20:22.000Z  2018-06-13T16:22:29.000Z      6416   \n",
       "\n",
       "       Shape__Are  Shape__Len  \\\n",
       "210  1.928445e-03    0.162579   \n",
       "211  2.286127e-04    0.063586   \n",
       "212  2.663454e-06    0.007499   \n",
       "213  2.735237e-08    0.000759   \n",
       "214  2.148463e-07    0.002185   \n",
       "\n",
       "                                              geometry  \n",
       "210  POLYGON ((-114.09006 47.88280, -114.10002 47.8...  \n",
       "211  POLYGON ((-114.00858 47.87785, -114.01545 47.8...  \n",
       "212  POLYGON ((-98.66905 35.35374, -98.67179 35.353...  \n",
       "213  POLYGON ((-79.80170 33.11601, -79.80197 33.116...  \n",
       "214  POLYGON ((-99.67735 48.86123, -99.67822 48.861...  "
      ]
     },
     "execution_count": 109,
     "metadata": {},
     "output_type": "execute_result"
    }
   ],
   "source": [
    "gm_gdf[210:215]"
   ]
  },
  {
   "cell_type": "code",
   "execution_count": 100,
   "metadata": {
    "hidden": true
   },
   "outputs": [
    {
     "data": {
      "text/plain": [
       "(46529, 29)"
      ]
     },
     "execution_count": 100,
     "metadata": {},
     "output_type": "execute_result"
    }
   ],
   "source": [
    "gm_gdf.shape"
   ]
  },
  {
   "cell_type": "code",
   "execution_count": 141,
   "metadata": {
    "hidden": true
   },
   "outputs": [
    {
     "data": {
      "text/html": [
       "<div>\n",
       "<style scoped>\n",
       "    .dataframe tbody tr th:only-of-type {\n",
       "        vertical-align: middle;\n",
       "    }\n",
       "\n",
       "    .dataframe tbody tr th {\n",
       "        vertical-align: top;\n",
       "    }\n",
       "\n",
       "    .dataframe thead th {\n",
       "        text-align: right;\n",
       "    }\n",
       "</style>\n",
       "<table border=\"1\" class=\"dataframe\">\n",
       "  <thead>\n",
       "    <tr style=\"text-align: right;\">\n",
       "      <th></th>\n",
       "      <th>IncidentNa</th>\n",
       "      <th>FeatureCat</th>\n",
       "      <th>MapMethod</th>\n",
       "      <th>Comments</th>\n",
       "      <th>GISAcres</th>\n",
       "      <th>DeleteThis</th>\n",
       "      <th>Label</th>\n",
       "      <th>FeatureAcc</th>\n",
       "      <th>FeatureSta</th>\n",
       "      <th>IsVisible</th>\n",
       "      <th>CreateDate</th>\n",
       "      <th>DateCurren</th>\n",
       "      <th>PolygonDat</th>\n",
       "      <th>ComplexNam</th>\n",
       "      <th>ComplexID</th>\n",
       "      <th>GACC</th>\n",
       "      <th>IMTName</th>\n",
       "      <th>UnitID</th>\n",
       "      <th>LocalIncid</th>\n",
       "      <th>IRWINID</th>\n",
       "      <th>GeometryID</th>\n",
       "      <th>GlobalID</th>\n",
       "      <th>GDB_ARCHIV</th>\n",
       "      <th>GDB_FROM_D</th>\n",
       "      <th>GDB_TO_DAT</th>\n",
       "      <th>OBJECTID</th>\n",
       "      <th>Shape__Are</th>\n",
       "      <th>Shape__Len</th>\n",
       "      <th>geometry</th>\n",
       "    </tr>\n",
       "  </thead>\n",
       "  <tbody>\n",
       "    <tr>\n",
       "      <th>10055</th>\n",
       "      <td>MM 192</td>\n",
       "      <td>Wildfire Final Fire Perimeter</td>\n",
       "      <td>GPS-Driven</td>\n",
       "      <td>None</td>\n",
       "      <td>83.466818</td>\n",
       "      <td>No</td>\n",
       "      <td>None</td>\n",
       "      <td>Public</td>\n",
       "      <td>Approved</td>\n",
       "      <td>Yes</td>\n",
       "      <td>2018-06-15T20:11:46.000Z</td>\n",
       "      <td>2018-06-15T20:11:46.000Z</td>\n",
       "      <td>2018-06-08T04:00:00.000Z</td>\n",
       "      <td>None</td>\n",
       "      <td>None</td>\n",
       "      <td>GBCC</td>\n",
       "      <td>None</td>\n",
       "      <td>None</td>\n",
       "      <td>20121</td>\n",
       "      <td>\\t074D1AAB-B9DF-4F73-9348-395D68A16D94</td>\n",
       "      <td>None</td>\n",
       "      <td>a4b950e8-93b6-414e-854c-f240e86bab53</td>\n",
       "      <td>10066</td>\n",
       "      <td>2018-06-15T20:13:44.000Z</td>\n",
       "      <td>2018-07-31T21:22:05.000Z</td>\n",
       "      <td>170784</td>\n",
       "      <td>3.615911e-05</td>\n",
       "      <td>0.031001</td>\n",
       "      <td>MULTIPOLYGON (((-117.51547 40.96560, -117.5154...</td>\n",
       "    </tr>\n",
       "    <tr>\n",
       "      <th>10056</th>\n",
       "      <td>MM 192</td>\n",
       "      <td>Wildfire Final Fire Perimeter</td>\n",
       "      <td>GPS-Driven</td>\n",
       "      <td>None</td>\n",
       "      <td>83.529848</td>\n",
       "      <td>No</td>\n",
       "      <td>None</td>\n",
       "      <td>Public</td>\n",
       "      <td>Approved</td>\n",
       "      <td>Yes</td>\n",
       "      <td>2018-06-15T20:11:46.000Z</td>\n",
       "      <td>2018-07-31T21:22:05.000Z</td>\n",
       "      <td>2018-06-08T04:00:00.000Z</td>\n",
       "      <td>None</td>\n",
       "      <td>None</td>\n",
       "      <td>GBCC</td>\n",
       "      <td>None</td>\n",
       "      <td>None</td>\n",
       "      <td>20121</td>\n",
       "      <td>\\t074D1AAB-B9DF-4F73-9348-395D68A16D94</td>\n",
       "      <td>None</td>\n",
       "      <td>a4b950e8-93b6-414e-854c-f240e86bab53</td>\n",
       "      <td>10067</td>\n",
       "      <td>2018-07-31T21:22:05.000Z</td>\n",
       "      <td>2018-08-02T22:26:23.000Z</td>\n",
       "      <td>170784</td>\n",
       "      <td>3.615911e-05</td>\n",
       "      <td>0.031001</td>\n",
       "      <td>MULTIPOLYGON (((-117.51547 40.96560, -117.5154...</td>\n",
       "    </tr>\n",
       "    <tr>\n",
       "      <th>10057</th>\n",
       "      <td>MM 192</td>\n",
       "      <td>Wildfire Daily Fire Perimeter</td>\n",
       "      <td>GPS-Driven</td>\n",
       "      <td>None</td>\n",
       "      <td>83.529848</td>\n",
       "      <td>No</td>\n",
       "      <td>None</td>\n",
       "      <td>Public</td>\n",
       "      <td>Approved</td>\n",
       "      <td>Yes</td>\n",
       "      <td>2018-06-15T20:11:46.000Z</td>\n",
       "      <td>2018-08-02T22:25:14.000Z</td>\n",
       "      <td>2018-06-08T04:00:00.000Z</td>\n",
       "      <td>None</td>\n",
       "      <td>None</td>\n",
       "      <td>GBCC</td>\n",
       "      <td>None</td>\n",
       "      <td>None</td>\n",
       "      <td>20121</td>\n",
       "      <td>\\t074D1AAB-B9DF-4F73-9348-395D68A16D94</td>\n",
       "      <td>None</td>\n",
       "      <td>a4b950e8-93b6-414e-854c-f240e86bab53</td>\n",
       "      <td>10068</td>\n",
       "      <td>2018-08-02T22:26:23.000Z</td>\n",
       "      <td>2018-08-03T22:45:09.000Z</td>\n",
       "      <td>170784</td>\n",
       "      <td>3.615911e-05</td>\n",
       "      <td>0.031001</td>\n",
       "      <td>MULTIPOLYGON (((-117.51547 40.96560, -117.5154...</td>\n",
       "    </tr>\n",
       "    <tr>\n",
       "      <th>33313</th>\n",
       "      <td>Wigwam</td>\n",
       "      <td>Wildfire Daily Fire Perimeter</td>\n",
       "      <td>Mixed Methods</td>\n",
       "      <td>None</td>\n",
       "      <td>17.445764</td>\n",
       "      <td>No</td>\n",
       "      <td>None</td>\n",
       "      <td>Public</td>\n",
       "      <td>Approved</td>\n",
       "      <td>Yes</td>\n",
       "      <td>2018-08-20T23:50:25.000Z</td>\n",
       "      <td>2018-08-26T18:15:52.000Z</td>\n",
       "      <td>None</td>\n",
       "      <td>None</td>\n",
       "      <td>None</td>\n",
       "      <td>NRCC</td>\n",
       "      <td>SoCal Team 3</td>\n",
       "      <td>MTBDF</td>\n",
       "      <td>003305</td>\n",
       "      <td>\\t44869022-8CB5-458D-AC2D-15D14EC5DE15</td>\n",
       "      <td>4f36f7e5-0f60-424a-999f-84bfebff1d93</td>\n",
       "      <td>7e8b32af-c8fa-4e43-abd5-dca1e7a7b2e7</td>\n",
       "      <td>33325</td>\n",
       "      <td>2018-08-26T18:17:10.000Z</td>\n",
       "      <td>2018-09-04T22:38:08.000Z</td>\n",
       "      <td>490389</td>\n",
       "      <td>8.085116e-06</td>\n",
       "      <td>0.013853</td>\n",
       "      <td>POLYGON ((-111.93541 45.16315, -111.93476 45.1...</td>\n",
       "    </tr>\n",
       "    <tr>\n",
       "      <th>33369</th>\n",
       "      <td>Wigwam</td>\n",
       "      <td>Wildfire Daily Fire Perimeter</td>\n",
       "      <td>Mixed Methods</td>\n",
       "      <td>None</td>\n",
       "      <td>0.198267</td>\n",
       "      <td>No</td>\n",
       "      <td>None</td>\n",
       "      <td>Public</td>\n",
       "      <td>Approved</td>\n",
       "      <td>Yes</td>\n",
       "      <td>2018-08-20T23:50:26.000Z</td>\n",
       "      <td>2018-08-26T18:15:52.000Z</td>\n",
       "      <td>None</td>\n",
       "      <td>None</td>\n",
       "      <td>None</td>\n",
       "      <td>NRCC</td>\n",
       "      <td>SoCal Team 3</td>\n",
       "      <td>MTBDF</td>\n",
       "      <td>003305</td>\n",
       "      <td>\\t44869022-8CB5-458D-AC2D-15D14EC5DE15</td>\n",
       "      <td>4302edd6-e01f-47b9-bd2c-a9105bcd4964</td>\n",
       "      <td>32d2128a-44af-440e-a378-9ee84142884d</td>\n",
       "      <td>33381</td>\n",
       "      <td>2018-08-26T18:17:10.000Z</td>\n",
       "      <td>2018-09-04T22:39:17.000Z</td>\n",
       "      <td>490398</td>\n",
       "      <td>9.183441e-08</td>\n",
       "      <td>0.001159</td>\n",
       "      <td>POLYGON ((-111.89980 45.12917, -111.89990 45.1...</td>\n",
       "    </tr>\n",
       "  </tbody>\n",
       "</table>\n",
       "</div>"
      ],
      "text/plain": [
       "      IncidentNa                     FeatureCat      MapMethod Comments  \\\n",
       "10055     MM 192  Wildfire Final Fire Perimeter     GPS-Driven     None   \n",
       "10056     MM 192  Wildfire Final Fire Perimeter     GPS-Driven     None   \n",
       "10057     MM 192  Wildfire Daily Fire Perimeter     GPS-Driven     None   \n",
       "33313     Wigwam  Wildfire Daily Fire Perimeter  Mixed Methods     None   \n",
       "33369     Wigwam  Wildfire Daily Fire Perimeter  Mixed Methods     None   \n",
       "\n",
       "        GISAcres DeleteThis Label FeatureAcc FeatureSta IsVisible  \\\n",
       "10055  83.466818         No  None     Public   Approved       Yes   \n",
       "10056  83.529848         No  None     Public   Approved       Yes   \n",
       "10057  83.529848         No  None     Public   Approved       Yes   \n",
       "33313  17.445764         No  None     Public   Approved       Yes   \n",
       "33369   0.198267         No  None     Public   Approved       Yes   \n",
       "\n",
       "                     CreateDate                DateCurren  \\\n",
       "10055  2018-06-15T20:11:46.000Z  2018-06-15T20:11:46.000Z   \n",
       "10056  2018-06-15T20:11:46.000Z  2018-07-31T21:22:05.000Z   \n",
       "10057  2018-06-15T20:11:46.000Z  2018-08-02T22:25:14.000Z   \n",
       "33313  2018-08-20T23:50:25.000Z  2018-08-26T18:15:52.000Z   \n",
       "33369  2018-08-20T23:50:26.000Z  2018-08-26T18:15:52.000Z   \n",
       "\n",
       "                     PolygonDat ComplexNam ComplexID  GACC       IMTName  \\\n",
       "10055  2018-06-08T04:00:00.000Z       None      None  GBCC          None   \n",
       "10056  2018-06-08T04:00:00.000Z       None      None  GBCC          None   \n",
       "10057  2018-06-08T04:00:00.000Z       None      None  GBCC          None   \n",
       "33313                      None       None      None  NRCC  SoCal Team 3   \n",
       "33369                      None       None      None  NRCC  SoCal Team 3   \n",
       "\n",
       "      UnitID LocalIncid                                 IRWINID  \\\n",
       "10055   None      20121  \\t074D1AAB-B9DF-4F73-9348-395D68A16D94   \n",
       "10056   None      20121  \\t074D1AAB-B9DF-4F73-9348-395D68A16D94   \n",
       "10057   None      20121  \\t074D1AAB-B9DF-4F73-9348-395D68A16D94   \n",
       "33313  MTBDF     003305  \\t44869022-8CB5-458D-AC2D-15D14EC5DE15   \n",
       "33369  MTBDF     003305  \\t44869022-8CB5-458D-AC2D-15D14EC5DE15   \n",
       "\n",
       "                                 GeometryID  \\\n",
       "10055                                  None   \n",
       "10056                                  None   \n",
       "10057                                  None   \n",
       "33313  4f36f7e5-0f60-424a-999f-84bfebff1d93   \n",
       "33369  4302edd6-e01f-47b9-bd2c-a9105bcd4964   \n",
       "\n",
       "                                   GlobalID  GDB_ARCHIV  \\\n",
       "10055  a4b950e8-93b6-414e-854c-f240e86bab53       10066   \n",
       "10056  a4b950e8-93b6-414e-854c-f240e86bab53       10067   \n",
       "10057  a4b950e8-93b6-414e-854c-f240e86bab53       10068   \n",
       "33313  7e8b32af-c8fa-4e43-abd5-dca1e7a7b2e7       33325   \n",
       "33369  32d2128a-44af-440e-a378-9ee84142884d       33381   \n",
       "\n",
       "                     GDB_FROM_D                GDB_TO_DAT  OBJECTID  \\\n",
       "10055  2018-06-15T20:13:44.000Z  2018-07-31T21:22:05.000Z    170784   \n",
       "10056  2018-07-31T21:22:05.000Z  2018-08-02T22:26:23.000Z    170784   \n",
       "10057  2018-08-02T22:26:23.000Z  2018-08-03T22:45:09.000Z    170784   \n",
       "33313  2018-08-26T18:17:10.000Z  2018-09-04T22:38:08.000Z    490389   \n",
       "33369  2018-08-26T18:17:10.000Z  2018-09-04T22:39:17.000Z    490398   \n",
       "\n",
       "         Shape__Are  Shape__Len  \\\n",
       "10055  3.615911e-05    0.031001   \n",
       "10056  3.615911e-05    0.031001   \n",
       "10057  3.615911e-05    0.031001   \n",
       "33313  8.085116e-06    0.013853   \n",
       "33369  9.183441e-08    0.001159   \n",
       "\n",
       "                                                geometry  \n",
       "10055  MULTIPOLYGON (((-117.51547 40.96560, -117.5154...  \n",
       "10056  MULTIPOLYGON (((-117.51547 40.96560, -117.5154...  \n",
       "10057  MULTIPOLYGON (((-117.51547 40.96560, -117.5154...  \n",
       "33313  POLYGON ((-111.93541 45.16315, -111.93476 45.1...  \n",
       "33369  POLYGON ((-111.89980 45.12917, -111.89990 45.1...  "
      ]
     },
     "execution_count": 141,
     "metadata": {},
     "output_type": "execute_result"
    }
   ],
   "source": [
    "sortedgdf = gm_gdf.sort_values(by=['IRWINID'])\n",
    "sortedgdf.head()"
   ]
  },
  {
   "cell_type": "code",
   "execution_count": 107,
   "metadata": {
    "hidden": true
   },
   "outputs": [
    {
     "data": {
      "image/svg+xml": [
       "<svg xmlns=\"http://www.w3.org/2000/svg\" xmlns:xlink=\"http://www.w3.org/1999/xlink\" width=\"100.0\" height=\"100.0\" viewBox=\"-114.10288086356 47.867048042440096 0.05845830911999883 0.05562892811990139\" preserveAspectRatio=\"xMinYMin meet\"><g transform=\"matrix(1,0,0,-1,0,95.7897250130001)\"><path fill-rule=\"evenodd\" fill=\"#66cc99\" stroke=\"#555555\" stroke-width=\"0.0011691661823999765\" opacity=\"0.6\" d=\"M -114.090056105,47.8827990350001 L -114.100021645,47.8944795040001 L -114.100715741,47.9105678340001 L -114.088565679,47.9188312590001 L -114.070407396,47.920511848 L -114.058120027,47.9123406210001 L -114.046587677,47.890973655 L -114.053800436,47.8761596040001 L -114.075425152,47.8692131650001 L -114.090056105,47.8827990350001 z\" /></g></svg>"
      ],
      "text/plain": [
       "<shapely.geometry.polygon.Polygon at 0x26c0c19e808>"
      ]
     },
     "execution_count": 107,
     "metadata": {},
     "output_type": "execute_result"
    }
   ],
   "source": [
    "gm_gdf.geometry[210]"
   ]
  },
  {
   "cell_type": "markdown",
   "metadata": {
    "heading_collapsed": true
   },
   "source": [
    "### CWFIS Large Fires"
   ]
  },
  {
   "cell_type": "code",
   "execution_count": 117,
   "metadata": {
    "hidden": true
   },
   "outputs": [],
   "source": [
    "canlg_dbf = DBF('../data/CWFIS/NFDB_poly_20190607_large_fires.dbf',encoding='UTF-8')"
   ]
  },
  {
   "cell_type": "code",
   "execution_count": 119,
   "metadata": {
    "hidden": true
   },
   "outputs": [
    {
     "data": {
      "text/plain": [
       "(21375, 25)"
      ]
     },
     "execution_count": 119,
     "metadata": {},
     "output_type": "execute_result"
    }
   ],
   "source": [
    "df_canlg = pd.DataFrame(iter(canlg_dbf))\n",
    "df_canlg.shape"
   ]
  },
  {
   "cell_type": "code",
   "execution_count": 123,
   "metadata": {
    "hidden": true,
    "scrolled": true
   },
   "outputs": [
    {
     "data": {
      "text/html": [
       "<div>\n",
       "<style scoped>\n",
       "    .dataframe tbody tr th:only-of-type {\n",
       "        vertical-align: middle;\n",
       "    }\n",
       "\n",
       "    .dataframe tbody tr th {\n",
       "        vertical-align: top;\n",
       "    }\n",
       "\n",
       "    .dataframe thead th {\n",
       "        text-align: right;\n",
       "    }\n",
       "</style>\n",
       "<table border=\"1\" class=\"dataframe\">\n",
       "  <thead>\n",
       "    <tr style=\"text-align: right;\">\n",
       "      <th></th>\n",
       "      <th>SRC_AGENCY</th>\n",
       "      <th>FIRE_ID</th>\n",
       "      <th>FIRENAME</th>\n",
       "      <th>YEAR</th>\n",
       "      <th>MONTH</th>\n",
       "      <th>DAY</th>\n",
       "      <th>REP_DATE</th>\n",
       "      <th>DATE_TYPE</th>\n",
       "      <th>OUT_DATE</th>\n",
       "      <th>DECADE</th>\n",
       "      <th>SIZE_HA</th>\n",
       "      <th>CALC_HA</th>\n",
       "      <th>CAUSE</th>\n",
       "      <th>MAP_SOURCE</th>\n",
       "      <th>SOURCE_KEY</th>\n",
       "      <th>MAP_METHOD</th>\n",
       "      <th>WATER_REM</th>\n",
       "      <th>UNBURN_REM</th>\n",
       "      <th>MORE_INFO</th>\n",
       "      <th>POLY_DATE</th>\n",
       "      <th>CFS_REF_ID</th>\n",
       "      <th>CFS_NOTE1</th>\n",
       "      <th>CFS_NOTE2</th>\n",
       "      <th>AG_SRCFILE</th>\n",
       "      <th>ACQ_DATE</th>\n",
       "    </tr>\n",
       "  </thead>\n",
       "  <tbody>\n",
       "    <tr>\n",
       "      <th>20000</th>\n",
       "      <td>NWT</td>\n",
       "      <td>2000VQ-025</td>\n",
       "      <td></td>\n",
       "      <td>2000</td>\n",
       "      <td>7</td>\n",
       "      <td>17</td>\n",
       "      <td>2000-07-17</td>\n",
       "      <td>Startdate</td>\n",
       "      <td>None</td>\n",
       "      <td>2000-2009</td>\n",
       "      <td>2614.336</td>\n",
       "      <td>2625.615863</td>\n",
       "      <td>L</td>\n",
       "      <td>N/A</td>\n",
       "      <td></td>\n",
       "      <td></td>\n",
       "      <td></td>\n",
       "      <td></td>\n",
       "      <td></td>\n",
       "      <td>None</td>\n",
       "      <td>NWT-2000-2000VQ-025</td>\n",
       "      <td></td>\n",
       "      <td></td>\n",
       "      <td>NWT Fire_History_2009.shp</td>\n",
       "      <td>2010-12-16</td>\n",
       "    </tr>\n",
       "    <tr>\n",
       "      <th>20001</th>\n",
       "      <td>NWT</td>\n",
       "      <td>2000CR-003</td>\n",
       "      <td></td>\n",
       "      <td>2000</td>\n",
       "      <td>6</td>\n",
       "      <td>19</td>\n",
       "      <td>2000-06-19</td>\n",
       "      <td>Startdate</td>\n",
       "      <td>None</td>\n",
       "      <td>2000-2009</td>\n",
       "      <td>2695.758</td>\n",
       "      <td>2685.154501</td>\n",
       "      <td>L</td>\n",
       "      <td>N/A</td>\n",
       "      <td></td>\n",
       "      <td></td>\n",
       "      <td></td>\n",
       "      <td></td>\n",
       "      <td></td>\n",
       "      <td>None</td>\n",
       "      <td>NWT-2000-2000CR-003</td>\n",
       "      <td></td>\n",
       "      <td></td>\n",
       "      <td>NWT Fire_History_2009.shp</td>\n",
       "      <td>2010-12-16</td>\n",
       "    </tr>\n",
       "    <tr>\n",
       "      <th>20002</th>\n",
       "      <td>NWT</td>\n",
       "      <td>2000CR-009</td>\n",
       "      <td></td>\n",
       "      <td>2000</td>\n",
       "      <td>7</td>\n",
       "      <td>8</td>\n",
       "      <td>2000-07-08</td>\n",
       "      <td>Startdate</td>\n",
       "      <td>None</td>\n",
       "      <td>2000-2009</td>\n",
       "      <td>5761.846</td>\n",
       "      <td>5744.735547</td>\n",
       "      <td>L</td>\n",
       "      <td>N/A</td>\n",
       "      <td></td>\n",
       "      <td></td>\n",
       "      <td></td>\n",
       "      <td></td>\n",
       "      <td></td>\n",
       "      <td>None</td>\n",
       "      <td>NWT-2000-2000CR-009</td>\n",
       "      <td></td>\n",
       "      <td></td>\n",
       "      <td>NWT Fire_History_2009.shp</td>\n",
       "      <td>2010-12-16</td>\n",
       "    </tr>\n",
       "    <tr>\n",
       "      <th>20003</th>\n",
       "      <td>NWT</td>\n",
       "      <td>2000CR-010</td>\n",
       "      <td></td>\n",
       "      <td>2000</td>\n",
       "      <td>7</td>\n",
       "      <td>8</td>\n",
       "      <td>2000-07-08</td>\n",
       "      <td>Startdate</td>\n",
       "      <td>None</td>\n",
       "      <td>2000-2009</td>\n",
       "      <td>9300.668</td>\n",
       "      <td>9250.663417</td>\n",
       "      <td>L</td>\n",
       "      <td>N/A</td>\n",
       "      <td></td>\n",
       "      <td></td>\n",
       "      <td></td>\n",
       "      <td></td>\n",
       "      <td></td>\n",
       "      <td>None</td>\n",
       "      <td>NWT-2000-2000CR-010</td>\n",
       "      <td></td>\n",
       "      <td></td>\n",
       "      <td>NWT Fire_History_2009.shp</td>\n",
       "      <td>2010-12-16</td>\n",
       "    </tr>\n",
       "    <tr>\n",
       "      <th>20004</th>\n",
       "      <td>NWT</td>\n",
       "      <td>2000CR-013</td>\n",
       "      <td></td>\n",
       "      <td>2000</td>\n",
       "      <td>7</td>\n",
       "      <td>18</td>\n",
       "      <td>2000-07-18</td>\n",
       "      <td>Startdate</td>\n",
       "      <td>None</td>\n",
       "      <td>2000-2009</td>\n",
       "      <td>1983.028</td>\n",
       "      <td>1972.366112</td>\n",
       "      <td>L</td>\n",
       "      <td>N/A</td>\n",
       "      <td></td>\n",
       "      <td></td>\n",
       "      <td></td>\n",
       "      <td></td>\n",
       "      <td></td>\n",
       "      <td>None</td>\n",
       "      <td>NWT-2000-2000CR-013</td>\n",
       "      <td></td>\n",
       "      <td></td>\n",
       "      <td>NWT Fire_History_2009.shp</td>\n",
       "      <td>2010-12-16</td>\n",
       "    </tr>\n",
       "    <tr>\n",
       "      <th>20005</th>\n",
       "      <td>NWT</td>\n",
       "      <td>2000CR-019</td>\n",
       "      <td></td>\n",
       "      <td>2000</td>\n",
       "      <td>8</td>\n",
       "      <td>2</td>\n",
       "      <td>2000-08-02</td>\n",
       "      <td>Startdate</td>\n",
       "      <td>None</td>\n",
       "      <td>2000-2009</td>\n",
       "      <td>3886.902</td>\n",
       "      <td>3891.066591</td>\n",
       "      <td>L</td>\n",
       "      <td>N/A</td>\n",
       "      <td></td>\n",
       "      <td></td>\n",
       "      <td></td>\n",
       "      <td></td>\n",
       "      <td></td>\n",
       "      <td>None</td>\n",
       "      <td>NWT-2000-2000CR-019</td>\n",
       "      <td></td>\n",
       "      <td></td>\n",
       "      <td>NWT Fire_History_2009.shp</td>\n",
       "      <td>2010-12-16</td>\n",
       "    </tr>\n",
       "    <tr>\n",
       "      <th>20006</th>\n",
       "      <td>NWT</td>\n",
       "      <td>2000CR-028</td>\n",
       "      <td></td>\n",
       "      <td>2000</td>\n",
       "      <td>8</td>\n",
       "      <td>4</td>\n",
       "      <td>2000-08-04</td>\n",
       "      <td>Startdate</td>\n",
       "      <td>None</td>\n",
       "      <td>2000-2009</td>\n",
       "      <td>464.089</td>\n",
       "      <td>463.989049</td>\n",
       "      <td>L</td>\n",
       "      <td>N/A</td>\n",
       "      <td></td>\n",
       "      <td></td>\n",
       "      <td></td>\n",
       "      <td></td>\n",
       "      <td></td>\n",
       "      <td>None</td>\n",
       "      <td>NWT-2000-2000CR-028</td>\n",
       "      <td></td>\n",
       "      <td></td>\n",
       "      <td>NWT Fire_History_2009.shp</td>\n",
       "      <td>2010-12-16</td>\n",
       "    </tr>\n",
       "    <tr>\n",
       "      <th>20007</th>\n",
       "      <td>NWT</td>\n",
       "      <td>2000CR-005</td>\n",
       "      <td></td>\n",
       "      <td>2000</td>\n",
       "      <td>6</td>\n",
       "      <td>19</td>\n",
       "      <td>2000-06-19</td>\n",
       "      <td>Startdate</td>\n",
       "      <td>None</td>\n",
       "      <td>2000-2009</td>\n",
       "      <td>281.969</td>\n",
       "      <td>280.971620</td>\n",
       "      <td>L</td>\n",
       "      <td>N/A</td>\n",
       "      <td></td>\n",
       "      <td></td>\n",
       "      <td></td>\n",
       "      <td></td>\n",
       "      <td></td>\n",
       "      <td>None</td>\n",
       "      <td>NWT-2000-2000CR-005</td>\n",
       "      <td></td>\n",
       "      <td></td>\n",
       "      <td>NWT Fire_History_2009.shp</td>\n",
       "      <td>2010-12-16</td>\n",
       "    </tr>\n",
       "    <tr>\n",
       "      <th>20008</th>\n",
       "      <td>NWT</td>\n",
       "      <td>2000CR-012</td>\n",
       "      <td></td>\n",
       "      <td>2000</td>\n",
       "      <td>7</td>\n",
       "      <td>18</td>\n",
       "      <td>2000-07-18</td>\n",
       "      <td>Startdate</td>\n",
       "      <td>None</td>\n",
       "      <td>2000-2009</td>\n",
       "      <td>660.390</td>\n",
       "      <td>657.696451</td>\n",
       "      <td>L</td>\n",
       "      <td>N/A</td>\n",
       "      <td></td>\n",
       "      <td></td>\n",
       "      <td></td>\n",
       "      <td></td>\n",
       "      <td></td>\n",
       "      <td>None</td>\n",
       "      <td>NWT-2000-2000CR-012</td>\n",
       "      <td></td>\n",
       "      <td></td>\n",
       "      <td>NWT Fire_History_2009.shp</td>\n",
       "      <td>2010-12-16</td>\n",
       "    </tr>\n",
       "    <tr>\n",
       "      <th>20009</th>\n",
       "      <td>NWT</td>\n",
       "      <td>2000ZF-048</td>\n",
       "      <td></td>\n",
       "      <td>2000</td>\n",
       "      <td>7</td>\n",
       "      <td>17</td>\n",
       "      <td>2000-07-17</td>\n",
       "      <td>Startdate</td>\n",
       "      <td>None</td>\n",
       "      <td>2000-2009</td>\n",
       "      <td>1349.197</td>\n",
       "      <td>1354.630606</td>\n",
       "      <td>L</td>\n",
       "      <td>N/A</td>\n",
       "      <td></td>\n",
       "      <td></td>\n",
       "      <td></td>\n",
       "      <td></td>\n",
       "      <td></td>\n",
       "      <td>None</td>\n",
       "      <td>NWT-2000-2000ZF-048</td>\n",
       "      <td></td>\n",
       "      <td></td>\n",
       "      <td>NWT Fire_History_2009.shp</td>\n",
       "      <td>2010-12-16</td>\n",
       "    </tr>\n",
       "    <tr>\n",
       "      <th>20010</th>\n",
       "      <td>NWT</td>\n",
       "      <td>2000VQ-045</td>\n",
       "      <td></td>\n",
       "      <td>2000</td>\n",
       "      <td>8</td>\n",
       "      <td>1</td>\n",
       "      <td>2000-08-01</td>\n",
       "      <td>Startdate</td>\n",
       "      <td>None</td>\n",
       "      <td>2000-2009</td>\n",
       "      <td>1570.545</td>\n",
       "      <td>1578.228461</td>\n",
       "      <td>L</td>\n",
       "      <td>N/A</td>\n",
       "      <td></td>\n",
       "      <td></td>\n",
       "      <td></td>\n",
       "      <td></td>\n",
       "      <td></td>\n",
       "      <td>None</td>\n",
       "      <td>NWT-2000-2000VQ-045</td>\n",
       "      <td></td>\n",
       "      <td></td>\n",
       "      <td>NWT Fire_History_2009.shp</td>\n",
       "      <td>2010-12-16</td>\n",
       "    </tr>\n",
       "    <tr>\n",
       "      <th>20011</th>\n",
       "      <td>NWT</td>\n",
       "      <td>2000VQ-047</td>\n",
       "      <td></td>\n",
       "      <td>2000</td>\n",
       "      <td>7</td>\n",
       "      <td>31</td>\n",
       "      <td>2000-07-31</td>\n",
       "      <td>Startdate</td>\n",
       "      <td>None</td>\n",
       "      <td>2000-2009</td>\n",
       "      <td>482.604</td>\n",
       "      <td>484.935119</td>\n",
       "      <td>L</td>\n",
       "      <td>N/A</td>\n",
       "      <td></td>\n",
       "      <td></td>\n",
       "      <td></td>\n",
       "      <td></td>\n",
       "      <td></td>\n",
       "      <td>None</td>\n",
       "      <td>NWT-2000-2000VQ-047</td>\n",
       "      <td></td>\n",
       "      <td></td>\n",
       "      <td>NWT Fire_History_2009.shp</td>\n",
       "      <td>2010-12-16</td>\n",
       "    </tr>\n",
       "    <tr>\n",
       "      <th>20012</th>\n",
       "      <td>NWT</td>\n",
       "      <td>2000VQ-046</td>\n",
       "      <td></td>\n",
       "      <td>2000</td>\n",
       "      <td>7</td>\n",
       "      <td>31</td>\n",
       "      <td>2000-07-31</td>\n",
       "      <td>Startdate</td>\n",
       "      <td>None</td>\n",
       "      <td>2000-2009</td>\n",
       "      <td>5902.483</td>\n",
       "      <td>5930.922716</td>\n",
       "      <td>L</td>\n",
       "      <td>N/A</td>\n",
       "      <td></td>\n",
       "      <td></td>\n",
       "      <td></td>\n",
       "      <td></td>\n",
       "      <td></td>\n",
       "      <td>None</td>\n",
       "      <td>NWT-2000-2000VQ-046</td>\n",
       "      <td></td>\n",
       "      <td></td>\n",
       "      <td>NWT Fire_History_2009.shp</td>\n",
       "      <td>2010-12-16</td>\n",
       "    </tr>\n",
       "    <tr>\n",
       "      <th>20013</th>\n",
       "      <td>NWT</td>\n",
       "      <td>2000ZF-045</td>\n",
       "      <td></td>\n",
       "      <td>2000</td>\n",
       "      <td>7</td>\n",
       "      <td>11</td>\n",
       "      <td>2000-07-11</td>\n",
       "      <td>Startdate</td>\n",
       "      <td>None</td>\n",
       "      <td>2000-2009</td>\n",
       "      <td>4843.450</td>\n",
       "      <td>4866.082774</td>\n",
       "      <td>L</td>\n",
       "      <td>N/A</td>\n",
       "      <td></td>\n",
       "      <td></td>\n",
       "      <td></td>\n",
       "      <td></td>\n",
       "      <td></td>\n",
       "      <td>None</td>\n",
       "      <td>NWT-2000-2000ZF-045</td>\n",
       "      <td></td>\n",
       "      <td></td>\n",
       "      <td>NWT Fire_History_2009.shp</td>\n",
       "      <td>2010-12-16</td>\n",
       "    </tr>\n",
       "    <tr>\n",
       "      <th>20014</th>\n",
       "      <td>NWT</td>\n",
       "      <td>2000ZF-082</td>\n",
       "      <td></td>\n",
       "      <td>2000</td>\n",
       "      <td>8</td>\n",
       "      <td>3</td>\n",
       "      <td>2000-08-03</td>\n",
       "      <td>Startdate</td>\n",
       "      <td>None</td>\n",
       "      <td>2000-2009</td>\n",
       "      <td>1475.334</td>\n",
       "      <td>1482.255524</td>\n",
       "      <td>L</td>\n",
       "      <td>N/A</td>\n",
       "      <td></td>\n",
       "      <td></td>\n",
       "      <td></td>\n",
       "      <td></td>\n",
       "      <td></td>\n",
       "      <td>None</td>\n",
       "      <td>NWT-2000-2000ZF-082</td>\n",
       "      <td></td>\n",
       "      <td></td>\n",
       "      <td>NWT Fire_History_2009.shp</td>\n",
       "      <td>2010-12-16</td>\n",
       "    </tr>\n",
       "  </tbody>\n",
       "</table>\n",
       "</div>"
      ],
      "text/plain": [
       "      SRC_AGENCY     FIRE_ID FIRENAME  YEAR  MONTH  DAY    REP_DATE  \\\n",
       "20000        NWT  2000VQ-025           2000      7   17  2000-07-17   \n",
       "20001        NWT  2000CR-003           2000      6   19  2000-06-19   \n",
       "20002        NWT  2000CR-009           2000      7    8  2000-07-08   \n",
       "20003        NWT  2000CR-010           2000      7    8  2000-07-08   \n",
       "20004        NWT  2000CR-013           2000      7   18  2000-07-18   \n",
       "20005        NWT  2000CR-019           2000      8    2  2000-08-02   \n",
       "20006        NWT  2000CR-028           2000      8    4  2000-08-04   \n",
       "20007        NWT  2000CR-005           2000      6   19  2000-06-19   \n",
       "20008        NWT  2000CR-012           2000      7   18  2000-07-18   \n",
       "20009        NWT  2000ZF-048           2000      7   17  2000-07-17   \n",
       "20010        NWT  2000VQ-045           2000      8    1  2000-08-01   \n",
       "20011        NWT  2000VQ-047           2000      7   31  2000-07-31   \n",
       "20012        NWT  2000VQ-046           2000      7   31  2000-07-31   \n",
       "20013        NWT  2000ZF-045           2000      7   11  2000-07-11   \n",
       "20014        NWT  2000ZF-082           2000      8    3  2000-08-03   \n",
       "\n",
       "       DATE_TYPE OUT_DATE     DECADE   SIZE_HA      CALC_HA CAUSE MAP_SOURCE  \\\n",
       "20000  Startdate     None  2000-2009  2614.336  2625.615863     L        N/A   \n",
       "20001  Startdate     None  2000-2009  2695.758  2685.154501     L        N/A   \n",
       "20002  Startdate     None  2000-2009  5761.846  5744.735547     L        N/A   \n",
       "20003  Startdate     None  2000-2009  9300.668  9250.663417     L        N/A   \n",
       "20004  Startdate     None  2000-2009  1983.028  1972.366112     L        N/A   \n",
       "20005  Startdate     None  2000-2009  3886.902  3891.066591     L        N/A   \n",
       "20006  Startdate     None  2000-2009   464.089   463.989049     L        N/A   \n",
       "20007  Startdate     None  2000-2009   281.969   280.971620     L        N/A   \n",
       "20008  Startdate     None  2000-2009   660.390   657.696451     L        N/A   \n",
       "20009  Startdate     None  2000-2009  1349.197  1354.630606     L        N/A   \n",
       "20010  Startdate     None  2000-2009  1570.545  1578.228461     L        N/A   \n",
       "20011  Startdate     None  2000-2009   482.604   484.935119     L        N/A   \n",
       "20012  Startdate     None  2000-2009  5902.483  5930.922716     L        N/A   \n",
       "20013  Startdate     None  2000-2009  4843.450  4866.082774     L        N/A   \n",
       "20014  Startdate     None  2000-2009  1475.334  1482.255524     L        N/A   \n",
       "\n",
       "      SOURCE_KEY MAP_METHOD WATER_REM UNBURN_REM MORE_INFO POLY_DATE  \\\n",
       "20000                                                           None   \n",
       "20001                                                           None   \n",
       "20002                                                           None   \n",
       "20003                                                           None   \n",
       "20004                                                           None   \n",
       "20005                                                           None   \n",
       "20006                                                           None   \n",
       "20007                                                           None   \n",
       "20008                                                           None   \n",
       "20009                                                           None   \n",
       "20010                                                           None   \n",
       "20011                                                           None   \n",
       "20012                                                           None   \n",
       "20013                                                           None   \n",
       "20014                                                           None   \n",
       "\n",
       "                CFS_REF_ID CFS_NOTE1 CFS_NOTE2                 AG_SRCFILE  \\\n",
       "20000  NWT-2000-2000VQ-025                      NWT Fire_History_2009.shp   \n",
       "20001  NWT-2000-2000CR-003                      NWT Fire_History_2009.shp   \n",
       "20002  NWT-2000-2000CR-009                      NWT Fire_History_2009.shp   \n",
       "20003  NWT-2000-2000CR-010                      NWT Fire_History_2009.shp   \n",
       "20004  NWT-2000-2000CR-013                      NWT Fire_History_2009.shp   \n",
       "20005  NWT-2000-2000CR-019                      NWT Fire_History_2009.shp   \n",
       "20006  NWT-2000-2000CR-028                      NWT Fire_History_2009.shp   \n",
       "20007  NWT-2000-2000CR-005                      NWT Fire_History_2009.shp   \n",
       "20008  NWT-2000-2000CR-012                      NWT Fire_History_2009.shp   \n",
       "20009  NWT-2000-2000ZF-048                      NWT Fire_History_2009.shp   \n",
       "20010  NWT-2000-2000VQ-045                      NWT Fire_History_2009.shp   \n",
       "20011  NWT-2000-2000VQ-047                      NWT Fire_History_2009.shp   \n",
       "20012  NWT-2000-2000VQ-046                      NWT Fire_History_2009.shp   \n",
       "20013  NWT-2000-2000ZF-045                      NWT Fire_History_2009.shp   \n",
       "20014  NWT-2000-2000ZF-082                      NWT Fire_History_2009.shp   \n",
       "\n",
       "         ACQ_DATE  \n",
       "20000  2010-12-16  \n",
       "20001  2010-12-16  \n",
       "20002  2010-12-16  \n",
       "20003  2010-12-16  \n",
       "20004  2010-12-16  \n",
       "20005  2010-12-16  \n",
       "20006  2010-12-16  \n",
       "20007  2010-12-16  \n",
       "20008  2010-12-16  \n",
       "20009  2010-12-16  \n",
       "20010  2010-12-16  \n",
       "20011  2010-12-16  \n",
       "20012  2010-12-16  \n",
       "20013  2010-12-16  \n",
       "20014  2010-12-16  "
      ]
     },
     "execution_count": 123,
     "metadata": {},
     "output_type": "execute_result"
    }
   ],
   "source": [
    "df_canlg[20000:20015]"
   ]
  },
  {
   "cell_type": "markdown",
   "metadata": {
    "heading_collapsed": true
   },
   "source": [
    "### BC"
   ]
  },
  {
   "cell_type": "code",
   "execution_count": 132,
   "metadata": {
    "hidden": true
   },
   "outputs": [],
   "source": [
    "bc_dbf = DBF('../data/BC/PROT_HISTORICAL_FIRE_POLYS_SP/H_FIRE_PLY_polygon.dbf',encoding='UTF-8')"
   ]
  },
  {
   "cell_type": "code",
   "execution_count": 133,
   "metadata": {
    "hidden": true
   },
   "outputs": [
    {
     "data": {
      "text/plain": [
       "(22207, 16)"
      ]
     },
     "execution_count": 133,
     "metadata": {},
     "output_type": "execute_result"
    }
   ],
   "source": [
    "df_bc = pd.DataFrame(iter(bc_dbf))\n",
    "df_bc.shape"
   ]
  },
  {
   "cell_type": "code",
   "execution_count": 142,
   "metadata": {
    "hidden": true
   },
   "outputs": [
    {
     "data": {
      "text/html": [
       "<div>\n",
       "<style scoped>\n",
       "    .dataframe tbody tr th:only-of-type {\n",
       "        vertical-align: middle;\n",
       "    }\n",
       "\n",
       "    .dataframe tbody tr th {\n",
       "        vertical-align: top;\n",
       "    }\n",
       "\n",
       "    .dataframe thead th {\n",
       "        text-align: right;\n",
       "    }\n",
       "</style>\n",
       "<table border=\"1\" class=\"dataframe\">\n",
       "  <thead>\n",
       "    <tr style=\"text-align: right;\">\n",
       "      <th></th>\n",
       "      <th>FIRE_NO</th>\n",
       "      <th>VERSION_NO</th>\n",
       "      <th>FIRE_YEAR</th>\n",
       "      <th>FIRE_CAUSE</th>\n",
       "      <th>FIRELABEL</th>\n",
       "      <th>SIZE_HA</th>\n",
       "      <th>SOURCE</th>\n",
       "      <th>TRACK_DATE</th>\n",
       "      <th>LOAD_DATE</th>\n",
       "      <th>FIRE_DATE</th>\n",
       "      <th>METHOD</th>\n",
       "      <th>FCODE</th>\n",
       "      <th>SHAPE</th>\n",
       "      <th>OBJECTID</th>\n",
       "      <th>AREA_SQM</th>\n",
       "      <th>FEAT_LEN</th>\n",
       "    </tr>\n",
       "  </thead>\n",
       "  <tbody>\n",
       "    <tr>\n",
       "      <th>20335</th>\n",
       "      <td>G70005</td>\n",
       "      <td>2.013043e+09</td>\n",
       "      <td>2013</td>\n",
       "      <td>Person</td>\n",
       "      <td>2013-G70005</td>\n",
       "      <td>23.5</td>\n",
       "      <td>OZIX</td>\n",
       "      <td>20130425</td>\n",
       "      <td>20130425</td>\n",
       "      <td>20130423</td>\n",
       "      <td>GPS-TRACK</td>\n",
       "      <td>JA70003000</td>\n",
       "      <td>None</td>\n",
       "      <td>1372416</td>\n",
       "      <td>235632.8302</td>\n",
       "      <td>2023.1076</td>\n",
       "    </tr>\n",
       "    <tr>\n",
       "      <th>20354</th>\n",
       "      <td>G70012</td>\n",
       "      <td>2.013043e+09</td>\n",
       "      <td>2013</td>\n",
       "      <td>Person</td>\n",
       "      <td>2013-G70012</td>\n",
       "      <td>33.9</td>\n",
       "      <td>OZIX</td>\n",
       "      <td>20130428</td>\n",
       "      <td>20130428</td>\n",
       "      <td>20130427</td>\n",
       "      <td>GPS-TRACK</td>\n",
       "      <td>JA70003000</td>\n",
       "      <td>None</td>\n",
       "      <td>1372418</td>\n",
       "      <td>339111.6936</td>\n",
       "      <td>3713.3696</td>\n",
       "    </tr>\n",
       "    <tr>\n",
       "      <th>20355</th>\n",
       "      <td>G70013</td>\n",
       "      <td>2.013043e+09</td>\n",
       "      <td>2013</td>\n",
       "      <td>Person</td>\n",
       "      <td>2013-G70013</td>\n",
       "      <td>3.9</td>\n",
       "      <td>OZIX</td>\n",
       "      <td>20130429</td>\n",
       "      <td>20130429</td>\n",
       "      <td>20130428</td>\n",
       "      <td>GPS-TRACK</td>\n",
       "      <td>JA70003000</td>\n",
       "      <td>None</td>\n",
       "      <td>1372419</td>\n",
       "      <td>39857.5587</td>\n",
       "      <td>923.9305</td>\n",
       "    </tr>\n",
       "    <tr>\n",
       "      <th>20127</th>\n",
       "      <td>G70024</td>\n",
       "      <td>2.013050e+09</td>\n",
       "      <td>2013</td>\n",
       "      <td>Person</td>\n",
       "      <td>2013-G70024</td>\n",
       "      <td>51.6</td>\n",
       "      <td>OZIX</td>\n",
       "      <td>20130505</td>\n",
       "      <td>20130505</td>\n",
       "      <td>20130504</td>\n",
       "      <td>GPS-TRACK</td>\n",
       "      <td>JA70003000</td>\n",
       "      <td>None</td>\n",
       "      <td>1372425</td>\n",
       "      <td>516070.1440</td>\n",
       "      <td>6868.0206</td>\n",
       "    </tr>\n",
       "    <tr>\n",
       "      <th>20128</th>\n",
       "      <td>G70026</td>\n",
       "      <td>2.013050e+09</td>\n",
       "      <td>2013</td>\n",
       "      <td>Person</td>\n",
       "      <td>2013-G70026</td>\n",
       "      <td>3.3</td>\n",
       "      <td>OZIX</td>\n",
       "      <td>20130505</td>\n",
       "      <td>20130505</td>\n",
       "      <td>20130504</td>\n",
       "      <td>GPS-TRACK</td>\n",
       "      <td>JA70003000</td>\n",
       "      <td>None</td>\n",
       "      <td>1372426</td>\n",
       "      <td>33333.7481</td>\n",
       "      <td>889.3940</td>\n",
       "    </tr>\n",
       "    <tr>\n",
       "      <th>20337</th>\n",
       "      <td>G70027</td>\n",
       "      <td>2.013051e+09</td>\n",
       "      <td>2013</td>\n",
       "      <td>Person</td>\n",
       "      <td>2013-G70027</td>\n",
       "      <td>68.7</td>\n",
       "      <td>OZIX</td>\n",
       "      <td>20130611</td>\n",
       "      <td>20130611</td>\n",
       "      <td>20130505</td>\n",
       "      <td>GPS-TRACK</td>\n",
       "      <td>JA70003000</td>\n",
       "      <td>None</td>\n",
       "      <td>1372468</td>\n",
       "      <td>687648.9424</td>\n",
       "      <td>4060.2241</td>\n",
       "    </tr>\n",
       "    <tr>\n",
       "      <th>20339</th>\n",
       "      <td>G70030</td>\n",
       "      <td>2.013062e+09</td>\n",
       "      <td>2013</td>\n",
       "      <td>Person</td>\n",
       "      <td>2013-G70030</td>\n",
       "      <td>48.0</td>\n",
       "      <td>OZIX</td>\n",
       "      <td>20130620</td>\n",
       "      <td>20130620</td>\n",
       "      <td>20130505</td>\n",
       "      <td>GPS-TRACK</td>\n",
       "      <td>JA70003000</td>\n",
       "      <td>None</td>\n",
       "      <td>1372470</td>\n",
       "      <td>480789.1955</td>\n",
       "      <td>3669.0389</td>\n",
       "    </tr>\n",
       "    <tr>\n",
       "      <th>20338</th>\n",
       "      <td>G70035</td>\n",
       "      <td>2.013051e+09</td>\n",
       "      <td>2013</td>\n",
       "      <td>Person</td>\n",
       "      <td>2013-G70035</td>\n",
       "      <td>40.5</td>\n",
       "      <td>OZIX</td>\n",
       "      <td>20130611</td>\n",
       "      <td>20130611</td>\n",
       "      <td>20130425</td>\n",
       "      <td>GPS-TRACK</td>\n",
       "      <td>JA70003000</td>\n",
       "      <td>None</td>\n",
       "      <td>1372469</td>\n",
       "      <td>405305.5485</td>\n",
       "      <td>3530.7840</td>\n",
       "    </tr>\n",
       "    <tr>\n",
       "      <th>20150</th>\n",
       "      <td>G70039</td>\n",
       "      <td>2.013051e+09</td>\n",
       "      <td>2013</td>\n",
       "      <td>Person</td>\n",
       "      <td>2013-G70039</td>\n",
       "      <td>79.5</td>\n",
       "      <td>OZIX</td>\n",
       "      <td>20130508</td>\n",
       "      <td>20130508</td>\n",
       "      <td>20130501</td>\n",
       "      <td>GPS-TRACK</td>\n",
       "      <td>JA70003000</td>\n",
       "      <td>None</td>\n",
       "      <td>1372433</td>\n",
       "      <td>795821.5310</td>\n",
       "      <td>7236.0028</td>\n",
       "    </tr>\n",
       "    <tr>\n",
       "      <th>20340</th>\n",
       "      <td>G70042</td>\n",
       "      <td>2.013051e+09</td>\n",
       "      <td>2013</td>\n",
       "      <td>Person</td>\n",
       "      <td>2013-G70042</td>\n",
       "      <td>60.7</td>\n",
       "      <td>OZIX</td>\n",
       "      <td>20130620</td>\n",
       "      <td>20130620</td>\n",
       "      <td>20130506</td>\n",
       "      <td>GPS-TRACK</td>\n",
       "      <td>JA70003000</td>\n",
       "      <td>None</td>\n",
       "      <td>1372471</td>\n",
       "      <td>607455.5359</td>\n",
       "      <td>3493.7346</td>\n",
       "    </tr>\n",
       "  </tbody>\n",
       "</table>\n",
       "</div>"
      ],
      "text/plain": [
       "      FIRE_NO    VERSION_NO  FIRE_YEAR FIRE_CAUSE    FIRELABEL  SIZE_HA  \\\n",
       "20335  G70005  2.013043e+09       2013     Person  2013-G70005     23.5   \n",
       "20354  G70012  2.013043e+09       2013     Person  2013-G70012     33.9   \n",
       "20355  G70013  2.013043e+09       2013     Person  2013-G70013      3.9   \n",
       "20127  G70024  2.013050e+09       2013     Person  2013-G70024     51.6   \n",
       "20128  G70026  2.013050e+09       2013     Person  2013-G70026      3.3   \n",
       "20337  G70027  2.013051e+09       2013     Person  2013-G70027     68.7   \n",
       "20339  G70030  2.013062e+09       2013     Person  2013-G70030     48.0   \n",
       "20338  G70035  2.013051e+09       2013     Person  2013-G70035     40.5   \n",
       "20150  G70039  2.013051e+09       2013     Person  2013-G70039     79.5   \n",
       "20340  G70042  2.013051e+09       2013     Person  2013-G70042     60.7   \n",
       "\n",
       "      SOURCE TRACK_DATE LOAD_DATE FIRE_DATE     METHOD       FCODE SHAPE  \\\n",
       "20335   OZIX   20130425  20130425  20130423  GPS-TRACK  JA70003000  None   \n",
       "20354   OZIX   20130428  20130428  20130427  GPS-TRACK  JA70003000  None   \n",
       "20355   OZIX   20130429  20130429  20130428  GPS-TRACK  JA70003000  None   \n",
       "20127   OZIX   20130505  20130505  20130504  GPS-TRACK  JA70003000  None   \n",
       "20128   OZIX   20130505  20130505  20130504  GPS-TRACK  JA70003000  None   \n",
       "20337   OZIX   20130611  20130611  20130505  GPS-TRACK  JA70003000  None   \n",
       "20339   OZIX   20130620  20130620  20130505  GPS-TRACK  JA70003000  None   \n",
       "20338   OZIX   20130611  20130611  20130425  GPS-TRACK  JA70003000  None   \n",
       "20150   OZIX   20130508  20130508  20130501  GPS-TRACK  JA70003000  None   \n",
       "20340   OZIX   20130620  20130620  20130506  GPS-TRACK  JA70003000  None   \n",
       "\n",
       "       OBJECTID     AREA_SQM   FEAT_LEN  \n",
       "20335   1372416  235632.8302  2023.1076  \n",
       "20354   1372418  339111.6936  3713.3696  \n",
       "20355   1372419   39857.5587   923.9305  \n",
       "20127   1372425  516070.1440  6868.0206  \n",
       "20128   1372426   33333.7481   889.3940  \n",
       "20337   1372468  687648.9424  4060.2241  \n",
       "20339   1372470  480789.1955  3669.0389  \n",
       "20338   1372469  405305.5485  3530.7840  \n",
       "20150   1372433  795821.5310  7236.0028  \n",
       "20340   1372471  607455.5359  3493.7346  "
      ]
     },
     "execution_count": 142,
     "metadata": {},
     "output_type": "execute_result"
    }
   ],
   "source": [
    "df1_bc = df_bc.sort_values(by=['FIRELABEL'])\n",
    "df1_bc[20000:20010]"
   ]
  }
 ],
 "metadata": {
  "kernelspec": {
   "display_name": "Python 3",
   "language": "python",
   "name": "python3"
  },
  "language_info": {
   "codemirror_mode": {
    "name": "ipython",
    "version": 3
   },
   "file_extension": ".py",
   "mimetype": "text/x-python",
   "name": "python",
   "nbconvert_exporter": "python",
   "pygments_lexer": "ipython3",
   "version": "3.7.6"
  },
  "toc": {
   "base_numbering": 1,
   "nav_menu": {},
   "number_sections": true,
   "sideBar": true,
   "skip_h1_title": false,
   "title_cell": "Table of Contents",
   "title_sidebar": "Contents",
   "toc_cell": false,
   "toc_position": {
    "height": "calc(100% - 180px)",
    "left": "10px",
    "top": "150px",
    "width": "512px"
   },
   "toc_section_display": true,
   "toc_window_display": true
  }
 },
 "nbformat": 4,
 "nbformat_minor": 2
}
