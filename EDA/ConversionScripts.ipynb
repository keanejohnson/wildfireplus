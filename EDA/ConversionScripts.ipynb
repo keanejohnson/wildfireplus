{
 "cells": [
  {
   "cell_type": "markdown",
   "metadata": {
    "Collapsed": "false"
   },
   "source": [
    "# Single Lat Long to GeoTiff CRS"
   ]
  },
  {
   "cell_type": "code",
   "execution_count": 6,
   "metadata": {
    "Collapsed": "false"
   },
   "outputs": [],
   "source": [
    "def convert_point(lat,long):\n",
    "    \"\"\"Convert Coordinate Reference systems from map lat/long\n",
    "    to fire raster CRS\n",
    "    Input: Point of latitude,longitude - in that order\n",
    "    Output: Tuple of (x,y) in CRS coordinates\n",
    "    \"\"\"\n",
    "    \n",
    "    import geopandas as gpd\n",
    "    from shapely.geometry import Point\n",
    "    \n",
    "    # Declare point (longitude (or x) always comes first, then latitude (y))\n",
    "    point = Point(long,lat)\n",
    "    \n",
    "    # Set Source CRS (Mapbox or Google Maps)\n",
    "    src_crs = \"EPSG:4326\"\n",
    "    \n",
    "    # create dataframe from input lat/long\n",
    "    gdf=gpd.GeoDataFrame(index=[0],crs = src_crs, geometry=[point])\n",
    "        \n",
    "    # Change CRS to match Wildfire CRS (3857)\n",
    "    gdf_tf = gdf.to_crs(\"epsg:3857\")\n",
    "    \n",
    "    # pull x and y value out from the POINT attribute, then get\n",
    "    # the value in the data series at row[0]\n",
    "    x = gdf_tf.geometry.x.at[0]\n",
    "    y = gdf_tf.geometry.y.at[0]\n",
    "        \n",
    "    return (x,y)"
   ]
  },
  {
   "cell_type": "code",
   "execution_count": 8,
   "metadata": {
    "Collapsed": "false"
   },
   "outputs": [
    {
     "name": "stdout",
     "output_type": "stream",
     "text": [
      "-13580977.876779376 4411265.910262686\n"
     ]
    }
   ],
   "source": [
    "x,y = convert_point(36.8,-122.0)\n",
    "print(x,y)"
   ]
  },
  {
   "cell_type": "markdown",
   "metadata": {
    "Collapsed": "false"
   },
   "source": [
    "# List of Fire polygon points in Fire CRS to Lat Long"
   ]
  },
  {
   "cell_type": "code",
   "execution_count": 3,
   "metadata": {
    "Collapsed": "false"
   },
   "outputs": [],
   "source": [
    "def convert_polygon(fire_polygon):\n",
    "    \"\"\"Convert Coord ref system (CRS) from fire data (EPSG 3857) to map \n",
    "    lat/long (EPSG 4326), polygon starts and ends on same point (to close it)\n",
    "    \n",
    "    Input: list containing tuples of x,y points in fire CRS that describe a polygon\n",
    "    Output: list containing tuples of lat/long points that describe the polygon\n",
    "    \"\"\"\n",
    "    from shapely import geometry\n",
    "    import geopandas as gpd\n",
    "    import numpy as np\n",
    "    # create polygon\n",
    "    poly = geometry.Polygon([(p[0], p[1]) for p in fire_polygon])\n",
    "    \n",
    "    #CRS\n",
    "    src_crs = \"EPSG:3857\"\n",
    "    dst_crs = \"EPSG:4326\"\n",
    "    \n",
    "    # Create Geo DataFrame\n",
    "    gfp = gpd.GeoDataFrame(index=[0],crs=src_crs,geometry=[poly])\n",
    "    \n",
    "    # Convert CRS\n",
    "    gfp2 = gfp.to_crs(dst_crs)\n",
    "    \n",
    "    # pull data from dataframe\n",
    "    polyout = gfp2.iloc[0]['geometry']\n",
    "    \n",
    "    # create list of tuples, but longitude is first\n",
    "    l = list(map(tuple,np.asarray(polyout.exterior.coords)))\n",
    "    l = list(map(lambda m: (m[1],m[0]), l))\n",
    "    \n",
    "    return l\n",
    "    "
   ]
  },
  {
   "cell_type": "code",
   "execution_count": 4,
   "metadata": {
    "Collapsed": "false"
   },
   "outputs": [],
   "source": [
    "points = [(-13580977.876779376, 4411265.910262686),\n",
    " (-13348542.780003022, 4411265.910262686),\n",
    " (-13348542.780003022, 4172037.896749009),\n",
    " (-13580977.876779376, 4172037.896749009),\n",
    " (-13580977.876779376, 4411265.910262686)]"
   ]
  },
  {
   "cell_type": "code",
   "execution_count": 5,
   "metadata": {
    "Collapsed": "false"
   },
   "outputs": [
    {
     "name": "stdout",
     "output_type": "stream",
     "text": [
      "[(36.79999999999999, -122.0), (36.79999999999999, -119.91200000000002), (35.06000000000001, -119.91200000000002), (35.06000000000001, -122.0), (36.79999999999999, -122.0)]\n"
     ]
    }
   ],
   "source": [
    "x = convert_polygon(points)\n",
    "print(x)"
   ]
  }
 ],
 "metadata": {
  "kernelspec": {
   "display_name": "Python 3",
   "language": "python",
   "name": "python3"
  },
  "language_info": {
   "codemirror_mode": {
    "name": "ipython",
    "version": 3
   },
   "file_extension": ".py",
   "mimetype": "text/x-python",
   "name": "python",
   "nbconvert_exporter": "python",
   "pygments_lexer": "ipython3",
   "version": "3.7.6"
  }
 },
 "nbformat": 4,
 "nbformat_minor": 4
}
