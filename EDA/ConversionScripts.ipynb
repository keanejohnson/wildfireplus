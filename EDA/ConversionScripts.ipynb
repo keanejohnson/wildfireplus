{
 "cells": [
  {
   "cell_type": "code",
   "execution_count": 3,
   "metadata": {
    "Collapsed": "false"
   },
   "outputs": [
    {
     "name": "stdout",
     "output_type": "stream",
     "text": [
      "Python Version = 3.7.6 | packaged by conda-forge | (default, Jan  7 2020, 21:48:41) [MSC v.1916 64 bit (AMD64)]\n",
      "Geopandas Version = 0.7.0\n"
     ]
    }
   ],
   "source": [
    "# import geopandas as gpd\n",
    "# #from shapely.geometry import Point\n",
    "# import sys\n",
    "# print(f\"Python Version = {sys.version}\")\n",
    "# #print(f\"Pandas Version = {pd.__version__}\")\n",
    "# print(f\"Geopandas Version = {gpd.__version__}\")\n",
    "# #print(f\"rasterio version = {rio._base.gdal_version()}\")"
   ]
  },
  {
   "cell_type": "markdown",
   "metadata": {
    "Collapsed": "false"
   },
   "source": [
    "# Single Lat Long to GeoTiff CRS"
   ]
  },
  {
   "cell_type": "code",
   "execution_count": 106,
   "metadata": {
    "Collapsed": "false"
   },
   "outputs": [],
   "source": [
    "def convert_point(lat,long):\n",
    "    \"\"\"Convert Coordinate Reference systems from map lat/long\n",
    "    to fire raster CRS\n",
    "    Input: Point of latitude,longitude\n",
    "    Output: Tuple of (x,y) in CRS coordinates\n",
    "    \"\"\"\n",
    "    \n",
    "    import geopandas as gpd\n",
    "    from shapely.geometry import Point\n",
    "    \n",
    "    # Declare point\n",
    "    point = Point(lat,long)\n",
    "    \n",
    "    # Set Source CRS (Mapbox or Google Maps)\n",
    "    src_crs = \"EPSG:4326\"\n",
    "    \n",
    "    # create dataframe from input lat/long\n",
    "    gdf=gpd.GeoDataFrame(index=[0],crs = src_crs, geometry=[point])\n",
    "        \n",
    "    # Change CRS to match Wildfire CRS (3857)\n",
    "    gdf_tf = gdf.to_crs(\"epsg:3857\")\n",
    "    \n",
    "    # pull x and y value out from the POINT attribute, then get\n",
    "    # the value in the data series at row[0]\n",
    "    x = gdf_tf.geometry.x.at[0]\n",
    "    y = gdf_tf.geometry.y.at[0]\n",
    "        \n",
    "    return (x,y)"
   ]
  },
  {
   "cell_type": "code",
   "execution_count": 105,
   "metadata": {
    "Collapsed": "false"
   },
   "outputs": [
    {
     "name": "stdout",
     "output_type": "stream",
     "text": [
      "                            geometry\n",
      "0  POINT (-13580977.877 4411265.910)\n",
      "-13580977.876779376 <class 'numpy.float64'>\n",
      "-13580977.876779376 4411265.910262686\n"
     ]
    }
   ],
   "source": [
    "x,y = convert_point(-122.0,36.8)\n",
    "print(x,y)"
   ]
  },
  {
   "cell_type": "code",
   "execution_count": null,
   "metadata": {
    "Collapsed": "false"
   },
   "outputs": [],
   "source": [
    "def convert_polygon(fire_polygon):\n",
    "    \"\"\"Convert Coord ref system (CRS) from fire\n",
    "    data (EPSG 3857) to map lat/long (EPSG 4326)\n",
    "    Input: list containing tuples of x,y points that describe a polygon\n",
    "    Output: list containing tuples of lat/long points that describe the polygon\n",
    "    \"\"\"\n",
    "    \n",
    "    "
   ]
  },
  {
   "cell_type": "code",
   "execution_count": 32,
   "metadata": {
    "Collapsed": "false"
   },
   "outputs": [
    {
     "name": "stdout",
     "output_type": "stream",
     "text": [
      "EPSG:4326\n",
      "[-122, -119.912, -119.912, -122, -122] [36.8, 36.8, 35.06, 35.06, 36.8]\n",
      "POLYGON ((-122 36.8, -119.912 36.8, -119.912 35.06, -122 35.06, -122 36.8))\n",
      "0    POLYGON ((-122.00000 36.80000, -119.91200 36.8...\n",
      "Name: geometry, dtype: geometry\n",
      "                                            geometry\n",
      "0  POLYGON ((-122.00000 36.80000, -119.91200 36.8...\n"
     ]
    },
    {
     "data": {
      "text/html": [
       "<div>\n",
       "<style scoped>\n",
       "    .dataframe tbody tr th:only-of-type {\n",
       "        vertical-align: middle;\n",
       "    }\n",
       "\n",
       "    .dataframe tbody tr th {\n",
       "        vertical-align: top;\n",
       "    }\n",
       "\n",
       "    .dataframe thead th {\n",
       "        text-align: right;\n",
       "    }\n",
       "</style>\n",
       "<table border=\"1\" class=\"dataframe\">\n",
       "  <thead>\n",
       "    <tr style=\"text-align: right;\">\n",
       "      <th></th>\n",
       "      <th>geometry</th>\n",
       "    </tr>\n",
       "  </thead>\n",
       "  <tbody>\n",
       "    <tr>\n",
       "      <th>0</th>\n",
       "      <td>POLYGON ((-13580977.877 4411265.910, -13348542...</td>\n",
       "    </tr>\n",
       "  </tbody>\n",
       "</table>\n",
       "</div>"
      ],
      "text/plain": [
       "                                            geometry\n",
       "0  POLYGON ((-13580977.877 4411265.910, -13348542..."
      ]
     },
     "execution_count": 32,
     "metadata": {},
     "output_type": "execute_result"
    }
   ],
   "source": [
    "from shapely.geometry import Polygon\n",
    "# Set source CRS - this is the google maps CRS\n",
    "bb_gdf_orig_crs = \"EPSG:4326\"\n",
    "print(bb_gdf_orig_crs)\n",
    "\n",
    "bb_long = [-122, -119.912,-119.912,-122,-122 ]\n",
    "bb_lat = [36.8, 36.8, 35.06, 35.06,36.8]\n",
    "print(bb_long,bb_lat)\n",
    "bb_poly = Polygon(zip(bb_long,bb_lat))\n",
    "print(bb_poly)\n",
    "bb_gdf2 = gpd.GeoDataFrame(index=[0],crs=bb_gdf_orig_crs,geometry = [bb_poly])\n",
    "print(bb_gdf2.geometry)\n",
    "print(bb_gdf2)\n",
    "# Change CRS of polygon to match other work here\n",
    "bb_gdf2 = bb_gdf2.to_crs(epsg=3857)\n",
    "bb_gdf2"
   ]
  },
  {
   "cell_type": "code",
   "execution_count": 119,
   "metadata": {
    "Collapsed": "false"
   },
   "outputs": [
    {
     "name": "stdout",
     "output_type": "stream",
     "text": [
      "[[-13580977.87677938   4411265.91026269]\n",
      " [-13348542.78000302   4411265.91026269]\n",
      " [-13348542.78000302   4172037.89674901]\n",
      " [-13580977.87677938   4172037.89674901]\n",
      " [-13580977.87677938   4411265.91026269]]\n"
     ]
    }
   ],
   "source": [
    "import numpy as np\n",
    "poly = bb_gdf2.geometry\n",
    "points = np.asarray(poly[0].exterior.coords)\n",
    "print(points)"
   ]
  }
 ],
 "metadata": {
  "kernelspec": {
   "display_name": "Python 3",
   "language": "python",
   "name": "python3"
  },
  "language_info": {
   "codemirror_mode": {
    "name": "ipython",
    "version": 3
   },
   "file_extension": ".py",
   "mimetype": "text/x-python",
   "name": "python",
   "nbconvert_exporter": "python",
   "pygments_lexer": "ipython3",
   "version": "3.7.6"
  }
 },
 "nbformat": 4,
 "nbformat_minor": 4
}
