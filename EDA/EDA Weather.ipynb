{
 "cells": [
  {
   "cell_type": "code",
   "execution_count": 25,
   "metadata": {},
   "outputs": [],
   "source": [
    "import numpy as np\n",
    "import itertools\n",
    "import requests\n",
    "import datetime\n",
    "import time\n",
    "import json\n",
    "from datetime import datetime"
   ]
  },
  {
   "cell_type": "markdown",
   "metadata": {
    "toc-hr-collapsed": false
   },
   "source": [
    "# Requests \n",
    "\n",
    "From GEO EDA sheet:"
   ]
  },
  {
   "cell_type": "markdown",
   "metadata": {
    "heading_collapsed": true
   },
   "source": [
    "## DarkSky Sample"
   ]
  },
  {
   "cell_type": "markdown",
   "metadata": {
    "hidden": true
   },
   "source": [
    "1) cheapest seems to be DarkSky. 1000 per day for free 2) $0.0001 per request after that 3) Request: \" https://api.darksky.net/forecast/[key]/40.036944,-121.005833,2005-02-02T17:30:00\" (my api key removed)\n",
    "\n",
    "Output is like this: {\"latitude\":40.036944,\"longitude\":-121.005833,\"timezone\":\"America/Los_Angeles\",\"currently\":{\"time\":1107394200,\"precipIntensity\":0,\"precipProbability\":0,\"temperature\":50.24,\"apparentTemperature\":50.41,\"dewPoint\":13.85,\"humidity\":0.23,\"windSpeed\":2.62,\"windGust\":13.17,\"windBearing\":24,\"uvIndex\":0},\"hourly\":{\"data\":\n",
    "...\n",
    "{\"time\":1107414000,\"precipIntensity\":0,\"precipProbability\":0,\"temperature\":41.2,\"apparentTemperature\":41.2,\"dewPoint\":12.53,\"humidity\":0.31,\"windSpeed\":1.56,\"windGust\":12.79,\"windBearing\":100,\"uvIndex\":0}]},\"daily\":{\"data\":[{\"time\":1107331200,\"sunriseTime\":1107357120,\"sunsetTime\":1107393960,\"moonPhase\":0.78,\"precipIntensity\":0,\"precipIntensityMax\":0,\"precipProbability\":0,\"temperatureHigh\":57.95,\"temperatureHighTime\":1107384600,\"temperatureLow\":38.42,\"temperatureLowTime\":1107439200,\"apparentTemperatureHigh\":57.45,\"apparentTemperatureHighTime\":1107384600,\"apparentTemperatureLow\":38.91,\"apparentTemperatureLowTime\":1107439200,\"dewPoint\":14.85,\"humidity\":0.31,\"windSpeed\":3.33,\"windGust\":14.83,\"windGustTime\":1107390840,\"windBearing\":76,\"uvIndex\":0,\"uvIndexTime\":1107331200,\"temperatureMin\":35.03,\"temperatureMinTime\":1107359100,\"temperatureMax\":57.95,\"temperatureMaxTime\":1107384600,\"apparentTemperatureMin\":34.3,\"apparentTemperatureMinTime\":1107338640,\"apparentTemperatureMax\":57.45,\"apparentTemperatureMaxTime\":1107384600}]},\"flags\":{\"sources\":[\"cmc\",\"gfs\",\"hrrr\",\"icon\",\"isd\",\"madis\",\"nam\",\"sref\"],\"nearest-station\":3.312,\"units\":\"us\"},\"offset\":-8}"
   ]
  },
  {
   "cell_type": "markdown",
   "metadata": {},
   "source": [
    "## Dark Sky locality"
   ]
  },
  {
   "cell_type": "code",
   "execution_count": 2,
   "metadata": {},
   "outputs": [],
   "source": [
    "# From Geo Sheet - Toy Data Bounding Box\n",
    "# keep in mind each pixel is roughly 500 m x 500 m\n",
    "bb_long = [-122, -119.912,-119.912,-122,-122 ]\n",
    "bb_lat = [36.8, 36.8, 35.06, 35.06,36.8]"
   ]
  },
  {
   "cell_type": "markdown",
   "metadata": {},
   "source": [
    "Requests, to see how how 'hyperlocal' the darksky data really is."
   ]
  },
  {
   "cell_type": "code",
   "execution_count": 3,
   "metadata": {},
   "outputs": [],
   "source": [
    "# Create Pairs\n",
    "min_long = min(bb_long)\n",
    "max_long = max(bb_long)\n",
    "min_lat = min(bb_lat)\n",
    "max_lat = max(bb_lat)"
   ]
  },
  {
   "cell_type": "code",
   "execution_count": 4,
   "metadata": {},
   "outputs": [
    {
     "name": "stdout",
     "output_type": "stream",
     "text": [
      "[-122.    -121.768 -121.536 -121.304 -121.072 -120.84  -120.608 -120.376\n",
      " -120.144 -119.912] [35.06       35.25333333 35.44666667 35.64       35.83333333 36.02666667\n",
      " 36.22       36.41333333 36.60666667 36.8       ]\n",
      "distance between forecast pairings ~ 19.1 km, or 38.3 pixels\n"
     ]
    }
   ],
   "source": [
    "spaces = 10\n",
    "longs = np.linspace(min_long,max_long,spaces)\n",
    "lats = np.linspace(min_lat,max_lat,spaces)\n",
    "print(longs, lats)\n",
    "distance = (max_lat-min_lat)*110/spaces\n",
    "print(f\"distance between forecast pairings ~ {distance:.3} km, or {(distance/.5):.3} pixels\")"
   ]
  },
  {
   "cell_type": "code",
   "execution_count": 5,
   "metadata": {},
   "outputs": [
    {
     "name": "stdout",
     "output_type": "stream",
     "text": [
      "100\n",
      "(35.446666666666665, -120.84)\n"
     ]
    }
   ],
   "source": [
    "# Pairs\n",
    "pairs = [(lat,long) for lat in lats for long in longs]\n",
    "print(len(pairs))\n",
    "print(pairs[25])"
   ]
  },
  {
   "cell_type": "code",
   "execution_count": 6,
   "metadata": {},
   "outputs": [],
   "source": [
    "key = '5ffac5f056d341c6296cba58fa96e9ba'"
   ]
  },
  {
   "cell_type": "markdown",
   "metadata": {},
   "source": [
    "The Forecast Data API supports HTTP compression. We heartily recommend using it, as it will make responses much smaller over the wire. To enable it, simply add an `Accept-Encoding: gzip` header to your request."
   ]
  },
  {
   "cell_type": "markdown",
   "metadata": {},
   "source": [
    "### Try one request"
   ]
  },
  {
   "cell_type": "code",
   "execution_count": 7,
   "metadata": {},
   "outputs": [
    {
     "name": "stdout",
     "output_type": "stream",
     "text": [
      "https://api.darksky.net/forecast/5ffac5f056d341c6296cba58fa96e9ba/35.446666666666665,-120.84,2016-07-21T12:00:00?exclude=[currently,minutely,hourly,alerts]&units=ca\n"
     ]
    }
   ],
   "source": [
    "# items to exclude from call\n",
    "blocks = '[currently,minutely,hourly,alerts]'\n",
    "# Units for call\n",
    "units = 'ca'\n",
    "# Time\n",
    "time = '2005-02-02T12:00:00' # for noon, but hour doesn't matter as we're grabbing daily data only.\n",
    "# Dates (relevant to our fires): only use one for testing\n",
    "dates = ['2016-07-21']\n",
    "\n",
    "# create time string:\n",
    "date = dates[0]\n",
    "time = date+'T12:00:00'\n",
    "lat = str(pairs[25][0])\n",
    "long = str(pairs[25][1])\n",
    "\n",
    "query = ('https://api.darksky.net/forecast/'+key+'/'+ \n",
    "        lat+','+long+','+time+'?exclude=' \n",
    "        +blocks+'&units='+units)\n",
    "headers = {'Accept-Encoding':'gzip'}\n",
    "print(query)   "
   ]
  },
  {
   "cell_type": "code",
   "execution_count": 8,
   "metadata": {},
   "outputs": [],
   "source": [
    "r=requests.get(query,headers=headers)"
   ]
  },
  {
   "cell_type": "code",
   "execution_count": 9,
   "metadata": {},
   "outputs": [
    {
     "data": {
      "text/plain": [
       "200"
      ]
     },
     "execution_count": 9,
     "metadata": {},
     "output_type": "execute_result"
    }
   ],
   "source": [
    "r.status_code"
   ]
  },
  {
   "cell_type": "code",
   "execution_count": 10,
   "metadata": {},
   "outputs": [
    {
     "data": {
      "text/plain": [
       "[{'time': 1469084400,\n",
       "  'summary': 'Foggy in the morning.',\n",
       "  'icon': 'clear-day',\n",
       "  'sunriseTime': 1469106300,\n",
       "  'sunsetTime': 1469157360,\n",
       "  'moonPhase': 0.58,\n",
       "  'precipIntensity': 0,\n",
       "  'precipIntensityMax': 0,\n",
       "  'precipProbability': 0,\n",
       "  'temperatureHigh': 32.15,\n",
       "  'temperatureHighTime': 1469138220,\n",
       "  'temperatureLow': 13.71,\n",
       "  'temperatureLowTime': 1469194800,\n",
       "  'apparentTemperatureHigh': 31.87,\n",
       "  'apparentTemperatureHighTime': 1469138220,\n",
       "  'apparentTemperatureLow': 13.98,\n",
       "  'apparentTemperatureLowTime': 1469194800,\n",
       "  'dewPoint': 9.95,\n",
       "  'humidity': 0.56,\n",
       "  'pressure': 1016.3,\n",
       "  'windSpeed': 6.1,\n",
       "  'windGust': 20.82,\n",
       "  'windGustTime': 1469145600,\n",
       "  'windBearing': 268,\n",
       "  'cloudCover': 0.08,\n",
       "  'uvIndex': 11,\n",
       "  'uvIndexTime': 1469131740,\n",
       "  'visibility': 15.083,\n",
       "  'temperatureMin': 11.36,\n",
       "  'temperatureMinTime': 1469104980,\n",
       "  'temperatureMax': 32.15,\n",
       "  'temperatureMaxTime': 1469138220,\n",
       "  'apparentTemperatureMin': 11.63,\n",
       "  'apparentTemperatureMinTime': 1469104980,\n",
       "  'apparentTemperatureMax': 31.87,\n",
       "  'apparentTemperatureMaxTime': 1469138220}]"
      ]
     },
     "execution_count": 10,
     "metadata": {},
     "output_type": "execute_result"
    }
   ],
   "source": [
    "weather = r.json()\n",
    "weather['daily']['data']"
   ]
  },
  {
   "cell_type": "code",
   "execution_count": 11,
   "metadata": {},
   "outputs": [],
   "source": [
    "# Parsed important elements:\n",
    "dailydata = weather['daily']['data'][0]\n",
    "rain = dailydata['precipIntensityMax']\n",
    "hitemp = dailydata['temperatureHigh']\n",
    "lotemp = dailydata['temperatureLow']\n",
    "humidity = dailydata['humidity']\n",
    "windspd = dailydata['windSpeed']\n",
    "winddir = dailydata['windBearing']\n",
    "clouds = dailydata['cloudCover']"
   ]
  },
  {
   "cell_type": "code",
   "execution_count": 12,
   "metadata": {},
   "outputs": [],
   "source": [
    "point = [date,lat,long,rain,hitemp,lotemp,humidity,windspd,winddir,clouds]"
   ]
  },
  {
   "cell_type": "code",
   "execution_count": 13,
   "metadata": {},
   "outputs": [
    {
     "data": {
      "text/plain": [
       "['2016-07-21',\n",
       " '35.446666666666665',\n",
       " '-120.84',\n",
       " 0,\n",
       " 32.15,\n",
       " 13.71,\n",
       " 0.56,\n",
       " 6.1,\n",
       " 268,\n",
       " 0.08]"
      ]
     },
     "execution_count": 13,
     "metadata": {},
     "output_type": "execute_result"
    }
   ],
   "source": [
    "point"
   ]
  },
  {
   "cell_type": "code",
   "execution_count": 14,
   "metadata": {},
   "outputs": [
    {
     "name": "stdout",
     "output_type": "stream",
     "text": [
      "<class 'list'>\n"
     ]
    }
   ],
   "source": [
    "print(type(point))"
   ]
  },
  {
   "cell_type": "code",
   "execution_count": 15,
   "metadata": {},
   "outputs": [
    {
     "data": {
      "text/plain": [
       "35.06"
      ]
     },
     "execution_count": 15,
     "metadata": {},
     "output_type": "execute_result"
    }
   ],
   "source": [
    "pairs[0][0]"
   ]
  },
  {
   "cell_type": "markdown",
   "metadata": {},
   "source": [
    "## Multiple Requests to determine degree of hyperlocality required"
   ]
  },
  {
   "cell_type": "code",
   "execution_count": 16,
   "metadata": {},
   "outputs": [],
   "source": [
    "%%time\n",
    "# Create requests\n",
    "# for date in dates: (only doing 1 date for now)\n",
    "data_out = []\n",
    "for pair in pairs:\n",
    "    lat = str(pair[0])\n",
    "    long = str(pair[1])\n",
    "    query = ('https://api.darksky.net/forecast/'+key+'/'+ \n",
    "        lat+','+long+','+time+'?exclude=' \n",
    "        +blocks+'&units='+units)\n",
    "    r=requests.get(query,headers=headers)\n",
    "    weather=r.json()\n",
    "    data_out.append(weather)\n",
    "    "
   ]
  },
  {
   "cell_type": "code",
   "execution_count": 24,
   "metadata": {},
   "outputs": [
    {
     "name": "stdout",
     "output_type": "stream",
     "text": [
      "{'latitude': 36.026666666666664, 'longitude': -122, 'timezone': 'America/Los_Angeles', 'daily': {'data': [{'time': 1469084400, 'sunriseTime': 1469106540, 'sunsetTime': 1469157720, 'moonPhase': 0.58, 'precipIntensity': 0, 'precipIntensityMax': 0, 'precipProbability': 0, 'temperatureHigh': 21.38, 'temperatureHighTime': 1469137140, 'temperatureLow': 12.03, 'temperatureLowTime': 1469190480, 'apparentTemperatureHigh': 21.1, 'apparentTemperatureHighTime': 1469137140, 'apparentTemperatureLow': 12.3, 'apparentTemperatureLowTime': 1469190480, 'dewPoint': 9.97, 'humidity': 0.68, 'pressure': 1016.8, 'windSpeed': 14.98, 'windGust': 30.73, 'windGustTime': 1469148300, 'windBearing': 321, 'uvIndex': 0, 'uvIndexTime': 1469084400, 'temperatureMin': 12.6, 'temperatureMinTime': 1469100840, 'temperatureMax': 21.38, 'temperatureMaxTime': 1469137140, 'apparentTemperatureMin': 12.87, 'apparentTemperatureMinTime': 1469100840, 'apparentTemperatureMax': 21.1, 'apparentTemperatureMaxTime': 1469137140}]}, 'flags': {'sources': ['cmc', 'gfs', 'hrrr', 'icon', 'isd', 'madis', 'nam', 'sref'], 'nearest-station': 30.593, 'units': 'ca'}, 'offset': -7}\n",
      "None\n"
     ]
    }
   ],
   "source": [
    "print(data_out[50])\n",
    "x = data_out[0].get('daily')\n",
    "print(x)"
   ]
  },
  {
   "cell_type": "code",
   "execution_count": 27,
   "metadata": {},
   "outputs": [
    {
     "ename": "KeyError",
     "evalue": "'precipIntensityMax'",
     "output_type": "error",
     "traceback": [
      "\u001b[1;31m---------------------------------------------------------------------------\u001b[0m",
      "\u001b[1;31mKeyError\u001b[0m                                  Traceback (most recent call last)",
      "\u001b[1;32m<ipython-input-27-6fa51bc54afb>\u001b[0m in \u001b[0;36m<module>\u001b[1;34m\u001b[0m\n\u001b[0;32m      8\u001b[0m         \u001b[0mdata\u001b[0m \u001b[1;33m=\u001b[0m \u001b[0mdaily\u001b[0m\u001b[1;33m[\u001b[0m\u001b[1;34m'data'\u001b[0m\u001b[1;33m]\u001b[0m\u001b[1;33m[\u001b[0m\u001b[1;36m0\u001b[0m\u001b[1;33m]\u001b[0m\u001b[1;33m\u001b[0m\u001b[1;33m\u001b[0m\u001b[0m\n\u001b[0;32m      9\u001b[0m         \u001b[0mtime\u001b[0m \u001b[1;33m=\u001b[0m \u001b[0mdatetime\u001b[0m\u001b[1;33m.\u001b[0m\u001b[0mfromtimestamp\u001b[0m\u001b[1;33m(\u001b[0m\u001b[0mdata\u001b[0m\u001b[1;33m[\u001b[0m\u001b[1;34m'time'\u001b[0m\u001b[1;33m]\u001b[0m\u001b[1;33m)\u001b[0m\u001b[1;33m.\u001b[0m\u001b[0mstrftime\u001b[0m\u001b[1;33m(\u001b[0m\u001b[1;34m'%Y-%m-%d'\u001b[0m\u001b[1;33m)\u001b[0m\u001b[1;33m\u001b[0m\u001b[1;33m\u001b[0m\u001b[0m\n\u001b[1;32m---> 10\u001b[1;33m         \u001b[0mrain\u001b[0m \u001b[1;33m=\u001b[0m \u001b[0mdata\u001b[0m\u001b[1;33m[\u001b[0m\u001b[1;34m'precipIntensityMax'\u001b[0m\u001b[1;33m]\u001b[0m\u001b[1;33m\u001b[0m\u001b[1;33m\u001b[0m\u001b[0m\n\u001b[0m\u001b[0;32m     11\u001b[0m         \u001b[0mhitemp\u001b[0m \u001b[1;33m=\u001b[0m \u001b[0mdata\u001b[0m\u001b[1;33m[\u001b[0m\u001b[1;34m'temperatureHigh'\u001b[0m\u001b[1;33m]\u001b[0m\u001b[1;33m\u001b[0m\u001b[1;33m\u001b[0m\u001b[0m\n\u001b[0;32m     12\u001b[0m         \u001b[0mlotemp\u001b[0m \u001b[1;33m=\u001b[0m \u001b[0mdata\u001b[0m\u001b[1;33m[\u001b[0m\u001b[1;34m'temperatureLow'\u001b[0m\u001b[1;33m]\u001b[0m\u001b[1;33m\u001b[0m\u001b[1;33m\u001b[0m\u001b[0m\n",
      "\u001b[1;31mKeyError\u001b[0m: 'precipIntensityMax'"
     ]
    }
   ],
   "source": [
    "## SOME OF THE POINTS ARE IN THE OCEAN , so THERE IS NO DATA.\n",
    "data_convert=[]\n",
    "for point in data_out:\n",
    "    lat = point['latitude']\n",
    "    long = ['longitude']\n",
    "    daily = point.get('daily')\n",
    "    if daily:\n",
    "        data = daily['data'][0]\n",
    "        time = datetime.fromtimestamp(data['time']).strftime('%Y-%m-%d')\n",
    "        rain = data['precipIntensityMax']\n",
    "        hitemp = data['temperatureHigh']\n",
    "        lotemp = data['temperatureLow']\n",
    "        humidity = data['humidity']\n",
    "        windspd = data['windSpeed']\n",
    "        winddir = data['windBearing']\n",
    "        clouds = data['cloudCover']\n",
    "        point = [date,lat,long,rain,hitemp,lotemp,humidity,windspd,winddir,clouds] \n",
    "        data_convert.append(point)\n",
    "    else:\n",
    "        point = -9999\n",
    "    \n",
    "#     data_out.append(point)\n",
    "    "
   ]
  },
  {
   "cell_type": "code",
   "execution_count": 28,
   "metadata": {},
   "outputs": [
    {
     "data": {
      "text/plain": [
       "[]"
      ]
     },
     "execution_count": 28,
     "metadata": {},
     "output_type": "execute_result"
    }
   ],
   "source": [
    "data_convert"
   ]
  },
  {
   "cell_type": "code",
   "execution_count": null,
   "metadata": {},
   "outputs": [],
   "source": []
  },
  {
   "cell_type": "code",
   "execution_count": null,
   "metadata": {},
   "outputs": [],
   "source": []
  }
 ],
 "metadata": {
  "kernelspec": {
   "display_name": "Python 3",
   "language": "python",
   "name": "python3"
  },
  "language_info": {
   "codemirror_mode": {
    "name": "ipython",
    "version": 3
   },
   "file_extension": ".py",
   "mimetype": "text/x-python",
   "name": "python",
   "nbconvert_exporter": "python",
   "pygments_lexer": "ipython3",
   "version": "3.7.4"
  },
  "toc": {
   "base_numbering": 1,
   "nav_menu": {},
   "number_sections": true,
   "sideBar": true,
   "skip_h1_title": false,
   "title_cell": "Table of Contents",
   "title_sidebar": "Contents",
   "toc_cell": false,
   "toc_position": {},
   "toc_section_display": true,
   "toc_window_display": true
  },
  "toc-autonumbering": true,
  "toc-showmarkdowntxt": false,
  "toc-showtags": false
 },
 "nbformat": 4,
 "nbformat_minor": 4
}
