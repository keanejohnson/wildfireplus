{
 "cells": [
  {
   "cell_type": "markdown",
   "metadata": {
    "Collapsed": "false"
   },
   "source": [
    "# SETUP"
   ]
  },
  {
   "cell_type": "code",
   "execution_count": 54,
   "metadata": {
    "Collapsed": "false"
   },
   "outputs": [],
   "source": [
    "import numpy as np\n",
    "import itertools\n",
    "import requests\n",
    "import datetime\n",
    "import time\n",
    "import json\n",
    "import sys\n",
    "from datetime import datetime\n",
    "import pickle\n",
    "import pandas as pd\n",
    "import rasterio as rio\n",
    "import copy\n",
    "import seaborn as sns\n",
    "import matplotlib.pyplot as plt\n",
    "import matplotlib\n",
    "from rasterio.transform import Affine\n",
    "from rasterio.warp import calculate_default_transform, reproject, Resampling"
   ]
  },
  {
   "cell_type": "code",
   "execution_count": 55,
   "metadata": {
    "Collapsed": "false"
   },
   "outputs": [
    {
     "name": "stdout",
     "output_type": "stream",
     "text": [
      "matplotlib 3.2.0\n",
      "seaborn 0.10.0\n",
      "numpy 1.18.1\n",
      "pandas 1.0.1\n",
      "python 3.7.6 | packaged by conda-forge | (default, Jan  7 2020, 21:48:41) [MSC v.1916 64 bit (AMD64)]\n"
     ]
    }
   ],
   "source": [
    "print(\"matplotlib\",matplotlib.__version__)\n",
    "print(\"seaborn\",sns.__version__)\n",
    "print(\"numpy\",np.__version__)\n",
    "print(\"pandas\",pd.__version__)\n",
    "print(\"python\",sys.version)"
   ]
  },
  {
   "cell_type": "markdown",
   "metadata": {
    "Collapsed": "false",
    "toc-hr-collapsed": false
   },
   "source": [
    "# Requests \n",
    "\n",
    "From GEO EDA sheet:"
   ]
  },
  {
   "cell_type": "markdown",
   "metadata": {
    "Collapsed": "false",
    "heading_collapsed": true
   },
   "source": [
    "## DarkSky Sample"
   ]
  },
  {
   "cell_type": "markdown",
   "metadata": {
    "Collapsed": "false",
    "hidden": true
   },
   "source": [
    "1) cheapest seems to be DarkSky. 1000 per day for free 2) $0.0001 per request after that 3) Request: \" https://api.darksky.net/forecast/[key]/40.036944,-121.005833,2005-02-02T17:30:00\" (my api key removed)\n",
    "\n",
    "Output is like this: {\"latitude\":40.036944,\"longitude\":-121.005833,\"timezone\":\"America/Los_Angeles\",\"currently\":{\"time\":1107394200,\"precipIntensity\":0,\"precipProbability\":0,\"temperature\":50.24,\"apparentTemperature\":50.41,\"dewPoint\":13.85,\"humidity\":0.23,\"windSpeed\":2.62,\"windGust\":13.17,\"windBearing\":24,\"uvIndex\":0},\"hourly\":{\"data\":\n",
    "...\n",
    "{\"time\":1107414000,\"precipIntensity\":0,\"precipProbability\":0,\"temperature\":41.2,\"apparentTemperature\":41.2,\"dewPoint\":12.53,\"humidity\":0.31,\"windSpeed\":1.56,\"windGust\":12.79,\"windBearing\":100,\"uvIndex\":0}]},\"daily\":{\"data\":[{\"time\":1107331200,\"sunriseTime\":1107357120,\"sunsetTime\":1107393960,\"moonPhase\":0.78,\"precipIntensity\":0,\"precipIntensityMax\":0,\"precipProbability\":0,\"temperatureHigh\":57.95,\"temperatureHighTime\":1107384600,\"temperatureLow\":38.42,\"temperatureLowTime\":1107439200,\"apparentTemperatureHigh\":57.45,\"apparentTemperatureHighTime\":1107384600,\"apparentTemperatureLow\":38.91,\"apparentTemperatureLowTime\":1107439200,\"dewPoint\":14.85,\"humidity\":0.31,\"windSpeed\":3.33,\"windGust\":14.83,\"windGustTime\":1107390840,\"windBearing\":76,\"uvIndex\":0,\"uvIndexTime\":1107331200,\"temperatureMin\":35.03,\"temperatureMinTime\":1107359100,\"temperatureMax\":57.95,\"temperatureMaxTime\":1107384600,\"apparentTemperatureMin\":34.3,\"apparentTemperatureMinTime\":1107338640,\"apparentTemperatureMax\":57.45,\"apparentTemperatureMaxTime\":1107384600}]},\"flags\":{\"sources\":[\"cmc\",\"gfs\",\"hrrr\",\"icon\",\"isd\",\"madis\",\"nam\",\"sref\"],\"nearest-station\":3.312,\"units\":\"us\"},\"offset\":-8}"
   ]
  },
  {
   "cell_type": "markdown",
   "metadata": {
    "Collapsed": "false",
    "toc-hr-collapsed": false
   },
   "source": [
    "## Dark Sky locality"
   ]
  },
  {
   "cell_type": "code",
   "execution_count": 3,
   "metadata": {
    "Collapsed": "false"
   },
   "outputs": [],
   "source": [
    "# From Geo Sheet - Toy Data Bounding Box\n",
    "# keep in mind each pixel is roughly 500 m x 500 m\n",
    "bb_long = [-122, -119.912,-119.912,-122,-122 ]\n",
    "bb_lat = [36.8, 36.8, 35.06, 35.06,36.8]"
   ]
  },
  {
   "cell_type": "markdown",
   "metadata": {
    "Collapsed": "false"
   },
   "source": [
    "Requests, to see how how 'hyperlocal' the darksky data really is."
   ]
  },
  {
   "cell_type": "code",
   "execution_count": 4,
   "metadata": {
    "Collapsed": "false"
   },
   "outputs": [],
   "source": [
    "# Create Pairs\n",
    "min_long = min(bb_long)\n",
    "max_long = max(bb_long)\n",
    "min_lat = min(bb_lat)\n",
    "max_lat = max(bb_lat)"
   ]
  },
  {
   "cell_type": "code",
   "execution_count": 5,
   "metadata": {
    "Collapsed": "false",
    "collapsed": true,
    "jupyter": {
     "outputs_hidden": true
    }
   },
   "outputs": [
    {
     "name": "stdout",
     "output_type": "stream",
     "text": [
      "[-122.    -121.768 -121.536 -121.304 -121.072 -120.84  -120.608 -120.376\n",
      " -120.144 -119.912] [35.06       35.25333333 35.44666667 35.64       35.83333333 36.02666667\n",
      " 36.22       36.41333333 36.60666667 36.8       ]\n",
      "distance between forecast pairings ~ 19.1 km, or 38.3 pixels\n"
     ]
    }
   ],
   "source": [
    "spaces = 10\n",
    "longs = np.linspace(min_long,max_long,spaces)\n",
    "lats = np.linspace(min_lat,max_lat,spaces)\n",
    "print(longs, lats)\n",
    "distance = (max_lat-min_lat)*110/spaces\n",
    "print(f\"distance between forecast pairings ~ {distance:.3} km, or {(distance/.5):.3} pixels\")"
   ]
  },
  {
   "cell_type": "code",
   "execution_count": 6,
   "metadata": {
    "Collapsed": "false"
   },
   "outputs": [
    {
     "name": "stdout",
     "output_type": "stream",
     "text": [
      "100\n",
      "(35.446666666666665, -120.84)\n"
     ]
    }
   ],
   "source": [
    "# Pairs\n",
    "pairs = [(lat,long) for lat in lats for long in longs]\n",
    "print(len(pairs))\n",
    "print(pairs[25])"
   ]
  },
  {
   "cell_type": "code",
   "execution_count": 7,
   "metadata": {
    "Collapsed": "false"
   },
   "outputs": [],
   "source": [
    "key = '5ffac5f056d341c6296cba58fa96e9ba'"
   ]
  },
  {
   "cell_type": "markdown",
   "metadata": {
    "Collapsed": "false"
   },
   "source": [
    "The Forecast Data API supports HTTP compression. We heartily recommend using it, as it will make responses much smaller over the wire. To enable it, simply add an `Accept-Encoding: gzip` header to your request."
   ]
  },
  {
   "cell_type": "markdown",
   "metadata": {
    "Collapsed": "false",
    "heading_collapsed": true
   },
   "source": [
    "### Try one request"
   ]
  },
  {
   "cell_type": "code",
   "execution_count": 224,
   "metadata": {
    "Collapsed": "false",
    "hidden": true
   },
   "outputs": [
    {
     "name": "stdout",
     "output_type": "stream",
     "text": [
      "https://api.darksky.net/forecast/5ffac5f056d341c6296cba58fa96e9ba/35.446666666666665,-120.84,2016-12-16T12:00:00?exclude=[currently,minutely,hourly,alerts]&units=ca\n"
     ]
    }
   ],
   "source": [
    "# items to exclude from call\n",
    "blocks = '[currently,minutely,hourly,alerts]'\n",
    "# Units for call\n",
    "units = 'ca'\n",
    "# Time\n",
    "time = '2005-02-02T12:00:00' # for noon, but hour doesn't matter as we're grabbing daily data only.\n",
    "# Dates (relevant to our fires): only use one for testing\n",
    "dates = ['2016-12-16']\n",
    "\n",
    "# create time string:\n",
    "date = dates[0]\n",
    "time = date+'T12:00:00'\n",
    "lat = str(pairs[25][0])\n",
    "long = str(pairs[25][1])\n",
    "\n",
    "query = ('https://api.darksky.net/forecast/'+key+'/'+ \n",
    "        lat+','+long+','+time+'?exclude=' \n",
    "        +blocks+'&units='+units)\n",
    "headers = {'Accept-Encoding':'gzip'}\n",
    "print(query)   "
   ]
  },
  {
   "cell_type": "code",
   "execution_count": 226,
   "metadata": {
    "collapsed": true,
    "jupyter": {
     "outputs_hidden": true
    }
   },
   "outputs": [
    {
     "data": {
      "text/plain": [
       "[{'time': 1469084400,\n",
       "  'summary': 'Clear throughout the day.',\n",
       "  'icon': 'clear-day',\n",
       "  'sunriseTime': 1469106420,\n",
       "  'sunsetTime': 1469157840,\n",
       "  'moonPhase': 0.58,\n",
       "  'precipIntensity': 0,\n",
       "  'precipIntensityMax': 0,\n",
       "  'precipProbability': 0,\n",
       "  'temperatureHigh': 25.94,\n",
       "  'temperatureHighTime': 1469134920,\n",
       "  'temperatureLow': 11.6,\n",
       "  'temperatureLowTime': 1469191920,\n",
       "  'apparentTemperatureHigh': 25.66,\n",
       "  'apparentTemperatureHighTime': 1469134920,\n",
       "  'apparentTemperatureLow': 11.87,\n",
       "  'apparentTemperatureLowTime': 1469191920,\n",
       "  'dewPoint': 11.3,\n",
       "  'humidity': 0.71,\n",
       "  'pressure': 1018.2,\n",
       "  'windSpeed': 11.41,\n",
       "  'windGust': 21.88,\n",
       "  'windGustTime': 1469149140,\n",
       "  'windBearing': 299,\n",
       "  'cloudCover': 0.26,\n",
       "  'uvIndex': 10,\n",
       "  'uvIndexTime': 1469131980,\n",
       "  'visibility': 14.952,\n",
       "  'temperatureMin': 11.93,\n",
       "  'temperatureMinTime': 1469108880,\n",
       "  'temperatureMax': 25.94,\n",
       "  'temperatureMaxTime': 1469134920,\n",
       "  'apparentTemperatureMin': 12.2,\n",
       "  'apparentTemperatureMinTime': 1469108880,\n",
       "  'apparentTemperatureMax': 25.66,\n",
       "  'apparentTemperatureMaxTime': 1469134920}]"
      ]
     },
     "execution_count": 226,
     "metadata": {},
     "output_type": "execute_result"
    }
   ],
   "source": [
    "d = requests.get('https://api.darksky.net/forecast/5ffac5f056d341c6296cba58fa96e9ba/36.8,-122.0,2016-07-21T12:00:00?exclude=[currently,minutely,hourly,alerts]&units=ca',headers=headers)\n",
    "d.json()['daily']['data']"
   ]
  },
  {
   "cell_type": "code",
   "execution_count": 86,
   "metadata": {
    "Collapsed": "false",
    "hidden": true
   },
   "outputs": [],
   "source": [
    "r=requests.get(query,headers=headers)"
   ]
  },
  {
   "cell_type": "code",
   "execution_count": 87,
   "metadata": {
    "Collapsed": "false",
    "hidden": true
   },
   "outputs": [
    {
     "data": {
      "text/plain": [
       "200"
      ]
     },
     "execution_count": 87,
     "metadata": {},
     "output_type": "execute_result"
    }
   ],
   "source": [
    "r.status_code"
   ]
  },
  {
   "cell_type": "code",
   "execution_count": 88,
   "metadata": {
    "Collapsed": "false",
    "collapsed": true,
    "hidden": true,
    "jupyter": {
     "outputs_hidden": true
    }
   },
   "outputs": [
    {
     "data": {
      "text/plain": [
       "[{'time': 1481875200,\n",
       "  'summary': 'Light rain in the morning.',\n",
       "  'icon': 'rain',\n",
       "  'sunriseTime': 1481900880,\n",
       "  'sunsetTime': 1481936040,\n",
       "  'moonPhase': 0.62,\n",
       "  'precipIntensity': 0.3388,\n",
       "  'precipIntensityMax': 2.5329,\n",
       "  'precipIntensityMaxTime': 1481875200,\n",
       "  'precipProbability': 0.68,\n",
       "  'precipType': 'rain',\n",
       "  'temperatureHigh': 12.73,\n",
       "  'temperatureHighTime': 1481918520,\n",
       "  'temperatureLow': 2.12,\n",
       "  'temperatureLowTime': 1481986680,\n",
       "  'apparentTemperatureHigh': 12.45,\n",
       "  'apparentTemperatureHighTime': 1481918520,\n",
       "  'apparentTemperatureLow': 0.95,\n",
       "  'apparentTemperatureLowTime': 1481986800,\n",
       "  'dewPoint': 6.25,\n",
       "  'humidity': 0.76,\n",
       "  'pressure': 1013.2,\n",
       "  'windSpeed': 11.52,\n",
       "  'windGust': 29.98,\n",
       "  'windGustTime': 1481875200,\n",
       "  'windBearing': 298,\n",
       "  'cloudCover': 0.62,\n",
       "  'uvIndex': 2,\n",
       "  'uvIndexTime': 1481918280,\n",
       "  'visibility': 15.079,\n",
       "  'temperatureMin': 3.96,\n",
       "  'temperatureMinTime': 1481958000,\n",
       "  'temperatureMax': 14.47,\n",
       "  'temperatureMaxTime': 1481875440,\n",
       "  'apparentTemperatureMin': 4.23,\n",
       "  'apparentTemperatureMinTime': 1481958000,\n",
       "  'apparentTemperatureMax': 14.19,\n",
       "  'apparentTemperatureMaxTime': 1481875440}]"
      ]
     },
     "execution_count": 88,
     "metadata": {},
     "output_type": "execute_result"
    }
   ],
   "source": [
    "weather = r.json()\n",
    "weather['daily']['data']"
   ]
  },
  {
   "cell_type": "code",
   "execution_count": 243,
   "metadata": {
    "Collapsed": "false",
    "hidden": true
   },
   "outputs": [],
   "source": [
    "# Parsed important elements:\n",
    "dailydata = weather['daily']['data'][0]\n",
    "rainint = dailydata['precipIntensityMax']\n",
    "raintot = dailydata['precipAccumulation']=0.0\n",
    "hitemp = dailydata['temperatureHigh']\n",
    "lotemp = dailydata['temperatureLow']\n",
    "humidity = dailydata['humidity']\n",
    "windspd = dailydata['windSpeed']\n",
    "winddir = dailydata['windBearing']\n",
    "clouds = dailydata['cloudCover']"
   ]
  },
  {
   "cell_type": "code",
   "execution_count": 244,
   "metadata": {
    "Collapsed": "false",
    "hidden": true
   },
   "outputs": [],
   "source": [
    "point = [date,lat,long,rainint,raintot,hitemp,lotemp,humidity,windspd,winddir,clouds]"
   ]
  },
  {
   "cell_type": "code",
   "execution_count": 245,
   "metadata": {
    "Collapsed": "false",
    "hidden": true
   },
   "outputs": [
    {
     "data": {
      "text/plain": [
       "['2016-12-16',\n",
       " '35.446666666666665',\n",
       " '-120.84',\n",
       " 2.0256,\n",
       " 0.0,\n",
       " 12.58,\n",
       " 1.78,\n",
       " 0.76,\n",
       " 11.16,\n",
       " 298,\n",
       " 0.62]"
      ]
     },
     "execution_count": 245,
     "metadata": {},
     "output_type": "execute_result"
    }
   ],
   "source": [
    "point"
   ]
  },
  {
   "cell_type": "code",
   "execution_count": 65,
   "metadata": {
    "Collapsed": "false",
    "hidden": true
   },
   "outputs": [
    {
     "name": "stdout",
     "output_type": "stream",
     "text": [
      "<class 'list'>\n"
     ]
    }
   ],
   "source": [
    "print(type(point))"
   ]
  },
  {
   "cell_type": "code",
   "execution_count": 66,
   "metadata": {
    "Collapsed": "false",
    "hidden": true
   },
   "outputs": [
    {
     "data": {
      "text/plain": [
       "35.06"
      ]
     },
     "execution_count": 66,
     "metadata": {},
     "output_type": "execute_result"
    }
   ],
   "source": [
    "pairs[0][0]"
   ]
  },
  {
   "cell_type": "markdown",
   "metadata": {
    "Collapsed": "false"
   },
   "source": [
    "## Multiple Requests to determine degree of hyperlocality required"
   ]
  },
  {
   "cell_type": "markdown",
   "metadata": {
    "Collapsed": "false",
    "heading_collapsed": true
   },
   "source": [
    "### Https requests functions"
   ]
  },
  {
   "cell_type": "code",
   "execution_count": 63,
   "metadata": {
    "Collapsed": "false",
    "hidden": true
   },
   "outputs": [],
   "source": [
    "# NEWER VERSION BELOW\n",
    "# def getweather(coordinates,date,key):\n",
    "#     \"\"\" Function to take the set of coordinates and get the daily\n",
    "#     weather for a given date. rain, hi and low temps, humidity\n",
    "#     wind speed and direction and cloud cover only.\n",
    "    \n",
    "#     Input: Date, API Key and list of coordinate pairs (lat,long)\n",
    "#     Output: list of jsons\n",
    "#     \"\"\"\n",
    "#     # items to exclude from call\n",
    "#     blocks = '[currently,minutely,hourly,alerts]'\n",
    "\n",
    "#     # Units for call\n",
    "#     units = 'ca'\n",
    "    \n",
    "#     # Compression for call\n",
    "#     headers = {'Accept-Encoding':'gzip'}\n",
    "    \n",
    "#     time = date+'T12:00:00'\n",
    "    \n",
    "#     data_out = []\n",
    "#     for pair in coordinates:\n",
    "#         lat = str(pair[0])\n",
    "#         long = str(pair[1])\n",
    "#         # set the query string for darksky\n",
    "#         query = ('https://api.darksky.net/forecast/'+key+'/'+ \n",
    "#             lat+','+long+','+time+'?exclude=' \n",
    "#             +blocks+'&units='+units)\n",
    "#         # Make the call to Dark Sky to get all the data for that date and location\n",
    "#         r=requests.get(query,headers=headers)\n",
    "        \n",
    "#         # get the weather data from the request return\n",
    "#         weather=r.json()\n",
    "        \n",
    "#         # write the jsons as items in the output data list\n",
    "#         data_out.append(weather)\n",
    "    \n",
    "#     return data_out"
   ]
  },
  {
   "cell_type": "code",
   "execution_count": 13,
   "metadata": {
    "Collapsed": "false",
    "hidden": true
   },
   "outputs": [
    {
     "ename": "NameError",
     "evalue": "name 'key' is not defined",
     "output_type": "error",
     "traceback": [
      "\u001b[1;31m---------------------------------------------------------------------------\u001b[0m",
      "\u001b[1;31mNameError\u001b[0m                                 Traceback (most recent call last)",
      "\u001b[1;32m<timed exec>\u001b[0m in \u001b[0;36m<module>\u001b[1;34m\u001b[0m\n",
      "\u001b[1;31mNameError\u001b[0m: name 'key' is not defined"
     ]
    }
   ],
   "source": [
    "%%time\n",
    "# Dates (relevant to our fires): only use one for testing\n",
    "dates = ['2016-07-21']\n",
    "# create time string:\n",
    "date = dates[0]\n",
    "\n",
    "data_for_date = getweather(pairs,date,key)"
   ]
  },
  {
   "cell_type": "code",
   "execution_count": 253,
   "metadata": {
    "Collapsed": "false",
    "hidden": true
   },
   "outputs": [
    {
     "name": "stdout",
     "output_type": "stream",
     "text": [
      "Wall time: 58 ms\n"
     ]
    }
   ],
   "source": [
    "%%time\n",
    "# Pickle results out so that i don't have to make another api call later\n",
    "with open('../data/GlobalFire2016/weathertest.pickle','wb') as f:\n",
    "    pickle.dump(data_for_date,f,pickle.HIGHEST_PROTOCOL)"
   ]
  },
  {
   "cell_type": "code",
   "execution_count": 64,
   "metadata": {
    "Collapsed": "false",
    "hidden": true
   },
   "outputs": [],
   "source": [
    "def check_point(info,rain=False):\n",
    "    \"\"\" to check if there is a value for that weather element and provide \n",
    "    either None or the value back\n",
    "    \"\"\"\n",
    "    if info:\n",
    "        return info\n",
    "    elif (not info and rain):\n",
    "        return 0.0        \n",
    "    else:\n",
    "        return None"
   ]
  },
  {
   "cell_type": "code",
   "execution_count": 65,
   "metadata": {
    "Collapsed": "false",
    "hidden": true
   },
   "outputs": [],
   "source": [
    "def date_df(data_out):\n",
    "    \"\"\" Function to take the list of jsons from a date\n",
    "    of daily weather requests and create a pandas dataframe\n",
    "    \n",
    "    Input: list of jsons containing the weather data\n",
    "    Output: pandas dataframe\n",
    "    \"\"\"\n",
    "    data_convert=[]\n",
    "    # Titles for the data\n",
    "    coltitles = ['date','latitude','longitude','rainint','raintot','High T','Low T','Humidity','Wind Speed','Wind Direction','Cloud Cover']\n",
    "    data_convert.append(coltitles)\n",
    "    # Loope through all the geopoints to get the data\n",
    "    for point in data_out:\n",
    "        lat = point['latitude']\n",
    "        long = point['longitude']\n",
    "        daily = point.get('daily')\n",
    "        if daily:\n",
    "            data = daily['data'][0]\n",
    "            time = datetime.fromtimestamp(data['time']).strftime('%Y-%m-%d')\n",
    "            rainint = data.get('precipIntensityMax')\n",
    "            raintot = data.get('precipAccumulation')\n",
    "            hitemp = data.get('temperatureHigh')\n",
    "            lotemp = data.get('temperatureLow')\n",
    "            humidity = data.get('humidity')\n",
    "            windspd = data.get('windSpeed')\n",
    "            winddir = data.get('windBearing')\n",
    "            clouds = data.get('cloudCover')\n",
    "            point = [date,lat,long,check_point(rainint,1),check_point(raintot,1), \\\n",
    "                     check_point(hitemp,0),check_point(lotemp,0), \\\n",
    "                     check_point(humidity,0),check_point(windspd,0), \\\n",
    "                     check_point(winddir,0), check_point(clouds,0)] \n",
    "            data_convert.append(point)\n",
    "        else:\n",
    "            point = None\n",
    "            \n",
    "    df = pd.DataFrame(data_convert[1:], columns = data_convert[0])\n",
    "    \n",
    "    return df\n"
   ]
  },
  {
   "cell_type": "code",
   "execution_count": 24,
   "metadata": {
    "Collapsed": "false",
    "hidden": true
   },
   "outputs": [],
   "source": [
    "with open('../data/GlobalFire2016/weathertest.pickle','rb') as f:\n",
    "    data_for_date = pickle.load(f)\n",
    "    \n",
    "    # Dates (relevant to our fires): only use one for testing\n",
    "dates = ['2016-07-21']\n",
    "# create time string:\n",
    "date = dates[0]\n",
    "df2 = date_df(data_for_date)"
   ]
  },
  {
   "cell_type": "code",
   "execution_count": 25,
   "metadata": {
    "Collapsed": "false"
   },
   "outputs": [
    {
     "data": {
      "text/html": [
       "<div>\n",
       "<style scoped>\n",
       "    .dataframe tbody tr th:only-of-type {\n",
       "        vertical-align: middle;\n",
       "    }\n",
       "\n",
       "    .dataframe tbody tr th {\n",
       "        vertical-align: top;\n",
       "    }\n",
       "\n",
       "    .dataframe thead th {\n",
       "        text-align: right;\n",
       "    }\n",
       "</style>\n",
       "<table border=\"1\" class=\"dataframe\">\n",
       "  <thead>\n",
       "    <tr style=\"text-align: right;\">\n",
       "      <th></th>\n",
       "      <th>date</th>\n",
       "      <th>latitude</th>\n",
       "      <th>longitude</th>\n",
       "      <th>rainint</th>\n",
       "      <th>raintot</th>\n",
       "      <th>High T</th>\n",
       "      <th>Low T</th>\n",
       "      <th>Humidity</th>\n",
       "      <th>Wind Speed</th>\n",
       "      <th>Wind Direction</th>\n",
       "      <th>Cloud Cover</th>\n",
       "    </tr>\n",
       "  </thead>\n",
       "  <tbody>\n",
       "    <tr>\n",
       "      <th>0</th>\n",
       "      <td>2016-07-21</td>\n",
       "      <td>35.06</td>\n",
       "      <td>-121.536</td>\n",
       "      <td>0.0</td>\n",
       "      <td>0.0</td>\n",
       "      <td>15.09</td>\n",
       "      <td>13.82</td>\n",
       "      <td>NaN</td>\n",
       "      <td>33.49</td>\n",
       "      <td>327.0</td>\n",
       "      <td>NaN</td>\n",
       "    </tr>\n",
       "    <tr>\n",
       "      <th>1</th>\n",
       "      <td>2016-07-21</td>\n",
       "      <td>35.06</td>\n",
       "      <td>-121.304</td>\n",
       "      <td>0.0</td>\n",
       "      <td>0.0</td>\n",
       "      <td>15.09</td>\n",
       "      <td>13.82</td>\n",
       "      <td>0.84</td>\n",
       "      <td>33.49</td>\n",
       "      <td>327.0</td>\n",
       "      <td>NaN</td>\n",
       "    </tr>\n",
       "    <tr>\n",
       "      <th>2</th>\n",
       "      <td>2016-07-21</td>\n",
       "      <td>35.06</td>\n",
       "      <td>-121.072</td>\n",
       "      <td>0.0</td>\n",
       "      <td>0.0</td>\n",
       "      <td>20.81</td>\n",
       "      <td>13.73</td>\n",
       "      <td>0.77</td>\n",
       "      <td>7.59</td>\n",
       "      <td>275.0</td>\n",
       "      <td>0.20</td>\n",
       "    </tr>\n",
       "    <tr>\n",
       "      <th>3</th>\n",
       "      <td>2016-07-21</td>\n",
       "      <td>35.06</td>\n",
       "      <td>-120.840</td>\n",
       "      <td>0.0</td>\n",
       "      <td>0.0</td>\n",
       "      <td>22.47</td>\n",
       "      <td>13.97</td>\n",
       "      <td>0.71</td>\n",
       "      <td>6.77</td>\n",
       "      <td>274.0</td>\n",
       "      <td>0.37</td>\n",
       "    </tr>\n",
       "    <tr>\n",
       "      <th>4</th>\n",
       "      <td>2016-07-21</td>\n",
       "      <td>35.06</td>\n",
       "      <td>-120.608</td>\n",
       "      <td>0.0</td>\n",
       "      <td>0.0</td>\n",
       "      <td>22.16</td>\n",
       "      <td>13.00</td>\n",
       "      <td>0.73</td>\n",
       "      <td>6.60</td>\n",
       "      <td>247.0</td>\n",
       "      <td>0.38</td>\n",
       "    </tr>\n",
       "    <tr>\n",
       "      <th>...</th>\n",
       "      <td>...</td>\n",
       "      <td>...</td>\n",
       "      <td>...</td>\n",
       "      <td>...</td>\n",
       "      <td>...</td>\n",
       "      <td>...</td>\n",
       "      <td>...</td>\n",
       "      <td>...</td>\n",
       "      <td>...</td>\n",
       "      <td>...</td>\n",
       "      <td>...</td>\n",
       "    </tr>\n",
       "    <tr>\n",
       "      <th>90</th>\n",
       "      <td>2016-07-21</td>\n",
       "      <td>36.80</td>\n",
       "      <td>-120.840</td>\n",
       "      <td>0.0</td>\n",
       "      <td>0.0</td>\n",
       "      <td>33.55</td>\n",
       "      <td>14.14</td>\n",
       "      <td>0.37</td>\n",
       "      <td>10.03</td>\n",
       "      <td>336.0</td>\n",
       "      <td>NaN</td>\n",
       "    </tr>\n",
       "    <tr>\n",
       "      <th>91</th>\n",
       "      <td>2016-07-21</td>\n",
       "      <td>36.80</td>\n",
       "      <td>-120.608</td>\n",
       "      <td>0.0</td>\n",
       "      <td>0.0</td>\n",
       "      <td>35.21</td>\n",
       "      <td>15.74</td>\n",
       "      <td>0.34</td>\n",
       "      <td>10.91</td>\n",
       "      <td>326.0</td>\n",
       "      <td>NaN</td>\n",
       "    </tr>\n",
       "    <tr>\n",
       "      <th>92</th>\n",
       "      <td>2016-07-21</td>\n",
       "      <td>36.80</td>\n",
       "      <td>-120.376</td>\n",
       "      <td>0.0</td>\n",
       "      <td>0.0</td>\n",
       "      <td>35.17</td>\n",
       "      <td>15.74</td>\n",
       "      <td>0.33</td>\n",
       "      <td>10.00</td>\n",
       "      <td>321.0</td>\n",
       "      <td>NaN</td>\n",
       "    </tr>\n",
       "    <tr>\n",
       "      <th>93</th>\n",
       "      <td>2016-07-21</td>\n",
       "      <td>36.80</td>\n",
       "      <td>-120.144</td>\n",
       "      <td>0.0</td>\n",
       "      <td>0.0</td>\n",
       "      <td>36.14</td>\n",
       "      <td>16.75</td>\n",
       "      <td>0.34</td>\n",
       "      <td>7.93</td>\n",
       "      <td>308.0</td>\n",
       "      <td>0.01</td>\n",
       "    </tr>\n",
       "    <tr>\n",
       "      <th>94</th>\n",
       "      <td>2016-07-21</td>\n",
       "      <td>36.80</td>\n",
       "      <td>-119.912</td>\n",
       "      <td>0.0</td>\n",
       "      <td>0.0</td>\n",
       "      <td>36.49</td>\n",
       "      <td>17.21</td>\n",
       "      <td>0.34</td>\n",
       "      <td>7.37</td>\n",
       "      <td>306.0</td>\n",
       "      <td>0.01</td>\n",
       "    </tr>\n",
       "  </tbody>\n",
       "</table>\n",
       "<p>95 rows × 11 columns</p>\n",
       "</div>"
      ],
      "text/plain": [
       "          date  latitude  longitude  rainint  raintot  High T  Low T  \\\n",
       "0   2016-07-21     35.06   -121.536      0.0      0.0   15.09  13.82   \n",
       "1   2016-07-21     35.06   -121.304      0.0      0.0   15.09  13.82   \n",
       "2   2016-07-21     35.06   -121.072      0.0      0.0   20.81  13.73   \n",
       "3   2016-07-21     35.06   -120.840      0.0      0.0   22.47  13.97   \n",
       "4   2016-07-21     35.06   -120.608      0.0      0.0   22.16  13.00   \n",
       "..         ...       ...        ...      ...      ...     ...    ...   \n",
       "90  2016-07-21     36.80   -120.840      0.0      0.0   33.55  14.14   \n",
       "91  2016-07-21     36.80   -120.608      0.0      0.0   35.21  15.74   \n",
       "92  2016-07-21     36.80   -120.376      0.0      0.0   35.17  15.74   \n",
       "93  2016-07-21     36.80   -120.144      0.0      0.0   36.14  16.75   \n",
       "94  2016-07-21     36.80   -119.912      0.0      0.0   36.49  17.21   \n",
       "\n",
       "    Humidity  Wind Speed  Wind Direction  Cloud Cover  \n",
       "0        NaN       33.49           327.0          NaN  \n",
       "1       0.84       33.49           327.0          NaN  \n",
       "2       0.77        7.59           275.0         0.20  \n",
       "3       0.71        6.77           274.0         0.37  \n",
       "4       0.73        6.60           247.0         0.38  \n",
       "..       ...         ...             ...          ...  \n",
       "90      0.37       10.03           336.0          NaN  \n",
       "91      0.34       10.91           326.0          NaN  \n",
       "92      0.33       10.00           321.0          NaN  \n",
       "93      0.34        7.93           308.0         0.01  \n",
       "94      0.34        7.37           306.0         0.01  \n",
       "\n",
       "[95 rows x 11 columns]"
      ]
     },
     "execution_count": 25,
     "metadata": {},
     "output_type": "execute_result"
    }
   ],
   "source": [
    "df2"
   ]
  },
  {
   "cell_type": "markdown",
   "metadata": {
    "Collapsed": "false"
   },
   "source": [
    "If matrix is missing some rows then add them back in with NaN"
   ]
  },
  {
   "cell_type": "code",
   "execution_count": 27,
   "metadata": {
    "Collapsed": "false"
   },
   "outputs": [
    {
     "data": {
      "text/html": [
       "<div>\n",
       "<style scoped>\n",
       "    .dataframe tbody tr th:only-of-type {\n",
       "        vertical-align: middle;\n",
       "    }\n",
       "\n",
       "    .dataframe tbody tr th {\n",
       "        vertical-align: top;\n",
       "    }\n",
       "\n",
       "    .dataframe thead th {\n",
       "        text-align: right;\n",
       "    }\n",
       "</style>\n",
       "<table border=\"1\" class=\"dataframe\">\n",
       "  <thead>\n",
       "    <tr style=\"text-align: right;\">\n",
       "      <th></th>\n",
       "      <th>date</th>\n",
       "      <th>latitude</th>\n",
       "      <th>longitude</th>\n",
       "      <th>rainint</th>\n",
       "      <th>raintot</th>\n",
       "      <th>High T</th>\n",
       "      <th>Low T</th>\n",
       "      <th>Humidity</th>\n",
       "      <th>Wind Speed</th>\n",
       "      <th>Wind Direction</th>\n",
       "      <th>Cloud Cover</th>\n",
       "      <th>xx</th>\n",
       "    </tr>\n",
       "  </thead>\n",
       "  <tbody>\n",
       "    <tr>\n",
       "      <th>0</th>\n",
       "      <td>2016-07-21</td>\n",
       "      <td>35.06</td>\n",
       "      <td>-121.536</td>\n",
       "      <td>0.0</td>\n",
       "      <td>0.0</td>\n",
       "      <td>15.09</td>\n",
       "      <td>13.82</td>\n",
       "      <td>NaN</td>\n",
       "      <td>33.49</td>\n",
       "      <td>327.0</td>\n",
       "      <td>NaN</td>\n",
       "      <td>(35.06, -121.536)</td>\n",
       "    </tr>\n",
       "    <tr>\n",
       "      <th>1</th>\n",
       "      <td>2016-07-21</td>\n",
       "      <td>35.06</td>\n",
       "      <td>-121.304</td>\n",
       "      <td>0.0</td>\n",
       "      <td>0.0</td>\n",
       "      <td>15.09</td>\n",
       "      <td>13.82</td>\n",
       "      <td>0.84</td>\n",
       "      <td>33.49</td>\n",
       "      <td>327.0</td>\n",
       "      <td>NaN</td>\n",
       "      <td>(35.06, -121.304)</td>\n",
       "    </tr>\n",
       "    <tr>\n",
       "      <th>2</th>\n",
       "      <td>2016-07-21</td>\n",
       "      <td>35.06</td>\n",
       "      <td>-121.072</td>\n",
       "      <td>0.0</td>\n",
       "      <td>0.0</td>\n",
       "      <td>20.81</td>\n",
       "      <td>13.73</td>\n",
       "      <td>0.77</td>\n",
       "      <td>7.59</td>\n",
       "      <td>275.0</td>\n",
       "      <td>0.20</td>\n",
       "      <td>(35.06, -121.072)</td>\n",
       "    </tr>\n",
       "    <tr>\n",
       "      <th>3</th>\n",
       "      <td>2016-07-21</td>\n",
       "      <td>35.06</td>\n",
       "      <td>-120.840</td>\n",
       "      <td>0.0</td>\n",
       "      <td>0.0</td>\n",
       "      <td>22.47</td>\n",
       "      <td>13.97</td>\n",
       "      <td>0.71</td>\n",
       "      <td>6.77</td>\n",
       "      <td>274.0</td>\n",
       "      <td>0.37</td>\n",
       "      <td>(35.06, -120.84)</td>\n",
       "    </tr>\n",
       "    <tr>\n",
       "      <th>4</th>\n",
       "      <td>2016-07-21</td>\n",
       "      <td>35.06</td>\n",
       "      <td>-120.608</td>\n",
       "      <td>0.0</td>\n",
       "      <td>0.0</td>\n",
       "      <td>22.16</td>\n",
       "      <td>13.00</td>\n",
       "      <td>0.73</td>\n",
       "      <td>6.60</td>\n",
       "      <td>247.0</td>\n",
       "      <td>0.38</td>\n",
       "      <td>(35.06, -120.608)</td>\n",
       "    </tr>\n",
       "    <tr>\n",
       "      <th>...</th>\n",
       "      <td>...</td>\n",
       "      <td>...</td>\n",
       "      <td>...</td>\n",
       "      <td>...</td>\n",
       "      <td>...</td>\n",
       "      <td>...</td>\n",
       "      <td>...</td>\n",
       "      <td>...</td>\n",
       "      <td>...</td>\n",
       "      <td>...</td>\n",
       "      <td>...</td>\n",
       "      <td>...</td>\n",
       "    </tr>\n",
       "    <tr>\n",
       "      <th>90</th>\n",
       "      <td>2016-07-21</td>\n",
       "      <td>36.80</td>\n",
       "      <td>-120.840</td>\n",
       "      <td>0.0</td>\n",
       "      <td>0.0</td>\n",
       "      <td>33.55</td>\n",
       "      <td>14.14</td>\n",
       "      <td>0.37</td>\n",
       "      <td>10.03</td>\n",
       "      <td>336.0</td>\n",
       "      <td>NaN</td>\n",
       "      <td>(36.8, -120.84)</td>\n",
       "    </tr>\n",
       "    <tr>\n",
       "      <th>91</th>\n",
       "      <td>2016-07-21</td>\n",
       "      <td>36.80</td>\n",
       "      <td>-120.608</td>\n",
       "      <td>0.0</td>\n",
       "      <td>0.0</td>\n",
       "      <td>35.21</td>\n",
       "      <td>15.74</td>\n",
       "      <td>0.34</td>\n",
       "      <td>10.91</td>\n",
       "      <td>326.0</td>\n",
       "      <td>NaN</td>\n",
       "      <td>(36.8, -120.608)</td>\n",
       "    </tr>\n",
       "    <tr>\n",
       "      <th>92</th>\n",
       "      <td>2016-07-21</td>\n",
       "      <td>36.80</td>\n",
       "      <td>-120.376</td>\n",
       "      <td>0.0</td>\n",
       "      <td>0.0</td>\n",
       "      <td>35.17</td>\n",
       "      <td>15.74</td>\n",
       "      <td>0.33</td>\n",
       "      <td>10.00</td>\n",
       "      <td>321.0</td>\n",
       "      <td>NaN</td>\n",
       "      <td>(36.8, -120.376)</td>\n",
       "    </tr>\n",
       "    <tr>\n",
       "      <th>93</th>\n",
       "      <td>2016-07-21</td>\n",
       "      <td>36.80</td>\n",
       "      <td>-120.144</td>\n",
       "      <td>0.0</td>\n",
       "      <td>0.0</td>\n",
       "      <td>36.14</td>\n",
       "      <td>16.75</td>\n",
       "      <td>0.34</td>\n",
       "      <td>7.93</td>\n",
       "      <td>308.0</td>\n",
       "      <td>0.01</td>\n",
       "      <td>(36.8, -120.144)</td>\n",
       "    </tr>\n",
       "    <tr>\n",
       "      <th>94</th>\n",
       "      <td>2016-07-21</td>\n",
       "      <td>36.80</td>\n",
       "      <td>-119.912</td>\n",
       "      <td>0.0</td>\n",
       "      <td>0.0</td>\n",
       "      <td>36.49</td>\n",
       "      <td>17.21</td>\n",
       "      <td>0.34</td>\n",
       "      <td>7.37</td>\n",
       "      <td>306.0</td>\n",
       "      <td>0.01</td>\n",
       "      <td>(36.8, -119.912)</td>\n",
       "    </tr>\n",
       "  </tbody>\n",
       "</table>\n",
       "<p>95 rows × 12 columns</p>\n",
       "</div>"
      ],
      "text/plain": [
       "          date  latitude  longitude  rainint  raintot  High T  Low T  \\\n",
       "0   2016-07-21     35.06   -121.536      0.0      0.0   15.09  13.82   \n",
       "1   2016-07-21     35.06   -121.304      0.0      0.0   15.09  13.82   \n",
       "2   2016-07-21     35.06   -121.072      0.0      0.0   20.81  13.73   \n",
       "3   2016-07-21     35.06   -120.840      0.0      0.0   22.47  13.97   \n",
       "4   2016-07-21     35.06   -120.608      0.0      0.0   22.16  13.00   \n",
       "..         ...       ...        ...      ...      ...     ...    ...   \n",
       "90  2016-07-21     36.80   -120.840      0.0      0.0   33.55  14.14   \n",
       "91  2016-07-21     36.80   -120.608      0.0      0.0   35.21  15.74   \n",
       "92  2016-07-21     36.80   -120.376      0.0      0.0   35.17  15.74   \n",
       "93  2016-07-21     36.80   -120.144      0.0      0.0   36.14  16.75   \n",
       "94  2016-07-21     36.80   -119.912      0.0      0.0   36.49  17.21   \n",
       "\n",
       "    Humidity  Wind Speed  Wind Direction  Cloud Cover                 xx  \n",
       "0        NaN       33.49           327.0          NaN  (35.06, -121.536)  \n",
       "1       0.84       33.49           327.0          NaN  (35.06, -121.304)  \n",
       "2       0.77        7.59           275.0         0.20  (35.06, -121.072)  \n",
       "3       0.71        6.77           274.0         0.37   (35.06, -120.84)  \n",
       "4       0.73        6.60           247.0         0.38  (35.06, -120.608)  \n",
       "..       ...         ...             ...          ...                ...  \n",
       "90      0.37       10.03           336.0          NaN    (36.8, -120.84)  \n",
       "91      0.34       10.91           326.0          NaN   (36.8, -120.608)  \n",
       "92      0.33       10.00           321.0          NaN   (36.8, -120.376)  \n",
       "93      0.34        7.93           308.0         0.01   (36.8, -120.144)  \n",
       "94      0.34        7.37           306.0         0.01   (36.8, -119.912)  \n",
       "\n",
       "[95 rows x 12 columns]"
      ]
     },
     "execution_count": 27,
     "metadata": {},
     "output_type": "execute_result"
    }
   ],
   "source": [
    "df3 = copy.deepcopy(df2)\n",
    "df3['xx'] = list(zip(df3['latitude'],df3['longitude']))\n",
    "df3"
   ]
  },
  {
   "cell_type": "code",
   "execution_count": 28,
   "metadata": {
    "Collapsed": "false"
   },
   "outputs": [
    {
     "data": {
      "text/html": [
       "<div>\n",
       "<style scoped>\n",
       "    .dataframe tbody tr th:only-of-type {\n",
       "        vertical-align: middle;\n",
       "    }\n",
       "\n",
       "    .dataframe tbody tr th {\n",
       "        vertical-align: top;\n",
       "    }\n",
       "\n",
       "    .dataframe thead th {\n",
       "        text-align: right;\n",
       "    }\n",
       "</style>\n",
       "<table border=\"1\" class=\"dataframe\">\n",
       "  <thead>\n",
       "    <tr style=\"text-align: right;\">\n",
       "      <th></th>\n",
       "      <th>xx</th>\n",
       "      <th>latitude</th>\n",
       "      <th>longitude</th>\n",
       "    </tr>\n",
       "  </thead>\n",
       "  <tbody>\n",
       "    <tr>\n",
       "      <th>0</th>\n",
       "      <td>(35.06, -122.0)</td>\n",
       "      <td>35.060000</td>\n",
       "      <td>-122.000</td>\n",
       "    </tr>\n",
       "    <tr>\n",
       "      <th>1</th>\n",
       "      <td>(35.25333333333334, -122.0)</td>\n",
       "      <td>35.253333</td>\n",
       "      <td>-122.000</td>\n",
       "    </tr>\n",
       "    <tr>\n",
       "      <th>2</th>\n",
       "      <td>(35.25333333333334, -121.768)</td>\n",
       "      <td>35.253333</td>\n",
       "      <td>-121.768</td>\n",
       "    </tr>\n",
       "    <tr>\n",
       "      <th>3</th>\n",
       "      <td>(35.25333333333334, -121.536)</td>\n",
       "      <td>35.253333</td>\n",
       "      <td>-121.536</td>\n",
       "    </tr>\n",
       "    <tr>\n",
       "      <th>4</th>\n",
       "      <td>(35.06, -121.768)</td>\n",
       "      <td>35.060000</td>\n",
       "      <td>-121.768</td>\n",
       "    </tr>\n",
       "  </tbody>\n",
       "</table>\n",
       "</div>"
      ],
      "text/plain": [
       "                              xx   latitude  longitude\n",
       "0                (35.06, -122.0)  35.060000   -122.000\n",
       "1    (35.25333333333334, -122.0)  35.253333   -122.000\n",
       "2  (35.25333333333334, -121.768)  35.253333   -121.768\n",
       "3  (35.25333333333334, -121.536)  35.253333   -121.536\n",
       "4              (35.06, -121.768)  35.060000   -121.768"
      ]
     },
     "execution_count": 28,
     "metadata": {},
     "output_type": "execute_result"
    }
   ],
   "source": [
    "missing = pd.DataFrame({'xx':list(set(df3['xx']) ^ set(pairs))})\n",
    "missing[['latitude','longitude']]=pd.DataFrame(missing['xx'].tolist(),index=missing.index)\n",
    "missing"
   ]
  },
  {
   "cell_type": "code",
   "execution_count": 29,
   "metadata": {
    "Collapsed": "false"
   },
   "outputs": [
    {
     "data": {
      "text/plain": [
       "(100, 12)"
      ]
     },
     "execution_count": 29,
     "metadata": {},
     "output_type": "execute_result"
    }
   ],
   "source": [
    "df4 = df3.append(missing, ignore_index=True, sort=True)\n",
    "df4.shape"
   ]
  },
  {
   "cell_type": "markdown",
   "metadata": {
    "Collapsed": "true"
   },
   "source": [
    "### Look at uniqueness"
   ]
  },
  {
   "cell_type": "code",
   "execution_count": 16,
   "metadata": {
    "Collapsed": "false"
   },
   "outputs": [],
   "source": [
    "stats = df2.describe()"
   ]
  },
  {
   "cell_type": "code",
   "execution_count": 14,
   "metadata": {
    "Collapsed": "false"
   },
   "outputs": [],
   "source": [
    "cols = stats.columns"
   ]
  },
  {
   "cell_type": "code",
   "execution_count": 15,
   "metadata": {
    "Collapsed": "false"
   },
   "outputs": [],
   "source": [
    "uniques = []\n",
    "for col in cols:\n",
    "    uniq = len(df2[col].value_counts())\n",
    "    uniques.append(uniq)\n",
    "uniques = pd.DataFrame([uniques],columns=cols)"
   ]
  },
  {
   "cell_type": "code",
   "execution_count": 16,
   "metadata": {
    "Collapsed": "false"
   },
   "outputs": [],
   "source": [
    "uniques.rename(index={0:'Uniques'},inplace = True)"
   ]
  },
  {
   "cell_type": "code",
   "execution_count": 17,
   "metadata": {
    "Collapsed": "false"
   },
   "outputs": [
    {
     "data": {
      "text/html": [
       "<div>\n",
       "<style scoped>\n",
       "    .dataframe tbody tr th:only-of-type {\n",
       "        vertical-align: middle;\n",
       "    }\n",
       "\n",
       "    .dataframe tbody tr th {\n",
       "        vertical-align: top;\n",
       "    }\n",
       "\n",
       "    .dataframe thead th {\n",
       "        text-align: right;\n",
       "    }\n",
       "</style>\n",
       "<table border=\"1\" class=\"dataframe\">\n",
       "  <thead>\n",
       "    <tr style=\"text-align: right;\">\n",
       "      <th></th>\n",
       "      <th>latitude</th>\n",
       "      <th>longitude</th>\n",
       "      <th>High T</th>\n",
       "      <th>Low T</th>\n",
       "      <th>Humidity</th>\n",
       "      <th>Wind Speed</th>\n",
       "      <th>Wind Direction</th>\n",
       "      <th>Cloud Cover</th>\n",
       "    </tr>\n",
       "  </thead>\n",
       "  <tbody>\n",
       "    <tr>\n",
       "      <th>count</th>\n",
       "      <td>95.000000</td>\n",
       "      <td>95.000000</td>\n",
       "      <td>95.000000</td>\n",
       "      <td>95.000000</td>\n",
       "      <td>90.000000</td>\n",
       "      <td>95.000000</td>\n",
       "      <td>94.000000</td>\n",
       "      <td>45.000000</td>\n",
       "    </tr>\n",
       "    <tr>\n",
       "      <th>mean</th>\n",
       "      <td>35.969684</td>\n",
       "      <td>-120.910821</td>\n",
       "      <td>29.696211</td>\n",
       "      <td>13.639895</td>\n",
       "      <td>0.491333</td>\n",
       "      <td>10.315368</td>\n",
       "      <td>279.042553</td>\n",
       "      <td>0.179111</td>\n",
       "    </tr>\n",
       "    <tr>\n",
       "      <th>std</th>\n",
       "      <td>0.543820</td>\n",
       "      <td>0.655386</td>\n",
       "      <td>6.749324</td>\n",
       "      <td>3.248108</td>\n",
       "      <td>0.166458</td>\n",
       "      <td>8.650780</td>\n",
       "      <td>88.161498</td>\n",
       "      <td>0.117818</td>\n",
       "    </tr>\n",
       "    <tr>\n",
       "      <th>min</th>\n",
       "      <td>35.060000</td>\n",
       "      <td>-122.000000</td>\n",
       "      <td>15.090000</td>\n",
       "      <td>6.050000</td>\n",
       "      <td>0.280000</td>\n",
       "      <td>4.510000</td>\n",
       "      <td>4.000000</td>\n",
       "      <td>0.010000</td>\n",
       "    </tr>\n",
       "    <tr>\n",
       "      <th>25%</th>\n",
       "      <td>35.446667</td>\n",
       "      <td>-121.536000</td>\n",
       "      <td>25.425000</td>\n",
       "      <td>11.275000</td>\n",
       "      <td>0.340000</td>\n",
       "      <td>6.605000</td>\n",
       "      <td>277.250000</td>\n",
       "      <td>0.080000</td>\n",
       "    </tr>\n",
       "    <tr>\n",
       "      <th>50%</th>\n",
       "      <td>36.026667</td>\n",
       "      <td>-120.840000</td>\n",
       "      <td>32.040000</td>\n",
       "      <td>13.330000</td>\n",
       "      <td>0.450000</td>\n",
       "      <td>7.440000</td>\n",
       "      <td>306.000000</td>\n",
       "      <td>0.200000</td>\n",
       "    </tr>\n",
       "    <tr>\n",
       "      <th>75%</th>\n",
       "      <td>36.413333</td>\n",
       "      <td>-120.376000</td>\n",
       "      <td>35.235000</td>\n",
       "      <td>15.740000</td>\n",
       "      <td>0.657500</td>\n",
       "      <td>9.260000</td>\n",
       "      <td>322.000000</td>\n",
       "      <td>0.280000</td>\n",
       "    </tr>\n",
       "    <tr>\n",
       "      <th>max</th>\n",
       "      <td>36.800000</td>\n",
       "      <td>-119.912000</td>\n",
       "      <td>38.660000</td>\n",
       "      <td>20.560000</td>\n",
       "      <td>0.840000</td>\n",
       "      <td>42.090000</td>\n",
       "      <td>358.000000</td>\n",
       "      <td>0.390000</td>\n",
       "    </tr>\n",
       "    <tr>\n",
       "      <th>Uniques</th>\n",
       "      <td>10.000000</td>\n",
       "      <td>10.000000</td>\n",
       "      <td>88.000000</td>\n",
       "      <td>88.000000</td>\n",
       "      <td>42.000000</td>\n",
       "      <td>89.000000</td>\n",
       "      <td>62.000000</td>\n",
       "      <td>27.000000</td>\n",
       "    </tr>\n",
       "  </tbody>\n",
       "</table>\n",
       "</div>"
      ],
      "text/plain": [
       "          latitude   longitude     High T      Low T   Humidity  Wind Speed  \\\n",
       "count    95.000000   95.000000  95.000000  95.000000  90.000000   95.000000   \n",
       "mean     35.969684 -120.910821  29.696211  13.639895   0.491333   10.315368   \n",
       "std       0.543820    0.655386   6.749324   3.248108   0.166458    8.650780   \n",
       "min      35.060000 -122.000000  15.090000   6.050000   0.280000    4.510000   \n",
       "25%      35.446667 -121.536000  25.425000  11.275000   0.340000    6.605000   \n",
       "50%      36.026667 -120.840000  32.040000  13.330000   0.450000    7.440000   \n",
       "75%      36.413333 -120.376000  35.235000  15.740000   0.657500    9.260000   \n",
       "max      36.800000 -119.912000  38.660000  20.560000   0.840000   42.090000   \n",
       "Uniques  10.000000   10.000000  88.000000  88.000000  42.000000   89.000000   \n",
       "\n",
       "         Wind Direction  Cloud Cover  \n",
       "count         94.000000    45.000000  \n",
       "mean         279.042553     0.179111  \n",
       "std           88.161498     0.117818  \n",
       "min            4.000000     0.010000  \n",
       "25%          277.250000     0.080000  \n",
       "50%          306.000000     0.200000  \n",
       "75%          322.000000     0.280000  \n",
       "max          358.000000     0.390000  \n",
       "Uniques       62.000000    27.000000  "
      ]
     },
     "execution_count": 17,
     "metadata": {},
     "output_type": "execute_result"
    }
   ],
   "source": [
    "newstats = stats.append(uniques)\n",
    "newstats"
   ]
  },
  {
   "cell_type": "markdown",
   "metadata": {
    "Collapsed": "false"
   },
   "source": [
    "# Turn data into 2D numpy arrays"
   ]
  },
  {
   "cell_type": "markdown",
   "metadata": {
    "Collapsed": "false"
   },
   "source": [
    "The above says that the data is fairly hyperlocal. Try doing heat maps?\n",
    "To do heatmaps, have to turn this into a numpy array which i have to do anyway"
   ]
  },
  {
   "cell_type": "markdown",
   "metadata": {
    "Collapsed": "false"
   },
   "source": [
    "## Create the numpy arrays"
   ]
  },
  {
   "cell_type": "markdown",
   "metadata": {
    "Collapsed": "true"
   },
   "source": [
    "### Sample for 1 array (High Temp) For Reference"
   ]
  },
  {
   "cell_type": "code",
   "execution_count": 14,
   "metadata": {
    "Collapsed": "false"
   },
   "outputs": [],
   "source": [
    "# Create numpy array for High Temperature\n",
    "# create a list of all the values by increasing longitude for each latitude, so we can vstack into array\n",
    "\n",
    "# # Subset the dataframe\n",
    "# sub = df2[['latitude','longitude','High T']]\n",
    "\n",
    "# # All values of longitude, to ensure square matrix\n",
    "# long_df = pd.DataFrame(longs,columns=['longitude'])\n",
    "\n",
    "# hiT = []\n",
    "\n",
    "# # reverse the latitudes so we start with largest first\n",
    "# lats2 = list(copy.deepcopy(lats))\n",
    "# lats2.reverse()\n",
    "\n",
    "# # loop through each latitude\n",
    "# for lat in lats2:\n",
    "#     # get the row values for each latitude, sort by longitude\n",
    "#     row = sub[sub['latitude']==lat].sort_values(by=['longitude'])\n",
    "    \n",
    "#     # add in missing longitude if necessary\n",
    "#     row2 = long_df.merge(row,how='left')\n",
    "    \n",
    "#     # Fill any missing values of latitude if needed\n",
    "#     row2['latitude'].fillna(lat,inplace=True)\n",
    "    \n",
    "#     # pull out just the High T\n",
    "#     row3 = row2['High T']\n",
    "    \n",
    "#     # reshape array\n",
    "#     row3 = np.array(row3)[np.newaxis] \n",
    "    \n",
    "#     hiT.append(row3)\n",
    "\n",
    "# x = np.vstack(hiT)\n",
    "# For Reference\n",
    "# hhh = HighTempArray\n",
    "# hhh\n"
   ]
  },
  {
   "cell_type": "markdown",
   "metadata": {
    "Collapsed": "false"
   },
   "source": [
    "### Looping to generate all weather for given day"
   ]
  },
  {
   "cell_type": "code",
   "execution_count": 19,
   "metadata": {
    "Collapsed": "false"
   },
   "outputs": [],
   "source": [
    "weather = ['rainint','raintot','High T','Low T','Humidity','Wind Speed','Wind Direction','Cloud Cover']"
   ]
  },
  {
   "cell_type": "code",
   "execution_count": 30,
   "metadata": {
    "Collapsed": "false"
   },
   "outputs": [],
   "source": [
    "weath_sort = df4.to_records(index=False)\n",
    "weath_sort.sort(order=('latitude','longitude'))"
   ]
  },
  {
   "cell_type": "code",
   "execution_count": 31,
   "metadata": {
    "Collapsed": "false"
   },
   "outputs": [],
   "source": [
    "weather_date = {}\n",
    "for var in weather:\n",
    "    x = weath_sort[var].reshape(10,10)\n",
    "    xx = np.flip(x,0)\n",
    "    weather_date.update({var:xx})"
   ]
  },
  {
   "cell_type": "code",
   "execution_count": 32,
   "metadata": {
    "Collapsed": "false",
    "collapsed": true,
    "jupyter": {
     "outputs_hidden": true
    }
   },
   "outputs": [
    {
     "data": {
      "text/plain": [
       "{'rainint': array([[ 0.,  0.,  0.,  0.,  0.,  0.,  0.,  0.,  0.,  0.],\n",
       "        [ 0.,  0.,  0.,  0.,  0.,  0.,  0.,  0.,  0.,  0.],\n",
       "        [ 0.,  0.,  0.,  0.,  0.,  0.,  0.,  0.,  0.,  0.],\n",
       "        [ 0.,  0.,  0.,  0.,  0.,  0.,  0.,  0.,  0.,  0.],\n",
       "        [ 0.,  0.,  0.,  0.,  0.,  0.,  0.,  0.,  0.,  0.],\n",
       "        [ 0.,  0.,  0.,  0.,  0.,  0.,  0.,  0.,  0.,  0.],\n",
       "        [ 0.,  0.,  0.,  0.,  0.,  0.,  0.,  0.,  0.,  0.],\n",
       "        [ 0.,  0.,  0.,  0.,  0.,  0.,  0.,  0.,  0.,  0.],\n",
       "        [nan, nan, nan,  0.,  0.,  0.,  0.,  0.,  0.,  0.],\n",
       "        [nan, nan,  0.,  0.,  0.,  0.,  0.,  0.,  0.,  0.]]),\n",
       " 'raintot': array([[ 0.,  0.,  0.,  0.,  0.,  0.,  0.,  0.,  0.,  0.],\n",
       "        [ 0.,  0.,  0.,  0.,  0.,  0.,  0.,  0.,  0.,  0.],\n",
       "        [ 0.,  0.,  0.,  0.,  0.,  0.,  0.,  0.,  0.,  0.],\n",
       "        [ 0.,  0.,  0.,  0.,  0.,  0.,  0.,  0.,  0.,  0.],\n",
       "        [ 0.,  0.,  0.,  0.,  0.,  0.,  0.,  0.,  0.,  0.],\n",
       "        [ 0.,  0.,  0.,  0.,  0.,  0.,  0.,  0.,  0.,  0.],\n",
       "        [ 0.,  0.,  0.,  0.,  0.,  0.,  0.,  0.,  0.,  0.],\n",
       "        [ 0.,  0.,  0.,  0.,  0.,  0.,  0.,  0.,  0.,  0.],\n",
       "        [nan, nan, nan,  0.,  0.,  0.,  0.,  0.,  0.,  0.],\n",
       "        [nan, nan,  0.,  0.,  0.,  0.,  0.,  0.,  0.,  0.]]),\n",
       " 'High T': array([[27.4 , 29.46, 27.61, 29.63, 29.93, 33.55, 35.21, 35.17, 36.14,\n",
       "         36.49],\n",
       "        [21.1 , 22.02, 27.77, 25.29, 26.53, 33.87, 34.84, 36.27, 36.23,\n",
       "         36.75],\n",
       "        [22.04, 20.4 , 25.95, 30.71, 34.39, 32.04, 32.38, 36.23, 36.82,\n",
       "         36.74],\n",
       "        [24.61, 26.05, 27.9 , 28.72, 35.2 , 35.13, 32.93, 36.87, 36.52,\n",
       "         36.97],\n",
       "        [21.38, 25.77, 27.68, 34.99, 35.14, 36.34, 34.58, 36.85, 36.13,\n",
       "         38.66],\n",
       "        [16.44, 17.38, 27.98, 30.57, 35.07, 36.79, 35.44, 35.26, 36.97,\n",
       "         37.42],\n",
       "        [15.19, 15.19, 23.34, 32.33, 25.56, 34.1 , 36.35, 35.4 , 34.22,\n",
       "         36.72],\n",
       "        [15.19, 15.19, 19.27, 25.03, 26.57, 32.15, 35.46, 31.55, 35.14,\n",
       "         32.78],\n",
       "        [  nan,   nan,   nan, 20.39, 23.43, 20.46, 27.74, 31.9 , 29.92,\n",
       "         34.26],\n",
       "        [  nan,   nan, 15.09, 15.09, 20.81, 22.47, 22.16, 26.98, 32.68,\n",
       "         34.33]]),\n",
       " 'Low T': array([[11.37,  9.98,  8.97, 10.97, 10.46, 14.14, 15.74, 15.74, 16.75,\n",
       "         17.21],\n",
       "        [10.96,  9.96, 11.27,  6.93,  6.82, 13.77, 18.46, 16.39, 17.25,\n",
       "         17.45],\n",
       "        [11.27,  7.26,  6.05, 12.2 , 12.57, 11.26, 14.68, 18.99, 18.61,\n",
       "         17.59],\n",
       "        [11.21, 10.18,  9.52,  9.55, 12.47, 15.38, 16.64, 19.52, 18.41,\n",
       "         18.36],\n",
       "        [12.03, 12.25,  9.83, 10.24, 11.1 , 14.24, 14.99, 16.57, 19.23,\n",
       "         20.56],\n",
       "        [13.4 , 13.25, 13.25,  8.55, 11.28, 12.98, 13.5 , 15.49, 19.09,\n",
       "         20.35],\n",
       "        [13.33, 13.33, 13.09, 13.13, 10.1 , 11.22, 13.87, 14.87, 16.97,\n",
       "         20.46],\n",
       "        [13.33, 13.33, 13.18, 12.8 , 13.84, 13.71, 14.37, 12.81, 14.07,\n",
       "         16.09],\n",
       "        [  nan,   nan,   nan, 12.93, 14.33, 11.91, 13.29, 11.83, 11.64,\n",
       "         18.82],\n",
       "        [  nan,   nan, 13.82, 13.82, 13.73, 13.97, 13.  , 11.3 , 10.7 ,\n",
       "         18.31]]),\n",
       " 'Humidity': array([[0.65, 0.68, 0.7 , 0.57, 0.52, 0.37, 0.34, 0.33, 0.34, 0.34],\n",
       "        [0.75, 0.77, 0.66, 0.69, 0.59, 0.33, 0.31, 0.3 , 0.33, 0.34],\n",
       "        [0.67, 0.78, 0.66, 0.44, 0.37, 0.35, 0.34, 0.29, 0.31, 0.33],\n",
       "        [0.56, 0.58, 0.52, 0.48, 0.39, 0.33, 0.34, 0.31, 0.33, 0.32],\n",
       "        [0.68, 0.52, 0.62, 0.44, 0.42, 0.36, 0.36, 0.32, 0.31, 0.28],\n",
       "        [0.74, 0.73, 0.54, 0.56, 0.43, 0.42, 0.37, 0.35, 0.32, 0.29],\n",
       "        [ nan,  nan, 0.62, 0.46, 0.69, 0.48, 0.38, 0.34, 0.3 , 0.31],\n",
       "        [ nan,  nan, 0.78, 0.69, 0.6 , 0.56, 0.43, 0.51, 0.35, 0.33],\n",
       "        [ nan,  nan,  nan, 0.78, 0.68, 0.77, 0.67, 0.5 , 0.49, 0.3 ],\n",
       "        [ nan,  nan,  nan, 0.84, 0.77, 0.71, 0.73, 0.64, 0.52, 0.32]]),\n",
       " 'Wind Speed': array([[ 4.76,  7.07,  7.05,  7.1 ,  8.82, 10.03, 10.91, 10.  ,  7.93,\n",
       "          7.37],\n",
       "        [ 6.87,  7.08,  8.05,  7.86,  8.18,  9.18,  9.4 , 10.85,  8.76,\n",
       "          8.1 ],\n",
       "        [ 7.78,  7.76,  5.66,  6.98,  7.6 ,  8.24,  6.89,  7.99,  9.31,\n",
       "         10.26],\n",
       "        [ 5.38,  4.51,  6.62,  6.04,  7.01,  6.73,  6.43,  6.88,  7.45,\n",
       "         10.19],\n",
       "        [14.98,  7.42,  5.7 ,  5.17,  6.05,  6.2 ,  6.54,  7.23,  7.8 ,\n",
       "         11.77],\n",
       "        [33.51, 27.04, 12.92,  5.67,  4.86,  6.46,  6.27,  6.85,  8.13,\n",
       "          9.61],\n",
       "        [42.09, 42.09, 18.02,  6.09,  6.54,  5.37,  6.61,  6.91,  9.74,\n",
       "          9.21],\n",
       "        [42.09, 42.09, 22.07,  7.35,  6.94,  6.1 ,  5.53,  6.45,  7.65,\n",
       "          8.73],\n",
       "        [  nan,   nan,   nan,  9.46,  7.44,  7.21,  7.45,  5.64,  7.03,\n",
       "          7.68],\n",
       "        [  nan,   nan, 33.49, 33.49,  7.59,  6.77,  6.6 ,  6.  ,  7.14,\n",
       "          8.04]]),\n",
       " 'Wind Direction': array([[297., 279., 285., 292., 316., 336., 326., 321., 308., 306.],\n",
       "        [277., 276., 288., 294., 303., 340., 335., 322., 315., 306.],\n",
       "        [276., 277., 285., 314., 326., 251., 316., 344., 332., 318.],\n",
       "        [285., 278., 287., 311., 308., 285.,  21.,  nan, 345., 329.],\n",
       "        [321., 321., 309., 298., 305., 337., 358.,  14., 356., 332.],\n",
       "        [321., 320., 312., 318., 310., 310., 342., 355.,   4., 350.],\n",
       "        [322., 322., 311., 286., 273., 286., 306., 358.,  20.,   9.],\n",
       "        [322., 322., 311., 270., 284., 268., 276., 309.,  29.,  41.],\n",
       "        [ nan,  nan,  nan, 278., 276., 269., 284., 261., 352.,  24.],\n",
       "        [ nan,  nan, 327., 327., 275., 274., 247., 278., 305.,  25.]]),\n",
       " 'Cloud Cover': array([[0.24, 0.22, 0.21, 0.19,  nan,  nan,  nan,  nan, 0.01, 0.01],\n",
       "        [0.26, 0.23, 0.24, 0.23, 0.13,  nan,  nan, 0.09, 0.03, 0.02],\n",
       "        [0.32, 0.31, 0.29, 0.33,  nan,  nan,  nan, 0.11, 0.02, 0.04],\n",
       "        [0.34, 0.34, 0.3 ,  nan,  nan,  nan,  nan, 0.11, 0.1 , 0.03],\n",
       "        [ nan,  nan,  nan,  nan,  nan,  nan,  nan,  nan, 0.11, 0.08],\n",
       "        [ nan,  nan,  nan,  nan,  nan,  nan,  nan,  nan,  nan,  nan],\n",
       "        [ nan,  nan,  nan,  nan,  nan, 0.05, 0.04,  nan,  nan,  nan],\n",
       "        [ nan,  nan,  nan,  nan, 0.08, 0.08, 0.08, 0.08,  nan,  nan],\n",
       "        [ nan,  nan,  nan,  nan, 0.2 , 0.2 , 0.13, 0.22, 0.28,  nan],\n",
       "        [ nan,  nan,  nan,  nan, 0.2 , 0.37, 0.38, 0.39, 0.34,  nan]])}"
      ]
     },
     "execution_count": 32,
     "metadata": {},
     "output_type": "execute_result"
    }
   ],
   "source": [
    "weather_date"
   ]
  },
  {
   "cell_type": "code",
   "execution_count": null,
   "metadata": {
    "Collapsed": "false"
   },
   "outputs": [],
   "source": [
    "# REFERENCE PLOT\n",
    "# ax = sns.heatmap(HighTempArray)  # Plotting HighTempArray but replaced -9999 with nan for plot\n",
    "\n",
    "# # Fix the cutoff heatmap issue\n",
    "# b, t = plt.ylim() # discover the values for bottom and top\n",
    "# b += 0.5 # Add 0.5 to the bottom\n",
    "# t -= 0.5 # Subtract 0.5 from the top\n",
    "# plt.ylim(b, t) # update the ylim(bottom, top) values\n",
    "\n",
    "# plt.show()"
   ]
  },
  {
   "cell_type": "code",
   "execution_count": 34,
   "metadata": {
    "Collapsed": "false"
   },
   "outputs": [
    {
     "data": {
      "text/plain": [
       "dict"
      ]
     },
     "execution_count": 34,
     "metadata": {},
     "output_type": "execute_result"
    }
   ],
   "source": [
    "type(weather_date)"
   ]
  },
  {
   "cell_type": "code",
   "execution_count": 35,
   "metadata": {
    "Collapsed": "false"
   },
   "outputs": [
    {
     "data": {
      "image/png": "[encoded data removed]",
      "text/plain": [
       "<Figure size 1440x576 with 16 Axes>"
      ]
     },
     "metadata": {
      "needs_background": "light"
     },
     "output_type": "display_data"
    }
   ],
   "source": [
    "fig = plt.figure(figsize = (20,8))\n",
    "fig.subplots_adjust(hspace=0.4,wspace=0.4)\n",
    "i=1\n",
    "for key,data in weather_date.items():\n",
    "    ax = fig.add_subplot(2,4,i)\n",
    "    sns.heatmap(data)\n",
    "    ax.set_title(key)\n",
    "    i+=1\n",
    "plt.show()"
   ]
  },
  {
   "cell_type": "markdown",
   "metadata": {
    "Collapsed": "false"
   },
   "source": [
    "## Create a GEOTIFF on the Lat/Long data\n",
    "\n",
    "must create geotiff first, then change crs, then upsample"
   ]
  },
  {
   "cell_type": "code",
   "execution_count": 298,
   "metadata": {
    "Collapsed": "false"
   },
   "outputs": [
    {
     "data": {
      "text/plain": [
       "array([35.06      , 35.25333333, 35.44666667, 35.64      , 35.83333333,\n",
       "       36.02666667, 36.22      , 36.41333333, 36.60666667, 36.8       ])"
      ]
     },
     "execution_count": 298,
     "metadata": {},
     "output_type": "execute_result"
    }
   ],
   "source": [
    "lats"
   ]
  },
  {
   "cell_type": "markdown",
   "metadata": {},
   "source": [
    "Sketches with transforms\n",
    "![DestinationTransform](DestinationTransform.jpg)\n",
    "![SourceTransform](SourceTransform.jpg)"
   ]
  },
  {
   "cell_type": "code",
   "execution_count": 172,
   "metadata": {
    "Collapsed": "false"
   },
   "outputs": [
    {
     "data": {
      "text/plain": [
       "Affine(0.23199999999999932, 0.0, -122.116,\n",
       "       0.0, -0.19333333333333277, 36.89666666666666)"
      ]
     },
     "execution_count": 172,
     "metadata": {},
     "output_type": "execute_result"
    }
   ],
   "source": [
    "# from https://rasterio.readthedocs.io/en/latest/quickstart.html#creating-data\n",
    "# See my imported sketches with the correct transforms\n",
    "\n",
    "#  Resolution\n",
    "xres = (longs[-1] - longs[0]) / 9\n",
    "yres = (lats[0] - lats[-1]) /9\n",
    "\n",
    "# affine transform - assumes each lat/long point is in the center of the pixel it represents\n",
    "src_transform = Affine.translation(longs[0] - xres / 2, lats[-1] - yres / 2) * Affine.scale(xres, yres)\n",
    "src_transform"
   ]
  },
  {
   "cell_type": "code",
   "execution_count": 173,
   "metadata": {
    "Collapsed": "false"
   },
   "outputs": [],
   "source": [
    "new_meta = {'driver':'GTiff','height':10, \\\n",
    "           'width':10,'count':1, \\\n",
    "           'dtype':'float64', 'crs':'+proj=latlong', \\\n",
    "           'transform':src_transform, 'nodata':-9999, \\\n",
    "           'compress':'lzw','interleave':'band'}"
   ]
  },
  {
   "cell_type": "code",
   "execution_count": 301,
   "metadata": {
    "Collapsed": "false"
   },
   "outputs": [
    {
     "ename": "TypeError",
     "evalue": "nan_to_num() got an unexpected keyword argument 'nan'",
     "output_type": "error",
     "traceback": [
      "\u001b[1;31m---------------------------------------------------------------------------\u001b[0m",
      "\u001b[1;31mTypeError\u001b[0m                                 Traceback (most recent call last)",
      "\u001b[1;32m<ipython-input-301-538ed0d859c8>\u001b[0m in \u001b[0;36m<module>\u001b[1;34m\u001b[0m\n\u001b[0;32m      1\u001b[0m \u001b[1;31m# Write the high temp data - change nan to -9999 first\u001b[0m\u001b[1;33m\u001b[0m\u001b[1;33m\u001b[0m\u001b[1;33m\u001b[0m\u001b[0m\n\u001b[1;32m----> 2\u001b[1;33m \u001b[0mnp\u001b[0m\u001b[1;33m.\u001b[0m\u001b[0mnan_to_num\u001b[0m\u001b[1;33m(\u001b[0m\u001b[0mHighTempArray\u001b[0m\u001b[1;33m,\u001b[0m\u001b[0mcopy\u001b[0m\u001b[1;33m=\u001b[0m\u001b[1;32mFalse\u001b[0m\u001b[1;33m,\u001b[0m\u001b[0mnan\u001b[0m\u001b[1;33m=\u001b[0m\u001b[1;33m-\u001b[0m\u001b[1;36m9999\u001b[0m\u001b[1;33m)\u001b[0m\u001b[1;33m\u001b[0m\u001b[1;33m\u001b[0m\u001b[0m\n\u001b[0m\u001b[0;32m      3\u001b[0m \u001b[1;32mwith\u001b[0m \u001b[0mrio\u001b[0m\u001b[1;33m.\u001b[0m\u001b[0mopen\u001b[0m\u001b[1;33m(\u001b[0m\u001b[1;34m'../data/GlobalFire2016/hitemp.tif'\u001b[0m\u001b[1;33m,\u001b[0m\u001b[1;34m'w'\u001b[0m\u001b[1;33m,\u001b[0m \u001b[1;33m**\u001b[0m\u001b[0mnew_meta\u001b[0m\u001b[1;33m)\u001b[0m \u001b[1;32mas\u001b[0m \u001b[0mnew\u001b[0m\u001b[1;33m:\u001b[0m\u001b[1;33m\u001b[0m\u001b[1;33m\u001b[0m\u001b[0m\n\u001b[0;32m      4\u001b[0m     \u001b[0mnew\u001b[0m\u001b[1;33m.\u001b[0m\u001b[0mwrite\u001b[0m\u001b[1;33m(\u001b[0m\u001b[0mHighTempArray\u001b[0m\u001b[1;33m,\u001b[0m\u001b[1;36m1\u001b[0m\u001b[1;33m)\u001b[0m\u001b[1;33m\u001b[0m\u001b[1;33m\u001b[0m\u001b[0m\n",
      "\u001b[1;31mTypeError\u001b[0m: nan_to_num() got an unexpected keyword argument 'nan'"
     ]
    }
   ],
   "source": [
    "# Write the high temp data - change nan to -9999 first\n",
    "np.nan_to_num(HighTempArray,copy=False,nan=-9999)\n",
    "with rio.open('../data/GlobalFire2016/hitemp.tif','w', **new_meta) as new:\n",
    "    new.write(HighTempArray,1)"
   ]
  },
  {
   "cell_type": "code",
   "execution_count": 155,
   "metadata": {
    "Collapsed": "false"
   },
   "outputs": [],
   "source": [
    "# re-open to see if it did the right thing\n",
    "with rio.open('../data/GlobalFire2016/hitemp.tif','r') as ht:\n",
    "    htmeta = ht.meta\n",
    "    ht_data = ht.read()"
   ]
  },
  {
   "cell_type": "code",
   "execution_count": 156,
   "metadata": {
    "Collapsed": "false"
   },
   "outputs": [
    {
     "data": {
      "text/plain": [
       "{'driver': 'GTiff',\n",
       " 'dtype': 'float64',\n",
       " 'nodata': -9999.0,\n",
       " 'width': 10,\n",
       " 'height': 10,\n",
       " 'count': 1,\n",
       " 'crs': CRS.from_epsg(4326),\n",
       " 'transform': Affine(0.23199999999999932, 0.0, -122.116,\n",
       "        0.0, -0.19333333333333277, 36.89666666666666)}"
      ]
     },
     "execution_count": 156,
     "metadata": {},
     "output_type": "execute_result"
    }
   ],
   "source": [
    "htmeta"
   ]
  },
  {
   "cell_type": "code",
   "execution_count": 157,
   "metadata": {
    "Collapsed": "false"
   },
   "outputs": [
    {
     "data": {
      "text/plain": [
       "array([[[27.4 , 29.46, 27.61, 29.63, 29.93, 33.55, 35.21, 35.17, 36.14,\n",
       "         36.49],\n",
       "        [21.1 , 22.02, 27.77, 25.29, 26.53, 33.87, 34.84, 36.27, 36.23,\n",
       "         36.75],\n",
       "        [22.04, 20.4 , 25.95, 30.71, 34.39, 32.04, 32.38, 36.23, 36.82,\n",
       "         36.74],\n",
       "        [24.61, 26.05, 27.9 , 28.72, 35.2 , 35.13, 32.93, 36.87, 36.52,\n",
       "         36.97],\n",
       "        [21.38, 25.77, 27.68, 34.99, 35.14, 36.34, 34.58, 36.85, 36.13,\n",
       "         38.66],\n",
       "        [16.44, 17.38, 27.98, 30.57, 35.07, 36.79, 35.44, 35.26, 36.97,\n",
       "         37.42],\n",
       "        [15.19, 15.19, 23.34, 32.33, 25.56, 34.1 , 36.35, 35.4 , 34.22,\n",
       "         36.72],\n",
       "        [15.19, 15.19, 19.27, 25.03, 26.57, 32.15, 35.46, 31.55, 35.14,\n",
       "         32.78],\n",
       "        [  nan,   nan,   nan, 20.39, 23.43, 20.46, 27.74, 31.9 , 29.92,\n",
       "         34.26],\n",
       "        [  nan,   nan, 15.09, 15.09, 20.81, 22.47, 22.16, 26.98, 32.68,\n",
       "         34.33]]])"
      ]
     },
     "execution_count": 157,
     "metadata": {},
     "output_type": "execute_result"
    }
   ],
   "source": [
    "ht_data[ht_data == -9999.]='NaN'\n",
    "ht_data"
   ]
  },
  {
   "cell_type": "markdown",
   "metadata": {
    "Collapsed": "false"
   },
   "source": [
    "## Reproject and upsample weather data to fire crs"
   ]
  },
  {
   "cell_type": "code",
   "execution_count": 158,
   "metadata": {
    "Collapsed": "false"
   },
   "outputs": [],
   "source": [
    "# Use the firedata raster as the reference meta data and transform\n",
    "with rio.open('../data/GlobalFire2016/Global_fire_atlas_firelinecrop.tif','r') as ref:\n",
    "    refdata = ref.read(1)\n",
    "    refmeta = ref.meta\n",
    "    refres = ref.res"
   ]
  },
  {
   "cell_type": "code",
   "execution_count": 159,
   "metadata": {
    "Collapsed": "false"
   },
   "outputs": [],
   "source": [
    "dst_transform = refmeta['transform']"
   ]
  },
  {
   "cell_type": "code",
   "execution_count": 160,
   "metadata": {
    "Collapsed": "false"
   },
   "outputs": [
    {
     "data": {
      "text/plain": [
       "Affine(509.9863732168427, 0.0, -13581080.848881941,\n",
       "       0.0, -509.9928633270912, 4411268.819459678)"
      ]
     },
     "execution_count": 160,
     "metadata": {},
     "output_type": "execute_result"
    }
   ],
   "source": [
    "dst_transform"
   ]
  },
  {
   "cell_type": "code",
   "execution_count": 161,
   "metadata": {
    "Collapsed": "false"
   },
   "outputs": [],
   "source": [
    "src_crs = htmeta['crs']\n",
    "dst_crs = refmeta['crs']"
   ]
  },
  {
   "cell_type": "code",
   "execution_count": 162,
   "metadata": {
    "Collapsed": "false"
   },
   "outputs": [
    {
     "name": "stdout",
     "output_type": "stream",
     "text": [
      "source crs =  EPSG:4326 \n",
      "destination crs = EPSG:3857\n"
     ]
    }
   ],
   "source": [
    "print('source crs = ',src_crs,'\\ndestination crs =',dst_crs)"
   ]
  },
  {
   "cell_type": "markdown",
   "metadata": {
    "Collapsed": "false",
    "jupyter": {
     "source_hidden": true
    }
   },
   "source": [
    "### Reproject the Array"
   ]
  },
  {
   "cell_type": "code",
   "execution_count": 163,
   "metadata": {
    "Collapsed": "false"
   },
   "outputs": [
    {
     "name": "stdout",
     "output_type": "stream",
     "text": [
      "[35.06       35.25333333 35.44666667 35.64       35.83333333 36.02666667\n",
      " 36.22       36.41333333 36.60666667 36.8       ] [-122.    -121.768 -121.536 -121.304 -121.072 -120.84  -120.608 -120.376\n",
      " -120.144 -119.912]\n",
      "{'driver': 'GTiff', 'dtype': 'int32', 'nodata': -9999.0, 'width': 456, 'height': 470, 'count': 1, 'crs': CRS.from_epsg(3857), 'transform': Affine(509.9863732168427, 0.0, -13581080.848881941,\n",
      "       0.0, -509.9928633270912, 4411268.819459678)}\n",
      "(470, 456)\n"
     ]
    }
   ],
   "source": [
    "print(lats,longs)\n",
    "print(refmeta)\n",
    "print(refdata.shape)"
   ]
  },
  {
   "cell_type": "code",
   "execution_count": 467,
   "metadata": {
    "Collapsed": "false"
   },
   "outputs": [
    {
     "data": {
      "text/plain": [
       "{'driver': 'GTiff',\n",
       " 'dtype': 'float64',\n",
       " 'nodata': -9999.0,\n",
       " 'width': 456,\n",
       " 'height': 470,\n",
       " 'count': 1,\n",
       " 'crs': CRS.from_epsg(3857),\n",
       " 'transform': Affine(509.9863732168427, 0.0, -13581080.848881941,\n",
       "        0.0, -509.9928633270912, 4411268.819459678)}"
      ]
     },
     "execution_count": 467,
     "metadata": {},
     "output_type": "execute_result"
    }
   ],
   "source": [
    "# Change the dtype for the tempdata - fireline used integer data and we want float\n",
    "refmeta['dtype'] = 'float64'\n",
    "refmeta\n"
   ]
  },
  {
   "cell_type": "code",
   "execution_count": 164,
   "metadata": {
    "Collapsed": "false"
   },
   "outputs": [
    {
     "data": {
      "text/plain": [
       "(470, 456)"
      ]
     },
     "execution_count": 164,
     "metadata": {},
     "output_type": "execute_result"
    }
   ],
   "source": [
    "dst_shape = refdata.shape\n",
    "dst_shape"
   ]
  },
  {
   "cell_type": "code",
   "execution_count": 167,
   "metadata": {
    "Collapsed": "false"
   },
   "outputs": [],
   "source": [
    "destination = np.full(dst_shape, -9999.0)"
   ]
  },
  {
   "cell_type": "code",
   "execution_count": 165,
   "metadata": {},
   "outputs": [
    {
     "data": {
      "text/plain": [
       "array([[[27.4 , 29.46, 27.61, 29.63, 29.93, 33.55, 35.21, 35.17, 36.14,\n",
       "         36.49],\n",
       "        [21.1 , 22.02, 27.77, 25.29, 26.53, 33.87, 34.84, 36.27, 36.23,\n",
       "         36.75],\n",
       "        [22.04, 20.4 , 25.95, 30.71, 34.39, 32.04, 32.38, 36.23, 36.82,\n",
       "         36.74],\n",
       "        [24.61, 26.05, 27.9 , 28.72, 35.2 , 35.13, 32.93, 36.87, 36.52,\n",
       "         36.97],\n",
       "        [21.38, 25.77, 27.68, 34.99, 35.14, 36.34, 34.58, 36.85, 36.13,\n",
       "         38.66],\n",
       "        [16.44, 17.38, 27.98, 30.57, 35.07, 36.79, 35.44, 35.26, 36.97,\n",
       "         37.42],\n",
       "        [15.19, 15.19, 23.34, 32.33, 25.56, 34.1 , 36.35, 35.4 , 34.22,\n",
       "         36.72],\n",
       "        [15.19, 15.19, 19.27, 25.03, 26.57, 32.15, 35.46, 31.55, 35.14,\n",
       "         32.78],\n",
       "        [  nan,   nan,   nan, 20.39, 23.43, 20.46, 27.74, 31.9 , 29.92,\n",
       "         34.26],\n",
       "        [  nan,   nan, 15.09, 15.09, 20.81, 22.47, 22.16, 26.98, 32.68,\n",
       "         34.33]]])"
      ]
     },
     "execution_count": 165,
     "metadata": {},
     "output_type": "execute_result"
    }
   ],
   "source": [
    "ht_data"
   ]
  },
  {
   "cell_type": "code",
   "execution_count": 168,
   "metadata": {},
   "outputs": [
    {
     "data": {
      "text/plain": [
       "array([[-9999., -9999., -9999., ..., -9999., -9999., -9999.],\n",
       "       [-9999., -9999., -9999., ..., -9999., -9999., -9999.],\n",
       "       [-9999., -9999., -9999., ..., -9999., -9999., -9999.],\n",
       "       ...,\n",
       "       [-9999., -9999., -9999., ..., -9999., -9999., -9999.],\n",
       "       [-9999., -9999., -9999., ..., -9999., -9999., -9999.],\n",
       "       [-9999., -9999., -9999., ..., -9999., -9999., -9999.]])"
      ]
     },
     "execution_count": 168,
     "metadata": {},
     "output_type": "execute_result"
    }
   ],
   "source": [
    "destination"
   ]
  },
  {
   "cell_type": "code",
   "execution_count": 175,
   "metadata": {},
   "outputs": [
    {
     "data": {
      "text/plain": [
       "Affine(0.23199999999999932, 0.0, -122.116,\n",
       "       0.0, -0.19333333333333277, 36.89666666666666)"
      ]
     },
     "execution_count": 175,
     "metadata": {},
     "output_type": "execute_result"
    }
   ],
   "source": [
    "src_transform"
   ]
  },
  {
   "cell_type": "code",
   "execution_count": 176,
   "metadata": {},
   "outputs": [
    {
     "data": {
      "text/plain": [
       "CRS.from_epsg(4326)"
      ]
     },
     "execution_count": 176,
     "metadata": {},
     "output_type": "execute_result"
    }
   ],
   "source": [
    "src_crs"
   ]
  },
  {
   "cell_type": "code",
   "execution_count": 177,
   "metadata": {},
   "outputs": [
    {
     "data": {
      "text/plain": [
       "Affine(509.9863732168427, 0.0, -13581080.848881941,\n",
       "       0.0, -509.9928633270912, 4411268.819459678)"
      ]
     },
     "execution_count": 177,
     "metadata": {},
     "output_type": "execute_result"
    }
   ],
   "source": [
    "dst_transform"
   ]
  },
  {
   "cell_type": "code",
   "execution_count": 179,
   "metadata": {},
   "outputs": [
    {
     "data": {
      "text/plain": [
       "CRS.from_epsg(3857)"
      ]
     },
     "execution_count": 179,
     "metadata": {},
     "output_type": "execute_result"
    }
   ],
   "source": [
    "dst_crs"
   ]
  },
  {
   "cell_type": "code",
   "execution_count": 180,
   "metadata": {
    "Collapsed": "false",
    "collapsed": true,
    "jupyter": {
     "outputs_hidden": true
    }
   },
   "outputs": [
    {
     "data": {
      "text/plain": [
       "(array([[27.35297407, 27.39344158, 27.4339091 , ..., 36.47529529,\n",
       "         36.4822382 , 36.48918111],\n",
       "        [27.23330096, 27.27334131, 27.31338166, ..., 36.48007164,\n",
       "         36.48707825, 36.49408486],\n",
       "        [27.11362212, 27.15323528, 27.19284845, ..., 36.48484821,\n",
       "         36.49191853, 36.49898884],\n",
       "        ...,\n",
       "        [        nan,         nan,         nan, ..., 34.24335679,\n",
       "         34.27757411, 34.31179143],\n",
       "        [        nan,         nan,         nan, ..., 34.24725849,\n",
       "         34.28044552, 34.31363254],\n",
       "        [        nan,         nan,         nan, ..., 34.24954811,\n",
       "         34.28213053, 34.31471295]]),\n",
       " Affine(509.9863732168427, 0.0, -13581080.848881941,\n",
       "        0.0, -509.9928633270912, 4411268.819459678))"
      ]
     },
     "execution_count": 180,
     "metadata": {},
     "output_type": "execute_result"
    }
   ],
   "source": [
    "reproject(\n",
    "    ht_data,\n",
    "    destination,\n",
    "    src_transform=src_transform,\n",
    "    src_crs=src_crs,\n",
    "    dst_transform=dst_transform,\n",
    "    dst_crs=dst_crs,\n",
    "    resampling=Resampling.bilinear)"
   ]
  },
  {
   "cell_type": "code",
   "execution_count": 181,
   "metadata": {
    "Collapsed": "false"
   },
   "outputs": [
    {
     "data": {
      "text/plain": [
       "array([[[27.4 , 29.46, 27.61, 29.63, 29.93, 33.55, 35.21, 35.17, 36.14,\n",
       "         36.49],\n",
       "        [21.1 , 22.02, 27.77, 25.29, 26.53, 33.87, 34.84, 36.27, 36.23,\n",
       "         36.75],\n",
       "        [22.04, 20.4 , 25.95, 30.71, 34.39, 32.04, 32.38, 36.23, 36.82,\n",
       "         36.74],\n",
       "        [24.61, 26.05, 27.9 , 28.72, 35.2 , 35.13, 32.93, 36.87, 36.52,\n",
       "         36.97],\n",
       "        [21.38, 25.77, 27.68, 34.99, 35.14, 36.34, 34.58, 36.85, 36.13,\n",
       "         38.66],\n",
       "        [16.44, 17.38, 27.98, 30.57, 35.07, 36.79, 35.44, 35.26, 36.97,\n",
       "         37.42],\n",
       "        [15.19, 15.19, 23.34, 32.33, 25.56, 34.1 , 36.35, 35.4 , 34.22,\n",
       "         36.72],\n",
       "        [15.19, 15.19, 19.27, 25.03, 26.57, 32.15, 35.46, 31.55, 35.14,\n",
       "         32.78],\n",
       "        [  nan,   nan,   nan, 20.39, 23.43, 20.46, 27.74, 31.9 , 29.92,\n",
       "         34.26],\n",
       "        [  nan,   nan, 15.09, 15.09, 20.81, 22.47, 22.16, 26.98, 32.68,\n",
       "         34.33]]])"
      ]
     },
     "execution_count": 181,
     "metadata": {},
     "output_type": "execute_result"
    }
   ],
   "source": [
    "ht_data"
   ]
  },
  {
   "cell_type": "markdown",
   "metadata": {
    "Collapsed": "false"
   },
   "source": [
    "### Check that raster data was projected and written correctly"
   ]
  },
  {
   "cell_type": "code",
   "execution_count": 493,
   "metadata": {
    "Collapsed": "false",
    "collapsed": true,
    "jupyter": {
     "outputs_hidden": true
    }
   },
   "outputs": [
    {
     "data": {
      "image/png": "[encoded data removed]",
      "text/plain": [
       "<Figure size 432x288 with 2 Axes>"
      ]
     },
     "metadata": {
      "needs_background": "light"
     },
     "output_type": "display_data"
    }
   ],
   "source": [
    "# Plot to test\n",
    "ax = sns.heatmap(destination)"
   ]
  },
  {
   "cell_type": "markdown",
   "metadata": {},
   "source": [
    "## Putting it all together: Functions to get weather, create each day's weather from DarkSky json and to upsample each array then store the dictionary of arrays out"
   ]
  },
  {
   "cell_type": "markdown",
   "metadata": {},
   "source": [
    "### Get Weather Data Functions and call"
   ]
  },
  {
   "cell_type": "code",
   "execution_count": 59,
   "metadata": {
    "jupyter": {
     "source_hidden": true
    }
   },
   "outputs": [],
   "source": [
    "# Function to get dates of fire in pertinent area from raster file.\n",
    "def get_fire_dates(yr,path,filename):\n",
    "    \"\"\"Get all the dates for a given year that there was fire\n",
    "    in the raster being studied\n",
    "    \"\"\"\n",
    "    \n",
    "    f = path+filename\n",
    "    # Use the firedata raster to find the day of year \n",
    "    with rio.open(f,'r') as rast:\n",
    "        rastdata = rast.read(1)\n",
    "    \n",
    "    # Get unique days of the year there was a pixel on a fireline, as well as counts\n",
    "    uniq = np.unique(rastdata, return_counts=True)\n",
    "    days = uniq[0]\n",
    "    counts = uniq[1]\n",
    "    \n",
    "    # Error check that counts are greater than 0\n",
    "    if np.count_nonzero(counts) > 0:\n",
    "        days = days[days > 0]  # remove the -9999 no data values\n",
    "\n",
    "    # Create list of dates for DOY on fireline, date format = ['2016-12-16']\n",
    "    # time = date+'T12:00:00'\n",
    "    fire_dates = []\n",
    "    for day in days:\n",
    "        s = yr + '-'+ str(day)\n",
    "        d = datetime.strptime(s,'%Y-%j')\n",
    "        s2 = str(d.strftime(\"%Y-%m-%d\")) + 'T12:00:00'\n",
    "        fire_dates.append(s2)\n",
    "    \n",
    "    return fire_dates"
   ]
  },
  {
   "cell_type": "code",
   "execution_count": 75,
   "metadata": {
    "jupyter": {
     "source_hidden": true
    }
   },
   "outputs": [],
   "source": [
    "def fire_weather(pairs,fire_dates,key):\n",
    "    \"\"\"Function to loop through all pairs of lat/long and get the daily weather\n",
    "    for each point from DarkSky\n",
    "    Input: list of pairs of lat/long, list of dates, API Key\n",
    "    Output: Dictionary of list of daily weather jsons\n",
    "    \"\"\"\n",
    "    \n",
    "    yr_weath = {}\n",
    "    for date in fire_dates:\n",
    "        # Call function to get weather for specified date\n",
    "        data_for_date = getweather(pairs,date,key)\n",
    "        yr_weath.update({date:data_for_date})\n",
    "        \n",
    "    return yr_weath"
   ]
  },
  {
   "cell_type": "code",
   "execution_count": 89,
   "metadata": {
    "jupyter": {
     "source_hidden": true
    }
   },
   "outputs": [],
   "source": [
    "def getweather(coordinates,date,key):\n",
    "    \"\"\" Function to take the set of coordinates and get the daily\n",
    "    weather for a given date. rain, hi and low temps, humidity\n",
    "    wind speed and direction and cloud cover only.\n",
    "    \n",
    "    Input: Date, API Key and list of coordinate pairs (lat,long)\n",
    "    Output: list of jsons\n",
    "    \"\"\"\n",
    "    # items to exclude from call\n",
    "    blocks = '[currently,minutely,hourly,alerts]'\n",
    "\n",
    "    # Units for call (km/h, deg C, kPa, mm precip)\n",
    "    units = 'ca'\n",
    "    \n",
    "    # Compression for call\n",
    "    headers = {'Accept-Encoding':'gzip'}\n",
    "    \n",
    "    data_out = []\n",
    "    for pair in coordinates:\n",
    "        lat = str(pair[0])\n",
    "        long = str(pair[1])\n",
    "        # set the query string for darksky\n",
    "        query = ('https://api.darksky.net/forecast/'+key+'/'+ \n",
    "            lat+','+long+','+date+'?exclude=' \n",
    "            +blocks+'&units='+units)\n",
    "        # Make the call to Dark Sky to get all the data for that date and location\n",
    "        try:\n",
    "            r=requests.get(query,headers=headers)\n",
    "        except requests.exceptions.RequestException as e:\n",
    "            print(e)\n",
    "            sys.exit(1)\n",
    "        \n",
    "        # get the weather data from the request return\n",
    "        weather=r.json()\n",
    "        \n",
    "        # write the jsons as items in the output data list\n",
    "        data_out.append(weather)\n",
    "    \n",
    "    return data_out"
   ]
  },
  {
   "cell_type": "code",
   "execution_count": 90,
   "metadata": {},
   "outputs": [
    {
     "name": "stdout",
     "output_type": "stream",
     "text": [
      "Wall time: 52min 34s\n"
     ]
    }
   ],
   "source": [
    "%%time\n",
    "\n",
    "# Cell to run the weather requests\n",
    "\n",
    "# Polygon of bounding box in lat/long \n",
    "bb_long = [-122, -119.912,-119.912,-122,-122 ]\n",
    "bb_lat = [36.8, 36.8, 35.06, 35.06,36.8]\n",
    "\n",
    "# Create grid of lat/long pairs for retrieving weather data\n",
    "min_long = min(bb_long)\n",
    "max_long = max(bb_long)\n",
    "min_lat = min(bb_lat)\n",
    "max_lat = max(bb_lat)\n",
    "\n",
    "# 10 x 10 grid\n",
    "spaces = 10\n",
    "longs = np.linspace(min_long,max_long,spaces)\n",
    "lats = np.linspace(min_lat,max_lat,spaces)\n",
    "pairs = [(lat,long) for lat in lats for long in longs]\n",
    "\n",
    "# Dark Sky API key (Laura Chutny)\n",
    "key = '5ffac5f056d341c6296cba58fa96e9ba'\n",
    "\n",
    "path = '../toydata/'\n",
    "filename = 'Global_fire_atlas_firelinecrop.tif'\n",
    "fire_dates = get_fire_dates('2016',path,filename)\n",
    "# trial\n",
    "# sdates = fire_dates[0:2]\n",
    "\n",
    "yr_weather = fire_weather(pairs,fire_dates,key)  # Dictionary of jsons"
   ]
  },
  {
   "cell_type": "code",
   "execution_count": 93,
   "metadata": {},
   "outputs": [
    {
     "name": "stdout",
     "output_type": "stream",
     "text": [
      "dict_keys(['2016-04-09T12:00:00', '2016-04-14T12:00:00', '2016-05-19T12:00:00', '2016-05-21T12:00:00', '2016-05-22T12:00:00', '2016-05-23T12:00:00', '2016-05-24T12:00:00', '2016-05-25T12:00:00', '2016-05-26T12:00:00', '2016-05-27T12:00:00', '2016-06-02T12:00:00', '2016-06-03T12:00:00', '2016-06-04T12:00:00', '2016-06-05T12:00:00', '2016-06-07T12:00:00', '2016-06-08T12:00:00', '2016-06-09T12:00:00', '2016-06-11T12:00:00', '2016-06-18T12:00:00', '2016-07-02T12:00:00', '2016-07-04T12:00:00', '2016-07-05T12:00:00', '2016-07-21T12:00:00', '2016-07-22T12:00:00', '2016-07-23T12:00:00', '2016-07-24T12:00:00', '2016-07-25T12:00:00', '2016-07-26T12:00:00', '2016-07-27T12:00:00', '2016-07-28T12:00:00', '2016-07-29T12:00:00', '2016-07-30T12:00:00', '2016-07-31T12:00:00', '2016-08-01T12:00:00', '2016-08-02T12:00:00', '2016-08-03T12:00:00', '2016-08-04T12:00:00', '2016-08-05T12:00:00', '2016-08-06T12:00:00', '2016-08-07T12:00:00', '2016-08-08T12:00:00', '2016-08-09T12:00:00', '2016-08-10T12:00:00', '2016-08-11T12:00:00', '2016-08-12T12:00:00', '2016-08-13T12:00:00', '2016-08-14T12:00:00', '2016-08-15T12:00:00', '2016-08-16T12:00:00', '2016-08-17T12:00:00', '2016-08-18T12:00:00', '2016-08-19T12:00:00', '2016-08-20T12:00:00', '2016-08-21T12:00:00', '2016-08-22T12:00:00', '2016-08-23T12:00:00', '2016-08-24T12:00:00', '2016-08-25T12:00:00', '2016-08-26T12:00:00', '2016-08-27T12:00:00', '2016-08-28T12:00:00', '2016-08-29T12:00:00', '2016-08-30T12:00:00', '2016-08-31T12:00:00', '2016-09-01T12:00:00', '2016-09-02T12:00:00', '2016-09-03T12:00:00', '2016-09-04T12:00:00', '2016-09-05T12:00:00', '2016-09-06T12:00:00', '2016-09-07T12:00:00', '2016-09-08T12:00:00', '2016-09-09T12:00:00', '2016-09-10T12:00:00', '2016-09-11T12:00:00', '2016-09-12T12:00:00', '2016-09-13T12:00:00', '2016-09-15T12:00:00', '2016-09-16T12:00:00', '2016-09-17T12:00:00', '2016-09-18T12:00:00', '2016-09-19T12:00:00', '2016-09-20T12:00:00', '2016-09-21T12:00:00', '2016-09-22T12:00:00', '2016-09-23T12:00:00', '2016-09-24T12:00:00', '2016-09-25T12:00:00', '2016-09-26T12:00:00', '2016-09-27T12:00:00', '2016-09-29T12:00:00', '2016-10-23T12:00:00', '2016-10-25T12:00:00', '2016-10-26T12:00:00', '2016-10-27T12:00:00', '2016-10-30T12:00:00'])\n"
     ]
    }
   ],
   "source": [
    "print(yr_weather.keys())"
   ]
  },
  {
   "cell_type": "code",
   "execution_count": 92,
   "metadata": {},
   "outputs": [],
   "source": [
    "# Pickle out the jsons to avoid another call:\n",
    "with open('../data/GlobalFire2016/weatherjsons.pickle','wb') as f:\n",
    "    pickle.dump(yr_weather,f,pickle.HIGHEST_PROTOCOL)"
   ]
  },
  {
   "cell_type": "markdown",
   "metadata": {},
   "source": [
    "### Change jsons to dataframes and then rasters and reproject before pickling out"
   ]
  },
  {
   "cell_type": "code",
   "execution_count": 94,
   "metadata": {
    "Collapsed": "false",
    "hidden": true,
    "jupyter": {
     "source_hidden": true
    }
   },
   "outputs": [],
   "source": [
    "def check_point(info,rain=False):\n",
    "    \"\"\" to check if there is a value for that weather element and provide \n",
    "    either None or the value back\n",
    "    \"\"\"\n",
    "    if info:\n",
    "        return info\n",
    "    elif (not info and rain):\n",
    "        return 0.0        \n",
    "    else:\n",
    "        return None"
   ]
  },
  {
   "cell_type": "code",
   "execution_count": 213,
   "metadata": {
    "Collapsed": "false",
    "hidden": true
   },
   "outputs": [],
   "source": [
    "def date_df(data_out):\n",
    "    \"\"\" Function to take the list of jsons for each lat/long from one date\n",
    "    of daily weather request and create a pandas dataframe\n",
    "    \n",
    "    Input: list of jsons containing the weather data for one day\n",
    "    Output: pandas dataframe\n",
    "    \"\"\"\n",
    "    data_convert=[]\n",
    "    # Titles for the data\n",
    "    coltitles = ['date','latitude','longitude','rainint','raintot','High T','Low T','Humidity','Wind Speed','Wind Direction','Cloud Cover']\n",
    "    data_convert.append(coltitles)\n",
    "    # Loope through all the geopoints to get the data\n",
    "    for point in data_out:\n",
    "        lat = point['latitude']\n",
    "        long = point['longitude']\n",
    "        daily = point.get('daily')\n",
    "        if daily:\n",
    "            data = daily['data'][0]\n",
    "            date = datetime.fromtimestamp(data['time']).strftime('%Y-%m-%d')\n",
    "            rainint = data.get('precipIntensityMax')\n",
    "            raintot = data.get('precipAccumulation')\n",
    "            hitemp = data.get('temperatureHigh')\n",
    "            lotemp = data.get('temperatureLow')\n",
    "            humidity = data.get('humidity')\n",
    "            windspd = data.get('windSpeed')\n",
    "            winddir = data.get('windBearing')\n",
    "            clouds = data.get('cloudCover')\n",
    "            point = [date,lat,long,check_point(rainint,1),check_point(raintot,1), \\\n",
    "                     check_point(hitemp,0),check_point(lotemp,0), \\\n",
    "                     check_point(humidity,0),check_point(windspd,0), \\\n",
    "                     check_point(winddir,0), check_point(clouds,0)] \n",
    "            data_convert.append(point)\n",
    "            \n",
    "        else:\n",
    "            point = None\n",
    "            \n",
    "    df = pd.DataFrame(data_convert[1:], columns = data_convert[0])\n",
    "    \n",
    "    return df"
   ]
  },
  {
   "cell_type": "code",
   "execution_count": 214,
   "metadata": {},
   "outputs": [
    {
     "data": {
      "text/plain": [
       "100"
      ]
     },
     "execution_count": 214,
     "metadata": {},
     "output_type": "execute_result"
    }
   ],
   "source": [
    "# For Testing\n",
    "dd = yr_weather['2016-07-21T12:00:00']\n",
    "len(dd)"
   ]
  },
  {
   "cell_type": "code",
   "execution_count": 217,
   "metadata": {},
   "outputs": [],
   "source": [
    "def jsons_to_arrays(date_jsons,pairs):\n",
    "    \"\"\" Take list of jsons for weather for area being studied\n",
    "    for 1 day and turn them into a dictionary of numpy arrays\n",
    "    \n",
    "    Input: list of jsons - 1 per lat/long point and pairs of lat/long\n",
    "    Output: dictionary of numpy arrays - 1 for each weather type for given date\n",
    "    \"\"\"\n",
    "    \n",
    "    # Input jsons to pandas dataframe:\n",
    "    df = date_df(date_jsons)\n",
    "          \n",
    "    # Add Missing Rows to dataframe:\n",
    "    # First get a paired list to determine if any rows are missing\n",
    "    df['xx'] = list(zip(df['latitude'],df['longitude']))\n",
    "    missing = pd.DataFrame({'xx':list(set(df['xx']) ^ set(pairs))})\n",
    "    if not missing.empty:\n",
    "        missing[['latitude','longitude']]=pd.DataFrame(missing['xx'].tolist(),index=missing.index)\n",
    "        df = df.append(missing, ignore_index=True, sort=True)\n",
    "    \n",
    "    # Sort DataFrame to allow creation of rows in array.\n",
    "    weather = ['rainint','raintot','High T','Low T','Humidity','Wind Speed','Wind Direction','Cloud Cover']\n",
    "    weath_sort = df.to_records(index=False)\n",
    "    weath_sort.sort(order=('latitude','longitude'))\n",
    "\n",
    "    # Create Dictionary of Numpy Arrays\n",
    "    weather_date = {}\n",
    "    for var in weather:\n",
    "        x = weath_sort[var].reshape(10,10)\n",
    "        xx = np.flip(x,0)\n",
    "        weather_date.update({var:xx})\n",
    "        \n",
    "    return weather_date"
   ]
  },
  {
   "cell_type": "code",
   "execution_count": 235,
   "metadata": {},
   "outputs": [],
   "source": [
    "def reproject_arrs(arrays,path,filename,src_meta):\n",
    "    \"\"\"Reproject the lat/long weather arrays to\n",
    "    raster arrays with new CRS\n",
    "    \n",
    "    Input: Dictionary of numpy arrays holding 8 weather variables\n",
    "    for one date in 10x10 grid based on lat/long, path and filename to raster\n",
    "    and Source meta data\n",
    "    Output: Dictionary of numpy arrays holding 8 weather variables\n",
    "    for one date in grid to match firedata raster.\n",
    "    \"\"\"    \n",
    "    # Get reference meta data from raster\n",
    "    file = path+filename\n",
    "    with rio.open(file,'r') as ref:\n",
    "        refdata = ref.read(1)  # data in raster\n",
    "        refmeta = ref.meta # meta data in raster\n",
    "        refres = ref.res # resolution in raster\n",
    "    \n",
    "    # Set destination transform and coordinate reference system\n",
    "    dst_transform = refmeta['transform']\n",
    "    dst_crs = refmeta['crs']\n",
    "\n",
    "    # Get source transform and CRS\n",
    "    src_transform = src_meta['transform']\n",
    "    src_crs = src_meta['crs']\n",
    "    \n",
    "    refmeta['dtype'] = 'float64'\n",
    "    \n",
    "    dst_shape = refdata.shape\n",
    "    destination = np.full(dst_shape, -9999.0)\n",
    "    \n",
    "    reproj_arrs = {}\n",
    "    for w,a in arrays.items():\n",
    "        reproject(\n",
    "            a,\n",
    "            destination,\n",
    "            src_transform=src_transform,\n",
    "            src_crs=src_crs,\n",
    "            dst_transform=dst_transform,\n",
    "            dst_crs=dst_crs,\n",
    "            resampling=Resampling.bilinear)\n",
    "        print(w,destination)\n",
    "        reproj_arrs.update({w:destination})\n",
    "    \n",
    "    return reproj_arrs"
   ]
  },
  {
   "cell_type": "code",
   "execution_count": 184,
   "metadata": {},
   "outputs": [],
   "source": [
    "def new_meta(lats,longs):\n",
    "    \"\"\" Calculate transform and meta data for 10x10 \n",
    "    raster of lat/long data\n",
    "    \"\"\"\n",
    "    \n",
    "    # from https://rasterio.readthedocs.io/en/latest/quickstart.html#creating-data\n",
    "    # See my imported sketches with the correct transforms\n",
    "    \n",
    "    #  Resolution\n",
    "    xres = (longs[-1] - longs[0]) / 9\n",
    "    yres = (lats[0] - lats[-1]) /9\n",
    "    \n",
    "    # affine transform - assumes each lat/long point is in the center of the pixel it represents\n",
    "    src_transform = Affine.translation(longs[0] - xres / 2, lats[-1] - yres / 2) * Affine.scale(xres, yres)\n",
    "    \n",
    "    meta = {'driver':'GTiff','height':10, \\\n",
    "                'width':10,'count':1, \\\n",
    "                'dtype':'float64', 'crs':'+proj=latlong', \\\n",
    "                'transform':src_transform, 'nodata':-9999, \\\n",
    "                'compress':'lzw','interleave':'band'}\n",
    "    \n",
    "    return meta"
   ]
  },
  {
   "cell_type": "code",
   "execution_count": 236,
   "metadata": {},
   "outputs": [
    {
     "name": "stdout",
     "output_type": "stream",
     "text": [
      "rainint [[0.00000000e+00 0.00000000e+00 0.00000000e+00 ... 7.77022524e-03\n",
      "  7.67241669e-03 7.57460814e-03]\n",
      " [0.00000000e+00 0.00000000e+00 0.00000000e+00 ... 7.62138518e-03\n",
      "  7.52545017e-03 7.42951516e-03]\n",
      " [0.00000000e+00 0.00000000e+00 0.00000000e+00 ... 7.47253800e-03\n",
      "  7.37847661e-03 7.28441523e-03]\n",
      " ...\n",
      " [           nan            nan            nan ... 2.97725566e-04\n",
      "  1.77148915e-04 5.65722646e-05]\n",
      " [           nan            nan            nan ... 3.03683601e-04\n",
      "  1.80693990e-04 5.77043794e-05]\n",
      " [           nan            nan            nan ... 3.07179931e-04\n",
      "  1.82774333e-04 5.83687339e-05]]\n",
      "raintot [[ 0.  0.  0. ...  0.  0.  0.]\n",
      " [ 0.  0.  0. ...  0.  0.  0.]\n",
      " [ 0.  0.  0. ...  0.  0.  0.]\n",
      " ...\n",
      " [nan nan nan ...  0.  0.  0.]\n",
      " [nan nan nan ...  0.  0.  0.]\n",
      " [nan nan nan ...  0.  0.  0.]]\n",
      "High T [[25.90136195 25.93063784 25.95991373 ... 36.50737835 36.5135536\n",
      "  36.51972886]\n",
      " [25.80532782 25.83390675 25.86248568 ... 36.51242318 36.5187071\n",
      "  36.52499102]\n",
      " [25.70928909 25.73717103 25.76505298 ... 36.51746825 36.52386084\n",
      "  36.53025343]\n",
      " ...\n",
      " [        nan         nan         nan ... 34.19521733 34.22918203\n",
      "  34.26314673]\n",
      " [        nan         nan         nan ... 34.18319186 34.21715656\n",
      "  34.25112127]\n",
      " [        nan         nan         nan ... 34.176135   34.21009971\n",
      "  34.24406441]]\n",
      "Low T [[11.58395744 11.55247904 11.52100065 ... 17.11708164 17.12723706\n",
      "  17.13739248]\n",
      " [11.57055518 11.53931286 11.50807054 ... 17.1220104  17.13193724\n",
      "  17.14186409]\n",
      " [11.55715229 11.52614605 11.4951398  ... 17.12693939 17.13663765\n",
      "  17.14633592]\n",
      " ...\n",
      " [        nan         nan         nan ... 19.7600823  19.89556396\n",
      "  20.03104562]\n",
      " [        nan         nan         nan ... 19.76734976 19.90381575\n",
      "  20.04028174]\n",
      " [        nan         nan         nan ... 19.77161449 19.90865812\n",
      "  20.04570174]]\n",
      "Humidity [[0.71049289 0.71088783 0.71128277 ... 0.34941862 0.34961609 0.34981356]\n",
      " [0.71125191 0.71164685 0.71204179 ... 0.34922887 0.34942634 0.3496238 ]\n",
      " [0.71201097 0.71240591 0.71280085 ... 0.3490391  0.34923657 0.34943404]\n",
      " ...\n",
      " [       nan        nan        nan ... 0.31566305 0.31312026 0.31057747]\n",
      " [       nan        nan        nan ... 0.31608879 0.31353068 0.31097258]\n",
      " [       nan        nan        nan ... 0.31633863 0.31377153 0.31120443]]\n",
      "Wind Speed [[11.36475197 11.29476549 11.22477902 ...  7.49730765  7.48985683\n",
      "   7.48240601]\n",
      " [11.3158423  11.24728721 11.17873212 ...  7.51605607  7.50831297\n",
      "   7.50056988]\n",
      " [11.26693028 11.19980665 11.13268301 ...  7.53480539  7.52677\n",
      "   7.51873462]\n",
      " ...\n",
      " [        nan         nan         nan ...  9.47625555  9.48425144\n",
      "   9.49224734]\n",
      " [        nan         nan         nan ...  9.47831361  9.48649719\n",
      "   9.49468076]\n",
      " [        nan         nan         nan ...  9.47952134  9.48781504\n",
      "   9.49610875]]\n",
      "Wind Direction [[297.78883588 294.79552376 291.80221163 ... 306.21653714 306.1364382\n",
      "  306.05633926]\n",
      " [297.16053434 294.22380313 291.28707193 ... 306.26003951 306.17769232\n",
      "  306.09534513]\n",
      " [296.53220271 293.65205513 290.77190755 ... 306.30354396 306.21894842\n",
      "  306.13435287]\n",
      " ...\n",
      " [         nan          nan          nan ...  73.03309847  69.00081532\n",
      "   64.96853217]\n",
      " [         nan          nan          nan ...  73.82397987  69.70705162\n",
      "   65.59012337]\n",
      " [         nan          nan          nan ...  74.28808976  70.12148955\n",
      "   65.95488934]]\n",
      "Cloud Cover [[0.26038782 0.25980097 0.25921411 ... 0.02019216 0.0201903  0.02018845]\n",
      " [0.2615297  0.26095409 0.26037848 ... 0.02058092 0.02057532 0.02056972]\n",
      " [0.26267164 0.26210727 0.2615429  ... 0.0209697  0.02096035 0.02095101]\n",
      " ...\n",
      " [       nan        nan        nan ...        nan        nan        nan]\n",
      " [       nan        nan        nan ...        nan        nan        nan]\n",
      " [       nan        nan        nan ...        nan        nan        nan]]\n"
     ]
    }
   ],
   "source": [
    "zz = jsons_to_arrays(dd,pairs)\n",
    "reproj_arrays = reproject_arrs(zz,path,filename,new_meta(lats,longs))"
   ]
  },
  {
   "cell_type": "code",
   "execution_count": 232,
   "metadata": {},
   "outputs": [
    {
     "data": {
      "text/plain": [
       "array([[0.26038782, 0.25980097, 0.25921411, ..., 0.02019216, 0.0201903 ,\n",
       "        0.02018845],\n",
       "       [0.2615297 , 0.26095409, 0.26037848, ..., 0.02058092, 0.02057532,\n",
       "        0.02056972],\n",
       "       [0.26267164, 0.26210727, 0.2615429 , ..., 0.0209697 , 0.02096035,\n",
       "        0.02095101],\n",
       "       ...,\n",
       "       [       nan,        nan,        nan, ...,        nan,        nan,\n",
       "               nan],\n",
       "       [       nan,        nan,        nan, ...,        nan,        nan,\n",
       "               nan],\n",
       "       [       nan,        nan,        nan, ...,        nan,        nan,\n",
       "               nan]])"
      ]
     },
     "execution_count": 232,
     "metadata": {},
     "output_type": "execute_result"
    }
   ],
   "source": [
    "y1 = reproj_arrays['High T']\n",
    "y1"
   ]
  },
  {
   "cell_type": "markdown",
   "metadata": {
    "Collapsed": "false"
   },
   "source": [
    "## Determine which days of the year we need data for"
   ]
  },
  {
   "cell_type": "code",
   "execution_count": 43,
   "metadata": {},
   "outputs": [],
   "source": [
    "# Use the firedata raster as the reference meta data and transform\n",
    "with rio.open('../toydata/Global_fire_atlas_firelinecrop.tif','r') as rast:\n",
    "    rastdata = rast.read(1)\n",
    "    rastmeta = rast.meta"
   ]
  },
  {
   "cell_type": "code",
   "execution_count": 44,
   "metadata": {},
   "outputs": [
    {
     "data": {
      "text/plain": [
       "(470, 456)"
      ]
     },
     "execution_count": 44,
     "metadata": {},
     "output_type": "execute_result"
    }
   ],
   "source": [
    "rastdata.shape"
   ]
  },
  {
   "cell_type": "code",
   "execution_count": 45,
   "metadata": {},
   "outputs": [
    {
     "data": {
      "text/plain": [
       "array([-9999,   100,   105,   140,   142,   143,   144,   145,   146,\n",
       "         147,   148,   154,   155,   156,   157,   159,   160,   161,\n",
       "         163,   170,   184,   186,   187,   203,   204,   205,   206,\n",
       "         207,   208,   209,   210,   211,   212,   213,   214,   215,\n",
       "         216,   217,   218,   219,   220,   221,   222,   223,   224,\n",
       "         225,   226,   227,   228,   229,   230,   231,   232,   233,\n",
       "         234,   235,   236,   237,   238,   239,   240,   241,   242,\n",
       "         243,   244,   245,   246,   247,   248,   249,   250,   251,\n",
       "         252,   253,   254,   255,   256,   257,   259,   260,   261,\n",
       "         262,   263,   264,   265,   266,   267,   268,   269,   270,\n",
       "         271,   273,   297,   299,   300,   301,   304])"
      ]
     },
     "execution_count": 45,
     "metadata": {},
     "output_type": "execute_result"
    }
   ],
   "source": [
    "uniq = np.unique(rastdata, return_counts=True)\n",
    "days = uniq[0]\n",
    "counts = uniq[1]\n",
    "# days = days[days > 0]  # remove the -9999 no data values\n",
    "days"
   ]
  },
  {
   "cell_type": "code",
   "execution_count": 11,
   "metadata": {},
   "outputs": [
    {
     "name": "stdout",
     "output_type": "stream",
     "text": [
      "96\n"
     ]
    }
   ],
   "source": [
    "print(len(days))"
   ]
  },
  {
   "cell_type": "code",
   "execution_count": 12,
   "metadata": {},
   "outputs": [
    {
     "name": "stdout",
     "output_type": "stream",
     "text": [
      "Cost to obtain data for all 2016 for cropped area is: $0.86 for 9600 total calls.\n"
     ]
    }
   ],
   "source": [
    "# Cost for 2016:\n",
    "nopoints = 10*10 # weather data on 10x10 grid\n",
    "nodays = len(days) # number of unique days \n",
    "total_calls = nopoints * nodays\n",
    "percall = 0.0001 # $0.0001 USD/call\n",
    "free = 1000 # number free calls per day\n",
    "cost = (total_calls - free)*percall\n",
    "print(f\"Cost to obtain data for all 2016 for cropped area is: ${cost} for {total_calls} total calls.\")"
   ]
  },
  {
   "cell_type": "code",
   "execution_count": 13,
   "metadata": {},
   "outputs": [
    {
     "data": {
      "text/plain": [
       "datetime.datetime(2016, 4, 9, 0, 0)"
      ]
     },
     "execution_count": 13,
     "metadata": {},
     "output_type": "execute_result"
    }
   ],
   "source": [
    "# Find date for given day of year\n",
    "datetime.strptime('2016-100','%Y-%j')"
   ]
  },
  {
   "cell_type": "code",
   "execution_count": 14,
   "metadata": {},
   "outputs": [
    {
     "data": {
      "text/plain": [
       "96"
      ]
     },
     "execution_count": 14,
     "metadata": {},
     "output_type": "execute_result"
    }
   ],
   "source": [
    "# Create list of dates for DOY on fireline\n",
    "# dates = ['2016-12-16']\n",
    "# time = date+'T12:00:00'\n",
    "fire_dates = []\n",
    "yr = '2016'\n",
    "for day in days:\n",
    "    s = yr + '-'+ str(day)\n",
    "    d = datetime.strptime(s,'%Y-%j')\n",
    "    s2 = str(d.strftime(\"%Y-%m-%d\")) + 'T12:00:00'\n",
    "    fire_dates.append(s2)\n",
    "len(fire_dates)"
   ]
  },
  {
   "cell_type": "markdown",
   "metadata": {},
   "source": [
    "Check if dates above cover the dates for the ignitions as well"
   ]
  },
  {
   "cell_type": "code",
   "execution_count": 15,
   "metadata": {},
   "outputs": [],
   "source": [
    "with open('../toydata/Global_fire_atlas_datacrop.pickle','rb') as f:\n",
    "    firedbf = pickle.load(f)"
   ]
  },
  {
   "cell_type": "code",
   "execution_count": 16,
   "metadata": {},
   "outputs": [],
   "source": [
    "ign_dates = firedbf['start_date']"
   ]
  },
  {
   "cell_type": "code",
   "execution_count": 17,
   "metadata": {},
   "outputs": [],
   "source": [
    "ign_dates2 = []\n",
    "for day in ign_dates:\n",
    "    s3 = day + 'T12:00:00'\n",
    "    ign_dates2.append(s3)"
   ]
  },
  {
   "cell_type": "code",
   "execution_count": 18,
   "metadata": {},
   "outputs": [
    {
     "data": {
      "text/plain": [
       "True"
      ]
     },
     "execution_count": 18,
     "metadata": {},
     "output_type": "execute_result"
    }
   ],
   "source": [
    "# Check if ignition dates amongst the fireline dates\n",
    "missed = set(ign_dates2).issubset(set(fire_dates))\n",
    "missed"
   ]
  },
  {
   "cell_type": "markdown",
   "metadata": {},
   "source": [
    "The ignition days are also within the fireline days, so just pickle out the arrays for each day."
   ]
  },
  {
   "cell_type": "markdown",
   "metadata": {},
   "source": [
    "## Sa"
   ]
  }
 ],
 "metadata": {
  "kernelspec": {
   "display_name": "Python 3",
   "language": "python",
   "name": "python3"
  },
  "language_info": {
   "codemirror_mode": {
    "name": "ipython",
    "version": 3
   },
   "file_extension": ".py",
   "mimetype": "text/x-python",
   "name": "python",
   "nbconvert_exporter": "python",
   "pygments_lexer": "ipython3",
   "version": "3.7.6"
  },
  "toc": {
   "base_numbering": 1,
   "nav_menu": {},
   "number_sections": true,
   "sideBar": true,
   "skip_h1_title": false,
   "title_cell": "Table of Contents",
   "title_sidebar": "Contents",
   "toc_cell": false,
   "toc_position": {},
   "toc_section_display": true,
   "toc_window_display": true
  },
  "toc-autonumbering": true,
  "toc-showmarkdowntxt": false,
  "toc-showtags": false
 },
 "nbformat": 4,
 "nbformat_minor": 4
}
