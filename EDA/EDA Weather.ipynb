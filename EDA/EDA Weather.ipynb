{
 "cells": [
  {
   "cell_type": "code",
   "execution_count": 1,
   "metadata": {},
   "outputs": [],
   "source": [
    "import numpy as np\n",
    "import itertools\n",
    "import requests\n",
    "import datetime\n",
    "import time\n",
    "import json"
   ]
  },
  {
   "cell_type": "markdown",
   "metadata": {},
   "source": [
    "# Requests \n",
    "\n",
    "From GEO EDA sheet:"
   ]
  },
  {
   "cell_type": "markdown",
   "metadata": {
    "heading_collapsed": true
   },
   "source": [
    "## DarkSky Sample"
   ]
  },
  {
   "cell_type": "markdown",
   "metadata": {
    "hidden": true
   },
   "source": [
    "1) cheapest seems to be DarkSky. 1000 per day for free 2) $0.0001 per request after that 3) Request: \" https://api.darksky.net/forecast/[key]/40.036944,-121.005833,2005-02-02T17:30:00\" (my api key removed)\n",
    "\n",
    "Output is like this: {\"latitude\":40.036944,\"longitude\":-121.005833,\"timezone\":\"America/Los_Angeles\",\"currently\":{\"time\":1107394200,\"precipIntensity\":0,\"precipProbability\":0,\"temperature\":50.24,\"apparentTemperature\":50.41,\"dewPoint\":13.85,\"humidity\":0.23,\"windSpeed\":2.62,\"windGust\":13.17,\"windBearing\":24,\"uvIndex\":0},\"hourly\":{\"data\":[{\"time\":1107331200,\"precipIntensity\":0,\"precipProbability\":0,\"temperature\":39.73,\"apparentTemperature\":39.73,\"dewPoint\":12.45,\"humidity\":0.32,\"windSpeed\":1.23,\"windGust\":6.42,\"windBearing\":140,\"uvIndex\":0},{\"time\":1107334800,\"precipIntensity\":0,\"precipProbability\":0,\"temperature\":39.57,\"apparentTemperature\":39.57,\"dewPoint\":11.95,\"humidity\":0.32,\"windSpeed\":2.21,\"windGust\":5.8,\"windBearing\":72,\"uvIndex\":0},{\"time\":1107338400,\"precipIntensity\":0,\"precipProbability\":0,\"temperature\":38.69,\"apparentTemperature\":34.34,\"dewPoint\":13.27,\"humidity\":0.35,\"windSpeed\":5.79,\"windGust\":14.19,\"windBearing\":82,\"uvIndex\":0},{\"time\":1107342000,\"precipIntensity\":0,\"precipProbability\":0,\"temperature\":37.04,\"apparentTemperature\":37.04,\"dewPoint\":12.65,\"humidity\":0.36,\"windSpeed\":2.35,\"windGust\":9.56,\"windBearing\":98,\"uvIndex\":0},{\"time\":1107345600,\"precipIntensity\":0,\"precipProbability\":0,\"temperature\":36.26,\"apparentTemperature\":36.26,\"dewPoint\":12.71,\"humidity\":0.37,\"windSpeed\":1.16,\"windGust\":7.66,\"windBearing\":58,\"uvIndex\":0},{\"time\":1107349200,\"precipIntensity\":0,\"precipProbability\":0,\"temperature\":36.51,\"apparentTemperature\":36.51,\"dewPoint\":13.58,\"humidity\":0.39,\"windSpeed\":2.18,\"windGust\":6.93,\"windBearing\":71,\"uvIndex\":0},{\"time\":1107352800,\"precipIntensity\":0,\"precipProbability\":0,\"temperature\":36.4,\"apparentTemperature\":36.4,\"dewPoint\":12.17,\"humidity\":0.36,\"windSpeed\":2.48,\"windGust\":5.45,\"windBearing\":16,\"uvIndex\":0},{\"time\":1107356400,\"precipIntensity\":0,\"precipProbability\":0,\"temperature\":36.36,\"apparentTemperature\":36.36,\"dewPoint\":13.45,\"humidity\":0.39,\"windSpeed\":1.74,\"windGust\":5.3,\"windBearing\":61,\"uvIndex\":0},{\"time\":1107360000,\"precipIntensity\":0,\"precipProbability\":0,\"temperature\":35.85,\"apparentTemperature\":35.85,\"dewPoint\":14.88,\"humidity\":0.42,\"windSpeed\":2.52,\"windGust\":6.53,\"windBearing\":87},{\"time\":1107363600,\"precipIntensity\":0,\"precipProbability\":0,\"temperature\":42.06,\"apparentTemperature\":40.19,\"dewPoint\":13.16,\"humidity\":0.3,\"windSpeed\":3.48,\"windGust\":8.05,\"windBearing\":91},{\"time\":1107367200,\"precipIntensity\":0,\"precipProbability\":0,\"temperature\":46.17,\"apparentTemperature\":46.17,\"dewPoint\":16.52,\"humidity\":0.3,\"windSpeed\":2.71,\"windGust\":7.32,\"windBearing\":126},{\"time\":1107370800,\"precipIntensity\":0,\"precipProbability\":0,\"temperature\":47.55,\"apparentTemperature\":47.55,\"dewPoint\":21.59,\"humidity\":0.36,\"windSpeed\":2.72,\"windGust\":10.31,\"windBearing\":150},{\"time\":1107374400,\"precipIntensity\":0,\"precipProbability\":0,\"temperature\":52.04,\"apparentTemperature\":52.04,\"dewPoint\":20.52,\"humidity\":0.29,\"windSpeed\":4.29,\"windGust\":8.13,\"windBearing\":87},{\"time\":1107378000,\"precipIntensity\":0,\"precipProbability\":0,\"temperature\":55.54,\"apparentTemperature\":55.54,\"dewPoint\":19.53,\"humidity\":0.24,\"windSpeed\":4.84,\"windGust\":11.03,\"windBearing\":149},{\"time\":1107381600,\"precipIntensity\":0,\"precipProbability\":0,\"temperature\":56.34,\"apparentTemperature\":56.34,\"dewPoint\":17.37,\"humidity\":0.21,\"windSpeed\":5.54,\"windGust\":11.23,\"windBearing\":188},{\"time\":1107385200,\"precipIntensity\":0,\"precipProbability\":0,\"temperature\":57.34,\"apparentTemperature\":57.34,\"dewPoint\":15.65,\"humidity\":0.19,\"windSpeed\":6.36,\"windGust\":12.71,\"windBearing\":107},{\"time\":1107388800,\"precipIntensity\":0,\"precipProbability\":0,\"temperature\":53.57,\"apparentTemperature\":53.57,\"dewPoint\":15.64,\"humidity\":0.22,\"windSpeed\":6.13,\"windGust\":14.53,\"windBearing\":36},{\"time\":1107392400,\"precipIntensity\":0,\"precipProbability\":0,\"temperature\":52.58,\"apparentTemperature\":52.58,\"dewPoint\":14.07,\"humidity\":0.21,\"windSpeed\":3.32,\"windGust\":14.57,\"windBearing\":35},{\"time\":1107396000,\"precipIntensity\":0,\"precipProbability\":0,\"temperature\":47.79,\"apparentTemperature\":47.79,\"dewPoint\":13.74,\"humidity\":0.25,\"windSpeed\":2.6,\"windGust\":11.96,\"windBearing\":13,\"uvIndex\":0},{\"time\":1107399600,\"precipIntensity\":0,\"precipProbability\":0,\"temperature\":45.91,\"apparentTemperature\":43.25,\"dewPoint\":12.96,\"humidity\":0.26,\"windSpeed\":5.25,\"windGust\":13.55,\"windBearing\":80,\"uvIndex\":0},{\"time\":1107403200,\"precipIntensity\":0,\"precipProbability\":0,\"temperature\":43.25,\"apparentTemperature\":41.58,\"dewPoint\":14.25,\"humidity\":0.31,\"windSpeed\":3.45,\"windGust\":8.79,\"windBearing\":55,\"uvIndex\":0},{\"time\":1107406800,\"precipIntensity\":0,\"precipProbability\":0,\"temperature\":43.79,\"apparentTemperature\":43.79,\"dewPoint\":14.86,\"humidity\":0.31,\"windSpeed\":1.71,\"windGust\":6.29,\"windBearing\":158,\"uvIndex\":0},{\"time\":1107410400,\"precipIntensity\":0,\"precipProbability\":0,\"temperature\":42.36,\"apparentTemperature\":42.36,\"dewPoint\":14.51,\"humidity\":0.32,\"windSpeed\":2.37,\"windGust\":12.25,\"windBearing\":43,\"uvIndex\":0},{\"time\":1107414000,\"precipIntensity\":0,\"precipProbability\":0,\"temperature\":41.2,\"apparentTemperature\":41.2,\"dewPoint\":12.53,\"humidity\":0.31,\"windSpeed\":1.56,\"windGust\":12.79,\"windBearing\":100,\"uvIndex\":0}]},\"daily\":{\"data\":[{\"time\":1107331200,\"sunriseTime\":1107357120,\"sunsetTime\":1107393960,\"moonPhase\":0.78,\"precipIntensity\":0,\"precipIntensityMax\":0,\"precipProbability\":0,\"temperatureHigh\":57.95,\"temperatureHighTime\":1107384600,\"temperatureLow\":38.42,\"temperatureLowTime\":1107439200,\"apparentTemperatureHigh\":57.45,\"apparentTemperatureHighTime\":1107384600,\"apparentTemperatureLow\":38.91,\"apparentTemperatureLowTime\":1107439200,\"dewPoint\":14.85,\"humidity\":0.31,\"windSpeed\":3.33,\"windGust\":14.83,\"windGustTime\":1107390840,\"windBearing\":76,\"uvIndex\":0,\"uvIndexTime\":1107331200,\"temperatureMin\":35.03,\"temperatureMinTime\":1107359100,\"temperatureMax\":57.95,\"temperatureMaxTime\":1107384600,\"apparentTemperatureMin\":34.3,\"apparentTemperatureMinTime\":1107338640,\"apparentTemperatureMax\":57.45,\"apparentTemperatureMaxTime\":1107384600}]},\"flags\":{\"sources\":[\"cmc\",\"gfs\",\"hrrr\",\"icon\",\"isd\",\"madis\",\"nam\",\"sref\"],\"nearest-station\":3.312,\"units\":\"us\"},\"offset\":-8}"
   ]
  },
  {
   "cell_type": "markdown",
   "metadata": {},
   "source": [
    "## Dark Sky locality"
   ]
  },
  {
   "cell_type": "code",
   "execution_count": 2,
   "metadata": {},
   "outputs": [],
   "source": [
    "# From Geo Sheet - Toy Data Bounding Box\n",
    "# keep in mind each pixel is roughly 500 m x 500 m\n",
    "bb_long = [-122, -119.912,-119.912,-122,-122 ]\n",
    "bb_lat = [36.8, 36.8, 35.06, 35.06,36.8]"
   ]
  },
  {
   "cell_type": "markdown",
   "metadata": {},
   "source": [
    "Requests, to see how how 'hyperlocal' the darksky data really is."
   ]
  },
  {
   "cell_type": "code",
   "execution_count": 3,
   "metadata": {},
   "outputs": [],
   "source": [
    "# Create Pairs\n",
    "min_long = min(bb_long)\n",
    "max_long = max(bb_long)\n",
    "min_lat = min(bb_lat)\n",
    "max_lat = max(bb_lat)"
   ]
  },
  {
   "cell_type": "code",
   "execution_count": 4,
   "metadata": {},
   "outputs": [
    {
     "name": "stdout",
     "output_type": "stream",
     "text": [
      "[-122.    -121.768 -121.536 -121.304 -121.072 -120.84  -120.608 -120.376\n",
      " -120.144 -119.912] [35.06       35.25333333 35.44666667 35.64       35.83333333 36.02666667\n",
      " 36.22       36.41333333 36.60666667 36.8       ]\n",
      "distance between forecast pairings ~ 19.1 km, or 38.3 pixels\n"
     ]
    }
   ],
   "source": [
    "spaces = 10\n",
    "longs = np.linspace(min_long,max_long,spaces)\n",
    "lats = np.linspace(min_lat,max_lat,spaces)\n",
    "print(longs, lats)\n",
    "distance = (max_lat-min_lat)*110/spaces\n",
    "print(f\"distance between forecast pairings ~ {distance:.3} km, or {(distance/.5):.3} pixels\")"
   ]
  },
  {
   "cell_type": "code",
   "execution_count": 5,
   "metadata": {},
   "outputs": [
    {
     "name": "stdout",
     "output_type": "stream",
     "text": [
      "100\n",
      "(35.446666666666665, -120.84)\n"
     ]
    }
   ],
   "source": [
    "# Pairs\n",
    "pairs = [(lat,long) for lat in lats for long in longs]\n",
    "print(len(pairs))\n",
    "print(pairs[25])"
   ]
  },
  {
   "cell_type": "code",
   "execution_count": 6,
   "metadata": {},
   "outputs": [],
   "source": [
    "key = '5ffac5f056d341c6296cba58fa96e9ba'"
   ]
  },
  {
   "cell_type": "markdown",
   "metadata": {},
   "source": [
    "The Forecast Data API supports HTTP compression. We heartily recommend using it, as it will make responses much smaller over the wire. To enable it, simply add an `Accept-Encoding: gzip` header to your request."
   ]
  },
  {
   "cell_type": "code",
   "execution_count": 19,
   "metadata": {},
   "outputs": [
    {
     "name": "stdout",
     "output_type": "stream",
     "text": [
      "https://api.darksky.net/forecast/5ffac5f056d341c6296cba58fa96e9ba/35.446666666666665,-120.84,2016-07-21T12:00:00?exclude=[currently,minutely,hourly,alerts]&units=ca\n"
     ]
    }
   ],
   "source": [
    "# items to exclude from call\n",
    "blocks = '[currently,minutely,hourly,alerts]'\n",
    "# Units for call\n",
    "units = 'ca'\n",
    "# Time\n",
    "time = '2005-02-02T12:00:00' # for noon, but hour doesn't matter as we're grabbing daily data only.\n",
    "# Dates (relevant to our fires): only use one for testing\n",
    "dates = ['2016-07-21']\n",
    "\n",
    "# create time string:\n",
    "date = dates[0]\n",
    "time = date+'T12:00:00'\n",
    "lat = str(pairs[25][0])\n",
    "long = str(pairs[25][1])\n",
    "\n",
    "query = ('https://api.darksky.net/forecast/'+key+'/'+ \n",
    "        lat+','+long+','+time+'?exclude=' \n",
    "        +blocks+'&units='+units)\n",
    "print(query)\n",
    "          \n",
    "# Query string example\n",
    "#'https://api.darksky.net/forecast/[key]/[latitude],[longitude],[time]?blocks=blocks&units=ca&timezone=timezone'\n",
    "# Create request\n",
    "# for date in dates:\n",
    "#     for pair in pairs:\n",
    "#         lat = pair(0)\n",
    "#         long = pair(1)\n",
    "    "
   ]
  },
  {
   "cell_type": "code",
   "execution_count": 8,
   "metadata": {},
   "outputs": [],
   "source": [
    "r=requests.get(query)\n"
   ]
  },
  {
   "cell_type": "code",
   "execution_count": 9,
   "metadata": {},
   "outputs": [
    {
     "data": {
      "text/plain": [
       "200"
      ]
     },
     "execution_count": 9,
     "metadata": {},
     "output_type": "execute_result"
    }
   ],
   "source": [
    "r.status_code"
   ]
  },
  {
   "cell_type": "code",
   "execution_count": 12,
   "metadata": {},
   "outputs": [],
   "source": [
    "weather = r.json()"
   ]
  },
  {
   "cell_type": "code",
   "execution_count": 15,
   "metadata": {},
   "outputs": [
    {
     "data": {
      "text/plain": [
       "{'latitude': 35.446666666666665,\n",
       " 'longitude': -120.84,\n",
       " 'timezone': 'America/Los_Angeles',\n",
       " 'daily': {'data': [{'time': 1469084400,\n",
       "    'summary': 'Foggy in the morning.',\n",
       "    'icon': 'clear-day',\n",
       "    'sunriseTime': 1469106300,\n",
       "    'sunsetTime': 1469157360,\n",
       "    'moonPhase': 0.58,\n",
       "    'precipIntensity': 0,\n",
       "    'precipIntensityMax': 0,\n",
       "    'precipProbability': 0,\n",
       "    'temperatureHigh': 32.15,\n",
       "    'temperatureHighTime': 1469138220,\n",
       "    'temperatureLow': 13.71,\n",
       "    'temperatureLowTime': 1469194800,\n",
       "    'apparentTemperatureHigh': 31.87,\n",
       "    'apparentTemperatureHighTime': 1469138220,\n",
       "    'apparentTemperatureLow': 13.98,\n",
       "    'apparentTemperatureLowTime': 1469194800,\n",
       "    'dewPoint': 9.95,\n",
       "    'humidity': 0.56,\n",
       "    'pressure': 1016.3,\n",
       "    'windSpeed': 6.1,\n",
       "    'windGust': 20.82,\n",
       "    'windGustTime': 1469145600,\n",
       "    'windBearing': 268,\n",
       "    'cloudCover': 0.08,\n",
       "    'uvIndex': 11,\n",
       "    'uvIndexTime': 1469131740,\n",
       "    'visibility': 15.083,\n",
       "    'temperatureMin': 11.36,\n",
       "    'temperatureMinTime': 1469104980,\n",
       "    'temperatureMax': 32.15,\n",
       "    'temperatureMaxTime': 1469138220,\n",
       "    'apparentTemperatureMin': 11.63,\n",
       "    'apparentTemperatureMinTime': 1469104980,\n",
       "    'apparentTemperatureMax': 31.87,\n",
       "    'apparentTemperatureMaxTime': 1469138220}]},\n",
       " 'flags': {'sources': ['cmc',\n",
       "   'gfs',\n",
       "   'hrrr',\n",
       "   'icon',\n",
       "   'isd',\n",
       "   'madis',\n",
       "   'nam',\n",
       "   'sref'],\n",
       "  'nearest-station': 2.545,\n",
       "  'units': 'ca'},\n",
       " 'offset': -7}"
      ]
     },
     "execution_count": 15,
     "metadata": {},
     "output_type": "execute_result"
    }
   ],
   "source": [
    "weather"
   ]
  },
  {
   "cell_type": "code",
   "execution_count": 17,
   "metadata": {},
   "outputs": [],
   "source": [
    "# Parsed important elements:\n",
    "dailydata = weather['daily']['data'][0]\n",
    "rain = dailydata['precipIntensityMax']\n",
    "hitemp = dailydata['temperatureHigh']\n",
    "lotemp = dailydata['temperatureLow']\n",
    "humidity = dailydata['humidity']\n",
    "windspd = dailydata['windSpeed']\n",
    "winddir = dailydata['windBearing']\n",
    "clouds = dailydata['cloudCover']"
   ]
  },
  {
   "cell_type": "code",
   "execution_count": 20,
   "metadata": {},
   "outputs": [],
   "source": [
    "point = [date,lat,long,rain,hitemp,lotemp,humidity,windspd,winddir,clouds]"
   ]
  },
  {
   "cell_type": "code",
   "execution_count": 21,
   "metadata": {},
   "outputs": [
    {
     "data": {
      "text/plain": [
       "['2016-07-21',\n",
       " '35.446666666666665',\n",
       " '-120.84',\n",
       " 0,\n",
       " 32.15,\n",
       " 13.71,\n",
       " 0.56,\n",
       " 6.1,\n",
       " 268,\n",
       " 0.08]"
      ]
     },
     "execution_count": 21,
     "metadata": {},
     "output_type": "execute_result"
    }
   ],
   "source": [
    "point"
   ]
  },
  {
   "cell_type": "code",
   "execution_count": null,
   "metadata": {},
   "outputs": [],
   "source": []
  },
  {
   "cell_type": "code",
   "execution_count": null,
   "metadata": {},
   "outputs": [],
   "source": []
  },
  {
   "cell_type": "code",
   "execution_count": null,
   "metadata": {},
   "outputs": [],
   "source": []
  },
  {
   "cell_type": "code",
   "execution_count": null,
   "metadata": {},
   "outputs": [],
   "source": []
  },
  {
   "cell_type": "code",
   "execution_count": null,
   "metadata": {},
   "outputs": [],
   "source": []
  }
 ],
 "metadata": {
  "kernelspec": {
   "display_name": "Python 3",
   "language": "python",
   "name": "python3"
  },
  "language_info": {
   "codemirror_mode": {
    "name": "ipython",
    "version": 3
   },
   "file_extension": ".py",
   "mimetype": "text/x-python",
   "name": "python",
   "nbconvert_exporter": "python",
   "pygments_lexer": "ipython3",
   "version": "3.7.4"
  },
  "toc": {
   "base_numbering": 1,
   "nav_menu": {},
   "number_sections": true,
   "sideBar": true,
   "skip_h1_title": false,
   "title_cell": "Table of Contents",
   "title_sidebar": "Contents",
   "toc_cell": false,
   "toc_position": {},
   "toc_section_display": true,
   "toc_window_display": true
  }
 },
 "nbformat": 4,
 "nbformat_minor": 2
}
