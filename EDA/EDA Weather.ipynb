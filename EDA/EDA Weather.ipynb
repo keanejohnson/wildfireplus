{
 "cells": [
  {
   "cell_type": "markdown",
   "metadata": {
    "Collapsed": "true"
   },
   "source": [
    "# SETUP"
   ]
  },
  {
   "cell_type": "code",
   "execution_count": 2,
   "metadata": {
    "Collapsed": "false"
   },
   "outputs": [],
   "source": [
    "import numpy as np\n",
    "import itertools\n",
    "import requests\n",
    "import datetime\n",
    "import time\n",
    "import json\n",
    "from datetime import datetime\n",
    "import pickle\n",
    "import pandas as pd\n",
    "import rasterio as rio\n",
    "import copy\n",
    "import seaborn as sns\n",
    "import matplotlib.pyplot as plt\n",
    "import matplotlib\n",
    "from rasterio.transform import Affine\n",
    "from rasterio.warp import calculate_default_transform, reproject, Resampling"
   ]
  },
  {
   "cell_type": "code",
   "execution_count": 3,
   "metadata": {
    "Collapsed": "false"
   },
   "outputs": [
    {
     "name": "stdout",
     "output_type": "stream",
     "text": [
      "3.1.1\n",
      "0.9.0\n"
     ]
    }
   ],
   "source": [
    "print(matplotlib.__version__)\n",
    "print(sns.__version__)"
   ]
  },
  {
   "cell_type": "markdown",
   "metadata": {
    "Collapsed": "false",
    "toc-hr-collapsed": false
   },
   "source": [
    "# Requests \n",
    "\n",
    "From GEO EDA sheet:"
   ]
  },
  {
   "cell_type": "markdown",
   "metadata": {
    "Collapsed": "true",
    "heading_collapsed": true
   },
   "source": [
    "## DarkSky Sample"
   ]
  },
  {
   "cell_type": "markdown",
   "metadata": {
    "Collapsed": "false",
    "hidden": true
   },
   "source": [
    "1) cheapest seems to be DarkSky. 1000 per day for free 2) $0.0001 per request after that 3) Request: \" https://api.darksky.net/forecast/[key]/40.036944,-121.005833,2005-02-02T17:30:00\" (my api key removed)\n",
    "\n",
    "Output is like this: {\"latitude\":40.036944,\"longitude\":-121.005833,\"timezone\":\"America/Los_Angeles\",\"currently\":{\"time\":1107394200,\"precipIntensity\":0,\"precipProbability\":0,\"temperature\":50.24,\"apparentTemperature\":50.41,\"dewPoint\":13.85,\"humidity\":0.23,\"windSpeed\":2.62,\"windGust\":13.17,\"windBearing\":24,\"uvIndex\":0},\"hourly\":{\"data\":\n",
    "...\n",
    "{\"time\":1107414000,\"precipIntensity\":0,\"precipProbability\":0,\"temperature\":41.2,\"apparentTemperature\":41.2,\"dewPoint\":12.53,\"humidity\":0.31,\"windSpeed\":1.56,\"windGust\":12.79,\"windBearing\":100,\"uvIndex\":0}]},\"daily\":{\"data\":[{\"time\":1107331200,\"sunriseTime\":1107357120,\"sunsetTime\":1107393960,\"moonPhase\":0.78,\"precipIntensity\":0,\"precipIntensityMax\":0,\"precipProbability\":0,\"temperatureHigh\":57.95,\"temperatureHighTime\":1107384600,\"temperatureLow\":38.42,\"temperatureLowTime\":1107439200,\"apparentTemperatureHigh\":57.45,\"apparentTemperatureHighTime\":1107384600,\"apparentTemperatureLow\":38.91,\"apparentTemperatureLowTime\":1107439200,\"dewPoint\":14.85,\"humidity\":0.31,\"windSpeed\":3.33,\"windGust\":14.83,\"windGustTime\":1107390840,\"windBearing\":76,\"uvIndex\":0,\"uvIndexTime\":1107331200,\"temperatureMin\":35.03,\"temperatureMinTime\":1107359100,\"temperatureMax\":57.95,\"temperatureMaxTime\":1107384600,\"apparentTemperatureMin\":34.3,\"apparentTemperatureMinTime\":1107338640,\"apparentTemperatureMax\":57.45,\"apparentTemperatureMaxTime\":1107384600}]},\"flags\":{\"sources\":[\"cmc\",\"gfs\",\"hrrr\",\"icon\",\"isd\",\"madis\",\"nam\",\"sref\"],\"nearest-station\":3.312,\"units\":\"us\"},\"offset\":-8}"
   ]
  },
  {
   "cell_type": "markdown",
   "metadata": {
    "Collapsed": "true"
   },
   "source": [
    "## Dark Sky locality"
   ]
  },
  {
   "cell_type": "code",
   "execution_count": 7,
   "metadata": {
    "Collapsed": "false"
   },
   "outputs": [],
   "source": [
    "# From Geo Sheet - Toy Data Bounding Box\n",
    "# keep in mind each pixel is roughly 500 m x 500 m\n",
    "bb_long = [-122, -119.912,-119.912,-122,-122 ]\n",
    "bb_lat = [36.8, 36.8, 35.06, 35.06,36.8]"
   ]
  },
  {
   "cell_type": "markdown",
   "metadata": {
    "Collapsed": "false"
   },
   "source": [
    "Requests, to see how how 'hyperlocal' the darksky data really is."
   ]
  },
  {
   "cell_type": "code",
   "execution_count": 8,
   "metadata": {
    "Collapsed": "false"
   },
   "outputs": [],
   "source": [
    "# Create Pairs\n",
    "min_long = min(bb_long)\n",
    "max_long = max(bb_long)\n",
    "min_lat = min(bb_lat)\n",
    "max_lat = max(bb_lat)"
   ]
  },
  {
   "cell_type": "code",
   "execution_count": 9,
   "metadata": {
    "Collapsed": "false"
   },
   "outputs": [
    {
     "name": "stdout",
     "output_type": "stream",
     "text": [
      "[-122.    -121.768 -121.536 -121.304 -121.072 -120.84  -120.608 -120.376\n",
      " -120.144 -119.912] [35.06       35.25333333 35.44666667 35.64       35.83333333 36.02666667\n",
      " 36.22       36.41333333 36.60666667 36.8       ]\n",
      "distance between forecast pairings ~ 19.1 km, or 38.3 pixels\n"
     ]
    }
   ],
   "source": [
    "spaces = 10\n",
    "longs = np.linspace(min_long,max_long,spaces)\n",
    "lats = np.linspace(min_lat,max_lat,spaces)\n",
    "print(longs, lats)\n",
    "distance = (max_lat-min_lat)*110/spaces\n",
    "print(f\"distance between forecast pairings ~ {distance:.3} km, or {(distance/.5):.3} pixels\")"
   ]
  },
  {
   "cell_type": "code",
   "execution_count": 10,
   "metadata": {
    "Collapsed": "false"
   },
   "outputs": [
    {
     "name": "stdout",
     "output_type": "stream",
     "text": [
      "100\n",
      "(35.446666666666665, -120.84)\n"
     ]
    }
   ],
   "source": [
    "# Pairs\n",
    "pairs = [(lat,long) for lat in lats for long in longs]\n",
    "print(len(pairs))\n",
    "print(pairs[25])"
   ]
  },
  {
   "cell_type": "code",
   "execution_count": 9,
   "metadata": {
    "Collapsed": "false"
   },
   "outputs": [],
   "source": [
    "key = '5ffac5f056d341c6296cba58fa96e9ba'"
   ]
  },
  {
   "cell_type": "markdown",
   "metadata": {
    "Collapsed": "false"
   },
   "source": [
    "The Forecast Data API supports HTTP compression. We heartily recommend using it, as it will make responses much smaller over the wire. To enable it, simply add an `Accept-Encoding: gzip` header to your request."
   ]
  },
  {
   "cell_type": "markdown",
   "metadata": {
    "Collapsed": "false",
    "heading_collapsed": true
   },
   "source": [
    "### Try one request"
   ]
  },
  {
   "cell_type": "code",
   "execution_count": 57,
   "metadata": {
    "Collapsed": "false",
    "hidden": true
   },
   "outputs": [
    {
     "name": "stdout",
     "output_type": "stream",
     "text": [
      "https://api.darksky.net/forecast/5ffac5f056d341c6296cba58fa96e9ba/35.446666666666665,-120.84,2016-07-21T12:00:00?exclude=[currently,minutely,hourly,alerts]&units=ca\n"
     ]
    }
   ],
   "source": [
    "# items to exclude from call\n",
    "blocks = '[currently,minutely,hourly,alerts]'\n",
    "# Units for call\n",
    "units = 'ca'\n",
    "# Time\n",
    "time = '2005-02-02T12:00:00' # for noon, but hour doesn't matter as we're grabbing daily data only.\n",
    "# Dates (relevant to our fires): only use one for testing\n",
    "dates = ['2016-07-21']\n",
    "\n",
    "# create time string:\n",
    "date = dates[0]\n",
    "time = date+'T12:00:00'\n",
    "lat = str(pairs[25][0])\n",
    "long = str(pairs[25][1])\n",
    "\n",
    "query = ('https://api.darksky.net/forecast/'+key+'/'+ \n",
    "        lat+','+long+','+time+'?exclude=' \n",
    "        +blocks+'&units='+units)\n",
    "headers = {'Accept-Encoding':'gzip'}\n",
    "print(query)   "
   ]
  },
  {
   "cell_type": "code",
   "execution_count": 58,
   "metadata": {
    "Collapsed": "false",
    "hidden": true
   },
   "outputs": [],
   "source": [
    "r=requests.get(query,headers=headers)"
   ]
  },
  {
   "cell_type": "code",
   "execution_count": 59,
   "metadata": {
    "Collapsed": "false",
    "hidden": true
   },
   "outputs": [
    {
     "data": {
      "text/plain": [
       "200"
      ]
     },
     "execution_count": 59,
     "metadata": {},
     "output_type": "execute_result"
    }
   ],
   "source": [
    "r.status_code"
   ]
  },
  {
   "cell_type": "code",
   "execution_count": 61,
   "metadata": {
    "Collapsed": "false",
    "collapsed": true,
    "hidden": true,
    "jupyter": {
     "outputs_hidden": true
    }
   },
   "outputs": [
    {
     "data": {
      "text/plain": [
       "[{'time': 1469084400,\n",
       "  'summary': 'Foggy in the morning.',\n",
       "  'icon': 'clear-day',\n",
       "  'sunriseTime': 1469106300,\n",
       "  'sunsetTime': 1469157360,\n",
       "  'moonPhase': 0.58,\n",
       "  'precipIntensity': 0,\n",
       "  'precipIntensityMax': 0,\n",
       "  'precipProbability': 0,\n",
       "  'temperatureHigh': 32.15,\n",
       "  'temperatureHighTime': 1469138220,\n",
       "  'temperatureLow': 13.71,\n",
       "  'temperatureLowTime': 1469194800,\n",
       "  'apparentTemperatureHigh': 31.87,\n",
       "  'apparentTemperatureHighTime': 1469138220,\n",
       "  'apparentTemperatureLow': 13.98,\n",
       "  'apparentTemperatureLowTime': 1469194800,\n",
       "  'dewPoint': 9.95,\n",
       "  'humidity': 0.56,\n",
       "  'pressure': 1016.3,\n",
       "  'windSpeed': 6.1,\n",
       "  'windGust': 20.82,\n",
       "  'windGustTime': 1469145600,\n",
       "  'windBearing': 268,\n",
       "  'cloudCover': 0.08,\n",
       "  'uvIndex': 11,\n",
       "  'uvIndexTime': 1469131740,\n",
       "  'visibility': 15.083,\n",
       "  'temperatureMin': 11.36,\n",
       "  'temperatureMinTime': 1469104980,\n",
       "  'temperatureMax': 32.15,\n",
       "  'temperatureMaxTime': 1469138220,\n",
       "  'apparentTemperatureMin': 11.63,\n",
       "  'apparentTemperatureMinTime': 1469104980,\n",
       "  'apparentTemperatureMax': 31.87,\n",
       "  'apparentTemperatureMaxTime': 1469138220}]"
      ]
     },
     "execution_count": 61,
     "metadata": {},
     "output_type": "execute_result"
    }
   ],
   "source": [
    "weather = r.json()\n",
    "weather['daily']['data']"
   ]
  },
  {
   "cell_type": "code",
   "execution_count": 62,
   "metadata": {
    "Collapsed": "false",
    "hidden": true
   },
   "outputs": [],
   "source": [
    "# Parsed important elements:\n",
    "dailydata = weather['daily']['data'][0]\n",
    "rain = dailydata['precipIntensityMax']\n",
    "hitemp = dailydata['temperatureHigh']\n",
    "lotemp = dailydata['temperatureLow']\n",
    "humidity = dailydata['humidity']\n",
    "windspd = dailydata['windSpeed']\n",
    "winddir = dailydata['windBearing']\n",
    "clouds = dailydata['cloudCover']"
   ]
  },
  {
   "cell_type": "code",
   "execution_count": 63,
   "metadata": {
    "Collapsed": "false",
    "hidden": true
   },
   "outputs": [],
   "source": [
    "point = [date,lat,long,rain,hitemp,lotemp,humidity,windspd,winddir,clouds]"
   ]
  },
  {
   "cell_type": "code",
   "execution_count": 64,
   "metadata": {
    "Collapsed": "false",
    "collapsed": true,
    "hidden": true,
    "jupyter": {
     "outputs_hidden": true
    }
   },
   "outputs": [
    {
     "data": {
      "text/plain": [
       "['2016-07-21',\n",
       " '35.446666666666665',\n",
       " '-120.84',\n",
       " 0,\n",
       " 32.15,\n",
       " 13.71,\n",
       " 0.56,\n",
       " 6.1,\n",
       " 268,\n",
       " 0.08]"
      ]
     },
     "execution_count": 64,
     "metadata": {},
     "output_type": "execute_result"
    }
   ],
   "source": [
    "point"
   ]
  },
  {
   "cell_type": "code",
   "execution_count": 65,
   "metadata": {
    "Collapsed": "false",
    "hidden": true
   },
   "outputs": [
    {
     "name": "stdout",
     "output_type": "stream",
     "text": [
      "<class 'list'>\n"
     ]
    }
   ],
   "source": [
    "print(type(point))"
   ]
  },
  {
   "cell_type": "code",
   "execution_count": 66,
   "metadata": {
    "Collapsed": "false",
    "hidden": true
   },
   "outputs": [
    {
     "data": {
      "text/plain": [
       "35.06"
      ]
     },
     "execution_count": 66,
     "metadata": {},
     "output_type": "execute_result"
    }
   ],
   "source": [
    "pairs[0][0]"
   ]
  },
  {
   "cell_type": "markdown",
   "metadata": {
    "Collapsed": "true"
   },
   "source": [
    "## Multiple Requests to determine degree of hyperlocality required"
   ]
  },
  {
   "cell_type": "markdown",
   "metadata": {
    "Collapsed": "false",
    "heading_collapsed": true
   },
   "source": [
    "### Https requests functions"
   ]
  },
  {
   "cell_type": "code",
   "execution_count": 2,
   "metadata": {
    "Collapsed": "false",
    "hidden": true
   },
   "outputs": [],
   "source": [
    "def getweather(coordinates,date,key):\n",
    "    \"\"\" Function to take the set of coordinates and get the daily\n",
    "    weather for a given date. rain, hi and low temps, humidity\n",
    "    wind speed and direction and cloud cover only.\n",
    "    \n",
    "    Input: Date, API Key and list of coordinate pairs (lat,long)\n",
    "    Output: list of jsons\n",
    "    \"\"\"\n",
    "    # items to exclude from call\n",
    "    blocks = '[currently,minutely,hourly,alerts]'\n",
    "\n",
    "    # Units for call\n",
    "    units = 'ca'\n",
    "    \n",
    "    # Compression for call\n",
    "    headers = {'Accept-Encoding':'gzip'}\n",
    "    \n",
    "    time = date+'T12:00:00'\n",
    "    \n",
    "    data_out = []\n",
    "    for pair in coordinates:\n",
    "        lat = str(pair[0])\n",
    "        long = str(pair[1])\n",
    "        # set the query string for darksky\n",
    "        query = ('https://api.darksky.net/forecast/'+key+'/'+ \n",
    "            lat+','+long+','+time+'?exclude=' \n",
    "            +blocks+'&units='+units)\n",
    "        # Make the call to Dark Sky to get all the data for that date and location\n",
    "        r=requests.get(query,headers=headers)\n",
    "        \n",
    "        # get the weather data from the request return\n",
    "        weather=r.json()\n",
    "        \n",
    "        # write the jsons as items in the output data list\n",
    "        data_out.append(weather)\n",
    "    \n",
    "    return data_out"
   ]
  },
  {
   "cell_type": "code",
   "execution_count": 18,
   "metadata": {
    "Collapsed": "false",
    "hidden": true
   },
   "outputs": [
    {
     "ename": "NameError",
     "evalue": "name 'getweather' is not defined",
     "output_type": "error",
     "traceback": [
      "\u001b[0;31m---------------------------------------------------------------------------\u001b[0m",
      "\u001b[0;31mNameError\u001b[0m                                 Traceback (most recent call last)",
      "\u001b[0;32m<timed exec>\u001b[0m in \u001b[0;36m<module>\u001b[0;34m\u001b[0m\n",
      "\u001b[0;31mNameError\u001b[0m: name 'getweather' is not defined"
     ]
    }
   ],
   "source": [
    "%%time\n",
    "# Dates (relevant to our fires): only use one for testing\n",
    "dates = ['2016-07-21']\n",
    "# create time string:\n",
    "date = dates[0]\n",
    "\n",
    "data_for_date = getweather(pairs,date,key)"
   ]
  },
  {
   "cell_type": "code",
   "execution_count": 253,
   "metadata": {
    "Collapsed": "false",
    "hidden": true
   },
   "outputs": [
    {
     "name": "stdout",
     "output_type": "stream",
     "text": [
      "Wall time: 58 ms\n"
     ]
    }
   ],
   "source": [
    "%%time\n",
    "# Pickle results out so that i don't have to make another api call later\n",
    "with open('../data/GlobalFire2016/weathertest.pickle','wb') as f:\n",
    "    pickle.dump(data_for_date,f,pickle.HIGHEST_PROTOCOL)"
   ]
  },
  {
   "cell_type": "code",
   "execution_count": 15,
   "metadata": {
    "Collapsed": "false",
    "hidden": true
   },
   "outputs": [],
   "source": [
    "def check_point(info):\n",
    "    \"\"\" to check if there is a value for that weather element and provide \n",
    "    either None or the value back\n",
    "    \"\"\"\n",
    "    if info:\n",
    "        return info\n",
    "    else:\n",
    "        return None"
   ]
  },
  {
   "cell_type": "code",
   "execution_count": 16,
   "metadata": {
    "Collapsed": "false",
    "hidden": true
   },
   "outputs": [],
   "source": [
    "def date_df(data_out):\n",
    "    \"\"\" Function to take the list of jsons from a date\n",
    "    of daily weather requests and create a pandas dataframe\n",
    "    \n",
    "    Input: list of jsons containing the weather data\n",
    "    Output: pandas dataframe\n",
    "    \"\"\"\n",
    "    data_convert=[]\n",
    "    # Titles for the data\n",
    "    coltitles = ['date','latitude','longitude','rain','High T','Low T','Humidity','Wind Speed','Wind Direction','Cloud Cover']\n",
    "    data_convert.append(coltitles)\n",
    "    # Loope through all the geopoints to get the data\n",
    "    for point in data_out:\n",
    "        lat = point['latitude']\n",
    "        long = point['longitude']\n",
    "        daily = point.get('daily')\n",
    "        if daily:\n",
    "            data = daily['data'][0]\n",
    "            time = datetime.fromtimestamp(data['time']).strftime('%Y-%m-%d')\n",
    "            rain = data.get('precipIntensityMax')\n",
    "            hitemp = data.get('temperatureHigh')\n",
    "            lotemp = data.get('temperatureLow')\n",
    "            humidity = data.get('humidity')\n",
    "            windspd = data.get('windSpeed')\n",
    "            winddir = data.get('windBearing')\n",
    "            clouds = data.get('cloudCover')\n",
    "            point = [date,lat,long,check_point(rain), \\\n",
    "                     check_point(hitemp),check_point(lotemp), \\\n",
    "                     check_point(humidity),check_point(windspd), \\\n",
    "                     check_point(winddir), check_point(clouds)] \n",
    "            data_convert.append(point)\n",
    "        else:\n",
    "            point = None\n",
    "            \n",
    "    df = pd.DataFrame(data_convert[1:], columns = data_convert[0])\n",
    "    \n",
    "    return df\n"
   ]
  },
  {
   "cell_type": "code",
   "execution_count": 19,
   "metadata": {
    "Collapsed": "false",
    "hidden": true
   },
   "outputs": [
    {
     "data": {
      "text/html": [
       "<div>\n",
       "<style scoped>\n",
       "    .dataframe tbody tr th:only-of-type {\n",
       "        vertical-align: middle;\n",
       "    }\n",
       "\n",
       "    .dataframe tbody tr th {\n",
       "        vertical-align: top;\n",
       "    }\n",
       "\n",
       "    .dataframe thead th {\n",
       "        text-align: right;\n",
       "    }\n",
       "</style>\n",
       "<table border=\"1\" class=\"dataframe\">\n",
       "  <thead>\n",
       "    <tr style=\"text-align: right;\">\n",
       "      <th></th>\n",
       "      <th>date</th>\n",
       "      <th>latitude</th>\n",
       "      <th>longitude</th>\n",
       "      <th>rain</th>\n",
       "      <th>High T</th>\n",
       "      <th>Low T</th>\n",
       "      <th>Humidity</th>\n",
       "      <th>Wind Speed</th>\n",
       "      <th>Wind Direction</th>\n",
       "      <th>Cloud Cover</th>\n",
       "    </tr>\n",
       "  </thead>\n",
       "  <tbody>\n",
       "    <tr>\n",
       "      <th>0</th>\n",
       "      <td>2016-07-21</td>\n",
       "      <td>35.06</td>\n",
       "      <td>-121.536</td>\n",
       "      <td>None</td>\n",
       "      <td>15.09</td>\n",
       "      <td>13.82</td>\n",
       "      <td>NaN</td>\n",
       "      <td>33.49</td>\n",
       "      <td>327.0</td>\n",
       "      <td>NaN</td>\n",
       "    </tr>\n",
       "    <tr>\n",
       "      <th>1</th>\n",
       "      <td>2016-07-21</td>\n",
       "      <td>35.06</td>\n",
       "      <td>-121.304</td>\n",
       "      <td>None</td>\n",
       "      <td>15.09</td>\n",
       "      <td>13.82</td>\n",
       "      <td>0.84</td>\n",
       "      <td>33.49</td>\n",
       "      <td>327.0</td>\n",
       "      <td>NaN</td>\n",
       "    </tr>\n",
       "    <tr>\n",
       "      <th>2</th>\n",
       "      <td>2016-07-21</td>\n",
       "      <td>35.06</td>\n",
       "      <td>-121.072</td>\n",
       "      <td>None</td>\n",
       "      <td>20.81</td>\n",
       "      <td>13.73</td>\n",
       "      <td>0.77</td>\n",
       "      <td>7.59</td>\n",
       "      <td>275.0</td>\n",
       "      <td>0.20</td>\n",
       "    </tr>\n",
       "    <tr>\n",
       "      <th>3</th>\n",
       "      <td>2016-07-21</td>\n",
       "      <td>35.06</td>\n",
       "      <td>-120.840</td>\n",
       "      <td>None</td>\n",
       "      <td>22.47</td>\n",
       "      <td>13.97</td>\n",
       "      <td>0.71</td>\n",
       "      <td>6.77</td>\n",
       "      <td>274.0</td>\n",
       "      <td>0.37</td>\n",
       "    </tr>\n",
       "    <tr>\n",
       "      <th>4</th>\n",
       "      <td>2016-07-21</td>\n",
       "      <td>35.06</td>\n",
       "      <td>-120.608</td>\n",
       "      <td>None</td>\n",
       "      <td>22.16</td>\n",
       "      <td>13.00</td>\n",
       "      <td>0.73</td>\n",
       "      <td>6.60</td>\n",
       "      <td>247.0</td>\n",
       "      <td>0.38</td>\n",
       "    </tr>\n",
       "  </tbody>\n",
       "</table>\n",
       "</div>"
      ],
      "text/plain": [
       "         date  latitude  longitude  rain  High T  Low T  Humidity  Wind Speed  \\\n",
       "0  2016-07-21     35.06   -121.536  None   15.09  13.82       NaN       33.49   \n",
       "1  2016-07-21     35.06   -121.304  None   15.09  13.82      0.84       33.49   \n",
       "2  2016-07-21     35.06   -121.072  None   20.81  13.73      0.77        7.59   \n",
       "3  2016-07-21     35.06   -120.840  None   22.47  13.97      0.71        6.77   \n",
       "4  2016-07-21     35.06   -120.608  None   22.16  13.00      0.73        6.60   \n",
       "\n",
       "   Wind Direction  Cloud Cover  \n",
       "0           327.0          NaN  \n",
       "1           327.0          NaN  \n",
       "2           275.0         0.20  \n",
       "3           274.0         0.37  \n",
       "4           247.0         0.38  "
      ]
     },
     "execution_count": 19,
     "metadata": {},
     "output_type": "execute_result"
    }
   ],
   "source": [
    "with open('../data/GlobalFire2016/weathertest.pickle','rb') as f:\n",
    "    data_for_date = pickle.load(f)\n",
    "    \n",
    "    # Dates (relevant to our fires): only use one for testing\n",
    "dates = ['2016-07-21']\n",
    "# create time string:\n",
    "date = dates[0]\n",
    "df2 = date_df(data_for_date)\n",
    "df2.head()"
   ]
  },
  {
   "cell_type": "code",
   "execution_count": 20,
   "metadata": {
    "Collapsed": "false"
   },
   "outputs": [
    {
     "data": {
      "text/html": [
       "<div>\n",
       "<style scoped>\n",
       "    .dataframe tbody tr th:only-of-type {\n",
       "        vertical-align: middle;\n",
       "    }\n",
       "\n",
       "    .dataframe tbody tr th {\n",
       "        vertical-align: top;\n",
       "    }\n",
       "\n",
       "    .dataframe thead th {\n",
       "        text-align: right;\n",
       "    }\n",
       "</style>\n",
       "<table border=\"1\" class=\"dataframe\">\n",
       "  <thead>\n",
       "    <tr style=\"text-align: right;\">\n",
       "      <th></th>\n",
       "      <th>date</th>\n",
       "      <th>latitude</th>\n",
       "      <th>longitude</th>\n",
       "      <th>rain</th>\n",
       "      <th>High T</th>\n",
       "      <th>Low T</th>\n",
       "      <th>Humidity</th>\n",
       "      <th>Wind Speed</th>\n",
       "      <th>Wind Direction</th>\n",
       "      <th>Cloud Cover</th>\n",
       "    </tr>\n",
       "  </thead>\n",
       "  <tbody>\n",
       "    <tr>\n",
       "      <th>90</th>\n",
       "      <td>2016-07-21</td>\n",
       "      <td>36.8</td>\n",
       "      <td>-120.840</td>\n",
       "      <td>None</td>\n",
       "      <td>33.55</td>\n",
       "      <td>14.14</td>\n",
       "      <td>0.37</td>\n",
       "      <td>10.03</td>\n",
       "      <td>336.0</td>\n",
       "      <td>NaN</td>\n",
       "    </tr>\n",
       "    <tr>\n",
       "      <th>91</th>\n",
       "      <td>2016-07-21</td>\n",
       "      <td>36.8</td>\n",
       "      <td>-120.608</td>\n",
       "      <td>None</td>\n",
       "      <td>35.21</td>\n",
       "      <td>15.74</td>\n",
       "      <td>0.34</td>\n",
       "      <td>10.91</td>\n",
       "      <td>326.0</td>\n",
       "      <td>NaN</td>\n",
       "    </tr>\n",
       "    <tr>\n",
       "      <th>92</th>\n",
       "      <td>2016-07-21</td>\n",
       "      <td>36.8</td>\n",
       "      <td>-120.376</td>\n",
       "      <td>None</td>\n",
       "      <td>35.17</td>\n",
       "      <td>15.74</td>\n",
       "      <td>0.33</td>\n",
       "      <td>10.00</td>\n",
       "      <td>321.0</td>\n",
       "      <td>NaN</td>\n",
       "    </tr>\n",
       "    <tr>\n",
       "      <th>93</th>\n",
       "      <td>2016-07-21</td>\n",
       "      <td>36.8</td>\n",
       "      <td>-120.144</td>\n",
       "      <td>None</td>\n",
       "      <td>36.14</td>\n",
       "      <td>16.75</td>\n",
       "      <td>0.34</td>\n",
       "      <td>7.93</td>\n",
       "      <td>308.0</td>\n",
       "      <td>0.01</td>\n",
       "    </tr>\n",
       "    <tr>\n",
       "      <th>94</th>\n",
       "      <td>2016-07-21</td>\n",
       "      <td>36.8</td>\n",
       "      <td>-119.912</td>\n",
       "      <td>None</td>\n",
       "      <td>36.49</td>\n",
       "      <td>17.21</td>\n",
       "      <td>0.34</td>\n",
       "      <td>7.37</td>\n",
       "      <td>306.0</td>\n",
       "      <td>0.01</td>\n",
       "    </tr>\n",
       "  </tbody>\n",
       "</table>\n",
       "</div>"
      ],
      "text/plain": [
       "          date  latitude  longitude  rain  High T  Low T  Humidity  \\\n",
       "90  2016-07-21      36.8   -120.840  None   33.55  14.14      0.37   \n",
       "91  2016-07-21      36.8   -120.608  None   35.21  15.74      0.34   \n",
       "92  2016-07-21      36.8   -120.376  None   35.17  15.74      0.33   \n",
       "93  2016-07-21      36.8   -120.144  None   36.14  16.75      0.34   \n",
       "94  2016-07-21      36.8   -119.912  None   36.49  17.21      0.34   \n",
       "\n",
       "    Wind Speed  Wind Direction  Cloud Cover  \n",
       "90       10.03           336.0          NaN  \n",
       "91       10.91           326.0          NaN  \n",
       "92       10.00           321.0          NaN  \n",
       "93        7.93           308.0         0.01  \n",
       "94        7.37           306.0         0.01  "
      ]
     },
     "execution_count": 20,
     "metadata": {},
     "output_type": "execute_result"
    }
   ],
   "source": [
    "df2.tail()"
   ]
  },
  {
   "cell_type": "markdown",
   "metadata": {
    "Collapsed": "true"
   },
   "source": [
    "### Look at uniqueness"
   ]
  },
  {
   "cell_type": "code",
   "execution_count": 16,
   "metadata": {
    "Collapsed": "false"
   },
   "outputs": [],
   "source": [
    "stats = df2.describe()"
   ]
  },
  {
   "cell_type": "code",
   "execution_count": 14,
   "metadata": {
    "Collapsed": "false"
   },
   "outputs": [],
   "source": [
    "cols = stats.columns"
   ]
  },
  {
   "cell_type": "code",
   "execution_count": 15,
   "metadata": {
    "Collapsed": "false"
   },
   "outputs": [],
   "source": [
    "uniques = []\n",
    "for col in cols:\n",
    "    uniq = len(df2[col].value_counts())\n",
    "    uniques.append(uniq)\n",
    "uniques = pd.DataFrame([uniques],columns=cols)"
   ]
  },
  {
   "cell_type": "code",
   "execution_count": 16,
   "metadata": {
    "Collapsed": "false"
   },
   "outputs": [],
   "source": [
    "uniques.rename(index={0:'Uniques'},inplace = True)"
   ]
  },
  {
   "cell_type": "code",
   "execution_count": 17,
   "metadata": {
    "Collapsed": "false"
   },
   "outputs": [
    {
     "data": {
      "text/html": [
       "<div>\n",
       "<style scoped>\n",
       "    .dataframe tbody tr th:only-of-type {\n",
       "        vertical-align: middle;\n",
       "    }\n",
       "\n",
       "    .dataframe tbody tr th {\n",
       "        vertical-align: top;\n",
       "    }\n",
       "\n",
       "    .dataframe thead th {\n",
       "        text-align: right;\n",
       "    }\n",
       "</style>\n",
       "<table border=\"1\" class=\"dataframe\">\n",
       "  <thead>\n",
       "    <tr style=\"text-align: right;\">\n",
       "      <th></th>\n",
       "      <th>latitude</th>\n",
       "      <th>longitude</th>\n",
       "      <th>High T</th>\n",
       "      <th>Low T</th>\n",
       "      <th>Humidity</th>\n",
       "      <th>Wind Speed</th>\n",
       "      <th>Wind Direction</th>\n",
       "      <th>Cloud Cover</th>\n",
       "    </tr>\n",
       "  </thead>\n",
       "  <tbody>\n",
       "    <tr>\n",
       "      <th>count</th>\n",
       "      <td>95.000000</td>\n",
       "      <td>95.000000</td>\n",
       "      <td>95.000000</td>\n",
       "      <td>95.000000</td>\n",
       "      <td>90.000000</td>\n",
       "      <td>95.000000</td>\n",
       "      <td>94.000000</td>\n",
       "      <td>45.000000</td>\n",
       "    </tr>\n",
       "    <tr>\n",
       "      <th>mean</th>\n",
       "      <td>35.969684</td>\n",
       "      <td>-120.910821</td>\n",
       "      <td>29.696211</td>\n",
       "      <td>13.639895</td>\n",
       "      <td>0.491333</td>\n",
       "      <td>10.315368</td>\n",
       "      <td>279.042553</td>\n",
       "      <td>0.179111</td>\n",
       "    </tr>\n",
       "    <tr>\n",
       "      <th>std</th>\n",
       "      <td>0.543820</td>\n",
       "      <td>0.655386</td>\n",
       "      <td>6.749324</td>\n",
       "      <td>3.248108</td>\n",
       "      <td>0.166458</td>\n",
       "      <td>8.650780</td>\n",
       "      <td>88.161498</td>\n",
       "      <td>0.117818</td>\n",
       "    </tr>\n",
       "    <tr>\n",
       "      <th>min</th>\n",
       "      <td>35.060000</td>\n",
       "      <td>-122.000000</td>\n",
       "      <td>15.090000</td>\n",
       "      <td>6.050000</td>\n",
       "      <td>0.280000</td>\n",
       "      <td>4.510000</td>\n",
       "      <td>4.000000</td>\n",
       "      <td>0.010000</td>\n",
       "    </tr>\n",
       "    <tr>\n",
       "      <th>25%</th>\n",
       "      <td>35.446667</td>\n",
       "      <td>-121.536000</td>\n",
       "      <td>25.425000</td>\n",
       "      <td>11.275000</td>\n",
       "      <td>0.340000</td>\n",
       "      <td>6.605000</td>\n",
       "      <td>277.250000</td>\n",
       "      <td>0.080000</td>\n",
       "    </tr>\n",
       "    <tr>\n",
       "      <th>50%</th>\n",
       "      <td>36.026667</td>\n",
       "      <td>-120.840000</td>\n",
       "      <td>32.040000</td>\n",
       "      <td>13.330000</td>\n",
       "      <td>0.450000</td>\n",
       "      <td>7.440000</td>\n",
       "      <td>306.000000</td>\n",
       "      <td>0.200000</td>\n",
       "    </tr>\n",
       "    <tr>\n",
       "      <th>75%</th>\n",
       "      <td>36.413333</td>\n",
       "      <td>-120.376000</td>\n",
       "      <td>35.235000</td>\n",
       "      <td>15.740000</td>\n",
       "      <td>0.657500</td>\n",
       "      <td>9.260000</td>\n",
       "      <td>322.000000</td>\n",
       "      <td>0.280000</td>\n",
       "    </tr>\n",
       "    <tr>\n",
       "      <th>max</th>\n",
       "      <td>36.800000</td>\n",
       "      <td>-119.912000</td>\n",
       "      <td>38.660000</td>\n",
       "      <td>20.560000</td>\n",
       "      <td>0.840000</td>\n",
       "      <td>42.090000</td>\n",
       "      <td>358.000000</td>\n",
       "      <td>0.390000</td>\n",
       "    </tr>\n",
       "    <tr>\n",
       "      <th>Uniques</th>\n",
       "      <td>10.000000</td>\n",
       "      <td>10.000000</td>\n",
       "      <td>88.000000</td>\n",
       "      <td>88.000000</td>\n",
       "      <td>42.000000</td>\n",
       "      <td>89.000000</td>\n",
       "      <td>62.000000</td>\n",
       "      <td>27.000000</td>\n",
       "    </tr>\n",
       "  </tbody>\n",
       "</table>\n",
       "</div>"
      ],
      "text/plain": [
       "          latitude   longitude     High T      Low T   Humidity  Wind Speed  \\\n",
       "count    95.000000   95.000000  95.000000  95.000000  90.000000   95.000000   \n",
       "mean     35.969684 -120.910821  29.696211  13.639895   0.491333   10.315368   \n",
       "std       0.543820    0.655386   6.749324   3.248108   0.166458    8.650780   \n",
       "min      35.060000 -122.000000  15.090000   6.050000   0.280000    4.510000   \n",
       "25%      35.446667 -121.536000  25.425000  11.275000   0.340000    6.605000   \n",
       "50%      36.026667 -120.840000  32.040000  13.330000   0.450000    7.440000   \n",
       "75%      36.413333 -120.376000  35.235000  15.740000   0.657500    9.260000   \n",
       "max      36.800000 -119.912000  38.660000  20.560000   0.840000   42.090000   \n",
       "Uniques  10.000000   10.000000  88.000000  88.000000  42.000000   89.000000   \n",
       "\n",
       "         Wind Direction  Cloud Cover  \n",
       "count         94.000000    45.000000  \n",
       "mean         279.042553     0.179111  \n",
       "std           88.161498     0.117818  \n",
       "min            4.000000     0.010000  \n",
       "25%          277.250000     0.080000  \n",
       "50%          306.000000     0.200000  \n",
       "75%          322.000000     0.280000  \n",
       "max          358.000000     0.390000  \n",
       "Uniques       62.000000    27.000000  "
      ]
     },
     "execution_count": 17,
     "metadata": {},
     "output_type": "execute_result"
    }
   ],
   "source": [
    "newstats = stats.append(uniques)\n",
    "newstats"
   ]
  },
  {
   "cell_type": "markdown",
   "metadata": {
    "Collapsed": "false"
   },
   "source": [
    "## Turn data into 2D numpy arrays"
   ]
  },
  {
   "cell_type": "markdown",
   "metadata": {
    "Collapsed": "false"
   },
   "source": [
    "The above says that the data is fairly hyperlocal. Try doing heat maps?\n",
    "To do heatmaps, have to turn this into a numpy array which i have to do anyway"
   ]
  },
  {
   "cell_type": "markdown",
   "metadata": {
    "Collapsed": "false"
   },
   "source": [
    "### Create the numpy arrays"
   ]
  },
  {
   "cell_type": "code",
   "execution_count": 21,
   "metadata": {
    "Collapsed": "false"
   },
   "outputs": [],
   "source": [
    "# Create Numpy Array for High T first: - Not sure I need this....\n",
    "X,Y = np.meshgrid(longs,lats)"
   ]
  },
  {
   "cell_type": "code",
   "execution_count": 22,
   "metadata": {
    "Collapsed": "false"
   },
   "outputs": [],
   "source": [
    "# Create numpy array for High Temperature\n",
    "# create a list of all the values by increasing longitude for each latitude, so we can vstack into array\n",
    "\n",
    "# Subset the dataframe\n",
    "sub = df2[['latitude','longitude','High T']]\n",
    "\n",
    "# All values of longitude, to ensure square matrix\n",
    "long_df = pd.DataFrame(longs,columns=['longitude'])\n",
    "\n",
    "hiT = []\n",
    "\n",
    "# reverse the latitudes so we start with largest first\n",
    "lats2 = list(copy.deepcopy(lats))\n",
    "lats2.reverse()\n",
    "\n",
    "# loop through each latitude\n",
    "for lat in lats2:\n",
    "    # get the row values for each latitude, sort by longitude\n",
    "    row = sub[sub['latitude']==lat].sort_values(by=['longitude'])\n",
    "    \n",
    "    # add in missing longitude if necessary\n",
    "    row2 = long_df.merge(row,how='left')\n",
    "    \n",
    "    # Fill any missing values of latitude if needed\n",
    "    row2['latitude'].fillna(lat,inplace=True)\n",
    "    \n",
    "    # pull out just the High T\n",
    "    row3 = row2['High T']\n",
    "    \n",
    "    # reshape array\n",
    "    row3 = np.array(row3)[np.newaxis] \n",
    "    \n",
    "    hiT.append(row3)"
   ]
  },
  {
   "cell_type": "code",
   "execution_count": 23,
   "metadata": {
    "Collapsed": "false"
   },
   "outputs": [],
   "source": [
    "x = np.vstack(hiT)"
   ]
  },
  {
   "cell_type": "code",
   "execution_count": 24,
   "metadata": {
    "Collapsed": "false"
   },
   "outputs": [
    {
     "data": {
      "text/plain": [
       "(10, 10)"
      ]
     },
     "execution_count": 24,
     "metadata": {},
     "output_type": "execute_result"
    }
   ],
   "source": [
    "x.shape"
   ]
  },
  {
   "cell_type": "code",
   "execution_count": 25,
   "metadata": {
    "Collapsed": "false"
   },
   "outputs": [],
   "source": [
    "HighTempArray = x"
   ]
  },
  {
   "cell_type": "code",
   "execution_count": 26,
   "metadata": {
    "Collapsed": "false"
   },
   "outputs": [
    {
     "data": {
      "image/png": "[encoded data removed]",
      "text/plain": [
       "<Figure size 432x288 with 2 Axes>"
      ]
     },
     "metadata": {
      "needs_background": "light"
     },
     "output_type": "display_data"
    }
   ],
   "source": [
    "ax = sns.heatmap(HighTempArray, linewidth=0.5)\n",
    "\n",
    "# Fix the cutoff heatmap issue\n",
    "b, t = plt.ylim() # discover the values for bottom and top\n",
    "b += 0.5 # Add 0.5 to the bottom\n",
    "t -= 0.5 # Subtract 0.5 from the top\n",
    "plt.ylim(b, t) # update the ylim(bottom, top) values\n",
    "\n",
    "plt.show()"
   ]
  },
  {
   "cell_type": "code",
   "execution_count": 27,
   "metadata": {
    "Collapsed": "false"
   },
   "outputs": [
    {
     "data": {
      "text/plain": [
       "10"
      ]
     },
     "execution_count": 27,
     "metadata": {},
     "output_type": "execute_result"
    }
   ],
   "source": [
    "HighTempArray.shape[0]"
   ]
  },
  {
   "cell_type": "markdown",
   "metadata": {
    "Collapsed": "false"
   },
   "source": [
    "### Create a GEOTIFF on the Lat/Long data\n",
    "\n",
    "must create geotiff first, then change crs, then upsample"
   ]
  },
  {
   "cell_type": "code",
   "execution_count": 28,
   "metadata": {
    "Collapsed": "false"
   },
   "outputs": [
    {
     "data": {
      "text/plain": [
       "Affine(0.20879999999999937, 0.0, -122.1044,\n",
       "       0.0, 0.20879999999999937, 34.955600000000004)"
      ]
     },
     "execution_count": 28,
     "metadata": {},
     "output_type": "execute_result"
    }
   ],
   "source": [
    "# from https://rasterio.readthedocs.io/en/latest/quickstart.html#creating-data\n",
    "\n",
    "# Resolution\n",
    "res = (longs[-1] - longs[0]) / 10\n",
    "transform = Affine.translation(longs[0] - res / 2, lats[0] - res / 2) * Affine.scale(res, res)\n",
    "transform"
   ]
  },
  {
   "cell_type": "code",
   "execution_count": 29,
   "metadata": {
    "Collapsed": "false"
   },
   "outputs": [],
   "source": [
    "new_meta = {'driver':'GTiff','height':HighTempArray.shape[0], \\\n",
    "           'width':HighTempArray.shape[1],'count':1, \\\n",
    "           'dtype':HighTempArray.dtype, 'crs':'+proj=latlong', \\\n",
    "           'transform':transform, 'nodata':-9999, \\\n",
    "           'compress':'lzw','interleave':'band'}"
   ]
  },
  {
   "cell_type": "code",
   "execution_count": 30,
   "metadata": {
    "Collapsed": "false"
   },
   "outputs": [],
   "source": [
    "with rio.open('../data/GlobalFire2016/hitemp.tif','w', **new_meta) as new:\n",
    "    new.write(HighTempArray,1)"
   ]
  },
  {
   "cell_type": "code",
   "execution_count": 31,
   "metadata": {
    "Collapsed": "false"
   },
   "outputs": [],
   "source": [
    "with rio.open('../data/GlobalFire2016/hitemp.tif','r') as ht:\n",
    "    htmeta = ht.meta\n",
    "    ht_data = ht.read()"
   ]
  },
  {
   "cell_type": "code",
   "execution_count": 32,
   "metadata": {
    "Collapsed": "false"
   },
   "outputs": [
    {
     "data": {
      "text/plain": [
       "{'driver': 'GTiff',\n",
       " 'dtype': 'float64',\n",
       " 'nodata': -9999.0,\n",
       " 'width': 10,\n",
       " 'height': 10,\n",
       " 'count': 1,\n",
       " 'crs': CRS.from_dict(init='epsg:4326'),\n",
       " 'transform': Affine(0.20879999999999937, 0.0, -122.1044,\n",
       "        0.0, 0.20879999999999937, 34.955600000000004)}"
      ]
     },
     "execution_count": 32,
     "metadata": {},
     "output_type": "execute_result"
    }
   ],
   "source": [
    "htmeta"
   ]
  },
  {
   "cell_type": "markdown",
   "metadata": {
    "Collapsed": "false"
   },
   "source": [
    "### Reproject and upsample weather data to fire crs"
   ]
  },
  {
   "cell_type": "code",
   "execution_count": 33,
   "metadata": {
    "Collapsed": "false"
   },
   "outputs": [],
   "source": [
    "with rio.open('../data/GlobalFire2016/Global_fire_atlas_firelinecrop.tif','r') as dst:\n",
    "    firemeta = dst.meta\n",
    "    fireline = dst.read()\n",
    "    fireres = dst.res"
   ]
  },
  {
   "cell_type": "code",
   "execution_count": 34,
   "metadata": {
    "Collapsed": "false"
   },
   "outputs": [
    {
     "data": {
      "text/plain": [
       "Affine(509.9863732168427, 0.0, -13581080.848881941,\n",
       "       0.0, -509.9928633270912, 4411268.819459678)"
      ]
     },
     "execution_count": 34,
     "metadata": {},
     "output_type": "execute_result"
    }
   ],
   "source": [
    "firemeta['transform']"
   ]
  },
  {
   "cell_type": "code",
   "execution_count": 35,
   "metadata": {
    "Collapsed": "false"
   },
   "outputs": [
    {
     "data": {
      "text/plain": [
       "(509.9863732168427, 509.9928633270912)"
      ]
     },
     "execution_count": 35,
     "metadata": {},
     "output_type": "execute_result"
    }
   ],
   "source": [
    "fireres"
   ]
  },
  {
   "cell_type": "code",
   "execution_count": 36,
   "metadata": {
    "Collapsed": "false"
   },
   "outputs": [],
   "source": [
    "src_crs = htmeta['crs']\n",
    "dst_crs = firemeta['crs']"
   ]
  },
  {
   "cell_type": "code",
   "execution_count": 37,
   "metadata": {
    "Collapsed": "false"
   },
   "outputs": [
    {
     "name": "stdout",
     "output_type": "stream",
     "text": [
      "source crs =  EPSG:4326 \n",
      "destination crs = EPSG:3857\n"
     ]
    }
   ],
   "source": [
    "print('source crs = ',src_crs,'\\ndestination crs =',dst_crs)"
   ]
  },
  {
   "cell_type": "markdown",
   "metadata": {
    "Collapsed": "true"
   },
   "source": [
    "#### First Method"
   ]
  },
  {
   "cell_type": "code",
   "execution_count": 322,
   "metadata": {
    "Collapsed": "false"
   },
   "outputs": [
    {
     "name": "stdout",
     "output_type": "stream",
     "text": [
      "(0.20879999999999937, -0.20879999999999937)\n",
      "(509.9863732168427, 509.9928633270912)\n",
      "0.0004094227041458989 -0.0004094174938798752\n",
      "1 10 10\n",
      "(1, 0, 0)\n"
     ]
    }
   ],
   "source": [
    "# From https://www.programcreek.com/python/example/107895/rasterio.warp Example 3\n",
    "# read the source raster\n",
    "with rio.open('../data/GlobalFire2016/hitemp.tif') as src:\n",
    "    Array = src.read()\n",
    "    OldResolution = src.res\n",
    "    print(OldResolution)\n",
    "\n",
    "    #setup output resolution\n",
    "    NewResolution = fireres\n",
    "    print(NewResolution)\n",
    "\n",
    "    # setup the transform to change the resolution\n",
    "    XResRatio = OldResolution[0]/NewResolution[0]\n",
    "    YResRatio = OldResolution[1]/NewResolution[1]\n",
    "    print(XResRatio,YResRatio)\n",
    "    print(Array.shape[0],Array.shape[1],Array.shape[2])\n",
    "    NewArray = np.empty(shape=(Array.shape[0], int(round(Array.shape[1] * XResRatio)), int(round(Array.shape[2] * YResRatio))))\n",
    "    print(NewArray.shape)\n",
    "#     Aff = src.affine\n",
    "#     NewAff = affine.Affine(Aff.a/XResRatio, Aff.b, Aff.c, Aff.d, Aff.e/YResRatio, Aff.f)\n",
    "\n",
    "#     # reproject the raster\n",
    "#     reproject(Array, NewArray, src_transform=Aff, dst_transform=NewAff, src_crs = src.crs, dst_crs = src.crs, resample=Resampling.bilinear)\n",
    "\n",
    "#     # write results to file\n",
    "#     with rasterio.open(OutputRasterFile, 'w', driver=src.driver, \\\n",
    "#                         height=NewArray.shape[1],width=NewArray.shape[2], \\\n",
    "#                         nodata=src.nodata,dtype=str(NewArray.dtype), \\\n",
    "#                         count=src.count,crs=src.crs,transform=NewAff) as dst:\n",
    "#         dst.write(NewArray) "
   ]
  },
  {
   "cell_type": "markdown",
   "metadata": {
    "Collapsed": "true"
   },
   "source": [
    "#### Second Method"
   ]
  },
  {
   "cell_type": "code",
   "execution_count": 333,
   "metadata": {
    "Collapsed": "false"
   },
   "outputs": [],
   "source": [
    "with rio.open('../data/GlobalFire2016/hitemp.tif','r') as ht:\n",
    "    # Calculate the transform using the rasterio warp function\n",
    "    transform2,width,height = calculate_default_transform(ht.crs,dst_crs,ht.width,ht.height,*ht.bounds)\n",
    "\n",
    "    # Set the new meta data for the projected weather raster file\n",
    "    kwargs = ht.meta.copy()\n",
    "    kwargs.update({'crs':dst_crs,\n",
    "                  'transform':transform2,\n",
    "                  'width':width,\n",
    "                  'height':height,\n",
    "                  'compress':'lzw'\n",
    "                  })\n",
    "\n",
    "    # Filename for writing out to\n",
    "    filestring = '../data/GlobalFire2016/Global_fire_atlas_bbweather_2016_reproj.tif'\n",
    "\n",
    "    # write the new raster file by using the rasterio reproject function\n",
    "    with rio.open(filestring,'w',**kwargs) as dst:\n",
    "        for i in range(1, ht.count + 1):\n",
    "            reproject(\n",
    "                source = rio.band(ht,i),\n",
    "                destination=rio.band(dst,i),\n",
    "                src_transform = ht.transform,\n",
    "                src_crs = ht.crs,\n",
    "                dst_transform = transform2,\n",
    "                dst_crs = dst_crs,\n",
    "                resampling=Resampling.lanczos)  "
   ]
  },
  {
   "cell_type": "code",
   "execution_count": 330,
   "metadata": {
    "Collapsed": "false"
   },
   "outputs": [
    {
     "data": {
      "text/plain": [
       "Affine(26133.17024701767, 0.0, -13592599.631618194,\n",
       "       0.0, -26133.17024701767, 4445185.808670735)"
      ]
     },
     "execution_count": 330,
     "metadata": {},
     "output_type": "execute_result"
    }
   ],
   "source": [
    "transform2"
   ]
  },
  {
   "cell_type": "code",
   "execution_count": 331,
   "metadata": {
    "Collapsed": "false"
   },
   "outputs": [
    {
     "data": {
      "text/plain": [
       "(9, 11)"
      ]
     },
     "execution_count": 331,
     "metadata": {},
     "output_type": "execute_result"
    }
   ],
   "source": [
    "width,height"
   ]
  },
  {
   "cell_type": "markdown",
   "metadata": {
    "Collapsed": "false"
   },
   "source": [
    "#### Third Method"
   ]
  },
  {
   "cell_type": "code",
   "execution_count": 47,
   "metadata": {
    "Collapsed": "false"
   },
   "outputs": [
    {
     "ename": "ValueError",
     "evalue": "'driver' is required to write dataset.",
     "output_type": "error",
     "traceback": [
      "\u001b[0;31m---------------------------------------------------------------------------\u001b[0m",
      "\u001b[0;31mValueError\u001b[0m                                Traceback (most recent call last)",
      "\u001b[0;32m<ipython-input-47-7d571e678a59>\u001b[0m in \u001b[0;36m<module>\u001b[0;34m\u001b[0m\n\u001b[1;32m      1\u001b[0m \u001b[0;32mwith\u001b[0m \u001b[0mrio\u001b[0m\u001b[0;34m.\u001b[0m\u001b[0mopen\u001b[0m\u001b[0;34m(\u001b[0m\u001b[0;34m'../data/GlobalFire2016/hitemp.tif'\u001b[0m\u001b[0;34m,\u001b[0m\u001b[0;34m'r'\u001b[0m\u001b[0;34m)\u001b[0m \u001b[0;32mas\u001b[0m \u001b[0msrc\u001b[0m\u001b[0;34m:\u001b[0m\u001b[0;34m\u001b[0m\u001b[0;34m\u001b[0m\u001b[0m\n\u001b[0;32m----> 2\u001b[0;31m     \u001b[0;32mwith\u001b[0m \u001b[0mrio\u001b[0m\u001b[0;34m.\u001b[0m\u001b[0mopen\u001b[0m\u001b[0;34m(\u001b[0m\u001b[0;34m'../data/GlobalFire2016/try.tif'\u001b[0m\u001b[0;34m,\u001b[0m\u001b[0;34m'w'\u001b[0m\u001b[0;34m)\u001b[0m \u001b[0;32mas\u001b[0m \u001b[0mdst\u001b[0m\u001b[0;34m:\u001b[0m\u001b[0;34m\u001b[0m\u001b[0;34m\u001b[0m\u001b[0m\n\u001b[0m\u001b[1;32m      3\u001b[0m         \u001b[0mprint\u001b[0m\u001b[0;34m(\u001b[0m\u001b[0msrc\u001b[0m\u001b[0;34m.\u001b[0m\u001b[0mmeta\u001b[0m\u001b[0;34m,\u001b[0m\u001b[0;34m'\\n'\u001b[0m\u001b[0;34m,\u001b[0m \u001b[0mdst\u001b[0m\u001b[0;34m.\u001b[0m\u001b[0mmeta\u001b[0m\u001b[0;34m)\u001b[0m\u001b[0;34m\u001b[0m\u001b[0;34m\u001b[0m\u001b[0m\n\u001b[1;32m      4\u001b[0m         \u001b[0msrcd\u001b[0m \u001b[0;34m=\u001b[0m \u001b[0mrio\u001b[0m\u001b[0;34m.\u001b[0m\u001b[0mband\u001b[0m\u001b[0;34m(\u001b[0m\u001b[0msrc\u001b[0m\u001b[0;34m,\u001b[0m\u001b[0;36m1\u001b[0m\u001b[0;34m)\u001b[0m\u001b[0;34m\u001b[0m\u001b[0;34m\u001b[0m\u001b[0m\n\u001b[1;32m      5\u001b[0m         \u001b[0mdstd\u001b[0m \u001b[0;34m=\u001b[0m \u001b[0mrio\u001b[0m\u001b[0;34m.\u001b[0m\u001b[0mband\u001b[0m\u001b[0;34m(\u001b[0m\u001b[0mdst\u001b[0m\u001b[0;34m,\u001b[0m\u001b[0;36m1\u001b[0m\u001b[0;34m)\u001b[0m\u001b[0;34m\u001b[0m\u001b[0;34m\u001b[0m\u001b[0m\n",
      "\u001b[0;32m~/anaconda3/lib/python3.7/site-packages/rasterio/env.py\u001b[0m in \u001b[0;36mwrapper\u001b[0;34m(*args, **kwds)\u001b[0m\n\u001b[1;32m    421\u001b[0m \u001b[0;34m\u001b[0m\u001b[0m\n\u001b[1;32m    422\u001b[0m         \u001b[0;32mwith\u001b[0m \u001b[0menv_ctor\u001b[0m\u001b[0;34m(\u001b[0m\u001b[0msession\u001b[0m\u001b[0;34m=\u001b[0m\u001b[0msession\u001b[0m\u001b[0;34m)\u001b[0m\u001b[0;34m:\u001b[0m\u001b[0;34m\u001b[0m\u001b[0;34m\u001b[0m\u001b[0m\n\u001b[0;32m--> 423\u001b[0;31m             \u001b[0;32mreturn\u001b[0m \u001b[0mf\u001b[0m\u001b[0;34m(\u001b[0m\u001b[0;34m*\u001b[0m\u001b[0margs\u001b[0m\u001b[0;34m,\u001b[0m \u001b[0;34m**\u001b[0m\u001b[0mkwds\u001b[0m\u001b[0;34m)\u001b[0m\u001b[0;34m\u001b[0m\u001b[0;34m\u001b[0m\u001b[0m\n\u001b[0m\u001b[1;32m    424\u001b[0m \u001b[0;34m\u001b[0m\u001b[0m\n\u001b[1;32m    425\u001b[0m     \u001b[0;32mreturn\u001b[0m \u001b[0mwrapper\u001b[0m\u001b[0;34m\u001b[0m\u001b[0;34m\u001b[0m\u001b[0m\n",
      "\u001b[0;32m~/anaconda3/lib/python3.7/site-packages/rasterio/__init__.py\u001b[0m in \u001b[0;36mopen\u001b[0;34m(fp, mode, driver, width, height, count, crs, transform, dtype, nodata, sharing, **kwargs)\u001b[0m\n\u001b[1;32m    218\u001b[0m             \u001b[0ms\u001b[0m \u001b[0;34m=\u001b[0m \u001b[0mget_writer_for_path\u001b[0m\u001b[0;34m(\u001b[0m\u001b[0mpath\u001b[0m\u001b[0;34m)\u001b[0m\u001b[0;34m(\u001b[0m\u001b[0mpath\u001b[0m\u001b[0;34m,\u001b[0m \u001b[0mmode\u001b[0m\u001b[0;34m,\u001b[0m \u001b[0mdriver\u001b[0m\u001b[0;34m=\u001b[0m\u001b[0mdriver\u001b[0m\u001b[0;34m,\u001b[0m \u001b[0;34m**\u001b[0m\u001b[0mkwargs\u001b[0m\u001b[0;34m)\u001b[0m\u001b[0;34m\u001b[0m\u001b[0;34m\u001b[0m\u001b[0m\n\u001b[1;32m    219\u001b[0m         \u001b[0;32melif\u001b[0m \u001b[0mmode\u001b[0m\u001b[0;34m.\u001b[0m\u001b[0mstartswith\u001b[0m\u001b[0;34m(\u001b[0m\u001b[0;34m\"w\"\u001b[0m\u001b[0;34m)\u001b[0m\u001b[0;34m:\u001b[0m\u001b[0;34m\u001b[0m\u001b[0;34m\u001b[0m\u001b[0m\n\u001b[0;32m--> 220\u001b[0;31m             s = get_writer_for_driver(driver)(path, mode, driver=driver,\n\u001b[0m\u001b[1;32m    221\u001b[0m                                               \u001b[0mwidth\u001b[0m\u001b[0;34m=\u001b[0m\u001b[0mwidth\u001b[0m\u001b[0;34m,\u001b[0m \u001b[0mheight\u001b[0m\u001b[0;34m=\u001b[0m\u001b[0mheight\u001b[0m\u001b[0;34m,\u001b[0m\u001b[0;34m\u001b[0m\u001b[0;34m\u001b[0m\u001b[0m\n\u001b[1;32m    222\u001b[0m                                               \u001b[0mcount\u001b[0m\u001b[0;34m=\u001b[0m\u001b[0mcount\u001b[0m\u001b[0;34m,\u001b[0m \u001b[0mcrs\u001b[0m\u001b[0;34m=\u001b[0m\u001b[0mcrs\u001b[0m\u001b[0;34m,\u001b[0m\u001b[0;34m\u001b[0m\u001b[0;34m\u001b[0m\u001b[0m\n",
      "\u001b[0;32m~/anaconda3/lib/python3.7/site-packages/rasterio/io.py\u001b[0m in \u001b[0;36mget_writer_for_driver\u001b[0;34m(driver)\u001b[0m\n\u001b[1;32m    180\u001b[0m     \u001b[0;34m\"\"\"Return the writer class appropriate for the specified driver.\"\"\"\u001b[0m\u001b[0;34m\u001b[0m\u001b[0;34m\u001b[0m\u001b[0m\n\u001b[1;32m    181\u001b[0m     \u001b[0;32mif\u001b[0m \u001b[0;32mnot\u001b[0m \u001b[0mdriver\u001b[0m\u001b[0;34m:\u001b[0m\u001b[0;34m\u001b[0m\u001b[0;34m\u001b[0m\u001b[0m\n\u001b[0;32m--> 182\u001b[0;31m         \u001b[0;32mraise\u001b[0m \u001b[0mValueError\u001b[0m\u001b[0;34m(\u001b[0m\u001b[0;34m\"'driver' is required to write dataset.\"\u001b[0m\u001b[0;34m)\u001b[0m\u001b[0;34m\u001b[0m\u001b[0;34m\u001b[0m\u001b[0m\n\u001b[0m\u001b[1;32m    183\u001b[0m     \u001b[0mcls\u001b[0m \u001b[0;34m=\u001b[0m \u001b[0;32mNone\u001b[0m\u001b[0;34m\u001b[0m\u001b[0;34m\u001b[0m\u001b[0m\n\u001b[1;32m    184\u001b[0m     \u001b[0;32mif\u001b[0m \u001b[0mdriver_can_create\u001b[0m\u001b[0;34m(\u001b[0m\u001b[0mdriver\u001b[0m\u001b[0;34m)\u001b[0m\u001b[0;34m:\u001b[0m\u001b[0;34m\u001b[0m\u001b[0;34m\u001b[0m\u001b[0m\n",
      "\u001b[0;31mValueError\u001b[0m: 'driver' is required to write dataset."
     ]
    }
   ],
   "source": [
    "with rio.open('../data/GlobalFire2016/hitemp.tif','r') as src:\n",
    "    with rio.open('../data/GlobalFire2016/try.tif','w') as dst:\n",
    "        print(src.meta,'\\n', dst.meta)\n",
    "        srcd = rio.band(src,1)\n",
    "        dstd = rio.band(dst,1)\n",
    "        reproj = rio.warp.reproject(srcd,resampling=Resampling.lanczos)\n",
    "        \n",
    "#reproj.shape"
   ]
  },
  {
   "cell_type": "markdown",
   "metadata": {
    "Collapsed": "false"
   },
   "source": [
    "#### Check that raster data was projected and written correctly"
   ]
  },
  {
   "cell_type": "code",
   "execution_count": 334,
   "metadata": {
    "Collapsed": "false"
   },
   "outputs": [],
   "source": [
    "with rio.open('../data/GlobalFire2016/Global_fire_atlas_bbweather_2016_reproj.tif','r') as weath_reproj:\n",
    "    wmeta = weath_reproj.meta\n",
    "    weath_data = weath_reproj.read(1)\n",
    "    weath_reproj_crs = weath_reproj.crs"
   ]
  },
  {
   "cell_type": "code",
   "execution_count": 335,
   "metadata": {
    "Collapsed": "false"
   },
   "outputs": [
    {
     "data": {
      "text/plain": [
       "{'driver': 'GTiff',\n",
       " 'dtype': 'float64',\n",
       " 'nodata': -9999.0,\n",
       " 'width': 9,\n",
       " 'height': 11,\n",
       " 'count': 1,\n",
       " 'crs': CRS.from_epsg(3857),\n",
       " 'transform': Affine(26133.17024701767, 0.0, -13592599.631618194,\n",
       "        0.0, -26133.17024701767, 4445185.808670735)}"
      ]
     },
     "execution_count": 335,
     "metadata": {},
     "output_type": "execute_result"
    }
   ],
   "source": [
    "wmeta"
   ]
  },
  {
   "cell_type": "code",
   "execution_count": 336,
   "metadata": {
    "Collapsed": "false"
   },
   "outputs": [
    {
     "data": {
      "text/plain": [
       "array([[        nan,         nan,         nan,         nan,         nan,\n",
       "                nan, 22.12083574, 26.71513555, 34.43556786],\n",
       "       [        nan,         nan,         nan,         nan,         nan,\n",
       "                nan, 26.27560754, 31.07062556, 34.13872538],\n",
       "       [        nan,         nan,         nan,         nan,         nan,\n",
       "                nan, 33.78516946, 31.98732962, 32.88312442],\n",
       "       [        nan,         nan,         nan,         nan,         nan,\n",
       "                nan, 36.86997494, 34.27394019, 35.32338486],\n",
       "       [        nan,         nan,         nan,         nan,         nan,\n",
       "                nan, 35.9898817 , 35.4389317 , 37.29216429],\n",
       "       [18.37889175, 21.28214629, 28.18406536, 33.05718626, 36.26657755,\n",
       "        36.83998397, 35.17057917, 35.72584363, 38.11715838],\n",
       "       [23.52292038, 26.84388752, 28.16032644, 32.81499193, 35.11064274,\n",
       "        35.81992146, 34.34487748, 36.72539329, 38.02653526],\n",
       "       [24.18455133, 24.46899496, 26.99115956, 29.22795839, 35.33454472,\n",
       "        34.16485552, 32.61064592, 36.40238362, 36.64450519],\n",
       "       [20.91986668, 20.01170945, 25.8213624 , 30.19238858, 32.76785154,\n",
       "        32.11307899, 32.81414138, 36.1216729 , 36.76608368],\n",
       "       [21.67543337, 23.31703011, 27.69806302, 25.47667224, 26.58869839,\n",
       "        33.72341915, 35.33385598, 36.04639639, 36.68759997],\n",
       "       [27.78069033, 29.30267886, 27.8925537 , 29.48987201, 30.27484968,\n",
       "        33.44494523, 35.21029247, 35.19639497, 36.50688503]])"
      ]
     },
     "execution_count": 336,
     "metadata": {},
     "output_type": "execute_result"
    }
   ],
   "source": [
    "weath_data"
   ]
  },
  {
   "cell_type": "code",
   "execution_count": 338,
   "metadata": {
    "Collapsed": "false"
   },
   "outputs": [
    {
     "data": {
      "image/png": "[encoded data removed]",
      "text/plain": [
       "<Figure size 432x288 with 2 Axes>"
      ]
     },
     "metadata": {
      "needs_background": "light"
     },
     "output_type": "display_data"
    }
   ],
   "source": [
    "# Plot to test\n",
    "ax = sns.heatmap(weath_data, linewidth=0.5)\n",
    "\n",
    "# Fix the cutoff heatmap issue\n",
    "b, t = plt.ylim() # discover the values for bottom and top\n",
    "b += 0.5 # Add 0.5 to the bottom\n",
    "t -= 0.5 # Subtract 0.5 from the top\n",
    "plt.ylim(b, t) # update the ylim(bottom, top) values\n",
    "\n",
    "plt.show()"
   ]
  }
 ],
 "metadata": {
  "kernelspec": {
   "display_name": "Python 3",
   "language": "python",
   "name": "python3"
  },
  "language_info": {
   "codemirror_mode": {
    "name": "ipython",
    "version": 3
   },
   "file_extension": ".py",
   "mimetype": "text/x-python",
   "name": "python",
   "nbconvert_exporter": "python",
   "pygments_lexer": "ipython3",
   "version": "3.7.6"
  },
  "toc": {
   "base_numbering": 1,
   "nav_menu": {},
   "number_sections": true,
   "sideBar": true,
   "skip_h1_title": false,
   "title_cell": "Table of Contents",
   "title_sidebar": "Contents",
   "toc_cell": false,
   "toc_position": {},
   "toc_section_display": true,
   "toc_window_display": true
  },
  "toc-autonumbering": true,
  "toc-showmarkdowntxt": false,
  "toc-showtags": false
 },
 "nbformat": 4,
 "nbformat_minor": 4
}
