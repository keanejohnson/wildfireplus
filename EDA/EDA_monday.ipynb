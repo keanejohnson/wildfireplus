{
 "cells": [
  {
   "cell_type": "code",
   "execution_count": 1,
   "metadata": {},
   "outputs": [
    {
     "name": "stdout",
     "output_type": "stream",
     "text": [
      "# conda environments:\n",
      "#\n",
      "base                     /opt/anaconda3\n",
      "w210                     /opt/anaconda3/envs/w210\n",
      "w210_geo              *  /opt/anaconda3/envs/w210_geo\n",
      "\n"
     ]
    }
   ],
   "source": [
    "!conda info --envs"
   ]
  },
  {
   "cell_type": "code",
   "execution_count": 3,
   "metadata": {},
   "outputs": [
    {
     "name": "stdout",
     "output_type": "stream",
     "text": [
      "Python Version = 3.7.6 (default, Jan  8 2020, 13:42:34) \n",
      "[Clang 4.0.1 (tags/RELEASE_401/final)]\n",
      "Pandas Version = 1.0.0\n",
      "Geopandas Version = 0.6.1\n",
      "rasterio version = 2.3.3\n"
     ]
    }
   ],
   "source": [
    "import pandas as pd\n",
    "import matplotlib.pyplot as plt\n",
    "import sys\n",
    "import csv\n",
    "import numpy as np\n",
    "import os\n",
    "import sqlite3\n",
    "import copy\n",
    "from dbfread import DBF\n",
    "import geopandas as gpd\n",
    "import fiona\n",
    "import pprint\n",
    "import folium\n",
    "import descartes\n",
    "import rasterio as rio\n",
    "from rasterio.plot import plotting_extent\n",
    "from rasterio.warp import calculate_default_transform, reproject, Resampling\n",
    "from rasterio import features\n",
    "import rasterio.mask\n",
    "import earthpy as et\n",
    "import earthpy.spatial as es\n",
    "import earthpy.plot as ep\n",
    "import pickle\n",
    "from scipy import stats\n",
    "# from raster2xyz.raster2xyz import Raster2xyz\n",
    "\n",
    "print(f\"Python Version = {sys.version}\")\n",
    "print(f\"Pandas Version = {pd.__version__}\")\n",
    "print(f\"Geopandas Version = {gpd.__version__}\")\n",
    "print(f\"rasterio version = {rio._base.gdal_version()}\")"
   ]
  },
  {
   "cell_type": "markdown",
   "metadata": {
    "heading_collapsed": true
   },
   "source": [
    "# Definitions"
   ]
  },
  {
   "cell_type": "markdown",
   "metadata": {
    "hidden": true
   },
   "source": [
    "1) Fine Fuel Moisture Code\n",
    "The Fine Fuel Moisture Code (FFMC) is a numeric rating of the moisture content of litter and other cured fine fuels. This code is an indicator of the relative ease of ignition and the flammability of fine fuel.\n",
    "\n",
    "2) Duff Moisture Code\n",
    "The Duff Moisture Code (DMC) is a numeric rating of the average moisture content of loosely compacted organic layers of moderate depth. This code gives an indication of fuel consumption in moderate duff layers and medium-size woody material.\n",
    "\n",
    "3) Drought Code\n",
    "The Drought Code (DC) is a numeric rating of the average moisture content of deep, compact organic layers. This code is a useful indicator of seasonal drought effects on forest fuels and the amount of smoldering in deep duff layers and large logs.\n",
    "\n",
    "4)  Initial Spread Index\n",
    "The Initial Spread Index (ISI) is a numeric rating of the expected rate of fire spread. It combines the effects of wind and the FFMC on rate of spread without the influence of variable quantities of fuel.\n",
    "\n",
    "https://cwfis.cfs.nrcan.gc.ca/background/summary/fwi\n",
    "\n",
    "5) Temp\n",
    "Temperature in Celsius degrees\n",
    "\n",
    "6) RH\n",
    "Relative humidity in %\n",
    "\n",
    "7) Wind\n",
    "Wind speed in km/h\n",
    "\n",
    "8) Rain\n",
    "Outside rain in mm/m2\n",
    "\n",
    "9) Area\n",
    "The burned area of the forest (in ha), ha = hectare = 2.47 acres\n",
    "\n",
    "10) X\n",
    "x-axis spatial coordinate within the Montesinho park map: 1 to 9 2\n",
    "\n",
    "11) Y\n",
    "y-axis spatial coordinate within the Montesinho park map: 2 to 9 3"
   ]
  },
  {
   "cell_type": "markdown",
   "metadata": {
    "hidden": true
   },
   "source": [
    "Literature:\n",
    "\n",
    "https://news.uci.edu/2019/09/17/uci-team-uses-machine-learning-to-help-tell-which-wildfires-will-burn-out-of-control/\n",
    "\n",
    "In the original paper (Portugal - Montesinho fires), the best result (predicting burned area) was only using the 4 weather conditions: RH/Wind/Rain/Temp, and an SVM.\n",
    "\n",
    "This: https://datasetsearch.research.google.com/search?query=wildfire%20area&docid=fchFFzqh0O3qjX3PAAAAAA%3D%3D has georeferenced and date/time referenced with areas. Could combine with weather data for those dates/times."
   ]
  },
  {
   "cell_type": "markdown",
   "metadata": {},
   "source": [
    "# Query shape of datasets, type, feature names and how they work together"
   ]
  },
  {
   "cell_type": "code",
   "execution_count": 4,
   "metadata": {},
   "outputs": [
    {
     "data": {
      "text/plain": [
       "'/MIDS/W210_Capstone/wildfireplus/EDA'"
      ]
     },
     "execution_count": 4,
     "metadata": {},
     "output_type": "execute_result"
    }
   ],
   "source": [
    "os.getcwd()"
   ]
  },
  {
   "cell_type": "markdown",
   "metadata": {
    "heading_collapsed": true
   },
   "source": [
    "## Montesinho"
   ]
  },
  {
   "cell_type": "code",
   "execution_count": null,
   "metadata": {
    "hidden": true
   },
   "outputs": [],
   "source": [
    "# montesinho = pd.read_csv('../data/Montesinho/forestfires.csv')"
   ]
  },
  {
   "cell_type": "code",
   "execution_count": null,
   "metadata": {
    "hidden": true
   },
   "outputs": [],
   "source": [
    "# print(montesinho.shape)\n",
    "# montesinho.head()"
   ]
  },
  {
   "cell_type": "markdown",
   "metadata": {
    "heading_collapsed": true
   },
   "source": [
    "## US Fires 1.88 Million"
   ]
  },
  {
   "cell_type": "code",
   "execution_count": 65,
   "metadata": {
    "hidden": true
   },
   "outputs": [],
   "source": [
    "db = sqlite3.connect('../data/188millionuswildfires/FPA_FOD_20170508.sqlite')"
   ]
  },
  {
   "cell_type": "code",
   "execution_count": 66,
   "metadata": {
    "hidden": true
   },
   "outputs": [
    {
     "data": {
      "text/plain": [
       "[('spatial_ref_sys',),\n",
       " ('spatialite_history',),\n",
       " ('sqlite_sequence',),\n",
       " ('geometry_columns',),\n",
       " ('spatial_ref_sys_aux',),\n",
       " ('views_geometry_columns',),\n",
       " ('virts_geometry_columns',),\n",
       " ('geometry_columns_statistics',),\n",
       " ('views_geometry_columns_statistics',),\n",
       " ('virts_geometry_columns_statistics',),\n",
       " ('geometry_columns_field_infos',),\n",
       " ('views_geometry_columns_field_infos',),\n",
       " ('virts_geometry_columns_field_infos',),\n",
       " ('geometry_columns_time',),\n",
       " ('geometry_columns_auth',),\n",
       " ('views_geometry_columns_auth',),\n",
       " ('virts_geometry_columns_auth',),\n",
       " ('sql_statements_log',),\n",
       " ('SpatialIndex',),\n",
       " ('ElementaryGeometries',),\n",
       " ('KNN',),\n",
       " ('Fires',),\n",
       " ('idx_Fires_Shape',),\n",
       " ('idx_Fires_Shape_node',),\n",
       " ('idx_Fires_Shape_rowid',),\n",
       " ('idx_Fires_Shape_parent',),\n",
       " ('NWCG_UnitIDActive_20170109',)]"
      ]
     },
     "execution_count": 66,
     "metadata": {},
     "output_type": "execute_result"
    }
   ],
   "source": [
    "cursorobj = db.cursor()\n",
    "cursorobj.execute('SELECT name from sqlite_master where type = \"table\"')\n",
    "tables1 = cursorobj.fetchall()\n",
    "tables1"
   ]
  },
  {
   "cell_type": "code",
   "execution_count": 67,
   "metadata": {
    "hidden": true
   },
   "outputs": [
    {
     "data": {
      "text/plain": [
       "[('spatial_ref_sys',),\n",
       " ('spatialite_history',),\n",
       " ('sqlite_sequence',),\n",
       " ('geometry_columns',),\n",
       " ('spatial_ref_sys_aux',),\n",
       " ('views_geometry_columns',),\n",
       " ('virts_geometry_columns',),\n",
       " ('geometry_columns_statistics',),\n",
       " ('views_geometry_columns_statistics',),\n",
       " ('virts_geometry_columns_statistics',),\n",
       " ('geometry_columns_field_infos',),\n",
       " ('views_geometry_columns_field_infos',),\n",
       " ('virts_geometry_columns_field_infos',),\n",
       " ('geometry_columns_time',),\n",
       " ('geometry_columns_auth',),\n",
       " ('views_geometry_columns_auth',),\n",
       " ('virts_geometry_columns_auth',),\n",
       " ('sql_statements_log',),\n",
       " ('Fires',),\n",
       " ('idx_Fires_Shape_node',),\n",
       " ('idx_Fires_Shape_rowid',),\n",
       " ('idx_Fires_Shape_parent',),\n",
       " ('NWCG_UnitIDActive_20170109',)]"
      ]
     },
     "execution_count": 67,
     "metadata": {},
     "output_type": "execute_result"
    }
   ],
   "source": [
    "tables2 = copy.deepcopy(tables1)\n",
    "del tables2[18:21]\n",
    "tables2\n",
    "del tables2[19]\n",
    "tables2"
   ]
  },
  {
   "cell_type": "code",
   "execution_count": 68,
   "metadata": {
    "hidden": true
   },
   "outputs": [
    {
     "name": "stdout",
     "output_type": "stream",
     "text": [
      "('spatial_ref_sys',) ['srid', 'auth_name', 'auth_srid', 'ref_sys_name', 'proj4text', 'srtext']\n",
      "('spatialite_history',) ['event_id', 'table_name', 'geometry_column', 'event', 'timestamp', 'ver_sqlite', 'ver_splite']\n",
      "('sqlite_sequence',) ['name', 'seq']\n",
      "('geometry_columns',) ['f_table_name', 'f_geometry_column', 'geometry_type', 'coord_dimension', 'srid', 'spatial_index_enabled']\n",
      "('spatial_ref_sys_aux',) ['srid', 'is_geographic', 'has_flipped_axes', 'spheroid', 'prime_meridian', 'datum', 'projection', 'unit', 'axis_1_name', 'axis_1_orientation', 'axis_2_name', 'axis_2_orientation']\n",
      "('views_geometry_columns',) ['view_name', 'view_geometry', 'view_rowid', 'f_table_name', 'f_geometry_column', 'read_only']\n",
      "('virts_geometry_columns',) ['virt_name', 'virt_geometry', 'geometry_type', 'coord_dimension', 'srid']\n",
      "('geometry_columns_statistics',) ['f_table_name', 'f_geometry_column', 'last_verified', 'row_count', 'extent_min_x', 'extent_min_y', 'extent_max_x', 'extent_max_y']\n",
      "('views_geometry_columns_statistics',) ['view_name', 'view_geometry', 'last_verified', 'row_count', 'extent_min_x', 'extent_min_y', 'extent_max_x', 'extent_max_y']\n",
      "('virts_geometry_columns_statistics',) ['virt_name', 'virt_geometry', 'last_verified', 'row_count', 'extent_min_x', 'extent_min_y', 'extent_max_x', 'extent_max_y']\n",
      "('geometry_columns_field_infos',) ['f_table_name', 'f_geometry_column', 'ordinal', 'column_name', 'null_values', 'integer_values', 'double_values', 'text_values', 'blob_values', 'max_size', 'integer_min', 'integer_max', 'double_min', 'double_max']\n",
      "('views_geometry_columns_field_infos',) ['view_name', 'view_geometry', 'ordinal', 'column_name', 'null_values', 'integer_values', 'double_values', 'text_values', 'blob_values', 'max_size', 'integer_min', 'integer_max', 'double_min', 'double_max']\n",
      "('virts_geometry_columns_field_infos',) ['virt_name', 'virt_geometry', 'ordinal', 'column_name', 'null_values', 'integer_values', 'double_values', 'text_values', 'blob_values', 'max_size', 'integer_min', 'integer_max', 'double_min', 'double_max']\n",
      "('geometry_columns_time',) ['f_table_name', 'f_geometry_column', 'last_insert', 'last_update', 'last_delete']\n",
      "('geometry_columns_auth',) ['f_table_name', 'f_geometry_column', 'read_only', 'hidden']\n",
      "('views_geometry_columns_auth',) ['view_name', 'view_geometry', 'hidden']\n",
      "('virts_geometry_columns_auth',) ['virt_name', 'virt_geometry', 'hidden']\n",
      "('sql_statements_log',) ['id', 'time_start', 'time_end', 'user_agent', 'sql_statement', 'success', 'error_cause']\n",
      "('Fires',) ['OBJECTID', 'FOD_ID', 'FPA_ID', 'SOURCE_SYSTEM_TYPE', 'SOURCE_SYSTEM', 'NWCG_REPORTING_AGENCY', 'NWCG_REPORTING_UNIT_ID', 'NWCG_REPORTING_UNIT_NAME', 'SOURCE_REPORTING_UNIT', 'SOURCE_REPORTING_UNIT_NAME', 'LOCAL_FIRE_REPORT_ID', 'LOCAL_INCIDENT_ID', 'FIRE_CODE', 'FIRE_NAME', 'ICS_209_INCIDENT_NUMBER', 'ICS_209_NAME', 'MTBS_ID', 'MTBS_FIRE_NAME', 'COMPLEX_NAME', 'FIRE_YEAR', 'DISCOVERY_DATE', 'DISCOVERY_DOY', 'DISCOVERY_TIME', 'STAT_CAUSE_CODE', 'STAT_CAUSE_DESCR', 'CONT_DATE', 'CONT_DOY', 'CONT_TIME', 'FIRE_SIZE', 'FIRE_SIZE_CLASS', 'LATITUDE', 'LONGITUDE', 'OWNER_CODE', 'OWNER_DESCR', 'STATE', 'COUNTY', 'FIPS_CODE', 'FIPS_NAME', 'Shape']\n",
      "('idx_Fires_Shape_node',) ['nodeno', 'data']\n",
      "('idx_Fires_Shape_rowid',) ['rowid', 'nodeno']\n",
      "('idx_Fires_Shape_parent',) ['nodeno', 'parentnode']\n",
      "('NWCG_UnitIDActive_20170109',) ['OBJECTID', 'UnitId', 'GeographicArea', 'Gacc', 'WildlandRole', 'UnitType', 'Department', 'Agency', 'Parent', 'Country', 'State', 'Code', 'Name']\n"
     ]
    }
   ],
   "source": [
    "for table in tables2:\n",
    "    query = \"SELECT * FROM \" + table[0]\n",
    "    #print(query)\n",
    "    cursorobj.execute(query)\n",
    "    names = [description[0] for description in cursorobj.description]\n",
    "    print(table, names)"
   ]
  },
  {
   "cell_type": "code",
   "execution_count": 69,
   "metadata": {
    "hidden": true
   },
   "outputs": [],
   "source": [
    "usfires2 = pd.read_sql_query(\"SELECT datetime(DISCOVERY_DATE) as DISCOVERY_DATE, \\\n",
    "                             DISCOVERY_TIME, FIRE_SIZE, LATITUDE, LONGITUDE, \\\n",
    "                             datetime(CONT_DATE) as CONT_DATE, CONT_TIME \\\n",
    "                             FROM Fires\",db)"
   ]
  },
  {
   "cell_type": "code",
   "execution_count": 70,
   "metadata": {
    "hidden": true
   },
   "outputs": [
    {
     "data": {
      "text/plain": [
       "(1880465, 7)"
      ]
     },
     "execution_count": 70,
     "metadata": {},
     "output_type": "execute_result"
    }
   ],
   "source": [
    "usfires2.shape"
   ]
  },
  {
   "cell_type": "code",
   "execution_count": 71,
   "metadata": {
    "hidden": true
   },
   "outputs": [
    {
     "data": {
      "text/html": [
       "<div>\n",
       "<style scoped>\n",
       "    .dataframe tbody tr th:only-of-type {\n",
       "        vertical-align: middle;\n",
       "    }\n",
       "\n",
       "    .dataframe tbody tr th {\n",
       "        vertical-align: top;\n",
       "    }\n",
       "\n",
       "    .dataframe thead th {\n",
       "        text-align: right;\n",
       "    }\n",
       "</style>\n",
       "<table border=\"1\" class=\"dataframe\">\n",
       "  <thead>\n",
       "    <tr style=\"text-align: right;\">\n",
       "      <th></th>\n",
       "      <th>DISCOVERY_DATE</th>\n",
       "      <th>DISCOVERY_TIME</th>\n",
       "      <th>FIRE_SIZE</th>\n",
       "      <th>LATITUDE</th>\n",
       "      <th>LONGITUDE</th>\n",
       "      <th>CONT_DATE</th>\n",
       "      <th>CONT_TIME</th>\n",
       "    </tr>\n",
       "  </thead>\n",
       "  <tbody>\n",
       "    <tr>\n",
       "      <th>0</th>\n",
       "      <td>2005-02-02 00:00:00</td>\n",
       "      <td>1300</td>\n",
       "      <td>0.10</td>\n",
       "      <td>40.036944</td>\n",
       "      <td>-121.005833</td>\n",
       "      <td>2005-02-02 00:00:00</td>\n",
       "      <td>1730</td>\n",
       "    </tr>\n",
       "    <tr>\n",
       "      <th>1</th>\n",
       "      <td>2004-05-12 00:00:00</td>\n",
       "      <td>0845</td>\n",
       "      <td>0.25</td>\n",
       "      <td>38.933056</td>\n",
       "      <td>-120.404444</td>\n",
       "      <td>2004-05-12 00:00:00</td>\n",
       "      <td>1530</td>\n",
       "    </tr>\n",
       "    <tr>\n",
       "      <th>2</th>\n",
       "      <td>2004-05-31 00:00:00</td>\n",
       "      <td>1921</td>\n",
       "      <td>0.10</td>\n",
       "      <td>38.984167</td>\n",
       "      <td>-120.735556</td>\n",
       "      <td>2004-05-31 00:00:00</td>\n",
       "      <td>2024</td>\n",
       "    </tr>\n",
       "    <tr>\n",
       "      <th>3</th>\n",
       "      <td>2004-06-28 00:00:00</td>\n",
       "      <td>1600</td>\n",
       "      <td>0.10</td>\n",
       "      <td>38.559167</td>\n",
       "      <td>-119.913333</td>\n",
       "      <td>2004-07-03 00:00:00</td>\n",
       "      <td>1400</td>\n",
       "    </tr>\n",
       "    <tr>\n",
       "      <th>4</th>\n",
       "      <td>2004-06-28 00:00:00</td>\n",
       "      <td>1600</td>\n",
       "      <td>0.10</td>\n",
       "      <td>38.559167</td>\n",
       "      <td>-119.933056</td>\n",
       "      <td>2004-07-03 00:00:00</td>\n",
       "      <td>1200</td>\n",
       "    </tr>\n",
       "  </tbody>\n",
       "</table>\n",
       "</div>"
      ],
      "text/plain": [
       "        DISCOVERY_DATE DISCOVERY_TIME  FIRE_SIZE   LATITUDE   LONGITUDE  \\\n",
       "0  2005-02-02 00:00:00           1300       0.10  40.036944 -121.005833   \n",
       "1  2004-05-12 00:00:00           0845       0.25  38.933056 -120.404444   \n",
       "2  2004-05-31 00:00:00           1921       0.10  38.984167 -120.735556   \n",
       "3  2004-06-28 00:00:00           1600       0.10  38.559167 -119.913333   \n",
       "4  2004-06-28 00:00:00           1600       0.10  38.559167 -119.933056   \n",
       "\n",
       "             CONT_DATE CONT_TIME  \n",
       "0  2005-02-02 00:00:00      1730  \n",
       "1  2004-05-12 00:00:00      1530  \n",
       "2  2004-05-31 00:00:00      2024  \n",
       "3  2004-07-03 00:00:00      1400  \n",
       "4  2004-07-03 00:00:00      1200  "
      ]
     },
     "execution_count": 71,
     "metadata": {},
     "output_type": "execute_result"
    }
   ],
   "source": [
    "usfires2.head()"
   ]
  },
  {
   "cell_type": "code",
   "execution_count": 72,
   "metadata": {},
   "outputs": [],
   "source": [
    "usfires2[\"DISCOVERY_DATE\"] = pd.to_datetime(usfires2[\"DISCOVERY_DATE\"])"
   ]
  },
  {
   "cell_type": "code",
   "execution_count": 73,
   "metadata": {},
   "outputs": [],
   "source": [
    "usfires2[\"CONT_DATE\"] = pd.to_datetime(usfires2[\"CONT_DATE\"])"
   ]
  },
  {
   "cell_type": "code",
   "execution_count": 74,
   "metadata": {},
   "outputs": [],
   "source": [
    "usfires2['days'] = usfires2.apply(lambda row: row.CONT_DATE - \n",
    "                                  row.DISCOVERY_DATE, axis = 1) "
   ]
  },
  {
   "cell_type": "code",
   "execution_count": 77,
   "metadata": {},
   "outputs": [],
   "source": [
    "usfires2['year'] = usfires2[\"DISCOVERY_DATE\"].apply(lambda x: x.year)"
   ]
  },
  {
   "cell_type": "code",
   "execution_count": 78,
   "metadata": {
    "hidden": true
   },
   "outputs": [
    {
     "data": {
      "text/plain": [
       "(1880465, 9)"
      ]
     },
     "execution_count": 78,
     "metadata": {},
     "output_type": "execute_result"
    }
   ],
   "source": [
    "usfires2.shape"
   ]
  },
  {
   "cell_type": "code",
   "execution_count": 79,
   "metadata": {
    "hidden": true
   },
   "outputs": [
    {
     "data": {
      "text/html": [
       "<div>\n",
       "<style scoped>\n",
       "    .dataframe tbody tr th:only-of-type {\n",
       "        vertical-align: middle;\n",
       "    }\n",
       "\n",
       "    .dataframe tbody tr th {\n",
       "        vertical-align: top;\n",
       "    }\n",
       "\n",
       "    .dataframe thead th {\n",
       "        text-align: right;\n",
       "    }\n",
       "</style>\n",
       "<table border=\"1\" class=\"dataframe\">\n",
       "  <thead>\n",
       "    <tr style=\"text-align: right;\">\n",
       "      <th></th>\n",
       "      <th>DISCOVERY_DATE</th>\n",
       "      <th>DISCOVERY_TIME</th>\n",
       "      <th>FIRE_SIZE</th>\n",
       "      <th>LATITUDE</th>\n",
       "      <th>LONGITUDE</th>\n",
       "      <th>CONT_DATE</th>\n",
       "      <th>CONT_TIME</th>\n",
       "      <th>days</th>\n",
       "      <th>year</th>\n",
       "    </tr>\n",
       "  </thead>\n",
       "  <tbody>\n",
       "    <tr>\n",
       "      <th>0</th>\n",
       "      <td>2005-02-02</td>\n",
       "      <td>1300</td>\n",
       "      <td>0.10</td>\n",
       "      <td>40.036944</td>\n",
       "      <td>-121.005833</td>\n",
       "      <td>2005-02-02</td>\n",
       "      <td>1730</td>\n",
       "      <td>0 days</td>\n",
       "      <td>2005</td>\n",
       "    </tr>\n",
       "    <tr>\n",
       "      <th>1</th>\n",
       "      <td>2004-05-12</td>\n",
       "      <td>0845</td>\n",
       "      <td>0.25</td>\n",
       "      <td>38.933056</td>\n",
       "      <td>-120.404444</td>\n",
       "      <td>2004-05-12</td>\n",
       "      <td>1530</td>\n",
       "      <td>0 days</td>\n",
       "      <td>2004</td>\n",
       "    </tr>\n",
       "    <tr>\n",
       "      <th>2</th>\n",
       "      <td>2004-05-31</td>\n",
       "      <td>1921</td>\n",
       "      <td>0.10</td>\n",
       "      <td>38.984167</td>\n",
       "      <td>-120.735556</td>\n",
       "      <td>2004-05-31</td>\n",
       "      <td>2024</td>\n",
       "      <td>0 days</td>\n",
       "      <td>2004</td>\n",
       "    </tr>\n",
       "    <tr>\n",
       "      <th>3</th>\n",
       "      <td>2004-06-28</td>\n",
       "      <td>1600</td>\n",
       "      <td>0.10</td>\n",
       "      <td>38.559167</td>\n",
       "      <td>-119.913333</td>\n",
       "      <td>2004-07-03</td>\n",
       "      <td>1400</td>\n",
       "      <td>5 days</td>\n",
       "      <td>2004</td>\n",
       "    </tr>\n",
       "    <tr>\n",
       "      <th>4</th>\n",
       "      <td>2004-06-28</td>\n",
       "      <td>1600</td>\n",
       "      <td>0.10</td>\n",
       "      <td>38.559167</td>\n",
       "      <td>-119.933056</td>\n",
       "      <td>2004-07-03</td>\n",
       "      <td>1200</td>\n",
       "      <td>5 days</td>\n",
       "      <td>2004</td>\n",
       "    </tr>\n",
       "  </tbody>\n",
       "</table>\n",
       "</div>"
      ],
      "text/plain": [
       "  DISCOVERY_DATE DISCOVERY_TIME  FIRE_SIZE   LATITUDE   LONGITUDE  CONT_DATE  \\\n",
       "0     2005-02-02           1300       0.10  40.036944 -121.005833 2005-02-02   \n",
       "1     2004-05-12           0845       0.25  38.933056 -120.404444 2004-05-12   \n",
       "2     2004-05-31           1921       0.10  38.984167 -120.735556 2004-05-31   \n",
       "3     2004-06-28           1600       0.10  38.559167 -119.913333 2004-07-03   \n",
       "4     2004-06-28           1600       0.10  38.559167 -119.933056 2004-07-03   \n",
       "\n",
       "  CONT_TIME   days  year  \n",
       "0      1730 0 days  2005  \n",
       "1      1530 0 days  2004  \n",
       "2      2024 0 days  2004  \n",
       "3      1400 5 days  2004  \n",
       "4      1200 5 days  2004  "
      ]
     },
     "execution_count": 79,
     "metadata": {},
     "output_type": "execute_result"
    }
   ],
   "source": [
    "usfires2.head()"
   ]
  },
  {
   "cell_type": "code",
   "execution_count": 80,
   "metadata": {
    "hidden": true
   },
   "outputs": [],
   "source": [
    "usfires2['logArea'] = usfires2.apply(lambda row: np.log(row.FIRE_SIZE+1), axis=1)"
   ]
  },
  {
   "cell_type": "code",
   "execution_count": 81,
   "metadata": {
    "hidden": true
   },
   "outputs": [
    {
     "data": {
      "image/png": "[encoded data removed]",
      "text/plain": [
       "<Figure size 1152x576 with 2 Axes>"
      ]
     },
     "metadata": {
      "needs_background": "light"
     },
     "output_type": "display_data"
    }
   ],
   "source": [
    "fig,axes = plt.subplots(1,2,figsize=(16,8))\n",
    "usfires2.hist(column = \"FIRE_SIZE\", bins=100, ax = axes[0])\n",
    "usfires2.hist(column = 'logArea', bins=100, ax=axes[1])\n",
    "plt.show()"
   ]
  },
  {
   "cell_type": "code",
   "execution_count": 40,
   "metadata": {
    "hidden": true
   },
   "outputs": [],
   "source": [
    "# geomac = sqlite3.connect('../data/188millionuswildfires/FPA_FOD_20170508.sqlite')"
   ]
  },
  {
   "cell_type": "code",
   "execution_count": 82,
   "metadata": {},
   "outputs": [
    {
     "data": {
      "text/html": [
       "<div>\n",
       "<style scoped>\n",
       "    .dataframe tbody tr th:only-of-type {\n",
       "        vertical-align: middle;\n",
       "    }\n",
       "\n",
       "    .dataframe tbody tr th {\n",
       "        vertical-align: top;\n",
       "    }\n",
       "\n",
       "    .dataframe thead th {\n",
       "        text-align: right;\n",
       "    }\n",
       "</style>\n",
       "<table border=\"1\" class=\"dataframe\">\n",
       "  <thead>\n",
       "    <tr style=\"text-align: right;\">\n",
       "      <th></th>\n",
       "      <th>FIRE_SIZE</th>\n",
       "      <th>LATITUDE</th>\n",
       "      <th>LONGITUDE</th>\n",
       "      <th>days</th>\n",
       "      <th>year</th>\n",
       "      <th>logArea</th>\n",
       "    </tr>\n",
       "  </thead>\n",
       "  <tbody>\n",
       "    <tr>\n",
       "      <th>count</th>\n",
       "      <td>1.880465e+06</td>\n",
       "      <td>1.880465e+06</td>\n",
       "      <td>1.880465e+06</td>\n",
       "      <td>988934</td>\n",
       "      <td>1.880465e+06</td>\n",
       "      <td>1.880465e+06</td>\n",
       "    </tr>\n",
       "    <tr>\n",
       "      <th>mean</th>\n",
       "      <td>7.452016e+01</td>\n",
       "      <td>3.678121e+01</td>\n",
       "      <td>-9.570494e+01</td>\n",
       "      <td>1 days 05:36:33.612920</td>\n",
       "      <td>2.003710e+03</td>\n",
       "      <td>1.077038e+00</td>\n",
       "    </tr>\n",
       "    <tr>\n",
       "      <th>std</th>\n",
       "      <td>2.497598e+03</td>\n",
       "      <td>6.139031e+00</td>\n",
       "      <td>1.671694e+01</td>\n",
       "      <td>15 days 14:51:12.093534</td>\n",
       "      <td>6.663096e+00</td>\n",
       "      <td>1.343515e+00</td>\n",
       "    </tr>\n",
       "    <tr>\n",
       "      <th>min</th>\n",
       "      <td>1.000000e-05</td>\n",
       "      <td>1.793972e+01</td>\n",
       "      <td>-1.788026e+02</td>\n",
       "      <td>0 days 00:00:00</td>\n",
       "      <td>1.992000e+03</td>\n",
       "      <td>9.999950e-06</td>\n",
       "    </tr>\n",
       "    <tr>\n",
       "      <th>25%</th>\n",
       "      <td>1.000000e-01</td>\n",
       "      <td>3.281860e+01</td>\n",
       "      <td>-1.103635e+02</td>\n",
       "      <td>0 days 00:00:00</td>\n",
       "      <td>1.998000e+03</td>\n",
       "      <td>9.531018e-02</td>\n",
       "    </tr>\n",
       "    <tr>\n",
       "      <th>50%</th>\n",
       "      <td>1.000000e+00</td>\n",
       "      <td>3.545250e+01</td>\n",
       "      <td>-9.204304e+01</td>\n",
       "      <td>0 days 00:00:00</td>\n",
       "      <td>2.004000e+03</td>\n",
       "      <td>6.931472e-01</td>\n",
       "    </tr>\n",
       "    <tr>\n",
       "      <th>75%</th>\n",
       "      <td>3.300000e+00</td>\n",
       "      <td>4.082720e+01</td>\n",
       "      <td>-8.229760e+01</td>\n",
       "      <td>0 days 00:00:00</td>\n",
       "      <td>2.009000e+03</td>\n",
       "      <td>1.458615e+00</td>\n",
       "    </tr>\n",
       "    <tr>\n",
       "      <th>max</th>\n",
       "      <td>6.069450e+05</td>\n",
       "      <td>7.033060e+01</td>\n",
       "      <td>-6.525694e+01</td>\n",
       "      <td>4018 days 00:00:00</td>\n",
       "      <td>2.015000e+03</td>\n",
       "      <td>1.331620e+01</td>\n",
       "    </tr>\n",
       "  </tbody>\n",
       "</table>\n",
       "</div>"
      ],
      "text/plain": [
       "          FIRE_SIZE      LATITUDE     LONGITUDE                     days  \\\n",
       "count  1.880465e+06  1.880465e+06  1.880465e+06                   988934   \n",
       "mean   7.452016e+01  3.678121e+01 -9.570494e+01   1 days 05:36:33.612920   \n",
       "std    2.497598e+03  6.139031e+00  1.671694e+01  15 days 14:51:12.093534   \n",
       "min    1.000000e-05  1.793972e+01 -1.788026e+02          0 days 00:00:00   \n",
       "25%    1.000000e-01  3.281860e+01 -1.103635e+02          0 days 00:00:00   \n",
       "50%    1.000000e+00  3.545250e+01 -9.204304e+01          0 days 00:00:00   \n",
       "75%    3.300000e+00  4.082720e+01 -8.229760e+01          0 days 00:00:00   \n",
       "max    6.069450e+05  7.033060e+01 -6.525694e+01       4018 days 00:00:00   \n",
       "\n",
       "               year       logArea  \n",
       "count  1.880465e+06  1.880465e+06  \n",
       "mean   2.003710e+03  1.077038e+00  \n",
       "std    6.663096e+00  1.343515e+00  \n",
       "min    1.992000e+03  9.999950e-06  \n",
       "25%    1.998000e+03  9.531018e-02  \n",
       "50%    2.004000e+03  6.931472e-01  \n",
       "75%    2.009000e+03  1.458615e+00  \n",
       "max    2.015000e+03  1.331620e+01  "
      ]
     },
     "execution_count": 82,
     "metadata": {},
     "output_type": "execute_result"
    }
   ],
   "source": [
    "usfires2.describe()"
   ]
  },
  {
   "cell_type": "code",
   "execution_count": 83,
   "metadata": {},
   "outputs": [
    {
     "data": {
      "text/plain": [
       "0          0.10\n",
       "1          0.25\n",
       "2          0.10\n",
       "3          0.10\n",
       "4          0.10\n",
       "           ... \n",
       "1880460    0.01\n",
       "1880461    0.20\n",
       "1880462    0.10\n",
       "1880463    2.00\n",
       "1880464    0.10\n",
       "Name: FIRE_SIZE, Length: 1880465, dtype: float64"
      ]
     },
     "execution_count": 83,
     "metadata": {},
     "output_type": "execute_result"
    }
   ],
   "source": [
    "usfires2.FIRE_SIZE"
   ]
  },
  {
   "cell_type": "code",
   "execution_count": 88,
   "metadata": {},
   "outputs": [
    {
     "data": {
      "image/png": "[encoded data removed]",
      "text/plain": [
       "<Figure size 640x640 with 1 Axes>"
      ]
     },
     "metadata": {
      "needs_background": "light"
     },
     "output_type": "display_data"
    }
   ],
   "source": [
    "x = usfires2.FIRE_SIZE\n",
    "y = usfires2.DISCOVERY_DATE\n",
    "\n",
    "plt.figure(figsize=(8, 8), dpi=80)\n",
    "plt.scatter(x,y)\n",
    "plt.xlabel('Fire Size')\n",
    "plt.ylabel('Date')\n",
    "plt.ylim(min(usfires2['DISCOVERY_DATE']), max(usfires2['DISCOVERY_DATE']),500)\n",
    "plt.show()"
   ]
  },
  {
   "cell_type": "code",
   "execution_count": 85,
   "metadata": {},
   "outputs": [],
   "source": [
    "grouped_data = usfires2.groupby('DISCOVERY_DATE').agg({'FIRE_SIZE': ['mean', 'min', 'max']})"
   ]
  },
  {
   "cell_type": "code",
   "execution_count": 86,
   "metadata": {},
   "outputs": [
    {
     "data": {
      "text/html": [
       "<div>\n",
       "<style scoped>\n",
       "    .dataframe tbody tr th:only-of-type {\n",
       "        vertical-align: middle;\n",
       "    }\n",
       "\n",
       "    .dataframe tbody tr th {\n",
       "        vertical-align: top;\n",
       "    }\n",
       "\n",
       "    .dataframe thead tr th {\n",
       "        text-align: left;\n",
       "    }\n",
       "\n",
       "    .dataframe thead tr:last-of-type th {\n",
       "        text-align: right;\n",
       "    }\n",
       "</style>\n",
       "<table border=\"1\" class=\"dataframe\">\n",
       "  <thead>\n",
       "    <tr>\n",
       "      <th></th>\n",
       "      <th colspan=\"3\" halign=\"left\">FIRE_SIZE</th>\n",
       "    </tr>\n",
       "    <tr>\n",
       "      <th></th>\n",
       "      <th>mean</th>\n",
       "      <th>min</th>\n",
       "      <th>max</th>\n",
       "    </tr>\n",
       "    <tr>\n",
       "      <th>DISCOVERY_DATE</th>\n",
       "      <th></th>\n",
       "      <th></th>\n",
       "      <th></th>\n",
       "    </tr>\n",
       "  </thead>\n",
       "  <tbody>\n",
       "    <tr>\n",
       "      <th>1992-01-01</th>\n",
       "      <td>11.662713</td>\n",
       "      <td>0.01</td>\n",
       "      <td>400.0</td>\n",
       "    </tr>\n",
       "    <tr>\n",
       "      <th>1992-01-02</th>\n",
       "      <td>3.831522</td>\n",
       "      <td>0.10</td>\n",
       "      <td>45.0</td>\n",
       "    </tr>\n",
       "    <tr>\n",
       "      <th>1992-01-03</th>\n",
       "      <td>13.670698</td>\n",
       "      <td>0.10</td>\n",
       "      <td>175.0</td>\n",
       "    </tr>\n",
       "    <tr>\n",
       "      <th>1992-01-04</th>\n",
       "      <td>18.404412</td>\n",
       "      <td>0.10</td>\n",
       "      <td>300.0</td>\n",
       "    </tr>\n",
       "    <tr>\n",
       "      <th>1992-01-05</th>\n",
       "      <td>10.980000</td>\n",
       "      <td>0.02</td>\n",
       "      <td>74.0</td>\n",
       "    </tr>\n",
       "    <tr>\n",
       "      <th>...</th>\n",
       "      <td>...</td>\n",
       "      <td>...</td>\n",
       "      <td>...</td>\n",
       "    </tr>\n",
       "    <tr>\n",
       "      <th>2015-12-27</th>\n",
       "      <td>27.619091</td>\n",
       "      <td>0.01</td>\n",
       "      <td>302.0</td>\n",
       "    </tr>\n",
       "    <tr>\n",
       "      <th>2015-12-28</th>\n",
       "      <td>0.836000</td>\n",
       "      <td>0.01</td>\n",
       "      <td>12.0</td>\n",
       "    </tr>\n",
       "    <tr>\n",
       "      <th>2015-12-29</th>\n",
       "      <td>0.342308</td>\n",
       "      <td>0.01</td>\n",
       "      <td>4.0</td>\n",
       "    </tr>\n",
       "    <tr>\n",
       "      <th>2015-12-30</th>\n",
       "      <td>0.548235</td>\n",
       "      <td>0.01</td>\n",
       "      <td>5.0</td>\n",
       "    </tr>\n",
       "    <tr>\n",
       "      <th>2015-12-31</th>\n",
       "      <td>1.187727</td>\n",
       "      <td>0.01</td>\n",
       "      <td>20.0</td>\n",
       "    </tr>\n",
       "  </tbody>\n",
       "</table>\n",
       "<p>8766 rows × 3 columns</p>\n",
       "</div>"
      ],
      "text/plain": [
       "                FIRE_SIZE             \n",
       "                     mean   min    max\n",
       "DISCOVERY_DATE                        \n",
       "1992-01-01      11.662713  0.01  400.0\n",
       "1992-01-02       3.831522  0.10   45.0\n",
       "1992-01-03      13.670698  0.10  175.0\n",
       "1992-01-04      18.404412  0.10  300.0\n",
       "1992-01-05      10.980000  0.02   74.0\n",
       "...                   ...   ...    ...\n",
       "2015-12-27      27.619091  0.01  302.0\n",
       "2015-12-28       0.836000  0.01   12.0\n",
       "2015-12-29       0.342308  0.01    4.0\n",
       "2015-12-30       0.548235  0.01    5.0\n",
       "2015-12-31       1.187727  0.01   20.0\n",
       "\n",
       "[8766 rows x 3 columns]"
      ]
     },
     "execution_count": 86,
     "metadata": {},
     "output_type": "execute_result"
    }
   ],
   "source": [
    "grouped_data"
   ]
  },
  {
   "cell_type": "code",
   "execution_count": 90,
   "metadata": {},
   "outputs": [],
   "source": [
    "grouped_data.columns = ['fire_size_mean','fire_size_min', 'fire_size_max']"
   ]
  },
  {
   "cell_type": "code",
   "execution_count": 91,
   "metadata": {},
   "outputs": [
    {
     "data": {
      "text/html": [
       "<div>\n",
       "<style scoped>\n",
       "    .dataframe tbody tr th:only-of-type {\n",
       "        vertical-align: middle;\n",
       "    }\n",
       "\n",
       "    .dataframe tbody tr th {\n",
       "        vertical-align: top;\n",
       "    }\n",
       "\n",
       "    .dataframe thead th {\n",
       "        text-align: right;\n",
       "    }\n",
       "</style>\n",
       "<table border=\"1\" class=\"dataframe\">\n",
       "  <thead>\n",
       "    <tr style=\"text-align: right;\">\n",
       "      <th></th>\n",
       "      <th>fire_size_mean</th>\n",
       "      <th>fire_size_min</th>\n",
       "      <th>fire_size_max</th>\n",
       "    </tr>\n",
       "    <tr>\n",
       "      <th>DISCOVERY_DATE</th>\n",
       "      <th></th>\n",
       "      <th></th>\n",
       "      <th></th>\n",
       "    </tr>\n",
       "  </thead>\n",
       "  <tbody>\n",
       "    <tr>\n",
       "      <th>1992-01-01</th>\n",
       "      <td>11.662713</td>\n",
       "      <td>0.01</td>\n",
       "      <td>400.0</td>\n",
       "    </tr>\n",
       "    <tr>\n",
       "      <th>1992-01-02</th>\n",
       "      <td>3.831522</td>\n",
       "      <td>0.10</td>\n",
       "      <td>45.0</td>\n",
       "    </tr>\n",
       "    <tr>\n",
       "      <th>1992-01-03</th>\n",
       "      <td>13.670698</td>\n",
       "      <td>0.10</td>\n",
       "      <td>175.0</td>\n",
       "    </tr>\n",
       "    <tr>\n",
       "      <th>1992-01-04</th>\n",
       "      <td>18.404412</td>\n",
       "      <td>0.10</td>\n",
       "      <td>300.0</td>\n",
       "    </tr>\n",
       "    <tr>\n",
       "      <th>1992-01-05</th>\n",
       "      <td>10.980000</td>\n",
       "      <td>0.02</td>\n",
       "      <td>74.0</td>\n",
       "    </tr>\n",
       "    <tr>\n",
       "      <th>...</th>\n",
       "      <td>...</td>\n",
       "      <td>...</td>\n",
       "      <td>...</td>\n",
       "    </tr>\n",
       "    <tr>\n",
       "      <th>2015-12-27</th>\n",
       "      <td>27.619091</td>\n",
       "      <td>0.01</td>\n",
       "      <td>302.0</td>\n",
       "    </tr>\n",
       "    <tr>\n",
       "      <th>2015-12-28</th>\n",
       "      <td>0.836000</td>\n",
       "      <td>0.01</td>\n",
       "      <td>12.0</td>\n",
       "    </tr>\n",
       "    <tr>\n",
       "      <th>2015-12-29</th>\n",
       "      <td>0.342308</td>\n",
       "      <td>0.01</td>\n",
       "      <td>4.0</td>\n",
       "    </tr>\n",
       "    <tr>\n",
       "      <th>2015-12-30</th>\n",
       "      <td>0.548235</td>\n",
       "      <td>0.01</td>\n",
       "      <td>5.0</td>\n",
       "    </tr>\n",
       "    <tr>\n",
       "      <th>2015-12-31</th>\n",
       "      <td>1.187727</td>\n",
       "      <td>0.01</td>\n",
       "      <td>20.0</td>\n",
       "    </tr>\n",
       "  </tbody>\n",
       "</table>\n",
       "<p>8766 rows × 3 columns</p>\n",
       "</div>"
      ],
      "text/plain": [
       "                fire_size_mean  fire_size_min  fire_size_max\n",
       "DISCOVERY_DATE                                              \n",
       "1992-01-01           11.662713           0.01          400.0\n",
       "1992-01-02            3.831522           0.10           45.0\n",
       "1992-01-03           13.670698           0.10          175.0\n",
       "1992-01-04           18.404412           0.10          300.0\n",
       "1992-01-05           10.980000           0.02           74.0\n",
       "...                        ...            ...            ...\n",
       "2015-12-27           27.619091           0.01          302.0\n",
       "2015-12-28            0.836000           0.01           12.0\n",
       "2015-12-29            0.342308           0.01            4.0\n",
       "2015-12-30            0.548235           0.01            5.0\n",
       "2015-12-31            1.187727           0.01           20.0\n",
       "\n",
       "[8766 rows x 3 columns]"
      ]
     },
     "execution_count": 91,
     "metadata": {},
     "output_type": "execute_result"
    }
   ],
   "source": [
    "grouped_data"
   ]
  },
  {
   "cell_type": "code",
   "execution_count": 92,
   "metadata": {},
   "outputs": [],
   "source": [
    "grouped_data = grouped_data.reset_index()"
   ]
  },
  {
   "cell_type": "code",
   "execution_count": 93,
   "metadata": {},
   "outputs": [
    {
     "data": {
      "text/html": [
       "<div>\n",
       "<style scoped>\n",
       "    .dataframe tbody tr th:only-of-type {\n",
       "        vertical-align: middle;\n",
       "    }\n",
       "\n",
       "    .dataframe tbody tr th {\n",
       "        vertical-align: top;\n",
       "    }\n",
       "\n",
       "    .dataframe thead th {\n",
       "        text-align: right;\n",
       "    }\n",
       "</style>\n",
       "<table border=\"1\" class=\"dataframe\">\n",
       "  <thead>\n",
       "    <tr style=\"text-align: right;\">\n",
       "      <th></th>\n",
       "      <th>DISCOVERY_DATE</th>\n",
       "      <th>fire_size_mean</th>\n",
       "      <th>fire_size_min</th>\n",
       "      <th>fire_size_max</th>\n",
       "    </tr>\n",
       "  </thead>\n",
       "  <tbody>\n",
       "    <tr>\n",
       "      <th>0</th>\n",
       "      <td>1992-01-01</td>\n",
       "      <td>11.662713</td>\n",
       "      <td>0.01</td>\n",
       "      <td>400.0</td>\n",
       "    </tr>\n",
       "    <tr>\n",
       "      <th>1</th>\n",
       "      <td>1992-01-02</td>\n",
       "      <td>3.831522</td>\n",
       "      <td>0.10</td>\n",
       "      <td>45.0</td>\n",
       "    </tr>\n",
       "    <tr>\n",
       "      <th>2</th>\n",
       "      <td>1992-01-03</td>\n",
       "      <td>13.670698</td>\n",
       "      <td>0.10</td>\n",
       "      <td>175.0</td>\n",
       "    </tr>\n",
       "    <tr>\n",
       "      <th>3</th>\n",
       "      <td>1992-01-04</td>\n",
       "      <td>18.404412</td>\n",
       "      <td>0.10</td>\n",
       "      <td>300.0</td>\n",
       "    </tr>\n",
       "    <tr>\n",
       "      <th>4</th>\n",
       "      <td>1992-01-05</td>\n",
       "      <td>10.980000</td>\n",
       "      <td>0.02</td>\n",
       "      <td>74.0</td>\n",
       "    </tr>\n",
       "    <tr>\n",
       "      <th>...</th>\n",
       "      <td>...</td>\n",
       "      <td>...</td>\n",
       "      <td>...</td>\n",
       "      <td>...</td>\n",
       "    </tr>\n",
       "    <tr>\n",
       "      <th>8761</th>\n",
       "      <td>2015-12-27</td>\n",
       "      <td>27.619091</td>\n",
       "      <td>0.01</td>\n",
       "      <td>302.0</td>\n",
       "    </tr>\n",
       "    <tr>\n",
       "      <th>8762</th>\n",
       "      <td>2015-12-28</td>\n",
       "      <td>0.836000</td>\n",
       "      <td>0.01</td>\n",
       "      <td>12.0</td>\n",
       "    </tr>\n",
       "    <tr>\n",
       "      <th>8763</th>\n",
       "      <td>2015-12-29</td>\n",
       "      <td>0.342308</td>\n",
       "      <td>0.01</td>\n",
       "      <td>4.0</td>\n",
       "    </tr>\n",
       "    <tr>\n",
       "      <th>8764</th>\n",
       "      <td>2015-12-30</td>\n",
       "      <td>0.548235</td>\n",
       "      <td>0.01</td>\n",
       "      <td>5.0</td>\n",
       "    </tr>\n",
       "    <tr>\n",
       "      <th>8765</th>\n",
       "      <td>2015-12-31</td>\n",
       "      <td>1.187727</td>\n",
       "      <td>0.01</td>\n",
       "      <td>20.0</td>\n",
       "    </tr>\n",
       "  </tbody>\n",
       "</table>\n",
       "<p>8766 rows × 4 columns</p>\n",
       "</div>"
      ],
      "text/plain": [
       "     DISCOVERY_DATE  fire_size_mean  fire_size_min  fire_size_max\n",
       "0        1992-01-01       11.662713           0.01          400.0\n",
       "1        1992-01-02        3.831522           0.10           45.0\n",
       "2        1992-01-03       13.670698           0.10          175.0\n",
       "3        1992-01-04       18.404412           0.10          300.0\n",
       "4        1992-01-05       10.980000           0.02           74.0\n",
       "...             ...             ...            ...            ...\n",
       "8761     2015-12-27       27.619091           0.01          302.0\n",
       "8762     2015-12-28        0.836000           0.01           12.0\n",
       "8763     2015-12-29        0.342308           0.01            4.0\n",
       "8764     2015-12-30        0.548235           0.01            5.0\n",
       "8765     2015-12-31        1.187727           0.01           20.0\n",
       "\n",
       "[8766 rows x 4 columns]"
      ]
     },
     "execution_count": 93,
     "metadata": {},
     "output_type": "execute_result"
    }
   ],
   "source": [
    "grouped_data"
   ]
  },
  {
   "cell_type": "code",
   "execution_count": 95,
   "metadata": {},
   "outputs": [
    {
     "data": {
      "image/png": "[encoded data removed]",
      "text/plain": [
       "<Figure size 640x640 with 1 Axes>"
      ]
     },
     "metadata": {
      "needs_background": "light"
     },
     "output_type": "display_data"
    }
   ],
   "source": [
    "x = grouped_data.DISCOVERY_DATE\n",
    "y = grouped_data.fire_size_min\n",
    "\n",
    "plt.figure(figsize=(8, 8), dpi=80)\n",
    "plt.scatter(x,y)\n",
    "plt.xlabel('Date')\n",
    "plt.ylabel('Fire Size')\n",
    "plt.ylim(min(grouped_data['fire_size_min']), max(grouped_data['fire_size_min']),10)\n",
    "plt.show()"
   ]
  },
  {
   "cell_type": "code",
   "execution_count": 96,
   "metadata": {},
   "outputs": [
    {
     "data": {
      "image/png": "[encoded data removed]",
      "text/plain": [
       "<Figure size 640x640 with 1 Axes>"
      ]
     },
     "metadata": {
      "needs_background": "light"
     },
     "output_type": "display_data"
    }
   ],
   "source": [
    "x = grouped_data.DISCOVERY_DATE\n",
    "y = grouped_data.fire_size_max\n",
    "\n",
    "plt.figure(figsize=(8, 8), dpi=80)\n",
    "plt.scatter(x,y)\n",
    "plt.xlabel('Date')\n",
    "plt.ylabel('Fire Size')\n",
    "plt.ylim(min(grouped_data['fire_size_max']), max(grouped_data['fire_size_max']),10)\n",
    "plt.show()"
   ]
  },
  {
   "cell_type": "code",
   "execution_count": null,
   "metadata": {},
   "outputs": [],
   "source": []
  },
  {
   "cell_type": "code",
   "execution_count": null,
   "metadata": {},
   "outputs": [],
   "source": []
  },
  {
   "cell_type": "code",
   "execution_count": null,
   "metadata": {},
   "outputs": [],
   "source": []
  },
  {
   "cell_type": "code",
   "execution_count": null,
   "metadata": {},
   "outputs": [],
   "source": []
  },
  {
   "cell_type": "code",
   "execution_count": null,
   "metadata": {
    "hidden": true
   },
   "outputs": [],
   "source": []
  },
  {
   "cell_type": "markdown",
   "metadata": {
    "heading_collapsed": true
   },
   "source": [
    "## Weather Data"
   ]
  },
  {
   "cell_type": "markdown",
   "metadata": {
    "hidden": true
   },
   "source": [
    "1) cheapest seems to be DarkSky. 1000 per day for free\n",
    "2) $0.0001 per request after that\n",
    "3) Request: \"\n",
    "https://api.darksky.net/forecast/[key]/40.036944,-121.005833,2005-02-02T17:30:00\"  (my api key removed)\n",
    "\n",
    "Output is like this:\n",
    "{\"latitude\":40.036944,\"longitude\":-121.005833,\"timezone\":\"America/Los_Angeles\",\"currently\":{\"time\":1107394200,\"precipIntensity\":0,\"precipProbability\":0,\"temperature\":50.24,\"apparentTemperature\":50.41,\"dewPoint\":13.85,\"humidity\":0.23,\"windSpeed\":2.62,\"windGust\":13.17,\"windBearing\":24,\"uvIndex\":0},\"hourly\":{\"data\":[{\"time\":1107331200,\"precipIntensity\":0,\"precipProbability\":0,\"temperature\":39.73,\"apparentTemperature\":39.73,\"dewPoint\":12.45,\"humidity\":0.32,\"windSpeed\":1.23,\"windGust\":6.42,\"windBearing\":140,\"uvIndex\":0},{\"time\":1107334800,\"precipIntensity\":0,\"precipProbability\":0,\"temperature\":39.57,\"apparentTemperature\":39.57,\"dewPoint\":11.95,\"humidity\":0.32,\"windSpeed\":2.21,\"windGust\":5.8,\"windBearing\":72,\"uvIndex\":0},{\"time\":1107338400,\"precipIntensity\":0,\"precipProbability\":0,\"temperature\":38.69,\"apparentTemperature\":34.34,\"dewPoint\":13.27,\"humidity\":0.35,\"windSpeed\":5.79,\"windGust\":14.19,\"windBearing\":82,\"uvIndex\":0},{\"time\":1107342000,\"precipIntensity\":0,\"precipProbability\":0,\"temperature\":37.04,\"apparentTemperature\":37.04,\"dewPoint\":12.65,\"humidity\":0.36,\"windSpeed\":2.35,\"windGust\":9.56,\"windBearing\":98,\"uvIndex\":0},{\"time\":1107345600,\"precipIntensity\":0,\"precipProbability\":0,\"temperature\":36.26,\"apparentTemperature\":36.26,\"dewPoint\":12.71,\"humidity\":0.37,\"windSpeed\":1.16,\"windGust\":7.66,\"windBearing\":58,\"uvIndex\":0},{\"time\":1107349200,\"precipIntensity\":0,\"precipProbability\":0,\"temperature\":36.51,\"apparentTemperature\":36.51,\"dewPoint\":13.58,\"humidity\":0.39,\"windSpeed\":2.18,\"windGust\":6.93,\"windBearing\":71,\"uvIndex\":0},{\"time\":1107352800,\"precipIntensity\":0,\"precipProbability\":0,\"temperature\":36.4,\"apparentTemperature\":36.4,\"dewPoint\":12.17,\"humidity\":0.36,\"windSpeed\":2.48,\"windGust\":5.45,\"windBearing\":16,\"uvIndex\":0},{\"time\":1107356400,\"precipIntensity\":0,\"precipProbability\":0,\"temperature\":36.36,\"apparentTemperature\":36.36,\"dewPoint\":13.45,\"humidity\":0.39,\"windSpeed\":1.74,\"windGust\":5.3,\"windBearing\":61,\"uvIndex\":0},{\"time\":1107360000,\"precipIntensity\":0,\"precipProbability\":0,\"temperature\":35.85,\"apparentTemperature\":35.85,\"dewPoint\":14.88,\"humidity\":0.42,\"windSpeed\":2.52,\"windGust\":6.53,\"windBearing\":87},{\"time\":1107363600,\"precipIntensity\":0,\"precipProbability\":0,\"temperature\":42.06,\"apparentTemperature\":40.19,\"dewPoint\":13.16,\"humidity\":0.3,\"windSpeed\":3.48,\"windGust\":8.05,\"windBearing\":91},{\"time\":1107367200,\"precipIntensity\":0,\"precipProbability\":0,\"temperature\":46.17,\"apparentTemperature\":46.17,\"dewPoint\":16.52,\"humidity\":0.3,\"windSpeed\":2.71,\"windGust\":7.32,\"windBearing\":126},{\"time\":1107370800,\"precipIntensity\":0,\"precipProbability\":0,\"temperature\":47.55,\"apparentTemperature\":47.55,\"dewPoint\":21.59,\"humidity\":0.36,\"windSpeed\":2.72,\"windGust\":10.31,\"windBearing\":150},{\"time\":1107374400,\"precipIntensity\":0,\"precipProbability\":0,\"temperature\":52.04,\"apparentTemperature\":52.04,\"dewPoint\":20.52,\"humidity\":0.29,\"windSpeed\":4.29,\"windGust\":8.13,\"windBearing\":87},{\"time\":1107378000,\"precipIntensity\":0,\"precipProbability\":0,\"temperature\":55.54,\"apparentTemperature\":55.54,\"dewPoint\":19.53,\"humidity\":0.24,\"windSpeed\":4.84,\"windGust\":11.03,\"windBearing\":149},{\"time\":1107381600,\"precipIntensity\":0,\"precipProbability\":0,\"temperature\":56.34,\"apparentTemperature\":56.34,\"dewPoint\":17.37,\"humidity\":0.21,\"windSpeed\":5.54,\"windGust\":11.23,\"windBearing\":188},{\"time\":1107385200,\"precipIntensity\":0,\"precipProbability\":0,\"temperature\":57.34,\"apparentTemperature\":57.34,\"dewPoint\":15.65,\"humidity\":0.19,\"windSpeed\":6.36,\"windGust\":12.71,\"windBearing\":107},{\"time\":1107388800,\"precipIntensity\":0,\"precipProbability\":0,\"temperature\":53.57,\"apparentTemperature\":53.57,\"dewPoint\":15.64,\"humidity\":0.22,\"windSpeed\":6.13,\"windGust\":14.53,\"windBearing\":36},{\"time\":1107392400,\"precipIntensity\":0,\"precipProbability\":0,\"temperature\":52.58,\"apparentTemperature\":52.58,\"dewPoint\":14.07,\"humidity\":0.21,\"windSpeed\":3.32,\"windGust\":14.57,\"windBearing\":35},{\"time\":1107396000,\"precipIntensity\":0,\"precipProbability\":0,\"temperature\":47.79,\"apparentTemperature\":47.79,\"dewPoint\":13.74,\"humidity\":0.25,\"windSpeed\":2.6,\"windGust\":11.96,\"windBearing\":13,\"uvIndex\":0},{\"time\":1107399600,\"precipIntensity\":0,\"precipProbability\":0,\"temperature\":45.91,\"apparentTemperature\":43.25,\"dewPoint\":12.96,\"humidity\":0.26,\"windSpeed\":5.25,\"windGust\":13.55,\"windBearing\":80,\"uvIndex\":0},{\"time\":1107403200,\"precipIntensity\":0,\"precipProbability\":0,\"temperature\":43.25,\"apparentTemperature\":41.58,\"dewPoint\":14.25,\"humidity\":0.31,\"windSpeed\":3.45,\"windGust\":8.79,\"windBearing\":55,\"uvIndex\":0},{\"time\":1107406800,\"precipIntensity\":0,\"precipProbability\":0,\"temperature\":43.79,\"apparentTemperature\":43.79,\"dewPoint\":14.86,\"humidity\":0.31,\"windSpeed\":1.71,\"windGust\":6.29,\"windBearing\":158,\"uvIndex\":0},{\"time\":1107410400,\"precipIntensity\":0,\"precipProbability\":0,\"temperature\":42.36,\"apparentTemperature\":42.36,\"dewPoint\":14.51,\"humidity\":0.32,\"windSpeed\":2.37,\"windGust\":12.25,\"windBearing\":43,\"uvIndex\":0},{\"time\":1107414000,\"precipIntensity\":0,\"precipProbability\":0,\"temperature\":41.2,\"apparentTemperature\":41.2,\"dewPoint\":12.53,\"humidity\":0.31,\"windSpeed\":1.56,\"windGust\":12.79,\"windBearing\":100,\"uvIndex\":0}]},\"daily\":{\"data\":[{\"time\":1107331200,\"sunriseTime\":1107357120,\"sunsetTime\":1107393960,\"moonPhase\":0.78,\"precipIntensity\":0,\"precipIntensityMax\":0,\"precipProbability\":0,\"temperatureHigh\":57.95,\"temperatureHighTime\":1107384600,\"temperatureLow\":38.42,\"temperatureLowTime\":1107439200,\"apparentTemperatureHigh\":57.45,\"apparentTemperatureHighTime\":1107384600,\"apparentTemperatureLow\":38.91,\"apparentTemperatureLowTime\":1107439200,\"dewPoint\":14.85,\"humidity\":0.31,\"windSpeed\":3.33,\"windGust\":14.83,\"windGustTime\":1107390840,\"windBearing\":76,\"uvIndex\":0,\"uvIndexTime\":1107331200,\"temperatureMin\":35.03,\"temperatureMinTime\":1107359100,\"temperatureMax\":57.95,\"temperatureMaxTime\":1107384600,\"apparentTemperatureMin\":34.3,\"apparentTemperatureMinTime\":1107338640,\"apparentTemperatureMax\":57.45,\"apparentTemperatureMaxTime\":1107384600}]},\"flags\":{\"sources\":[\"cmc\",\"gfs\",\"hrrr\",\"icon\",\"isd\",\"madis\",\"nam\",\"sref\"],\"nearest-station\":3.312,\"units\":\"us\"},\"offset\":-8}"
   ]
  },
  {
   "cell_type": "code",
   "execution_count": null,
   "metadata": {
    "hidden": true
   },
   "outputs": [],
   "source": []
  },
  {
   "cell_type": "markdown",
   "metadata": {},
   "source": [
    "## Global Fire Data  \n",
    "\n",
    "If you want to see these easily on a map, visit: https://daac.ornl.gov/cgi-bin/dsviewer.pl?ds_id=1642  \n",
    "\n",
    "I have only pulled the 2016 data in in order to get a feel for it."
   ]
  },
  {
   "cell_type": "markdown",
   "metadata": {},
   "source": [
    "### DBF file"
   ]
  },
  {
   "cell_type": "markdown",
   "metadata": {
    "heading_collapsed": true
   },
   "source": [
    "#### Ignitions"
   ]
  },
  {
   "cell_type": "code",
   "execution_count": null,
   "metadata": {
    "hidden": true
   },
   "outputs": [],
   "source": [
    "globaldbf = DBF('../data/GlobalFire2016/Global_fire_atlas_V1_ignitions_2016/Global_fire_atlas_V1_ignitions_2016.dbf')"
   ]
  },
  {
   "cell_type": "code",
   "execution_count": null,
   "metadata": {
    "hidden": true
   },
   "outputs": [],
   "source": [
    "len(globaldbf)"
   ]
  },
  {
   "cell_type": "code",
   "execution_count": null,
   "metadata": {
    "hidden": true
   },
   "outputs": [],
   "source": [
    "records = list(globaldbf)"
   ]
  },
  {
   "cell_type": "code",
   "execution_count": null,
   "metadata": {
    "hidden": true
   },
   "outputs": [],
   "source": [
    "print(records[0])"
   ]
  },
  {
   "cell_type": "code",
   "execution_count": null,
   "metadata": {
    "hidden": true
   },
   "outputs": [],
   "source": [
    "df = pd.DataFrame(iter(globaldbf))"
   ]
  },
  {
   "cell_type": "code",
   "execution_count": null,
   "metadata": {
    "hidden": true
   },
   "outputs": [],
   "source": [
    "df.head()"
   ]
  },
  {
   "cell_type": "markdown",
   "metadata": {
    "heading_collapsed": true
   },
   "source": [
    "#### Perimeter"
   ]
  },
  {
   "cell_type": "code",
   "execution_count": null,
   "metadata": {
    "hidden": true
   },
   "outputs": [],
   "source": [
    "perim2016 = DBF('../data/GlobalFire2016/Global_fire_atlas_V1_perimeter_2016/Global_fire_atlas_V1_perimeter_2016.dbf')"
   ]
  },
  {
   "cell_type": "code",
   "execution_count": null,
   "metadata": {
    "hidden": true
   },
   "outputs": [],
   "source": [
    "perimdf = pd.DataFrame(iter(perim2016))"
   ]
  },
  {
   "cell_type": "code",
   "execution_count": null,
   "metadata": {
    "hidden": true
   },
   "outputs": [],
   "source": [
    "perimdf.head()"
   ]
  },
  {
   "cell_type": "markdown",
   "metadata": {},
   "source": [
    "### Shapefile - shp"
   ]
  },
  {
   "cell_type": "markdown",
   "metadata": {
    "heading_collapsed": true
   },
   "source": [
    "#### Ignitions"
   ]
  },
  {
   "cell_type": "code",
   "execution_count": null,
   "metadata": {
    "code_folding": [],
    "hidden": true
   },
   "outputs": [],
   "source": [
    "with fiona.open('../data/GlobalFire2016/Global_fire_atlas_V1_ignitions_2016/Global_fire_atlas_V1_ignitions_2016.shp') as src:\n",
    "    pprint.pprint(src[0])"
   ]
  },
  {
   "cell_type": "code",
   "execution_count": null,
   "metadata": {
    "hidden": true
   },
   "outputs": [],
   "source": [
    "gdf = gpd.read_file('../data/GlobalFire2016/Global_fire_atlas_V1_ignitions_2016/Global_fire_atlas_V1_ignitions_2016.shp')"
   ]
  },
  {
   "cell_type": "code",
   "execution_count": null,
   "metadata": {
    "hidden": true
   },
   "outputs": [],
   "source": [
    "gdf.head()"
   ]
  },
  {
   "cell_type": "code",
   "execution_count": null,
   "metadata": {
    "hidden": true
   },
   "outputs": [],
   "source": [
    "#gdf.plot()"
   ]
  },
  {
   "cell_type": "code",
   "execution_count": null,
   "metadata": {
    "hidden": true
   },
   "outputs": [],
   "source": [
    "gdf.geometry[:5]"
   ]
  },
  {
   "cell_type": "code",
   "execution_count": null,
   "metadata": {
    "hidden": true
   },
   "outputs": [],
   "source": [
    "print(gdf.crs)"
   ]
  },
  {
   "cell_type": "code",
   "execution_count": null,
   "metadata": {
    "hidden": true
   },
   "outputs": [],
   "source": [
    "gdf.columns.values"
   ]
  },
  {
   "cell_type": "markdown",
   "metadata": {
    "heading_collapsed": true
   },
   "source": [
    "#### Perimeter"
   ]
  },
  {
   "cell_type": "code",
   "execution_count": null,
   "metadata": {
    "hidden": true
   },
   "outputs": [],
   "source": [
    "gdf1 = gpd.read_file('../data/GlobalFire2016/Global_fire_atlas_V1_perimeter_2016/Global_fire_atlas_V1_perimeter_2016.shp')"
   ]
  },
  {
   "cell_type": "code",
   "execution_count": null,
   "metadata": {
    "hidden": true
   },
   "outputs": [],
   "source": [
    "gdf1.head()"
   ]
  },
  {
   "cell_type": "code",
   "execution_count": null,
   "metadata": {
    "hidden": true
   },
   "outputs": [],
   "source": [
    "gdf1.columns.values"
   ]
  },
  {
   "cell_type": "code",
   "execution_count": null,
   "metadata": {
    "hidden": true
   },
   "outputs": [],
   "source": [
    "gdf1.geometry[0]"
   ]
  },
  {
   "cell_type": "code",
   "execution_count": null,
   "metadata": {
    "hidden": true
   },
   "outputs": [],
   "source": [
    "gdf1[0:3].plot()"
   ]
  },
  {
   "cell_type": "code",
   "execution_count": null,
   "metadata": {
    "hidden": true
   },
   "outputs": [],
   "source": [
    "%%time\n",
    "world = gpd.read_file(gpd.datasets.get_path('naturalearth_lowres'))\n",
    "ax = world.plot(color='lightgrey',linewidth=0.5,edgecolor='white',figsize = (20,8))\n",
    "gdf1.plot(ax=ax)\n",
    "plt.savefig('perimeters.png')"
   ]
  },
  {
   "cell_type": "code",
   "execution_count": null,
   "metadata": {
    "hidden": true
   },
   "outputs": [],
   "source": []
  },
  {
   "cell_type": "markdown",
   "metadata": {
    "heading_collapsed": true
   },
   "source": [
    "#### Combine Geom Ignition and Perimeter columns into single dataframe. pickle out"
   ]
  },
  {
   "cell_type": "code",
   "execution_count": null,
   "metadata": {
    "hidden": true
   },
   "outputs": [],
   "source": [
    "perims = gdf1['geometry']"
   ]
  },
  {
   "cell_type": "code",
   "execution_count": null,
   "metadata": {
    "hidden": true
   },
   "outputs": [],
   "source": [
    "geomsdf = copy.deepcopy(gdf)"
   ]
  },
  {
   "cell_type": "code",
   "execution_count": null,
   "metadata": {
    "hidden": true
   },
   "outputs": [],
   "source": [
    "geomsdf.rename(columns={'geometry':'ignition_pt'},inplace=True)"
   ]
  },
  {
   "cell_type": "code",
   "execution_count": null,
   "metadata": {
    "hidden": true
   },
   "outputs": [],
   "source": [
    "geomsdf['perimeter']=perims"
   ]
  },
  {
   "cell_type": "code",
   "execution_count": null,
   "metadata": {
    "hidden": true
   },
   "outputs": [],
   "source": [
    "%%time\n",
    "with open('../data/GlobalFire2016/Global_fire_atlas_V1_combined2016.pickle','wb') as f:\n",
    "    pickle.dump(geomsdf,f,pickle.HIGHEST_PROTOCOL)"
   ]
  },
  {
   "cell_type": "markdown",
   "metadata": {
    "heading_collapsed": true
   },
   "source": [
    "### PRJ file"
   ]
  },
  {
   "cell_type": "code",
   "execution_count": null,
   "metadata": {
    "hidden": true
   },
   "outputs": [],
   "source": [
    "with open('../data/GlobalFire2016/Global_fire_atlas_V1_ignitions_2016/Global_fire_atlas_V1_ignitions_2016.prj') as f1:\n",
    "    print(f\"Ignitions Prj file contents = {f1.read()}\")\n",
    "    \n",
    "with open('../data/GlobalFire2016/Global_fire_atlas_V1_perimeter_2016/Global_fire_atlas_V1_perimeter_2016.prj','r') as f2:\n",
    "    print(f\"Perimeter Prj file contents = {f2.read()}\")    "
   ]
  },
  {
   "cell_type": "markdown",
   "metadata": {
    "hidden": true
   },
   "source": [
    "The above mean:\n",
    "- GEOGCS: Geographic coordinate reference system (vs. a projected coordinate system)\n",
    "- WGS 84 : the name of the geographic coordinate reference system\n",
    "- WGS_1984: The name of the DATUM\n",
    "- SPHEROID: Used for the reference system with the semi major axis = 6378137 m and inverse-flattening ratio of 298.257223563\n",
    "- PRIMEM: Greenwich is prime meridian where longitude is set as 0\n",
    "- UNIT: measurement units of coordinate system, in degrees, where 0.01745.. is the conversion from radians to the units here(degrees)"
   ]
  },
  {
   "cell_type": "markdown",
   "metadata": {},
   "source": [
    "### GEOTiff"
   ]
  },
  {
   "cell_type": "markdown",
   "metadata": {
    "heading_collapsed": true
   },
   "source": [
    "#### Monthly TIFF (averages)"
   ]
  },
  {
   "cell_type": "code",
   "execution_count": null,
   "metadata": {
    "hidden": true
   },
   "outputs": [],
   "source": [
    "dirmth = rio.open('../data/GlobalFire2016/Global_fire_atlas_direction_monthly_2016.tif')\n",
    "dirmth"
   ]
  },
  {
   "cell_type": "code",
   "execution_count": null,
   "metadata": {
    "hidden": true
   },
   "outputs": [],
   "source": [
    "print(\"name = \",dirmth.name)\n",
    "print(\"mode = \",dirmth.mode)\n",
    "print(\"closed? = \",dirmth.closed)\n",
    "print(\"resolution of a pixel in units of coord reference system = \",dirmth.res)\n",
    "print(\"Image Structure tags =\",dirmth.tags(ns='IMAGE_STRUCTURE'))\n",
    "print(\"tags =\",dirmth.tags())\n",
    "dirmth.meta"
   ]
  },
  {
   "cell_type": "code",
   "execution_count": null,
   "metadata": {
    "hidden": true
   },
   "outputs": [],
   "source": [
    "dirmth.close()"
   ]
  },
  {
   "cell_type": "code",
   "execution_count": null,
   "metadata": {
    "hidden": true
   },
   "outputs": [],
   "source": [
    "dirmth.closed"
   ]
  },
  {
   "cell_type": "code",
   "execution_count": null,
   "metadata": {
    "hidden": true
   },
   "outputs": [],
   "source": [
    "print(dirmth.shape)\n",
    "print(dirmth.bounds)\n",
    "print(\"number of layers = \",dirmth.count)\n",
    "print(\"number of bands\", dirmth.indexes)"
   ]
  },
  {
   "cell_type": "code",
   "execution_count": null,
   "metadata": {
    "hidden": true
   },
   "outputs": [],
   "source": [
    "dirmth_1 = dirmth.read(1)"
   ]
  },
  {
   "cell_type": "code",
   "execution_count": null,
   "metadata": {
    "hidden": true
   },
   "outputs": [],
   "source": [
    "dirmth_1.shape"
   ]
  },
  {
   "cell_type": "code",
   "execution_count": null,
   "metadata": {
    "hidden": true
   },
   "outputs": [],
   "source": [
    "plt.imshow(dirmth_1, cmap='summer')\n",
    "plt.show()"
   ]
  },
  {
   "cell_type": "code",
   "execution_count": null,
   "metadata": {
    "hidden": true
   },
   "outputs": [],
   "source": [
    "array = dirmth.read()\n",
    "array.shape"
   ]
  },
  {
   "cell_type": "code",
   "execution_count": null,
   "metadata": {
    "hidden": true
   },
   "outputs": [],
   "source": [
    "for i, dtype, nodataval in zip(dirmth.indexes, dirmth.dtypes, dirmth.nodatavals):\n",
    "    print(i, dtype, nodataval)"
   ]
  },
  {
   "cell_type": "markdown",
   "metadata": {
    "heading_collapsed": true
   },
   "source": [
    "#### Yearly TIFFs"
   ]
  },
  {
   "cell_type": "code",
   "execution_count": 28,
   "metadata": {
    "hidden": true
   },
   "outputs": [],
   "source": [
    "from rasterio.windows import Window"
   ]
  },
  {
   "cell_type": "code",
   "execution_count": 29,
   "metadata": {
    "hidden": true
   },
   "outputs": [
    {
     "name": "stdout",
     "output_type": "stream",
     "text": [
      "Wall time: 116 ms\n"
     ]
    }
   ],
   "source": [
    "%%time\n",
    "diryr = rio.open('../data/GlobalFire2016/Global_fire_atlas_direction_yearly_2016.tif')\n",
    "speedyr = rio.open('../data/GlobalFire2016/Global_fire_atlas_speed_yearly_2016.tif')\n",
    "dobyr = rio.open('../data/GlobalFire2016/Global_fire_atlas_day_of_burn_yearly_2016.tif')\n",
    "firelineyr = rio.open('../data/GlobalFire2016/Global_fire_atlas_fire_line_yearly_2016.tif')"
   ]
  },
  {
   "cell_type": "code",
   "execution_count": null,
   "metadata": {
    "hidden": true
   },
   "outputs": [],
   "source": [
    "tifs = [diryr,speedyr,dobyr,firelineyr]"
   ]
  },
  {
   "cell_type": "code",
   "execution_count": null,
   "metadata": {
    "hidden": true
   },
   "outputs": [],
   "source": [
    "for tif in tifs:\n",
    "    print(\"name = \",tif.name)\n",
    "    print(\"resolution of a pixel in units of coord reference system = \",tif.res)\n",
    "    print(\"Image Structure tags =\",tif.tags(ns='IMAGE_STRUCTURE'))\n",
    "    print(\"tags =\",tif.tags())\n",
    "    print(tif.shape)\n",
    "    print(tif.bounds)\n",
    "    print(\"number of layers = \",tif.count)\n",
    "    print(\"number of bands =\", tif.indexes)\n",
    "    print(tif.meta)\n",
    "    print(\"\\n\\n\")"
   ]
  },
  {
   "cell_type": "code",
   "execution_count": 34,
   "metadata": {
    "hidden": true
   },
   "outputs": [
    {
     "name": "stdout",
     "output_type": "stream",
     "text": [
      "{'driver': 'GTiff', 'dtype': 'int32', 'nodata': -9999.0, 'width': 81600, 'height': 31200, 'count': 1, 'crs': CRS.from_wkt('PROJCS[\"unnamed\",GEOGCS[\"Unknown datum based upon the custom spheroid\",DATUM[\"Not_specified_based_on_custom_spheroid\",SPHEROID[\"Custom spheroid\",6371007.181,0]],PRIMEM[\"Greenwich\",0],UNIT[\"degree\",0.0174532925199433,AUTHORITY[\"EPSG\",\"9122\"]]],PROJECTION[\"Sinusoidal\"],PARAMETER[\"longitude_of_center\",0],PARAMETER[\"false_easting\",0],PARAMETER[\"false_northing\",0],UNIT[\"metre\",1,AUTHORITY[\"EPSG\",\"9001\"]],AXIS[\"Easting\",EAST],AXIS[\"Northing\",NORTH]]'), 'transform': Affine(463.3127165279165, 0.0, -20015109.354,\n",
      "       0.0, -463.3127165279167, 7783653.637666)}\n"
     ]
    }
   ],
   "source": [
    "print(diryr.meta)\n",
    "#customcrs = diryr.meta"
   ]
  },
  {
   "cell_type": "code",
   "execution_count": 35,
   "metadata": {
    "hidden": true
   },
   "outputs": [
    {
     "name": "stdout",
     "output_type": "stream",
     "text": [
      "PROJCS[\"unnamed\",GEOGCS[\"Unknown datum based upon the custom spheroid\",DATUM[\"Not_specified_based_on_custom_spheroid\",SPHEROID[\"Custom spheroid\",6371007.181,0]],PRIMEM[\"Greenwich\",0],UNIT[\"degree\",0.0174532925199433,AUTHORITY[\"EPSG\",\"9122\"]]],PROJECTION[\"Sinusoidal\"],PARAMETER[\"longitude_of_center\",0],PARAMETER[\"false_easting\",0],PARAMETER[\"false_northing\",0],UNIT[\"metre\",1,AUTHORITY[\"EPSG\",\"9001\"]],AXIS[\"Easting\",EAST],AXIS[\"Northing\",NORTH]]\n"
     ]
    }
   ],
   "source": [
    "print(diryr.crs)"
   ]
  },
  {
   "cell_type": "code",
   "execution_count": 36,
   "metadata": {
    "hidden": true
   },
   "outputs": [],
   "source": [
    "customcrs = diryr.crs"
   ]
  },
  {
   "cell_type": "markdown",
   "metadata": {
    "heading_collapsed": true
   },
   "source": [
    "#### Relate TIFF data to a specific fire  \n",
    "\n",
    "Basically we need to relate a latitude longitude of a specific ignition point (from the yearly ignition file) to a pixel, then use the pixel data to determine the fire spread of that specific fire over time."
   ]
  },
  {
   "cell_type": "code",
   "execution_count": 6,
   "metadata": {
    "hidden": true
   },
   "outputs": [],
   "source": [
    "# 2016 yearly data from pickle file\n",
    "gdf_2016 = pd.read_pickle('../data/GlobalFire2016/Global_fire_atlas_V1_combined2016.pickle')"
   ]
  },
  {
   "cell_type": "code",
   "execution_count": 7,
   "metadata": {
    "hidden": true
   },
   "outputs": [
    {
     "data": {
      "text/html": [
       "<div>\n",
       "<style scoped>\n",
       "    .dataframe tbody tr th:only-of-type {\n",
       "        vertical-align: middle;\n",
       "    }\n",
       "\n",
       "    .dataframe tbody tr th {\n",
       "        vertical-align: top;\n",
       "    }\n",
       "\n",
       "    .dataframe thead th {\n",
       "        text-align: right;\n",
       "    }\n",
       "</style>\n",
       "<table border=\"1\" class=\"dataframe\">\n",
       "  <thead>\n",
       "    <tr style=\"text-align: right;\">\n",
       "      <th></th>\n",
       "      <th>fire_ID</th>\n",
       "      <th>latitude</th>\n",
       "      <th>longitude</th>\n",
       "      <th>size</th>\n",
       "      <th>geometry</th>\n",
       "      <th>start_date</th>\n",
       "      <th>start_DOY</th>\n",
       "      <th>end_date</th>\n",
       "      <th>end_DOY</th>\n",
       "      <th>duration</th>\n",
       "      <th>expansion</th>\n",
       "      <th>fire_line</th>\n",
       "      <th>speed</th>\n",
       "      <th>direction</th>\n",
       "      <th>direction_s</th>\n",
       "      <th>landcover</th>\n",
       "      <th>landcover_s</th>\n",
       "      <th>tile_ID</th>\n",
       "      <th>ignition_pt</th>\n",
       "    </tr>\n",
       "  </thead>\n",
       "  <tbody>\n",
       "    <tr>\n",
       "      <th>34569</th>\n",
       "      <td>34570</td>\n",
       "      <td>56.6604</td>\n",
       "      <td>-111.410</td>\n",
       "      <td>1547.32</td>\n",
       "      <td>POLYGON ((-110.20500 56.80417, -110.19739 56.8...</td>\n",
       "      <td>2016-05-01</td>\n",
       "      <td>122</td>\n",
       "      <td>2016-05-29</td>\n",
       "      <td>150</td>\n",
       "      <td>29</td>\n",
       "      <td>53.36</td>\n",
       "      <td>68.30</td>\n",
       "      <td>13.21</td>\n",
       "      <td>3</td>\n",
       "      <td>east</td>\n",
       "      <td>1</td>\n",
       "      <td>Evergreen Needleleaf forest</td>\n",
       "      <td>h11v03</td>\n",
       "      <td>POINT (-111.41070 56.66044)</td>\n",
       "    </tr>\n",
       "    <tr>\n",
       "      <th>34587</th>\n",
       "      <td>34588</td>\n",
       "      <td>56.7563</td>\n",
       "      <td>-110.273</td>\n",
       "      <td>129.91</td>\n",
       "      <td>POLYGON ((-110.12625 56.82917, -110.11863 56.8...</td>\n",
       "      <td>2016-05-15</td>\n",
       "      <td>136</td>\n",
       "      <td>2016-06-08</td>\n",
       "      <td>160</td>\n",
       "      <td>25</td>\n",
       "      <td>5.20</td>\n",
       "      <td>5.22</td>\n",
       "      <td>13.34</td>\n",
       "      <td>3</td>\n",
       "      <td>east</td>\n",
       "      <td>1</td>\n",
       "      <td>Evergreen Needleleaf forest</td>\n",
       "      <td>h11v03</td>\n",
       "      <td>POINT (-110.27352 56.75627)</td>\n",
       "    </tr>\n",
       "    <tr>\n",
       "      <th>34540</th>\n",
       "      <td>34541</td>\n",
       "      <td>56.6479</td>\n",
       "      <td>-111.676</td>\n",
       "      <td>369.79</td>\n",
       "      <td>POLYGON ((-110.39716 56.94167, -110.38952 56.9...</td>\n",
       "      <td>2016-05-12</td>\n",
       "      <td>133</td>\n",
       "      <td>2016-06-04</td>\n",
       "      <td>156</td>\n",
       "      <td>24</td>\n",
       "      <td>15.41</td>\n",
       "      <td>12.94</td>\n",
       "      <td>16.94</td>\n",
       "      <td>8</td>\n",
       "      <td>northwest</td>\n",
       "      <td>1</td>\n",
       "      <td>Evergreen Needleleaf forest</td>\n",
       "      <td>h11v03</td>\n",
       "      <td>POINT (-111.67692 56.64794)</td>\n",
       "    </tr>\n",
       "    <tr>\n",
       "      <th>34541</th>\n",
       "      <td>34542</td>\n",
       "      <td>56.6438</td>\n",
       "      <td>-111.694</td>\n",
       "      <td>110.83</td>\n",
       "      <td>POLYGON ((-110.07299 56.92500, -110.06535 56.9...</td>\n",
       "      <td>2016-05-12</td>\n",
       "      <td>133</td>\n",
       "      <td>2016-06-04</td>\n",
       "      <td>156</td>\n",
       "      <td>24</td>\n",
       "      <td>4.62</td>\n",
       "      <td>6.37</td>\n",
       "      <td>5.94</td>\n",
       "      <td>7</td>\n",
       "      <td>west</td>\n",
       "      <td>1</td>\n",
       "      <td>Evergreen Needleleaf forest</td>\n",
       "      <td>h11v03</td>\n",
       "      <td>POINT (-111.69489 56.64377)</td>\n",
       "    </tr>\n",
       "    <tr>\n",
       "      <th>34575</th>\n",
       "      <td>34576</td>\n",
       "      <td>56.8188</td>\n",
       "      <td>-110.069</td>\n",
       "      <td>10.72</td>\n",
       "      <td>POLYGON ((-111.57656 56.77917, -111.56135 56.7...</td>\n",
       "      <td>2016-05-20</td>\n",
       "      <td>141</td>\n",
       "      <td>2016-06-12</td>\n",
       "      <td>164</td>\n",
       "      <td>24</td>\n",
       "      <td>0.45</td>\n",
       "      <td>0.95</td>\n",
       "      <td>1.69</td>\n",
       "      <td>3</td>\n",
       "      <td>east</td>\n",
       "      <td>1</td>\n",
       "      <td>Evergreen Needleleaf forest</td>\n",
       "      <td>h11v03</td>\n",
       "      <td>POINT (-110.06913 56.81877)</td>\n",
       "    </tr>\n",
       "    <tr>\n",
       "      <th>34698</th>\n",
       "      <td>34699</td>\n",
       "      <td>56.3188</td>\n",
       "      <td>-110.524</td>\n",
       "      <td>49.52</td>\n",
       "      <td>POLYGON ((-121.47017 56.31250, -121.46266 56.3...</td>\n",
       "      <td>2016-05-06</td>\n",
       "      <td>127</td>\n",
       "      <td>2016-05-27</td>\n",
       "      <td>148</td>\n",
       "      <td>22</td>\n",
       "      <td>2.25</td>\n",
       "      <td>2.93</td>\n",
       "      <td>6.71</td>\n",
       "      <td>3</td>\n",
       "      <td>east</td>\n",
       "      <td>1</td>\n",
       "      <td>Evergreen Needleleaf forest</td>\n",
       "      <td>h11v03</td>\n",
       "      <td>POINT (-110.52454 56.31877)</td>\n",
       "    </tr>\n",
       "    <tr>\n",
       "      <th>34559</th>\n",
       "      <td>34560</td>\n",
       "      <td>56.7646</td>\n",
       "      <td>-110.989</td>\n",
       "      <td>71.17</td>\n",
       "      <td>POLYGON ((-110.76701 56.90417, -110.75175 56.9...</td>\n",
       "      <td>2016-05-15</td>\n",
       "      <td>136</td>\n",
       "      <td>2016-06-04</td>\n",
       "      <td>156</td>\n",
       "      <td>21</td>\n",
       "      <td>3.39</td>\n",
       "      <td>5.73</td>\n",
       "      <td>5.37</td>\n",
       "      <td>8</td>\n",
       "      <td>northwest</td>\n",
       "      <td>1</td>\n",
       "      <td>Evergreen Needleleaf forest</td>\n",
       "      <td>h11v03</td>\n",
       "      <td>POINT (-110.98981 56.76460)</td>\n",
       "    </tr>\n",
       "    <tr>\n",
       "      <th>34570</th>\n",
       "      <td>34571</td>\n",
       "      <td>56.6313</td>\n",
       "      <td>-110.468</td>\n",
       "      <td>74.17</td>\n",
       "      <td>POLYGON ((-110.66162 56.80417, -110.60074 56.8...</td>\n",
       "      <td>2016-05-04</td>\n",
       "      <td>125</td>\n",
       "      <td>2016-05-24</td>\n",
       "      <td>145</td>\n",
       "      <td>21</td>\n",
       "      <td>3.53</td>\n",
       "      <td>4.67</td>\n",
       "      <td>6.57</td>\n",
       "      <td>7</td>\n",
       "      <td>west</td>\n",
       "      <td>1</td>\n",
       "      <td>Evergreen Needleleaf forest</td>\n",
       "      <td>h11v03</td>\n",
       "      <td>POINT (-110.46855 56.63127)</td>\n",
       "    </tr>\n",
       "    <tr>\n",
       "      <th>34582</th>\n",
       "      <td>34583</td>\n",
       "      <td>56.6854</td>\n",
       "      <td>-110.892</td>\n",
       "      <td>204.29</td>\n",
       "      <td>MULTIPOLYGON (((-110.48313 56.78750, -110.4755...</td>\n",
       "      <td>2016-05-04</td>\n",
       "      <td>125</td>\n",
       "      <td>2016-05-24</td>\n",
       "      <td>145</td>\n",
       "      <td>21</td>\n",
       "      <td>9.73</td>\n",
       "      <td>14.97</td>\n",
       "      <td>11.28</td>\n",
       "      <td>3</td>\n",
       "      <td>east</td>\n",
       "      <td>1</td>\n",
       "      <td>Evergreen Needleleaf forest</td>\n",
       "      <td>h11v03</td>\n",
       "      <td>POINT (-110.89292 56.68544)</td>\n",
       "    </tr>\n",
       "    <tr>\n",
       "      <th>34581</th>\n",
       "      <td>34582</td>\n",
       "      <td>56.7479</td>\n",
       "      <td>-110.401</td>\n",
       "      <td>16.29</td>\n",
       "      <td>MULTIPOLYGON (((-110.46106 56.75417, -110.4078...</td>\n",
       "      <td>2016-05-04</td>\n",
       "      <td>125</td>\n",
       "      <td>2016-05-24</td>\n",
       "      <td>145</td>\n",
       "      <td>21</td>\n",
       "      <td>0.78</td>\n",
       "      <td>1.61</td>\n",
       "      <td>1.97</td>\n",
       "      <td>3</td>\n",
       "      <td>east</td>\n",
       "      <td>1</td>\n",
       "      <td>Evergreen Needleleaf forest</td>\n",
       "      <td>h11v03</td>\n",
       "      <td>POINT (-110.40104 56.74794)</td>\n",
       "    </tr>\n",
       "    <tr>\n",
       "      <th>34534</th>\n",
       "      <td>34535</td>\n",
       "      <td>56.8646</td>\n",
       "      <td>-110.173</td>\n",
       "      <td>157.56</td>\n",
       "      <td>MULTIPOLYGON (((-121.55267 57.00833, -121.5450...</td>\n",
       "      <td>2016-05-15</td>\n",
       "      <td>136</td>\n",
       "      <td>2016-06-04</td>\n",
       "      <td>156</td>\n",
       "      <td>21</td>\n",
       "      <td>7.50</td>\n",
       "      <td>11.09</td>\n",
       "      <td>7.53</td>\n",
       "      <td>7</td>\n",
       "      <td>west</td>\n",
       "      <td>1</td>\n",
       "      <td>Evergreen Needleleaf forest</td>\n",
       "      <td>h11v03</td>\n",
       "      <td>POINT (-110.17349 56.86460)</td>\n",
       "    </tr>\n",
       "    <tr>\n",
       "      <th>34665</th>\n",
       "      <td>34666</td>\n",
       "      <td>56.5188</td>\n",
       "      <td>-110.283</td>\n",
       "      <td>24.87</td>\n",
       "      <td>POLYGON ((-110.18045 56.54167, -110.16533 56.5...</td>\n",
       "      <td>2016-05-29</td>\n",
       "      <td>150</td>\n",
       "      <td>2016-06-18</td>\n",
       "      <td>170</td>\n",
       "      <td>21</td>\n",
       "      <td>1.18</td>\n",
       "      <td>1.83</td>\n",
       "      <td>4.17</td>\n",
       "      <td>4</td>\n",
       "      <td>southeast</td>\n",
       "      <td>1</td>\n",
       "      <td>Evergreen Needleleaf forest</td>\n",
       "      <td>h11v03</td>\n",
       "      <td>POINT (-110.28390 56.51877)</td>\n",
       "    </tr>\n",
       "    <tr>\n",
       "      <th>34583</th>\n",
       "      <td>34584</td>\n",
       "      <td>56.6479</td>\n",
       "      <td>-110.767</td>\n",
       "      <td>49.30</td>\n",
       "      <td>POLYGON ((-115.89811 56.76250, -115.88290 56.7...</td>\n",
       "      <td>2016-05-04</td>\n",
       "      <td>125</td>\n",
       "      <td>2016-05-22</td>\n",
       "      <td>143</td>\n",
       "      <td>19</td>\n",
       "      <td>2.59</td>\n",
       "      <td>5.02</td>\n",
       "      <td>4.61</td>\n",
       "      <td>3</td>\n",
       "      <td>east</td>\n",
       "      <td>1</td>\n",
       "      <td>Evergreen Needleleaf forest</td>\n",
       "      <td>h11v03</td>\n",
       "      <td>POINT (-110.76747 56.64794)</td>\n",
       "    </tr>\n",
       "    <tr>\n",
       "      <th>34610</th>\n",
       "      <td>34611</td>\n",
       "      <td>56.6688</td>\n",
       "      <td>-110.214</td>\n",
       "      <td>54.66</td>\n",
       "      <td>POLYGON ((-110.40549 56.62917, -110.39791 56.6...</td>\n",
       "      <td>2016-05-08</td>\n",
       "      <td>129</td>\n",
       "      <td>2016-05-26</td>\n",
       "      <td>147</td>\n",
       "      <td>19</td>\n",
       "      <td>2.88</td>\n",
       "      <td>4.65</td>\n",
       "      <td>3.92</td>\n",
       "      <td>3</td>\n",
       "      <td>east</td>\n",
       "      <td>1</td>\n",
       "      <td>Evergreen Needleleaf forest</td>\n",
       "      <td>h11v03</td>\n",
       "      <td>POINT (-110.21448 56.66877)</td>\n",
       "    </tr>\n",
       "    <tr>\n",
       "      <th>34585</th>\n",
       "      <td>34586</td>\n",
       "      <td>56.5979</td>\n",
       "      <td>-110.280</td>\n",
       "      <td>15.86</td>\n",
       "      <td>MULTIPOLYGON (((-111.10092 56.86250, -111.0628...</td>\n",
       "      <td>2016-05-08</td>\n",
       "      <td>129</td>\n",
       "      <td>2016-05-25</td>\n",
       "      <td>146</td>\n",
       "      <td>18</td>\n",
       "      <td>0.88</td>\n",
       "      <td>1.80</td>\n",
       "      <td>1.49</td>\n",
       "      <td>4</td>\n",
       "      <td>southeast</td>\n",
       "      <td>1</td>\n",
       "      <td>Evergreen Needleleaf forest</td>\n",
       "      <td>h11v03</td>\n",
       "      <td>POINT (-110.28025 56.59794)</td>\n",
       "    </tr>\n",
       "    <tr>\n",
       "      <th>34627</th>\n",
       "      <td>34628</td>\n",
       "      <td>56.6188</td>\n",
       "      <td>-110.091</td>\n",
       "      <td>42.23</td>\n",
       "      <td>POLYGON ((-121.22334 56.59167, -121.20064 56.5...</td>\n",
       "      <td>2016-05-17</td>\n",
       "      <td>138</td>\n",
       "      <td>2016-06-03</td>\n",
       "      <td>155</td>\n",
       "      <td>18</td>\n",
       "      <td>2.35</td>\n",
       "      <td>2.78</td>\n",
       "      <td>6.70</td>\n",
       "      <td>4</td>\n",
       "      <td>southeast</td>\n",
       "      <td>1</td>\n",
       "      <td>Evergreen Needleleaf forest</td>\n",
       "      <td>h11v03</td>\n",
       "      <td>POINT (-110.09119 56.61877)</td>\n",
       "    </tr>\n",
       "    <tr>\n",
       "      <th>34593</th>\n",
       "      <td>34594</td>\n",
       "      <td>56.7813</td>\n",
       "      <td>-110.392</td>\n",
       "      <td>10.29</td>\n",
       "      <td>POLYGON ((-110.25916 56.67500, -110.25158 56.6...</td>\n",
       "      <td>2016-05-08</td>\n",
       "      <td>129</td>\n",
       "      <td>2016-05-24</td>\n",
       "      <td>145</td>\n",
       "      <td>17</td>\n",
       "      <td>0.61</td>\n",
       "      <td>1.09</td>\n",
       "      <td>1.75</td>\n",
       "      <td>8</td>\n",
       "      <td>northwest</td>\n",
       "      <td>1</td>\n",
       "      <td>Evergreen Needleleaf forest</td>\n",
       "      <td>h11v03</td>\n",
       "      <td>POINT (-110.39262 56.78127)</td>\n",
       "    </tr>\n",
       "    <tr>\n",
       "      <th>34554</th>\n",
       "      <td>34555</td>\n",
       "      <td>56.8771</td>\n",
       "      <td>-110.500</td>\n",
       "      <td>19.94</td>\n",
       "      <td>POLYGON ((-110.91431 56.84583, -110.89145 56.8...</td>\n",
       "      <td>2016-05-18</td>\n",
       "      <td>139</td>\n",
       "      <td>2016-06-03</td>\n",
       "      <td>155</td>\n",
       "      <td>17</td>\n",
       "      <td>1.17</td>\n",
       "      <td>2.29</td>\n",
       "      <td>5.83</td>\n",
       "      <td>4</td>\n",
       "      <td>southeast</td>\n",
       "      <td>1</td>\n",
       "      <td>Evergreen Needleleaf forest</td>\n",
       "      <td>h11v03</td>\n",
       "      <td>POINT (-110.50008 56.87710)</td>\n",
       "    </tr>\n",
       "    <tr>\n",
       "      <th>34566</th>\n",
       "      <td>34567</td>\n",
       "      <td>56.7938</td>\n",
       "      <td>-111.433</td>\n",
       "      <td>13.93</td>\n",
       "      <td>POLYGON ((-110.54921 56.81250, -110.53399 56.8...</td>\n",
       "      <td>2016-04-02</td>\n",
       "      <td>93</td>\n",
       "      <td>2016-04-17</td>\n",
       "      <td>108</td>\n",
       "      <td>16</td>\n",
       "      <td>0.87</td>\n",
       "      <td>1.79</td>\n",
       "      <td>4.07</td>\n",
       "      <td>8</td>\n",
       "      <td>northwest</td>\n",
       "      <td>1</td>\n",
       "      <td>Evergreen Needleleaf forest</td>\n",
       "      <td>h11v03</td>\n",
       "      <td>POINT (-111.43370 56.79377)</td>\n",
       "    </tr>\n",
       "    <tr>\n",
       "      <th>34573</th>\n",
       "      <td>34574</td>\n",
       "      <td>56.2438</td>\n",
       "      <td>-110.795</td>\n",
       "      <td>16.08</td>\n",
       "      <td>MULTIPOLYGON (((-111.43326 56.83333, -111.4256...</td>\n",
       "      <td>2016-05-15</td>\n",
       "      <td>136</td>\n",
       "      <td>2016-05-27</td>\n",
       "      <td>148</td>\n",
       "      <td>13</td>\n",
       "      <td>1.24</td>\n",
       "      <td>2.60</td>\n",
       "      <td>2.41</td>\n",
       "      <td>4</td>\n",
       "      <td>southeast</td>\n",
       "      <td>1</td>\n",
       "      <td>Evergreen Needleleaf forest</td>\n",
       "      <td>h11v03</td>\n",
       "      <td>POINT (-110.79538 56.24377)</td>\n",
       "    </tr>\n",
       "    <tr>\n",
       "      <th>34590</th>\n",
       "      <td>34591</td>\n",
       "      <td>56.8021</td>\n",
       "      <td>-110.530</td>\n",
       "      <td>2.14</td>\n",
       "      <td>POLYGON ((-121.10280 56.67917, -121.09521 56.6...</td>\n",
       "      <td>2016-05-26</td>\n",
       "      <td>147</td>\n",
       "      <td>2016-06-07</td>\n",
       "      <td>159</td>\n",
       "      <td>13</td>\n",
       "      <td>0.16</td>\n",
       "      <td>0.36</td>\n",
       "      <td>0.77</td>\n",
       "      <td>3</td>\n",
       "      <td>east</td>\n",
       "      <td>1</td>\n",
       "      <td>Evergreen Needleleaf forest</td>\n",
       "      <td>h11v03</td>\n",
       "      <td>POINT (-110.53006 56.80210)</td>\n",
       "    </tr>\n",
       "    <tr>\n",
       "      <th>34572</th>\n",
       "      <td>34573</td>\n",
       "      <td>56.6188</td>\n",
       "      <td>-110.780</td>\n",
       "      <td>5.36</td>\n",
       "      <td>MULTIPOLYGON (((-110.67215 56.80000, -110.6645...</td>\n",
       "      <td>2016-05-08</td>\n",
       "      <td>129</td>\n",
       "      <td>2016-05-20</td>\n",
       "      <td>141</td>\n",
       "      <td>13</td>\n",
       "      <td>0.41</td>\n",
       "      <td>0.89</td>\n",
       "      <td>2.92</td>\n",
       "      <td>3</td>\n",
       "      <td>east</td>\n",
       "      <td>1</td>\n",
       "      <td>Evergreen Needleleaf forest</td>\n",
       "      <td>h11v03</td>\n",
       "      <td>POINT (-110.78032 56.61877)</td>\n",
       "    </tr>\n",
       "    <tr>\n",
       "      <th>34565</th>\n",
       "      <td>34566</td>\n",
       "      <td>56.4063</td>\n",
       "      <td>-110.951</td>\n",
       "      <td>1.50</td>\n",
       "      <td>POLYGON ((-120.04139 56.81250, -120.02616 56.8...</td>\n",
       "      <td>2016-04-01</td>\n",
       "      <td>92</td>\n",
       "      <td>2016-04-12</td>\n",
       "      <td>103</td>\n",
       "      <td>12</td>\n",
       "      <td>0.13</td>\n",
       "      <td>0.27</td>\n",
       "      <td>0.63</td>\n",
       "      <td>4</td>\n",
       "      <td>southeast</td>\n",
       "      <td>10</td>\n",
       "      <td>Grasslands</td>\n",
       "      <td>h11v03</td>\n",
       "      <td>POINT (-110.95172 56.40627)</td>\n",
       "    </tr>\n",
       "    <tr>\n",
       "      <th>34571</th>\n",
       "      <td>34572</td>\n",
       "      <td>56.5688</td>\n",
       "      <td>-111.412</td>\n",
       "      <td>3.86</td>\n",
       "      <td>POLYGON ((-119.99195 56.82083, -119.96150 56.8...</td>\n",
       "      <td>2016-05-05</td>\n",
       "      <td>126</td>\n",
       "      <td>2016-05-16</td>\n",
       "      <td>137</td>\n",
       "      <td>12</td>\n",
       "      <td>0.32</td>\n",
       "      <td>0.69</td>\n",
       "      <td>2.24</td>\n",
       "      <td>4</td>\n",
       "      <td>southeast</td>\n",
       "      <td>1</td>\n",
       "      <td>Evergreen Needleleaf forest</td>\n",
       "      <td>h11v03</td>\n",
       "      <td>POINT (-111.41282 56.56877)</td>\n",
       "    </tr>\n",
       "    <tr>\n",
       "      <th>34577</th>\n",
       "      <td>34578</td>\n",
       "      <td>56.7938</td>\n",
       "      <td>-110.604</td>\n",
       "      <td>9.65</td>\n",
       "      <td>POLYGON ((-120.11527 56.76667, -120.10767 56.7...</td>\n",
       "      <td>2016-05-04</td>\n",
       "      <td>125</td>\n",
       "      <td>2016-05-14</td>\n",
       "      <td>135</td>\n",
       "      <td>11</td>\n",
       "      <td>0.88</td>\n",
       "      <td>1.81</td>\n",
       "      <td>1.34</td>\n",
       "      <td>8</td>\n",
       "      <td>northwest</td>\n",
       "      <td>1</td>\n",
       "      <td>Evergreen Needleleaf forest</td>\n",
       "      <td>h11v03</td>\n",
       "      <td>POINT (-110.60440 56.79377)</td>\n",
       "    </tr>\n",
       "    <tr>\n",
       "      <th>34580</th>\n",
       "      <td>34581</td>\n",
       "      <td>56.7479</td>\n",
       "      <td>-110.416</td>\n",
       "      <td>2.36</td>\n",
       "      <td>POLYGON ((-111.59067 56.75833, -111.57546 56.7...</td>\n",
       "      <td>2016-05-04</td>\n",
       "      <td>125</td>\n",
       "      <td>2016-05-14</td>\n",
       "      <td>135</td>\n",
       "      <td>11</td>\n",
       "      <td>0.21</td>\n",
       "      <td>0.46</td>\n",
       "      <td>0.93</td>\n",
       "      <td>3</td>\n",
       "      <td>east</td>\n",
       "      <td>1</td>\n",
       "      <td>Evergreen Needleleaf forest</td>\n",
       "      <td>h11v03</td>\n",
       "      <td>POINT (-110.41624 56.74794)</td>\n",
       "    </tr>\n",
       "    <tr>\n",
       "      <th>34578</th>\n",
       "      <td>34579</td>\n",
       "      <td>56.7896</td>\n",
       "      <td>-110.607</td>\n",
       "      <td>6.65</td>\n",
       "      <td>POLYGON ((-111.09558 56.77083, -111.08037 56.7...</td>\n",
       "      <td>2016-05-04</td>\n",
       "      <td>125</td>\n",
       "      <td>2016-05-14</td>\n",
       "      <td>135</td>\n",
       "      <td>11</td>\n",
       "      <td>0.60</td>\n",
       "      <td>1.30</td>\n",
       "      <td>1.78</td>\n",
       "      <td>7</td>\n",
       "      <td>west</td>\n",
       "      <td>1</td>\n",
       "      <td>Evergreen Needleleaf forest</td>\n",
       "      <td>h11v03</td>\n",
       "      <td>POINT (-110.60733 56.78960)</td>\n",
       "    </tr>\n",
       "    <tr>\n",
       "      <th>34591</th>\n",
       "      <td>34592</td>\n",
       "      <td>56.8104</td>\n",
       "      <td>-110.516</td>\n",
       "      <td>2.79</td>\n",
       "      <td>POLYGON ((-121.08763 56.67917, -121.08004 56.6...</td>\n",
       "      <td>2016-05-27</td>\n",
       "      <td>148</td>\n",
       "      <td>2016-06-06</td>\n",
       "      <td>158</td>\n",
       "      <td>11</td>\n",
       "      <td>0.25</td>\n",
       "      <td>0.55</td>\n",
       "      <td>0.95</td>\n",
       "      <td>4</td>\n",
       "      <td>southeast</td>\n",
       "      <td>1</td>\n",
       "      <td>Evergreen Needleleaf forest</td>\n",
       "      <td>h11v03</td>\n",
       "      <td>POINT (-110.51658 56.81044)</td>\n",
       "    </tr>\n",
       "    <tr>\n",
       "      <th>34563</th>\n",
       "      <td>34564</td>\n",
       "      <td>56.8438</td>\n",
       "      <td>-110.904</td>\n",
       "      <td>9.43</td>\n",
       "      <td>MULTIPOLYGON (((-110.51583 56.81667, -110.5006...</td>\n",
       "      <td>2016-05-17</td>\n",
       "      <td>138</td>\n",
       "      <td>2016-05-27</td>\n",
       "      <td>148</td>\n",
       "      <td>11</td>\n",
       "      <td>0.86</td>\n",
       "      <td>1.56</td>\n",
       "      <td>6.12</td>\n",
       "      <td>7</td>\n",
       "      <td>west</td>\n",
       "      <td>1</td>\n",
       "      <td>Evergreen Needleleaf forest</td>\n",
       "      <td>h11v03</td>\n",
       "      <td>POINT (-110.90447 56.84377)</td>\n",
       "    </tr>\n",
       "    <tr>\n",
       "      <th>34552</th>\n",
       "      <td>34553</td>\n",
       "      <td>56.8646</td>\n",
       "      <td>-110.676</td>\n",
       "      <td>35.37</td>\n",
       "      <td>POLYGON ((-110.86570 56.85000, -110.85808 56.8...</td>\n",
       "      <td>2016-05-17</td>\n",
       "      <td>138</td>\n",
       "      <td>2016-05-27</td>\n",
       "      <td>148</td>\n",
       "      <td>11</td>\n",
       "      <td>3.22</td>\n",
       "      <td>5.56</td>\n",
       "      <td>2.72</td>\n",
       "      <td>4</td>\n",
       "      <td>southeast</td>\n",
       "      <td>1</td>\n",
       "      <td>Evergreen Needleleaf forest</td>\n",
       "      <td>h11v03</td>\n",
       "      <td>POINT (-110.67658 56.86460)</td>\n",
       "    </tr>\n",
       "    <tr>\n",
       "      <th>34618</th>\n",
       "      <td>34619</td>\n",
       "      <td>56.6479</td>\n",
       "      <td>-111.222</td>\n",
       "      <td>0.64</td>\n",
       "      <td>POLYGON ((-121.13570 56.63750, -121.10539 56.6...</td>\n",
       "      <td>2016-04-01</td>\n",
       "      <td>92</td>\n",
       "      <td>2016-04-11</td>\n",
       "      <td>102</td>\n",
       "      <td>11</td>\n",
       "      <td>0.06</td>\n",
       "      <td>0.13</td>\n",
       "      <td>0.35</td>\n",
       "      <td>3</td>\n",
       "      <td>east</td>\n",
       "      <td>10</td>\n",
       "      <td>Grasslands</td>\n",
       "      <td>h11v03</td>\n",
       "      <td>POINT (-111.22219 56.64794)</td>\n",
       "    </tr>\n",
       "    <tr>\n",
       "      <th>34701</th>\n",
       "      <td>34702</td>\n",
       "      <td>56.3104</td>\n",
       "      <td>-110.613</td>\n",
       "      <td>4.72</td>\n",
       "      <td>MULTIPOLYGON (((-121.41937 56.30833, -121.3968...</td>\n",
       "      <td>2016-05-10</td>\n",
       "      <td>131</td>\n",
       "      <td>2016-05-20</td>\n",
       "      <td>141</td>\n",
       "      <td>11</td>\n",
       "      <td>0.43</td>\n",
       "      <td>0.93</td>\n",
       "      <td>1.53</td>\n",
       "      <td>4</td>\n",
       "      <td>southeast</td>\n",
       "      <td>1</td>\n",
       "      <td>Evergreen Needleleaf forest</td>\n",
       "      <td>h11v03</td>\n",
       "      <td>POINT (-110.61310 56.31044)</td>\n",
       "    </tr>\n",
       "    <tr>\n",
       "      <th>34542</th>\n",
       "      <td>34543</td>\n",
       "      <td>56.6313</td>\n",
       "      <td>-112.021</td>\n",
       "      <td>3.43</td>\n",
       "      <td>POLYGON ((-111.11993 56.91250, -111.11229 56.9...</td>\n",
       "      <td>2016-05-24</td>\n",
       "      <td>145</td>\n",
       "      <td>2016-06-03</td>\n",
       "      <td>155</td>\n",
       "      <td>11</td>\n",
       "      <td>0.31</td>\n",
       "      <td>0.67</td>\n",
       "      <td>1.16</td>\n",
       "      <td>3</td>\n",
       "      <td>east</td>\n",
       "      <td>1</td>\n",
       "      <td>Evergreen Needleleaf forest</td>\n",
       "      <td>h11v03</td>\n",
       "      <td>POINT (-112.02151 56.63127)</td>\n",
       "    </tr>\n",
       "    <tr>\n",
       "      <th>34536</th>\n",
       "      <td>34537</td>\n",
       "      <td>56.8688</td>\n",
       "      <td>-110.338</td>\n",
       "      <td>27.22</td>\n",
       "      <td>POLYGON ((-121.29020 56.95833, -121.28256 56.9...</td>\n",
       "      <td>2016-05-18</td>\n",
       "      <td>139</td>\n",
       "      <td>2016-05-27</td>\n",
       "      <td>148</td>\n",
       "      <td>10</td>\n",
       "      <td>2.72</td>\n",
       "      <td>5.14</td>\n",
       "      <td>2.85</td>\n",
       "      <td>4</td>\n",
       "      <td>southeast</td>\n",
       "      <td>1</td>\n",
       "      <td>Evergreen Needleleaf forest</td>\n",
       "      <td>h11v03</td>\n",
       "      <td>POINT (-110.33824 56.86877)</td>\n",
       "    </tr>\n",
       "    <tr>\n",
       "      <th>34674</th>\n",
       "      <td>34675</td>\n",
       "      <td>56.5021</td>\n",
       "      <td>-111.481</td>\n",
       "      <td>9.43</td>\n",
       "      <td>POLYGON ((-120.18098 56.47083, -120.16589 56.4...</td>\n",
       "      <td>2016-05-16</td>\n",
       "      <td>137</td>\n",
       "      <td>2016-05-25</td>\n",
       "      <td>146</td>\n",
       "      <td>10</td>\n",
       "      <td>0.94</td>\n",
       "      <td>1.81</td>\n",
       "      <td>1.78</td>\n",
       "      <td>7</td>\n",
       "      <td>west</td>\n",
       "      <td>1</td>\n",
       "      <td>Evergreen Needleleaf forest</td>\n",
       "      <td>h11v03</td>\n",
       "      <td>POINT (-111.48111 56.50210)</td>\n",
       "    </tr>\n",
       "    <tr>\n",
       "      <th>34579</th>\n",
       "      <td>34580</td>\n",
       "      <td>56.7604</td>\n",
       "      <td>-110.491</td>\n",
       "      <td>13.29</td>\n",
       "      <td>POLYGON ((-110.85046 56.76250, -110.83526 56.7...</td>\n",
       "      <td>2016-05-04</td>\n",
       "      <td>125</td>\n",
       "      <td>2016-05-13</td>\n",
       "      <td>134</td>\n",
       "      <td>10</td>\n",
       "      <td>1.33</td>\n",
       "      <td>2.69</td>\n",
       "      <td>1.32</td>\n",
       "      <td>3</td>\n",
       "      <td>east</td>\n",
       "      <td>1</td>\n",
       "      <td>Evergreen Needleleaf forest</td>\n",
       "      <td>h11v03</td>\n",
       "      <td>POINT (-110.49100 56.76044)</td>\n",
       "    </tr>\n",
       "    <tr>\n",
       "      <th>34543</th>\n",
       "      <td>34544</td>\n",
       "      <td>56.9438</td>\n",
       "      <td>-111.117</td>\n",
       "      <td>1.29</td>\n",
       "      <td>POLYGON ((-111.12279 56.90833, -111.11516 56.9...</td>\n",
       "      <td>2016-05-20</td>\n",
       "      <td>141</td>\n",
       "      <td>2016-05-29</td>\n",
       "      <td>150</td>\n",
       "      <td>10</td>\n",
       "      <td>0.13</td>\n",
       "      <td>0.28</td>\n",
       "      <td>0.88</td>\n",
       "      <td>3</td>\n",
       "      <td>east</td>\n",
       "      <td>1</td>\n",
       "      <td>Evergreen Needleleaf forest</td>\n",
       "      <td>h11v03</td>\n",
       "      <td>POINT (-111.11770 56.94377)</td>\n",
       "    </tr>\n",
       "    <tr>\n",
       "      <th>34567</th>\n",
       "      <td>34568</td>\n",
       "      <td>56.4146</td>\n",
       "      <td>-110.968</td>\n",
       "      <td>1.07</td>\n",
       "      <td>POLYGON ((-120.04514 56.80417, -120.03753 56.8...</td>\n",
       "      <td>2016-04-03</td>\n",
       "      <td>94</td>\n",
       "      <td>2016-04-11</td>\n",
       "      <td>102</td>\n",
       "      <td>9</td>\n",
       "      <td>0.12</td>\n",
       "      <td>0.26</td>\n",
       "      <td>0.87</td>\n",
       "      <td>8</td>\n",
       "      <td>northwest</td>\n",
       "      <td>10</td>\n",
       "      <td>Grasslands</td>\n",
       "      <td>h11v03</td>\n",
       "      <td>POINT (-110.96849 56.41460)</td>\n",
       "    </tr>\n",
       "    <tr>\n",
       "      <th>34535</th>\n",
       "      <td>34536</td>\n",
       "      <td>56.9021</td>\n",
       "      <td>-110.337</td>\n",
       "      <td>27.44</td>\n",
       "      <td>POLYGON ((-121.28847 56.96250, -121.28083 56.9...</td>\n",
       "      <td>2016-05-18</td>\n",
       "      <td>139</td>\n",
       "      <td>2016-05-26</td>\n",
       "      <td>147</td>\n",
       "      <td>9</td>\n",
       "      <td>3.05</td>\n",
       "      <td>6.38</td>\n",
       "      <td>1.70</td>\n",
       "      <td>8</td>\n",
       "      <td>northwest</td>\n",
       "      <td>1</td>\n",
       "      <td>Evergreen Needleleaf forest</td>\n",
       "      <td>h11v03</td>\n",
       "      <td>POINT (-110.33750 56.90210)</td>\n",
       "    </tr>\n",
       "    <tr>\n",
       "      <th>34660</th>\n",
       "      <td>34661</td>\n",
       "      <td>56.5313</td>\n",
       "      <td>-110.169</td>\n",
       "      <td>6.86</td>\n",
       "      <td>POLYGON ((-109.38104 56.52917, -109.37348 56.5...</td>\n",
       "      <td>2016-06-04</td>\n",
       "      <td>156</td>\n",
       "      <td>2016-06-12</td>\n",
       "      <td>164</td>\n",
       "      <td>9</td>\n",
       "      <td>0.76</td>\n",
       "      <td>1.59</td>\n",
       "      <td>1.54</td>\n",
       "      <td>4</td>\n",
       "      <td>southeast</td>\n",
       "      <td>1</td>\n",
       "      <td>Evergreen Needleleaf forest</td>\n",
       "      <td>h11v03</td>\n",
       "      <td>POINT (-110.16918 56.53127)</td>\n",
       "    </tr>\n",
       "    <tr>\n",
       "      <th>34551</th>\n",
       "      <td>34552</td>\n",
       "      <td>56.8396</td>\n",
       "      <td>-111.227</td>\n",
       "      <td>30.44</td>\n",
       "      <td>POLYGON ((-119.20158 56.85000, -119.19396 56.8...</td>\n",
       "      <td>2016-05-16</td>\n",
       "      <td>137</td>\n",
       "      <td>2016-05-24</td>\n",
       "      <td>145</td>\n",
       "      <td>9</td>\n",
       "      <td>3.38</td>\n",
       "      <td>6.28</td>\n",
       "      <td>2.06</td>\n",
       "      <td>4</td>\n",
       "      <td>southeast</td>\n",
       "      <td>1</td>\n",
       "      <td>Evergreen Needleleaf forest</td>\n",
       "      <td>h11v03</td>\n",
       "      <td>POINT (-111.22730 56.83960)</td>\n",
       "    </tr>\n",
       "    <tr>\n",
       "      <th>34550</th>\n",
       "      <td>34551</td>\n",
       "      <td>56.8938</td>\n",
       "      <td>-111.152</td>\n",
       "      <td>20.79</td>\n",
       "      <td>POLYGON ((-110.05503 56.85417, -110.04741 56.8...</td>\n",
       "      <td>2016-05-16</td>\n",
       "      <td>137</td>\n",
       "      <td>2016-05-24</td>\n",
       "      <td>145</td>\n",
       "      <td>9</td>\n",
       "      <td>2.31</td>\n",
       "      <td>2.88</td>\n",
       "      <td>5.70</td>\n",
       "      <td>7</td>\n",
       "      <td>west</td>\n",
       "      <td>1</td>\n",
       "      <td>Evergreen Needleleaf forest</td>\n",
       "      <td>h11v03</td>\n",
       "      <td>POINT (-111.15203 56.89377)</td>\n",
       "    </tr>\n",
       "    <tr>\n",
       "      <th>34564</th>\n",
       "      <td>34565</td>\n",
       "      <td>56.8313</td>\n",
       "      <td>-110.844</td>\n",
       "      <td>11.79</td>\n",
       "      <td>MULTIPOLYGON (((-110.02127 56.83750, -110.0136...</td>\n",
       "      <td>2016-05-18</td>\n",
       "      <td>139</td>\n",
       "      <td>2016-05-26</td>\n",
       "      <td>147</td>\n",
       "      <td>9</td>\n",
       "      <td>1.31</td>\n",
       "      <td>2.42</td>\n",
       "      <td>1.96</td>\n",
       "      <td>3</td>\n",
       "      <td>east</td>\n",
       "      <td>1</td>\n",
       "      <td>Evergreen Needleleaf forest</td>\n",
       "      <td>h11v03</td>\n",
       "      <td>POINT (-110.84460 56.83127)</td>\n",
       "    </tr>\n",
       "    <tr>\n",
       "      <th>34603</th>\n",
       "      <td>34604</td>\n",
       "      <td>56.7604</td>\n",
       "      <td>-111.083</td>\n",
       "      <td>4.93</td>\n",
       "      <td>POLYGON ((-121.09782 56.63750, -121.08266 56.6...</td>\n",
       "      <td>2016-05-21</td>\n",
       "      <td>142</td>\n",
       "      <td>2016-05-29</td>\n",
       "      <td>150</td>\n",
       "      <td>9</td>\n",
       "      <td>0.55</td>\n",
       "      <td>0.98</td>\n",
       "      <td>1.51</td>\n",
       "      <td>3</td>\n",
       "      <td>east</td>\n",
       "      <td>1</td>\n",
       "      <td>Evergreen Needleleaf forest</td>\n",
       "      <td>h11v03</td>\n",
       "      <td>POINT (-111.08391 56.76044)</td>\n",
       "    </tr>\n",
       "    <tr>\n",
       "      <th>34549</th>\n",
       "      <td>34550</td>\n",
       "      <td>56.8313</td>\n",
       "      <td>-111.179</td>\n",
       "      <td>6.86</td>\n",
       "      <td>POLYGON ((-111.21722 56.90417, -111.20959 56.9...</td>\n",
       "      <td>2016-05-15</td>\n",
       "      <td>136</td>\n",
       "      <td>2016-05-22</td>\n",
       "      <td>143</td>\n",
       "      <td>8</td>\n",
       "      <td>0.86</td>\n",
       "      <td>1.79</td>\n",
       "      <td>1.09</td>\n",
       "      <td>7</td>\n",
       "      <td>west</td>\n",
       "      <td>1</td>\n",
       "      <td>Evergreen Needleleaf forest</td>\n",
       "      <td>h11v03</td>\n",
       "      <td>POINT (-111.17970 56.83127)</td>\n",
       "    </tr>\n",
       "    <tr>\n",
       "      <th>34568</th>\n",
       "      <td>34569</td>\n",
       "      <td>56.6896</td>\n",
       "      <td>-111.201</td>\n",
       "      <td>3.86</td>\n",
       "      <td>MULTIPOLYGON (((-110.24661 56.97083, -110.2313...</td>\n",
       "      <td>2016-04-04</td>\n",
       "      <td>95</td>\n",
       "      <td>2016-04-11</td>\n",
       "      <td>102</td>\n",
       "      <td>8</td>\n",
       "      <td>0.48</td>\n",
       "      <td>1.04</td>\n",
       "      <td>1.20</td>\n",
       "      <td>4</td>\n",
       "      <td>southeast</td>\n",
       "      <td>5</td>\n",
       "      <td>Mixed forest</td>\n",
       "      <td>h11v03</td>\n",
       "      <td>POINT (-111.20109 56.68960)</td>\n",
       "    </tr>\n",
       "    <tr>\n",
       "      <th>34586</th>\n",
       "      <td>34587</td>\n",
       "      <td>56.6438</td>\n",
       "      <td>-110.239</td>\n",
       "      <td>1.29</td>\n",
       "      <td>POLYGON ((-111.42245 56.73750, -111.41485 56.7...</td>\n",
       "      <td>2016-05-10</td>\n",
       "      <td>131</td>\n",
       "      <td>2016-05-15</td>\n",
       "      <td>136</td>\n",
       "      <td>6</td>\n",
       "      <td>0.21</td>\n",
       "      <td>0.46</td>\n",
       "      <td>0.82</td>\n",
       "      <td>4</td>\n",
       "      <td>southeast</td>\n",
       "      <td>1</td>\n",
       "      <td>Evergreen Needleleaf forest</td>\n",
       "      <td>h11v03</td>\n",
       "      <td>POINT (-110.23993 56.64377)</td>\n",
       "    </tr>\n",
       "    <tr>\n",
       "      <th>34574</th>\n",
       "      <td>34575</td>\n",
       "      <td>56.8146</td>\n",
       "      <td>-111.465</td>\n",
       "      <td>1.07</td>\n",
       "      <td>POLYGON ((-110.40753 56.80833, -110.38470 56.8...</td>\n",
       "      <td>2016-05-19</td>\n",
       "      <td>140</td>\n",
       "      <td>2016-05-24</td>\n",
       "      <td>145</td>\n",
       "      <td>6</td>\n",
       "      <td>0.18</td>\n",
       "      <td>0.39</td>\n",
       "      <td>0.63</td>\n",
       "      <td>3</td>\n",
       "      <td>east</td>\n",
       "      <td>1</td>\n",
       "      <td>Evergreen Needleleaf forest</td>\n",
       "      <td>h11v03</td>\n",
       "      <td>POINT (-111.46519 56.81460)</td>\n",
       "    </tr>\n",
       "    <tr>\n",
       "      <th>34602</th>\n",
       "      <td>34603</td>\n",
       "      <td>56.7729</td>\n",
       "      <td>-111.569</td>\n",
       "      <td>0.86</td>\n",
       "      <td>POLYGON ((-110.25724 56.64583, -110.24208 56.6...</td>\n",
       "      <td>2016-05-20</td>\n",
       "      <td>141</td>\n",
       "      <td>2016-05-24</td>\n",
       "      <td>145</td>\n",
       "      <td>5</td>\n",
       "      <td>0.17</td>\n",
       "      <td>0.37</td>\n",
       "      <td>0.74</td>\n",
       "      <td>3</td>\n",
       "      <td>east</td>\n",
       "      <td>5</td>\n",
       "      <td>Mixed forest</td>\n",
       "      <td>h11v03</td>\n",
       "      <td>POINT (-111.56954 56.77294)</td>\n",
       "    </tr>\n",
       "    <tr>\n",
       "      <th>34584</th>\n",
       "      <td>34585</td>\n",
       "      <td>56.6563</td>\n",
       "      <td>-110.390</td>\n",
       "      <td>2.79</td>\n",
       "      <td>POLYGON ((-110.44167 56.77083, -110.38084 56.7...</td>\n",
       "      <td>2016-05-08</td>\n",
       "      <td>129</td>\n",
       "      <td>2016-05-12</td>\n",
       "      <td>133</td>\n",
       "      <td>5</td>\n",
       "      <td>0.56</td>\n",
       "      <td>1.20</td>\n",
       "      <td>0.79</td>\n",
       "      <td>4</td>\n",
       "      <td>southeast</td>\n",
       "      <td>1</td>\n",
       "      <td>Evergreen Needleleaf forest</td>\n",
       "      <td>h11v03</td>\n",
       "      <td>POINT (-110.39019 56.65627)</td>\n",
       "    </tr>\n",
       "    <tr>\n",
       "      <th>34680</th>\n",
       "      <td>34681</td>\n",
       "      <td>56.4438</td>\n",
       "      <td>-110.450</td>\n",
       "      <td>3.22</td>\n",
       "      <td>POLYGON ((-110.50042 56.40000, -110.47783 56.4...</td>\n",
       "      <td>2016-05-20</td>\n",
       "      <td>141</td>\n",
       "      <td>2016-05-24</td>\n",
       "      <td>145</td>\n",
       "      <td>5</td>\n",
       "      <td>0.64</td>\n",
       "      <td>1.30</td>\n",
       "      <td>1.40</td>\n",
       "      <td>3</td>\n",
       "      <td>east</td>\n",
       "      <td>1</td>\n",
       "      <td>Evergreen Needleleaf forest</td>\n",
       "      <td>h11v03</td>\n",
       "      <td>POINT (-110.45060 56.44377)</td>\n",
       "    </tr>\n",
       "    <tr>\n",
       "      <th>34690</th>\n",
       "      <td>34691</td>\n",
       "      <td>56.3688</td>\n",
       "      <td>-110.398</td>\n",
       "      <td>2.57</td>\n",
       "      <td>POLYGON ((-110.37056 56.35000, -110.36304 56.3...</td>\n",
       "      <td>2016-05-16</td>\n",
       "      <td>137</td>\n",
       "      <td>2016-05-20</td>\n",
       "      <td>141</td>\n",
       "      <td>5</td>\n",
       "      <td>0.51</td>\n",
       "      <td>1.11</td>\n",
       "      <td>1.06</td>\n",
       "      <td>7</td>\n",
       "      <td>west</td>\n",
       "      <td>5</td>\n",
       "      <td>Mixed forest</td>\n",
       "      <td>h11v03</td>\n",
       "      <td>POINT (-110.39867 56.36877)</td>\n",
       "    </tr>\n",
       "    <tr>\n",
       "      <th>34694</th>\n",
       "      <td>34695</td>\n",
       "      <td>56.3396</td>\n",
       "      <td>-110.351</td>\n",
       "      <td>4.29</td>\n",
       "      <td>POLYGON ((-121.63820 56.34167, -121.63068 56.3...</td>\n",
       "      <td>2016-05-18</td>\n",
       "      <td>139</td>\n",
       "      <td>2016-05-22</td>\n",
       "      <td>143</td>\n",
       "      <td>5</td>\n",
       "      <td>0.86</td>\n",
       "      <td>1.67</td>\n",
       "      <td>1.41</td>\n",
       "      <td>4</td>\n",
       "      <td>southeast</td>\n",
       "      <td>1</td>\n",
       "      <td>Evergreen Needleleaf forest</td>\n",
       "      <td>h11v03</td>\n",
       "      <td>POINT (-110.35185 56.33960)</td>\n",
       "    </tr>\n",
       "    <tr>\n",
       "      <th>34607</th>\n",
       "      <td>34608</td>\n",
       "      <td>56.7521</td>\n",
       "      <td>-111.583</td>\n",
       "      <td>0.86</td>\n",
       "      <td>POLYGON ((-112.04370 56.63750, -111.99824 56.6...</td>\n",
       "      <td>2016-05-16</td>\n",
       "      <td>137</td>\n",
       "      <td>2016-05-20</td>\n",
       "      <td>141</td>\n",
       "      <td>5</td>\n",
       "      <td>0.17</td>\n",
       "      <td>0.37</td>\n",
       "      <td>1.13</td>\n",
       "      <td>3</td>\n",
       "      <td>east</td>\n",
       "      <td>5</td>\n",
       "      <td>Mixed forest</td>\n",
       "      <td>h11v03</td>\n",
       "      <td>POINT (-111.58365 56.75210)</td>\n",
       "    </tr>\n",
       "    <tr>\n",
       "      <th>34556</th>\n",
       "      <td>34557</td>\n",
       "      <td>56.8688</td>\n",
       "      <td>-111.367</td>\n",
       "      <td>0.64</td>\n",
       "      <td>POLYGON ((-121.60095 56.83333, -121.59333 56.8...</td>\n",
       "      <td>2016-04-04</td>\n",
       "      <td>95</td>\n",
       "      <td>2016-04-07</td>\n",
       "      <td>98</td>\n",
       "      <td>4</td>\n",
       "      <td>0.16</td>\n",
       "      <td>0.35</td>\n",
       "      <td>0.54</td>\n",
       "      <td>4</td>\n",
       "      <td>southeast</td>\n",
       "      <td>10</td>\n",
       "      <td>Grasslands</td>\n",
       "      <td>h11v03</td>\n",
       "      <td>POINT (-111.36740 56.86877)</td>\n",
       "    </tr>\n",
       "    <tr>\n",
       "      <th>34713</th>\n",
       "      <td>34714</td>\n",
       "      <td>56.2396</td>\n",
       "      <td>-110.475</td>\n",
       "      <td>2.14</td>\n",
       "      <td>POLYGON ((-110.79163 56.25417, -110.78413 56.2...</td>\n",
       "      <td>2016-05-18</td>\n",
       "      <td>139</td>\n",
       "      <td>2016-05-20</td>\n",
       "      <td>141</td>\n",
       "      <td>3</td>\n",
       "      <td>0.71</td>\n",
       "      <td>1.54</td>\n",
       "      <td>1.71</td>\n",
       "      <td>8</td>\n",
       "      <td>northwest</td>\n",
       "      <td>1</td>\n",
       "      <td>Evergreen Needleleaf forest</td>\n",
       "      <td>h11v03</td>\n",
       "      <td>POINT (-110.47592 56.23960)</td>\n",
       "    </tr>\n",
       "    <tr>\n",
       "      <th>34588</th>\n",
       "      <td>34589</td>\n",
       "      <td>56.7271</td>\n",
       "      <td>-110.256</td>\n",
       "      <td>3.43</td>\n",
       "      <td>POLYGON ((-110.27533 56.73750, -110.25254 56.7...</td>\n",
       "      <td>2016-05-16</td>\n",
       "      <td>137</td>\n",
       "      <td>2016-05-18</td>\n",
       "      <td>139</td>\n",
       "      <td>3</td>\n",
       "      <td>1.14</td>\n",
       "      <td>2.47</td>\n",
       "      <td>0.88</td>\n",
       "      <td>8</td>\n",
       "      <td>northwest</td>\n",
       "      <td>1</td>\n",
       "      <td>Evergreen Needleleaf forest</td>\n",
       "      <td>h11v03</td>\n",
       "      <td>POINT (-110.25631 56.72710)</td>\n",
       "    </tr>\n",
       "    <tr>\n",
       "      <th>34609</th>\n",
       "      <td>34610</td>\n",
       "      <td>56.7229</td>\n",
       "      <td>-111.003</td>\n",
       "      <td>0.43</td>\n",
       "      <td>POLYGON ((-110.95846 56.62917, -110.95089 56.6...</td>\n",
       "      <td>2016-05-16</td>\n",
       "      <td>137</td>\n",
       "      <td>2016-05-16</td>\n",
       "      <td>137</td>\n",
       "      <td>1</td>\n",
       "      <td>0.43</td>\n",
       "      <td>0.93</td>\n",
       "      <td>0.46</td>\n",
       "      <td>0</td>\n",
       "      <td>none</td>\n",
       "      <td>1</td>\n",
       "      <td>Evergreen Needleleaf forest</td>\n",
       "      <td>h11v03</td>\n",
       "      <td>POINT (-111.00348 56.72294)</td>\n",
       "    </tr>\n",
       "    <tr>\n",
       "      <th>34560</th>\n",
       "      <td>34561</td>\n",
       "      <td>56.8521</td>\n",
       "      <td>-110.045</td>\n",
       "      <td>0.21</td>\n",
       "      <td>MULTIPOLYGON (((-111.22953 56.84167, -111.2219...</td>\n",
       "      <td>2016-06-01</td>\n",
       "      <td>153</td>\n",
       "      <td>2016-06-01</td>\n",
       "      <td>153</td>\n",
       "      <td>1</td>\n",
       "      <td>0.21</td>\n",
       "      <td>0.46</td>\n",
       "      <td>0.46</td>\n",
       "      <td>0</td>\n",
       "      <td>none</td>\n",
       "      <td>1</td>\n",
       "      <td>Evergreen Needleleaf forest</td>\n",
       "      <td>h11v03</td>\n",
       "      <td>POINT (-110.04524 56.85210)</td>\n",
       "    </tr>\n",
       "    <tr>\n",
       "      <th>34711</th>\n",
       "      <td>34712</td>\n",
       "      <td>56.2563</td>\n",
       "      <td>-110.486</td>\n",
       "      <td>0.21</td>\n",
       "      <td>MULTIPOLYGON (((-111.41236 56.84167, -111.4047...</td>\n",
       "      <td>2016-05-20</td>\n",
       "      <td>141</td>\n",
       "      <td>2016-05-20</td>\n",
       "      <td>141</td>\n",
       "      <td>1</td>\n",
       "      <td>0.21</td>\n",
       "      <td>0.46</td>\n",
       "      <td>0.46</td>\n",
       "      <td>0</td>\n",
       "      <td>none</td>\n",
       "      <td>1</td>\n",
       "      <td>Evergreen Needleleaf forest</td>\n",
       "      <td>h11v03</td>\n",
       "      <td>POINT (-110.48652 56.25627)</td>\n",
       "    </tr>\n",
       "    <tr>\n",
       "      <th>34545</th>\n",
       "      <td>34546</td>\n",
       "      <td>56.9396</td>\n",
       "      <td>-110.387</td>\n",
       "      <td>0.21</td>\n",
       "      <td>POLYGON ((-119.29067 56.88750, -119.28304 56.8...</td>\n",
       "      <td>2016-06-17</td>\n",
       "      <td>169</td>\n",
       "      <td>2016-06-17</td>\n",
       "      <td>169</td>\n",
       "      <td>1</td>\n",
       "      <td>0.21</td>\n",
       "      <td>0.46</td>\n",
       "      <td>0.46</td>\n",
       "      <td>0</td>\n",
       "      <td>none</td>\n",
       "      <td>1</td>\n",
       "      <td>Evergreen Needleleaf forest</td>\n",
       "      <td>h11v03</td>\n",
       "      <td>POINT (-110.38732 56.93960)</td>\n",
       "    </tr>\n",
       "    <tr>\n",
       "      <th>34546</th>\n",
       "      <td>34547</td>\n",
       "      <td>56.9229</td>\n",
       "      <td>-110.063</td>\n",
       "      <td>0.21</td>\n",
       "      <td>POLYGON ((-119.19937 56.87083, -119.19175 56.8...</td>\n",
       "      <td>2016-06-25</td>\n",
       "      <td>177</td>\n",
       "      <td>2016-06-25</td>\n",
       "      <td>177</td>\n",
       "      <td>1</td>\n",
       "      <td>0.21</td>\n",
       "      <td>0.46</td>\n",
       "      <td>0.46</td>\n",
       "      <td>0</td>\n",
       "      <td>none</td>\n",
       "      <td>1</td>\n",
       "      <td>Evergreen Needleleaf forest</td>\n",
       "      <td>h11v03</td>\n",
       "      <td>POINT (-110.06317 56.92294)</td>\n",
       "    </tr>\n",
       "    <tr>\n",
       "      <th>34696</th>\n",
       "      <td>34697</td>\n",
       "      <td>56.3479</td>\n",
       "      <td>-110.360</td>\n",
       "      <td>0.21</td>\n",
       "      <td>POLYGON ((-121.41581 56.31667, -121.40830 56.3...</td>\n",
       "      <td>2016-06-03</td>\n",
       "      <td>155</td>\n",
       "      <td>2016-06-03</td>\n",
       "      <td>155</td>\n",
       "      <td>1</td>\n",
       "      <td>0.21</td>\n",
       "      <td>0.46</td>\n",
       "      <td>0.46</td>\n",
       "      <td>0</td>\n",
       "      <td>none</td>\n",
       "      <td>5</td>\n",
       "      <td>Mixed forest</td>\n",
       "      <td>h11v03</td>\n",
       "      <td>POINT (-110.36092 56.34794)</td>\n",
       "    </tr>\n",
       "    <tr>\n",
       "      <th>34695</th>\n",
       "      <td>34696</td>\n",
       "      <td>56.3313</td>\n",
       "      <td>-110.312</td>\n",
       "      <td>0.21</td>\n",
       "      <td>POLYGON ((-110.32235 56.33333, -110.31483 56.3...</td>\n",
       "      <td>2016-05-18</td>\n",
       "      <td>139</td>\n",
       "      <td>2016-05-18</td>\n",
       "      <td>139</td>\n",
       "      <td>1</td>\n",
       "      <td>0.21</td>\n",
       "      <td>0.46</td>\n",
       "      <td>0.46</td>\n",
       "      <td>0</td>\n",
       "      <td>none</td>\n",
       "      <td>1</td>\n",
       "      <td>Evergreen Needleleaf forest</td>\n",
       "      <td>h11v03</td>\n",
       "      <td>POINT (-110.31272 56.33127)</td>\n",
       "    </tr>\n",
       "    <tr>\n",
       "      <th>34547</th>\n",
       "      <td>34548</td>\n",
       "      <td>56.9104</td>\n",
       "      <td>-111.110</td>\n",
       "      <td>0.21</td>\n",
       "      <td>POLYGON ((-111.37727 56.87083, -111.36965 56.8...</td>\n",
       "      <td>2016-05-17</td>\n",
       "      <td>138</td>\n",
       "      <td>2016-05-17</td>\n",
       "      <td>138</td>\n",
       "      <td>1</td>\n",
       "      <td>0.21</td>\n",
       "      <td>0.46</td>\n",
       "      <td>0.46</td>\n",
       "      <td>0</td>\n",
       "      <td>none</td>\n",
       "      <td>1</td>\n",
       "      <td>Evergreen Needleleaf forest</td>\n",
       "      <td>h11v03</td>\n",
       "      <td>POINT (-111.11006 56.91044)</td>\n",
       "    </tr>\n",
       "    <tr>\n",
       "      <th>34548</th>\n",
       "      <td>34549</td>\n",
       "      <td>56.9063</td>\n",
       "      <td>-111.112</td>\n",
       "      <td>0.21</td>\n",
       "      <td>POLYGON ((-111.12855 56.86667, -111.12092 56.8...</td>\n",
       "      <td>2016-05-20</td>\n",
       "      <td>141</td>\n",
       "      <td>2016-05-20</td>\n",
       "      <td>141</td>\n",
       "      <td>1</td>\n",
       "      <td>0.21</td>\n",
       "      <td>0.46</td>\n",
       "      <td>0.46</td>\n",
       "      <td>0</td>\n",
       "      <td>none</td>\n",
       "      <td>1</td>\n",
       "      <td>Evergreen Needleleaf forest</td>\n",
       "      <td>h11v03</td>\n",
       "      <td>POINT (-111.11293 56.90627)</td>\n",
       "    </tr>\n",
       "    <tr>\n",
       "      <th>34689</th>\n",
       "      <td>34690</td>\n",
       "      <td>56.3729</td>\n",
       "      <td>-110.388</td>\n",
       "      <td>0.21</td>\n",
       "      <td>POLYGON ((-121.55775 56.35417, -121.55022 56.3...</td>\n",
       "      <td>2016-05-12</td>\n",
       "      <td>133</td>\n",
       "      <td>2016-05-12</td>\n",
       "      <td>133</td>\n",
       "      <td>1</td>\n",
       "      <td>0.21</td>\n",
       "      <td>0.46</td>\n",
       "      <td>0.46</td>\n",
       "      <td>0</td>\n",
       "      <td>none</td>\n",
       "      <td>5</td>\n",
       "      <td>Mixed forest</td>\n",
       "      <td>h11v03</td>\n",
       "      <td>POINT (-110.38816 56.37294)</td>\n",
       "    </tr>\n",
       "    <tr>\n",
       "      <th>34681</th>\n",
       "      <td>34682</td>\n",
       "      <td>56.3979</td>\n",
       "      <td>-110.490</td>\n",
       "      <td>0.64</td>\n",
       "      <td>POLYGON ((-124.63439 56.39583, -124.62686 56.3...</td>\n",
       "      <td>2016-05-11</td>\n",
       "      <td>132</td>\n",
       "      <td>2016-05-11</td>\n",
       "      <td>132</td>\n",
       "      <td>1</td>\n",
       "      <td>0.64</td>\n",
       "      <td>1.39</td>\n",
       "      <td>0.85</td>\n",
       "      <td>0</td>\n",
       "      <td>none</td>\n",
       "      <td>1</td>\n",
       "      <td>Evergreen Needleleaf forest</td>\n",
       "      <td>h11v03</td>\n",
       "      <td>POINT (-110.49076 56.39794)</td>\n",
       "    </tr>\n",
       "    <tr>\n",
       "      <th>34558</th>\n",
       "      <td>34559</td>\n",
       "      <td>56.8646</td>\n",
       "      <td>-111.118</td>\n",
       "      <td>0.21</td>\n",
       "      <td>POLYGON ((-110.82288 56.84583, -110.80764 56.8...</td>\n",
       "      <td>2016-05-20</td>\n",
       "      <td>141</td>\n",
       "      <td>2016-05-20</td>\n",
       "      <td>141</td>\n",
       "      <td>1</td>\n",
       "      <td>0.21</td>\n",
       "      <td>0.46</td>\n",
       "      <td>0.46</td>\n",
       "      <td>0</td>\n",
       "      <td>none</td>\n",
       "      <td>1</td>\n",
       "      <td>Evergreen Needleleaf forest</td>\n",
       "      <td>h11v03</td>\n",
       "      <td>POINT (-111.11870 56.86460)</td>\n",
       "    </tr>\n",
       "    <tr>\n",
       "      <th>34676</th>\n",
       "      <td>34677</td>\n",
       "      <td>56.4938</td>\n",
       "      <td>-110.271</td>\n",
       "      <td>0.21</td>\n",
       "      <td>POLYGON ((-120.18857 56.45417, -120.18103 56.4...</td>\n",
       "      <td>2016-06-09</td>\n",
       "      <td>161</td>\n",
       "      <td>2016-06-09</td>\n",
       "      <td>161</td>\n",
       "      <td>1</td>\n",
       "      <td>0.21</td>\n",
       "      <td>0.46</td>\n",
       "      <td>0.46</td>\n",
       "      <td>0</td>\n",
       "      <td>none</td>\n",
       "      <td>5</td>\n",
       "      <td>Mixed forest</td>\n",
       "      <td>h11v03</td>\n",
       "      <td>POINT (-110.27159 56.49377)</td>\n",
       "    </tr>\n",
       "    <tr>\n",
       "      <th>34675</th>\n",
       "      <td>34676</td>\n",
       "      <td>56.4979</td>\n",
       "      <td>-110.268</td>\n",
       "      <td>0.21</td>\n",
       "      <td>POLYGON ((-120.19231 56.46250, -120.17723 56.4...</td>\n",
       "      <td>2016-06-12</td>\n",
       "      <td>164</td>\n",
       "      <td>2016-06-12</td>\n",
       "      <td>164</td>\n",
       "      <td>1</td>\n",
       "      <td>0.21</td>\n",
       "      <td>0.46</td>\n",
       "      <td>0.46</td>\n",
       "      <td>0</td>\n",
       "      <td>none</td>\n",
       "      <td>5</td>\n",
       "      <td>Mixed forest</td>\n",
       "      <td>h11v03</td>\n",
       "      <td>POINT (-110.26861 56.49794)</td>\n",
       "    </tr>\n",
       "    <tr>\n",
       "      <th>34562</th>\n",
       "      <td>34563</td>\n",
       "      <td>56.8479</td>\n",
       "      <td>-110.855</td>\n",
       "      <td>0.21</td>\n",
       "      <td>POLYGON ((-111.23335 56.85833, -111.21049 56.8...</td>\n",
       "      <td>2016-06-05</td>\n",
       "      <td>157</td>\n",
       "      <td>2016-06-05</td>\n",
       "      <td>157</td>\n",
       "      <td>1</td>\n",
       "      <td>0.21</td>\n",
       "      <td>0.46</td>\n",
       "      <td>0.46</td>\n",
       "      <td>0</td>\n",
       "      <td>none</td>\n",
       "      <td>1</td>\n",
       "      <td>Evergreen Needleleaf forest</td>\n",
       "      <td>h11v03</td>\n",
       "      <td>POINT (-110.85587 56.84794)</td>\n",
       "    </tr>\n",
       "    <tr>\n",
       "      <th>34608</th>\n",
       "      <td>34609</td>\n",
       "      <td>56.7354</td>\n",
       "      <td>-111.412</td>\n",
       "      <td>0.43</td>\n",
       "      <td>POLYGON ((-121.18293 56.63333, -121.17535 56.6...</td>\n",
       "      <td>2016-04-05</td>\n",
       "      <td>96</td>\n",
       "      <td>2016-04-05</td>\n",
       "      <td>96</td>\n",
       "      <td>1</td>\n",
       "      <td>0.43</td>\n",
       "      <td>0.93</td>\n",
       "      <td>0.88</td>\n",
       "      <td>0</td>\n",
       "      <td>none</td>\n",
       "      <td>1</td>\n",
       "      <td>Evergreen Needleleaf forest</td>\n",
       "      <td>h11v03</td>\n",
       "      <td>POINT (-111.41262 56.73544)</td>\n",
       "    </tr>\n",
       "    <tr>\n",
       "      <th>34651</th>\n",
       "      <td>34652</td>\n",
       "      <td>56.5646</td>\n",
       "      <td>-110.788</td>\n",
       "      <td>0.21</td>\n",
       "      <td>POLYGON ((-120.44920 56.54583, -120.43408 56.5...</td>\n",
       "      <td>2016-05-04</td>\n",
       "      <td>125</td>\n",
       "      <td>2016-05-04</td>\n",
       "      <td>125</td>\n",
       "      <td>1</td>\n",
       "      <td>0.21</td>\n",
       "      <td>0.46</td>\n",
       "      <td>0.46</td>\n",
       "      <td>0</td>\n",
       "      <td>none</td>\n",
       "      <td>1</td>\n",
       "      <td>Evergreen Needleleaf forest</td>\n",
       "      <td>h11v03</td>\n",
       "      <td>POINT (-110.78802 56.56460)</td>\n",
       "    </tr>\n",
       "    <tr>\n",
       "      <th>34639</th>\n",
       "      <td>34640</td>\n",
       "      <td>56.5938</td>\n",
       "      <td>-110.351</td>\n",
       "      <td>0.21</td>\n",
       "      <td>POLYGON ((-121.13476 56.60417, -121.11205 56.6...</td>\n",
       "      <td>2016-05-20</td>\n",
       "      <td>141</td>\n",
       "      <td>2016-05-20</td>\n",
       "      <td>141</td>\n",
       "      <td>1</td>\n",
       "      <td>0.21</td>\n",
       "      <td>0.46</td>\n",
       "      <td>0.46</td>\n",
       "      <td>0</td>\n",
       "      <td>none</td>\n",
       "      <td>1</td>\n",
       "      <td>Evergreen Needleleaf forest</td>\n",
       "      <td>h11v03</td>\n",
       "      <td>POINT (-110.35133 56.59377)</td>\n",
       "    </tr>\n",
       "    <tr>\n",
       "      <th>34635</th>\n",
       "      <td>34636</td>\n",
       "      <td>56.5979</td>\n",
       "      <td>-111.059</td>\n",
       "      <td>0.21</td>\n",
       "      <td>POLYGON ((-121.24732 56.57083, -121.23976 56.5...</td>\n",
       "      <td>2016-05-04</td>\n",
       "      <td>125</td>\n",
       "      <td>2016-05-04</td>\n",
       "      <td>125</td>\n",
       "      <td>1</td>\n",
       "      <td>0.21</td>\n",
       "      <td>0.46</td>\n",
       "      <td>0.46</td>\n",
       "      <td>0</td>\n",
       "      <td>none</td>\n",
       "      <td>5</td>\n",
       "      <td>Mixed forest</td>\n",
       "      <td>h11v03</td>\n",
       "      <td>POINT (-111.05982 56.59794)</td>\n",
       "    </tr>\n",
       "    <tr>\n",
       "      <th>34633</th>\n",
       "      <td>34634</td>\n",
       "      <td>56.6063</td>\n",
       "      <td>-110.872</td>\n",
       "      <td>0.43</td>\n",
       "      <td>POLYGON ((-110.24914 56.60417, -110.24157 56.6...</td>\n",
       "      <td>2016-05-06</td>\n",
       "      <td>127</td>\n",
       "      <td>2016-05-06</td>\n",
       "      <td>127</td>\n",
       "      <td>1</td>\n",
       "      <td>0.43</td>\n",
       "      <td>0.93</td>\n",
       "      <td>0.54</td>\n",
       "      <td>0</td>\n",
       "      <td>none</td>\n",
       "      <td>1</td>\n",
       "      <td>Evergreen Needleleaf forest</td>\n",
       "      <td>h11v03</td>\n",
       "      <td>POINT (-110.87236 56.60627)</td>\n",
       "    </tr>\n",
       "    <tr>\n",
       "      <th>34630</th>\n",
       "      <td>34631</td>\n",
       "      <td>56.6229</td>\n",
       "      <td>-110.398</td>\n",
       "      <td>0.21</td>\n",
       "      <td>MULTIPOLYGON (((-110.48627 56.65417, -110.4711...</td>\n",
       "      <td>2016-05-08</td>\n",
       "      <td>129</td>\n",
       "      <td>2016-05-08</td>\n",
       "      <td>129</td>\n",
       "      <td>1</td>\n",
       "      <td>0.21</td>\n",
       "      <td>0.46</td>\n",
       "      <td>0.46</td>\n",
       "      <td>0</td>\n",
       "      <td>none</td>\n",
       "      <td>1</td>\n",
       "      <td>Evergreen Needleleaf forest</td>\n",
       "      <td>h11v03</td>\n",
       "      <td>POINT (-110.39872 56.62294)</td>\n",
       "    </tr>\n",
       "    <tr>\n",
       "      <th>34595</th>\n",
       "      <td>34596</td>\n",
       "      <td>56.8021</td>\n",
       "      <td>-110.195</td>\n",
       "      <td>0.21</td>\n",
       "      <td>POLYGON ((-110.41971 56.66250, -110.41213 56.6...</td>\n",
       "      <td>2016-06-02</td>\n",
       "      <td>154</td>\n",
       "      <td>2016-06-02</td>\n",
       "      <td>154</td>\n",
       "      <td>1</td>\n",
       "      <td>0.21</td>\n",
       "      <td>0.46</td>\n",
       "      <td>0.46</td>\n",
       "      <td>0</td>\n",
       "      <td>none</td>\n",
       "      <td>1</td>\n",
       "      <td>Evergreen Needleleaf forest</td>\n",
       "      <td>h11v03</td>\n",
       "      <td>POINT (-110.19522 56.80210)</td>\n",
       "    </tr>\n",
       "    <tr>\n",
       "      <th>34626</th>\n",
       "      <td>34627</td>\n",
       "      <td>56.6271</td>\n",
       "      <td>-110.395</td>\n",
       "      <td>0.21</td>\n",
       "      <td>POLYGON ((-121.35199 56.59167, -121.34442 56.5...</td>\n",
       "      <td>2016-05-11</td>\n",
       "      <td>132</td>\n",
       "      <td>2016-05-11</td>\n",
       "      <td>132</td>\n",
       "      <td>1</td>\n",
       "      <td>0.21</td>\n",
       "      <td>0.46</td>\n",
       "      <td>0.46</td>\n",
       "      <td>0</td>\n",
       "      <td>none</td>\n",
       "      <td>1</td>\n",
       "      <td>Evergreen Needleleaf forest</td>\n",
       "      <td>h11v03</td>\n",
       "      <td>POINT (-110.39576 56.62710)</td>\n",
       "    </tr>\n",
       "    <tr>\n",
       "      <th>34625</th>\n",
       "      <td>34626</td>\n",
       "      <td>56.6271</td>\n",
       "      <td>-110.948</td>\n",
       "      <td>0.21</td>\n",
       "      <td>POLYGON ((-110.36105 56.59583, -110.35348 56.5...</td>\n",
       "      <td>2016-05-04</td>\n",
       "      <td>125</td>\n",
       "      <td>2016-05-04</td>\n",
       "      <td>125</td>\n",
       "      <td>1</td>\n",
       "      <td>0.21</td>\n",
       "      <td>0.46</td>\n",
       "      <td>0.46</td>\n",
       "      <td>0</td>\n",
       "      <td>none</td>\n",
       "      <td>5</td>\n",
       "      <td>Mixed forest</td>\n",
       "      <td>h11v03</td>\n",
       "      <td>POINT (-110.94870 56.62710)</td>\n",
       "    </tr>\n",
       "    <tr>\n",
       "      <th>34606</th>\n",
       "      <td>34607</td>\n",
       "      <td>56.7604</td>\n",
       "      <td>-110.840</td>\n",
       "      <td>0.43</td>\n",
       "      <td>POLYGON ((-110.22183 56.71667, -110.19905 56.7...</td>\n",
       "      <td>2016-05-17</td>\n",
       "      <td>138</td>\n",
       "      <td>2016-05-17</td>\n",
       "      <td>138</td>\n",
       "      <td>1</td>\n",
       "      <td>0.43</td>\n",
       "      <td>0.93</td>\n",
       "      <td>0.46</td>\n",
       "      <td>0</td>\n",
       "      <td>none</td>\n",
       "      <td>1</td>\n",
       "      <td>Evergreen Needleleaf forest</td>\n",
       "      <td>h11v03</td>\n",
       "      <td>POINT (-110.84066 56.76044)</td>\n",
       "    </tr>\n",
       "    <tr>\n",
       "      <th>34616</th>\n",
       "      <td>34617</td>\n",
       "      <td>56.6521</td>\n",
       "      <td>-111.249</td>\n",
       "      <td>0.21</td>\n",
       "      <td>POLYGON ((-110.76151 56.62917, -110.71606 56.6...</td>\n",
       "      <td>2016-04-03</td>\n",
       "      <td>94</td>\n",
       "      <td>2016-04-03</td>\n",
       "      <td>94</td>\n",
       "      <td>1</td>\n",
       "      <td>0.21</td>\n",
       "      <td>0.46</td>\n",
       "      <td>0.46</td>\n",
       "      <td>0</td>\n",
       "      <td>none</td>\n",
       "      <td>1</td>\n",
       "      <td>Evergreen Needleleaf forest</td>\n",
       "      <td>h11v03</td>\n",
       "      <td>POINT (-111.24964 56.65210)</td>\n",
       "    </tr>\n",
       "    <tr>\n",
       "      <th>34613</th>\n",
       "      <td>34614</td>\n",
       "      <td>56.6729</td>\n",
       "      <td>-110.249</td>\n",
       "      <td>0.21</td>\n",
       "      <td>POLYGON ((-110.40845 56.62500, -110.40087 56.6...</td>\n",
       "      <td>2016-05-12</td>\n",
       "      <td>133</td>\n",
       "      <td>2016-05-12</td>\n",
       "      <td>133</td>\n",
       "      <td>1</td>\n",
       "      <td>0.21</td>\n",
       "      <td>0.46</td>\n",
       "      <td>0.46</td>\n",
       "      <td>0</td>\n",
       "      <td>none</td>\n",
       "      <td>1</td>\n",
       "      <td>Evergreen Needleleaf forest</td>\n",
       "      <td>h11v03</td>\n",
       "      <td>POINT (-110.24942 56.67294)</td>\n",
       "    </tr>\n",
       "    <tr>\n",
       "      <th>34533</th>\n",
       "      <td>34534</td>\n",
       "      <td>56.9813</td>\n",
       "      <td>-110.250</td>\n",
       "      <td>0.21</td>\n",
       "      <td>POLYGON ((-110.26068 56.98333, -110.25303 56.9...</td>\n",
       "      <td>2016-06-03</td>\n",
       "      <td>155</td>\n",
       "      <td>2016-06-03</td>\n",
       "      <td>155</td>\n",
       "      <td>1</td>\n",
       "      <td>0.21</td>\n",
       "      <td>0.46</td>\n",
       "      <td>0.46</td>\n",
       "      <td>0</td>\n",
       "      <td>none</td>\n",
       "      <td>1</td>\n",
       "      <td>Evergreen Needleleaf forest</td>\n",
       "      <td>h11v03</td>\n",
       "      <td>POINT (-110.25084 56.98127)</td>\n",
       "    </tr>\n",
       "  </tbody>\n",
       "</table>\n",
       "</div>"
      ],
      "text/plain": [
       "       fire_ID  latitude  longitude     size  \\\n",
       "34569    34570   56.6604   -111.410  1547.32   \n",
       "34587    34588   56.7563   -110.273   129.91   \n",
       "34540    34541   56.6479   -111.676   369.79   \n",
       "34541    34542   56.6438   -111.694   110.83   \n",
       "34575    34576   56.8188   -110.069    10.72   \n",
       "34698    34699   56.3188   -110.524    49.52   \n",
       "34559    34560   56.7646   -110.989    71.17   \n",
       "34570    34571   56.6313   -110.468    74.17   \n",
       "34582    34583   56.6854   -110.892   204.29   \n",
       "34581    34582   56.7479   -110.401    16.29   \n",
       "34534    34535   56.8646   -110.173   157.56   \n",
       "34665    34666   56.5188   -110.283    24.87   \n",
       "34583    34584   56.6479   -110.767    49.30   \n",
       "34610    34611   56.6688   -110.214    54.66   \n",
       "34585    34586   56.5979   -110.280    15.86   \n",
       "34627    34628   56.6188   -110.091    42.23   \n",
       "34593    34594   56.7813   -110.392    10.29   \n",
       "34554    34555   56.8771   -110.500    19.94   \n",
       "34566    34567   56.7938   -111.433    13.93   \n",
       "34573    34574   56.2438   -110.795    16.08   \n",
       "34590    34591   56.8021   -110.530     2.14   \n",
       "34572    34573   56.6188   -110.780     5.36   \n",
       "34565    34566   56.4063   -110.951     1.50   \n",
       "34571    34572   56.5688   -111.412     3.86   \n",
       "34577    34578   56.7938   -110.604     9.65   \n",
       "34580    34581   56.7479   -110.416     2.36   \n",
       "34578    34579   56.7896   -110.607     6.65   \n",
       "34591    34592   56.8104   -110.516     2.79   \n",
       "34563    34564   56.8438   -110.904     9.43   \n",
       "34552    34553   56.8646   -110.676    35.37   \n",
       "34618    34619   56.6479   -111.222     0.64   \n",
       "34701    34702   56.3104   -110.613     4.72   \n",
       "34542    34543   56.6313   -112.021     3.43   \n",
       "34536    34537   56.8688   -110.338    27.22   \n",
       "34674    34675   56.5021   -111.481     9.43   \n",
       "34579    34580   56.7604   -110.491    13.29   \n",
       "34543    34544   56.9438   -111.117     1.29   \n",
       "34567    34568   56.4146   -110.968     1.07   \n",
       "34535    34536   56.9021   -110.337    27.44   \n",
       "34660    34661   56.5313   -110.169     6.86   \n",
       "34551    34552   56.8396   -111.227    30.44   \n",
       "34550    34551   56.8938   -111.152    20.79   \n",
       "34564    34565   56.8313   -110.844    11.79   \n",
       "34603    34604   56.7604   -111.083     4.93   \n",
       "34549    34550   56.8313   -111.179     6.86   \n",
       "34568    34569   56.6896   -111.201     3.86   \n",
       "34586    34587   56.6438   -110.239     1.29   \n",
       "34574    34575   56.8146   -111.465     1.07   \n",
       "34602    34603   56.7729   -111.569     0.86   \n",
       "34584    34585   56.6563   -110.390     2.79   \n",
       "34680    34681   56.4438   -110.450     3.22   \n",
       "34690    34691   56.3688   -110.398     2.57   \n",
       "34694    34695   56.3396   -110.351     4.29   \n",
       "34607    34608   56.7521   -111.583     0.86   \n",
       "34556    34557   56.8688   -111.367     0.64   \n",
       "34713    34714   56.2396   -110.475     2.14   \n",
       "34588    34589   56.7271   -110.256     3.43   \n",
       "34609    34610   56.7229   -111.003     0.43   \n",
       "34560    34561   56.8521   -110.045     0.21   \n",
       "34711    34712   56.2563   -110.486     0.21   \n",
       "34545    34546   56.9396   -110.387     0.21   \n",
       "34546    34547   56.9229   -110.063     0.21   \n",
       "34696    34697   56.3479   -110.360     0.21   \n",
       "34695    34696   56.3313   -110.312     0.21   \n",
       "34547    34548   56.9104   -111.110     0.21   \n",
       "34548    34549   56.9063   -111.112     0.21   \n",
       "34689    34690   56.3729   -110.388     0.21   \n",
       "34681    34682   56.3979   -110.490     0.64   \n",
       "34558    34559   56.8646   -111.118     0.21   \n",
       "34676    34677   56.4938   -110.271     0.21   \n",
       "34675    34676   56.4979   -110.268     0.21   \n",
       "34562    34563   56.8479   -110.855     0.21   \n",
       "34608    34609   56.7354   -111.412     0.43   \n",
       "34651    34652   56.5646   -110.788     0.21   \n",
       "34639    34640   56.5938   -110.351     0.21   \n",
       "34635    34636   56.5979   -111.059     0.21   \n",
       "34633    34634   56.6063   -110.872     0.43   \n",
       "34630    34631   56.6229   -110.398     0.21   \n",
       "34595    34596   56.8021   -110.195     0.21   \n",
       "34626    34627   56.6271   -110.395     0.21   \n",
       "34625    34626   56.6271   -110.948     0.21   \n",
       "34606    34607   56.7604   -110.840     0.43   \n",
       "34616    34617   56.6521   -111.249     0.21   \n",
       "34613    34614   56.6729   -110.249     0.21   \n",
       "34533    34534   56.9813   -110.250     0.21   \n",
       "\n",
       "                                                geometry  start_date  \\\n",
       "34569  POLYGON ((-110.20500 56.80417, -110.19739 56.8...  2016-05-01   \n",
       "34587  POLYGON ((-110.12625 56.82917, -110.11863 56.8...  2016-05-15   \n",
       "34540  POLYGON ((-110.39716 56.94167, -110.38952 56.9...  2016-05-12   \n",
       "34541  POLYGON ((-110.07299 56.92500, -110.06535 56.9...  2016-05-12   \n",
       "34575  POLYGON ((-111.57656 56.77917, -111.56135 56.7...  2016-05-20   \n",
       "34698  POLYGON ((-121.47017 56.31250, -121.46266 56.3...  2016-05-06   \n",
       "34559  POLYGON ((-110.76701 56.90417, -110.75175 56.9...  2016-05-15   \n",
       "34570  POLYGON ((-110.66162 56.80417, -110.60074 56.8...  2016-05-04   \n",
       "34582  MULTIPOLYGON (((-110.48313 56.78750, -110.4755...  2016-05-04   \n",
       "34581  MULTIPOLYGON (((-110.46106 56.75417, -110.4078...  2016-05-04   \n",
       "34534  MULTIPOLYGON (((-121.55267 57.00833, -121.5450...  2016-05-15   \n",
       "34665  POLYGON ((-110.18045 56.54167, -110.16533 56.5...  2016-05-29   \n",
       "34583  POLYGON ((-115.89811 56.76250, -115.88290 56.7...  2016-05-04   \n",
       "34610  POLYGON ((-110.40549 56.62917, -110.39791 56.6...  2016-05-08   \n",
       "34585  MULTIPOLYGON (((-111.10092 56.86250, -111.0628...  2016-05-08   \n",
       "34627  POLYGON ((-121.22334 56.59167, -121.20064 56.5...  2016-05-17   \n",
       "34593  POLYGON ((-110.25916 56.67500, -110.25158 56.6...  2016-05-08   \n",
       "34554  POLYGON ((-110.91431 56.84583, -110.89145 56.8...  2016-05-18   \n",
       "34566  POLYGON ((-110.54921 56.81250, -110.53399 56.8...  2016-04-02   \n",
       "34573  MULTIPOLYGON (((-111.43326 56.83333, -111.4256...  2016-05-15   \n",
       "34590  POLYGON ((-121.10280 56.67917, -121.09521 56.6...  2016-05-26   \n",
       "34572  MULTIPOLYGON (((-110.67215 56.80000, -110.6645...  2016-05-08   \n",
       "34565  POLYGON ((-120.04139 56.81250, -120.02616 56.8...  2016-04-01   \n",
       "34571  POLYGON ((-119.99195 56.82083, -119.96150 56.8...  2016-05-05   \n",
       "34577  POLYGON ((-120.11527 56.76667, -120.10767 56.7...  2016-05-04   \n",
       "34580  POLYGON ((-111.59067 56.75833, -111.57546 56.7...  2016-05-04   \n",
       "34578  POLYGON ((-111.09558 56.77083, -111.08037 56.7...  2016-05-04   \n",
       "34591  POLYGON ((-121.08763 56.67917, -121.08004 56.6...  2016-05-27   \n",
       "34563  MULTIPOLYGON (((-110.51583 56.81667, -110.5006...  2016-05-17   \n",
       "34552  POLYGON ((-110.86570 56.85000, -110.85808 56.8...  2016-05-17   \n",
       "34618  POLYGON ((-121.13570 56.63750, -121.10539 56.6...  2016-04-01   \n",
       "34701  MULTIPOLYGON (((-121.41937 56.30833, -121.3968...  2016-05-10   \n",
       "34542  POLYGON ((-111.11993 56.91250, -111.11229 56.9...  2016-05-24   \n",
       "34536  POLYGON ((-121.29020 56.95833, -121.28256 56.9...  2016-05-18   \n",
       "34674  POLYGON ((-120.18098 56.47083, -120.16589 56.4...  2016-05-16   \n",
       "34579  POLYGON ((-110.85046 56.76250, -110.83526 56.7...  2016-05-04   \n",
       "34543  POLYGON ((-111.12279 56.90833, -111.11516 56.9...  2016-05-20   \n",
       "34567  POLYGON ((-120.04514 56.80417, -120.03753 56.8...  2016-04-03   \n",
       "34535  POLYGON ((-121.28847 56.96250, -121.28083 56.9...  2016-05-18   \n",
       "34660  POLYGON ((-109.38104 56.52917, -109.37348 56.5...  2016-06-04   \n",
       "34551  POLYGON ((-119.20158 56.85000, -119.19396 56.8...  2016-05-16   \n",
       "34550  POLYGON ((-110.05503 56.85417, -110.04741 56.8...  2016-05-16   \n",
       "34564  MULTIPOLYGON (((-110.02127 56.83750, -110.0136...  2016-05-18   \n",
       "34603  POLYGON ((-121.09782 56.63750, -121.08266 56.6...  2016-05-21   \n",
       "34549  POLYGON ((-111.21722 56.90417, -111.20959 56.9...  2016-05-15   \n",
       "34568  MULTIPOLYGON (((-110.24661 56.97083, -110.2313...  2016-04-04   \n",
       "34586  POLYGON ((-111.42245 56.73750, -111.41485 56.7...  2016-05-10   \n",
       "34574  POLYGON ((-110.40753 56.80833, -110.38470 56.8...  2016-05-19   \n",
       "34602  POLYGON ((-110.25724 56.64583, -110.24208 56.6...  2016-05-20   \n",
       "34584  POLYGON ((-110.44167 56.77083, -110.38084 56.7...  2016-05-08   \n",
       "34680  POLYGON ((-110.50042 56.40000, -110.47783 56.4...  2016-05-20   \n",
       "34690  POLYGON ((-110.37056 56.35000, -110.36304 56.3...  2016-05-16   \n",
       "34694  POLYGON ((-121.63820 56.34167, -121.63068 56.3...  2016-05-18   \n",
       "34607  POLYGON ((-112.04370 56.63750, -111.99824 56.6...  2016-05-16   \n",
       "34556  POLYGON ((-121.60095 56.83333, -121.59333 56.8...  2016-04-04   \n",
       "34713  POLYGON ((-110.79163 56.25417, -110.78413 56.2...  2016-05-18   \n",
       "34588  POLYGON ((-110.27533 56.73750, -110.25254 56.7...  2016-05-16   \n",
       "34609  POLYGON ((-110.95846 56.62917, -110.95089 56.6...  2016-05-16   \n",
       "34560  MULTIPOLYGON (((-111.22953 56.84167, -111.2219...  2016-06-01   \n",
       "34711  MULTIPOLYGON (((-111.41236 56.84167, -111.4047...  2016-05-20   \n",
       "34545  POLYGON ((-119.29067 56.88750, -119.28304 56.8...  2016-06-17   \n",
       "34546  POLYGON ((-119.19937 56.87083, -119.19175 56.8...  2016-06-25   \n",
       "34696  POLYGON ((-121.41581 56.31667, -121.40830 56.3...  2016-06-03   \n",
       "34695  POLYGON ((-110.32235 56.33333, -110.31483 56.3...  2016-05-18   \n",
       "34547  POLYGON ((-111.37727 56.87083, -111.36965 56.8...  2016-05-17   \n",
       "34548  POLYGON ((-111.12855 56.86667, -111.12092 56.8...  2016-05-20   \n",
       "34689  POLYGON ((-121.55775 56.35417, -121.55022 56.3...  2016-05-12   \n",
       "34681  POLYGON ((-124.63439 56.39583, -124.62686 56.3...  2016-05-11   \n",
       "34558  POLYGON ((-110.82288 56.84583, -110.80764 56.8...  2016-05-20   \n",
       "34676  POLYGON ((-120.18857 56.45417, -120.18103 56.4...  2016-06-09   \n",
       "34675  POLYGON ((-120.19231 56.46250, -120.17723 56.4...  2016-06-12   \n",
       "34562  POLYGON ((-111.23335 56.85833, -111.21049 56.8...  2016-06-05   \n",
       "34608  POLYGON ((-121.18293 56.63333, -121.17535 56.6...  2016-04-05   \n",
       "34651  POLYGON ((-120.44920 56.54583, -120.43408 56.5...  2016-05-04   \n",
       "34639  POLYGON ((-121.13476 56.60417, -121.11205 56.6...  2016-05-20   \n",
       "34635  POLYGON ((-121.24732 56.57083, -121.23976 56.5...  2016-05-04   \n",
       "34633  POLYGON ((-110.24914 56.60417, -110.24157 56.6...  2016-05-06   \n",
       "34630  MULTIPOLYGON (((-110.48627 56.65417, -110.4711...  2016-05-08   \n",
       "34595  POLYGON ((-110.41971 56.66250, -110.41213 56.6...  2016-06-02   \n",
       "34626  POLYGON ((-121.35199 56.59167, -121.34442 56.5...  2016-05-11   \n",
       "34625  POLYGON ((-110.36105 56.59583, -110.35348 56.5...  2016-05-04   \n",
       "34606  POLYGON ((-110.22183 56.71667, -110.19905 56.7...  2016-05-17   \n",
       "34616  POLYGON ((-110.76151 56.62917, -110.71606 56.6...  2016-04-03   \n",
       "34613  POLYGON ((-110.40845 56.62500, -110.40087 56.6...  2016-05-12   \n",
       "34533  POLYGON ((-110.26068 56.98333, -110.25303 56.9...  2016-06-03   \n",
       "\n",
       "       start_DOY    end_date  end_DOY  duration  expansion  fire_line  speed  \\\n",
       "34569        122  2016-05-29      150        29      53.36      68.30  13.21   \n",
       "34587        136  2016-06-08      160        25       5.20       5.22  13.34   \n",
       "34540        133  2016-06-04      156        24      15.41      12.94  16.94   \n",
       "34541        133  2016-06-04      156        24       4.62       6.37   5.94   \n",
       "34575        141  2016-06-12      164        24       0.45       0.95   1.69   \n",
       "34698        127  2016-05-27      148        22       2.25       2.93   6.71   \n",
       "34559        136  2016-06-04      156        21       3.39       5.73   5.37   \n",
       "34570        125  2016-05-24      145        21       3.53       4.67   6.57   \n",
       "34582        125  2016-05-24      145        21       9.73      14.97  11.28   \n",
       "34581        125  2016-05-24      145        21       0.78       1.61   1.97   \n",
       "34534        136  2016-06-04      156        21       7.50      11.09   7.53   \n",
       "34665        150  2016-06-18      170        21       1.18       1.83   4.17   \n",
       "34583        125  2016-05-22      143        19       2.59       5.02   4.61   \n",
       "34610        129  2016-05-26      147        19       2.88       4.65   3.92   \n",
       "34585        129  2016-05-25      146        18       0.88       1.80   1.49   \n",
       "34627        138  2016-06-03      155        18       2.35       2.78   6.70   \n",
       "34593        129  2016-05-24      145        17       0.61       1.09   1.75   \n",
       "34554        139  2016-06-03      155        17       1.17       2.29   5.83   \n",
       "34566         93  2016-04-17      108        16       0.87       1.79   4.07   \n",
       "34573        136  2016-05-27      148        13       1.24       2.60   2.41   \n",
       "34590        147  2016-06-07      159        13       0.16       0.36   0.77   \n",
       "34572        129  2016-05-20      141        13       0.41       0.89   2.92   \n",
       "34565         92  2016-04-12      103        12       0.13       0.27   0.63   \n",
       "34571        126  2016-05-16      137        12       0.32       0.69   2.24   \n",
       "34577        125  2016-05-14      135        11       0.88       1.81   1.34   \n",
       "34580        125  2016-05-14      135        11       0.21       0.46   0.93   \n",
       "34578        125  2016-05-14      135        11       0.60       1.30   1.78   \n",
       "34591        148  2016-06-06      158        11       0.25       0.55   0.95   \n",
       "34563        138  2016-05-27      148        11       0.86       1.56   6.12   \n",
       "34552        138  2016-05-27      148        11       3.22       5.56   2.72   \n",
       "34618         92  2016-04-11      102        11       0.06       0.13   0.35   \n",
       "34701        131  2016-05-20      141        11       0.43       0.93   1.53   \n",
       "34542        145  2016-06-03      155        11       0.31       0.67   1.16   \n",
       "34536        139  2016-05-27      148        10       2.72       5.14   2.85   \n",
       "34674        137  2016-05-25      146        10       0.94       1.81   1.78   \n",
       "34579        125  2016-05-13      134        10       1.33       2.69   1.32   \n",
       "34543        141  2016-05-29      150        10       0.13       0.28   0.88   \n",
       "34567         94  2016-04-11      102         9       0.12       0.26   0.87   \n",
       "34535        139  2016-05-26      147         9       3.05       6.38   1.70   \n",
       "34660        156  2016-06-12      164         9       0.76       1.59   1.54   \n",
       "34551        137  2016-05-24      145         9       3.38       6.28   2.06   \n",
       "34550        137  2016-05-24      145         9       2.31       2.88   5.70   \n",
       "34564        139  2016-05-26      147         9       1.31       2.42   1.96   \n",
       "34603        142  2016-05-29      150         9       0.55       0.98   1.51   \n",
       "34549        136  2016-05-22      143         8       0.86       1.79   1.09   \n",
       "34568         95  2016-04-11      102         8       0.48       1.04   1.20   \n",
       "34586        131  2016-05-15      136         6       0.21       0.46   0.82   \n",
       "34574        140  2016-05-24      145         6       0.18       0.39   0.63   \n",
       "34602        141  2016-05-24      145         5       0.17       0.37   0.74   \n",
       "34584        129  2016-05-12      133         5       0.56       1.20   0.79   \n",
       "34680        141  2016-05-24      145         5       0.64       1.30   1.40   \n",
       "34690        137  2016-05-20      141         5       0.51       1.11   1.06   \n",
       "34694        139  2016-05-22      143         5       0.86       1.67   1.41   \n",
       "34607        137  2016-05-20      141         5       0.17       0.37   1.13   \n",
       "34556         95  2016-04-07       98         4       0.16       0.35   0.54   \n",
       "34713        139  2016-05-20      141         3       0.71       1.54   1.71   \n",
       "34588        137  2016-05-18      139         3       1.14       2.47   0.88   \n",
       "34609        137  2016-05-16      137         1       0.43       0.93   0.46   \n",
       "34560        153  2016-06-01      153         1       0.21       0.46   0.46   \n",
       "34711        141  2016-05-20      141         1       0.21       0.46   0.46   \n",
       "34545        169  2016-06-17      169         1       0.21       0.46   0.46   \n",
       "34546        177  2016-06-25      177         1       0.21       0.46   0.46   \n",
       "34696        155  2016-06-03      155         1       0.21       0.46   0.46   \n",
       "34695        139  2016-05-18      139         1       0.21       0.46   0.46   \n",
       "34547        138  2016-05-17      138         1       0.21       0.46   0.46   \n",
       "34548        141  2016-05-20      141         1       0.21       0.46   0.46   \n",
       "34689        133  2016-05-12      133         1       0.21       0.46   0.46   \n",
       "34681        132  2016-05-11      132         1       0.64       1.39   0.85   \n",
       "34558        141  2016-05-20      141         1       0.21       0.46   0.46   \n",
       "34676        161  2016-06-09      161         1       0.21       0.46   0.46   \n",
       "34675        164  2016-06-12      164         1       0.21       0.46   0.46   \n",
       "34562        157  2016-06-05      157         1       0.21       0.46   0.46   \n",
       "34608         96  2016-04-05       96         1       0.43       0.93   0.88   \n",
       "34651        125  2016-05-04      125         1       0.21       0.46   0.46   \n",
       "34639        141  2016-05-20      141         1       0.21       0.46   0.46   \n",
       "34635        125  2016-05-04      125         1       0.21       0.46   0.46   \n",
       "34633        127  2016-05-06      127         1       0.43       0.93   0.54   \n",
       "34630        129  2016-05-08      129         1       0.21       0.46   0.46   \n",
       "34595        154  2016-06-02      154         1       0.21       0.46   0.46   \n",
       "34626        132  2016-05-11      132         1       0.21       0.46   0.46   \n",
       "34625        125  2016-05-04      125         1       0.21       0.46   0.46   \n",
       "34606        138  2016-05-17      138         1       0.43       0.93   0.46   \n",
       "34616         94  2016-04-03       94         1       0.21       0.46   0.46   \n",
       "34613        133  2016-05-12      133         1       0.21       0.46   0.46   \n",
       "34533        155  2016-06-03      155         1       0.21       0.46   0.46   \n",
       "\n",
       "       direction direction_s  landcover                  landcover_s tile_ID  \\\n",
       "34569          3        east          1  Evergreen Needleleaf forest  h11v03   \n",
       "34587          3        east          1  Evergreen Needleleaf forest  h11v03   \n",
       "34540          8   northwest          1  Evergreen Needleleaf forest  h11v03   \n",
       "34541          7        west          1  Evergreen Needleleaf forest  h11v03   \n",
       "34575          3        east          1  Evergreen Needleleaf forest  h11v03   \n",
       "34698          3        east          1  Evergreen Needleleaf forest  h11v03   \n",
       "34559          8   northwest          1  Evergreen Needleleaf forest  h11v03   \n",
       "34570          7        west          1  Evergreen Needleleaf forest  h11v03   \n",
       "34582          3        east          1  Evergreen Needleleaf forest  h11v03   \n",
       "34581          3        east          1  Evergreen Needleleaf forest  h11v03   \n",
       "34534          7        west          1  Evergreen Needleleaf forest  h11v03   \n",
       "34665          4   southeast          1  Evergreen Needleleaf forest  h11v03   \n",
       "34583          3        east          1  Evergreen Needleleaf forest  h11v03   \n",
       "34610          3        east          1  Evergreen Needleleaf forest  h11v03   \n",
       "34585          4   southeast          1  Evergreen Needleleaf forest  h11v03   \n",
       "34627          4   southeast          1  Evergreen Needleleaf forest  h11v03   \n",
       "34593          8   northwest          1  Evergreen Needleleaf forest  h11v03   \n",
       "34554          4   southeast          1  Evergreen Needleleaf forest  h11v03   \n",
       "34566          8   northwest          1  Evergreen Needleleaf forest  h11v03   \n",
       "34573          4   southeast          1  Evergreen Needleleaf forest  h11v03   \n",
       "34590          3        east          1  Evergreen Needleleaf forest  h11v03   \n",
       "34572          3        east          1  Evergreen Needleleaf forest  h11v03   \n",
       "34565          4   southeast         10                   Grasslands  h11v03   \n",
       "34571          4   southeast          1  Evergreen Needleleaf forest  h11v03   \n",
       "34577          8   northwest          1  Evergreen Needleleaf forest  h11v03   \n",
       "34580          3        east          1  Evergreen Needleleaf forest  h11v03   \n",
       "34578          7        west          1  Evergreen Needleleaf forest  h11v03   \n",
       "34591          4   southeast          1  Evergreen Needleleaf forest  h11v03   \n",
       "34563          7        west          1  Evergreen Needleleaf forest  h11v03   \n",
       "34552          4   southeast          1  Evergreen Needleleaf forest  h11v03   \n",
       "34618          3        east         10                   Grasslands  h11v03   \n",
       "34701          4   southeast          1  Evergreen Needleleaf forest  h11v03   \n",
       "34542          3        east          1  Evergreen Needleleaf forest  h11v03   \n",
       "34536          4   southeast          1  Evergreen Needleleaf forest  h11v03   \n",
       "34674          7        west          1  Evergreen Needleleaf forest  h11v03   \n",
       "34579          3        east          1  Evergreen Needleleaf forest  h11v03   \n",
       "34543          3        east          1  Evergreen Needleleaf forest  h11v03   \n",
       "34567          8   northwest         10                   Grasslands  h11v03   \n",
       "34535          8   northwest          1  Evergreen Needleleaf forest  h11v03   \n",
       "34660          4   southeast          1  Evergreen Needleleaf forest  h11v03   \n",
       "34551          4   southeast          1  Evergreen Needleleaf forest  h11v03   \n",
       "34550          7        west          1  Evergreen Needleleaf forest  h11v03   \n",
       "34564          3        east          1  Evergreen Needleleaf forest  h11v03   \n",
       "34603          3        east          1  Evergreen Needleleaf forest  h11v03   \n",
       "34549          7        west          1  Evergreen Needleleaf forest  h11v03   \n",
       "34568          4   southeast          5                 Mixed forest  h11v03   \n",
       "34586          4   southeast          1  Evergreen Needleleaf forest  h11v03   \n",
       "34574          3        east          1  Evergreen Needleleaf forest  h11v03   \n",
       "34602          3        east          5                 Mixed forest  h11v03   \n",
       "34584          4   southeast          1  Evergreen Needleleaf forest  h11v03   \n",
       "34680          3        east          1  Evergreen Needleleaf forest  h11v03   \n",
       "34690          7        west          5                 Mixed forest  h11v03   \n",
       "34694          4   southeast          1  Evergreen Needleleaf forest  h11v03   \n",
       "34607          3        east          5                 Mixed forest  h11v03   \n",
       "34556          4   southeast         10                   Grasslands  h11v03   \n",
       "34713          8   northwest          1  Evergreen Needleleaf forest  h11v03   \n",
       "34588          8   northwest          1  Evergreen Needleleaf forest  h11v03   \n",
       "34609          0        none          1  Evergreen Needleleaf forest  h11v03   \n",
       "34560          0        none          1  Evergreen Needleleaf forest  h11v03   \n",
       "34711          0        none          1  Evergreen Needleleaf forest  h11v03   \n",
       "34545          0        none          1  Evergreen Needleleaf forest  h11v03   \n",
       "34546          0        none          1  Evergreen Needleleaf forest  h11v03   \n",
       "34696          0        none          5                 Mixed forest  h11v03   \n",
       "34695          0        none          1  Evergreen Needleleaf forest  h11v03   \n",
       "34547          0        none          1  Evergreen Needleleaf forest  h11v03   \n",
       "34548          0        none          1  Evergreen Needleleaf forest  h11v03   \n",
       "34689          0        none          5                 Mixed forest  h11v03   \n",
       "34681          0        none          1  Evergreen Needleleaf forest  h11v03   \n",
       "34558          0        none          1  Evergreen Needleleaf forest  h11v03   \n",
       "34676          0        none          5                 Mixed forest  h11v03   \n",
       "34675          0        none          5                 Mixed forest  h11v03   \n",
       "34562          0        none          1  Evergreen Needleleaf forest  h11v03   \n",
       "34608          0        none          1  Evergreen Needleleaf forest  h11v03   \n",
       "34651          0        none          1  Evergreen Needleleaf forest  h11v03   \n",
       "34639          0        none          1  Evergreen Needleleaf forest  h11v03   \n",
       "34635          0        none          5                 Mixed forest  h11v03   \n",
       "34633          0        none          1  Evergreen Needleleaf forest  h11v03   \n",
       "34630          0        none          1  Evergreen Needleleaf forest  h11v03   \n",
       "34595          0        none          1  Evergreen Needleleaf forest  h11v03   \n",
       "34626          0        none          1  Evergreen Needleleaf forest  h11v03   \n",
       "34625          0        none          5                 Mixed forest  h11v03   \n",
       "34606          0        none          1  Evergreen Needleleaf forest  h11v03   \n",
       "34616          0        none          1  Evergreen Needleleaf forest  h11v03   \n",
       "34613          0        none          1  Evergreen Needleleaf forest  h11v03   \n",
       "34533          0        none          1  Evergreen Needleleaf forest  h11v03   \n",
       "\n",
       "                       ignition_pt  \n",
       "34569  POINT (-111.41070 56.66044)  \n",
       "34587  POINT (-110.27352 56.75627)  \n",
       "34540  POINT (-111.67692 56.64794)  \n",
       "34541  POINT (-111.69489 56.64377)  \n",
       "34575  POINT (-110.06913 56.81877)  \n",
       "34698  POINT (-110.52454 56.31877)  \n",
       "34559  POINT (-110.98981 56.76460)  \n",
       "34570  POINT (-110.46855 56.63127)  \n",
       "34582  POINT (-110.89292 56.68544)  \n",
       "34581  POINT (-110.40104 56.74794)  \n",
       "34534  POINT (-110.17349 56.86460)  \n",
       "34665  POINT (-110.28390 56.51877)  \n",
       "34583  POINT (-110.76747 56.64794)  \n",
       "34610  POINT (-110.21448 56.66877)  \n",
       "34585  POINT (-110.28025 56.59794)  \n",
       "34627  POINT (-110.09119 56.61877)  \n",
       "34593  POINT (-110.39262 56.78127)  \n",
       "34554  POINT (-110.50008 56.87710)  \n",
       "34566  POINT (-111.43370 56.79377)  \n",
       "34573  POINT (-110.79538 56.24377)  \n",
       "34590  POINT (-110.53006 56.80210)  \n",
       "34572  POINT (-110.78032 56.61877)  \n",
       "34565  POINT (-110.95172 56.40627)  \n",
       "34571  POINT (-111.41282 56.56877)  \n",
       "34577  POINT (-110.60440 56.79377)  \n",
       "34580  POINT (-110.41624 56.74794)  \n",
       "34578  POINT (-110.60733 56.78960)  \n",
       "34591  POINT (-110.51658 56.81044)  \n",
       "34563  POINT (-110.90447 56.84377)  \n",
       "34552  POINT (-110.67658 56.86460)  \n",
       "34618  POINT (-111.22219 56.64794)  \n",
       "34701  POINT (-110.61310 56.31044)  \n",
       "34542  POINT (-112.02151 56.63127)  \n",
       "34536  POINT (-110.33824 56.86877)  \n",
       "34674  POINT (-111.48111 56.50210)  \n",
       "34579  POINT (-110.49100 56.76044)  \n",
       "34543  POINT (-111.11770 56.94377)  \n",
       "34567  POINT (-110.96849 56.41460)  \n",
       "34535  POINT (-110.33750 56.90210)  \n",
       "34660  POINT (-110.16918 56.53127)  \n",
       "34551  POINT (-111.22730 56.83960)  \n",
       "34550  POINT (-111.15203 56.89377)  \n",
       "34564  POINT (-110.84460 56.83127)  \n",
       "34603  POINT (-111.08391 56.76044)  \n",
       "34549  POINT (-111.17970 56.83127)  \n",
       "34568  POINT (-111.20109 56.68960)  \n",
       "34586  POINT (-110.23993 56.64377)  \n",
       "34574  POINT (-111.46519 56.81460)  \n",
       "34602  POINT (-111.56954 56.77294)  \n",
       "34584  POINT (-110.39019 56.65627)  \n",
       "34680  POINT (-110.45060 56.44377)  \n",
       "34690  POINT (-110.39867 56.36877)  \n",
       "34694  POINT (-110.35185 56.33960)  \n",
       "34607  POINT (-111.58365 56.75210)  \n",
       "34556  POINT (-111.36740 56.86877)  \n",
       "34713  POINT (-110.47592 56.23960)  \n",
       "34588  POINT (-110.25631 56.72710)  \n",
       "34609  POINT (-111.00348 56.72294)  \n",
       "34560  POINT (-110.04524 56.85210)  \n",
       "34711  POINT (-110.48652 56.25627)  \n",
       "34545  POINT (-110.38732 56.93960)  \n",
       "34546  POINT (-110.06317 56.92294)  \n",
       "34696  POINT (-110.36092 56.34794)  \n",
       "34695  POINT (-110.31272 56.33127)  \n",
       "34547  POINT (-111.11006 56.91044)  \n",
       "34548  POINT (-111.11293 56.90627)  \n",
       "34689  POINT (-110.38816 56.37294)  \n",
       "34681  POINT (-110.49076 56.39794)  \n",
       "34558  POINT (-111.11870 56.86460)  \n",
       "34676  POINT (-110.27159 56.49377)  \n",
       "34675  POINT (-110.26861 56.49794)  \n",
       "34562  POINT (-110.85587 56.84794)  \n",
       "34608  POINT (-111.41262 56.73544)  \n",
       "34651  POINT (-110.78802 56.56460)  \n",
       "34639  POINT (-110.35133 56.59377)  \n",
       "34635  POINT (-111.05982 56.59794)  \n",
       "34633  POINT (-110.87236 56.60627)  \n",
       "34630  POINT (-110.39872 56.62294)  \n",
       "34595  POINT (-110.19522 56.80210)  \n",
       "34626  POINT (-110.39576 56.62710)  \n",
       "34625  POINT (-110.94870 56.62710)  \n",
       "34606  POINT (-110.84066 56.76044)  \n",
       "34616  POINT (-111.24964 56.65210)  \n",
       "34613  POINT (-110.24942 56.67294)  \n",
       "34533  POINT (-110.25084 56.98127)  "
      ]
     },
     "execution_count": 7,
     "metadata": {},
     "output_type": "execute_result"
    }
   ],
   "source": [
    "# Subset df for Fort McMurray fire\n",
    "ftmc1 = gdf_2016.loc[(gdf_2016['latitude'] > 54.0) & (gdf_2016['latitude'] < 57.0)\n",
    "                    & (gdf_2016['longitude'] > -113) & (gdf_2016['longitude'] < -110)]\n",
    "pd.set_option('display.max_rows',86)\n",
    "ftmc = copy.deepcopy(ftmc1)\n",
    "ftmc.rename(columns={'perimeter':'geometry'},inplace=True)\n",
    "ftmc.sort_values(by=['duration'],ascending=False)"
   ]
  },
  {
   "cell_type": "markdown",
   "metadata": {
    "hidden": true
   },
   "source": [
    "Pick fire # 34570 - that's the biggie."
   ]
  },
  {
   "cell_type": "code",
   "execution_count": 8,
   "metadata": {
    "hidden": true
   },
   "outputs": [
    {
     "data": {
      "text/html": [
       "<div>\n",
       "<style scoped>\n",
       "    .dataframe tbody tr th:only-of-type {\n",
       "        vertical-align: middle;\n",
       "    }\n",
       "\n",
       "    .dataframe tbody tr th {\n",
       "        vertical-align: top;\n",
       "    }\n",
       "\n",
       "    .dataframe thead th {\n",
       "        text-align: right;\n",
       "    }\n",
       "</style>\n",
       "<table border=\"1\" class=\"dataframe\">\n",
       "  <thead>\n",
       "    <tr style=\"text-align: right;\">\n",
       "      <th></th>\n",
       "      <th>fire_ID</th>\n",
       "      <th>latitude</th>\n",
       "      <th>longitude</th>\n",
       "      <th>size</th>\n",
       "      <th>geometry</th>\n",
       "      <th>start_date</th>\n",
       "      <th>start_DOY</th>\n",
       "      <th>end_date</th>\n",
       "      <th>end_DOY</th>\n",
       "      <th>duration</th>\n",
       "      <th>expansion</th>\n",
       "      <th>fire_line</th>\n",
       "      <th>speed</th>\n",
       "      <th>direction</th>\n",
       "      <th>direction_s</th>\n",
       "      <th>landcover</th>\n",
       "      <th>landcover_s</th>\n",
       "      <th>tile_ID</th>\n",
       "      <th>ignition_pt</th>\n",
       "    </tr>\n",
       "  </thead>\n",
       "  <tbody>\n",
       "    <tr>\n",
       "      <th>34569</th>\n",
       "      <td>34570</td>\n",
       "      <td>56.6604</td>\n",
       "      <td>-111.41</td>\n",
       "      <td>1547.32</td>\n",
       "      <td>POLYGON ((-110.20500 56.80417, -110.19739 56.8...</td>\n",
       "      <td>2016-05-01</td>\n",
       "      <td>122</td>\n",
       "      <td>2016-05-29</td>\n",
       "      <td>150</td>\n",
       "      <td>29</td>\n",
       "      <td>53.36</td>\n",
       "      <td>68.3</td>\n",
       "      <td>13.21</td>\n",
       "      <td>3</td>\n",
       "      <td>east</td>\n",
       "      <td>1</td>\n",
       "      <td>Evergreen Needleleaf forest</td>\n",
       "      <td>h11v03</td>\n",
       "      <td>POINT (-111.41070 56.66044)</td>\n",
       "    </tr>\n",
       "  </tbody>\n",
       "</table>\n",
       "</div>"
      ],
      "text/plain": [
       "       fire_ID  latitude  longitude     size  \\\n",
       "34569    34570   56.6604    -111.41  1547.32   \n",
       "\n",
       "                                                geometry  start_date  \\\n",
       "34569  POLYGON ((-110.20500 56.80417, -110.19739 56.8...  2016-05-01   \n",
       "\n",
       "       start_DOY    end_date  end_DOY  duration  expansion  fire_line  speed  \\\n",
       "34569        122  2016-05-29      150        29      53.36       68.3  13.21   \n",
       "\n",
       "       direction direction_s  landcover                  landcover_s tile_ID  \\\n",
       "34569          3        east          1  Evergreen Needleleaf forest  h11v03   \n",
       "\n",
       "                       ignition_pt  \n",
       "34569  POINT (-111.41070 56.66044)  "
      ]
     },
     "execution_count": 8,
     "metadata": {},
     "output_type": "execute_result"
    }
   ],
   "source": [
    "fire = ftmc.loc[ftmc['fire_ID']==34570]\n",
    "fire"
   ]
  },
  {
   "cell_type": "code",
   "execution_count": null,
   "metadata": {
    "hidden": true
   },
   "outputs": [],
   "source": [
    "iy = np.array(fire['latitude'].values[0])\n",
    "ix = np.array(fire['longitude'].values[0])"
   ]
  },
  {
   "cell_type": "code",
   "execution_count": null,
   "metadata": {
    "hidden": true
   },
   "outputs": [],
   "source": [
    "fig,ax = plt.subplots(1)\n",
    "ax.set_aspect('equal')\n",
    "\n",
    "ax.plot(ix,iy,marker='x',markersize=12,color='green')\n",
    "ax.set_xlim([-110.21,-110.18])\n",
    "ax.set_ylim([56.79,56.81])\n",
    "\n",
    "fire.plot(ax=ax)\n",
    "\n",
    "plt.show()\n",
    "\n",
    "### CANNOT SEEM TO GET THE IGNITION POINT TO SHOW ON THE PLOT. GEOPANDAS DOES DIFFERENT STUFF WITH matplotlib"
   ]
  },
  {
   "cell_type": "markdown",
   "metadata": {
    "heading_collapsed": true
   },
   "source": [
    "#### Convert TIFF raster file to point data  \n",
    "\n",
    "This is NOT what we need to do -  basically we need to convert the points / polygons from the shapefile into the raster CRS."
   ]
  },
  {
   "cell_type": "code",
   "execution_count": null,
   "metadata": {
    "hidden": true
   },
   "outputs": [],
   "source": [
    "# From https://pypi.org/project/raster2xyz/\n",
    "# input_raster = \"input_raster.tif\"\n",
    "# out_csv = \"/tmp/out_xyz.csv\"\n",
    "\n",
    "# rtxyz = Raster2xyz()\n",
    "# rtxyz.translate(input_raster, out_csv)\n",
    "\n",
    "input_raster = \"../data/GlobalFire2016/Global_fire_atlas_direction_yearly_2016.tif\"\n",
    "out_csv = \"../data/GlobalFire2016/Global_fire_atlas_direction_yearly_2016_out_xyz.csv\"\n",
    "\n",
    "rtxyz = Raster2xyz()\n",
    "rtxyz.translate(input_raster, out_csv)"
   ]
  },
  {
   "cell_type": "code",
   "execution_count": null,
   "metadata": {
    "hidden": true
   },
   "outputs": [],
   "source": [
    "raster_csv = pd.read_csv('../data/GlobalFire2016/Global_fire_atlas_direction_yearly_2016_out_xyz.csv')\n",
    "raster_csv.shape"
   ]
  },
  {
   "cell_type": "code",
   "execution_count": null,
   "metadata": {
    "hidden": true
   },
   "outputs": [],
   "source": [
    "raster_csv.head()"
   ]
  },
  {
   "cell_type": "markdown",
   "metadata": {
    "hidden": true
   },
   "source": [
    "Spatial Reference System, proj4: +proj=sinu +lon_0=0 +x_0=0 +y_0=0 +a=6371007.181 +b=6371007.181 +units=m +no_defs"
   ]
  },
  {
   "cell_type": "markdown",
   "metadata": {
    "heading_collapsed": true
   },
   "source": [
    "#### Convert Lat/Long to CRS"
   ]
  },
  {
   "cell_type": "markdown",
   "metadata": {
    "hidden": true
   },
   "source": [
    "From StackExchange:\n",
    "\n",
    "You need to transform your points to the coordinate system of the raster. You could warp the raster to your points' coordinate system but warping rasters is a bit messy. (for R but should be similar in python)\n",
    "\n",
    "https://gis.stackexchange.com/questions/200417/very-basic-question-on-extracting-data-from-tif-raster-layer-in-r-projection-n"
   ]
  },
  {
   "cell_type": "code",
   "execution_count": 9,
   "metadata": {
    "hidden": true
   },
   "outputs": [
    {
     "data": {
      "text/html": [
       "<div>\n",
       "<style scoped>\n",
       "    .dataframe tbody tr th:only-of-type {\n",
       "        vertical-align: middle;\n",
       "    }\n",
       "\n",
       "    .dataframe tbody tr th {\n",
       "        vertical-align: top;\n",
       "    }\n",
       "\n",
       "    .dataframe thead th {\n",
       "        text-align: right;\n",
       "    }\n",
       "</style>\n",
       "<table border=\"1\" class=\"dataframe\">\n",
       "  <thead>\n",
       "    <tr style=\"text-align: right;\">\n",
       "      <th></th>\n",
       "      <th>fire_ID</th>\n",
       "      <th>latitude</th>\n",
       "      <th>longitude</th>\n",
       "      <th>size</th>\n",
       "      <th>geometry</th>\n",
       "      <th>start_date</th>\n",
       "      <th>start_DOY</th>\n",
       "      <th>end_date</th>\n",
       "      <th>end_DOY</th>\n",
       "      <th>duration</th>\n",
       "      <th>expansion</th>\n",
       "      <th>fire_line</th>\n",
       "      <th>speed</th>\n",
       "      <th>direction</th>\n",
       "      <th>direction_s</th>\n",
       "      <th>landcover</th>\n",
       "      <th>landcover_s</th>\n",
       "      <th>tile_ID</th>\n",
       "      <th>ignition_pt</th>\n",
       "    </tr>\n",
       "  </thead>\n",
       "  <tbody>\n",
       "    <tr>\n",
       "      <th>34569</th>\n",
       "      <td>34570</td>\n",
       "      <td>56.6604</td>\n",
       "      <td>-111.41</td>\n",
       "      <td>1547.32</td>\n",
       "      <td>POLYGON ((-110.20500 56.80417, -110.19739 56.8...</td>\n",
       "      <td>2016-05-01</td>\n",
       "      <td>122</td>\n",
       "      <td>2016-05-29</td>\n",
       "      <td>150</td>\n",
       "      <td>29</td>\n",
       "      <td>53.36</td>\n",
       "      <td>68.3</td>\n",
       "      <td>13.21</td>\n",
       "      <td>3</td>\n",
       "      <td>east</td>\n",
       "      <td>1</td>\n",
       "      <td>Evergreen Needleleaf forest</td>\n",
       "      <td>h11v03</td>\n",
       "      <td>POINT (-111.41070 56.66044)</td>\n",
       "    </tr>\n",
       "  </tbody>\n",
       "</table>\n",
       "</div>"
      ],
      "text/plain": [
       "       fire_ID  latitude  longitude     size  \\\n",
       "34569    34570   56.6604    -111.41  1547.32   \n",
       "\n",
       "                                                geometry  start_date  \\\n",
       "34569  POLYGON ((-110.20500 56.80417, -110.19739 56.8...  2016-05-01   \n",
       "\n",
       "       start_DOY    end_date  end_DOY  duration  expansion  fire_line  speed  \\\n",
       "34569        122  2016-05-29      150        29      53.36       68.3  13.21   \n",
       "\n",
       "       direction direction_s  landcover                  landcover_s tile_ID  \\\n",
       "34569          3        east          1  Evergreen Needleleaf forest  h11v03   \n",
       "\n",
       "                       ignition_pt  \n",
       "34569  POINT (-111.41070 56.66044)  "
      ]
     },
     "execution_count": 9,
     "metadata": {},
     "output_type": "execute_result"
    }
   ],
   "source": [
    "# Our desired 'fire' from the shapefile\n",
    "fire"
   ]
  },
  {
   "cell_type": "code",
   "execution_count": 10,
   "metadata": {
    "hidden": true
   },
   "outputs": [
    {
     "data": {
      "text/plain": [
       "{'init': 'epsg:4326'}"
      ]
     },
     "execution_count": 10,
     "metadata": {},
     "output_type": "execute_result"
    }
   ],
   "source": [
    "fire.crs"
   ]
  },
  {
   "cell_type": "code",
   "execution_count": 11,
   "metadata": {
    "hidden": true
   },
   "outputs": [],
   "source": [
    "# Global Fire Atlas projection Coordinate Reference System (from website)\n",
    "gfacrs = \"+proj=sinu +lon_0=0 +x_0=0 +y_0=0 +a=6371007.181 +b=6371007.181 +units=m +no_defs\" "
   ]
  },
  {
   "cell_type": "code",
   "execution_count": 12,
   "metadata": {
    "hidden": true,
    "scrolled": true
   },
   "outputs": [
    {
     "name": "stderr",
     "output_type": "stream",
     "text": [
      "C:\\DDRIVE\\ProgramData\\Anaconda3\\envs\\wildfire\\lib\\site-packages\\pyproj\\crs.py:77: FutureWarning: '+init=<authority>:<code>' syntax is deprecated. '<authority>:<code>' is the preferred initialization method.\n",
      "  return _prepare_from_string(\" \".join(pjargs))\n"
     ]
    },
    {
     "data": {
      "text/html": [
       "<div>\n",
       "<style scoped>\n",
       "    .dataframe tbody tr th:only-of-type {\n",
       "        vertical-align: middle;\n",
       "    }\n",
       "\n",
       "    .dataframe tbody tr th {\n",
       "        vertical-align: top;\n",
       "    }\n",
       "\n",
       "    .dataframe thead th {\n",
       "        text-align: right;\n",
       "    }\n",
       "</style>\n",
       "<table border=\"1\" class=\"dataframe\">\n",
       "  <thead>\n",
       "    <tr style=\"text-align: right;\">\n",
       "      <th></th>\n",
       "      <th>fire_ID</th>\n",
       "      <th>latitude</th>\n",
       "      <th>longitude</th>\n",
       "      <th>size</th>\n",
       "      <th>geometry</th>\n",
       "      <th>start_date</th>\n",
       "      <th>start_DOY</th>\n",
       "      <th>end_date</th>\n",
       "      <th>end_DOY</th>\n",
       "      <th>duration</th>\n",
       "      <th>expansion</th>\n",
       "      <th>fire_line</th>\n",
       "      <th>speed</th>\n",
       "      <th>direction</th>\n",
       "      <th>direction_s</th>\n",
       "      <th>landcover</th>\n",
       "      <th>landcover_s</th>\n",
       "      <th>tile_ID</th>\n",
       "      <th>ignition_pt</th>\n",
       "    </tr>\n",
       "  </thead>\n",
       "  <tbody>\n",
       "    <tr>\n",
       "      <th>34569</th>\n",
       "      <td>34570</td>\n",
       "      <td>56.6604</td>\n",
       "      <td>-111.41</td>\n",
       "      <td>1547.32</td>\n",
       "      <td>POLYGON ((-6709231.448 6316342.264, -6708768.1...</td>\n",
       "      <td>2016-05-01</td>\n",
       "      <td>122</td>\n",
       "      <td>2016-05-29</td>\n",
       "      <td>150</td>\n",
       "      <td>29</td>\n",
       "      <td>53.36</td>\n",
       "      <td>68.3</td>\n",
       "      <td>13.21</td>\n",
       "      <td>3</td>\n",
       "      <td>east</td>\n",
       "      <td>1</td>\n",
       "      <td>Evergreen Needleleaf forest</td>\n",
       "      <td>h11v03</td>\n",
       "      <td>POINT (-111.41070 56.66044)</td>\n",
       "    </tr>\n",
       "  </tbody>\n",
       "</table>\n",
       "</div>"
      ],
      "text/plain": [
       "       fire_ID  latitude  longitude     size  \\\n",
       "34569    34570   56.6604    -111.41  1547.32   \n",
       "\n",
       "                                                geometry  start_date  \\\n",
       "34569  POLYGON ((-6709231.448 6316342.264, -6708768.1...  2016-05-01   \n",
       "\n",
       "       start_DOY    end_date  end_DOY  duration  expansion  fire_line  speed  \\\n",
       "34569        122  2016-05-29      150        29      53.36       68.3  13.21   \n",
       "\n",
       "       direction direction_s  landcover                  landcover_s tile_ID  \\\n",
       "34569          3        east          1  Evergreen Needleleaf forest  h11v03   \n",
       "\n",
       "                       ignition_pt  \n",
       "34569  POINT (-111.41070 56.66044)  "
      ]
     },
     "execution_count": 12,
     "metadata": {},
     "output_type": "execute_result"
    }
   ],
   "source": [
    "fire2 = fire.to_crs(gfacrs)\n",
    "fire2"
   ]
  },
  {
   "cell_type": "code",
   "execution_count": 17,
   "metadata": {
    "hidden": true
   },
   "outputs": [
    {
     "data": {
      "text/plain": [
       "'geometry'"
      ]
     },
     "execution_count": 17,
     "metadata": {},
     "output_type": "execute_result"
    }
   ],
   "source": [
    "fire2.geometry.name"
   ]
  },
  {
   "cell_type": "code",
   "execution_count": 19,
   "metadata": {
    "hidden": true
   },
   "outputs": [
    {
     "data": {
      "text/plain": [
       "'+proj=sinu +lon_0=0 +x_0=0 +y_0=0 +a=6371007.181 +b=6371007.181 +units=m +no_defs'"
      ]
     },
     "execution_count": 19,
     "metadata": {},
     "output_type": "execute_result"
    }
   ],
   "source": [
    "fire2.crs  # Ah that is why you can't convert two columns. because when you convert one column\n",
    "# then the entire dataframe thinks it is now in the new CRS"
   ]
  },
  {
   "cell_type": "markdown",
   "metadata": {
    "heading_collapsed": true
   },
   "source": [
    "#### Reimport and engineer the features appropriately\n",
    "\n",
    "First, don't combine the shp files (as in 2.4.2.3). Instead, create 3 dataframes:  \n",
    "1) fire ID and all the features (except geometry)  \n",
    "2) fire ID and POLYGON  \n",
    "3) fire ID and POINT (ignition)  "
   ]
  },
  {
   "cell_type": "code",
   "execution_count": 206,
   "metadata": {
    "hidden": true
   },
   "outputs": [
    {
     "name": "stdout",
     "output_type": "stream",
     "text": [
      "Wall time: 2min 30s\n"
     ]
    }
   ],
   "source": [
    "%%time\n",
    "ign_gdf = gpd.read_file('../data/GlobalFire2016/Global_fire_atlas_V1_ignitions_2016/Global_fire_atlas_V1_ignitions_2016.shp')\n",
    "poly_gdf = gpd.read_file('../data/GlobalFire2016/Global_fire_atlas_V1_perimeter_2016/Global_fire_atlas_V1_perimeter_2016.shp')"
   ]
  },
  {
   "cell_type": "code",
   "execution_count": 278,
   "metadata": {
    "hidden": true
   },
   "outputs": [],
   "source": [
    "features1 = copy.deepcopy(ign_gdf)"
   ]
  },
  {
   "cell_type": "code",
   "execution_count": 279,
   "metadata": {
    "collapsed": true,
    "hidden": true,
    "jupyter": {
     "outputs_hidden": true
    }
   },
   "outputs": [
    {
     "data": {
      "text/html": [
       "<div>\n",
       "<style scoped>\n",
       "    .dataframe tbody tr th:only-of-type {\n",
       "        vertical-align: middle;\n",
       "    }\n",
       "\n",
       "    .dataframe tbody tr th {\n",
       "        vertical-align: top;\n",
       "    }\n",
       "\n",
       "    .dataframe thead th {\n",
       "        text-align: right;\n",
       "    }\n",
       "</style>\n",
       "<table border=\"1\" class=\"dataframe\">\n",
       "  <thead>\n",
       "    <tr style=\"text-align: right;\">\n",
       "      <th></th>\n",
       "      <th>fire_ID</th>\n",
       "      <th>latitude</th>\n",
       "      <th>longitude</th>\n",
       "      <th>size</th>\n",
       "      <th>perimeter</th>\n",
       "      <th>start_date</th>\n",
       "      <th>start_DOY</th>\n",
       "      <th>end_date</th>\n",
       "      <th>end_DOY</th>\n",
       "      <th>duration</th>\n",
       "      <th>expansion</th>\n",
       "      <th>fire_line</th>\n",
       "      <th>speed</th>\n",
       "      <th>direction</th>\n",
       "      <th>direction_s</th>\n",
       "      <th>landcover</th>\n",
       "      <th>landcover_s</th>\n",
       "      <th>tile_ID</th>\n",
       "    </tr>\n",
       "  </thead>\n",
       "  <tbody>\n",
       "    <tr>\n",
       "      <th>0</th>\n",
       "      <td>1</td>\n",
       "      <td>20.8438</td>\n",
       "      <td>-156.413</td>\n",
       "      <td>0.86</td>\n",
       "      <td>4.63</td>\n",
       "      <td>2016-10-26</td>\n",
       "      <td>300</td>\n",
       "      <td>2016-11-02</td>\n",
       "      <td>307</td>\n",
       "      <td>8</td>\n",
       "      <td>0.11</td>\n",
       "      <td>0.23</td>\n",
       "      <td>0.37</td>\n",
       "      <td>3</td>\n",
       "      <td>east</td>\n",
       "      <td>12</td>\n",
       "      <td>Croplands</td>\n",
       "      <td>h03v06</td>\n",
       "    </tr>\n",
       "    <tr>\n",
       "      <th>1</th>\n",
       "      <td>2</td>\n",
       "      <td>20.8396</td>\n",
       "      <td>-156.418</td>\n",
       "      <td>1.50</td>\n",
       "      <td>6.48</td>\n",
       "      <td>2016-10-28</td>\n",
       "      <td>302</td>\n",
       "      <td>2016-11-02</td>\n",
       "      <td>307</td>\n",
       "      <td>6</td>\n",
       "      <td>0.25</td>\n",
       "      <td>0.54</td>\n",
       "      <td>0.57</td>\n",
       "      <td>4</td>\n",
       "      <td>southeast</td>\n",
       "      <td>12</td>\n",
       "      <td>Croplands</td>\n",
       "      <td>h03v06</td>\n",
       "    </tr>\n",
       "    <tr>\n",
       "      <th>2</th>\n",
       "      <td>3</td>\n",
       "      <td>20.8105</td>\n",
       "      <td>-156.437</td>\n",
       "      <td>0.43</td>\n",
       "      <td>2.78</td>\n",
       "      <td>2016-11-29</td>\n",
       "      <td>334</td>\n",
       "      <td>2016-11-29</td>\n",
       "      <td>334</td>\n",
       "      <td>1</td>\n",
       "      <td>0.43</td>\n",
       "      <td>0.93</td>\n",
       "      <td>0.46</td>\n",
       "      <td>0</td>\n",
       "      <td>none</td>\n",
       "      <td>12</td>\n",
       "      <td>Croplands</td>\n",
       "      <td>h03v06</td>\n",
       "    </tr>\n",
       "    <tr>\n",
       "      <th>3</th>\n",
       "      <td>4</td>\n",
       "      <td>20.6271</td>\n",
       "      <td>-156.247</td>\n",
       "      <td>18.65</td>\n",
       "      <td>30.56</td>\n",
       "      <td>2016-02-16</td>\n",
       "      <td>47</td>\n",
       "      <td>2016-02-20</td>\n",
       "      <td>51</td>\n",
       "      <td>5</td>\n",
       "      <td>3.73</td>\n",
       "      <td>6.20</td>\n",
       "      <td>2.68</td>\n",
       "      <td>8</td>\n",
       "      <td>northwest</td>\n",
       "      <td>7</td>\n",
       "      <td>Open shrublands</td>\n",
       "      <td>h03v06</td>\n",
       "    </tr>\n",
       "    <tr>\n",
       "      <th>4</th>\n",
       "      <td>5</td>\n",
       "      <td>19.8063</td>\n",
       "      <td>-155.895</td>\n",
       "      <td>7.72</td>\n",
       "      <td>12.96</td>\n",
       "      <td>2016-03-20</td>\n",
       "      <td>80</td>\n",
       "      <td>2016-03-25</td>\n",
       "      <td>85</td>\n",
       "      <td>6</td>\n",
       "      <td>1.29</td>\n",
       "      <td>2.47</td>\n",
       "      <td>1.39</td>\n",
       "      <td>4</td>\n",
       "      <td>southeast</td>\n",
       "      <td>7</td>\n",
       "      <td>Open shrublands</td>\n",
       "      <td>h03v07</td>\n",
       "    </tr>\n",
       "  </tbody>\n",
       "</table>\n",
       "</div>"
      ],
      "text/plain": [
       "   fire_ID  latitude  longitude   size  perimeter  start_date  start_DOY  \\\n",
       "0        1   20.8438   -156.413   0.86       4.63  2016-10-26        300   \n",
       "1        2   20.8396   -156.418   1.50       6.48  2016-10-28        302   \n",
       "2        3   20.8105   -156.437   0.43       2.78  2016-11-29        334   \n",
       "3        4   20.6271   -156.247  18.65      30.56  2016-02-16         47   \n",
       "4        5   19.8063   -155.895   7.72      12.96  2016-03-20         80   \n",
       "\n",
       "     end_date  end_DOY  duration  expansion  fire_line  speed  direction  \\\n",
       "0  2016-11-02      307         8       0.11       0.23   0.37          3   \n",
       "1  2016-11-02      307         6       0.25       0.54   0.57          4   \n",
       "2  2016-11-29      334         1       0.43       0.93   0.46          0   \n",
       "3  2016-02-20       51         5       3.73       6.20   2.68          8   \n",
       "4  2016-03-25       85         6       1.29       2.47   1.39          4   \n",
       "\n",
       "  direction_s  landcover      landcover_s tile_ID  \n",
       "0        east         12        Croplands  h03v06  \n",
       "1   southeast         12        Croplands  h03v06  \n",
       "2        none         12        Croplands  h03v06  \n",
       "3   northwest          7  Open shrublands  h03v06  \n",
       "4   southeast          7  Open shrublands  h03v07  "
      ]
     },
     "execution_count": 279,
     "metadata": {},
     "output_type": "execute_result"
    }
   ],
   "source": [
    "features1 = pd.DataFrame(ign_gdf.drop(columns='geometry'))\n",
    "features1.head()"
   ]
  },
  {
   "cell_type": "code",
   "execution_count": 280,
   "metadata": {
    "hidden": true
   },
   "outputs": [],
   "source": [
    "colnames = list(ign_gdf.columns)"
   ]
  },
  {
   "cell_type": "code",
   "execution_count": 281,
   "metadata": {
    "hidden": true
   },
   "outputs": [
    {
     "data": {
      "text/plain": [
       "['fire_ID', 'geometry']"
      ]
     },
     "execution_count": 281,
     "metadata": {},
     "output_type": "execute_result"
    }
   ],
   "source": [
    "keepnames = [colnames[0],colnames[len(colnames)-1]]\n",
    "keepnames"
   ]
  },
  {
   "cell_type": "code",
   "execution_count": 282,
   "metadata": {
    "hidden": true
   },
   "outputs": [],
   "source": [
    "dropnames = list(set(colnames) - set(keepnames))"
   ]
  },
  {
   "cell_type": "code",
   "execution_count": 283,
   "metadata": {
    "hidden": true
   },
   "outputs": [],
   "source": [
    "ign_gdf.drop(columns=dropnames,inplace=True)"
   ]
  },
  {
   "cell_type": "code",
   "execution_count": 284,
   "metadata": {
    "hidden": true
   },
   "outputs": [],
   "source": [
    "dropnames2 = list(set(list(poly_gdf.columns)) - set(keepnames))\n",
    "poly_gdf.drop(columns=dropnames2,inplace=True)"
   ]
  },
  {
   "cell_type": "code",
   "execution_count": 285,
   "metadata": {
    "hidden": true
   },
   "outputs": [],
   "source": [
    "# Global Fire Atlas projection Coordinate Reference System (from website)\n",
    "gfacrs = \"+proj=sinu +lon_0=0 +x_0=0 +y_0=0 +a=6371007.181 +b=6371007.181 +units=m +no_defs\" "
   ]
  },
  {
   "cell_type": "markdown",
   "metadata": {},
   "source": [
    "#### Subset to California State"
   ]
  },
  {
   "cell_type": "markdown",
   "metadata": {
    "heading_collapsed": true
   },
   "source": [
    "##### CA State Boundaries"
   ]
  },
  {
   "cell_type": "markdown",
   "metadata": {
    "hidden": true
   },
   "source": [
    "From https://data.ca.gov/dataset/ca-geographic-boundaries/resource/3db1e426-fb51-44f5-82d5-a54d7c6e188b"
   ]
  },
  {
   "cell_type": "code",
   "execution_count": 21,
   "metadata": {
    "hidden": true
   },
   "outputs": [
    {
     "name": "stdout",
     "output_type": "stream",
     "text": [
      "Wall time: 111 ms\n"
     ]
    }
   ],
   "source": [
    "%%time\n",
    "CA_gdf = gpd.read_file('../data/ca-state-boundary/CA_state_TIGER2016.shp')"
   ]
  },
  {
   "cell_type": "code",
   "execution_count": 23,
   "metadata": {
    "hidden": true
   },
   "outputs": [
    {
     "data": {
      "text/html": [
       "<div>\n",
       "<style scoped>\n",
       "    .dataframe tbody tr th:only-of-type {\n",
       "        vertical-align: middle;\n",
       "    }\n",
       "\n",
       "    .dataframe tbody tr th {\n",
       "        vertical-align: top;\n",
       "    }\n",
       "\n",
       "    .dataframe thead th {\n",
       "        text-align: right;\n",
       "    }\n",
       "</style>\n",
       "<table border=\"1\" class=\"dataframe\">\n",
       "  <thead>\n",
       "    <tr style=\"text-align: right;\">\n",
       "      <th></th>\n",
       "      <th>REGION</th>\n",
       "      <th>DIVISION</th>\n",
       "      <th>STATEFP</th>\n",
       "      <th>STATENS</th>\n",
       "      <th>GEOID</th>\n",
       "      <th>STUSPS</th>\n",
       "      <th>NAME</th>\n",
       "      <th>LSAD</th>\n",
       "      <th>MTFCC</th>\n",
       "      <th>FUNCSTAT</th>\n",
       "      <th>ALAND</th>\n",
       "      <th>AWATER</th>\n",
       "      <th>INTPTLAT</th>\n",
       "      <th>INTPTLON</th>\n",
       "      <th>geometry</th>\n",
       "    </tr>\n",
       "  </thead>\n",
       "  <tbody>\n",
       "    <tr>\n",
       "      <th>0</th>\n",
       "      <td>4</td>\n",
       "      <td>9</td>\n",
       "      <td>06</td>\n",
       "      <td>01779778</td>\n",
       "      <td>06</td>\n",
       "      <td>CA</td>\n",
       "      <td>California</td>\n",
       "      <td>00</td>\n",
       "      <td>G4000</td>\n",
       "      <td>A</td>\n",
       "      <td>403501101370</td>\n",
       "      <td>20466718403</td>\n",
       "      <td>+37.1551773</td>\n",
       "      <td>-119.5434183</td>\n",
       "      <td>MULTIPOLYGON (((-13317677.375 3930590.808, -13...</td>\n",
       "    </tr>\n",
       "  </tbody>\n",
       "</table>\n",
       "</div>"
      ],
      "text/plain": [
       "  REGION DIVISION STATEFP   STATENS GEOID STUSPS        NAME LSAD  MTFCC  \\\n",
       "0      4        9      06  01779778    06     CA  California   00  G4000   \n",
       "\n",
       "  FUNCSTAT         ALAND       AWATER     INTPTLAT      INTPTLON  \\\n",
       "0        A  403501101370  20466718403  +37.1551773  -119.5434183   \n",
       "\n",
       "                                            geometry  \n",
       "0  MULTIPOLYGON (((-13317677.375 3930590.808, -13...  "
      ]
     },
     "execution_count": 23,
     "metadata": {},
     "output_type": "execute_result"
    }
   ],
   "source": [
    "CA_gdf"
   ]
  },
  {
   "cell_type": "code",
   "execution_count": 24,
   "metadata": {
    "hidden": true
   },
   "outputs": [
    {
     "data": {
      "text/plain": [
       "<matplotlib.axes._subplots.AxesSubplot at 0x1d5508409c8>"
      ]
     },
     "execution_count": 24,
     "metadata": {},
     "output_type": "execute_result"
    },
    {
     "data": {
      "image/png": "[encoded data removed]",
      "text/plain": [
       "<Figure size 432x288 with 1 Axes>"
      ]
     },
     "metadata": {
      "needs_background": "light"
     },
     "output_type": "display_data"
    }
   ],
   "source": [
    "CA_gdf.plot()"
   ]
  },
  {
   "cell_type": "code",
   "execution_count": 37,
   "metadata": {
    "hidden": true
   },
   "outputs": [
    {
     "name": "stderr",
     "output_type": "stream",
     "text": [
      "C:\\DDRIVE\\ProgramData\\Anaconda3\\envs\\wildfire\\lib\\site-packages\\pyproj\\crs.py:77: FutureWarning: '+init=<authority>:<code>' syntax is deprecated. '<authority>:<code>' is the preferred initialization method.\n",
      "  return _prepare_from_string(\" \".join(pjargs))\n"
     ]
    }
   ],
   "source": [
    "#Convert to CRS\n",
    "CA_gdf2 = CA_gdf.to_crs(customcrs)"
   ]
  },
  {
   "cell_type": "code",
   "execution_count": 38,
   "metadata": {
    "hidden": true
   },
   "outputs": [
    {
     "data": {
      "text/plain": [
       "<matplotlib.axes._subplots.AxesSubplot at 0x1d551c26588>"
      ]
     },
     "execution_count": 38,
     "metadata": {},
     "output_type": "execute_result"
    },
    {
     "data": {
      "image/png": "[encoded data removed]",
      "text/plain": [
       "<Figure size 432x288 with 1 Axes>"
      ]
     },
     "metadata": {
      "needs_background": "light"
     },
     "output_type": "display_data"
    }
   ],
   "source": [
    "CA_gdf2.plot()"
   ]
  },
  {
   "cell_type": "code",
   "execution_count": 39,
   "metadata": {
    "hidden": true
   },
   "outputs": [
    {
     "name": "stdout",
     "output_type": "stream",
     "text": [
      "PROJCS[\"unnamed\",GEOGCS[\"Unknown datum based upon the custom spheroid\",DATUM[\"Not_specified_based_on_custom_spheroid\",SPHEROID[\"Custom spheroid\",6371007.181,0]],PRIMEM[\"Greenwich\",0],UNIT[\"degree\",0.0174532925199433,AUTHORITY[\"EPSG\",\"9122\"]]],PROJECTION[\"Sinusoidal\"],PARAMETER[\"longitude_of_center\",0],PARAMETER[\"false_easting\",0],PARAMETER[\"false_northing\",0],UNIT[\"metre\",1,AUTHORITY[\"EPSG\",\"9001\"]],AXIS[\"Easting\",EAST],AXIS[\"Northing\",NORTH]]\n"
     ]
    }
   ],
   "source": [
    "print(customcrs)"
   ]
  },
  {
   "cell_type": "markdown",
   "metadata": {
    "hidden": true
   },
   "source": [
    "Well that sucks"
   ]
  },
  {
   "cell_type": "markdown",
   "metadata": {
    "heading_collapsed": true
   },
   "source": [
    "##### Try a different approach - crop rasters to California"
   ]
  },
  {
   "cell_type": "markdown",
   "metadata": {
    "hidden": true
   },
   "source": [
    "From Earth  data science: https://www.earthdatascience.org/courses/use-data-open-source-python/intro-raster-data-python/raster-data-processing/crop-raster-data-with-shapefile-in-python/"
   ]
  },
  {
   "cell_type": "code",
   "execution_count": 286,
   "metadata": {
    "hidden": true
   },
   "outputs": [
    {
     "name": "stdout",
     "output_type": "stream",
     "text": [
      "BoundingBox(left=-20015109.354, bottom=-6671703.118005, right=17791208.314677987, top=7783653.637666)\n"
     ]
    }
   ],
   "source": [
    "# Raster Data opened by rio is diryr\n",
    "print(diryr.bounds)"
   ]
  },
  {
   "cell_type": "code",
   "execution_count": 288,
   "metadata": {
    "hidden": true
   },
   "outputs": [
    {
     "name": "stdout",
     "output_type": "stream",
     "text": [
      "crop extent crs = \n",
      " {'init': 'epsg:3857'}\n",
      "tiff crs = \n",
      " PROJCS[\"unnamed\",GEOGCS[\"Unknown datum based upon the custom spheroid\",DATUM[\"Not_specified_based_on_custom_spheroid\",SPHEROID[\"Custom spheroid\",6371007.181,0]],PRIMEM[\"Greenwich\",0],UNIT[\"degree\",0.0174532925199433,AUTHORITY[\"EPSG\",\"9122\"]]],PROJECTION[\"Sinusoidal\"],PARAMETER[\"longitude_of_center\",0],PARAMETER[\"false_easting\",0],PARAMETER[\"false_northing\",0],UNIT[\"metre\",1,AUTHORITY[\"EPSG\",\"9001\"]],AXIS[\"Easting\",EAST],AXIS[\"Northing\",NORTH]]\n"
     ]
    }
   ],
   "source": [
    "# Crop extent: CA_gdf\n",
    "print('crop extent crs = \\n', CA_gdf.crs)\n",
    "print('tiff crs = \\n', diryr.crs)"
   ]
  },
  {
   "cell_type": "code",
   "execution_count": 289,
   "metadata": {
    "hidden": true
   },
   "outputs": [],
   "source": [
    "# Set destination CRS\n",
    "dst_crs = CA_gdf.crs"
   ]
  },
  {
   "cell_type": "code",
   "execution_count": 290,
   "metadata": {
    "hidden": true
   },
   "outputs": [
    {
     "name": "stdout",
     "output_type": "stream",
     "text": [
      "Wall time: 121 ms\n"
     ]
    }
   ],
   "source": [
    "%%time\n",
    "# Calculate the transform using the rasterio warp function\n",
    "transform,width,height = calculate_default_transform(diryr.crs,dst_crs,diryr.width,diryr.height,*diryr.bounds)"
   ]
  },
  {
   "cell_type": "code",
   "execution_count": 291,
   "metadata": {
    "hidden": true
   },
   "outputs": [
    {
     "name": "stdout",
     "output_type": "stream",
     "text": [
      "Wall time: 1 ms\n"
     ]
    }
   ],
   "source": [
    "%%time\n",
    "# Set the new meta data for the projected raster file\n",
    "kwargs = diryr.meta.copy()\n",
    "kwargs.update({'crs':dst_crs,\n",
    "              'transform':transform,\n",
    "              'width':width,\n",
    "              'height':height\n",
    "              })"
   ]
  },
  {
   "cell_type": "code",
   "execution_count": 292,
   "metadata": {
    "hidden": true
   },
   "outputs": [
    {
     "name": "stdout",
     "output_type": "stream",
     "text": [
      "Wall time: 10min 33s\n"
     ]
    }
   ],
   "source": [
    "%%time\n",
    "# write the new raster file by using the rasterio reproject function\n",
    "with rio.open('../data/GlobalFire2016/Global_fire_atlas_direction_yearly_2016_reproj.tif','w',**kwargs) as dst:\n",
    "    for i in range(1, diryr.count + 1):\n",
    "        reproject(\n",
    "            source = rio.band(diryr,i),\n",
    "            destination=rio.band(dst,i),\n",
    "            diryr_transform = diryr.transform,\n",
    "            diryr_crs = diryr.crs,\n",
    "            dst_transform = transform,\n",
    "            dst_crs = dst_crs,\n",
    "            resampling=Resampling.nearest)"
   ]
  },
  {
   "cell_type": "code",
   "execution_count": 295,
   "metadata": {
    "hidden": true,
    "scrolled": true
   },
   "outputs": [
    {
     "name": "stdout",
     "output_type": "stream",
     "text": [
      "{'driver': 'GTiff', 'dtype': 'int32', 'nodata': -9999.0, 'width': 78580, 'height': 38174, 'count': 1, 'crs': CRS.from_epsg(3857), 'transform': Affine(509.9863732168427, 0.0, -20037508.33380717,\n",
      "       0.0, -509.9928633270912, 11068715.657331526)}\n",
      "Wall time: 43 ms\n"
     ]
    }
   ],
   "source": [
    "%%time\n",
    "# Open the new reprojected geotiff\n",
    "diryr_reproj = rio.open('../data/GlobalFire2016/Global_fire_atlas_direction_yearly_2016_reproj.tif')\n",
    "print(diryr_reproj.meta)"
   ]
  },
  {
   "cell_type": "code",
   "execution_count": 296,
   "metadata": {
    "hidden": true
   },
   "outputs": [
    {
     "name": "stdout",
     "output_type": "stream",
     "text": [
      "crop extent crs = \n",
      " {'init': 'epsg:3857'}\n",
      "tiff crs = \n",
      " EPSG:3857\n",
      "Wall time: 1e+03 µs\n"
     ]
    }
   ],
   "source": [
    "%%time\n",
    "# Crop extent: CA_gdf - crop to the boundaries of California, which should work now that both raster \n",
    "# and shapefile are on the same CRS\n",
    "print('crop extent crs = \\n', CA_gdf.crs)\n",
    "print('tiff crs = \\n', diryr_reproj.crs)"
   ]
  },
  {
   "cell_type": "code",
   "execution_count": 297,
   "metadata": {
    "hidden": true
   },
   "outputs": [
    {
     "name": "stdout",
     "output_type": "stream",
     "text": [
      "Wall time: 2.16 s\n"
     ]
    }
   ],
   "source": [
    "%%time\n",
    "# Use the earthpy.spatial function to crop the tif by the shapefile\n",
    "diryr_reproj_crop, diryr_reproj_crop_meta = es.crop_image(diryr_reproj,CA_gdf)"
   ]
  },
  {
   "cell_type": "code",
   "execution_count": 298,
   "metadata": {
    "hidden": true
   },
   "outputs": [
    {
     "name": "stdout",
     "output_type": "stream",
     "text": [
      "cropped data (1, 2608, 2260)\n",
      "original data (31200, 81600)\n"
     ]
    }
   ],
   "source": [
    "print(\"cropped data\", diryr_reproj_crop.shape)\n",
    "print(\"original data\", diryr.shape)"
   ]
  },
  {
   "cell_type": "code",
   "execution_count": 299,
   "metadata": {
    "hidden": true
   },
   "outputs": [],
   "source": [
    "# Use the affine transformation for the CRS to define the extents\n",
    "diryr_reproj_crop_affine = diryr_reproj_crop_meta[\"transform\"]\n",
    "diryr_reproj_extent = plotting_extent(diryr_reproj_crop[0],diryr_reproj_crop_affine)"
   ]
  },
  {
   "cell_type": "code",
   "execution_count": 300,
   "metadata": {
    "hidden": true
   },
   "outputs": [
    {
     "data": {
      "text/plain": [
       "{'driver': 'GTiff',\n",
       " 'dtype': 'int32',\n",
       " 'nodata': -9999.0,\n",
       " 'width': 2260,\n",
       " 'height': 2608,\n",
       " 'count': 1,\n",
       " 'crs': CRS.from_epsg(3857),\n",
       " 'transform': Affine(509.9863732168427, 0.0, -13857493.46316547,\n",
       "        0.0, -509.9928633270912, 5162488.3071404835)}"
      ]
     },
     "execution_count": 300,
     "metadata": {},
     "output_type": "execute_result"
    }
   ],
   "source": [
    "diryr_reproj_crop_meta"
   ]
  },
  {
   "cell_type": "code",
   "execution_count": 111,
   "metadata": {
    "collapsed": true,
    "hidden": true,
    "jupyter": {
     "outputs_hidden": true
    }
   },
   "outputs": [
    {
     "data": {
      "image/png": "[encoded data removed]",
      "text/plain": [
       "<Figure size 720x1152 with 1 Axes>"
      ]
     },
     "metadata": {},
     "output_type": "display_data"
    }
   ],
   "source": [
    "fig,ax = plt.subplots(figsize=(10,16))\n",
    "ep.plot_bands(diryr_reproj_crop,\n",
    "              extent = diryr_reproj_extent,\n",
    "              cmap='Greys',\n",
    "              title = 'Direction',\n",
    "              scale=False,\n",
    "              ax=ax,\n",
    "              cbar=False)\n",
    "\n",
    "CA_gdf.plot(ax=ax,alpha=0.2)\n",
    "ax.set_axis_off()\n",
    "plt.show()"
   ]
  },
  {
   "cell_type": "code",
   "execution_count": 301,
   "metadata": {
    "hidden": true
   },
   "outputs": [
    {
     "data": {
      "text/plain": [
       "array([5, 5, 4, ..., 4, 4, 4])"
      ]
     },
     "execution_count": 301,
     "metadata": {},
     "output_type": "execute_result"
    }
   ],
   "source": [
    "vals = diryr_reproj_crop[0][diryr_reproj_crop[0]>0]\n",
    "vals"
   ]
  },
  {
   "cell_type": "code",
   "execution_count": 95,
   "metadata": {
    "hidden": true
   },
   "outputs": [
    {
     "name": "stdout",
     "output_type": "stream",
     "text": [
      "<class 'numpy.ndarray'> (18878,)\n"
     ]
    },
    {
     "data": {
      "text/plain": [
       "DescribeResult(nobs=18878, minmax=(1, 8), mean=4.827788960694989, variance=4.573986433819962, skewness=0.01438966604151448, kurtosis=-0.8866531007320164)"
      ]
     },
     "execution_count": 95,
     "metadata": {},
     "output_type": "execute_result"
    }
   ],
   "source": [
    "print(type(vals),vals.shape)\n",
    "stats.describe(vals)"
   ]
  },
  {
   "cell_type": "markdown",
   "metadata": {
    "heading_collapsed": true
   },
   "source": [
    "##### Transform Ignition and polygons of final fire sizes to CA CRS"
   ]
  },
  {
   "cell_type": "code",
   "execution_count": 109,
   "metadata": {
    "hidden": true
   },
   "outputs": [
    {
     "name": "stderr",
     "output_type": "stream",
     "text": [
      "C:\\DDRIVE\\ProgramData\\Anaconda3\\envs\\wildfire\\lib\\site-packages\\pyproj\\crs.py:77: FutureWarning: '+init=<authority>:<code>' syntax is deprecated. '<authority>:<code>' is the preferred initialization method.\n",
      "  return _prepare_from_string(\" \".join(pjargs))\n",
      "C:\\DDRIVE\\ProgramData\\Anaconda3\\envs\\wildfire\\lib\\site-packages\\pyproj\\crs.py:77: FutureWarning: '+init=<authority>:<code>' syntax is deprecated. '<authority>:<code>' is the preferred initialization method.\n",
      "  return _prepare_from_string(\" \".join(pjargs))\n"
     ]
    }
   ],
   "source": [
    "# transform CRS\n",
    "ign2 = ign_gdf.to_crs(dst_crs)\n",
    "poly2 = poly_gdf.to_crs(dst_crs)"
   ]
  },
  {
   "cell_type": "code",
   "execution_count": 114,
   "metadata": {
    "hidden": true
   },
   "outputs": [],
   "source": [
    "# set area to crop to\n",
    "bb = CA_gdf.envelope"
   ]
  },
  {
   "cell_type": "code",
   "execution_count": 116,
   "metadata": {
    "hidden": true
   },
   "outputs": [],
   "source": [
    "# Crop polygons of final fire sizes using geopandas overlay\n",
    "df2 = gpd.GeoDataFrame(gpd.GeoSeries(bb),columns=['geometry'])\n",
    "poly2crop = gpd.overlay(df2,poly2,how='intersection')"
   ]
  },
  {
   "cell_type": "code",
   "execution_count": 117,
   "metadata": {
    "hidden": true
   },
   "outputs": [],
   "source": [
    "# Use dataframe slicing for the ignition point data.\n",
    "xmin,ymin,xmax,ymax=CA_gdf.total_bounds\n",
    "ign2crop = ign2.cx[xmin:xmax,ymin:ymax]"
   ]
  },
  {
   "cell_type": "code",
   "execution_count": 131,
   "metadata": {
    "collapsed": true,
    "hidden": true,
    "jupyter": {
     "outputs_hidden": true
    }
   },
   "outputs": [
    {
     "data": {
      "image/png": "[encoded data removed]",
      "text/plain": [
       "<Figure size 720x1152 with 1 Axes>"
      ]
     },
     "metadata": {},
     "output_type": "display_data"
    }
   ],
   "source": [
    "fig,ax = plt.subplots(figsize=(10,16))\n",
    "ep.plot_bands(diryr_reproj_crop,\n",
    "              extent = diryr_reproj_extent,\n",
    "              cmap='Greys',\n",
    "              title = 'Direction',\n",
    "              scale=False,\n",
    "              ax=ax,\n",
    "              cbar=False)\n",
    "\n",
    "CA_gdf.plot(ax=ax, alpha=0.2)\n",
    "ign2crop.plot(ax=ax,marker='x',color='green',markersize=12)\n",
    "poly2crop.plot(ax=ax,alpha=0.4)\n",
    "ax.set_axis_off()\n",
    "plt.show()"
   ]
  },
  {
   "cell_type": "markdown",
   "metadata": {},
   "source": [
    "#### Create new bounding box for smaller section of CA and convert CRS\n",
    "Repeat above process for cropping"
   ]
  },
  {
   "cell_type": "code",
   "execution_count": 155,
   "metadata": {},
   "outputs": [
    {
     "name": "stdout",
     "output_type": "stream",
     "text": [
      "{'init': 'epsg:4326'}\n"
     ]
    }
   ],
   "source": [
    "# Set source CRS - this is the google maps CRS\n",
    "bb_gdf_orig.crs = {'init':'epsg:4326'}\n",
    "print(bb_gdf_orig.crs)"
   ]
  },
  {
   "cell_type": "code",
   "execution_count": 165,
   "metadata": {},
   "outputs": [
    {
     "name": "stdout",
     "output_type": "stream",
     "text": [
      "0    POLYGON ((-122.00000 36.80000, -119.91200 36.8...\n",
      "Name: geometry, dtype: geometry\n"
     ]
    }
   ],
   "source": [
    "# Create bounding box polygon from lat long pulled from Gmaps\n",
    "from shapely.geometry import Polygon\n",
    "bb_long = [-122, -119.912,-119.912,-122,-122 ]\n",
    "bb_lat = [36.8, 36.8, 35.06, 35.06,36.8]\n",
    "bb_poly = Polygon(zip(bb_long,bb_lat))\n",
    "bb_gdf2 = gpd.GeoDataFrame(index=[0],crs=bb_gdf_orig.crs,geometry = [bb_poly])\n",
    "print(bb_gdf2.geometry)"
   ]
  },
  {
   "cell_type": "code",
   "execution_count": 167,
   "metadata": {},
   "outputs": [
    {
     "name": "stderr",
     "output_type": "stream",
     "text": [
      "C:\\DDRIVE\\ProgramData\\Anaconda3\\envs\\wildfire\\lib\\site-packages\\pyproj\\crs.py:77: FutureWarning: '+init=<authority>:<code>' syntax is deprecated. '<authority>:<code>' is the preferred initialization method.\n",
      "  return _prepare_from_string(\" \".join(pjargs))\n"
     ]
    },
    {
     "data": {
      "text/html": [
       "<div>\n",
       "<style scoped>\n",
       "    .dataframe tbody tr th:only-of-type {\n",
       "        vertical-align: middle;\n",
       "    }\n",
       "\n",
       "    .dataframe tbody tr th {\n",
       "        vertical-align: top;\n",
       "    }\n",
       "\n",
       "    .dataframe thead th {\n",
       "        text-align: right;\n",
       "    }\n",
       "</style>\n",
       "<table border=\"1\" class=\"dataframe\">\n",
       "  <thead>\n",
       "    <tr style=\"text-align: right;\">\n",
       "      <th></th>\n",
       "      <th>geometry</th>\n",
       "    </tr>\n",
       "  </thead>\n",
       "  <tbody>\n",
       "    <tr>\n",
       "      <th>0</th>\n",
       "      <td>POLYGON ((-13580977.877 4411265.910, -13348542...</td>\n",
       "    </tr>\n",
       "  </tbody>\n",
       "</table>\n",
       "</div>"
      ],
      "text/plain": [
       "                                            geometry\n",
       "0  POLYGON ((-13580977.877 4411265.910, -13348542..."
      ]
     },
     "execution_count": 167,
     "metadata": {},
     "output_type": "execute_result"
    }
   ],
   "source": [
    "# Change CRS of polygon to match other work here\n",
    "bb_gdf2 = bb_gdf2.to_crs(epsg=3857)\n",
    "bb_gdf2"
   ]
  },
  {
   "cell_type": "code",
   "execution_count": 168,
   "metadata": {},
   "outputs": [
    {
     "data": {
      "image/png": "[encoded data removed]",
      "text/plain": [
       "<Figure size 720x1152 with 1 Axes>"
      ]
     },
     "metadata": {},
     "output_type": "display_data"
    }
   ],
   "source": [
    "# Plotting\n",
    "fig,ax = plt.subplots(figsize=(10,16))\n",
    "ep.plot_bands(diryr_reproj_crop,\n",
    "              extent = diryr_reproj_extent,\n",
    "              cmap='Greys',\n",
    "              title = 'Direction',\n",
    "              scale=False,\n",
    "              ax=ax,\n",
    "              cbar=False)\n",
    "\n",
    "CA_gdf.plot(ax=ax, alpha=0.2)\n",
    "ign2crop.plot(ax=ax,marker='x',color='green',markersize=12)\n",
    "poly2crop.plot(ax=ax,alpha=0.4)\n",
    "bb_gdf2.plot(ax=ax,color='green',alpha=0.2)\n",
    "ax.set_axis_off()\n",
    "plt.show()"
   ]
  },
  {
   "cell_type": "markdown",
   "metadata": {
    "heading_collapsed": true
   },
   "source": [
    "#### Convert CRS for remaining raster files"
   ]
  },
  {
   "cell_type": "code",
   "execution_count": 180,
   "metadata": {
    "hidden": true
   },
   "outputs": [
    {
     "name": "stdout",
     "output_type": "stream",
     "text": [
      "speedyr bounds = BoundingBox(left=-20015109.354, bottom=-6671703.118005, right=17791208.314677987, top=7783653.637666)\n",
      "dobyr bounds = BoundingBox(left=-20015109.354, bottom=-6671703.118005, right=17791208.314677987, top=7783653.637666)\n",
      "firelineyr bounds = BoundingBox(left=-20015109.354, bottom=-6671703.118005, right=17791208.314677987, top=7783653.637666)\n"
     ]
    }
   ],
   "source": [
    "# Raster Data opened by rio \n",
    "#speedyr = rio.open('../data/GlobalFire2016/Global_fire_atlas_speed_yearly_2016.tif')\n",
    "#dobyr = rio.open('../data/GlobalFire2016/Global_fire_atlas_day_of_burn_yearly_2016.tif')\n",
    "#firelineyr = rio.open('../data/GlobalFire2016/Global_fire_atlas_fire_line_yearly_2016.tif')\n",
    "print('speedyr bounds =',speedyr.bounds)\n",
    "print('dobyr bounds =',dobyr.bounds)\n",
    "print('firelineyr bounds =',firelineyr.bounds)"
   ]
  },
  {
   "cell_type": "code",
   "execution_count": 60,
   "metadata": {
    "hidden": true
   },
   "outputs": [],
   "source": [
    "# Set destination CRS\n",
    "dst_crs = bb_gdf2.crs"
   ]
  },
  {
   "cell_type": "code",
   "execution_count": 185,
   "metadata": {
    "hidden": true
   },
   "outputs": [],
   "source": [
    "tifs = [(speedyr,'speed'),(dobyr,'dob'),(firelineyr,'fireline')]"
   ]
  },
  {
   "cell_type": "code",
   "execution_count": 187,
   "metadata": {
    "hidden": true
   },
   "outputs": [],
   "source": [
    "# Commented out this whole box because files have been saved already NEXT TIME - ADD COMPRESSION - \n",
    "# FILES WERE HUGE (see commented line below) OR reproject to new array, then write out with compression\n",
    "# %%time\n",
    "# for tif in tifs:\n",
    "#     file,name = tif\n",
    "    \n",
    "#     # Calculate the transform using the rasterio warp function\n",
    "#     transform,width,height = calculate_default_transform(file.crs,dst_crs,file.width,file.height,*file.bounds)\n",
    "    \n",
    "#     # Set the new meta data for the projected raster file\n",
    "#     kwargs = file.meta.copy()\n",
    "#     kwargs.update({'crs':dst_crs,\n",
    "#                   'transform':transform,\n",
    "#                   'width':width,\n",
    "#                   'height':height\n",
    "#                   #compress:'lzw'\n",
    "#                   })\n",
    "    \n",
    "#     # Filename for writing out to\n",
    "#     filestring = '../data/GlobalFire2016/Global_fire_atlas_' + name + '_yearly_2016_reproj.tif'\n",
    "    \n",
    "#     # write the new raster file by using the rasterio reproject function\n",
    "#     with rio.open(filestring,'w',**kwargs) as dst:\n",
    "#         for i in range(1, file.count + 1):\n",
    "#             reproject(\n",
    "#                 source = rio.band(file,i),\n",
    "#                 destination=rio.band(dst,i),\n",
    "#                 file_transform = file.transform,\n",
    "#                 file_crs = file.crs,\n",
    "#                 dst_transform = transform,\n",
    "#                 dst_crs = dst_crs,\n",
    "#                 resampling=Resampling.nearest)  "
   ]
  },
  {
   "cell_type": "code",
   "execution_count": 302,
   "metadata": {
    "hidden": true
   },
   "outputs": [],
   "source": [
    "# Close all the previous readers\n",
    "diryr.close()\n",
    "dobyr.close()\n",
    "firelineyr.close()\n",
    "speedyr.close()"
   ]
  },
  {
   "cell_type": "markdown",
   "metadata": {},
   "source": [
    "#### Crop to smaller bounding box - Toy Set"
   ]
  },
  {
   "cell_type": "code",
   "execution_count": 303,
   "metadata": {},
   "outputs": [
    {
     "name": "stdout",
     "output_type": "stream",
     "text": [
      "ignition CRS {'init': 'epsg:3857'}\n",
      "final polygon CRS {'init': 'epsg:3857'}\n",
      "bounding box CRS {'init': 'epsg:3857', 'no_defs': True}\n"
     ]
    }
   ],
   "source": [
    "# Check CRSs all match\n",
    "print('ignition CRS', ign2.crs)\n",
    "print('final polygon CRS', poly2.crs)\n",
    "print('bounding box CRS', bb_gdf2.crs)"
   ]
  },
  {
   "cell_type": "markdown",
   "metadata": {},
   "source": [
    "##### First the ignition points to get fire numbers and then final fire sizes and dbf data"
   ]
  },
  {
   "cell_type": "code",
   "execution_count": 304,
   "metadata": {},
   "outputs": [
    {
     "name": "stdout",
     "output_type": "stream",
     "text": [
      "bounding box extents [-13580977.87677938   4172037.89674901 -13348542.78000302\n",
      "   4411265.91026269]\n"
     ]
    }
   ],
   "source": [
    "print('bounding box extents', bb_gdf2.total_bounds)"
   ]
  },
  {
   "cell_type": "code",
   "execution_count": 305,
   "metadata": {},
   "outputs": [],
   "source": [
    "# Crop Ignition Data\n",
    "xmin2,ymin2,xmax2,ymax2=bb_gdf2.total_bounds\n",
    "ign2crop2 = ign2.cx[xmin2:xmax2,ymin2:ymax2]"
   ]
  },
  {
   "cell_type": "code",
   "execution_count": 306,
   "metadata": {},
   "outputs": [
    {
     "name": "stdout",
     "output_type": "stream",
     "text": [
      "(22, 2) (887221, 2)\n"
     ]
    }
   ],
   "source": [
    "print(ign2crop2.shape, ign2.shape)"
   ]
  },
  {
   "cell_type": "code",
   "execution_count": 307,
   "metadata": {},
   "outputs": [],
   "source": [
    "fires = ign2crop2['fire_ID'].values"
   ]
  },
  {
   "cell_type": "code",
   "execution_count": 308,
   "metadata": {},
   "outputs": [],
   "source": [
    "poly2crop2 = poly2.loc[poly2['fire_ID'].isin(fires)]"
   ]
  },
  {
   "cell_type": "code",
   "execution_count": 309,
   "metadata": {},
   "outputs": [
    {
     "name": "stdout",
     "output_type": "stream",
     "text": [
      "(22, 2) (887251, 2)\n"
     ]
    }
   ],
   "source": [
    "print(poly2crop2.shape, poly2.shape)"
   ]
  },
  {
   "cell_type": "code",
   "execution_count": 310,
   "metadata": {},
   "outputs": [],
   "source": [
    "featurescrop2 = features1.loc[features1['fire_ID'].isin(fires)]"
   ]
  },
  {
   "cell_type": "code",
   "execution_count": 342,
   "metadata": {},
   "outputs": [
    {
     "data": {
      "text/html": [
       "<div>\n",
       "<style scoped>\n",
       "    .dataframe tbody tr th:only-of-type {\n",
       "        vertical-align: middle;\n",
       "    }\n",
       "\n",
       "    .dataframe tbody tr th {\n",
       "        vertical-align: top;\n",
       "    }\n",
       "\n",
       "    .dataframe thead th {\n",
       "        text-align: right;\n",
       "    }\n",
       "</style>\n",
       "<table border=\"1\" class=\"dataframe\">\n",
       "  <thead>\n",
       "    <tr style=\"text-align: right;\">\n",
       "      <th></th>\n",
       "      <th>fire_ID</th>\n",
       "      <th>latitude</th>\n",
       "      <th>longitude</th>\n",
       "      <th>size</th>\n",
       "      <th>perimeter</th>\n",
       "      <th>start_date</th>\n",
       "      <th>start_DOY</th>\n",
       "      <th>end_date</th>\n",
       "      <th>end_DOY</th>\n",
       "      <th>duration</th>\n",
       "      <th>expansion</th>\n",
       "      <th>fire_line</th>\n",
       "      <th>speed</th>\n",
       "      <th>direction</th>\n",
       "      <th>direction_s</th>\n",
       "      <th>landcover</th>\n",
       "      <th>landcover_s</th>\n",
       "      <th>tile_ID</th>\n",
       "    </tr>\n",
       "  </thead>\n",
       "  <tbody>\n",
       "    <tr>\n",
       "      <th>139</th>\n",
       "      <td>140</td>\n",
       "      <td>36.4604</td>\n",
       "      <td>-121.894</td>\n",
       "      <td>447.39</td>\n",
       "      <td>196.31</td>\n",
       "      <td>2016-07-21</td>\n",
       "      <td>203</td>\n",
       "      <td>2016-09-17</td>\n",
       "      <td>261</td>\n",
       "      <td>59</td>\n",
       "      <td>7.58</td>\n",
       "      <td>12.96</td>\n",
       "      <td>1.89</td>\n",
       "      <td>4</td>\n",
       "      <td>southeast</td>\n",
       "      <td>8</td>\n",
       "      <td>Woody savannas</td>\n",
       "      <td>h08v05</td>\n",
       "    </tr>\n",
       "    <tr>\n",
       "      <th>140</th>\n",
       "      <td>141</td>\n",
       "      <td>36.3271</td>\n",
       "      <td>-121.592</td>\n",
       "      <td>23.79</td>\n",
       "      <td>30.56</td>\n",
       "      <td>2016-09-15</td>\n",
       "      <td>259</td>\n",
       "      <td>2016-09-23</td>\n",
       "      <td>267</td>\n",
       "      <td>9</td>\n",
       "      <td>2.64</td>\n",
       "      <td>4.42</td>\n",
       "      <td>3.04</td>\n",
       "      <td>8</td>\n",
       "      <td>northwest</td>\n",
       "      <td>8</td>\n",
       "      <td>Woody savannas</td>\n",
       "      <td>h08v05</td>\n",
       "    </tr>\n",
       "    <tr>\n",
       "      <th>141</th>\n",
       "      <td>142</td>\n",
       "      <td>36.3188</td>\n",
       "      <td>-121.594</td>\n",
       "      <td>39.23</td>\n",
       "      <td>36.11</td>\n",
       "      <td>2016-09-15</td>\n",
       "      <td>259</td>\n",
       "      <td>2016-09-25</td>\n",
       "      <td>269</td>\n",
       "      <td>11</td>\n",
       "      <td>3.57</td>\n",
       "      <td>5.14</td>\n",
       "      <td>2.55</td>\n",
       "      <td>4</td>\n",
       "      <td>southeast</td>\n",
       "      <td>8</td>\n",
       "      <td>Woody savannas</td>\n",
       "      <td>h08v05</td>\n",
       "    </tr>\n",
       "    <tr>\n",
       "      <th>142</th>\n",
       "      <td>143</td>\n",
       "      <td>36.3146</td>\n",
       "      <td>-121.629</td>\n",
       "      <td>18.86</td>\n",
       "      <td>24.08</td>\n",
       "      <td>2016-09-17</td>\n",
       "      <td>261</td>\n",
       "      <td>2016-09-29</td>\n",
       "      <td>273</td>\n",
       "      <td>13</td>\n",
       "      <td>1.45</td>\n",
       "      <td>2.32</td>\n",
       "      <td>2.64</td>\n",
       "      <td>4</td>\n",
       "      <td>southeast</td>\n",
       "      <td>8</td>\n",
       "      <td>Woody savannas</td>\n",
       "      <td>h08v05</td>\n",
       "    </tr>\n",
       "    <tr>\n",
       "      <th>145</th>\n",
       "      <td>146</td>\n",
       "      <td>36.4188</td>\n",
       "      <td>-121.259</td>\n",
       "      <td>1.93</td>\n",
       "      <td>8.33</td>\n",
       "      <td>2016-04-09</td>\n",
       "      <td>100</td>\n",
       "      <td>2016-04-14</td>\n",
       "      <td>105</td>\n",
       "      <td>6</td>\n",
       "      <td>0.32</td>\n",
       "      <td>0.69</td>\n",
       "      <td>1.57</td>\n",
       "      <td>4</td>\n",
       "      <td>southeast</td>\n",
       "      <td>10</td>\n",
       "      <td>Grasslands</td>\n",
       "      <td>h08v05</td>\n",
       "    </tr>\n",
       "  </tbody>\n",
       "</table>\n",
       "</div>"
      ],
      "text/plain": [
       "     fire_ID  latitude  longitude    size  perimeter  start_date  start_DOY  \\\n",
       "139      140   36.4604   -121.894  447.39     196.31  2016-07-21        203   \n",
       "140      141   36.3271   -121.592   23.79      30.56  2016-09-15        259   \n",
       "141      142   36.3188   -121.594   39.23      36.11  2016-09-15        259   \n",
       "142      143   36.3146   -121.629   18.86      24.08  2016-09-17        261   \n",
       "145      146   36.4188   -121.259    1.93       8.33  2016-04-09        100   \n",
       "\n",
       "       end_date  end_DOY  duration  expansion  fire_line  speed  direction  \\\n",
       "139  2016-09-17      261        59       7.58      12.96   1.89          4   \n",
       "140  2016-09-23      267         9       2.64       4.42   3.04          8   \n",
       "141  2016-09-25      269        11       3.57       5.14   2.55          4   \n",
       "142  2016-09-29      273        13       1.45       2.32   2.64          4   \n",
       "145  2016-04-14      105         6       0.32       0.69   1.57          4   \n",
       "\n",
       "    direction_s  landcover     landcover_s tile_ID  \n",
       "139   southeast          8  Woody savannas  h08v05  \n",
       "140   northwest          8  Woody savannas  h08v05  \n",
       "141   southeast          8  Woody savannas  h08v05  \n",
       "142   southeast          8  Woody savannas  h08v05  \n",
       "145   southeast         10      Grasslands  h08v05  "
      ]
     },
     "execution_count": 342,
     "metadata": {},
     "output_type": "execute_result"
    }
   ],
   "source": [
    "featurescrop2.head()"
   ]
  },
  {
   "cell_type": "code",
   "execution_count": 343,
   "metadata": {},
   "outputs": [
    {
     "data": {
      "text/html": [
       "<div>\n",
       "<style scoped>\n",
       "    .dataframe tbody tr th:only-of-type {\n",
       "        vertical-align: middle;\n",
       "    }\n",
       "\n",
       "    .dataframe tbody tr th {\n",
       "        vertical-align: top;\n",
       "    }\n",
       "\n",
       "    .dataframe thead th {\n",
       "        text-align: right;\n",
       "    }\n",
       "</style>\n",
       "<table border=\"1\" class=\"dataframe\">\n",
       "  <thead>\n",
       "    <tr style=\"text-align: right;\">\n",
       "      <th></th>\n",
       "      <th>fire_ID</th>\n",
       "      <th>geometry</th>\n",
       "    </tr>\n",
       "  </thead>\n",
       "  <tbody>\n",
       "    <tr>\n",
       "      <th>139</th>\n",
       "      <td>140</td>\n",
       "      <td>POINT (-13569190.649 4364164.207)</td>\n",
       "    </tr>\n",
       "    <tr>\n",
       "      <th>140</th>\n",
       "      <td>141</td>\n",
       "      <td>POINT (-13535572.325 4345725.240)</td>\n",
       "    </tr>\n",
       "    <tr>\n",
       "      <th>141</th>\n",
       "      <td>142</td>\n",
       "      <td>POINT (-13535852.045 4344573.853)</td>\n",
       "    </tr>\n",
       "    <tr>\n",
       "      <th>142</th>\n",
       "      <td>143</td>\n",
       "      <td>POINT (-13539733.596 4343998.206)</td>\n",
       "    </tr>\n",
       "    <tr>\n",
       "      <th>145</th>\n",
       "      <td>146</td>\n",
       "      <td>POINT (-13498502.587 4358398.631)</td>\n",
       "    </tr>\n",
       "  </tbody>\n",
       "</table>\n",
       "</div>"
      ],
      "text/plain": [
       "     fire_ID                           geometry\n",
       "139      140  POINT (-13569190.649 4364164.207)\n",
       "140      141  POINT (-13535572.325 4345725.240)\n",
       "141      142  POINT (-13535852.045 4344573.853)\n",
       "142      143  POINT (-13539733.596 4343998.206)\n",
       "145      146  POINT (-13498502.587 4358398.631)"
      ]
     },
     "execution_count": 343,
     "metadata": {},
     "output_type": "execute_result"
    }
   ],
   "source": [
    "ign2crop2.head()"
   ]
  },
  {
   "cell_type": "code",
   "execution_count": 338,
   "metadata": {},
   "outputs": [
    {
     "name": "stdout",
     "output_type": "stream",
     "text": [
      "Wall time: 18 ms\n"
     ]
    }
   ],
   "source": [
    "%%time\n",
    "#pickle out the ignition points and dbf\n",
    "with open('../data/GlobalFire2016/Global_fire_atlas_ignitioncrop.pickle','wb') as f:\n",
    "    pickle.dump(ign2crop2,f,pickle.HIGHEST_PROTOCOL)\n",
    "with open('../data/GlobalFire2016/Global_fire_atlas_datacrop.pickle','wb') as f:\n",
    "    pickle.dump(featurescrop2,f,pickle.HIGHEST_PROTOCOL)"
   ]
  },
  {
   "cell_type": "markdown",
   "metadata": {
    "heading_collapsed": true
   },
   "source": [
    "##### Crop the rasters"
   ]
  },
  {
   "cell_type": "code",
   "execution_count": 256,
   "metadata": {
    "hidden": true,
    "scrolled": true
   },
   "outputs": [],
   "source": [
    "# Open the new reprojected geotiffs\n",
    "diryr_reproj = rio.open('../data/GlobalFire2016/Global_fire_atlas_direction_yearly_2016_reproj.tif')\n",
    "speedyr_reproj = rio.open('../data/GlobalFire2016/Global_fire_atlas_speed_yearly_2016_reproj.tif')\n",
    "dobyr_reproj = rio.open('../data/GlobalFire2016/Global_fire_atlas_dob_yearly_2016_reproj.tif')\n",
    "firelineyr_reproj = rio.open('../data/GlobalFire2016/Global_fire_atlas_fireline_yearly_2016_reproj.tif')"
   ]
  },
  {
   "cell_type": "code",
   "execution_count": 311,
   "metadata": {
    "hidden": true
   },
   "outputs": [
    {
     "name": "stdout",
     "output_type": "stream",
     "text": [
      "crop extent crs =  {'init': 'epsg:3857', 'no_defs': True}\n",
      "direction tiff crs =  EPSG:3857\n",
      "speed tiff crs =  EPSG:3857\n",
      "day of burn tiff crs =  EPSG:3857\n",
      "fireline tiff crs =  EPSG:3857\n"
     ]
    }
   ],
   "source": [
    "# Crop extent: bb_gdf2 - crop to the small box, which should work now that both raster \n",
    "# and shapefile are on the same CRS\n",
    "print('crop extent crs = ', bb_gdf2.crs)\n",
    "print('direction tiff crs = ', diryr_reproj.crs)\n",
    "print('speed tiff crs = ', speedyr_reproj.crs)\n",
    "print('day of burn tiff crs = ', dobyr_reproj.crs)\n",
    "print('fireline tiff crs = ', firelineyr_reproj.crs)"
   ]
  },
  {
   "cell_type": "code",
   "execution_count": 313,
   "metadata": {
    "hidden": true
   },
   "outputs": [],
   "source": [
    "def crop_tif(tif_reproj,boundingbox):\n",
    "    \"\"\"function to crop the reprojected tiffs by the bounding box (shapefile)\"\"\"\n",
    "    \n",
    "    tif_reproj_crop,tif_reproj_crop_meta = es.crop_image(tif_reproj,boundingbox)\n",
    "    print(\"cropped data\", tif_reproj_crop.shape)\n",
    "    print(\"original data\", tif_reproj.shape)\n",
    "    print(\"meta\", tif_reproj_crop_meta)\n",
    "       \n",
    "    return(tif_reproj_crop, tif_reproj_crop_meta)"
   ]
  },
  {
   "cell_type": "code",
   "execution_count": 314,
   "metadata": {
    "hidden": true
   },
   "outputs": [
    {
     "name": "stdout",
     "output_type": "stream",
     "text": [
      "cropped data (1, 470, 456)\n",
      "original data (38174, 78580)\n",
      "meta {'driver': 'GTiff', 'dtype': 'int32', 'nodata': -9999.0, 'width': 456, 'height': 470, 'count': 1, 'crs': CRS.from_epsg(3857), 'transform': Affine(509.9863732168427, 0.0, -13581080.848881941,\n",
      "       0.0, -509.9928633270912, 4411268.819459678)}\n",
      "cropped data (1, 470, 456)\n",
      "original data (38174, 78580)\n",
      "meta {'driver': 'GTiff', 'dtype': 'float64', 'nodata': -9999.0, 'width': 456, 'height': 470, 'count': 1, 'crs': CRS.from_epsg(3857), 'transform': Affine(509.9863732168427, 0.0, -13581080.848881941,\n",
      "       0.0, -509.9928633270912, 4411268.819459678)}\n",
      "cropped data (1, 470, 456)\n",
      "original data (38174, 78580)\n",
      "meta {'driver': 'GTiff', 'dtype': 'int32', 'nodata': -9999.0, 'width': 456, 'height': 470, 'count': 1, 'crs': CRS.from_epsg(3857), 'transform': Affine(509.9863732168427, 0.0, -13581080.848881941,\n",
      "       0.0, -509.9928633270912, 4411268.819459678)}\n",
      "cropped data (1, 470, 456)\n",
      "original data (38174, 78580)\n",
      "meta {'driver': 'GTiff', 'dtype': 'int32', 'nodata': -9999.0, 'width': 456, 'height': 470, 'count': 1, 'crs': CRS.from_epsg(3857), 'transform': Affine(509.9863732168427, 0.0, -13581080.848881941,\n",
      "       0.0, -509.9928633270912, 4411268.819459678)}\n",
      "Wall time: 1.32 s\n"
     ]
    }
   ],
   "source": [
    "%%time\n",
    "diryr_reproj_crop,diryr_reproj_crop_meta = crop_tif(diryr_reproj,bb_gdf2)\n",
    "speedyr_reproj_crop,speedyr_reproj_crop_meta = crop_tif(speedyr_reproj,bb_gdf2)\n",
    "dobyr_reproj_crop,dobyr_reproj_crop_meta = crop_tif(dobyr_reproj,bb_gdf2)\n",
    "firelineyr_reproj_crop,firelineyr_reproj_crop_meta = crop_tif(firelineyr_reproj,bb_gdf2)"
   ]
  },
  {
   "cell_type": "code",
   "execution_count": 318,
   "metadata": {
    "hidden": true
   },
   "outputs": [
    {
     "data": {
      "text/plain": [
       "array([208, 208, 208, ..., 232, 231, 231])"
      ]
     },
     "execution_count": 318,
     "metadata": {},
     "output_type": "execute_result"
    }
   ],
   "source": [
    "vals = firelineyr_reproj_crop[0][firelineyr_reproj_crop[0]>0]\n",
    "vals"
   ]
  },
  {
   "cell_type": "code",
   "execution_count": 321,
   "metadata": {
    "hidden": true
   },
   "outputs": [],
   "source": [
    "diryr_reproj.close()\n",
    "speedyr_reproj.close()\n",
    "dobyr_reproj.close()\n",
    "firelineyr_reproj.close()"
   ]
  },
  {
   "cell_type": "code",
   "execution_count": 323,
   "metadata": {
    "hidden": true
   },
   "outputs": [],
   "source": [
    "# Write these out to smaller tiffs\n",
    "with rio.open('../data/GlobalFire2016/Global_fire_atlas_dircrop.tif','w',**diryr_reproj_crop_meta) as dst:\n",
    "    dst.write(diryr_reproj_crop)\n",
    "with rio.open('../data/GlobalFire2016/Global_fire_atlas_speedcrop.tif','w',**speedyr_reproj_crop_meta) as dst:\n",
    "    dst.write(speedyr_reproj_crop)\n",
    "with rio.open('../data/GlobalFire2016/Global_fire_atlas_dobcrop.tif','w',**dobyr_reproj_crop_meta) as dst:\n",
    "    dst.write(dobyr_reproj_crop)\n",
    "with rio.open('../data/GlobalFire2016/Global_fire_atlas_firelinecrop.tif','w',**firelineyr_reproj_crop_meta) as dst:\n",
    "    dst.write(firelineyr_reproj_crop)"
   ]
  },
  {
   "cell_type": "markdown",
   "metadata": {},
   "source": [
    "#### Create a new tiff with fire_ID as the value\n",
    "Determine if a raster pixel is in a fire polygon and create a new tiff with fire_ID as the value"
   ]
  },
  {
   "cell_type": "code",
   "execution_count": 324,
   "metadata": {},
   "outputs": [],
   "source": [
    "# From https://gis.stackexchange.com/questions/151339/rasterize-a-shapefile-with-geopandas-or-fiona-python\n",
    "polys = poly2crop2\n",
    "rst_fn = '../data/GlobalFire2016/template.tif'\n",
    "out_fn = '../data/GlobalFire2016/fireid.tif'"
   ]
  },
  {
   "cell_type": "code",
   "execution_count": 325,
   "metadata": {},
   "outputs": [],
   "source": [
    "rst = rio.open(rst_fn)\n",
    "metaout = rst.meta.copy()\n",
    "metaout.update(compress='lzw')"
   ]
  },
  {
   "cell_type": "code",
   "execution_count": 327,
   "metadata": {},
   "outputs": [],
   "source": [
    "with rio.open(out_fn, 'w+',**metaout) as out:\n",
    "    out_arr = out.read(1)\n",
    "    \n",
    "    shapes = ((geom,value) for geom,value in zip(polys.geometry,polys.fire_ID))\n",
    "    \n",
    "    burned = features.rasterize(shapes=shapes, fill=0, out=out_arr, transform=out.transform)\n",
    "    out.write_band(1,burned)"
   ]
  },
  {
   "cell_type": "code",
   "execution_count": 334,
   "metadata": {},
   "outputs": [
    {
     "name": "stdout",
     "output_type": "stream",
     "text": [
      "{'driver': 'GTiff', 'dtype': 'int32', 'nodata': -9999.0, 'width': 456, 'height': 470, 'count': 1, 'crs': CRS.from_epsg(3857), 'transform': Affine(509.9863732168427, 0.0, -13581080.848881941,\n",
      "       0.0, -509.9928633270912, 4411268.819459678)}\n"
     ]
    }
   ],
   "source": [
    "fireid = rio.open('../data/GlobalFire2016/fireid.tif')\n",
    "print(fireid.meta)"
   ]
  },
  {
   "cell_type": "code",
   "execution_count": 332,
   "metadata": {},
   "outputs": [],
   "source": [
    "fireid_array = fireid.read()"
   ]
  },
  {
   "cell_type": "code",
   "execution_count": 333,
   "metadata": {},
   "outputs": [
    {
     "data": {
      "text/plain": [
       "(1, 470, 456)"
      ]
     },
     "execution_count": 333,
     "metadata": {},
     "output_type": "execute_result"
    }
   ],
   "source": [
    "fireid_array.shape"
   ]
  },
  {
   "cell_type": "code",
   "execution_count": 344,
   "metadata": {},
   "outputs": [
    {
     "name": "stdout",
     "output_type": "stream",
     "text": [
      "[[[-9999 -9999 -9999 ... -9999 -9999 -9999]\n",
      "  [-9999 -9999 -9999 ... -9999 -9999 -9999]\n",
      "  [-9999 -9999 -9999 ... -9999 -9999 -9999]\n",
      "  ...\n",
      "  [-9999 -9999 -9999 ... -9999 -9999 -9999]\n",
      "  [-9999 -9999 -9999 ... -9999 -9999 -9999]\n",
      "  [-9999 -9999 -9999 ... -9999 -9999 -9999]]]\n"
     ]
    }
   ],
   "source": [
    "print(fireid_array)"
   ]
  },
  {
   "cell_type": "code",
   "execution_count": 336,
   "metadata": {},
   "outputs": [
    {
     "data": {
      "text/plain": [
       "array([140, 140, 140, ..., 189, 189, 189])"
      ]
     },
     "execution_count": 336,
     "metadata": {},
     "output_type": "execute_result"
    }
   ],
   "source": [
    "vals = fireid_array[0][fireid_array[0]>0]\n",
    "vals"
   ]
  },
  {
   "cell_type": "code",
   "execution_count": 341,
   "metadata": {},
   "outputs": [
    {
     "data": {
      "text/plain": [
       "4855"
      ]
     },
     "execution_count": 341,
     "metadata": {},
     "output_type": "execute_result"
    }
   ],
   "source": [
    "len(vals)"
   ]
  },
  {
   "cell_type": "markdown",
   "metadata": {
    "heading_collapsed": true
   },
   "source": [
    "## Alberta"
   ]
  },
  {
   "cell_type": "code",
   "execution_count": null,
   "metadata": {
    "hidden": true
   },
   "outputs": [],
   "source": [
    "alb_dbf = DBF('../data/Alberta/HistoricalWildfirePerimeters/WilfirePerimeters1931to2019.dbf')"
   ]
  },
  {
   "cell_type": "code",
   "execution_count": null,
   "metadata": {
    "hidden": true
   },
   "outputs": [],
   "source": [
    "len(alb_dbf)"
   ]
  },
  {
   "cell_type": "code",
   "execution_count": null,
   "metadata": {
    "hidden": true
   },
   "outputs": [],
   "source": [
    "dfalb = pd.DataFrame(iter(alb_dbf))\n",
    "dfalb.head()"
   ]
  },
  {
   "cell_type": "code",
   "execution_count": null,
   "metadata": {
    "hidden": true
   },
   "outputs": [],
   "source": [
    "alb_gdf = gpd.read_file('../data/Alberta/HistoricalWildfirePerimeters/WilfirePerimeters1931to2019.shp')"
   ]
  },
  {
   "cell_type": "code",
   "execution_count": null,
   "metadata": {
    "hidden": true
   },
   "outputs": [],
   "source": [
    "alb_gdf.plot()"
   ]
  },
  {
   "cell_type": "code",
   "execution_count": null,
   "metadata": {
    "hidden": true
   },
   "outputs": [],
   "source": [
    "alb_gdf.head()"
   ]
  },
  {
   "cell_type": "markdown",
   "metadata": {},
   "source": [
    "## Geomac"
   ]
  },
  {
   "cell_type": "markdown",
   "metadata": {
    "heading_collapsed": true
   },
   "source": [
    "### Event Polygon"
   ]
  },
  {
   "cell_type": "code",
   "execution_count": null,
   "metadata": {
    "hidden": true
   },
   "outputs": [],
   "source": [
    "gmdbf = DBF('../data/GeoMac/EventPolygon.dbf', encoding='UTF-8')"
   ]
  },
  {
   "cell_type": "code",
   "execution_count": null,
   "metadata": {
    "hidden": true
   },
   "outputs": [],
   "source": [
    "dfgmac = pd.DataFrame(iter(gmdbf))\n",
    "#dfgmac[210:215]\n",
    "#same data in shp file, shp file has geometry added. not showing this one"
   ]
  },
  {
   "cell_type": "code",
   "execution_count": null,
   "metadata": {
    "hidden": true
   },
   "outputs": [],
   "source": [
    "gm_gdf = gpd.read_file('../data/GeoMac/EventPolygon.shp')"
   ]
  },
  {
   "cell_type": "code",
   "execution_count": null,
   "metadata": {
    "hidden": true
   },
   "outputs": [],
   "source": [
    "pd.set_option('display.max_columns', 500)"
   ]
  },
  {
   "cell_type": "code",
   "execution_count": null,
   "metadata": {
    "hidden": true
   },
   "outputs": [],
   "source": [
    "gm_gdf[210:215]"
   ]
  },
  {
   "cell_type": "code",
   "execution_count": null,
   "metadata": {
    "hidden": true
   },
   "outputs": [],
   "source": [
    "gm_gdf.shape"
   ]
  },
  {
   "cell_type": "code",
   "execution_count": null,
   "metadata": {
    "hidden": true
   },
   "outputs": [],
   "source": [
    "sortedgdf = gm_gdf.sort_values(by=['IRWINID'])\n",
    "sortedgdf.head()"
   ]
  },
  {
   "cell_type": "code",
   "execution_count": null,
   "metadata": {
    "hidden": true
   },
   "outputs": [],
   "source": [
    "gm_gdf.geometry[210]"
   ]
  },
  {
   "cell_type": "markdown",
   "metadata": {
    "heading_collapsed": true
   },
   "source": [
    "## CWFIS Large Fires"
   ]
  },
  {
   "cell_type": "code",
   "execution_count": null,
   "metadata": {
    "hidden": true
   },
   "outputs": [],
   "source": [
    "canlg_dbf = DBF('../data/CWFIS/NFDB_poly_20190607_large_fires.dbf',encoding='UTF-8')"
   ]
  },
  {
   "cell_type": "code",
   "execution_count": null,
   "metadata": {
    "hidden": true
   },
   "outputs": [],
   "source": [
    "df_canlg = pd.DataFrame(iter(canlg_dbf))\n",
    "df_canlg.shape"
   ]
  },
  {
   "cell_type": "code",
   "execution_count": null,
   "metadata": {
    "hidden": true,
    "scrolled": true
   },
   "outputs": [],
   "source": [
    "df_canlg[20000:20015]"
   ]
  },
  {
   "cell_type": "markdown",
   "metadata": {
    "heading_collapsed": true
   },
   "source": [
    "## BC"
   ]
  },
  {
   "cell_type": "code",
   "execution_count": null,
   "metadata": {
    "hidden": true
   },
   "outputs": [],
   "source": [
    "bc_dbf = DBF('../data/BC/PROT_HISTORICAL_FIRE_POLYS_SP/H_FIRE_PLY_polygon.dbf',encoding='UTF-8')"
   ]
  },
  {
   "cell_type": "code",
   "execution_count": null,
   "metadata": {
    "hidden": true
   },
   "outputs": [],
   "source": [
    "df_bc = pd.DataFrame(iter(bc_dbf))\n",
    "df_bc.shape"
   ]
  },
  {
   "cell_type": "code",
   "execution_count": null,
   "metadata": {
    "hidden": true
   },
   "outputs": [],
   "source": [
    "df1_bc = df_bc.sort_values(by=['FIRELABEL'])\n",
    "df1_bc[20000:20010]"
   ]
  }
 ],
 "metadata": {
  "kernelspec": {
   "display_name": "Python 3",
   "language": "python",
   "name": "python3"
  },
  "language_info": {
   "codemirror_mode": {
    "name": "ipython",
    "version": 3
   },
   "file_extension": ".py",
   "mimetype": "text/x-python",
   "name": "python",
   "nbconvert_exporter": "python",
   "pygments_lexer": "ipython3",
   "version": "3.7.6"
  },
  "toc": {
   "base_numbering": 1,
   "nav_menu": {},
   "number_sections": true,
   "sideBar": true,
   "skip_h1_title": false,
   "title_cell": "Table of Contents",
   "title_sidebar": "Contents",
   "toc_cell": false,
   "toc_position": {
    "height": "calc(100% - 180px)",
    "left": "10px",
    "top": "150px",
    "width": "427px"
   },
   "toc_section_display": true,
   "toc_window_display": true
  }
 },
 "nbformat": 4,
 "nbformat_minor": 4
}
